{
 "cells": [
  {
   "cell_type": "code",
   "execution_count": 1,
   "id": "e2934507",
   "metadata": {},
   "outputs": [],
   "source": [
    "import pandas as pd\n",
    "import numpy as np\n",
    "import matplotlib.pyplot as plt\n",
    "import plotly.express as px\n",
    "import os\n",
    "from scipy.optimize import curve_fit"
   ]
  },
  {
   "cell_type": "code",
   "execution_count": 2,
   "id": "6a96fa6c",
   "metadata": {},
   "outputs": [],
   "source": [
    "def event_model(year: float = 2022) -> float:\n",
    "    \"\"\"\n",
    "    Return the estimated number of bytes produced by a detector for a given year past 2022.\n",
    "    Combines projected pile-up and resolution increases.\n",
    "    \"\"\"\n",
    "    \n",
    "    #based on CMS TDR 21 data & FCC projections\n",
    "    start_year = 2022\n",
    "    year = year - start_year\n",
    "    \n",
    "    exp_fit = np.array([8.05359635e+05, 2.63780088e-01])\n",
    "    exp_fn = lambda x, k, a: k * np.exp(a*x)\n",
    "    event_size = exp_fn(year, *exp_fit)\n",
    "    \n",
    "    return event_size"
   ]
  },
  {
   "cell_type": "code",
   "execution_count": 3,
   "id": "9d9c2039",
   "metadata": {},
   "outputs": [],
   "source": [
    "future_years = np.linspace(2022, 2022 + 30, 101)"
   ]
  },
  {
   "cell_type": "code",
   "execution_count": 4,
   "id": "f296a94b",
   "metadata": {},
   "outputs": [],
   "source": [
    "data_path = \"microprocessor-trend-data/50yrs/\""
   ]
  },
  {
   "cell_type": "code",
   "execution_count": 5,
   "id": "f9e338aa",
   "metadata": {},
   "outputs": [],
   "source": [
    "watts = pd.DataFrame(np.genfromtxt(open(data_path + \"watts.dat\", \"rb\")), columns=[\"Year\", \"Power (W)\"])"
   ]
  },
  {
   "cell_type": "code",
   "execution_count": 6,
   "id": "bbdb69b5",
   "metadata": {},
   "outputs": [],
   "source": [
    "freq = pd.DataFrame(np.genfromtxt(open(data_path + \"frequency.dat\", \"rb\")), columns=[\"Year\", \"Frequency (kHz)\"])"
   ]
  },
  {
   "cell_type": "code",
   "execution_count": 7,
   "id": "b6415eed",
   "metadata": {},
   "outputs": [
    {
     "data": {
      "text/html": [
       "<div>\n",
       "<style scoped>\n",
       "    .dataframe tbody tr th:only-of-type {\n",
       "        vertical-align: middle;\n",
       "    }\n",
       "\n",
       "    .dataframe tbody tr th {\n",
       "        vertical-align: top;\n",
       "    }\n",
       "\n",
       "    .dataframe thead th {\n",
       "        text-align: right;\n",
       "    }\n",
       "</style>\n",
       "<table border=\"1\" class=\"dataframe\">\n",
       "  <thead>\n",
       "    <tr style=\"text-align: right;\">\n",
       "      <th></th>\n",
       "      <th>Year</th>\n",
       "      <th>Power (W)</th>\n",
       "    </tr>\n",
       "  </thead>\n",
       "  <tbody>\n",
       "    <tr>\n",
       "      <th>0</th>\n",
       "      <td>1971.875000</td>\n",
       "      <td>0.445079</td>\n",
       "    </tr>\n",
       "    <tr>\n",
       "      <th>1</th>\n",
       "      <td>1972.307692</td>\n",
       "      <td>0.421697</td>\n",
       "    </tr>\n",
       "    <tr>\n",
       "      <th>2</th>\n",
       "      <td>1974.326923</td>\n",
       "      <td>0.922240</td>\n",
       "    </tr>\n",
       "    <tr>\n",
       "      <th>3</th>\n",
       "      <td>1979.567308</td>\n",
       "      <td>1.715438</td>\n",
       "    </tr>\n",
       "    <tr>\n",
       "      <th>4</th>\n",
       "      <td>1982.307692</td>\n",
       "      <td>3.023213</td>\n",
       "    </tr>\n",
       "    <tr>\n",
       "      <th>...</th>\n",
       "      <td>...</td>\n",
       "      <td>...</td>\n",
       "    </tr>\n",
       "    <tr>\n",
       "      <th>96</th>\n",
       "      <td>2020.900000</td>\n",
       "      <td>28.000000</td>\n",
       "    </tr>\n",
       "    <tr>\n",
       "      <th>97</th>\n",
       "      <td>2021.300000</td>\n",
       "      <td>290.000000</td>\n",
       "    </tr>\n",
       "    <tr>\n",
       "      <th>98</th>\n",
       "      <td>2021.800000</td>\n",
       "      <td>30.000000</td>\n",
       "    </tr>\n",
       "    <tr>\n",
       "      <th>99</th>\n",
       "      <td>2021.900000</td>\n",
       "      <td>500.000000</td>\n",
       "    </tr>\n",
       "    <tr>\n",
       "      <th>100</th>\n",
       "      <td>2021.900000</td>\n",
       "      <td>100.000000</td>\n",
       "    </tr>\n",
       "  </tbody>\n",
       "</table>\n",
       "<p>101 rows × 2 columns</p>\n",
       "</div>"
      ],
      "text/plain": [
       "            Year   Power (W)\n",
       "0    1971.875000    0.445079\n",
       "1    1972.307692    0.421697\n",
       "2    1974.326923    0.922240\n",
       "3    1979.567308    1.715438\n",
       "4    1982.307692    3.023213\n",
       "..           ...         ...\n",
       "96   2020.900000   28.000000\n",
       "97   2021.300000  290.000000\n",
       "98   2021.800000   30.000000\n",
       "99   2021.900000  500.000000\n",
       "100  2021.900000  100.000000\n",
       "\n",
       "[101 rows x 2 columns]"
      ]
     },
     "execution_count": 7,
     "metadata": {},
     "output_type": "execute_result"
    }
   ],
   "source": [
    "watts"
   ]
  },
  {
   "cell_type": "code",
   "execution_count": 8,
   "id": "2e30c340",
   "metadata": {},
   "outputs": [
    {
     "data": {
      "text/html": [
       "<div>\n",
       "<style scoped>\n",
       "    .dataframe tbody tr th:only-of-type {\n",
       "        vertical-align: middle;\n",
       "    }\n",
       "\n",
       "    .dataframe tbody tr th {\n",
       "        vertical-align: top;\n",
       "    }\n",
       "\n",
       "    .dataframe thead th {\n",
       "        text-align: right;\n",
       "    }\n",
       "</style>\n",
       "<table border=\"1\" class=\"dataframe\">\n",
       "  <thead>\n",
       "    <tr style=\"text-align: right;\">\n",
       "      <th></th>\n",
       "      <th>Year</th>\n",
       "      <th>Frequency (kHz)</th>\n",
       "    </tr>\n",
       "  </thead>\n",
       "  <tbody>\n",
       "    <tr>\n",
       "      <th>0</th>\n",
       "      <td>1971.875000</td>\n",
       "      <td>0.704136</td>\n",
       "    </tr>\n",
       "    <tr>\n",
       "      <th>1</th>\n",
       "      <td>1972.259615</td>\n",
       "      <td>0.509368</td>\n",
       "    </tr>\n",
       "    <tr>\n",
       "      <th>2</th>\n",
       "      <td>1974.326923</td>\n",
       "      <td>2.016915</td>\n",
       "    </tr>\n",
       "    <tr>\n",
       "      <th>3</th>\n",
       "      <td>1979.567308</td>\n",
       "      <td>5.048066</td>\n",
       "    </tr>\n",
       "    <tr>\n",
       "      <th>4</th>\n",
       "      <td>1982.307692</td>\n",
       "      <td>6.097562</td>\n",
       "    </tr>\n",
       "    <tr>\n",
       "      <th>...</th>\n",
       "      <td>...</td>\n",
       "      <td>...</td>\n",
       "    </tr>\n",
       "    <tr>\n",
       "      <th>96</th>\n",
       "      <td>2020.900000</td>\n",
       "      <td>3200.000000</td>\n",
       "    </tr>\n",
       "    <tr>\n",
       "      <th>97</th>\n",
       "      <td>2021.300000</td>\n",
       "      <td>2300.000000</td>\n",
       "    </tr>\n",
       "    <tr>\n",
       "      <th>98</th>\n",
       "      <td>2021.800000</td>\n",
       "      <td>3200.000000</td>\n",
       "    </tr>\n",
       "    <tr>\n",
       "      <th>99</th>\n",
       "      <td>2021.900000</td>\n",
       "      <td>1000.000000</td>\n",
       "    </tr>\n",
       "    <tr>\n",
       "      <th>100</th>\n",
       "      <td>2021.900000</td>\n",
       "      <td>2600.000000</td>\n",
       "    </tr>\n",
       "  </tbody>\n",
       "</table>\n",
       "<p>101 rows × 2 columns</p>\n",
       "</div>"
      ],
      "text/plain": [
       "            Year  Frequency (kHz)\n",
       "0    1971.875000         0.704136\n",
       "1    1972.259615         0.509368\n",
       "2    1974.326923         2.016915\n",
       "3    1979.567308         5.048066\n",
       "4    1982.307692         6.097562\n",
       "..           ...              ...\n",
       "96   2020.900000      3200.000000\n",
       "97   2021.300000      2300.000000\n",
       "98   2021.800000      3200.000000\n",
       "99   2021.900000      1000.000000\n",
       "100  2021.900000      2600.000000\n",
       "\n",
       "[101 rows x 2 columns]"
      ]
     },
     "execution_count": 8,
     "metadata": {},
     "output_type": "execute_result"
    }
   ],
   "source": [
    "freq"
   ]
  },
  {
   "cell_type": "code",
   "execution_count": 9,
   "id": "bc858638",
   "metadata": {},
   "outputs": [
    {
     "data": {
      "application/vnd.plotly.v1+json": {
       "config": {
        "plotlyServerURL": "https://plot.ly"
       },
       "data": [
        {
         "hovertemplate": "Year=%{x}<br>Power (W)=%{y}<extra></extra>",
         "legendgroup": "",
         "marker": {
          "color": "#636efa",
          "symbol": "circle"
         },
         "mode": "markers",
         "name": "",
         "orientation": "v",
         "showlegend": false,
         "type": "scatter",
         "x": [
          1971.875,
          1972.30769231,
          1974.32692308,
          1979.56730769,
          1982.30769231,
          1985.91346154,
          1986.25,
          1988.65384615,
          1989.47115385,
          1990.57692308,
          1992.40384615,
          1992.69230769,
          1993.02884615,
          1993.41346154,
          1993.41346154,
          1994.71153846,
          1994.71153846,
          1995.43269231,
          1995.72115385,
          1996.15384615,
          1996.29807692,
          1996.34615385,
          1996.44230769,
          1996.875,
          1997.35576923,
          1997.45192308,
          1997.54807692,
          1997.64423077,
          1998.89423077,
          1999.18269231,
          1999.18269231,
          1999.47115385,
          1999.47115385,
          2000.19230769,
          2000.67307692,
          2000.67307692,
          2001.10576923,
          2001.20192308,
          2001.68269231,
          2001.82692308,
          2002.40384615,
          2002.83653846,
          2002.88461538,
          2003.41346154,
          2003.50961538,
          2003.65384615,
          2004.80769231,
          2004.80769231,
          2004.85576923,
          2005.72115385,
          2005.81730769,
          2005.96153846,
          2006.05769231,
          2006.875,
          2006.92307692,
          2006.92307692,
          2006.97115385,
          2007.06730769,
          2007.64423077,
          2007.78846154,
          2007.88461538,
          2007.98076923,
          2008.17307692,
          2008.22115385,
          2008.46153846,
          2009.18269231,
          2009.27884615,
          2009.47115385,
          2009.56730769,
          2009.66346154,
          2010.38461538,
          2011.16,
          2011.32,
          2011.9,
          2012.4,
          2012.41,
          2012.7,
          2012.9,
          2013.4,
          2013.8,
          2014.16,
          2014.5,
          2014.8,
          2014.81,
          2014.82,
          2016.33,
          2016.5,
          2017.5,
          2017.58,
          2017.59,
          2018.4,
          2018.5,
          2019.3,
          2019.8,
          2020.1,
          2020.2,
          2020.9,
          2021.3,
          2021.8,
          2021.9,
          2021.9
         ],
         "xaxis": "x",
         "y": [
          0.445079406236,
          0.421696503429,
          0.922239565104,
          1.71543789634,
          3.02321302502,
          1.53992652606,
          3.02321302502,
          3.95964498892,
          2.78812666541,
          3.45989166087,
          5.9352292723,
          14.4595990307,
          35.2269465147,
          3.02321302502,
          13.3352143216,
          28.3873596476,
          3.02321302502,
          50.0286461058,
          16.1076153462,
          33.3762469429,
          30.7808954655,
          10.1815172172,
          11.341944035,
          43.7144481261,
          24.8045441431,
          36.1904305625,
          17.0007761882,
          32.4876838337,
          90.5797775943,
          29.96142741,
          14.0746466334,
          17.0007761882,
          21.0969051341,
          36.1904305625,
          48.6967525166,
          19.9885481187,
          71.0497411443,
          72.9930061435,
          98.2171889188,
          57.2548788436,
          48.6967525166,
          62.0824360719,
          98.2171889188,
          155.383983127,
          74.9894209332,
          88.1683066776,
          88.1683066776,
          115.478198469,
          100.903504484,
          128.639694494,
          85.8210354325,
          72.9930061435,
          24.8045441431,
          128.639694494,
          65.5248823737,
          125.214968907,
          74.9894209332,
          31.6227766017,
          132.158088956,
          100.903504484,
          31.6227766017,
          85.8210354325,
          77.0404392011,
          95.6023901095,
          65.5248823737,
          95.6023901095,
          132.158088956,
          125.214968907,
          95.6023901095,
          132.158088956,
          168.485487944,
          130,
          130,
          95,
          140,
          130,
          200,
          115,
          300,
          130,
          155,
          200,
          135,
          135,
          140,
          145,
          245,
          180,
          140,
          205,
          190,
          250,
          205,
          225,
          280,
          205,
          28,
          290,
          30,
          500,
          100
         ],
         "yaxis": "y"
        }
       ],
       "layout": {
        "legend": {
         "tracegroupgap": 0
        },
        "margin": {
         "t": 60
        },
        "template": {
         "data": {
          "bar": [
           {
            "error_x": {
             "color": "#2a3f5f"
            },
            "error_y": {
             "color": "#2a3f5f"
            },
            "marker": {
             "line": {
              "color": "#E5ECF6",
              "width": 0.5
             },
             "pattern": {
              "fillmode": "overlay",
              "size": 10,
              "solidity": 0.2
             }
            },
            "type": "bar"
           }
          ],
          "barpolar": [
           {
            "marker": {
             "line": {
              "color": "#E5ECF6",
              "width": 0.5
             },
             "pattern": {
              "fillmode": "overlay",
              "size": 10,
              "solidity": 0.2
             }
            },
            "type": "barpolar"
           }
          ],
          "carpet": [
           {
            "aaxis": {
             "endlinecolor": "#2a3f5f",
             "gridcolor": "white",
             "linecolor": "white",
             "minorgridcolor": "white",
             "startlinecolor": "#2a3f5f"
            },
            "baxis": {
             "endlinecolor": "#2a3f5f",
             "gridcolor": "white",
             "linecolor": "white",
             "minorgridcolor": "white",
             "startlinecolor": "#2a3f5f"
            },
            "type": "carpet"
           }
          ],
          "choropleth": [
           {
            "colorbar": {
             "outlinewidth": 0,
             "ticks": ""
            },
            "type": "choropleth"
           }
          ],
          "contour": [
           {
            "colorbar": {
             "outlinewidth": 0,
             "ticks": ""
            },
            "colorscale": [
             [
              0,
              "#0d0887"
             ],
             [
              0.1111111111111111,
              "#46039f"
             ],
             [
              0.2222222222222222,
              "#7201a8"
             ],
             [
              0.3333333333333333,
              "#9c179e"
             ],
             [
              0.4444444444444444,
              "#bd3786"
             ],
             [
              0.5555555555555556,
              "#d8576b"
             ],
             [
              0.6666666666666666,
              "#ed7953"
             ],
             [
              0.7777777777777778,
              "#fb9f3a"
             ],
             [
              0.8888888888888888,
              "#fdca26"
             ],
             [
              1,
              "#f0f921"
             ]
            ],
            "type": "contour"
           }
          ],
          "contourcarpet": [
           {
            "colorbar": {
             "outlinewidth": 0,
             "ticks": ""
            },
            "type": "contourcarpet"
           }
          ],
          "heatmap": [
           {
            "colorbar": {
             "outlinewidth": 0,
             "ticks": ""
            },
            "colorscale": [
             [
              0,
              "#0d0887"
             ],
             [
              0.1111111111111111,
              "#46039f"
             ],
             [
              0.2222222222222222,
              "#7201a8"
             ],
             [
              0.3333333333333333,
              "#9c179e"
             ],
             [
              0.4444444444444444,
              "#bd3786"
             ],
             [
              0.5555555555555556,
              "#d8576b"
             ],
             [
              0.6666666666666666,
              "#ed7953"
             ],
             [
              0.7777777777777778,
              "#fb9f3a"
             ],
             [
              0.8888888888888888,
              "#fdca26"
             ],
             [
              1,
              "#f0f921"
             ]
            ],
            "type": "heatmap"
           }
          ],
          "heatmapgl": [
           {
            "colorbar": {
             "outlinewidth": 0,
             "ticks": ""
            },
            "colorscale": [
             [
              0,
              "#0d0887"
             ],
             [
              0.1111111111111111,
              "#46039f"
             ],
             [
              0.2222222222222222,
              "#7201a8"
             ],
             [
              0.3333333333333333,
              "#9c179e"
             ],
             [
              0.4444444444444444,
              "#bd3786"
             ],
             [
              0.5555555555555556,
              "#d8576b"
             ],
             [
              0.6666666666666666,
              "#ed7953"
             ],
             [
              0.7777777777777778,
              "#fb9f3a"
             ],
             [
              0.8888888888888888,
              "#fdca26"
             ],
             [
              1,
              "#f0f921"
             ]
            ],
            "type": "heatmapgl"
           }
          ],
          "histogram": [
           {
            "marker": {
             "pattern": {
              "fillmode": "overlay",
              "size": 10,
              "solidity": 0.2
             }
            },
            "type": "histogram"
           }
          ],
          "histogram2d": [
           {
            "colorbar": {
             "outlinewidth": 0,
             "ticks": ""
            },
            "colorscale": [
             [
              0,
              "#0d0887"
             ],
             [
              0.1111111111111111,
              "#46039f"
             ],
             [
              0.2222222222222222,
              "#7201a8"
             ],
             [
              0.3333333333333333,
              "#9c179e"
             ],
             [
              0.4444444444444444,
              "#bd3786"
             ],
             [
              0.5555555555555556,
              "#d8576b"
             ],
             [
              0.6666666666666666,
              "#ed7953"
             ],
             [
              0.7777777777777778,
              "#fb9f3a"
             ],
             [
              0.8888888888888888,
              "#fdca26"
             ],
             [
              1,
              "#f0f921"
             ]
            ],
            "type": "histogram2d"
           }
          ],
          "histogram2dcontour": [
           {
            "colorbar": {
             "outlinewidth": 0,
             "ticks": ""
            },
            "colorscale": [
             [
              0,
              "#0d0887"
             ],
             [
              0.1111111111111111,
              "#46039f"
             ],
             [
              0.2222222222222222,
              "#7201a8"
             ],
             [
              0.3333333333333333,
              "#9c179e"
             ],
             [
              0.4444444444444444,
              "#bd3786"
             ],
             [
              0.5555555555555556,
              "#d8576b"
             ],
             [
              0.6666666666666666,
              "#ed7953"
             ],
             [
              0.7777777777777778,
              "#fb9f3a"
             ],
             [
              0.8888888888888888,
              "#fdca26"
             ],
             [
              1,
              "#f0f921"
             ]
            ],
            "type": "histogram2dcontour"
           }
          ],
          "mesh3d": [
           {
            "colorbar": {
             "outlinewidth": 0,
             "ticks": ""
            },
            "type": "mesh3d"
           }
          ],
          "parcoords": [
           {
            "line": {
             "colorbar": {
              "outlinewidth": 0,
              "ticks": ""
             }
            },
            "type": "parcoords"
           }
          ],
          "pie": [
           {
            "automargin": true,
            "type": "pie"
           }
          ],
          "scatter": [
           {
            "fillpattern": {
             "fillmode": "overlay",
             "size": 10,
             "solidity": 0.2
            },
            "type": "scatter"
           }
          ],
          "scatter3d": [
           {
            "line": {
             "colorbar": {
              "outlinewidth": 0,
              "ticks": ""
             }
            },
            "marker": {
             "colorbar": {
              "outlinewidth": 0,
              "ticks": ""
             }
            },
            "type": "scatter3d"
           }
          ],
          "scattercarpet": [
           {
            "marker": {
             "colorbar": {
              "outlinewidth": 0,
              "ticks": ""
             }
            },
            "type": "scattercarpet"
           }
          ],
          "scattergeo": [
           {
            "marker": {
             "colorbar": {
              "outlinewidth": 0,
              "ticks": ""
             }
            },
            "type": "scattergeo"
           }
          ],
          "scattergl": [
           {
            "marker": {
             "colorbar": {
              "outlinewidth": 0,
              "ticks": ""
             }
            },
            "type": "scattergl"
           }
          ],
          "scattermapbox": [
           {
            "marker": {
             "colorbar": {
              "outlinewidth": 0,
              "ticks": ""
             }
            },
            "type": "scattermapbox"
           }
          ],
          "scatterpolar": [
           {
            "marker": {
             "colorbar": {
              "outlinewidth": 0,
              "ticks": ""
             }
            },
            "type": "scatterpolar"
           }
          ],
          "scatterpolargl": [
           {
            "marker": {
             "colorbar": {
              "outlinewidth": 0,
              "ticks": ""
             }
            },
            "type": "scatterpolargl"
           }
          ],
          "scatterternary": [
           {
            "marker": {
             "colorbar": {
              "outlinewidth": 0,
              "ticks": ""
             }
            },
            "type": "scatterternary"
           }
          ],
          "surface": [
           {
            "colorbar": {
             "outlinewidth": 0,
             "ticks": ""
            },
            "colorscale": [
             [
              0,
              "#0d0887"
             ],
             [
              0.1111111111111111,
              "#46039f"
             ],
             [
              0.2222222222222222,
              "#7201a8"
             ],
             [
              0.3333333333333333,
              "#9c179e"
             ],
             [
              0.4444444444444444,
              "#bd3786"
             ],
             [
              0.5555555555555556,
              "#d8576b"
             ],
             [
              0.6666666666666666,
              "#ed7953"
             ],
             [
              0.7777777777777778,
              "#fb9f3a"
             ],
             [
              0.8888888888888888,
              "#fdca26"
             ],
             [
              1,
              "#f0f921"
             ]
            ],
            "type": "surface"
           }
          ],
          "table": [
           {
            "cells": {
             "fill": {
              "color": "#EBF0F8"
             },
             "line": {
              "color": "white"
             }
            },
            "header": {
             "fill": {
              "color": "#C8D4E3"
             },
             "line": {
              "color": "white"
             }
            },
            "type": "table"
           }
          ]
         },
         "layout": {
          "annotationdefaults": {
           "arrowcolor": "#2a3f5f",
           "arrowhead": 0,
           "arrowwidth": 1
          },
          "autotypenumbers": "strict",
          "coloraxis": {
           "colorbar": {
            "outlinewidth": 0,
            "ticks": ""
           }
          },
          "colorscale": {
           "diverging": [
            [
             0,
             "#8e0152"
            ],
            [
             0.1,
             "#c51b7d"
            ],
            [
             0.2,
             "#de77ae"
            ],
            [
             0.3,
             "#f1b6da"
            ],
            [
             0.4,
             "#fde0ef"
            ],
            [
             0.5,
             "#f7f7f7"
            ],
            [
             0.6,
             "#e6f5d0"
            ],
            [
             0.7,
             "#b8e186"
            ],
            [
             0.8,
             "#7fbc41"
            ],
            [
             0.9,
             "#4d9221"
            ],
            [
             1,
             "#276419"
            ]
           ],
           "sequential": [
            [
             0,
             "#0d0887"
            ],
            [
             0.1111111111111111,
             "#46039f"
            ],
            [
             0.2222222222222222,
             "#7201a8"
            ],
            [
             0.3333333333333333,
             "#9c179e"
            ],
            [
             0.4444444444444444,
             "#bd3786"
            ],
            [
             0.5555555555555556,
             "#d8576b"
            ],
            [
             0.6666666666666666,
             "#ed7953"
            ],
            [
             0.7777777777777778,
             "#fb9f3a"
            ],
            [
             0.8888888888888888,
             "#fdca26"
            ],
            [
             1,
             "#f0f921"
            ]
           ],
           "sequentialminus": [
            [
             0,
             "#0d0887"
            ],
            [
             0.1111111111111111,
             "#46039f"
            ],
            [
             0.2222222222222222,
             "#7201a8"
            ],
            [
             0.3333333333333333,
             "#9c179e"
            ],
            [
             0.4444444444444444,
             "#bd3786"
            ],
            [
             0.5555555555555556,
             "#d8576b"
            ],
            [
             0.6666666666666666,
             "#ed7953"
            ],
            [
             0.7777777777777778,
             "#fb9f3a"
            ],
            [
             0.8888888888888888,
             "#fdca26"
            ],
            [
             1,
             "#f0f921"
            ]
           ]
          },
          "colorway": [
           "#636efa",
           "#EF553B",
           "#00cc96",
           "#ab63fa",
           "#FFA15A",
           "#19d3f3",
           "#FF6692",
           "#B6E880",
           "#FF97FF",
           "#FECB52"
          ],
          "font": {
           "color": "#2a3f5f"
          },
          "geo": {
           "bgcolor": "white",
           "lakecolor": "white",
           "landcolor": "#E5ECF6",
           "showlakes": true,
           "showland": true,
           "subunitcolor": "white"
          },
          "hoverlabel": {
           "align": "left"
          },
          "hovermode": "closest",
          "mapbox": {
           "style": "light"
          },
          "paper_bgcolor": "white",
          "plot_bgcolor": "#E5ECF6",
          "polar": {
           "angularaxis": {
            "gridcolor": "white",
            "linecolor": "white",
            "ticks": ""
           },
           "bgcolor": "#E5ECF6",
           "radialaxis": {
            "gridcolor": "white",
            "linecolor": "white",
            "ticks": ""
           }
          },
          "scene": {
           "xaxis": {
            "backgroundcolor": "#E5ECF6",
            "gridcolor": "white",
            "gridwidth": 2,
            "linecolor": "white",
            "showbackground": true,
            "ticks": "",
            "zerolinecolor": "white"
           },
           "yaxis": {
            "backgroundcolor": "#E5ECF6",
            "gridcolor": "white",
            "gridwidth": 2,
            "linecolor": "white",
            "showbackground": true,
            "ticks": "",
            "zerolinecolor": "white"
           },
           "zaxis": {
            "backgroundcolor": "#E5ECF6",
            "gridcolor": "white",
            "gridwidth": 2,
            "linecolor": "white",
            "showbackground": true,
            "ticks": "",
            "zerolinecolor": "white"
           }
          },
          "shapedefaults": {
           "line": {
            "color": "#2a3f5f"
           }
          },
          "ternary": {
           "aaxis": {
            "gridcolor": "white",
            "linecolor": "white",
            "ticks": ""
           },
           "baxis": {
            "gridcolor": "white",
            "linecolor": "white",
            "ticks": ""
           },
           "bgcolor": "#E5ECF6",
           "caxis": {
            "gridcolor": "white",
            "linecolor": "white",
            "ticks": ""
           }
          },
          "title": {
           "x": 0.05
          },
          "xaxis": {
           "automargin": true,
           "gridcolor": "white",
           "linecolor": "white",
           "ticks": "",
           "title": {
            "standoff": 15
           },
           "zerolinecolor": "white",
           "zerolinewidth": 2
          },
          "yaxis": {
           "automargin": true,
           "gridcolor": "white",
           "linecolor": "white",
           "ticks": "",
           "title": {
            "standoff": 15
           },
           "zerolinecolor": "white",
           "zerolinewidth": 2
          }
         }
        },
        "xaxis": {
         "anchor": "y",
         "domain": [
          0,
          1
         ],
         "title": {
          "text": "Year"
         }
        },
        "yaxis": {
         "anchor": "x",
         "domain": [
          0,
          1
         ],
         "title": {
          "text": "Power (W)"
         },
         "type": "log"
        }
       }
      }
     },
     "metadata": {},
     "output_type": "display_data"
    }
   ],
   "source": [
    "px.scatter(watts, x=\"Year\", y=\"Power (W)\", log_y = True)"
   ]
  },
  {
   "cell_type": "code",
   "execution_count": 10,
   "id": "e5c3ebfe",
   "metadata": {},
   "outputs": [],
   "source": [
    "fig = px.scatter(freq, x=\"Year\", y=\"Frequency (kHz)\", log_y = True)"
   ]
  },
  {
   "cell_type": "code",
   "execution_count": 11,
   "id": "c3d90069",
   "metadata": {},
   "outputs": [
    {
     "data": {
      "application/vnd.plotly.v1+json": {
       "config": {
        "plotlyServerURL": "https://plot.ly"
       },
       "data": [
        {
         "hovertemplate": "Year=%{x}<br>Frequency (kHz)=%{y}<extra></extra>",
         "legendgroup": "",
         "marker": {
          "color": "#636efa",
          "symbol": "circle"
         },
         "mode": "markers",
         "name": "",
         "orientation": "v",
         "showlegend": false,
         "type": "scatter",
         "x": [
          1971.875,
          1972.25961538,
          1974.32692308,
          1979.56730769,
          1982.30769231,
          1985.91346154,
          1986.25,
          1988.65384615,
          1989.47115385,
          1990.57692308,
          1992.40384615,
          1992.69230769,
          1992.69230769,
          1993.02884615,
          1993.41346154,
          1993.41346154,
          1994.71153846,
          1994.71153846,
          1995.43269231,
          1995.72115385,
          1996.10576923,
          1996.34615385,
          1996.44230769,
          1996.82692308,
          1997.35576923,
          1997.45192308,
          1997.54807692,
          1997.64423077,
          1998.84615385,
          1999.13461538,
          1999.18269231,
          1999.47115385,
          1999.47115385,
          2000.19230769,
          2000.67307692,
          2001.10576923,
          2001.20192308,
          2001.68269231,
          2001.77884615,
          2002.40384615,
          2002.78846154,
          2002.88461538,
          2003.41346154,
          2003.50961538,
          2003.60576923,
          2004.80769231,
          2004.80769231,
          2004.85576923,
          2005.72115385,
          2005.86538462,
          2005.96153846,
          2006.00961538,
          2006.875,
          2006.875,
          2007.01923077,
          2007.06730769,
          2007.64423077,
          2007.74038462,
          2007.74038462,
          2007.83653846,
          2007.98076923,
          2008.17307692,
          2008.17307692,
          2008.46153846,
          2009.18269231,
          2009.27884615,
          2009.42307692,
          2009.66346154,
          2009.71153846,
          2010.19230769,
          2011.16,
          2011.32,
          2011.9,
          2012.4,
          2012.41,
          2012.7,
          2012.9,
          2013.4,
          2013.8,
          2014.16,
          2014.5,
          2014.8,
          2014.81,
          2014.82,
          2016.33,
          2016.5,
          2016.67,
          2017.5,
          2017.58,
          2017.59,
          2018.4,
          2018.5,
          2019.3,
          2019.8,
          2020.1,
          2020.2,
          2020.9,
          2021.3,
          2021.8,
          2021.9,
          2021.9
         ],
         "xaxis": "x",
         "y": [
          0.704135515486,
          0.509367521678,
          2.01691455473,
          5.04806571667,
          6.09756235221,
          16.1076153462,
          16.1076153462,
          40.3151936286,
          24.8045441431,
          33.3762469429,
          65.5248823737,
          60.4296390238,
          100.903504484,
          198.095677855,
          67.3170382414,
          40.3151936286,
          151.247254531,
          296.93148482,
          296.93148482,
          90.5797775943,
          198.095677855,
          198.095677855,
          90.5797775943,
          509.367521678,
          252.547893258,
          537.611747456,
          232.909659246,
          296.93148482,
          495.806824168,
          296.93148482,
          399.542055895,
          457.252669897,
          509.367521678,
          743.179548784,
          1000,
          897.687132447,
          2016.91455473,
          805.842187761,
          1420.18116969,
          2246.79009181,
          1810.55824303,
          1000,
          1175.74326592,
          2186.97465501,
          1810.55824303,
          2641.64832039,
          1910.95297497,
          3651.74127255,
          3190.84898063,
          2788.12666541,
          1207.90074743,
          2246.79009181,
          3651.74127255,
          2641.64832039,
          2713.89943121,
          2308.24152676,
          2942.72717621,
          4655.52593116,
          4067.94432108,
          2016.91455473,
          1420.18116969,
          2016.91455473,
          2308.24152676,
          3023.21302502,
          2502.86543117,
          3278.12115139,
          2641.64832039,
          2641.64832039,
          3278.12115139,
          2308.24152676,
          3470,
          2400,
          3000,
          3100,
          2900,
          3700,
          2500,
          1200,
          2700,
          2800,
          3700,
          3200,
          2600,
          2300,
          2200,
          1500,
          4000,
          2200,
          2100,
          2500,
          3400,
          1200,
          2700,
          2250,
          2900,
          2700,
          3200,
          2300,
          3200,
          1000,
          2600
         ],
         "yaxis": "y"
        }
       ],
       "layout": {
        "height": 600,
        "legend": {
         "tracegroupgap": 0
        },
        "margin": {
         "t": 60
        },
        "template": {
         "data": {
          "bar": [
           {
            "error_x": {
             "color": "#2a3f5f"
            },
            "error_y": {
             "color": "#2a3f5f"
            },
            "marker": {
             "line": {
              "color": "#E5ECF6",
              "width": 0.5
             },
             "pattern": {
              "fillmode": "overlay",
              "size": 10,
              "solidity": 0.2
             }
            },
            "type": "bar"
           }
          ],
          "barpolar": [
           {
            "marker": {
             "line": {
              "color": "#E5ECF6",
              "width": 0.5
             },
             "pattern": {
              "fillmode": "overlay",
              "size": 10,
              "solidity": 0.2
             }
            },
            "type": "barpolar"
           }
          ],
          "carpet": [
           {
            "aaxis": {
             "endlinecolor": "#2a3f5f",
             "gridcolor": "white",
             "linecolor": "white",
             "minorgridcolor": "white",
             "startlinecolor": "#2a3f5f"
            },
            "baxis": {
             "endlinecolor": "#2a3f5f",
             "gridcolor": "white",
             "linecolor": "white",
             "minorgridcolor": "white",
             "startlinecolor": "#2a3f5f"
            },
            "type": "carpet"
           }
          ],
          "choropleth": [
           {
            "colorbar": {
             "outlinewidth": 0,
             "ticks": ""
            },
            "type": "choropleth"
           }
          ],
          "contour": [
           {
            "colorbar": {
             "outlinewidth": 0,
             "ticks": ""
            },
            "colorscale": [
             [
              0,
              "#0d0887"
             ],
             [
              0.1111111111111111,
              "#46039f"
             ],
             [
              0.2222222222222222,
              "#7201a8"
             ],
             [
              0.3333333333333333,
              "#9c179e"
             ],
             [
              0.4444444444444444,
              "#bd3786"
             ],
             [
              0.5555555555555556,
              "#d8576b"
             ],
             [
              0.6666666666666666,
              "#ed7953"
             ],
             [
              0.7777777777777778,
              "#fb9f3a"
             ],
             [
              0.8888888888888888,
              "#fdca26"
             ],
             [
              1,
              "#f0f921"
             ]
            ],
            "type": "contour"
           }
          ],
          "contourcarpet": [
           {
            "colorbar": {
             "outlinewidth": 0,
             "ticks": ""
            },
            "type": "contourcarpet"
           }
          ],
          "heatmap": [
           {
            "colorbar": {
             "outlinewidth": 0,
             "ticks": ""
            },
            "colorscale": [
             [
              0,
              "#0d0887"
             ],
             [
              0.1111111111111111,
              "#46039f"
             ],
             [
              0.2222222222222222,
              "#7201a8"
             ],
             [
              0.3333333333333333,
              "#9c179e"
             ],
             [
              0.4444444444444444,
              "#bd3786"
             ],
             [
              0.5555555555555556,
              "#d8576b"
             ],
             [
              0.6666666666666666,
              "#ed7953"
             ],
             [
              0.7777777777777778,
              "#fb9f3a"
             ],
             [
              0.8888888888888888,
              "#fdca26"
             ],
             [
              1,
              "#f0f921"
             ]
            ],
            "type": "heatmap"
           }
          ],
          "heatmapgl": [
           {
            "colorbar": {
             "outlinewidth": 0,
             "ticks": ""
            },
            "colorscale": [
             [
              0,
              "#0d0887"
             ],
             [
              0.1111111111111111,
              "#46039f"
             ],
             [
              0.2222222222222222,
              "#7201a8"
             ],
             [
              0.3333333333333333,
              "#9c179e"
             ],
             [
              0.4444444444444444,
              "#bd3786"
             ],
             [
              0.5555555555555556,
              "#d8576b"
             ],
             [
              0.6666666666666666,
              "#ed7953"
             ],
             [
              0.7777777777777778,
              "#fb9f3a"
             ],
             [
              0.8888888888888888,
              "#fdca26"
             ],
             [
              1,
              "#f0f921"
             ]
            ],
            "type": "heatmapgl"
           }
          ],
          "histogram": [
           {
            "marker": {
             "pattern": {
              "fillmode": "overlay",
              "size": 10,
              "solidity": 0.2
             }
            },
            "type": "histogram"
           }
          ],
          "histogram2d": [
           {
            "colorbar": {
             "outlinewidth": 0,
             "ticks": ""
            },
            "colorscale": [
             [
              0,
              "#0d0887"
             ],
             [
              0.1111111111111111,
              "#46039f"
             ],
             [
              0.2222222222222222,
              "#7201a8"
             ],
             [
              0.3333333333333333,
              "#9c179e"
             ],
             [
              0.4444444444444444,
              "#bd3786"
             ],
             [
              0.5555555555555556,
              "#d8576b"
             ],
             [
              0.6666666666666666,
              "#ed7953"
             ],
             [
              0.7777777777777778,
              "#fb9f3a"
             ],
             [
              0.8888888888888888,
              "#fdca26"
             ],
             [
              1,
              "#f0f921"
             ]
            ],
            "type": "histogram2d"
           }
          ],
          "histogram2dcontour": [
           {
            "colorbar": {
             "outlinewidth": 0,
             "ticks": ""
            },
            "colorscale": [
             [
              0,
              "#0d0887"
             ],
             [
              0.1111111111111111,
              "#46039f"
             ],
             [
              0.2222222222222222,
              "#7201a8"
             ],
             [
              0.3333333333333333,
              "#9c179e"
             ],
             [
              0.4444444444444444,
              "#bd3786"
             ],
             [
              0.5555555555555556,
              "#d8576b"
             ],
             [
              0.6666666666666666,
              "#ed7953"
             ],
             [
              0.7777777777777778,
              "#fb9f3a"
             ],
             [
              0.8888888888888888,
              "#fdca26"
             ],
             [
              1,
              "#f0f921"
             ]
            ],
            "type": "histogram2dcontour"
           }
          ],
          "mesh3d": [
           {
            "colorbar": {
             "outlinewidth": 0,
             "ticks": ""
            },
            "type": "mesh3d"
           }
          ],
          "parcoords": [
           {
            "line": {
             "colorbar": {
              "outlinewidth": 0,
              "ticks": ""
             }
            },
            "type": "parcoords"
           }
          ],
          "pie": [
           {
            "automargin": true,
            "type": "pie"
           }
          ],
          "scatter": [
           {
            "fillpattern": {
             "fillmode": "overlay",
             "size": 10,
             "solidity": 0.2
            },
            "type": "scatter"
           }
          ],
          "scatter3d": [
           {
            "line": {
             "colorbar": {
              "outlinewidth": 0,
              "ticks": ""
             }
            },
            "marker": {
             "colorbar": {
              "outlinewidth": 0,
              "ticks": ""
             }
            },
            "type": "scatter3d"
           }
          ],
          "scattercarpet": [
           {
            "marker": {
             "colorbar": {
              "outlinewidth": 0,
              "ticks": ""
             }
            },
            "type": "scattercarpet"
           }
          ],
          "scattergeo": [
           {
            "marker": {
             "colorbar": {
              "outlinewidth": 0,
              "ticks": ""
             }
            },
            "type": "scattergeo"
           }
          ],
          "scattergl": [
           {
            "marker": {
             "colorbar": {
              "outlinewidth": 0,
              "ticks": ""
             }
            },
            "type": "scattergl"
           }
          ],
          "scattermapbox": [
           {
            "marker": {
             "colorbar": {
              "outlinewidth": 0,
              "ticks": ""
             }
            },
            "type": "scattermapbox"
           }
          ],
          "scatterpolar": [
           {
            "marker": {
             "colorbar": {
              "outlinewidth": 0,
              "ticks": ""
             }
            },
            "type": "scatterpolar"
           }
          ],
          "scatterpolargl": [
           {
            "marker": {
             "colorbar": {
              "outlinewidth": 0,
              "ticks": ""
             }
            },
            "type": "scatterpolargl"
           }
          ],
          "scatterternary": [
           {
            "marker": {
             "colorbar": {
              "outlinewidth": 0,
              "ticks": ""
             }
            },
            "type": "scatterternary"
           }
          ],
          "surface": [
           {
            "colorbar": {
             "outlinewidth": 0,
             "ticks": ""
            },
            "colorscale": [
             [
              0,
              "#0d0887"
             ],
             [
              0.1111111111111111,
              "#46039f"
             ],
             [
              0.2222222222222222,
              "#7201a8"
             ],
             [
              0.3333333333333333,
              "#9c179e"
             ],
             [
              0.4444444444444444,
              "#bd3786"
             ],
             [
              0.5555555555555556,
              "#d8576b"
             ],
             [
              0.6666666666666666,
              "#ed7953"
             ],
             [
              0.7777777777777778,
              "#fb9f3a"
             ],
             [
              0.8888888888888888,
              "#fdca26"
             ],
             [
              1,
              "#f0f921"
             ]
            ],
            "type": "surface"
           }
          ],
          "table": [
           {
            "cells": {
             "fill": {
              "color": "#EBF0F8"
             },
             "line": {
              "color": "white"
             }
            },
            "header": {
             "fill": {
              "color": "#C8D4E3"
             },
             "line": {
              "color": "white"
             }
            },
            "type": "table"
           }
          ]
         },
         "layout": {
          "annotationdefaults": {
           "arrowcolor": "#2a3f5f",
           "arrowhead": 0,
           "arrowwidth": 1
          },
          "autotypenumbers": "strict",
          "coloraxis": {
           "colorbar": {
            "outlinewidth": 0,
            "ticks": ""
           }
          },
          "colorscale": {
           "diverging": [
            [
             0,
             "#8e0152"
            ],
            [
             0.1,
             "#c51b7d"
            ],
            [
             0.2,
             "#de77ae"
            ],
            [
             0.3,
             "#f1b6da"
            ],
            [
             0.4,
             "#fde0ef"
            ],
            [
             0.5,
             "#f7f7f7"
            ],
            [
             0.6,
             "#e6f5d0"
            ],
            [
             0.7,
             "#b8e186"
            ],
            [
             0.8,
             "#7fbc41"
            ],
            [
             0.9,
             "#4d9221"
            ],
            [
             1,
             "#276419"
            ]
           ],
           "sequential": [
            [
             0,
             "#0d0887"
            ],
            [
             0.1111111111111111,
             "#46039f"
            ],
            [
             0.2222222222222222,
             "#7201a8"
            ],
            [
             0.3333333333333333,
             "#9c179e"
            ],
            [
             0.4444444444444444,
             "#bd3786"
            ],
            [
             0.5555555555555556,
             "#d8576b"
            ],
            [
             0.6666666666666666,
             "#ed7953"
            ],
            [
             0.7777777777777778,
             "#fb9f3a"
            ],
            [
             0.8888888888888888,
             "#fdca26"
            ],
            [
             1,
             "#f0f921"
            ]
           ],
           "sequentialminus": [
            [
             0,
             "#0d0887"
            ],
            [
             0.1111111111111111,
             "#46039f"
            ],
            [
             0.2222222222222222,
             "#7201a8"
            ],
            [
             0.3333333333333333,
             "#9c179e"
            ],
            [
             0.4444444444444444,
             "#bd3786"
            ],
            [
             0.5555555555555556,
             "#d8576b"
            ],
            [
             0.6666666666666666,
             "#ed7953"
            ],
            [
             0.7777777777777778,
             "#fb9f3a"
            ],
            [
             0.8888888888888888,
             "#fdca26"
            ],
            [
             1,
             "#f0f921"
            ]
           ]
          },
          "colorway": [
           "#636efa",
           "#EF553B",
           "#00cc96",
           "#ab63fa",
           "#FFA15A",
           "#19d3f3",
           "#FF6692",
           "#B6E880",
           "#FF97FF",
           "#FECB52"
          ],
          "font": {
           "color": "#2a3f5f"
          },
          "geo": {
           "bgcolor": "white",
           "lakecolor": "white",
           "landcolor": "#E5ECF6",
           "showlakes": true,
           "showland": true,
           "subunitcolor": "white"
          },
          "hoverlabel": {
           "align": "left"
          },
          "hovermode": "closest",
          "mapbox": {
           "style": "light"
          },
          "paper_bgcolor": "white",
          "plot_bgcolor": "#E5ECF6",
          "polar": {
           "angularaxis": {
            "gridcolor": "white",
            "linecolor": "white",
            "ticks": ""
           },
           "bgcolor": "#E5ECF6",
           "radialaxis": {
            "gridcolor": "white",
            "linecolor": "white",
            "ticks": ""
           }
          },
          "scene": {
           "xaxis": {
            "backgroundcolor": "#E5ECF6",
            "gridcolor": "white",
            "gridwidth": 2,
            "linecolor": "white",
            "showbackground": true,
            "ticks": "",
            "zerolinecolor": "white"
           },
           "yaxis": {
            "backgroundcolor": "#E5ECF6",
            "gridcolor": "white",
            "gridwidth": 2,
            "linecolor": "white",
            "showbackground": true,
            "ticks": "",
            "zerolinecolor": "white"
           },
           "zaxis": {
            "backgroundcolor": "#E5ECF6",
            "gridcolor": "white",
            "gridwidth": 2,
            "linecolor": "white",
            "showbackground": true,
            "ticks": "",
            "zerolinecolor": "white"
           }
          },
          "shapedefaults": {
           "line": {
            "color": "#2a3f5f"
           }
          },
          "ternary": {
           "aaxis": {
            "gridcolor": "white",
            "linecolor": "white",
            "ticks": ""
           },
           "baxis": {
            "gridcolor": "white",
            "linecolor": "white",
            "ticks": ""
           },
           "bgcolor": "#E5ECF6",
           "caxis": {
            "gridcolor": "white",
            "linecolor": "white",
            "ticks": ""
           }
          },
          "title": {
           "x": 0.05
          },
          "xaxis": {
           "automargin": true,
           "gridcolor": "white",
           "linecolor": "white",
           "ticks": "",
           "title": {
            "standoff": 15
           },
           "zerolinecolor": "white",
           "zerolinewidth": 2
          },
          "yaxis": {
           "automargin": true,
           "gridcolor": "white",
           "linecolor": "white",
           "ticks": "",
           "title": {
            "standoff": 15
           },
           "zerolinecolor": "white",
           "zerolinewidth": 2
          }
         }
        },
        "width": 800,
        "xaxis": {
         "anchor": "y",
         "domain": [
          0,
          1
         ],
         "tickfont": {
          "size": 18
         },
         "title": {
          "font": {
           "size": 24
          },
          "text": "Year"
         }
        },
        "yaxis": {
         "anchor": "x",
         "domain": [
          0,
          1
         ],
         "tickfont": {
          "size": 18
         },
         "title": {
          "font": {
           "size": 24
          },
          "text": "Processor Frequency (kHz)"
         },
         "type": "log"
        }
       }
      }
     },
     "metadata": {},
     "output_type": "display_data"
    }
   ],
   "source": [
    "fig.update_layout(width = 800, height = 600,\n",
    "                xaxis_title=dict(text=\"Year\", font=dict(size=24)),  \n",
    "                yaxis_title=dict(text=\"Processor Frequency (kHz)\", font=dict(size=24)),\n",
    "                xaxis=dict(tickfont=dict(size=18)), \n",
    "                yaxis=dict(tickfont=dict(size=18)), )"
   ]
  },
  {
   "cell_type": "code",
   "execution_count": 12,
   "id": "e2d1f946",
   "metadata": {},
   "outputs": [],
   "source": [
    "transistors = pd.DataFrame(np.genfromtxt(open(data_path + \"transistors.dat\", \"rb\")), columns=[\"Year\", \"Transistors\"])"
   ]
  },
  {
   "cell_type": "code",
   "execution_count": 13,
   "id": "17653022",
   "metadata": {},
   "outputs": [
    {
     "data": {
      "text/html": [
       "<div>\n",
       "<style scoped>\n",
       "    .dataframe tbody tr th:only-of-type {\n",
       "        vertical-align: middle;\n",
       "    }\n",
       "\n",
       "    .dataframe tbody tr th {\n",
       "        vertical-align: top;\n",
       "    }\n",
       "\n",
       "    .dataframe thead th {\n",
       "        text-align: right;\n",
       "    }\n",
       "</style>\n",
       "<table border=\"1\" class=\"dataframe\">\n",
       "  <thead>\n",
       "    <tr style=\"text-align: right;\">\n",
       "      <th></th>\n",
       "      <th>Year</th>\n",
       "      <th>Transistors</th>\n",
       "    </tr>\n",
       "  </thead>\n",
       "  <tbody>\n",
       "    <tr>\n",
       "      <th>0</th>\n",
       "      <td>1971.875000</td>\n",
       "      <td>2.308242e+00</td>\n",
       "    </tr>\n",
       "    <tr>\n",
       "      <th>1</th>\n",
       "      <td>1972.307692</td>\n",
       "      <td>3.554522e+00</td>\n",
       "    </tr>\n",
       "    <tr>\n",
       "      <th>2</th>\n",
       "      <td>1974.326923</td>\n",
       "      <td>6.097562e+00</td>\n",
       "    </tr>\n",
       "    <tr>\n",
       "      <th>3</th>\n",
       "      <td>1979.567308</td>\n",
       "      <td>2.916378e+01</td>\n",
       "    </tr>\n",
       "    <tr>\n",
       "      <th>4</th>\n",
       "      <td>1982.307692</td>\n",
       "      <td>1.357727e+02</td>\n",
       "    </tr>\n",
       "    <tr>\n",
       "      <th>...</th>\n",
       "      <td>...</td>\n",
       "      <td>...</td>\n",
       "    </tr>\n",
       "    <tr>\n",
       "      <th>94</th>\n",
       "      <td>2020.100000</td>\n",
       "      <td>3.040000e+07</td>\n",
       "    </tr>\n",
       "    <tr>\n",
       "      <th>95</th>\n",
       "      <td>2020.900000</td>\n",
       "      <td>1.600000e+07</td>\n",
       "    </tr>\n",
       "    <tr>\n",
       "      <th>96</th>\n",
       "      <td>2021.800000</td>\n",
       "      <td>5.700000e+07</td>\n",
       "    </tr>\n",
       "    <tr>\n",
       "      <th>97</th>\n",
       "      <td>2021.900000</td>\n",
       "      <td>5.820000e+07</td>\n",
       "    </tr>\n",
       "    <tr>\n",
       "      <th>98</th>\n",
       "      <td>2021.900000</td>\n",
       "      <td>5.500000e+07</td>\n",
       "    </tr>\n",
       "  </tbody>\n",
       "</table>\n",
       "<p>99 rows × 2 columns</p>\n",
       "</div>"
      ],
      "text/plain": [
       "           Year   Transistors\n",
       "0   1971.875000  2.308242e+00\n",
       "1   1972.307692  3.554522e+00\n",
       "2   1974.326923  6.097562e+00\n",
       "3   1979.567308  2.916378e+01\n",
       "4   1982.307692  1.357727e+02\n",
       "..          ...           ...\n",
       "94  2020.100000  3.040000e+07\n",
       "95  2020.900000  1.600000e+07\n",
       "96  2021.800000  5.700000e+07\n",
       "97  2021.900000  5.820000e+07\n",
       "98  2021.900000  5.500000e+07\n",
       "\n",
       "[99 rows x 2 columns]"
      ]
     },
     "execution_count": 13,
     "metadata": {},
     "output_type": "execute_result"
    }
   ],
   "source": [
    "transistors"
   ]
  },
  {
   "cell_type": "code",
   "execution_count": 14,
   "id": "5eb30b70",
   "metadata": {},
   "outputs": [
    {
     "data": {
      "text/plain": [
       "np.float64(55000.0)"
      ]
     },
     "execution_count": 14,
     "metadata": {},
     "output_type": "execute_result"
    }
   ],
   "source": [
    "transistors.iloc[-1][\"Transistors\"] * 1e3 / 1e6"
   ]
  },
  {
   "cell_type": "code",
   "execution_count": 15,
   "id": "c6055ed7",
   "metadata": {},
   "outputs": [],
   "source": [
    "lin_fn = lambda x, k, a: a * x + k"
   ]
  },
  {
   "cell_type": "code",
   "execution_count": 16,
   "id": "e1d3428b",
   "metadata": {},
   "outputs": [],
   "source": [
    "exp_fn = lambda x, k, a: k * np.exp(a*x)"
   ]
  },
  {
   "cell_type": "code",
   "execution_count": 17,
   "id": "9a97f0ec",
   "metadata": {},
   "outputs": [],
   "source": [
    "start_year = 2022"
   ]
  },
  {
   "cell_type": "code",
   "execution_count": 18,
   "id": "a53f0a05",
   "metadata": {},
   "outputs": [],
   "source": [
    "reticle_limit = 850"
   ]
  },
  {
   "cell_type": "code",
   "execution_count": 19,
   "id": "072662cc",
   "metadata": {},
   "outputs": [
    {
     "data": {
      "text/plain": [
       "np.float64(29.154759474226502)"
      ]
     },
     "execution_count": 19,
     "metadata": {},
     "output_type": "execute_result"
    }
   ],
   "source": [
    "np.sqrt(reticle_limit)"
   ]
  },
  {
   "cell_type": "code",
   "execution_count": 20,
   "id": "35e26145",
   "metadata": {},
   "outputs": [],
   "source": [
    "transistor_fit = curve_fit(lin_fn, transistors[\"Year\"] - start_year, np.log(transistors[\"Transistors\"]))"
   ]
  },
  {
   "cell_type": "code",
   "execution_count": 21,
   "id": "8890fb95",
   "metadata": {},
   "outputs": [
    {
     "data": {
      "text/plain": [
       "(array([17.72539602,  0.34744438]),\n",
       " array([[1.16065888e-02, 4.71668217e-04],\n",
       "        [4.71668217e-04, 2.57654020e-05]]))"
      ]
     },
     "execution_count": 21,
     "metadata": {},
     "output_type": "execute_result"
    }
   ],
   "source": [
    "transistor_fit"
   ]
  },
  {
   "cell_type": "code",
   "execution_count": 22,
   "id": "7944ad21",
   "metadata": {},
   "outputs": [],
   "source": [
    "watts_fit = curve_fit(lin_fn, transistors[\"Year\"] - start_year, np.log(transistors[\"Transistors\"]))"
   ]
  },
  {
   "cell_type": "code",
   "execution_count": 23,
   "id": "0e511441",
   "metadata": {},
   "outputs": [],
   "source": [
    "def transistor_model_hist(year: float):\n",
    "    year = year - start_year\n",
    "    data_fit_50yrs = np.array([17.72539602,  0.34744438])\n",
    "    #exponential fit to thousands of transistors\n",
    "    fit = np.exp(lin_fn(year, *data_fit_50yrs)) * 1e3\n",
    "    return fit"
   ]
  },
  {
   "cell_type": "code",
   "execution_count": 24,
   "id": "60a3136f",
   "metadata": {},
   "outputs": [],
   "source": [
    "transistors_2022 = transistor_model_hist(start_year)"
   ]
  },
  {
   "cell_type": "code",
   "execution_count": 25,
   "id": "9bc1d670",
   "metadata": {},
   "outputs": [
    {
     "data": {
      "text/plain": [
       "np.float64(49893236976.327805)"
      ]
     },
     "execution_count": 25,
     "metadata": {},
     "output_type": "execute_result"
    }
   ],
   "source": [
    "transistors_2022"
   ]
  },
  {
   "cell_type": "code",
   "execution_count": null,
   "id": "4e01588f",
   "metadata": {},
   "outputs": [],
   "source": []
  },
  {
   "cell_type": "code",
   "execution_count": 26,
   "id": "985f81dd",
   "metadata": {},
   "outputs": [
    {
     "data": {
      "text/plain": [
       "Text(0, 0.5, 'Integrated Transistors')"
      ]
     },
     "execution_count": 26,
     "metadata": {},
     "output_type": "execute_result"
    },
    {
     "data": {
      "image/png": "[encoded data removed]",
      "text/plain": [
       "<Figure size 640x480 with 1 Axes>"
      ]
     },
     "metadata": {},
     "output_type": "display_data"
    }
   ],
   "source": [
    "plt.semilogy(transistors[\"Year\"], transistors[\"Transistors\"]*1e3, 'o')\n",
    "plt.semilogy(transistors[\"Year\"], np.exp(lin_fn(transistors[\"Year\"] - start_year, *transistor_fit[0]))*1e3)\n",
    "plt.xlabel(\"Year\")\n",
    "plt.ylabel(\"Integrated Transistors\")"
   ]
  },
  {
   "cell_type": "code",
   "execution_count": 27,
   "id": "cc455e9f",
   "metadata": {},
   "outputs": [],
   "source": [
    "fit_2022 = np.exp(lin_fn(0, *transistor_fit[0]))*1e3"
   ]
  },
  {
   "cell_type": "code",
   "execution_count": 28,
   "id": "7773ad1b",
   "metadata": {},
   "outputs": [],
   "source": [
    "density = transistors_2022 / reticle_limit"
   ]
  },
  {
   "cell_type": "code",
   "execution_count": 29,
   "id": "8170516c",
   "metadata": {},
   "outputs": [
    {
     "data": {
      "text/plain": [
       "np.float64(58697925.8545033)"
      ]
     },
     "execution_count": 29,
     "metadata": {},
     "output_type": "execute_result"
    }
   ],
   "source": [
    "density"
   ]
  },
  {
   "cell_type": "code",
   "execution_count": 30,
   "id": "562c847e",
   "metadata": {},
   "outputs": [
    {
     "data": {
      "text/plain": [
       "2022"
      ]
     },
     "execution_count": 30,
     "metadata": {},
     "output_type": "execute_result"
    }
   ],
   "source": [
    "start_year"
   ]
  },
  {
   "cell_type": "code",
   "execution_count": 31,
   "id": "df5220d2",
   "metadata": {},
   "outputs": [
    {
     "data": {
      "text/plain": [
       "np.float64(49893236736.914345)"
      ]
     },
     "execution_count": 31,
     "metadata": {},
     "output_type": "execute_result"
    }
   ],
   "source": [
    "fit_2022"
   ]
  },
  {
   "cell_type": "code",
   "execution_count": 32,
   "id": "a8fea7f8",
   "metadata": {},
   "outputs": [
    {
     "data": {
      "text/plain": [
       "np.float64(49893.23673691435)"
      ]
     },
     "execution_count": 32,
     "metadata": {},
     "output_type": "execute_result"
    }
   ],
   "source": [
    "fit_2022 / 1e6"
   ]
  },
  {
   "cell_type": "code",
   "execution_count": 33,
   "id": "c158603e",
   "metadata": {},
   "outputs": [
    {
     "data": {
      "text/plain": [
       "Text(0, 0.5, 'Maximum Density (1/mm^2)')"
      ]
     },
     "execution_count": 33,
     "metadata": {},
     "output_type": "execute_result"
    },
    {
     "data": {
      "image/png": "[encoded data removed]",
      "text/plain": [
       "<Figure size 640x480 with 1 Axes>"
      ]
     },
     "metadata": {},
     "output_type": "display_data"
    }
   ],
   "source": [
    "plt.semilogy(transistors[\"Year\"], transistors[\"Transistors\"]*1e3 / reticle_limit, 'o')\n",
    "plt.semilogy(transistors[\"Year\"], transistor_model_hist(transistors[\"Year\"]) / reticle_limit)\n",
    "plt.xlabel(\"Year\")\n",
    "plt.ylabel(\"Maximum Density (1/mm^2)\")"
   ]
  },
  {
   "cell_type": "code",
   "execution_count": 34,
   "id": "589b0de8",
   "metadata": {},
   "outputs": [],
   "source": [
    "irds_proj = pd.read_excel(\"scaling projection.xlsx\")"
   ]
  },
  {
   "cell_type": "code",
   "execution_count": 35,
   "id": "bf78e1df",
   "metadata": {},
   "outputs": [
    {
     "data": {
      "text/html": [
       "<div>\n",
       "<style scoped>\n",
       "    .dataframe tbody tr th:only-of-type {\n",
       "        vertical-align: middle;\n",
       "    }\n",
       "\n",
       "    .dataframe tbody tr th {\n",
       "        vertical-align: top;\n",
       "    }\n",
       "\n",
       "    .dataframe thead th {\n",
       "        text-align: right;\n",
       "    }\n",
       "</style>\n",
       "<table border=\"1\" class=\"dataframe\">\n",
       "  <thead>\n",
       "    <tr style=\"text-align: right;\">\n",
       "      <th></th>\n",
       "      <th>Year</th>\n",
       "      <th>TOPS / mm2</th>\n",
       "      <th>Tops/W</th>\n",
       "    </tr>\n",
       "  </thead>\n",
       "  <tbody>\n",
       "    <tr>\n",
       "      <th>0</th>\n",
       "      <td>2022</td>\n",
       "      <td>1.00</td>\n",
       "      <td>1.00</td>\n",
       "    </tr>\n",
       "    <tr>\n",
       "      <th>1</th>\n",
       "      <td>2025</td>\n",
       "      <td>1.39</td>\n",
       "      <td>1.23</td>\n",
       "    </tr>\n",
       "    <tr>\n",
       "      <th>2</th>\n",
       "      <td>2028</td>\n",
       "      <td>1.93</td>\n",
       "      <td>1.39</td>\n",
       "    </tr>\n",
       "    <tr>\n",
       "      <th>3</th>\n",
       "      <td>2031</td>\n",
       "      <td>4.07</td>\n",
       "      <td>1.79</td>\n",
       "    </tr>\n",
       "    <tr>\n",
       "      <th>4</th>\n",
       "      <td>2034</td>\n",
       "      <td>8.68</td>\n",
       "      <td>1.99</td>\n",
       "    </tr>\n",
       "    <tr>\n",
       "      <th>5</th>\n",
       "      <td>2037</td>\n",
       "      <td>14.62</td>\n",
       "      <td>2.03</td>\n",
       "    </tr>\n",
       "  </tbody>\n",
       "</table>\n",
       "</div>"
      ],
      "text/plain": [
       "   Year  TOPS / mm2  Tops/W\n",
       "0  2022        1.00    1.00\n",
       "1  2025        1.39    1.23\n",
       "2  2028        1.93    1.39\n",
       "3  2031        4.07    1.79\n",
       "4  2034        8.68    1.99\n",
       "5  2037       14.62    2.03"
      ]
     },
     "execution_count": 35,
     "metadata": {},
     "output_type": "execute_result"
    }
   ],
   "source": [
    "irds_proj"
   ]
  },
  {
   "cell_type": "code",
   "execution_count": 36,
   "id": "ffd2baca",
   "metadata": {},
   "outputs": [],
   "source": [
    "density_fit = curve_fit(lin_fn, irds_proj[\"Year\"] - start_year, np.log(irds_proj[\"TOPS / mm2\"]))"
   ]
  },
  {
   "cell_type": "code",
   "execution_count": 37,
   "id": "ba8b0adb",
   "metadata": {},
   "outputs": [
    {
     "data": {
      "text/plain": [
       "(array([-0.19815559,  0.18717361]),\n",
       " array([[ 0.01792359, -0.00162942],\n",
       "        [-0.00162942,  0.00021726]]))"
      ]
     },
     "execution_count": 37,
     "metadata": {},
     "output_type": "execute_result"
    }
   ],
   "source": [
    "density_fit"
   ]
  },
  {
   "cell_type": "code",
   "execution_count": 38,
   "id": "1072ccff",
   "metadata": {},
   "outputs": [],
   "source": [
    "def density_scale_model(year: float):\n",
    "    year = year - start_year\n",
    "    fit = np.array([-0.19815559,  0.18717361])\n",
    "    scale = np.exp(lin_fn(year, *fit))\n",
    "    return scale"
   ]
  },
  {
   "cell_type": "code",
   "execution_count": 39,
   "id": "83a669a3",
   "metadata": {},
   "outputs": [
    {
     "data": {
      "text/plain": [
       "0     0.820242\n",
       "1     1.438161\n",
       "2     2.521581\n",
       "3     4.421181\n",
       "4     7.751821\n",
       "5    13.591554\n",
       "Name: Year, dtype: float64"
      ]
     },
     "execution_count": 39,
     "metadata": {},
     "output_type": "execute_result"
    }
   ],
   "source": [
    "density_scale_model(irds_proj[\"Year\"])"
   ]
  },
  {
   "cell_type": "code",
   "execution_count": 40,
   "id": "b809e404",
   "metadata": {},
   "outputs": [
    {
     "data": {
      "text/plain": [
       "[<matplotlib.lines.Line2D at 0x1334aa7a0>]"
      ]
     },
     "execution_count": 40,
     "metadata": {},
     "output_type": "execute_result"
    },
    {
     "data": {
      "image/png": "[encoded data removed]",
      "text/plain": [
       "<Figure size 640x480 with 1 Axes>"
      ]
     },
     "metadata": {},
     "output_type": "display_data"
    }
   ],
   "source": [
    "plt.semilogy(irds_proj[\"Year\"], irds_proj[\"TOPS / mm2\"], 'o')\n",
    "plt.semilogy(irds_proj[\"Year\"], density_scale_model(irds_proj[\"Year\"]))"
   ]
  },
  {
   "cell_type": "code",
   "execution_count": null,
   "id": "aac54aea",
   "metadata": {},
   "outputs": [],
   "source": []
  },
  {
   "cell_type": "code",
   "execution_count": 41,
   "id": "c94ed420",
   "metadata": {},
   "outputs": [],
   "source": [
    "future_years = irds_proj[\"Year\"]"
   ]
  },
  {
   "cell_type": "code",
   "execution_count": 42,
   "id": "4d6aee09",
   "metadata": {},
   "outputs": [],
   "source": [
    "future_density = density * irds_proj[\"TOPS / mm2\"]"
   ]
  },
  {
   "cell_type": "code",
   "execution_count": 43,
   "id": "bf3525a4",
   "metadata": {},
   "outputs": [],
   "source": [
    "proj_years = np.linspace(np.min(transistors[\"Year\"]), np.max(future_years), 101)"
   ]
  },
  {
   "cell_type": "code",
   "execution_count": 44,
   "id": "57b7d0a1",
   "metadata": {},
   "outputs": [],
   "source": [
    "future_fit = curve_fit(lin_fn, future_years - start_year, np.log(future_density * reticle_limit))"
   ]
  },
  {
   "cell_type": "code",
   "execution_count": 45,
   "id": "6335ab09",
   "metadata": {},
   "outputs": [
    {
     "data": {
      "text/plain": [
       "(array([24.43499571,  0.18717361]),\n",
       " array([[ 0.01792359, -0.00162942],\n",
       "        [-0.00162942,  0.00021726]]))"
      ]
     },
     "execution_count": 45,
     "metadata": {},
     "output_type": "execute_result"
    }
   ],
   "source": [
    "future_fit"
   ]
  },
  {
   "cell_type": "code",
   "execution_count": 46,
   "id": "f43d7e73",
   "metadata": {},
   "outputs": [
    {
     "data": {
      "text/plain": [
       "Text(0, 0.5, 'Maximum Density (1/mm^2)')"
      ]
     },
     "execution_count": 46,
     "metadata": {},
     "output_type": "execute_result"
    },
    {
     "data": {
      "image/png": "[encoded data removed]",
      "text/plain": [
       "<Figure size 640x480 with 1 Axes>"
      ]
     },
     "metadata": {},
     "output_type": "display_data"
    }
   ],
   "source": [
    "plt.semilogy(transistors[\"Year\"], transistors[\"Transistors\"]*1e3 / reticle_limit, 'o')\n",
    "plt.semilogy(proj_years, transistor_model_hist(proj_years) / reticle_limit)\n",
    "plt.semilogy(future_years, future_density, 'o')\n",
    "\n",
    "plt.xlabel(\"Year\")\n",
    "plt.ylabel(\"Maximum Density (1/mm^2)\")"
   ]
  },
  {
   "cell_type": "code",
   "execution_count": null,
   "id": "ca2e7621",
   "metadata": {},
   "outputs": [],
   "source": []
  },
  {
   "cell_type": "code",
   "execution_count": 47,
   "id": "bf5bd886",
   "metadata": {},
   "outputs": [],
   "source": [
    "def transistor_model_future(year: float):\n",
    "    year = year - start_year\n",
    "    data_fit_irds = np.array([24.43499571,  0.18717361])\n",
    "    #exponential fit to thousands of transistors\n",
    "    fit = np.exp(lin_fn(year, *data_fit_irds)) \n",
    "    return fit"
   ]
  },
  {
   "cell_type": "code",
   "execution_count": 48,
   "id": "2be4cba2",
   "metadata": {},
   "outputs": [
    {
     "data": {
      "text/plain": [
       "np.float64(49893236976.327805)"
      ]
     },
     "execution_count": 48,
     "metadata": {},
     "output_type": "execute_result"
    }
   ],
   "source": [
    "transistor_model_hist(2022)"
   ]
  },
  {
   "cell_type": "code",
   "execution_count": 49,
   "id": "bd7e105f",
   "metadata": {},
   "outputs": [
    {
     "data": {
      "text/plain": [
       "np.float64(40924539588.0071)"
      ]
     },
     "execution_count": 49,
     "metadata": {},
     "output_type": "execute_result"
    }
   ],
   "source": [
    "transistor_model_future(2022)"
   ]
  },
  {
   "cell_type": "code",
   "execution_count": 50,
   "id": "970b02e0",
   "metadata": {},
   "outputs": [
    {
     "data": {
      "text/plain": [
       "<matplotlib.legend.Legend at 0x1337849d0>"
      ]
     },
     "execution_count": 50,
     "metadata": {},
     "output_type": "execute_result"
    },
    {
     "data": {
      "image/png": "[encoded data removed]",
      "text/plain": [
       "<Figure size 640x480 with 1 Axes>"
      ]
     },
     "metadata": {},
     "output_type": "display_data"
    }
   ],
   "source": [
    "plt.figure(dpi=100)\n",
    "plt.semilogy(transistors[\"Year\"], transistors[\"Transistors\"]*1e3 / reticle_limit, 'o')\n",
    "plt.semilogy(proj_years, transistor_model_hist(proj_years) / reticle_limit, label=\"Historic Trend\")\n",
    "plt.semilogy(future_years, future_density, 'o')\n",
    "plt.semilogy(future_years, transistor_model_future(future_years) / reticle_limit, label=\"Projected Trend\")\n",
    "plt.xlabel(\"Year\")\n",
    "plt.ylabel(\"Maximum Density (1/mm^2)\")\n",
    "plt.legend()"
   ]
  },
  {
   "cell_type": "code",
   "execution_count": 51,
   "id": "7e60d6ae",
   "metadata": {},
   "outputs": [],
   "source": [
    "import plotly.express as px\n",
    "import plotly.graph_objects as go"
   ]
  },
  {
   "cell_type": "code",
   "execution_count": 52,
   "id": "c08dd05b",
   "metadata": {},
   "outputs": [
    {
     "data": {
      "application/vnd.plotly.v1+json": {
       "config": {
        "plotlyServerURL": "https://plot.ly"
       },
       "data": [
        {
         "marker": {
          "color": "blue",
          "size": 6,
          "symbol": "circle"
         },
         "mode": "markers",
         "name": "Historic",
         "type": "scatter",
         "x": [
          1971.875,
          1972.30769231,
          1974.32692308,
          1979.56730769,
          1982.30769231,
          1985.91346154,
          1986.25,
          1988.65384615,
          1989.47115385,
          1990.57692308,
          1992.40384615,
          1992.69230769,
          1992.69230769,
          1993.02884615,
          1993.41346154,
          1993.41346154,
          1994.71153846,
          1994.71153846,
          1995.43269231,
          1995.72115385,
          1996.15384615,
          1996.34615385,
          1996.34615385,
          1996.44230769,
          1996.82692308,
          1997.35576923,
          1997.45192308,
          1997.54807692,
          1997.64423077,
          1998.89423077,
          1999.13461538,
          1999.18269231,
          1999.47115385,
          1999.47115385,
          2000.19230769,
          2000.67307692,
          2000.67307692,
          2001.10576923,
          2001.20192308,
          2001.68269231,
          2001.82692308,
          2002.40384615,
          2002.78846154,
          2002.88461538,
          2003.41346154,
          2003.50961538,
          2003.65384615,
          2004.80769231,
          2004.80769231,
          2004.80769231,
          2005.72115385,
          2005.81730769,
          2005.96153846,
          2006.05769231,
          2006.875,
          2006.875,
          2006.92307692,
          2006.97115385,
          2006.97115385,
          2007.06730769,
          2007.64423077,
          2007.74038462,
          2007.78846154,
          2007.83653846,
          2007.98076923,
          2008.22115385,
          2008.46153846,
          2009.18269231,
          2009.27884615,
          2009.66346154,
          2009.71153846,
          2010.19230769,
          2010.38461538,
          2011.16,
          2011.32,
          2011.9,
          2012.4,
          2012.41,
          2012.7,
          2012.9,
          2013.4,
          2013.8,
          2014.16,
          2014.5,
          2014.8,
          2014.81,
          2014.82,
          2016.33,
          2016.67,
          2017.5,
          2018.4,
          2018.5,
          2019.3,
          2019.8,
          2020.1,
          2020.9,
          2021.8,
          2021.9,
          2021.9
         ],
         "y": [
          2.7155782667764705,
          4.1817910066,
          7.173602767305882,
          34.310324400588236,
          159.73260495411762,
          322.16701579529416,
          128.7192718329412,
          143.38990409882354,
          1421.0597028588236,
          1421.0597028588236,
          1421.0597028588236,
          3654.000263082353,
          1310.5574823411764,
          2018.1622309882353,
          3654.000263082353,
          1084.9877236517648,
          2248.179970552941,
          3280.1490181294116,
          11348.960234247059,
          3654.000263082353,
          6439.650897505881,
          7991.20596477647,
          4296.166203,
          5051.18848244706,
          11348.960234247059,
          6439.650897505881,
          4181.7910066,
          10466.46015082353,
          8901.994554588236,
          17954.56238329412,
          11046.821188800002,
          8209.771586588235,
          11046.821188800002,
          25498.73140670588,
          26196.141298235296,
          33396.89370305882,
          43741.49016364706,
          34310.32440058824,
          50059.59414670588,
          29979.961740941177,
          43741.49016364706,
          65565.41648552941,
          44937.85352094117,
          259615.77283294118,
          177937.94650705883,
          63819.89337658823,
          125292.42768823529,
          147311.72812588236,
          125292.42768823529,
          322167.01579529414,
          274011.36381882353,
          132239.8427964706,
          358885.63414941175,
          135856.70408117646,
          445354.73520705884,
          182804.68603176472,
          289205.1845788235,
          349331.1586117647,
          685813.5702517647,
          177937.94650705883,
          685813.5702517647,
          274011.36381882353,
          948049.63266,
          135856.70408117646,
          599255.9078564706,
          523622.83086588234,
          482905.6918164705,
          537944.3175258824,
          922810.0684058823,
          2715578.2667764705,
          2248179.9705529413,
          482905.6918164705,
          1540879.1344705883,
          1376470.5882352942,
          3058823.529411765,
          1411764.705882353,
          2823529.411764706,
          2705882.3529411764,
          2470588.2352941176,
          1411764.705882353,
          5882352.94117647,
          5058823.529411765,
          5058823.529411765,
          4941176.470588235,
          3058823.529411765,
          4470588.235294118,
          6705882.352941177,
          8470588.235294119,
          9411764.705882354,
          22588235.29411765,
          9411764.705882354,
          24823529.411764707,
          9411764.705882354,
          46470588.23529412,
          35764705.88235294,
          18823529.411764707,
          67058823.52941176,
          68470588.23529412,
          64705882.35294118
         ]
        },
        {
         "line": {
          "color": "blue"
         },
         "mode": "lines",
         "name": "Historic Trend",
         "type": "scatter",
         "x": [
          1971.875,
          1972.52625,
          1973.1775,
          1973.82875,
          1974.48,
          1975.13125,
          1975.7825,
          1976.43375,
          1977.085,
          1977.73625,
          1978.3875,
          1979.03875,
          1979.69,
          1980.34125,
          1980.9925,
          1981.64375,
          1982.295,
          1982.94625,
          1983.5975,
          1984.24875,
          1984.9,
          1985.55125,
          1986.2025,
          1986.85375,
          1987.505,
          1988.15625,
          1988.8075,
          1989.45875,
          1990.11,
          1990.76125,
          1991.4125,
          1992.06375,
          1992.715,
          1993.36625,
          1994.0175,
          1994.66875,
          1995.32,
          1995.97125,
          1996.6225,
          1997.27375,
          1997.925,
          1998.57625,
          1999.2275,
          1999.87875,
          2000.53,
          2001.18125,
          2001.8325,
          2002.48375,
          2003.135,
          2003.78625,
          2004.4375,
          2005.08875,
          2005.74,
          2006.39125,
          2007.0425,
          2007.69375,
          2008.345,
          2008.99625,
          2009.6475,
          2010.29875,
          2010.95,
          2011.60125,
          2012.2525,
          2012.90375,
          2013.555,
          2014.20625,
          2014.8575,
          2015.50875,
          2016.16,
          2016.81125,
          2017.4625,
          2018.11375,
          2018.765,
          2019.41625,
          2020.0675,
          2020.71875,
          2021.37,
          2022.02125,
          2022.6725
         ],
         "y": [
          1.6036229319832271,
          2.010811867045606,
          2.5213934547888024,
          3.16162096416907,
          3.964413845086076,
          4.971050392575928,
          6.233290209134229,
          7.816035598696058,
          9.800668736804118,
          12.289236208773993,
          15.40969607797405,
          19.322497279853344,
          24.228829643410773,
          30.380968742660954,
          38.09524749346003,
          47.768321473897366,
          59.8975643044586,
          75.10664178491068,
          94.17757976825513,
          118.09097464915898,
          148.07641402449894,
          185.6757000735723,
          232.8221265009162,
          291.9398853319288,
          366.0687148963531,
          459.0201981942101,
          575.5737482508114,
          721.7223577062487,
          904.9807486807848,
          1134.7717674782632,
          1422.9108919087664,
          1784.2137638056327,
          2237.2579850610364,
          2805.33834748796,
          3517.6646128591856,
          4410.863431016446,
          5530.861622212156,
          6935.247658985516,
          8696.232771092722,
          10904.363928669736,
          13673.17961912411,
          17145.047810198437,
          21498.486277678043,
          26957.34169703658,
          33802.29947283602,
          42385.31612250873,
          53147.71630399174,
          66642.88500681393,
          83564.72170183364,
          104783.31951552638,
          131389.70399336723,
          164751.93184642933,
          206585.43418670646,
          259041.22118512038,
          324816.4834914661,
          407293.2773597263,
          510712.42444134946,
          640391.5678882529,
          802998.5968541949,
          1006894.4984332975,
          1262563.2659223776,
          1583150.9685838814,
          1985141.7009960539,
          2489205.168195809,
          3121259.4880578383,
          3913803.8584628,
          4907589.612823518,
          6153715.586899887,
          7716255.537241343,
          9675552.708798204,
          12132350.952986786,
          15212974.811514523,
          19075824.917413715,
          23919522.69613775,
          29993123.153945595,
          37608920.878380604,
          47158507.714466855,
          59132907.77598518,
          74147825.10113645
         ]
        },
        {
         "marker": {
          "color": "red",
          "size": 6,
          "symbol": "circle"
         },
         "mode": "markers",
         "name": "Future",
         "type": "scatter",
         "x": [
          2022,
          2025,
          2028,
          2031,
          2034,
          2037
         ],
         "y": [
          58697925.8545033,
          81590116.93775958,
          113286996.89919136,
          238900558.22782844,
          509497996.41708857,
          858163675.9928381
         ]
        },
        {
         "line": {
          "color": "red"
         },
         "mode": "lines",
         "name": "Future Trend",
         "type": "scatter",
         "x": [
          2022,
          2025,
          2028,
          2031,
          2034,
          2037
         ],
         "y": [
          48146517.162361294,
          84417070.01811843,
          148011572.39292222,
          259514166.47750676,
          455015790.41217834,
          797796021.4451891
         ]
        }
       ],
       "layout": {
        "font": {
         "color": "Black",
         "size": 16
        },
        "height": 600,
        "template": {
         "data": {
          "bar": [
           {
            "error_x": {
             "color": "#2a3f5f"
            },
            "error_y": {
             "color": "#2a3f5f"
            },
            "marker": {
             "line": {
              "color": "#E5ECF6",
              "width": 0.5
             },
             "pattern": {
              "fillmode": "overlay",
              "size": 10,
              "solidity": 0.2
             }
            },
            "type": "bar"
           }
          ],
          "barpolar": [
           {
            "marker": {
             "line": {
              "color": "#E5ECF6",
              "width": 0.5
             },
             "pattern": {
              "fillmode": "overlay",
              "size": 10,
              "solidity": 0.2
             }
            },
            "type": "barpolar"
           }
          ],
          "carpet": [
           {
            "aaxis": {
             "endlinecolor": "#2a3f5f",
             "gridcolor": "white",
             "linecolor": "white",
             "minorgridcolor": "white",
             "startlinecolor": "#2a3f5f"
            },
            "baxis": {
             "endlinecolor": "#2a3f5f",
             "gridcolor": "white",
             "linecolor": "white",
             "minorgridcolor": "white",
             "startlinecolor": "#2a3f5f"
            },
            "type": "carpet"
           }
          ],
          "choropleth": [
           {
            "colorbar": {
             "outlinewidth": 0,
             "ticks": ""
            },
            "type": "choropleth"
           }
          ],
          "contour": [
           {
            "colorbar": {
             "outlinewidth": 0,
             "ticks": ""
            },
            "colorscale": [
             [
              0,
              "#0d0887"
             ],
             [
              0.1111111111111111,
              "#46039f"
             ],
             [
              0.2222222222222222,
              "#7201a8"
             ],
             [
              0.3333333333333333,
              "#9c179e"
             ],
             [
              0.4444444444444444,
              "#bd3786"
             ],
             [
              0.5555555555555556,
              "#d8576b"
             ],
             [
              0.6666666666666666,
              "#ed7953"
             ],
             [
              0.7777777777777778,
              "#fb9f3a"
             ],
             [
              0.8888888888888888,
              "#fdca26"
             ],
             [
              1,
              "#f0f921"
             ]
            ],
            "type": "contour"
           }
          ],
          "contourcarpet": [
           {
            "colorbar": {
             "outlinewidth": 0,
             "ticks": ""
            },
            "type": "contourcarpet"
           }
          ],
          "heatmap": [
           {
            "colorbar": {
             "outlinewidth": 0,
             "ticks": ""
            },
            "colorscale": [
             [
              0,
              "#0d0887"
             ],
             [
              0.1111111111111111,
              "#46039f"
             ],
             [
              0.2222222222222222,
              "#7201a8"
             ],
             [
              0.3333333333333333,
              "#9c179e"
             ],
             [
              0.4444444444444444,
              "#bd3786"
             ],
             [
              0.5555555555555556,
              "#d8576b"
             ],
             [
              0.6666666666666666,
              "#ed7953"
             ],
             [
              0.7777777777777778,
              "#fb9f3a"
             ],
             [
              0.8888888888888888,
              "#fdca26"
             ],
             [
              1,
              "#f0f921"
             ]
            ],
            "type": "heatmap"
           }
          ],
          "heatmapgl": [
           {
            "colorbar": {
             "outlinewidth": 0,
             "ticks": ""
            },
            "colorscale": [
             [
              0,
              "#0d0887"
             ],
             [
              0.1111111111111111,
              "#46039f"
             ],
             [
              0.2222222222222222,
              "#7201a8"
             ],
             [
              0.3333333333333333,
              "#9c179e"
             ],
             [
              0.4444444444444444,
              "#bd3786"
             ],
             [
              0.5555555555555556,
              "#d8576b"
             ],
             [
              0.6666666666666666,
              "#ed7953"
             ],
             [
              0.7777777777777778,
              "#fb9f3a"
             ],
             [
              0.8888888888888888,
              "#fdca26"
             ],
             [
              1,
              "#f0f921"
             ]
            ],
            "type": "heatmapgl"
           }
          ],
          "histogram": [
           {
            "marker": {
             "pattern": {
              "fillmode": "overlay",
              "size": 10,
              "solidity": 0.2
             }
            },
            "type": "histogram"
           }
          ],
          "histogram2d": [
           {
            "colorbar": {
             "outlinewidth": 0,
             "ticks": ""
            },
            "colorscale": [
             [
              0,
              "#0d0887"
             ],
             [
              0.1111111111111111,
              "#46039f"
             ],
             [
              0.2222222222222222,
              "#7201a8"
             ],
             [
              0.3333333333333333,
              "#9c179e"
             ],
             [
              0.4444444444444444,
              "#bd3786"
             ],
             [
              0.5555555555555556,
              "#d8576b"
             ],
             [
              0.6666666666666666,
              "#ed7953"
             ],
             [
              0.7777777777777778,
              "#fb9f3a"
             ],
             [
              0.8888888888888888,
              "#fdca26"
             ],
             [
              1,
              "#f0f921"
             ]
            ],
            "type": "histogram2d"
           }
          ],
          "histogram2dcontour": [
           {
            "colorbar": {
             "outlinewidth": 0,
             "ticks": ""
            },
            "colorscale": [
             [
              0,
              "#0d0887"
             ],
             [
              0.1111111111111111,
              "#46039f"
             ],
             [
              0.2222222222222222,
              "#7201a8"
             ],
             [
              0.3333333333333333,
              "#9c179e"
             ],
             [
              0.4444444444444444,
              "#bd3786"
             ],
             [
              0.5555555555555556,
              "#d8576b"
             ],
             [
              0.6666666666666666,
              "#ed7953"
             ],
             [
              0.7777777777777778,
              "#fb9f3a"
             ],
             [
              0.8888888888888888,
              "#fdca26"
             ],
             [
              1,
              "#f0f921"
             ]
            ],
            "type": "histogram2dcontour"
           }
          ],
          "mesh3d": [
           {
            "colorbar": {
             "outlinewidth": 0,
             "ticks": ""
            },
            "type": "mesh3d"
           }
          ],
          "parcoords": [
           {
            "line": {
             "colorbar": {
              "outlinewidth": 0,
              "ticks": ""
             }
            },
            "type": "parcoords"
           }
          ],
          "pie": [
           {
            "automargin": true,
            "type": "pie"
           }
          ],
          "scatter": [
           {
            "fillpattern": {
             "fillmode": "overlay",
             "size": 10,
             "solidity": 0.2
            },
            "type": "scatter"
           }
          ],
          "scatter3d": [
           {
            "line": {
             "colorbar": {
              "outlinewidth": 0,
              "ticks": ""
             }
            },
            "marker": {
             "colorbar": {
              "outlinewidth": 0,
              "ticks": ""
             }
            },
            "type": "scatter3d"
           }
          ],
          "scattercarpet": [
           {
            "marker": {
             "colorbar": {
              "outlinewidth": 0,
              "ticks": ""
             }
            },
            "type": "scattercarpet"
           }
          ],
          "scattergeo": [
           {
            "marker": {
             "colorbar": {
              "outlinewidth": 0,
              "ticks": ""
             }
            },
            "type": "scattergeo"
           }
          ],
          "scattergl": [
           {
            "marker": {
             "colorbar": {
              "outlinewidth": 0,
              "ticks": ""
             }
            },
            "type": "scattergl"
           }
          ],
          "scattermapbox": [
           {
            "marker": {
             "colorbar": {
              "outlinewidth": 0,
              "ticks": ""
             }
            },
            "type": "scattermapbox"
           }
          ],
          "scatterpolar": [
           {
            "marker": {
             "colorbar": {
              "outlinewidth": 0,
              "ticks": ""
             }
            },
            "type": "scatterpolar"
           }
          ],
          "scatterpolargl": [
           {
            "marker": {
             "colorbar": {
              "outlinewidth": 0,
              "ticks": ""
             }
            },
            "type": "scatterpolargl"
           }
          ],
          "scatterternary": [
           {
            "marker": {
             "colorbar": {
              "outlinewidth": 0,
              "ticks": ""
             }
            },
            "type": "scatterternary"
           }
          ],
          "surface": [
           {
            "colorbar": {
             "outlinewidth": 0,
             "ticks": ""
            },
            "colorscale": [
             [
              0,
              "#0d0887"
             ],
             [
              0.1111111111111111,
              "#46039f"
             ],
             [
              0.2222222222222222,
              "#7201a8"
             ],
             [
              0.3333333333333333,
              "#9c179e"
             ],
             [
              0.4444444444444444,
              "#bd3786"
             ],
             [
              0.5555555555555556,
              "#d8576b"
             ],
             [
              0.6666666666666666,
              "#ed7953"
             ],
             [
              0.7777777777777778,
              "#fb9f3a"
             ],
             [
              0.8888888888888888,
              "#fdca26"
             ],
             [
              1,
              "#f0f921"
             ]
            ],
            "type": "surface"
           }
          ],
          "table": [
           {
            "cells": {
             "fill": {
              "color": "#EBF0F8"
             },
             "line": {
              "color": "white"
             }
            },
            "header": {
             "fill": {
              "color": "#C8D4E3"
             },
             "line": {
              "color": "white"
             }
            },
            "type": "table"
           }
          ]
         },
         "layout": {
          "annotationdefaults": {
           "arrowcolor": "#2a3f5f",
           "arrowhead": 0,
           "arrowwidth": 1
          },
          "autotypenumbers": "strict",
          "coloraxis": {
           "colorbar": {
            "outlinewidth": 0,
            "ticks": ""
           }
          },
          "colorscale": {
           "diverging": [
            [
             0,
             "#8e0152"
            ],
            [
             0.1,
             "#c51b7d"
            ],
            [
             0.2,
             "#de77ae"
            ],
            [
             0.3,
             "#f1b6da"
            ],
            [
             0.4,
             "#fde0ef"
            ],
            [
             0.5,
             "#f7f7f7"
            ],
            [
             0.6,
             "#e6f5d0"
            ],
            [
             0.7,
             "#b8e186"
            ],
            [
             0.8,
             "#7fbc41"
            ],
            [
             0.9,
             "#4d9221"
            ],
            [
             1,
             "#276419"
            ]
           ],
           "sequential": [
            [
             0,
             "#0d0887"
            ],
            [
             0.1111111111111111,
             "#46039f"
            ],
            [
             0.2222222222222222,
             "#7201a8"
            ],
            [
             0.3333333333333333,
             "#9c179e"
            ],
            [
             0.4444444444444444,
             "#bd3786"
            ],
            [
             0.5555555555555556,
             "#d8576b"
            ],
            [
             0.6666666666666666,
             "#ed7953"
            ],
            [
             0.7777777777777778,
             "#fb9f3a"
            ],
            [
             0.8888888888888888,
             "#fdca26"
            ],
            [
             1,
             "#f0f921"
            ]
           ],
           "sequentialminus": [
            [
             0,
             "#0d0887"
            ],
            [
             0.1111111111111111,
             "#46039f"
            ],
            [
             0.2222222222222222,
             "#7201a8"
            ],
            [
             0.3333333333333333,
             "#9c179e"
            ],
            [
             0.4444444444444444,
             "#bd3786"
            ],
            [
             0.5555555555555556,
             "#d8576b"
            ],
            [
             0.6666666666666666,
             "#ed7953"
            ],
            [
             0.7777777777777778,
             "#fb9f3a"
            ],
            [
             0.8888888888888888,
             "#fdca26"
            ],
            [
             1,
             "#f0f921"
            ]
           ]
          },
          "colorway": [
           "#636efa",
           "#EF553B",
           "#00cc96",
           "#ab63fa",
           "#FFA15A",
           "#19d3f3",
           "#FF6692",
           "#B6E880",
           "#FF97FF",
           "#FECB52"
          ],
          "font": {
           "color": "#2a3f5f"
          },
          "geo": {
           "bgcolor": "white",
           "lakecolor": "white",
           "landcolor": "#E5ECF6",
           "showlakes": true,
           "showland": true,
           "subunitcolor": "white"
          },
          "hoverlabel": {
           "align": "left"
          },
          "hovermode": "closest",
          "mapbox": {
           "style": "light"
          },
          "paper_bgcolor": "white",
          "plot_bgcolor": "#E5ECF6",
          "polar": {
           "angularaxis": {
            "gridcolor": "white",
            "linecolor": "white",
            "ticks": ""
           },
           "bgcolor": "#E5ECF6",
           "radialaxis": {
            "gridcolor": "white",
            "linecolor": "white",
            "ticks": ""
           }
          },
          "scene": {
           "xaxis": {
            "backgroundcolor": "#E5ECF6",
            "gridcolor": "white",
            "gridwidth": 2,
            "linecolor": "white",
            "showbackground": true,
            "ticks": "",
            "zerolinecolor": "white"
           },
           "yaxis": {
            "backgroundcolor": "#E5ECF6",
            "gridcolor": "white",
            "gridwidth": 2,
            "linecolor": "white",
            "showbackground": true,
            "ticks": "",
            "zerolinecolor": "white"
           },
           "zaxis": {
            "backgroundcolor": "#E5ECF6",
            "gridcolor": "white",
            "gridwidth": 2,
            "linecolor": "white",
            "showbackground": true,
            "ticks": "",
            "zerolinecolor": "white"
           }
          },
          "shapedefaults": {
           "line": {
            "color": "#2a3f5f"
           }
          },
          "ternary": {
           "aaxis": {
            "gridcolor": "white",
            "linecolor": "white",
            "ticks": ""
           },
           "baxis": {
            "gridcolor": "white",
            "linecolor": "white",
            "ticks": ""
           },
           "bgcolor": "#E5ECF6",
           "caxis": {
            "gridcolor": "white",
            "linecolor": "white",
            "ticks": ""
           }
          },
          "title": {
           "x": 0.05
          },
          "xaxis": {
           "automargin": true,
           "gridcolor": "white",
           "linecolor": "white",
           "ticks": "",
           "title": {
            "standoff": 15
           },
           "zerolinecolor": "white",
           "zerolinewidth": 2
          },
          "yaxis": {
           "automargin": true,
           "gridcolor": "white",
           "linecolor": "white",
           "ticks": "",
           "title": {
            "standoff": 15
           },
           "zerolinecolor": "white",
           "zerolinewidth": 2
          }
         }
        },
        "title": {
         "text": "Transistor Density by Year"
        },
        "width": 800,
        "xaxis": {
         "title": {
          "text": "Year"
         }
        },
        "yaxis": {
         "title": {
          "text": "Transistor Density (1/mm<sup>2</sup>)"
         },
         "type": "log"
        }
       }
      }
     },
     "metadata": {},
     "output_type": "display_data"
    }
   ],
   "source": [
    "fig = go.Figure()\n",
    "\n",
    "fig.add_trace(go.Scatter(x = transistors[\"Year\"], \n",
    "                         y = transistors[\"Transistors\"]*1e3 / reticle_limit, \n",
    "                         name = \"Historic\",\n",
    "                        mode = \"markers\",\n",
    "                        marker=dict(size=6, color=\"blue\", symbol=\"circle\"),))\n",
    "\n",
    "cutoff = 2023\n",
    "mask = proj_years < 2023\n",
    "fig.add_trace(go.Scatter(x = proj_years[mask], \n",
    "                         y = transistor_model_hist(proj_years)[mask] / reticle_limit, \n",
    "                         name = \"Historic Trend\",\n",
    "                        mode = \"lines\",\n",
    "                        line=dict(color=\"blue\")))\n",
    "\n",
    "fig.add_trace(go.Scatter(x = future_years, \n",
    "                         y = future_density, \n",
    "                         name = \"Future\",\n",
    "                        mode = \"markers\",\n",
    "                        marker=dict(size=6, color=\"red\", symbol=\"circle\")))\n",
    "\n",
    "fig.add_trace(go.Scatter(x = future_years, \n",
    "                         y = transistor_model_future(future_years) / reticle_limit, \n",
    "                         name = \"Future Trend\",\n",
    "                        mode = \"lines\",\n",
    "                        line=dict(color=\"red\")))\n",
    "\n",
    "fig.update_layout(yaxis_type = \"log\",\n",
    "                  yaxis_title = \"Transistor Density (1/mm<sup>2</sup>)\",\n",
    "                  xaxis_title=\"Year\",\n",
    "                 title=\"Transistor Density by Year\",\n",
    "                 font=dict(\n",
    "                    size=16,  # Set the font size here\n",
    "                    color=\"Black\"\n",
    "                  ),\n",
    "                 width = 800,\n",
    "                 height = 600)"
   ]
  },
  {
   "cell_type": "code",
   "execution_count": 53,
   "id": "5c6e0b61",
   "metadata": {},
   "outputs": [
    {
     "data": {
      "application/vnd.plotly.v1+json": {
       "config": {
        "plotlyServerURL": "https://plot.ly"
       },
       "data": [
        {
         "marker": {
          "color": "blue",
          "size": 6,
          "symbol": "circle"
         },
         "mode": "markers",
         "name": "Historic",
         "type": "scatter",
         "x": [
          1971.875,
          1972.30769231,
          1974.32692308,
          1979.56730769,
          1982.30769231,
          1985.91346154,
          1986.25,
          1988.65384615,
          1989.47115385,
          1990.57692308,
          1992.40384615,
          1992.69230769,
          1992.69230769,
          1993.02884615,
          1993.41346154,
          1993.41346154,
          1994.71153846,
          1994.71153846,
          1995.43269231,
          1995.72115385,
          1996.15384615,
          1996.34615385,
          1996.34615385,
          1996.44230769,
          1996.82692308,
          1997.35576923,
          1997.45192308,
          1997.54807692,
          1997.64423077,
          1998.89423077,
          1999.13461538,
          1999.18269231,
          1999.47115385,
          1999.47115385,
          2000.19230769,
          2000.67307692,
          2000.67307692,
          2001.10576923,
          2001.20192308,
          2001.68269231,
          2001.82692308,
          2002.40384615,
          2002.78846154,
          2002.88461538,
          2003.41346154,
          2003.50961538,
          2003.65384615,
          2004.80769231,
          2004.80769231,
          2004.80769231,
          2005.72115385,
          2005.81730769,
          2005.96153846,
          2006.05769231,
          2006.875,
          2006.875,
          2006.92307692,
          2006.97115385,
          2006.97115385,
          2007.06730769,
          2007.64423077,
          2007.74038462,
          2007.78846154,
          2007.83653846,
          2007.98076923,
          2008.22115385,
          2008.46153846,
          2009.18269231,
          2009.27884615,
          2009.66346154,
          2009.71153846,
          2010.19230769,
          2010.38461538,
          2011.16,
          2011.32,
          2011.9,
          2012.4,
          2012.41,
          2012.7,
          2012.9,
          2013.4,
          2013.8,
          2014.16,
          2014.5,
          2014.8,
          2014.81,
          2014.82,
          2016.33,
          2016.67,
          2017.5,
          2018.4,
          2018.5,
          2019.3,
          2019.8,
          2020.1,
          2020.9,
          2021.8,
          2021.9,
          2021.9
         ],
         "y": [
          2.7155782667764705,
          4.1817910066,
          7.173602767305882,
          34.310324400588236,
          159.73260495411762,
          322.16701579529416,
          128.7192718329412,
          143.38990409882354,
          1421.0597028588236,
          1421.0597028588236,
          1421.0597028588236,
          3654.000263082353,
          1310.5574823411764,
          2018.1622309882353,
          3654.000263082353,
          1084.9877236517648,
          2248.179970552941,
          3280.1490181294116,
          11348.960234247059,
          3654.000263082353,
          6439.650897505881,
          7991.20596477647,
          4296.166203,
          5051.18848244706,
          11348.960234247059,
          6439.650897505881,
          4181.7910066,
          10466.46015082353,
          8901.994554588236,
          17954.56238329412,
          11046.821188800002,
          8209.771586588235,
          11046.821188800002,
          25498.73140670588,
          26196.141298235296,
          33396.89370305882,
          43741.49016364706,
          34310.32440058824,
          50059.59414670588,
          29979.961740941177,
          43741.49016364706,
          65565.41648552941,
          44937.85352094117,
          259615.77283294118,
          177937.94650705883,
          63819.89337658823,
          125292.42768823529,
          147311.72812588236,
          125292.42768823529,
          322167.01579529414,
          274011.36381882353,
          132239.8427964706,
          358885.63414941175,
          135856.70408117646,
          445354.73520705884,
          182804.68603176472,
          289205.1845788235,
          349331.1586117647,
          685813.5702517647,
          177937.94650705883,
          685813.5702517647,
          274011.36381882353,
          948049.63266,
          135856.70408117646,
          599255.9078564706,
          523622.83086588234,
          482905.6918164705,
          537944.3175258824,
          922810.0684058823,
          2715578.2667764705,
          2248179.9705529413,
          482905.6918164705,
          1540879.1344705883,
          1376470.5882352942,
          3058823.529411765,
          1411764.705882353,
          2823529.411764706,
          2705882.3529411764,
          2470588.2352941176,
          1411764.705882353,
          5882352.94117647,
          5058823.529411765,
          5058823.529411765,
          4941176.470588235,
          3058823.529411765,
          4470588.235294118,
          6705882.352941177,
          8470588.235294119,
          9411764.705882354,
          22588235.29411765,
          9411764.705882354,
          24823529.411764707,
          9411764.705882354,
          46470588.23529412,
          35764705.88235294,
          18823529.411764707,
          67058823.52941176,
          68470588.23529412,
          64705882.35294118
         ]
        },
        {
         "line": {
          "color": "blue"
         },
         "mode": "lines",
         "name": "Historic Trend",
         "type": "scatter",
         "x": [
          1971.875,
          1972.52625,
          1973.1775,
          1973.82875,
          1974.48,
          1975.13125,
          1975.7825,
          1976.43375,
          1977.085,
          1977.73625,
          1978.3875,
          1979.03875,
          1979.69,
          1980.34125,
          1980.9925,
          1981.64375,
          1982.295,
          1982.94625,
          1983.5975,
          1984.24875,
          1984.9,
          1985.55125,
          1986.2025,
          1986.85375,
          1987.505,
          1988.15625,
          1988.8075,
          1989.45875,
          1990.11,
          1990.76125,
          1991.4125,
          1992.06375,
          1992.715,
          1993.36625,
          1994.0175,
          1994.66875,
          1995.32,
          1995.97125,
          1996.6225,
          1997.27375,
          1997.925,
          1998.57625,
          1999.2275,
          1999.87875,
          2000.53,
          2001.18125,
          2001.8325,
          2002.48375,
          2003.135,
          2003.78625,
          2004.4375,
          2005.08875,
          2005.74,
          2006.39125,
          2007.0425,
          2007.69375,
          2008.345,
          2008.99625,
          2009.6475,
          2010.29875,
          2010.95,
          2011.60125,
          2012.2525,
          2012.90375,
          2013.555,
          2014.20625,
          2014.8575,
          2015.50875,
          2016.16,
          2016.81125,
          2017.4625,
          2018.11375,
          2018.765,
          2019.41625,
          2020.0675,
          2020.71875,
          2021.37,
          2022.02125,
          2022.6725
         ],
         "y": [
          1.6036229319832271,
          2.010811867045606,
          2.5213934547888024,
          3.16162096416907,
          3.964413845086076,
          4.971050392575928,
          6.233290209134229,
          7.816035598696058,
          9.800668736804118,
          12.289236208773993,
          15.40969607797405,
          19.322497279853344,
          24.228829643410773,
          30.380968742660954,
          38.09524749346003,
          47.768321473897366,
          59.8975643044586,
          75.10664178491068,
          94.17757976825513,
          118.09097464915898,
          148.07641402449894,
          185.6757000735723,
          232.8221265009162,
          291.9398853319288,
          366.0687148963531,
          459.0201981942101,
          575.5737482508114,
          721.7223577062487,
          904.9807486807848,
          1134.7717674782632,
          1422.9108919087664,
          1784.2137638056327,
          2237.2579850610364,
          2805.33834748796,
          3517.6646128591856,
          4410.863431016446,
          5530.861622212156,
          6935.247658985516,
          8696.232771092722,
          10904.363928669736,
          13673.17961912411,
          17145.047810198437,
          21498.486277678043,
          26957.34169703658,
          33802.29947283602,
          42385.31612250873,
          53147.71630399174,
          66642.88500681393,
          83564.72170183364,
          104783.31951552638,
          131389.70399336723,
          164751.93184642933,
          206585.43418670646,
          259041.22118512038,
          324816.4834914661,
          407293.2773597263,
          510712.42444134946,
          640391.5678882529,
          802998.5968541949,
          1006894.4984332975,
          1262563.2659223776,
          1583150.9685838814,
          1985141.7009960539,
          2489205.168195809,
          3121259.4880578383,
          3913803.8584628,
          4907589.612823518,
          6153715.586899887,
          7716255.537241343,
          9675552.708798204,
          12132350.952986786,
          15212974.811514523,
          19075824.917413715,
          23919522.69613775,
          29993123.153945595,
          37608920.878380604,
          47158507.714466855,
          59132907.77598518,
          74147825.10113645
         ]
        },
        {
         "marker": {
          "color": "red",
          "size": 6,
          "symbol": "circle"
         },
         "mode": "markers",
         "name": "Future",
         "type": "scatter",
         "x": [
          2022,
          2025,
          2028,
          2031,
          2034,
          2037
         ],
         "y": [
          58697925.8545033,
          81590116.93775958,
          113286996.89919136,
          238900558.22782844,
          509497996.41708857,
          858163675.9928381
         ]
        },
        {
         "line": {
          "color": "red"
         },
         "mode": "lines",
         "name": "Future Trend",
         "type": "scatter",
         "x": [
          2022,
          2025,
          2028,
          2031,
          2034,
          2037
         ],
         "y": [
          48146517.162361294,
          84417070.01811843,
          148011572.39292222,
          259514166.47750676,
          455015790.41217834,
          797796021.4451891
         ]
        }
       ],
       "layout": {
        "font": {
         "color": "Black",
         "size": 16
        },
        "height": 600,
        "template": {
         "data": {
          "bar": [
           {
            "error_x": {
             "color": "#2a3f5f"
            },
            "error_y": {
             "color": "#2a3f5f"
            },
            "marker": {
             "line": {
              "color": "#E5ECF6",
              "width": 0.5
             },
             "pattern": {
              "fillmode": "overlay",
              "size": 10,
              "solidity": 0.2
             }
            },
            "type": "bar"
           }
          ],
          "barpolar": [
           {
            "marker": {
             "line": {
              "color": "#E5ECF6",
              "width": 0.5
             },
             "pattern": {
              "fillmode": "overlay",
              "size": 10,
              "solidity": 0.2
             }
            },
            "type": "barpolar"
           }
          ],
          "carpet": [
           {
            "aaxis": {
             "endlinecolor": "#2a3f5f",
             "gridcolor": "white",
             "linecolor": "white",
             "minorgridcolor": "white",
             "startlinecolor": "#2a3f5f"
            },
            "baxis": {
             "endlinecolor": "#2a3f5f",
             "gridcolor": "white",
             "linecolor": "white",
             "minorgridcolor": "white",
             "startlinecolor": "#2a3f5f"
            },
            "type": "carpet"
           }
          ],
          "choropleth": [
           {
            "colorbar": {
             "outlinewidth": 0,
             "ticks": ""
            },
            "type": "choropleth"
           }
          ],
          "contour": [
           {
            "colorbar": {
             "outlinewidth": 0,
             "ticks": ""
            },
            "colorscale": [
             [
              0,
              "#0d0887"
             ],
             [
              0.1111111111111111,
              "#46039f"
             ],
             [
              0.2222222222222222,
              "#7201a8"
             ],
             [
              0.3333333333333333,
              "#9c179e"
             ],
             [
              0.4444444444444444,
              "#bd3786"
             ],
             [
              0.5555555555555556,
              "#d8576b"
             ],
             [
              0.6666666666666666,
              "#ed7953"
             ],
             [
              0.7777777777777778,
              "#fb9f3a"
             ],
             [
              0.8888888888888888,
              "#fdca26"
             ],
             [
              1,
              "#f0f921"
             ]
            ],
            "type": "contour"
           }
          ],
          "contourcarpet": [
           {
            "colorbar": {
             "outlinewidth": 0,
             "ticks": ""
            },
            "type": "contourcarpet"
           }
          ],
          "heatmap": [
           {
            "colorbar": {
             "outlinewidth": 0,
             "ticks": ""
            },
            "colorscale": [
             [
              0,
              "#0d0887"
             ],
             [
              0.1111111111111111,
              "#46039f"
             ],
             [
              0.2222222222222222,
              "#7201a8"
             ],
             [
              0.3333333333333333,
              "#9c179e"
             ],
             [
              0.4444444444444444,
              "#bd3786"
             ],
             [
              0.5555555555555556,
              "#d8576b"
             ],
             [
              0.6666666666666666,
              "#ed7953"
             ],
             [
              0.7777777777777778,
              "#fb9f3a"
             ],
             [
              0.8888888888888888,
              "#fdca26"
             ],
             [
              1,
              "#f0f921"
             ]
            ],
            "type": "heatmap"
           }
          ],
          "heatmapgl": [
           {
            "colorbar": {
             "outlinewidth": 0,
             "ticks": ""
            },
            "colorscale": [
             [
              0,
              "#0d0887"
             ],
             [
              0.1111111111111111,
              "#46039f"
             ],
             [
              0.2222222222222222,
              "#7201a8"
             ],
             [
              0.3333333333333333,
              "#9c179e"
             ],
             [
              0.4444444444444444,
              "#bd3786"
             ],
             [
              0.5555555555555556,
              "#d8576b"
             ],
             [
              0.6666666666666666,
              "#ed7953"
             ],
             [
              0.7777777777777778,
              "#fb9f3a"
             ],
             [
              0.8888888888888888,
              "#fdca26"
             ],
             [
              1,
              "#f0f921"
             ]
            ],
            "type": "heatmapgl"
           }
          ],
          "histogram": [
           {
            "marker": {
             "pattern": {
              "fillmode": "overlay",
              "size": 10,
              "solidity": 0.2
             }
            },
            "type": "histogram"
           }
          ],
          "histogram2d": [
           {
            "colorbar": {
             "outlinewidth": 0,
             "ticks": ""
            },
            "colorscale": [
             [
              0,
              "#0d0887"
             ],
             [
              0.1111111111111111,
              "#46039f"
             ],
             [
              0.2222222222222222,
              "#7201a8"
             ],
             [
              0.3333333333333333,
              "#9c179e"
             ],
             [
              0.4444444444444444,
              "#bd3786"
             ],
             [
              0.5555555555555556,
              "#d8576b"
             ],
             [
              0.6666666666666666,
              "#ed7953"
             ],
             [
              0.7777777777777778,
              "#fb9f3a"
             ],
             [
              0.8888888888888888,
              "#fdca26"
             ],
             [
              1,
              "#f0f921"
             ]
            ],
            "type": "histogram2d"
           }
          ],
          "histogram2dcontour": [
           {
            "colorbar": {
             "outlinewidth": 0,
             "ticks": ""
            },
            "colorscale": [
             [
              0,
              "#0d0887"
             ],
             [
              0.1111111111111111,
              "#46039f"
             ],
             [
              0.2222222222222222,
              "#7201a8"
             ],
             [
              0.3333333333333333,
              "#9c179e"
             ],
             [
              0.4444444444444444,
              "#bd3786"
             ],
             [
              0.5555555555555556,
              "#d8576b"
             ],
             [
              0.6666666666666666,
              "#ed7953"
             ],
             [
              0.7777777777777778,
              "#fb9f3a"
             ],
             [
              0.8888888888888888,
              "#fdca26"
             ],
             [
              1,
              "#f0f921"
             ]
            ],
            "type": "histogram2dcontour"
           }
          ],
          "mesh3d": [
           {
            "colorbar": {
             "outlinewidth": 0,
             "ticks": ""
            },
            "type": "mesh3d"
           }
          ],
          "parcoords": [
           {
            "line": {
             "colorbar": {
              "outlinewidth": 0,
              "ticks": ""
             }
            },
            "type": "parcoords"
           }
          ],
          "pie": [
           {
            "automargin": true,
            "type": "pie"
           }
          ],
          "scatter": [
           {
            "fillpattern": {
             "fillmode": "overlay",
             "size": 10,
             "solidity": 0.2
            },
            "type": "scatter"
           }
          ],
          "scatter3d": [
           {
            "line": {
             "colorbar": {
              "outlinewidth": 0,
              "ticks": ""
             }
            },
            "marker": {
             "colorbar": {
              "outlinewidth": 0,
              "ticks": ""
             }
            },
            "type": "scatter3d"
           }
          ],
          "scattercarpet": [
           {
            "marker": {
             "colorbar": {
              "outlinewidth": 0,
              "ticks": ""
             }
            },
            "type": "scattercarpet"
           }
          ],
          "scattergeo": [
           {
            "marker": {
             "colorbar": {
              "outlinewidth": 0,
              "ticks": ""
             }
            },
            "type": "scattergeo"
           }
          ],
          "scattergl": [
           {
            "marker": {
             "colorbar": {
              "outlinewidth": 0,
              "ticks": ""
             }
            },
            "type": "scattergl"
           }
          ],
          "scattermapbox": [
           {
            "marker": {
             "colorbar": {
              "outlinewidth": 0,
              "ticks": ""
             }
            },
            "type": "scattermapbox"
           }
          ],
          "scatterpolar": [
           {
            "marker": {
             "colorbar": {
              "outlinewidth": 0,
              "ticks": ""
             }
            },
            "type": "scatterpolar"
           }
          ],
          "scatterpolargl": [
           {
            "marker": {
             "colorbar": {
              "outlinewidth": 0,
              "ticks": ""
             }
            },
            "type": "scatterpolargl"
           }
          ],
          "scatterternary": [
           {
            "marker": {
             "colorbar": {
              "outlinewidth": 0,
              "ticks": ""
             }
            },
            "type": "scatterternary"
           }
          ],
          "surface": [
           {
            "colorbar": {
             "outlinewidth": 0,
             "ticks": ""
            },
            "colorscale": [
             [
              0,
              "#0d0887"
             ],
             [
              0.1111111111111111,
              "#46039f"
             ],
             [
              0.2222222222222222,
              "#7201a8"
             ],
             [
              0.3333333333333333,
              "#9c179e"
             ],
             [
              0.4444444444444444,
              "#bd3786"
             ],
             [
              0.5555555555555556,
              "#d8576b"
             ],
             [
              0.6666666666666666,
              "#ed7953"
             ],
             [
              0.7777777777777778,
              "#fb9f3a"
             ],
             [
              0.8888888888888888,
              "#fdca26"
             ],
             [
              1,
              "#f0f921"
             ]
            ],
            "type": "surface"
           }
          ],
          "table": [
           {
            "cells": {
             "fill": {
              "color": "#EBF0F8"
             },
             "line": {
              "color": "white"
             }
            },
            "header": {
             "fill": {
              "color": "#C8D4E3"
             },
             "line": {
              "color": "white"
             }
            },
            "type": "table"
           }
          ]
         },
         "layout": {
          "annotationdefaults": {
           "arrowcolor": "#2a3f5f",
           "arrowhead": 0,
           "arrowwidth": 1
          },
          "autotypenumbers": "strict",
          "coloraxis": {
           "colorbar": {
            "outlinewidth": 0,
            "ticks": ""
           }
          },
          "colorscale": {
           "diverging": [
            [
             0,
             "#8e0152"
            ],
            [
             0.1,
             "#c51b7d"
            ],
            [
             0.2,
             "#de77ae"
            ],
            [
             0.3,
             "#f1b6da"
            ],
            [
             0.4,
             "#fde0ef"
            ],
            [
             0.5,
             "#f7f7f7"
            ],
            [
             0.6,
             "#e6f5d0"
            ],
            [
             0.7,
             "#b8e186"
            ],
            [
             0.8,
             "#7fbc41"
            ],
            [
             0.9,
             "#4d9221"
            ],
            [
             1,
             "#276419"
            ]
           ],
           "sequential": [
            [
             0,
             "#0d0887"
            ],
            [
             0.1111111111111111,
             "#46039f"
            ],
            [
             0.2222222222222222,
             "#7201a8"
            ],
            [
             0.3333333333333333,
             "#9c179e"
            ],
            [
             0.4444444444444444,
             "#bd3786"
            ],
            [
             0.5555555555555556,
             "#d8576b"
            ],
            [
             0.6666666666666666,
             "#ed7953"
            ],
            [
             0.7777777777777778,
             "#fb9f3a"
            ],
            [
             0.8888888888888888,
             "#fdca26"
            ],
            [
             1,
             "#f0f921"
            ]
           ],
           "sequentialminus": [
            [
             0,
             "#0d0887"
            ],
            [
             0.1111111111111111,
             "#46039f"
            ],
            [
             0.2222222222222222,
             "#7201a8"
            ],
            [
             0.3333333333333333,
             "#9c179e"
            ],
            [
             0.4444444444444444,
             "#bd3786"
            ],
            [
             0.5555555555555556,
             "#d8576b"
            ],
            [
             0.6666666666666666,
             "#ed7953"
            ],
            [
             0.7777777777777778,
             "#fb9f3a"
            ],
            [
             0.8888888888888888,
             "#fdca26"
            ],
            [
             1,
             "#f0f921"
            ]
           ]
          },
          "colorway": [
           "#636efa",
           "#EF553B",
           "#00cc96",
           "#ab63fa",
           "#FFA15A",
           "#19d3f3",
           "#FF6692",
           "#B6E880",
           "#FF97FF",
           "#FECB52"
          ],
          "font": {
           "color": "#2a3f5f"
          },
          "geo": {
           "bgcolor": "white",
           "lakecolor": "white",
           "landcolor": "#E5ECF6",
           "showlakes": true,
           "showland": true,
           "subunitcolor": "white"
          },
          "hoverlabel": {
           "align": "left"
          },
          "hovermode": "closest",
          "mapbox": {
           "style": "light"
          },
          "paper_bgcolor": "white",
          "plot_bgcolor": "#E5ECF6",
          "polar": {
           "angularaxis": {
            "gridcolor": "white",
            "linecolor": "white",
            "ticks": ""
           },
           "bgcolor": "#E5ECF6",
           "radialaxis": {
            "gridcolor": "white",
            "linecolor": "white",
            "ticks": ""
           }
          },
          "scene": {
           "xaxis": {
            "backgroundcolor": "#E5ECF6",
            "gridcolor": "white",
            "gridwidth": 2,
            "linecolor": "white",
            "showbackground": true,
            "ticks": "",
            "zerolinecolor": "white"
           },
           "yaxis": {
            "backgroundcolor": "#E5ECF6",
            "gridcolor": "white",
            "gridwidth": 2,
            "linecolor": "white",
            "showbackground": true,
            "ticks": "",
            "zerolinecolor": "white"
           },
           "zaxis": {
            "backgroundcolor": "#E5ECF6",
            "gridcolor": "white",
            "gridwidth": 2,
            "linecolor": "white",
            "showbackground": true,
            "ticks": "",
            "zerolinecolor": "white"
           }
          },
          "shapedefaults": {
           "line": {
            "color": "#2a3f5f"
           }
          },
          "ternary": {
           "aaxis": {
            "gridcolor": "white",
            "linecolor": "white",
            "ticks": ""
           },
           "baxis": {
            "gridcolor": "white",
            "linecolor": "white",
            "ticks": ""
           },
           "bgcolor": "#E5ECF6",
           "caxis": {
            "gridcolor": "white",
            "linecolor": "white",
            "ticks": ""
           }
          },
          "title": {
           "x": 0.05
          },
          "xaxis": {
           "automargin": true,
           "gridcolor": "white",
           "linecolor": "white",
           "ticks": "",
           "title": {
            "standoff": 15
           },
           "zerolinecolor": "white",
           "zerolinewidth": 2
          },
          "yaxis": {
           "automargin": true,
           "gridcolor": "white",
           "linecolor": "white",
           "ticks": "",
           "title": {
            "standoff": 15
           },
           "zerolinecolor": "white",
           "zerolinewidth": 2
          }
         }
        },
        "title": {
         "text": "Transistor Density by Year"
        },
        "width": 800,
        "xaxis": {
         "title": {
          "text": "Year"
         }
        },
        "yaxis": {
         "title": {
          "text": "Transistor Density (1/mm<sup>2</sup>)"
         },
         "type": "log"
        }
       }
      }
     },
     "metadata": {},
     "output_type": "display_data"
    }
   ],
   "source": [
    "fig"
   ]
  },
  {
   "cell_type": "code",
   "execution_count": 56,
   "id": "df8c5497",
   "metadata": {},
   "outputs": [],
   "source": [
    "fig.write_image(os.path.join(\"figures\", \"cpu_scaling.png\"))"
   ]
  },
  {
   "cell_type": "code",
   "execution_count": null,
   "id": "48ce6d98",
   "metadata": {},
   "outputs": [],
   "source": []
  }
 ],
 "metadata": {
  "kernelspec": {
   "display_name": "systemflow",
   "language": "python",
   "name": "python3"
  },
  "language_info": {
   "codemirror_mode": {
    "name": "ipython",
    "version": 3
   },
   "file_extension": ".py",
   "mimetype": "text/x-python",
   "name": "python",
   "nbconvert_exporter": "python",
   "pygments_lexer": "ipython3",
   "version": "3.10.15"
  }
 },
 "nbformat": 4,
 "nbformat_minor": 5
}
