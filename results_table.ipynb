{
 "cells": [
  {
   "cell_type": "code",
   "execution_count": 1,
   "metadata": {},
   "outputs": [],
   "source": [
    "from systemflow.graph import *\n",
    "\n",
    "import pandas as pd\n",
    "import matplotlib.pyplot as plt\n",
    "from scipy.optimize import curve_fit\n",
    "import plotly.graph_objects as go"
   ]
  },
  {
   "cell_type": "code",
   "execution_count": 2,
   "metadata": {},
   "outputs": [],
   "source": [
    "from copy import deepcopy"
   ]
  },
  {
   "cell_type": "code",
   "execution_count": 3,
   "metadata": {},
   "outputs": [],
   "source": [
    "# load data from the spreadsheet which defines the structure of the workflow,\n",
    "# as well as the parameters for data rates, efficiency, data reduction, and classifier performance\n",
    "run3_system = dataframes_from_spreadsheet(\"cms_system_60.xlsx\")\n",
    "run5_system = dataframes_from_spreadsheet(\"cms_system_200.xlsx\")"
   ]
  },
  {
   "cell_type": "code",
   "execution_count": 4,
   "metadata": {},
   "outputs": [
    {
     "data": {
      "text/html": [
       "<div>\n",
       "<style scoped>\n",
       "    .dataframe tbody tr th:only-of-type {\n",
       "        vertical-align: middle;\n",
       "    }\n",
       "\n",
       "    .dataframe tbody tr th {\n",
       "        vertical-align: top;\n",
       "    }\n",
       "\n",
       "    .dataframe thead th {\n",
       "        text-align: right;\n",
       "    }\n",
       "</style>\n",
       "<table border=\"1\" class=\"dataframe\">\n",
       "  <thead>\n",
       "    <tr style=\"text-align: right;\">\n",
       "      <th></th>\n",
       "      <th>Category</th>\n",
       "      <th>Detector</th>\n",
       "      <th>Data (bytes)</th>\n",
       "      <th>Sample Rate</th>\n",
       "      <th>Compression</th>\n",
       "      <th>Link Efficiency (J/bit)</th>\n",
       "      <th>Op Efficiency (J/op)</th>\n",
       "      <th>PU 200</th>\n",
       "    </tr>\n",
       "  </thead>\n",
       "  <tbody>\n",
       "    <tr>\n",
       "      <th>0</th>\n",
       "      <td>Tracking</td>\n",
       "      <td>Inner Tracker</td>\n",
       "      <td>1440000</td>\n",
       "      <td>40000000</td>\n",
       "      <td>0</td>\n",
       "      <td>2.220000e-11</td>\n",
       "      <td>0</td>\n",
       "      <td>1.440</td>\n",
       "    </tr>\n",
       "    <tr>\n",
       "      <th>1</th>\n",
       "      <td>Tracking</td>\n",
       "      <td>Outer Tracker PS</td>\n",
       "      <td>720000</td>\n",
       "      <td>40000000</td>\n",
       "      <td>0</td>\n",
       "      <td>2.220000e-11</td>\n",
       "      <td>0</td>\n",
       "      <td>0.720</td>\n",
       "    </tr>\n",
       "    <tr>\n",
       "      <th>2</th>\n",
       "      <td>Tracking</td>\n",
       "      <td>Outer Tracker 2S</td>\n",
       "      <td>430000</td>\n",
       "      <td>40000000</td>\n",
       "      <td>0</td>\n",
       "      <td>2.220000e-11</td>\n",
       "      <td>0</td>\n",
       "      <td>0.430</td>\n",
       "    </tr>\n",
       "    <tr>\n",
       "      <th>3</th>\n",
       "      <td>Tracking</td>\n",
       "      <td>Track Finder TPG</td>\n",
       "      <td>10000</td>\n",
       "      <td>40000000</td>\n",
       "      <td>0</td>\n",
       "      <td>2.220000e-11</td>\n",
       "      <td>0</td>\n",
       "      <td>0.010</td>\n",
       "    </tr>\n",
       "    <tr>\n",
       "      <th>4</th>\n",
       "      <td>Timing</td>\n",
       "      <td>MIP Timing BTL</td>\n",
       "      <td>240000</td>\n",
       "      <td>40000000</td>\n",
       "      <td>0</td>\n",
       "      <td>2.220000e-11</td>\n",
       "      <td>0</td>\n",
       "      <td>0.240</td>\n",
       "    </tr>\n",
       "    <tr>\n",
       "      <th>5</th>\n",
       "      <td>Timing</td>\n",
       "      <td>MIP Timing ETL</td>\n",
       "      <td>440000</td>\n",
       "      <td>40000000</td>\n",
       "      <td>0</td>\n",
       "      <td>2.220000e-11</td>\n",
       "      <td>0</td>\n",
       "      <td>0.440</td>\n",
       "    </tr>\n",
       "    <tr>\n",
       "      <th>6</th>\n",
       "      <td>Calorimetry</td>\n",
       "      <td>ECAL Barrel</td>\n",
       "      <td>600000</td>\n",
       "      <td>40000000</td>\n",
       "      <td>0</td>\n",
       "      <td>2.220000e-11</td>\n",
       "      <td>0</td>\n",
       "      <td>0.600</td>\n",
       "    </tr>\n",
       "    <tr>\n",
       "      <th>7</th>\n",
       "      <td>Calorimetry</td>\n",
       "      <td>HCAL Barrel</td>\n",
       "      <td>240000</td>\n",
       "      <td>40000000</td>\n",
       "      <td>0</td>\n",
       "      <td>2.220000e-11</td>\n",
       "      <td>0</td>\n",
       "      <td>0.240</td>\n",
       "    </tr>\n",
       "    <tr>\n",
       "      <th>8</th>\n",
       "      <td>Calorimetry</td>\n",
       "      <td>HCAL HO</td>\n",
       "      <td>30000</td>\n",
       "      <td>40000000</td>\n",
       "      <td>0</td>\n",
       "      <td>2.220000e-11</td>\n",
       "      <td>0</td>\n",
       "      <td>0.030</td>\n",
       "    </tr>\n",
       "    <tr>\n",
       "      <th>9</th>\n",
       "      <td>Calorimetry</td>\n",
       "      <td>HCAL HF</td>\n",
       "      <td>60000</td>\n",
       "      <td>40000000</td>\n",
       "      <td>0</td>\n",
       "      <td>2.220000e-11</td>\n",
       "      <td>0</td>\n",
       "      <td>0.060</td>\n",
       "    </tr>\n",
       "    <tr>\n",
       "      <th>10</th>\n",
       "      <td>Calorimetry</td>\n",
       "      <td>HGCAL</td>\n",
       "      <td>3000000</td>\n",
       "      <td>40000000</td>\n",
       "      <td>0</td>\n",
       "      <td>2.220000e-11</td>\n",
       "      <td>0</td>\n",
       "      <td>3.000</td>\n",
       "    </tr>\n",
       "    <tr>\n",
       "      <th>11</th>\n",
       "      <td>Calorimetry</td>\n",
       "      <td>HGCAL TPG Stage1</td>\n",
       "      <td>150000</td>\n",
       "      <td>40000000</td>\n",
       "      <td>0</td>\n",
       "      <td>2.220000e-11</td>\n",
       "      <td>0</td>\n",
       "      <td>0.150</td>\n",
       "    </tr>\n",
       "    <tr>\n",
       "      <th>12</th>\n",
       "      <td>Calorimetry</td>\n",
       "      <td>HGCAL TPG Stage2</td>\n",
       "      <td>50000</td>\n",
       "      <td>40000000</td>\n",
       "      <td>0</td>\n",
       "      <td>2.220000e-11</td>\n",
       "      <td>0</td>\n",
       "      <td>0.050</td>\n",
       "    </tr>\n",
       "    <tr>\n",
       "      <th>13</th>\n",
       "      <td>Muon</td>\n",
       "      <td>Muon DT</td>\n",
       "      <td>150000</td>\n",
       "      <td>40000000</td>\n",
       "      <td>0</td>\n",
       "      <td>2.220000e-11</td>\n",
       "      <td>0</td>\n",
       "      <td>0.150</td>\n",
       "    </tr>\n",
       "    <tr>\n",
       "      <th>14</th>\n",
       "      <td>Muon</td>\n",
       "      <td>Muon CSC</td>\n",
       "      <td>470000</td>\n",
       "      <td>40000000</td>\n",
       "      <td>0</td>\n",
       "      <td>2.220000e-11</td>\n",
       "      <td>0</td>\n",
       "      <td>0.470</td>\n",
       "    </tr>\n",
       "    <tr>\n",
       "      <th>15</th>\n",
       "      <td>Muon</td>\n",
       "      <td>Muon GEM GE1</td>\n",
       "      <td>3000</td>\n",
       "      <td>40000000</td>\n",
       "      <td>0</td>\n",
       "      <td>2.220000e-11</td>\n",
       "      <td>0</td>\n",
       "      <td>0.003</td>\n",
       "    </tr>\n",
       "    <tr>\n",
       "      <th>16</th>\n",
       "      <td>Muon</td>\n",
       "      <td>Muon GEM GE2</td>\n",
       "      <td>2000</td>\n",
       "      <td>40000000</td>\n",
       "      <td>0</td>\n",
       "      <td>2.220000e-11</td>\n",
       "      <td>0</td>\n",
       "      <td>0.002</td>\n",
       "    </tr>\n",
       "    <tr>\n",
       "      <th>17</th>\n",
       "      <td>Muon</td>\n",
       "      <td>Muon GEM ME0</td>\n",
       "      <td>120000</td>\n",
       "      <td>40000000</td>\n",
       "      <td>0</td>\n",
       "      <td>2.220000e-11</td>\n",
       "      <td>0</td>\n",
       "      <td>0.120</td>\n",
       "    </tr>\n",
       "    <tr>\n",
       "      <th>18</th>\n",
       "      <td>Muon</td>\n",
       "      <td>Muon RPC</td>\n",
       "      <td>10000</td>\n",
       "      <td>40000000</td>\n",
       "      <td>0</td>\n",
       "      <td>2.220000e-11</td>\n",
       "      <td>0</td>\n",
       "      <td>0.010</td>\n",
       "    </tr>\n",
       "  </tbody>\n",
       "</table>\n",
       "</div>"
      ],
      "text/plain": [
       "       Category          Detector  Data (bytes)  Sample Rate  Compression  \\\n",
       "0      Tracking     Inner Tracker       1440000     40000000            0   \n",
       "1      Tracking  Outer Tracker PS        720000     40000000            0   \n",
       "2      Tracking  Outer Tracker 2S        430000     40000000            0   \n",
       "3      Tracking  Track Finder TPG         10000     40000000            0   \n",
       "4        Timing    MIP Timing BTL        240000     40000000            0   \n",
       "5        Timing    MIP Timing ETL        440000     40000000            0   \n",
       "6   Calorimetry       ECAL Barrel        600000     40000000            0   \n",
       "7   Calorimetry       HCAL Barrel        240000     40000000            0   \n",
       "8   Calorimetry           HCAL HO         30000     40000000            0   \n",
       "9   Calorimetry           HCAL HF         60000     40000000            0   \n",
       "10  Calorimetry             HGCAL       3000000     40000000            0   \n",
       "11  Calorimetry  HGCAL TPG Stage1        150000     40000000            0   \n",
       "12  Calorimetry  HGCAL TPG Stage2         50000     40000000            0   \n",
       "13         Muon           Muon DT        150000     40000000            0   \n",
       "14         Muon          Muon CSC        470000     40000000            0   \n",
       "15         Muon      Muon GEM GE1          3000     40000000            0   \n",
       "16         Muon      Muon GEM GE2          2000     40000000            0   \n",
       "17         Muon      Muon GEM ME0        120000     40000000            0   \n",
       "18         Muon          Muon RPC         10000     40000000            0   \n",
       "\n",
       "    Link Efficiency (J/bit)  Op Efficiency (J/op)  PU 200  \n",
       "0              2.220000e-11                     0   1.440  \n",
       "1              2.220000e-11                     0   0.720  \n",
       "2              2.220000e-11                     0   0.430  \n",
       "3              2.220000e-11                     0   0.010  \n",
       "4              2.220000e-11                     0   0.240  \n",
       "5              2.220000e-11                     0   0.440  \n",
       "6              2.220000e-11                     0   0.600  \n",
       "7              2.220000e-11                     0   0.240  \n",
       "8              2.220000e-11                     0   0.030  \n",
       "9              2.220000e-11                     0   0.060  \n",
       "10             2.220000e-11                     0   3.000  \n",
       "11             2.220000e-11                     0   0.150  \n",
       "12             2.220000e-11                     0   0.050  \n",
       "13             2.220000e-11                     0   0.150  \n",
       "14             2.220000e-11                     0   0.470  \n",
       "15             2.220000e-11                     0   0.003  \n",
       "16             2.220000e-11                     0   0.002  \n",
       "17             2.220000e-11                     0   0.120  \n",
       "18             2.220000e-11                     0   0.010  "
      ]
     },
     "execution_count": 4,
     "metadata": {},
     "output_type": "execute_result"
    }
   ],
   "source": [
    "run5_system.detectors"
   ]
  },
  {
   "cell_type": "code",
   "execution_count": 5,
   "metadata": {},
   "outputs": [],
   "source": [
    "#import the data predicting wall time scaling by pileup\n",
    "scaling = pd.read_excel(\"wall time scaling.xlsx\", sheet_name=\"Data\")\n",
    "#fit a polynomial to this data for CPU and GPU runtimes\n",
    "fit_poly = lambda x, k3, k2, k1: k3 * x ** 3 + k2 * x ** 2 + k1 * x\n",
    "k, cv = curve_fit(fit_poly, scaling[\"Size\"], scaling[\"Wall Time\"])\n",
    "k_gpu, cv_gpu = curve_fit(fit_poly, scaling[\"Size\"], scaling[\"Wall Time GPU\"])"
   ]
  },
  {
   "cell_type": "code",
   "execution_count": 6,
   "metadata": {},
   "outputs": [],
   "source": [
    "#define a dictionary with functions defining the scaling of trigger runtimes with incoming data\n",
    "funcs = {\"Global\": lambda x: fit_poly(x, *k), \"Intermediate\": lambda x: x / 2.0e6}\n",
    "funcs_gpu = {\"Global\": lambda x: fit_poly(x, *k_gpu), \"Intermediate\": lambda x: x / 2.0e6}"
   ]
  },
  {
   "cell_type": "code",
   "execution_count": 7,
   "metadata": {},
   "outputs": [],
   "source": [
    "#baseline_r3 = construct_graph(run3_system.detectors, run3_system.processors, run3_system.globals, funcs)"
   ]
  },
  {
   "cell_type": "code",
   "execution_count": 8,
   "metadata": {},
   "outputs": [
    {
     "data": {
      "text/plain": [
       "np.float64(2.0)"
      ]
     },
     "execution_count": 8,
     "metadata": {},
     "output_type": "execute_result"
    }
   ],
   "source": [
    "np.max([1.0, 2.0])"
   ]
  },
  {
   "cell_type": "code",
   "execution_count": 9,
   "metadata": {},
   "outputs": [
    {
     "name": "stderr",
     "output_type": "stream",
     "text": [
      "/Users/wilkie/code/system_flow/systemflow/classifier.py:202: IntegrationWarning: The maximum number of subdivisions (50) has been achieved.\n",
      "  If increasing the limit yields no improvement it is advised to analyze \n",
      "  the integrand in order to determine the difficulties.  If the position of a \n",
      "  local difficulty can be determined (singularity, discontinuity) one will \n",
      "  probably gain from splitting up the interval and calling the integrator \n",
      "  on the subranges.  Perhaps a special-purpose integrator should be used.\n",
      "  fit = lambda l: np.abs(self.egamma_rate - quad(lambda x: self.exp_dist(x, l) * interpolator(x), np.min(xs), np.max(xs))[0])\n",
      "/Users/wilkie/code/system_flow/systemflow/classifier.py:427: IntegrationWarning: The maximum number of subdivisions (50) has been achieved.\n",
      "  If increasing the limit yields no improvement it is advised to analyze \n",
      "  the integrand in order to determine the difficulties.  If the position of a \n",
      "  local difficulty can be determined (singularity, discontinuity) one will \n",
      "  probably gain from splitting up the interval and calling the integrator \n",
      "  on the subranges.  Perhaps a special-purpose integrator should be used.\n",
      "  trigger_rate = lambda l: quad(lambda x: exp_dist(x, l) * efficiency_fit(x), np.min(xs2), np.max(xs2))[0]\n"
     ]
    }
   ],
   "source": [
    "baseline = construct_graph(run5_system.detectors, run5_system.processors, run5_system.globals, funcs)"
   ]
  },
  {
   "cell_type": "code",
   "execution_count": 10,
   "metadata": {},
   "outputs": [
    {
     "data": {
      "text/plain": [
       "9e-07"
      ]
     },
     "execution_count": 10,
     "metadata": {},
     "output_type": "execute_result"
    }
   ],
   "source": [
    "baseline.nodes[\"Intermediate\"][\"routing latency\"]"
   ]
  },
  {
   "cell_type": "code",
   "execution_count": 12,
   "metadata": {},
   "outputs": [
    {
     "data": {
      "text/plain": [
       "{'type': 'processor',\n",
       " 'reduction ratio': np.float64(53.3),\n",
       " 'classifier': <systemflow.classifier.L1TClassifier at 0x121e19ed0>,\n",
       " 'data reduction': np.float64(1.0),\n",
       " 'op efficiency': np.float64(0.003),\n",
       " 'op latency': 1e-09,\n",
       " 'routing latency': 9e-07,\n",
       " 'sample data': np.int64(260000),\n",
       " 'complexity': <function __main__.<lambda>(x)>,\n",
       " 'parallelism': <function systemflow.graph.processors.<locals>.<lambda>(x)>,\n",
       " 'global ratio': np.float64(5330.0),\n",
       " 'message size': np.float64(8425000.0),\n",
       " 'ops': np.float64(4.2125),\n",
       " 'input rate': np.int64(39999999),\n",
       " 'error matrix': array([[0.98126, 0.51054],\n",
       "        [0.01874, 0.48946]]),\n",
       " 'contingency': array([[39243035,     3831],\n",
       "        [  749459,     3672]]),\n",
       " 'discards': array([39243035,     3831]),\n",
       " 'output rate': np.int64(753131),\n",
       " 'energy': np.float64(0.012637500000000001),\n",
       " 'power': np.float64(505499.98736250005)}"
      ]
     },
     "execution_count": 12,
     "metadata": {},
     "output_type": "execute_result"
    }
   ],
   "source": [
    "baseline.nodes[\"Intermediate\"]"
   ]
  },
  {
   "cell_type": "code",
   "execution_count": 18,
   "metadata": {},
   "outputs": [],
   "source": [
    "def propagate_latency(graph, node):\n",
    "    def arrival_latency(predecessors):\n",
    "        latencies = [graph.nodes[n][\"routing latency\"] for n in predecessors]\n",
    "        if len(latencies) > 0:\n",
    "            latency = np.max(latencies)\n",
    "        else:\n",
    "            latency = 0.0\n",
    "        \n",
    "        return latency\n",
    "    \n",
    "    def traverse(start):\n",
    "        up = list(graph.predecessors(start))\n",
    "        this_node = graph.nodes[start]\n",
    "        processing_latency = this_node[\"op latency\"] * this_node[\"parallelism\"](this_node[\"ops\"])\n",
    "\n",
    "        if len(up) == 0:\n",
    "            message_time = processing_latency\n",
    "        else:\n",
    "            message_time = processing_latency + arrival_latency(up) + np.max(list(map(traverse, up)))\n",
    "        this_node[\"message_time\"] = message_time\n",
    "        return message_time\n",
    "\n",
    "    traverse(node)\n",
    "    \n",
    "    return"
   ]
  },
  {
   "cell_type": "code",
   "execution_count": 19,
   "metadata": {},
   "outputs": [],
   "source": [
    "propagate_latency(baseline, \"Disk\")"
   ]
  },
  {
   "cell_type": "code",
   "execution_count": 20,
   "metadata": {},
   "outputs": [
    {
     "data": {
      "text/plain": [
       "np.float64(1.803e-06)"
      ]
     },
     "execution_count": 20,
     "metadata": {},
     "output_type": "execute_result"
    }
   ],
   "source": [
    "baseline.nodes[\"Intermediate\"][\"message_time\"]"
   ]
  },
  {
   "cell_type": "code",
   "execution_count": 21,
   "metadata": {},
   "outputs": [
    {
     "data": {
      "text/plain": [
       "np.float64(3.605e-06)"
      ]
     },
     "execution_count": 21,
     "metadata": {},
     "output_type": "execute_result"
    }
   ],
   "source": [
    "baseline.nodes[\"Disk\"][\"message_time\"]"
   ]
  },
  {
   "cell_type": "code",
   "execution_count": 11,
   "metadata": {},
   "outputs": [
    {
     "data": {
      "text/plain": [
       "np.float64(496013.5974375)"
      ]
     },
     "execution_count": 11,
     "metadata": {},
     "output_type": "execute_result"
    }
   ],
   "source": [
    "baseline.nodes[\"Intermediate\"][\"energy\"] * np.sum(baseline.nodes[\"Intermediate\"][\"discards\"])"
   ]
  },
  {
   "cell_type": "code",
   "execution_count": 12,
   "metadata": {},
   "outputs": [],
   "source": [
    "a1 = list(baseline.predecessors(\"Intermediate\"))"
   ]
  },
  {
   "cell_type": "code",
   "execution_count": 13,
   "metadata": {},
   "outputs": [
    {
     "data": {
      "text/plain": [
       "['Tracking', 'Timing', 'Calorimetry', 'Muon']"
      ]
     },
     "execution_count": 13,
     "metadata": {},
     "output_type": "execute_result"
    }
   ],
   "source": [
    "a1"
   ]
  },
  {
   "cell_type": "code",
   "execution_count": 14,
   "metadata": {},
   "outputs": [
    {
     "data": {
      "text/plain": [
       "['Global']"
      ]
     },
     "execution_count": 14,
     "metadata": {},
     "output_type": "execute_result"
    }
   ],
   "source": [
    "list(baseline.successors(\"Intermediate\"))"
   ]
  },
  {
   "cell_type": "code",
   "execution_count": 15,
   "metadata": {},
   "outputs": [
    {
     "data": {
      "text/plain": [
       "True"
      ]
     },
     "execution_count": 15,
     "metadata": {},
     "output_type": "execute_result"
    }
   ],
   "source": [
    "\"Intermediate\" in baseline.nodes.keys()"
   ]
  },
  {
   "cell_type": "code",
   "execution_count": 16,
   "metadata": {},
   "outputs": [],
   "source": [
    "\"\"\"\n",
    "Return the amount of energy expended by the system to reach the current node\n",
    "\"\"\"\n",
    "def upstream_energy(graph, node):\n",
    "    def get_energy(node):\n",
    "        if \"energy\" in node.keys():\n",
    "            return node[\"energy\"]\n",
    "        else:\n",
    "            return 0.0\n",
    "    \n",
    "    def traverse(start):\n",
    "        up = list(graph.predecessors(start))\n",
    "\n",
    "        if len(up) == 0:\n",
    "            return get_energy(graph.nodes[start])\n",
    "        else:\n",
    "            return get_energy(graph.nodes[start]) + functools.reduce(lambda x, y: x + y, map(traverse, up))\n",
    "    \n",
    "    return traverse(node)"
   ]
  },
  {
   "cell_type": "code",
   "execution_count": 17,
   "metadata": {},
   "outputs": [
    {
     "data": {
      "text/plain": [
       "np.float64(0.012637500000000001)"
      ]
     },
     "execution_count": 17,
     "metadata": {},
     "output_type": "execute_result"
    }
   ],
   "source": [
    "upstream_energy(baseline, \"Intermediate\")"
   ]
  },
  {
   "cell_type": "code",
   "execution_count": 18,
   "metadata": {},
   "outputs": [
    {
     "data": {
      "text/plain": [
       "'Disk'"
      ]
     },
     "execution_count": 18,
     "metadata": {},
     "output_type": "execute_result"
    }
   ],
   "source": [
    "baseline.graph[\"Root Node\"]"
   ]
  },
  {
   "cell_type": "code",
   "execution_count": 19,
   "metadata": {},
   "outputs": [
    {
     "data": {
      "text/plain": [
       "NodeView(('Inner Tracker', 'Outer Tracker PS', 'Outer Tracker 2S', 'Track Finder TPG', 'MIP Timing BTL', 'MIP Timing ETL', 'ECAL Barrel', 'HCAL Barrel', 'HCAL HO', 'HCAL HF', 'HGCAL', 'HGCAL TPG Stage1', 'HGCAL TPG Stage2', 'Muon DT', 'Muon CSC', 'Muon GEM GE1', 'Muon GEM GE2', 'Muon GEM ME0', 'Muon RPC', 'Tracking', 'Timing', 'Calorimetry', 'Muon', 'Intermediate', 'Global', 'Disk'))"
      ]
     },
     "execution_count": 19,
     "metadata": {},
     "output_type": "execute_result"
    }
   ],
   "source": [
    "baseline.nodes"
   ]
  },
  {
   "cell_type": "code",
   "execution_count": 20,
   "metadata": {},
   "outputs": [
    {
     "data": {
      "text/plain": [
       "np.float64(446.05484938484136)"
      ]
     },
     "execution_count": 20,
     "metadata": {},
     "output_type": "execute_result"
    }
   ],
   "source": [
    "upstream_energy(baseline, \"Disk\")"
   ]
  },
  {
   "cell_type": "code",
   "execution_count": 21,
   "metadata": {},
   "outputs": [
    {
     "data": {
      "text/plain": [
       "np.float64(5330.0)"
      ]
     },
     "execution_count": 21,
     "metadata": {},
     "output_type": "execute_result"
    }
   ],
   "source": [
    "baseline.nodes[\"Inner Tracker\"][\"global ratio\"]"
   ]
  },
  {
   "cell_type": "code",
   "execution_count": 22,
   "metadata": {},
   "outputs": [
    {
     "data": {
      "text/plain": [
       "99.19058295964128"
      ]
     },
     "execution_count": 22,
     "metadata": {},
     "output_type": "execute_result"
    }
   ],
   "source": [
    "(5330 * 8.3) / 446"
   ]
  },
  {
   "cell_type": "code",
   "execution_count": 23,
   "metadata": {},
   "outputs": [
    {
     "data": {
      "text/plain": [
       "44239.00000000001"
      ]
     },
     "execution_count": 23,
     "metadata": {},
     "output_type": "execute_result"
    }
   ],
   "source": [
    "5330 * 8.3"
   ]
  },
  {
   "cell_type": "code",
   "execution_count": null,
   "metadata": {},
   "outputs": [],
   "source": []
  },
  {
   "cell_type": "code",
   "execution_count": 24,
   "metadata": {},
   "outputs": [
    {
     "data": {
      "text/plain": [
       "array([742442,    694])"
      ]
     },
     "execution_count": 24,
     "metadata": {},
     "output_type": "execute_result"
    }
   ],
   "source": [
    "baseline.nodes[\"Global\"][\"discards\"]"
   ]
  },
  {
   "cell_type": "code",
   "execution_count": 25,
   "metadata": {},
   "outputs": [
    {
     "data": {
      "text/plain": [
       "np.float64(9486.364650000001)"
      ]
     },
     "execution_count": 25,
     "metadata": {},
     "output_type": "execute_result"
    }
   ],
   "source": [
    "baseline.nodes[\"Intermediate\"][\"energy\"] * baseline.nodes[\"Intermediate\"][\"output rate\"]"
   ]
  },
  {
   "cell_type": "code",
   "execution_count": 27,
   "metadata": {},
   "outputs": [
    {
     "name": "stderr",
     "output_type": "stream",
     "text": [
      "/Users/wilkie/code/system_flow/systemflow/classifier.py:202: IntegrationWarning: The maximum number of subdivisions (50) has been achieved.\n",
      "  If increasing the limit yields no improvement it is advised to analyze \n",
      "  the integrand in order to determine the difficulties.  If the position of a \n",
      "  local difficulty can be determined (singularity, discontinuity) one will \n",
      "  probably gain from splitting up the interval and calling the integrator \n",
      "  on the subranges.  Perhaps a special-purpose integrator should be used.\n",
      "  fit = lambda l: np.abs(self.egamma_rate - quad(lambda x: self.exp_dist(x, l) * interpolator(x), np.min(xs), np.max(xs))[0])\n",
      "/Users/wilkie/code/system_flow/systemflow/classifier.py:427: IntegrationWarning: The maximum number of subdivisions (50) has been achieved.\n",
      "  If increasing the limit yields no improvement it is advised to analyze \n",
      "  the integrand in order to determine the difficulties.  If the position of a \n",
      "  local difficulty can be determined (singularity, discontinuity) one will \n",
      "  probably gain from splitting up the interval and calling the integrator \n",
      "  on the subranges.  Perhaps a special-purpose integrator should be used.\n",
      "  trigger_rate = lambda l: quad(lambda x: exp_dist(x, l) * efficiency_fit(x), np.min(xs2), np.max(xs2))[0]\n"
     ]
    }
   ],
   "source": [
    "gpu = construct_graph(run5_system.detectors, run5_system.processors, run5_system.globals, funcs_gpu)"
   ]
  },
  {
   "cell_type": "code",
   "execution_count": 28,
   "metadata": {},
   "outputs": [
    {
     "data": {
      "text/plain": [
       "{'type': 'storage',\n",
       " 'reduction ratio': np.float64(1.0),\n",
       " 'classifier': <systemflow.classifier.DummyClassifier at 0x11b89ee60>,\n",
       " 'data reduction': np.float64(1.0),\n",
       " 'op efficiency': np.float64(0.0),\n",
       " 'sample data': np.int64(0),\n",
       " 'complexity': <function systemflow.graph.processors.<locals>.<lambda>(x)>,\n",
       " 'global ratio': np.float64(1.0),\n",
       " 'message size': np.float64(8425000.0),\n",
       " 'ops': np.float64(8425000.0),\n",
       " 'input rate': np.int64(7485),\n",
       " 'error matrix': array([[0., 0.],\n",
       "        [1., 1.]]),\n",
       " 'contingency': array([[   0,    0],\n",
       "        [4542, 2943]]),\n",
       " 'discards': array([0, 0]),\n",
       " 'output rate': np.int64(7485),\n",
       " 'energy': np.float64(0.0),\n",
       " 'power': np.float64(0.0)}"
      ]
     },
     "execution_count": 28,
     "metadata": {},
     "output_type": "execute_result"
    }
   ],
   "source": [
    "gpu.nodes[\"Disk\"]"
   ]
  },
  {
   "cell_type": "code",
   "execution_count": 29,
   "metadata": {},
   "outputs": [],
   "source": [
    "baseline_2 = deepcopy(baseline)\n",
    "baseline_2.nodes[\"Intermediate\"][\"reduction ratio\"] = 400\n",
    "baseline_2 = update_throughput(baseline_2)\n"
   ]
  },
  {
   "cell_type": "code",
   "execution_count": 30,
   "metadata": {},
   "outputs": [],
   "source": [
    "l1t = deepcopy(baseline)\n",
    "l1t.nodes[\"Intermediate\"][\"classifier\"].skill_boost = 0.40\n",
    "l1t = update_throughput(l1t)"
   ]
  },
  {
   "cell_type": "code",
   "execution_count": 31,
   "metadata": {},
   "outputs": [],
   "source": [
    "smpx = deepcopy(baseline)\n",
    "smpx.nodes[\"Inner Tracker\"][\"sample data\"] *= (1 - 0.54)\n",
    "smpx = update_throughput(smpx)"
   ]
  },
  {
   "cell_type": "code",
   "execution_count": 32,
   "metadata": {},
   "outputs": [],
   "source": [
    "gpu_smpx = deepcopy(gpu)\n",
    "gpu_smpx.nodes[\"Inner Tracker\"][\"sample data\"] *= (1 - 0.54)\n",
    "gpu_smpx = update_throughput(gpu_smpx)"
   ]
  },
  {
   "cell_type": "code",
   "execution_count": 33,
   "metadata": {},
   "outputs": [],
   "source": [
    "gpu_l1t = deepcopy(gpu)\n",
    "gpu_l1t.nodes[\"Intermediate\"][\"classifier\"].skill_boost = 0.40\n",
    "gpu_l1t = update_throughput(gpu_l1t)"
   ]
  },
  {
   "cell_type": "code",
   "execution_count": 34,
   "metadata": {},
   "outputs": [],
   "source": [
    "smpx_l1t = deepcopy(baseline)\n",
    "smpx_l1t.nodes[\"Inner Tracker\"][\"sample data\"] *= (1 - 0.54)\n",
    "smpx_l1t.nodes[\"Intermediate\"][\"classifier\"].skill_boost = 0.40\n",
    "smpx_l1t = update_throughput(smpx_l1t)"
   ]
  },
  {
   "cell_type": "code",
   "execution_count": 35,
   "metadata": {},
   "outputs": [],
   "source": [
    "gpu_smpx_l1t = deepcopy(gpu)\n",
    "gpu_smpx_l1t.nodes[\"Intermediate\"][\"classifier\"].skill_boost = 0.40\n",
    "gpu_smpx_l1t.nodes[\"Inner Tracker\"][\"sample data\"] *= (1 - 0.54)\n",
    "gpu_smpx_l1t = update_throughput(gpu_smpx_l1t)"
   ]
  },
  {
   "cell_type": "code",
   "execution_count": 36,
   "metadata": {},
   "outputs": [
    {
     "data": {
      "text/plain": [
       "np.int64(7502)"
      ]
     },
     "execution_count": 36,
     "metadata": {},
     "output_type": "execute_result"
    }
   ],
   "source": [
    "np.sum(gpu.graph[\"performance\"][:,1])"
   ]
  },
  {
   "cell_type": "code",
   "execution_count": 37,
   "metadata": {},
   "outputs": [
    {
     "data": {
      "text/plain": [
       "{'type': 'processor',\n",
       " 'reduction ratio': np.float64(53.3),\n",
       " 'classifier': <systemflow.classifier.L1TClassifier at 0x11b7a0100>,\n",
       " 'data reduction': np.float64(1.0),\n",
       " 'op efficiency': np.float64(0.003),\n",
       " 'sample data': np.int64(260000),\n",
       " 'complexity': <function __main__.<lambda>(x)>,\n",
       " 'global ratio': np.float64(5330.0),\n",
       " 'message size': np.float64(8425000.0),\n",
       " 'ops': np.float64(4.2125),\n",
       " 'input rate': np.int64(39999999),\n",
       " 'error matrix': array([[0.98132, 0.51684],\n",
       "        [0.01868, 0.48316]]),\n",
       " 'contingency': array([[39245435,     3878],\n",
       "        [  747059,     3625]]),\n",
       " 'discards': array([39245435,     3878]),\n",
       " 'output rate': np.int64(750684),\n",
       " 'energy': np.float64(0.012637500000000001),\n",
       " 'power': np.float64(505499.98736250005)}"
      ]
     },
     "execution_count": 37,
     "metadata": {},
     "output_type": "execute_result"
    }
   ],
   "source": [
    "gpu.nodes[\"Intermediate\"]"
   ]
  },
  {
   "cell_type": "code",
   "execution_count": 38,
   "metadata": {},
   "outputs": [
    {
     "data": {
      "text/plain": [
       "True"
      ]
     },
     "execution_count": 38,
     "metadata": {},
     "output_type": "execute_result"
    }
   ],
   "source": [
    "has_classifier(gpu.nodes[\"Intermediate\"])"
   ]
  },
  {
   "cell_type": "code",
   "execution_count": 39,
   "metadata": {},
   "outputs": [],
   "source": [
    "ac = active_classifiers(gpu)"
   ]
  },
  {
   "cell_type": "code",
   "execution_count": 40,
   "metadata": {},
   "outputs": [
    {
     "data": {
      "text/plain": [
       "[True, False]"
      ]
     },
     "execution_count": 40,
     "metadata": {},
     "output_type": "execute_result"
    }
   ],
   "source": [
    "[downstream_classifier(gpu, c) for c in ac]"
   ]
  },
  {
   "cell_type": "code",
   "execution_count": 41,
   "metadata": {},
   "outputs": [
    {
     "data": {
      "text/plain": [
       "array([[39245435,     3878],\n",
       "       [  747059,     3625]])"
      ]
     },
     "execution_count": 41,
     "metadata": {},
     "output_type": "execute_result"
    }
   ],
   "source": [
    "gpu.nodes[\"Intermediate\"][\"contingency\"]"
   ]
  },
  {
   "cell_type": "code",
   "execution_count": 42,
   "metadata": {},
   "outputs": [
    {
     "data": {
      "text/plain": [
       "array([[742516,    681],\n",
       "       [  4542,   2943]])"
      ]
     },
     "execution_count": 42,
     "metadata": {},
     "output_type": "execute_result"
    }
   ],
   "source": [
    "gpu.nodes[\"Global\"][\"contingency\"]"
   ]
  },
  {
   "cell_type": "code",
   "execution_count": 43,
   "metadata": {},
   "outputs": [
    {
     "data": {
      "text/plain": [
       "array([[39987951,     4559],\n",
       "       [    4542,     2943]])"
      ]
     },
     "execution_count": 43,
     "metadata": {},
     "output_type": "execute_result"
    }
   ],
   "source": [
    "pipeline_contingency(gpu)"
   ]
  },
  {
   "cell_type": "code",
   "execution_count": 44,
   "metadata": {},
   "outputs": [
    {
     "data": {
      "text/plain": [
       "np.float64(0.004828929349766346)"
      ]
     },
     "execution_count": 44,
     "metadata": {},
     "output_type": "execute_result"
    }
   ],
   "source": [
    "precision(gpu.nodes[\"Intermediate\"][\"contingency\"])"
   ]
  },
  {
   "cell_type": "code",
   "execution_count": 45,
   "metadata": {},
   "outputs": [
    {
     "data": {
      "text/plain": [
       "np.float64(0.4831400773024124)"
      ]
     },
     "execution_count": 45,
     "metadata": {},
     "output_type": "execute_result"
    }
   ],
   "source": [
    "recall(gpu.nodes[\"Intermediate\"][\"contingency\"])"
   ]
  },
  {
   "cell_type": "code",
   "execution_count": 46,
   "metadata": {},
   "outputs": [
    {
     "data": {
      "text/plain": [
       "{'globals':    Year\n",
       " 0  2032,\n",
       " 'Root Node': 'Disk',\n",
       " 'link power': np.float64(124601.67313200001),\n",
       " 'op power': np.float64(167923874.64119467),\n",
       " 'performance': array([[39987951,     4559],\n",
       "        [    4542,     2943]])}"
      ]
     },
     "execution_count": 46,
     "metadata": {},
     "output_type": "execute_result"
    }
   ],
   "source": [
    "gpu.graph"
   ]
  },
  {
   "cell_type": "code",
   "execution_count": 47,
   "metadata": {},
   "outputs": [],
   "source": [
    "def extract_results(graph):\n",
    "    power = (graph.graph[\"op power\"] + graph.graph[\"link power\"]) / density_scale_model(2032)\n",
    "    confusion = graph.graph[\"performance\"]\n",
    "    acc = precision(confusion)\n",
    "    rec = recall(confusion)\n",
    "    f1 = f1_score(confusion)\n",
    "    prod = f1 * np.sum(get_passed(confusion)) / power\n",
    "\n",
    "\n",
    "    return power, acc, rec, f1, prod"
   ]
  },
  {
   "cell_type": "code",
   "execution_count": 48,
   "metadata": {},
   "outputs": [],
   "source": [
    "conditions = [baseline_r3, baseline_2, baseline]"
   ]
  },
  {
   "cell_type": "code",
   "execution_count": 49,
   "metadata": {},
   "outputs": [],
   "source": [
    "pileup = np.array([60, 200, 200])[:,np.newaxis]\n",
    "rejection = np.array([400, 400, 53])[:,np.newaxis]"
   ]
  },
  {
   "cell_type": "code",
   "execution_count": 50,
   "metadata": {},
   "outputs": [
    {
     "data": {
      "text/plain": [
       "(3, 1)"
      ]
     },
     "execution_count": 50,
     "metadata": {},
     "output_type": "execute_result"
    }
   ],
   "source": [
    "pileup.shape"
   ]
  },
  {
   "cell_type": "code",
   "execution_count": 51,
   "metadata": {},
   "outputs": [],
   "source": [
    "cond_results = np.stack([extract_results(g) for g in conditions])"
   ]
  },
  {
   "cell_type": "code",
   "execution_count": 52,
   "metadata": {},
   "outputs": [],
   "source": [
    "cond_results = np.concatenate((pileup, rejection, cond_results), axis=1)"
   ]
  },
  {
   "cell_type": "code",
   "execution_count": 53,
   "metadata": {},
   "outputs": [],
   "source": [
    "df2 = pd.DataFrame(cond_results, columns = [\"Pileup\", \"L1T Reduction Ratio\", \"Power (W)\", \"Accuracy (%)\", \"Recall (%)\", \"F1 Score (%)\", \"Productivity (Relevant Samples/J)\"])"
   ]
  },
  {
   "cell_type": "code",
   "execution_count": 54,
   "metadata": {},
   "outputs": [
    {
     "data": {
      "text/html": [
       "<div>\n",
       "<style scoped>\n",
       "    .dataframe tbody tr th:only-of-type {\n",
       "        vertical-align: middle;\n",
       "    }\n",
       "\n",
       "    .dataframe tbody tr th {\n",
       "        vertical-align: top;\n",
       "    }\n",
       "\n",
       "    .dataframe thead th {\n",
       "        text-align: right;\n",
       "    }\n",
       "</style>\n",
       "<table border=\"1\" class=\"dataframe\">\n",
       "  <thead>\n",
       "    <tr style=\"text-align: right;\">\n",
       "      <th></th>\n",
       "      <th>Pileup</th>\n",
       "      <th>L1T Reduction Ratio</th>\n",
       "      <th>Power (W)</th>\n",
       "      <th>Accuracy (%)</th>\n",
       "      <th>Recall (%)</th>\n",
       "      <th>F1 Score (%)</th>\n",
       "      <th>Productivity (Relevant Samples/J)</th>\n",
       "    </tr>\n",
       "  </thead>\n",
       "  <tbody>\n",
       "    <tr>\n",
       "      <th>0</th>\n",
       "      <td>60.0</td>\n",
       "      <td>400.0</td>\n",
       "      <td>3.223481e+05</td>\n",
       "      <td>0.224346</td>\n",
       "      <td>0.223447</td>\n",
       "      <td>0.223896</td>\n",
       "      <td>0.000690</td>\n",
       "    </tr>\n",
       "    <tr>\n",
       "      <th>1</th>\n",
       "      <td>200.0</td>\n",
       "      <td>400.0</td>\n",
       "      <td>6.978288e+06</td>\n",
       "      <td>0.223330</td>\n",
       "      <td>0.224449</td>\n",
       "      <td>0.223888</td>\n",
       "      <td>0.000032</td>\n",
       "    </tr>\n",
       "    <tr>\n",
       "      <th>2</th>\n",
       "      <td>200.0</td>\n",
       "      <td>53.0</td>\n",
       "      <td>5.161150e+07</td>\n",
       "      <td>0.385680</td>\n",
       "      <td>0.386297</td>\n",
       "      <td>0.385988</td>\n",
       "      <td>0.000056</td>\n",
       "    </tr>\n",
       "  </tbody>\n",
       "</table>\n",
       "</div>"
      ],
      "text/plain": [
       "   Pileup  L1T Reduction Ratio     Power (W)  Accuracy (%)  Recall (%)  \\\n",
       "0    60.0                400.0  3.223481e+05      0.224346    0.223447   \n",
       "1   200.0                400.0  6.978288e+06      0.223330    0.224449   \n",
       "2   200.0                 53.0  5.161150e+07      0.385680    0.386297   \n",
       "\n",
       "   F1 Score (%)  Productivity (Relevant Samples/J)  \n",
       "0      0.223896                           0.000690  \n",
       "1      0.223888                           0.000032  \n",
       "2      0.385988                           0.000056  "
      ]
     },
     "execution_count": 54,
     "metadata": {},
     "output_type": "execute_result"
    }
   ],
   "source": [
    "df2"
   ]
  },
  {
   "cell_type": "code",
   "execution_count": 55,
   "metadata": {},
   "outputs": [
    {
     "data": {
      "text/plain": [
       "np.float64(0.03217977057509017)"
      ]
     },
     "execution_count": 55,
     "metadata": {},
     "output_type": "execute_result"
    }
   ],
   "source": [
    "extract_results(baseline_2)[-1] * 1000"
   ]
  },
  {
   "cell_type": "code",
   "execution_count": 56,
   "metadata": {},
   "outputs": [
    {
     "data": {
      "text/plain": [
       "np.float64(0.05619514953090941)"
      ]
     },
     "execution_count": 56,
     "metadata": {},
     "output_type": "execute_result"
    }
   ],
   "source": [
    "extract_results(baseline)[-1] * 1000"
   ]
  },
  {
   "cell_type": "code",
   "execution_count": 57,
   "metadata": {},
   "outputs": [
    {
     "data": {
      "text/plain": [
       "np.float64(0.6904096578525566)"
      ]
     },
     "execution_count": 57,
     "metadata": {},
     "output_type": "execute_result"
    }
   ],
   "source": [
    "extract_results(baseline_r3)[-1] * 1000"
   ]
  },
  {
   "cell_type": "code",
   "execution_count": 58,
   "metadata": {},
   "outputs": [
    {
     "data": {
      "text/plain": [
       "np.float64(0.03217977057509017)"
      ]
     },
     "execution_count": 58,
     "metadata": {},
     "output_type": "execute_result"
    }
   ],
   "source": [
    "extract_results(baseline_2)[-1] * 1000"
   ]
  },
  {
   "cell_type": "code",
   "execution_count": 59,
   "metadata": {},
   "outputs": [
    {
     "data": {
      "text/plain": [
       "np.float64(0.05619514953090941)"
      ]
     },
     "execution_count": 59,
     "metadata": {},
     "output_type": "execute_result"
    }
   ],
   "source": [
    "extract_results(baseline)[-1] * 1000"
   ]
  },
  {
   "cell_type": "code",
   "execution_count": 60,
   "metadata": {},
   "outputs": [],
   "source": [
    "all_graphs = [baseline_r3, baseline, gpu, l1t, smpx, gpu_l1t, smpx_l1t, gpu_smpx, gpu_smpx_l1t]"
   ]
  },
  {
   "cell_type": "code",
   "execution_count": 61,
   "metadata": {},
   "outputs": [],
   "source": [
    "pileup = np.array([[60, 200, 200, 200, 200, 200, 200, 200, 200,],])\n",
    "rejection = np.array([[400, 53, 53, 53, 53, 53, 53, 53, 53],])\n",
    "has_gpu = [False, False, True, False, False, True, False, True, True]\n",
    "has_smpx = [False, False, False, False, True, False, True, True, True]\n",
    "has_l1t = [False, False, False, True, False, True, True, False, True]"
   ]
  },
  {
   "cell_type": "code",
   "execution_count": 62,
   "metadata": {},
   "outputs": [],
   "source": [
    "results = np.stack([extract_results(g) for g in all_graphs])"
   ]
  },
  {
   "cell_type": "code",
   "execution_count": 63,
   "metadata": {},
   "outputs": [
    {
     "data": {
      "text/plain": [
       "array([[3.22348053e+05, 2.24346076e-01, 2.23446894e-01, 2.23895582e-01,\n",
       "        6.90409658e-04],\n",
       "       [5.16114995e+07, 3.85680064e-01, 3.86296987e-01, 3.85988279e-01,\n",
       "        5.61951495e-05],\n",
       "       [2.58553201e+07, 3.93186373e-01, 3.92295388e-01, 3.92740375e-01,\n",
       "        1.13696589e-04],\n",
       "       [5.16508912e+07, 7.94995316e-01, 7.91922154e-01, 7.93455760e-01,\n",
       "        1.14799469e-04],\n",
       "       [4.08443906e+07, 3.85680064e-01, 3.86296987e-01, 3.85988279e-01,\n",
       "        7.10089166e-05],\n",
       "       [2.58743294e+07, 1.00000000e+00, 7.98053852e-01, 8.87686263e-01,\n",
       "        2.05399629e-04],\n",
       "       [4.08755559e+07, 7.94995316e-01, 7.91922154e-01, 7.93455760e-01,\n",
       "        1.45062122e-04],\n",
       "       [2.04670348e+07, 3.93186373e-01, 3.92295388e-01, 3.92740375e-01,\n",
       "        1.43629096e-04],\n",
       "       [2.04820742e+07, 1.00000000e+00, 7.98053852e-01, 8.87686263e-01,\n",
       "        2.59474583e-04]])"
      ]
     },
     "execution_count": 63,
     "metadata": {},
     "output_type": "execute_result"
    }
   ],
   "source": [
    "results"
   ]
  },
  {
   "cell_type": "code",
   "execution_count": 64,
   "metadata": {},
   "outputs": [
    {
     "data": {
      "text/plain": [
       "(1, 9)"
      ]
     },
     "execution_count": 64,
     "metadata": {},
     "output_type": "execute_result"
    }
   ],
   "source": [
    "pileup.shape"
   ]
  },
  {
   "cell_type": "code",
   "execution_count": 65,
   "metadata": {},
   "outputs": [
    {
     "data": {
      "text/plain": [
       "(1, 9)"
      ]
     },
     "execution_count": 65,
     "metadata": {},
     "output_type": "execute_result"
    }
   ],
   "source": [
    "rejection.shape"
   ]
  },
  {
   "cell_type": "code",
   "execution_count": 66,
   "metadata": {},
   "outputs": [],
   "source": [
    "results = np.concatenate((pileup, rejection, np.transpose(results)), axis=0)"
   ]
  },
  {
   "cell_type": "code",
   "execution_count": 67,
   "metadata": {},
   "outputs": [
    {
     "data": {
      "text/plain": [
       "array([[6.00000000e+01, 2.00000000e+02, 2.00000000e+02, 2.00000000e+02,\n",
       "        2.00000000e+02, 2.00000000e+02, 2.00000000e+02, 2.00000000e+02,\n",
       "        2.00000000e+02],\n",
       "       [4.00000000e+02, 5.30000000e+01, 5.30000000e+01, 5.30000000e+01,\n",
       "        5.30000000e+01, 5.30000000e+01, 5.30000000e+01, 5.30000000e+01,\n",
       "        5.30000000e+01],\n",
       "       [3.22348053e+05, 5.16114995e+07, 2.58553201e+07, 5.16508912e+07,\n",
       "        4.08443906e+07, 2.58743294e+07, 4.08755559e+07, 2.04670348e+07,\n",
       "        2.04820742e+07],\n",
       "       [2.24346076e-01, 3.85680064e-01, 3.93186373e-01, 7.94995316e-01,\n",
       "        3.85680064e-01, 1.00000000e+00, 7.94995316e-01, 3.93186373e-01,\n",
       "        1.00000000e+00],\n",
       "       [2.23446894e-01, 3.86296987e-01, 3.92295388e-01, 7.91922154e-01,\n",
       "        3.86296987e-01, 7.98053852e-01, 7.91922154e-01, 3.92295388e-01,\n",
       "        7.98053852e-01],\n",
       "       [2.23895582e-01, 3.85988279e-01, 3.92740375e-01, 7.93455760e-01,\n",
       "        3.85988279e-01, 8.87686263e-01, 7.93455760e-01, 3.92740375e-01,\n",
       "        8.87686263e-01],\n",
       "       [6.90409658e-04, 5.61951495e-05, 1.13696589e-04, 1.14799469e-04,\n",
       "        7.10089166e-05, 2.05399629e-04, 1.45062122e-04, 1.43629096e-04,\n",
       "        2.59474583e-04]])"
      ]
     },
     "execution_count": 67,
     "metadata": {},
     "output_type": "execute_result"
    }
   ],
   "source": [
    "results"
   ]
  },
  {
   "cell_type": "code",
   "execution_count": 68,
   "metadata": {},
   "outputs": [],
   "source": [
    "df = pd.DataFrame(results.transpose(), columns = [\"Pileup\", \"L1T Reduction Ratio\", \"Power (W)\", \"Accuracy (%)\", \"Recall (%)\", \"F1 Score (%)\", \"Productivity (Relevant Samples/J)\"])"
   ]
  },
  {
   "cell_type": "code",
   "execution_count": 69,
   "metadata": {},
   "outputs": [],
   "source": [
    "df[\"GPU HLT\"] = has_gpu\n",
    "df[\"L1T Tracking\"] = has_l1t\n",
    "df[\"Smart Sensors\"] = has_smpx"
   ]
  },
  {
   "cell_type": "code",
   "execution_count": 70,
   "metadata": {},
   "outputs": [
    {
     "data": {
      "text/html": [
       "<div>\n",
       "<style scoped>\n",
       "    .dataframe tbody tr th:only-of-type {\n",
       "        vertical-align: middle;\n",
       "    }\n",
       "\n",
       "    .dataframe tbody tr th {\n",
       "        vertical-align: top;\n",
       "    }\n",
       "\n",
       "    .dataframe thead th {\n",
       "        text-align: right;\n",
       "    }\n",
       "</style>\n",
       "<table border=\"1\" class=\"dataframe\">\n",
       "  <thead>\n",
       "    <tr style=\"text-align: right;\">\n",
       "      <th></th>\n",
       "      <th>Pileup</th>\n",
       "      <th>L1T Reduction Ratio</th>\n",
       "      <th>Power (W)</th>\n",
       "      <th>Accuracy (%)</th>\n",
       "      <th>Recall (%)</th>\n",
       "      <th>F1 Score (%)</th>\n",
       "      <th>Productivity (Relevant Samples/J)</th>\n",
       "      <th>GPU HLT</th>\n",
       "      <th>L1T Tracking</th>\n",
       "      <th>Smart Sensors</th>\n",
       "    </tr>\n",
       "  </thead>\n",
       "  <tbody>\n",
       "    <tr>\n",
       "      <th>0</th>\n",
       "      <td>60.0</td>\n",
       "      <td>400.0</td>\n",
       "      <td>3.223481e+05</td>\n",
       "      <td>0.224346</td>\n",
       "      <td>0.223447</td>\n",
       "      <td>0.223896</td>\n",
       "      <td>0.000690</td>\n",
       "      <td>False</td>\n",
       "      <td>False</td>\n",
       "      <td>False</td>\n",
       "    </tr>\n",
       "    <tr>\n",
       "      <th>1</th>\n",
       "      <td>200.0</td>\n",
       "      <td>53.0</td>\n",
       "      <td>5.161150e+07</td>\n",
       "      <td>0.385680</td>\n",
       "      <td>0.386297</td>\n",
       "      <td>0.385988</td>\n",
       "      <td>0.000056</td>\n",
       "      <td>False</td>\n",
       "      <td>False</td>\n",
       "      <td>False</td>\n",
       "    </tr>\n",
       "    <tr>\n",
       "      <th>2</th>\n",
       "      <td>200.0</td>\n",
       "      <td>53.0</td>\n",
       "      <td>2.585532e+07</td>\n",
       "      <td>0.393186</td>\n",
       "      <td>0.392295</td>\n",
       "      <td>0.392740</td>\n",
       "      <td>0.000114</td>\n",
       "      <td>True</td>\n",
       "      <td>False</td>\n",
       "      <td>False</td>\n",
       "    </tr>\n",
       "    <tr>\n",
       "      <th>3</th>\n",
       "      <td>200.0</td>\n",
       "      <td>53.0</td>\n",
       "      <td>5.165089e+07</td>\n",
       "      <td>0.794995</td>\n",
       "      <td>0.791922</td>\n",
       "      <td>0.793456</td>\n",
       "      <td>0.000115</td>\n",
       "      <td>False</td>\n",
       "      <td>True</td>\n",
       "      <td>False</td>\n",
       "    </tr>\n",
       "    <tr>\n",
       "      <th>4</th>\n",
       "      <td>200.0</td>\n",
       "      <td>53.0</td>\n",
       "      <td>4.084439e+07</td>\n",
       "      <td>0.385680</td>\n",
       "      <td>0.386297</td>\n",
       "      <td>0.385988</td>\n",
       "      <td>0.000071</td>\n",
       "      <td>False</td>\n",
       "      <td>False</td>\n",
       "      <td>True</td>\n",
       "    </tr>\n",
       "    <tr>\n",
       "      <th>5</th>\n",
       "      <td>200.0</td>\n",
       "      <td>53.0</td>\n",
       "      <td>2.587433e+07</td>\n",
       "      <td>1.000000</td>\n",
       "      <td>0.798054</td>\n",
       "      <td>0.887686</td>\n",
       "      <td>0.000205</td>\n",
       "      <td>True</td>\n",
       "      <td>True</td>\n",
       "      <td>False</td>\n",
       "    </tr>\n",
       "    <tr>\n",
       "      <th>6</th>\n",
       "      <td>200.0</td>\n",
       "      <td>53.0</td>\n",
       "      <td>4.087556e+07</td>\n",
       "      <td>0.794995</td>\n",
       "      <td>0.791922</td>\n",
       "      <td>0.793456</td>\n",
       "      <td>0.000145</td>\n",
       "      <td>False</td>\n",
       "      <td>True</td>\n",
       "      <td>True</td>\n",
       "    </tr>\n",
       "    <tr>\n",
       "      <th>7</th>\n",
       "      <td>200.0</td>\n",
       "      <td>53.0</td>\n",
       "      <td>2.046703e+07</td>\n",
       "      <td>0.393186</td>\n",
       "      <td>0.392295</td>\n",
       "      <td>0.392740</td>\n",
       "      <td>0.000144</td>\n",
       "      <td>True</td>\n",
       "      <td>False</td>\n",
       "      <td>True</td>\n",
       "    </tr>\n",
       "    <tr>\n",
       "      <th>8</th>\n",
       "      <td>200.0</td>\n",
       "      <td>53.0</td>\n",
       "      <td>2.048207e+07</td>\n",
       "      <td>1.000000</td>\n",
       "      <td>0.798054</td>\n",
       "      <td>0.887686</td>\n",
       "      <td>0.000259</td>\n",
       "      <td>True</td>\n",
       "      <td>True</td>\n",
       "      <td>True</td>\n",
       "    </tr>\n",
       "  </tbody>\n",
       "</table>\n",
       "</div>"
      ],
      "text/plain": [
       "   Pileup  L1T Reduction Ratio     Power (W)  Accuracy (%)  Recall (%)  \\\n",
       "0    60.0                400.0  3.223481e+05      0.224346    0.223447   \n",
       "1   200.0                 53.0  5.161150e+07      0.385680    0.386297   \n",
       "2   200.0                 53.0  2.585532e+07      0.393186    0.392295   \n",
       "3   200.0                 53.0  5.165089e+07      0.794995    0.791922   \n",
       "4   200.0                 53.0  4.084439e+07      0.385680    0.386297   \n",
       "5   200.0                 53.0  2.587433e+07      1.000000    0.798054   \n",
       "6   200.0                 53.0  4.087556e+07      0.794995    0.791922   \n",
       "7   200.0                 53.0  2.046703e+07      0.393186    0.392295   \n",
       "8   200.0                 53.0  2.048207e+07      1.000000    0.798054   \n",
       "\n",
       "   F1 Score (%)  Productivity (Relevant Samples/J)  GPU HLT  L1T Tracking  \\\n",
       "0      0.223896                           0.000690    False         False   \n",
       "1      0.385988                           0.000056    False         False   \n",
       "2      0.392740                           0.000114     True         False   \n",
       "3      0.793456                           0.000115    False          True   \n",
       "4      0.385988                           0.000071    False         False   \n",
       "5      0.887686                           0.000205     True          True   \n",
       "6      0.793456                           0.000145    False          True   \n",
       "7      0.392740                           0.000144     True         False   \n",
       "8      0.887686                           0.000259     True          True   \n",
       "\n",
       "   Smart Sensors  \n",
       "0          False  \n",
       "1          False  \n",
       "2          False  \n",
       "3          False  \n",
       "4           True  \n",
       "5          False  \n",
       "6           True  \n",
       "7           True  \n",
       "8           True  "
      ]
     },
     "execution_count": 70,
     "metadata": {},
     "output_type": "execute_result"
    }
   ],
   "source": [
    "df"
   ]
  },
  {
   "cell_type": "code",
   "execution_count": 71,
   "metadata": {},
   "outputs": [
    {
     "data": {
      "text/html": [
       "<div>\n",
       "<style scoped>\n",
       "    .dataframe tbody tr th:only-of-type {\n",
       "        vertical-align: middle;\n",
       "    }\n",
       "\n",
       "    .dataframe tbody tr th {\n",
       "        vertical-align: top;\n",
       "    }\n",
       "\n",
       "    .dataframe thead th {\n",
       "        text-align: right;\n",
       "    }\n",
       "</style>\n",
       "<table border=\"1\" class=\"dataframe\">\n",
       "  <thead>\n",
       "    <tr style=\"text-align: right;\">\n",
       "      <th></th>\n",
       "      <th>Pileup</th>\n",
       "      <th>L1T Reduction Ratio</th>\n",
       "      <th>Power (W)</th>\n",
       "      <th>Accuracy (%)</th>\n",
       "      <th>Recall (%)</th>\n",
       "      <th>F1 Score (%)</th>\n",
       "      <th>Productivity (Relevant Samples/J)</th>\n",
       "      <th>GPU HLT</th>\n",
       "      <th>L1T Tracking</th>\n",
       "      <th>Smart Sensors</th>\n",
       "    </tr>\n",
       "  </thead>\n",
       "  <tbody>\n",
       "    <tr>\n",
       "      <th>1</th>\n",
       "      <td>200.0</td>\n",
       "      <td>53.0</td>\n",
       "      <td>5.161150e+07</td>\n",
       "      <td>0.385680</td>\n",
       "      <td>0.386297</td>\n",
       "      <td>0.385988</td>\n",
       "      <td>0.000056</td>\n",
       "      <td>False</td>\n",
       "      <td>False</td>\n",
       "      <td>False</td>\n",
       "    </tr>\n",
       "    <tr>\n",
       "      <th>2</th>\n",
       "      <td>200.0</td>\n",
       "      <td>53.0</td>\n",
       "      <td>2.585532e+07</td>\n",
       "      <td>0.393186</td>\n",
       "      <td>0.392295</td>\n",
       "      <td>0.392740</td>\n",
       "      <td>0.000114</td>\n",
       "      <td>True</td>\n",
       "      <td>False</td>\n",
       "      <td>False</td>\n",
       "    </tr>\n",
       "    <tr>\n",
       "      <th>3</th>\n",
       "      <td>200.0</td>\n",
       "      <td>53.0</td>\n",
       "      <td>5.165089e+07</td>\n",
       "      <td>0.794995</td>\n",
       "      <td>0.791922</td>\n",
       "      <td>0.793456</td>\n",
       "      <td>0.000115</td>\n",
       "      <td>False</td>\n",
       "      <td>True</td>\n",
       "      <td>False</td>\n",
       "    </tr>\n",
       "    <tr>\n",
       "      <th>4</th>\n",
       "      <td>200.0</td>\n",
       "      <td>53.0</td>\n",
       "      <td>4.084439e+07</td>\n",
       "      <td>0.385680</td>\n",
       "      <td>0.386297</td>\n",
       "      <td>0.385988</td>\n",
       "      <td>0.000071</td>\n",
       "      <td>False</td>\n",
       "      <td>False</td>\n",
       "      <td>True</td>\n",
       "    </tr>\n",
       "    <tr>\n",
       "      <th>5</th>\n",
       "      <td>200.0</td>\n",
       "      <td>53.0</td>\n",
       "      <td>2.587433e+07</td>\n",
       "      <td>1.000000</td>\n",
       "      <td>0.798054</td>\n",
       "      <td>0.887686</td>\n",
       "      <td>0.000205</td>\n",
       "      <td>True</td>\n",
       "      <td>True</td>\n",
       "      <td>False</td>\n",
       "    </tr>\n",
       "    <tr>\n",
       "      <th>6</th>\n",
       "      <td>200.0</td>\n",
       "      <td>53.0</td>\n",
       "      <td>4.087556e+07</td>\n",
       "      <td>0.794995</td>\n",
       "      <td>0.791922</td>\n",
       "      <td>0.793456</td>\n",
       "      <td>0.000145</td>\n",
       "      <td>False</td>\n",
       "      <td>True</td>\n",
       "      <td>True</td>\n",
       "    </tr>\n",
       "    <tr>\n",
       "      <th>7</th>\n",
       "      <td>200.0</td>\n",
       "      <td>53.0</td>\n",
       "      <td>2.046703e+07</td>\n",
       "      <td>0.393186</td>\n",
       "      <td>0.392295</td>\n",
       "      <td>0.392740</td>\n",
       "      <td>0.000144</td>\n",
       "      <td>True</td>\n",
       "      <td>False</td>\n",
       "      <td>True</td>\n",
       "    </tr>\n",
       "    <tr>\n",
       "      <th>8</th>\n",
       "      <td>200.0</td>\n",
       "      <td>53.0</td>\n",
       "      <td>2.048207e+07</td>\n",
       "      <td>1.000000</td>\n",
       "      <td>0.798054</td>\n",
       "      <td>0.887686</td>\n",
       "      <td>0.000259</td>\n",
       "      <td>True</td>\n",
       "      <td>True</td>\n",
       "      <td>True</td>\n",
       "    </tr>\n",
       "  </tbody>\n",
       "</table>\n",
       "</div>"
      ],
      "text/plain": [
       "   Pileup  L1T Reduction Ratio     Power (W)  Accuracy (%)  Recall (%)  \\\n",
       "1   200.0                 53.0  5.161150e+07      0.385680    0.386297   \n",
       "2   200.0                 53.0  2.585532e+07      0.393186    0.392295   \n",
       "3   200.0                 53.0  5.165089e+07      0.794995    0.791922   \n",
       "4   200.0                 53.0  4.084439e+07      0.385680    0.386297   \n",
       "5   200.0                 53.0  2.587433e+07      1.000000    0.798054   \n",
       "6   200.0                 53.0  4.087556e+07      0.794995    0.791922   \n",
       "7   200.0                 53.0  2.046703e+07      0.393186    0.392295   \n",
       "8   200.0                 53.0  2.048207e+07      1.000000    0.798054   \n",
       "\n",
       "   F1 Score (%)  Productivity (Relevant Samples/J)  GPU HLT  L1T Tracking  \\\n",
       "1      0.385988                           0.000056    False         False   \n",
       "2      0.392740                           0.000114     True         False   \n",
       "3      0.793456                           0.000115    False          True   \n",
       "4      0.385988                           0.000071    False         False   \n",
       "5      0.887686                           0.000205     True          True   \n",
       "6      0.793456                           0.000145    False          True   \n",
       "7      0.392740                           0.000144     True         False   \n",
       "8      0.887686                           0.000259     True          True   \n",
       "\n",
       "   Smart Sensors  \n",
       "1          False  \n",
       "2          False  \n",
       "3          False  \n",
       "4           True  \n",
       "5          False  \n",
       "6           True  \n",
       "7           True  \n",
       "8           True  "
      ]
     },
     "execution_count": 71,
     "metadata": {},
     "output_type": "execute_result"
    }
   ],
   "source": [
    "df.iloc[1:]"
   ]
  },
  {
   "cell_type": "code",
   "execution_count": 72,
   "metadata": {},
   "outputs": [
    {
     "data": {
      "text/plain": [
       "1    0.056195\n",
       "2    0.113697\n",
       "3    0.114799\n",
       "4    0.071009\n",
       "5    0.205400\n",
       "6    0.145062\n",
       "7    0.143629\n",
       "8    0.259475\n",
       "Name: Productivity (Relevant Samples/J), dtype: float64"
      ]
     },
     "execution_count": 72,
     "metadata": {},
     "output_type": "execute_result"
    }
   ],
   "source": [
    "df.iloc[1:][\"Productivity (Relevant Samples/J)\"] * 1000"
   ]
  },
  {
   "cell_type": "code",
   "execution_count": 73,
   "metadata": {},
   "outputs": [
    {
     "data": {
      "text/plain": [
       "0    0.690410\n",
       "1    0.056195\n",
       "2    0.113697\n",
       "3    0.114799\n",
       "4    0.071009\n",
       "5    0.205400\n",
       "6    0.145062\n",
       "7    0.143629\n",
       "8    0.259475\n",
       "Name: Productivity (Relevant Samples/J), dtype: float64"
      ]
     },
     "execution_count": 73,
     "metadata": {},
     "output_type": "execute_result"
    }
   ],
   "source": [
    "df[\"Productivity (Relevant Samples/J)\"] * 1e3"
   ]
  },
  {
   "cell_type": "code",
   "execution_count": 74,
   "metadata": {},
   "outputs": [],
   "source": [
    "df.to_excel(\"experimental_table.xlsx\", index=False)"
   ]
  },
  {
   "cell_type": "code",
   "execution_count": 75,
   "metadata": {},
   "outputs": [
    {
     "data": {
      "text/plain": [
       "np.float64(6.499570514329353)"
      ]
     },
     "execution_count": 75,
     "metadata": {},
     "output_type": "execute_result"
    }
   ],
   "source": [
    "density_scale_model(2032)"
   ]
  },
  {
   "cell_type": "code",
   "execution_count": null,
   "metadata": {},
   "outputs": [],
   "source": []
  },
  {
   "cell_type": "code",
   "execution_count": null,
   "metadata": {},
   "outputs": [],
   "source": []
  }
 ],
 "metadata": {
  "kernelspec": {
   "display_name": "systemflow",
   "language": "python",
   "name": "python3"
  },
  "language_info": {
   "codemirror_mode": {
    "name": "ipython",
    "version": 3
   },
   "file_extension": ".py",
   "mimetype": "text/x-python",
   "name": "python",
   "nbconvert_exporter": "python",
   "pygments_lexer": "ipython3",
   "version": "3.10.15"
  }
 },
 "nbformat": 4,
 "nbformat_minor": 2
}
