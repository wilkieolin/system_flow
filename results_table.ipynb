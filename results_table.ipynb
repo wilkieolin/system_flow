{
 "cells": [
  {
   "cell_type": "code",
   "execution_count": 1,
   "metadata": {},
   "outputs": [],
   "source": [
    "from graph import *\n",
    "from models import *\n",
    "from metrics import *\n",
    "\n",
    "import pandas as pd\n",
    "import matplotlib.pyplot as plt\n",
    "from scipy.optimize import curve_fit\n",
    "import plotly.graph_objects as go"
   ]
  },
  {
   "cell_type": "code",
   "execution_count": 2,
   "metadata": {},
   "outputs": [],
   "source": [
    "from copy import deepcopy"
   ]
  },
  {
   "cell_type": "code",
   "execution_count": 3,
   "metadata": {},
   "outputs": [],
   "source": [
    "# load data from the spreadsheet which defines the structure of the workflow,\n",
    "# as well as the parameters for data rates, efficiency, data reduction, and classifier performance\n",
    "run3_system = dataframes_from_spreadsheet(\"cms_system_60.xlsx\")\n",
    "run5_system = dataframes_from_spreadsheet(\"cms_system_200.xlsx\")"
   ]
  },
  {
   "cell_type": "code",
   "execution_count": 4,
   "metadata": {},
   "outputs": [
    {
     "data": {
      "text/html": [
       "<div>\n",
       "<style scoped>\n",
       "    .dataframe tbody tr th:only-of-type {\n",
       "        vertical-align: middle;\n",
       "    }\n",
       "\n",
       "    .dataframe tbody tr th {\n",
       "        vertical-align: top;\n",
       "    }\n",
       "\n",
       "    .dataframe thead th {\n",
       "        text-align: right;\n",
       "    }\n",
       "</style>\n",
       "<table border=\"1\" class=\"dataframe\">\n",
       "  <thead>\n",
       "    <tr style=\"text-align: right;\">\n",
       "      <th></th>\n",
       "      <th>Category</th>\n",
       "      <th>Detector</th>\n",
       "      <th>Data (bytes)</th>\n",
       "      <th>Sample Rate</th>\n",
       "      <th>Compression</th>\n",
       "      <th>Link Efficiency (J/bit)</th>\n",
       "      <th>Op Efficiency (J/op)</th>\n",
       "      <th>PU 200</th>\n",
       "    </tr>\n",
       "  </thead>\n",
       "  <tbody>\n",
       "    <tr>\n",
       "      <th>0</th>\n",
       "      <td>Tracking</td>\n",
       "      <td>Inner Tracker</td>\n",
       "      <td>1440000</td>\n",
       "      <td>40000000</td>\n",
       "      <td>0</td>\n",
       "      <td>2.220000e-11</td>\n",
       "      <td>0</td>\n",
       "      <td>1.440</td>\n",
       "    </tr>\n",
       "    <tr>\n",
       "      <th>1</th>\n",
       "      <td>Tracking</td>\n",
       "      <td>Outer Tracker PS</td>\n",
       "      <td>720000</td>\n",
       "      <td>40000000</td>\n",
       "      <td>0</td>\n",
       "      <td>2.220000e-11</td>\n",
       "      <td>0</td>\n",
       "      <td>0.720</td>\n",
       "    </tr>\n",
       "    <tr>\n",
       "      <th>2</th>\n",
       "      <td>Tracking</td>\n",
       "      <td>Outer Tracker 2S</td>\n",
       "      <td>430000</td>\n",
       "      <td>40000000</td>\n",
       "      <td>0</td>\n",
       "      <td>2.220000e-11</td>\n",
       "      <td>0</td>\n",
       "      <td>0.430</td>\n",
       "    </tr>\n",
       "    <tr>\n",
       "      <th>3</th>\n",
       "      <td>Tracking</td>\n",
       "      <td>Track Finder TPG</td>\n",
       "      <td>10000</td>\n",
       "      <td>40000000</td>\n",
       "      <td>0</td>\n",
       "      <td>2.220000e-11</td>\n",
       "      <td>0</td>\n",
       "      <td>0.010</td>\n",
       "    </tr>\n",
       "    <tr>\n",
       "      <th>4</th>\n",
       "      <td>Timing</td>\n",
       "      <td>MIP Timing BTL</td>\n",
       "      <td>240000</td>\n",
       "      <td>40000000</td>\n",
       "      <td>0</td>\n",
       "      <td>2.220000e-11</td>\n",
       "      <td>0</td>\n",
       "      <td>0.240</td>\n",
       "    </tr>\n",
       "    <tr>\n",
       "      <th>5</th>\n",
       "      <td>Timing</td>\n",
       "      <td>MIP Timing ETL</td>\n",
       "      <td>440000</td>\n",
       "      <td>40000000</td>\n",
       "      <td>0</td>\n",
       "      <td>2.220000e-11</td>\n",
       "      <td>0</td>\n",
       "      <td>0.440</td>\n",
       "    </tr>\n",
       "    <tr>\n",
       "      <th>6</th>\n",
       "      <td>Calorimetry</td>\n",
       "      <td>ECAL Barrel</td>\n",
       "      <td>600000</td>\n",
       "      <td>40000000</td>\n",
       "      <td>0</td>\n",
       "      <td>2.220000e-11</td>\n",
       "      <td>0</td>\n",
       "      <td>0.600</td>\n",
       "    </tr>\n",
       "    <tr>\n",
       "      <th>7</th>\n",
       "      <td>Calorimetry</td>\n",
       "      <td>HCAL Barrel</td>\n",
       "      <td>240000</td>\n",
       "      <td>40000000</td>\n",
       "      <td>0</td>\n",
       "      <td>2.220000e-11</td>\n",
       "      <td>0</td>\n",
       "      <td>0.240</td>\n",
       "    </tr>\n",
       "    <tr>\n",
       "      <th>8</th>\n",
       "      <td>Calorimetry</td>\n",
       "      <td>HCAL HO</td>\n",
       "      <td>30000</td>\n",
       "      <td>40000000</td>\n",
       "      <td>0</td>\n",
       "      <td>2.220000e-11</td>\n",
       "      <td>0</td>\n",
       "      <td>0.030</td>\n",
       "    </tr>\n",
       "    <tr>\n",
       "      <th>9</th>\n",
       "      <td>Calorimetry</td>\n",
       "      <td>HCAL HF</td>\n",
       "      <td>60000</td>\n",
       "      <td>40000000</td>\n",
       "      <td>0</td>\n",
       "      <td>2.220000e-11</td>\n",
       "      <td>0</td>\n",
       "      <td>0.060</td>\n",
       "    </tr>\n",
       "    <tr>\n",
       "      <th>10</th>\n",
       "      <td>Calorimetry</td>\n",
       "      <td>HGCAL</td>\n",
       "      <td>3000000</td>\n",
       "      <td>40000000</td>\n",
       "      <td>0</td>\n",
       "      <td>2.220000e-11</td>\n",
       "      <td>0</td>\n",
       "      <td>3.000</td>\n",
       "    </tr>\n",
       "    <tr>\n",
       "      <th>11</th>\n",
       "      <td>Calorimetry</td>\n",
       "      <td>HGCAL TPG Stage1</td>\n",
       "      <td>150000</td>\n",
       "      <td>40000000</td>\n",
       "      <td>0</td>\n",
       "      <td>2.220000e-11</td>\n",
       "      <td>0</td>\n",
       "      <td>0.150</td>\n",
       "    </tr>\n",
       "    <tr>\n",
       "      <th>12</th>\n",
       "      <td>Calorimetry</td>\n",
       "      <td>HGCAL TPG Stage2</td>\n",
       "      <td>50000</td>\n",
       "      <td>40000000</td>\n",
       "      <td>0</td>\n",
       "      <td>2.220000e-11</td>\n",
       "      <td>0</td>\n",
       "      <td>0.050</td>\n",
       "    </tr>\n",
       "    <tr>\n",
       "      <th>13</th>\n",
       "      <td>Muon</td>\n",
       "      <td>Muon DT</td>\n",
       "      <td>150000</td>\n",
       "      <td>40000000</td>\n",
       "      <td>0</td>\n",
       "      <td>2.220000e-11</td>\n",
       "      <td>0</td>\n",
       "      <td>0.150</td>\n",
       "    </tr>\n",
       "    <tr>\n",
       "      <th>14</th>\n",
       "      <td>Muon</td>\n",
       "      <td>Muon CSC</td>\n",
       "      <td>470000</td>\n",
       "      <td>40000000</td>\n",
       "      <td>0</td>\n",
       "      <td>2.220000e-11</td>\n",
       "      <td>0</td>\n",
       "      <td>0.470</td>\n",
       "    </tr>\n",
       "    <tr>\n",
       "      <th>15</th>\n",
       "      <td>Muon</td>\n",
       "      <td>Muon GEM GE1</td>\n",
       "      <td>3000</td>\n",
       "      <td>40000000</td>\n",
       "      <td>0</td>\n",
       "      <td>2.220000e-11</td>\n",
       "      <td>0</td>\n",
       "      <td>0.003</td>\n",
       "    </tr>\n",
       "    <tr>\n",
       "      <th>16</th>\n",
       "      <td>Muon</td>\n",
       "      <td>Muon GEM GE2</td>\n",
       "      <td>2000</td>\n",
       "      <td>40000000</td>\n",
       "      <td>0</td>\n",
       "      <td>2.220000e-11</td>\n",
       "      <td>0</td>\n",
       "      <td>0.002</td>\n",
       "    </tr>\n",
       "    <tr>\n",
       "      <th>17</th>\n",
       "      <td>Muon</td>\n",
       "      <td>Muon GEM ME0</td>\n",
       "      <td>120000</td>\n",
       "      <td>40000000</td>\n",
       "      <td>0</td>\n",
       "      <td>2.220000e-11</td>\n",
       "      <td>0</td>\n",
       "      <td>0.120</td>\n",
       "    </tr>\n",
       "    <tr>\n",
       "      <th>18</th>\n",
       "      <td>Muon</td>\n",
       "      <td>Muon RPC</td>\n",
       "      <td>10000</td>\n",
       "      <td>40000000</td>\n",
       "      <td>0</td>\n",
       "      <td>2.220000e-11</td>\n",
       "      <td>0</td>\n",
       "      <td>0.010</td>\n",
       "    </tr>\n",
       "  </tbody>\n",
       "</table>\n",
       "</div>"
      ],
      "text/plain": [
       "       Category          Detector  Data (bytes)  Sample Rate  Compression  \\\n",
       "0      Tracking     Inner Tracker       1440000     40000000            0   \n",
       "1      Tracking  Outer Tracker PS        720000     40000000            0   \n",
       "2      Tracking  Outer Tracker 2S        430000     40000000            0   \n",
       "3      Tracking  Track Finder TPG         10000     40000000            0   \n",
       "4        Timing    MIP Timing BTL        240000     40000000            0   \n",
       "5        Timing    MIP Timing ETL        440000     40000000            0   \n",
       "6   Calorimetry       ECAL Barrel        600000     40000000            0   \n",
       "7   Calorimetry       HCAL Barrel        240000     40000000            0   \n",
       "8   Calorimetry           HCAL HO         30000     40000000            0   \n",
       "9   Calorimetry           HCAL HF         60000     40000000            0   \n",
       "10  Calorimetry             HGCAL       3000000     40000000            0   \n",
       "11  Calorimetry  HGCAL TPG Stage1        150000     40000000            0   \n",
       "12  Calorimetry  HGCAL TPG Stage2         50000     40000000            0   \n",
       "13         Muon           Muon DT        150000     40000000            0   \n",
       "14         Muon          Muon CSC        470000     40000000            0   \n",
       "15         Muon      Muon GEM GE1          3000     40000000            0   \n",
       "16         Muon      Muon GEM GE2          2000     40000000            0   \n",
       "17         Muon      Muon GEM ME0        120000     40000000            0   \n",
       "18         Muon          Muon RPC         10000     40000000            0   \n",
       "\n",
       "    Link Efficiency (J/bit)  Op Efficiency (J/op)  PU 200  \n",
       "0              2.220000e-11                     0   1.440  \n",
       "1              2.220000e-11                     0   0.720  \n",
       "2              2.220000e-11                     0   0.430  \n",
       "3              2.220000e-11                     0   0.010  \n",
       "4              2.220000e-11                     0   0.240  \n",
       "5              2.220000e-11                     0   0.440  \n",
       "6              2.220000e-11                     0   0.600  \n",
       "7              2.220000e-11                     0   0.240  \n",
       "8              2.220000e-11                     0   0.030  \n",
       "9              2.220000e-11                     0   0.060  \n",
       "10             2.220000e-11                     0   3.000  \n",
       "11             2.220000e-11                     0   0.150  \n",
       "12             2.220000e-11                     0   0.050  \n",
       "13             2.220000e-11                     0   0.150  \n",
       "14             2.220000e-11                     0   0.470  \n",
       "15             2.220000e-11                     0   0.003  \n",
       "16             2.220000e-11                     0   0.002  \n",
       "17             2.220000e-11                     0   0.120  \n",
       "18             2.220000e-11                     0   0.010  "
      ]
     },
     "execution_count": 4,
     "metadata": {},
     "output_type": "execute_result"
    }
   ],
   "source": [
    "run5_system.detectors"
   ]
  },
  {
   "cell_type": "code",
   "execution_count": 5,
   "metadata": {},
   "outputs": [],
   "source": [
    "#import the data predicting wall time scaling by pileup\n",
    "scaling = pd.read_excel(\"wall time scaling.xlsx\", sheet_name=\"Data\")\n",
    "#fit a polynomial to this data for CPU and GPU runtimes\n",
    "fit_poly = lambda x, k3, k2, k1: k3 * x ** 3 + k2 * x ** 2 + k1 * x\n",
    "k, cv = curve_fit(fit_poly, scaling[\"Size\"], scaling[\"Wall Time\"])\n",
    "k_gpu, cv_gpu = curve_fit(fit_poly, scaling[\"Size\"], scaling[\"Wall Time GPU\"])"
   ]
  },
  {
   "cell_type": "code",
   "execution_count": 6,
   "metadata": {},
   "outputs": [],
   "source": [
    "#define a dictionary with functions defining the scaling of trigger runtimes with incoming data\n",
    "funcs = {\"Global\": lambda x: fit_poly(x, *k), \"Intermediate\": lambda x: x / 2.0e6}\n",
    "funcs_gpu = {\"Global\": lambda x: fit_poly(x, *k_gpu), \"Intermediate\": lambda x: x / 2.0e6}"
   ]
  },
  {
   "cell_type": "code",
   "execution_count": 7,
   "metadata": {},
   "outputs": [
    {
     "name": "stderr",
     "output_type": "stream",
     "text": [
      "/Users/wilkie/code/system_flow/classifier.py:200: IntegrationWarning: The maximum number of subdivisions (50) has been achieved.\n",
      "  If increasing the limit yields no improvement it is advised to analyze \n",
      "  the integrand in order to determine the difficulties.  If the position of a \n",
      "  local difficulty can be determined (singularity, discontinuity) one will \n",
      "  probably gain from splitting up the interval and calling the integrator \n",
      "  on the subranges.  Perhaps a special-purpose integrator should be used.\n",
      "  fit = lambda l: np.abs(self.egamma_rate - quad(lambda x: self.exp_dist(x, l) * interpolator(x), np.min(xs), np.max(xs))[0])\n"
     ]
    }
   ],
   "source": [
    "baseline_r3 = construct_graph(run3_system.detectors, run3_system.triggers, run3_system.globals, funcs)"
   ]
  },
  {
   "cell_type": "code",
   "execution_count": 8,
   "metadata": {},
   "outputs": [
    {
     "name": "stderr",
     "output_type": "stream",
     "text": [
      "/Users/wilkie/code/system_flow/classifier.py:200: IntegrationWarning: The maximum number of subdivisions (50) has been achieved.\n",
      "  If increasing the limit yields no improvement it is advised to analyze \n",
      "  the integrand in order to determine the difficulties.  If the position of a \n",
      "  local difficulty can be determined (singularity, discontinuity) one will \n",
      "  probably gain from splitting up the interval and calling the integrator \n",
      "  on the subranges.  Perhaps a special-purpose integrator should be used.\n",
      "  fit = lambda l: np.abs(self.egamma_rate - quad(lambda x: self.exp_dist(x, l) * interpolator(x), np.min(xs), np.max(xs))[0])\n",
      "/Users/wilkie/code/system_flow/classifier.py:424: IntegrationWarning: The maximum number of subdivisions (50) has been achieved.\n",
      "  If increasing the limit yields no improvement it is advised to analyze \n",
      "  the integrand in order to determine the difficulties.  If the position of a \n",
      "  local difficulty can be determined (singularity, discontinuity) one will \n",
      "  probably gain from splitting up the interval and calling the integrator \n",
      "  on the subranges.  Perhaps a special-purpose integrator should be used.\n",
      "  trigger_rate = lambda l: quad(lambda x: exp_dist(x, l) * efficiency_fit(x), np.min(xs2), np.max(xs2))[0]\n"
     ]
    }
   ],
   "source": [
    "baseline = construct_graph(run5_system.detectors, run5_system.triggers, run5_system.globals, funcs)"
   ]
  },
  {
   "cell_type": "code",
   "execution_count": 9,
   "metadata": {},
   "outputs": [
    {
     "data": {
      "text/plain": [
       "{'type': 'processor',\n",
       " 'reduction ratio': 53.3,\n",
       " 'classifier': <classifier.L1TClassifier at 0x31348cf70>,\n",
       " 'data reduction': 1.0,\n",
       " 'op efficiency': 0.003,\n",
       " 'sample data': 260000,\n",
       " 'complexity': <function __main__.<lambda>(x)>,\n",
       " 'global ratio': 5330.0,\n",
       " 'message size': 8425000.0,\n",
       " 'ops': 4.2125,\n",
       " 'input rate': 39999999,\n",
       " 'error matrix': array([[0.9813, 0.4969],\n",
       "        [0.0187, 0.5031]]),\n",
       " 'contingency': array([[39244635,     3728],\n",
       "        [  747859,     3775]]),\n",
       " 'discards': array([39244635,     3728]),\n",
       " 'output rate': 751634,\n",
       " 'energy': 0.012637500000000001,\n",
       " 'power': 505499.98736250005}"
      ]
     },
     "execution_count": 9,
     "metadata": {},
     "output_type": "execute_result"
    }
   ],
   "source": [
    "baseline.nodes[\"Intermediate\"]"
   ]
  },
  {
   "cell_type": "code",
   "execution_count": 10,
   "metadata": {},
   "outputs": [
    {
     "data": {
      "text/plain": [
       "496001.18741250003"
      ]
     },
     "execution_count": 10,
     "metadata": {},
     "output_type": "execute_result"
    }
   ],
   "source": [
    "baseline.nodes[\"Intermediate\"][\"energy\"] * np.sum(baseline.nodes[\"Intermediate\"][\"discards\"])"
   ]
  },
  {
   "cell_type": "code",
   "execution_count": 11,
   "metadata": {},
   "outputs": [],
   "source": [
    "a1 = list(baseline.predecessors(\"Intermediate\"))"
   ]
  },
  {
   "cell_type": "code",
   "execution_count": 12,
   "metadata": {},
   "outputs": [
    {
     "data": {
      "text/plain": [
       "['Tracking', 'Timing', 'Calorimetry', 'Muon']"
      ]
     },
     "execution_count": 12,
     "metadata": {},
     "output_type": "execute_result"
    }
   ],
   "source": [
    "a1"
   ]
  },
  {
   "cell_type": "code",
   "execution_count": 13,
   "metadata": {},
   "outputs": [
    {
     "data": {
      "text/plain": [
       "['Global']"
      ]
     },
     "execution_count": 13,
     "metadata": {},
     "output_type": "execute_result"
    }
   ],
   "source": [
    "list(baseline.successors(\"Intermediate\"))"
   ]
  },
  {
   "cell_type": "code",
   "execution_count": 14,
   "metadata": {},
   "outputs": [
    {
     "data": {
      "text/plain": [
       "True"
      ]
     },
     "execution_count": 14,
     "metadata": {},
     "output_type": "execute_result"
    }
   ],
   "source": [
    "\"Intermediate\" in baseline.nodes.keys()"
   ]
  },
  {
   "cell_type": "code",
   "execution_count": 15,
   "metadata": {},
   "outputs": [],
   "source": [
    "\"\"\"\n",
    "Return the amount of energy expended by the system to reach the current node\n",
    "\"\"\"\n",
    "def upstream_energy(graph, node):\n",
    "    def get_energy(node):\n",
    "        if \"energy\" in node.keys():\n",
    "            return node[\"energy\"]\n",
    "        else:\n",
    "            return 0.0\n",
    "    \n",
    "    def traverse(start):\n",
    "        up = list(graph.predecessors(start))\n",
    "\n",
    "        if len(up) == 0:\n",
    "            return get_energy(graph.nodes[start])\n",
    "        else:\n",
    "            return get_energy(graph.nodes[start]) + functools.reduce(lambda x, y: x + y, map(traverse, up))\n",
    "    \n",
    "    return traverse(node)"
   ]
  },
  {
   "cell_type": "code",
   "execution_count": 16,
   "metadata": {},
   "outputs": [
    {
     "data": {
      "text/plain": [
       "0.012637500000000001"
      ]
     },
     "execution_count": 16,
     "metadata": {},
     "output_type": "execute_result"
    }
   ],
   "source": [
    "upstream_energy(baseline, \"Intermediate\")"
   ]
  },
  {
   "cell_type": "code",
   "execution_count": 17,
   "metadata": {},
   "outputs": [
    {
     "data": {
      "text/plain": [
       "'Disk'"
      ]
     },
     "execution_count": 17,
     "metadata": {},
     "output_type": "execute_result"
    }
   ],
   "source": [
    "baseline.graph[\"Root Node\"]"
   ]
  },
  {
   "cell_type": "code",
   "execution_count": 18,
   "metadata": {},
   "outputs": [
    {
     "data": {
      "text/plain": [
       "NodeView(('Inner Tracker', 'Outer Tracker PS', 'Outer Tracker 2S', 'Track Finder TPG', 'MIP Timing BTL', 'MIP Timing ETL', 'ECAL Barrel', 'HCAL Barrel', 'HCAL HO', 'HCAL HF', 'HGCAL', 'HGCAL TPG Stage1', 'HGCAL TPG Stage2', 'Muon DT', 'Muon CSC', 'Muon GEM GE1', 'Muon GEM GE2', 'Muon GEM ME0', 'Muon RPC', 'Tracking', 'Timing', 'Calorimetry', 'Muon', 'Intermediate', 'Global', 'Disk'))"
      ]
     },
     "execution_count": 18,
     "metadata": {},
     "output_type": "execute_result"
    }
   ],
   "source": [
    "baseline.nodes"
   ]
  },
  {
   "cell_type": "code",
   "execution_count": 19,
   "metadata": {},
   "outputs": [
    {
     "data": {
      "text/plain": [
       "446.05484938484136"
      ]
     },
     "execution_count": 19,
     "metadata": {},
     "output_type": "execute_result"
    }
   ],
   "source": [
    "upstream_energy(baseline, \"Disk\")"
   ]
  },
  {
   "cell_type": "code",
   "execution_count": 20,
   "metadata": {},
   "outputs": [],
   "source": [
    "def quantify_error_cost(graph):\n",
    "    #the cost of a true positive is the cost to get to the final node\n",
    "    positive = upstream_energy(graph, graph.graph[\"Root Node\"])\n",
    "    #the cost of a true negative is the average energy for a discarded message\n",
    "    classifiers = active_classifiers(graph)\n",
    "    energy = [upstream_energy(graph, c) for c in classifiers]\n",
    "    negatives = [np.sum(graph.nodes[c][\"discards\"]) for c in classifiers]\n",
    "    negative = np.average(energy, weights=negatives)\n",
    "\n",
    "    return (negative, positive)"
   ]
  },
  {
   "cell_type": "code",
   "execution_count": 21,
   "metadata": {},
   "outputs": [],
   "source": [
    "#quantify_error_cost(baseline)"
   ]
  },
  {
   "cell_type": "code",
   "execution_count": 22,
   "metadata": {},
   "outputs": [
    {
     "data": {
      "text/plain": [
       "5330.0"
      ]
     },
     "execution_count": 22,
     "metadata": {},
     "output_type": "execute_result"
    }
   ],
   "source": [
    "baseline.nodes[\"Inner Tracker\"][\"global ratio\"]"
   ]
  },
  {
   "cell_type": "code",
   "execution_count": 23,
   "metadata": {},
   "outputs": [
    {
     "data": {
      "text/plain": [
       "99.19058295964128"
      ]
     },
     "execution_count": 23,
     "metadata": {},
     "output_type": "execute_result"
    }
   ],
   "source": [
    "(5330 * 8.3) / 446"
   ]
  },
  {
   "cell_type": "code",
   "execution_count": 24,
   "metadata": {},
   "outputs": [
    {
     "data": {
      "text/plain": [
       "44239.00000000001"
      ]
     },
     "execution_count": 24,
     "metadata": {},
     "output_type": "execute_result"
    }
   ],
   "source": [
    "5330 * 8.3"
   ]
  },
  {
   "cell_type": "code",
   "execution_count": null,
   "metadata": {},
   "outputs": [],
   "source": []
  },
  {
   "cell_type": "code",
   "execution_count": 25,
   "metadata": {},
   "outputs": [
    {
     "data": {
      "text/plain": [
       "array([743371,    736])"
      ]
     },
     "execution_count": 25,
     "metadata": {},
     "output_type": "execute_result"
    }
   ],
   "source": [
    "baseline.nodes[\"Global\"][\"discards\"]"
   ]
  },
  {
   "cell_type": "code",
   "execution_count": 26,
   "metadata": {},
   "outputs": [
    {
     "data": {
      "text/plain": [
       "9498.774675"
      ]
     },
     "execution_count": 26,
     "metadata": {},
     "output_type": "execute_result"
    }
   ],
   "source": [
    "baseline.nodes[\"Intermediate\"][\"energy\"] * baseline.nodes[\"Intermediate\"][\"output rate\"]"
   ]
  },
  {
   "cell_type": "code",
   "execution_count": 27,
   "metadata": {},
   "outputs": [
    {
     "name": "stderr",
     "output_type": "stream",
     "text": [
      "/Users/wilkie/code/system_flow/classifier.py:200: IntegrationWarning: The maximum number of subdivisions (50) has been achieved.\n",
      "  If increasing the limit yields no improvement it is advised to analyze \n",
      "  the integrand in order to determine the difficulties.  If the position of a \n",
      "  local difficulty can be determined (singularity, discontinuity) one will \n",
      "  probably gain from splitting up the interval and calling the integrator \n",
      "  on the subranges.  Perhaps a special-purpose integrator should be used.\n",
      "  fit = lambda l: np.abs(self.egamma_rate - quad(lambda x: self.exp_dist(x, l) * interpolator(x), np.min(xs), np.max(xs))[0])\n",
      "/Users/wilkie/code/system_flow/classifier.py:424: IntegrationWarning: The maximum number of subdivisions (50) has been achieved.\n",
      "  If increasing the limit yields no improvement it is advised to analyze \n",
      "  the integrand in order to determine the difficulties.  If the position of a \n",
      "  local difficulty can be determined (singularity, discontinuity) one will \n",
      "  probably gain from splitting up the interval and calling the integrator \n",
      "  on the subranges.  Perhaps a special-purpose integrator should be used.\n",
      "  trigger_rate = lambda l: quad(lambda x: exp_dist(x, l) * efficiency_fit(x), np.min(xs2), np.max(xs2))[0]\n"
     ]
    }
   ],
   "source": [
    "gpu = construct_graph(run5_system.detectors, run5_system.triggers, run5_system.globals, funcs_gpu)"
   ]
  },
  {
   "cell_type": "code",
   "execution_count": 28,
   "metadata": {},
   "outputs": [
    {
     "data": {
      "text/plain": [
       "{'type': 'storage',\n",
       " 'reduction ratio': 1.0,\n",
       " 'classifier': <classifier.DummyClassifier at 0x313448bb0>,\n",
       " 'data reduction': 1.0,\n",
       " 'op efficiency': 0.0,\n",
       " 'sample data': 0,\n",
       " 'complexity': <function graph.triggers.<locals>.<lambda>(x)>,\n",
       " 'global ratio': 1.0,\n",
       " 'message size': 8425000.0,\n",
       " 'ops': 8425000.0,\n",
       " 'input rate': 7603,\n",
       " 'error matrix': array([[0., 0.],\n",
       "        [1., 1.]]),\n",
       " 'contingency': array([[   0,    0],\n",
       "        [4711, 2892]]),\n",
       " 'discards': array([0, 0]),\n",
       " 'output rate': 7603,\n",
       " 'energy': 0.0,\n",
       " 'power': 0.0}"
      ]
     },
     "execution_count": 28,
     "metadata": {},
     "output_type": "execute_result"
    }
   ],
   "source": [
    "gpu.nodes[\"Disk\"]"
   ]
  },
  {
   "cell_type": "code",
   "execution_count": 29,
   "metadata": {},
   "outputs": [],
   "source": [
    "baseline_2 = deepcopy(baseline)\n",
    "baseline_2.nodes[\"Intermediate\"][\"reduction ratio\"] = 400\n",
    "baseline_2 = update_throughput(baseline_2)\n"
   ]
  },
  {
   "cell_type": "code",
   "execution_count": 30,
   "metadata": {},
   "outputs": [],
   "source": [
    "l1t = deepcopy(baseline)\n",
    "l1t.nodes[\"Intermediate\"][\"classifier\"].skill_boost = 0.40\n",
    "l1t = update_throughput(l1t)"
   ]
  },
  {
   "cell_type": "code",
   "execution_count": 31,
   "metadata": {},
   "outputs": [],
   "source": [
    "smpx = deepcopy(baseline)\n",
    "smpx.nodes[\"Inner Tracker\"][\"sample data\"] *= (1 - 0.54)\n",
    "smpx = update_throughput(smpx)"
   ]
  },
  {
   "cell_type": "code",
   "execution_count": 32,
   "metadata": {},
   "outputs": [],
   "source": [
    "gpu_smpx = deepcopy(gpu)\n",
    "gpu_smpx.nodes[\"Inner Tracker\"][\"sample data\"] *= (1 - 0.54)\n",
    "gpu_smpx = update_throughput(gpu_smpx)"
   ]
  },
  {
   "cell_type": "code",
   "execution_count": 33,
   "metadata": {},
   "outputs": [],
   "source": [
    "gpu_l1t = deepcopy(gpu)\n",
    "gpu_l1t.nodes[\"Intermediate\"][\"classifier\"].skill_boost = 0.40\n",
    "gpu_l1t = update_throughput(gpu_l1t)"
   ]
  },
  {
   "cell_type": "code",
   "execution_count": 34,
   "metadata": {},
   "outputs": [],
   "source": [
    "smpx_l1t = deepcopy(baseline)\n",
    "smpx_l1t.nodes[\"Inner Tracker\"][\"sample data\"] *= (1 - 0.54)\n",
    "smpx_l1t.nodes[\"Intermediate\"][\"classifier\"].skill_boost = 0.40\n",
    "smpx_l1t = update_throughput(smpx_l1t)"
   ]
  },
  {
   "cell_type": "code",
   "execution_count": 35,
   "metadata": {},
   "outputs": [],
   "source": [
    "gpu_smpx_l1t = deepcopy(gpu)\n",
    "gpu_smpx_l1t.nodes[\"Intermediate\"][\"classifier\"].skill_boost = 0.40\n",
    "gpu_smpx_l1t.nodes[\"Inner Tracker\"][\"sample data\"] *= (1 - 0.54)\n",
    "gpu_smpx_l1t = update_throughput(gpu_smpx_l1t)"
   ]
  },
  {
   "cell_type": "code",
   "execution_count": 36,
   "metadata": {},
   "outputs": [
    {
     "data": {
      "text/plain": [
       "7502"
      ]
     },
     "execution_count": 36,
     "metadata": {},
     "output_type": "execute_result"
    }
   ],
   "source": [
    "np.sum(gpu.graph[\"performance\"][:,1])"
   ]
  },
  {
   "cell_type": "code",
   "execution_count": 37,
   "metadata": {},
   "outputs": [
    {
     "data": {
      "text/plain": [
       "{'type': 'processor',\n",
       " 'reduction ratio': 53.3,\n",
       " 'classifier': <classifier.L1TClassifier at 0x31352bc40>,\n",
       " 'data reduction': 1.0,\n",
       " 'op efficiency': 0.003,\n",
       " 'sample data': 260000,\n",
       " 'complexity': <function __main__.<lambda>(x)>,\n",
       " 'global ratio': 5330.0,\n",
       " 'message size': 8425000.0,\n",
       " 'ops': 4.2125,\n",
       " 'input rate': 39999999,\n",
       " 'error matrix': array([[0.9813, 0.5241],\n",
       "        [0.0187, 0.4759]]),\n",
       " 'contingency': array([[39244635,     3932],\n",
       "        [  747859,     3571]]),\n",
       " 'discards': array([39244635,     3932]),\n",
       " 'output rate': 751430,\n",
       " 'energy': 0.012637500000000001,\n",
       " 'power': 505499.98736250005}"
      ]
     },
     "execution_count": 37,
     "metadata": {},
     "output_type": "execute_result"
    }
   ],
   "source": [
    "gpu.nodes[\"Intermediate\"]"
   ]
  },
  {
   "cell_type": "code",
   "execution_count": 38,
   "metadata": {},
   "outputs": [
    {
     "data": {
      "text/plain": [
       "True"
      ]
     },
     "execution_count": 38,
     "metadata": {},
     "output_type": "execute_result"
    }
   ],
   "source": [
    "has_classifier(gpu.nodes[\"Intermediate\"])"
   ]
  },
  {
   "cell_type": "code",
   "execution_count": 39,
   "metadata": {},
   "outputs": [],
   "source": [
    "ac = active_classifiers(gpu)"
   ]
  },
  {
   "cell_type": "code",
   "execution_count": 40,
   "metadata": {},
   "outputs": [
    {
     "data": {
      "text/plain": [
       "[True, False]"
      ]
     },
     "execution_count": 40,
     "metadata": {},
     "output_type": "execute_result"
    }
   ],
   "source": [
    "[downstream_classifier(gpu, c) for c in ac]"
   ]
  },
  {
   "cell_type": "code",
   "execution_count": 41,
   "metadata": {},
   "outputs": [
    {
     "data": {
      "text/plain": [
       "array([[39244635,     3932],\n",
       "       [  747859,     3571]])"
      ]
     },
     "execution_count": 41,
     "metadata": {},
     "output_type": "execute_result"
    }
   ],
   "source": [
    "gpu.nodes[\"Intermediate\"][\"contingency\"]"
   ]
  },
  {
   "cell_type": "code",
   "execution_count": 42,
   "metadata": {},
   "outputs": [
    {
     "data": {
      "text/plain": [
       "array([[743147,    678],\n",
       "       [  4711,   2892]])"
      ]
     },
     "execution_count": 42,
     "metadata": {},
     "output_type": "execute_result"
    }
   ],
   "source": [
    "gpu.nodes[\"Global\"][\"contingency\"]"
   ]
  },
  {
   "cell_type": "code",
   "execution_count": 43,
   "metadata": {},
   "outputs": [
    {
     "data": {
      "text/plain": [
       "array([[39987782,     4610],\n",
       "       [    4711,     2892]])"
      ]
     },
     "execution_count": 43,
     "metadata": {},
     "output_type": "execute_result"
    }
   ],
   "source": [
    "pipeline_contingency(gpu)"
   ]
  },
  {
   "cell_type": "code",
   "execution_count": 44,
   "metadata": {},
   "outputs": [
    {
     "data": {
      "text/plain": [
       "0.004752272334083015"
      ]
     },
     "execution_count": 44,
     "metadata": {},
     "output_type": "execute_result"
    }
   ],
   "source": [
    "precision(gpu.nodes[\"Intermediate\"][\"contingency\"])"
   ]
  },
  {
   "cell_type": "code",
   "execution_count": 45,
   "metadata": {},
   "outputs": [
    {
     "data": {
      "text/plain": [
       "0.475942956150873"
      ]
     },
     "execution_count": 45,
     "metadata": {},
     "output_type": "execute_result"
    }
   ],
   "source": [
    "recall(gpu.nodes[\"Intermediate\"][\"contingency\"])"
   ]
  },
  {
   "cell_type": "code",
   "execution_count": 46,
   "metadata": {},
   "outputs": [
    {
     "data": {
      "text/plain": [
       "{'globals':    Year\n",
       " 0  2032,\n",
       " 'Root Node': 'Disk',\n",
       " 'link power': 124603.128972,\n",
       " 'op power': 168090248.384996,\n",
       " 'performance': array([[39987782,     4610],\n",
       "        [    4711,     2892]])}"
      ]
     },
     "execution_count": 46,
     "metadata": {},
     "output_type": "execute_result"
    }
   ],
   "source": [
    "gpu.graph"
   ]
  },
  {
   "cell_type": "code",
   "execution_count": 47,
   "metadata": {},
   "outputs": [],
   "source": [
    "def extract_results(graph):\n",
    "    power = (graph.graph[\"op power\"] + graph.graph[\"link power\"]) / density_scale_model(2032)\n",
    "    confusion = graph.graph[\"performance\"]\n",
    "    acc = precision(confusion)\n",
    "    rec = recall(confusion)\n",
    "    f1 = f1_score(confusion)\n",
    "    prod = f1 * np.sum(get_passed(confusion)) / power\n",
    "\n",
    "\n",
    "    return power, acc, rec, f1, prod"
   ]
  },
  {
   "cell_type": "code",
   "execution_count": 48,
   "metadata": {},
   "outputs": [],
   "source": [
    "conditions = [baseline_r3, baseline_2, baseline]"
   ]
  },
  {
   "cell_type": "code",
   "execution_count": 49,
   "metadata": {},
   "outputs": [],
   "source": [
    "pileup = np.array([60, 200, 200])[:,np.newaxis]\n",
    "rejection = np.array([400, 400, 53])[:,np.newaxis]"
   ]
  },
  {
   "cell_type": "code",
   "execution_count": 50,
   "metadata": {},
   "outputs": [
    {
     "data": {
      "text/plain": [
       "(3, 1)"
      ]
     },
     "execution_count": 50,
     "metadata": {},
     "output_type": "execute_result"
    }
   ],
   "source": [
    "pileup.shape"
   ]
  },
  {
   "cell_type": "code",
   "execution_count": 51,
   "metadata": {},
   "outputs": [],
   "source": [
    "cond_results = np.stack([extract_results(g) for g in conditions])"
   ]
  },
  {
   "cell_type": "code",
   "execution_count": 52,
   "metadata": {},
   "outputs": [],
   "source": [
    "cond_results = np.concatenate((pileup, rejection, cond_results), axis=1)"
   ]
  },
  {
   "cell_type": "code",
   "execution_count": 53,
   "metadata": {},
   "outputs": [],
   "source": [
    "df2 = pd.DataFrame(cond_results, columns = [\"Pileup\", \"L1T Reduction Ratio\", \"Power (W)\", \"Accuracy (%)\", \"Recall (%)\", \"F1 Score (%)\", \"Productivity (Relevant Samples/J)\"])"
   ]
  },
  {
   "cell_type": "code",
   "execution_count": 54,
   "metadata": {},
   "outputs": [
    {
     "data": {
      "text/html": [
       "<div>\n",
       "<style scoped>\n",
       "    .dataframe tbody tr th:only-of-type {\n",
       "        vertical-align: middle;\n",
       "    }\n",
       "\n",
       "    .dataframe tbody tr th {\n",
       "        vertical-align: top;\n",
       "    }\n",
       "\n",
       "    .dataframe thead th {\n",
       "        text-align: right;\n",
       "    }\n",
       "</style>\n",
       "<table border=\"1\" class=\"dataframe\">\n",
       "  <thead>\n",
       "    <tr style=\"text-align: right;\">\n",
       "      <th></th>\n",
       "      <th>Pileup</th>\n",
       "      <th>L1T Reduction Ratio</th>\n",
       "      <th>Power (W)</th>\n",
       "      <th>Accuracy (%)</th>\n",
       "      <th>Recall (%)</th>\n",
       "      <th>F1 Score (%)</th>\n",
       "      <th>Productivity (Relevant Samples/J)</th>\n",
       "    </tr>\n",
       "  </thead>\n",
       "  <tbody>\n",
       "    <tr>\n",
       "      <th>0</th>\n",
       "      <td>60.0</td>\n",
       "      <td>400.0</td>\n",
       "      <td>3.223989e+05</td>\n",
       "      <td>0.275449</td>\n",
       "      <td>0.276553</td>\n",
       "      <td>0.276000</td>\n",
       "      <td>0.000858</td>\n",
       "    </tr>\n",
       "    <tr>\n",
       "      <th>1</th>\n",
       "      <td>200.0</td>\n",
       "      <td>400.0</td>\n",
       "      <td>6.979455e+06</td>\n",
       "      <td>0.233268</td>\n",
       "      <td>0.237475</td>\n",
       "      <td>0.235353</td>\n",
       "      <td>0.000034</td>\n",
       "    </tr>\n",
       "    <tr>\n",
       "      <th>2</th>\n",
       "      <td>200.0</td>\n",
       "      <td>53.0</td>\n",
       "      <td>5.167889e+07</td>\n",
       "      <td>0.403721</td>\n",
       "      <td>0.404959</td>\n",
       "      <td>0.404339</td>\n",
       "      <td>0.000059</td>\n",
       "    </tr>\n",
       "  </tbody>\n",
       "</table>\n",
       "</div>"
      ],
      "text/plain": [
       "   Pileup  L1T Reduction Ratio     Power (W)  Accuracy (%)  Recall (%)  \\\n",
       "0    60.0                400.0  3.223989e+05      0.275449    0.276553   \n",
       "1   200.0                400.0  6.979455e+06      0.233268    0.237475   \n",
       "2   200.0                 53.0  5.167889e+07      0.403721    0.404959   \n",
       "\n",
       "   F1 Score (%)  Productivity (Relevant Samples/J)  \n",
       "0      0.276000                           0.000858  \n",
       "1      0.235353                           0.000034  \n",
       "2      0.404339                           0.000059  "
      ]
     },
     "execution_count": 54,
     "metadata": {},
     "output_type": "execute_result"
    }
   ],
   "source": [
    "df2"
   ]
  },
  {
   "cell_type": "code",
   "execution_count": 55,
   "metadata": {},
   "outputs": [
    {
     "data": {
      "text/plain": [
       "0.034260292586751055"
      ]
     },
     "execution_count": 55,
     "metadata": {},
     "output_type": "execute_result"
    }
   ],
   "source": [
    "extract_results(baseline_2)[-1] * 1000"
   ]
  },
  {
   "cell_type": "code",
   "execution_count": 56,
   "metadata": {},
   "outputs": [
    {
     "data": {
      "text/plain": [
       "0.05887606809074921"
      ]
     },
     "execution_count": 56,
     "metadata": {},
     "output_type": "execute_result"
    }
   ],
   "source": [
    "extract_results(baseline)[-1] * 1000"
   ]
  },
  {
   "cell_type": "code",
   "execution_count": 57,
   "metadata": {},
   "outputs": [
    {
     "data": {
      "text/plain": [
       "0.8577945278104697"
      ]
     },
     "execution_count": 57,
     "metadata": {},
     "output_type": "execute_result"
    }
   ],
   "source": [
    "extract_results(baseline_r3)[-1] * 1000"
   ]
  },
  {
   "cell_type": "code",
   "execution_count": 58,
   "metadata": {},
   "outputs": [
    {
     "data": {
      "text/plain": [
       "0.034260292586751055"
      ]
     },
     "execution_count": 58,
     "metadata": {},
     "output_type": "execute_result"
    }
   ],
   "source": [
    "extract_results(baseline_2)[-1] * 1000"
   ]
  },
  {
   "cell_type": "code",
   "execution_count": 59,
   "metadata": {},
   "outputs": [
    {
     "data": {
      "text/plain": [
       "0.05887606809074921"
      ]
     },
     "execution_count": 59,
     "metadata": {},
     "output_type": "execute_result"
    }
   ],
   "source": [
    "extract_results(baseline)[-1] * 1000"
   ]
  },
  {
   "cell_type": "code",
   "execution_count": 60,
   "metadata": {},
   "outputs": [],
   "source": [
    "all_graphs = [baseline_r3, baseline, gpu, l1t, smpx, gpu_l1t, smpx_l1t, gpu_smpx, gpu_smpx_l1t]"
   ]
  },
  {
   "cell_type": "code",
   "execution_count": 61,
   "metadata": {},
   "outputs": [],
   "source": [
    "pileup = np.array([[60, 200, 200, 200, 200, 200, 200, 200, 200,],])\n",
    "rejection = np.array([[400, 53, 53, 53, 53, 53, 53, 53, 53],])\n",
    "has_gpu = [False, False, True, False, False, True, False, True, True]\n",
    "has_smpx = [False, False, False, False, True, False, True, True, True]\n",
    "has_l1t = [False, False, False, True, False, True, True, False, True]"
   ]
  },
  {
   "cell_type": "code",
   "execution_count": 62,
   "metadata": {},
   "outputs": [],
   "source": [
    "results = np.stack([extract_results(g) for g in all_graphs])"
   ]
  },
  {
   "cell_type": "code",
   "execution_count": 63,
   "metadata": {},
   "outputs": [
    {
     "data": {
      "text/plain": [
       "array([[3.22398886e+05, 2.75449102e-01, 2.76553106e-01, 2.76000000e-01,\n",
       "        8.57794528e-04],\n",
       "       [5.16788909e+07, 4.03720930e-01, 4.04958678e-01, 4.04338857e-01,\n",
       "        5.88760681e-05],\n",
       "       [2.58809180e+07, 3.80376167e-01, 3.85497201e-01, 3.82919563e-01,\n",
       "        1.12489728e-04],\n",
       "       [5.16528809e+07, 1.00000000e+00, 7.93121834e-01, 8.84626821e-01,\n",
       "        1.01901956e-04],\n",
       "       [4.08977083e+07, 4.03720930e-01, 4.04958678e-01, 4.04338857e-01,\n",
       "        7.43965866e-05],\n",
       "       [2.60114117e+07, 1.00000000e+00, 7.95921088e-01, 8.86365323e-01,\n",
       "        2.03467901e-04],\n",
       "       [4.08771301e+07, 1.00000000e+00, 7.93121834e-01, 8.84626821e-01,\n",
       "        1.28764656e-04],\n",
       "       [2.04872869e+07, 3.80376167e-01, 3.85497201e-01, 3.82919563e-01,\n",
       "        1.42104587e-04],\n",
       "       [2.05905288e+07, 1.00000000e+00, 7.95921088e-01, 8.86365323e-01,\n",
       "        2.57035037e-04]])"
      ]
     },
     "execution_count": 63,
     "metadata": {},
     "output_type": "execute_result"
    }
   ],
   "source": [
    "results"
   ]
  },
  {
   "cell_type": "code",
   "execution_count": 64,
   "metadata": {},
   "outputs": [
    {
     "data": {
      "text/plain": [
       "(1, 9)"
      ]
     },
     "execution_count": 64,
     "metadata": {},
     "output_type": "execute_result"
    }
   ],
   "source": [
    "pileup.shape"
   ]
  },
  {
   "cell_type": "code",
   "execution_count": 65,
   "metadata": {},
   "outputs": [
    {
     "data": {
      "text/plain": [
       "(1, 9)"
      ]
     },
     "execution_count": 65,
     "metadata": {},
     "output_type": "execute_result"
    }
   ],
   "source": [
    "rejection.shape"
   ]
  },
  {
   "cell_type": "code",
   "execution_count": 66,
   "metadata": {},
   "outputs": [],
   "source": [
    "results = np.concatenate((pileup, rejection, np.transpose(results)), axis=0)"
   ]
  },
  {
   "cell_type": "code",
   "execution_count": 67,
   "metadata": {},
   "outputs": [
    {
     "data": {
      "text/plain": [
       "array([[6.00000000e+01, 2.00000000e+02, 2.00000000e+02, 2.00000000e+02,\n",
       "        2.00000000e+02, 2.00000000e+02, 2.00000000e+02, 2.00000000e+02,\n",
       "        2.00000000e+02],\n",
       "       [4.00000000e+02, 5.30000000e+01, 5.30000000e+01, 5.30000000e+01,\n",
       "        5.30000000e+01, 5.30000000e+01, 5.30000000e+01, 5.30000000e+01,\n",
       "        5.30000000e+01],\n",
       "       [3.22398886e+05, 5.16788909e+07, 2.58809180e+07, 5.16528809e+07,\n",
       "        4.08977083e+07, 2.60114117e+07, 4.08771301e+07, 2.04872869e+07,\n",
       "        2.05905288e+07],\n",
       "       [2.75449102e-01, 4.03720930e-01, 3.80376167e-01, 1.00000000e+00,\n",
       "        4.03720930e-01, 1.00000000e+00, 1.00000000e+00, 3.80376167e-01,\n",
       "        1.00000000e+00],\n",
       "       [2.76553106e-01, 4.04958678e-01, 3.85497201e-01, 7.93121834e-01,\n",
       "        4.04958678e-01, 7.95921088e-01, 7.93121834e-01, 3.85497201e-01,\n",
       "        7.95921088e-01],\n",
       "       [2.76000000e-01, 4.04338857e-01, 3.82919563e-01, 8.84626821e-01,\n",
       "        4.04338857e-01, 8.86365323e-01, 8.84626821e-01, 3.82919563e-01,\n",
       "        8.86365323e-01],\n",
       "       [8.57794528e-04, 5.88760681e-05, 1.12489728e-04, 1.01901956e-04,\n",
       "        7.43965866e-05, 2.03467901e-04, 1.28764656e-04, 1.42104587e-04,\n",
       "        2.57035037e-04]])"
      ]
     },
     "execution_count": 67,
     "metadata": {},
     "output_type": "execute_result"
    }
   ],
   "source": [
    "results"
   ]
  },
  {
   "cell_type": "code",
   "execution_count": 68,
   "metadata": {},
   "outputs": [],
   "source": [
    "df = pd.DataFrame(results.transpose(), columns = [\"Pileup\", \"L1T Reduction Ratio\", \"Power (W)\", \"Accuracy (%)\", \"Recall (%)\", \"F1 Score (%)\", \"Productivity (Relevant Samples/J)\"])"
   ]
  },
  {
   "cell_type": "code",
   "execution_count": 69,
   "metadata": {},
   "outputs": [],
   "source": [
    "df[\"GPU HLT\"] = has_gpu\n",
    "df[\"L1T Tracking\"] = has_l1t\n",
    "df[\"Smart Sensors\"] = has_smpx"
   ]
  },
  {
   "cell_type": "code",
   "execution_count": 70,
   "metadata": {},
   "outputs": [
    {
     "data": {
      "text/html": [
       "<div>\n",
       "<style scoped>\n",
       "    .dataframe tbody tr th:only-of-type {\n",
       "        vertical-align: middle;\n",
       "    }\n",
       "\n",
       "    .dataframe tbody tr th {\n",
       "        vertical-align: top;\n",
       "    }\n",
       "\n",
       "    .dataframe thead th {\n",
       "        text-align: right;\n",
       "    }\n",
       "</style>\n",
       "<table border=\"1\" class=\"dataframe\">\n",
       "  <thead>\n",
       "    <tr style=\"text-align: right;\">\n",
       "      <th></th>\n",
       "      <th>Pileup</th>\n",
       "      <th>L1T Reduction Ratio</th>\n",
       "      <th>Power (W)</th>\n",
       "      <th>Accuracy (%)</th>\n",
       "      <th>Recall (%)</th>\n",
       "      <th>F1 Score (%)</th>\n",
       "      <th>Productivity (Relevant Samples/J)</th>\n",
       "      <th>GPU HLT</th>\n",
       "      <th>L1T Tracking</th>\n",
       "      <th>Smart Sensors</th>\n",
       "    </tr>\n",
       "  </thead>\n",
       "  <tbody>\n",
       "    <tr>\n",
       "      <th>0</th>\n",
       "      <td>60.0</td>\n",
       "      <td>400.0</td>\n",
       "      <td>3.223989e+05</td>\n",
       "      <td>0.275449</td>\n",
       "      <td>0.276553</td>\n",
       "      <td>0.276000</td>\n",
       "      <td>0.000858</td>\n",
       "      <td>False</td>\n",
       "      <td>False</td>\n",
       "      <td>False</td>\n",
       "    </tr>\n",
       "    <tr>\n",
       "      <th>1</th>\n",
       "      <td>200.0</td>\n",
       "      <td>53.0</td>\n",
       "      <td>5.167889e+07</td>\n",
       "      <td>0.403721</td>\n",
       "      <td>0.404959</td>\n",
       "      <td>0.404339</td>\n",
       "      <td>0.000059</td>\n",
       "      <td>False</td>\n",
       "      <td>False</td>\n",
       "      <td>False</td>\n",
       "    </tr>\n",
       "    <tr>\n",
       "      <th>2</th>\n",
       "      <td>200.0</td>\n",
       "      <td>53.0</td>\n",
       "      <td>2.588092e+07</td>\n",
       "      <td>0.380376</td>\n",
       "      <td>0.385497</td>\n",
       "      <td>0.382920</td>\n",
       "      <td>0.000112</td>\n",
       "      <td>True</td>\n",
       "      <td>False</td>\n",
       "      <td>False</td>\n",
       "    </tr>\n",
       "    <tr>\n",
       "      <th>3</th>\n",
       "      <td>200.0</td>\n",
       "      <td>53.0</td>\n",
       "      <td>5.165288e+07</td>\n",
       "      <td>1.000000</td>\n",
       "      <td>0.793122</td>\n",
       "      <td>0.884627</td>\n",
       "      <td>0.000102</td>\n",
       "      <td>False</td>\n",
       "      <td>True</td>\n",
       "      <td>False</td>\n",
       "    </tr>\n",
       "    <tr>\n",
       "      <th>4</th>\n",
       "      <td>200.0</td>\n",
       "      <td>53.0</td>\n",
       "      <td>4.089771e+07</td>\n",
       "      <td>0.403721</td>\n",
       "      <td>0.404959</td>\n",
       "      <td>0.404339</td>\n",
       "      <td>0.000074</td>\n",
       "      <td>False</td>\n",
       "      <td>False</td>\n",
       "      <td>True</td>\n",
       "    </tr>\n",
       "    <tr>\n",
       "      <th>5</th>\n",
       "      <td>200.0</td>\n",
       "      <td>53.0</td>\n",
       "      <td>2.601141e+07</td>\n",
       "      <td>1.000000</td>\n",
       "      <td>0.795921</td>\n",
       "      <td>0.886365</td>\n",
       "      <td>0.000203</td>\n",
       "      <td>True</td>\n",
       "      <td>True</td>\n",
       "      <td>False</td>\n",
       "    </tr>\n",
       "    <tr>\n",
       "      <th>6</th>\n",
       "      <td>200.0</td>\n",
       "      <td>53.0</td>\n",
       "      <td>4.087713e+07</td>\n",
       "      <td>1.000000</td>\n",
       "      <td>0.793122</td>\n",
       "      <td>0.884627</td>\n",
       "      <td>0.000129</td>\n",
       "      <td>False</td>\n",
       "      <td>True</td>\n",
       "      <td>True</td>\n",
       "    </tr>\n",
       "    <tr>\n",
       "      <th>7</th>\n",
       "      <td>200.0</td>\n",
       "      <td>53.0</td>\n",
       "      <td>2.048729e+07</td>\n",
       "      <td>0.380376</td>\n",
       "      <td>0.385497</td>\n",
       "      <td>0.382920</td>\n",
       "      <td>0.000142</td>\n",
       "      <td>True</td>\n",
       "      <td>False</td>\n",
       "      <td>True</td>\n",
       "    </tr>\n",
       "    <tr>\n",
       "      <th>8</th>\n",
       "      <td>200.0</td>\n",
       "      <td>53.0</td>\n",
       "      <td>2.059053e+07</td>\n",
       "      <td>1.000000</td>\n",
       "      <td>0.795921</td>\n",
       "      <td>0.886365</td>\n",
       "      <td>0.000257</td>\n",
       "      <td>True</td>\n",
       "      <td>True</td>\n",
       "      <td>True</td>\n",
       "    </tr>\n",
       "  </tbody>\n",
       "</table>\n",
       "</div>"
      ],
      "text/plain": [
       "   Pileup  L1T Reduction Ratio     Power (W)  Accuracy (%)  Recall (%)  \\\n",
       "0    60.0                400.0  3.223989e+05      0.275449    0.276553   \n",
       "1   200.0                 53.0  5.167889e+07      0.403721    0.404959   \n",
       "2   200.0                 53.0  2.588092e+07      0.380376    0.385497   \n",
       "3   200.0                 53.0  5.165288e+07      1.000000    0.793122   \n",
       "4   200.0                 53.0  4.089771e+07      0.403721    0.404959   \n",
       "5   200.0                 53.0  2.601141e+07      1.000000    0.795921   \n",
       "6   200.0                 53.0  4.087713e+07      1.000000    0.793122   \n",
       "7   200.0                 53.0  2.048729e+07      0.380376    0.385497   \n",
       "8   200.0                 53.0  2.059053e+07      1.000000    0.795921   \n",
       "\n",
       "   F1 Score (%)  Productivity (Relevant Samples/J)  GPU HLT  L1T Tracking  \\\n",
       "0      0.276000                           0.000858    False         False   \n",
       "1      0.404339                           0.000059    False         False   \n",
       "2      0.382920                           0.000112     True         False   \n",
       "3      0.884627                           0.000102    False          True   \n",
       "4      0.404339                           0.000074    False         False   \n",
       "5      0.886365                           0.000203     True          True   \n",
       "6      0.884627                           0.000129    False          True   \n",
       "7      0.382920                           0.000142     True         False   \n",
       "8      0.886365                           0.000257     True          True   \n",
       "\n",
       "   Smart Sensors  \n",
       "0          False  \n",
       "1          False  \n",
       "2          False  \n",
       "3          False  \n",
       "4           True  \n",
       "5          False  \n",
       "6           True  \n",
       "7           True  \n",
       "8           True  "
      ]
     },
     "execution_count": 70,
     "metadata": {},
     "output_type": "execute_result"
    }
   ],
   "source": [
    "df"
   ]
  },
  {
   "cell_type": "code",
   "execution_count": 71,
   "metadata": {},
   "outputs": [
    {
     "data": {
      "text/html": [
       "<div>\n",
       "<style scoped>\n",
       "    .dataframe tbody tr th:only-of-type {\n",
       "        vertical-align: middle;\n",
       "    }\n",
       "\n",
       "    .dataframe tbody tr th {\n",
       "        vertical-align: top;\n",
       "    }\n",
       "\n",
       "    .dataframe thead th {\n",
       "        text-align: right;\n",
       "    }\n",
       "</style>\n",
       "<table border=\"1\" class=\"dataframe\">\n",
       "  <thead>\n",
       "    <tr style=\"text-align: right;\">\n",
       "      <th></th>\n",
       "      <th>Pileup</th>\n",
       "      <th>L1T Reduction Ratio</th>\n",
       "      <th>Power (W)</th>\n",
       "      <th>Accuracy (%)</th>\n",
       "      <th>Recall (%)</th>\n",
       "      <th>F1 Score (%)</th>\n",
       "      <th>Productivity (Relevant Samples/J)</th>\n",
       "      <th>GPU HLT</th>\n",
       "      <th>L1T Tracking</th>\n",
       "      <th>Smart Sensors</th>\n",
       "    </tr>\n",
       "  </thead>\n",
       "  <tbody>\n",
       "    <tr>\n",
       "      <th>1</th>\n",
       "      <td>200.0</td>\n",
       "      <td>53.0</td>\n",
       "      <td>5.167889e+07</td>\n",
       "      <td>0.403721</td>\n",
       "      <td>0.404959</td>\n",
       "      <td>0.404339</td>\n",
       "      <td>0.000059</td>\n",
       "      <td>False</td>\n",
       "      <td>False</td>\n",
       "      <td>False</td>\n",
       "    </tr>\n",
       "    <tr>\n",
       "      <th>2</th>\n",
       "      <td>200.0</td>\n",
       "      <td>53.0</td>\n",
       "      <td>2.588092e+07</td>\n",
       "      <td>0.380376</td>\n",
       "      <td>0.385497</td>\n",
       "      <td>0.382920</td>\n",
       "      <td>0.000112</td>\n",
       "      <td>True</td>\n",
       "      <td>False</td>\n",
       "      <td>False</td>\n",
       "    </tr>\n",
       "    <tr>\n",
       "      <th>3</th>\n",
       "      <td>200.0</td>\n",
       "      <td>53.0</td>\n",
       "      <td>5.165288e+07</td>\n",
       "      <td>1.000000</td>\n",
       "      <td>0.793122</td>\n",
       "      <td>0.884627</td>\n",
       "      <td>0.000102</td>\n",
       "      <td>False</td>\n",
       "      <td>True</td>\n",
       "      <td>False</td>\n",
       "    </tr>\n",
       "    <tr>\n",
       "      <th>4</th>\n",
       "      <td>200.0</td>\n",
       "      <td>53.0</td>\n",
       "      <td>4.089771e+07</td>\n",
       "      <td>0.403721</td>\n",
       "      <td>0.404959</td>\n",
       "      <td>0.404339</td>\n",
       "      <td>0.000074</td>\n",
       "      <td>False</td>\n",
       "      <td>False</td>\n",
       "      <td>True</td>\n",
       "    </tr>\n",
       "    <tr>\n",
       "      <th>5</th>\n",
       "      <td>200.0</td>\n",
       "      <td>53.0</td>\n",
       "      <td>2.601141e+07</td>\n",
       "      <td>1.000000</td>\n",
       "      <td>0.795921</td>\n",
       "      <td>0.886365</td>\n",
       "      <td>0.000203</td>\n",
       "      <td>True</td>\n",
       "      <td>True</td>\n",
       "      <td>False</td>\n",
       "    </tr>\n",
       "    <tr>\n",
       "      <th>6</th>\n",
       "      <td>200.0</td>\n",
       "      <td>53.0</td>\n",
       "      <td>4.087713e+07</td>\n",
       "      <td>1.000000</td>\n",
       "      <td>0.793122</td>\n",
       "      <td>0.884627</td>\n",
       "      <td>0.000129</td>\n",
       "      <td>False</td>\n",
       "      <td>True</td>\n",
       "      <td>True</td>\n",
       "    </tr>\n",
       "    <tr>\n",
       "      <th>7</th>\n",
       "      <td>200.0</td>\n",
       "      <td>53.0</td>\n",
       "      <td>2.048729e+07</td>\n",
       "      <td>0.380376</td>\n",
       "      <td>0.385497</td>\n",
       "      <td>0.382920</td>\n",
       "      <td>0.000142</td>\n",
       "      <td>True</td>\n",
       "      <td>False</td>\n",
       "      <td>True</td>\n",
       "    </tr>\n",
       "    <tr>\n",
       "      <th>8</th>\n",
       "      <td>200.0</td>\n",
       "      <td>53.0</td>\n",
       "      <td>2.059053e+07</td>\n",
       "      <td>1.000000</td>\n",
       "      <td>0.795921</td>\n",
       "      <td>0.886365</td>\n",
       "      <td>0.000257</td>\n",
       "      <td>True</td>\n",
       "      <td>True</td>\n",
       "      <td>True</td>\n",
       "    </tr>\n",
       "  </tbody>\n",
       "</table>\n",
       "</div>"
      ],
      "text/plain": [
       "   Pileup  L1T Reduction Ratio     Power (W)  Accuracy (%)  Recall (%)  \\\n",
       "1   200.0                 53.0  5.167889e+07      0.403721    0.404959   \n",
       "2   200.0                 53.0  2.588092e+07      0.380376    0.385497   \n",
       "3   200.0                 53.0  5.165288e+07      1.000000    0.793122   \n",
       "4   200.0                 53.0  4.089771e+07      0.403721    0.404959   \n",
       "5   200.0                 53.0  2.601141e+07      1.000000    0.795921   \n",
       "6   200.0                 53.0  4.087713e+07      1.000000    0.793122   \n",
       "7   200.0                 53.0  2.048729e+07      0.380376    0.385497   \n",
       "8   200.0                 53.0  2.059053e+07      1.000000    0.795921   \n",
       "\n",
       "   F1 Score (%)  Productivity (Relevant Samples/J)  GPU HLT  L1T Tracking  \\\n",
       "1      0.404339                           0.000059    False         False   \n",
       "2      0.382920                           0.000112     True         False   \n",
       "3      0.884627                           0.000102    False          True   \n",
       "4      0.404339                           0.000074    False         False   \n",
       "5      0.886365                           0.000203     True          True   \n",
       "6      0.884627                           0.000129    False          True   \n",
       "7      0.382920                           0.000142     True         False   \n",
       "8      0.886365                           0.000257     True          True   \n",
       "\n",
       "   Smart Sensors  \n",
       "1          False  \n",
       "2          False  \n",
       "3          False  \n",
       "4           True  \n",
       "5          False  \n",
       "6           True  \n",
       "7           True  \n",
       "8           True  "
      ]
     },
     "execution_count": 71,
     "metadata": {},
     "output_type": "execute_result"
    }
   ],
   "source": [
    "df.iloc[1:]"
   ]
  },
  {
   "cell_type": "code",
   "execution_count": 76,
   "metadata": {},
   "outputs": [
    {
     "data": {
      "text/plain": [
       "1    0.058876\n",
       "2    0.112490\n",
       "3    0.101902\n",
       "4    0.074397\n",
       "5    0.203468\n",
       "6    0.128765\n",
       "7    0.142105\n",
       "8    0.257035\n",
       "Name: Productivity (Relevant Samples/J), dtype: float64"
      ]
     },
     "execution_count": 76,
     "metadata": {},
     "output_type": "execute_result"
    }
   ],
   "source": [
    "df.iloc[1:][\"Productivity (Relevant Samples/J)\"] * 1000"
   ]
  },
  {
   "cell_type": "code",
   "execution_count": 77,
   "metadata": {},
   "outputs": [
    {
     "data": {
      "text/plain": [
       "0    0.857795\n",
       "1    0.058876\n",
       "2    0.112490\n",
       "3    0.101902\n",
       "4    0.074397\n",
       "5    0.203468\n",
       "6    0.128765\n",
       "7    0.142105\n",
       "8    0.257035\n",
       "Name: Productivity (Relevant Samples/J), dtype: float64"
      ]
     },
     "execution_count": 77,
     "metadata": {},
     "output_type": "execute_result"
    }
   ],
   "source": [
    "df[\"Productivity (Relevant Samples/J)\"] * 1e3"
   ]
  },
  {
   "cell_type": "code",
   "execution_count": 74,
   "metadata": {},
   "outputs": [],
   "source": [
    "df.to_excel(\"experimental_table.xlsx\", index=False)"
   ]
  },
  {
   "cell_type": "code",
   "execution_count": 75,
   "metadata": {},
   "outputs": [
    {
     "data": {
      "text/plain": [
       "6.499570514329353"
      ]
     },
     "execution_count": 75,
     "metadata": {},
     "output_type": "execute_result"
    }
   ],
   "source": [
    "density_scale_model(2032)"
   ]
  },
  {
   "cell_type": "code",
   "execution_count": null,
   "metadata": {},
   "outputs": [],
   "source": []
  }
 ],
 "metadata": {
  "kernelspec": {
   "display_name": "jax",
   "language": "python",
   "name": "python3"
  },
  "language_info": {
   "codemirror_mode": {
    "name": "ipython",
    "version": 3
   },
   "file_extension": ".py",
   "mimetype": "text/x-python",
   "name": "python",
   "nbconvert_exporter": "python",
   "pygments_lexer": "ipython3",
   "version": "3.10.4"
  }
 },
 "nbformat": 4,
 "nbformat_minor": 2
}
