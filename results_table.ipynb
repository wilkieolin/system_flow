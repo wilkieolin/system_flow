{
 "cells": [
  {
   "cell_type": "code",
   "execution_count": 1,
   "metadata": {},
   "outputs": [],
   "source": [
    "from graph import *\n",
    "from models import *\n",
    "from metrics import *\n",
    "\n",
    "import pandas as pd\n",
    "import matplotlib.pyplot as plt\n",
    "from scipy.optimize import curve_fit\n",
    "import plotly.graph_objects as go"
   ]
  },
  {
   "cell_type": "code",
   "execution_count": 8,
   "metadata": {},
   "outputs": [],
   "source": [
    "from copy import deepcopy"
   ]
  },
  {
   "cell_type": "code",
   "execution_count": 91,
   "metadata": {},
   "outputs": [],
   "source": [
    "# load data from the spreadsheet which defines the structure of the workflow,\n",
    "# as well as the parameters for data rates, efficiency, data reduction, and classifier performance\n",
    "run3_system = dataframes_from_spreadsheet(\"cms_system_60.xlsx\")\n",
    "run5_system = dataframes_from_spreadsheet(\"cms_system_200.xlsx\")"
   ]
  },
  {
   "cell_type": "code",
   "execution_count": 3,
   "metadata": {},
   "outputs": [
    {
     "data": {
      "text/html": [
       "<div>\n",
       "<style scoped>\n",
       "    .dataframe tbody tr th:only-of-type {\n",
       "        vertical-align: middle;\n",
       "    }\n",
       "\n",
       "    .dataframe tbody tr th {\n",
       "        vertical-align: top;\n",
       "    }\n",
       "\n",
       "    .dataframe thead th {\n",
       "        text-align: right;\n",
       "    }\n",
       "</style>\n",
       "<table border=\"1\" class=\"dataframe\">\n",
       "  <thead>\n",
       "    <tr style=\"text-align: right;\">\n",
       "      <th></th>\n",
       "      <th>Category</th>\n",
       "      <th>Detector</th>\n",
       "      <th>Data (bytes)</th>\n",
       "      <th>Sample Rate</th>\n",
       "      <th>Compression</th>\n",
       "      <th>Link Efficiency (J/bit)</th>\n",
       "      <th>Op Efficiency (J/op)</th>\n",
       "      <th>PU 200</th>\n",
       "    </tr>\n",
       "  </thead>\n",
       "  <tbody>\n",
       "    <tr>\n",
       "      <th>0</th>\n",
       "      <td>Tracking</td>\n",
       "      <td>Inner Tracker</td>\n",
       "      <td>1440000</td>\n",
       "      <td>40000000</td>\n",
       "      <td>0</td>\n",
       "      <td>2.220000e-11</td>\n",
       "      <td>0</td>\n",
       "      <td>1.440</td>\n",
       "    </tr>\n",
       "    <tr>\n",
       "      <th>1</th>\n",
       "      <td>Tracking</td>\n",
       "      <td>Outer Tracker PS</td>\n",
       "      <td>720000</td>\n",
       "      <td>40000000</td>\n",
       "      <td>0</td>\n",
       "      <td>2.220000e-11</td>\n",
       "      <td>0</td>\n",
       "      <td>0.720</td>\n",
       "    </tr>\n",
       "    <tr>\n",
       "      <th>2</th>\n",
       "      <td>Tracking</td>\n",
       "      <td>Outer Tracker 2S</td>\n",
       "      <td>430000</td>\n",
       "      <td>40000000</td>\n",
       "      <td>0</td>\n",
       "      <td>2.220000e-11</td>\n",
       "      <td>0</td>\n",
       "      <td>0.430</td>\n",
       "    </tr>\n",
       "    <tr>\n",
       "      <th>3</th>\n",
       "      <td>Tracking</td>\n",
       "      <td>Track Finder TPG</td>\n",
       "      <td>10000</td>\n",
       "      <td>40000000</td>\n",
       "      <td>0</td>\n",
       "      <td>2.220000e-11</td>\n",
       "      <td>0</td>\n",
       "      <td>0.010</td>\n",
       "    </tr>\n",
       "    <tr>\n",
       "      <th>4</th>\n",
       "      <td>Timing</td>\n",
       "      <td>MIP Timing BTL</td>\n",
       "      <td>240000</td>\n",
       "      <td>40000000</td>\n",
       "      <td>0</td>\n",
       "      <td>2.220000e-11</td>\n",
       "      <td>0</td>\n",
       "      <td>0.240</td>\n",
       "    </tr>\n",
       "    <tr>\n",
       "      <th>5</th>\n",
       "      <td>Timing</td>\n",
       "      <td>MIP Timing ETL</td>\n",
       "      <td>440000</td>\n",
       "      <td>40000000</td>\n",
       "      <td>0</td>\n",
       "      <td>2.220000e-11</td>\n",
       "      <td>0</td>\n",
       "      <td>0.440</td>\n",
       "    </tr>\n",
       "    <tr>\n",
       "      <th>6</th>\n",
       "      <td>Calorimetry</td>\n",
       "      <td>ECAL Barrel</td>\n",
       "      <td>600000</td>\n",
       "      <td>40000000</td>\n",
       "      <td>0</td>\n",
       "      <td>2.220000e-11</td>\n",
       "      <td>0</td>\n",
       "      <td>0.600</td>\n",
       "    </tr>\n",
       "    <tr>\n",
       "      <th>7</th>\n",
       "      <td>Calorimetry</td>\n",
       "      <td>HCAL Barrel</td>\n",
       "      <td>240000</td>\n",
       "      <td>40000000</td>\n",
       "      <td>0</td>\n",
       "      <td>2.220000e-11</td>\n",
       "      <td>0</td>\n",
       "      <td>0.240</td>\n",
       "    </tr>\n",
       "    <tr>\n",
       "      <th>8</th>\n",
       "      <td>Calorimetry</td>\n",
       "      <td>HCAL HO</td>\n",
       "      <td>30000</td>\n",
       "      <td>40000000</td>\n",
       "      <td>0</td>\n",
       "      <td>2.220000e-11</td>\n",
       "      <td>0</td>\n",
       "      <td>0.030</td>\n",
       "    </tr>\n",
       "    <tr>\n",
       "      <th>9</th>\n",
       "      <td>Calorimetry</td>\n",
       "      <td>HCAL HF</td>\n",
       "      <td>60000</td>\n",
       "      <td>40000000</td>\n",
       "      <td>0</td>\n",
       "      <td>2.220000e-11</td>\n",
       "      <td>0</td>\n",
       "      <td>0.060</td>\n",
       "    </tr>\n",
       "    <tr>\n",
       "      <th>10</th>\n",
       "      <td>Calorimetry</td>\n",
       "      <td>HGCAL</td>\n",
       "      <td>3000000</td>\n",
       "      <td>40000000</td>\n",
       "      <td>0</td>\n",
       "      <td>2.220000e-11</td>\n",
       "      <td>0</td>\n",
       "      <td>3.000</td>\n",
       "    </tr>\n",
       "    <tr>\n",
       "      <th>11</th>\n",
       "      <td>Calorimetry</td>\n",
       "      <td>HGCAL TPG Stage1</td>\n",
       "      <td>150000</td>\n",
       "      <td>40000000</td>\n",
       "      <td>0</td>\n",
       "      <td>2.220000e-11</td>\n",
       "      <td>0</td>\n",
       "      <td>0.150</td>\n",
       "    </tr>\n",
       "    <tr>\n",
       "      <th>12</th>\n",
       "      <td>Calorimetry</td>\n",
       "      <td>HGCAL TPG Stage2</td>\n",
       "      <td>50000</td>\n",
       "      <td>40000000</td>\n",
       "      <td>0</td>\n",
       "      <td>2.220000e-11</td>\n",
       "      <td>0</td>\n",
       "      <td>0.050</td>\n",
       "    </tr>\n",
       "    <tr>\n",
       "      <th>13</th>\n",
       "      <td>Muon</td>\n",
       "      <td>Muon DT</td>\n",
       "      <td>150000</td>\n",
       "      <td>40000000</td>\n",
       "      <td>0</td>\n",
       "      <td>2.220000e-11</td>\n",
       "      <td>0</td>\n",
       "      <td>0.150</td>\n",
       "    </tr>\n",
       "    <tr>\n",
       "      <th>14</th>\n",
       "      <td>Muon</td>\n",
       "      <td>Muon CSC</td>\n",
       "      <td>470000</td>\n",
       "      <td>40000000</td>\n",
       "      <td>0</td>\n",
       "      <td>2.220000e-11</td>\n",
       "      <td>0</td>\n",
       "      <td>0.470</td>\n",
       "    </tr>\n",
       "    <tr>\n",
       "      <th>15</th>\n",
       "      <td>Muon</td>\n",
       "      <td>Muon GEM GE1</td>\n",
       "      <td>3000</td>\n",
       "      <td>40000000</td>\n",
       "      <td>0</td>\n",
       "      <td>2.220000e-11</td>\n",
       "      <td>0</td>\n",
       "      <td>0.003</td>\n",
       "    </tr>\n",
       "    <tr>\n",
       "      <th>16</th>\n",
       "      <td>Muon</td>\n",
       "      <td>Muon GEM GE2</td>\n",
       "      <td>2000</td>\n",
       "      <td>40000000</td>\n",
       "      <td>0</td>\n",
       "      <td>2.220000e-11</td>\n",
       "      <td>0</td>\n",
       "      <td>0.002</td>\n",
       "    </tr>\n",
       "    <tr>\n",
       "      <th>17</th>\n",
       "      <td>Muon</td>\n",
       "      <td>Muon GEM ME0</td>\n",
       "      <td>120000</td>\n",
       "      <td>40000000</td>\n",
       "      <td>0</td>\n",
       "      <td>2.220000e-11</td>\n",
       "      <td>0</td>\n",
       "      <td>0.120</td>\n",
       "    </tr>\n",
       "    <tr>\n",
       "      <th>18</th>\n",
       "      <td>Muon</td>\n",
       "      <td>Muon RPC</td>\n",
       "      <td>10000</td>\n",
       "      <td>40000000</td>\n",
       "      <td>0</td>\n",
       "      <td>2.220000e-11</td>\n",
       "      <td>0</td>\n",
       "      <td>0.010</td>\n",
       "    </tr>\n",
       "  </tbody>\n",
       "</table>\n",
       "</div>"
      ],
      "text/plain": [
       "       Category          Detector  Data (bytes)  Sample Rate  Compression  \\\n",
       "0      Tracking     Inner Tracker       1440000     40000000            0   \n",
       "1      Tracking  Outer Tracker PS        720000     40000000            0   \n",
       "2      Tracking  Outer Tracker 2S        430000     40000000            0   \n",
       "3      Tracking  Track Finder TPG         10000     40000000            0   \n",
       "4        Timing    MIP Timing BTL        240000     40000000            0   \n",
       "5        Timing    MIP Timing ETL        440000     40000000            0   \n",
       "6   Calorimetry       ECAL Barrel        600000     40000000            0   \n",
       "7   Calorimetry       HCAL Barrel        240000     40000000            0   \n",
       "8   Calorimetry           HCAL HO         30000     40000000            0   \n",
       "9   Calorimetry           HCAL HF         60000     40000000            0   \n",
       "10  Calorimetry             HGCAL       3000000     40000000            0   \n",
       "11  Calorimetry  HGCAL TPG Stage1        150000     40000000            0   \n",
       "12  Calorimetry  HGCAL TPG Stage2         50000     40000000            0   \n",
       "13         Muon           Muon DT        150000     40000000            0   \n",
       "14         Muon          Muon CSC        470000     40000000            0   \n",
       "15         Muon      Muon GEM GE1          3000     40000000            0   \n",
       "16         Muon      Muon GEM GE2          2000     40000000            0   \n",
       "17         Muon      Muon GEM ME0        120000     40000000            0   \n",
       "18         Muon          Muon RPC         10000     40000000            0   \n",
       "\n",
       "    Link Efficiency (J/bit)  Op Efficiency (J/op)  PU 200  \n",
       "0              2.220000e-11                     0   1.440  \n",
       "1              2.220000e-11                     0   0.720  \n",
       "2              2.220000e-11                     0   0.430  \n",
       "3              2.220000e-11                     0   0.010  \n",
       "4              2.220000e-11                     0   0.240  \n",
       "5              2.220000e-11                     0   0.440  \n",
       "6              2.220000e-11                     0   0.600  \n",
       "7              2.220000e-11                     0   0.240  \n",
       "8              2.220000e-11                     0   0.030  \n",
       "9              2.220000e-11                     0   0.060  \n",
       "10             2.220000e-11                     0   3.000  \n",
       "11             2.220000e-11                     0   0.150  \n",
       "12             2.220000e-11                     0   0.050  \n",
       "13             2.220000e-11                     0   0.150  \n",
       "14             2.220000e-11                     0   0.470  \n",
       "15             2.220000e-11                     0   0.003  \n",
       "16             2.220000e-11                     0   0.002  \n",
       "17             2.220000e-11                     0   0.120  \n",
       "18             2.220000e-11                     0   0.010  "
      ]
     },
     "execution_count": 3,
     "metadata": {},
     "output_type": "execute_result"
    }
   ],
   "source": [
    "run5_system.detectors"
   ]
  },
  {
   "cell_type": "code",
   "execution_count": 4,
   "metadata": {},
   "outputs": [],
   "source": [
    "#import the data predicting wall time scaling by pileup\n",
    "scaling = pd.read_excel(\"wall time scaling.xlsx\", sheet_name=\"Data\")\n",
    "#fit a polynomial to this data for CPU and GPU runtimes\n",
    "fit_poly = lambda x, k3, k2, k1: k3 * x ** 3 + k2 * x ** 2 + k1 * x\n",
    "k, cv = curve_fit(fit_poly, scaling[\"Size\"], scaling[\"Wall Time\"])\n",
    "k_gpu, cv_gpu = curve_fit(fit_poly, scaling[\"Size\"], scaling[\"Wall Time GPU\"])"
   ]
  },
  {
   "cell_type": "code",
   "execution_count": 5,
   "metadata": {},
   "outputs": [],
   "source": [
    "#define a dictionary with functions defining the scaling of trigger runtimes with incoming data\n",
    "funcs = {\"Global\": lambda x: fit_poly(x, *k), \"Intermediate\": lambda x: x / 2.0e6}\n",
    "funcs_gpu = {\"Global\": lambda x: fit_poly(x, *k_gpu), \"Intermediate\": lambda x: x / 2.0e6}"
   ]
  },
  {
   "cell_type": "code",
   "execution_count": 92,
   "metadata": {},
   "outputs": [
    {
     "name": "stderr",
     "output_type": "stream",
     "text": [
      "/Users/wilkie/code/system_flow/classifier.py:197: IntegrationWarning: The maximum number of subdivisions (50) has been achieved.\n",
      "  If increasing the limit yields no improvement it is advised to analyze \n",
      "  the integrand in order to determine the difficulties.  If the position of a \n",
      "  local difficulty can be determined (singularity, discontinuity) one will \n",
      "  probably gain from splitting up the interval and calling the integrator \n",
      "  on the subranges.  Perhaps a special-purpose integrator should be used.\n",
      "  fit = lambda l: np.abs(self.egamma_rate - quad(lambda x: self.exp_dist(x, l) * interpolator(x), np.min(xs), np.max(xs))[0])\n"
     ]
    }
   ],
   "source": [
    "baseline_r3 = construct_graph(run3_system.detectors, run3_system.triggers, run3_system.globals, funcs)"
   ]
  },
  {
   "cell_type": "code",
   "execution_count": 6,
   "metadata": {},
   "outputs": [
    {
     "name": "stderr",
     "output_type": "stream",
     "text": [
      "/Users/wilkie/code/system_flow/classifier.py:197: IntegrationWarning: The maximum number of subdivisions (50) has been achieved.\n",
      "  If increasing the limit yields no improvement it is advised to analyze \n",
      "  the integrand in order to determine the difficulties.  If the position of a \n",
      "  local difficulty can be determined (singularity, discontinuity) one will \n",
      "  probably gain from splitting up the interval and calling the integrator \n",
      "  on the subranges.  Perhaps a special-purpose integrator should be used.\n",
      "  fit = lambda l: np.abs(self.egamma_rate - quad(lambda x: self.exp_dist(x, l) * interpolator(x), np.min(xs), np.max(xs))[0])\n"
     ]
    }
   ],
   "source": [
    "baseline = construct_graph(run5_system.detectors, run5_system.triggers, run5_system.globals, funcs)"
   ]
  },
  {
   "cell_type": "code",
   "execution_count": 52,
   "metadata": {},
   "outputs": [
    {
     "data": {
      "text/plain": [
       "{'type': 'processor',\n",
       " 'reduction ratio': 53.3,\n",
       " 'classifier': <classifier.L1TClassifier at 0x311a96020>,\n",
       " 'data reduction': 1.0,\n",
       " 'op efficiency': 0.003,\n",
       " 'sample data': 260000,\n",
       " 'complexity': <function __main__.<lambda>(x)>,\n",
       " 'global ratio': 5330.0,\n",
       " 'message size': 8425000.0,\n",
       " 'ops': 4.2125,\n",
       " 'input rate': 39999999,\n",
       " 'error matrix': array([[0.98132, 0.5152 ],\n",
       "        [0.01868, 0.4848 ]]),\n",
       " 'contingency': array([[39245435,     3866],\n",
       "        [  747059,     3637]]),\n",
       " 'discards': array([39245435,     3866]),\n",
       " 'output rate': 750696,\n",
       " 'energy': 0.012637500000000001,\n",
       " 'power': 505499.98736250005}"
      ]
     },
     "execution_count": 52,
     "metadata": {},
     "output_type": "execute_result"
    }
   ],
   "source": [
    "baseline.nodes[\"Intermediate\"]"
   ]
  },
  {
   "cell_type": "code",
   "execution_count": 38,
   "metadata": {},
   "outputs": [
    {
     "name": "stderr",
     "output_type": "stream",
     "text": [
      "/Users/wilkie/code/system_flow/classifier.py:197: IntegrationWarning: The maximum number of subdivisions (50) has been achieved.\n",
      "  If increasing the limit yields no improvement it is advised to analyze \n",
      "  the integrand in order to determine the difficulties.  If the position of a \n",
      "  local difficulty can be determined (singularity, discontinuity) one will \n",
      "  probably gain from splitting up the interval and calling the integrator \n",
      "  on the subranges.  Perhaps a special-purpose integrator should be used.\n",
      "  fit = lambda l: np.abs(self.egamma_rate - quad(lambda x: self.exp_dist(x, l) * interpolator(x), np.min(xs), np.max(xs))[0])\n"
     ]
    }
   ],
   "source": [
    "gpu = construct_graph(run5_system.detectors, run5_system.triggers, run5_system.globals, funcs_gpu)"
   ]
  },
  {
   "cell_type": "code",
   "execution_count": 138,
   "metadata": {},
   "outputs": [],
   "source": [
    "baseline_2 = deepcopy(baseline)\n",
    "baseline_2.nodes[\"Intermediate\"][\"reduction ratio\"] = 400\n",
    "baseline_2 = update_throughput(baseline_2)\n"
   ]
  },
  {
   "cell_type": "code",
   "execution_count": 39,
   "metadata": {},
   "outputs": [],
   "source": [
    "l1t = deepcopy(baseline)\n",
    "l1t.nodes[\"Intermediate\"][\"classifier\"].skill_boost = 0.40\n",
    "l1t = update_throughput(l1t)"
   ]
  },
  {
   "cell_type": "code",
   "execution_count": 40,
   "metadata": {},
   "outputs": [],
   "source": [
    "smpx = deepcopy(baseline)\n",
    "smpx.nodes[\"Inner Tracker\"][\"sample data\"] *= (1 - 0.54)\n",
    "smpx = update_throughput(smpx)"
   ]
  },
  {
   "cell_type": "code",
   "execution_count": 41,
   "metadata": {},
   "outputs": [],
   "source": [
    "gpu_smpx = deepcopy(gpu)\n",
    "gpu_smpx.nodes[\"Inner Tracker\"][\"sample data\"] *= (1 - 0.54)\n",
    "gpu_smpx = update_throughput(gpu_smpx)"
   ]
  },
  {
   "cell_type": "code",
   "execution_count": 42,
   "metadata": {},
   "outputs": [],
   "source": [
    "gpu_l1t = deepcopy(gpu)\n",
    "gpu_l1t.nodes[\"Intermediate\"][\"classifier\"].skill_boost = 0.40\n",
    "gpu_l1t = update_throughput(gpu_l1t)"
   ]
  },
  {
   "cell_type": "code",
   "execution_count": 43,
   "metadata": {},
   "outputs": [],
   "source": [
    "smpx_l1t = deepcopy(baseline)\n",
    "smpx_l1t.nodes[\"Inner Tracker\"][\"sample data\"] *= (1 - 0.54)\n",
    "smpx_l1t = update_throughput(smpx_l1t)"
   ]
  },
  {
   "cell_type": "code",
   "execution_count": 44,
   "metadata": {},
   "outputs": [],
   "source": [
    "gpu_smpx_l1t = deepcopy(gpu)\n",
    "gpu_smpx_l1t.nodes[\"Intermediate\"][\"classifier\"].skill_boost = 0.40\n",
    "gpu_smpx_l1t.nodes[\"Inner Tracker\"][\"sample data\"] *= (1 - 0.54)\n",
    "gpu_smpx_l1t = update_throughput(gpu_smpx_l1t)"
   ]
  },
  {
   "cell_type": "code",
   "execution_count": 45,
   "metadata": {},
   "outputs": [
    {
     "data": {
      "text/plain": [
       "7502"
      ]
     },
     "execution_count": 45,
     "metadata": {},
     "output_type": "execute_result"
    }
   ],
   "source": [
    "np.sum(gpu.graph[\"performance\"][:,1])"
   ]
  },
  {
   "cell_type": "code",
   "execution_count": 94,
   "metadata": {},
   "outputs": [],
   "source": [
    "def extract_results(graph):\n",
    "    power = (graph.graph[\"op power\"] + graph.graph[\"link power\"]) / density_scale_model(2032)\n",
    "    confusion = graph.graph[\"performance\"]\n",
    "    acc = precision(confusion)\n",
    "    rec = recall(confusion)\n",
    "    f1 = f1_score(confusion)\n",
    "    prod = f1 * np.sum(get_passed(confusion)) / power\n",
    "\n",
    "\n",
    "    return power, acc, rec, f1, prod"
   ]
  },
  {
   "cell_type": "code",
   "execution_count": 146,
   "metadata": {},
   "outputs": [],
   "source": [
    "conditions = [baseline_r3, baseline_2, baseline]"
   ]
  },
  {
   "cell_type": "code",
   "execution_count": 157,
   "metadata": {},
   "outputs": [],
   "source": [
    "pileup = np.array([60, 200, 200])[:,np.newaxis]\n",
    "rejection = np.array([400, 400, 53])[:,np.newaxis]"
   ]
  },
  {
   "cell_type": "code",
   "execution_count": 158,
   "metadata": {},
   "outputs": [
    {
     "data": {
      "text/plain": [
       "(3, 1)"
      ]
     },
     "execution_count": 158,
     "metadata": {},
     "output_type": "execute_result"
    }
   ],
   "source": [
    "pileup.shape"
   ]
  },
  {
   "cell_type": "code",
   "execution_count": 159,
   "metadata": {},
   "outputs": [],
   "source": [
    "cond_results = np.stack([extract_results(g) for g in conditions])"
   ]
  },
  {
   "cell_type": "code",
   "execution_count": null,
   "metadata": {},
   "outputs": [],
   "source": [
    "df2 = pd.DataFrame(cond_results.transpose(), columns = [\"Pileup\", \"L1T Reduction Ratio\", \"Power (W)\", \"Accuracy (%)\", \"Recall (%)\", \"F1 Score (%)\", \"Productivity (Relevant Samples/J)\"])"
   ]
  },
  {
   "cell_type": "code",
   "execution_count": 162,
   "metadata": {},
   "outputs": [],
   "source": [
    "cond_results = np.concatenate((pileup, rejection, cond_results), axis=1)"
   ]
  },
  {
   "cell_type": "code",
   "execution_count": 166,
   "metadata": {},
   "outputs": [],
   "source": [
    "df2 = pd.DataFrame(cond_results, columns = [\"Pileup\", \"L1T Reduction Ratio\", \"Power (W)\", \"Accuracy (%)\", \"Recall (%)\", \"F1 Score (%)\", \"Productivity (Relevant Samples/J)\"])"
   ]
  },
  {
   "cell_type": "code",
   "execution_count": 167,
   "metadata": {},
   "outputs": [
    {
     "data": {
      "text/html": [
       "<div>\n",
       "<style scoped>\n",
       "    .dataframe tbody tr th:only-of-type {\n",
       "        vertical-align: middle;\n",
       "    }\n",
       "\n",
       "    .dataframe tbody tr th {\n",
       "        vertical-align: top;\n",
       "    }\n",
       "\n",
       "    .dataframe thead th {\n",
       "        text-align: right;\n",
       "    }\n",
       "</style>\n",
       "<table border=\"1\" class=\"dataframe\">\n",
       "  <thead>\n",
       "    <tr style=\"text-align: right;\">\n",
       "      <th></th>\n",
       "      <th>Pileup</th>\n",
       "      <th>L1T Reduction Ratio</th>\n",
       "      <th>Power (W)</th>\n",
       "      <th>Accuracy (%)</th>\n",
       "      <th>Recall (%)</th>\n",
       "      <th>F1 Score (%)</th>\n",
       "      <th>Productivity (Relevant Samples/J)</th>\n",
       "    </tr>\n",
       "  </thead>\n",
       "  <tbody>\n",
       "    <tr>\n",
       "      <th>0</th>\n",
       "      <td>60.0</td>\n",
       "      <td>400.0</td>\n",
       "      <td>3.223451e+05</td>\n",
       "      <td>0.258741</td>\n",
       "      <td>0.259519</td>\n",
       "      <td>0.259130</td>\n",
       "      <td>0.000805</td>\n",
       "    </tr>\n",
       "    <tr>\n",
       "      <th>1</th>\n",
       "      <td>200.0</td>\n",
       "      <td>400.0</td>\n",
       "      <td>6.977945e+06</td>\n",
       "      <td>0.255744</td>\n",
       "      <td>0.256513</td>\n",
       "      <td>0.256128</td>\n",
       "      <td>0.000037</td>\n",
       "    </tr>\n",
       "    <tr>\n",
       "      <th>2</th>\n",
       "      <td>200.0</td>\n",
       "      <td>53.0</td>\n",
       "      <td>5.161452e+07</td>\n",
       "      <td>0.449507</td>\n",
       "      <td>0.449747</td>\n",
       "      <td>0.449627</td>\n",
       "      <td>0.000065</td>\n",
       "    </tr>\n",
       "  </tbody>\n",
       "</table>\n",
       "</div>"
      ],
      "text/plain": [
       "   Pileup  L1T Reduction Ratio     Power (W)  Accuracy (%)  Recall (%)  \\\n",
       "0    60.0                400.0  3.223451e+05      0.258741    0.259519   \n",
       "1   200.0                400.0  6.977945e+06      0.255744    0.256513   \n",
       "2   200.0                 53.0  5.161452e+07      0.449507    0.449747   \n",
       "\n",
       "   F1 Score (%)  Productivity (Relevant Samples/J)  \n",
       "0      0.259130                           0.000805  \n",
       "1      0.256128                           0.000037  \n",
       "2      0.449627                           0.000065  "
      ]
     },
     "execution_count": 167,
     "metadata": {},
     "output_type": "execute_result"
    }
   ],
   "source": [
    "df2"
   ]
  },
  {
   "cell_type": "code",
   "execution_count": null,
   "metadata": {},
   "outputs": [
    {
     "data": {
      "text/plain": [
       "0.03674207547314531"
      ]
     },
     "metadata": {},
     "output_type": "display_data"
    }
   ],
   "source": [
    "extract_results(baseline_2)[-1] * 1000"
   ]
  },
  {
   "cell_type": "code",
   "execution_count": null,
   "metadata": {},
   "outputs": [
    {
     "data": {
      "text/plain": [
       "0.06538662603179313"
      ]
     },
     "metadata": {},
     "output_type": "display_data"
    }
   ],
   "source": [
    "extract_results(baseline)[-1] * 1000"
   ]
  },
  {
   "cell_type": "code",
   "execution_count": 143,
   "metadata": {},
   "outputs": [
    {
     "data": {
      "text/plain": [
       "0.8046926231004671"
      ]
     },
     "execution_count": 143,
     "metadata": {},
     "output_type": "execute_result"
    }
   ],
   "source": [
    "extract_results(baseline_r3)[-1] * 1000"
   ]
  },
  {
   "cell_type": "code",
   "execution_count": 144,
   "metadata": {},
   "outputs": [
    {
     "data": {
      "text/plain": [
       "0.03674207547314531"
      ]
     },
     "execution_count": 144,
     "metadata": {},
     "output_type": "execute_result"
    }
   ],
   "source": [
    "extract_results(baseline_2)[-1] * 1000"
   ]
  },
  {
   "cell_type": "code",
   "execution_count": 145,
   "metadata": {},
   "outputs": [
    {
     "data": {
      "text/plain": [
       "0.06538662603179313"
      ]
     },
     "execution_count": 145,
     "metadata": {},
     "output_type": "execute_result"
    }
   ],
   "source": [
    "extract_results(baseline)[-1] * 1000"
   ]
  },
  {
   "cell_type": "code",
   "execution_count": 100,
   "metadata": {},
   "outputs": [],
   "source": [
    "all_graphs = [baseline_r3, baseline, gpu, l1t, smpx, gpu_l1t, smpx_l1t, gpu_smpx, gpu_smpx_l1t]"
   ]
  },
  {
   "cell_type": "code",
   "execution_count": 109,
   "metadata": {},
   "outputs": [],
   "source": [
    "pileup = np.array([[60, 200, 200, 200, 200, 200, 200, 200, 200,],])\n",
    "rejection = np.array([[400, 53, 53, 53, 53, 53, 53, 53, 53],])\n",
    "has_gpu = [False, False, True, False, False, True, False, True, True]\n",
    "has_smpx = [False, False, False, False, True, False, True, True, True]\n",
    "has_l1t = [False, False, False, True, False, True, True, False, True]"
   ]
  },
  {
   "cell_type": "code",
   "execution_count": 110,
   "metadata": {},
   "outputs": [],
   "source": [
    "results = np.stack([extract_results(g) for g in all_graphs])"
   ]
  },
  {
   "cell_type": "code",
   "execution_count": 111,
   "metadata": {},
   "outputs": [
    {
     "data": {
      "text/plain": [
       "array([[3.22345063e+05, 2.58741259e-01, 2.59519038e-01, 2.59129565e-01,\n",
       "        8.04692623e-04],\n",
       "       [5.16145190e+07, 4.49507061e-01, 4.49746734e-01, 4.49626866e-01,\n",
       "        6.53866260e-05],\n",
       "       [2.58561780e+07, 4.50972555e-01, 4.51213010e-01, 4.51092751e-01,\n",
       "        1.30951380e-04],\n",
       "       [5.17064788e+07, 8.38563830e-01, 8.40575846e-01, 8.39568633e-01,\n",
       "        1.22103772e-04],\n",
       "       [4.08467796e+07, 4.49507061e-01, 4.49746734e-01, 4.49626866e-01,\n",
       "        8.26233863e-05],\n",
       "       [2.58466045e+07, 8.39397574e-01, 8.39509464e-01, 8.39453515e-01,\n",
       "        2.43684610e-04],\n",
       "       [4.08467796e+07, 4.49507061e-01, 4.49746734e-01, 4.49626866e-01,\n",
       "        8.26233863e-05],\n",
       "       [2.04677135e+07, 4.50972555e-01, 4.51213010e-01, 4.51092751e-01,\n",
       "        1.65426499e-04],\n",
       "       [2.04601393e+07, 8.39397574e-01, 8.39509464e-01, 8.39453515e-01,\n",
       "        3.07838556e-04]])"
      ]
     },
     "execution_count": 111,
     "metadata": {},
     "output_type": "execute_result"
    }
   ],
   "source": [
    "results"
   ]
  },
  {
   "cell_type": "code",
   "execution_count": 123,
   "metadata": {},
   "outputs": [
    {
     "data": {
      "text/plain": [
       "(1, 9)"
      ]
     },
     "execution_count": 123,
     "metadata": {},
     "output_type": "execute_result"
    }
   ],
   "source": [
    "pileup.shape"
   ]
  },
  {
   "cell_type": "code",
   "execution_count": 124,
   "metadata": {},
   "outputs": [
    {
     "data": {
      "text/plain": [
       "(1, 9)"
      ]
     },
     "execution_count": 124,
     "metadata": {},
     "output_type": "execute_result"
    }
   ],
   "source": [
    "rejection.shape"
   ]
  },
  {
   "cell_type": "code",
   "execution_count": 125,
   "metadata": {},
   "outputs": [],
   "source": [
    "results = np.concatenate((pileup, rejection, np.transpose(results)), axis=0)"
   ]
  },
  {
   "cell_type": "code",
   "execution_count": 126,
   "metadata": {},
   "outputs": [
    {
     "data": {
      "text/plain": [
       "array([[6.00000000e+01, 2.00000000e+02, 2.00000000e+02, 2.00000000e+02,\n",
       "        2.00000000e+02, 2.00000000e+02, 2.00000000e+02, 2.00000000e+02,\n",
       "        2.00000000e+02],\n",
       "       [4.00000000e+02, 5.30000000e+01, 5.30000000e+01, 5.30000000e+01,\n",
       "        5.30000000e+01, 5.30000000e+01, 5.30000000e+01, 5.30000000e+01,\n",
       "        5.30000000e+01],\n",
       "       [3.22345063e+05, 5.16145190e+07, 2.58561780e+07, 5.17064788e+07,\n",
       "        4.08467796e+07, 2.58466045e+07, 4.08467796e+07, 2.04677135e+07,\n",
       "        2.04601393e+07],\n",
       "       [2.58741259e-01, 4.49507061e-01, 4.50972555e-01, 8.38563830e-01,\n",
       "        4.49507061e-01, 8.39397574e-01, 4.49507061e-01, 4.50972555e-01,\n",
       "        8.39397574e-01],\n",
       "       [2.59519038e-01, 4.49746734e-01, 4.51213010e-01, 8.40575846e-01,\n",
       "        4.49746734e-01, 8.39509464e-01, 4.49746734e-01, 4.51213010e-01,\n",
       "        8.39509464e-01],\n",
       "       [2.59129565e-01, 4.49626866e-01, 4.51092751e-01, 8.39568633e-01,\n",
       "        4.49626866e-01, 8.39453515e-01, 4.49626866e-01, 4.51092751e-01,\n",
       "        8.39453515e-01],\n",
       "       [8.04692623e-04, 6.53866260e-05, 1.30951380e-04, 1.22103772e-04,\n",
       "        8.26233863e-05, 2.43684610e-04, 8.26233863e-05, 1.65426499e-04,\n",
       "        3.07838556e-04]])"
      ]
     },
     "execution_count": 126,
     "metadata": {},
     "output_type": "execute_result"
    }
   ],
   "source": [
    "results"
   ]
  },
  {
   "cell_type": "code",
   "execution_count": 128,
   "metadata": {},
   "outputs": [],
   "source": [
    "df = pd.DataFrame(results.transpose(), columns = [\"Pileup\", \"L1T Reduction Ratio\", \"Power (W)\", \"Accuracy (%)\", \"Recall (%)\", \"F1 Score (%)\", \"Productivity (Relevant Samples/J)\"])"
   ]
  },
  {
   "cell_type": "code",
   "execution_count": 129,
   "metadata": {},
   "outputs": [],
   "source": [
    "df[\"GPU HLT\"] = has_gpu\n",
    "df[\"L1T Tracking\"] = has_l1t\n",
    "df[\"Smart Sensors\"] = has_smpx"
   ]
  },
  {
   "cell_type": "code",
   "execution_count": 130,
   "metadata": {},
   "outputs": [
    {
     "data": {
      "text/html": [
       "<div>\n",
       "<style scoped>\n",
       "    .dataframe tbody tr th:only-of-type {\n",
       "        vertical-align: middle;\n",
       "    }\n",
       "\n",
       "    .dataframe tbody tr th {\n",
       "        vertical-align: top;\n",
       "    }\n",
       "\n",
       "    .dataframe thead th {\n",
       "        text-align: right;\n",
       "    }\n",
       "</style>\n",
       "<table border=\"1\" class=\"dataframe\">\n",
       "  <thead>\n",
       "    <tr style=\"text-align: right;\">\n",
       "      <th></th>\n",
       "      <th>Pileup</th>\n",
       "      <th>L1T Reduction Ratio</th>\n",
       "      <th>Power (W)</th>\n",
       "      <th>Accuracy (%)</th>\n",
       "      <th>Recall (%)</th>\n",
       "      <th>F1 Score (%)</th>\n",
       "      <th>Productivity (Relevant Samples/J)</th>\n",
       "      <th>GPU HLT</th>\n",
       "      <th>L1T Tracking</th>\n",
       "      <th>Smart Sensors</th>\n",
       "    </tr>\n",
       "  </thead>\n",
       "  <tbody>\n",
       "    <tr>\n",
       "      <th>0</th>\n",
       "      <td>60.0</td>\n",
       "      <td>400.0</td>\n",
       "      <td>3.223451e+05</td>\n",
       "      <td>0.258741</td>\n",
       "      <td>0.259519</td>\n",
       "      <td>0.259130</td>\n",
       "      <td>0.000805</td>\n",
       "      <td>False</td>\n",
       "      <td>False</td>\n",
       "      <td>False</td>\n",
       "    </tr>\n",
       "    <tr>\n",
       "      <th>1</th>\n",
       "      <td>200.0</td>\n",
       "      <td>53.0</td>\n",
       "      <td>5.161452e+07</td>\n",
       "      <td>0.449507</td>\n",
       "      <td>0.449747</td>\n",
       "      <td>0.449627</td>\n",
       "      <td>0.000065</td>\n",
       "      <td>False</td>\n",
       "      <td>False</td>\n",
       "      <td>False</td>\n",
       "    </tr>\n",
       "    <tr>\n",
       "      <th>2</th>\n",
       "      <td>200.0</td>\n",
       "      <td>53.0</td>\n",
       "      <td>2.585618e+07</td>\n",
       "      <td>0.450973</td>\n",
       "      <td>0.451213</td>\n",
       "      <td>0.451093</td>\n",
       "      <td>0.000131</td>\n",
       "      <td>True</td>\n",
       "      <td>False</td>\n",
       "      <td>False</td>\n",
       "    </tr>\n",
       "    <tr>\n",
       "      <th>3</th>\n",
       "      <td>200.0</td>\n",
       "      <td>53.0</td>\n",
       "      <td>5.170648e+07</td>\n",
       "      <td>0.838564</td>\n",
       "      <td>0.840576</td>\n",
       "      <td>0.839569</td>\n",
       "      <td>0.000122</td>\n",
       "      <td>False</td>\n",
       "      <td>True</td>\n",
       "      <td>False</td>\n",
       "    </tr>\n",
       "    <tr>\n",
       "      <th>4</th>\n",
       "      <td>200.0</td>\n",
       "      <td>53.0</td>\n",
       "      <td>4.084678e+07</td>\n",
       "      <td>0.449507</td>\n",
       "      <td>0.449747</td>\n",
       "      <td>0.449627</td>\n",
       "      <td>0.000083</td>\n",
       "      <td>False</td>\n",
       "      <td>False</td>\n",
       "      <td>True</td>\n",
       "    </tr>\n",
       "    <tr>\n",
       "      <th>5</th>\n",
       "      <td>200.0</td>\n",
       "      <td>53.0</td>\n",
       "      <td>2.584660e+07</td>\n",
       "      <td>0.839398</td>\n",
       "      <td>0.839509</td>\n",
       "      <td>0.839454</td>\n",
       "      <td>0.000244</td>\n",
       "      <td>True</td>\n",
       "      <td>True</td>\n",
       "      <td>False</td>\n",
       "    </tr>\n",
       "    <tr>\n",
       "      <th>6</th>\n",
       "      <td>200.0</td>\n",
       "      <td>53.0</td>\n",
       "      <td>4.084678e+07</td>\n",
       "      <td>0.449507</td>\n",
       "      <td>0.449747</td>\n",
       "      <td>0.449627</td>\n",
       "      <td>0.000083</td>\n",
       "      <td>False</td>\n",
       "      <td>True</td>\n",
       "      <td>True</td>\n",
       "    </tr>\n",
       "    <tr>\n",
       "      <th>7</th>\n",
       "      <td>200.0</td>\n",
       "      <td>53.0</td>\n",
       "      <td>2.046771e+07</td>\n",
       "      <td>0.450973</td>\n",
       "      <td>0.451213</td>\n",
       "      <td>0.451093</td>\n",
       "      <td>0.000165</td>\n",
       "      <td>True</td>\n",
       "      <td>False</td>\n",
       "      <td>True</td>\n",
       "    </tr>\n",
       "    <tr>\n",
       "      <th>8</th>\n",
       "      <td>200.0</td>\n",
       "      <td>53.0</td>\n",
       "      <td>2.046014e+07</td>\n",
       "      <td>0.839398</td>\n",
       "      <td>0.839509</td>\n",
       "      <td>0.839454</td>\n",
       "      <td>0.000308</td>\n",
       "      <td>True</td>\n",
       "      <td>True</td>\n",
       "      <td>True</td>\n",
       "    </tr>\n",
       "  </tbody>\n",
       "</table>\n",
       "</div>"
      ],
      "text/plain": [
       "   Pileup  L1T Reduction Ratio     Power (W)  Accuracy (%)  Recall (%)  \\\n",
       "0    60.0                400.0  3.223451e+05      0.258741    0.259519   \n",
       "1   200.0                 53.0  5.161452e+07      0.449507    0.449747   \n",
       "2   200.0                 53.0  2.585618e+07      0.450973    0.451213   \n",
       "3   200.0                 53.0  5.170648e+07      0.838564    0.840576   \n",
       "4   200.0                 53.0  4.084678e+07      0.449507    0.449747   \n",
       "5   200.0                 53.0  2.584660e+07      0.839398    0.839509   \n",
       "6   200.0                 53.0  4.084678e+07      0.449507    0.449747   \n",
       "7   200.0                 53.0  2.046771e+07      0.450973    0.451213   \n",
       "8   200.0                 53.0  2.046014e+07      0.839398    0.839509   \n",
       "\n",
       "   F1 Score (%)  Productivity (Relevant Samples/J)  GPU HLT  L1T Tracking  \\\n",
       "0      0.259130                           0.000805    False         False   \n",
       "1      0.449627                           0.000065    False         False   \n",
       "2      0.451093                           0.000131     True         False   \n",
       "3      0.839569                           0.000122    False          True   \n",
       "4      0.449627                           0.000083    False         False   \n",
       "5      0.839454                           0.000244     True          True   \n",
       "6      0.449627                           0.000083    False          True   \n",
       "7      0.451093                           0.000165     True         False   \n",
       "8      0.839454                           0.000308     True          True   \n",
       "\n",
       "   Smart Sensors  \n",
       "0          False  \n",
       "1          False  \n",
       "2          False  \n",
       "3          False  \n",
       "4           True  \n",
       "5          False  \n",
       "6           True  \n",
       "7           True  \n",
       "8           True  "
      ]
     },
     "execution_count": 130,
     "metadata": {},
     "output_type": "execute_result"
    }
   ],
   "source": [
    "df"
   ]
  },
  {
   "cell_type": "code",
   "execution_count": 88,
   "metadata": {},
   "outputs": [
    {
     "data": {
      "text/plain": [
       "0    0.065387\n",
       "1    0.130951\n",
       "2    0.122104\n",
       "3    0.082623\n",
       "4    0.243685\n",
       "5    0.082623\n",
       "6    0.165426\n",
       "7    0.307839\n",
       "Name: Productivity (Relevant Samples/J), dtype: float64"
      ]
     },
     "execution_count": 88,
     "metadata": {},
     "output_type": "execute_result"
    }
   ],
   "source": [
    "df[\"Productivity (Relevant Samples/J)\"] * 1e3"
   ]
  },
  {
   "cell_type": "code",
   "execution_count": 131,
   "metadata": {},
   "outputs": [],
   "source": [
    "df.to_excel(\"experimental_table.xlsx\", index=False)"
   ]
  },
  {
   "cell_type": "code",
   "execution_count": 90,
   "metadata": {},
   "outputs": [
    {
     "data": {
      "text/plain": [
       "6.499570514329353"
      ]
     },
     "execution_count": 90,
     "metadata": {},
     "output_type": "execute_result"
    }
   ],
   "source": [
    "density_scale_model(2032)"
   ]
  },
  {
   "cell_type": "code",
   "execution_count": null,
   "metadata": {},
   "outputs": [],
   "source": []
  }
 ],
 "metadata": {
  "kernelspec": {
   "display_name": "jax",
   "language": "python",
   "name": "python3"
  },
  "language_info": {
   "codemirror_mode": {
    "name": "ipython",
    "version": 3
   },
   "file_extension": ".py",
   "mimetype": "text/x-python",
   "name": "python",
   "nbconvert_exporter": "python",
   "pygments_lexer": "ipython3",
   "version": "3.10.4"
  }
 },
 "nbformat": 4,
 "nbformat_minor": 2
}
