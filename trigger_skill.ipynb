{
 "cells": [
  {
   "cell_type": "code",
   "execution_count": 1,
   "metadata": {},
   "outputs": [],
   "source": [
    "import pandas as pd\n",
    "import matplotlib.pyplot as plt\n",
    "from scipy.optimize import minimize_scalar\n",
    "from scipy.interpolate import PchipInterpolator\n",
    "from scipy.integrate import quad\n",
    "from scipy.stats import bootstrap\n",
    "import plotly.graph_objects as go\n",
    "import plotly.express as px\n",
    "import numpy as np"
   ]
  },
  {
   "cell_type": "markdown",
   "metadata": {},
   "source": [
    "# Level-1 Trigger (CMS)"
   ]
  },
  {
   "cell_type": "code",
   "execution_count": 2,
   "metadata": {},
   "outputs": [],
   "source": [
    "egamma = pd.read_csv(\"l1t_data/egamma.csv\")\n",
    "tau = pd.read_csv(\"l1t_data/isolated tau.csv\")\n",
    "jet_energy = pd.read_csv(\"l1t_data/jet energy.csv\")\n",
    "muon = pd.read_csv(\"l1t_data/single muon.csv\")"
   ]
  },
  {
   "cell_type": "code",
   "execution_count": 3,
   "metadata": {},
   "outputs": [],
   "source": [
    "rates = pd.read_excel(\"l1t_data/trigger_rates.xlsx\")"
   ]
  },
  {
   "cell_type": "code",
   "execution_count": 4,
   "metadata": {},
   "outputs": [],
   "source": [
    "triggers = [\"Jet\", \"Muon\", \"EGamma\", \"Tau\"]\n",
    "rejection_ratio = 400\n",
    "jet_rate = rates[\"Jet Rate\"][0] / rejection_ratio\n",
    "muon_rate = rates[\"Muon Rate\"][0] / rejection_ratio\n",
    "egamma_rate = rates[\"Egamma Rate\"][0] / rejection_ratio\n",
    "tau_rate = rates[\"Tau Rate\"][0] / rejection_ratio\n",
    "all_rates = [jet_rate, muon_rate, egamma_rate, tau_rate]"
   ]
  },
  {
   "cell_type": "code",
   "execution_count": 5,
   "metadata": {},
   "outputs": [
    {
     "data": {
      "application/vnd.plotly.v1+json": {
       "config": {
        "plotlyServerURL": "https://plot.ly"
       },
       "data": [
        {
         "type": "bar",
         "x": [
          "Jet",
          "Muon",
          "EGamma",
          "Tau"
         ],
         "y": [
          0.0007050000000000001,
          0.00091,
          0.00111,
          0.00045
         ]
        }
       ],
       "layout": {
        "height": 600,
        "template": {
         "data": {
          "bar": [
           {
            "error_x": {
             "color": "#2a3f5f"
            },
            "error_y": {
             "color": "#2a3f5f"
            },
            "marker": {
             "line": {
              "color": "#E5ECF6",
              "width": 0.5
             },
             "pattern": {
              "fillmode": "overlay",
              "size": 10,
              "solidity": 0.2
             }
            },
            "type": "bar"
           }
          ],
          "barpolar": [
           {
            "marker": {
             "line": {
              "color": "#E5ECF6",
              "width": 0.5
             },
             "pattern": {
              "fillmode": "overlay",
              "size": 10,
              "solidity": 0.2
             }
            },
            "type": "barpolar"
           }
          ],
          "carpet": [
           {
            "aaxis": {
             "endlinecolor": "#2a3f5f",
             "gridcolor": "white",
             "linecolor": "white",
             "minorgridcolor": "white",
             "startlinecolor": "#2a3f5f"
            },
            "baxis": {
             "endlinecolor": "#2a3f5f",
             "gridcolor": "white",
             "linecolor": "white",
             "minorgridcolor": "white",
             "startlinecolor": "#2a3f5f"
            },
            "type": "carpet"
           }
          ],
          "choropleth": [
           {
            "colorbar": {
             "outlinewidth": 0,
             "ticks": ""
            },
            "type": "choropleth"
           }
          ],
          "contour": [
           {
            "colorbar": {
             "outlinewidth": 0,
             "ticks": ""
            },
            "colorscale": [
             [
              0,
              "#0d0887"
             ],
             [
              0.1111111111111111,
              "#46039f"
             ],
             [
              0.2222222222222222,
              "#7201a8"
             ],
             [
              0.3333333333333333,
              "#9c179e"
             ],
             [
              0.4444444444444444,
              "#bd3786"
             ],
             [
              0.5555555555555556,
              "#d8576b"
             ],
             [
              0.6666666666666666,
              "#ed7953"
             ],
             [
              0.7777777777777778,
              "#fb9f3a"
             ],
             [
              0.8888888888888888,
              "#fdca26"
             ],
             [
              1,
              "#f0f921"
             ]
            ],
            "type": "contour"
           }
          ],
          "contourcarpet": [
           {
            "colorbar": {
             "outlinewidth": 0,
             "ticks": ""
            },
            "type": "contourcarpet"
           }
          ],
          "heatmap": [
           {
            "colorbar": {
             "outlinewidth": 0,
             "ticks": ""
            },
            "colorscale": [
             [
              0,
              "#0d0887"
             ],
             [
              0.1111111111111111,
              "#46039f"
             ],
             [
              0.2222222222222222,
              "#7201a8"
             ],
             [
              0.3333333333333333,
              "#9c179e"
             ],
             [
              0.4444444444444444,
              "#bd3786"
             ],
             [
              0.5555555555555556,
              "#d8576b"
             ],
             [
              0.6666666666666666,
              "#ed7953"
             ],
             [
              0.7777777777777778,
              "#fb9f3a"
             ],
             [
              0.8888888888888888,
              "#fdca26"
             ],
             [
              1,
              "#f0f921"
             ]
            ],
            "type": "heatmap"
           }
          ],
          "heatmapgl": [
           {
            "colorbar": {
             "outlinewidth": 0,
             "ticks": ""
            },
            "colorscale": [
             [
              0,
              "#0d0887"
             ],
             [
              0.1111111111111111,
              "#46039f"
             ],
             [
              0.2222222222222222,
              "#7201a8"
             ],
             [
              0.3333333333333333,
              "#9c179e"
             ],
             [
              0.4444444444444444,
              "#bd3786"
             ],
             [
              0.5555555555555556,
              "#d8576b"
             ],
             [
              0.6666666666666666,
              "#ed7953"
             ],
             [
              0.7777777777777778,
              "#fb9f3a"
             ],
             [
              0.8888888888888888,
              "#fdca26"
             ],
             [
              1,
              "#f0f921"
             ]
            ],
            "type": "heatmapgl"
           }
          ],
          "histogram": [
           {
            "marker": {
             "pattern": {
              "fillmode": "overlay",
              "size": 10,
              "solidity": 0.2
             }
            },
            "type": "histogram"
           }
          ],
          "histogram2d": [
           {
            "colorbar": {
             "outlinewidth": 0,
             "ticks": ""
            },
            "colorscale": [
             [
              0,
              "#0d0887"
             ],
             [
              0.1111111111111111,
              "#46039f"
             ],
             [
              0.2222222222222222,
              "#7201a8"
             ],
             [
              0.3333333333333333,
              "#9c179e"
             ],
             [
              0.4444444444444444,
              "#bd3786"
             ],
             [
              0.5555555555555556,
              "#d8576b"
             ],
             [
              0.6666666666666666,
              "#ed7953"
             ],
             [
              0.7777777777777778,
              "#fb9f3a"
             ],
             [
              0.8888888888888888,
              "#fdca26"
             ],
             [
              1,
              "#f0f921"
             ]
            ],
            "type": "histogram2d"
           }
          ],
          "histogram2dcontour": [
           {
            "colorbar": {
             "outlinewidth": 0,
             "ticks": ""
            },
            "colorscale": [
             [
              0,
              "#0d0887"
             ],
             [
              0.1111111111111111,
              "#46039f"
             ],
             [
              0.2222222222222222,
              "#7201a8"
             ],
             [
              0.3333333333333333,
              "#9c179e"
             ],
             [
              0.4444444444444444,
              "#bd3786"
             ],
             [
              0.5555555555555556,
              "#d8576b"
             ],
             [
              0.6666666666666666,
              "#ed7953"
             ],
             [
              0.7777777777777778,
              "#fb9f3a"
             ],
             [
              0.8888888888888888,
              "#fdca26"
             ],
             [
              1,
              "#f0f921"
             ]
            ],
            "type": "histogram2dcontour"
           }
          ],
          "mesh3d": [
           {
            "colorbar": {
             "outlinewidth": 0,
             "ticks": ""
            },
            "type": "mesh3d"
           }
          ],
          "parcoords": [
           {
            "line": {
             "colorbar": {
              "outlinewidth": 0,
              "ticks": ""
             }
            },
            "type": "parcoords"
           }
          ],
          "pie": [
           {
            "automargin": true,
            "type": "pie"
           }
          ],
          "scatter": [
           {
            "fillpattern": {
             "fillmode": "overlay",
             "size": 10,
             "solidity": 0.2
            },
            "type": "scatter"
           }
          ],
          "scatter3d": [
           {
            "line": {
             "colorbar": {
              "outlinewidth": 0,
              "ticks": ""
             }
            },
            "marker": {
             "colorbar": {
              "outlinewidth": 0,
              "ticks": ""
             }
            },
            "type": "scatter3d"
           }
          ],
          "scattercarpet": [
           {
            "marker": {
             "colorbar": {
              "outlinewidth": 0,
              "ticks": ""
             }
            },
            "type": "scattercarpet"
           }
          ],
          "scattergeo": [
           {
            "marker": {
             "colorbar": {
              "outlinewidth": 0,
              "ticks": ""
             }
            },
            "type": "scattergeo"
           }
          ],
          "scattergl": [
           {
            "marker": {
             "colorbar": {
              "outlinewidth": 0,
              "ticks": ""
             }
            },
            "type": "scattergl"
           }
          ],
          "scattermapbox": [
           {
            "marker": {
             "colorbar": {
              "outlinewidth": 0,
              "ticks": ""
             }
            },
            "type": "scattermapbox"
           }
          ],
          "scatterpolar": [
           {
            "marker": {
             "colorbar": {
              "outlinewidth": 0,
              "ticks": ""
             }
            },
            "type": "scatterpolar"
           }
          ],
          "scatterpolargl": [
           {
            "marker": {
             "colorbar": {
              "outlinewidth": 0,
              "ticks": ""
             }
            },
            "type": "scatterpolargl"
           }
          ],
          "scatterternary": [
           {
            "marker": {
             "colorbar": {
              "outlinewidth": 0,
              "ticks": ""
             }
            },
            "type": "scatterternary"
           }
          ],
          "surface": [
           {
            "colorbar": {
             "outlinewidth": 0,
             "ticks": ""
            },
            "colorscale": [
             [
              0,
              "#0d0887"
             ],
             [
              0.1111111111111111,
              "#46039f"
             ],
             [
              0.2222222222222222,
              "#7201a8"
             ],
             [
              0.3333333333333333,
              "#9c179e"
             ],
             [
              0.4444444444444444,
              "#bd3786"
             ],
             [
              0.5555555555555556,
              "#d8576b"
             ],
             [
              0.6666666666666666,
              "#ed7953"
             ],
             [
              0.7777777777777778,
              "#fb9f3a"
             ],
             [
              0.8888888888888888,
              "#fdca26"
             ],
             [
              1,
              "#f0f921"
             ]
            ],
            "type": "surface"
           }
          ],
          "table": [
           {
            "cells": {
             "fill": {
              "color": "#EBF0F8"
             },
             "line": {
              "color": "white"
             }
            },
            "header": {
             "fill": {
              "color": "#C8D4E3"
             },
             "line": {
              "color": "white"
             }
            },
            "type": "table"
           }
          ]
         },
         "layout": {
          "annotationdefaults": {
           "arrowcolor": "#2a3f5f",
           "arrowhead": 0,
           "arrowwidth": 1
          },
          "autotypenumbers": "strict",
          "coloraxis": {
           "colorbar": {
            "outlinewidth": 0,
            "ticks": ""
           }
          },
          "colorscale": {
           "diverging": [
            [
             0,
             "#8e0152"
            ],
            [
             0.1,
             "#c51b7d"
            ],
            [
             0.2,
             "#de77ae"
            ],
            [
             0.3,
             "#f1b6da"
            ],
            [
             0.4,
             "#fde0ef"
            ],
            [
             0.5,
             "#f7f7f7"
            ],
            [
             0.6,
             "#e6f5d0"
            ],
            [
             0.7,
             "#b8e186"
            ],
            [
             0.8,
             "#7fbc41"
            ],
            [
             0.9,
             "#4d9221"
            ],
            [
             1,
             "#276419"
            ]
           ],
           "sequential": [
            [
             0,
             "#0d0887"
            ],
            [
             0.1111111111111111,
             "#46039f"
            ],
            [
             0.2222222222222222,
             "#7201a8"
            ],
            [
             0.3333333333333333,
             "#9c179e"
            ],
            [
             0.4444444444444444,
             "#bd3786"
            ],
            [
             0.5555555555555556,
             "#d8576b"
            ],
            [
             0.6666666666666666,
             "#ed7953"
            ],
            [
             0.7777777777777778,
             "#fb9f3a"
            ],
            [
             0.8888888888888888,
             "#fdca26"
            ],
            [
             1,
             "#f0f921"
            ]
           ],
           "sequentialminus": [
            [
             0,
             "#0d0887"
            ],
            [
             0.1111111111111111,
             "#46039f"
            ],
            [
             0.2222222222222222,
             "#7201a8"
            ],
            [
             0.3333333333333333,
             "#9c179e"
            ],
            [
             0.4444444444444444,
             "#bd3786"
            ],
            [
             0.5555555555555556,
             "#d8576b"
            ],
            [
             0.6666666666666666,
             "#ed7953"
            ],
            [
             0.7777777777777778,
             "#fb9f3a"
            ],
            [
             0.8888888888888888,
             "#fdca26"
            ],
            [
             1,
             "#f0f921"
            ]
           ]
          },
          "colorway": [
           "#636efa",
           "#EF553B",
           "#00cc96",
           "#ab63fa",
           "#FFA15A",
           "#19d3f3",
           "#FF6692",
           "#B6E880",
           "#FF97FF",
           "#FECB52"
          ],
          "font": {
           "color": "#2a3f5f"
          },
          "geo": {
           "bgcolor": "white",
           "lakecolor": "white",
           "landcolor": "#E5ECF6",
           "showlakes": true,
           "showland": true,
           "subunitcolor": "white"
          },
          "hoverlabel": {
           "align": "left"
          },
          "hovermode": "closest",
          "mapbox": {
           "style": "light"
          },
          "paper_bgcolor": "white",
          "plot_bgcolor": "#E5ECF6",
          "polar": {
           "angularaxis": {
            "gridcolor": "white",
            "linecolor": "white",
            "ticks": ""
           },
           "bgcolor": "#E5ECF6",
           "radialaxis": {
            "gridcolor": "white",
            "linecolor": "white",
            "ticks": ""
           }
          },
          "scene": {
           "xaxis": {
            "backgroundcolor": "#E5ECF6",
            "gridcolor": "white",
            "gridwidth": 2,
            "linecolor": "white",
            "showbackground": true,
            "ticks": "",
            "zerolinecolor": "white"
           },
           "yaxis": {
            "backgroundcolor": "#E5ECF6",
            "gridcolor": "white",
            "gridwidth": 2,
            "linecolor": "white",
            "showbackground": true,
            "ticks": "",
            "zerolinecolor": "white"
           },
           "zaxis": {
            "backgroundcolor": "#E5ECF6",
            "gridcolor": "white",
            "gridwidth": 2,
            "linecolor": "white",
            "showbackground": true,
            "ticks": "",
            "zerolinecolor": "white"
           }
          },
          "shapedefaults": {
           "line": {
            "color": "#2a3f5f"
           }
          },
          "ternary": {
           "aaxis": {
            "gridcolor": "white",
            "linecolor": "white",
            "ticks": ""
           },
           "baxis": {
            "gridcolor": "white",
            "linecolor": "white",
            "ticks": ""
           },
           "bgcolor": "#E5ECF6",
           "caxis": {
            "gridcolor": "white",
            "linecolor": "white",
            "ticks": ""
           }
          },
          "title": {
           "x": 0.05
          },
          "xaxis": {
           "automargin": true,
           "gridcolor": "white",
           "linecolor": "white",
           "ticks": "",
           "title": {
            "standoff": 15
           },
           "zerolinecolor": "white",
           "zerolinewidth": 2
          },
          "yaxis": {
           "automargin": true,
           "gridcolor": "white",
           "linecolor": "white",
           "ticks": "",
           "title": {
            "standoff": 15
           },
           "zerolinecolor": "white",
           "zerolinewidth": 2
          }
         }
        },
        "width": 800
       }
      }
     },
     "metadata": {},
     "output_type": "display_data"
    }
   ],
   "source": [
    "fig = go.Figure()\n",
    "fig.add_bar(x = triggers, y = all_rates)\n",
    "fig.update_layout(width = 800, height = 600)"
   ]
  },
  {
   "cell_type": "code",
   "execution_count": 6,
   "metadata": {},
   "outputs": [],
   "source": [
    "exp_dist = lambda x, l: l * np.exp(-1 * l * x) * (x > 0)"
   ]
  },
  {
   "cell_type": "code",
   "execution_count": 7,
   "metadata": {},
   "outputs": [],
   "source": [
    "exp_cdf = lambda x, l: 1 - np.exp(-l * x)"
   ]
  },
  {
   "cell_type": "code",
   "execution_count": 8,
   "metadata": {},
   "outputs": [],
   "source": [
    "exp_generator = lambda p, l: (-1 / l) * np.log(1 - p)"
   ]
  },
  {
   "cell_type": "code",
   "execution_count": 9,
   "metadata": {},
   "outputs": [
    {
     "data": {
      "application/vnd.plotly.v1+json": {
       "config": {
        "plotlyServerURL": "https://plot.ly"
       },
       "data": [
        {
         "name": "PDF",
         "type": "scatter",
         "x": [
          0.01,
          0.0599,
          0.1098,
          0.1597,
          0.2096,
          0.2595,
          0.3094,
          0.3593,
          0.4092,
          0.4591,
          0.509,
          0.5589,
          0.6088,
          0.6587000000000001,
          0.7086,
          0.7585,
          0.8084,
          0.8583000000000001,
          0.9082,
          0.9581,
          1.008,
          1.0579,
          1.1078,
          1.1577,
          1.2076,
          1.2575,
          1.3074000000000001,
          1.3573,
          1.4072,
          1.4571,
          1.507,
          1.5569,
          1.6068,
          1.6567,
          1.7066000000000001,
          1.7565,
          1.8064,
          1.8563,
          1.9062,
          1.9561,
          2.006,
          2.0559,
          2.1058,
          2.1557,
          2.2055999999999996,
          2.2554999999999996,
          2.3053999999999997,
          2.3552999999999997,
          2.4052,
          2.4551,
          2.505,
          2.5549,
          2.6048,
          2.6546999999999996,
          2.7045999999999997,
          2.7544999999999997,
          2.8044,
          2.8543,
          2.9042,
          2.9541,
          3.0039999999999996,
          3.0538999999999996,
          3.1037999999999997,
          3.1536999999999997,
          3.2036,
          3.2535,
          3.3034,
          3.3533,
          3.4032,
          3.4530999999999996,
          3.5029999999999997,
          3.5528999999999997,
          3.6028,
          3.6527,
          3.7026,
          3.7525,
          3.8023999999999996,
          3.8522999999999996,
          3.9021999999999997,
          3.9520999999999997,
          4.002,
          4.0519,
          4.1018,
          4.1517,
          4.2016,
          4.2515,
          4.3014,
          4.3513,
          4.401199999999999,
          4.451099999999999,
          4.5009999999999994,
          4.5508999999999995,
          4.6008,
          4.6507,
          4.7006,
          4.7505,
          4.8004,
          4.8503,
          4.9002,
          4.9501,
          5
         ],
         "y": [
          1.477667909404594,
          1.3711024278468882,
          1.272222165537262,
          1.1804728848930788,
          1.095340318472838,
          1.016347286435848,
          0.943051021883047,
          0.8750406890871301,
          0.8119350807013255,
          0.7533804810393521,
          0.6990486834499435,
          0.648635150673056,
          0.601857307866291,
          0.5584529587337184,
          0.518178815879277,
          0.48080913714718143,
          0.44613446030583354,
          0.4139604289829668,
          0.3841067032712273,
          0.3564059488979837,
          0.3307028992935239,
          0.30685348530040013,
          0.2847240276458224,
          0.2641904876507957,
          0.2451377719761241,
          0.22745908750828264,
          0.211055342769207,
          0.1958345924948171,
          0.18171152226906093,
          0.16860697032478225,
          0.1564474838310368,
          0.1451649071797894,
          0.13469599996427897,
          0.12498208250776885,
          0.11596870695582095,
          0.10760535208852129,
          0.0998451401420358,
          0.09264457405224372,
          0.08596329364766084,
          0.07976384942508133,
          0.07401149263991905,
          0.06867398053467505,
          0.06372139561381084,
          0.059125977952036606,
          0.05486196959608075,
          0.05090547018778928,
          0.04723430299930439,
          0.04382789062942917,
          0.040667139664440355,
          0.037734333656856564,
          0.035013033822293364,
          0.03248798689779707,
          0.03014503964519064,
          0.027971059520210978,
          0.025953861062777056,
          0.02408213759579654,
          0.02234539784967248,
          0.020733907157282502,
          0.01923863288981947,
          0.017851193827654543,
          0.016563813182438762,
          0.015369275007125939,
          0.014260883749588837,
          0.013232426723120867,
          0.012278139283465614,
          0.011392672517186364,
          0.010571063260264496,
          0.009808706278876868,
          0.009101328456421627,
          0.008444964842107081,
          0.007835936426852635,
          0.00727082952193271,
          0.006746476624778069,
          0.006259938664684605,
          0.005808488528914512,
          0.00538959577685116,
          0.005000912456528571,
          0.004640259944034997,
          0.004305616732023802,
          0.003995107098884435,
          0.0037069905950626947,
          0.0034396522875996096,
          0.0031915937082082424,
          0.0029614244541511505,
          0.0027478543948402283,
          0.002549686440475843,
          0.002365809832192497,
          0.0021951939161013534,
          0.0020368823663322695,
          0.0018899878246946573,
          0.0017536869269117838,
          0.0016272156875498148,
          0.0015098652177735106,
          0.001400977751925994,
          0.0012999429606610315,
          0.0012061945299624102,
          0.001119206986875339,
          0.0010384927541576667,
          0.0009635994173418237,
          0.0008941071888889958,
          0.0008296265552217505
         ]
        },
        {
         "name": "CDF",
         "type": "scatter",
         "x": [
          0.01,
          0.0599,
          0.1098,
          0.1597,
          0.2096,
          0.2595,
          0.3094,
          0.3593,
          0.4092,
          0.4591,
          0.509,
          0.5589,
          0.6088,
          0.6587000000000001,
          0.7086,
          0.7585,
          0.8084,
          0.8583000000000001,
          0.9082,
          0.9581,
          1.008,
          1.0579,
          1.1078,
          1.1577,
          1.2076,
          1.2575,
          1.3074000000000001,
          1.3573,
          1.4072,
          1.4571,
          1.507,
          1.5569,
          1.6068,
          1.6567,
          1.7066000000000001,
          1.7565,
          1.8064,
          1.8563,
          1.9062,
          1.9561,
          2.006,
          2.0559,
          2.1058,
          2.1557,
          2.2055999999999996,
          2.2554999999999996,
          2.3053999999999997,
          2.3552999999999997,
          2.4052,
          2.4551,
          2.505,
          2.5549,
          2.6048,
          2.6546999999999996,
          2.7045999999999997,
          2.7544999999999997,
          2.8044,
          2.8543,
          2.9042,
          2.9541,
          3.0039999999999996,
          3.0538999999999996,
          3.1037999999999997,
          3.1536999999999997,
          3.2036,
          3.2535,
          3.3034,
          3.3533,
          3.4032,
          3.4530999999999996,
          3.5029999999999997,
          3.5528999999999997,
          3.6028,
          3.6527,
          3.7026,
          3.7525,
          3.8023999999999996,
          3.8522999999999996,
          3.9021999999999997,
          3.9520999999999997,
          4.002,
          4.0519,
          4.1018,
          4.1517,
          4.2016,
          4.2515,
          4.3014,
          4.3513,
          4.401199999999999,
          4.451099999999999,
          4.5009999999999994,
          4.5508999999999995,
          4.6008,
          4.6507,
          4.7006,
          4.7505,
          4.8004,
          4.8503,
          4.9002,
          4.9501,
          5
         ],
         "y": [
          0.014888060396937353,
          0.08593171476874117,
          0.15185188964182528,
          0.21301807673794748,
          0.269773121018108,
          0.32243514237610127,
          0.3712993187446353,
          0.41663954060858,
          0.4587099461991163,
          0.4977463459737653,
          0.5339675443667042,
          0.5675765662179626,
          0.598761794755806,
          0.6276980275108545,
          0.654547456080482,
          0.6794605752352123,
          0.7025770264627776,
          0.724026380678022,
          0.7439288644858484,
          0.7623960340680108,
          0.7795314004709841,
          0.7954310097997332,
          0.8101839815694518,
          0.8238730082328029,
          0.8365748186825839,
          0.8483606083278116,
          0.859296438153862,
          0.8694436050034553,
          0.8788589851539594,
          0.8875953531168118,
          0.8957016774459755,
          0.9032233952134737,
          0.9102026666904807,
          0.9166786116614875,
          0.9226875286961194,
          0.9282630986076524,
          0.9334365732386428,
          0.9382369506318375,
          0.9426911375682261,
          0.9468241003832791,
          0.9506590049067206,
          0.9542173463102166,
          0.9575190695907928,
          0.9605826813653089,
          0.9634253536026128,
          0.9660630198748071,
          0.9685104646671304,
          0.9707814062470472,
          0.9728885735570397,
          0.9748437775620956,
          0.9766579774518044,
          0.9783413420681353,
          0.9799033069032063,
          0.981352626986526,
          0.9826974259581487,
          0.9839452416028023,
          0.9851030681002183,
          0.9861773952284784,
          0.9871742447401204,
          0.9880992041148969,
          0.9889574578783742,
          0.9897538166619161,
          0.9904927441669408,
          0.9911783821845861,
          0.9918145738110229,
          0.9924048849885424,
          0.992952624493157,
          0.9934608624807487,
          0.9939324476957189,
          0.9943700234385953,
          0.9947760423820983,
          0.9951527803187116,
          0.9955023489168147,
          0.995826707556877,
          0.996127674314057,
          0.9964069361487659,
          0.9966660583623143,
          0.9969064933706433,
          0.9971295888453174,
          0.9973365952674104,
          0.9975286729366248,
          0.9977068984749335,
          0.9978722708611945,
          0.9980257170305659,
          0.9981680970701066,
          0.9983002090396828,
          0.998422793445205,
          0.9985365373892657,
          0.9986420784224451,
          0.9987400081168702,
          0.9988308753820588,
          0.9989151895416335,
          0.998993423188151,
          0.9990660148320494,
          0.9991333713595593,
          0.9991958703133584,
          0.9992538620087498,
          0.9993076714972282,
          0.9993576003884388,
          0.9994039285407407,
          0.9994469156298522
         ]
        }
       ],
       "layout": {
        "height": 600,
        "template": {
         "data": {
          "bar": [
           {
            "error_x": {
             "color": "#2a3f5f"
            },
            "error_y": {
             "color": "#2a3f5f"
            },
            "marker": {
             "line": {
              "color": "#E5ECF6",
              "width": 0.5
             },
             "pattern": {
              "fillmode": "overlay",
              "size": 10,
              "solidity": 0.2
             }
            },
            "type": "bar"
           }
          ],
          "barpolar": [
           {
            "marker": {
             "line": {
              "color": "#E5ECF6",
              "width": 0.5
             },
             "pattern": {
              "fillmode": "overlay",
              "size": 10,
              "solidity": 0.2
             }
            },
            "type": "barpolar"
           }
          ],
          "carpet": [
           {
            "aaxis": {
             "endlinecolor": "#2a3f5f",
             "gridcolor": "white",
             "linecolor": "white",
             "minorgridcolor": "white",
             "startlinecolor": "#2a3f5f"
            },
            "baxis": {
             "endlinecolor": "#2a3f5f",
             "gridcolor": "white",
             "linecolor": "white",
             "minorgridcolor": "white",
             "startlinecolor": "#2a3f5f"
            },
            "type": "carpet"
           }
          ],
          "choropleth": [
           {
            "colorbar": {
             "outlinewidth": 0,
             "ticks": ""
            },
            "type": "choropleth"
           }
          ],
          "contour": [
           {
            "colorbar": {
             "outlinewidth": 0,
             "ticks": ""
            },
            "colorscale": [
             [
              0,
              "#0d0887"
             ],
             [
              0.1111111111111111,
              "#46039f"
             ],
             [
              0.2222222222222222,
              "#7201a8"
             ],
             [
              0.3333333333333333,
              "#9c179e"
             ],
             [
              0.4444444444444444,
              "#bd3786"
             ],
             [
              0.5555555555555556,
              "#d8576b"
             ],
             [
              0.6666666666666666,
              "#ed7953"
             ],
             [
              0.7777777777777778,
              "#fb9f3a"
             ],
             [
              0.8888888888888888,
              "#fdca26"
             ],
             [
              1,
              "#f0f921"
             ]
            ],
            "type": "contour"
           }
          ],
          "contourcarpet": [
           {
            "colorbar": {
             "outlinewidth": 0,
             "ticks": ""
            },
            "type": "contourcarpet"
           }
          ],
          "heatmap": [
           {
            "colorbar": {
             "outlinewidth": 0,
             "ticks": ""
            },
            "colorscale": [
             [
              0,
              "#0d0887"
             ],
             [
              0.1111111111111111,
              "#46039f"
             ],
             [
              0.2222222222222222,
              "#7201a8"
             ],
             [
              0.3333333333333333,
              "#9c179e"
             ],
             [
              0.4444444444444444,
              "#bd3786"
             ],
             [
              0.5555555555555556,
              "#d8576b"
             ],
             [
              0.6666666666666666,
              "#ed7953"
             ],
             [
              0.7777777777777778,
              "#fb9f3a"
             ],
             [
              0.8888888888888888,
              "#fdca26"
             ],
             [
              1,
              "#f0f921"
             ]
            ],
            "type": "heatmap"
           }
          ],
          "heatmapgl": [
           {
            "colorbar": {
             "outlinewidth": 0,
             "ticks": ""
            },
            "colorscale": [
             [
              0,
              "#0d0887"
             ],
             [
              0.1111111111111111,
              "#46039f"
             ],
             [
              0.2222222222222222,
              "#7201a8"
             ],
             [
              0.3333333333333333,
              "#9c179e"
             ],
             [
              0.4444444444444444,
              "#bd3786"
             ],
             [
              0.5555555555555556,
              "#d8576b"
             ],
             [
              0.6666666666666666,
              "#ed7953"
             ],
             [
              0.7777777777777778,
              "#fb9f3a"
             ],
             [
              0.8888888888888888,
              "#fdca26"
             ],
             [
              1,
              "#f0f921"
             ]
            ],
            "type": "heatmapgl"
           }
          ],
          "histogram": [
           {
            "marker": {
             "pattern": {
              "fillmode": "overlay",
              "size": 10,
              "solidity": 0.2
             }
            },
            "type": "histogram"
           }
          ],
          "histogram2d": [
           {
            "colorbar": {
             "outlinewidth": 0,
             "ticks": ""
            },
            "colorscale": [
             [
              0,
              "#0d0887"
             ],
             [
              0.1111111111111111,
              "#46039f"
             ],
             [
              0.2222222222222222,
              "#7201a8"
             ],
             [
              0.3333333333333333,
              "#9c179e"
             ],
             [
              0.4444444444444444,
              "#bd3786"
             ],
             [
              0.5555555555555556,
              "#d8576b"
             ],
             [
              0.6666666666666666,
              "#ed7953"
             ],
             [
              0.7777777777777778,
              "#fb9f3a"
             ],
             [
              0.8888888888888888,
              "#fdca26"
             ],
             [
              1,
              "#f0f921"
             ]
            ],
            "type": "histogram2d"
           }
          ],
          "histogram2dcontour": [
           {
            "colorbar": {
             "outlinewidth": 0,
             "ticks": ""
            },
            "colorscale": [
             [
              0,
              "#0d0887"
             ],
             [
              0.1111111111111111,
              "#46039f"
             ],
             [
              0.2222222222222222,
              "#7201a8"
             ],
             [
              0.3333333333333333,
              "#9c179e"
             ],
             [
              0.4444444444444444,
              "#bd3786"
             ],
             [
              0.5555555555555556,
              "#d8576b"
             ],
             [
              0.6666666666666666,
              "#ed7953"
             ],
             [
              0.7777777777777778,
              "#fb9f3a"
             ],
             [
              0.8888888888888888,
              "#fdca26"
             ],
             [
              1,
              "#f0f921"
             ]
            ],
            "type": "histogram2dcontour"
           }
          ],
          "mesh3d": [
           {
            "colorbar": {
             "outlinewidth": 0,
             "ticks": ""
            },
            "type": "mesh3d"
           }
          ],
          "parcoords": [
           {
            "line": {
             "colorbar": {
              "outlinewidth": 0,
              "ticks": ""
             }
            },
            "type": "parcoords"
           }
          ],
          "pie": [
           {
            "automargin": true,
            "type": "pie"
           }
          ],
          "scatter": [
           {
            "fillpattern": {
             "fillmode": "overlay",
             "size": 10,
             "solidity": 0.2
            },
            "type": "scatter"
           }
          ],
          "scatter3d": [
           {
            "line": {
             "colorbar": {
              "outlinewidth": 0,
              "ticks": ""
             }
            },
            "marker": {
             "colorbar": {
              "outlinewidth": 0,
              "ticks": ""
             }
            },
            "type": "scatter3d"
           }
          ],
          "scattercarpet": [
           {
            "marker": {
             "colorbar": {
              "outlinewidth": 0,
              "ticks": ""
             }
            },
            "type": "scattercarpet"
           }
          ],
          "scattergeo": [
           {
            "marker": {
             "colorbar": {
              "outlinewidth": 0,
              "ticks": ""
             }
            },
            "type": "scattergeo"
           }
          ],
          "scattergl": [
           {
            "marker": {
             "colorbar": {
              "outlinewidth": 0,
              "ticks": ""
             }
            },
            "type": "scattergl"
           }
          ],
          "scattermapbox": [
           {
            "marker": {
             "colorbar": {
              "outlinewidth": 0,
              "ticks": ""
             }
            },
            "type": "scattermapbox"
           }
          ],
          "scatterpolar": [
           {
            "marker": {
             "colorbar": {
              "outlinewidth": 0,
              "ticks": ""
             }
            },
            "type": "scatterpolar"
           }
          ],
          "scatterpolargl": [
           {
            "marker": {
             "colorbar": {
              "outlinewidth": 0,
              "ticks": ""
             }
            },
            "type": "scatterpolargl"
           }
          ],
          "scatterternary": [
           {
            "marker": {
             "colorbar": {
              "outlinewidth": 0,
              "ticks": ""
             }
            },
            "type": "scatterternary"
           }
          ],
          "surface": [
           {
            "colorbar": {
             "outlinewidth": 0,
             "ticks": ""
            },
            "colorscale": [
             [
              0,
              "#0d0887"
             ],
             [
              0.1111111111111111,
              "#46039f"
             ],
             [
              0.2222222222222222,
              "#7201a8"
             ],
             [
              0.3333333333333333,
              "#9c179e"
             ],
             [
              0.4444444444444444,
              "#bd3786"
             ],
             [
              0.5555555555555556,
              "#d8576b"
             ],
             [
              0.6666666666666666,
              "#ed7953"
             ],
             [
              0.7777777777777778,
              "#fb9f3a"
             ],
             [
              0.8888888888888888,
              "#fdca26"
             ],
             [
              1,
              "#f0f921"
             ]
            ],
            "type": "surface"
           }
          ],
          "table": [
           {
            "cells": {
             "fill": {
              "color": "#EBF0F8"
             },
             "line": {
              "color": "white"
             }
            },
            "header": {
             "fill": {
              "color": "#C8D4E3"
             },
             "line": {
              "color": "white"
             }
            },
            "type": "table"
           }
          ]
         },
         "layout": {
          "annotationdefaults": {
           "arrowcolor": "#2a3f5f",
           "arrowhead": 0,
           "arrowwidth": 1
          },
          "autotypenumbers": "strict",
          "coloraxis": {
           "colorbar": {
            "outlinewidth": 0,
            "ticks": ""
           }
          },
          "colorscale": {
           "diverging": [
            [
             0,
             "#8e0152"
            ],
            [
             0.1,
             "#c51b7d"
            ],
            [
             0.2,
             "#de77ae"
            ],
            [
             0.3,
             "#f1b6da"
            ],
            [
             0.4,
             "#fde0ef"
            ],
            [
             0.5,
             "#f7f7f7"
            ],
            [
             0.6,
             "#e6f5d0"
            ],
            [
             0.7,
             "#b8e186"
            ],
            [
             0.8,
             "#7fbc41"
            ],
            [
             0.9,
             "#4d9221"
            ],
            [
             1,
             "#276419"
            ]
           ],
           "sequential": [
            [
             0,
             "#0d0887"
            ],
            [
             0.1111111111111111,
             "#46039f"
            ],
            [
             0.2222222222222222,
             "#7201a8"
            ],
            [
             0.3333333333333333,
             "#9c179e"
            ],
            [
             0.4444444444444444,
             "#bd3786"
            ],
            [
             0.5555555555555556,
             "#d8576b"
            ],
            [
             0.6666666666666666,
             "#ed7953"
            ],
            [
             0.7777777777777778,
             "#fb9f3a"
            ],
            [
             0.8888888888888888,
             "#fdca26"
            ],
            [
             1,
             "#f0f921"
            ]
           ],
           "sequentialminus": [
            [
             0,
             "#0d0887"
            ],
            [
             0.1111111111111111,
             "#46039f"
            ],
            [
             0.2222222222222222,
             "#7201a8"
            ],
            [
             0.3333333333333333,
             "#9c179e"
            ],
            [
             0.4444444444444444,
             "#bd3786"
            ],
            [
             0.5555555555555556,
             "#d8576b"
            ],
            [
             0.6666666666666666,
             "#ed7953"
            ],
            [
             0.7777777777777778,
             "#fb9f3a"
            ],
            [
             0.8888888888888888,
             "#fdca26"
            ],
            [
             1,
             "#f0f921"
            ]
           ]
          },
          "colorway": [
           "#636efa",
           "#EF553B",
           "#00cc96",
           "#ab63fa",
           "#FFA15A",
           "#19d3f3",
           "#FF6692",
           "#B6E880",
           "#FF97FF",
           "#FECB52"
          ],
          "font": {
           "color": "#2a3f5f"
          },
          "geo": {
           "bgcolor": "white",
           "lakecolor": "white",
           "landcolor": "#E5ECF6",
           "showlakes": true,
           "showland": true,
           "subunitcolor": "white"
          },
          "hoverlabel": {
           "align": "left"
          },
          "hovermode": "closest",
          "mapbox": {
           "style": "light"
          },
          "paper_bgcolor": "white",
          "plot_bgcolor": "#E5ECF6",
          "polar": {
           "angularaxis": {
            "gridcolor": "white",
            "linecolor": "white",
            "ticks": ""
           },
           "bgcolor": "#E5ECF6",
           "radialaxis": {
            "gridcolor": "white",
            "linecolor": "white",
            "ticks": ""
           }
          },
          "scene": {
           "xaxis": {
            "backgroundcolor": "#E5ECF6",
            "gridcolor": "white",
            "gridwidth": 2,
            "linecolor": "white",
            "showbackground": true,
            "ticks": "",
            "zerolinecolor": "white"
           },
           "yaxis": {
            "backgroundcolor": "#E5ECF6",
            "gridcolor": "white",
            "gridwidth": 2,
            "linecolor": "white",
            "showbackground": true,
            "ticks": "",
            "zerolinecolor": "white"
           },
           "zaxis": {
            "backgroundcolor": "#E5ECF6",
            "gridcolor": "white",
            "gridwidth": 2,
            "linecolor": "white",
            "showbackground": true,
            "ticks": "",
            "zerolinecolor": "white"
           }
          },
          "shapedefaults": {
           "line": {
            "color": "#2a3f5f"
           }
          },
          "ternary": {
           "aaxis": {
            "gridcolor": "white",
            "linecolor": "white",
            "ticks": ""
           },
           "baxis": {
            "gridcolor": "white",
            "linecolor": "white",
            "ticks": ""
           },
           "bgcolor": "#E5ECF6",
           "caxis": {
            "gridcolor": "white",
            "linecolor": "white",
            "ticks": ""
           }
          },
          "title": {
           "x": 0.05
          },
          "xaxis": {
           "automargin": true,
           "gridcolor": "white",
           "linecolor": "white",
           "ticks": "",
           "title": {
            "standoff": 15
           },
           "zerolinecolor": "white",
           "zerolinewidth": 2
          },
          "yaxis": {
           "automargin": true,
           "gridcolor": "white",
           "linecolor": "white",
           "ticks": "",
           "title": {
            "standoff": 15
           },
           "zerolinecolor": "white",
           "zerolinewidth": 2
          }
         }
        },
        "width": 800
       }
      }
     },
     "metadata": {},
     "output_type": "display_data"
    }
   ],
   "source": [
    "xs = np.linspace(0.01, 5.0, 101)\n",
    "fig = go.Figure()\n",
    "fig.add_scatter(x = xs, y = exp_dist(xs, 1.5), name = \"PDF\")\n",
    "fig.add_scatter(x = xs, y = exp_cdf(xs, 1.5), name = \"CDF\")\n",
    "fig.update_layout(width = 800, height = 600)"
   ]
  },
  {
   "cell_type": "code",
   "execution_count": 10,
   "metadata": {},
   "outputs": [],
   "source": [
    "data_range = lambda x: np.linspace(np.min(x), np.max(x), 101)"
   ]
  },
  {
   "cell_type": "code",
   "execution_count": 11,
   "metadata": {},
   "outputs": [],
   "source": [
    "egamma_spl = PchipInterpolator(egamma[\"x\"], egamma[\" y\"])"
   ]
  },
  {
   "cell_type": "code",
   "execution_count": 12,
   "metadata": {},
   "outputs": [],
   "source": [
    "egamma_xs = data_range(egamma[\"x\"])"
   ]
  },
  {
   "cell_type": "code",
   "execution_count": 13,
   "metadata": {},
   "outputs": [
    {
     "data": {
      "text/plain": [
       "0.00111"
      ]
     },
     "execution_count": 13,
     "metadata": {},
     "output_type": "execute_result"
    }
   ],
   "source": [
    "egamma_rate"
   ]
  },
  {
   "cell_type": "markdown",
   "metadata": {},
   "source": [
    "# Fit to EGamma L1T"
   ]
  },
  {
   "cell_type": "code",
   "execution_count": 14,
   "metadata": {},
   "outputs": [],
   "source": [
    "#fit to muon - minimize the difference between the trigger efficiency multiplied by the underlying distribution and the trigger rate\n",
    "egamma_fit = lambda l: np.abs(egamma_rate - quad(lambda x: exp_dist(x, l) * egamma_spl(x), np.min(egamma_xs), np.max(egamma_xs))[0])"
   ]
  },
  {
   "cell_type": "code",
   "execution_count": 15,
   "metadata": {},
   "outputs": [],
   "source": [
    "egamma_soln = minimize_scalar(egamma_fit, bounds = [0.00, 0.40], method=\"bounded\")\n",
    "egamma_l = egamma_soln.x"
   ]
  },
  {
   "cell_type": "code",
   "execution_count": 16,
   "metadata": {},
   "outputs": [
    {
     "data": {
      "text/plain": [
       "     fun: 1.1000603183149854e-08\n",
       " message: 'Solution found.'\n",
       "    nfev: 15\n",
       "     nit: 15\n",
       "  status: 0\n",
       " success: True\n",
       "       x: 0.3091679635268055"
      ]
     },
     "execution_count": 16,
     "metadata": {},
     "output_type": "execute_result"
    }
   ],
   "source": [
    "egamma_soln"
   ]
  },
  {
   "cell_type": "code",
   "execution_count": 17,
   "metadata": {},
   "outputs": [],
   "source": [
    "egamma_threshold = 30\n",
    "egamma_ideal = lambda x: 1.0 * (x > egamma_threshold)"
   ]
  },
  {
   "cell_type": "code",
   "execution_count": 18,
   "metadata": {},
   "outputs": [
    {
     "data": {
      "application/vnd.plotly.v1+json": {
       "config": {
        "plotlyServerURL": "https://plot.ly"
       },
       "data": [
        {
         "name": "Data",
         "type": "scatter",
         "x": [
          1,
          5,
          9.579221636,
          11.07492321,
          13.58382789,
          16.57180808,
          18.95452704,
          20.99199313,
          22.87669237,
          25.06493087,
          26.8784921,
          28.51516218,
          29.60819293,
          30.74312126,
          31.58032313,
          32.61511417,
          33.50329448,
          34.60109543,
          35.54335832,
          36.51128106,
          37.70764458,
          39.15303755,
          40.43596339,
          41.98593708,
          44.06637757,
          47.50939098,
          54.92751672,
          64.8836624,
          84.88314657,
          150.0361919,
          251.323658,
          350.6906234,
          502.6706719,
          797.9646711
         ],
         "y": [
          0,
          0,
          0.007425743,
          0.011138614,
          0.016089109,
          0.018564356,
          0.01980198,
          0.021039604,
          0.022277228,
          0.030940594,
          0.064356436,
          0.14480198,
          0.306930693,
          0.543316832,
          0.719059406,
          0.813118812,
          0.86509901,
          0.892326733,
          0.909653465,
          0.920792079,
          0.928217822,
          0.933168317,
          0.938118812,
          0.941831683,
          0.946782178,
          0.952970297,
          0.964108911,
          0.972772277,
          0.978960396,
          0.986386139,
          0.992574257,
          0.995049505,
          0.995049505,
          0.997524752
         ]
        },
        {
         "name": "Interpolation",
         "type": "scatter",
         "x": [
          1,
          8.969646711,
          16.939293422,
          24.908940133,
          32.878586844,
          40.848233555,
          48.817880266,
          56.787526977,
          64.757173688,
          72.726820399,
          80.69646711,
          88.666113821,
          96.635760532,
          104.605407243,
          112.575053954,
          120.54470066500001,
          128.514347376,
          136.483994087,
          144.453640798,
          152.423287509,
          160.39293422,
          168.362580931,
          176.332227642,
          184.30187435300002,
          192.271521064,
          200.241167775,
          208.210814486,
          216.180461197,
          224.150107908,
          232.11975461900002,
          240.08940133000002,
          248.059048041,
          256.028694752,
          263.99834146300003,
          271.967988174,
          279.937634885,
          287.907281596,
          295.876928307,
          303.846575018,
          311.816221729,
          319.78586844,
          327.755515151,
          335.725161862,
          343.694808573,
          351.664455284,
          359.63410199500004,
          367.60374870600003,
          375.57339541700003,
          383.543042128,
          391.512688839,
          399.48233555,
          407.451982261,
          415.421628972,
          423.391275683,
          431.360922394,
          439.330569105,
          447.300215816,
          455.269862527,
          463.23950923800004,
          471.20915594900003,
          479.17880266000003,
          487.148449371,
          495.118096082,
          503.087742793,
          511.057389504,
          519.0270362150001,
          526.9966829260001,
          534.9663296370001,
          542.935976348,
          550.905623059,
          558.87526977,
          566.844916481,
          574.814563192,
          582.784209903,
          590.753856614,
          598.723503325,
          606.693150036,
          614.662796747,
          622.632443458,
          630.602090169,
          638.57173688,
          646.541383591,
          654.511030302,
          662.480677013,
          670.450323724,
          678.419970435,
          686.389617146,
          694.359263857,
          702.328910568,
          710.298557279,
          718.2682039900001,
          726.2378507010001,
          734.2074974120001,
          742.1771441230001,
          750.1467908340001,
          758.116437545,
          766.086084256,
          774.055730967,
          782.025377678,
          789.995024389,
          797.9646711
         ],
         "y": [
          0,
          0.006134315005656706,
          0.018783103060460746,
          0.029931265139215645,
          0.8314145995501592,
          0.9392363470080936,
          0.9551438307750767,
          0.9661397680421329,
          0.9727104460899111,
          0.9759388642117814,
          0.9781197426902725,
          0.9796245700381107,
          0.9808888284555517,
          0.9819905539727436,
          0.9829546189415632,
          0.9838058957138867,
          0.9845692566415909,
          0.9852695740765522,
          0.9859317203706474,
          0.986579436580726,
          0.9872122331459701,
          0.9878244561561446,
          0.9884144713527173,
          0.9889806444771557,
          0.9895213412709278,
          0.990034927475501,
          0.990519768832343,
          0.9909742310829218,
          0.9913966799687046,
          0.9917854812311594,
          0.9921390006117536,
          0.9924556038519552,
          0.9927412958027534,
          0.9930257724497409,
          0.9933083371685119,
          0.9935845367746653,
          0.9938499180838009,
          0.9941000279115177,
          0.9943304130734154,
          0.9945366203850935,
          0.994714196662151,
          0.9948586887201878,
          0.9949656433748029,
          0.9950306074415957,
          0.995049505,
          0.995049505,
          0.995049505,
          0.995049505,
          0.995049505,
          0.995049505,
          0.995049505,
          0.995049505,
          0.995049505,
          0.995049505,
          0.995049505,
          0.995049505,
          0.995049505,
          0.995049505,
          0.995049505,
          0.995049505,
          0.995049505,
          0.995049505,
          0.995049505,
          0.9950495116131867,
          0.9950521607739721,
          0.9950595367345266,
          0.9950715402892893,
          0.9950880722326993,
          0.9951090333591958,
          0.9951343244632175,
          0.9951638463392037,
          0.9951974997815934,
          0.9952351855848257,
          0.9952768045433396,
          0.9953222574515742,
          0.9953714451039686,
          0.9954242682949617,
          0.9954806278189928,
          0.9955404244705008,
          0.9956035590439247,
          0.9956699323337038,
          0.995739445134277,
          0.9958119982400834,
          0.995887492445562,
          0.9959658285451518,
          0.996046907333292,
          0.9961306296044217,
          0.9962168961529798,
          0.9963056077734055,
          0.9963966652601378,
          0.9964899694076157,
          0.9965854210102785,
          0.9966829208625648,
          0.9967823697589141,
          0.9968836684937653,
          0.9969867178615576,
          0.9970914186567297,
          0.9971976716737211,
          0.9973053777069705,
          0.9974144375509171,
          0.997524752
         ]
        },
        {
         "line": {
          "dash": "dash"
         },
         "name": "Ideal",
         "type": "scatter",
         "x": [
          1,
          8.969646711,
          16.939293422,
          24.908940133,
          32.878586844,
          40.848233555,
          48.817880266,
          56.787526977,
          64.757173688,
          72.726820399,
          80.69646711,
          88.666113821,
          96.635760532,
          104.605407243,
          112.575053954,
          120.54470066500001,
          128.514347376,
          136.483994087,
          144.453640798,
          152.423287509,
          160.39293422,
          168.362580931,
          176.332227642,
          184.30187435300002,
          192.271521064,
          200.241167775,
          208.210814486,
          216.180461197,
          224.150107908,
          232.11975461900002,
          240.08940133000002,
          248.059048041,
          256.028694752,
          263.99834146300003,
          271.967988174,
          279.937634885,
          287.907281596,
          295.876928307,
          303.846575018,
          311.816221729,
          319.78586844,
          327.755515151,
          335.725161862,
          343.694808573,
          351.664455284,
          359.63410199500004,
          367.60374870600003,
          375.57339541700003,
          383.543042128,
          391.512688839,
          399.48233555,
          407.451982261,
          415.421628972,
          423.391275683,
          431.360922394,
          439.330569105,
          447.300215816,
          455.269862527,
          463.23950923800004,
          471.20915594900003,
          479.17880266000003,
          487.148449371,
          495.118096082,
          503.087742793,
          511.057389504,
          519.0270362150001,
          526.9966829260001,
          534.9663296370001,
          542.935976348,
          550.905623059,
          558.87526977,
          566.844916481,
          574.814563192,
          582.784209903,
          590.753856614,
          598.723503325,
          606.693150036,
          614.662796747,
          622.632443458,
          630.602090169,
          638.57173688,
          646.541383591,
          654.511030302,
          662.480677013,
          670.450323724,
          678.419970435,
          686.389617146,
          694.359263857,
          702.328910568,
          710.298557279,
          718.2682039900001,
          726.2378507010001,
          734.2074974120001,
          742.1771441230001,
          750.1467908340001,
          758.116437545,
          766.086084256,
          774.055730967,
          782.025377678,
          789.995024389,
          797.9646711
         ],
         "y": [
          0,
          0,
          0,
          0,
          1,
          1,
          1,
          1,
          1,
          1,
          1,
          1,
          1,
          1,
          1,
          1,
          1,
          1,
          1,
          1,
          1,
          1,
          1,
          1,
          1,
          1,
          1,
          1,
          1,
          1,
          1,
          1,
          1,
          1,
          1,
          1,
          1,
          1,
          1,
          1,
          1,
          1,
          1,
          1,
          1,
          1,
          1,
          1,
          1,
          1,
          1,
          1,
          1,
          1,
          1,
          1,
          1,
          1,
          1,
          1,
          1,
          1,
          1,
          1,
          1,
          1,
          1,
          1,
          1,
          1,
          1,
          1,
          1,
          1,
          1,
          1,
          1,
          1,
          1,
          1,
          1,
          1,
          1,
          1,
          1,
          1,
          1,
          1,
          1,
          1,
          1,
          1,
          1,
          1,
          1,
          1,
          1,
          1,
          1,
          1,
          1
         ]
        },
        {
         "name": "Data Fit",
         "type": "scatter",
         "x": [
          1,
          8.969646711,
          16.939293422,
          24.908940133,
          32.878586844,
          40.848233555,
          48.817880266,
          56.787526977,
          64.757173688,
          72.726820399,
          80.69646711,
          88.666113821,
          96.635760532,
          104.605407243,
          112.575053954,
          120.54470066500001,
          128.514347376,
          136.483994087,
          144.453640798,
          152.423287509,
          160.39293422,
          168.362580931,
          176.332227642,
          184.30187435300002,
          192.271521064,
          200.241167775,
          208.210814486,
          216.180461197,
          224.150107908,
          232.11975461900002,
          240.08940133000002,
          248.059048041,
          256.028694752,
          263.99834146300003,
          271.967988174,
          279.937634885,
          287.907281596,
          295.876928307,
          303.846575018,
          311.816221729,
          319.78586844,
          327.755515151,
          335.725161862,
          343.694808573,
          351.664455284,
          359.63410199500004,
          367.60374870600003,
          375.57339541700003,
          383.543042128,
          391.512688839,
          399.48233555,
          407.451982261,
          415.421628972,
          423.391275683,
          431.360922394,
          439.330569105,
          447.300215816,
          455.269862527,
          463.23950923800004,
          471.20915594900003,
          479.17880266000003,
          487.148449371,
          495.118096082,
          503.087742793,
          511.057389504,
          519.0270362150001,
          526.9966829260001,
          534.9663296370001,
          542.935976348,
          550.905623059,
          558.87526977,
          566.844916481,
          574.814563192,
          582.784209903,
          590.753856614,
          598.723503325,
          606.693150036,
          614.662796747,
          622.632443458,
          630.602090169,
          638.57173688,
          646.541383591,
          654.511030302,
          662.480677013,
          670.450323724,
          678.419970435,
          686.389617146,
          694.359263857,
          702.328910568,
          710.298557279,
          718.2682039900001,
          726.2378507010001,
          734.2074974120001,
          742.1771441230001,
          750.1467908340001,
          758.116437545,
          766.086084256,
          774.055730967,
          782.025377678,
          789.995024389,
          797.9646711
         ],
         "y": [
          0.734057464790498,
          0.062466341256855906,
          0.005315719786504247,
          0.000452353640057801,
          0.00003849409372425061,
          0.000003275745170228106,
          2.7875721653192187e-7,
          2.3721498987328005e-8,
          2.018636591216705e-9,
          1.717805897527569e-10,
          1.461808452063451e-11,
          1.244004899092488e-12,
          1.0580425424677742e-13,
          8.992806499463768e-15,
          7.771561172376096e-16,
          1.1102230246251565e-16,
          0,
          0,
          0,
          0,
          0,
          0,
          0,
          0,
          0,
          0,
          0,
          0,
          0,
          0,
          0,
          0,
          0,
          0,
          0,
          0,
          0,
          0,
          0,
          0,
          0,
          0,
          0,
          0,
          0,
          0,
          0,
          0,
          0,
          0,
          0,
          0,
          0,
          0,
          0,
          0,
          0,
          0,
          0,
          0,
          0,
          0,
          0,
          0,
          0,
          0,
          0,
          0,
          0,
          0,
          0,
          0,
          0,
          0,
          0,
          0,
          0,
          0,
          0,
          0,
          0,
          0,
          0,
          0,
          0,
          0,
          0,
          0,
          0,
          0,
          0,
          0,
          0,
          0,
          0,
          0,
          0,
          0,
          0,
          0,
          0
         ]
        }
       ],
       "layout": {
        "height": 600,
        "template": {
         "data": {
          "bar": [
           {
            "error_x": {
             "color": "#2a3f5f"
            },
            "error_y": {
             "color": "#2a3f5f"
            },
            "marker": {
             "line": {
              "color": "#E5ECF6",
              "width": 0.5
             },
             "pattern": {
              "fillmode": "overlay",
              "size": 10,
              "solidity": 0.2
             }
            },
            "type": "bar"
           }
          ],
          "barpolar": [
           {
            "marker": {
             "line": {
              "color": "#E5ECF6",
              "width": 0.5
             },
             "pattern": {
              "fillmode": "overlay",
              "size": 10,
              "solidity": 0.2
             }
            },
            "type": "barpolar"
           }
          ],
          "carpet": [
           {
            "aaxis": {
             "endlinecolor": "#2a3f5f",
             "gridcolor": "white",
             "linecolor": "white",
             "minorgridcolor": "white",
             "startlinecolor": "#2a3f5f"
            },
            "baxis": {
             "endlinecolor": "#2a3f5f",
             "gridcolor": "white",
             "linecolor": "white",
             "minorgridcolor": "white",
             "startlinecolor": "#2a3f5f"
            },
            "type": "carpet"
           }
          ],
          "choropleth": [
           {
            "colorbar": {
             "outlinewidth": 0,
             "ticks": ""
            },
            "type": "choropleth"
           }
          ],
          "contour": [
           {
            "colorbar": {
             "outlinewidth": 0,
             "ticks": ""
            },
            "colorscale": [
             [
              0,
              "#0d0887"
             ],
             [
              0.1111111111111111,
              "#46039f"
             ],
             [
              0.2222222222222222,
              "#7201a8"
             ],
             [
              0.3333333333333333,
              "#9c179e"
             ],
             [
              0.4444444444444444,
              "#bd3786"
             ],
             [
              0.5555555555555556,
              "#d8576b"
             ],
             [
              0.6666666666666666,
              "#ed7953"
             ],
             [
              0.7777777777777778,
              "#fb9f3a"
             ],
             [
              0.8888888888888888,
              "#fdca26"
             ],
             [
              1,
              "#f0f921"
             ]
            ],
            "type": "contour"
           }
          ],
          "contourcarpet": [
           {
            "colorbar": {
             "outlinewidth": 0,
             "ticks": ""
            },
            "type": "contourcarpet"
           }
          ],
          "heatmap": [
           {
            "colorbar": {
             "outlinewidth": 0,
             "ticks": ""
            },
            "colorscale": [
             [
              0,
              "#0d0887"
             ],
             [
              0.1111111111111111,
              "#46039f"
             ],
             [
              0.2222222222222222,
              "#7201a8"
             ],
             [
              0.3333333333333333,
              "#9c179e"
             ],
             [
              0.4444444444444444,
              "#bd3786"
             ],
             [
              0.5555555555555556,
              "#d8576b"
             ],
             [
              0.6666666666666666,
              "#ed7953"
             ],
             [
              0.7777777777777778,
              "#fb9f3a"
             ],
             [
              0.8888888888888888,
              "#fdca26"
             ],
             [
              1,
              "#f0f921"
             ]
            ],
            "type": "heatmap"
           }
          ],
          "heatmapgl": [
           {
            "colorbar": {
             "outlinewidth": 0,
             "ticks": ""
            },
            "colorscale": [
             [
              0,
              "#0d0887"
             ],
             [
              0.1111111111111111,
              "#46039f"
             ],
             [
              0.2222222222222222,
              "#7201a8"
             ],
             [
              0.3333333333333333,
              "#9c179e"
             ],
             [
              0.4444444444444444,
              "#bd3786"
             ],
             [
              0.5555555555555556,
              "#d8576b"
             ],
             [
              0.6666666666666666,
              "#ed7953"
             ],
             [
              0.7777777777777778,
              "#fb9f3a"
             ],
             [
              0.8888888888888888,
              "#fdca26"
             ],
             [
              1,
              "#f0f921"
             ]
            ],
            "type": "heatmapgl"
           }
          ],
          "histogram": [
           {
            "marker": {
             "pattern": {
              "fillmode": "overlay",
              "size": 10,
              "solidity": 0.2
             }
            },
            "type": "histogram"
           }
          ],
          "histogram2d": [
           {
            "colorbar": {
             "outlinewidth": 0,
             "ticks": ""
            },
            "colorscale": [
             [
              0,
              "#0d0887"
             ],
             [
              0.1111111111111111,
              "#46039f"
             ],
             [
              0.2222222222222222,
              "#7201a8"
             ],
             [
              0.3333333333333333,
              "#9c179e"
             ],
             [
              0.4444444444444444,
              "#bd3786"
             ],
             [
              0.5555555555555556,
              "#d8576b"
             ],
             [
              0.6666666666666666,
              "#ed7953"
             ],
             [
              0.7777777777777778,
              "#fb9f3a"
             ],
             [
              0.8888888888888888,
              "#fdca26"
             ],
             [
              1,
              "#f0f921"
             ]
            ],
            "type": "histogram2d"
           }
          ],
          "histogram2dcontour": [
           {
            "colorbar": {
             "outlinewidth": 0,
             "ticks": ""
            },
            "colorscale": [
             [
              0,
              "#0d0887"
             ],
             [
              0.1111111111111111,
              "#46039f"
             ],
             [
              0.2222222222222222,
              "#7201a8"
             ],
             [
              0.3333333333333333,
              "#9c179e"
             ],
             [
              0.4444444444444444,
              "#bd3786"
             ],
             [
              0.5555555555555556,
              "#d8576b"
             ],
             [
              0.6666666666666666,
              "#ed7953"
             ],
             [
              0.7777777777777778,
              "#fb9f3a"
             ],
             [
              0.8888888888888888,
              "#fdca26"
             ],
             [
              1,
              "#f0f921"
             ]
            ],
            "type": "histogram2dcontour"
           }
          ],
          "mesh3d": [
           {
            "colorbar": {
             "outlinewidth": 0,
             "ticks": ""
            },
            "type": "mesh3d"
           }
          ],
          "parcoords": [
           {
            "line": {
             "colorbar": {
              "outlinewidth": 0,
              "ticks": ""
             }
            },
            "type": "parcoords"
           }
          ],
          "pie": [
           {
            "automargin": true,
            "type": "pie"
           }
          ],
          "scatter": [
           {
            "fillpattern": {
             "fillmode": "overlay",
             "size": 10,
             "solidity": 0.2
            },
            "type": "scatter"
           }
          ],
          "scatter3d": [
           {
            "line": {
             "colorbar": {
              "outlinewidth": 0,
              "ticks": ""
             }
            },
            "marker": {
             "colorbar": {
              "outlinewidth": 0,
              "ticks": ""
             }
            },
            "type": "scatter3d"
           }
          ],
          "scattercarpet": [
           {
            "marker": {
             "colorbar": {
              "outlinewidth": 0,
              "ticks": ""
             }
            },
            "type": "scattercarpet"
           }
          ],
          "scattergeo": [
           {
            "marker": {
             "colorbar": {
              "outlinewidth": 0,
              "ticks": ""
             }
            },
            "type": "scattergeo"
           }
          ],
          "scattergl": [
           {
            "marker": {
             "colorbar": {
              "outlinewidth": 0,
              "ticks": ""
             }
            },
            "type": "scattergl"
           }
          ],
          "scattermapbox": [
           {
            "marker": {
             "colorbar": {
              "outlinewidth": 0,
              "ticks": ""
             }
            },
            "type": "scattermapbox"
           }
          ],
          "scatterpolar": [
           {
            "marker": {
             "colorbar": {
              "outlinewidth": 0,
              "ticks": ""
             }
            },
            "type": "scatterpolar"
           }
          ],
          "scatterpolargl": [
           {
            "marker": {
             "colorbar": {
              "outlinewidth": 0,
              "ticks": ""
             }
            },
            "type": "scatterpolargl"
           }
          ],
          "scatterternary": [
           {
            "marker": {
             "colorbar": {
              "outlinewidth": 0,
              "ticks": ""
             }
            },
            "type": "scatterternary"
           }
          ],
          "surface": [
           {
            "colorbar": {
             "outlinewidth": 0,
             "ticks": ""
            },
            "colorscale": [
             [
              0,
              "#0d0887"
             ],
             [
              0.1111111111111111,
              "#46039f"
             ],
             [
              0.2222222222222222,
              "#7201a8"
             ],
             [
              0.3333333333333333,
              "#9c179e"
             ],
             [
              0.4444444444444444,
              "#bd3786"
             ],
             [
              0.5555555555555556,
              "#d8576b"
             ],
             [
              0.6666666666666666,
              "#ed7953"
             ],
             [
              0.7777777777777778,
              "#fb9f3a"
             ],
             [
              0.8888888888888888,
              "#fdca26"
             ],
             [
              1,
              "#f0f921"
             ]
            ],
            "type": "surface"
           }
          ],
          "table": [
           {
            "cells": {
             "fill": {
              "color": "#EBF0F8"
             },
             "line": {
              "color": "white"
             }
            },
            "header": {
             "fill": {
              "color": "#C8D4E3"
             },
             "line": {
              "color": "white"
             }
            },
            "type": "table"
           }
          ]
         },
         "layout": {
          "annotationdefaults": {
           "arrowcolor": "#2a3f5f",
           "arrowhead": 0,
           "arrowwidth": 1
          },
          "autotypenumbers": "strict",
          "coloraxis": {
           "colorbar": {
            "outlinewidth": 0,
            "ticks": ""
           }
          },
          "colorscale": {
           "diverging": [
            [
             0,
             "#8e0152"
            ],
            [
             0.1,
             "#c51b7d"
            ],
            [
             0.2,
             "#de77ae"
            ],
            [
             0.3,
             "#f1b6da"
            ],
            [
             0.4,
             "#fde0ef"
            ],
            [
             0.5,
             "#f7f7f7"
            ],
            [
             0.6,
             "#e6f5d0"
            ],
            [
             0.7,
             "#b8e186"
            ],
            [
             0.8,
             "#7fbc41"
            ],
            [
             0.9,
             "#4d9221"
            ],
            [
             1,
             "#276419"
            ]
           ],
           "sequential": [
            [
             0,
             "#0d0887"
            ],
            [
             0.1111111111111111,
             "#46039f"
            ],
            [
             0.2222222222222222,
             "#7201a8"
            ],
            [
             0.3333333333333333,
             "#9c179e"
            ],
            [
             0.4444444444444444,
             "#bd3786"
            ],
            [
             0.5555555555555556,
             "#d8576b"
            ],
            [
             0.6666666666666666,
             "#ed7953"
            ],
            [
             0.7777777777777778,
             "#fb9f3a"
            ],
            [
             0.8888888888888888,
             "#fdca26"
            ],
            [
             1,
             "#f0f921"
            ]
           ],
           "sequentialminus": [
            [
             0,
             "#0d0887"
            ],
            [
             0.1111111111111111,
             "#46039f"
            ],
            [
             0.2222222222222222,
             "#7201a8"
            ],
            [
             0.3333333333333333,
             "#9c179e"
            ],
            [
             0.4444444444444444,
             "#bd3786"
            ],
            [
             0.5555555555555556,
             "#d8576b"
            ],
            [
             0.6666666666666666,
             "#ed7953"
            ],
            [
             0.7777777777777778,
             "#fb9f3a"
            ],
            [
             0.8888888888888888,
             "#fdca26"
            ],
            [
             1,
             "#f0f921"
            ]
           ]
          },
          "colorway": [
           "#636efa",
           "#EF553B",
           "#00cc96",
           "#ab63fa",
           "#FFA15A",
           "#19d3f3",
           "#FF6692",
           "#B6E880",
           "#FF97FF",
           "#FECB52"
          ],
          "font": {
           "color": "#2a3f5f"
          },
          "geo": {
           "bgcolor": "white",
           "lakecolor": "white",
           "landcolor": "#E5ECF6",
           "showlakes": true,
           "showland": true,
           "subunitcolor": "white"
          },
          "hoverlabel": {
           "align": "left"
          },
          "hovermode": "closest",
          "mapbox": {
           "style": "light"
          },
          "paper_bgcolor": "white",
          "plot_bgcolor": "#E5ECF6",
          "polar": {
           "angularaxis": {
            "gridcolor": "white",
            "linecolor": "white",
            "ticks": ""
           },
           "bgcolor": "#E5ECF6",
           "radialaxis": {
            "gridcolor": "white",
            "linecolor": "white",
            "ticks": ""
           }
          },
          "scene": {
           "xaxis": {
            "backgroundcolor": "#E5ECF6",
            "gridcolor": "white",
            "gridwidth": 2,
            "linecolor": "white",
            "showbackground": true,
            "ticks": "",
            "zerolinecolor": "white"
           },
           "yaxis": {
            "backgroundcolor": "#E5ECF6",
            "gridcolor": "white",
            "gridwidth": 2,
            "linecolor": "white",
            "showbackground": true,
            "ticks": "",
            "zerolinecolor": "white"
           },
           "zaxis": {
            "backgroundcolor": "#E5ECF6",
            "gridcolor": "white",
            "gridwidth": 2,
            "linecolor": "white",
            "showbackground": true,
            "ticks": "",
            "zerolinecolor": "white"
           }
          },
          "shapedefaults": {
           "line": {
            "color": "#2a3f5f"
           }
          },
          "ternary": {
           "aaxis": {
            "gridcolor": "white",
            "linecolor": "white",
            "ticks": ""
           },
           "baxis": {
            "gridcolor": "white",
            "linecolor": "white",
            "ticks": ""
           },
           "bgcolor": "#E5ECF6",
           "caxis": {
            "gridcolor": "white",
            "linecolor": "white",
            "ticks": ""
           }
          },
          "title": {
           "x": 0.05
          },
          "xaxis": {
           "automargin": true,
           "gridcolor": "white",
           "linecolor": "white",
           "ticks": "",
           "title": {
            "standoff": 15
           },
           "zerolinecolor": "white",
           "zerolinewidth": 2
          },
          "yaxis": {
           "automargin": true,
           "gridcolor": "white",
           "linecolor": "white",
           "ticks": "",
           "title": {
            "standoff": 15
           },
           "zerolinecolor": "white",
           "zerolinewidth": 2
          }
         }
        },
        "title": {
         "text": "e-gamma L1T efficiency"
        },
        "width": 800,
        "xaxis": {
         "title": {
          "text": "Momentum (GeV)"
         },
         "type": "log"
        },
        "yaxis": {
         "title": {
          "text": "Efficiency"
         }
        }
       }
      }
     },
     "metadata": {},
     "output_type": "display_data"
    }
   ],
   "source": [
    "fig = go.Figure()\n",
    "fig.add_scatter(x = egamma[\"x\"], y = egamma[\" y\"], name=\"Data\")\n",
    "fig.add_scatter(x = egamma_xs, y = egamma_spl(egamma_xs), name=\"Interpolation\")\n",
    "fig.add_scatter(x = egamma_xs, y = egamma_ideal(egamma_xs), name = \"Ideal\", line_dash=\"dash\")\n",
    "fig.add_scatter(x = egamma_xs, y = 1.0 - exp_cdf(egamma_xs, egamma_l), name = \"Data Fit\")\n",
    "fig.update_layout(width = 800,\n",
    "                  height = 600,\n",
    "                  title = \"e-gamma L1T efficiency\",\n",
    "                  xaxis_title = \"Momentum (GeV)\",\n",
    "                  yaxis_title = \"Efficiency\",\n",
    "                  )\n",
    "fig.update_xaxes(type = \"log\")"
   ]
  },
  {
   "cell_type": "code",
   "execution_count": 19,
   "metadata": {},
   "outputs": [
    {
     "data": {
      "application/vnd.plotly.v1+json": {
       "config": {
        "plotlyServerURL": "https://plot.ly"
       },
       "data": [
        {
         "name": "Data",
         "type": "scatter",
         "x": [
          1,
          5,
          9.579221636,
          11.07492321,
          13.58382789,
          16.57180808,
          18.95452704,
          20.99199313,
          22.87669237,
          25.06493087,
          26.8784921,
          28.51516218,
          29.60819293,
          30.74312126,
          31.58032313,
          32.61511417,
          33.50329448,
          34.60109543,
          35.54335832,
          36.51128106,
          37.70764458,
          39.15303755,
          40.43596339,
          41.98593708,
          44.06637757,
          47.50939098,
          54.92751672,
          64.8836624,
          84.88314657,
          150.0361919,
          251.323658,
          350.6906234,
          502.6706719,
          797.9646711
         ],
         "y": [
          0,
          0,
          0.007425743,
          0.011138614,
          0.016089109,
          0.018564356,
          0.01980198,
          0.021039604,
          0.022277228,
          0.030940594,
          0.064356436,
          0.14480198,
          0.306930693,
          0.543316832,
          0.719059406,
          0.813118812,
          0.86509901,
          0.892326733,
          0.909653465,
          0.920792079,
          0.928217822,
          0.933168317,
          0.938118812,
          0.941831683,
          0.946782178,
          0.952970297,
          0.964108911,
          0.972772277,
          0.978960396,
          0.986386139,
          0.992574257,
          0.995049505,
          0.995049505,
          0.997524752
         ]
        },
        {
         "name": "Interpolation",
         "type": "scatter",
         "x": [
          1,
          8.969646711,
          16.939293422,
          24.908940133,
          32.878586844,
          40.848233555,
          48.817880266,
          56.787526977,
          64.757173688,
          72.726820399,
          80.69646711,
          88.666113821,
          96.635760532,
          104.605407243,
          112.575053954,
          120.54470066500001,
          128.514347376,
          136.483994087,
          144.453640798,
          152.423287509,
          160.39293422,
          168.362580931,
          176.332227642,
          184.30187435300002,
          192.271521064,
          200.241167775,
          208.210814486,
          216.180461197,
          224.150107908,
          232.11975461900002,
          240.08940133000002,
          248.059048041,
          256.028694752,
          263.99834146300003,
          271.967988174,
          279.937634885,
          287.907281596,
          295.876928307,
          303.846575018,
          311.816221729,
          319.78586844,
          327.755515151,
          335.725161862,
          343.694808573,
          351.664455284,
          359.63410199500004,
          367.60374870600003,
          375.57339541700003,
          383.543042128,
          391.512688839,
          399.48233555,
          407.451982261,
          415.421628972,
          423.391275683,
          431.360922394,
          439.330569105,
          447.300215816,
          455.269862527,
          463.23950923800004,
          471.20915594900003,
          479.17880266000003,
          487.148449371,
          495.118096082,
          503.087742793,
          511.057389504,
          519.0270362150001,
          526.9966829260001,
          534.9663296370001,
          542.935976348,
          550.905623059,
          558.87526977,
          566.844916481,
          574.814563192,
          582.784209903,
          590.753856614,
          598.723503325,
          606.693150036,
          614.662796747,
          622.632443458,
          630.602090169,
          638.57173688,
          646.541383591,
          654.511030302,
          662.480677013,
          670.450323724,
          678.419970435,
          686.389617146,
          694.359263857,
          702.328910568,
          710.298557279,
          718.2682039900001,
          726.2378507010001,
          734.2074974120001,
          742.1771441230001,
          750.1467908340001,
          758.116437545,
          766.086084256,
          774.055730967,
          782.025377678,
          789.995024389,
          797.9646711
         ],
         "y": [
          0,
          0.006134315005656706,
          0.018783103060460746,
          0.029931265139215645,
          0.8314145995501592,
          0.9392363470080936,
          0.9551438307750767,
          0.9661397680421329,
          0.9727104460899111,
          0.9759388642117814,
          0.9781197426902725,
          0.9796245700381107,
          0.9808888284555517,
          0.9819905539727436,
          0.9829546189415632,
          0.9838058957138867,
          0.9845692566415909,
          0.9852695740765522,
          0.9859317203706474,
          0.986579436580726,
          0.9872122331459701,
          0.9878244561561446,
          0.9884144713527173,
          0.9889806444771557,
          0.9895213412709278,
          0.990034927475501,
          0.990519768832343,
          0.9909742310829218,
          0.9913966799687046,
          0.9917854812311594,
          0.9921390006117536,
          0.9924556038519552,
          0.9927412958027534,
          0.9930257724497409,
          0.9933083371685119,
          0.9935845367746653,
          0.9938499180838009,
          0.9941000279115177,
          0.9943304130734154,
          0.9945366203850935,
          0.994714196662151,
          0.9948586887201878,
          0.9949656433748029,
          0.9950306074415957,
          0.995049505,
          0.995049505,
          0.995049505,
          0.995049505,
          0.995049505,
          0.995049505,
          0.995049505,
          0.995049505,
          0.995049505,
          0.995049505,
          0.995049505,
          0.995049505,
          0.995049505,
          0.995049505,
          0.995049505,
          0.995049505,
          0.995049505,
          0.995049505,
          0.995049505,
          0.9950495116131867,
          0.9950521607739721,
          0.9950595367345266,
          0.9950715402892893,
          0.9950880722326993,
          0.9951090333591958,
          0.9951343244632175,
          0.9951638463392037,
          0.9951974997815934,
          0.9952351855848257,
          0.9952768045433396,
          0.9953222574515742,
          0.9953714451039686,
          0.9954242682949617,
          0.9954806278189928,
          0.9955404244705008,
          0.9956035590439247,
          0.9956699323337038,
          0.995739445134277,
          0.9958119982400834,
          0.995887492445562,
          0.9959658285451518,
          0.996046907333292,
          0.9961306296044217,
          0.9962168961529798,
          0.9963056077734055,
          0.9963966652601378,
          0.9964899694076157,
          0.9965854210102785,
          0.9966829208625648,
          0.9967823697589141,
          0.9968836684937653,
          0.9969867178615576,
          0.9970914186567297,
          0.9971976716737211,
          0.9973053777069705,
          0.9974144375509171,
          0.997524752
         ]
        },
        {
         "line": {
          "dash": "dash"
         },
         "name": "Ideal",
         "type": "scatter",
         "x": [
          1,
          8.969646711,
          16.939293422,
          24.908940133,
          32.878586844,
          40.848233555,
          48.817880266,
          56.787526977,
          64.757173688,
          72.726820399,
          80.69646711,
          88.666113821,
          96.635760532,
          104.605407243,
          112.575053954,
          120.54470066500001,
          128.514347376,
          136.483994087,
          144.453640798,
          152.423287509,
          160.39293422,
          168.362580931,
          176.332227642,
          184.30187435300002,
          192.271521064,
          200.241167775,
          208.210814486,
          216.180461197,
          224.150107908,
          232.11975461900002,
          240.08940133000002,
          248.059048041,
          256.028694752,
          263.99834146300003,
          271.967988174,
          279.937634885,
          287.907281596,
          295.876928307,
          303.846575018,
          311.816221729,
          319.78586844,
          327.755515151,
          335.725161862,
          343.694808573,
          351.664455284,
          359.63410199500004,
          367.60374870600003,
          375.57339541700003,
          383.543042128,
          391.512688839,
          399.48233555,
          407.451982261,
          415.421628972,
          423.391275683,
          431.360922394,
          439.330569105,
          447.300215816,
          455.269862527,
          463.23950923800004,
          471.20915594900003,
          479.17880266000003,
          487.148449371,
          495.118096082,
          503.087742793,
          511.057389504,
          519.0270362150001,
          526.9966829260001,
          534.9663296370001,
          542.935976348,
          550.905623059,
          558.87526977,
          566.844916481,
          574.814563192,
          582.784209903,
          590.753856614,
          598.723503325,
          606.693150036,
          614.662796747,
          622.632443458,
          630.602090169,
          638.57173688,
          646.541383591,
          654.511030302,
          662.480677013,
          670.450323724,
          678.419970435,
          686.389617146,
          694.359263857,
          702.328910568,
          710.298557279,
          718.2682039900001,
          726.2378507010001,
          734.2074974120001,
          742.1771441230001,
          750.1467908340001,
          758.116437545,
          766.086084256,
          774.055730967,
          782.025377678,
          789.995024389,
          797.9646711
         ],
         "y": [
          0,
          0,
          0,
          0,
          1,
          1,
          1,
          1,
          1,
          1,
          1,
          1,
          1,
          1,
          1,
          1,
          1,
          1,
          1,
          1,
          1,
          1,
          1,
          1,
          1,
          1,
          1,
          1,
          1,
          1,
          1,
          1,
          1,
          1,
          1,
          1,
          1,
          1,
          1,
          1,
          1,
          1,
          1,
          1,
          1,
          1,
          1,
          1,
          1,
          1,
          1,
          1,
          1,
          1,
          1,
          1,
          1,
          1,
          1,
          1,
          1,
          1,
          1,
          1,
          1,
          1,
          1,
          1,
          1,
          1,
          1,
          1,
          1,
          1,
          1,
          1,
          1,
          1,
          1,
          1,
          1,
          1,
          1,
          1,
          1,
          1,
          1,
          1,
          1,
          1,
          1,
          1,
          1,
          1,
          1,
          1,
          1,
          1,
          1,
          1,
          1
         ]
        },
        {
         "name": "Data Fit",
         "type": "scatter",
         "x": [
          1,
          8.969646711,
          16.939293422,
          24.908940133,
          32.878586844,
          40.848233555,
          48.817880266,
          56.787526977,
          64.757173688,
          72.726820399,
          80.69646711,
          88.666113821,
          96.635760532,
          104.605407243,
          112.575053954,
          120.54470066500001,
          128.514347376,
          136.483994087,
          144.453640798,
          152.423287509,
          160.39293422,
          168.362580931,
          176.332227642,
          184.30187435300002,
          192.271521064,
          200.241167775,
          208.210814486,
          216.180461197,
          224.150107908,
          232.11975461900002,
          240.08940133000002,
          248.059048041,
          256.028694752,
          263.99834146300003,
          271.967988174,
          279.937634885,
          287.907281596,
          295.876928307,
          303.846575018,
          311.816221729,
          319.78586844,
          327.755515151,
          335.725161862,
          343.694808573,
          351.664455284,
          359.63410199500004,
          367.60374870600003,
          375.57339541700003,
          383.543042128,
          391.512688839,
          399.48233555,
          407.451982261,
          415.421628972,
          423.391275683,
          431.360922394,
          439.330569105,
          447.300215816,
          455.269862527,
          463.23950923800004,
          471.20915594900003,
          479.17880266000003,
          487.148449371,
          495.118096082,
          503.087742793,
          511.057389504,
          519.0270362150001,
          526.9966829260001,
          534.9663296370001,
          542.935976348,
          550.905623059,
          558.87526977,
          566.844916481,
          574.814563192,
          582.784209903,
          590.753856614,
          598.723503325,
          606.693150036,
          614.662796747,
          622.632443458,
          630.602090169,
          638.57173688,
          646.541383591,
          654.511030302,
          662.480677013,
          670.450323724,
          678.419970435,
          686.389617146,
          694.359263857,
          702.328910568,
          710.298557279,
          718.2682039900001,
          726.2378507010001,
          734.2074974120001,
          742.1771441230001,
          750.1467908340001,
          758.116437545,
          766.086084256,
          774.055730967,
          782.025377678,
          789.995024389,
          797.9646711
         ],
         "y": [
          0.734057464790498,
          0.062466341256855906,
          0.005315719786504247,
          0.000452353640057801,
          0.00003849409372425061,
          0.000003275745170228106,
          2.7875721653192187e-7,
          2.3721498987328005e-8,
          2.018636591216705e-9,
          1.717805897527569e-10,
          1.461808452063451e-11,
          1.244004899092488e-12,
          1.0580425424677742e-13,
          8.992806499463768e-15,
          7.771561172376096e-16,
          1.1102230246251565e-16,
          0,
          0,
          0,
          0,
          0,
          0,
          0,
          0,
          0,
          0,
          0,
          0,
          0,
          0,
          0,
          0,
          0,
          0,
          0,
          0,
          0,
          0,
          0,
          0,
          0,
          0,
          0,
          0,
          0,
          0,
          0,
          0,
          0,
          0,
          0,
          0,
          0,
          0,
          0,
          0,
          0,
          0,
          0,
          0,
          0,
          0,
          0,
          0,
          0,
          0,
          0,
          0,
          0,
          0,
          0,
          0,
          0,
          0,
          0,
          0,
          0,
          0,
          0,
          0,
          0,
          0,
          0,
          0,
          0,
          0,
          0,
          0,
          0,
          0,
          0,
          0,
          0,
          0,
          0,
          0,
          0,
          0,
          0,
          0,
          0
         ]
        }
       ],
       "layout": {
        "height": 600,
        "template": {
         "data": {
          "bar": [
           {
            "error_x": {
             "color": "#2a3f5f"
            },
            "error_y": {
             "color": "#2a3f5f"
            },
            "marker": {
             "line": {
              "color": "#E5ECF6",
              "width": 0.5
             },
             "pattern": {
              "fillmode": "overlay",
              "size": 10,
              "solidity": 0.2
             }
            },
            "type": "bar"
           }
          ],
          "barpolar": [
           {
            "marker": {
             "line": {
              "color": "#E5ECF6",
              "width": 0.5
             },
             "pattern": {
              "fillmode": "overlay",
              "size": 10,
              "solidity": 0.2
             }
            },
            "type": "barpolar"
           }
          ],
          "carpet": [
           {
            "aaxis": {
             "endlinecolor": "#2a3f5f",
             "gridcolor": "white",
             "linecolor": "white",
             "minorgridcolor": "white",
             "startlinecolor": "#2a3f5f"
            },
            "baxis": {
             "endlinecolor": "#2a3f5f",
             "gridcolor": "white",
             "linecolor": "white",
             "minorgridcolor": "white",
             "startlinecolor": "#2a3f5f"
            },
            "type": "carpet"
           }
          ],
          "choropleth": [
           {
            "colorbar": {
             "outlinewidth": 0,
             "ticks": ""
            },
            "type": "choropleth"
           }
          ],
          "contour": [
           {
            "colorbar": {
             "outlinewidth": 0,
             "ticks": ""
            },
            "colorscale": [
             [
              0,
              "#0d0887"
             ],
             [
              0.1111111111111111,
              "#46039f"
             ],
             [
              0.2222222222222222,
              "#7201a8"
             ],
             [
              0.3333333333333333,
              "#9c179e"
             ],
             [
              0.4444444444444444,
              "#bd3786"
             ],
             [
              0.5555555555555556,
              "#d8576b"
             ],
             [
              0.6666666666666666,
              "#ed7953"
             ],
             [
              0.7777777777777778,
              "#fb9f3a"
             ],
             [
              0.8888888888888888,
              "#fdca26"
             ],
             [
              1,
              "#f0f921"
             ]
            ],
            "type": "contour"
           }
          ],
          "contourcarpet": [
           {
            "colorbar": {
             "outlinewidth": 0,
             "ticks": ""
            },
            "type": "contourcarpet"
           }
          ],
          "heatmap": [
           {
            "colorbar": {
             "outlinewidth": 0,
             "ticks": ""
            },
            "colorscale": [
             [
              0,
              "#0d0887"
             ],
             [
              0.1111111111111111,
              "#46039f"
             ],
             [
              0.2222222222222222,
              "#7201a8"
             ],
             [
              0.3333333333333333,
              "#9c179e"
             ],
             [
              0.4444444444444444,
              "#bd3786"
             ],
             [
              0.5555555555555556,
              "#d8576b"
             ],
             [
              0.6666666666666666,
              "#ed7953"
             ],
             [
              0.7777777777777778,
              "#fb9f3a"
             ],
             [
              0.8888888888888888,
              "#fdca26"
             ],
             [
              1,
              "#f0f921"
             ]
            ],
            "type": "heatmap"
           }
          ],
          "heatmapgl": [
           {
            "colorbar": {
             "outlinewidth": 0,
             "ticks": ""
            },
            "colorscale": [
             [
              0,
              "#0d0887"
             ],
             [
              0.1111111111111111,
              "#46039f"
             ],
             [
              0.2222222222222222,
              "#7201a8"
             ],
             [
              0.3333333333333333,
              "#9c179e"
             ],
             [
              0.4444444444444444,
              "#bd3786"
             ],
             [
              0.5555555555555556,
              "#d8576b"
             ],
             [
              0.6666666666666666,
              "#ed7953"
             ],
             [
              0.7777777777777778,
              "#fb9f3a"
             ],
             [
              0.8888888888888888,
              "#fdca26"
             ],
             [
              1,
              "#f0f921"
             ]
            ],
            "type": "heatmapgl"
           }
          ],
          "histogram": [
           {
            "marker": {
             "pattern": {
              "fillmode": "overlay",
              "size": 10,
              "solidity": 0.2
             }
            },
            "type": "histogram"
           }
          ],
          "histogram2d": [
           {
            "colorbar": {
             "outlinewidth": 0,
             "ticks": ""
            },
            "colorscale": [
             [
              0,
              "#0d0887"
             ],
             [
              0.1111111111111111,
              "#46039f"
             ],
             [
              0.2222222222222222,
              "#7201a8"
             ],
             [
              0.3333333333333333,
              "#9c179e"
             ],
             [
              0.4444444444444444,
              "#bd3786"
             ],
             [
              0.5555555555555556,
              "#d8576b"
             ],
             [
              0.6666666666666666,
              "#ed7953"
             ],
             [
              0.7777777777777778,
              "#fb9f3a"
             ],
             [
              0.8888888888888888,
              "#fdca26"
             ],
             [
              1,
              "#f0f921"
             ]
            ],
            "type": "histogram2d"
           }
          ],
          "histogram2dcontour": [
           {
            "colorbar": {
             "outlinewidth": 0,
             "ticks": ""
            },
            "colorscale": [
             [
              0,
              "#0d0887"
             ],
             [
              0.1111111111111111,
              "#46039f"
             ],
             [
              0.2222222222222222,
              "#7201a8"
             ],
             [
              0.3333333333333333,
              "#9c179e"
             ],
             [
              0.4444444444444444,
              "#bd3786"
             ],
             [
              0.5555555555555556,
              "#d8576b"
             ],
             [
              0.6666666666666666,
              "#ed7953"
             ],
             [
              0.7777777777777778,
              "#fb9f3a"
             ],
             [
              0.8888888888888888,
              "#fdca26"
             ],
             [
              1,
              "#f0f921"
             ]
            ],
            "type": "histogram2dcontour"
           }
          ],
          "mesh3d": [
           {
            "colorbar": {
             "outlinewidth": 0,
             "ticks": ""
            },
            "type": "mesh3d"
           }
          ],
          "parcoords": [
           {
            "line": {
             "colorbar": {
              "outlinewidth": 0,
              "ticks": ""
             }
            },
            "type": "parcoords"
           }
          ],
          "pie": [
           {
            "automargin": true,
            "type": "pie"
           }
          ],
          "scatter": [
           {
            "fillpattern": {
             "fillmode": "overlay",
             "size": 10,
             "solidity": 0.2
            },
            "type": "scatter"
           }
          ],
          "scatter3d": [
           {
            "line": {
             "colorbar": {
              "outlinewidth": 0,
              "ticks": ""
             }
            },
            "marker": {
             "colorbar": {
              "outlinewidth": 0,
              "ticks": ""
             }
            },
            "type": "scatter3d"
           }
          ],
          "scattercarpet": [
           {
            "marker": {
             "colorbar": {
              "outlinewidth": 0,
              "ticks": ""
             }
            },
            "type": "scattercarpet"
           }
          ],
          "scattergeo": [
           {
            "marker": {
             "colorbar": {
              "outlinewidth": 0,
              "ticks": ""
             }
            },
            "type": "scattergeo"
           }
          ],
          "scattergl": [
           {
            "marker": {
             "colorbar": {
              "outlinewidth": 0,
              "ticks": ""
             }
            },
            "type": "scattergl"
           }
          ],
          "scattermapbox": [
           {
            "marker": {
             "colorbar": {
              "outlinewidth": 0,
              "ticks": ""
             }
            },
            "type": "scattermapbox"
           }
          ],
          "scatterpolar": [
           {
            "marker": {
             "colorbar": {
              "outlinewidth": 0,
              "ticks": ""
             }
            },
            "type": "scatterpolar"
           }
          ],
          "scatterpolargl": [
           {
            "marker": {
             "colorbar": {
              "outlinewidth": 0,
              "ticks": ""
             }
            },
            "type": "scatterpolargl"
           }
          ],
          "scatterternary": [
           {
            "marker": {
             "colorbar": {
              "outlinewidth": 0,
              "ticks": ""
             }
            },
            "type": "scatterternary"
           }
          ],
          "surface": [
           {
            "colorbar": {
             "outlinewidth": 0,
             "ticks": ""
            },
            "colorscale": [
             [
              0,
              "#0d0887"
             ],
             [
              0.1111111111111111,
              "#46039f"
             ],
             [
              0.2222222222222222,
              "#7201a8"
             ],
             [
              0.3333333333333333,
              "#9c179e"
             ],
             [
              0.4444444444444444,
              "#bd3786"
             ],
             [
              0.5555555555555556,
              "#d8576b"
             ],
             [
              0.6666666666666666,
              "#ed7953"
             ],
             [
              0.7777777777777778,
              "#fb9f3a"
             ],
             [
              0.8888888888888888,
              "#fdca26"
             ],
             [
              1,
              "#f0f921"
             ]
            ],
            "type": "surface"
           }
          ],
          "table": [
           {
            "cells": {
             "fill": {
              "color": "#EBF0F8"
             },
             "line": {
              "color": "white"
             }
            },
            "header": {
             "fill": {
              "color": "#C8D4E3"
             },
             "line": {
              "color": "white"
             }
            },
            "type": "table"
           }
          ]
         },
         "layout": {
          "annotationdefaults": {
           "arrowcolor": "#2a3f5f",
           "arrowhead": 0,
           "arrowwidth": 1
          },
          "autotypenumbers": "strict",
          "coloraxis": {
           "colorbar": {
            "outlinewidth": 0,
            "ticks": ""
           }
          },
          "colorscale": {
           "diverging": [
            [
             0,
             "#8e0152"
            ],
            [
             0.1,
             "#c51b7d"
            ],
            [
             0.2,
             "#de77ae"
            ],
            [
             0.3,
             "#f1b6da"
            ],
            [
             0.4,
             "#fde0ef"
            ],
            [
             0.5,
             "#f7f7f7"
            ],
            [
             0.6,
             "#e6f5d0"
            ],
            [
             0.7,
             "#b8e186"
            ],
            [
             0.8,
             "#7fbc41"
            ],
            [
             0.9,
             "#4d9221"
            ],
            [
             1,
             "#276419"
            ]
           ],
           "sequential": [
            [
             0,
             "#0d0887"
            ],
            [
             0.1111111111111111,
             "#46039f"
            ],
            [
             0.2222222222222222,
             "#7201a8"
            ],
            [
             0.3333333333333333,
             "#9c179e"
            ],
            [
             0.4444444444444444,
             "#bd3786"
            ],
            [
             0.5555555555555556,
             "#d8576b"
            ],
            [
             0.6666666666666666,
             "#ed7953"
            ],
            [
             0.7777777777777778,
             "#fb9f3a"
            ],
            [
             0.8888888888888888,
             "#fdca26"
            ],
            [
             1,
             "#f0f921"
            ]
           ],
           "sequentialminus": [
            [
             0,
             "#0d0887"
            ],
            [
             0.1111111111111111,
             "#46039f"
            ],
            [
             0.2222222222222222,
             "#7201a8"
            ],
            [
             0.3333333333333333,
             "#9c179e"
            ],
            [
             0.4444444444444444,
             "#bd3786"
            ],
            [
             0.5555555555555556,
             "#d8576b"
            ],
            [
             0.6666666666666666,
             "#ed7953"
            ],
            [
             0.7777777777777778,
             "#fb9f3a"
            ],
            [
             0.8888888888888888,
             "#fdca26"
            ],
            [
             1,
             "#f0f921"
            ]
           ]
          },
          "colorway": [
           "#636efa",
           "#EF553B",
           "#00cc96",
           "#ab63fa",
           "#FFA15A",
           "#19d3f3",
           "#FF6692",
           "#B6E880",
           "#FF97FF",
           "#FECB52"
          ],
          "font": {
           "color": "#2a3f5f"
          },
          "geo": {
           "bgcolor": "white",
           "lakecolor": "white",
           "landcolor": "#E5ECF6",
           "showlakes": true,
           "showland": true,
           "subunitcolor": "white"
          },
          "hoverlabel": {
           "align": "left"
          },
          "hovermode": "closest",
          "mapbox": {
           "style": "light"
          },
          "paper_bgcolor": "white",
          "plot_bgcolor": "#E5ECF6",
          "polar": {
           "angularaxis": {
            "gridcolor": "white",
            "linecolor": "white",
            "ticks": ""
           },
           "bgcolor": "#E5ECF6",
           "radialaxis": {
            "gridcolor": "white",
            "linecolor": "white",
            "ticks": ""
           }
          },
          "scene": {
           "xaxis": {
            "backgroundcolor": "#E5ECF6",
            "gridcolor": "white",
            "gridwidth": 2,
            "linecolor": "white",
            "showbackground": true,
            "ticks": "",
            "zerolinecolor": "white"
           },
           "yaxis": {
            "backgroundcolor": "#E5ECF6",
            "gridcolor": "white",
            "gridwidth": 2,
            "linecolor": "white",
            "showbackground": true,
            "ticks": "",
            "zerolinecolor": "white"
           },
           "zaxis": {
            "backgroundcolor": "#E5ECF6",
            "gridcolor": "white",
            "gridwidth": 2,
            "linecolor": "white",
            "showbackground": true,
            "ticks": "",
            "zerolinecolor": "white"
           }
          },
          "shapedefaults": {
           "line": {
            "color": "#2a3f5f"
           }
          },
          "ternary": {
           "aaxis": {
            "gridcolor": "white",
            "linecolor": "white",
            "ticks": ""
           },
           "baxis": {
            "gridcolor": "white",
            "linecolor": "white",
            "ticks": ""
           },
           "bgcolor": "#E5ECF6",
           "caxis": {
            "gridcolor": "white",
            "linecolor": "white",
            "ticks": ""
           }
          },
          "title": {
           "x": 0.05
          },
          "xaxis": {
           "automargin": true,
           "gridcolor": "white",
           "linecolor": "white",
           "ticks": "",
           "title": {
            "standoff": 15
           },
           "zerolinecolor": "white",
           "zerolinewidth": 2
          },
          "yaxis": {
           "automargin": true,
           "gridcolor": "white",
           "linecolor": "white",
           "ticks": "",
           "title": {
            "standoff": 15
           },
           "zerolinecolor": "white",
           "zerolinewidth": 2
          }
         }
        },
        "title": {
         "text": "e-gamma L1T efficiency"
        },
        "width": 800,
        "xaxis": {
         "title": {
          "text": "Momentum (GeV)"
         }
        },
        "yaxis": {
         "title": {
          "text": "Efficiency"
         }
        }
       }
      }
     },
     "metadata": {},
     "output_type": "display_data"
    }
   ],
   "source": [
    "fig = go.Figure()\n",
    "fig.add_scatter(x = egamma[\"x\"], y = egamma[\" y\"], name=\"Data\")\n",
    "fig.add_scatter(x = egamma_xs, y = egamma_spl(egamma_xs), name=\"Interpolation\")\n",
    "fig.add_scatter(x = egamma_xs, y = egamma_ideal(egamma_xs), name = \"Ideal\", line_dash=\"dash\")\n",
    "fig.add_scatter(x = egamma_xs, y = 1.0 - exp_cdf(egamma_xs, egamma_l), name = \"Data Fit\")\n",
    "fig.update_layout(width = 800,\n",
    "                  height = 600,\n",
    "                  title = \"e-gamma L1T efficiency\",\n",
    "                  xaxis_title = \"Momentum (GeV)\",\n",
    "                  yaxis_title = \"Efficiency\",\n",
    "                  )\n"
   ]
  },
  {
   "cell_type": "markdown",
   "metadata": {},
   "source": [
    "## Fit to Tau "
   ]
  },
  {
   "cell_type": "code",
   "execution_count": 20,
   "metadata": {},
   "outputs": [],
   "source": [
    "tau_xs = data_range(tau[\"x\"])\n",
    "tau_spl = PchipInterpolator(tau[\"x\"], tau[\" y\"])"
   ]
  },
  {
   "cell_type": "code",
   "execution_count": 21,
   "metadata": {},
   "outputs": [],
   "source": [
    "#fit to tau - minimize the difference between the trigger efficiency multiplied by the underlying distribution and the trigger rate\n",
    "tau_fit = lambda l: np.abs(tau_rate - quad(lambda x: exp_dist(x, l) * tau_spl(x), 0, 100)[0])"
   ]
  },
  {
   "cell_type": "code",
   "execution_count": 22,
   "metadata": {},
   "outputs": [],
   "source": [
    "tau_threshold = 38\n",
    "tau_ideal = lambda x: 1.0 * (x > tau_threshold)"
   ]
  },
  {
   "cell_type": "code",
   "execution_count": 23,
   "metadata": {},
   "outputs": [],
   "source": [
    "tau_soln = minimize_scalar(tau_fit)\n",
    "tau_l = tau_soln.x"
   ]
  },
  {
   "cell_type": "code",
   "execution_count": 24,
   "metadata": {},
   "outputs": [
    {
     "data": {
      "text/plain": [
       "     fun: 6.245224172876651e-12\n",
       " message: '\\nOptimization terminated successfully;\\nThe returned value satisfies the termination criteria\\n(using xtol = 1.48e-08 )'\n",
       "    nfev: 30\n",
       "     nit: 26\n",
       " success: True\n",
       "       x: 0.4770168907807679"
      ]
     },
     "execution_count": 24,
     "metadata": {},
     "output_type": "execute_result"
    }
   ],
   "source": [
    "tau_soln"
   ]
  },
  {
   "cell_type": "code",
   "execution_count": 25,
   "metadata": {},
   "outputs": [
    {
     "data": {
      "text/plain": [
       "0.4770168907807679"
      ]
     },
     "execution_count": 25,
     "metadata": {},
     "output_type": "execute_result"
    }
   ],
   "source": [
    "tau_l"
   ]
  },
  {
   "cell_type": "code",
   "execution_count": 26,
   "metadata": {},
   "outputs": [
    {
     "data": {
      "application/vnd.plotly.v1+json": {
       "config": {
        "plotlyServerURL": "https://plot.ly"
       },
       "data": [
        {
         "name": "Data",
         "type": "scatter",
         "x": [
          0.2515723270440251,
          20.37735849056604,
          21.257861635220127,
          22.38993710691824,
          23.144654088050316,
          24.654088050314467,
          26.79245283018868,
          28.80503144654088,
          31.069182389937108,
          33.459119496855344,
          37.35849056603774,
          42.515723270440255,
          47.54716981132076,
          55.09433962264151,
          65.15723270440252,
          80,
          100
         ],
         "y": [
          0,
          0.0222496909765142,
          0.025957973,
          0.0309023485784919,
          0.0370828182941903,
          0.04697157,
          0.070457355,
          0.09394314,
          0.1347342398022249,
          0.2336217552533992,
          0.4697156983930778,
          0.7082818294190358,
          0.8529048207663782,
          0.9443757725587144,
          0.9826946847960444,
          0.991347342398022,
          0.9938195302843016
         ]
        },
        {
         "name": "Interpolation",
         "type": "scatter",
         "x": [
          0.2515723270440251,
          1.2490566037735849,
          2.2465408805031446,
          3.2440251572327043,
          4.241509433962264,
          5.238993710691824,
          6.236477987421384,
          7.233962264150943,
          8.231446540880503,
          9.228930817610063,
          10.226415094339623,
          11.223899371069182,
          12.221383647798742,
          13.218867924528302,
          14.21635220125786,
          15.213836477987421,
          16.21132075471698,
          17.208805031446538,
          18.206289308176103,
          19.20377358490566,
          20.20125786163522,
          21.19874213836478,
          22.196226415094337,
          23.193710691823902,
          24.19119496855346,
          25.18867924528302,
          26.186163522012578,
          27.183647798742136,
          28.181132075471695,
          29.17861635220126,
          30.17610062893082,
          31.173584905660377,
          32.171069182389935,
          33.168553459119494,
          34.16603773584905,
          35.16352201257862,
          36.161006289308176,
          37.158490566037734,
          38.15597484276729,
          39.15345911949685,
          40.15094339622642,
          41.148427672955975,
          42.145911949685534,
          43.14339622641509,
          44.14088050314465,
          45.13836477987421,
          46.135849056603774,
          47.13333333333333,
          48.13081761006289,
          49.12830188679245,
          50.12578616352201,
          51.123270440251574,
          52.12075471698113,
          53.11823899371069,
          54.11572327044025,
          55.11320754716981,
          56.110691823899366,
          57.10817610062893,
          58.10566037735849,
          59.10314465408805,
          60.10062893081761,
          61.098113207547165,
          62.09559748427673,
          63.09308176100629,
          64.09056603773585,
          65.08805031446542,
          66.08553459119497,
          67.08301886792454,
          68.08050314465409,
          69.07798742138365,
          70.07547169811322,
          71.07295597484277,
          72.07044025157234,
          73.06792452830189,
          74.06540880503145,
          75.06289308176102,
          76.06037735849057,
          77.05786163522014,
          78.05534591194969,
          79.05283018867925,
          80.05031446540882,
          81.04779874213837,
          82.04528301886793,
          83.04276729559749,
          84.04025157232705,
          85.0377358490566,
          86.03522012578617,
          87.03270440251573,
          88.03018867924528,
          89.02767295597485,
          90.0251572327044,
          91.02264150943397,
          92.02012578616353,
          93.01761006289308,
          94.01509433962265,
          95.0125786163522,
          96.01006289308177,
          97.00754716981133,
          98.00503144654088,
          99.00251572327045,
          100
         ],
         "y": [
          0,
          0.00005838853107480989,
          0.00023277536693095392,
          0.0005219923715160037,
          0.0009248714087775306,
          0.0014402443426631065,
          0.0020669430371203024,
          0.00280379935609669,
          0.003649645163539842,
          0.004603312323397328,
          0.005663632699616721,
          0.006829438156145591,
          0.008099560556931512,
          0.009472831765922054,
          0.010948083647064786,
          0.012524148064307286,
          0.014199856881597117,
          0.01597404196288186,
          0.01784553517210909,
          0.019813168373226362,
          0.02187577343018125,
          0.025697513986937138,
          0.029861427931121173,
          0.03743943407248603,
          0.043677315335855234,
          0.05193922769878938,
          0.0633374212633072,
          0.07478429128022673,
          0.08589231227650711,
          0.09929483755646824,
          0.11551853632791173,
          0.13746095163506591,
          0.17315819671764268,
          0.21950988613497222,
          0.2714976097226452,
          0.33353367052761096,
          0.3985934778855808,
          0.45888765083240746,
          0.5114489777375912,
          0.5621326757578095,
          0.610228837315372,
          0.6547699737386425,
          0.694788596355986,
          0.7303035314274139,
          0.7639560376382246,
          0.795022925454675,
          0.8224363251386397,
          0.8451283669519927,
          0.8629218129071042,
          0.8790266339429509,
          0.8937816478540095,
          0.9071062249960985,
          0.9189197357250365,
          0.9291415503966417,
          0.9376910393667326,
          0.9444878469232809,
          0.9502530910074498,
          0.9556805340888419,
          0.9607341798850682,
          0.9653780321137405,
          0.9695760944924707,
          0.9732923707388702,
          0.9764908645705511,
          0.9791355797051245,
          0.9811905198602024,
          0.9826196887533966,
          0.9836460738149475,
          0.9845954430551042,
          0.9854720631577918,
          0.9862787935406928,
          0.9870184936214902,
          0.9876940228178668,
          0.988308240547505,
          0.9888640062280878,
          0.9893641792772976,
          0.9898116191128176,
          0.9902091851523299,
          0.9905597368135178,
          0.9908661335140639,
          0.9911312346716507,
          0.9913579386656898,
          0.9915652592123464,
          0.9917669716986266,
          0.9919625328895803,
          0.9921513995502576,
          0.9923330284457084,
          0.9925068763409828,
          0.9926724000011308,
          0.9928290561912023,
          0.9929763016762475,
          0.9931135932213162,
          0.9932403875914585,
          0.9933561415517244,
          0.9934603118671639,
          0.9935523553028269,
          0.9936317286237637,
          0.993697888595024,
          0.9937502919816579,
          0.9937883955487156,
          0.9938116560612467,
          0.9938195302843016
         ]
        },
        {
         "line": {
          "dash": "dash"
         },
         "name": "Ideal",
         "type": "scatter",
         "x": [
          0.2515723270440251,
          1.2490566037735849,
          2.2465408805031446,
          3.2440251572327043,
          4.241509433962264,
          5.238993710691824,
          6.236477987421384,
          7.233962264150943,
          8.231446540880503,
          9.228930817610063,
          10.226415094339623,
          11.223899371069182,
          12.221383647798742,
          13.218867924528302,
          14.21635220125786,
          15.213836477987421,
          16.21132075471698,
          17.208805031446538,
          18.206289308176103,
          19.20377358490566,
          20.20125786163522,
          21.19874213836478,
          22.196226415094337,
          23.193710691823902,
          24.19119496855346,
          25.18867924528302,
          26.186163522012578,
          27.183647798742136,
          28.181132075471695,
          29.17861635220126,
          30.17610062893082,
          31.173584905660377,
          32.171069182389935,
          33.168553459119494,
          34.16603773584905,
          35.16352201257862,
          36.161006289308176,
          37.158490566037734,
          38.15597484276729,
          39.15345911949685,
          40.15094339622642,
          41.148427672955975,
          42.145911949685534,
          43.14339622641509,
          44.14088050314465,
          45.13836477987421,
          46.135849056603774,
          47.13333333333333,
          48.13081761006289,
          49.12830188679245,
          50.12578616352201,
          51.123270440251574,
          52.12075471698113,
          53.11823899371069,
          54.11572327044025,
          55.11320754716981,
          56.110691823899366,
          57.10817610062893,
          58.10566037735849,
          59.10314465408805,
          60.10062893081761,
          61.098113207547165,
          62.09559748427673,
          63.09308176100629,
          64.09056603773585,
          65.08805031446542,
          66.08553459119497,
          67.08301886792454,
          68.08050314465409,
          69.07798742138365,
          70.07547169811322,
          71.07295597484277,
          72.07044025157234,
          73.06792452830189,
          74.06540880503145,
          75.06289308176102,
          76.06037735849057,
          77.05786163522014,
          78.05534591194969,
          79.05283018867925,
          80.05031446540882,
          81.04779874213837,
          82.04528301886793,
          83.04276729559749,
          84.04025157232705,
          85.0377358490566,
          86.03522012578617,
          87.03270440251573,
          88.03018867924528,
          89.02767295597485,
          90.0251572327044,
          91.02264150943397,
          92.02012578616353,
          93.01761006289308,
          94.01509433962265,
          95.0125786163522,
          96.01006289308177,
          97.00754716981133,
          98.00503144654088,
          99.00251572327045,
          100
         ],
         "y": [
          0,
          0,
          0,
          0,
          0,
          0,
          0,
          0,
          0,
          0,
          0,
          0,
          0,
          0,
          0,
          0,
          0,
          0,
          0,
          0,
          0,
          0,
          0,
          0,
          0,
          0,
          0,
          0,
          0,
          0,
          0,
          0,
          0,
          0,
          0,
          0,
          0,
          0,
          1,
          1,
          1,
          1,
          1,
          1,
          1,
          1,
          1,
          1,
          1,
          1,
          1,
          1,
          1,
          1,
          1,
          1,
          1,
          1,
          1,
          1,
          1,
          1,
          1,
          1,
          1,
          1,
          1,
          1,
          1,
          1,
          1,
          1,
          1,
          1,
          1,
          1,
          1,
          1,
          1,
          1,
          1,
          1,
          1,
          1,
          1,
          1,
          1,
          1,
          1,
          1,
          1,
          1,
          1,
          1,
          1,
          1,
          1,
          1,
          1,
          1,
          1
         ]
        },
        {
         "name": "Data Fit",
         "type": "scatter",
         "x": [
          0.2515723270440251,
          1.2490566037735849,
          2.2465408805031446,
          3.2440251572327043,
          4.241509433962264,
          5.238993710691824,
          6.236477987421384,
          7.233962264150943,
          8.231446540880503,
          9.228930817610063,
          10.226415094339623,
          11.223899371069182,
          12.221383647798742,
          13.218867924528302,
          14.21635220125786,
          15.213836477987421,
          16.21132075471698,
          17.208805031446538,
          18.206289308176103,
          19.20377358490566,
          20.20125786163522,
          21.19874213836478,
          22.196226415094337,
          23.193710691823902,
          24.19119496855346,
          25.18867924528302,
          26.186163522012578,
          27.183647798742136,
          28.181132075471695,
          29.17861635220126,
          30.17610062893082,
          31.173584905660377,
          32.171069182389935,
          33.168553459119494,
          34.16603773584905,
          35.16352201257862,
          36.161006289308176,
          37.158490566037734,
          38.15597484276729,
          39.15345911949685,
          40.15094339622642,
          41.148427672955975,
          42.145911949685534,
          43.14339622641509,
          44.14088050314465,
          45.13836477987421,
          46.135849056603774,
          47.13333333333333,
          48.13081761006289,
          49.12830188679245,
          50.12578616352201,
          51.123270440251574,
          52.12075471698113,
          53.11823899371069,
          54.11572327044025,
          55.11320754716981,
          56.110691823899366,
          57.10817610062893,
          58.10566037735849,
          59.10314465408805,
          60.10062893081761,
          61.098113207547165,
          62.09559748427673,
          63.09308176100629,
          64.09056603773585,
          65.08805031446542,
          66.08553459119497,
          67.08301886792454,
          68.08050314465409,
          69.07798742138365,
          70.07547169811322,
          71.07295597484277,
          72.07044025157234,
          73.06792452830189,
          74.06540880503145,
          75.06289308176102,
          76.06037735849057,
          77.05786163522014,
          78.05534591194969,
          79.05283018867925,
          80.05031446540882,
          81.04779874213837,
          82.04528301886793,
          83.04276729559749,
          84.04025157232705,
          85.0377358490566,
          86.03522012578617,
          87.03270440251573,
          88.03018867924528,
          89.02767295597485,
          90.0251572327044,
          91.02264150943397,
          92.02012578616353,
          93.01761006289308,
          94.01509433962265,
          95.0125786163522,
          96.01006289308177,
          97.00754716981133,
          98.00503144654088,
          99.00251572327045,
          100
         ],
         "y": [
          0.8869166679758175,
          0.5511098650823293,
          0.3424471479200394,
          0.21278887668078772,
          0.13222217301002037,
          0.08215985397450165,
          0.051052266434918336,
          0.031722718360122304,
          0.019711776389761626,
          0.012248449960341468,
          0.007610908497770463,
          0.004729245606504451,
          0.0029386457626173756,
          0.0018260077053879886,
          0.0011346396978335616,
          0.0007050393271075261,
          0.00043809541805850394,
          0.00027222253843806055,
          0.00016915289998253868,
          0.0001051077685804147,
          0.0000653115791516834,
          0.00004058313128418867,
          0.000025217435655644493,
          0.00001566954152931732,
          0.000009736697065165778,
          0.000006050162320470065,
          0.0000037594333949231284,
          0.000002336026490357135,
          0.0000014515537821724322,
          9.019625382133967e-7,
          5.604590269658871e-7,
          3.4825650474523684e-7,
          2.1639867897604859e-7,
          1.3446522217908097e-7,
          8.355363378953484e-8,
          5.1918329524447415e-8,
          3.226087030849811e-8,
          2.004617172257639e-8,
          1.2456235598534704e-8,
          7.740021845670242e-9,
          4.809473708178302e-9,
          2.9884976715521816e-9,
          1.8569845661176032e-9,
          1.1538879851613615e-9,
          7.169997928713201e-10,
          4.4552739275616204e-10,
          2.768405504838256e-10,
          1.7202239632752025e-10,
          1.0689082952097806e-10,
          6.641953653740984e-11,
          4.127154173971803e-11,
          2.5645263690421416e-11,
          1.593536413935226e-11,
          9.901857112026846e-12,
          6.152744980170155e-12,
          3.823164007599189e-12,
          2.37565522809291e-12,
          1.4761525335416081e-12,
          9.172662629453043e-13,
          5.699885008425554e-13,
          3.5416114485542494e-13,
          2.2004620348070603e-13,
          1.3677947663381929e-13,
          8.493206138382448e-14,
          5.284661597215745e-14,
          3.2862601528904634e-14,
          2.042810365310288e-14,
          1.2656542480726785e-14,
          7.882583474838611e-15,
          4.884981308350689e-15,
          2.9976021664879227e-15,
          1.887379141862766e-15,
          1.2212453270876722e-15,
          7.771561172376096e-16,
          4.440892098500626e-16,
          3.3306690738754696e-16,
          2.220446049250313e-16,
          1.1102230246251565e-16,
          1.1102230246251565e-16,
          0,
          0,
          0,
          0,
          0,
          0,
          0,
          0,
          0,
          0,
          0,
          0,
          0,
          0,
          0,
          0,
          0,
          0,
          0,
          0,
          0,
          0
         ]
        }
       ],
       "layout": {
        "height": 600,
        "template": {
         "data": {
          "bar": [
           {
            "error_x": {
             "color": "#2a3f5f"
            },
            "error_y": {
             "color": "#2a3f5f"
            },
            "marker": {
             "line": {
              "color": "#E5ECF6",
              "width": 0.5
             },
             "pattern": {
              "fillmode": "overlay",
              "size": 10,
              "solidity": 0.2
             }
            },
            "type": "bar"
           }
          ],
          "barpolar": [
           {
            "marker": {
             "line": {
              "color": "#E5ECF6",
              "width": 0.5
             },
             "pattern": {
              "fillmode": "overlay",
              "size": 10,
              "solidity": 0.2
             }
            },
            "type": "barpolar"
           }
          ],
          "carpet": [
           {
            "aaxis": {
             "endlinecolor": "#2a3f5f",
             "gridcolor": "white",
             "linecolor": "white",
             "minorgridcolor": "white",
             "startlinecolor": "#2a3f5f"
            },
            "baxis": {
             "endlinecolor": "#2a3f5f",
             "gridcolor": "white",
             "linecolor": "white",
             "minorgridcolor": "white",
             "startlinecolor": "#2a3f5f"
            },
            "type": "carpet"
           }
          ],
          "choropleth": [
           {
            "colorbar": {
             "outlinewidth": 0,
             "ticks": ""
            },
            "type": "choropleth"
           }
          ],
          "contour": [
           {
            "colorbar": {
             "outlinewidth": 0,
             "ticks": ""
            },
            "colorscale": [
             [
              0,
              "#0d0887"
             ],
             [
              0.1111111111111111,
              "#46039f"
             ],
             [
              0.2222222222222222,
              "#7201a8"
             ],
             [
              0.3333333333333333,
              "#9c179e"
             ],
             [
              0.4444444444444444,
              "#bd3786"
             ],
             [
              0.5555555555555556,
              "#d8576b"
             ],
             [
              0.6666666666666666,
              "#ed7953"
             ],
             [
              0.7777777777777778,
              "#fb9f3a"
             ],
             [
              0.8888888888888888,
              "#fdca26"
             ],
             [
              1,
              "#f0f921"
             ]
            ],
            "type": "contour"
           }
          ],
          "contourcarpet": [
           {
            "colorbar": {
             "outlinewidth": 0,
             "ticks": ""
            },
            "type": "contourcarpet"
           }
          ],
          "heatmap": [
           {
            "colorbar": {
             "outlinewidth": 0,
             "ticks": ""
            },
            "colorscale": [
             [
              0,
              "#0d0887"
             ],
             [
              0.1111111111111111,
              "#46039f"
             ],
             [
              0.2222222222222222,
              "#7201a8"
             ],
             [
              0.3333333333333333,
              "#9c179e"
             ],
             [
              0.4444444444444444,
              "#bd3786"
             ],
             [
              0.5555555555555556,
              "#d8576b"
             ],
             [
              0.6666666666666666,
              "#ed7953"
             ],
             [
              0.7777777777777778,
              "#fb9f3a"
             ],
             [
              0.8888888888888888,
              "#fdca26"
             ],
             [
              1,
              "#f0f921"
             ]
            ],
            "type": "heatmap"
           }
          ],
          "heatmapgl": [
           {
            "colorbar": {
             "outlinewidth": 0,
             "ticks": ""
            },
            "colorscale": [
             [
              0,
              "#0d0887"
             ],
             [
              0.1111111111111111,
              "#46039f"
             ],
             [
              0.2222222222222222,
              "#7201a8"
             ],
             [
              0.3333333333333333,
              "#9c179e"
             ],
             [
              0.4444444444444444,
              "#bd3786"
             ],
             [
              0.5555555555555556,
              "#d8576b"
             ],
             [
              0.6666666666666666,
              "#ed7953"
             ],
             [
              0.7777777777777778,
              "#fb9f3a"
             ],
             [
              0.8888888888888888,
              "#fdca26"
             ],
             [
              1,
              "#f0f921"
             ]
            ],
            "type": "heatmapgl"
           }
          ],
          "histogram": [
           {
            "marker": {
             "pattern": {
              "fillmode": "overlay",
              "size": 10,
              "solidity": 0.2
             }
            },
            "type": "histogram"
           }
          ],
          "histogram2d": [
           {
            "colorbar": {
             "outlinewidth": 0,
             "ticks": ""
            },
            "colorscale": [
             [
              0,
              "#0d0887"
             ],
             [
              0.1111111111111111,
              "#46039f"
             ],
             [
              0.2222222222222222,
              "#7201a8"
             ],
             [
              0.3333333333333333,
              "#9c179e"
             ],
             [
              0.4444444444444444,
              "#bd3786"
             ],
             [
              0.5555555555555556,
              "#d8576b"
             ],
             [
              0.6666666666666666,
              "#ed7953"
             ],
             [
              0.7777777777777778,
              "#fb9f3a"
             ],
             [
              0.8888888888888888,
              "#fdca26"
             ],
             [
              1,
              "#f0f921"
             ]
            ],
            "type": "histogram2d"
           }
          ],
          "histogram2dcontour": [
           {
            "colorbar": {
             "outlinewidth": 0,
             "ticks": ""
            },
            "colorscale": [
             [
              0,
              "#0d0887"
             ],
             [
              0.1111111111111111,
              "#46039f"
             ],
             [
              0.2222222222222222,
              "#7201a8"
             ],
             [
              0.3333333333333333,
              "#9c179e"
             ],
             [
              0.4444444444444444,
              "#bd3786"
             ],
             [
              0.5555555555555556,
              "#d8576b"
             ],
             [
              0.6666666666666666,
              "#ed7953"
             ],
             [
              0.7777777777777778,
              "#fb9f3a"
             ],
             [
              0.8888888888888888,
              "#fdca26"
             ],
             [
              1,
              "#f0f921"
             ]
            ],
            "type": "histogram2dcontour"
           }
          ],
          "mesh3d": [
           {
            "colorbar": {
             "outlinewidth": 0,
             "ticks": ""
            },
            "type": "mesh3d"
           }
          ],
          "parcoords": [
           {
            "line": {
             "colorbar": {
              "outlinewidth": 0,
              "ticks": ""
             }
            },
            "type": "parcoords"
           }
          ],
          "pie": [
           {
            "automargin": true,
            "type": "pie"
           }
          ],
          "scatter": [
           {
            "fillpattern": {
             "fillmode": "overlay",
             "size": 10,
             "solidity": 0.2
            },
            "type": "scatter"
           }
          ],
          "scatter3d": [
           {
            "line": {
             "colorbar": {
              "outlinewidth": 0,
              "ticks": ""
             }
            },
            "marker": {
             "colorbar": {
              "outlinewidth": 0,
              "ticks": ""
             }
            },
            "type": "scatter3d"
           }
          ],
          "scattercarpet": [
           {
            "marker": {
             "colorbar": {
              "outlinewidth": 0,
              "ticks": ""
             }
            },
            "type": "scattercarpet"
           }
          ],
          "scattergeo": [
           {
            "marker": {
             "colorbar": {
              "outlinewidth": 0,
              "ticks": ""
             }
            },
            "type": "scattergeo"
           }
          ],
          "scattergl": [
           {
            "marker": {
             "colorbar": {
              "outlinewidth": 0,
              "ticks": ""
             }
            },
            "type": "scattergl"
           }
          ],
          "scattermapbox": [
           {
            "marker": {
             "colorbar": {
              "outlinewidth": 0,
              "ticks": ""
             }
            },
            "type": "scattermapbox"
           }
          ],
          "scatterpolar": [
           {
            "marker": {
             "colorbar": {
              "outlinewidth": 0,
              "ticks": ""
             }
            },
            "type": "scatterpolar"
           }
          ],
          "scatterpolargl": [
           {
            "marker": {
             "colorbar": {
              "outlinewidth": 0,
              "ticks": ""
             }
            },
            "type": "scatterpolargl"
           }
          ],
          "scatterternary": [
           {
            "marker": {
             "colorbar": {
              "outlinewidth": 0,
              "ticks": ""
             }
            },
            "type": "scatterternary"
           }
          ],
          "surface": [
           {
            "colorbar": {
             "outlinewidth": 0,
             "ticks": ""
            },
            "colorscale": [
             [
              0,
              "#0d0887"
             ],
             [
              0.1111111111111111,
              "#46039f"
             ],
             [
              0.2222222222222222,
              "#7201a8"
             ],
             [
              0.3333333333333333,
              "#9c179e"
             ],
             [
              0.4444444444444444,
              "#bd3786"
             ],
             [
              0.5555555555555556,
              "#d8576b"
             ],
             [
              0.6666666666666666,
              "#ed7953"
             ],
             [
              0.7777777777777778,
              "#fb9f3a"
             ],
             [
              0.8888888888888888,
              "#fdca26"
             ],
             [
              1,
              "#f0f921"
             ]
            ],
            "type": "surface"
           }
          ],
          "table": [
           {
            "cells": {
             "fill": {
              "color": "#EBF0F8"
             },
             "line": {
              "color": "white"
             }
            },
            "header": {
             "fill": {
              "color": "#C8D4E3"
             },
             "line": {
              "color": "white"
             }
            },
            "type": "table"
           }
          ]
         },
         "layout": {
          "annotationdefaults": {
           "arrowcolor": "#2a3f5f",
           "arrowhead": 0,
           "arrowwidth": 1
          },
          "autotypenumbers": "strict",
          "coloraxis": {
           "colorbar": {
            "outlinewidth": 0,
            "ticks": ""
           }
          },
          "colorscale": {
           "diverging": [
            [
             0,
             "#8e0152"
            ],
            [
             0.1,
             "#c51b7d"
            ],
            [
             0.2,
             "#de77ae"
            ],
            [
             0.3,
             "#f1b6da"
            ],
            [
             0.4,
             "#fde0ef"
            ],
            [
             0.5,
             "#f7f7f7"
            ],
            [
             0.6,
             "#e6f5d0"
            ],
            [
             0.7,
             "#b8e186"
            ],
            [
             0.8,
             "#7fbc41"
            ],
            [
             0.9,
             "#4d9221"
            ],
            [
             1,
             "#276419"
            ]
           ],
           "sequential": [
            [
             0,
             "#0d0887"
            ],
            [
             0.1111111111111111,
             "#46039f"
            ],
            [
             0.2222222222222222,
             "#7201a8"
            ],
            [
             0.3333333333333333,
             "#9c179e"
            ],
            [
             0.4444444444444444,
             "#bd3786"
            ],
            [
             0.5555555555555556,
             "#d8576b"
            ],
            [
             0.6666666666666666,
             "#ed7953"
            ],
            [
             0.7777777777777778,
             "#fb9f3a"
            ],
            [
             0.8888888888888888,
             "#fdca26"
            ],
            [
             1,
             "#f0f921"
            ]
           ],
           "sequentialminus": [
            [
             0,
             "#0d0887"
            ],
            [
             0.1111111111111111,
             "#46039f"
            ],
            [
             0.2222222222222222,
             "#7201a8"
            ],
            [
             0.3333333333333333,
             "#9c179e"
            ],
            [
             0.4444444444444444,
             "#bd3786"
            ],
            [
             0.5555555555555556,
             "#d8576b"
            ],
            [
             0.6666666666666666,
             "#ed7953"
            ],
            [
             0.7777777777777778,
             "#fb9f3a"
            ],
            [
             0.8888888888888888,
             "#fdca26"
            ],
            [
             1,
             "#f0f921"
            ]
           ]
          },
          "colorway": [
           "#636efa",
           "#EF553B",
           "#00cc96",
           "#ab63fa",
           "#FFA15A",
           "#19d3f3",
           "#FF6692",
           "#B6E880",
           "#FF97FF",
           "#FECB52"
          ],
          "font": {
           "color": "#2a3f5f"
          },
          "geo": {
           "bgcolor": "white",
           "lakecolor": "white",
           "landcolor": "#E5ECF6",
           "showlakes": true,
           "showland": true,
           "subunitcolor": "white"
          },
          "hoverlabel": {
           "align": "left"
          },
          "hovermode": "closest",
          "mapbox": {
           "style": "light"
          },
          "paper_bgcolor": "white",
          "plot_bgcolor": "#E5ECF6",
          "polar": {
           "angularaxis": {
            "gridcolor": "white",
            "linecolor": "white",
            "ticks": ""
           },
           "bgcolor": "#E5ECF6",
           "radialaxis": {
            "gridcolor": "white",
            "linecolor": "white",
            "ticks": ""
           }
          },
          "scene": {
           "xaxis": {
            "backgroundcolor": "#E5ECF6",
            "gridcolor": "white",
            "gridwidth": 2,
            "linecolor": "white",
            "showbackground": true,
            "ticks": "",
            "zerolinecolor": "white"
           },
           "yaxis": {
            "backgroundcolor": "#E5ECF6",
            "gridcolor": "white",
            "gridwidth": 2,
            "linecolor": "white",
            "showbackground": true,
            "ticks": "",
            "zerolinecolor": "white"
           },
           "zaxis": {
            "backgroundcolor": "#E5ECF6",
            "gridcolor": "white",
            "gridwidth": 2,
            "linecolor": "white",
            "showbackground": true,
            "ticks": "",
            "zerolinecolor": "white"
           }
          },
          "shapedefaults": {
           "line": {
            "color": "#2a3f5f"
           }
          },
          "ternary": {
           "aaxis": {
            "gridcolor": "white",
            "linecolor": "white",
            "ticks": ""
           },
           "baxis": {
            "gridcolor": "white",
            "linecolor": "white",
            "ticks": ""
           },
           "bgcolor": "#E5ECF6",
           "caxis": {
            "gridcolor": "white",
            "linecolor": "white",
            "ticks": ""
           }
          },
          "title": {
           "x": 0.05
          },
          "xaxis": {
           "automargin": true,
           "gridcolor": "white",
           "linecolor": "white",
           "ticks": "",
           "title": {
            "standoff": 15
           },
           "zerolinecolor": "white",
           "zerolinewidth": 2
          },
          "yaxis": {
           "automargin": true,
           "gridcolor": "white",
           "linecolor": "white",
           "ticks": "",
           "title": {
            "standoff": 15
           },
           "zerolinecolor": "white",
           "zerolinewidth": 2
          }
         }
        },
        "title": {
         "text": "Tau L1T Efficiency"
        },
        "width": 800,
        "xaxis": {
         "title": {
          "text": "Momentum (GeV)"
         },
         "type": "linear"
        },
        "yaxis": {
         "title": {
          "text": "Efficiency"
         }
        }
       }
      }
     },
     "metadata": {},
     "output_type": "display_data"
    }
   ],
   "source": [
    "fig = go.Figure()\n",
    "fig.add_scatter(x = tau[\"x\"], y = tau[\" y\"], name = \"Data\")\n",
    "fig.add_scatter(x = tau_xs, y = tau_spl(tau_xs), name = \"Interpolation\")\n",
    "fig.add_scatter(x = tau_xs, y = tau_ideal(tau_xs), name = \"Ideal\", line_dash=\"dash\")\n",
    "fig.add_scatter(x = tau_xs, y = 1.0 - exp_cdf(tau_xs, tau_l), name = \"Data Fit\")\n",
    "fig.update_layout(width = 800,\n",
    "                  height = 600,\n",
    "                  title = \"Tau L1T Efficiency\",\n",
    "                  xaxis_title = \"Momentum (GeV)\",\n",
    "                  yaxis_title = \"Efficiency\",\n",
    "                  )\n",
    "fig.update_xaxes(type = \"linear\")"
   ]
  },
  {
   "cell_type": "markdown",
   "metadata": {},
   "source": [
    "## Fit to Jets"
   ]
  },
  {
   "cell_type": "code",
   "execution_count": 27,
   "metadata": {},
   "outputs": [],
   "source": [
    "jet_xs = data_range(jet_energy[\"x\"])\n",
    "jet_spl = PchipInterpolator(jet_energy[\"x\"], jet_energy[\" y\"])"
   ]
  },
  {
   "cell_type": "code",
   "execution_count": 28,
   "metadata": {},
   "outputs": [],
   "source": [
    "jet_fit = lambda l: np.abs(jet_rate - quad(lambda x: exp_dist(x, l) * jet_spl(x), 0, np.max(jet_xs))[0])\n",
    "jet_soln = minimize_scalar(jet_fit, bounds = [0.000, 0.40], method=\"bounded\")\n",
    "jet_l = jet_soln.x"
   ]
  },
  {
   "cell_type": "code",
   "execution_count": 29,
   "metadata": {},
   "outputs": [
    {
     "data": {
      "text/plain": [
       "     fun: 2.4308430632432286e-07\n",
       " message: 'Solution found.'\n",
       "    nfev: 18\n",
       "     nit: 18\n",
       "  status: 0\n",
       " success: True\n",
       "       x: 0.02749101013719685"
      ]
     },
     "execution_count": 29,
     "metadata": {},
     "output_type": "execute_result"
    }
   ],
   "source": [
    "jet_soln"
   ]
  },
  {
   "cell_type": "code",
   "execution_count": 30,
   "metadata": {},
   "outputs": [
    {
     "data": {
      "text/plain": [
       "0.02749101013719685"
      ]
     },
     "execution_count": 30,
     "metadata": {},
     "output_type": "execute_result"
    }
   ],
   "source": [
    "jet_l"
   ]
  },
  {
   "cell_type": "code",
   "execution_count": 31,
   "metadata": {},
   "outputs": [],
   "source": [
    "jet_threshold = 320\n",
    "jet_ideal = lambda x: 1.0 * (x > jet_threshold)"
   ]
  },
  {
   "cell_type": "code",
   "execution_count": 32,
   "metadata": {},
   "outputs": [
    {
     "data": {
      "application/vnd.plotly.v1+json": {
       "config": {
        "plotlyServerURL": "https://plot.ly"
       },
       "data": [
        {
         "name": "Data",
         "type": "scatter",
         "x": [
          53.96039604,
          101.4851485,
          131.1881188,
          165.3465347,
          186.8811881,
          203.960396,
          215.0990099,
          224.7524752,
          235.1485149,
          245.5445545,
          255.1980198,
          264.8514851,
          275.2475248,
          285.6435644,
          295.2970297,
          305.6930693,
          316.0891089,
          325,
          335.3960396,
          345.7920792,
          355.4455446,
          365.8415842,
          375.4950495,
          385.1485149,
          396.2871287,
          407.4257426,
          436.3861386,
          476.4851485,
          526.2376238,
          581.1881188,
          642.0792079,
          691.8316832
         ],
         "y": [
          0,
          0,
          0,
          0.001236094,
          0.012360939,
          0.028430161,
          0.043263288,
          0.065512979,
          0.09394314,
          0.131025958,
          0.182941904,
          0.25710754,
          0.337453646,
          0.453646477,
          0.592088999,
          0.718170581,
          0.81829419,
          0.882571075,
          0.923362176,
          0.948084054,
          0.966625464,
          0.976514215,
          0.981458591,
          0.986402967,
          0.988875155,
          0.990111248,
          0.992583436,
          0.99381953,
          0.99381953,
          0.992583436,
          0.99381953,
          0.99381953
         ]
        },
        {
         "name": "Interpolation",
         "type": "scatter",
         "x": [
          53.96039604,
          60.3391089116,
          66.7178217832,
          73.0965346548,
          79.4752475264,
          85.853960398,
          92.2326732696,
          98.6113861412,
          104.9900990128,
          111.3688118844,
          117.747524756,
          124.1262376276,
          130.5049504992,
          136.8836633708,
          143.2623762424,
          149.641089114,
          156.0198019856,
          162.3985148572,
          168.7772277288,
          175.15594060040002,
          181.534653472,
          187.91336634360002,
          194.2920792152,
          200.67079208680002,
          207.0495049584,
          213.42821783000002,
          219.8069307016,
          226.18564357320003,
          232.5643564448,
          238.94306931640003,
          245.32178218800001,
          251.70049505960003,
          258.0792079312,
          264.4579208028,
          270.8366336744,
          277.215346546,
          283.5940594176,
          289.9727722892,
          296.3514851608,
          302.7301980324,
          309.108910904,
          315.4876237756,
          321.8663366472,
          328.2450495188,
          334.6237623904,
          341.002475262,
          347.3811881336,
          353.7599010052,
          360.1386138768,
          366.51732674839997,
          372.89603962,
          379.2747524916,
          385.6534653632,
          392.03217823479997,
          398.4108911064,
          404.789603978,
          411.1683168496,
          417.5470297212,
          423.9257425928,
          430.3044554644,
          436.683168336,
          443.0618812076,
          449.4405940792,
          455.8193069508,
          462.1980198224,
          468.576732694,
          474.9554455656,
          481.3341584372,
          487.7128713088,
          494.0915841804,
          500.470297052,
          506.8490099236,
          513.2277227952001,
          519.6064356668,
          525.9851485384,
          532.36386141,
          538.7425742816,
          545.1212871532,
          551.5000000248,
          557.8787128964001,
          564.2574257680001,
          570.6361386396,
          577.0148515112,
          583.3935643828,
          589.7722772544,
          596.150990126,
          602.5297029976,
          608.9084158692,
          615.2871287408,
          621.6658416124,
          628.0445544840001,
          634.4232673556,
          640.8019802272,
          647.1806930988,
          653.5594059704,
          659.938118842,
          666.3168317136,
          672.6955445852,
          679.0742574568,
          685.4529703284,
          691.8316832
         ],
         "y": [
          0,
          0,
          0,
          0,
          0,
          0,
          0,
          0,
          0,
          0,
          0,
          0,
          0,
          0.00003435350945496698,
          0.0001544032033773867,
          0.00036066404554518184,
          0.0006531567787671581,
          0.0010319021458521252,
          0.0018587610532848139,
          0.004627592844691159,
          0.008678493659728698,
          0.013079129383356373,
          0.018382027698458196,
          0.024822979079840123,
          0.03196881165244067,
          0.040549148516522034,
          0.053137379459618446,
          0.06911946093884211,
          0.0862353287562446,
          0.10611295841402141,
          0.13007277701228573,
          0.1619114117370334,
          0.20314141105353517,
          0.2540548439453304,
          0.3012781168338996,
          0.3563863783656646,
          0.42822208239610365,
          0.5146854205529199,
          0.6058860305651381,
          0.6849658602777797,
          0.7538347171550939,
          0.8132917275189498,
          0.8634404692839497,
          0.8978132969086394,
          0.9210325201789864,
          0.9377447184896974,
          0.9515002920861528,
          0.9641752821352105,
          0.9718850452543202,
          0.976948689515072,
          0.9802047274964579,
          0.9835741910683685,
          0.986558392173726,
          0.9881421028392485,
          0.9891664161574268,
          0.9898556353399973,
          0.9904841049140257,
          0.9911205805362213,
          0.9917169050198028,
          0.9922250633007131,
          0.9925972371466918,
          0.9928903264844452,
          0.9931670964138951,
          0.9934128417760762,
          0.9936128574120232,
          0.9937524381627709,
          0.9938168788693538,
          0.99381953,
          0.99381953,
          0.99381953,
          0.99381953,
          0.99381953,
          0.99381953,
          0.99381953,
          0.99381953,
          0.9937768645764474,
          0.9936566240454877,
          0.9934819314385852,
          0.9932759883099425,
          0.9930619962137623,
          0.992863156704247,
          0.9927026713355995,
          0.9926037416620221,
          0.9925881832560497,
          0.9926502083578611,
          0.9927706741476582,
          0.992932528807818,
          0.9931187205207183,
          0.9933121974687366,
          0.9934959078342499,
          0.9936527997996363,
          0.9937658215472727,
          0.9938179212595368,
          0.99381953,
          0.99381953,
          0.99381953,
          0.99381953,
          0.99381953,
          0.99381953,
          0.99381953,
          0.99381953
         ]
        },
        {
         "line": {
          "dash": "dash"
         },
         "name": "Ideal",
         "type": "scatter",
         "x": [
          53.96039604,
          60.3391089116,
          66.7178217832,
          73.0965346548,
          79.4752475264,
          85.853960398,
          92.2326732696,
          98.6113861412,
          104.9900990128,
          111.3688118844,
          117.747524756,
          124.1262376276,
          130.5049504992,
          136.8836633708,
          143.2623762424,
          149.641089114,
          156.0198019856,
          162.3985148572,
          168.7772277288,
          175.15594060040002,
          181.534653472,
          187.91336634360002,
          194.2920792152,
          200.67079208680002,
          207.0495049584,
          213.42821783000002,
          219.8069307016,
          226.18564357320003,
          232.5643564448,
          238.94306931640003,
          245.32178218800001,
          251.70049505960003,
          258.0792079312,
          264.4579208028,
          270.8366336744,
          277.215346546,
          283.5940594176,
          289.9727722892,
          296.3514851608,
          302.7301980324,
          309.108910904,
          315.4876237756,
          321.8663366472,
          328.2450495188,
          334.6237623904,
          341.002475262,
          347.3811881336,
          353.7599010052,
          360.1386138768,
          366.51732674839997,
          372.89603962,
          379.2747524916,
          385.6534653632,
          392.03217823479997,
          398.4108911064,
          404.789603978,
          411.1683168496,
          417.5470297212,
          423.9257425928,
          430.3044554644,
          436.683168336,
          443.0618812076,
          449.4405940792,
          455.8193069508,
          462.1980198224,
          468.576732694,
          474.9554455656,
          481.3341584372,
          487.7128713088,
          494.0915841804,
          500.470297052,
          506.8490099236,
          513.2277227952001,
          519.6064356668,
          525.9851485384,
          532.36386141,
          538.7425742816,
          545.1212871532,
          551.5000000248,
          557.8787128964001,
          564.2574257680001,
          570.6361386396,
          577.0148515112,
          583.3935643828,
          589.7722772544,
          596.150990126,
          602.5297029976,
          608.9084158692,
          615.2871287408,
          621.6658416124,
          628.0445544840001,
          634.4232673556,
          640.8019802272,
          647.1806930988,
          653.5594059704,
          659.938118842,
          666.3168317136,
          672.6955445852,
          679.0742574568,
          685.4529703284,
          691.8316832
         ],
         "y": [
          0,
          0,
          0,
          0,
          0,
          0,
          0,
          0,
          0,
          0,
          0,
          0,
          0,
          0,
          0,
          0,
          0,
          0,
          0,
          0,
          0,
          0,
          0,
          0,
          0,
          0,
          0,
          0,
          0,
          0,
          0,
          0,
          0,
          0,
          0,
          0,
          0,
          0,
          0,
          0,
          0,
          0,
          1,
          1,
          1,
          1,
          1,
          1,
          1,
          1,
          1,
          1,
          1,
          1,
          1,
          1,
          1,
          1,
          1,
          1,
          1,
          1,
          1,
          1,
          1,
          1,
          1,
          1,
          1,
          1,
          1,
          1,
          1,
          1,
          1,
          1,
          1,
          1,
          1,
          1,
          1,
          1,
          1,
          1,
          1,
          1,
          1,
          1,
          1,
          1,
          1,
          1,
          1,
          1,
          1,
          1,
          1,
          1,
          1,
          1,
          1
         ]
        },
        {
         "name": "Data Fit",
         "type": "scatter",
         "x": [
          53.96039604,
          60.3391089116,
          66.7178217832,
          73.0965346548,
          79.4752475264,
          85.853960398,
          92.2326732696,
          98.6113861412,
          104.9900990128,
          111.3688118844,
          117.747524756,
          124.1262376276,
          130.5049504992,
          136.8836633708,
          143.2623762424,
          149.641089114,
          156.0198019856,
          162.3985148572,
          168.7772277288,
          175.15594060040002,
          181.534653472,
          187.91336634360002,
          194.2920792152,
          200.67079208680002,
          207.0495049584,
          213.42821783000002,
          219.8069307016,
          226.18564357320003,
          232.5643564448,
          238.94306931640003,
          245.32178218800001,
          251.70049505960003,
          258.0792079312,
          264.4579208028,
          270.8366336744,
          277.215346546,
          283.5940594176,
          289.9727722892,
          296.3514851608,
          302.7301980324,
          309.108910904,
          315.4876237756,
          321.8663366472,
          328.2450495188,
          334.6237623904,
          341.002475262,
          347.3811881336,
          353.7599010052,
          360.1386138768,
          366.51732674839997,
          372.89603962,
          379.2747524916,
          385.6534653632,
          392.03217823479997,
          398.4108911064,
          404.789603978,
          411.1683168496,
          417.5470297212,
          423.9257425928,
          430.3044554644,
          436.683168336,
          443.0618812076,
          449.4405940792,
          455.8193069508,
          462.1980198224,
          468.576732694,
          474.9554455656,
          481.3341584372,
          487.7128713088,
          494.0915841804,
          500.470297052,
          506.8490099236,
          513.2277227952001,
          519.6064356668,
          525.9851485384,
          532.36386141,
          538.7425742816,
          545.1212871532,
          551.5000000248,
          557.8787128964001,
          564.2574257680001,
          570.6361386396,
          577.0148515112,
          583.3935643828,
          589.7722772544,
          596.150990126,
          602.5297029976,
          608.9084158692,
          615.2871287408,
          621.6658416124,
          628.0445544840001,
          634.4232673556,
          640.8019802272,
          647.1806930988,
          653.5594059704,
          659.938118842,
          666.3168317136,
          672.6955445852,
          679.0742574568,
          685.4529703284,
          691.8316832
         ],
         "y": [
          0.22685918269486582,
          0.19037050967946723,
          0.15975077810434313,
          0.134056010817602,
          0.11249406262416473,
          0.09440019920410658,
          0.07921660398689134,
          0.06647518119795426,
          0.05578312491194515,
          0.04681080922029046,
          0.03928162617847908,
          0.03296345824666769,
          0.02766152232707475,
          0.023212364786653006,
          0.019478822337310908,
          0.016345793422421595,
          0.013716689745493449,
          0.011510458545012647,
          0.009659083815027891,
          0.008105489436488034,
          0.006801779574870603,
          0.005707762097235114,
          0.004789709487057925,
          0.004019319057030346,
          0.0033728404041745152,
          0.002830343207547603,
          0.002375102795434847,
          0.001993084539655743,
          0.0016725111813474802,
          0.0014034997492959889,
          0.0011777568773482239,
          0.0009883231278359217,
          0.0008293584387421005,
          0.0006959620801537669,
          0.0005840215694272732,
          0.0004900858872669556,
          0.0004112590860878562,
          0.0003451110107108857,
          0.0002896023789937807,
          0.0002430219127060873,
          0.00020393358045089904,
          0.00017113232618581886,
          0.00014360691849291118,
          0.0001205087752774725,
          0.00010112580279053596,
          0.00008486044245725743,
          0.00007121124871523055,
          0.0000597574299253667,
          0.0000501458757670159,
          0.000042080271182798334,
          0.00003531196126760339,
          0.000029632285475256204,
          0.00002486614481223004,
          0.000020866603702929254,
          0.000017510360105443823,
          0.000014693944227150979,
          0.000012330528650017492,
          0.00001034725152326832,
          0.000008682970302875681,
          0.000007286376784265691,
          0.000006114415319946609,
          0.000005130955454513142,
          0.000004305678057203721,
          0.000003613140612368504,
          0.0000030319928501221227,
          0.0000025443185387441503,
          0.0000021350831439503892,
          0.0000017916703282105928,
          0.0000015034930017643333,
          0.0000012616669320397733,
          0.0000010587368518555351,
          8.884466200509422e-7,
          7.45546351210713e-7,
          6.256305660201633e-7,
          5.250023750180688e-7,
          4.405595070977597e-7,
          3.6969866912262006e-7,
          3.1023528879181583e-7,
          2.60336166957309e-7,
          2.1846296105465512e-7,
          1.8332476003912745e-7,
          1.538382867760646e-7,
          1.290945013110445e-7,
          1.0833057639825228e-7,
          9.090637986819416e-8,
          7.62847404134348e-8,
          6.401488683582812e-8,
          5.37185512738958e-8,
          4.50783074201766e-8,
          3.7827784904465034e-8,
          3.1743456974098194e-8,
          2.6637749450664217e-8,
          2.2353258466445425e-8,
          1.8757897124466183e-8,
          1.5740823866572384e-8,
          1.3209025206961655e-8,
          1.1084448137133052e-8,
          9.301594161570392e-9,
          7.80549946899356e-9,
          6.550040843045224e-9,
          5.496513688640903e-9
         ]
        }
       ],
       "layout": {
        "height": 600,
        "template": {
         "data": {
          "bar": [
           {
            "error_x": {
             "color": "#2a3f5f"
            },
            "error_y": {
             "color": "#2a3f5f"
            },
            "marker": {
             "line": {
              "color": "#E5ECF6",
              "width": 0.5
             },
             "pattern": {
              "fillmode": "overlay",
              "size": 10,
              "solidity": 0.2
             }
            },
            "type": "bar"
           }
          ],
          "barpolar": [
           {
            "marker": {
             "line": {
              "color": "#E5ECF6",
              "width": 0.5
             },
             "pattern": {
              "fillmode": "overlay",
              "size": 10,
              "solidity": 0.2
             }
            },
            "type": "barpolar"
           }
          ],
          "carpet": [
           {
            "aaxis": {
             "endlinecolor": "#2a3f5f",
             "gridcolor": "white",
             "linecolor": "white",
             "minorgridcolor": "white",
             "startlinecolor": "#2a3f5f"
            },
            "baxis": {
             "endlinecolor": "#2a3f5f",
             "gridcolor": "white",
             "linecolor": "white",
             "minorgridcolor": "white",
             "startlinecolor": "#2a3f5f"
            },
            "type": "carpet"
           }
          ],
          "choropleth": [
           {
            "colorbar": {
             "outlinewidth": 0,
             "ticks": ""
            },
            "type": "choropleth"
           }
          ],
          "contour": [
           {
            "colorbar": {
             "outlinewidth": 0,
             "ticks": ""
            },
            "colorscale": [
             [
              0,
              "#0d0887"
             ],
             [
              0.1111111111111111,
              "#46039f"
             ],
             [
              0.2222222222222222,
              "#7201a8"
             ],
             [
              0.3333333333333333,
              "#9c179e"
             ],
             [
              0.4444444444444444,
              "#bd3786"
             ],
             [
              0.5555555555555556,
              "#d8576b"
             ],
             [
              0.6666666666666666,
              "#ed7953"
             ],
             [
              0.7777777777777778,
              "#fb9f3a"
             ],
             [
              0.8888888888888888,
              "#fdca26"
             ],
             [
              1,
              "#f0f921"
             ]
            ],
            "type": "contour"
           }
          ],
          "contourcarpet": [
           {
            "colorbar": {
             "outlinewidth": 0,
             "ticks": ""
            },
            "type": "contourcarpet"
           }
          ],
          "heatmap": [
           {
            "colorbar": {
             "outlinewidth": 0,
             "ticks": ""
            },
            "colorscale": [
             [
              0,
              "#0d0887"
             ],
             [
              0.1111111111111111,
              "#46039f"
             ],
             [
              0.2222222222222222,
              "#7201a8"
             ],
             [
              0.3333333333333333,
              "#9c179e"
             ],
             [
              0.4444444444444444,
              "#bd3786"
             ],
             [
              0.5555555555555556,
              "#d8576b"
             ],
             [
              0.6666666666666666,
              "#ed7953"
             ],
             [
              0.7777777777777778,
              "#fb9f3a"
             ],
             [
              0.8888888888888888,
              "#fdca26"
             ],
             [
              1,
              "#f0f921"
             ]
            ],
            "type": "heatmap"
           }
          ],
          "heatmapgl": [
           {
            "colorbar": {
             "outlinewidth": 0,
             "ticks": ""
            },
            "colorscale": [
             [
              0,
              "#0d0887"
             ],
             [
              0.1111111111111111,
              "#46039f"
             ],
             [
              0.2222222222222222,
              "#7201a8"
             ],
             [
              0.3333333333333333,
              "#9c179e"
             ],
             [
              0.4444444444444444,
              "#bd3786"
             ],
             [
              0.5555555555555556,
              "#d8576b"
             ],
             [
              0.6666666666666666,
              "#ed7953"
             ],
             [
              0.7777777777777778,
              "#fb9f3a"
             ],
             [
              0.8888888888888888,
              "#fdca26"
             ],
             [
              1,
              "#f0f921"
             ]
            ],
            "type": "heatmapgl"
           }
          ],
          "histogram": [
           {
            "marker": {
             "pattern": {
              "fillmode": "overlay",
              "size": 10,
              "solidity": 0.2
             }
            },
            "type": "histogram"
           }
          ],
          "histogram2d": [
           {
            "colorbar": {
             "outlinewidth": 0,
             "ticks": ""
            },
            "colorscale": [
             [
              0,
              "#0d0887"
             ],
             [
              0.1111111111111111,
              "#46039f"
             ],
             [
              0.2222222222222222,
              "#7201a8"
             ],
             [
              0.3333333333333333,
              "#9c179e"
             ],
             [
              0.4444444444444444,
              "#bd3786"
             ],
             [
              0.5555555555555556,
              "#d8576b"
             ],
             [
              0.6666666666666666,
              "#ed7953"
             ],
             [
              0.7777777777777778,
              "#fb9f3a"
             ],
             [
              0.8888888888888888,
              "#fdca26"
             ],
             [
              1,
              "#f0f921"
             ]
            ],
            "type": "histogram2d"
           }
          ],
          "histogram2dcontour": [
           {
            "colorbar": {
             "outlinewidth": 0,
             "ticks": ""
            },
            "colorscale": [
             [
              0,
              "#0d0887"
             ],
             [
              0.1111111111111111,
              "#46039f"
             ],
             [
              0.2222222222222222,
              "#7201a8"
             ],
             [
              0.3333333333333333,
              "#9c179e"
             ],
             [
              0.4444444444444444,
              "#bd3786"
             ],
             [
              0.5555555555555556,
              "#d8576b"
             ],
             [
              0.6666666666666666,
              "#ed7953"
             ],
             [
              0.7777777777777778,
              "#fb9f3a"
             ],
             [
              0.8888888888888888,
              "#fdca26"
             ],
             [
              1,
              "#f0f921"
             ]
            ],
            "type": "histogram2dcontour"
           }
          ],
          "mesh3d": [
           {
            "colorbar": {
             "outlinewidth": 0,
             "ticks": ""
            },
            "type": "mesh3d"
           }
          ],
          "parcoords": [
           {
            "line": {
             "colorbar": {
              "outlinewidth": 0,
              "ticks": ""
             }
            },
            "type": "parcoords"
           }
          ],
          "pie": [
           {
            "automargin": true,
            "type": "pie"
           }
          ],
          "scatter": [
           {
            "fillpattern": {
             "fillmode": "overlay",
             "size": 10,
             "solidity": 0.2
            },
            "type": "scatter"
           }
          ],
          "scatter3d": [
           {
            "line": {
             "colorbar": {
              "outlinewidth": 0,
              "ticks": ""
             }
            },
            "marker": {
             "colorbar": {
              "outlinewidth": 0,
              "ticks": ""
             }
            },
            "type": "scatter3d"
           }
          ],
          "scattercarpet": [
           {
            "marker": {
             "colorbar": {
              "outlinewidth": 0,
              "ticks": ""
             }
            },
            "type": "scattercarpet"
           }
          ],
          "scattergeo": [
           {
            "marker": {
             "colorbar": {
              "outlinewidth": 0,
              "ticks": ""
             }
            },
            "type": "scattergeo"
           }
          ],
          "scattergl": [
           {
            "marker": {
             "colorbar": {
              "outlinewidth": 0,
              "ticks": ""
             }
            },
            "type": "scattergl"
           }
          ],
          "scattermapbox": [
           {
            "marker": {
             "colorbar": {
              "outlinewidth": 0,
              "ticks": ""
             }
            },
            "type": "scattermapbox"
           }
          ],
          "scatterpolar": [
           {
            "marker": {
             "colorbar": {
              "outlinewidth": 0,
              "ticks": ""
             }
            },
            "type": "scatterpolar"
           }
          ],
          "scatterpolargl": [
           {
            "marker": {
             "colorbar": {
              "outlinewidth": 0,
              "ticks": ""
             }
            },
            "type": "scatterpolargl"
           }
          ],
          "scatterternary": [
           {
            "marker": {
             "colorbar": {
              "outlinewidth": 0,
              "ticks": ""
             }
            },
            "type": "scatterternary"
           }
          ],
          "surface": [
           {
            "colorbar": {
             "outlinewidth": 0,
             "ticks": ""
            },
            "colorscale": [
             [
              0,
              "#0d0887"
             ],
             [
              0.1111111111111111,
              "#46039f"
             ],
             [
              0.2222222222222222,
              "#7201a8"
             ],
             [
              0.3333333333333333,
              "#9c179e"
             ],
             [
              0.4444444444444444,
              "#bd3786"
             ],
             [
              0.5555555555555556,
              "#d8576b"
             ],
             [
              0.6666666666666666,
              "#ed7953"
             ],
             [
              0.7777777777777778,
              "#fb9f3a"
             ],
             [
              0.8888888888888888,
              "#fdca26"
             ],
             [
              1,
              "#f0f921"
             ]
            ],
            "type": "surface"
           }
          ],
          "table": [
           {
            "cells": {
             "fill": {
              "color": "#EBF0F8"
             },
             "line": {
              "color": "white"
             }
            },
            "header": {
             "fill": {
              "color": "#C8D4E3"
             },
             "line": {
              "color": "white"
             }
            },
            "type": "table"
           }
          ]
         },
         "layout": {
          "annotationdefaults": {
           "arrowcolor": "#2a3f5f",
           "arrowhead": 0,
           "arrowwidth": 1
          },
          "autotypenumbers": "strict",
          "coloraxis": {
           "colorbar": {
            "outlinewidth": 0,
            "ticks": ""
           }
          },
          "colorscale": {
           "diverging": [
            [
             0,
             "#8e0152"
            ],
            [
             0.1,
             "#c51b7d"
            ],
            [
             0.2,
             "#de77ae"
            ],
            [
             0.3,
             "#f1b6da"
            ],
            [
             0.4,
             "#fde0ef"
            ],
            [
             0.5,
             "#f7f7f7"
            ],
            [
             0.6,
             "#e6f5d0"
            ],
            [
             0.7,
             "#b8e186"
            ],
            [
             0.8,
             "#7fbc41"
            ],
            [
             0.9,
             "#4d9221"
            ],
            [
             1,
             "#276419"
            ]
           ],
           "sequential": [
            [
             0,
             "#0d0887"
            ],
            [
             0.1111111111111111,
             "#46039f"
            ],
            [
             0.2222222222222222,
             "#7201a8"
            ],
            [
             0.3333333333333333,
             "#9c179e"
            ],
            [
             0.4444444444444444,
             "#bd3786"
            ],
            [
             0.5555555555555556,
             "#d8576b"
            ],
            [
             0.6666666666666666,
             "#ed7953"
            ],
            [
             0.7777777777777778,
             "#fb9f3a"
            ],
            [
             0.8888888888888888,
             "#fdca26"
            ],
            [
             1,
             "#f0f921"
            ]
           ],
           "sequentialminus": [
            [
             0,
             "#0d0887"
            ],
            [
             0.1111111111111111,
             "#46039f"
            ],
            [
             0.2222222222222222,
             "#7201a8"
            ],
            [
             0.3333333333333333,
             "#9c179e"
            ],
            [
             0.4444444444444444,
             "#bd3786"
            ],
            [
             0.5555555555555556,
             "#d8576b"
            ],
            [
             0.6666666666666666,
             "#ed7953"
            ],
            [
             0.7777777777777778,
             "#fb9f3a"
            ],
            [
             0.8888888888888888,
             "#fdca26"
            ],
            [
             1,
             "#f0f921"
            ]
           ]
          },
          "colorway": [
           "#636efa",
           "#EF553B",
           "#00cc96",
           "#ab63fa",
           "#FFA15A",
           "#19d3f3",
           "#FF6692",
           "#B6E880",
           "#FF97FF",
           "#FECB52"
          ],
          "font": {
           "color": "#2a3f5f"
          },
          "geo": {
           "bgcolor": "white",
           "lakecolor": "white",
           "landcolor": "#E5ECF6",
           "showlakes": true,
           "showland": true,
           "subunitcolor": "white"
          },
          "hoverlabel": {
           "align": "left"
          },
          "hovermode": "closest",
          "mapbox": {
           "style": "light"
          },
          "paper_bgcolor": "white",
          "plot_bgcolor": "#E5ECF6",
          "polar": {
           "angularaxis": {
            "gridcolor": "white",
            "linecolor": "white",
            "ticks": ""
           },
           "bgcolor": "#E5ECF6",
           "radialaxis": {
            "gridcolor": "white",
            "linecolor": "white",
            "ticks": ""
           }
          },
          "scene": {
           "xaxis": {
            "backgroundcolor": "#E5ECF6",
            "gridcolor": "white",
            "gridwidth": 2,
            "linecolor": "white",
            "showbackground": true,
            "ticks": "",
            "zerolinecolor": "white"
           },
           "yaxis": {
            "backgroundcolor": "#E5ECF6",
            "gridcolor": "white",
            "gridwidth": 2,
            "linecolor": "white",
            "showbackground": true,
            "ticks": "",
            "zerolinecolor": "white"
           },
           "zaxis": {
            "backgroundcolor": "#E5ECF6",
            "gridcolor": "white",
            "gridwidth": 2,
            "linecolor": "white",
            "showbackground": true,
            "ticks": "",
            "zerolinecolor": "white"
           }
          },
          "shapedefaults": {
           "line": {
            "color": "#2a3f5f"
           }
          },
          "ternary": {
           "aaxis": {
            "gridcolor": "white",
            "linecolor": "white",
            "ticks": ""
           },
           "baxis": {
            "gridcolor": "white",
            "linecolor": "white",
            "ticks": ""
           },
           "bgcolor": "#E5ECF6",
           "caxis": {
            "gridcolor": "white",
            "linecolor": "white",
            "ticks": ""
           }
          },
          "title": {
           "x": 0.05
          },
          "xaxis": {
           "automargin": true,
           "gridcolor": "white",
           "linecolor": "white",
           "ticks": "",
           "title": {
            "standoff": 15
           },
           "zerolinecolor": "white",
           "zerolinewidth": 2
          },
          "yaxis": {
           "automargin": true,
           "gridcolor": "white",
           "linecolor": "white",
           "ticks": "",
           "title": {
            "standoff": 15
           },
           "zerolinecolor": "white",
           "zerolinewidth": 2
          }
         }
        },
        "title": {
         "text": "Jet Energy L1T Efficiency"
        },
        "width": 800,
        "xaxis": {
         "title": {
          "text": "Momentum (GeV)"
         },
         "type": "linear"
        }
       }
      }
     },
     "metadata": {},
     "output_type": "display_data"
    }
   ],
   "source": [
    "fig = go.Figure()\n",
    "fig.add_scatter(x = jet_energy[\"x\"], y = jet_energy[\" y\"], name = \"Data\")\n",
    "fig.add_scatter(x = jet_xs, y = jet_spl(jet_xs), name = \"Interpolation\")\n",
    "fig.add_scatter(x = jet_xs, y = jet_ideal(jet_xs), name = \"Ideal\", line_dash=\"dash\")\n",
    "fig.add_scatter(x = jet_xs, y = 1.0 - exp_cdf(jet_xs, jet_l), name = \"Data Fit\")\n",
    "fig.update_layout(width = 800,\n",
    "                  height = 600,\n",
    "                  title = \"Jet Energy L1T Efficiency\",\n",
    "                  xaxis_title = \"Momentum (GeV)\"\n",
    "                  )\n",
    "fig.update_xaxes(type = \"linear\")"
   ]
  },
  {
   "cell_type": "markdown",
   "metadata": {},
   "source": [
    "## Fit to Muon"
   ]
  },
  {
   "cell_type": "code",
   "execution_count": 33,
   "metadata": {},
   "outputs": [],
   "source": [
    "muon_xs = data_range(muon[\"x\"])\n",
    "muon_spl = PchipInterpolator(muon[\"x\"], muon[\" y\"])"
   ]
  },
  {
   "cell_type": "code",
   "execution_count": 34,
   "metadata": {},
   "outputs": [],
   "source": [
    "#fit to muon - minimize the difference between the trigger efficiency multiplied by the underlying distribution and the trigger rate\n",
    "muon_fit = lambda l: np.abs(muon_rate - quad(lambda x: exp_dist(x, l) * muon_spl(x), 0, np.max(muon_xs))[0])\n",
    "muon_soln = minimize_scalar(muon_fit, bounds = [0.00, 0.60], method=\"bounded\")\n",
    "muon_l = muon_soln.x"
   ]
  },
  {
   "cell_type": "code",
   "execution_count": 35,
   "metadata": {},
   "outputs": [
    {
     "data": {
      "text/plain": [
       "     fun: 0.005345849586570096\n",
       " message: 'Solution found.'\n",
       "    nfev: 14\n",
       "     nit: 14\n",
       "  status: 0\n",
       " success: True\n",
       "       x: 0.5655829287920927"
      ]
     },
     "execution_count": 35,
     "metadata": {},
     "output_type": "execute_result"
    }
   ],
   "source": [
    "muon_soln"
   ]
  },
  {
   "cell_type": "code",
   "execution_count": 36,
   "metadata": {},
   "outputs": [
    {
     "data": {
      "text/plain": [
       "0.5655829287920927"
      ]
     },
     "execution_count": 36,
     "metadata": {},
     "output_type": "execute_result"
    }
   ],
   "source": [
    "muon_l"
   ]
  },
  {
   "cell_type": "code",
   "execution_count": 37,
   "metadata": {},
   "outputs": [],
   "source": [
    "muon_threshold = 22\n",
    "muon_ideal = lambda x: 1.0 * (x > muon_threshold)"
   ]
  },
  {
   "cell_type": "code",
   "execution_count": 38,
   "metadata": {},
   "outputs": [
    {
     "data": {
      "application/vnd.plotly.v1+json": {
       "config": {
        "plotlyServerURL": "https://plot.ly"
       },
       "data": [
        {
         "name": "data",
         "type": "scatter",
         "x": [
          3.56347438752784,
          8.017817371937639,
          10.69042316258352,
          11.469933184855234,
          12.47216035634744,
          13.474387527839644,
          14.476614699331847,
          15.5902004454343,
          16.592427616926503,
          17.59465478841871,
          18.48552338530067,
          19.487750556792875,
          20.601336302895323,
          21.603563474387528,
          22.605790645879733,
          23.608017817371937,
          24.4988864142539,
          25.389755011135858,
          26.28062360801782,
          27.06013363028953,
          28.28507795100223,
          29.287305122494438,
          30.957683741648108,
          33.073496659242764,
          34.85523385300668,
          37.08240534521158,
          38.97550111358575,
          40.86859688195992,
          42.98440979955457,
          44.98886414253898,
          46.99331848552339,
          49.10913140311804,
          52.67260579064588,
          57.57238307349666,
          62.472160356347445,
          67.59465478841871,
          72.49443207126949,
          77.61692650334076,
          82.62806236080179,
          87.52783964365257,
          92.65033407572383,
          97.66146993318486
         ],
         "y": [
          0,
          0.0123304562268803,
          0.0382244143033292,
          0.0752157829839704,
          0.1233045622688039,
          0.1738594327990135,
          0.2441430332922318,
          0.311960542540074,
          0.37731196054254,
          0.4512946979038224,
          0.5388409371146733,
          0.6300863131935882,
          0.7139334155363749,
          0.7891491985203453,
          0.8372379778051788,
          0.87422934648582,
          0.8939580764488286,
          0.9075215782983972,
          0.9149198520345252,
          0.9235511713933416,
          0.9272503082614056,
          0.9309494451294698,
          0.934648581997534,
          0.93711467324291,
          0.939580764488286,
          0.940813810110974,
          0.9420468557336622,
          0.9420468557336622,
          0.9432799013563502,
          0.9432799013563502,
          0.9445129469790382,
          0.9420468557336622,
          0.940813810110974,
          0.9432799013563502,
          0.9420468557336622,
          0.9420468557336622,
          0.9432799013563502,
          0.940813810110974,
          0.9420468557336622,
          0.940813810110974,
          0.940813810110974,
          0.938347718865598
         ]
        },
        {
         "name": "Interpolation",
         "type": "scatter",
         "x": [
          3.56347438752784,
          4.50445434298441,
          5.445434298440981,
          6.38641425389755,
          7.327394209354122,
          8.268374164810691,
          9.209354120267262,
          10.150334075723832,
          11.091314031180403,
          12.032293986636972,
          12.973273942093543,
          13.914253897550115,
          14.855233853006684,
          15.796213808463254,
          16.737193763919823,
          17.678173719376396,
          18.619153674832965,
          19.560133630289535,
          20.501113585746104,
          21.442093541202677,
          22.383073496659247,
          23.324053452115816,
          24.26503340757239,
          25.20601336302896,
          26.146993318485528,
          27.087973273942097,
          28.028953229398667,
          28.96993318485524,
          29.91091314031181,
          30.85189309576838,
          31.79287305122495,
          32.73385300668152,
          33.67483296213809,
          34.61581291759466,
          35.55679287305123,
          36.4977728285078,
          37.43875278396437,
          38.379732739420945,
          39.320712694877514,
          40.26169265033408,
          41.20267260579065,
          42.14365256124722,
          43.08463251670379,
          44.02561247216036,
          44.96659242761694,
          45.90757238307351,
          46.84855233853008,
          47.789532293986646,
          48.730512249443215,
          49.671492204899785,
          50.612472160356354,
          51.553452115812924,
          52.49443207126949,
          53.43541202672607,
          54.37639198218264,
          55.31737193763921,
          56.25835189309578,
          57.19933184855235,
          58.14031180400892,
          59.081291759465486,
          60.02227171492206,
          60.96325167037863,
          61.9042316258352,
          62.84521158129177,
          63.78619153674834,
          64.7271714922049,
          65.66815144766147,
          66.60913140311804,
          67.55011135857461,
          68.49109131403118,
          69.43207126948775,
          70.37305122494432,
          71.31403118040089,
          72.25501113585747,
          73.19599109131404,
          74.13697104677061,
          75.07795100222718,
          76.01893095768375,
          76.95991091314032,
          77.90089086859689,
          78.84187082405346,
          79.78285077951003,
          80.7238307349666,
          81.66481069042317,
          82.60579064587974,
          83.5467706013363,
          84.48775055679288,
          85.42873051224944,
          86.36971046770603,
          87.3106904231626,
          88.25167037861917,
          89.19265033407574,
          90.1336302895323,
          91.07461024498888,
          92.01559020044544,
          92.95657015590201,
          93.89755011135858,
          94.83853006681515,
          95.77951002227172,
          96.72048997772829,
          97.66146993318486
         ],
         "y": [
          0,
          0.0007103905740283708,
          0.0026700182450348745,
          0.005621566936401584,
          0.009307720571510593,
          0.013510023394299304,
          0.01944574736642372,
          0.029578982333633107,
          0.054466308458690084,
          0.10200290037742131,
          0.14739228151186493,
          0.20364672782102125,
          0.2677417254999149,
          0.3249734006638897,
          0.38732193284747496,
          0.45858664237037317,
          0.5514939700663049,
          0.6359966883671179,
          0.7064572209870718,
          0.7789098770319549,
          0.8278011392379652,
          0.8653915196985832,
          0.8895454423467632,
          0.9053273038549866,
          0.91373426688762,
          0.9236865077740973,
          0.9265086639736736,
          0.9298814826793294,
          0.9325779903826381,
          0.9344801902180441,
          0.9357179161811917,
          0.9367115618713623,
          0.9379945284505781,
          0.9393502943980131,
          0.9400444866259057,
          0.9405037421177127,
          0.9410692863221211,
          0.9418344299727214,
          0.9420468557336622,
          0.9420468557336622,
          0.9421293703773149,
          0.9428505367227017,
          0.9432799013563502,
          0.9432799013563502,
          0.9432799013563502,
          0.9438195372082934,
          0.9444945811112295,
          0.9438326301098487,
          0.9423982805105098,
          0.9417412950554737,
          0.9412925807956591,
          0.9409674135021313,
          0.9408180153828395,
          0.9409745105264552,
          0.9415009923539127,
          0.94219367018583,
          0.9428429386135972,
          0.9432391922286049,
          0.9432340440271862,
          0.9430011126382486,
          0.9426633785450061,
          0.9423256444517637,
          0.942092713062826,
          0.9420468557336622,
          0.9420468557336622,
          0.9420468557336622,
          0.9420468557336622,
          0.9420468557336622,
          0.9420468557336622,
          0.9421555724466125,
          0.9424369990752158,
          0.9427866404817691,
          0.9430996939619674,
          0.943271356811506,
          0.9431538015900178,
          0.942681834927094,
          0.9420307729352616,
          0.9413840526483725,
          0.9409251111002784,
          0.9408252397132026,
          0.9409988244626778,
          0.9413057411246932,
          0.94164801972873,
          0.9419276903042697,
          0.9420467828807938,
          0.941933063925709,
          0.9416488118329303,
          0.9412988254995814,
          0.9409879076299675,
          0.9408208609283936,
          0.940813810110974,
          0.940813810110974,
          0.940813810110974,
          0.940813810110974,
          0.940813810110974,
          0.940800229332471,
          0.940603044705938,
          0.9402096780641834,
          0.9396696526890083,
          0.9390324918622129,
          0.938347718865598
         ]
        },
        {
         "line": {
          "dash": "dash"
         },
         "name": "Ideal",
         "type": "scatter",
         "x": [
          3.56347438752784,
          4.50445434298441,
          5.445434298440981,
          6.38641425389755,
          7.327394209354122,
          8.268374164810691,
          9.209354120267262,
          10.150334075723832,
          11.091314031180403,
          12.032293986636972,
          12.973273942093543,
          13.914253897550115,
          14.855233853006684,
          15.796213808463254,
          16.737193763919823,
          17.678173719376396,
          18.619153674832965,
          19.560133630289535,
          20.501113585746104,
          21.442093541202677,
          22.383073496659247,
          23.324053452115816,
          24.26503340757239,
          25.20601336302896,
          26.146993318485528,
          27.087973273942097,
          28.028953229398667,
          28.96993318485524,
          29.91091314031181,
          30.85189309576838,
          31.79287305122495,
          32.73385300668152,
          33.67483296213809,
          34.61581291759466,
          35.55679287305123,
          36.4977728285078,
          37.43875278396437,
          38.379732739420945,
          39.320712694877514,
          40.26169265033408,
          41.20267260579065,
          42.14365256124722,
          43.08463251670379,
          44.02561247216036,
          44.96659242761694,
          45.90757238307351,
          46.84855233853008,
          47.789532293986646,
          48.730512249443215,
          49.671492204899785,
          50.612472160356354,
          51.553452115812924,
          52.49443207126949,
          53.43541202672607,
          54.37639198218264,
          55.31737193763921,
          56.25835189309578,
          57.19933184855235,
          58.14031180400892,
          59.081291759465486,
          60.02227171492206,
          60.96325167037863,
          61.9042316258352,
          62.84521158129177,
          63.78619153674834,
          64.7271714922049,
          65.66815144766147,
          66.60913140311804,
          67.55011135857461,
          68.49109131403118,
          69.43207126948775,
          70.37305122494432,
          71.31403118040089,
          72.25501113585747,
          73.19599109131404,
          74.13697104677061,
          75.07795100222718,
          76.01893095768375,
          76.95991091314032,
          77.90089086859689,
          78.84187082405346,
          79.78285077951003,
          80.7238307349666,
          81.66481069042317,
          82.60579064587974,
          83.5467706013363,
          84.48775055679288,
          85.42873051224944,
          86.36971046770603,
          87.3106904231626,
          88.25167037861917,
          89.19265033407574,
          90.1336302895323,
          91.07461024498888,
          92.01559020044544,
          92.95657015590201,
          93.89755011135858,
          94.83853006681515,
          95.77951002227172,
          96.72048997772829,
          97.66146993318486
         ],
         "y": [
          0,
          0,
          0,
          0,
          0,
          0,
          0,
          0,
          0,
          0,
          0,
          0,
          0,
          0,
          0,
          0,
          0,
          0,
          0,
          0,
          1,
          1,
          1,
          1,
          1,
          1,
          1,
          1,
          1,
          1,
          1,
          1,
          1,
          1,
          1,
          1,
          1,
          1,
          1,
          1,
          1,
          1,
          1,
          1,
          1,
          1,
          1,
          1,
          1,
          1,
          1,
          1,
          1,
          1,
          1,
          1,
          1,
          1,
          1,
          1,
          1,
          1,
          1,
          1,
          1,
          1,
          1,
          1,
          1,
          1,
          1,
          1,
          1,
          1,
          1,
          1,
          1,
          1,
          1,
          1,
          1,
          1,
          1,
          1,
          1,
          1,
          1,
          1,
          1,
          1,
          1,
          1,
          1,
          1,
          1,
          1,
          1,
          1,
          1,
          1,
          1
         ]
        },
        {
         "name": "Data Fit",
         "type": "scatter",
         "x": [
          3.56347438752784,
          4.50445434298441,
          5.445434298440981,
          6.38641425389755,
          7.327394209354122,
          8.268374164810691,
          9.209354120267262,
          10.150334075723832,
          11.091314031180403,
          12.032293986636972,
          12.973273942093543,
          13.914253897550115,
          14.855233853006684,
          15.796213808463254,
          16.737193763919823,
          17.678173719376396,
          18.619153674832965,
          19.560133630289535,
          20.501113585746104,
          21.442093541202677,
          22.383073496659247,
          23.324053452115816,
          24.26503340757239,
          25.20601336302896,
          26.146993318485528,
          27.087973273942097,
          28.028953229398667,
          28.96993318485524,
          29.91091314031181,
          30.85189309576838,
          31.79287305122495,
          32.73385300668152,
          33.67483296213809,
          34.61581291759466,
          35.55679287305123,
          36.4977728285078,
          37.43875278396437,
          38.379732739420945,
          39.320712694877514,
          40.26169265033408,
          41.20267260579065,
          42.14365256124722,
          43.08463251670379,
          44.02561247216036,
          44.96659242761694,
          45.90757238307351,
          46.84855233853008,
          47.789532293986646,
          48.730512249443215,
          49.671492204899785,
          50.612472160356354,
          51.553452115812924,
          52.49443207126949,
          53.43541202672607,
          54.37639198218264,
          55.31737193763921,
          56.25835189309578,
          57.19933184855235,
          58.14031180400892,
          59.081291759465486,
          60.02227171492206,
          60.96325167037863,
          61.9042316258352,
          62.84521158129177,
          63.78619153674834,
          64.7271714922049,
          65.66815144766147,
          66.60913140311804,
          67.55011135857461,
          68.49109131403118,
          69.43207126948775,
          70.37305122494432,
          71.31403118040089,
          72.25501113585747,
          73.19599109131404,
          74.13697104677061,
          75.07795100222718,
          76.01893095768375,
          76.95991091314032,
          77.90089086859689,
          78.84187082405346,
          79.78285077951003,
          80.7238307349666,
          81.66481069042317,
          82.60579064587974,
          83.5467706013363,
          84.48775055679288,
          85.42873051224944,
          86.36971046770603,
          87.3106904231626,
          88.25167037861917,
          89.19265033407574,
          90.1336302895323,
          91.07461024498888,
          92.01559020044544,
          92.95657015590201,
          93.89755011135858,
          94.83853006681515,
          95.77951002227172,
          96.72048997772829,
          97.66146993318486
         ],
         "y": [
          0.1332617178756127,
          0.07826596225269,
          0.045966395638521895,
          0.026996531661814482,
          0.015855337614432696,
          0.009312001038386364,
          0.00546903291797296,
          0.003212018655772697,
          0.0018864512245166942,
          0.0011079319903963825,
          0.0006506997262323289,
          0.0003821625671872608,
          0.0002244479625108653,
          0.00013182057114080603,
          0.0000774195621180418,
          0.000045469296231059886,
          0.000026704580124103927,
          0.000015683871506966263,
          0.000009211297249622774,
          0.000005409888558571829,
          0.0000031772825719311726,
          0.0000018660503692258246,
          0.0000010959503605745269,
          6.436627931760697e-7,
          3.780297048727732e-7,
          2.2202069038801397e-7,
          1.3039500956768535e-7,
          7.658231526708192e-8,
          4.4977572666304866e-8,
          2.6415785892019983e-8,
          1.5514259654736406e-8,
          9.111682519602482e-9,
          5.351383780549668e-9,
          3.1429221447609734e-9,
          1.8458701234180808e-9,
          1.0840982556103995e-9,
          6.367019134145835e-10,
          3.739415443959615e-10,
          2.1961965579464504e-10,
          1.2898482282253099e-10,
          7.575406968385323e-11,
          4.4491188511130986e-11,
          2.6130098085275222e-11,
          1.5346501847091076e-11,
          9.013123580814408e-12,
          5.293543381412746e-12,
          3.108957535857826e-12,
          1.8258727862985324e-12,
          1.0723644194854387e-12,
          6.298295218698513e-13,
          3.6992631180510216e-13,
          2.1727064591914313e-13,
          1.2756462552943049e-13,
          7.494005416219807e-14,
          4.39648317751562e-14,
          2.5868196473766147e-14,
          1.5210055437364645e-14,
          8.881784197001252e-15,
          5.218048215738236e-15,
          3.1086244689504383e-15,
          1.7763568394002505e-15,
          1.1102230246251565e-15,
          6.661338147750939e-16,
          3.3306690738754696e-16,
          2.220446049250313e-16,
          1.1102230246251565e-16,
          1.1102230246251565e-16,
          0,
          0,
          0,
          0,
          0,
          0,
          0,
          0,
          0,
          0,
          0,
          0,
          0,
          0,
          0,
          0,
          0,
          0,
          0,
          0,
          0,
          0,
          0,
          0,
          0,
          0,
          0,
          0,
          0,
          0,
          0,
          0,
          0,
          0
         ]
        }
       ],
       "layout": {
        "height": 600,
        "template": {
         "data": {
          "bar": [
           {
            "error_x": {
             "color": "#2a3f5f"
            },
            "error_y": {
             "color": "#2a3f5f"
            },
            "marker": {
             "line": {
              "color": "#E5ECF6",
              "width": 0.5
             },
             "pattern": {
              "fillmode": "overlay",
              "size": 10,
              "solidity": 0.2
             }
            },
            "type": "bar"
           }
          ],
          "barpolar": [
           {
            "marker": {
             "line": {
              "color": "#E5ECF6",
              "width": 0.5
             },
             "pattern": {
              "fillmode": "overlay",
              "size": 10,
              "solidity": 0.2
             }
            },
            "type": "barpolar"
           }
          ],
          "carpet": [
           {
            "aaxis": {
             "endlinecolor": "#2a3f5f",
             "gridcolor": "white",
             "linecolor": "white",
             "minorgridcolor": "white",
             "startlinecolor": "#2a3f5f"
            },
            "baxis": {
             "endlinecolor": "#2a3f5f",
             "gridcolor": "white",
             "linecolor": "white",
             "minorgridcolor": "white",
             "startlinecolor": "#2a3f5f"
            },
            "type": "carpet"
           }
          ],
          "choropleth": [
           {
            "colorbar": {
             "outlinewidth": 0,
             "ticks": ""
            },
            "type": "choropleth"
           }
          ],
          "contour": [
           {
            "colorbar": {
             "outlinewidth": 0,
             "ticks": ""
            },
            "colorscale": [
             [
              0,
              "#0d0887"
             ],
             [
              0.1111111111111111,
              "#46039f"
             ],
             [
              0.2222222222222222,
              "#7201a8"
             ],
             [
              0.3333333333333333,
              "#9c179e"
             ],
             [
              0.4444444444444444,
              "#bd3786"
             ],
             [
              0.5555555555555556,
              "#d8576b"
             ],
             [
              0.6666666666666666,
              "#ed7953"
             ],
             [
              0.7777777777777778,
              "#fb9f3a"
             ],
             [
              0.8888888888888888,
              "#fdca26"
             ],
             [
              1,
              "#f0f921"
             ]
            ],
            "type": "contour"
           }
          ],
          "contourcarpet": [
           {
            "colorbar": {
             "outlinewidth": 0,
             "ticks": ""
            },
            "type": "contourcarpet"
           }
          ],
          "heatmap": [
           {
            "colorbar": {
             "outlinewidth": 0,
             "ticks": ""
            },
            "colorscale": [
             [
              0,
              "#0d0887"
             ],
             [
              0.1111111111111111,
              "#46039f"
             ],
             [
              0.2222222222222222,
              "#7201a8"
             ],
             [
              0.3333333333333333,
              "#9c179e"
             ],
             [
              0.4444444444444444,
              "#bd3786"
             ],
             [
              0.5555555555555556,
              "#d8576b"
             ],
             [
              0.6666666666666666,
              "#ed7953"
             ],
             [
              0.7777777777777778,
              "#fb9f3a"
             ],
             [
              0.8888888888888888,
              "#fdca26"
             ],
             [
              1,
              "#f0f921"
             ]
            ],
            "type": "heatmap"
           }
          ],
          "heatmapgl": [
           {
            "colorbar": {
             "outlinewidth": 0,
             "ticks": ""
            },
            "colorscale": [
             [
              0,
              "#0d0887"
             ],
             [
              0.1111111111111111,
              "#46039f"
             ],
             [
              0.2222222222222222,
              "#7201a8"
             ],
             [
              0.3333333333333333,
              "#9c179e"
             ],
             [
              0.4444444444444444,
              "#bd3786"
             ],
             [
              0.5555555555555556,
              "#d8576b"
             ],
             [
              0.6666666666666666,
              "#ed7953"
             ],
             [
              0.7777777777777778,
              "#fb9f3a"
             ],
             [
              0.8888888888888888,
              "#fdca26"
             ],
             [
              1,
              "#f0f921"
             ]
            ],
            "type": "heatmapgl"
           }
          ],
          "histogram": [
           {
            "marker": {
             "pattern": {
              "fillmode": "overlay",
              "size": 10,
              "solidity": 0.2
             }
            },
            "type": "histogram"
           }
          ],
          "histogram2d": [
           {
            "colorbar": {
             "outlinewidth": 0,
             "ticks": ""
            },
            "colorscale": [
             [
              0,
              "#0d0887"
             ],
             [
              0.1111111111111111,
              "#46039f"
             ],
             [
              0.2222222222222222,
              "#7201a8"
             ],
             [
              0.3333333333333333,
              "#9c179e"
             ],
             [
              0.4444444444444444,
              "#bd3786"
             ],
             [
              0.5555555555555556,
              "#d8576b"
             ],
             [
              0.6666666666666666,
              "#ed7953"
             ],
             [
              0.7777777777777778,
              "#fb9f3a"
             ],
             [
              0.8888888888888888,
              "#fdca26"
             ],
             [
              1,
              "#f0f921"
             ]
            ],
            "type": "histogram2d"
           }
          ],
          "histogram2dcontour": [
           {
            "colorbar": {
             "outlinewidth": 0,
             "ticks": ""
            },
            "colorscale": [
             [
              0,
              "#0d0887"
             ],
             [
              0.1111111111111111,
              "#46039f"
             ],
             [
              0.2222222222222222,
              "#7201a8"
             ],
             [
              0.3333333333333333,
              "#9c179e"
             ],
             [
              0.4444444444444444,
              "#bd3786"
             ],
             [
              0.5555555555555556,
              "#d8576b"
             ],
             [
              0.6666666666666666,
              "#ed7953"
             ],
             [
              0.7777777777777778,
              "#fb9f3a"
             ],
             [
              0.8888888888888888,
              "#fdca26"
             ],
             [
              1,
              "#f0f921"
             ]
            ],
            "type": "histogram2dcontour"
           }
          ],
          "mesh3d": [
           {
            "colorbar": {
             "outlinewidth": 0,
             "ticks": ""
            },
            "type": "mesh3d"
           }
          ],
          "parcoords": [
           {
            "line": {
             "colorbar": {
              "outlinewidth": 0,
              "ticks": ""
             }
            },
            "type": "parcoords"
           }
          ],
          "pie": [
           {
            "automargin": true,
            "type": "pie"
           }
          ],
          "scatter": [
           {
            "fillpattern": {
             "fillmode": "overlay",
             "size": 10,
             "solidity": 0.2
            },
            "type": "scatter"
           }
          ],
          "scatter3d": [
           {
            "line": {
             "colorbar": {
              "outlinewidth": 0,
              "ticks": ""
             }
            },
            "marker": {
             "colorbar": {
              "outlinewidth": 0,
              "ticks": ""
             }
            },
            "type": "scatter3d"
           }
          ],
          "scattercarpet": [
           {
            "marker": {
             "colorbar": {
              "outlinewidth": 0,
              "ticks": ""
             }
            },
            "type": "scattercarpet"
           }
          ],
          "scattergeo": [
           {
            "marker": {
             "colorbar": {
              "outlinewidth": 0,
              "ticks": ""
             }
            },
            "type": "scattergeo"
           }
          ],
          "scattergl": [
           {
            "marker": {
             "colorbar": {
              "outlinewidth": 0,
              "ticks": ""
             }
            },
            "type": "scattergl"
           }
          ],
          "scattermapbox": [
           {
            "marker": {
             "colorbar": {
              "outlinewidth": 0,
              "ticks": ""
             }
            },
            "type": "scattermapbox"
           }
          ],
          "scatterpolar": [
           {
            "marker": {
             "colorbar": {
              "outlinewidth": 0,
              "ticks": ""
             }
            },
            "type": "scatterpolar"
           }
          ],
          "scatterpolargl": [
           {
            "marker": {
             "colorbar": {
              "outlinewidth": 0,
              "ticks": ""
             }
            },
            "type": "scatterpolargl"
           }
          ],
          "scatterternary": [
           {
            "marker": {
             "colorbar": {
              "outlinewidth": 0,
              "ticks": ""
             }
            },
            "type": "scatterternary"
           }
          ],
          "surface": [
           {
            "colorbar": {
             "outlinewidth": 0,
             "ticks": ""
            },
            "colorscale": [
             [
              0,
              "#0d0887"
             ],
             [
              0.1111111111111111,
              "#46039f"
             ],
             [
              0.2222222222222222,
              "#7201a8"
             ],
             [
              0.3333333333333333,
              "#9c179e"
             ],
             [
              0.4444444444444444,
              "#bd3786"
             ],
             [
              0.5555555555555556,
              "#d8576b"
             ],
             [
              0.6666666666666666,
              "#ed7953"
             ],
             [
              0.7777777777777778,
              "#fb9f3a"
             ],
             [
              0.8888888888888888,
              "#fdca26"
             ],
             [
              1,
              "#f0f921"
             ]
            ],
            "type": "surface"
           }
          ],
          "table": [
           {
            "cells": {
             "fill": {
              "color": "#EBF0F8"
             },
             "line": {
              "color": "white"
             }
            },
            "header": {
             "fill": {
              "color": "#C8D4E3"
             },
             "line": {
              "color": "white"
             }
            },
            "type": "table"
           }
          ]
         },
         "layout": {
          "annotationdefaults": {
           "arrowcolor": "#2a3f5f",
           "arrowhead": 0,
           "arrowwidth": 1
          },
          "autotypenumbers": "strict",
          "coloraxis": {
           "colorbar": {
            "outlinewidth": 0,
            "ticks": ""
           }
          },
          "colorscale": {
           "diverging": [
            [
             0,
             "#8e0152"
            ],
            [
             0.1,
             "#c51b7d"
            ],
            [
             0.2,
             "#de77ae"
            ],
            [
             0.3,
             "#f1b6da"
            ],
            [
             0.4,
             "#fde0ef"
            ],
            [
             0.5,
             "#f7f7f7"
            ],
            [
             0.6,
             "#e6f5d0"
            ],
            [
             0.7,
             "#b8e186"
            ],
            [
             0.8,
             "#7fbc41"
            ],
            [
             0.9,
             "#4d9221"
            ],
            [
             1,
             "#276419"
            ]
           ],
           "sequential": [
            [
             0,
             "#0d0887"
            ],
            [
             0.1111111111111111,
             "#46039f"
            ],
            [
             0.2222222222222222,
             "#7201a8"
            ],
            [
             0.3333333333333333,
             "#9c179e"
            ],
            [
             0.4444444444444444,
             "#bd3786"
            ],
            [
             0.5555555555555556,
             "#d8576b"
            ],
            [
             0.6666666666666666,
             "#ed7953"
            ],
            [
             0.7777777777777778,
             "#fb9f3a"
            ],
            [
             0.8888888888888888,
             "#fdca26"
            ],
            [
             1,
             "#f0f921"
            ]
           ],
           "sequentialminus": [
            [
             0,
             "#0d0887"
            ],
            [
             0.1111111111111111,
             "#46039f"
            ],
            [
             0.2222222222222222,
             "#7201a8"
            ],
            [
             0.3333333333333333,
             "#9c179e"
            ],
            [
             0.4444444444444444,
             "#bd3786"
            ],
            [
             0.5555555555555556,
             "#d8576b"
            ],
            [
             0.6666666666666666,
             "#ed7953"
            ],
            [
             0.7777777777777778,
             "#fb9f3a"
            ],
            [
             0.8888888888888888,
             "#fdca26"
            ],
            [
             1,
             "#f0f921"
            ]
           ]
          },
          "colorway": [
           "#636efa",
           "#EF553B",
           "#00cc96",
           "#ab63fa",
           "#FFA15A",
           "#19d3f3",
           "#FF6692",
           "#B6E880",
           "#FF97FF",
           "#FECB52"
          ],
          "font": {
           "color": "#2a3f5f"
          },
          "geo": {
           "bgcolor": "white",
           "lakecolor": "white",
           "landcolor": "#E5ECF6",
           "showlakes": true,
           "showland": true,
           "subunitcolor": "white"
          },
          "hoverlabel": {
           "align": "left"
          },
          "hovermode": "closest",
          "mapbox": {
           "style": "light"
          },
          "paper_bgcolor": "white",
          "plot_bgcolor": "#E5ECF6",
          "polar": {
           "angularaxis": {
            "gridcolor": "white",
            "linecolor": "white",
            "ticks": ""
           },
           "bgcolor": "#E5ECF6",
           "radialaxis": {
            "gridcolor": "white",
            "linecolor": "white",
            "ticks": ""
           }
          },
          "scene": {
           "xaxis": {
            "backgroundcolor": "#E5ECF6",
            "gridcolor": "white",
            "gridwidth": 2,
            "linecolor": "white",
            "showbackground": true,
            "ticks": "",
            "zerolinecolor": "white"
           },
           "yaxis": {
            "backgroundcolor": "#E5ECF6",
            "gridcolor": "white",
            "gridwidth": 2,
            "linecolor": "white",
            "showbackground": true,
            "ticks": "",
            "zerolinecolor": "white"
           },
           "zaxis": {
            "backgroundcolor": "#E5ECF6",
            "gridcolor": "white",
            "gridwidth": 2,
            "linecolor": "white",
            "showbackground": true,
            "ticks": "",
            "zerolinecolor": "white"
           }
          },
          "shapedefaults": {
           "line": {
            "color": "#2a3f5f"
           }
          },
          "ternary": {
           "aaxis": {
            "gridcolor": "white",
            "linecolor": "white",
            "ticks": ""
           },
           "baxis": {
            "gridcolor": "white",
            "linecolor": "white",
            "ticks": ""
           },
           "bgcolor": "#E5ECF6",
           "caxis": {
            "gridcolor": "white",
            "linecolor": "white",
            "ticks": ""
           }
          },
          "title": {
           "x": 0.05
          },
          "xaxis": {
           "automargin": true,
           "gridcolor": "white",
           "linecolor": "white",
           "ticks": "",
           "title": {
            "standoff": 15
           },
           "zerolinecolor": "white",
           "zerolinewidth": 2
          },
          "yaxis": {
           "automargin": true,
           "gridcolor": "white",
           "linecolor": "white",
           "ticks": "",
           "title": {
            "standoff": 15
           },
           "zerolinecolor": "white",
           "zerolinewidth": 2
          }
         }
        },
        "title": {
         "text": "Single Muon L1T Efficiency"
        },
        "width": 800,
        "xaxis": {
         "title": {
          "text": "Momentum (GeV)"
         },
         "type": "linear"
        }
       }
      }
     },
     "metadata": {},
     "output_type": "display_data"
    }
   ],
   "source": [
    "fig = go.Figure()\n",
    "fig.add_scatter(x = muon[\"x\"], y = muon[\" y\"], name = \"data\")\n",
    "fig.add_scatter(x = muon_xs, y = muon_spl(muon_xs), name = \"Interpolation\")\n",
    "fig.add_scatter(x = muon_xs, y = muon_ideal(muon_xs), name = \"Ideal\", line_dash=\"dash\")\n",
    "fig.add_scatter(x = muon_xs, y = 1.0 - exp_cdf(muon_xs, muon_l), name = \"Data Fit\")\n",
    "fig.update_layout(width = 800,\n",
    "                  height = 600,\n",
    "                  title = \"Single Muon L1T Efficiency\",\n",
    "                  xaxis_title = \"Momentum (GeV)\"\n",
    "                  )\n",
    "fig.update_xaxes(type = \"linear\")"
   ]
  },
  {
   "cell_type": "markdown",
   "metadata": {},
   "source": [
    "# Modeling Skill"
   ]
  },
  {
   "cell_type": "code",
   "execution_count": 39,
   "metadata": {},
   "outputs": [],
   "source": [
    "#find the percentile of measurements above threshold\n",
    "egamma_prctile = exp_cdf(egamma_threshold, egamma_l)\n",
    "jet_prctile = exp_cdf(jet_threshold, jet_l)\n",
    "muon_prctile = exp_cdf(muon_threshold, muon_l)\n",
    "tau_prctile = exp_cdf(tau_threshold, tau_l) "
   ]
  },
  {
   "cell_type": "code",
   "execution_count": 40,
   "metadata": {},
   "outputs": [],
   "source": [
    "thresholds = np.array([jet_threshold, muon_threshold, egamma_threshold, tau_threshold])"
   ]
  },
  {
   "cell_type": "code",
   "execution_count": 41,
   "metadata": {},
   "outputs": [],
   "source": [
    "prctiles = np.array([jet_prctile, muon_prctile, egamma_prctile, tau_prctile])"
   ]
  },
  {
   "cell_type": "code",
   "execution_count": 42,
   "metadata": {},
   "outputs": [
    {
     "data": {
      "text/plain": [
       "array([0.99984883, 0.99999605, 0.99990626, 0.99999999])"
      ]
     },
     "execution_count": 42,
     "metadata": {},
     "output_type": "execute_result"
    }
   ],
   "source": [
    "prctiles"
   ]
  },
  {
   "cell_type": "code",
   "execution_count": 43,
   "metadata": {},
   "outputs": [],
   "source": [
    "def generate_null():\n",
    "    p = np.random.uniform(size=(4)) * prctiles\n",
    "    jet = exp_generator(p[0], jet_l)\n",
    "    muon = exp_generator(p[1], muon_l)\n",
    "    egamma = exp_generator(p[2], egamma_l)\n",
    "    tau = exp_generator(p[3], tau_l)\n",
    "    \n",
    "\n",
    "    e = np.array([jet, muon, egamma, tau])\n",
    "    z = np.array([jet_spl(e[0]),\n",
    "                muon_spl(e[1]),\n",
    "                egamma_spl(e[2]),\n",
    "                tau_spl(e[3])])\n",
    "    \n",
    "    res = np.stack((e, z))\n",
    "    \n",
    "    return res\n"
   ]
  },
  {
   "cell_type": "code",
   "execution_count": 44,
   "metadata": {},
   "outputs": [],
   "source": [
    "null_evt = generate_null()"
   ]
  },
  {
   "cell_type": "code",
   "execution_count": 45,
   "metadata": {},
   "outputs": [],
   "source": [
    "n_samples = int(1e6)"
   ]
  },
  {
   "cell_type": "code",
   "execution_count": 46,
   "metadata": {},
   "outputs": [],
   "source": [
    "null_evts = np.stack([generate_null() for i in range(n_samples)])"
   ]
  },
  {
   "cell_type": "code",
   "execution_count": 47,
   "metadata": {},
   "outputs": [
    {
     "data": {
      "text/plain": [
       "(1000000, 2, 4)"
      ]
     },
     "execution_count": 47,
     "metadata": {},
     "output_type": "execute_result"
    }
   ],
   "source": [
    "null_evts.shape"
   ]
  },
  {
   "cell_type": "code",
   "execution_count": 48,
   "metadata": {},
   "outputs": [],
   "source": [
    "null_z = np.sum(null_evts, axis=2)[:,1]"
   ]
  },
  {
   "cell_type": "code",
   "execution_count": 49,
   "metadata": {},
   "outputs": [
    {
     "data": {
      "text/plain": [
       "0.015944719864178607"
      ]
     },
     "execution_count": 49,
     "metadata": {},
     "output_type": "execute_result"
    }
   ],
   "source": [
    "np.std(null_z)"
   ]
  },
  {
   "cell_type": "code",
   "execution_count": 50,
   "metadata": {},
   "outputs": [
    {
     "data": {
      "text/plain": [
       "['Jet', 'Muon', 'EGamma', 'Tau']"
      ]
     },
     "execution_count": 50,
     "metadata": {},
     "output_type": "execute_result"
    }
   ],
   "source": [
    "triggers"
   ]
  },
  {
   "cell_type": "code",
   "execution_count": 51,
   "metadata": {},
   "outputs": [
    {
     "data": {
      "text/plain": [
       "array([0.99984883, 0.99999605, 0.99990626, 0.99999999])"
      ]
     },
     "execution_count": 51,
     "metadata": {},
     "output_type": "execute_result"
    }
   ],
   "source": [
    "prctiles"
   ]
  },
  {
   "cell_type": "code",
   "execution_count": 52,
   "metadata": {},
   "outputs": [],
   "source": [
    "evt_rng = np.random.default_rng()"
   ]
  },
  {
   "cell_type": "code",
   "execution_count": 53,
   "metadata": {},
   "outputs": [],
   "source": [
    "trigger_rates = rates[\"Proportion\"]"
   ]
  },
  {
   "cell_type": "code",
   "execution_count": 54,
   "metadata": {},
   "outputs": [],
   "source": [
    "trigger_choice = lambda: evt_rng.choice(np.arange(len(trigger_rates)), 1, p = trigger_rates)[0]"
   ]
  },
  {
   "cell_type": "code",
   "execution_count": 55,
   "metadata": {},
   "outputs": [
    {
     "data": {
      "text/plain": [
       "Percentage            24.800\n",
       "Proportion             0.248\n",
       "Jet / Jet energy       0.000\n",
       "Muon                   0.000\n",
       "Egamma                 1.000\n",
       "Tau                    0.000\n",
       "Jet proportions        0.000\n",
       "Muon proportions       0.000\n",
       "Egamma proportions     0.248\n",
       "Tau proportions        0.000\n",
       "Jet Rate                 NaN\n",
       "Muon Rate                NaN\n",
       "Egamma Rate              NaN\n",
       "Tau Rate                 NaN\n",
       "Name: 11, dtype: float64"
      ]
     },
     "execution_count": 55,
     "metadata": {},
     "output_type": "execute_result"
    }
   ],
   "source": [
    "rates.iloc[trigger_choice()]"
   ]
  },
  {
   "cell_type": "code",
   "execution_count": 56,
   "metadata": {},
   "outputs": [],
   "source": [
    "def generate_positive():\n",
    "    #select a trigger outcome with rates proportional to those recorded\n",
    "    outcome_idx = trigger_choice()\n",
    "    outcome = rates.iloc[outcome_idx]\n",
    "\n",
    "    #determine the triggers for that outcome\n",
    "    trig_egamma = outcome[\"Egamma\"]\n",
    "    trig_jet = outcome[\"Jet / Jet energy\"]\n",
    "    trig_muon = outcome[\"Muon\"]\n",
    "    trig_tau = outcome[\"Tau\"]\n",
    "\n",
    "    triggers = np.array([trig_jet, trig_muon, trig_egamma, trig_tau])\n",
    "\n",
    "    #generate particle energies from the distributions based on whether or not they're above trigger levels\n",
    "    def transform_p(prctile, outcome):\n",
    "        p = np.random.uniform()\n",
    "        if outcome == 1.0:\n",
    "            #generate an event above the trigger threshold\n",
    "            return p * (1 - prctile) + prctile\n",
    "        else:\n",
    "            #generate an event below the trigger threshold\n",
    "            return p * prctile\n",
    "        \n",
    "    p_jet = transform_p(jet_prctile, trig_jet)\n",
    "    p_muon = transform_p(muon_prctile, trig_muon)\n",
    "    p_egamma = transform_p(egamma_prctile, trig_egamma)\n",
    "    p_tau = transform_p(tau_prctile, trig_tau)\n",
    "\n",
    "    jet = exp_generator(p_jet, jet_l)\n",
    "    muon = exp_generator(p_muon, muon_l)\n",
    "    egamma = exp_generator(p_egamma, egamma_l)\n",
    "    tau = exp_generator(p_tau, tau_l)\n",
    "\n",
    "    e = np.array([jet, muon, egamma,  tau,])\n",
    "    z = np.array([jet_spl(e[0]),\n",
    "                  muon_spl(e[1]),\n",
    "                  egamma_spl(e[2]),\n",
    "                  tau_spl(e[3]),\n",
    "                  ])\n",
    "    \n",
    "    res = np.stack((e, z))\n",
    "    \n",
    "    return res\n"
   ]
  },
  {
   "cell_type": "code",
   "execution_count": 57,
   "metadata": {},
   "outputs": [],
   "source": [
    "pos_evt = generate_positive()"
   ]
  },
  {
   "cell_type": "code",
   "execution_count": 58,
   "metadata": {},
   "outputs": [
    {
     "data": {
      "text/plain": [
       "array([[9.13743499e+01, 1.26628413e+00, 3.02212794e+01, 7.88039578e-01],\n",
       "       [0.00000000e+00, 5.11336581e-03, 4.29933587e-01, 1.69149466e-05]])"
      ]
     },
     "execution_count": 58,
     "metadata": {},
     "output_type": "execute_result"
    }
   ],
   "source": [
    "pos_evt"
   ]
  },
  {
   "cell_type": "code",
   "execution_count": 59,
   "metadata": {},
   "outputs": [
    {
     "data": {
      "text/plain": [
       "array([320,  22,  30,  38])"
      ]
     },
     "execution_count": 59,
     "metadata": {},
     "output_type": "execute_result"
    }
   ],
   "source": [
    "thresholds"
   ]
  },
  {
   "cell_type": "code",
   "execution_count": 60,
   "metadata": {},
   "outputs": [
    {
     "data": {
      "text/plain": [
       "array([0.00000000e+00, 5.11336581e-03, 4.29933587e-01, 1.69149466e-05])"
      ]
     },
     "execution_count": 60,
     "metadata": {},
     "output_type": "execute_result"
    }
   ],
   "source": [
    "pos_evt[1,:]"
   ]
  },
  {
   "cell_type": "code",
   "execution_count": 61,
   "metadata": {},
   "outputs": [],
   "source": [
    "pos_evts = np.stack([generate_positive() for i in range(n_samples)])"
   ]
  },
  {
   "cell_type": "code",
   "execution_count": 62,
   "metadata": {},
   "outputs": [],
   "source": [
    "pos_z = np.sum(pos_evts, axis=2)[:,1]"
   ]
  },
  {
   "cell_type": "markdown",
   "metadata": {},
   "source": [
    "## determine statistics"
   ]
  },
  {
   "cell_type": "code",
   "execution_count": 63,
   "metadata": {},
   "outputs": [],
   "source": [
    "from sklearn.svm import LinearSVC"
   ]
  },
  {
   "cell_type": "code",
   "execution_count": 64,
   "metadata": {},
   "outputs": [],
   "source": [
    "classifier = LinearSVC()"
   ]
  },
  {
   "cell_type": "code",
   "execution_count": 65,
   "metadata": {},
   "outputs": [],
   "source": [
    "x = np.concatenate([null_z, pos_z]).reshape(-1,1)"
   ]
  },
  {
   "cell_type": "code",
   "execution_count": 66,
   "metadata": {},
   "outputs": [],
   "source": [
    "y = np.concatenate([np.zeros(null_z.shape), np.ones(pos_z.shape)])"
   ]
  },
  {
   "cell_type": "code",
   "execution_count": 67,
   "metadata": {},
   "outputs": [
    {
     "data": {
      "text/html": [
       "<style>#sk-container-id-1 {color: black;background-color: white;}#sk-container-id-1 pre{padding: 0;}#sk-container-id-1 div.sk-toggleable {background-color: white;}#sk-container-id-1 label.sk-toggleable__label {cursor: pointer;display: block;width: 100%;margin-bottom: 0;padding: 0.3em;box-sizing: border-box;text-align: center;}#sk-container-id-1 label.sk-toggleable__label-arrow:before {content: \"▸\";float: left;margin-right: 0.25em;color: #696969;}#sk-container-id-1 label.sk-toggleable__label-arrow:hover:before {color: black;}#sk-container-id-1 div.sk-estimator:hover label.sk-toggleable__label-arrow:before {color: black;}#sk-container-id-1 div.sk-toggleable__content {max-height: 0;max-width: 0;overflow: hidden;text-align: left;background-color: #f0f8ff;}#sk-container-id-1 div.sk-toggleable__content pre {margin: 0.2em;color: black;border-radius: 0.25em;background-color: #f0f8ff;}#sk-container-id-1 input.sk-toggleable__control:checked~div.sk-toggleable__content {max-height: 200px;max-width: 100%;overflow: auto;}#sk-container-id-1 input.sk-toggleable__control:checked~label.sk-toggleable__label-arrow:before {content: \"▾\";}#sk-container-id-1 div.sk-estimator input.sk-toggleable__control:checked~label.sk-toggleable__label {background-color: #d4ebff;}#sk-container-id-1 div.sk-label input.sk-toggleable__control:checked~label.sk-toggleable__label {background-color: #d4ebff;}#sk-container-id-1 input.sk-hidden--visually {border: 0;clip: rect(1px 1px 1px 1px);clip: rect(1px, 1px, 1px, 1px);height: 1px;margin: -1px;overflow: hidden;padding: 0;position: absolute;width: 1px;}#sk-container-id-1 div.sk-estimator {font-family: monospace;background-color: #f0f8ff;border: 1px dotted black;border-radius: 0.25em;box-sizing: border-box;margin-bottom: 0.5em;}#sk-container-id-1 div.sk-estimator:hover {background-color: #d4ebff;}#sk-container-id-1 div.sk-parallel-item::after {content: \"\";width: 100%;border-bottom: 1px solid gray;flex-grow: 1;}#sk-container-id-1 div.sk-label:hover label.sk-toggleable__label {background-color: #d4ebff;}#sk-container-id-1 div.sk-serial::before {content: \"\";position: absolute;border-left: 1px solid gray;box-sizing: border-box;top: 0;bottom: 0;left: 50%;z-index: 0;}#sk-container-id-1 div.sk-serial {display: flex;flex-direction: column;align-items: center;background-color: white;padding-right: 0.2em;padding-left: 0.2em;position: relative;}#sk-container-id-1 div.sk-item {position: relative;z-index: 1;}#sk-container-id-1 div.sk-parallel {display: flex;align-items: stretch;justify-content: center;background-color: white;position: relative;}#sk-container-id-1 div.sk-item::before, #sk-container-id-1 div.sk-parallel-item::before {content: \"\";position: absolute;border-left: 1px solid gray;box-sizing: border-box;top: 0;bottom: 0;left: 50%;z-index: -1;}#sk-container-id-1 div.sk-parallel-item {display: flex;flex-direction: column;z-index: 1;position: relative;background-color: white;}#sk-container-id-1 div.sk-parallel-item:first-child::after {align-self: flex-end;width: 50%;}#sk-container-id-1 div.sk-parallel-item:last-child::after {align-self: flex-start;width: 50%;}#sk-container-id-1 div.sk-parallel-item:only-child::after {width: 0;}#sk-container-id-1 div.sk-dashed-wrapped {border: 1px dashed gray;margin: 0 0.4em 0.5em 0.4em;box-sizing: border-box;padding-bottom: 0.4em;background-color: white;}#sk-container-id-1 div.sk-label label {font-family: monospace;font-weight: bold;display: inline-block;line-height: 1.2em;}#sk-container-id-1 div.sk-label-container {text-align: center;}#sk-container-id-1 div.sk-container {/* jupyter's `normalize.less` sets `[hidden] { display: none; }` but bootstrap.min.css set `[hidden] { display: none !important; }` so we also need the `!important` here to be able to override the default hidden behavior on the sphinx rendered scikit-learn.org. See: https://github.com/scikit-learn/scikit-learn/issues/21755 */display: inline-block !important;position: relative;}#sk-container-id-1 div.sk-text-repr-fallback {display: none;}</style><div id=\"sk-container-id-1\" class=\"sk-top-container\"><div class=\"sk-text-repr-fallback\"><pre>LinearSVC()</pre><b>In a Jupyter environment, please rerun this cell to show the HTML representation or trust the notebook. <br />On GitHub, the HTML representation is unable to render, please try loading this page with nbviewer.org.</b></div><div class=\"sk-container\" hidden><div class=\"sk-item\"><div class=\"sk-estimator sk-toggleable\"><input class=\"sk-toggleable__control sk-hidden--visually\" id=\"sk-estimator-id-1\" type=\"checkbox\" checked><label for=\"sk-estimator-id-1\" class=\"sk-toggleable__label sk-toggleable__label-arrow\">LinearSVC</label><div class=\"sk-toggleable__content\"><pre>LinearSVC()</pre></div></div></div></div></div>"
      ],
      "text/plain": [
       "LinearSVC()"
      ]
     },
     "execution_count": 67,
     "metadata": {},
     "output_type": "execute_result"
    }
   ],
   "source": [
    "classifier.fit(x, y)"
   ]
  },
  {
   "cell_type": "code",
   "execution_count": 68,
   "metadata": {},
   "outputs": [],
   "source": [
    "null_z2 = classifier.decision_function(null_z.reshape(-1,1))"
   ]
  },
  {
   "cell_type": "code",
   "execution_count": 69,
   "metadata": {},
   "outputs": [],
   "source": [
    "pred_null = classifier.predict(null_z.reshape(-1,1))"
   ]
  },
  {
   "cell_type": "code",
   "execution_count": 70,
   "metadata": {},
   "outputs": [],
   "source": [
    "pos_z2 = classifier.decision_function(pos_z.reshape(-1,1))"
   ]
  },
  {
   "cell_type": "code",
   "execution_count": 71,
   "metadata": {},
   "outputs": [],
   "source": [
    "pred_pos = classifier.predict(pos_z.reshape(-1,1))"
   ]
  },
  {
   "cell_type": "code",
   "execution_count": 72,
   "metadata": {},
   "outputs": [
    {
     "data": {
      "text/plain": [
       "0.9996055"
      ]
     },
     "execution_count": 72,
     "metadata": {},
     "output_type": "execute_result"
    }
   ],
   "source": [
    "classifier.score(x, y)"
   ]
  },
  {
   "cell_type": "code",
   "execution_count": 73,
   "metadata": {},
   "outputs": [],
   "source": [
    "confusion = [[np.mean(pred_null == 0), np.mean(pred_null == 1),],\n",
    "             [np.mean(pred_pos == 0), np.mean(pred_pos == 1)],]"
   ]
  },
  {
   "cell_type": "code",
   "execution_count": 74,
   "metadata": {},
   "outputs": [
    {
     "data": {
      "text/plain": [
       "[[0.999211, 0.000789], [0.0, 1.0]]"
      ]
     },
     "execution_count": 74,
     "metadata": {},
     "output_type": "execute_result"
    }
   ],
   "source": [
    "confusion"
   ]
  },
  {
   "cell_type": "code",
   "execution_count": null,
   "metadata": {},
   "outputs": [],
   "source": []
  }
 ],
 "metadata": {
  "kernelspec": {
   "display_name": "jax",
   "language": "python",
   "name": "python3"
  },
  "language_info": {
   "codemirror_mode": {
    "name": "ipython",
    "version": 3
   },
   "file_extension": ".py",
   "mimetype": "text/x-python",
   "name": "python",
   "nbconvert_exporter": "python",
   "pygments_lexer": "ipython3",
   "version": "3.10.4"
  }
 },
 "nbformat": 4,
 "nbformat_minor": 2
}
