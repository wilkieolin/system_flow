{
 "cells": [
  {
   "cell_type": "code",
   "execution_count": 8,
   "metadata": {},
   "outputs": [],
   "source": [
    "import networkx as nx\n",
    "import numpy as np\n",
    "import pandas as pd"
   ]
  },
  {
   "cell_type": "code",
   "execution_count": 21,
   "metadata": {},
   "outputs": [],
   "source": [
    "data = pd.read_excel(\"cms_system.xlsx\", sheet_name=\"Detectors\")"
   ]
  },
  {
   "cell_type": "code",
   "execution_count": 22,
   "metadata": {},
   "outputs": [
    {
     "data": {
      "text/html": [
       "<div>\n",
       "<style scoped>\n",
       "    .dataframe tbody tr th:only-of-type {\n",
       "        vertical-align: middle;\n",
       "    }\n",
       "\n",
       "    .dataframe tbody tr th {\n",
       "        vertical-align: top;\n",
       "    }\n",
       "\n",
       "    .dataframe thead th {\n",
       "        text-align: right;\n",
       "    }\n",
       "</style>\n",
       "<table border=\"1\" class=\"dataframe\">\n",
       "  <thead>\n",
       "    <tr style=\"text-align: right;\">\n",
       "      <th></th>\n",
       "      <th>Category</th>\n",
       "      <th>Detector</th>\n",
       "      <th>PU 140</th>\n",
       "      <th>PU 200</th>\n",
       "    </tr>\n",
       "  </thead>\n",
       "  <tbody>\n",
       "    <tr>\n",
       "      <th>0</th>\n",
       "      <td>Tracking</td>\n",
       "      <td>Inner Tracker</td>\n",
       "      <td>1.010</td>\n",
       "      <td>1.440</td>\n",
       "    </tr>\n",
       "    <tr>\n",
       "      <th>1</th>\n",
       "      <td>Tracking</td>\n",
       "      <td>Outer Tracker PS</td>\n",
       "      <td>0.500</td>\n",
       "      <td>0.720</td>\n",
       "    </tr>\n",
       "    <tr>\n",
       "      <th>2</th>\n",
       "      <td>Tracking</td>\n",
       "      <td>Outer Tracker 2S</td>\n",
       "      <td>0.300</td>\n",
       "      <td>0.430</td>\n",
       "    </tr>\n",
       "    <tr>\n",
       "      <th>3</th>\n",
       "      <td>Tracking</td>\n",
       "      <td>Track Finder TPG</td>\n",
       "      <td>0.010</td>\n",
       "      <td>0.010</td>\n",
       "    </tr>\n",
       "    <tr>\n",
       "      <th>4</th>\n",
       "      <td>Timing</td>\n",
       "      <td>MIP Timing BTL</td>\n",
       "      <td>0.170</td>\n",
       "      <td>0.240</td>\n",
       "    </tr>\n",
       "    <tr>\n",
       "      <th>5</th>\n",
       "      <td>Timing</td>\n",
       "      <td>MIP Timing ETL</td>\n",
       "      <td>0.310</td>\n",
       "      <td>0.440</td>\n",
       "    </tr>\n",
       "    <tr>\n",
       "      <th>6</th>\n",
       "      <td>Calorimetry</td>\n",
       "      <td>ECAL Barrel</td>\n",
       "      <td>0.420</td>\n",
       "      <td>0.600</td>\n",
       "    </tr>\n",
       "    <tr>\n",
       "      <th>7</th>\n",
       "      <td>Calorimetry</td>\n",
       "      <td>HCAL Barrel</td>\n",
       "      <td>0.240</td>\n",
       "      <td>0.240</td>\n",
       "    </tr>\n",
       "    <tr>\n",
       "      <th>8</th>\n",
       "      <td>Calorimetry</td>\n",
       "      <td>HCAL HO</td>\n",
       "      <td>0.030</td>\n",
       "      <td>0.030</td>\n",
       "    </tr>\n",
       "    <tr>\n",
       "      <th>9</th>\n",
       "      <td>Calorimetry</td>\n",
       "      <td>HCAL HF</td>\n",
       "      <td>0.060</td>\n",
       "      <td>0.060</td>\n",
       "    </tr>\n",
       "    <tr>\n",
       "      <th>10</th>\n",
       "      <td>Calorimetry</td>\n",
       "      <td>HGCAL</td>\n",
       "      <td>2.100</td>\n",
       "      <td>3.000</td>\n",
       "    </tr>\n",
       "    <tr>\n",
       "      <th>11</th>\n",
       "      <td>Calorimetry</td>\n",
       "      <td>HGCAL TPG Stage1</td>\n",
       "      <td>0.110</td>\n",
       "      <td>0.150</td>\n",
       "    </tr>\n",
       "    <tr>\n",
       "      <th>12</th>\n",
       "      <td>Calorimetry</td>\n",
       "      <td>HGCAL TPG Stage2</td>\n",
       "      <td>0.040</td>\n",
       "      <td>0.050</td>\n",
       "    </tr>\n",
       "    <tr>\n",
       "      <th>13</th>\n",
       "      <td>Muon</td>\n",
       "      <td>Muon DT</td>\n",
       "      <td>0.110</td>\n",
       "      <td>0.150</td>\n",
       "    </tr>\n",
       "    <tr>\n",
       "      <th>14</th>\n",
       "      <td>Muon</td>\n",
       "      <td>Muon CSC</td>\n",
       "      <td>0.330</td>\n",
       "      <td>0.470</td>\n",
       "    </tr>\n",
       "    <tr>\n",
       "      <th>15</th>\n",
       "      <td>Muon</td>\n",
       "      <td>Muon GEM GE1</td>\n",
       "      <td>0.002</td>\n",
       "      <td>0.003</td>\n",
       "    </tr>\n",
       "    <tr>\n",
       "      <th>16</th>\n",
       "      <td>Muon</td>\n",
       "      <td>Muon GEM GE2</td>\n",
       "      <td>0.001</td>\n",
       "      <td>0.002</td>\n",
       "    </tr>\n",
       "    <tr>\n",
       "      <th>17</th>\n",
       "      <td>Muon</td>\n",
       "      <td>Muon GEM ME0</td>\n",
       "      <td>0.080</td>\n",
       "      <td>0.120</td>\n",
       "    </tr>\n",
       "    <tr>\n",
       "      <th>18</th>\n",
       "      <td>Muon</td>\n",
       "      <td>Muon RPC</td>\n",
       "      <td>0.010</td>\n",
       "      <td>0.010</td>\n",
       "    </tr>\n",
       "    <tr>\n",
       "      <th>19</th>\n",
       "      <td>Trigger</td>\n",
       "      <td>Level-1 Trigger</td>\n",
       "      <td>0.260</td>\n",
       "      <td>0.260</td>\n",
       "    </tr>\n",
       "  </tbody>\n",
       "</table>\n",
       "</div>"
      ],
      "text/plain": [
       "       Category          Detector  PU 140  PU 200\n",
       "0      Tracking     Inner Tracker   1.010   1.440\n",
       "1      Tracking  Outer Tracker PS   0.500   0.720\n",
       "2      Tracking  Outer Tracker 2S   0.300   0.430\n",
       "3      Tracking  Track Finder TPG   0.010   0.010\n",
       "4        Timing    MIP Timing BTL   0.170   0.240\n",
       "5        Timing    MIP Timing ETL   0.310   0.440\n",
       "6   Calorimetry       ECAL Barrel   0.420   0.600\n",
       "7   Calorimetry       HCAL Barrel   0.240   0.240\n",
       "8   Calorimetry           HCAL HO   0.030   0.030\n",
       "9   Calorimetry           HCAL HF   0.060   0.060\n",
       "10  Calorimetry             HGCAL   2.100   3.000\n",
       "11  Calorimetry  HGCAL TPG Stage1   0.110   0.150\n",
       "12  Calorimetry  HGCAL TPG Stage2   0.040   0.050\n",
       "13         Muon           Muon DT   0.110   0.150\n",
       "14         Muon          Muon CSC   0.330   0.470\n",
       "15         Muon      Muon GEM GE1   0.002   0.003\n",
       "16         Muon      Muon GEM GE2   0.001   0.002\n",
       "17         Muon      Muon GEM ME0   0.080   0.120\n",
       "18         Muon          Muon RPC   0.010   0.010\n",
       "19      Trigger   Level-1 Trigger   0.260   0.260"
      ]
     },
     "execution_count": 22,
     "metadata": {},
     "output_type": "execute_result"
    }
   ],
   "source": [
    "data"
   ]
  },
  {
   "cell_type": "code",
   "execution_count": 23,
   "metadata": {},
   "outputs": [],
   "source": [
    "detectors = data[\"Detector\"].values"
   ]
  },
  {
   "cell_type": "code",
   "execution_count": 24,
   "metadata": {},
   "outputs": [
    {
     "data": {
      "text/plain": [
       "'Inner Tracker'"
      ]
     },
     "execution_count": 24,
     "metadata": {},
     "output_type": "execute_result"
    }
   ],
   "source": [
    "detectors[0]"
   ]
  },
  {
   "cell_type": "code",
   "execution_count": 16,
   "metadata": {},
   "outputs": [],
   "source": [
    "systems = np.unique(data[\"Category\"].values)"
   ]
  },
  {
   "cell_type": "code",
   "execution_count": 17,
   "metadata": {},
   "outputs": [
    {
     "data": {
      "text/plain": [
       "array(['Calorimetry', 'Muon', 'Timing', 'Tracking', 'Trigger'],\n",
       "      dtype=object)"
      ]
     },
     "execution_count": 17,
     "metadata": {},
     "output_type": "execute_result"
    }
   ],
   "source": [
    "systems"
   ]
  },
  {
   "cell_type": "code",
   "execution_count": 5,
   "metadata": {},
   "outputs": [],
   "source": [
    "G = nx.Graph()"
   ]
  },
  {
   "cell_type": "code",
   "execution_count": null,
   "metadata": {},
   "outputs": [],
   "source": []
  },
  {
   "cell_type": "code",
   "execution_count": 6,
   "metadata": {},
   "outputs": [],
   "source": [
    "G.add_node(\"Inner Tracker\")"
   ]
  },
  {
   "cell_type": "code",
   "execution_count": 7,
   "metadata": {},
   "outputs": [
    {
     "data": {
      "text/plain": [
       "<networkx.classes.graph.Graph at 0x10cf0ca90>"
      ]
     },
     "execution_count": 7,
     "metadata": {},
     "output_type": "execute_result"
    }
   ],
   "source": [
    "G"
   ]
  },
  {
   "cell_type": "code",
   "execution_count": null,
   "metadata": {},
   "outputs": [],
   "source": []
  }
 ],
 "metadata": {
  "kernelspec": {
   "display_name": "jax",
   "language": "python",
   "name": "python3"
  },
  "language_info": {
   "codemirror_mode": {
    "name": "ipython",
    "version": 3
   },
   "file_extension": ".py",
   "mimetype": "text/x-python",
   "name": "python",
   "nbconvert_exporter": "python",
   "pygments_lexer": "ipython3",
   "version": "3.10.4"
  }
 },
 "nbformat": 4,
 "nbformat_minor": 2
}
