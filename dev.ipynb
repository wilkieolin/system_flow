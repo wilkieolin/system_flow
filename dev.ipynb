{
 "cells": [
  {
   "cell_type": "code",
   "execution_count": null,
   "metadata": {},
   "outputs": [],
   "source": [
    "import networkx as nx\n",
    "import numpy as np\n",
    "import pandas as pd\n",
    "import matplotlib.pyplot as plt"
   ]
  },
  {
   "cell_type": "code",
   "execution_count": null,
   "metadata": {},
   "outputs": [],
   "source": [
    "detectors_run4 = pd.read_excel(\"cms_system_140.xlsx\", sheet_name=\"Detectors\")\n",
    "triggers_run4 = pd.read_excel(\"cms_system_140.xlsx\", sheet_name=\"Triggers\")"
   ]
  },
  {
   "cell_type": "code",
   "execution_count": null,
   "metadata": {},
   "outputs": [
    {
     "data": {
      "text/html": [
       "<div>\n",
       "<style scoped>\n",
       "    .dataframe tbody tr th:only-of-type {\n",
       "        vertical-align: middle;\n",
       "    }\n",
       "\n",
       "    .dataframe tbody tr th {\n",
       "        vertical-align: top;\n",
       "    }\n",
       "\n",
       "    .dataframe thead th {\n",
       "        text-align: right;\n",
       "    }\n",
       "</style>\n",
       "<table border=\"1\" class=\"dataframe\">\n",
       "  <thead>\n",
       "    <tr style=\"text-align: right;\">\n",
       "      <th></th>\n",
       "      <th>Category</th>\n",
       "      <th>Detector</th>\n",
       "      <th>Data (bytes)</th>\n",
       "      <th>Sample Rate</th>\n",
       "      <th>True Pass</th>\n",
       "      <th>True Discard</th>\n",
       "      <th>False Pass (alpha)</th>\n",
       "      <th>False Discard (beta)</th>\n",
       "      <th>Compression</th>\n",
       "      <th>PU 140</th>\n",
       "    </tr>\n",
       "  </thead>\n",
       "  <tbody>\n",
       "    <tr>\n",
       "      <th>0</th>\n",
       "      <td>Tracking</td>\n",
       "      <td>Inner Tracker</td>\n",
       "      <td>1010000</td>\n",
       "      <td>40000000</td>\n",
       "      <td>1</td>\n",
       "      <td>0</td>\n",
       "      <td>0</td>\n",
       "      <td>0</td>\n",
       "      <td>0</td>\n",
       "      <td>1.010</td>\n",
       "    </tr>\n",
       "    <tr>\n",
       "      <th>1</th>\n",
       "      <td>Tracking</td>\n",
       "      <td>Outer Tracker PS</td>\n",
       "      <td>500000</td>\n",
       "      <td>40000000</td>\n",
       "      <td>1</td>\n",
       "      <td>0</td>\n",
       "      <td>0</td>\n",
       "      <td>0</td>\n",
       "      <td>0</td>\n",
       "      <td>0.500</td>\n",
       "    </tr>\n",
       "    <tr>\n",
       "      <th>2</th>\n",
       "      <td>Tracking</td>\n",
       "      <td>Outer Tracker 2S</td>\n",
       "      <td>300000</td>\n",
       "      <td>40000000</td>\n",
       "      <td>1</td>\n",
       "      <td>0</td>\n",
       "      <td>0</td>\n",
       "      <td>0</td>\n",
       "      <td>0</td>\n",
       "      <td>0.300</td>\n",
       "    </tr>\n",
       "    <tr>\n",
       "      <th>3</th>\n",
       "      <td>Tracking</td>\n",
       "      <td>Track Finder TPG</td>\n",
       "      <td>10000</td>\n",
       "      <td>40000000</td>\n",
       "      <td>1</td>\n",
       "      <td>0</td>\n",
       "      <td>0</td>\n",
       "      <td>0</td>\n",
       "      <td>0</td>\n",
       "      <td>0.010</td>\n",
       "    </tr>\n",
       "    <tr>\n",
       "      <th>4</th>\n",
       "      <td>Timing</td>\n",
       "      <td>MIP Timing BTL</td>\n",
       "      <td>170000</td>\n",
       "      <td>40000000</td>\n",
       "      <td>1</td>\n",
       "      <td>0</td>\n",
       "      <td>0</td>\n",
       "      <td>0</td>\n",
       "      <td>0</td>\n",
       "      <td>0.170</td>\n",
       "    </tr>\n",
       "    <tr>\n",
       "      <th>5</th>\n",
       "      <td>Timing</td>\n",
       "      <td>MIP Timing ETL</td>\n",
       "      <td>310000</td>\n",
       "      <td>40000000</td>\n",
       "      <td>1</td>\n",
       "      <td>0</td>\n",
       "      <td>0</td>\n",
       "      <td>0</td>\n",
       "      <td>0</td>\n",
       "      <td>0.310</td>\n",
       "    </tr>\n",
       "    <tr>\n",
       "      <th>6</th>\n",
       "      <td>Calorimetry</td>\n",
       "      <td>ECAL Barrel</td>\n",
       "      <td>420000</td>\n",
       "      <td>40000000</td>\n",
       "      <td>1</td>\n",
       "      <td>0</td>\n",
       "      <td>0</td>\n",
       "      <td>0</td>\n",
       "      <td>0</td>\n",
       "      <td>0.420</td>\n",
       "    </tr>\n",
       "    <tr>\n",
       "      <th>7</th>\n",
       "      <td>Calorimetry</td>\n",
       "      <td>HCAL Barrel</td>\n",
       "      <td>240000</td>\n",
       "      <td>40000000</td>\n",
       "      <td>1</td>\n",
       "      <td>0</td>\n",
       "      <td>0</td>\n",
       "      <td>0</td>\n",
       "      <td>0</td>\n",
       "      <td>0.240</td>\n",
       "    </tr>\n",
       "    <tr>\n",
       "      <th>8</th>\n",
       "      <td>Calorimetry</td>\n",
       "      <td>HCAL HO</td>\n",
       "      <td>30000</td>\n",
       "      <td>40000000</td>\n",
       "      <td>1</td>\n",
       "      <td>0</td>\n",
       "      <td>0</td>\n",
       "      <td>0</td>\n",
       "      <td>0</td>\n",
       "      <td>0.030</td>\n",
       "    </tr>\n",
       "    <tr>\n",
       "      <th>9</th>\n",
       "      <td>Calorimetry</td>\n",
       "      <td>HCAL HF</td>\n",
       "      <td>60000</td>\n",
       "      <td>40000000</td>\n",
       "      <td>1</td>\n",
       "      <td>0</td>\n",
       "      <td>0</td>\n",
       "      <td>0</td>\n",
       "      <td>0</td>\n",
       "      <td>0.060</td>\n",
       "    </tr>\n",
       "    <tr>\n",
       "      <th>10</th>\n",
       "      <td>Calorimetry</td>\n",
       "      <td>HGCAL</td>\n",
       "      <td>2100000</td>\n",
       "      <td>40000000</td>\n",
       "      <td>1</td>\n",
       "      <td>0</td>\n",
       "      <td>0</td>\n",
       "      <td>0</td>\n",
       "      <td>0</td>\n",
       "      <td>2.100</td>\n",
       "    </tr>\n",
       "    <tr>\n",
       "      <th>11</th>\n",
       "      <td>Calorimetry</td>\n",
       "      <td>HGCAL TPG Stage1</td>\n",
       "      <td>110000</td>\n",
       "      <td>40000000</td>\n",
       "      <td>1</td>\n",
       "      <td>0</td>\n",
       "      <td>0</td>\n",
       "      <td>0</td>\n",
       "      <td>0</td>\n",
       "      <td>0.110</td>\n",
       "    </tr>\n",
       "    <tr>\n",
       "      <th>12</th>\n",
       "      <td>Calorimetry</td>\n",
       "      <td>HGCAL TPG Stage2</td>\n",
       "      <td>40000</td>\n",
       "      <td>40000000</td>\n",
       "      <td>1</td>\n",
       "      <td>0</td>\n",
       "      <td>0</td>\n",
       "      <td>0</td>\n",
       "      <td>0</td>\n",
       "      <td>0.040</td>\n",
       "    </tr>\n",
       "    <tr>\n",
       "      <th>13</th>\n",
       "      <td>Muon</td>\n",
       "      <td>Muon DT</td>\n",
       "      <td>110000</td>\n",
       "      <td>40000000</td>\n",
       "      <td>1</td>\n",
       "      <td>0</td>\n",
       "      <td>0</td>\n",
       "      <td>0</td>\n",
       "      <td>0</td>\n",
       "      <td>0.110</td>\n",
       "    </tr>\n",
       "    <tr>\n",
       "      <th>14</th>\n",
       "      <td>Muon</td>\n",
       "      <td>Muon CSC</td>\n",
       "      <td>330000</td>\n",
       "      <td>40000000</td>\n",
       "      <td>1</td>\n",
       "      <td>0</td>\n",
       "      <td>0</td>\n",
       "      <td>0</td>\n",
       "      <td>0</td>\n",
       "      <td>0.330</td>\n",
       "    </tr>\n",
       "    <tr>\n",
       "      <th>15</th>\n",
       "      <td>Muon</td>\n",
       "      <td>Muon GEM GE1</td>\n",
       "      <td>2000</td>\n",
       "      <td>40000000</td>\n",
       "      <td>1</td>\n",
       "      <td>0</td>\n",
       "      <td>0</td>\n",
       "      <td>0</td>\n",
       "      <td>0</td>\n",
       "      <td>0.002</td>\n",
       "    </tr>\n",
       "    <tr>\n",
       "      <th>16</th>\n",
       "      <td>Muon</td>\n",
       "      <td>Muon GEM GE2</td>\n",
       "      <td>1000</td>\n",
       "      <td>40000000</td>\n",
       "      <td>1</td>\n",
       "      <td>0</td>\n",
       "      <td>0</td>\n",
       "      <td>0</td>\n",
       "      <td>0</td>\n",
       "      <td>0.001</td>\n",
       "    </tr>\n",
       "    <tr>\n",
       "      <th>17</th>\n",
       "      <td>Muon</td>\n",
       "      <td>Muon GEM ME0</td>\n",
       "      <td>80000</td>\n",
       "      <td>40000000</td>\n",
       "      <td>1</td>\n",
       "      <td>0</td>\n",
       "      <td>0</td>\n",
       "      <td>0</td>\n",
       "      <td>0</td>\n",
       "      <td>0.080</td>\n",
       "    </tr>\n",
       "    <tr>\n",
       "      <th>18</th>\n",
       "      <td>Muon</td>\n",
       "      <td>Muon RPC</td>\n",
       "      <td>10000</td>\n",
       "      <td>40000000</td>\n",
       "      <td>1</td>\n",
       "      <td>0</td>\n",
       "      <td>0</td>\n",
       "      <td>0</td>\n",
       "      <td>0</td>\n",
       "      <td>0.010</td>\n",
       "    </tr>\n",
       "  </tbody>\n",
       "</table>\n",
       "</div>"
      ],
      "text/plain": [
       "       Category          Detector  Data (bytes)  Sample Rate  True Pass  \\\n",
       "0      Tracking     Inner Tracker       1010000     40000000          1   \n",
       "1      Tracking  Outer Tracker PS        500000     40000000          1   \n",
       "2      Tracking  Outer Tracker 2S        300000     40000000          1   \n",
       "3      Tracking  Track Finder TPG         10000     40000000          1   \n",
       "4        Timing    MIP Timing BTL        170000     40000000          1   \n",
       "5        Timing    MIP Timing ETL        310000     40000000          1   \n",
       "6   Calorimetry       ECAL Barrel        420000     40000000          1   \n",
       "7   Calorimetry       HCAL Barrel        240000     40000000          1   \n",
       "8   Calorimetry           HCAL HO         30000     40000000          1   \n",
       "9   Calorimetry           HCAL HF         60000     40000000          1   \n",
       "10  Calorimetry             HGCAL       2100000     40000000          1   \n",
       "11  Calorimetry  HGCAL TPG Stage1        110000     40000000          1   \n",
       "12  Calorimetry  HGCAL TPG Stage2         40000     40000000          1   \n",
       "13         Muon           Muon DT        110000     40000000          1   \n",
       "14         Muon          Muon CSC        330000     40000000          1   \n",
       "15         Muon      Muon GEM GE1          2000     40000000          1   \n",
       "16         Muon      Muon GEM GE2          1000     40000000          1   \n",
       "17         Muon      Muon GEM ME0         80000     40000000          1   \n",
       "18         Muon          Muon RPC         10000     40000000          1   \n",
       "\n",
       "    True Discard  False Pass (alpha)  False Discard (beta)  Compression  \\\n",
       "0              0                   0                     0            0   \n",
       "1              0                   0                     0            0   \n",
       "2              0                   0                     0            0   \n",
       "3              0                   0                     0            0   \n",
       "4              0                   0                     0            0   \n",
       "5              0                   0                     0            0   \n",
       "6              0                   0                     0            0   \n",
       "7              0                   0                     0            0   \n",
       "8              0                   0                     0            0   \n",
       "9              0                   0                     0            0   \n",
       "10             0                   0                     0            0   \n",
       "11             0                   0                     0            0   \n",
       "12             0                   0                     0            0   \n",
       "13             0                   0                     0            0   \n",
       "14             0                   0                     0            0   \n",
       "15             0                   0                     0            0   \n",
       "16             0                   0                     0            0   \n",
       "17             0                   0                     0            0   \n",
       "18             0                   0                     0            0   \n",
       "\n",
       "    PU 140  \n",
       "0    1.010  \n",
       "1    0.500  \n",
       "2    0.300  \n",
       "3    0.010  \n",
       "4    0.170  \n",
       "5    0.310  \n",
       "6    0.420  \n",
       "7    0.240  \n",
       "8    0.030  \n",
       "9    0.060  \n",
       "10   2.100  \n",
       "11   0.110  \n",
       "12   0.040  \n",
       "13   0.110  \n",
       "14   0.330  \n",
       "15   0.002  \n",
       "16   0.001  \n",
       "17   0.080  \n",
       "18   0.010  "
      ]
     },
     "execution_count": 3,
     "metadata": {},
     "output_type": "execute_result"
    }
   ],
   "source": [
    "detectors_run4"
   ]
  },
  {
   "cell_type": "code",
   "execution_count": null,
   "metadata": {},
   "outputs": [
    {
     "data": {
      "text/html": [
       "<div>\n",
       "<style scoped>\n",
       "    .dataframe tbody tr th:only-of-type {\n",
       "        vertical-align: middle;\n",
       "    }\n",
       "\n",
       "    .dataframe tbody tr th {\n",
       "        vertical-align: top;\n",
       "    }\n",
       "\n",
       "    .dataframe thead th {\n",
       "        text-align: right;\n",
       "    }\n",
       "</style>\n",
       "<table border=\"1\" class=\"dataframe\">\n",
       "  <thead>\n",
       "    <tr style=\"text-align: right;\">\n",
       "      <th></th>\n",
       "      <th>Output</th>\n",
       "      <th>Name</th>\n",
       "      <th>Data (bytes)</th>\n",
       "      <th>True Pass</th>\n",
       "      <th>True Discard</th>\n",
       "      <th>False Pass (alpha)</th>\n",
       "      <th>False Discard (beta)</th>\n",
       "      <th>Compression</th>\n",
       "      <th>PU 140</th>\n",
       "      <th>PU 200</th>\n",
       "    </tr>\n",
       "  </thead>\n",
       "  <tbody>\n",
       "    <tr>\n",
       "      <th>0</th>\n",
       "      <td>Intermediate</td>\n",
       "      <td>Tracking</td>\n",
       "      <td>0</td>\n",
       "      <td>1</td>\n",
       "      <td>0</td>\n",
       "      <td>0</td>\n",
       "      <td>0</td>\n",
       "      <td>0</td>\n",
       "      <td>NaN</td>\n",
       "      <td>NaN</td>\n",
       "    </tr>\n",
       "    <tr>\n",
       "      <th>1</th>\n",
       "      <td>Intermediate</td>\n",
       "      <td>Timing</td>\n",
       "      <td>0</td>\n",
       "      <td>1</td>\n",
       "      <td>0</td>\n",
       "      <td>0</td>\n",
       "      <td>0</td>\n",
       "      <td>0</td>\n",
       "      <td>NaN</td>\n",
       "      <td>NaN</td>\n",
       "    </tr>\n",
       "    <tr>\n",
       "      <th>2</th>\n",
       "      <td>Intermediate</td>\n",
       "      <td>Calorimetry</td>\n",
       "      <td>0</td>\n",
       "      <td>1</td>\n",
       "      <td>0</td>\n",
       "      <td>0</td>\n",
       "      <td>0</td>\n",
       "      <td>0</td>\n",
       "      <td>NaN</td>\n",
       "      <td>NaN</td>\n",
       "    </tr>\n",
       "    <tr>\n",
       "      <th>3</th>\n",
       "      <td>Intermediate</td>\n",
       "      <td>Muon</td>\n",
       "      <td>0</td>\n",
       "      <td>1</td>\n",
       "      <td>0</td>\n",
       "      <td>0</td>\n",
       "      <td>0</td>\n",
       "      <td>0</td>\n",
       "      <td>NaN</td>\n",
       "      <td>NaN</td>\n",
       "    </tr>\n",
       "    <tr>\n",
       "      <th>4</th>\n",
       "      <td>Global</td>\n",
       "      <td>Intermediate</td>\n",
       "      <td>260000</td>\n",
       "      <td>1</td>\n",
       "      <td>399</td>\n",
       "      <td>0</td>\n",
       "      <td>0</td>\n",
       "      <td>0</td>\n",
       "      <td>0.26</td>\n",
       "      <td>0.26</td>\n",
       "    </tr>\n",
       "    <tr>\n",
       "      <th>5</th>\n",
       "      <td>Disk</td>\n",
       "      <td>Global</td>\n",
       "      <td>0</td>\n",
       "      <td>1</td>\n",
       "      <td>19</td>\n",
       "      <td>0</td>\n",
       "      <td>0</td>\n",
       "      <td>0</td>\n",
       "      <td>NaN</td>\n",
       "      <td>NaN</td>\n",
       "    </tr>\n",
       "    <tr>\n",
       "      <th>6</th>\n",
       "      <td>NaN</td>\n",
       "      <td>Disk</td>\n",
       "      <td>0</td>\n",
       "      <td>1</td>\n",
       "      <td>0</td>\n",
       "      <td>0</td>\n",
       "      <td>0</td>\n",
       "      <td>0</td>\n",
       "      <td>NaN</td>\n",
       "      <td>NaN</td>\n",
       "    </tr>\n",
       "  </tbody>\n",
       "</table>\n",
       "</div>"
      ],
      "text/plain": [
       "         Output          Name  Data (bytes)  True Pass  True Discard  \\\n",
       "0  Intermediate      Tracking             0          1             0   \n",
       "1  Intermediate        Timing             0          1             0   \n",
       "2  Intermediate   Calorimetry             0          1             0   \n",
       "3  Intermediate          Muon             0          1             0   \n",
       "4        Global  Intermediate        260000          1           399   \n",
       "5          Disk        Global             0          1            19   \n",
       "6           NaN          Disk             0          1             0   \n",
       "\n",
       "   False Pass (alpha)  False Discard (beta)  Compression  PU 140  PU 200  \n",
       "0                   0                     0            0     NaN     NaN  \n",
       "1                   0                     0            0     NaN     NaN  \n",
       "2                   0                     0            0     NaN     NaN  \n",
       "3                   0                     0            0     NaN     NaN  \n",
       "4                   0                     0            0    0.26    0.26  \n",
       "5                   0                     0            0     NaN     NaN  \n",
       "6                   0                     0            0     NaN     NaN  "
      ]
     },
     "execution_count": 4,
     "metadata": {},
     "output_type": "execute_result"
    }
   ],
   "source": [
    "triggers_run4"
   ]
  },
  {
   "cell_type": "code",
   "execution_count": null,
   "metadata": {},
   "outputs": [],
   "source": [
    "def entry_to_confusion(entry: pd.core.series.Series):\n",
    "    tp = entry[\"True Pass\"]\n",
    "    td = entry[\"True Discard\"]\n",
    "    fp = entry[\"False Pass (alpha)\"]\n",
    "    fd = entry[\"False Discard (beta)\"]\n",
    "\n",
    "    confusion = np.array([[td, fd], [fp, tp]])\n",
    "    return confusion"
   ]
  },
  {
   "cell_type": "code",
   "execution_count": null,
   "metadata": {},
   "outputs": [],
   "source": [
    "def detectors(detector_data: pd.DataFrame):\n",
    "    n = len(detector_data)\n",
    "    nodes = []\n",
    "    edges = []\n",
    "\n",
    "    for i in range(n):\n",
    "        detector = detector_data.iloc[i]\n",
    "        name = detector[\"Detector\"]\n",
    "        system = detector[\"Category\"]\n",
    "        properties = {\n",
    "                      \"sample data\": detector[\"Data (bytes)\"],\n",
    "                      \"sample rate\": detector[\"Sample Rate\"],\n",
    "                      \"error matrix\": entry_to_confusion(detector),\n",
    "                      \"reduction\": 1.0 - detector[\"Compression\"],\n",
    "                      \"complexity\": lambda x: x,\n",
    "                      }\n",
    "        nodes.append((name, properties))\n",
    "        edges.append((name, system))\n",
    "\n",
    "    return nodes, edges"
   ]
  },
  {
   "cell_type": "code",
   "execution_count": null,
   "metadata": {},
   "outputs": [],
   "source": [
    "def triggers(trigger_data: pd.DataFrame):\n",
    "    n = len(trigger_data)\n",
    "    edges = []\n",
    "    triggers = []\n",
    "\n",
    "    for i in range(n):\n",
    "        trigger = trigger_data.iloc[i]\n",
    "        name = trigger[\"Name\"]\n",
    "        properties = {\n",
    "            \"error matrix\": entry_to_confusion(trigger),\n",
    "            \"reduction\": 1.0 - trigger[\"Compression\"],\n",
    "            \"sample data\": trigger[\"Data (bytes)\"],\n",
    "        }\n",
    "        triggers.append((name, properties))\n",
    "\n",
    "        output = trigger[\"Output\"]\n",
    "        if not pd.isna(output):\n",
    "            edge = (trigger[\"Name\"], trigger[\"Output\"])\n",
    "            edges.append(edge)\n",
    "\n",
    "    return triggers, edges"
   ]
  },
  {
   "cell_type": "code",
   "execution_count": null,
   "metadata": {},
   "outputs": [],
   "source": [
    "def identify_root(graph: nx.classes.digraph):\n",
    "    od = list(graph.out_degree)\n",
    "    roots = list(filter(lambda x: x[1] == 0, od))\n",
    "    assert len(roots) == 1, \"More than 1 root identified\"\n",
    "    return roots[0]\n"
   ]
  },
  {
   "cell_type": "code",
   "execution_count": null,
   "metadata": {},
   "outputs": [],
   "source": [
    "def construct_graph(detector_data: pd.DataFrame, trigger_data: pd.DataFrame):\n",
    "    g = nx.DiGraph()\n",
    "    #add the nodes for detectors\n",
    "    detector_nodes, detector_edges = detectors(detector_data)\n",
    "    g.add_nodes_from(detector_nodes)\n",
    "    #add the nodes for trigger systems\n",
    "    trigger_nodes, trigger_edges = triggers(trigger_data)\n",
    "    g.add_nodes_from(trigger_nodes)\n",
    "    #connect the systems\n",
    "    g.add_edges_from(detector_edges)\n",
    "    g.add_edges_from(trigger_edges)\n",
    "    #identify the final (root) node\n",
    "    root = identify_root(g)\n",
    "    g.graph[\"Root Node\"] = root[0]\n",
    "    return g\n",
    "\n",
    "    globals = measure(g)\n",
    "    for k, v in globals:\n",
    "        g[k] = v\n",
    "\n",
    "    return g, globals\n"
   ]
  },
  {
   "cell_type": "code",
   "execution_count": null,
   "metadata": {},
   "outputs": [],
   "source": [
    "cms_pu140 = construct_graph(detectors_run4, triggers_run4)"
   ]
  },
  {
   "cell_type": "code",
   "execution_count": null,
   "metadata": {},
   "outputs": [
    {
     "data": {
      "text/plain": [
       "OutEdgeView([('Inner Tracker', 'Tracking'), ('Outer Tracker PS', 'Tracking'), ('Outer Tracker 2S', 'Tracking'), ('Track Finder TPG', 'Tracking'), ('MIP Timing BTL', 'Timing'), ('MIP Timing ETL', 'Timing'), ('ECAL Barrel', 'Calorimetry'), ('HCAL Barrel', 'Calorimetry'), ('HCAL HO', 'Calorimetry'), ('HCAL HF', 'Calorimetry'), ('HGCAL', 'Calorimetry'), ('HGCAL TPG Stage1', 'Calorimetry'), ('HGCAL TPG Stage2', 'Calorimetry'), ('Muon DT', 'Muon'), ('Muon CSC', 'Muon'), ('Muon GEM GE1', 'Muon'), ('Muon GEM GE2', 'Muon'), ('Muon GEM ME0', 'Muon'), ('Muon RPC', 'Muon'), ('Tracking', 'Intermediate'), ('Timing', 'Intermediate'), ('Calorimetry', 'Intermediate'), ('Muon', 'Intermediate'), ('Intermediate', 'Global'), ('Global', 'Disk')])"
      ]
     },
     "execution_count": 11,
     "metadata": {},
     "output_type": "execute_result"
    }
   ],
   "source": [
    "cms_pu140.edges"
   ]
  },
  {
   "cell_type": "code",
   "execution_count": null,
   "metadata": {},
   "outputs": [
    {
     "data": {
      "text/plain": [
       "{}"
      ]
     },
     "execution_count": 12,
     "metadata": {},
     "output_type": "execute_result"
    }
   ],
   "source": [
    "cms_pu140.edges[(\"Inner Tracker\", \"Tracking\")]"
   ]
  },
  {
   "cell_type": "code",
   "execution_count": null,
   "metadata": {},
   "outputs": [
    {
     "data": {
      "text/plain": [
       "['Inner Tracker',\n",
       " 'Outer Tracker PS',\n",
       " 'Outer Tracker 2S',\n",
       " 'Track Finder TPG',\n",
       " 'MIP Timing BTL',\n",
       " 'MIP Timing ETL',\n",
       " 'ECAL Barrel',\n",
       " 'HCAL Barrel',\n",
       " 'HCAL HO',\n",
       " 'HCAL HF',\n",
       " 'HGCAL',\n",
       " 'HGCAL TPG Stage1',\n",
       " 'HGCAL TPG Stage2',\n",
       " 'Muon DT',\n",
       " 'Muon CSC',\n",
       " 'Muon GEM GE1',\n",
       " 'Muon GEM GE2',\n",
       " 'Muon GEM ME0',\n",
       " 'Muon RPC',\n",
       " 'Tracking',\n",
       " 'Timing',\n",
       " 'Calorimetry',\n",
       " 'Muon',\n",
       " 'Intermediate',\n",
       " 'Global',\n",
       " 'Disk']"
      ]
     },
     "execution_count": 13,
     "metadata": {},
     "output_type": "execute_result"
    }
   ],
   "source": [
    "list(cms_pu140.nodes)"
   ]
  },
  {
   "cell_type": "code",
   "execution_count": null,
   "metadata": {},
   "outputs": [
    {
     "data": {
      "text/plain": [
       "'Disk'"
      ]
     },
     "execution_count": 14,
     "metadata": {},
     "output_type": "execute_result"
    }
   ],
   "source": [
    "cms_pu140.graph[\"Root Node\"]"
   ]
  },
  {
   "cell_type": "code",
   "execution_count": null,
   "metadata": {},
   "outputs": [
    {
     "data": {
      "text/plain": [
       "{'sample data': 1010000,\n",
       " 'sample rate': 40000000,\n",
       " 'error matrix': array([[0, 0],\n",
       "        [0, 1]]),\n",
       " 'reduction': 1.0,\n",
       " 'complexity': <function __main__.detectors.<locals>.<lambda>(x)>}"
      ]
     },
     "execution_count": 15,
     "metadata": {},
     "output_type": "execute_result"
    }
   ],
   "source": [
    "cms_pu140.nodes[\"Inner Tracker\"]"
   ]
  },
  {
   "cell_type": "code",
   "execution_count": null,
   "metadata": {},
   "outputs": [
    {
     "data": {
      "text/plain": [
       "{}"
      ]
     },
     "execution_count": 16,
     "metadata": {},
     "output_type": "execute_result"
    }
   ],
   "source": [
    "cms_pu140.edges[(\"Inner Tracker\", \"Tracking\")]"
   ]
  },
  {
   "cell_type": "code",
   "execution_count": null,
   "metadata": {},
   "outputs": [
    {
     "data": {
      "text/plain": [
       "{'error matrix': array([[0, 0],\n",
       "        [0, 1]]),\n",
       " 'reduction': 1.0,\n",
       " 'sample data': 0}"
      ]
     },
     "execution_count": 17,
     "metadata": {},
     "output_type": "execute_result"
    }
   ],
   "source": [
    "cms_pu140.nodes[\"Tracking\"]"
   ]
  },
  {
   "cell_type": "code",
   "execution_count": null,
   "metadata": {},
   "outputs": [
    {
     "data": {
      "text/plain": [
       "{}"
      ]
     },
     "execution_count": 18,
     "metadata": {},
     "output_type": "execute_result"
    }
   ],
   "source": [
    "cms_pu140.edges[(\"Tracking\", \"Intermediate\")]"
   ]
  },
  {
   "cell_type": "code",
   "execution_count": null,
   "metadata": {},
   "outputs": [
    {
     "data": {
      "text/plain": [
       "{'error matrix': array([[0, 0],\n",
       "        [0, 1]]),\n",
       " 'reduction': 1.0,\n",
       " 'sample data': 0}"
      ]
     },
     "execution_count": 19,
     "metadata": {},
     "output_type": "execute_result"
    }
   ],
   "source": [
    "cms_pu140.nodes[\"Disk\"]"
   ]
  },
  {
   "cell_type": "code",
   "execution_count": null,
   "metadata": {},
   "outputs": [],
   "source": [
    "def message_size(graph: nx.classes.digraph, node: str):\n",
    "    \"\"\"\n",
    "    Return the total size of a message processed by a node\n",
    "    \"\"\"\n",
    "    inputs = list(graph.predecessors(node))\n",
    "    input_data = sum([message_size(graph, n) for n in inputs])\n",
    "    this_node = graph.nodes[node]\n",
    "    if \"sample data\" in this_node:\n",
    "        total = input_data + this_node[\"sample data\"]\n",
    "    else:\n",
    "        total = input_data\n",
    "\n",
    "    total = total * this_node[\"reduction\"]\n",
    "    this_node[\"message size\"] = total\n",
    "    return total\n"
   ]
  },
  {
   "cell_type": "code",
   "execution_count": null,
   "metadata": {},
   "outputs": [],
   "source": [
    "def classifier_rate(error_matrix: np.ndarray):\n",
    "        \"\"\"\n",
    "        Return the negative / positive classification rate from an error matrix\n",
    "        \"\"\"\n",
    "        rates = np.einsum(\"ab,a -> a\", error_matrix, np.array([1, 1]))\n",
    "        return rates / rates.sum()"
   ]
  },
  {
   "cell_type": "code",
   "execution_count": null,
   "metadata": {},
   "outputs": [
    {
     "data": {
      "text/plain": [
       "array([39900000.,   100000.])"
      ]
     },
     "execution_count": 23,
     "metadata": {},
     "output_type": "execute_result"
    }
   ],
   "source": [
    "classifier_rate(cms_pu140.nodes[\"Intermediate\"][\"error matrix\"]) * 40e6"
   ]
  },
  {
   "cell_type": "code",
   "execution_count": null,
   "metadata": {},
   "outputs": [],
   "source": [
    "def message_rate(graph: nx.classes.digraph, node: str):\n",
    "    \"\"\"\n",
    "    Return the rate of messages produced by a node\n",
    "    \"\"\"\n",
    "    this_node = graph.nodes[node]\n",
    "    if \"sample rate\" in this_node:\n",
    "        #get the sampling rate of a detector\n",
    "        input_rate = this_node[\"sample rate\"]\n",
    "    else:\n",
    "        #or take the maximum rate of the inputs\n",
    "        inputs = list(graph.predecessors(node))\n",
    "        assert len(inputs) > 0, \"Missing sample rate from detector or isolated node\"\n",
    "        input_rate = max([message_rate(graph, n) for n in inputs])\n",
    "    \n",
    "    output_rate = classifier_rate(this_node[\"error matrix\"])[1] * input_rate\n",
    "    this_node[\"message rate\"] = output_rate\n",
    "    return output_rate "
   ]
  },
  {
   "cell_type": "code",
   "execution_count": null,
   "metadata": {},
   "outputs": [],
   "source": [
    "g1 = cms_pu140.copy()"
   ]
  },
  {
   "cell_type": "code",
   "execution_count": null,
   "metadata": {},
   "outputs": [],
   "source": [
    "g2 = message_size(g1, \"Disk\")"
   ]
  },
  {
   "cell_type": "code",
   "execution_count": null,
   "metadata": {},
   "outputs": [],
   "source": [
    "g3 = message_rate(g1, \"Disk\")"
   ]
  },
  {
   "cell_type": "code",
   "execution_count": null,
   "metadata": {},
   "outputs": [
    {
     "data": {
      "text/plain": [
       "{'error matrix': array([[0, 0],\n",
       "        [0, 1]]),\n",
       " 'reduction': 1.0,\n",
       " 'sample data': 0,\n",
       " 'message size': 1820000.0,\n",
       " 'message rate': 40000000.0}"
      ]
     },
     "execution_count": 46,
     "metadata": {},
     "output_type": "execute_result"
    }
   ],
   "source": [
    "g1.nodes[\"Tracking\"]"
   ]
  },
  {
   "cell_type": "code",
   "execution_count": null,
   "metadata": {},
   "outputs": [
    {
     "data": {
      "text/plain": [
       "True"
      ]
     },
     "execution_count": 51,
     "metadata": {},
     "output_type": "execute_result"
    }
   ],
   "source": [
    "\"message rate\" in g1.nodes[\"Tracking\"]"
   ]
  },
  {
   "cell_type": "code",
   "execution_count": null,
   "metadata": {},
   "outputs": [],
   "source": [
    "for node in g1.nodes:\n",
    "    if not \"message rate\" in g1.nodes[node]:\n",
    "        print(node)"
   ]
  },
  {
   "cell_type": "code",
   "execution_count": null,
   "metadata": {},
   "outputs": [],
   "source": [
    "for node in g1.nodes:\n",
    "    if not \"message rate\" in g1.nodes[node]:\n",
    "        print(node)"
   ]
  },
  {
   "cell_type": "code",
   "execution_count": null,
   "metadata": {},
   "outputs": [],
   "source": [
    "link_throughput(g1)"
   ]
  },
  {
   "cell_type": "code",
   "execution_count": null,
   "metadata": {},
   "outputs": [
    {
     "data": {
      "text/plain": [
       "{'throughput': 609300000000.0}"
      ]
     },
     "execution_count": 57,
     "metadata": {},
     "output_type": "execute_result"
    }
   ],
   "source": [
    "g1.edges[(\"Intermediate\", \"Global\")]"
   ]
  },
  {
   "cell_type": "code",
   "execution_count": null,
   "metadata": {},
   "outputs": [
    {
     "data": {
      "text/plain": [
       "{'throughput': 30465000000.0}"
      ]
     },
     "execution_count": 58,
     "metadata": {},
     "output_type": "execute_result"
    }
   ],
   "source": [
    "g1.edges[(\"Global\", \"Disk\")]"
   ]
  },
  {
   "cell_type": "code",
   "execution_count": null,
   "metadata": {},
   "outputs": [],
   "source": [
    "def link_throughput(graph: nx.classes.digraph):\n",
    "    def calc_throughput(edge):\n",
    "        input_node = graph.nodes[edge[0]]\n",
    "        throughput = input_node[\"message size\"] * input_node[\"message rate\"]\n",
    "        graph.edges[edge][\"throughput\"] = throughput\n",
    "\n",
    "    list(map(calc_throughput, graph.edges))"
   ]
  },
  {
   "cell_type": "code",
   "execution_count": null,
   "metadata": {},
   "outputs": [
    {
     "data": {
      "text/plain": [
       "{}"
      ]
     },
     "execution_count": 33,
     "metadata": {},
     "output_type": "execute_result"
    }
   ],
   "source": [
    "g1.edges[(\"Intermediate\", \"Global\")]"
   ]
  },
  {
   "cell_type": "code",
   "execution_count": null,
   "metadata": {},
   "outputs": [],
   "source": [
    "def update_throughput(graph: nx.classes.digraph):\n",
    "    graph = graph.copy()\n",
    "    #call the recursive update function on the root node\n",
    "    root = graph.graph[\"Root Node\"]\n",
    "    message_size(graph, root)\n",
    "    message_rate(graph, root)\n",
    "    link_throughput(graph)\n",
    "    \n",
    "    return graph\n",
    "    "
   ]
  },
  {
   "cell_type": "code",
   "execution_count": null,
   "metadata": {},
   "outputs": [
    {
     "data": {
      "text/plain": [
       "5000.0"
      ]
     },
     "execution_count": 29,
     "metadata": {},
     "output_type": "execute_result"
    }
   ],
   "source": [
    "message_rate(g1, \"Disk\")"
   ]
  },
  {
   "cell_type": "code",
   "execution_count": null,
   "metadata": {},
   "outputs": [
    {
     "data": {
      "image/png": "[encoded data removed]",
      "text/plain": [
       "<Figure size 640x480 with 1 Axes>"
      ]
     },
     "metadata": {},
     "output_type": "display_data"
    }
   ],
   "source": [
    "subax1 = plt.subplot(111)\n",
    "nx.draw_planar(cms_pu140, with_labels=True)"
   ]
  },
  {
   "cell_type": "code",
   "execution_count": null,
   "metadata": {},
   "outputs": [],
   "source": []
  },
  {
   "cell_type": "code",
   "execution_count": null,
   "metadata": {},
   "outputs": [],
   "source": []
  }
 ],
 "metadata": {
  "kernelspec": {
   "display_name": "jax",
   "language": "python",
   "name": "python3"
  },
  "language_info": {
   "codemirror_mode": {
    "name": "ipython",
    "version": 3
   },
   "file_extension": ".py",
   "mimetype": "text/x-python",
   "name": "python",
   "nbconvert_exporter": "python",
   "pygments_lexer": "ipython3",
   "version": "3.10.4"
  }
 },
 "nbformat": 4,
 "nbformat_minor": 2
}
