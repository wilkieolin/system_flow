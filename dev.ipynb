{
 "cells": [
  {
   "cell_type": "code",
   "execution_count": 1,
   "metadata": {},
   "outputs": [],
   "source": [
    "import networkx as nx\n",
    "import numpy as np\n",
    "import pandas as pd\n",
    "import matplotlib.pyplot as plt"
   ]
  },
  {
   "cell_type": "code",
   "execution_count": 2,
   "metadata": {},
   "outputs": [],
   "source": [
    "detectors_run4 = pd.read_excel(\"cms_system_140.xlsx\", sheet_name=\"Detectors\")\n",
    "triggers_run4 = pd.read_excel(\"cms_system_140.xlsx\", sheet_name=\"Triggers\")"
   ]
  },
  {
   "cell_type": "code",
   "execution_count": 3,
   "metadata": {},
   "outputs": [
    {
     "data": {
      "text/html": [
       "<div>\n",
       "<style scoped>\n",
       "    .dataframe tbody tr th:only-of-type {\n",
       "        vertical-align: middle;\n",
       "    }\n",
       "\n",
       "    .dataframe tbody tr th {\n",
       "        vertical-align: top;\n",
       "    }\n",
       "\n",
       "    .dataframe thead th {\n",
       "        text-align: right;\n",
       "    }\n",
       "</style>\n",
       "<table border=\"1\" class=\"dataframe\">\n",
       "  <thead>\n",
       "    <tr style=\"text-align: right;\">\n",
       "      <th></th>\n",
       "      <th>Category</th>\n",
       "      <th>Detector</th>\n",
       "      <th>Data (bytes)</th>\n",
       "      <th>Sample Rate</th>\n",
       "      <th>True Pass</th>\n",
       "      <th>True Discard</th>\n",
       "      <th>False Pass (alpha)</th>\n",
       "      <th>False Discard (beta)</th>\n",
       "      <th>Compression</th>\n",
       "      <th>PU 140</th>\n",
       "      <th>PU 200</th>\n",
       "    </tr>\n",
       "  </thead>\n",
       "  <tbody>\n",
       "    <tr>\n",
       "      <th>0</th>\n",
       "      <td>Tracking</td>\n",
       "      <td>Inner Tracker</td>\n",
       "      <td>1010000</td>\n",
       "      <td>40000000</td>\n",
       "      <td>1</td>\n",
       "      <td>0</td>\n",
       "      <td>0</td>\n",
       "      <td>0</td>\n",
       "      <td>0</td>\n",
       "      <td>1.010</td>\n",
       "      <td>1.440</td>\n",
       "    </tr>\n",
       "    <tr>\n",
       "      <th>1</th>\n",
       "      <td>Tracking</td>\n",
       "      <td>Outer Tracker PS</td>\n",
       "      <td>500000</td>\n",
       "      <td>40000000</td>\n",
       "      <td>1</td>\n",
       "      <td>0</td>\n",
       "      <td>0</td>\n",
       "      <td>0</td>\n",
       "      <td>0</td>\n",
       "      <td>0.500</td>\n",
       "      <td>0.720</td>\n",
       "    </tr>\n",
       "    <tr>\n",
       "      <th>2</th>\n",
       "      <td>Tracking</td>\n",
       "      <td>Outer Tracker 2S</td>\n",
       "      <td>300000</td>\n",
       "      <td>40000000</td>\n",
       "      <td>1</td>\n",
       "      <td>0</td>\n",
       "      <td>0</td>\n",
       "      <td>0</td>\n",
       "      <td>0</td>\n",
       "      <td>0.300</td>\n",
       "      <td>0.430</td>\n",
       "    </tr>\n",
       "    <tr>\n",
       "      <th>3</th>\n",
       "      <td>Tracking</td>\n",
       "      <td>Track Finder TPG</td>\n",
       "      <td>10000</td>\n",
       "      <td>40000000</td>\n",
       "      <td>1</td>\n",
       "      <td>0</td>\n",
       "      <td>0</td>\n",
       "      <td>0</td>\n",
       "      <td>0</td>\n",
       "      <td>0.010</td>\n",
       "      <td>0.010</td>\n",
       "    </tr>\n",
       "    <tr>\n",
       "      <th>4</th>\n",
       "      <td>Timing</td>\n",
       "      <td>MIP Timing BTL</td>\n",
       "      <td>170000</td>\n",
       "      <td>40000000</td>\n",
       "      <td>1</td>\n",
       "      <td>0</td>\n",
       "      <td>0</td>\n",
       "      <td>0</td>\n",
       "      <td>0</td>\n",
       "      <td>0.170</td>\n",
       "      <td>0.240</td>\n",
       "    </tr>\n",
       "    <tr>\n",
       "      <th>5</th>\n",
       "      <td>Timing</td>\n",
       "      <td>MIP Timing ETL</td>\n",
       "      <td>310000</td>\n",
       "      <td>40000000</td>\n",
       "      <td>1</td>\n",
       "      <td>0</td>\n",
       "      <td>0</td>\n",
       "      <td>0</td>\n",
       "      <td>0</td>\n",
       "      <td>0.310</td>\n",
       "      <td>0.440</td>\n",
       "    </tr>\n",
       "    <tr>\n",
       "      <th>6</th>\n",
       "      <td>Calorimetry</td>\n",
       "      <td>ECAL Barrel</td>\n",
       "      <td>420000</td>\n",
       "      <td>40000000</td>\n",
       "      <td>1</td>\n",
       "      <td>0</td>\n",
       "      <td>0</td>\n",
       "      <td>0</td>\n",
       "      <td>0</td>\n",
       "      <td>0.420</td>\n",
       "      <td>0.600</td>\n",
       "    </tr>\n",
       "    <tr>\n",
       "      <th>7</th>\n",
       "      <td>Calorimetry</td>\n",
       "      <td>HCAL Barrel</td>\n",
       "      <td>240000</td>\n",
       "      <td>40000000</td>\n",
       "      <td>1</td>\n",
       "      <td>0</td>\n",
       "      <td>0</td>\n",
       "      <td>0</td>\n",
       "      <td>0</td>\n",
       "      <td>0.240</td>\n",
       "      <td>0.240</td>\n",
       "    </tr>\n",
       "    <tr>\n",
       "      <th>8</th>\n",
       "      <td>Calorimetry</td>\n",
       "      <td>HCAL HO</td>\n",
       "      <td>30000</td>\n",
       "      <td>40000000</td>\n",
       "      <td>1</td>\n",
       "      <td>0</td>\n",
       "      <td>0</td>\n",
       "      <td>0</td>\n",
       "      <td>0</td>\n",
       "      <td>0.030</td>\n",
       "      <td>0.030</td>\n",
       "    </tr>\n",
       "    <tr>\n",
       "      <th>9</th>\n",
       "      <td>Calorimetry</td>\n",
       "      <td>HCAL HF</td>\n",
       "      <td>60000</td>\n",
       "      <td>40000000</td>\n",
       "      <td>1</td>\n",
       "      <td>0</td>\n",
       "      <td>0</td>\n",
       "      <td>0</td>\n",
       "      <td>0</td>\n",
       "      <td>0.060</td>\n",
       "      <td>0.060</td>\n",
       "    </tr>\n",
       "    <tr>\n",
       "      <th>10</th>\n",
       "      <td>Calorimetry</td>\n",
       "      <td>HGCAL</td>\n",
       "      <td>2100000</td>\n",
       "      <td>40000000</td>\n",
       "      <td>1</td>\n",
       "      <td>0</td>\n",
       "      <td>0</td>\n",
       "      <td>0</td>\n",
       "      <td>0</td>\n",
       "      <td>2.100</td>\n",
       "      <td>3.000</td>\n",
       "    </tr>\n",
       "    <tr>\n",
       "      <th>11</th>\n",
       "      <td>Calorimetry</td>\n",
       "      <td>HGCAL TPG Stage1</td>\n",
       "      <td>110000</td>\n",
       "      <td>40000000</td>\n",
       "      <td>1</td>\n",
       "      <td>0</td>\n",
       "      <td>0</td>\n",
       "      <td>0</td>\n",
       "      <td>0</td>\n",
       "      <td>0.110</td>\n",
       "      <td>0.150</td>\n",
       "    </tr>\n",
       "    <tr>\n",
       "      <th>12</th>\n",
       "      <td>Calorimetry</td>\n",
       "      <td>HGCAL TPG Stage2</td>\n",
       "      <td>40000</td>\n",
       "      <td>40000000</td>\n",
       "      <td>1</td>\n",
       "      <td>0</td>\n",
       "      <td>0</td>\n",
       "      <td>0</td>\n",
       "      <td>0</td>\n",
       "      <td>0.040</td>\n",
       "      <td>0.050</td>\n",
       "    </tr>\n",
       "    <tr>\n",
       "      <th>13</th>\n",
       "      <td>Muon</td>\n",
       "      <td>Muon DT</td>\n",
       "      <td>110000</td>\n",
       "      <td>40000000</td>\n",
       "      <td>1</td>\n",
       "      <td>0</td>\n",
       "      <td>0</td>\n",
       "      <td>0</td>\n",
       "      <td>0</td>\n",
       "      <td>0.110</td>\n",
       "      <td>0.150</td>\n",
       "    </tr>\n",
       "    <tr>\n",
       "      <th>14</th>\n",
       "      <td>Muon</td>\n",
       "      <td>Muon CSC</td>\n",
       "      <td>330000</td>\n",
       "      <td>40000000</td>\n",
       "      <td>1</td>\n",
       "      <td>0</td>\n",
       "      <td>0</td>\n",
       "      <td>0</td>\n",
       "      <td>0</td>\n",
       "      <td>0.330</td>\n",
       "      <td>0.470</td>\n",
       "    </tr>\n",
       "    <tr>\n",
       "      <th>15</th>\n",
       "      <td>Muon</td>\n",
       "      <td>Muon GEM GE1</td>\n",
       "      <td>2000</td>\n",
       "      <td>40000000</td>\n",
       "      <td>1</td>\n",
       "      <td>0</td>\n",
       "      <td>0</td>\n",
       "      <td>0</td>\n",
       "      <td>0</td>\n",
       "      <td>0.002</td>\n",
       "      <td>0.003</td>\n",
       "    </tr>\n",
       "    <tr>\n",
       "      <th>16</th>\n",
       "      <td>Muon</td>\n",
       "      <td>Muon GEM GE2</td>\n",
       "      <td>1000</td>\n",
       "      <td>40000000</td>\n",
       "      <td>1</td>\n",
       "      <td>0</td>\n",
       "      <td>0</td>\n",
       "      <td>0</td>\n",
       "      <td>0</td>\n",
       "      <td>0.001</td>\n",
       "      <td>0.002</td>\n",
       "    </tr>\n",
       "    <tr>\n",
       "      <th>17</th>\n",
       "      <td>Muon</td>\n",
       "      <td>Muon GEM ME0</td>\n",
       "      <td>80000</td>\n",
       "      <td>40000000</td>\n",
       "      <td>1</td>\n",
       "      <td>0</td>\n",
       "      <td>0</td>\n",
       "      <td>0</td>\n",
       "      <td>0</td>\n",
       "      <td>0.080</td>\n",
       "      <td>0.120</td>\n",
       "    </tr>\n",
       "    <tr>\n",
       "      <th>18</th>\n",
       "      <td>Muon</td>\n",
       "      <td>Muon RPC</td>\n",
       "      <td>10000</td>\n",
       "      <td>40000000</td>\n",
       "      <td>1</td>\n",
       "      <td>0</td>\n",
       "      <td>0</td>\n",
       "      <td>0</td>\n",
       "      <td>0</td>\n",
       "      <td>0.010</td>\n",
       "      <td>0.010</td>\n",
       "    </tr>\n",
       "  </tbody>\n",
       "</table>\n",
       "</div>"
      ],
      "text/plain": [
       "       Category          Detector  Data (bytes)  Sample Rate  True Pass  \\\n",
       "0      Tracking     Inner Tracker       1010000     40000000          1   \n",
       "1      Tracking  Outer Tracker PS        500000     40000000          1   \n",
       "2      Tracking  Outer Tracker 2S        300000     40000000          1   \n",
       "3      Tracking  Track Finder TPG         10000     40000000          1   \n",
       "4        Timing    MIP Timing BTL        170000     40000000          1   \n",
       "5        Timing    MIP Timing ETL        310000     40000000          1   \n",
       "6   Calorimetry       ECAL Barrel        420000     40000000          1   \n",
       "7   Calorimetry       HCAL Barrel        240000     40000000          1   \n",
       "8   Calorimetry           HCAL HO         30000     40000000          1   \n",
       "9   Calorimetry           HCAL HF         60000     40000000          1   \n",
       "10  Calorimetry             HGCAL       2100000     40000000          1   \n",
       "11  Calorimetry  HGCAL TPG Stage1        110000     40000000          1   \n",
       "12  Calorimetry  HGCAL TPG Stage2         40000     40000000          1   \n",
       "13         Muon           Muon DT        110000     40000000          1   \n",
       "14         Muon          Muon CSC        330000     40000000          1   \n",
       "15         Muon      Muon GEM GE1          2000     40000000          1   \n",
       "16         Muon      Muon GEM GE2          1000     40000000          1   \n",
       "17         Muon      Muon GEM ME0         80000     40000000          1   \n",
       "18         Muon          Muon RPC         10000     40000000          1   \n",
       "\n",
       "    True Discard  False Pass (alpha)  False Discard (beta)  Compression  \\\n",
       "0              0                   0                     0            0   \n",
       "1              0                   0                     0            0   \n",
       "2              0                   0                     0            0   \n",
       "3              0                   0                     0            0   \n",
       "4              0                   0                     0            0   \n",
       "5              0                   0                     0            0   \n",
       "6              0                   0                     0            0   \n",
       "7              0                   0                     0            0   \n",
       "8              0                   0                     0            0   \n",
       "9              0                   0                     0            0   \n",
       "10             0                   0                     0            0   \n",
       "11             0                   0                     0            0   \n",
       "12             0                   0                     0            0   \n",
       "13             0                   0                     0            0   \n",
       "14             0                   0                     0            0   \n",
       "15             0                   0                     0            0   \n",
       "16             0                   0                     0            0   \n",
       "17             0                   0                     0            0   \n",
       "18             0                   0                     0            0   \n",
       "\n",
       "    PU 140  PU 200  \n",
       "0    1.010   1.440  \n",
       "1    0.500   0.720  \n",
       "2    0.300   0.430  \n",
       "3    0.010   0.010  \n",
       "4    0.170   0.240  \n",
       "5    0.310   0.440  \n",
       "6    0.420   0.600  \n",
       "7    0.240   0.240  \n",
       "8    0.030   0.030  \n",
       "9    0.060   0.060  \n",
       "10   2.100   3.000  \n",
       "11   0.110   0.150  \n",
       "12   0.040   0.050  \n",
       "13   0.110   0.150  \n",
       "14   0.330   0.470  \n",
       "15   0.002   0.003  \n",
       "16   0.001   0.002  \n",
       "17   0.080   0.120  \n",
       "18   0.010   0.010  "
      ]
     },
     "execution_count": 3,
     "metadata": {},
     "output_type": "execute_result"
    }
   ],
   "source": [
    "detectors_run4"
   ]
  },
  {
   "cell_type": "code",
   "execution_count": 4,
   "metadata": {},
   "outputs": [
    {
     "data": {
      "text/html": [
       "<div>\n",
       "<style scoped>\n",
       "    .dataframe tbody tr th:only-of-type {\n",
       "        vertical-align: middle;\n",
       "    }\n",
       "\n",
       "    .dataframe tbody tr th {\n",
       "        vertical-align: top;\n",
       "    }\n",
       "\n",
       "    .dataframe thead th {\n",
       "        text-align: right;\n",
       "    }\n",
       "</style>\n",
       "<table border=\"1\" class=\"dataframe\">\n",
       "  <thead>\n",
       "    <tr style=\"text-align: right;\">\n",
       "      <th></th>\n",
       "      <th>Output</th>\n",
       "      <th>Name</th>\n",
       "      <th>Data (bytes)</th>\n",
       "      <th>True Pass</th>\n",
       "      <th>True Discard</th>\n",
       "      <th>False Pass (alpha)</th>\n",
       "      <th>False Discard (beta)</th>\n",
       "      <th>Compression</th>\n",
       "      <th>PU 140</th>\n",
       "      <th>PU 200</th>\n",
       "    </tr>\n",
       "  </thead>\n",
       "  <tbody>\n",
       "    <tr>\n",
       "      <th>0</th>\n",
       "      <td>Intermediate</td>\n",
       "      <td>Tracking</td>\n",
       "      <td>0</td>\n",
       "      <td>1</td>\n",
       "      <td>0</td>\n",
       "      <td>0</td>\n",
       "      <td>0</td>\n",
       "      <td>0</td>\n",
       "      <td>NaN</td>\n",
       "      <td>NaN</td>\n",
       "    </tr>\n",
       "    <tr>\n",
       "      <th>1</th>\n",
       "      <td>Intermediate</td>\n",
       "      <td>Timing</td>\n",
       "      <td>0</td>\n",
       "      <td>1</td>\n",
       "      <td>0</td>\n",
       "      <td>0</td>\n",
       "      <td>0</td>\n",
       "      <td>0</td>\n",
       "      <td>NaN</td>\n",
       "      <td>NaN</td>\n",
       "    </tr>\n",
       "    <tr>\n",
       "      <th>2</th>\n",
       "      <td>Intermediate</td>\n",
       "      <td>Calorimetry</td>\n",
       "      <td>0</td>\n",
       "      <td>1</td>\n",
       "      <td>0</td>\n",
       "      <td>0</td>\n",
       "      <td>0</td>\n",
       "      <td>0</td>\n",
       "      <td>NaN</td>\n",
       "      <td>NaN</td>\n",
       "    </tr>\n",
       "    <tr>\n",
       "      <th>3</th>\n",
       "      <td>Intermediate</td>\n",
       "      <td>Muon</td>\n",
       "      <td>0</td>\n",
       "      <td>1</td>\n",
       "      <td>0</td>\n",
       "      <td>0</td>\n",
       "      <td>0</td>\n",
       "      <td>0</td>\n",
       "      <td>NaN</td>\n",
       "      <td>NaN</td>\n",
       "    </tr>\n",
       "    <tr>\n",
       "      <th>4</th>\n",
       "      <td>Global</td>\n",
       "      <td>Intermediate</td>\n",
       "      <td>260000</td>\n",
       "      <td>1</td>\n",
       "      <td>399</td>\n",
       "      <td>0</td>\n",
       "      <td>0</td>\n",
       "      <td>0</td>\n",
       "      <td>0.26</td>\n",
       "      <td>0.26</td>\n",
       "    </tr>\n",
       "    <tr>\n",
       "      <th>5</th>\n",
       "      <td>Disk</td>\n",
       "      <td>Global</td>\n",
       "      <td>0</td>\n",
       "      <td>1</td>\n",
       "      <td>19</td>\n",
       "      <td>0</td>\n",
       "      <td>0</td>\n",
       "      <td>0</td>\n",
       "      <td>NaN</td>\n",
       "      <td>NaN</td>\n",
       "    </tr>\n",
       "    <tr>\n",
       "      <th>6</th>\n",
       "      <td>NaN</td>\n",
       "      <td>Disk</td>\n",
       "      <td>0</td>\n",
       "      <td>1</td>\n",
       "      <td>0</td>\n",
       "      <td>0</td>\n",
       "      <td>0</td>\n",
       "      <td>0</td>\n",
       "      <td>NaN</td>\n",
       "      <td>NaN</td>\n",
       "    </tr>\n",
       "  </tbody>\n",
       "</table>\n",
       "</div>"
      ],
      "text/plain": [
       "         Output          Name  Data (bytes)  True Pass  True Discard  \\\n",
       "0  Intermediate      Tracking             0          1             0   \n",
       "1  Intermediate        Timing             0          1             0   \n",
       "2  Intermediate   Calorimetry             0          1             0   \n",
       "3  Intermediate          Muon             0          1             0   \n",
       "4        Global  Intermediate        260000          1           399   \n",
       "5          Disk        Global             0          1            19   \n",
       "6           NaN          Disk             0          1             0   \n",
       "\n",
       "   False Pass (alpha)  False Discard (beta)  Compression  PU 140  PU 200  \n",
       "0                   0                     0            0     NaN     NaN  \n",
       "1                   0                     0            0     NaN     NaN  \n",
       "2                   0                     0            0     NaN     NaN  \n",
       "3                   0                     0            0     NaN     NaN  \n",
       "4                   0                     0            0    0.26    0.26  \n",
       "5                   0                     0            0     NaN     NaN  \n",
       "6                   0                     0            0     NaN     NaN  "
      ]
     },
     "execution_count": 4,
     "metadata": {},
     "output_type": "execute_result"
    }
   ],
   "source": [
    "triggers_run4"
   ]
  },
  {
   "cell_type": "code",
   "execution_count": 5,
   "metadata": {},
   "outputs": [],
   "source": [
    "def entry_to_confusion(entry: pd.core.series.Series):\n",
    "    tp = entry[\"True Pass\"]\n",
    "    td = entry[\"True Discard\"]\n",
    "    fp = entry[\"False Pass (alpha)\"]\n",
    "    fd = entry[\"False Discard (beta)\"]\n",
    "\n",
    "    confusion = np.array([[td, fd], [fp, tp]])\n",
    "    return confusion"
   ]
  },
  {
   "cell_type": "code",
   "execution_count": 6,
   "metadata": {},
   "outputs": [],
   "source": [
    "def detectors(detector_data: pd.DataFrame):\n",
    "    n = len(detector_data)\n",
    "    nodes = []\n",
    "    edges = []\n",
    "\n",
    "    for i in range(n):\n",
    "        detector = detector_data.iloc[i]\n",
    "        name = detector[\"Detector\"]\n",
    "        system = detector[\"Category\"]\n",
    "        properties = {\n",
    "                      \"sample data\": detector[\"Data (bytes)\"],\n",
    "                      \"sample rate\": detector[\"Sample Rate\"],\n",
    "                      \"error matrix\": entry_to_confusion(detector),\n",
    "                      \"reduction\": 1.0 - detector[\"Compression\"],\n",
    "                      \"complexity\": lambda x: x,\n",
    "                      }\n",
    "        nodes.append((name, properties))\n",
    "        edges.append((name, system))\n",
    "\n",
    "    return nodes, edges"
   ]
  },
  {
   "cell_type": "code",
   "execution_count": 7,
   "metadata": {},
   "outputs": [],
   "source": [
    "def triggers(trigger_data: pd.DataFrame):\n",
    "    n = len(trigger_data)\n",
    "    edges = []\n",
    "    triggers = []\n",
    "\n",
    "    for i in range(n):\n",
    "        trigger = trigger_data.iloc[i]\n",
    "        name = trigger[\"Name\"]\n",
    "        properties = {\n",
    "            \"error matrix\": entry_to_confusion(trigger),\n",
    "            \"reduction\": 1.0 - trigger[\"Compression\"],\n",
    "            \"sample data\": trigger[\"Data (bytes)\"],\n",
    "        }\n",
    "        triggers.append((name, properties))\n",
    "\n",
    "        output = trigger[\"Output\"]\n",
    "        if not pd.isna(output):\n",
    "            edge = (trigger[\"Name\"], trigger[\"Output\"])\n",
    "            edges.append(edge)\n",
    "\n",
    "    return triggers, edges"
   ]
  },
  {
   "cell_type": "code",
   "execution_count": 8,
   "metadata": {},
   "outputs": [],
   "source": [
    "def identify_root(graph: nx.classes.digraph):\n",
    "    od = list(graph.out_degree)\n",
    "    roots = list(filter(lambda x: x[1] == 0, od))\n",
    "    assert len(roots) == 1, \"More than 1 root identified\"\n",
    "    return roots[0]\n"
   ]
  },
  {
   "cell_type": "code",
   "execution_count": 9,
   "metadata": {},
   "outputs": [],
   "source": [
    "def construct_graph(detector_data: pd.DataFrame, trigger_data: pd.DataFrame):\n",
    "    g = nx.DiGraph()\n",
    "    #add the nodes for detectors\n",
    "    detector_nodes, detector_edges = detectors(detector_data)\n",
    "    g.add_nodes_from(detector_nodes)\n",
    "    #add the nodes for trigger systems\n",
    "    trigger_nodes, trigger_edges = triggers(trigger_data)\n",
    "    g.add_nodes_from(trigger_nodes)\n",
    "    #connect the systems\n",
    "    g.add_edges_from(detector_edges)\n",
    "    g.add_edges_from(trigger_edges)\n",
    "    #identify the final (root) node\n",
    "    root = identify_root(g)\n",
    "    g.graph[\"Root Node\"] = root[0]\n",
    "    return g\n",
    "\n",
    "    globals = measure(g)\n",
    "    for k, v in globals:\n",
    "        g[k] = v\n",
    "\n",
    "    return g, globals\n"
   ]
  },
  {
   "cell_type": "code",
   "execution_count": 10,
   "metadata": {},
   "outputs": [],
   "source": [
    "cms_pu140 = construct_graph(detectors_run4, triggers_run4)"
   ]
  },
  {
   "cell_type": "code",
   "execution_count": 11,
   "metadata": {},
   "outputs": [
    {
     "data": {
      "text/plain": [
       "OutEdgeView([('Inner Tracker', 'Tracking'), ('Outer Tracker PS', 'Tracking'), ('Outer Tracker 2S', 'Tracking'), ('Track Finder TPG', 'Tracking'), ('MIP Timing BTL', 'Timing'), ('MIP Timing ETL', 'Timing'), ('ECAL Barrel', 'Calorimetry'), ('HCAL Barrel', 'Calorimetry'), ('HCAL HO', 'Calorimetry'), ('HCAL HF', 'Calorimetry'), ('HGCAL', 'Calorimetry'), ('HGCAL TPG Stage1', 'Calorimetry'), ('HGCAL TPG Stage2', 'Calorimetry'), ('Muon DT', 'Muon'), ('Muon CSC', 'Muon'), ('Muon GEM GE1', 'Muon'), ('Muon GEM GE2', 'Muon'), ('Muon GEM ME0', 'Muon'), ('Muon RPC', 'Muon'), ('Tracking', 'Intermediate'), ('Timing', 'Intermediate'), ('Calorimetry', 'Intermediate'), ('Muon', 'Intermediate'), ('Intermediate', 'Global'), ('Global', 'Disk')])"
      ]
     },
     "execution_count": 11,
     "metadata": {},
     "output_type": "execute_result"
    }
   ],
   "source": [
    "cms_pu140.edges"
   ]
  },
  {
   "cell_type": "code",
   "execution_count": 12,
   "metadata": {},
   "outputs": [
    {
     "data": {
      "text/plain": [
       "{}"
      ]
     },
     "execution_count": 12,
     "metadata": {},
     "output_type": "execute_result"
    }
   ],
   "source": [
    "cms_pu140.edges[(\"Inner Tracker\", \"Tracking\")]"
   ]
  },
  {
   "cell_type": "code",
   "execution_count": 13,
   "metadata": {},
   "outputs": [
    {
     "data": {
      "text/plain": [
       "['Inner Tracker',\n",
       " 'Outer Tracker PS',\n",
       " 'Outer Tracker 2S',\n",
       " 'Track Finder TPG',\n",
       " 'MIP Timing BTL',\n",
       " 'MIP Timing ETL',\n",
       " 'ECAL Barrel',\n",
       " 'HCAL Barrel',\n",
       " 'HCAL HO',\n",
       " 'HCAL HF',\n",
       " 'HGCAL',\n",
       " 'HGCAL TPG Stage1',\n",
       " 'HGCAL TPG Stage2',\n",
       " 'Muon DT',\n",
       " 'Muon CSC',\n",
       " 'Muon GEM GE1',\n",
       " 'Muon GEM GE2',\n",
       " 'Muon GEM ME0',\n",
       " 'Muon RPC',\n",
       " 'Tracking',\n",
       " 'Timing',\n",
       " 'Calorimetry',\n",
       " 'Muon',\n",
       " 'Intermediate',\n",
       " 'Global',\n",
       " 'Disk']"
      ]
     },
     "execution_count": 13,
     "metadata": {},
     "output_type": "execute_result"
    }
   ],
   "source": [
    "list(cms_pu140.nodes)"
   ]
  },
  {
   "cell_type": "code",
   "execution_count": 14,
   "metadata": {},
   "outputs": [
    {
     "data": {
      "text/plain": [
       "'Disk'"
      ]
     },
     "execution_count": 14,
     "metadata": {},
     "output_type": "execute_result"
    }
   ],
   "source": [
    "cms_pu140.graph[\"Root Node\"]"
   ]
  },
  {
   "cell_type": "code",
   "execution_count": 15,
   "metadata": {},
   "outputs": [
    {
     "data": {
      "text/plain": [
       "{'sample data': 1010000,\n",
       " 'sample rate': 40000000,\n",
       " 'error matrix': array([[0, 0],\n",
       "        [0, 1]]),\n",
       " 'reduction': 1.0,\n",
       " 'complexity': <function __main__.detectors.<locals>.<lambda>(x)>}"
      ]
     },
     "execution_count": 15,
     "metadata": {},
     "output_type": "execute_result"
    }
   ],
   "source": [
    "cms_pu140.nodes[\"Inner Tracker\"]"
   ]
  },
  {
   "cell_type": "code",
   "execution_count": 16,
   "metadata": {},
   "outputs": [
    {
     "data": {
      "text/plain": [
       "{}"
      ]
     },
     "execution_count": 16,
     "metadata": {},
     "output_type": "execute_result"
    }
   ],
   "source": [
    "cms_pu140.edges[(\"Inner Tracker\", \"Tracking\")]"
   ]
  },
  {
   "cell_type": "code",
   "execution_count": 17,
   "metadata": {},
   "outputs": [
    {
     "data": {
      "text/plain": [
       "{'error matrix': array([[0, 0],\n",
       "        [0, 1]]),\n",
       " 'reduction': 1.0,\n",
       " 'sample data': 0}"
      ]
     },
     "execution_count": 17,
     "metadata": {},
     "output_type": "execute_result"
    }
   ],
   "source": [
    "cms_pu140.nodes[\"Tracking\"]"
   ]
  },
  {
   "cell_type": "code",
   "execution_count": 18,
   "metadata": {},
   "outputs": [
    {
     "data": {
      "text/plain": [
       "{}"
      ]
     },
     "execution_count": 18,
     "metadata": {},
     "output_type": "execute_result"
    }
   ],
   "source": [
    "cms_pu140.edges[(\"Tracking\", \"Intermediate\")]"
   ]
  },
  {
   "cell_type": "code",
   "execution_count": 19,
   "metadata": {},
   "outputs": [
    {
     "data": {
      "text/plain": [
       "{'error matrix': array([[0, 0],\n",
       "        [0, 1]]),\n",
       " 'reduction': 1.0,\n",
       " 'sample data': 0}"
      ]
     },
     "execution_count": 19,
     "metadata": {},
     "output_type": "execute_result"
    }
   ],
   "source": [
    "cms_pu140.nodes[\"Disk\"]"
   ]
  },
  {
   "cell_type": "code",
   "execution_count": 20,
   "metadata": {},
   "outputs": [],
   "source": [
    "def update_throughput(graph: nx.classes.digraph):\n",
    "    graph = graph.copy()\n",
    "    #call the recursive update function on the root node\n",
    "    throughput_call(graph, graph.graph[\"Root Node\"])\n",
    "    return graph\n",
    "    "
   ]
  },
  {
   "cell_type": "code",
   "execution_count": 21,
   "metadata": {},
   "outputs": [],
   "source": [
    "def message_size(graph: nx.classes.digraph, node: str):\n",
    "    \"\"\"\n",
    "    Return the total size of a message processed by a node\n",
    "    \"\"\"\n",
    "    inputs = list(graph.predecessors(node))\n",
    "    input_data = sum([message_size(graph, n) for n in inputs])\n",
    "    this_node = graph.nodes[node]\n",
    "    if \"sample data\" in this_node:\n",
    "        total = input_data + this_node[\"sample data\"]\n",
    "    else:\n",
    "        total = input_data\n",
    "\n",
    "    total = total * this_node[\"reduction\"]\n",
    "    this_node[\"message size\"] = total\n",
    "    return total\n"
   ]
  },
  {
   "cell_type": "code",
   "execution_count": 22,
   "metadata": {},
   "outputs": [],
   "source": [
    "def classifier_rate(error_matrix: np.ndarray):\n",
    "        \"\"\"\n",
    "        Return the negative / positive classification rate from an error matrix\n",
    "        \"\"\"\n",
    "        rates = np.einsum(\"ab,a -> a\", error_matrix, np.array([1, 1]))\n",
    "        return rates / rates.sum()"
   ]
  },
  {
   "cell_type": "code",
   "execution_count": 23,
   "metadata": {},
   "outputs": [
    {
     "data": {
      "text/plain": [
       "array([39900000.,   100000.])"
      ]
     },
     "execution_count": 23,
     "metadata": {},
     "output_type": "execute_result"
    }
   ],
   "source": [
    "classifier_rate(cms_pu140.nodes[\"Intermediate\"][\"error matrix\"]) * 40e6"
   ]
  },
  {
   "cell_type": "code",
   "execution_count": 24,
   "metadata": {},
   "outputs": [],
   "source": [
    "def message_rate(graph: nx.classes.digraph, node: str):\n",
    "    \"\"\"\n",
    "    Return the rate of messages produced by a node\n",
    "    \"\"\"\n",
    "    this_node = graph.nodes[node]\n",
    "    if \"sample rate\" in this_node:\n",
    "        #get the sampling rate of a detector\n",
    "        input_rate = this_node[\"sample rate\"]\n",
    "    else:\n",
    "        #or take the maximum rate of the inputs\n",
    "        inputs = list(graph.predecessors(node))\n",
    "        assert len(inputs) > 0, \"Missing sample rate from detector or isolated node\"\n",
    "        input_rate = max([message_rate(graph, n) for n in inputs])\n",
    "    \n",
    "    output_rate = classifier_rate(this_node[\"error matrix\"])[1] * input_rate\n",
    "    this_node[\"message rate\"] = output_rate\n",
    "    return output_rate "
   ]
  },
  {
   "cell_type": "code",
   "execution_count": 26,
   "metadata": {},
   "outputs": [],
   "source": [
    "g1 = cms_pu140.copy()"
   ]
  },
  {
   "cell_type": "code",
   "execution_count": 27,
   "metadata": {},
   "outputs": [],
   "source": [
    "g2 = message_size(g1, \"Disk\")"
   ]
  },
  {
   "cell_type": "code",
   "execution_count": 28,
   "metadata": {},
   "outputs": [
    {
     "data": {
      "text/plain": [
       "6093000.0"
      ]
     },
     "execution_count": 28,
     "metadata": {},
     "output_type": "execute_result"
    }
   ],
   "source": [
    "g2"
   ]
  },
  {
   "cell_type": "code",
   "execution_count": 29,
   "metadata": {},
   "outputs": [
    {
     "data": {
      "text/plain": [
       "5000.0"
      ]
     },
     "execution_count": 29,
     "metadata": {},
     "output_type": "execute_result"
    }
   ],
   "source": [
    "message_rate(g1, \"Disk\")"
   ]
  },
  {
   "cell_type": "code",
   "execution_count": null,
   "metadata": {},
   "outputs": [],
   "source": [
    "def link_throughput(graph: nx.classes.digraph, node: str):\n",
    "    \"\"\"\n",
    "    Return the rate of messages produced by a node and update its input edges\n",
    "    to show their sustained data rates\n",
    "    \"\"\"\n",
    "    inputs = list(graph.predecessors(node))\n",
    "    rates = [link_throughput(graph, n) for n in inputs]\n",
    "    throughput = [rates[i] * graph.nodes[n][\"message size\"] for (i,n) in enumerate(inputs)]\n",
    "    for n in inputs:\n",
    "        edge = (n, node)\n",
    "        graph.edges[edge][\"throughput\"] = \n",
    "\n",
    "    \n",
    "\n",
    "    def sum_outputs(error_matrix: np.ndarray):\n",
    "        return np.einsum(\"ab,a -> a\", error_matrix, np.array([0, 1])).sum()\n",
    "\n",
    "    def output_rate(sample_rate, error_matrix: np.ndarray):\n",
    "        return sample_rate * (error_matrix / error_matrix.sum())\n",
    "\n",
    "    return total\n"
   ]
  },
  {
   "cell_type": "code",
   "execution_count": 25,
   "metadata": {},
   "outputs": [
    {
     "data": {
      "text/plain": [
       "{'sample data': 1010000,\n",
       " 'error matrix': array([[       0,        0],\n",
       "        [       0, 40000000]]),\n",
       " 'reduction': 1.0,\n",
       " 'complexity': <function __main__.detectors.<locals>.<lambda>(x)>,\n",
       " 'message size': 1010000}"
      ]
     },
     "execution_count": 25,
     "metadata": {},
     "output_type": "execute_result"
    }
   ],
   "source": [
    "g1.nodes[\"Inner Tracker\"]"
   ]
  },
  {
   "cell_type": "code",
   "execution_count": 27,
   "metadata": {},
   "outputs": [
    {
     "data": {
      "text/plain": [
       "6.093"
      ]
     },
     "execution_count": 27,
     "metadata": {},
     "output_type": "execute_result"
    }
   ],
   "source": [
    "g2 / 1e6"
   ]
  },
  {
   "cell_type": "code",
   "execution_count": null,
   "metadata": {},
   "outputs": [],
   "source": [
    "def message_size(graph: nx.classes.digraph, node: str):\n",
    "    inputs = list(graph.predecessors(node))\n",
    "    input_data = sum([message_size(graph, n) for n in inputs])\n",
    "    this_node = graph.nodes[node]\n",
    "    if \"sample data\" in this_node:\n",
    "        total = input_data + this_node[\"sample data\"]\n",
    "    else:\n",
    "        total = input_data\n",
    "\n",
    "    this_node[\"message size\"] = total\n",
    "    return total\n"
   ]
  },
  {
   "cell_type": "code",
   "execution_count": 77,
   "metadata": {},
   "outputs": [],
   "source": [
    "def throughput_call(graph: nx.classes.digraph, node: str):\n",
    "    print(node)\n",
    "    inputs = list(graph.predecessors(node))\n",
    "    this_node = graph.nodes[node]\n",
    "\n",
    "    \n",
    "\n",
    "    this_node[\"total data\"] = 0\n",
    "    if len(inputs) > 0:\n",
    "        #set the initial sampling rate\n",
    "        input_rate = 0\n",
    "\n",
    "        for in_node in inputs:\n",
    "            link = (in_node, node)\n",
    "            #how much data does the input produce? recursive call to inputs\n",
    "            throughput_call(graph, in_node)\n",
    "            input_node = graph.nodes[in_node]\n",
    "            data = input_node[\"sample data\"]\n",
    "            #update the amount of data transported over links\n",
    "            sample_rate = sum_outputs(input_node[\"error matrix\"])\n",
    "            graph.edges[link][\"sample rate\"] = sample_rate\n",
    "            graph.edges[link][\"data rate\"] = sample_rate * data\n",
    "            #take the maximum input rate as the sampling rate\n",
    "            if sample_rate > input_rate:\n",
    "                input_rate = sample_rate\n",
    "            \n",
    "            this_node[\"total data\"] += data\n",
    "            print(this_node[\"total data\"])\n",
    "        \n",
    "        if \"error matrix\" in this_node:\n",
    "            this_node[\"sample rate\"] = output_rate(input_rate, this_node[\"error matrix\"])\n",
    "        else:\n",
    "            this_node[\"sample rate\"] = input_rate\n",
    "        print(\"Done\")\n",
    "    else:\n",
    "        #if there are no inputs, this is a source of the data\n",
    "        sample_rate = sum_outputs(graph.nodes[node][\"error matrix\"])\n",
    "        this_node[\"sample rate\"] = sample_rate\n",
    "    \n",
    "    #how much data is produced at this node?\n",
    "    if \"sample data\" in this_node:\n",
    "        this_node[\"total data\"] += this_node[\"sample data\"]"
   ]
  },
  {
   "cell_type": "code",
   "execution_count": 78,
   "metadata": {},
   "outputs": [
    {
     "name": "stdout",
     "output_type": "stream",
     "text": [
      "Disk\n",
      "Global\n",
      "Intermediate\n",
      "Tracking\n",
      "Inner Tracker\n",
      "1440000\n",
      "Outer Tracker PS\n",
      "2160000\n",
      "Outer Tracker 2S\n",
      "2590000\n",
      "Track Finder TPG\n",
      "2600000\n",
      "Done\n",
      "0\n",
      "Timing\n",
      "MIP Timing BTL\n",
      "240000\n",
      "MIP Timing ETL\n",
      "680000\n",
      "Done\n",
      "0\n",
      "Calorimetry\n",
      "ECAL Barrel\n",
      "600000\n",
      "HCAL Barrel\n",
      "840000\n",
      "HCAL HO\n",
      "870000\n",
      "HCAL HF\n",
      "930000\n",
      "HGCAL\n",
      "3930000\n",
      "HGCAL TPG Stage1\n",
      "4080000\n",
      "HGCAL TPG Stage2\n",
      "4130000\n",
      "Done\n",
      "0\n",
      "Muon\n",
      "Muon DT\n",
      "150000\n",
      "Muon CSC\n",
      "620000\n",
      "Muon GEM GE1\n",
      "623000\n",
      "Muon GEM GE2\n",
      "625000\n",
      "Muon GEM ME0\n",
      "745000\n",
      "Muon RPC\n",
      "755000\n",
      "Done\n",
      "0\n",
      "Done\n",
      "260000\n",
      "Done\n",
      "0\n",
      "Done\n"
     ]
    }
   ],
   "source": [
    "g2 = update_throughput(cms_pu140)"
   ]
  },
  {
   "cell_type": "code",
   "execution_count": 71,
   "metadata": {},
   "outputs": [
    {
     "data": {
      "text/plain": [
       "{'error matrix': array([[0, 0],\n",
       "        [0, 1]]),\n",
       " 'reduction': 1.0,\n",
       " 'sample data': 0,\n",
       " 'total data': 2600000,\n",
       " 'sample rate': array([[       0.,        0.],\n",
       "        [       0., 40000000.]])}"
      ]
     },
     "execution_count": 71,
     "metadata": {},
     "output_type": "execute_result"
    }
   ],
   "source": [
    "g2.nodes[\"Tracking\"]"
   ]
  },
  {
   "cell_type": "code",
   "execution_count": 73,
   "metadata": {},
   "outputs": [
    {
     "data": {
      "text/plain": [
       "{'sample data': 1440000,\n",
       " 'error matrix': array([[       0,        0],\n",
       "        [       0, 40000000]]),\n",
       " 'reduction': 1.0,\n",
       " 'complexity': <function __main__.detectors.<locals>.<lambda>(x)>,\n",
       " 'total data': 1440000,\n",
       " 'sample rate': 40000000}"
      ]
     },
     "execution_count": 73,
     "metadata": {},
     "output_type": "execute_result"
    }
   ],
   "source": [
    "g2.nodes[\"Inner Tracker\"]"
   ]
  },
  {
   "cell_type": "code",
   "execution_count": 74,
   "metadata": {},
   "outputs": [
    {
     "data": {
      "text/plain": [
       "{'error matrix': array([[0, 0],\n",
       "        [0, 1]]),\n",
       " 'reduction': 1.0,\n",
       " 'sample data': 0,\n",
       " 'total data': 2600000,\n",
       " 'sample rate': array([[       0.,        0.],\n",
       "        [       0., 40000000.]])}"
      ]
     },
     "execution_count": 74,
     "metadata": {},
     "output_type": "execute_result"
    }
   ],
   "source": [
    "g2.nodes[\"Tracking\"]"
   ]
  },
  {
   "cell_type": "code",
   "execution_count": 75,
   "metadata": {},
   "outputs": [
    {
     "data": {
      "text/plain": [
       "{'error matrix': array([[0, 0],\n",
       "        [0, 1]]),\n",
       " 'reduction': 1.0,\n",
       " 'sample data': 0,\n",
       " 'total data': 4130000,\n",
       " 'sample rate': array([[       0.,        0.],\n",
       "        [       0., 40000000.]])}"
      ]
     },
     "execution_count": 75,
     "metadata": {},
     "output_type": "execute_result"
    }
   ],
   "source": [
    "g2.nodes[\"Calorimetry\"]"
   ]
  },
  {
   "cell_type": "code",
   "execution_count": 76,
   "metadata": {},
   "outputs": [
    {
     "data": {
      "text/plain": [
       "{'error matrix': array([[399,   0],\n",
       "        [  0,   1]]),\n",
       " 'reduction': 1.0,\n",
       " 'sample data': 260000,\n",
       " 'total data': 260000,\n",
       " 'sample rate': array([[0.9975, 0.    ],\n",
       "        [0.    , 0.0025]])}"
      ]
     },
     "execution_count": 76,
     "metadata": {},
     "output_type": "execute_result"
    }
   ],
   "source": [
    "g2.nodes[\"Intermediate\"]"
   ]
  },
  {
   "cell_type": "code",
   "execution_count": 20,
   "metadata": {},
   "outputs": [
    {
     "data": {
      "text/plain": [
       "1440000"
      ]
     },
     "execution_count": 20,
     "metadata": {},
     "output_type": "execute_result"
    }
   ],
   "source": [
    "cms_pu140.nodes[\"Inner Tracker\"][\"sample data\"]"
   ]
  },
  {
   "cell_type": "code",
   "execution_count": 19,
   "metadata": {},
   "outputs": [
    {
     "data": {
      "text/plain": [
       "{'sample data': 1440000,\n",
       " 'error matrix': array([[       0,        0],\n",
       "        [       0, 40000000]]),\n",
       " 'reduction': 1.0,\n",
       " 'complexity': <function __main__.detectors.<locals>.<lambda>(x)>}"
      ]
     },
     "execution_count": 19,
     "metadata": {},
     "output_type": "execute_result"
    }
   ],
   "source": [
    "cms_pu140.nodes[\"Inner Tracker\"]"
   ]
  },
  {
   "cell_type": "code",
   "execution_count": 20,
   "metadata": {},
   "outputs": [
    {
     "data": {
      "text/plain": [
       "{'error matrix': array([[399,   0],\n",
       "        [  0,   1]]),\n",
       " 'reduction': 1.0,\n",
       " 'sample data': 260000}"
      ]
     },
     "execution_count": 20,
     "metadata": {},
     "output_type": "execute_result"
    }
   ],
   "source": [
    "cms_pu140.nodes[\"Intermediate\"]"
   ]
  },
  {
   "cell_type": "code",
   "execution_count": 21,
   "metadata": {},
   "outputs": [],
   "source": [
    "def rates(error_matrix):\n",
    "    return np.sum(error_matrix, axis=1)"
   ]
  },
  {
   "cell_type": "code",
   "execution_count": 22,
   "metadata": {},
   "outputs": [
    {
     "data": {
      "text/plain": [
       "array([399,   1])"
      ]
     },
     "execution_count": 22,
     "metadata": {},
     "output_type": "execute_result"
    }
   ],
   "source": [
    "rates(cms_pu140.nodes[\"Intermediate\"][\"error matrix\"])"
   ]
  },
  {
   "cell_type": "code",
   "execution_count": 25,
   "metadata": {},
   "outputs": [
    {
     "data": {
      "text/plain": [
       "40000000"
      ]
     },
     "execution_count": 25,
     "metadata": {},
     "output_type": "execute_result"
    }
   ],
   "source": [
    "rates(cms_pu140.nodes[\"Inner Tracker\"][\"error matrix\"])[1]"
   ]
  },
  {
   "cell_type": "code",
   "execution_count": 35,
   "metadata": {},
   "outputs": [
    {
     "data": {
      "text/plain": [
       "{'Root Node': 'Disk'}"
      ]
     },
     "execution_count": 35,
     "metadata": {},
     "output_type": "execute_result"
    }
   ],
   "source": [
    "cms_pu140.graph"
   ]
  },
  {
   "cell_type": "code",
   "execution_count": 14,
   "metadata": {},
   "outputs": [
    {
     "data": {
      "text/plain": [
       "{'sample data': 1440000,\n",
       " 'error matrix': array([[       0,        0],\n",
       "        [       0, 40000000]]),\n",
       " 'reduction': 1.0,\n",
       " 'complexity': <function __main__.detectors.<locals>.<lambda>(x)>}"
      ]
     },
     "execution_count": 14,
     "metadata": {},
     "output_type": "execute_result"
    }
   ],
   "source": [
    "cms_pu140.nodes[\"Inner Tracker\"]"
   ]
  },
  {
   "cell_type": "code",
   "execution_count": 15,
   "metadata": {},
   "outputs": [
    {
     "data": {
      "text/plain": [
       "OutEdgeView([('Inner Tracker', 'Tracking'), ('Outer Tracker PS', 'Tracking'), ('Outer Tracker 2S', 'Tracking'), ('Track Finder TPG', 'Tracking'), ('MIP Timing BTL', 'Timing'), ('MIP Timing ETL', 'Timing'), ('ECAL Barrel', 'Calorimetry'), ('HCAL Barrel', 'Calorimetry'), ('HCAL HO', 'Calorimetry'), ('HCAL HF', 'Calorimetry'), ('HGCAL', 'Calorimetry'), ('HGCAL TPG Stage1', 'Calorimetry'), ('HGCAL TPG Stage2', 'Calorimetry'), ('Muon DT', 'Muon'), ('Muon CSC', 'Muon'), ('Muon GEM GE1', 'Muon'), ('Muon GEM GE2', 'Muon'), ('Muon GEM ME0', 'Muon'), ('Muon RPC', 'Muon'), ('Tracking', 'Intermediate'), ('Timing', 'Intermediate'), ('Calorimetry', 'Intermediate'), ('Muon', 'Intermediate'), ('Intermediate', 'Global'), ('Global', 'Disk')])"
      ]
     },
     "execution_count": 15,
     "metadata": {},
     "output_type": "execute_result"
    }
   ],
   "source": [
    "cms_pu140.edges\n"
   ]
  },
  {
   "cell_type": "code",
   "execution_count": 16,
   "metadata": {},
   "outputs": [
    {
     "data": {
      "text/plain": [
       "AtlasView({'Intermediate': {}})"
      ]
     },
     "execution_count": 16,
     "metadata": {},
     "output_type": "execute_result"
    }
   ],
   "source": [
    "cms_pu140[\"Tracking\"]"
   ]
  },
  {
   "cell_type": "code",
   "execution_count": 17,
   "metadata": {},
   "outputs": [
    {
     "data": {
      "text/plain": [
       "['Inner Tracker', 'Outer Tracker PS', 'Outer Tracker 2S', 'Track Finder TPG']"
      ]
     },
     "execution_count": 17,
     "metadata": {},
     "output_type": "execute_result"
    }
   ],
   "source": [
    "list(cms_pu140.predecessors(\"Tracking\"))"
   ]
  },
  {
   "cell_type": "code",
   "execution_count": 40,
   "metadata": {},
   "outputs": [
    {
     "data": {
      "text/plain": [
       "['Global']"
      ]
     },
     "execution_count": 40,
     "metadata": {},
     "output_type": "execute_result"
    }
   ],
   "source": [
    "list(cms_pu140.predecessors(\"Disk\"))"
   ]
  },
  {
   "cell_type": "code",
   "execution_count": 41,
   "metadata": {},
   "outputs": [
    {
     "data": {
      "text/plain": [
       "[]"
      ]
     },
     "execution_count": 41,
     "metadata": {},
     "output_type": "execute_result"
    }
   ],
   "source": [
    "list(cms_pu140.predecessors(\"Outer Tracker PS\"))"
   ]
  },
  {
   "cell_type": "code",
   "execution_count": 18,
   "metadata": {},
   "outputs": [
    {
     "data": {
      "text/plain": [
       "AtlasView({'Global': {}})"
      ]
     },
     "execution_count": 18,
     "metadata": {},
     "output_type": "execute_result"
    }
   ],
   "source": [
    "cms_pu140[\"Intermediate\"]"
   ]
  },
  {
   "cell_type": "code",
   "execution_count": 19,
   "metadata": {},
   "outputs": [
    {
     "data": {
      "text/plain": [
       "AtlasView({'Disk': {}})"
      ]
     },
     "execution_count": 19,
     "metadata": {},
     "output_type": "execute_result"
    }
   ],
   "source": [
    "cms_pu140[\"Global\"]"
   ]
  },
  {
   "cell_type": "code",
   "execution_count": 22,
   "metadata": {},
   "outputs": [
    {
     "data": {
      "image/png": "[encoded data removed]",
      "text/plain": [
       "<Figure size 640x480 with 1 Axes>"
      ]
     },
     "metadata": {},
     "output_type": "display_data"
    }
   ],
   "source": [
    "subax1 = plt.subplot(111)\n",
    "nx.draw(cms_pu140, with_labels=True)"
   ]
  },
  {
   "cell_type": "code",
   "execution_count": null,
   "metadata": {},
   "outputs": [],
   "source": []
  },
  {
   "cell_type": "code",
   "execution_count": null,
   "metadata": {},
   "outputs": [],
   "source": []
  }
 ],
 "metadata": {
  "kernelspec": {
   "display_name": "jax",
   "language": "python",
   "name": "python3"
  },
  "language_info": {
   "codemirror_mode": {
    "name": "ipython",
    "version": 3
   },
   "file_extension": ".py",
   "mimetype": "text/x-python",
   "name": "python",
   "nbconvert_exporter": "python",
   "pygments_lexer": "ipython3",
   "version": "3.10.4"
  }
 },
 "nbformat": 4,
 "nbformat_minor": 2
}
