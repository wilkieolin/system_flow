{
 "cells": [
  {
   "cell_type": "markdown",
   "id": "c3eb1e1c",
   "metadata": {},
   "source": [
    "## Example - Ptychography\n",
    "\n",
    "In this example, we'll modify the BCDI setup so that instead of collecting and reconstructing one image, many diffraction patterns are collected over the sample area. Each sample image overlaps with the previous one, providing redundant information which aids the phase reconstruction and allows the imaging field to be scaled arbitrarily large - limited by stage movement, sample durability, and other physical factors rather than the available size of an optical lens. \n",
    "\n",
    "The process of collecting overlapping images can be done in several ways - the simplest is to step-and-repeat the collection of images over a pre-defined area, then do the post-processing offline. However, with large samples and/or small regions of interest, this may not be the most effective way to image. More advanced setups can be done in a \"streaming\" way, where the reconstructed real-space image is updated each step of the way and the process can be controlled with human feedback. To increase speed further, human feedback can be replaced with automated feature detection and search strategies. \n",
    "\n",
    "We'll start by looking at the simplest setup: offline processing."
   ]
  },
  {
   "cell_type": "code",
   "execution_count": 1,
   "id": "a3b63a09",
   "metadata": {},
   "outputs": [],
   "source": [
    "import networkx as nx\n",
    "import sys\n",
    "import numpy as np\n",
    "import matplotlib.pyplot as plt\n",
    "from abc import ABC, abstractmethod\n",
    "from collections import namedtuple\n",
    "from copy import deepcopy\n",
    "from functools import reduce\n",
    "from typing import Callable, Any\n",
    "from itertools import accumulate"
   ]
  },
  {
   "cell_type": "code",
   "execution_count": 2,
   "id": "11fb2c0b",
   "metadata": {},
   "outputs": [],
   "source": [
    "from systemflow.node import *\n",
    "from systemflow.mutations import *\n",
    "from systemflow.metrics import *\n",
    "from systemflow.auxtypes import is_proportion\n",
    "from systemflow.xrs import *"
   ]
  },
  {
   "cell_type": "markdown",
   "id": "6ddab557",
   "metadata": {},
   "source": [
    "The basic setup for ptychography is the same as BCDI - a sample stage, far-field diffraction pattern sensor, and analysis computer. However, this time instead of taking and analyzing one image, we'll be taking a series of images collected from different sample positions.\n",
    "\n",
    "The most basic strategy we can take is to acquire an image, step to the next position, and continue until the entire sample has been imaged. We'll define two execution graphs: acquiring an image, and the end-stage processing."
   ]
  },
  {
   "cell_type": "code",
   "execution_count": 3,
   "id": "4158c8b3",
   "metadata": {},
   "outputs": [
    {
     "name": "stdout",
     "output_type": "stream",
     "text": [
      "<function PositionSample.<lambda> at 0x11b358790>\n"
     ]
    }
   ],
   "source": [
    "sample_stage_mutations = [PositionSample(),]\n",
    "vc_sample = collect_parameters(sample_stage_mutations)\n",
    "\n",
    "sample_stage = Component(\"Sample stage\",\n",
    "                    sample_stage_mutations,\n",
    "                    {vc_sample.last_position: [0.0, 0.0],\n",
    "                     vc_sample.position: [0.0, 0.0],\n",
    "                     vc_sample.move_rate: 100,\n",
    "                     vc_sample.settle_time: 1e-3,},\n",
    "                     {})"
   ]
  },
  {
   "cell_type": "code",
   "execution_count": 4,
   "id": "cfde3b0d",
   "metadata": {},
   "outputs": [],
   "source": [
    "detector_mutations = [CollectImage(),]\n",
    "vc_detector = collect_parameters(detector_mutations)\n",
    "\n",
    "detector_host = Component(\"Image sensor\",\n",
    "                    detector_mutations,\n",
    "                    parameters = {vc_detector.resolution: (2000, 2000),\n",
    "                     vc_detector.bitdepth: 16,\n",
    "                     vc_detector.readout: 1e-3,\n",
    "                     vc_detector.pixelenergy: 1e-3,\n",
    "                     vc_detector.sample_rate: 10e3,})"
   ]
  },
  {
   "cell_type": "code",
   "execution_count": 5,
   "id": "a3c695b4",
   "metadata": {},
   "outputs": [],
   "source": [
    "cpu_mutations = [StoreImage(),]\n",
    "vc_storage = collect_parameters(cpu_mutations)\n",
    "\n",
    "cpu_host = Component(\"CPU host\",\n",
    "                     cpu_mutations,\n",
    "                     parameters={\n",
    "                     vc_storage.storage_rate: 1e9,\n",
    "                     vc_storage.stored_images: 0,\n",
    "                     vc_storage.stored_data: 0,})"
   ]
  },
  {
   "cell_type": "code",
   "execution_count": 6,
   "id": "0c0b5bc6",
   "metadata": {},
   "outputs": [],
   "source": [
    "sampling_nodes = [sample_stage, detector_host, cpu_host]\n",
    "sampling_links = [DefaultLink(\"Sample Stage -> Image sensor\",\n",
    "                              sample_stage.name,\n",
    "                              detector_host.name),\n",
    "                    DefaultLink(\"Image sensor -> CPU host\",\n",
    "                                detector_host.name,\n",
    "                                cpu_host.name),]\n",
    "\n",
    "sampling_metrics = [TotalLatency(),]\n",
    "\n",
    "sampling_exg = ExecutionGraph(name=\"Sampling Process\",\n",
    "                              nodes=sampling_nodes,\n",
    "                              links=sampling_links,\n",
    "                              metrics=sampling_metrics)"
   ]
  },
  {
   "cell_type": "code",
   "execution_count": 7,
   "id": "8be1713f",
   "metadata": {},
   "outputs": [
    {
     "name": "stdout",
     "output_type": "stream",
     "text": [
      "Position:  [0.0, 0.0]\n",
      "Relevancy: 1.0\n"
     ]
    }
   ],
   "source": [
    "# step through 1 iteration of collecting an image so we can examine the output\n",
    "sampling_exg_2 = sampling_exg()"
   ]
  },
  {
   "cell_type": "code",
   "execution_count": 8,
   "id": "41a2fe0d",
   "metadata": {},
   "outputs": [],
   "source": [
    "msg1 = sampling_exg_2.get_output_msg()"
   ]
  },
  {
   "cell_type": "code",
   "execution_count": 9,
   "id": "7f84989e",
   "metadata": {},
   "outputs": [
    {
     "data": {
      "text/plain": [
       "{'relevancy (%)': 1.0,\n",
       " 'readout latency (s)': 0.001,\n",
       " 'image data (B)': np.float64(8000000.0),\n",
       " 'position (mm,mm)': [0.0, 0.0],\n",
       " 'movement latency (s)': np.float64(0.001),\n",
       " 'stored data (B)': np.float64(8000000.0)}"
      ]
     },
     "execution_count": 9,
     "metadata": {},
     "output_type": "execute_result"
    }
   ],
   "source": [
    "msg1.fields"
   ]
  },
  {
   "cell_type": "code",
   "execution_count": 10,
   "id": "908c0995",
   "metadata": {},
   "outputs": [
    {
     "data": {
      "text/plain": [
       "{'resolution (n,n)': (2000, 2000),\n",
       " 'bitdepth (n)': 16,\n",
       " 'sample rate (Hz)': 10000.0,\n",
       " 'images (n)': 1,\n",
       " 'stored images (n)': 1}"
      ]
     },
     "execution_count": 10,
     "metadata": {},
     "output_type": "execute_result"
    }
   ],
   "source": [
    "msg1.properties"
   ]
  },
  {
   "cell_type": "code",
   "execution_count": 11,
   "id": "617c3d38",
   "metadata": {},
   "outputs": [
    {
     "data": {
      "text/plain": [
       "[<systemflow.node.Component at 0x11b34c910>,\n",
       " <systemflow.node.Component at 0x11b34c9d0>,\n",
       " <systemflow.node.Component at 0x11b34ca30>]"
      ]
     },
     "execution_count": 11,
     "metadata": {},
     "output_type": "execute_result"
    }
   ],
   "source": [
    "sampling_exg_2.nodes"
   ]
  },
  {
   "cell_type": "code",
   "execution_count": 12,
   "id": "a9d7c1f6",
   "metadata": {},
   "outputs": [
    {
     "data": {
      "text/plain": [
       "{'storage latency (s)': np.float64(0.008)}"
      ]
     },
     "execution_count": 12,
     "metadata": {},
     "output_type": "execute_result"
    }
   ],
   "source": [
    "sampling_exg_2.nodes[0].properties"
   ]
  },
  {
   "cell_type": "code",
   "execution_count": 13,
   "id": "14fb58f6",
   "metadata": {},
   "outputs": [
    {
     "data": {
      "text/plain": [
       "{'disk storage rate (B/s)': 1000000000.0,\n",
       " 'stored images (n)': 0,\n",
       " 'stored data (B)': 0}"
      ]
     },
     "execution_count": 13,
     "metadata": {},
     "output_type": "execute_result"
    }
   ],
   "source": [
    "sampling_exg_2.nodes[0].parameters"
   ]
  },
  {
   "cell_type": "code",
   "execution_count": 14,
   "id": "dab3cc39",
   "metadata": {},
   "outputs": [],
   "source": [
    "pdict = match_message_to_parameters(sampling_exg_2, vc_storage, cpu_host.name)"
   ]
  },
  {
   "cell_type": "code",
   "execution_count": 15,
   "id": "def9fc99",
   "metadata": {},
   "outputs": [
    {
     "data": {
      "text/plain": [
       "{'CPU host': {'stored data (B)': np.float64(8000000.0),\n",
       "  'stored images (n)': 1}}"
      ]
     },
     "execution_count": 15,
     "metadata": {},
     "output_type": "execute_result"
    }
   ],
   "source": [
    "pdict"
   ]
  },
  {
   "cell_type": "code",
   "execution_count": 16,
   "id": "d7131014",
   "metadata": {},
   "outputs": [],
   "source": [
    "sampling_exg_2a = sampling_exg_2.with_updated_parameters(pdict)"
   ]
  },
  {
   "cell_type": "code",
   "execution_count": 17,
   "id": "177aba00",
   "metadata": {},
   "outputs": [
    {
     "data": {
      "text/plain": [
       "{'disk storage rate (B/s)': 1000000000.0,\n",
       " 'stored images (n)': 1,\n",
       " 'stored data (B)': np.float64(8000000.0)}"
      ]
     },
     "execution_count": 17,
     "metadata": {},
     "output_type": "execute_result"
    }
   ],
   "source": [
    "sampling_exg_2a.nodes[0].parameters"
   ]
  },
  {
   "cell_type": "code",
   "execution_count": 18,
   "id": "83528308",
   "metadata": {},
   "outputs": [
    {
     "data": {
      "text/plain": [
       "1"
      ]
     },
     "execution_count": 18,
     "metadata": {},
     "output_type": "execute_result"
    }
   ],
   "source": [
    "sampling_exg_2a.nodes[0].parameters[\"stored images (n)\"]"
   ]
  },
  {
   "cell_type": "code",
   "execution_count": 19,
   "id": "a89d8dc2",
   "metadata": {},
   "outputs": [
    {
     "name": "stdout",
     "output_type": "stream",
     "text": [
      "Position:  [0.0, 0.0]\n",
      "Relevancy: 1.0\n"
     ]
    }
   ],
   "source": [
    "sampling_exg_3 = sampling_exg_2a()"
   ]
  },
  {
   "cell_type": "code",
   "execution_count": 20,
   "id": "362c141e",
   "metadata": {},
   "outputs": [
    {
     "data": {
      "text/plain": [
       "{'resolution (n,n)': (2000, 2000),\n",
       " 'bitdepth (n)': 16,\n",
       " 'sample rate (Hz)': 10000.0,\n",
       " 'images (n)': 1,\n",
       " 'stored images (n)': 2}"
      ]
     },
     "execution_count": 20,
     "metadata": {},
     "output_type": "execute_result"
    }
   ],
   "source": [
    "sampling_exg_3.get_output_msg().properties"
   ]
  },
  {
   "cell_type": "code",
   "execution_count": 21,
   "id": "fcd0ea66",
   "metadata": {},
   "outputs": [],
   "source": [
    "def serpentine_points(rect_limits, n_steps):\n",
    "    \"\"\"\n",
    "    Generate a list of (x, y) points in a serpentine pattern over a rectangle.\n",
    "\n",
    "    Parameters:\n",
    "        rect_limits (tuple): (limit_x, limit_y) - dimensions of the rectangle.\n",
    "        n_steps (tuple): (n_x, n_y) - number of steps in x and y directions.\n",
    "\n",
    "    Returns:\n",
    "        points (list): List of (x, y) tuples following the serpentine curve.\n",
    "    \"\"\"\n",
    "    limit_x, limit_y = rect_limits\n",
    "    n_x, n_y = n_steps\n",
    "\n",
    "    x_vals = np.linspace(0, limit_x, n_x)\n",
    "    y_vals = np.linspace(0, limit_y, n_y)\n",
    "\n",
    "    points = []\n",
    "    for j, y in enumerate(y_vals):\n",
    "        if j % 2 == 0:\n",
    "            # left to right\n",
    "            for x in x_vals:\n",
    "                points.append((x, y))\n",
    "        else:\n",
    "            # right to left\n",
    "            for x in reversed(x_vals):\n",
    "                points.append((x, y))\n",
    "    return np.array(points)"
   ]
  },
  {
   "cell_type": "code",
   "execution_count": 22,
   "id": "eb6bdedc",
   "metadata": {},
   "outputs": [],
   "source": [
    "pts = serpentine_points((20.0, 20.0), (20, 20))"
   ]
  },
  {
   "cell_type": "code",
   "execution_count": 23,
   "id": "09e88959",
   "metadata": {},
   "outputs": [
    {
     "data": {
      "text/plain": [
       "[<matplotlib.lines.Line2D at 0x11b3fb310>]"
      ]
     },
     "execution_count": 23,
     "metadata": {},
     "output_type": "execute_result"
    },
    {
     "data": {
      "image/png": "[encoded data removed]",
      "text/plain": [
       "<Figure size 640x480 with 1 Axes>"
      ]
     },
     "metadata": {},
     "output_type": "display_data"
    }
   ],
   "source": [
    "plt.plot(pts[:,0], pts[:,1])"
   ]
  },
  {
   "cell_type": "code",
   "execution_count": 24,
   "id": "5f871dbc",
   "metadata": {},
   "outputs": [
    {
     "data": {
      "text/plain": [
       "(400, 2)"
      ]
     },
     "execution_count": 24,
     "metadata": {},
     "output_type": "execute_result"
    }
   ],
   "source": [
    "pts.shape"
   ]
  },
  {
   "cell_type": "code",
   "execution_count": 25,
   "id": "c6a5d8d3",
   "metadata": {},
   "outputs": [
    {
     "data": {
      "text/plain": [
       "<systemflow.node.ExecutionGraph at 0x11b34d810>"
      ]
     },
     "execution_count": 25,
     "metadata": {},
     "output_type": "execute_result"
    }
   ],
   "source": [
    "sampling_exg"
   ]
  },
  {
   "cell_type": "code",
   "execution_count": 26,
   "id": "f2ed6c8d",
   "metadata": {},
   "outputs": [
    {
     "data": {
      "text/plain": [
       "{'Sample stage': {'last position (mm,mm)': [0.0, 0.0],\n",
       "  'position (mm,mm)': [0.0, 0.0],\n",
       "  'move rate (mm/s)': 100,\n",
       "  'settle time (s)': 0.001},\n",
       " 'Image sensor': {'resolution (n,n)': (2000, 2000),\n",
       "  'bit depth (n)': 16,\n",
       "  'readout latency (s)': 0.001,\n",
       "  'pixel energy (J)': 0.001,\n",
       "  'sample rate (Hz)': 10000.0},\n",
       " 'CPU host': {'disk storage rate (B/s)': 1000000000.0,\n",
       "  'stored images (n)': 0,\n",
       "  'stored data (B)': 0}}"
      ]
     },
     "execution_count": 26,
     "metadata": {},
     "output_type": "execute_result"
    }
   ],
   "source": [
    "sampling_exg.get_all_node_parameters()"
   ]
  },
  {
   "cell_type": "code",
   "execution_count": 27,
   "id": "d92d18e7",
   "metadata": {},
   "outputs": [],
   "source": [
    "sampling_exg.get_output_msg()"
   ]
  },
  {
   "cell_type": "code",
   "execution_count": 28,
   "id": "0967fc12",
   "metadata": {},
   "outputs": [
    {
     "data": {
      "text/plain": [
       "{'CPU host': {'disk storage rate (B/s)': 1000000000.0,\n",
       "  'stored images (n)': 0,\n",
       "  'stored data (B)': 0},\n",
       " 'Image sensor': {'resolution (n,n)': (2000, 2000),\n",
       "  'bit depth (n)': 16,\n",
       "  'readout latency (s)': 0.001,\n",
       "  'pixel energy (J)': 0.001,\n",
       "  'sample rate (Hz)': 10000.0},\n",
       " 'Sample stage': {'last position (mm,mm)': [0.0, 0.0],\n",
       "  'position (mm,mm)': [0.0, 0.0],\n",
       "  'move rate (mm/s)': 100,\n",
       "  'settle time (s)': 0.001}}"
      ]
     },
     "execution_count": 28,
     "metadata": {},
     "output_type": "execute_result"
    }
   ],
   "source": [
    "sampling_exg_2.get_all_node_parameters()"
   ]
  },
  {
   "cell_type": "code",
   "execution_count": 29,
   "id": "1ee2fdf6",
   "metadata": {},
   "outputs": [
    {
     "data": {
      "text/plain": [
       "Message(fields={'relevancy (%)': 1.0, 'readout latency (s)': 0.001, 'image data (B)': np.float64(8000000.0), 'position (mm,mm)': [0.0, 0.0], 'movement latency (s)': np.float64(0.001), 'stored data (B)': np.float64(8000000.0)}, properties={'resolution (n,n)': (2000, 2000), 'bitdepth (n)': 16, 'sample rate (Hz)': 10000.0, 'images (n)': 1, 'stored images (n)': 1})"
      ]
     },
     "execution_count": 29,
     "metadata": {},
     "output_type": "execute_result"
    }
   ],
   "source": [
    "sampling_exg_2.get_output_msg()"
   ]
  },
  {
   "cell_type": "code",
   "execution_count": 30,
   "id": "2c0b4ebc",
   "metadata": {},
   "outputs": [
    {
     "data": {
      "text/plain": [
       "'Sample stage'"
      ]
     },
     "execution_count": 30,
     "metadata": {},
     "output_type": "execute_result"
    }
   ],
   "source": [
    "sample_stage.name"
   ]
  },
  {
   "cell_type": "code",
   "execution_count": 31,
   "id": "dbb73847",
   "metadata": {},
   "outputs": [
    {
     "data": {
      "text/plain": [
       "VarCollection(\n",
       "    position='position (mm,mm)',\n",
       "    last_position='last position (mm,mm)',\n",
       "    move_rate='move rate (mm/s)',\n",
       "    settle_time='settle time (s)'\n",
       ")"
      ]
     },
     "execution_count": 31,
     "metadata": {},
     "output_type": "execute_result"
    }
   ],
   "source": [
    "vc_sample"
   ]
  },
  {
   "cell_type": "code",
   "execution_count": 32,
   "id": "9121c3e1",
   "metadata": {},
   "outputs": [
    {
     "data": {
      "text/plain": [
       "{'position (mm,mm)': [0.0, 0.0]}"
      ]
     },
     "execution_count": 32,
     "metadata": {},
     "output_type": "execute_result"
    }
   ],
   "source": [
    "match_message_to_parameters(sampling_exg_2, vc_sample)"
   ]
  },
  {
   "cell_type": "code",
   "execution_count": 33,
   "id": "28f0e4e7",
   "metadata": {},
   "outputs": [
    {
     "data": {
      "text/plain": [
       "{'relevancy (%)': 1.0,\n",
       " 'readout latency (s)': 0.001,\n",
       " 'image data (B)': np.float64(8000000.0),\n",
       " 'position (mm,mm)': [0.0, 0.0],\n",
       " 'movement latency (s)': np.float64(0.001),\n",
       " 'stored data (B)': np.float64(8000000.0)}"
      ]
     },
     "execution_count": 33,
     "metadata": {},
     "output_type": "execute_result"
    }
   ],
   "source": [
    "sampling_exg_2.get_output_msg().fields"
   ]
  },
  {
   "cell_type": "code",
   "execution_count": 34,
   "id": "8b6777c3",
   "metadata": {},
   "outputs": [
    {
     "data": {
      "text/plain": [
       "'last position (mm,mm)'"
      ]
     },
     "execution_count": 34,
     "metadata": {},
     "output_type": "execute_result"
    }
   ],
   "source": [
    "vc_sample.last_position"
   ]
  },
  {
   "cell_type": "code",
   "execution_count": 35,
   "id": "9844c5be",
   "metadata": {},
   "outputs": [
    {
     "data": {
      "text/plain": [
       "'Sampling Process'"
      ]
     },
     "execution_count": 35,
     "metadata": {},
     "output_type": "execute_result"
    }
   ],
   "source": [
    "sampling_exg.name"
   ]
  },
  {
   "cell_type": "code",
   "execution_count": 36,
   "id": "c2efc769",
   "metadata": {},
   "outputs": [],
   "source": [
    "analysis_mutations = [InputMessage(), \n",
    "                      FlatFieldCorrection(),\n",
    "                    MaskCorrection(),\n",
    "                    PhaseReconstruction3D(),]\n",
    "vc_analysis = collect_parameters(analysis_mutations)\n",
    "analysis_host = Component(\"Offline analysis\",\n",
    "                          analysis_mutations,\n",
    "                          {vc_analysis.op_latency: 1e-5,\n",
    "                           vc_analysis.parallelism: 0.70,\n",
    "                           vc_analysis.overlap: 0.40,\n",
    "                           vc_analysis.mask_proportion: 0.05,\n",
    "                           vc_analysis.kernel_size: (0.02, 0.02),\n",
    "                           vc_analysis.iterations: 20,\n",
    "                           vc_analysis.xy_images: (20, 20),\n",
    "                           vc_analysis.input_message: sampling_exg_2.get_output_msg(),})\n"
   ]
  },
  {
   "cell_type": "code",
   "execution_count": 37,
   "id": "e2c132bb",
   "metadata": {},
   "outputs": [],
   "source": [
    "cpu_mutations = [FlatFieldCorrection(),\n",
    "                MaskCorrection(),\n",
    "                PhaseReconstruction3D(),]\n",
    "\n",
    "vc_cpu = collect_parameters(cpu_mutations)"
   ]
  },
  {
   "cell_type": "code",
   "execution_count": 38,
   "id": "da3af241",
   "metadata": {},
   "outputs": [],
   "source": [
    "analysis_exg = ExecutionGraph(\"Offline reconstruction\",\n",
    "                              [analysis_host,],\n",
    "                              links = [],\n",
    "                              metrics = [])"
   ]
  },
  {
   "cell_type": "code",
   "execution_count": 39,
   "id": "9849a52f",
   "metadata": {},
   "outputs": [
    {
     "data": {
      "text/plain": [
       "'CPU host'"
      ]
     },
     "execution_count": 39,
     "metadata": {},
     "output_type": "execute_result"
    }
   ],
   "source": [
    "sampling_exg_2.nodes[0].name"
   ]
  },
  {
   "cell_type": "code",
   "execution_count": 40,
   "id": "71926c87",
   "metadata": {},
   "outputs": [
    {
     "data": {
      "text/plain": [
       "{'resolution (n,n)': (2000, 2000),\n",
       " 'bitdepth (n)': 16,\n",
       " 'sample rate (Hz)': 10000.0,\n",
       " 'images (n)': 1,\n",
       " 'stored images (n)': 1}"
      ]
     },
     "execution_count": 40,
     "metadata": {},
     "output_type": "execute_result"
    }
   ],
   "source": [
    "sampling_exg_2.get_output_msg().properties"
   ]
  },
  {
   "cell_type": "code",
   "execution_count": 41,
   "id": "98de7089",
   "metadata": {},
   "outputs": [
    {
     "data": {
      "text/plain": [
       "{'CPU host': {'position (mm,mm)': [0.0, 0.0],\n",
       "  'resolution (n,n)': (2000, 2000),\n",
       "  'readout latency (s)': 0.001,\n",
       "  'sample rate (Hz)': 10000.0,\n",
       "  'stored data (B)': np.float64(8000000.0),\n",
       "  'stored images (n)': 1}}"
      ]
     },
     "execution_count": 41,
     "metadata": {},
     "output_type": "execute_result"
    }
   ],
   "source": [
    "match_message_to_parameters(sampling_exg_2, collect_parameters(sampling_exg.get_mutations()), \"CPU host\")"
   ]
  },
  {
   "cell_type": "code",
   "execution_count": 42,
   "id": "eaddcb9d",
   "metadata": {},
   "outputs": [
    {
     "data": {
      "text/plain": [
       "<systemflow.node.Component at 0x11b34ca30>"
      ]
     },
     "execution_count": 42,
     "metadata": {},
     "output_type": "execute_result"
    }
   ],
   "source": [
    "sampling_exg_2.get_node(\"Sample stage\")"
   ]
  },
  {
   "cell_type": "code",
   "execution_count": 43,
   "id": "e0a739ed",
   "metadata": {},
   "outputs": [
    {
     "data": {
      "text/plain": [
       "['CPU host', 'Image sensor', 'Sample stage']"
      ]
     },
     "execution_count": 43,
     "metadata": {},
     "output_type": "execute_result"
    }
   ],
   "source": [
    "sampling_exg_2.list_nodes()"
   ]
  },
  {
   "cell_type": "code",
   "execution_count": 44,
   "id": "63bbbee1",
   "metadata": {},
   "outputs": [
    {
     "data": {
      "text/plain": [
       "<systemflow.node.Component at 0x11b34ca30>"
      ]
     },
     "execution_count": 44,
     "metadata": {},
     "output_type": "execute_result"
    }
   ],
   "source": [
    "sampling_exg_2.get_node(\"Sample stage\")"
   ]
  },
  {
   "cell_type": "code",
   "execution_count": 45,
   "id": "be5e62c2",
   "metadata": {},
   "outputs": [
    {
     "data": {
      "text/plain": [
       "VarCollection(\n",
       "    stored_data='stored data (B)',\n",
       "    stored_images='stored images (n)',\n",
       "    storage_rate='disk storage rate (B/s)'\n",
       ")"
      ]
     },
     "execution_count": 45,
     "metadata": {},
     "output_type": "execute_result"
    }
   ],
   "source": [
    "collect_parameters(sampling_exg_2.get_node(\"CPU host\").mutations)"
   ]
  },
  {
   "cell_type": "markdown",
   "id": "eaecde0b",
   "metadata": {},
   "source": [
    "We've now setup the components necessary to collect an image which will become part of the reconstruction. However, this collection becomes a multi-step process which we must model. We do this by incorporating a new element, a System which controls the flow of different execution graphs:"
   ]
  },
  {
   "cell_type": "code",
   "execution_count": 46,
   "id": "303632be",
   "metadata": {},
   "outputs": [],
   "source": [
    "class OfflinePtychographySystem(System):\n",
    "    def __init__(self, sample_limits: tuple, n_steps: tuple, sampling_exg: ExecutionGraph, analysis_exg: ExecutionGraph, cpu_hostname=\"CPU host\"):\n",
    "        super().__init__(\"Offline Ptychography\", \n",
    "                         {sampling_exg.name: sampling_exg,\n",
    "                          analysis_exg.name: analysis_exg,},\n",
    "                         )\n",
    "        \n",
    "        #copy the execution graphs\n",
    "        self.sampling_exg = deepcopy(sampling_exg)\n",
    "        self.analysis_exg = deepcopy(analysis_exg)\n",
    "        self.cpu_hostname = cpu_hostname\n",
    "        #what are the limits on the sample size\n",
    "        self.sample_limits = sample_limits\n",
    "        #how many steps are we taking across it?\n",
    "        self.n_steps = n_steps\n",
    "\n",
    "    def step(self, execution_history, new_position):\n",
    "        previous_graph = execution_history[-1]\n",
    "        vc_storage = collect_parameters(self.sampling_exg.get_node(self.cpu_hostname).mutations)\n",
    "        vc_sample = collect_parameters(self.sampling_exg.get_mutations())\n",
    "        #find out where the previous sample position was\n",
    "        previous_position = previous_graph.get_output_msg().fields[vc_sample.position]\n",
    "        #find how many images & how much data were stored in the graph its last call\n",
    "        new_cpu_params = match_message_to_parameters(previous_graph, vc_storage, self.cpu_hostname)\n",
    "        new_sample_params = {\"Sample stage\": {vc_sample.last_position: previous_position,\n",
    "                                                    vc_sample.position: new_position,}}\n",
    "        \n",
    "        new_params = new_cpu_params | new_sample_params\n",
    "        \n",
    "        new_graph = previous_graph.with_updated_parameters(new_params)()\n",
    "        return new_graph\n",
    "\n",
    "    def flow_control(self):\n",
    "        execution_history = []\n",
    "        vc_analysis = collect_parameters(self.analysis_exg.get_mutations())\n",
    "        #initialize the first step\n",
    "        execution_history.append(self.sampling_exg())\n",
    "        #generate the points we're moving over\n",
    "        sample_points = serpentine_points(self.sample_limits, self.n_steps)\n",
    "\n",
    "        #collect and store the diffraction imaging data\n",
    "        for point in sample_points:\n",
    "            new_graph = self.step(execution_history, point)\n",
    "            execution_history.append(new_graph)\n",
    "\n",
    "        #then run the reconstruction\n",
    "        #find the number of stored images\n",
    "        final_msg = execution_history[-1].get_output_msg()\n",
    "        analysis_graph = self.analysis_exg.with_updated_parameters(\n",
    "            {self.analysis_exg.nodes[0].name: {vc_analysis.input_message: final_msg,\n",
    "                                            vc_analysis.xy_images: self.n_steps}})\n",
    "        \n",
    "        execution_history.append(analysis_graph())\n",
    "\n",
    "        return execution_history\n"
   ]
  },
  {
   "cell_type": "code",
   "execution_count": 47,
   "id": "619a9646",
   "metadata": {},
   "outputs": [],
   "source": [
    "optych = OfflinePtychographySystem((20.0, 20.0), (20, 20), sampling_exg, analysis_exg)"
   ]
  },
  {
   "cell_type": "code",
   "execution_count": 48,
   "id": "a7f7775b",
   "metadata": {},
   "outputs": [
    {
     "data": {
      "text/plain": [
       "0"
      ]
     },
     "execution_count": 48,
     "metadata": {},
     "output_type": "execute_result"
    }
   ],
   "source": [
    "len(optych.execution_history)"
   ]
  },
  {
   "cell_type": "code",
   "execution_count": 49,
   "id": "cffe6497",
   "metadata": {},
   "outputs": [
    {
     "name": "stdout",
     "output_type": "stream",
     "text": [
      "Position:  [0.0, 0.0]\n",
      "Relevancy: 1.0\n",
      "Position:  [0. 0.]\n",
      "Relevancy: 1.0\n",
      "Position:  [1.05263158 0.        ]\n",
      "Relevancy: 1.0\n",
      "Position:  [2.10526316 0.        ]\n",
      "Relevancy: 1.0\n",
      "Position:  [3.15789474 0.        ]\n",
      "Relevancy: 1.0\n",
      "Position:  [4.21052632 0.        ]\n",
      "Relevancy: 1.0\n",
      "Position:  [5.26315789 0.        ]\n",
      "Relevancy: 1.0\n",
      "Position:  [6.31578947 0.        ]\n",
      "Relevancy: 1.0\n",
      "Position:  [7.36842105 0.        ]\n",
      "Relevancy: 1.0\n",
      "Position:  [8.42105263 0.        ]\n",
      "Relevancy: 1.0\n",
      "Position:  [9.47368421 0.        ]\n",
      "Relevancy: 1.0\n",
      "Position:  [10.52631579  0.        ]\n",
      "Relevancy: 1.0\n",
      "Position:  [11.57894737  0.        ]\n",
      "Relevancy: 1.0\n",
      "Position:  [12.63157895  0.        ]\n",
      "Relevancy: 1.0\n",
      "Position:  [13.68421053  0.        ]\n",
      "Relevancy: 1.0\n",
      "Position:  [14.73684211  0.        ]\n",
      "Relevancy: 1.0\n",
      "Position:  [15.78947368  0.        ]\n",
      "Relevancy: 1.0\n",
      "Position:  [16.84210526  0.        ]\n",
      "Relevancy: 1.0\n",
      "Position:  [17.89473684  0.        ]\n",
      "Relevancy: 1.0\n",
      "Position:  [18.94736842  0.        ]\n",
      "Relevancy: 1.0\n",
      "Position:  [20.  0.]\n",
      "Relevancy: 1.0\n",
      "Position:  [20.          1.05263158]\n",
      "Relevancy: 1.0\n",
      "Position:  [18.94736842  1.05263158]\n",
      "Relevancy: 1.0\n",
      "Position:  [17.89473684  1.05263158]\n",
      "Relevancy: 1.0\n",
      "Position:  [16.84210526  1.05263158]\n",
      "Relevancy: 1.0\n",
      "Position:  [15.78947368  1.05263158]\n",
      "Relevancy: 1.0\n",
      "Position:  [14.73684211  1.05263158]\n",
      "Relevancy: 1.0\n",
      "Position:  [13.68421053  1.05263158]\n",
      "Relevancy: 1.0\n",
      "Position:  [12.63157895  1.05263158]\n",
      "Relevancy: 1.0\n",
      "Position:  [11.57894737  1.05263158]\n",
      "Relevancy: 1.0\n",
      "Position:  [10.52631579  1.05263158]\n",
      "Relevancy: 1.0\n",
      "Position:  [9.47368421 1.05263158]\n",
      "Relevancy: 1.0\n",
      "Position:  [8.42105263 1.05263158]\n",
      "Relevancy: 1.0\n",
      "Position:  [7.36842105 1.05263158]\n",
      "Relevancy: 1.0\n",
      "Position:  [6.31578947 1.05263158]\n",
      "Relevancy: 1.0\n",
      "Position:  [5.26315789 1.05263158]\n",
      "Relevancy: 1.0\n",
      "Position:  [4.21052632 1.05263158]\n",
      "Relevancy: 1.0\n",
      "Position:  [3.15789474 1.05263158]\n",
      "Relevancy: 1.0\n",
      "Position:  [2.10526316 1.05263158]\n",
      "Relevancy: 1.0\n",
      "Position:  [1.05263158 1.05263158]\n",
      "Relevancy: 1.0\n",
      "Position:  [0.         1.05263158]\n",
      "Relevancy: 1.0\n",
      "Position:  [0.         2.10526316]\n",
      "Relevancy: 1.0\n",
      "Position:  [1.05263158 2.10526316]\n",
      "Relevancy: 1.0\n",
      "Position:  [2.10526316 2.10526316]\n",
      "Relevancy: 1.0\n",
      "Position:  [3.15789474 2.10526316]\n",
      "Relevancy: 1.0\n",
      "Position:  [4.21052632 2.10526316]\n",
      "Relevancy: 1.0\n",
      "Position:  [5.26315789 2.10526316]\n",
      "Relevancy: 1.0\n",
      "Position:  [6.31578947 2.10526316]\n",
      "Relevancy: 1.0\n",
      "Position:  [7.36842105 2.10526316]\n",
      "Relevancy: 1.0\n",
      "Position:  [8.42105263 2.10526316]\n",
      "Relevancy: 1.0\n",
      "Position:  [9.47368421 2.10526316]\n",
      "Relevancy: 1.0\n",
      "Position:  [10.52631579  2.10526316]\n",
      "Relevancy: 1.0\n",
      "Position:  [11.57894737  2.10526316]\n",
      "Relevancy: 1.0\n",
      "Position:  [12.63157895  2.10526316]\n",
      "Relevancy: 1.0\n",
      "Position:  [13.68421053  2.10526316]\n",
      "Relevancy: 1.0\n",
      "Position:  [14.73684211  2.10526316]\n",
      "Relevancy: 1.0\n",
      "Position:  [15.78947368  2.10526316]\n",
      "Relevancy: 1.0\n",
      "Position:  [16.84210526  2.10526316]\n",
      "Relevancy: 1.0\n",
      "Position:  [17.89473684  2.10526316]\n",
      "Relevancy: 1.0\n",
      "Position:  [18.94736842  2.10526316]\n",
      "Relevancy: 1.0\n",
      "Position:  [20.          2.10526316]\n",
      "Relevancy: 1.0\n",
      "Position:  [20.          3.15789474]\n",
      "Relevancy: 1.0\n",
      "Position:  [18.94736842  3.15789474]\n",
      "Relevancy: 1.0\n",
      "Position:  [17.89473684  3.15789474]\n",
      "Relevancy: 1.0\n",
      "Position:  [16.84210526  3.15789474]\n",
      "Relevancy: 1.0\n",
      "Position:  [15.78947368  3.15789474]\n",
      "Relevancy: 1.0\n",
      "Position:  [14.73684211  3.15789474]\n",
      "Relevancy: 1.0\n",
      "Position:  [13.68421053  3.15789474]\n",
      "Relevancy: 1.0\n",
      "Position:  [12.63157895  3.15789474]\n",
      "Relevancy: 1.0\n",
      "Position:  [11.57894737  3.15789474]\n",
      "Relevancy: 1.0\n",
      "Position:  [10.52631579  3.15789474]\n",
      "Relevancy: 1.0\n",
      "Position:  [9.47368421 3.15789474]\n",
      "Relevancy: 1.0\n",
      "Position:  [8.42105263 3.15789474]\n",
      "Relevancy: 1.0\n",
      "Position:  [7.36842105 3.15789474]\n",
      "Relevancy: 1.0\n",
      "Position:  [6.31578947 3.15789474]\n",
      "Relevancy: 1.0\n",
      "Position:  [5.26315789 3.15789474]\n",
      "Relevancy: 1.0\n",
      "Position:  [4.21052632 3.15789474]\n",
      "Relevancy: 1.0\n",
      "Position:  [3.15789474 3.15789474]\n",
      "Relevancy: 1.0\n",
      "Position:  [2.10526316 3.15789474]\n",
      "Relevancy: 1.0\n",
      "Position:  [1.05263158 3.15789474]\n",
      "Relevancy: 1.0\n",
      "Position:  [0.         3.15789474]\n",
      "Relevancy: 1.0\n",
      "Position:  [0.         4.21052632]\n",
      "Relevancy: 1.0\n",
      "Position:  [1.05263158 4.21052632]\n",
      "Relevancy: 1.0\n",
      "Position:  [2.10526316 4.21052632]\n",
      "Relevancy: 1.0\n",
      "Position:  [3.15789474 4.21052632]\n",
      "Relevancy: 1.0\n",
      "Position:  [4.21052632 4.21052632]\n",
      "Relevancy: 1.0\n",
      "Position:  [5.26315789 4.21052632]\n",
      "Relevancy: 1.0\n",
      "Position:  [6.31578947 4.21052632]\n",
      "Relevancy: 1.0\n",
      "Position:  [7.36842105 4.21052632]\n",
      "Relevancy: 1.0\n",
      "Position:  [8.42105263 4.21052632]\n",
      "Relevancy: 1.0\n",
      "Position:  [9.47368421 4.21052632]\n",
      "Relevancy: 1.0\n",
      "Position:  [10.52631579  4.21052632]\n",
      "Relevancy: 1.0\n",
      "Position:  [11.57894737  4.21052632]\n",
      "Relevancy: 1.0\n",
      "Position:  [12.63157895  4.21052632]\n",
      "Relevancy: 1.0\n",
      "Position:  [13.68421053  4.21052632]\n",
      "Relevancy: 1.0\n",
      "Position:  [14.73684211  4.21052632]\n",
      "Relevancy: 1.0\n",
      "Position:  [15.78947368  4.21052632]\n",
      "Relevancy: 1.0\n",
      "Position:  [16.84210526  4.21052632]\n",
      "Relevancy: 1.0\n",
      "Position:  [17.89473684  4.21052632]\n",
      "Relevancy: 1.0\n",
      "Position:  [18.94736842  4.21052632]\n",
      "Relevancy: 1.0\n",
      "Position:  [20.          4.21052632]\n",
      "Relevancy: 1.0\n",
      "Position:  [20.          5.26315789]\n",
      "Relevancy: 1.0\n",
      "Position:  [18.94736842  5.26315789]\n",
      "Relevancy: 1.0\n",
      "Position:  [17.89473684  5.26315789]\n",
      "Relevancy: 1.0\n",
      "Position:  [16.84210526  5.26315789]\n",
      "Relevancy: 1.0\n",
      "Position:  [15.78947368  5.26315789]\n",
      "Relevancy: 1.0\n",
      "Position:  [14.73684211  5.26315789]\n",
      "Relevancy: 1.0\n",
      "Position:  [13.68421053  5.26315789]\n",
      "Relevancy: 1.0\n",
      "Position:  [12.63157895  5.26315789]\n",
      "Relevancy: 1.0\n",
      "Position:  [11.57894737  5.26315789]\n",
      "Relevancy: 1.0\n",
      "Position:  [10.52631579  5.26315789]\n",
      "Relevancy: 1.0\n",
      "Position:  [9.47368421 5.26315789]\n",
      "Relevancy: 1.0\n",
      "Position:  [8.42105263 5.26315789]\n",
      "Relevancy: 1.0\n",
      "Position:  [7.36842105 5.26315789]\n",
      "Relevancy: 1.0\n",
      "Position:  [6.31578947 5.26315789]\n",
      "Relevancy: 1.0\n",
      "Position:  [5.26315789 5.26315789]\n",
      "Relevancy: 1.0\n",
      "Position:  [4.21052632 5.26315789]\n",
      "Relevancy: 1.0\n",
      "Position:  [3.15789474 5.26315789]\n",
      "Relevancy: 1.0\n",
      "Position:  [2.10526316 5.26315789]\n",
      "Relevancy: 1.0\n",
      "Position:  [1.05263158 5.26315789]\n",
      "Relevancy: 1.0\n",
      "Position:  [0.         5.26315789]\n",
      "Relevancy: 1.0\n",
      "Position:  [0.         6.31578947]\n",
      "Relevancy: 1.0\n",
      "Position:  [1.05263158 6.31578947]\n",
      "Relevancy: 1.0\n",
      "Position:  [2.10526316 6.31578947]\n",
      "Relevancy: 1.0\n",
      "Position:  [3.15789474 6.31578947]\n",
      "Relevancy: 1.0\n",
      "Position:  [4.21052632 6.31578947]\n",
      "Relevancy: 1.0\n",
      "Position:  [5.26315789 6.31578947]\n",
      "Relevancy: 1.0\n",
      "Position:  [6.31578947 6.31578947]\n",
      "Relevancy: 1.0\n",
      "Position:  [7.36842105 6.31578947]\n",
      "Relevancy: 1.0\n",
      "Position:  [8.42105263 6.31578947]\n",
      "Relevancy: 1.0\n",
      "Position:  [9.47368421 6.31578947]\n",
      "Relevancy: 1.0\n",
      "Position:  [10.52631579  6.31578947]\n",
      "Relevancy: 1.0\n",
      "Position:  [11.57894737  6.31578947]\n",
      "Relevancy: 1.0\n",
      "Position:  [12.63157895  6.31578947]\n",
      "Relevancy: 1.0\n",
      "Position:  [13.68421053  6.31578947]\n",
      "Relevancy: 1.0\n",
      "Position:  [14.73684211  6.31578947]\n",
      "Relevancy: 1.0\n",
      "Position:  [15.78947368  6.31578947]\n",
      "Relevancy: 1.0\n",
      "Position:  [16.84210526  6.31578947]\n",
      "Relevancy: 1.0\n",
      "Position:  [17.89473684  6.31578947]\n",
      "Relevancy: 1.0\n",
      "Position:  [18.94736842  6.31578947]\n",
      "Relevancy: 1.0\n",
      "Position:  [20.          6.31578947]\n",
      "Relevancy: 1.0\n",
      "Position:  [20.          7.36842105]\n",
      "Relevancy: 1.0\n",
      "Position:  [18.94736842  7.36842105]\n",
      "Relevancy: 1.0\n",
      "Position:  [17.89473684  7.36842105]\n",
      "Relevancy: 1.0\n",
      "Position:  [16.84210526  7.36842105]\n",
      "Relevancy: 1.0\n",
      "Position:  [15.78947368  7.36842105]\n",
      "Relevancy: 1.0\n",
      "Position:  [14.73684211  7.36842105]\n",
      "Relevancy: 1.0\n",
      "Position:  [13.68421053  7.36842105]\n",
      "Relevancy: 1.0\n",
      "Position:  [12.63157895  7.36842105]\n",
      "Relevancy: 1.0\n",
      "Position:  [11.57894737  7.36842105]\n",
      "Relevancy: 1.0\n",
      "Position:  [10.52631579  7.36842105]\n",
      "Relevancy: 1.0\n",
      "Position:  [9.47368421 7.36842105]\n",
      "Relevancy: 1.0\n",
      "Position:  [8.42105263 7.36842105]\n",
      "Relevancy: 1.0\n",
      "Position:  [7.36842105 7.36842105]\n",
      "Relevancy: 1.0\n",
      "Position:  [6.31578947 7.36842105]\n",
      "Relevancy: 1.0\n",
      "Position:  [5.26315789 7.36842105]\n",
      "Relevancy: 1.0\n",
      "Position:  [4.21052632 7.36842105]\n",
      "Relevancy: 1.0\n",
      "Position:  [3.15789474 7.36842105]\n",
      "Relevancy: 1.0\n",
      "Position:  [2.10526316 7.36842105]\n",
      "Relevancy: 1.0\n",
      "Position:  [1.05263158 7.36842105]\n",
      "Relevancy: 1.0\n",
      "Position:  [0.         7.36842105]\n",
      "Relevancy: 1.0\n",
      "Position:  [0.         8.42105263]\n",
      "Relevancy: 1.0\n",
      "Position:  [1.05263158 8.42105263]\n",
      "Relevancy: 1.0\n",
      "Position:  [2.10526316 8.42105263]\n",
      "Relevancy: 1.0\n",
      "Position:  [3.15789474 8.42105263]\n",
      "Relevancy: 1.0\n",
      "Position:  [4.21052632 8.42105263]\n",
      "Relevancy: 1.0\n",
      "Position:  [5.26315789 8.42105263]\n",
      "Relevancy: 1.0\n",
      "Position:  [6.31578947 8.42105263]\n",
      "Relevancy: 1.0\n",
      "Position:  [7.36842105 8.42105263]\n",
      "Relevancy: 1.0\n",
      "Position:  [8.42105263 8.42105263]\n",
      "Relevancy: 1.0\n",
      "Position:  [9.47368421 8.42105263]\n",
      "Relevancy: 1.0\n",
      "Position:  [10.52631579  8.42105263]\n",
      "Relevancy: 1.0\n",
      "Position:  [11.57894737  8.42105263]\n",
      "Relevancy: 1.0\n",
      "Position:  [12.63157895  8.42105263]\n",
      "Relevancy: 1.0\n",
      "Position:  [13.68421053  8.42105263]\n",
      "Relevancy: 1.0\n",
      "Position:  [14.73684211  8.42105263]\n",
      "Relevancy: 1.0\n",
      "Position:  [15.78947368  8.42105263]\n",
      "Relevancy: 1.0\n",
      "Position:  [16.84210526  8.42105263]\n",
      "Relevancy: 1.0\n",
      "Position:  [17.89473684  8.42105263]\n",
      "Relevancy: 1.0\n",
      "Position:  [18.94736842  8.42105263]\n",
      "Relevancy: 1.0\n",
      "Position:  [20.          8.42105263]\n",
      "Relevancy: 1.0\n",
      "Position:  [20.          9.47368421]\n",
      "Relevancy: 1.0\n",
      "Position:  [18.94736842  9.47368421]\n",
      "Relevancy: 1.0\n",
      "Position:  [17.89473684  9.47368421]\n",
      "Relevancy: 1.0\n",
      "Position:  [16.84210526  9.47368421]\n",
      "Relevancy: 1.0\n",
      "Position:  [15.78947368  9.47368421]\n",
      "Relevancy: 1.0\n",
      "Position:  [14.73684211  9.47368421]\n",
      "Relevancy: 1.0\n",
      "Position:  [13.68421053  9.47368421]\n",
      "Relevancy: 1.0\n",
      "Position:  [12.63157895  9.47368421]\n",
      "Relevancy: 1.0\n",
      "Position:  [11.57894737  9.47368421]\n",
      "Relevancy: 1.0\n",
      "Position:  [10.52631579  9.47368421]\n",
      "Relevancy: 1.0\n",
      "Position:  [9.47368421 9.47368421]\n",
      "Relevancy: 1.0\n",
      "Position:  [8.42105263 9.47368421]\n",
      "Relevancy: 1.0\n",
      "Position:  [7.36842105 9.47368421]\n",
      "Relevancy: 1.0\n",
      "Position:  [6.31578947 9.47368421]\n",
      "Relevancy: 1.0\n",
      "Position:  [5.26315789 9.47368421]\n",
      "Relevancy: 1.0\n",
      "Position:  [4.21052632 9.47368421]\n",
      "Relevancy: 1.0\n",
      "Position:  [3.15789474 9.47368421]\n",
      "Relevancy: 1.0\n",
      "Position:  [2.10526316 9.47368421]\n",
      "Relevancy: 1.0\n",
      "Position:  [1.05263158 9.47368421]\n",
      "Relevancy: 1.0\n",
      "Position:  [0.         9.47368421]\n",
      "Relevancy: 1.0\n",
      "Position:  [ 0.         10.52631579]\n",
      "Relevancy: 1.0\n",
      "Position:  [ 1.05263158 10.52631579]\n",
      "Relevancy: 1.0\n",
      "Position:  [ 2.10526316 10.52631579]\n",
      "Relevancy: 1.0\n",
      "Position:  [ 3.15789474 10.52631579]\n",
      "Relevancy: 1.0\n",
      "Position:  [ 4.21052632 10.52631579]\n",
      "Relevancy: 1.0\n",
      "Position:  [ 5.26315789 10.52631579]\n",
      "Relevancy: 1.0\n",
      "Position:  [ 6.31578947 10.52631579]\n",
      "Relevancy: 1.0\n",
      "Position:  [ 7.36842105 10.52631579]\n",
      "Relevancy: 1.0\n",
      "Position:  [ 8.42105263 10.52631579]\n",
      "Relevancy: 1.0\n",
      "Position:  [ 9.47368421 10.52631579]\n",
      "Relevancy: 1.0\n",
      "Position:  [10.52631579 10.52631579]\n",
      "Relevancy: 1.0\n",
      "Position:  [11.57894737 10.52631579]\n",
      "Relevancy: 1.0\n",
      "Position:  [12.63157895 10.52631579]\n",
      "Relevancy: 1.0\n",
      "Position:  [13.68421053 10.52631579]\n",
      "Relevancy: 1.0\n",
      "Position:  [14.73684211 10.52631579]\n",
      "Relevancy: 1.0\n",
      "Position:  [15.78947368 10.52631579]\n",
      "Relevancy: 1.0\n",
      "Position:  [16.84210526 10.52631579]\n",
      "Relevancy: 1.0\n",
      "Position:  [17.89473684 10.52631579]\n",
      "Relevancy: 1.0\n",
      "Position:  [18.94736842 10.52631579]\n",
      "Relevancy: 1.0\n",
      "Position:  [20.         10.52631579]\n",
      "Relevancy: 1.0\n",
      "Position:  [20.         11.57894737]\n",
      "Relevancy: 1.0\n",
      "Position:  [18.94736842 11.57894737]\n",
      "Relevancy: 1.0\n",
      "Position:  [17.89473684 11.57894737]\n",
      "Relevancy: 1.0\n",
      "Position:  [16.84210526 11.57894737]\n",
      "Relevancy: 1.0\n",
      "Position:  [15.78947368 11.57894737]\n",
      "Relevancy: 1.0\n",
      "Position:  [14.73684211 11.57894737]\n",
      "Relevancy: 1.0\n",
      "Position:  [13.68421053 11.57894737]\n",
      "Relevancy: 1.0\n",
      "Position:  [12.63157895 11.57894737]\n",
      "Relevancy: 1.0\n",
      "Position:  [11.57894737 11.57894737]\n",
      "Relevancy: 1.0\n",
      "Position:  [10.52631579 11.57894737]\n",
      "Relevancy: 1.0\n",
      "Position:  [ 9.47368421 11.57894737]\n",
      "Relevancy: 1.0\n",
      "Position:  [ 8.42105263 11.57894737]\n",
      "Relevancy: 1.0\n",
      "Position:  [ 7.36842105 11.57894737]\n",
      "Relevancy: 1.0\n",
      "Position:  [ 6.31578947 11.57894737]\n",
      "Relevancy: 1.0\n",
      "Position:  [ 5.26315789 11.57894737]\n",
      "Relevancy: 1.0\n",
      "Position:  [ 4.21052632 11.57894737]\n",
      "Relevancy: 1.0\n",
      "Position:  [ 3.15789474 11.57894737]\n",
      "Relevancy: 1.0\n",
      "Position:  [ 2.10526316 11.57894737]\n",
      "Relevancy: 1.0\n",
      "Position:  [ 1.05263158 11.57894737]\n",
      "Relevancy: 1.0\n",
      "Position:  [ 0.         11.57894737]\n",
      "Relevancy: 1.0\n",
      "Position:  [ 0.         12.63157895]\n",
      "Relevancy: 1.0\n",
      "Position:  [ 1.05263158 12.63157895]\n",
      "Relevancy: 1.0\n",
      "Position:  [ 2.10526316 12.63157895]\n",
      "Relevancy: 1.0\n",
      "Position:  [ 3.15789474 12.63157895]\n",
      "Relevancy: 1.0\n",
      "Position:  [ 4.21052632 12.63157895]\n",
      "Relevancy: 1.0\n",
      "Position:  [ 5.26315789 12.63157895]\n",
      "Relevancy: 1.0\n",
      "Position:  [ 6.31578947 12.63157895]\n",
      "Relevancy: 1.0\n",
      "Position:  [ 7.36842105 12.63157895]\n",
      "Relevancy: 1.0\n",
      "Position:  [ 8.42105263 12.63157895]\n",
      "Relevancy: 1.0\n",
      "Position:  [ 9.47368421 12.63157895]\n",
      "Relevancy: 1.0\n",
      "Position:  [10.52631579 12.63157895]\n",
      "Relevancy: 1.0\n",
      "Position:  [11.57894737 12.63157895]\n",
      "Relevancy: 1.0\n",
      "Position:  [12.63157895 12.63157895]\n",
      "Relevancy: 1.0\n",
      "Position:  [13.68421053 12.63157895]\n",
      "Relevancy: 1.0\n",
      "Position:  [14.73684211 12.63157895]\n",
      "Relevancy: 1.0\n",
      "Position:  [15.78947368 12.63157895]\n",
      "Relevancy: 1.0\n",
      "Position:  [16.84210526 12.63157895]\n",
      "Relevancy: 1.0\n",
      "Position:  [17.89473684 12.63157895]\n",
      "Relevancy: 1.0\n",
      "Position:  [18.94736842 12.63157895]\n",
      "Relevancy: 1.0\n",
      "Position:  [20.         12.63157895]\n",
      "Relevancy: 1.0\n",
      "Position:  [20.         13.68421053]\n",
      "Relevancy: 1.0\n",
      "Position:  [18.94736842 13.68421053]\n",
      "Relevancy: 1.0\n",
      "Position:  [17.89473684 13.68421053]\n",
      "Relevancy: 1.0\n",
      "Position:  [16.84210526 13.68421053]\n",
      "Relevancy: 1.0\n",
      "Position:  [15.78947368 13.68421053]\n",
      "Relevancy: 1.0\n",
      "Position:  [14.73684211 13.68421053]\n",
      "Relevancy: 1.0\n",
      "Position:  [13.68421053 13.68421053]\n",
      "Relevancy: 1.0\n",
      "Position:  [12.63157895 13.68421053]\n",
      "Relevancy: 1.0\n",
      "Position:  [11.57894737 13.68421053]\n",
      "Relevancy: 1.0\n",
      "Position:  [10.52631579 13.68421053]\n",
      "Relevancy: 1.0\n",
      "Position:  [ 9.47368421 13.68421053]\n",
      "Relevancy: 1.0\n",
      "Position:  [ 8.42105263 13.68421053]\n",
      "Relevancy: 1.0\n",
      "Position:  [ 7.36842105 13.68421053]\n",
      "Relevancy: 1.0\n",
      "Position:  [ 6.31578947 13.68421053]\n",
      "Relevancy: 1.0\n",
      "Position:  [ 5.26315789 13.68421053]\n",
      "Relevancy: 1.0\n",
      "Position:  [ 4.21052632 13.68421053]\n",
      "Relevancy: 1.0\n",
      "Position:  [ 3.15789474 13.68421053]\n",
      "Relevancy: 1.0\n",
      "Position:  [ 2.10526316 13.68421053]\n",
      "Relevancy: 1.0\n",
      "Position:  [ 1.05263158 13.68421053]\n",
      "Relevancy: 1.0\n",
      "Position:  [ 0.         13.68421053]\n",
      "Relevancy: 1.0\n",
      "Position:  [ 0.         14.73684211]\n",
      "Relevancy: 1.0\n",
      "Position:  [ 1.05263158 14.73684211]\n",
      "Relevancy: 1.0\n",
      "Position:  [ 2.10526316 14.73684211]\n",
      "Relevancy: 1.0\n",
      "Position:  [ 3.15789474 14.73684211]\n",
      "Relevancy: 1.0\n",
      "Position:  [ 4.21052632 14.73684211]\n",
      "Relevancy: 1.0\n",
      "Position:  [ 5.26315789 14.73684211]\n",
      "Relevancy: 1.0\n",
      "Position:  [ 6.31578947 14.73684211]\n",
      "Relevancy: 1.0\n",
      "Position:  [ 7.36842105 14.73684211]\n",
      "Relevancy: 1.0\n",
      "Position:  [ 8.42105263 14.73684211]\n",
      "Relevancy: 1.0\n",
      "Position:  [ 9.47368421 14.73684211]\n",
      "Relevancy: 1.0\n",
      "Position:  [10.52631579 14.73684211]\n",
      "Relevancy: 1.0\n",
      "Position:  [11.57894737 14.73684211]\n",
      "Relevancy: 1.0\n",
      "Position:  [12.63157895 14.73684211]\n",
      "Relevancy: 1.0\n",
      "Position:  [13.68421053 14.73684211]\n",
      "Relevancy: 1.0\n",
      "Position:  [14.73684211 14.73684211]\n",
      "Relevancy: 1.0\n",
      "Position:  [15.78947368 14.73684211]\n",
      "Relevancy: 1.0\n",
      "Position:  [16.84210526 14.73684211]\n",
      "Relevancy: 1.0\n",
      "Position:  [17.89473684 14.73684211]\n",
      "Relevancy: 1.0\n",
      "Position:  [18.94736842 14.73684211]\n",
      "Relevancy: 1.0\n",
      "Position:  [20.         14.73684211]\n",
      "Relevancy: 1.0\n",
      "Position:  [20.         15.78947368]\n",
      "Relevancy: 1.0\n",
      "Position:  [18.94736842 15.78947368]\n",
      "Relevancy: 1.0\n",
      "Position:  [17.89473684 15.78947368]\n",
      "Relevancy: 1.0\n",
      "Position:  [16.84210526 15.78947368]\n",
      "Relevancy: 1.0\n",
      "Position:  [15.78947368 15.78947368]\n",
      "Relevancy: 1.0\n",
      "Position:  [14.73684211 15.78947368]\n",
      "Relevancy: 1.0\n",
      "Position:  [13.68421053 15.78947368]\n",
      "Relevancy: 1.0\n",
      "Position:  [12.63157895 15.78947368]\n",
      "Relevancy: 1.0\n",
      "Position:  [11.57894737 15.78947368]\n",
      "Relevancy: 1.0\n",
      "Position:  [10.52631579 15.78947368]\n",
      "Relevancy: 1.0\n",
      "Position:  [ 9.47368421 15.78947368]\n",
      "Relevancy: 1.0\n",
      "Position:  [ 8.42105263 15.78947368]\n",
      "Relevancy: 1.0\n",
      "Position:  [ 7.36842105 15.78947368]\n",
      "Relevancy: 1.0\n",
      "Position:  [ 6.31578947 15.78947368]\n",
      "Relevancy: 1.0\n",
      "Position:  [ 5.26315789 15.78947368]\n",
      "Relevancy: 1.0\n",
      "Position:  [ 4.21052632 15.78947368]\n",
      "Relevancy: 1.0\n",
      "Position:  [ 3.15789474 15.78947368]\n",
      "Relevancy: 1.0\n",
      "Position:  [ 2.10526316 15.78947368]\n",
      "Relevancy: 1.0\n",
      "Position:  [ 1.05263158 15.78947368]\n",
      "Relevancy: 1.0\n",
      "Position:  [ 0.         15.78947368]\n",
      "Relevancy: 1.0\n",
      "Position:  [ 0.         16.84210526]\n",
      "Relevancy: 1.0\n",
      "Position:  [ 1.05263158 16.84210526]\n",
      "Relevancy: 1.0\n",
      "Position:  [ 2.10526316 16.84210526]\n",
      "Relevancy: 1.0\n",
      "Position:  [ 3.15789474 16.84210526]\n",
      "Relevancy: 1.0\n",
      "Position:  [ 4.21052632 16.84210526]\n",
      "Relevancy: 1.0\n",
      "Position:  [ 5.26315789 16.84210526]\n",
      "Relevancy: 1.0\n",
      "Position:  [ 6.31578947 16.84210526]\n",
      "Relevancy: 1.0\n",
      "Position:  [ 7.36842105 16.84210526]\n",
      "Relevancy: 1.0\n",
      "Position:  [ 8.42105263 16.84210526]\n",
      "Relevancy: 1.0\n",
      "Position:  [ 9.47368421 16.84210526]\n",
      "Relevancy: 1.0\n",
      "Position:  [10.52631579 16.84210526]\n",
      "Relevancy: 1.0\n",
      "Position:  [11.57894737 16.84210526]\n",
      "Relevancy: 1.0\n",
      "Position:  [12.63157895 16.84210526]\n",
      "Relevancy: 1.0\n",
      "Position:  [13.68421053 16.84210526]\n",
      "Relevancy: 1.0\n",
      "Position:  [14.73684211 16.84210526]\n",
      "Relevancy: 1.0\n",
      "Position:  [15.78947368 16.84210526]\n",
      "Relevancy: 1.0\n",
      "Position:  [16.84210526 16.84210526]\n",
      "Relevancy: 1.0\n",
      "Position:  [17.89473684 16.84210526]\n",
      "Relevancy: 1.0\n",
      "Position:  [18.94736842 16.84210526]\n",
      "Relevancy: 1.0\n",
      "Position:  [20.         16.84210526]\n",
      "Relevancy: 1.0\n",
      "Position:  [20.         17.89473684]\n",
      "Relevancy: 1.0\n",
      "Position:  [18.94736842 17.89473684]\n",
      "Relevancy: 1.0\n",
      "Position:  [17.89473684 17.89473684]\n",
      "Relevancy: 1.0\n",
      "Position:  [16.84210526 17.89473684]\n",
      "Relevancy: 1.0\n",
      "Position:  [15.78947368 17.89473684]\n",
      "Relevancy: 1.0\n",
      "Position:  [14.73684211 17.89473684]\n",
      "Relevancy: 1.0\n",
      "Position:  [13.68421053 17.89473684]\n",
      "Relevancy: 1.0\n",
      "Position:  [12.63157895 17.89473684]\n",
      "Relevancy: 1.0\n",
      "Position:  [11.57894737 17.89473684]\n",
      "Relevancy: 1.0\n",
      "Position:  [10.52631579 17.89473684]\n",
      "Relevancy: 1.0\n",
      "Position:  [ 9.47368421 17.89473684]\n",
      "Relevancy: 1.0\n",
      "Position:  [ 8.42105263 17.89473684]\n",
      "Relevancy: 1.0\n",
      "Position:  [ 7.36842105 17.89473684]\n",
      "Relevancy: 1.0\n",
      "Position:  [ 6.31578947 17.89473684]\n",
      "Relevancy: 1.0\n",
      "Position:  [ 5.26315789 17.89473684]\n",
      "Relevancy: 1.0\n",
      "Position:  [ 4.21052632 17.89473684]\n",
      "Relevancy: 1.0\n",
      "Position:  [ 3.15789474 17.89473684]\n",
      "Relevancy: 1.0\n",
      "Position:  [ 2.10526316 17.89473684]\n",
      "Relevancy: 1.0\n",
      "Position:  [ 1.05263158 17.89473684]\n",
      "Relevancy: 1.0\n",
      "Position:  [ 0.         17.89473684]\n",
      "Relevancy: 1.0\n",
      "Position:  [ 0.         18.94736842]\n",
      "Relevancy: 1.0\n",
      "Position:  [ 1.05263158 18.94736842]\n",
      "Relevancy: 1.0\n",
      "Position:  [ 2.10526316 18.94736842]\n",
      "Relevancy: 1.0\n",
      "Position:  [ 3.15789474 18.94736842]\n",
      "Relevancy: 1.0\n",
      "Position:  [ 4.21052632 18.94736842]\n",
      "Relevancy: 1.0\n",
      "Position:  [ 5.26315789 18.94736842]\n",
      "Relevancy: 1.0\n",
      "Position:  [ 6.31578947 18.94736842]\n",
      "Relevancy: 1.0\n",
      "Position:  [ 7.36842105 18.94736842]\n",
      "Relevancy: 1.0\n",
      "Position:  [ 8.42105263 18.94736842]\n",
      "Relevancy: 1.0\n",
      "Position:  [ 9.47368421 18.94736842]\n",
      "Relevancy: 1.0\n",
      "Position:  [10.52631579 18.94736842]\n",
      "Relevancy: 1.0\n",
      "Position:  [11.57894737 18.94736842]\n",
      "Relevancy: 1.0\n",
      "Position:  [12.63157895 18.94736842]\n",
      "Relevancy: 1.0\n",
      "Position:  [13.68421053 18.94736842]\n",
      "Relevancy: 1.0\n",
      "Position:  [14.73684211 18.94736842]\n",
      "Relevancy: 1.0\n",
      "Position:  [15.78947368 18.94736842]\n",
      "Relevancy: 1.0\n",
      "Position:  [16.84210526 18.94736842]\n",
      "Relevancy: 1.0\n",
      "Position:  [17.89473684 18.94736842]\n",
      "Relevancy: 1.0\n",
      "Position:  [18.94736842 18.94736842]\n",
      "Relevancy: 1.0\n",
      "Position:  [20.         18.94736842]\n",
      "Relevancy: 1.0\n",
      "Position:  [20. 20.]\n",
      "Relevancy: 1.0\n",
      "Position:  [18.94736842 20.        ]\n",
      "Relevancy: 1.0\n",
      "Position:  [17.89473684 20.        ]\n",
      "Relevancy: 1.0\n",
      "Position:  [16.84210526 20.        ]\n",
      "Relevancy: 1.0\n",
      "Position:  [15.78947368 20.        ]\n",
      "Relevancy: 1.0\n",
      "Position:  [14.73684211 20.        ]\n",
      "Relevancy: 1.0\n",
      "Position:  [13.68421053 20.        ]\n",
      "Relevancy: 1.0\n",
      "Position:  [12.63157895 20.        ]\n",
      "Relevancy: 1.0\n",
      "Position:  [11.57894737 20.        ]\n",
      "Relevancy: 1.0\n",
      "Position:  [10.52631579 20.        ]\n",
      "Relevancy: 1.0\n",
      "Position:  [ 9.47368421 20.        ]\n",
      "Relevancy: 1.0\n",
      "Position:  [ 8.42105263 20.        ]\n",
      "Relevancy: 1.0\n",
      "Position:  [ 7.36842105 20.        ]\n",
      "Relevancy: 1.0\n",
      "Position:  [ 6.31578947 20.        ]\n",
      "Relevancy: 1.0\n",
      "Position:  [ 5.26315789 20.        ]\n",
      "Relevancy: 1.0\n",
      "Position:  [ 4.21052632 20.        ]\n",
      "Relevancy: 1.0\n",
      "Position:  [ 3.15789474 20.        ]\n",
      "Relevancy: 1.0\n",
      "Position:  [ 2.10526316 20.        ]\n",
      "Relevancy: 1.0\n",
      "Position:  [ 1.05263158 20.        ]\n",
      "Relevancy: 1.0\n",
      "Position:  [ 0. 20.]\n",
      "Relevancy: 1.0\n"
     ]
    }
   ],
   "source": [
    "optych_2 = optych()"
   ]
  },
  {
   "cell_type": "code",
   "execution_count": 50,
   "id": "8503811f",
   "metadata": {},
   "outputs": [],
   "source": [
    "posn = np.array([eg.get_output_msg().fields[\"position (mm,mm)\"] for eg in optych_2.execution_history])"
   ]
  },
  {
   "cell_type": "code",
   "execution_count": 51,
   "id": "a9208c1d",
   "metadata": {},
   "outputs": [
    {
     "data": {
      "text/plain": [
       "[<matplotlib.lines.Line2D at 0x11cbd76a0>,\n",
       " <matplotlib.lines.Line2D at 0x11cbd7b50>]"
      ]
     },
     "execution_count": 51,
     "metadata": {},
     "output_type": "execute_result"
    },
    {
     "data": {
      "image/png": "[encoded data removed]",
      "text/plain": [
       "<Figure size 640x480 with 1 Axes>"
      ]
     },
     "metadata": {},
     "output_type": "display_data"
    }
   ],
   "source": [
    "plt.plot(posn)"
   ]
  },
  {
   "cell_type": "code",
   "execution_count": 52,
   "id": "995ce363",
   "metadata": {},
   "outputs": [],
   "source": [
    "rel = np.array([eg.get_output_msg().fields[\"relevancy (%)\"] for eg in optych_2.execution_history])"
   ]
  },
  {
   "cell_type": "code",
   "execution_count": 53,
   "id": "d7cd567a",
   "metadata": {},
   "outputs": [
    {
     "data": {
      "text/plain": [
       "[<matplotlib.lines.Line2D at 0x11cd005b0>]"
      ]
     },
     "execution_count": 53,
     "metadata": {},
     "output_type": "execute_result"
    },
    {
     "data": {
      "image/png": "[encoded data removed]",
      "text/plain": [
       "<Figure size 640x480 with 1 Axes>"
      ]
     },
     "metadata": {},
     "output_type": "display_data"
    }
   ],
   "source": [
    "plt.plot(rel)"
   ]
  },
  {
   "cell_type": "code",
   "execution_count": 54,
   "id": "a012aadf",
   "metadata": {},
   "outputs": [
    {
     "data": {
      "text/plain": [
       "402"
      ]
     },
     "execution_count": 54,
     "metadata": {},
     "output_type": "execute_result"
    }
   ],
   "source": [
    "len(optych_2.execution_history)"
   ]
  },
  {
   "cell_type": "code",
   "execution_count": 55,
   "id": "bba1c99d",
   "metadata": {},
   "outputs": [
    {
     "data": {
      "text/plain": [
       "0"
      ]
     },
     "execution_count": 55,
     "metadata": {},
     "output_type": "execute_result"
    }
   ],
   "source": [
    "len(optych.execution_history)"
   ]
  },
  {
   "cell_type": "code",
   "execution_count": 56,
   "id": "98971f08",
   "metadata": {},
   "outputs": [],
   "source": [
    "final_msg = optych_2.execution_history[-1].get_output_msg()"
   ]
  },
  {
   "cell_type": "code",
   "execution_count": 57,
   "id": "9fd313c5",
   "metadata": {},
   "outputs": [
    {
     "data": {
      "text/plain": [
       "Message(fields={'relevancy (%)': 1.0, 'readout latency (s)': 0.001, 'image data (B)': np.float64(8000000.0), 'position (mm,mm)': array([ 0., 20.]), 'movement latency (s)': np.float64(0.011526315789473683), 'stored data (B)': np.float64(3208000000.0), 'flatfield latency (s)': np.float64(0.0009563524997900376), 'masking corrections (B)': np.float64(400000.0), 'masking latency (s)': np.float64(0.0035607787827508933), 'reconstruction (B)': 64731679.36000001, 'phase data (B)': 25600000000}, properties={'resolution (n,n)': (2000, 2000), 'bitdepth (n)': 16, 'sample rate (Hz)': 10000.0, 'images (n)': 1, 'stored images (n)': 401, 'phase reconstruction (n,n)': (2011.4, 2011.4), 'phase reconstruction latency (s)': np.float64(0.02605099894164507)})"
      ]
     },
     "execution_count": 57,
     "metadata": {},
     "output_type": "execute_result"
    }
   ],
   "source": [
    "final_msg"
   ]
  },
  {
   "cell_type": "code",
   "execution_count": 58,
   "id": "605e8ca0",
   "metadata": {},
   "outputs": [
    {
     "data": {
      "text/plain": [
       "0.4"
      ]
     },
     "execution_count": 58,
     "metadata": {},
     "output_type": "execute_result"
    }
   ],
   "source": [
    "analysis_host.parameters[vc_analysis.overlap]"
   ]
  },
  {
   "cell_type": "code",
   "execution_count": 59,
   "id": "f70f0c31",
   "metadata": {},
   "outputs": [],
   "source": [
    "def centroid_relevancy(n_centroids: int, proportion: float, rect_limits: tuple):\n",
    "    limit_x, limit_y = rect_limits\n",
    "    rect_area = limit_x * limit_y\n",
    "    roi_area = rect_area * proportion\n",
    "    radius = np.sqrt(roi_area / (n_centroids * np.pi))\n",
    "\n",
    "    centroids = np.column_stack((\n",
    "        np.random.uniform(0, limit_x, n_centroids),\n",
    "        np.random.uniform(0, limit_y, n_centroids)\n",
    "    ))\n",
    "\n",
    "    def relevancy_fn(coord):\n",
    "        coord = np.asarray(coord)\n",
    "        for c in centroids:\n",
    "            if np.linalg.norm(coord - c) <= radius:\n",
    "                return 1.0\n",
    "        return 0.0\n",
    "\n",
    "    return relevancy_fn"
   ]
  },
  {
   "cell_type": "code",
   "execution_count": 60,
   "id": "76de636e",
   "metadata": {},
   "outputs": [],
   "source": [
    "rel_f1 = centroid_relevancy(5, 0.10, (20.0, 20.0))"
   ]
  },
  {
   "cell_type": "code",
   "execution_count": 61,
   "id": "2df9ec79",
   "metadata": {},
   "outputs": [],
   "source": [
    "x = np.linspace(0, 20, 101)\n",
    "y = np.linspace(0, 20, 101)\n",
    "mesh_x, mesh_y = np.meshgrid(x, y)\n",
    "mesh_points = np.column_stack([mesh_x.ravel(), mesh_y.ravel()])"
   ]
  },
  {
   "cell_type": "code",
   "execution_count": 62,
   "id": "e3b1040c",
   "metadata": {},
   "outputs": [
    {
     "data": {
      "image/png": "[encoded data removed]",
      "text/plain": [
       "<Figure size 600x500 with 2 Axes>"
      ]
     },
     "metadata": {},
     "output_type": "display_data"
    }
   ],
   "source": [
    "# Evaluate rel_f1 on the mesh grid\n",
    "z = np.array([rel_f1(pt) for pt in mesh_points]).reshape(mesh_x.shape)\n",
    "\n",
    "plt.figure(figsize=(6, 5))\n",
    "plt.imshow(z, extent=(0, 20, 0, 20), origin='lower', cmap='hot', interpolation='nearest')\n",
    "plt.colorbar(label='Relevancy')\n",
    "plt.xlabel('x')\n",
    "plt.ylabel('y')\n",
    "plt.title('Heatmap of rel_f1')\n",
    "plt.show()"
   ]
  },
  {
   "cell_type": "code",
   "execution_count": 69,
   "id": "f74d0680",
   "metadata": {},
   "outputs": [
    {
     "name": "stdout",
     "output_type": "stream",
     "text": [
      "<function centroid_relevancy.<locals>.relevancy_fn at 0x11cd05360>\n"
     ]
    }
   ],
   "source": [
    "centroid_sample_mutations = [PositionSample(relevancy_f=rel_f1),]\n",
    "vc_centroid = collect_parameters(centroid_sample_mutations)\n",
    "\n",
    "centroid_sample = Component(\"Sample stage\",\n",
    "                    centroid_sample_mutations,\n",
    "                    {vc_centroid.last_position: [0.0, 0.0],\n",
    "                     vc_centroid.position: [0.0, 0.0],\n",
    "                     vc_centroid.move_rate: 100,\n",
    "                     vc_centroid.settle_time: 1e-3,},\n",
    "                     {})"
   ]
  },
  {
   "cell_type": "code",
   "execution_count": 70,
   "id": "b2d44830",
   "metadata": {},
   "outputs": [],
   "source": [
    "sampling_nodes = [centroid_sample, detector_host, cpu_host]\n",
    "sampling_links = [DefaultLink(\"Sample Stage -> Image sensor\",\n",
    "                              centroid_sample.name,\n",
    "                              detector_host.name),\n",
    "                    DefaultLink(\"Image sensor -> CPU host\",\n",
    "                                detector_host.name,\n",
    "                                cpu_host.name),]\n",
    "\n",
    "sampling_metrics = [TotalLatency(),]\n",
    "\n",
    "sampling_exg = ExecutionGraph(name=\"Sampling Process\",\n",
    "                              nodes=sampling_nodes,\n",
    "                              links=sampling_links,\n",
    "                              metrics=sampling_metrics)"
   ]
  },
  {
   "cell_type": "code",
   "execution_count": 71,
   "id": "7fe19d6e",
   "metadata": {},
   "outputs": [
    {
     "data": {
      "text/plain": [
       "<function __main__.centroid_relevancy.<locals>.relevancy_fn(coord)>"
      ]
     },
     "execution_count": 71,
     "metadata": {},
     "output_type": "execute_result"
    }
   ],
   "source": [
    "sampling_exg.get_node(\"Sample stage\").mutations[0].relevancy_f"
   ]
  },
  {
   "cell_type": "code",
   "execution_count": 72,
   "id": "1f6dca41",
   "metadata": {},
   "outputs": [],
   "source": [
    "centroid_optych = OfflinePtychographySystem((20.0, 20.0), (20, 20), sampling_exg, analysis_exg)"
   ]
  },
  {
   "cell_type": "code",
   "execution_count": 73,
   "id": "033df126",
   "metadata": {},
   "outputs": [
    {
     "name": "stdout",
     "output_type": "stream",
     "text": [
      "Position:  [0.0, 0.0]\n",
      "Relevancy: 0.0\n",
      "Position:  [0. 0.]\n",
      "Relevancy: 0.0\n",
      "Position:  [1.05263158 0.        ]\n",
      "Relevancy: 0.0\n",
      "Position:  [2.10526316 0.        ]\n",
      "Relevancy: 0.0\n",
      "Position:  [3.15789474 0.        ]\n",
      "Relevancy: 0.0\n",
      "Position:  [4.21052632 0.        ]\n",
      "Relevancy: 0.0\n",
      "Position:  [5.26315789 0.        ]\n",
      "Relevancy: 0.0\n",
      "Position:  [6.31578947 0.        ]\n",
      "Relevancy: 0.0\n",
      "Position:  [7.36842105 0.        ]\n",
      "Relevancy: 0.0\n",
      "Position:  [8.42105263 0.        ]\n",
      "Relevancy: 0.0\n",
      "Position:  [9.47368421 0.        ]\n",
      "Relevancy: 0.0\n",
      "Position:  [10.52631579  0.        ]\n",
      "Relevancy: 0.0\n",
      "Position:  [11.57894737  0.        ]\n",
      "Relevancy: 0.0\n",
      "Position:  [12.63157895  0.        ]\n",
      "Relevancy: 0.0\n",
      "Position:  [13.68421053  0.        ]\n",
      "Relevancy: 0.0\n",
      "Position:  [14.73684211  0.        ]\n",
      "Relevancy: 0.0\n",
      "Position:  [15.78947368  0.        ]\n",
      "Relevancy: 0.0\n",
      "Position:  [16.84210526  0.        ]\n",
      "Relevancy: 0.0\n",
      "Position:  [17.89473684  0.        ]\n",
      "Relevancy: 0.0\n",
      "Position:  [18.94736842  0.        ]\n",
      "Relevancy: 0.0\n",
      "Position:  [20.  0.]\n",
      "Relevancy: 0.0\n",
      "Position:  [20.          1.05263158]\n",
      "Relevancy: 0.0\n",
      "Position:  [18.94736842  1.05263158]\n",
      "Relevancy: 0.0\n",
      "Position:  [17.89473684  1.05263158]\n",
      "Relevancy: 0.0\n",
      "Position:  [16.84210526  1.05263158]\n",
      "Relevancy: 0.0\n",
      "Position:  [15.78947368  1.05263158]\n",
      "Relevancy: 0.0\n",
      "Position:  [14.73684211  1.05263158]\n",
      "Relevancy: 0.0\n",
      "Position:  [13.68421053  1.05263158]\n",
      "Relevancy: 0.0\n",
      "Position:  [12.63157895  1.05263158]\n",
      "Relevancy: 0.0\n",
      "Position:  [11.57894737  1.05263158]\n",
      "Relevancy: 0.0\n",
      "Position:  [10.52631579  1.05263158]\n",
      "Relevancy: 0.0\n",
      "Position:  [9.47368421 1.05263158]\n",
      "Relevancy: 0.0\n",
      "Position:  [8.42105263 1.05263158]\n",
      "Relevancy: 0.0\n",
      "Position:  [7.36842105 1.05263158]\n",
      "Relevancy: 1.0\n",
      "Position:  [6.31578947 1.05263158]\n",
      "Relevancy: 1.0\n",
      "Position:  [5.26315789 1.05263158]\n",
      "Relevancy: 0.0\n",
      "Position:  [4.21052632 1.05263158]\n",
      "Relevancy: 0.0\n",
      "Position:  [3.15789474 1.05263158]\n",
      "Relevancy: 0.0\n",
      "Position:  [2.10526316 1.05263158]\n",
      "Relevancy: 0.0\n",
      "Position:  [1.05263158 1.05263158]\n",
      "Relevancy: 0.0\n",
      "Position:  [0.         1.05263158]\n",
      "Relevancy: 0.0\n",
      "Position:  [0.         2.10526316]\n",
      "Relevancy: 0.0\n",
      "Position:  [1.05263158 2.10526316]\n",
      "Relevancy: 0.0\n",
      "Position:  [2.10526316 2.10526316]\n",
      "Relevancy: 0.0\n",
      "Position:  [3.15789474 2.10526316]\n",
      "Relevancy: 0.0\n",
      "Position:  [4.21052632 2.10526316]\n",
      "Relevancy: 0.0\n",
      "Position:  [5.26315789 2.10526316]\n",
      "Relevancy: 1.0\n",
      "Position:  [6.31578947 2.10526316]\n",
      "Relevancy: 1.0\n",
      "Position:  [7.36842105 2.10526316]\n",
      "Relevancy: 1.0\n",
      "Position:  [8.42105263 2.10526316]\n",
      "Relevancy: 0.0\n",
      "Position:  [9.47368421 2.10526316]\n",
      "Relevancy: 0.0\n",
      "Position:  [10.52631579  2.10526316]\n",
      "Relevancy: 0.0\n",
      "Position:  [11.57894737  2.10526316]\n",
      "Relevancy: 0.0\n",
      "Position:  [12.63157895  2.10526316]\n",
      "Relevancy: 0.0\n",
      "Position:  [13.68421053  2.10526316]\n",
      "Relevancy: 0.0\n",
      "Position:  [14.73684211  2.10526316]\n",
      "Relevancy: 0.0\n",
      "Position:  [15.78947368  2.10526316]\n",
      "Relevancy: 0.0\n",
      "Position:  [16.84210526  2.10526316]\n",
      "Relevancy: 0.0\n",
      "Position:  [17.89473684  2.10526316]\n",
      "Relevancy: 0.0\n",
      "Position:  [18.94736842  2.10526316]\n",
      "Relevancy: 0.0\n",
      "Position:  [20.          2.10526316]\n",
      "Relevancy: 0.0\n",
      "Position:  [20.          3.15789474]\n",
      "Relevancy: 0.0\n",
      "Position:  [18.94736842  3.15789474]\n",
      "Relevancy: 0.0\n",
      "Position:  [17.89473684  3.15789474]\n",
      "Relevancy: 0.0\n",
      "Position:  [16.84210526  3.15789474]\n",
      "Relevancy: 0.0\n",
      "Position:  [15.78947368  3.15789474]\n",
      "Relevancy: 0.0\n",
      "Position:  [14.73684211  3.15789474]\n",
      "Relevancy: 0.0\n",
      "Position:  [13.68421053  3.15789474]\n",
      "Relevancy: 0.0\n",
      "Position:  [12.63157895  3.15789474]\n",
      "Relevancy: 0.0\n",
      "Position:  [11.57894737  3.15789474]\n",
      "Relevancy: 0.0\n",
      "Position:  [10.52631579  3.15789474]\n",
      "Relevancy: 0.0\n",
      "Position:  [9.47368421 3.15789474]\n",
      "Relevancy: 0.0\n",
      "Position:  [8.42105263 3.15789474]\n",
      "Relevancy: 0.0\n",
      "Position:  [7.36842105 3.15789474]\n",
      "Relevancy: 1.0\n",
      "Position:  [6.31578947 3.15789474]\n",
      "Relevancy: 1.0\n",
      "Position:  [5.26315789 3.15789474]\n",
      "Relevancy: 0.0\n",
      "Position:  [4.21052632 3.15789474]\n",
      "Relevancy: 0.0\n",
      "Position:  [3.15789474 3.15789474]\n",
      "Relevancy: 0.0\n",
      "Position:  [2.10526316 3.15789474]\n",
      "Relevancy: 0.0\n",
      "Position:  [1.05263158 3.15789474]\n",
      "Relevancy: 0.0\n",
      "Position:  [0.         3.15789474]\n",
      "Relevancy: 0.0\n",
      "Position:  [0.         4.21052632]\n",
      "Relevancy: 0.0\n",
      "Position:  [1.05263158 4.21052632]\n",
      "Relevancy: 0.0\n",
      "Position:  [2.10526316 4.21052632]\n",
      "Relevancy: 0.0\n",
      "Position:  [3.15789474 4.21052632]\n",
      "Relevancy: 0.0\n",
      "Position:  [4.21052632 4.21052632]\n",
      "Relevancy: 0.0\n",
      "Position:  [5.26315789 4.21052632]\n",
      "Relevancy: 0.0\n",
      "Position:  [6.31578947 4.21052632]\n",
      "Relevancy: 0.0\n",
      "Position:  [7.36842105 4.21052632]\n",
      "Relevancy: 0.0\n",
      "Position:  [8.42105263 4.21052632]\n",
      "Relevancy: 0.0\n",
      "Position:  [9.47368421 4.21052632]\n",
      "Relevancy: 0.0\n",
      "Position:  [10.52631579  4.21052632]\n",
      "Relevancy: 0.0\n",
      "Position:  [11.57894737  4.21052632]\n",
      "Relevancy: 0.0\n",
      "Position:  [12.63157895  4.21052632]\n",
      "Relevancy: 0.0\n",
      "Position:  [13.68421053  4.21052632]\n",
      "Relevancy: 0.0\n",
      "Position:  [14.73684211  4.21052632]\n",
      "Relevancy: 0.0\n",
      "Position:  [15.78947368  4.21052632]\n",
      "Relevancy: 0.0\n",
      "Position:  [16.84210526  4.21052632]\n",
      "Relevancy: 0.0\n",
      "Position:  [17.89473684  4.21052632]\n",
      "Relevancy: 0.0\n",
      "Position:  [18.94736842  4.21052632]\n",
      "Relevancy: 0.0\n",
      "Position:  [20.          4.21052632]\n",
      "Relevancy: 0.0\n",
      "Position:  [20.          5.26315789]\n",
      "Relevancy: 0.0\n",
      "Position:  [18.94736842  5.26315789]\n",
      "Relevancy: 0.0\n",
      "Position:  [17.89473684  5.26315789]\n",
      "Relevancy: 0.0\n",
      "Position:  [16.84210526  5.26315789]\n",
      "Relevancy: 0.0\n",
      "Position:  [15.78947368  5.26315789]\n",
      "Relevancy: 0.0\n",
      "Position:  [14.73684211  5.26315789]\n",
      "Relevancy: 0.0\n",
      "Position:  [13.68421053  5.26315789]\n",
      "Relevancy: 0.0\n",
      "Position:  [12.63157895  5.26315789]\n",
      "Relevancy: 0.0\n",
      "Position:  [11.57894737  5.26315789]\n",
      "Relevancy: 0.0\n",
      "Position:  [10.52631579  5.26315789]\n",
      "Relevancy: 0.0\n",
      "Position:  [9.47368421 5.26315789]\n",
      "Relevancy: 0.0\n",
      "Position:  [8.42105263 5.26315789]\n",
      "Relevancy: 0.0\n",
      "Position:  [7.36842105 5.26315789]\n",
      "Relevancy: 0.0\n",
      "Position:  [6.31578947 5.26315789]\n",
      "Relevancy: 0.0\n",
      "Position:  [5.26315789 5.26315789]\n",
      "Relevancy: 0.0\n",
      "Position:  [4.21052632 5.26315789]\n",
      "Relevancy: 0.0\n",
      "Position:  [3.15789474 5.26315789]\n",
      "Relevancy: 0.0\n",
      "Position:  [2.10526316 5.26315789]\n",
      "Relevancy: 0.0\n",
      "Position:  [1.05263158 5.26315789]\n",
      "Relevancy: 0.0\n",
      "Position:  [0.         5.26315789]\n",
      "Relevancy: 0.0\n",
      "Position:  [0.         6.31578947]\n",
      "Relevancy: 0.0\n",
      "Position:  [1.05263158 6.31578947]\n",
      "Relevancy: 0.0\n",
      "Position:  [2.10526316 6.31578947]\n",
      "Relevancy: 0.0\n",
      "Position:  [3.15789474 6.31578947]\n",
      "Relevancy: 0.0\n",
      "Position:  [4.21052632 6.31578947]\n",
      "Relevancy: 0.0\n",
      "Position:  [5.26315789 6.31578947]\n",
      "Relevancy: 0.0\n",
      "Position:  [6.31578947 6.31578947]\n",
      "Relevancy: 0.0\n",
      "Position:  [7.36842105 6.31578947]\n",
      "Relevancy: 0.0\n",
      "Position:  [8.42105263 6.31578947]\n",
      "Relevancy: 0.0\n",
      "Position:  [9.47368421 6.31578947]\n",
      "Relevancy: 0.0\n",
      "Position:  [10.52631579  6.31578947]\n",
      "Relevancy: 0.0\n",
      "Position:  [11.57894737  6.31578947]\n",
      "Relevancy: 0.0\n",
      "Position:  [12.63157895  6.31578947]\n",
      "Relevancy: 0.0\n",
      "Position:  [13.68421053  6.31578947]\n",
      "Relevancy: 0.0\n",
      "Position:  [14.73684211  6.31578947]\n",
      "Relevancy: 0.0\n",
      "Position:  [15.78947368  6.31578947]\n",
      "Relevancy: 0.0\n",
      "Position:  [16.84210526  6.31578947]\n",
      "Relevancy: 0.0\n",
      "Position:  [17.89473684  6.31578947]\n",
      "Relevancy: 0.0\n",
      "Position:  [18.94736842  6.31578947]\n",
      "Relevancy: 0.0\n",
      "Position:  [20.          6.31578947]\n",
      "Relevancy: 0.0\n",
      "Position:  [20.          7.36842105]\n",
      "Relevancy: 0.0\n",
      "Position:  [18.94736842  7.36842105]\n",
      "Relevancy: 0.0\n",
      "Position:  [17.89473684  7.36842105]\n",
      "Relevancy: 0.0\n",
      "Position:  [16.84210526  7.36842105]\n",
      "Relevancy: 0.0\n",
      "Position:  [15.78947368  7.36842105]\n",
      "Relevancy: 0.0\n",
      "Position:  [14.73684211  7.36842105]\n",
      "Relevancy: 0.0\n",
      "Position:  [13.68421053  7.36842105]\n",
      "Relevancy: 0.0\n",
      "Position:  [12.63157895  7.36842105]\n",
      "Relevancy: 0.0\n",
      "Position:  [11.57894737  7.36842105]\n",
      "Relevancy: 0.0\n",
      "Position:  [10.52631579  7.36842105]\n",
      "Relevancy: 0.0\n",
      "Position:  [9.47368421 7.36842105]\n",
      "Relevancy: 0.0\n",
      "Position:  [8.42105263 7.36842105]\n",
      "Relevancy: 0.0\n",
      "Position:  [7.36842105 7.36842105]\n",
      "Relevancy: 0.0\n",
      "Position:  [6.31578947 7.36842105]\n",
      "Relevancy: 0.0\n",
      "Position:  [5.26315789 7.36842105]\n",
      "Relevancy: 0.0\n",
      "Position:  [4.21052632 7.36842105]\n",
      "Relevancy: 0.0\n",
      "Position:  [3.15789474 7.36842105]\n",
      "Relevancy: 0.0\n",
      "Position:  [2.10526316 7.36842105]\n",
      "Relevancy: 0.0\n",
      "Position:  [1.05263158 7.36842105]\n",
      "Relevancy: 0.0\n",
      "Position:  [0.         7.36842105]\n",
      "Relevancy: 0.0\n",
      "Position:  [0.         8.42105263]\n",
      "Relevancy: 0.0\n",
      "Position:  [1.05263158 8.42105263]\n",
      "Relevancy: 0.0\n",
      "Position:  [2.10526316 8.42105263]\n",
      "Relevancy: 0.0\n",
      "Position:  [3.15789474 8.42105263]\n",
      "Relevancy: 0.0\n",
      "Position:  [4.21052632 8.42105263]\n",
      "Relevancy: 0.0\n",
      "Position:  [5.26315789 8.42105263]\n",
      "Relevancy: 0.0\n",
      "Position:  [6.31578947 8.42105263]\n",
      "Relevancy: 0.0\n",
      "Position:  [7.36842105 8.42105263]\n",
      "Relevancy: 0.0\n",
      "Position:  [8.42105263 8.42105263]\n",
      "Relevancy: 0.0\n",
      "Position:  [9.47368421 8.42105263]\n",
      "Relevancy: 0.0\n",
      "Position:  [10.52631579  8.42105263]\n",
      "Relevancy: 0.0\n",
      "Position:  [11.57894737  8.42105263]\n",
      "Relevancy: 0.0\n",
      "Position:  [12.63157895  8.42105263]\n",
      "Relevancy: 0.0\n",
      "Position:  [13.68421053  8.42105263]\n",
      "Relevancy: 0.0\n",
      "Position:  [14.73684211  8.42105263]\n",
      "Relevancy: 0.0\n",
      "Position:  [15.78947368  8.42105263]\n",
      "Relevancy: 0.0\n",
      "Position:  [16.84210526  8.42105263]\n",
      "Relevancy: 0.0\n",
      "Position:  [17.89473684  8.42105263]\n",
      "Relevancy: 0.0\n",
      "Position:  [18.94736842  8.42105263]\n",
      "Relevancy: 0.0\n",
      "Position:  [20.          8.42105263]\n",
      "Relevancy: 0.0\n",
      "Position:  [20.          9.47368421]\n",
      "Relevancy: 0.0\n",
      "Position:  [18.94736842  9.47368421]\n",
      "Relevancy: 0.0\n",
      "Position:  [17.89473684  9.47368421]\n",
      "Relevancy: 0.0\n",
      "Position:  [16.84210526  9.47368421]\n",
      "Relevancy: 0.0\n",
      "Position:  [15.78947368  9.47368421]\n",
      "Relevancy: 0.0\n",
      "Position:  [14.73684211  9.47368421]\n",
      "Relevancy: 0.0\n",
      "Position:  [13.68421053  9.47368421]\n",
      "Relevancy: 0.0\n",
      "Position:  [12.63157895  9.47368421]\n",
      "Relevancy: 0.0\n",
      "Position:  [11.57894737  9.47368421]\n",
      "Relevancy: 0.0\n",
      "Position:  [10.52631579  9.47368421]\n",
      "Relevancy: 0.0\n",
      "Position:  [9.47368421 9.47368421]\n",
      "Relevancy: 0.0\n",
      "Position:  [8.42105263 9.47368421]\n",
      "Relevancy: 0.0\n",
      "Position:  [7.36842105 9.47368421]\n",
      "Relevancy: 0.0\n",
      "Position:  [6.31578947 9.47368421]\n",
      "Relevancy: 0.0\n",
      "Position:  [5.26315789 9.47368421]\n",
      "Relevancy: 0.0\n",
      "Position:  [4.21052632 9.47368421]\n",
      "Relevancy: 0.0\n",
      "Position:  [3.15789474 9.47368421]\n",
      "Relevancy: 0.0\n",
      "Position:  [2.10526316 9.47368421]\n",
      "Relevancy: 0.0\n",
      "Position:  [1.05263158 9.47368421]\n",
      "Relevancy: 0.0\n",
      "Position:  [0.         9.47368421]\n",
      "Relevancy: 0.0\n",
      "Position:  [ 0.         10.52631579]\n",
      "Relevancy: 0.0\n",
      "Position:  [ 1.05263158 10.52631579]\n",
      "Relevancy: 0.0\n",
      "Position:  [ 2.10526316 10.52631579]\n",
      "Relevancy: 0.0\n",
      "Position:  [ 3.15789474 10.52631579]\n",
      "Relevancy: 0.0\n",
      "Position:  [ 4.21052632 10.52631579]\n",
      "Relevancy: 0.0\n",
      "Position:  [ 5.26315789 10.52631579]\n",
      "Relevancy: 0.0\n",
      "Position:  [ 6.31578947 10.52631579]\n",
      "Relevancy: 0.0\n",
      "Position:  [ 7.36842105 10.52631579]\n",
      "Relevancy: 0.0\n",
      "Position:  [ 8.42105263 10.52631579]\n",
      "Relevancy: 0.0\n",
      "Position:  [ 9.47368421 10.52631579]\n",
      "Relevancy: 0.0\n",
      "Position:  [10.52631579 10.52631579]\n",
      "Relevancy: 0.0\n",
      "Position:  [11.57894737 10.52631579]\n",
      "Relevancy: 0.0\n",
      "Position:  [12.63157895 10.52631579]\n",
      "Relevancy: 0.0\n",
      "Position:  [13.68421053 10.52631579]\n",
      "Relevancy: 0.0\n",
      "Position:  [14.73684211 10.52631579]\n",
      "Relevancy: 0.0\n",
      "Position:  [15.78947368 10.52631579]\n",
      "Relevancy: 0.0\n",
      "Position:  [16.84210526 10.52631579]\n",
      "Relevancy: 0.0\n",
      "Position:  [17.89473684 10.52631579]\n",
      "Relevancy: 0.0\n",
      "Position:  [18.94736842 10.52631579]\n",
      "Relevancy: 0.0\n",
      "Position:  [20.         10.52631579]\n",
      "Relevancy: 0.0\n",
      "Position:  [20.         11.57894737]\n",
      "Relevancy: 0.0\n",
      "Position:  [18.94736842 11.57894737]\n",
      "Relevancy: 0.0\n",
      "Position:  [17.89473684 11.57894737]\n",
      "Relevancy: 0.0\n",
      "Position:  [16.84210526 11.57894737]\n",
      "Relevancy: 0.0\n",
      "Position:  [15.78947368 11.57894737]\n",
      "Relevancy: 0.0\n",
      "Position:  [14.73684211 11.57894737]\n",
      "Relevancy: 0.0\n",
      "Position:  [13.68421053 11.57894737]\n",
      "Relevancy: 0.0\n",
      "Position:  [12.63157895 11.57894737]\n",
      "Relevancy: 0.0\n",
      "Position:  [11.57894737 11.57894737]\n",
      "Relevancy: 0.0\n",
      "Position:  [10.52631579 11.57894737]\n",
      "Relevancy: 0.0\n",
      "Position:  [ 9.47368421 11.57894737]\n",
      "Relevancy: 0.0\n",
      "Position:  [ 8.42105263 11.57894737]\n",
      "Relevancy: 0.0\n",
      "Position:  [ 7.36842105 11.57894737]\n",
      "Relevancy: 0.0\n",
      "Position:  [ 6.31578947 11.57894737]\n",
      "Relevancy: 0.0\n",
      "Position:  [ 5.26315789 11.57894737]\n",
      "Relevancy: 0.0\n",
      "Position:  [ 4.21052632 11.57894737]\n",
      "Relevancy: 0.0\n",
      "Position:  [ 3.15789474 11.57894737]\n",
      "Relevancy: 0.0\n",
      "Position:  [ 2.10526316 11.57894737]\n",
      "Relevancy: 0.0\n",
      "Position:  [ 1.05263158 11.57894737]\n",
      "Relevancy: 0.0\n",
      "Position:  [ 0.         11.57894737]\n",
      "Relevancy: 0.0\n",
      "Position:  [ 0.         12.63157895]\n",
      "Relevancy: 0.0\n",
      "Position:  [ 1.05263158 12.63157895]\n",
      "Relevancy: 0.0\n",
      "Position:  [ 2.10526316 12.63157895]\n",
      "Relevancy: 0.0\n",
      "Position:  [ 3.15789474 12.63157895]\n",
      "Relevancy: 0.0\n",
      "Position:  [ 4.21052632 12.63157895]\n",
      "Relevancy: 0.0\n",
      "Position:  [ 5.26315789 12.63157895]\n",
      "Relevancy: 0.0\n",
      "Position:  [ 6.31578947 12.63157895]\n",
      "Relevancy: 0.0\n",
      "Position:  [ 7.36842105 12.63157895]\n",
      "Relevancy: 0.0\n",
      "Position:  [ 8.42105263 12.63157895]\n",
      "Relevancy: 0.0\n",
      "Position:  [ 9.47368421 12.63157895]\n",
      "Relevancy: 0.0\n",
      "Position:  [10.52631579 12.63157895]\n",
      "Relevancy: 0.0\n",
      "Position:  [11.57894737 12.63157895]\n",
      "Relevancy: 0.0\n",
      "Position:  [12.63157895 12.63157895]\n",
      "Relevancy: 0.0\n",
      "Position:  [13.68421053 12.63157895]\n",
      "Relevancy: 0.0\n",
      "Position:  [14.73684211 12.63157895]\n",
      "Relevancy: 0.0\n",
      "Position:  [15.78947368 12.63157895]\n",
      "Relevancy: 0.0\n",
      "Position:  [16.84210526 12.63157895]\n",
      "Relevancy: 0.0\n",
      "Position:  [17.89473684 12.63157895]\n",
      "Relevancy: 0.0\n",
      "Position:  [18.94736842 12.63157895]\n",
      "Relevancy: 1.0\n",
      "Position:  [20.         12.63157895]\n",
      "Relevancy: 1.0\n",
      "Position:  [20.         13.68421053]\n",
      "Relevancy: 1.0\n",
      "Position:  [18.94736842 13.68421053]\n",
      "Relevancy: 1.0\n",
      "Position:  [17.89473684 13.68421053]\n",
      "Relevancy: 0.0\n",
      "Position:  [16.84210526 13.68421053]\n",
      "Relevancy: 0.0\n",
      "Position:  [15.78947368 13.68421053]\n",
      "Relevancy: 0.0\n",
      "Position:  [14.73684211 13.68421053]\n",
      "Relevancy: 0.0\n",
      "Position:  [13.68421053 13.68421053]\n",
      "Relevancy: 0.0\n",
      "Position:  [12.63157895 13.68421053]\n",
      "Relevancy: 0.0\n",
      "Position:  [11.57894737 13.68421053]\n",
      "Relevancy: 0.0\n",
      "Position:  [10.52631579 13.68421053]\n",
      "Relevancy: 0.0\n",
      "Position:  [ 9.47368421 13.68421053]\n",
      "Relevancy: 0.0\n",
      "Position:  [ 8.42105263 13.68421053]\n",
      "Relevancy: 0.0\n",
      "Position:  [ 7.36842105 13.68421053]\n",
      "Relevancy: 0.0\n",
      "Position:  [ 6.31578947 13.68421053]\n",
      "Relevancy: 0.0\n",
      "Position:  [ 5.26315789 13.68421053]\n",
      "Relevancy: 0.0\n",
      "Position:  [ 4.21052632 13.68421053]\n",
      "Relevancy: 0.0\n",
      "Position:  [ 3.15789474 13.68421053]\n",
      "Relevancy: 0.0\n",
      "Position:  [ 2.10526316 13.68421053]\n",
      "Relevancy: 0.0\n",
      "Position:  [ 1.05263158 13.68421053]\n",
      "Relevancy: 0.0\n",
      "Position:  [ 0.         13.68421053]\n",
      "Relevancy: 0.0\n",
      "Position:  [ 0.         14.73684211]\n",
      "Relevancy: 0.0\n",
      "Position:  [ 1.05263158 14.73684211]\n",
      "Relevancy: 0.0\n",
      "Position:  [ 2.10526316 14.73684211]\n",
      "Relevancy: 0.0\n",
      "Position:  [ 3.15789474 14.73684211]\n",
      "Relevancy: 0.0\n",
      "Position:  [ 4.21052632 14.73684211]\n",
      "Relevancy: 0.0\n",
      "Position:  [ 5.26315789 14.73684211]\n",
      "Relevancy: 0.0\n",
      "Position:  [ 6.31578947 14.73684211]\n",
      "Relevancy: 0.0\n",
      "Position:  [ 7.36842105 14.73684211]\n",
      "Relevancy: 0.0\n",
      "Position:  [ 8.42105263 14.73684211]\n",
      "Relevancy: 0.0\n",
      "Position:  [ 9.47368421 14.73684211]\n",
      "Relevancy: 0.0\n",
      "Position:  [10.52631579 14.73684211]\n",
      "Relevancy: 0.0\n",
      "Position:  [11.57894737 14.73684211]\n",
      "Relevancy: 0.0\n",
      "Position:  [12.63157895 14.73684211]\n",
      "Relevancy: 0.0\n",
      "Position:  [13.68421053 14.73684211]\n",
      "Relevancy: 0.0\n",
      "Position:  [14.73684211 14.73684211]\n",
      "Relevancy: 0.0\n",
      "Position:  [15.78947368 14.73684211]\n",
      "Relevancy: 0.0\n",
      "Position:  [16.84210526 14.73684211]\n",
      "Relevancy: 0.0\n",
      "Position:  [17.89473684 14.73684211]\n",
      "Relevancy: 0.0\n",
      "Position:  [18.94736842 14.73684211]\n",
      "Relevancy: 1.0\n",
      "Position:  [20.         14.73684211]\n",
      "Relevancy: 1.0\n",
      "Position:  [20.         15.78947368]\n",
      "Relevancy: 0.0\n",
      "Position:  [18.94736842 15.78947368]\n",
      "Relevancy: 0.0\n",
      "Position:  [17.89473684 15.78947368]\n",
      "Relevancy: 0.0\n",
      "Position:  [16.84210526 15.78947368]\n",
      "Relevancy: 0.0\n",
      "Position:  [15.78947368 15.78947368]\n",
      "Relevancy: 0.0\n",
      "Position:  [14.73684211 15.78947368]\n",
      "Relevancy: 0.0\n",
      "Position:  [13.68421053 15.78947368]\n",
      "Relevancy: 0.0\n",
      "Position:  [12.63157895 15.78947368]\n",
      "Relevancy: 0.0\n",
      "Position:  [11.57894737 15.78947368]\n",
      "Relevancy: 1.0\n",
      "Position:  [10.52631579 15.78947368]\n",
      "Relevancy: 1.0\n",
      "Position:  [ 9.47368421 15.78947368]\n",
      "Relevancy: 0.0\n",
      "Position:  [ 8.42105263 15.78947368]\n",
      "Relevancy: 0.0\n",
      "Position:  [ 7.36842105 15.78947368]\n",
      "Relevancy: 0.0\n",
      "Position:  [ 6.31578947 15.78947368]\n",
      "Relevancy: 0.0\n",
      "Position:  [ 5.26315789 15.78947368]\n",
      "Relevancy: 0.0\n",
      "Position:  [ 4.21052632 15.78947368]\n",
      "Relevancy: 0.0\n",
      "Position:  [ 3.15789474 15.78947368]\n",
      "Relevancy: 0.0\n",
      "Position:  [ 2.10526316 15.78947368]\n",
      "Relevancy: 0.0\n",
      "Position:  [ 1.05263158 15.78947368]\n",
      "Relevancy: 0.0\n",
      "Position:  [ 0.         15.78947368]\n",
      "Relevancy: 0.0\n",
      "Position:  [ 0.         16.84210526]\n",
      "Relevancy: 0.0\n",
      "Position:  [ 1.05263158 16.84210526]\n",
      "Relevancy: 0.0\n",
      "Position:  [ 2.10526316 16.84210526]\n",
      "Relevancy: 0.0\n",
      "Position:  [ 3.15789474 16.84210526]\n",
      "Relevancy: 0.0\n",
      "Position:  [ 4.21052632 16.84210526]\n",
      "Relevancy: 0.0\n",
      "Position:  [ 5.26315789 16.84210526]\n",
      "Relevancy: 1.0\n",
      "Position:  [ 6.31578947 16.84210526]\n",
      "Relevancy: 0.0\n",
      "Position:  [ 7.36842105 16.84210526]\n",
      "Relevancy: 0.0\n",
      "Position:  [ 8.42105263 16.84210526]\n",
      "Relevancy: 0.0\n",
      "Position:  [ 9.47368421 16.84210526]\n",
      "Relevancy: 0.0\n",
      "Position:  [10.52631579 16.84210526]\n",
      "Relevancy: 1.0\n",
      "Position:  [11.57894737 16.84210526]\n",
      "Relevancy: 1.0\n",
      "Position:  [12.63157895 16.84210526]\n",
      "Relevancy: 1.0\n",
      "Position:  [13.68421053 16.84210526]\n",
      "Relevancy: 0.0\n",
      "Position:  [14.73684211 16.84210526]\n",
      "Relevancy: 0.0\n",
      "Position:  [15.78947368 16.84210526]\n",
      "Relevancy: 0.0\n",
      "Position:  [16.84210526 16.84210526]\n",
      "Relevancy: 0.0\n",
      "Position:  [17.89473684 16.84210526]\n",
      "Relevancy: 0.0\n",
      "Position:  [18.94736842 16.84210526]\n",
      "Relevancy: 0.0\n",
      "Position:  [20.         16.84210526]\n",
      "Relevancy: 0.0\n",
      "Position:  [20.         17.89473684]\n",
      "Relevancy: 0.0\n",
      "Position:  [18.94736842 17.89473684]\n",
      "Relevancy: 0.0\n",
      "Position:  [17.89473684 17.89473684]\n",
      "Relevancy: 0.0\n",
      "Position:  [16.84210526 17.89473684]\n",
      "Relevancy: 0.0\n",
      "Position:  [15.78947368 17.89473684]\n",
      "Relevancy: 0.0\n",
      "Position:  [14.73684211 17.89473684]\n",
      "Relevancy: 0.0\n",
      "Position:  [13.68421053 17.89473684]\n",
      "Relevancy: 0.0\n",
      "Position:  [12.63157895 17.89473684]\n",
      "Relevancy: 0.0\n",
      "Position:  [11.57894737 17.89473684]\n",
      "Relevancy: 1.0\n",
      "Position:  [10.52631579 17.89473684]\n",
      "Relevancy: 1.0\n",
      "Position:  [ 9.47368421 17.89473684]\n",
      "Relevancy: 0.0\n",
      "Position:  [ 8.42105263 17.89473684]\n",
      "Relevancy: 0.0\n",
      "Position:  [ 7.36842105 17.89473684]\n",
      "Relevancy: 0.0\n",
      "Position:  [ 6.31578947 17.89473684]\n",
      "Relevancy: 1.0\n",
      "Position:  [ 5.26315789 17.89473684]\n",
      "Relevancy: 1.0\n",
      "Position:  [ 4.21052632 17.89473684]\n",
      "Relevancy: 1.0\n",
      "Position:  [ 3.15789474 17.89473684]\n",
      "Relevancy: 0.0\n",
      "Position:  [ 2.10526316 17.89473684]\n",
      "Relevancy: 0.0\n",
      "Position:  [ 1.05263158 17.89473684]\n",
      "Relevancy: 1.0\n",
      "Position:  [ 0.         17.89473684]\n",
      "Relevancy: 1.0\n",
      "Position:  [ 0.         18.94736842]\n",
      "Relevancy: 1.0\n",
      "Position:  [ 1.05263158 18.94736842]\n",
      "Relevancy: 1.0\n",
      "Position:  [ 2.10526316 18.94736842]\n",
      "Relevancy: 0.0\n",
      "Position:  [ 3.15789474 18.94736842]\n",
      "Relevancy: 0.0\n",
      "Position:  [ 4.21052632 18.94736842]\n",
      "Relevancy: 1.0\n",
      "Position:  [ 5.26315789 18.94736842]\n",
      "Relevancy: 1.0\n",
      "Position:  [ 6.31578947 18.94736842]\n",
      "Relevancy: 1.0\n",
      "Position:  [ 7.36842105 18.94736842]\n",
      "Relevancy: 0.0\n",
      "Position:  [ 8.42105263 18.94736842]\n",
      "Relevancy: 0.0\n",
      "Position:  [ 9.47368421 18.94736842]\n",
      "Relevancy: 0.0\n",
      "Position:  [10.52631579 18.94736842]\n",
      "Relevancy: 0.0\n",
      "Position:  [11.57894737 18.94736842]\n",
      "Relevancy: 0.0\n",
      "Position:  [12.63157895 18.94736842]\n",
      "Relevancy: 0.0\n",
      "Position:  [13.68421053 18.94736842]\n",
      "Relevancy: 0.0\n",
      "Position:  [14.73684211 18.94736842]\n",
      "Relevancy: 0.0\n",
      "Position:  [15.78947368 18.94736842]\n",
      "Relevancy: 0.0\n",
      "Position:  [16.84210526 18.94736842]\n",
      "Relevancy: 0.0\n",
      "Position:  [17.89473684 18.94736842]\n",
      "Relevancy: 0.0\n",
      "Position:  [18.94736842 18.94736842]\n",
      "Relevancy: 0.0\n",
      "Position:  [20.         18.94736842]\n",
      "Relevancy: 0.0\n",
      "Position:  [20. 20.]\n",
      "Relevancy: 0.0\n",
      "Position:  [18.94736842 20.        ]\n",
      "Relevancy: 0.0\n",
      "Position:  [17.89473684 20.        ]\n",
      "Relevancy: 0.0\n",
      "Position:  [16.84210526 20.        ]\n",
      "Relevancy: 0.0\n",
      "Position:  [15.78947368 20.        ]\n",
      "Relevancy: 0.0\n",
      "Position:  [14.73684211 20.        ]\n",
      "Relevancy: 0.0\n",
      "Position:  [13.68421053 20.        ]\n",
      "Relevancy: 0.0\n",
      "Position:  [12.63157895 20.        ]\n",
      "Relevancy: 0.0\n",
      "Position:  [11.57894737 20.        ]\n",
      "Relevancy: 0.0\n",
      "Position:  [10.52631579 20.        ]\n",
      "Relevancy: 0.0\n",
      "Position:  [ 9.47368421 20.        ]\n",
      "Relevancy: 0.0\n",
      "Position:  [ 8.42105263 20.        ]\n",
      "Relevancy: 0.0\n",
      "Position:  [ 7.36842105 20.        ]\n",
      "Relevancy: 0.0\n",
      "Position:  [ 6.31578947 20.        ]\n",
      "Relevancy: 0.0\n",
      "Position:  [ 5.26315789 20.        ]\n",
      "Relevancy: 0.0\n",
      "Position:  [ 4.21052632 20.        ]\n",
      "Relevancy: 0.0\n",
      "Position:  [ 3.15789474 20.        ]\n",
      "Relevancy: 0.0\n",
      "Position:  [ 2.10526316 20.        ]\n",
      "Relevancy: 0.0\n",
      "Position:  [ 1.05263158 20.        ]\n",
      "Relevancy: 1.0\n",
      "Position:  [ 0. 20.]\n",
      "Relevancy: 1.0\n"
     ]
    }
   ],
   "source": [
    "centroid_optych2 = centroid_optych()"
   ]
  },
  {
   "cell_type": "code",
   "execution_count": 74,
   "id": "c1303065",
   "metadata": {},
   "outputs": [
    {
     "data": {
      "text/plain": [
       "0"
      ]
     },
     "execution_count": 74,
     "metadata": {},
     "output_type": "execute_result"
    }
   ],
   "source": [
    "len(centroid_optych.execution_history)"
   ]
  },
  {
   "cell_type": "code",
   "execution_count": 75,
   "id": "23656519",
   "metadata": {},
   "outputs": [
    {
     "data": {
      "text/plain": [
       "402"
      ]
     },
     "execution_count": 75,
     "metadata": {},
     "output_type": "execute_result"
    }
   ],
   "source": [
    "len(centroid_optych2.execution_history)"
   ]
  },
  {
   "cell_type": "code",
   "execution_count": 76,
   "id": "7158958a",
   "metadata": {},
   "outputs": [],
   "source": [
    "om = [eg.get_output_msg() for eg in centroid_optych2.execution_history]"
   ]
  },
  {
   "cell_type": "code",
   "execution_count": 77,
   "id": "a4562c83",
   "metadata": {},
   "outputs": [
    {
     "data": {
      "text/plain": [
       "402"
      ]
     },
     "execution_count": 77,
     "metadata": {},
     "output_type": "execute_result"
    }
   ],
   "source": [
    "len(om)"
   ]
  },
  {
   "cell_type": "code",
   "execution_count": 78,
   "id": "fdcffc1b",
   "metadata": {},
   "outputs": [
    {
     "data": {
      "text/plain": [
       "Message(fields={'relevancy (%)': 0.0, 'readout latency (s)': 0.001, 'image data (B)': np.float64(8000000.0), 'position (mm,mm)': array([0., 0.]), 'movement latency (s)': np.float64(0.001), 'stored data (B)': np.float64(16000000.0)}, properties={'resolution (n,n)': (2000, 2000), 'bitdepth (n)': 16, 'sample rate (Hz)': 10000.0, 'images (n)': 1, 'stored images (n)': 2})"
      ]
     },
     "execution_count": 78,
     "metadata": {},
     "output_type": "execute_result"
    }
   ],
   "source": [
    "om[1]"
   ]
  },
  {
   "cell_type": "code",
   "execution_count": 79,
   "id": "56f3e607",
   "metadata": {},
   "outputs": [],
   "source": [
    "posn = np.array([eg.get_output_msg().fields[\"position (mm,mm)\"] for eg in centroid_optych2.execution_history])"
   ]
  },
  {
   "cell_type": "code",
   "execution_count": 80,
   "id": "6abd929c",
   "metadata": {},
   "outputs": [
    {
     "data": {
      "text/plain": [
       "[<matplotlib.lines.Line2D at 0x11b48c940>]"
      ]
     },
     "execution_count": 80,
     "metadata": {},
     "output_type": "execute_result"
    },
    {
     "data": {
      "image/png": "[encoded data removed]",
      "text/plain": [
       "<Figure size 640x480 with 1 Axes>"
      ]
     },
     "metadata": {},
     "output_type": "display_data"
    }
   ],
   "source": [
    "plt.plot([rel_f1(p) for p in posn])"
   ]
  },
  {
   "cell_type": "code",
   "execution_count": 81,
   "id": "5d682018",
   "metadata": {},
   "outputs": [],
   "source": [
    "relevancy = [eg.get_output_msg().fields[\"relevancy (%)\"] for eg in centroid_optych2.execution_history]"
   ]
  },
  {
   "cell_type": "code",
   "execution_count": 82,
   "id": "9a7566d3",
   "metadata": {},
   "outputs": [
    {
     "data": {
      "text/plain": [
       "[<matplotlib.lines.Line2D at 0x11d029c90>]"
      ]
     },
     "execution_count": 82,
     "metadata": {},
     "output_type": "execute_result"
    },
    {
     "data": {
      "image/png": "[encoded data removed]",
      "text/plain": [
       "<Figure size 640x480 with 1 Axes>"
      ]
     },
     "metadata": {},
     "output_type": "display_data"
    }
   ],
   "source": [
    "plt.plot(relevancy)"
   ]
  },
  {
   "cell_type": "code",
   "execution_count": 83,
   "id": "b0d5a97b",
   "metadata": {},
   "outputs": [
    {
     "data": {
      "text/plain": [
       "402"
      ]
     },
     "execution_count": 83,
     "metadata": {},
     "output_type": "execute_result"
    }
   ],
   "source": [
    "len(posn)"
   ]
  },
  {
   "cell_type": "code",
   "execution_count": 84,
   "id": "c0919fe3",
   "metadata": {},
   "outputs": [
    {
     "data": {
      "text/plain": [
       "array([9.47368421, 2.10526316])"
      ]
     },
     "execution_count": 84,
     "metadata": {},
     "output_type": "execute_result"
    }
   ],
   "source": [
    "posn[50]"
   ]
  },
  {
   "cell_type": "code",
   "execution_count": 85,
   "id": "3c668d8d",
   "metadata": {},
   "outputs": [
    {
     "data": {
      "text/plain": [
       "(402, 2)"
      ]
     },
     "execution_count": 85,
     "metadata": {},
     "output_type": "execute_result"
    }
   ],
   "source": [
    "posn.shape"
   ]
  },
  {
   "cell_type": "code",
   "execution_count": 86,
   "id": "7472362e",
   "metadata": {},
   "outputs": [
    {
     "data": {
      "text/plain": [
       "[<matplotlib.lines.Line2D at 0x11d63b9a0>,\n",
       " <matplotlib.lines.Line2D at 0x11d63ba90>]"
      ]
     },
     "execution_count": 86,
     "metadata": {},
     "output_type": "execute_result"
    },
    {
     "data": {
      "image/png": "[encoded data removed]",
      "text/plain": [
       "<Figure size 640x480 with 1 Axes>"
      ]
     },
     "metadata": {},
     "output_type": "display_data"
    }
   ],
   "source": [
    "plt.plot(posn)"
   ]
  },
  {
   "cell_type": "code",
   "execution_count": 87,
   "id": "62567626",
   "metadata": {},
   "outputs": [
    {
     "data": {
      "image/png": "[encoded data removed]",
      "text/plain": [
       "<Figure size 640x480 with 2 Axes>"
      ]
     },
     "metadata": {},
     "output_type": "display_data"
    }
   ],
   "source": [
    "from matplotlib.collections import LineCollection\n",
    "\n",
    "# Create segments between consecutive points\n",
    "segments = np.array([posn[:-1], posn[1:]]).transpose(1, 0, 2)\n",
    "\n",
    "# Parametric color: linear from 0 to 1\n",
    "param = np.linspace(0, 1, len(segments))\n",
    "\n",
    "lc = LineCollection(segments, cmap='viridis', array=param, linewidth=2)\n",
    "fig, ax = plt.subplots()\n",
    "ax.add_collection(lc)\n",
    "ax.autoscale()\n",
    "plt.colorbar(lc, ax=ax, label='Parametric Value')\n",
    "plt.xlabel('X')\n",
    "plt.ylabel('Y')\n",
    "plt.title('Sample Positions Line Colored by Parametric Value')\n",
    "plt.show()"
   ]
  },
  {
   "cell_type": "code",
   "execution_count": null,
   "id": "cb4927ef",
   "metadata": {},
   "outputs": [],
   "source": []
  }
 ],
 "metadata": {
  "kernelspec": {
   "display_name": "systemflow",
   "language": "python",
   "name": "python3"
  },
  "language_info": {
   "codemirror_mode": {
    "name": "ipython",
    "version": 3
   },
   "file_extension": ".py",
   "mimetype": "text/x-python",
   "name": "python",
   "nbconvert_exporter": "python",
   "pygments_lexer": "ipython3",
   "version": "3.10.15"
  }
 },
 "nbformat": 4,
 "nbformat_minor": 5
}
