{
 "cells": [
  {
   "cell_type": "markdown",
   "id": "c3eb1e1c",
   "metadata": {},
   "source": [
    "## Example - Ptychography\n",
    "\n",
    "In this example, we'll modify the BCDI setup so that instead of collecting and reconstructing one image, many diffraction patterns are collected over the sample area. Each sample image overlaps with the previous one, providing redundant information which aids the phase reconstruction and allows the imaging field to be scaled arbitrarily large - limited by stage movement, sample durability, and other physical factors rather than the available size of an optical lens. \n",
    "\n",
    "The process of collecting overlapping images can be done in several ways - the simplest is to step-and-repeat the collection of images over a pre-defined area, then do the post-processing offline. However, with large samples and/or small regions of interest, this may not be the most effective way to image. More advanced setups can be done in a \"streaming\" way, where the reconstructed real-space image is updated each step of the way and the process can be controlled with human feedback. To increase speed further, human feedback can be replaced with automated feature detection and search strategies. \n",
    "\n",
    "We'll start by looking at the simplest setup: offline processing."
   ]
  },
  {
   "cell_type": "code",
   "execution_count": 1,
   "id": "a3b63a09",
   "metadata": {},
   "outputs": [],
   "source": [
    "import networkx as nx\n",
    "import sys\n",
    "import numpy as np\n",
    "from abc import ABC, abstractmethod\n",
    "from collections import namedtuple\n",
    "from copy import deepcopy\n",
    "from functools import reduce\n",
    "from typing import Callable, Any\n",
    "from itertools import accumulate"
   ]
  },
  {
   "cell_type": "code",
   "execution_count": 2,
   "id": "11fb2c0b",
   "metadata": {},
   "outputs": [],
   "source": [
    "from systemflow.node import *\n",
    "from systemflow.mutations import *\n",
    "from systemflow.metrics import *\n",
    "from systemflow.auxtypes import is_proportion\n",
    "from systemflow.xrs import *"
   ]
  },
  {
   "cell_type": "markdown",
   "id": "6ddab557",
   "metadata": {},
   "source": [
    "The basic setup for ptychography is the same as BCDI - a sample stage, far-field diffraction pattern sensor, and analysis computer."
   ]
  },
  {
   "cell_type": "code",
   "execution_count": 3,
   "id": "4158c8b3",
   "metadata": {},
   "outputs": [],
   "source": [
    "sample_stage_mutations = [PositionSample(),]\n",
    "vc_sample = collect_parameters(sample_stage_mutations)\n",
    "\n",
    "sample_stage = Component(\"Sample Stage\",\n",
    "                    [PositionSample(),],\n",
    "                    {vc_sample.last_position: [0.0, 0.0],\n",
    "                     vc_sample.position: [0.0, 0.0],\n",
    "                     vc_sample.move_rate: 100,\n",
    "                     vc_sample.settle_time: 1e-3,},\n",
    "                     {})"
   ]
  },
  {
   "cell_type": "code",
   "execution_count": 4,
   "id": "cfde3b0d",
   "metadata": {},
   "outputs": [],
   "source": [
    "detector_mutations = [CollectImage(),]\n",
    "vc_detector = collect_parameters(detector_mutations)\n",
    "\n",
    "detector_host = Component(\"Image sensor\",\n",
    "                    [CollectImage(),],\n",
    "                    parameters = {vc_detector.resolution: (2000, 2000),\n",
    "                     vc_detector.bitdepth: 16,\n",
    "                     vc_detector.readout: 1e-3,\n",
    "                     vc_detector.pixelenergy: 1e-3,\n",
    "                     vc_detector.sample_rate: 10e3,})"
   ]
  },
  {
   "cell_type": "code",
   "execution_count": 5,
   "id": "0c0b5bc6",
   "metadata": {},
   "outputs": [],
   "source": [
    "sampling_nodes = [sample_stage, detector_host]\n",
    "sampling_links = [DefaultLink(\"Sample Stage -> Image sensor\",\n",
    "                              sample_stage.name,\n",
    "                              detector_host.name),]\n",
    "sampling_metrics = [TotalLatency(),]\n",
    "\n",
    "sampling_exg = ExecutionGraph(name=\"Sampling Process\",\n",
    "                              nodes=sampling_nodes,\n",
    "                              links=sampling_links,\n",
    "                              metrics=sampling_metrics)"
   ]
  },
  {
   "cell_type": "code",
   "execution_count": 6,
   "id": "c04169df",
   "metadata": {},
   "outputs": [],
   "source": [
    "sampling_exg_2 = sampling_exg()"
   ]
  },
  {
   "cell_type": "code",
   "execution_count": 7,
   "id": "048c1145",
   "metadata": {},
   "outputs": [
    {
     "data": {
      "text/plain": [
       "{'total latency (s)': np.float64(0.002)}"
      ]
     },
     "execution_count": 7,
     "metadata": {},
     "output_type": "execute_result"
    }
   ],
   "source": [
    "sampling_exg_2.metric_values"
   ]
  },
  {
   "cell_type": "code",
   "execution_count": 8,
   "id": "41a2fe0d",
   "metadata": {},
   "outputs": [],
   "source": [
    "msg1 = sampling_exg_2.get_output_msg()"
   ]
  },
  {
   "cell_type": "code",
   "execution_count": 9,
   "id": "7f84989e",
   "metadata": {},
   "outputs": [
    {
     "data": {
      "text/plain": [
       "{'movement latency (s)': np.float64(0.001),\n",
       " 'position (mm,mm)': [0.0, 0.0],\n",
       " 'relevancy (%)': 1.0,\n",
       " 'image data (B)': np.float64(8000000.0),\n",
       " 'readout latency (s)': 0.001}"
      ]
     },
     "execution_count": 9,
     "metadata": {},
     "output_type": "execute_result"
    }
   ],
   "source": [
    "msg1.fields"
   ]
  },
  {
   "cell_type": "code",
   "execution_count": 10,
   "id": "908c0995",
   "metadata": {},
   "outputs": [
    {
     "data": {
      "text/plain": [
       "{'resolution (n,n)': (2000, 2000),\n",
       " 'bitdepth (n)': 16,\n",
       " 'sample rate (Hz)': 10000.0,\n",
       " 'images (n)': 1}"
      ]
     },
     "execution_count": 10,
     "metadata": {},
     "output_type": "execute_result"
    }
   ],
   "source": [
    "msg1.properties"
   ]
  },
  {
   "cell_type": "code",
   "execution_count": 11,
   "id": "389b5d9b",
   "metadata": {},
   "outputs": [],
   "source": [
    "#emulate the receipt of an image\n",
    "network_mutations = [InputMessage(),]\n",
    "vc_network = collect_parameters(network_mutations)\n",
    "\n",
    "network_host = Component(\"Recieve images\", \n",
    "                         network_mutations,\n",
    "                         {vc_network.input_message: msg1,})\n",
    "\n"
   ]
  },
  {
   "cell_type": "code",
   "execution_count": 12,
   "id": "4939519b",
   "metadata": {},
   "outputs": [],
   "source": [
    "storage_mutations = [StoreImage(),]\n",
    "vc_store = collect_parameters(storage_mutations)\n",
    "storage_host = Component(\"Store images\", \n",
    "                         storage_mutations,\n",
    "                         {vc_store.stored_images: 0,\n",
    "                         vc_store.stored_data: 0,\n",
    "                         vc_store.storage_rate: 1e9})"
   ]
  },
  {
   "cell_type": "code",
   "execution_count": 13,
   "id": "a81819b1",
   "metadata": {},
   "outputs": [],
   "source": [
    "storage_nodes = [network_host, storage_host]\n",
    "storage_links = [DefaultLink(\"Network -> Storage\",\n",
    "                              network_host.name,\n",
    "                              storage_host.name),]\n",
    "storage_metrics = [TotalLatency(),]\n",
    "\n",
    "storage_exg = ExecutionGraph(name=\"Storage Process\",\n",
    "                              nodes=storage_nodes,\n",
    "                              links=storage_links,\n",
    "                              metrics=storage_metrics)"
   ]
  },
  {
   "cell_type": "code",
   "execution_count": 14,
   "id": "41d4c43e",
   "metadata": {},
   "outputs": [
    {
     "data": {
      "text/plain": [
       "'disk storage rate (B/s)'"
      ]
     },
     "execution_count": 14,
     "metadata": {},
     "output_type": "execute_result"
    }
   ],
   "source": [
    "vc_store.storage_rate"
   ]
  },
  {
   "cell_type": "code",
   "execution_count": 15,
   "id": "08e71a3e",
   "metadata": {},
   "outputs": [
    {
     "data": {
      "text/plain": [
       "{'stored images (n)': 0,\n",
       " 'stored data (B)': 0,\n",
       " 'disk storage rate (B/s)': 1000000000.0}"
      ]
     },
     "execution_count": 15,
     "metadata": {},
     "output_type": "execute_result"
    }
   ],
   "source": [
    "storage_host.parameters"
   ]
  },
  {
   "cell_type": "code",
   "execution_count": 16,
   "id": "18ebfbb4",
   "metadata": {},
   "outputs": [],
   "source": [
    "storage_exg2 = storage_exg()"
   ]
  },
  {
   "cell_type": "code",
   "execution_count": 17,
   "id": "5f06824a",
   "metadata": {},
   "outputs": [],
   "source": [
    "msg2 = storage_exg2.get_output_msg()"
   ]
  },
  {
   "cell_type": "code",
   "execution_count": 20,
   "id": "554295f4",
   "metadata": {},
   "outputs": [
    {
     "data": {
      "text/plain": [
       "{'movement latency (s)': np.float64(0.001),\n",
       " 'position (mm,mm)': [0.0, 0.0],\n",
       " 'relevancy (%)': 1.0,\n",
       " 'image data (B)': np.float64(8000000.0),\n",
       " 'readout latency (s)': 0.001,\n",
       " 'stored data (B)': np.float64(8000000.0)}"
      ]
     },
     "execution_count": 20,
     "metadata": {},
     "output_type": "execute_result"
    }
   ],
   "source": [
    "msg2.fields"
   ]
  },
  {
   "cell_type": "code",
   "execution_count": 21,
   "id": "3f8fc518",
   "metadata": {},
   "outputs": [
    {
     "data": {
      "text/plain": [
       "{'images (n)': 1,\n",
       " 'sample rate (Hz)': 10000.0,\n",
       " 'resolution (n,n)': (2000, 2000),\n",
       " 'bitdepth (n)': 16,\n",
       " 'stored images (n)': 1}"
      ]
     },
     "execution_count": 21,
     "metadata": {},
     "output_type": "execute_result"
    }
   ],
   "source": [
    "msg2.properties"
   ]
  },
  {
   "cell_type": "code",
   "execution_count": 19,
   "id": "35e4e28c",
   "metadata": {},
   "outputs": [
    {
     "data": {
      "text/plain": [
       "{'storage latency (s)': np.float64(0.008)}"
      ]
     },
     "execution_count": 19,
     "metadata": {},
     "output_type": "execute_result"
    }
   ],
   "source": [
    "storage_exg2.root_node.properties"
   ]
  },
  {
   "cell_type": "code",
   "execution_count": 23,
   "id": "d9f7ec46",
   "metadata": {},
   "outputs": [],
   "source": [
    "analysis_mutations = [InputMessage(), PhaseReconstruction3D(),]\n",
    "vc_analysis = collect_parameters(analysis_mutations)\n",
    "analysis_host = Component(\"offline analysis\",\n",
    "                          analysis_mutations,\n",
    "                          {vc_analysis.op_latency: 1e-5,\n",
    "                           vc_analysis.parallelism: 0.70,\n",
    "                           vc_analysis.overlap: 0.40,\n",
    "                           vc_analysis.iterations: 20,\n",
    "                           vc_analysis.input_message: msg2})\n"
   ]
  },
  {
   "cell_type": "code",
   "execution_count": 24,
   "id": "3616b0c9",
   "metadata": {},
   "outputs": [],
   "source": [
    "analysis_exg = ExecutionGraph(\"Offline reconstruction\",\n",
    "                              [analysis_host,],\n",
    "                              links = [],\n",
    "                              metrics = [])"
   ]
  },
  {
   "cell_type": "code",
   "execution_count": 25,
   "id": "e180b9cc",
   "metadata": {},
   "outputs": [
    {
     "ename": "AssertionError",
     "evalue": "Phase reconstruction transform's properties not found in incoming message: xy_images (n,n)",
     "output_type": "error",
     "traceback": [
      "\u001b[0;31m---------------------------------------------------------------------------\u001b[0m",
      "\u001b[0;31mAssertionError\u001b[0m                            Traceback (most recent call last)",
      "Cell \u001b[0;32mIn[25], line 1\u001b[0m\n\u001b[0;32m----> 1\u001b[0m analysis_exg2 \u001b[38;5;241m=\u001b[39m \u001b[43manalysis_exg\u001b[49m\u001b[43m(\u001b[49m\u001b[43m)\u001b[49m\n",
      "File \u001b[0;32m~/code/system_flow/systemflow/node.py:837\u001b[0m, in \u001b[0;36mExecutionGraph.__call__\u001b[0;34m(self, verbose)\u001b[0m\n\u001b[1;32m    823\u001b[0m \u001b[38;5;250m\u001b[39m\u001b[38;5;124;03m\"\"\"\u001b[39;00m\n\u001b[1;32m    824\u001b[0m \u001b[38;5;124;03mExecutes the entire graph.\u001b[39;00m\n\u001b[1;32m    825\u001b[0m \n\u001b[0;32m   (...)\u001b[0m\n\u001b[1;32m    834\u001b[0m \u001b[38;5;124;03m    A new ExecutionGraph instance representing the state of the system after this iteration.\u001b[39;00m\n\u001b[1;32m    835\u001b[0m \u001b[38;5;124;03m\"\"\"\u001b[39;00m\n\u001b[1;32m    836\u001b[0m \u001b[38;5;66;03m#Get the root processing node and propagate calls recursively up from it\u001b[39;00m\n\u001b[0;32m--> 837\u001b[0m new_nodes \u001b[38;5;241m=\u001b[39m \u001b[38;5;28mlist\u001b[39m(flatten(\u001b[38;5;28;43mself\u001b[39;49m\u001b[38;5;241;43m.\u001b[39;49m\u001b[43mroot_node\u001b[49m\u001b[43m(\u001b[49m\u001b[38;5;28;43mself\u001b[39;49m\u001b[43m,\u001b[49m\u001b[43m \u001b[49m\u001b[43mverbose\u001b[49m\u001b[43m)\u001b[49m))\n\u001b[1;32m    838\u001b[0m \u001b[38;5;66;03m#update the link information given the new nodes\u001b[39;00m\n\u001b[1;32m    839\u001b[0m new_links \u001b[38;5;241m=\u001b[39m [link(new_nodes) \u001b[38;5;28;01mfor\u001b[39;00m link \u001b[38;5;129;01min\u001b[39;00m \u001b[38;5;28mself\u001b[39m\u001b[38;5;241m.\u001b[39mlinks]\n",
      "File \u001b[0;32m~/code/system_flow/systemflow/node.py:296\u001b[0m, in \u001b[0;36mComponent.__call__\u001b[0;34m(self, exg, verbose)\u001b[0m\n\u001b[1;32m    292\u001b[0m     input_msg \u001b[38;5;241m=\u001b[39m \u001b[38;5;28mself\u001b[39m\u001b[38;5;241m.\u001b[39mblank_message()\n\u001b[1;32m    294\u001b[0m \u001b[38;5;28;01mif\u001b[39;00m \u001b[38;5;28mlen\u001b[39m(\u001b[38;5;28mself\u001b[39m\u001b[38;5;241m.\u001b[39mmutations) \u001b[38;5;241m>\u001b[39m \u001b[38;5;241m0\u001b[39m:\n\u001b[1;32m    295\u001b[0m     \u001b[38;5;66;03m#go through the mutations on this component\u001b[39;00m\n\u001b[0;32m--> 296\u001b[0m     mutations \u001b[38;5;241m=\u001b[39m \u001b[38;5;28;43mlist\u001b[39;49m\u001b[43m(\u001b[49m\u001b[43maccumulate\u001b[49m\u001b[43m(\u001b[49m\u001b[38;5;28;43mself\u001b[39;49m\u001b[38;5;241;43m.\u001b[39;49m\u001b[43mmutations\u001b[49m\u001b[43m,\u001b[49m\u001b[43m \u001b[49m\u001b[38;5;28;43;01mlambda\u001b[39;49;00m\u001b[43m \u001b[49m\u001b[43mx\u001b[49m\u001b[43m,\u001b[49m\u001b[43m \u001b[49m\u001b[43mf\u001b[49m\u001b[43m:\u001b[49m\u001b[43m \u001b[49m\u001b[43mf\u001b[49m\u001b[43m(\u001b[49m\u001b[43mx\u001b[49m\u001b[43m[\u001b[49m\u001b[38;5;241;43m0\u001b[39;49m\u001b[43m]\u001b[49m\u001b[43m,\u001b[49m\u001b[43m \u001b[49m\u001b[38;5;28;43mself\u001b[39;49m\u001b[43m)\u001b[49m\u001b[43m,\u001b[49m\u001b[43m \u001b[49m\u001b[43minitial\u001b[49m\u001b[38;5;241;43m=\u001b[39;49m\u001b[43m(\u001b[49m\u001b[43minput_msg\u001b[49m\u001b[43m,\u001b[49m\u001b[43m \u001b[49m\u001b[43m{\u001b[49m\u001b[43m}\u001b[49m\u001b[43m)\u001b[49m\u001b[43m)\u001b[49m\u001b[43m)\u001b[49m\n\u001b[1;32m    297\u001b[0m     \u001b[38;5;66;03m#separate the message and property outputs\u001b[39;00m\n\u001b[1;32m    298\u001b[0m     properties \u001b[38;5;241m=\u001b[39m [output[\u001b[38;5;241m1\u001b[39m] \u001b[38;5;28;01mfor\u001b[39;00m output \u001b[38;5;129;01min\u001b[39;00m mutations]\n",
      "File \u001b[0;32m~/code/system_flow/systemflow/node.py:296\u001b[0m, in \u001b[0;36mComponent.__call__.<locals>.<lambda>\u001b[0;34m(x, f)\u001b[0m\n\u001b[1;32m    292\u001b[0m     input_msg \u001b[38;5;241m=\u001b[39m \u001b[38;5;28mself\u001b[39m\u001b[38;5;241m.\u001b[39mblank_message()\n\u001b[1;32m    294\u001b[0m \u001b[38;5;28;01mif\u001b[39;00m \u001b[38;5;28mlen\u001b[39m(\u001b[38;5;28mself\u001b[39m\u001b[38;5;241m.\u001b[39mmutations) \u001b[38;5;241m>\u001b[39m \u001b[38;5;241m0\u001b[39m:\n\u001b[1;32m    295\u001b[0m     \u001b[38;5;66;03m#go through the mutations on this component\u001b[39;00m\n\u001b[0;32m--> 296\u001b[0m     mutations \u001b[38;5;241m=\u001b[39m \u001b[38;5;28mlist\u001b[39m(accumulate(\u001b[38;5;28mself\u001b[39m\u001b[38;5;241m.\u001b[39mmutations, \u001b[38;5;28;01mlambda\u001b[39;00m x, f: \u001b[43mf\u001b[49m\u001b[43m(\u001b[49m\u001b[43mx\u001b[49m\u001b[43m[\u001b[49m\u001b[38;5;241;43m0\u001b[39;49m\u001b[43m]\u001b[49m\u001b[43m,\u001b[49m\u001b[43m \u001b[49m\u001b[38;5;28;43mself\u001b[39;49m\u001b[43m)\u001b[49m, initial\u001b[38;5;241m=\u001b[39m(input_msg, {})))\n\u001b[1;32m    297\u001b[0m     \u001b[38;5;66;03m#separate the message and property outputs\u001b[39;00m\n\u001b[1;32m    298\u001b[0m     properties \u001b[38;5;241m=\u001b[39m [output[\u001b[38;5;241m1\u001b[39m] \u001b[38;5;28;01mfor\u001b[39;00m output \u001b[38;5;129;01min\u001b[39;00m mutations]\n",
      "File \u001b[0;32m~/code/system_flow/systemflow/node.py:200\u001b[0m, in \u001b[0;36mMutate.__call__\u001b[0;34m(self, message, component)\u001b[0m\n\u001b[1;32m    183\u001b[0m \u001b[38;5;28;01mdef\u001b[39;00m \u001b[38;5;21m__call__\u001b[39m(\u001b[38;5;28mself\u001b[39m, message: Message, component: \u001b[38;5;124m'\u001b[39m\u001b[38;5;124mComponent\u001b[39m\u001b[38;5;124m'\u001b[39m) \u001b[38;5;241m-\u001b[39m\u001b[38;5;241m>\u001b[39m \u001b[38;5;28mtuple\u001b[39m[Message, \u001b[38;5;28mdict\u001b[39m]:\n\u001b[1;32m    184\u001b[0m \u001b[38;5;250m    \u001b[39m\u001b[38;5;124;03m\"\"\"\u001b[39;00m\n\u001b[1;32m    185\u001b[0m \u001b[38;5;124;03m    Applies the mutation to a message and its host component.\u001b[39;00m\n\u001b[1;32m    186\u001b[0m \n\u001b[0;32m   (...)\u001b[0m\n\u001b[1;32m    198\u001b[0m \u001b[38;5;124;03m        - new_host_props: A dictionary of new properties for the host component.\u001b[39;00m\n\u001b[1;32m    199\u001b[0m \u001b[38;5;124;03m    \"\"\"\u001b[39;00m\n\u001b[0;32m--> 200\u001b[0m     \u001b[38;5;28;43mself\u001b[39;49m\u001b[38;5;241;43m.\u001b[39;49m\u001b[43mcheck\u001b[49m\u001b[43m(\u001b[49m\u001b[43mmessage\u001b[49m\u001b[43m,\u001b[49m\u001b[43m \u001b[49m\u001b[43mcomponent\u001b[49m\u001b[43m)\u001b[49m\n\u001b[1;32m    202\u001b[0m     \u001b[38;5;66;03m#create independent copies of the message and component\u001b[39;00m\n\u001b[1;32m    203\u001b[0m     component \u001b[38;5;241m=\u001b[39m deepcopy(component)\n",
      "File \u001b[0;32m~/code/system_flow/systemflow/node.py:131\u001b[0m, in \u001b[0;36mRequirementChecker.__call__\u001b[0;34m(self, message, object)\u001b[0m\n\u001b[1;32m    129\u001b[0m \u001b[38;5;28mself\u001b[39m\u001b[38;5;241m.\u001b[39m_field_check(message)\n\u001b[1;32m    130\u001b[0m \u001b[38;5;66;03m#check that the incoming message has the parameters necessary for the transform\u001b[39;00m\n\u001b[0;32m--> 131\u001b[0m \u001b[38;5;28;43mself\u001b[39;49m\u001b[38;5;241;43m.\u001b[39;49m\u001b[43m_property_check\u001b[49m\u001b[43m(\u001b[49m\u001b[43mmessage\u001b[49m\u001b[43m)\u001b[49m\n\u001b[1;32m    132\u001b[0m \u001b[38;5;66;03m#check that the host component has the parameters necessary for the transform\u001b[39;00m\n\u001b[1;32m    133\u001b[0m \u001b[38;5;28mself\u001b[39m\u001b[38;5;241m.\u001b[39m_param_check(\u001b[38;5;28mobject\u001b[39m)\n",
      "File \u001b[0;32m~/code/system_flow/systemflow/node.py:106\u001b[0m, in \u001b[0;36mRequirementChecker._property_check\u001b[0;34m(self, message)\u001b[0m\n\u001b[1;32m    104\u001b[0m \u001b[38;5;28;01mif\u001b[39;00m \u001b[38;5;129;01mnot\u001b[39;00m props_chk:\n\u001b[1;32m    105\u001b[0m     missing \u001b[38;5;241m=\u001b[39m \u001b[38;5;28mself\u001b[39m\u001b[38;5;241m.\u001b[39m_missing_keys(matches, \u001b[38;5;28mself\u001b[39m\u001b[38;5;241m.\u001b[39minputs\u001b[38;5;241m.\u001b[39mmsg_properties)\n\u001b[0;32m--> 106\u001b[0m     \u001b[38;5;28;01massert\u001b[39;00m props_chk, \u001b[38;5;28mself\u001b[39m\u001b[38;5;241m.\u001b[39mname \u001b[38;5;241m+\u001b[39m \u001b[38;5;124m\"\u001b[39m\u001b[38;5;124m transform\u001b[39m\u001b[38;5;124m'\u001b[39m\u001b[38;5;124ms properties not found in incoming message: \u001b[39m\u001b[38;5;124m\"\u001b[39m \u001b[38;5;241m+\u001b[39m missing\n",
      "\u001b[0;31mAssertionError\u001b[0m: Phase reconstruction transform's properties not found in incoming message: xy_images (n,n)"
     ]
    }
   ],
   "source": [
    "analysis_exg2 = analysis_exg()"
   ]
  },
  {
   "cell_type": "markdown",
   "id": "3d0471ca",
   "metadata": {},
   "source": [
    "We've now setup the components necessary to collect an image which will become part of the reconstruction. However, this collection becomes a multi-step process which we must model. We do this by incorporating a new element, a System which controls the flow of different execution graphs:"
   ]
  },
  {
   "cell_type": "code",
   "execution_count": null,
   "id": "297073b4",
   "metadata": {},
   "outputs": [],
   "source": [
    "class OfflinePtychography(System):\n",
    "    def __init__(self, name, x_steps: int = 20, y_steps: int = 20, iter = 0, execution_history = ...):\n",
    "        exec_graphs = {\"sampling\": sampling_exg,\n",
    "                        \"storage\": storage_exg,\n",
    "                        \"analysis\": analysis_exg,}\n",
    "        super().__init__(name, exec_graphs, iter, execution_history)\n",
    "        self.x_steps = x_steps\n",
    "        self.y_steps = y_steps\n",
    "\n",
    "    def flow_control(self):\n",
    "\n",
    "        "
   ]
  },
  {
   "cell_type": "code",
   "execution_count": 23,
   "id": "59ccf70e",
   "metadata": {},
   "outputs": [],
   "source": [
    "# pickup - get control flow through System"
   ]
  },
  {
   "cell_type": "code",
   "execution_count": null,
   "id": "17e43b63",
   "metadata": {},
   "outputs": [],
   "source": [
    "cpu_mutations = [FlatFieldCorrection(),\n",
    "                MaskCorrection(),\n",
    "                PhaseReconstruction3D(),]\n",
    "\n",
    "vc_cpu = collect_parameters(cpu_mutations)"
   ]
  },
  {
   "cell_type": "code",
   "execution_count": null,
   "id": "2ab87130",
   "metadata": {},
   "outputs": [],
   "source": [
    "cpu_host = Component(\"Processor\",\n",
    "                    cpu_mutations,\n",
    "                    parameters = {vc_cpu.op_latency: 1e-6,\n",
    "                                  vc_cpu.parallelism: 0.75,\n",
    "                                  vc_cpu.kernel_size: (0.02, 0.02),\n",
    "                                  vc_cpu.mask_proportion: 0.05,\n",
    "                                  vc_cpu.op_latency: 1e-7,\n",
    "                                  vc_cpu.iterations: 20,\n",
    "                                  vc_cpu.overlap: 0.40,})"
   ]
  },
  {
   "cell_type": "code",
   "execution_count": 20,
   "id": "3e6a517b",
   "metadata": {},
   "outputs": [
    {
     "ename": "TypeError",
     "evalue": "Component.__call__() missing 1 required positional argument: 'exg'",
     "output_type": "error",
     "traceback": [
      "\u001b[0;31m---------------------------------------------------------------------------\u001b[0m",
      "\u001b[0;31mTypeError\u001b[0m                                 Traceback (most recent call last)",
      "Cell \u001b[0;32mIn[20], line 1\u001b[0m\n\u001b[0;32m----> 1\u001b[0m cpu_host2 \u001b[38;5;241m=\u001b[39m \u001b[43mcpu_host\u001b[49m\u001b[43m(\u001b[49m\u001b[43m)\u001b[49m\n",
      "\u001b[0;31mTypeError\u001b[0m: Component.__call__() missing 1 required positional argument: 'exg'"
     ]
    }
   ],
   "source": [
    "cpu_host2 = cpu_host()"
   ]
  },
  {
   "cell_type": "code",
   "execution_count": 11,
   "id": "1fecd431",
   "metadata": {},
   "outputs": [],
   "source": [
    "ci_host = Component(\"Image sensor\",\n",
    "                    [CollectImage(),],\n",
    "                    parameters = {vc_img.resolution: (2000, 2000),\n",
    "                     vc_img.bitdepth: 16,\n",
    "                     vc_img.readout: 1e-3,\n",
    "                     vc_img.pixelenergy: 1e-3,\n",
    "                     vc_img.sample_rate: 10e3,})"
   ]
  },
  {
   "cell_type": "code",
   "execution_count": null,
   "id": "a0f7391c",
   "metadata": {},
   "outputs": [],
   "source": [
    "nodes = [sample_stage, ci_host, cpu_host]"
   ]
  },
  {
   "cell_type": "code",
   "execution_count": null,
   "id": "66e72ce4",
   "metadata": {},
   "outputs": [],
   "source": [
    "links = [DefaultLink(\"Sample Stage -> Image sensor\",\n",
    "                     \"Sample Stage\",\n",
    "                     \"Image sensor\"),\n",
    "        DefaultLink(\"Image sensor -> Processor\",\n",
    "                     \"Image sensor\",\n",
    "                     \"Processor\"),]"
   ]
  },
  {
   "cell_type": "markdown",
   "id": "12161319",
   "metadata": {},
   "source": [
    "We'll also define metrics that look at the main host properties predicted by the ExecutionGraph which we want to measure:"
   ]
  },
  {
   "cell_type": "code",
   "execution_count": 37,
   "id": "38c00d49",
   "metadata": {},
   "outputs": [],
   "source": [
    "class ReconstructionPower(Metric):\n",
    "    def __init__(self):\n",
    "        super().__init__(\"Phase reconstruction power\", \n",
    "                         [],\n",
    "                         [PhaseReconstruction2D().outputs.host_properties.ops],)\n",
    "        \n",
    "    def metric(self, message: Message, properties: dict):\n",
    "        matches = self.graph_matches(properties)\n",
    "        power = np.prod(matches[0]) * 1e-8\n",
    "        metrics = {\"reconstruction power (W)\": power,}\n",
    "        \n",
    "        return metrics\n",
    "    "
   ]
  },
  {
   "cell_type": "code",
   "execution_count": 38,
   "id": "cdd8aca3",
   "metadata": {},
   "outputs": [],
   "source": [
    "class TotalOps(Metric):\n",
    "    def __init__(self):\n",
    "        super().__init__(\"Total operations\", \n",
    "                         [],\n",
    "                         [Regex(r\"ops \\(n,n\\)\"),],)\n",
    "        \n",
    "    def metric(self, message: Message, properties: dict):\n",
    "        matches = self.graph_matches(properties)\n",
    "        ops = np.sum([np.prod(op) for op in matches])\n",
    "        metrics = {\"total ops (n)\": ops,}\n",
    "        \n",
    "        return metrics\n",
    "    "
   ]
  },
  {
   "cell_type": "code",
   "execution_count": 39,
   "id": "11efe648",
   "metadata": {},
   "outputs": [],
   "source": [
    "class TotalLatency(Metric):\n",
    "    def __init__(self):\n",
    "        super().__init__(\"Total latency\", \n",
    "                         [Regex(r\"latency \\(s\\)\"),],\n",
    "                         [],)\n",
    "        \n",
    "    def metric(self, message: Message, properties: dict):\n",
    "        matches = self.message_matches(message)\n",
    "        ops = np.sum(matches)\n",
    "        metrics = {\"total latency (s)\": ops,}\n",
    "        \n",
    "        return metrics\n",
    "    "
   ]
  },
  {
   "cell_type": "code",
   "execution_count": 40,
   "id": "b7d2b8eb",
   "metadata": {},
   "outputs": [],
   "source": [
    "bcdi_graph = ExecutionGraph(\"BCDI Experiment\", nodes, links, [ReconstructionPower(), TotalOps(), TotalLatency()])"
   ]
  },
  {
   "cell_type": "code",
   "execution_count": 41,
   "id": "b2592dd3",
   "metadata": {},
   "outputs": [],
   "source": [
    "g2 = bcdi_graph()"
   ]
  },
  {
   "cell_type": "code",
   "execution_count": 42,
   "id": "fa09b470",
   "metadata": {},
   "outputs": [
    {
     "data": {
      "text/plain": [
       "<systemflow.node.ExecutionGraph at 0x159ad2110>"
      ]
     },
     "execution_count": 42,
     "metadata": {},
     "output_type": "execute_result"
    }
   ],
   "source": [
    "g2"
   ]
  },
  {
   "cell_type": "code",
   "execution_count": 43,
   "id": "b21079b4",
   "metadata": {},
   "outputs": [
    {
     "data": {
      "text/plain": [
       "{'reconstruction power (W)': np.float64(6.08164799306237),\n",
       " 'total ops (n)': np.float64(612164799.306237),\n",
       " 'total latency (s)': np.float64(0.0020335507624599796)}"
      ]
     },
     "execution_count": 43,
     "metadata": {},
     "output_type": "execute_result"
    }
   ],
   "source": [
    "g2.metric_values"
   ]
  },
  {
   "cell_type": "code",
   "execution_count": 44,
   "id": "58c7b535",
   "metadata": {},
   "outputs": [
    {
     "data": {
      "text/plain": [
       "{'Processor': {'op latency (s)': 1e-07,\n",
       "  'parallelism (%)': 0.75,\n",
       "  'kernel size (%,%)': (0.02, 0.02),\n",
       "  'masking proportion (%)': 0.05,\n",
       "  'iterations (n)': 20},\n",
       " 'Image sensor': {'resolution (n,n)': (2000, 2000),\n",
       "  'bit depth (n)': 16,\n",
       "  'readout latency (s)': 0.001,\n",
       "  'pixel energy (J)': 0.001,\n",
       "  'sample rate (Hz)': 10000.0},\n",
       " 'Sample Stage': {'position (mm,mm)': [0.0, 0.0],\n",
       "  'last position (mm,mm)': [0.0, 0.0],\n",
       "  'move rate (mm/s)': 100,\n",
       "  'settle time (s)': 0.001}}"
      ]
     },
     "execution_count": 44,
     "metadata": {},
     "output_type": "execute_result"
    }
   ],
   "source": [
    "g2.get_all_node_parameters()"
   ]
  },
  {
   "cell_type": "markdown",
   "id": "37769cdc",
   "metadata": {},
   "source": [
    "And we'll setup one experiment to sweep over the sensor resolution:"
   ]
  },
  {
   "cell_type": "code",
   "execution_count": 45,
   "id": "dc6ecc37",
   "metadata": {},
   "outputs": [],
   "source": [
    "def sweep_resolution(resolution: tuple, exg: ExecutionGraph):\n",
    "    # an empirical relationship we assume between the classifier skill and number of filters\n",
    "    new_params = {\"Image sensor\": {vc_img.resolution: resolution,}}\n",
    "    # we can simply call an existing graph with new parameters\n",
    "    new_exg = exg.with_updated_parameters(new_params)()\n",
    "\n",
    "    power = new_exg.metric_values[\"reconstruction power (W)\"]\n",
    "    ops = new_exg.metric_values[\"total ops (n)\"]\n",
    "    latency = new_exg.metric_values[\"total latency (s)\"]\n",
    "    return power, ops, latency"
   ]
  },
  {
   "cell_type": "code",
   "execution_count": 46,
   "id": "5e6abcdc",
   "metadata": {},
   "outputs": [],
   "source": [
    "# assume aspect ratio stays the same and scales up and down\n",
    "resolutions = [np.astype(s * np.array((2000, 1400)), 'int') for s in np.linspace(start=0.8, stop=6.0, num=101)]\n",
    "megapixels = [np.prod(r)/1e6 for r in resolutions]"
   ]
  },
  {
   "cell_type": "code",
   "execution_count": 47,
   "id": "9ac93a4e",
   "metadata": {},
   "outputs": [],
   "source": [
    "metrics = [sweep_resolution(r, g2) for r in resolutions]"
   ]
  },
  {
   "cell_type": "code",
   "execution_count": 48,
   "id": "aea565bc",
   "metadata": {},
   "outputs": [],
   "source": [
    "import plotly.graph_objects as go"
   ]
  },
  {
   "cell_type": "markdown",
   "id": "1293f7b4",
   "metadata": {},
   "source": [
    "Now, we can predict the overall power and latency for a single image by number of megapixels: power goes up linearly, and with a parallel implementation of the algorithms, latency goes up sub-linearly:"
   ]
  },
  {
   "cell_type": "code",
   "execution_count": 49,
   "id": "0703f992",
   "metadata": {},
   "outputs": [
    {
     "data": {
      "application/vnd.plotly.v1+json": {
       "config": {
        "plotlyServerURL": "https://plot.ly"
       },
       "data": [
        {
         "type": "scatter",
         "x": [
          1.792,
          2.031168,
          2.28712,
          2.558256,
          2.844576,
          3.14608,
          3.460544,
          3.792312,
          4.139264,
          4.5014,
          4.87872,
          5.26848,
          5.676064,
          6.098832,
          6.536784,
          6.98992,
          7.454976,
          7.938376,
          8.43696,
          8.950728,
          9.47968,
          10.020032,
          10.579248,
          11.153648,
          11.743232,
          12.348,
          12.963648,
          13.59868,
          14.248896,
          14.914296,
          15.59488,
          16.285824,
          16.996672,
          17.722704,
          18.46392,
          19.22032,
          19.98656,
          20.773224,
          21.575072,
          22.392104,
          23.22432,
          24.065856,
          24.928336,
          25.806,
          26.698848,
          27.60688,
          28.523712,
          29.462008,
          30.415488,
          31.384152,
          32.368,
          33.360128,
          34.37424,
          35.403536,
          36.448016,
          37.50768,
          38.575104,
          39.665032,
          40.770144,
          41.89044,
          43.02592,
          44.16864,
          45.334384,
          46.515312,
          47.711424,
          48.92272,
          50.140736,
          51.382296,
          52.63904,
          53.910968,
          55.19808,
          56.491392,
          57.808768,
          59.141328,
          60.489072,
          61.852,
          63.220608,
          64.6138,
          66.022176,
          67.445736,
          68.88448,
          70.328384,
          71.797392,
          73.281584,
          74.78096,
          76.29552,
          77.81472,
          79.359544,
          80.919552,
          82.494744,
          84.08512,
          85.679616,
          87.300256,
          88.93608,
          90.587088,
          92.25328,
          93.923072,
          95.619528,
          97.331168,
          99.057992,
          100.8
         ],
         "y": [
          2.5995963411088767,
          2.9686519028385563,
          3.3663153894200892,
          3.790283437834727,
          4.240703880441816,
          4.717716698485901,
          5.217908166798135,
          5.748313762934537,
          6.305691137532995,
          6.890155783270575,
          7.501818345995024,
          8.136308951526068,
          8.802493728222087,
          9.496182304186028,
          10.21746944568224,
          10.966446631385706,
          11.737779570494553,
          12.542208051733969,
          13.374582830211487,
          14.234984254497643,
          15.12349029748166,
          16.033792898991123,
          16.978539474638307,
          17.95161115909283,
          18.953077691597766,
          19.983007014752516,
          21.034108026431834,
          22.12096392831622,
          23.23647611255291,
          24.3807061843388,
          25.553714342715015,
          26.747217619932837,
          27.977759107773252,
          29.237251068554045,
          30.525748672851922,
          31.843305960824992,
          33.18063982278899,
          34.55627434447448,
          35.96112398367353,
          37.3952386935138,
          38.85866749861892,
          40.34111941892028,
          41.86311832306563,
          43.41457284039024,
          44.99552860820225,
          46.606030487579964,
          48.2347724130189,
          49.90429498132615,
          51.603493550772754,
          53.332410129334896,
          55.09108606642648,
          56.86719346454191,
          58.68530508859051,
          60.53329609864588,
          62.41120540810629,
          64.31907136461327,
          66.24353791498278,
          68.21122417854343,
          70.20897864669654,
          72.23683756293315,
          74.29483667947231,
          76.36858584411556,
          78.48676365579931,
          80.63518587217217,
          82.81388640968139,
          85.02289875418978,
          87.24679305320166,
          89.51631960001663,
          91.81625571458966,
          94.14663326712554,
          96.50748374734383,
          98.88233230933085,
          101.30401236536335,
          103.75625741679661,
          106.2390975204591,
          108.75256239453181,
          111.27912718494015,
          113.85371915503657,
          116.45902289686424,
          119.09506684912935,
          121.76187914718867,
          124.4408801663255,
          127.16910114092171,
          129.92817292480274,
          132.71812250388126,
          135.53897659077384,
          138.3710962569942,
          141.253626282753,
          144.1671391919303,
          147.11166065886655,
          150.08721611040494,
          153.0731029903848,
          156.1105887109386,
          159.1791830899922,
          162.27891061189766,
          165.4097955358206,
          168.5500675455043,
          171.74312533041734,
          174.9674118234594,
          178.22295042442022,
          181.50976432732764
         ]
        }
       ],
       "layout": {
        "template": {
         "data": {
          "bar": [
           {
            "error_x": {
             "color": "#2a3f5f"
            },
            "error_y": {
             "color": "#2a3f5f"
            },
            "marker": {
             "line": {
              "color": "#E5ECF6",
              "width": 0.5
             },
             "pattern": {
              "fillmode": "overlay",
              "size": 10,
              "solidity": 0.2
             }
            },
            "type": "bar"
           }
          ],
          "barpolar": [
           {
            "marker": {
             "line": {
              "color": "#E5ECF6",
              "width": 0.5
             },
             "pattern": {
              "fillmode": "overlay",
              "size": 10,
              "solidity": 0.2
             }
            },
            "type": "barpolar"
           }
          ],
          "carpet": [
           {
            "aaxis": {
             "endlinecolor": "#2a3f5f",
             "gridcolor": "white",
             "linecolor": "white",
             "minorgridcolor": "white",
             "startlinecolor": "#2a3f5f"
            },
            "baxis": {
             "endlinecolor": "#2a3f5f",
             "gridcolor": "white",
             "linecolor": "white",
             "minorgridcolor": "white",
             "startlinecolor": "#2a3f5f"
            },
            "type": "carpet"
           }
          ],
          "choropleth": [
           {
            "colorbar": {
             "outlinewidth": 0,
             "ticks": ""
            },
            "type": "choropleth"
           }
          ],
          "contour": [
           {
            "colorbar": {
             "outlinewidth": 0,
             "ticks": ""
            },
            "colorscale": [
             [
              0,
              "#0d0887"
             ],
             [
              0.1111111111111111,
              "#46039f"
             ],
             [
              0.2222222222222222,
              "#7201a8"
             ],
             [
              0.3333333333333333,
              "#9c179e"
             ],
             [
              0.4444444444444444,
              "#bd3786"
             ],
             [
              0.5555555555555556,
              "#d8576b"
             ],
             [
              0.6666666666666666,
              "#ed7953"
             ],
             [
              0.7777777777777778,
              "#fb9f3a"
             ],
             [
              0.8888888888888888,
              "#fdca26"
             ],
             [
              1,
              "#f0f921"
             ]
            ],
            "type": "contour"
           }
          ],
          "contourcarpet": [
           {
            "colorbar": {
             "outlinewidth": 0,
             "ticks": ""
            },
            "type": "contourcarpet"
           }
          ],
          "heatmap": [
           {
            "colorbar": {
             "outlinewidth": 0,
             "ticks": ""
            },
            "colorscale": [
             [
              0,
              "#0d0887"
             ],
             [
              0.1111111111111111,
              "#46039f"
             ],
             [
              0.2222222222222222,
              "#7201a8"
             ],
             [
              0.3333333333333333,
              "#9c179e"
             ],
             [
              0.4444444444444444,
              "#bd3786"
             ],
             [
              0.5555555555555556,
              "#d8576b"
             ],
             [
              0.6666666666666666,
              "#ed7953"
             ],
             [
              0.7777777777777778,
              "#fb9f3a"
             ],
             [
              0.8888888888888888,
              "#fdca26"
             ],
             [
              1,
              "#f0f921"
             ]
            ],
            "type": "heatmap"
           }
          ],
          "heatmapgl": [
           {
            "colorbar": {
             "outlinewidth": 0,
             "ticks": ""
            },
            "colorscale": [
             [
              0,
              "#0d0887"
             ],
             [
              0.1111111111111111,
              "#46039f"
             ],
             [
              0.2222222222222222,
              "#7201a8"
             ],
             [
              0.3333333333333333,
              "#9c179e"
             ],
             [
              0.4444444444444444,
              "#bd3786"
             ],
             [
              0.5555555555555556,
              "#d8576b"
             ],
             [
              0.6666666666666666,
              "#ed7953"
             ],
             [
              0.7777777777777778,
              "#fb9f3a"
             ],
             [
              0.8888888888888888,
              "#fdca26"
             ],
             [
              1,
              "#f0f921"
             ]
            ],
            "type": "heatmapgl"
           }
          ],
          "histogram": [
           {
            "marker": {
             "pattern": {
              "fillmode": "overlay",
              "size": 10,
              "solidity": 0.2
             }
            },
            "type": "histogram"
           }
          ],
          "histogram2d": [
           {
            "colorbar": {
             "outlinewidth": 0,
             "ticks": ""
            },
            "colorscale": [
             [
              0,
              "#0d0887"
             ],
             [
              0.1111111111111111,
              "#46039f"
             ],
             [
              0.2222222222222222,
              "#7201a8"
             ],
             [
              0.3333333333333333,
              "#9c179e"
             ],
             [
              0.4444444444444444,
              "#bd3786"
             ],
             [
              0.5555555555555556,
              "#d8576b"
             ],
             [
              0.6666666666666666,
              "#ed7953"
             ],
             [
              0.7777777777777778,
              "#fb9f3a"
             ],
             [
              0.8888888888888888,
              "#fdca26"
             ],
             [
              1,
              "#f0f921"
             ]
            ],
            "type": "histogram2d"
           }
          ],
          "histogram2dcontour": [
           {
            "colorbar": {
             "outlinewidth": 0,
             "ticks": ""
            },
            "colorscale": [
             [
              0,
              "#0d0887"
             ],
             [
              0.1111111111111111,
              "#46039f"
             ],
             [
              0.2222222222222222,
              "#7201a8"
             ],
             [
              0.3333333333333333,
              "#9c179e"
             ],
             [
              0.4444444444444444,
              "#bd3786"
             ],
             [
              0.5555555555555556,
              "#d8576b"
             ],
             [
              0.6666666666666666,
              "#ed7953"
             ],
             [
              0.7777777777777778,
              "#fb9f3a"
             ],
             [
              0.8888888888888888,
              "#fdca26"
             ],
             [
              1,
              "#f0f921"
             ]
            ],
            "type": "histogram2dcontour"
           }
          ],
          "mesh3d": [
           {
            "colorbar": {
             "outlinewidth": 0,
             "ticks": ""
            },
            "type": "mesh3d"
           }
          ],
          "parcoords": [
           {
            "line": {
             "colorbar": {
              "outlinewidth": 0,
              "ticks": ""
             }
            },
            "type": "parcoords"
           }
          ],
          "pie": [
           {
            "automargin": true,
            "type": "pie"
           }
          ],
          "scatter": [
           {
            "fillpattern": {
             "fillmode": "overlay",
             "size": 10,
             "solidity": 0.2
            },
            "type": "scatter"
           }
          ],
          "scatter3d": [
           {
            "line": {
             "colorbar": {
              "outlinewidth": 0,
              "ticks": ""
             }
            },
            "marker": {
             "colorbar": {
              "outlinewidth": 0,
              "ticks": ""
             }
            },
            "type": "scatter3d"
           }
          ],
          "scattercarpet": [
           {
            "marker": {
             "colorbar": {
              "outlinewidth": 0,
              "ticks": ""
             }
            },
            "type": "scattercarpet"
           }
          ],
          "scattergeo": [
           {
            "marker": {
             "colorbar": {
              "outlinewidth": 0,
              "ticks": ""
             }
            },
            "type": "scattergeo"
           }
          ],
          "scattergl": [
           {
            "marker": {
             "colorbar": {
              "outlinewidth": 0,
              "ticks": ""
             }
            },
            "type": "scattergl"
           }
          ],
          "scattermapbox": [
           {
            "marker": {
             "colorbar": {
              "outlinewidth": 0,
              "ticks": ""
             }
            },
            "type": "scattermapbox"
           }
          ],
          "scatterpolar": [
           {
            "marker": {
             "colorbar": {
              "outlinewidth": 0,
              "ticks": ""
             }
            },
            "type": "scatterpolar"
           }
          ],
          "scatterpolargl": [
           {
            "marker": {
             "colorbar": {
              "outlinewidth": 0,
              "ticks": ""
             }
            },
            "type": "scatterpolargl"
           }
          ],
          "scatterternary": [
           {
            "marker": {
             "colorbar": {
              "outlinewidth": 0,
              "ticks": ""
             }
            },
            "type": "scatterternary"
           }
          ],
          "surface": [
           {
            "colorbar": {
             "outlinewidth": 0,
             "ticks": ""
            },
            "colorscale": [
             [
              0,
              "#0d0887"
             ],
             [
              0.1111111111111111,
              "#46039f"
             ],
             [
              0.2222222222222222,
              "#7201a8"
             ],
             [
              0.3333333333333333,
              "#9c179e"
             ],
             [
              0.4444444444444444,
              "#bd3786"
             ],
             [
              0.5555555555555556,
              "#d8576b"
             ],
             [
              0.6666666666666666,
              "#ed7953"
             ],
             [
              0.7777777777777778,
              "#fb9f3a"
             ],
             [
              0.8888888888888888,
              "#fdca26"
             ],
             [
              1,
              "#f0f921"
             ]
            ],
            "type": "surface"
           }
          ],
          "table": [
           {
            "cells": {
             "fill": {
              "color": "#EBF0F8"
             },
             "line": {
              "color": "white"
             }
            },
            "header": {
             "fill": {
              "color": "#C8D4E3"
             },
             "line": {
              "color": "white"
             }
            },
            "type": "table"
           }
          ]
         },
         "layout": {
          "annotationdefaults": {
           "arrowcolor": "#2a3f5f",
           "arrowhead": 0,
           "arrowwidth": 1
          },
          "autotypenumbers": "strict",
          "coloraxis": {
           "colorbar": {
            "outlinewidth": 0,
            "ticks": ""
           }
          },
          "colorscale": {
           "diverging": [
            [
             0,
             "#8e0152"
            ],
            [
             0.1,
             "#c51b7d"
            ],
            [
             0.2,
             "#de77ae"
            ],
            [
             0.3,
             "#f1b6da"
            ],
            [
             0.4,
             "#fde0ef"
            ],
            [
             0.5,
             "#f7f7f7"
            ],
            [
             0.6,
             "#e6f5d0"
            ],
            [
             0.7,
             "#b8e186"
            ],
            [
             0.8,
             "#7fbc41"
            ],
            [
             0.9,
             "#4d9221"
            ],
            [
             1,
             "#276419"
            ]
           ],
           "sequential": [
            [
             0,
             "#0d0887"
            ],
            [
             0.1111111111111111,
             "#46039f"
            ],
            [
             0.2222222222222222,
             "#7201a8"
            ],
            [
             0.3333333333333333,
             "#9c179e"
            ],
            [
             0.4444444444444444,
             "#bd3786"
            ],
            [
             0.5555555555555556,
             "#d8576b"
            ],
            [
             0.6666666666666666,
             "#ed7953"
            ],
            [
             0.7777777777777778,
             "#fb9f3a"
            ],
            [
             0.8888888888888888,
             "#fdca26"
            ],
            [
             1,
             "#f0f921"
            ]
           ],
           "sequentialminus": [
            [
             0,
             "#0d0887"
            ],
            [
             0.1111111111111111,
             "#46039f"
            ],
            [
             0.2222222222222222,
             "#7201a8"
            ],
            [
             0.3333333333333333,
             "#9c179e"
            ],
            [
             0.4444444444444444,
             "#bd3786"
            ],
            [
             0.5555555555555556,
             "#d8576b"
            ],
            [
             0.6666666666666666,
             "#ed7953"
            ],
            [
             0.7777777777777778,
             "#fb9f3a"
            ],
            [
             0.8888888888888888,
             "#fdca26"
            ],
            [
             1,
             "#f0f921"
            ]
           ]
          },
          "colorway": [
           "#636efa",
           "#EF553B",
           "#00cc96",
           "#ab63fa",
           "#FFA15A",
           "#19d3f3",
           "#FF6692",
           "#B6E880",
           "#FF97FF",
           "#FECB52"
          ],
          "font": {
           "color": "#2a3f5f"
          },
          "geo": {
           "bgcolor": "white",
           "lakecolor": "white",
           "landcolor": "#E5ECF6",
           "showlakes": true,
           "showland": true,
           "subunitcolor": "white"
          },
          "hoverlabel": {
           "align": "left"
          },
          "hovermode": "closest",
          "mapbox": {
           "style": "light"
          },
          "paper_bgcolor": "white",
          "plot_bgcolor": "#E5ECF6",
          "polar": {
           "angularaxis": {
            "gridcolor": "white",
            "linecolor": "white",
            "ticks": ""
           },
           "bgcolor": "#E5ECF6",
           "radialaxis": {
            "gridcolor": "white",
            "linecolor": "white",
            "ticks": ""
           }
          },
          "scene": {
           "xaxis": {
            "backgroundcolor": "#E5ECF6",
            "gridcolor": "white",
            "gridwidth": 2,
            "linecolor": "white",
            "showbackground": true,
            "ticks": "",
            "zerolinecolor": "white"
           },
           "yaxis": {
            "backgroundcolor": "#E5ECF6",
            "gridcolor": "white",
            "gridwidth": 2,
            "linecolor": "white",
            "showbackground": true,
            "ticks": "",
            "zerolinecolor": "white"
           },
           "zaxis": {
            "backgroundcolor": "#E5ECF6",
            "gridcolor": "white",
            "gridwidth": 2,
            "linecolor": "white",
            "showbackground": true,
            "ticks": "",
            "zerolinecolor": "white"
           }
          },
          "shapedefaults": {
           "line": {
            "color": "#2a3f5f"
           }
          },
          "ternary": {
           "aaxis": {
            "gridcolor": "white",
            "linecolor": "white",
            "ticks": ""
           },
           "baxis": {
            "gridcolor": "white",
            "linecolor": "white",
            "ticks": ""
           },
           "bgcolor": "#E5ECF6",
           "caxis": {
            "gridcolor": "white",
            "linecolor": "white",
            "ticks": ""
           }
          },
          "title": {
           "x": 0.05
          },
          "xaxis": {
           "automargin": true,
           "gridcolor": "white",
           "linecolor": "white",
           "ticks": "",
           "title": {
            "standoff": 15
           },
           "zerolinecolor": "white",
           "zerolinewidth": 2
          },
          "yaxis": {
           "automargin": true,
           "gridcolor": "white",
           "linecolor": "white",
           "ticks": "",
           "title": {
            "standoff": 15
           },
           "zerolinecolor": "white",
           "zerolinewidth": 2
          }
         }
        },
        "title": {
         "text": "Total Processing Power by Sensor Pixels"
        },
        "xaxis": {
         "title": {
          "text": "Sensor Pixels (MP)"
         }
        },
        "yaxis": {
         "title": {
          "text": "Total Power (W)"
         }
        }
       }
      }
     },
     "metadata": {},
     "output_type": "display_data"
    }
   ],
   "source": [
    "fig = go.Figure()\n",
    "\n",
    "fig.add_trace(go.Scatter(\n",
    "    x = megapixels,\n",
    "    y = [m[0] for m in metrics],))\n",
    "\n",
    "fig.update_layout(\n",
    "    title_text = \"Total Processing Power by Sensor Pixels\",\n",
    "    xaxis_title=\"Sensor Pixels (MP)\",\n",
    "    yaxis_title=\"Total Power (W)\",\n",
    ")\n",
    "fig.show()"
   ]
  },
  {
   "cell_type": "code",
   "execution_count": 50,
   "id": "1d43daaf",
   "metadata": {},
   "outputs": [
    {
     "data": {
      "application/vnd.plotly.v1+json": {
       "config": {
        "plotlyServerURL": "https://plot.ly"
       },
       "data": [
        {
         "name": "latency (s)",
         "type": "scatter",
         "x": [
          1.792,
          2.031168,
          2.28712,
          2.558256,
          2.844576,
          3.14608,
          3.460544,
          3.792312,
          4.139264,
          4.5014,
          4.87872,
          5.26848,
          5.676064,
          6.098832,
          6.536784,
          6.98992,
          7.454976,
          7.938376,
          8.43696,
          8.950728,
          9.47968,
          10.020032,
          10.579248,
          11.153648,
          11.743232,
          12.348,
          12.963648,
          13.59868,
          14.248896,
          14.914296,
          15.59488,
          16.285824,
          16.996672,
          17.722704,
          18.46392,
          19.22032,
          19.98656,
          20.773224,
          21.575072,
          22.392104,
          23.22432,
          24.065856,
          24.928336,
          25.806,
          26.698848,
          27.60688,
          28.523712,
          29.462008,
          30.415488,
          31.384152,
          32.368,
          33.360128,
          34.37424,
          35.403536,
          36.448016,
          37.50768,
          38.575104,
          39.665032,
          40.770144,
          41.89044,
          43.02592,
          44.16864,
          45.334384,
          46.515312,
          47.711424,
          48.92272,
          50.140736,
          51.382296,
          52.63904,
          53.910968,
          55.19808,
          56.491392,
          57.808768,
          59.141328,
          60.489072,
          61.852,
          63.220608,
          64.6138,
          66.022176,
          67.445736,
          68.88448,
          70.328384,
          71.797392,
          73.281584,
          74.78096,
          76.29552,
          77.81472,
          79.359544,
          80.919552,
          82.494744,
          84.08512,
          85.679616,
          87.300256,
          88.93608,
          90.587088,
          92.25328,
          93.923072,
          95.619528,
          97.331168,
          99.057992,
          100.8
         ],
         "y": [
          0.002025268403491177,
          0.002026341572654422,
          0.0020275063854099133,
          0.0020285550433906635,
          0.002029691481767128,
          0.002030714495929198,
          0.0020318214681582184,
          0.0020328224229796015,
          0.0020339137326689525,
          0.0020348953751903455,
          0.002035867777840011,
          0.0020369278949403727,
          0.0020378842859184593,
          0.002039004156466646,
          0.0020399460288733026,
          0.0020409819817296766,
          0.0020419061514200627,
          0.0020429295124194838,
          0.002043846642373653,
          0.002044858498974911,
          0.00204576483573288,
          0.002046661285256926,
          0.0020476581061092025,
          0.0020485496059821358,
          0.0020495370849834956,
          0.0020504898154626136,
          0.0020514644871487053,
          0.0020523389870413804,
          0.0020533099932614255,
          0.002054176887026184,
          0.0020551403966099966,
          0.002055995946938289,
          0.002056852135056822,
          0.0020578055931075737,
          0.0020586553361778264,
          0.0020596023817787165,
          0.0020604419287320727,
          0.0020613829529220994,
          0.0020622909440261065,
          0.002063226430555993,
          0.002064058914084499,
          0.002064984954920017,
          0.002065812326006258,
          0.002066737311102785,
          0.0020675598072313903,
          0.0020683797755199265,
          0.0020692938369629207,
          0.002070109306618857,
          0.0020710228138092574,
          0.0020718339756695997,
          0.002072813268197555,
          0.0020736163835294,
          0.0020745215981603244,
          0.0020753246789692674,
          0.0020762259468200955,
          0.0020770252744002535,
          0.0020778188027545355,
          0.002078714675727185,
          0.0020795085070097804,
          0.002080400829199747,
          0.0020811912702002767,
          0.00208207642142936,
          0.002082863618011664,
          0.0020838193440445595,
          0.002084603364212189,
          0.0020854859495427042,
          0.0020862632409717435,
          0.002087042647726496,
          0.002087920894078061,
          0.002088697443470481,
          0.0020895727990844805,
          0.0020903429372821636,
          0.002091215510587155,
          0.0020919866533801418,
          0.002092856530364482,
          0.0020936950989585324,
          0.002094558849741597,
          0.0020953248989650577,
          0.0020960896062456624,
          0.0020969533797835912,
          0.0020977157211042366,
          0.002098573513983997,
          0.0020993335605784297,
          0.002100192597528773,
          0.0021009504157824864,
          0.0021018071862568075,
          0.0021025593080343224,
          0.0021034138854334173,
          0.0021042374513490667,
          0.0021049898412123713,
          0.002105841461621438,
          0.0021065883390361225,
          0.0021074379143326523,
          0.0021081863453363842,
          0.002109033926057431,
          0.0021097804517920386,
          0.0021106226282805204,
          0.002111367308061886,
          0.00211221106860954,
          0.002112953942021334,
          0.002113865914580897
         ]
        }
       ],
       "layout": {
        "template": {
         "data": {
          "bar": [
           {
            "error_x": {
             "color": "#2a3f5f"
            },
            "error_y": {
             "color": "#2a3f5f"
            },
            "marker": {
             "line": {
              "color": "#E5ECF6",
              "width": 0.5
             },
             "pattern": {
              "fillmode": "overlay",
              "size": 10,
              "solidity": 0.2
             }
            },
            "type": "bar"
           }
          ],
          "barpolar": [
           {
            "marker": {
             "line": {
              "color": "#E5ECF6",
              "width": 0.5
             },
             "pattern": {
              "fillmode": "overlay",
              "size": 10,
              "solidity": 0.2
             }
            },
            "type": "barpolar"
           }
          ],
          "carpet": [
           {
            "aaxis": {
             "endlinecolor": "#2a3f5f",
             "gridcolor": "white",
             "linecolor": "white",
             "minorgridcolor": "white",
             "startlinecolor": "#2a3f5f"
            },
            "baxis": {
             "endlinecolor": "#2a3f5f",
             "gridcolor": "white",
             "linecolor": "white",
             "minorgridcolor": "white",
             "startlinecolor": "#2a3f5f"
            },
            "type": "carpet"
           }
          ],
          "choropleth": [
           {
            "colorbar": {
             "outlinewidth": 0,
             "ticks": ""
            },
            "type": "choropleth"
           }
          ],
          "contour": [
           {
            "colorbar": {
             "outlinewidth": 0,
             "ticks": ""
            },
            "colorscale": [
             [
              0,
              "#0d0887"
             ],
             [
              0.1111111111111111,
              "#46039f"
             ],
             [
              0.2222222222222222,
              "#7201a8"
             ],
             [
              0.3333333333333333,
              "#9c179e"
             ],
             [
              0.4444444444444444,
              "#bd3786"
             ],
             [
              0.5555555555555556,
              "#d8576b"
             ],
             [
              0.6666666666666666,
              "#ed7953"
             ],
             [
              0.7777777777777778,
              "#fb9f3a"
             ],
             [
              0.8888888888888888,
              "#fdca26"
             ],
             [
              1,
              "#f0f921"
             ]
            ],
            "type": "contour"
           }
          ],
          "contourcarpet": [
           {
            "colorbar": {
             "outlinewidth": 0,
             "ticks": ""
            },
            "type": "contourcarpet"
           }
          ],
          "heatmap": [
           {
            "colorbar": {
             "outlinewidth": 0,
             "ticks": ""
            },
            "colorscale": [
             [
              0,
              "#0d0887"
             ],
             [
              0.1111111111111111,
              "#46039f"
             ],
             [
              0.2222222222222222,
              "#7201a8"
             ],
             [
              0.3333333333333333,
              "#9c179e"
             ],
             [
              0.4444444444444444,
              "#bd3786"
             ],
             [
              0.5555555555555556,
              "#d8576b"
             ],
             [
              0.6666666666666666,
              "#ed7953"
             ],
             [
              0.7777777777777778,
              "#fb9f3a"
             ],
             [
              0.8888888888888888,
              "#fdca26"
             ],
             [
              1,
              "#f0f921"
             ]
            ],
            "type": "heatmap"
           }
          ],
          "heatmapgl": [
           {
            "colorbar": {
             "outlinewidth": 0,
             "ticks": ""
            },
            "colorscale": [
             [
              0,
              "#0d0887"
             ],
             [
              0.1111111111111111,
              "#46039f"
             ],
             [
              0.2222222222222222,
              "#7201a8"
             ],
             [
              0.3333333333333333,
              "#9c179e"
             ],
             [
              0.4444444444444444,
              "#bd3786"
             ],
             [
              0.5555555555555556,
              "#d8576b"
             ],
             [
              0.6666666666666666,
              "#ed7953"
             ],
             [
              0.7777777777777778,
              "#fb9f3a"
             ],
             [
              0.8888888888888888,
              "#fdca26"
             ],
             [
              1,
              "#f0f921"
             ]
            ],
            "type": "heatmapgl"
           }
          ],
          "histogram": [
           {
            "marker": {
             "pattern": {
              "fillmode": "overlay",
              "size": 10,
              "solidity": 0.2
             }
            },
            "type": "histogram"
           }
          ],
          "histogram2d": [
           {
            "colorbar": {
             "outlinewidth": 0,
             "ticks": ""
            },
            "colorscale": [
             [
              0,
              "#0d0887"
             ],
             [
              0.1111111111111111,
              "#46039f"
             ],
             [
              0.2222222222222222,
              "#7201a8"
             ],
             [
              0.3333333333333333,
              "#9c179e"
             ],
             [
              0.4444444444444444,
              "#bd3786"
             ],
             [
              0.5555555555555556,
              "#d8576b"
             ],
             [
              0.6666666666666666,
              "#ed7953"
             ],
             [
              0.7777777777777778,
              "#fb9f3a"
             ],
             [
              0.8888888888888888,
              "#fdca26"
             ],
             [
              1,
              "#f0f921"
             ]
            ],
            "type": "histogram2d"
           }
          ],
          "histogram2dcontour": [
           {
            "colorbar": {
             "outlinewidth": 0,
             "ticks": ""
            },
            "colorscale": [
             [
              0,
              "#0d0887"
             ],
             [
              0.1111111111111111,
              "#46039f"
             ],
             [
              0.2222222222222222,
              "#7201a8"
             ],
             [
              0.3333333333333333,
              "#9c179e"
             ],
             [
              0.4444444444444444,
              "#bd3786"
             ],
             [
              0.5555555555555556,
              "#d8576b"
             ],
             [
              0.6666666666666666,
              "#ed7953"
             ],
             [
              0.7777777777777778,
              "#fb9f3a"
             ],
             [
              0.8888888888888888,
              "#fdca26"
             ],
             [
              1,
              "#f0f921"
             ]
            ],
            "type": "histogram2dcontour"
           }
          ],
          "mesh3d": [
           {
            "colorbar": {
             "outlinewidth": 0,
             "ticks": ""
            },
            "type": "mesh3d"
           }
          ],
          "parcoords": [
           {
            "line": {
             "colorbar": {
              "outlinewidth": 0,
              "ticks": ""
             }
            },
            "type": "parcoords"
           }
          ],
          "pie": [
           {
            "automargin": true,
            "type": "pie"
           }
          ],
          "scatter": [
           {
            "fillpattern": {
             "fillmode": "overlay",
             "size": 10,
             "solidity": 0.2
            },
            "type": "scatter"
           }
          ],
          "scatter3d": [
           {
            "line": {
             "colorbar": {
              "outlinewidth": 0,
              "ticks": ""
             }
            },
            "marker": {
             "colorbar": {
              "outlinewidth": 0,
              "ticks": ""
             }
            },
            "type": "scatter3d"
           }
          ],
          "scattercarpet": [
           {
            "marker": {
             "colorbar": {
              "outlinewidth": 0,
              "ticks": ""
             }
            },
            "type": "scattercarpet"
           }
          ],
          "scattergeo": [
           {
            "marker": {
             "colorbar": {
              "outlinewidth": 0,
              "ticks": ""
             }
            },
            "type": "scattergeo"
           }
          ],
          "scattergl": [
           {
            "marker": {
             "colorbar": {
              "outlinewidth": 0,
              "ticks": ""
             }
            },
            "type": "scattergl"
           }
          ],
          "scattermapbox": [
           {
            "marker": {
             "colorbar": {
              "outlinewidth": 0,
              "ticks": ""
             }
            },
            "type": "scattermapbox"
           }
          ],
          "scatterpolar": [
           {
            "marker": {
             "colorbar": {
              "outlinewidth": 0,
              "ticks": ""
             }
            },
            "type": "scatterpolar"
           }
          ],
          "scatterpolargl": [
           {
            "marker": {
             "colorbar": {
              "outlinewidth": 0,
              "ticks": ""
             }
            },
            "type": "scatterpolargl"
           }
          ],
          "scatterternary": [
           {
            "marker": {
             "colorbar": {
              "outlinewidth": 0,
              "ticks": ""
             }
            },
            "type": "scatterternary"
           }
          ],
          "surface": [
           {
            "colorbar": {
             "outlinewidth": 0,
             "ticks": ""
            },
            "colorscale": [
             [
              0,
              "#0d0887"
             ],
             [
              0.1111111111111111,
              "#46039f"
             ],
             [
              0.2222222222222222,
              "#7201a8"
             ],
             [
              0.3333333333333333,
              "#9c179e"
             ],
             [
              0.4444444444444444,
              "#bd3786"
             ],
             [
              0.5555555555555556,
              "#d8576b"
             ],
             [
              0.6666666666666666,
              "#ed7953"
             ],
             [
              0.7777777777777778,
              "#fb9f3a"
             ],
             [
              0.8888888888888888,
              "#fdca26"
             ],
             [
              1,
              "#f0f921"
             ]
            ],
            "type": "surface"
           }
          ],
          "table": [
           {
            "cells": {
             "fill": {
              "color": "#EBF0F8"
             },
             "line": {
              "color": "white"
             }
            },
            "header": {
             "fill": {
              "color": "#C8D4E3"
             },
             "line": {
              "color": "white"
             }
            },
            "type": "table"
           }
          ]
         },
         "layout": {
          "annotationdefaults": {
           "arrowcolor": "#2a3f5f",
           "arrowhead": 0,
           "arrowwidth": 1
          },
          "autotypenumbers": "strict",
          "coloraxis": {
           "colorbar": {
            "outlinewidth": 0,
            "ticks": ""
           }
          },
          "colorscale": {
           "diverging": [
            [
             0,
             "#8e0152"
            ],
            [
             0.1,
             "#c51b7d"
            ],
            [
             0.2,
             "#de77ae"
            ],
            [
             0.3,
             "#f1b6da"
            ],
            [
             0.4,
             "#fde0ef"
            ],
            [
             0.5,
             "#f7f7f7"
            ],
            [
             0.6,
             "#e6f5d0"
            ],
            [
             0.7,
             "#b8e186"
            ],
            [
             0.8,
             "#7fbc41"
            ],
            [
             0.9,
             "#4d9221"
            ],
            [
             1,
             "#276419"
            ]
           ],
           "sequential": [
            [
             0,
             "#0d0887"
            ],
            [
             0.1111111111111111,
             "#46039f"
            ],
            [
             0.2222222222222222,
             "#7201a8"
            ],
            [
             0.3333333333333333,
             "#9c179e"
            ],
            [
             0.4444444444444444,
             "#bd3786"
            ],
            [
             0.5555555555555556,
             "#d8576b"
            ],
            [
             0.6666666666666666,
             "#ed7953"
            ],
            [
             0.7777777777777778,
             "#fb9f3a"
            ],
            [
             0.8888888888888888,
             "#fdca26"
            ],
            [
             1,
             "#f0f921"
            ]
           ],
           "sequentialminus": [
            [
             0,
             "#0d0887"
            ],
            [
             0.1111111111111111,
             "#46039f"
            ],
            [
             0.2222222222222222,
             "#7201a8"
            ],
            [
             0.3333333333333333,
             "#9c179e"
            ],
            [
             0.4444444444444444,
             "#bd3786"
            ],
            [
             0.5555555555555556,
             "#d8576b"
            ],
            [
             0.6666666666666666,
             "#ed7953"
            ],
            [
             0.7777777777777778,
             "#fb9f3a"
            ],
            [
             0.8888888888888888,
             "#fdca26"
            ],
            [
             1,
             "#f0f921"
            ]
           ]
          },
          "colorway": [
           "#636efa",
           "#EF553B",
           "#00cc96",
           "#ab63fa",
           "#FFA15A",
           "#19d3f3",
           "#FF6692",
           "#B6E880",
           "#FF97FF",
           "#FECB52"
          ],
          "font": {
           "color": "#2a3f5f"
          },
          "geo": {
           "bgcolor": "white",
           "lakecolor": "white",
           "landcolor": "#E5ECF6",
           "showlakes": true,
           "showland": true,
           "subunitcolor": "white"
          },
          "hoverlabel": {
           "align": "left"
          },
          "hovermode": "closest",
          "mapbox": {
           "style": "light"
          },
          "paper_bgcolor": "white",
          "plot_bgcolor": "#E5ECF6",
          "polar": {
           "angularaxis": {
            "gridcolor": "white",
            "linecolor": "white",
            "ticks": ""
           },
           "bgcolor": "#E5ECF6",
           "radialaxis": {
            "gridcolor": "white",
            "linecolor": "white",
            "ticks": ""
           }
          },
          "scene": {
           "xaxis": {
            "backgroundcolor": "#E5ECF6",
            "gridcolor": "white",
            "gridwidth": 2,
            "linecolor": "white",
            "showbackground": true,
            "ticks": "",
            "zerolinecolor": "white"
           },
           "yaxis": {
            "backgroundcolor": "#E5ECF6",
            "gridcolor": "white",
            "gridwidth": 2,
            "linecolor": "white",
            "showbackground": true,
            "ticks": "",
            "zerolinecolor": "white"
           },
           "zaxis": {
            "backgroundcolor": "#E5ECF6",
            "gridcolor": "white",
            "gridwidth": 2,
            "linecolor": "white",
            "showbackground": true,
            "ticks": "",
            "zerolinecolor": "white"
           }
          },
          "shapedefaults": {
           "line": {
            "color": "#2a3f5f"
           }
          },
          "ternary": {
           "aaxis": {
            "gridcolor": "white",
            "linecolor": "white",
            "ticks": ""
           },
           "baxis": {
            "gridcolor": "white",
            "linecolor": "white",
            "ticks": ""
           },
           "bgcolor": "#E5ECF6",
           "caxis": {
            "gridcolor": "white",
            "linecolor": "white",
            "ticks": ""
           }
          },
          "title": {
           "x": 0.05
          },
          "xaxis": {
           "automargin": true,
           "gridcolor": "white",
           "linecolor": "white",
           "ticks": "",
           "title": {
            "standoff": 15
           },
           "zerolinecolor": "white",
           "zerolinewidth": 2
          },
          "yaxis": {
           "automargin": true,
           "gridcolor": "white",
           "linecolor": "white",
           "ticks": "",
           "title": {
            "standoff": 15
           },
           "zerolinecolor": "white",
           "zerolinewidth": 2
          }
         }
        },
        "title": {
         "text": "Total Processing Latency by Sensor Pixels"
        },
        "xaxis": {
         "title": {
          "text": "Sensor Pixels (MP)"
         }
        },
        "yaxis": {
         "title": {
          "text": "Total Latency (s)"
         }
        }
       }
      }
     },
     "metadata": {},
     "output_type": "display_data"
    }
   ],
   "source": [
    "fig = go.Figure()\n",
    "\n",
    "fig.add_trace(go.Scatter(\n",
    "    x = megapixels,\n",
    "    y = [m[2] for m in metrics],\n",
    "    name = \"latency (s)\",))\n",
    "\n",
    "fig.update_layout(\n",
    "    title_text = \"Total Processing Latency by Sensor Pixels\",\n",
    "    xaxis_title=\"Sensor Pixels (MP)\",\n",
    "    yaxis_title=\"Total Latency (s)\",\n",
    ")\n",
    "fig.show()"
   ]
  },
  {
   "cell_type": "markdown",
   "id": "8f8f91f4",
   "metadata": {},
   "source": [
    "We'll expand on this functionality in the case where many images are used to do the reconstruction, as is the case in ptychography, tomography, and laminography."
   ]
  }
 ],
 "metadata": {
  "kernelspec": {
   "display_name": "systemflow",
   "language": "python",
   "name": "python3"
  },
  "language_info": {
   "codemirror_mode": {
    "name": "ipython",
    "version": 3
   },
   "file_extension": ".py",
   "mimetype": "text/x-python",
   "name": "python",
   "nbconvert_exporter": "python",
   "pygments_lexer": "ipython3",
   "version": "3.10.15"
  }
 },
 "nbformat": 4,
 "nbformat_minor": 5
}
