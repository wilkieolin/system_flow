{
 "cells": [
  {
   "cell_type": "code",
   "execution_count": 1,
   "id": "a3b63a09",
   "metadata": {},
   "outputs": [],
   "source": [
    "import networkx as nx\n",
    "import sys\n",
    "import numpy as np\n",
    "from abc import ABC, abstractmethod\n",
    "from collections import namedtuple\n",
    "from copy import deepcopy\n",
    "from functools import reduce\n",
    "from typing import Callable, Any\n",
    "from itertools import accumulate"
   ]
  },
  {
   "cell_type": "code",
   "execution_count": 2,
   "id": "11fb2c0b",
   "metadata": {},
   "outputs": [],
   "source": [
    "from systemflow.node import *"
   ]
  },
  {
   "cell_type": "code",
   "execution_count": 3,
   "id": "9c519442",
   "metadata": {},
   "outputs": [],
   "source": [
    "from systemflow.auxtypes import is_proportion"
   ]
  },
  {
   "cell_type": "code",
   "execution_count": 4,
   "id": "536a4c93",
   "metadata": {},
   "outputs": [],
   "source": [
    "class PositionSample(Mutate):\n",
    "    def __init__(self, name: str = \"PositionSample\", relevancy_f: Callable = lambda x: 1.0): \n",
    "        #\"Secret\" sample function which determines which locations are of interest\n",
    "        self.relevancy_f = relevancy_f\n",
    "\n",
    "        #Originator node, no input fields\n",
    "        #Input message fields\n",
    "        msg_fields = VarCollection()\n",
    "    \n",
    "        #Input message properties\n",
    "        msg_properties = VarCollection()\n",
    "\n",
    "        #Input host parameters\n",
    "        host_parameters = VarCollection(position = \"position (mm,mm)\",\n",
    "                                        last_position = \"last position (mm,mm)\",\n",
    "                                        move_rate = \"move rate (mm/s)\",\n",
    "                                        dwell_time = \"dwell time (s)\",)\n",
    "        \n",
    "        inputs = MutationInputs(msg_fields, msg_properties, host_parameters)\n",
    "\n",
    "        #Output message fields\n",
    "        msg_fields = VarCollection(relevancy = \"relevancy (%)\",\n",
    "                                   position = \"position (mm,mm)\",\n",
    "                                   move_latency = \"movement latency (s)\",)\n",
    "\n",
    "        #Output message properties\n",
    "        msg_properties = VarCollection()\n",
    "\n",
    "        #Output host properties\n",
    "        host_properties = VarCollection(last_positioin = \"last_position (mm,mm)\",)\n",
    "        outputs = MutationOutputs(msg_fields, msg_properties, host_properties)\n",
    "\n",
    "        super().__init__(name, inputs, outputs)\n",
    "\n",
    "    def transform(self, message: Message, component: Component) -> tuple[dict, dict, dict]:\n",
    "        #predict the relevancy of the collected data based on position\n",
    "        position = component.parameters[self.inputs.host_parameters.position]\n",
    "        last_position = component.parameters[self.inputs.host_parameters.last_position]\n",
    "        relevancy = self.relevancy_f(position)\n",
    "\n",
    "        x_vec = position[0] - last_position[0]\n",
    "        y_vec = position[1] - last_position[1]\n",
    "        distance = np.linalg.norm([x_vec, y_vec])\n",
    "        movement_time = distance / component.parameters[self.inputs.host_parameters.move_rate]\n",
    "        latency = movement_time + component.parameters[self.inputs.host_parameters.dwell_time]\n",
    "\n",
    "        msg_fields = {self.outputs.msg_fields.relevancy: relevancy,\n",
    "                    self.outputs.msg_fields.position: position,\n",
    "                    self.outputs.msg_fields.move_latency: latency,}\n",
    "        \n",
    "        msg_props = {}\n",
    "        \n",
    "        host_props = {self.inputs.host_parameters.last_position: position,}\n",
    "\n",
    "        \n",
    "        return msg_fields, msg_props, host_props\n"
   ]
  },
  {
   "cell_type": "code",
   "execution_count": 5,
   "id": "53f1fb3e",
   "metadata": {},
   "outputs": [],
   "source": [
    "ps = PositionSample()"
   ]
  },
  {
   "cell_type": "code",
   "execution_count": 6,
   "id": "d4933dec",
   "metadata": {},
   "outputs": [],
   "source": [
    "msg0 = Message({}, {})"
   ]
  },
  {
   "cell_type": "code",
   "execution_count": 7,
   "id": "4158c8b3",
   "metadata": {},
   "outputs": [],
   "source": [
    "sample_stage = Component(\"Sample Stage\",\n",
    "                    [PositionSample(),],\n",
    "                    {\"position (mm,mm)\": [0.0, 0.0],\n",
    "                     \"last position (mm,mm)\": [0.0, 0.0],\n",
    "                     \"move rate (mm/s)\": 100,\n",
    "                     \"dwell time (s)\": 1e-3,},\n",
    "                     {})"
   ]
  },
  {
   "cell_type": "code",
   "execution_count": 8,
   "id": "d80343ea",
   "metadata": {},
   "outputs": [],
   "source": [
    "msg1, _ = ps(msg0, sample_stage)"
   ]
  },
  {
   "cell_type": "code",
   "execution_count": 9,
   "id": "1104ec54",
   "metadata": {},
   "outputs": [
    {
     "data": {
      "text/plain": [
       "Message(fields={'relevancy (%)': 1.0, 'position (mm,mm)': [0.0, 0.0], 'movement latency (s)': np.float64(0.001)}, properties={})"
      ]
     },
     "execution_count": 9,
     "metadata": {},
     "output_type": "execute_result"
    }
   ],
   "source": [
    "msg1"
   ]
  },
  {
   "cell_type": "code",
   "execution_count": 10,
   "id": "cfde3b0d",
   "metadata": {},
   "outputs": [],
   "source": [
    "ci = CollectImage()"
   ]
  },
  {
   "cell_type": "code",
   "execution_count": 11,
   "id": "1fecd431",
   "metadata": {},
   "outputs": [],
   "source": [
    "vc = collect_parameters([CollectImage()])\n",
    "\n",
    "ci_host = Component(\"Image sensor\",\n",
    "                    [CollectImage(),],\n",
    "                    parameters = {vc.resolution: (4000, 6000),\n",
    "                     vc.bitdepth: 16,\n",
    "                     vc.readout: 1e-3,\n",
    "                     vc.pixelenergy: 1e-3,})"
   ]
  },
  {
   "cell_type": "code",
   "execution_count": 12,
   "id": "ec1450b8",
   "metadata": {},
   "outputs": [],
   "source": [
    "msg2, _ = ci(msg1, ci_host)"
   ]
  },
  {
   "cell_type": "code",
   "execution_count": 13,
   "id": "292019c7",
   "metadata": {},
   "outputs": [
    {
     "data": {
      "text/plain": [
       "Message(fields={'relevancy (%)': 1.0, 'position (mm,mm)': [0.0, 0.0], 'movement latency (s)': np.float64(0.001), 'image data (B)': np.float64(48000000.0), 'readout latency (s)': 0.001}, properties={'resolution (n,n,n)': (4000, 6000, 16)})"
      ]
     },
     "execution_count": 13,
     "metadata": {},
     "output_type": "execute_result"
    }
   ],
   "source": [
    "msg2"
   ]
  },
  {
   "cell_type": "code",
   "execution_count": 14,
   "id": "42f58da4",
   "metadata": {},
   "outputs": [],
   "source": [
    "from systemflow.metrics import serial_parallel_ops"
   ]
  },
  {
   "cell_type": "code",
   "execution_count": 15,
   "id": "a7cd53ef",
   "metadata": {},
   "outputs": [],
   "source": [
    "class FlatFieldCorrection(Mutate):\n",
    "    \"\"\"\n",
    "    Apply flat-field correction\n",
    "    \"\"\"\n",
    "    def __init__(self, name: str = \"Flat-field Correction\"):\n",
    "        #Input message fields\n",
    "        msg_fields = VarCollection()\n",
    "    \n",
    "        #Input message properties\n",
    "        msg_properties = VarCollection(resolution = \"resolution (n,n,n)\",)\n",
    "\n",
    "        #Input host parameters\n",
    "        host_parameters = VarCollection(op_latency = \"op latency (s)\",\n",
    "                                        parallelism = \"parallelism (%)\",)\n",
    "        \n",
    "        inputs = MutationInputs(msg_fields, msg_properties, host_parameters)\n",
    "\n",
    "        #Output message fields\n",
    "        msg_fields = VarCollection(ff_latency = \"flatfield latency (s)\",)\n",
    "\n",
    "        #Output message properties\n",
    "        msg_properties = VarCollection()\n",
    "\n",
    "        #Output host properties\n",
    "        host_properties = VarCollection(ops = \"flatfield ops (n,n)\",)\n",
    "\n",
    "        outputs = MutationOutputs(msg_fields, msg_properties, host_properties)\n",
    "\n",
    "        super().__init__(name, inputs, outputs)\n",
    "\n",
    "    def transform(self, message: Message, component: 'Component') -> tuple[dict, dict, dict]:\n",
    "        #access the required fields/properties/parameters\n",
    "        resolution = message.properties[self.inputs.msg_properties.resolution]\n",
    "        ops = np.prod(resolution)\n",
    "        parallelism = component.parameters[self.inputs.host_parameters.parallelism]\n",
    "        serial_ops, parallel_ops = serial_parallel_ops(ops, parallelism)\n",
    "        op_latency = component.parameters[self.inputs.host_parameters.op_latency]\n",
    "        latency = serial_ops * op_latency\n",
    "       \n",
    "        #create the new fields in the message\n",
    "        msg_fields = {self.outputs.msg_fields.ff_latency: latency}\n",
    "        msg_props = {}\n",
    "\n",
    "        #create the new properties in the host\n",
    "        resolution = message.properties[self.inputs.msg_properties.resolution]\n",
    "        host_props = {self.outputs.host_properties.ops: (serial_ops, parallel_ops),}\n",
    "\n",
    "        return msg_fields, msg_props, host_props"
   ]
  },
  {
   "cell_type": "code",
   "execution_count": 16,
   "id": "bbfc6cef",
   "metadata": {},
   "outputs": [],
   "source": [
    "ffc = FlatFieldCorrection()"
   ]
  },
  {
   "cell_type": "code",
   "execution_count": 17,
   "id": "f845b1a4",
   "metadata": {},
   "outputs": [],
   "source": [
    "vc = collect_parameters([ffc])"
   ]
  },
  {
   "cell_type": "code",
   "execution_count": 18,
   "id": "a35b89fb",
   "metadata": {},
   "outputs": [
    {
     "name": "stdout",
     "output_type": "stream",
     "text": [
      "['op_latency', 'parallelism']\n"
     ]
    }
   ],
   "source": [
    "print(list(vc.__dict__.keys()))"
   ]
  },
  {
   "cell_type": "code",
   "execution_count": 19,
   "id": "f9349329",
   "metadata": {},
   "outputs": [],
   "source": [
    "ffc_host = Component(\"Preprocessor 1\",\n",
    "                    [FlatFieldCorrection(),],\n",
    "                    parameters = {vc.op_latency: 1e-6,\n",
    "                                  vc.parallelism: 0.75,})"
   ]
  },
  {
   "cell_type": "code",
   "execution_count": 20,
   "id": "35b8e1e1",
   "metadata": {},
   "outputs": [],
   "source": [
    "msg3, _ = ffc(msg2, ffc_host)"
   ]
  },
  {
   "cell_type": "code",
   "execution_count": 21,
   "id": "7f855aee",
   "metadata": {},
   "outputs": [],
   "source": [
    "class MaskCorrection(Mutate):\n",
    "    \"\"\"\n",
    "    Correct pixel values in masked areas\n",
    "    \"\"\"\n",
    "    def __init__(self, name: str = \"Mask Correction\"):\n",
    "        #Input message fields\n",
    "        msg_fields = VarCollection(image_data = \"image data (B)\")\n",
    "    \n",
    "        #Input message properties\n",
    "        msg_properties = VarCollection(resolution = \"resolution (n,n,n)\",)\n",
    "\n",
    "        #Input host parameters\n",
    "        host_parameters = VarCollection(mask_proportion = \"masking proportion (%)\",\n",
    "                                        op_latency = \"op latency (s)\",\n",
    "                                        parallelism = \"parallelism (%)\",\n",
    "                                        kernel_size = \"kernel size (%,%)\",)\n",
    "        \n",
    "        inputs = MutationInputs(msg_fields, msg_properties, host_parameters)\n",
    "\n",
    "        #Output message fields\n",
    "        msg_fields = VarCollection(mask_correction = \"masking corrections (B)\",\n",
    "                                   mask_latency = \"masking latency (s)\",)\n",
    "\n",
    "        #Output message properties\n",
    "        msg_properties = VarCollection()\n",
    "\n",
    "        #Output host properties\n",
    "        host_properties = VarCollection(ops = \"masking operations (n,n)\",)\n",
    "        outputs = MutationOutputs(msg_fields, msg_properties, host_properties)\n",
    "\n",
    "        super().__init__(name, inputs, outputs)\n",
    "\n",
    "    def transform(self, message: Message, component: 'Component') -> tuple[dict, dict, dict]:\n",
    "        #access the required fields/properties/parameters\n",
    "        image_data = message.fields[self.inputs.msg_fields.image_data]\n",
    "        resolution = message.properties[self.inputs.msg_properties.resolution]\n",
    "        resolution_x, resolution_y, _ = resolution\n",
    "        \n",
    "        masking = component.parameters[self.inputs.host_parameters.mask_proportion]\n",
    "        op_latency = component.parameters[self.inputs.host_parameters.op_latency]\n",
    "        parallelism = component.parameters[self.inputs.host_parameters.parallelism]\n",
    "        kernel_x, kernel_y = component.parameters[self.inputs.host_parameters.kernel_size]\n",
    "\n",
    "        is_proportion(masking)\n",
    "        is_proportion(kernel_x)\n",
    "        is_proportion(kernel_y)\n",
    "        #calculate new fields and properties\n",
    "        #use an X,Y kernel around every masked section (assumption)\n",
    "        kernel_x = int(resolution_x * kernel_x)\n",
    "        kernel_y = int(resolution_y * kernel_y)\n",
    "        center_pixels = int(masking * np.prod(resolution))\n",
    "        ops = kernel_x * kernel_y * center_pixels\n",
    "        serial_ops, parallel_ops = serial_parallel_ops(ops, parallelism)\n",
    "        latency = serial_ops * op_latency\n",
    "\n",
    "        mask_data = image_data * masking\n",
    "       \n",
    "        #create the new fields in the message\n",
    "        msg_fields = {self.outputs.msg_fields.mask_correction: mask_data,\n",
    "                      self.outputs.msg_fields.mask_latency: latency,}\n",
    "        msg_props = {}\n",
    "\n",
    "        #create the new properties in the host\n",
    "        host_props = {self.outputs.host_properties.ops: (serial_ops, parallel_ops),}\n",
    "\n",
    "        return msg_fields, msg_props, host_props"
   ]
  },
  {
   "cell_type": "code",
   "execution_count": 22,
   "id": "7f1bb412",
   "metadata": {},
   "outputs": [],
   "source": [
    "mc = MaskCorrection()"
   ]
  },
  {
   "cell_type": "code",
   "execution_count": 23,
   "id": "1284a24f",
   "metadata": {},
   "outputs": [],
   "source": [
    "vc = collect_parameters([mc])"
   ]
  },
  {
   "cell_type": "code",
   "execution_count": 24,
   "id": "84971509",
   "metadata": {},
   "outputs": [
    {
     "name": "stdout",
     "output_type": "stream",
     "text": [
      "['mask_proportion', 'op_latency', 'parallelism', 'kernel_size']\n"
     ]
    }
   ],
   "source": [
    "print(list(vc.__dict__.keys()))"
   ]
  },
  {
   "cell_type": "code",
   "execution_count": 25,
   "id": "26179a52",
   "metadata": {},
   "outputs": [],
   "source": [
    "mc_host = Component(\"Preprocessor 2\",\n",
    "                    [MaskCorrection(),],\n",
    "                    parameters = {vc.op_latency: 1e-6,\n",
    "                                  vc.parallelism: 0.75,\n",
    "                                  vc.kernel_size: (0.02, 0.02),\n",
    "                                  vc.mask_proportion: 0.05,})"
   ]
  },
  {
   "cell_type": "code",
   "execution_count": 26,
   "id": "6a6d0d03",
   "metadata": {},
   "outputs": [
    {
     "data": {
      "text/plain": [
       "{'resolution (n,n,n)': (4000, 6000, 16)}"
      ]
     },
     "execution_count": 26,
     "metadata": {},
     "output_type": "execute_result"
    }
   ],
   "source": [
    "msg3.properties"
   ]
  },
  {
   "cell_type": "code",
   "execution_count": 27,
   "id": "315709cd",
   "metadata": {},
   "outputs": [],
   "source": [
    "msg4, _ = mc(msg3, mc_host)"
   ]
  },
  {
   "cell_type": "code",
   "execution_count": 28,
   "id": "43e1ed1e",
   "metadata": {},
   "outputs": [
    {
     "data": {
      "text/plain": [
       "{'relevancy (%)': 1.0,\n",
       " 'position (mm,mm)': [0.0, 0.0],\n",
       " 'movement latency (s)': np.float64(0.001),\n",
       " 'image data (B)': np.float64(48000000.0),\n",
       " 'readout latency (s)': 0.001,\n",
       " 'flatfield latency (s)': np.float64(0.00013998542046322332),\n",
       " 'masking corrections (B)': np.float64(2400000.0),\n",
       " 'masking latency (s)': np.float64(0.000655229007050176)}"
      ]
     },
     "execution_count": 28,
     "metadata": {},
     "output_type": "execute_result"
    }
   ],
   "source": [
    "msg4.fields"
   ]
  },
  {
   "cell_type": "code",
   "execution_count": 29,
   "id": "8eec8b2c",
   "metadata": {},
   "outputs": [],
   "source": [
    "fft = FourierTransform()"
   ]
  },
  {
   "cell_type": "code",
   "execution_count": 30,
   "id": "6b3e28f6",
   "metadata": {},
   "outputs": [],
   "source": [
    "vc = collect_parameters([fft])"
   ]
  },
  {
   "cell_type": "code",
   "execution_count": 31,
   "id": "7e4fe921",
   "metadata": {},
   "outputs": [
    {
     "name": "stdout",
     "output_type": "stream",
     "text": [
      "['parallelism', 'op_latency']\n"
     ]
    }
   ],
   "source": [
    "print(list(vc.__dict__.keys()))"
   ]
  },
  {
   "cell_type": "code",
   "execution_count": 32,
   "id": "5dabad54",
   "metadata": {},
   "outputs": [],
   "source": [
    "fft_host = Component(\"Processor\",\n",
    "                    [FourierTransform(),],\n",
    "                    parameters = {vc.parallelism: 0.75,\n",
    "                                  vc.op_latency: 1e-7,})"
   ]
  },
  {
   "cell_type": "code",
   "execution_count": 33,
   "id": "9d86f44e",
   "metadata": {},
   "outputs": [
    {
     "data": {
      "text/plain": [
       "{'resolution (n,n,n)': (4000, 6000, 16)}"
      ]
     },
     "execution_count": 33,
     "metadata": {},
     "output_type": "execute_result"
    }
   ],
   "source": [
    "msg4.properties"
   ]
  },
  {
   "cell_type": "code",
   "execution_count": 50,
   "id": "fb32aa0e",
   "metadata": {},
   "outputs": [],
   "source": [
    "msg5, f2 = fft(msg4, fft_host)"
   ]
  },
  {
   "cell_type": "code",
   "execution_count": 53,
   "id": "cef531a4",
   "metadata": {},
   "outputs": [
    {
     "data": {
      "text/plain": [
       "{'fft ops (n,n)': (np.float64(115.36392103498072),\n",
       "  np.float64(1535359.3065493205))}"
      ]
     },
     "execution_count": 53,
     "metadata": {},
     "output_type": "execute_result"
    }
   ],
   "source": [
    "f2"
   ]
  },
  {
   "cell_type": "code",
   "execution_count": 37,
   "id": "608a380a",
   "metadata": {},
   "outputs": [
    {
     "data": {
      "text/plain": [
       "{'relevancy (%)': 1.0,\n",
       " 'position (mm,mm)': [0.0, 0.0],\n",
       " 'movement latency (s)': np.float64(0.001),\n",
       " 'image data (B)': np.float64(48000000.0),\n",
       " 'readout latency (s)': 0.001,\n",
       " 'flatfield latency (s)': np.float64(0.00013998542046322332),\n",
       " 'masking corrections (B)': np.float64(2400000.0),\n",
       " 'masking latency (s)': np.float64(0.000655229007050176),\n",
       " 'frequency data (B)': 384000000,\n",
       " 'fft latency (s)': np.float64(1.1536392103498072e-05)}"
      ]
     },
     "execution_count": 37,
     "metadata": {},
     "output_type": "execute_result"
    }
   ],
   "source": [
    "msg5.fields"
   ]
  },
  {
   "cell_type": "code",
   "execution_count": 38,
   "id": "1a8b8d3c",
   "metadata": {},
   "outputs": [
    {
     "data": {
      "text/plain": [
       "{'resolution (n,n,n)': (4000, 6000, 16)}"
      ]
     },
     "execution_count": 38,
     "metadata": {},
     "output_type": "execute_result"
    }
   ],
   "source": [
    "msg5.properties"
   ]
  },
  {
   "cell_type": "code",
   "execution_count": 40,
   "id": "52b88d6a",
   "metadata": {},
   "outputs": [],
   "source": [
    "nodes = [sample_stage, ci_host, ffc_host, mc_host, fft_host]"
   ]
  },
  {
   "cell_type": "code",
   "execution_count": 41,
   "id": "d0dbb8f5",
   "metadata": {},
   "outputs": [],
   "source": [
    "links = [DefaultLink(\"Sample Stage -> Image sensor\",\n",
    "                     \"Sample Stage\",\n",
    "                     \"Image sensor\"),\n",
    "        DefaultLink(\"Image sensor -> Preprocessor 1\",\n",
    "                     \"Image sensor\",\n",
    "                     \"Preprocessor 1\"),\n",
    "        DefaultLink(\"Preprocessor 1 -> Preprocessor 2\", \n",
    "                    \"Preprocessor 1\", \n",
    "                    \"Preprocessor 2\"),\n",
    "        DefaultLink(\"Preprocessor 2 -> Processor\",\n",
    "                    \"Preprocessor 2\",\n",
    "                    \"Processor\"),]"
   ]
  },
  {
   "cell_type": "code",
   "execution_count": 60,
   "id": "38c00d49",
   "metadata": {},
   "outputs": [],
   "source": [
    "class FFTPower(Metric):\n",
    "    def __init__(self):\n",
    "        super().__init__(\"FFT Power\", \n",
    "                         {},\n",
    "                         {},\n",
    "                         {\"Processor\": FourierTransform().outputs.host_properties.ops},)\n",
    "        \n",
    "    def metric(self, graph: ExecutionGraph):\n",
    "        host_props = graph.get_all_node_properties()\n",
    "        ops = host_props[\"Processor\"][FourierTransform().outputs.host_properties.ops]\n",
    "        power = np.prod(ops) * 1e-12\n",
    "\n",
    "        metrics = {\"power\": power,}\n",
    "        return metrics\n",
    "    "
   ]
  },
  {
   "cell_type": "code",
   "execution_count": 61,
   "id": "b7d2b8eb",
   "metadata": {},
   "outputs": [],
   "source": [
    "bcdi_graph = ExecutionGraph(\"BCDI Experiment\", nodes, links, [FFTPower(),])"
   ]
  },
  {
   "cell_type": "code",
   "execution_count": 62,
   "id": "b2592dd3",
   "metadata": {},
   "outputs": [
    {
     "name": "stdout",
     "output_type": "stream",
     "text": [
      "Executing on node  Processor\n",
      "Executing on node  Preprocessor 2\n",
      "Executing on node  Preprocessor 1\n",
      "Executing on node  Image sensor\n",
      "Executing on node  Sample Stage\n"
     ]
    }
   ],
   "source": [
    "g2 = bcdi_graph(True)"
   ]
  },
  {
   "cell_type": "code",
   "execution_count": 63,
   "id": "fa09b470",
   "metadata": {},
   "outputs": [
    {
     "data": {
      "text/plain": [
       "<systemflow.node.ExecutionGraph at 0x125fe7af0>"
      ]
     },
     "execution_count": 63,
     "metadata": {},
     "output_type": "execute_result"
    }
   ],
   "source": [
    "g2"
   ]
  },
  {
   "cell_type": "code",
   "execution_count": 66,
   "id": "b21079b4",
   "metadata": {},
   "outputs": [
    {
     "data": {
      "text/plain": [
       "np.float64(0.00017712506980107855)"
      ]
     },
     "execution_count": 66,
     "metadata": {},
     "output_type": "execute_result"
    }
   ],
   "source": [
    "g2.metric_values[0][\"power\"]"
   ]
  },
  {
   "cell_type": "code",
   "execution_count": 46,
   "id": "faf5608d",
   "metadata": {},
   "outputs": [
    {
     "data": {
      "text/plain": [
       "{'masking corrections (B)': np.float64(2400000.0),\n",
       " 'position (mm,mm)': [0.0, 0.0],\n",
       " 'relevancy (%)': 1.0,\n",
       " 'masking latency (s)': np.float64(0.000655229007050176),\n",
       " 'movement latency (s)': np.float64(0.001),\n",
       " 'flatfield latency (s)': np.float64(0.00013998542046322332),\n",
       " 'readout latency (s)': 0.001,\n",
       " 'image data (B)': np.float64(48000000.0),\n",
       " 'frequency data (B)': 384000000,\n",
       " 'fft latency (s)': np.float64(1.1536392103498072e-05)}"
      ]
     },
     "execution_count": 46,
     "metadata": {},
     "output_type": "execute_result"
    }
   ],
   "source": [
    "g2.root_node.output_msg.fields"
   ]
  },
  {
   "cell_type": "code",
   "execution_count": 48,
   "id": "6e8f89a0",
   "metadata": {},
   "outputs": [],
   "source": [
    "all_params = g2.get_all_node_parameters()"
   ]
  },
  {
   "cell_type": "code",
   "execution_count": 49,
   "id": "757d76c2",
   "metadata": {},
   "outputs": [
    {
     "data": {
      "text/plain": [
       "{'Processor': {'parallelism (%)': 0.75, 'op latency (s)': 1e-07},\n",
       " 'Preprocessor 2': {'op latency (s)': 1e-06,\n",
       "  'parallelism (%)': 0.75,\n",
       "  'kernel size (%,%)': (0.02, 0.02),\n",
       "  'masking proportion (%)': 0.05},\n",
       " 'Preprocessor 1': {'op latency (s)': 1e-06, 'parallelism (%)': 0.75},\n",
       " 'Image sensor': {'resolution (n,n)': (4000, 6000),\n",
       "  'bit depth (n)': 16,\n",
       "  'readout latency (s)': 0.001,\n",
       "  'pixel energy (J)': 0.001},\n",
       " 'Sample Stage': {'position (mm,mm)': [0.0, 0.0],\n",
       "  'last position (mm,mm)': [0.0, 0.0],\n",
       "  'move rate (mm/s)': 100,\n",
       "  'dwell time (s)': 0.001}}"
      ]
     },
     "execution_count": 49,
     "metadata": {},
     "output_type": "execute_result"
    }
   ],
   "source": [
    "all_params"
   ]
  },
  {
   "cell_type": "code",
   "execution_count": null,
   "id": "0703f992",
   "metadata": {},
   "outputs": [],
   "source": []
  }
 ],
 "metadata": {
  "kernelspec": {
   "display_name": "systemflow",
   "language": "python",
   "name": "python3"
  },
  "language_info": {
   "codemirror_mode": {
    "name": "ipython",
    "version": 3
   },
   "file_extension": ".py",
   "mimetype": "text/x-python",
   "name": "python",
   "nbconvert_exporter": "python",
   "pygments_lexer": "ipython3",
   "version": "3.10.15"
  }
 },
 "nbformat": 4,
 "nbformat_minor": 5
}
