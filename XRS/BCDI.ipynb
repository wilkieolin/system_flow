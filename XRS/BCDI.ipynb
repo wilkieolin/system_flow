{
 "cells": [
  {
   "cell_type": "code",
   "execution_count": 1,
   "id": "a3b63a09",
   "metadata": {},
   "outputs": [],
   "source": [
    "import networkx as nx\n",
    "import sys\n",
    "import numpy as np\n",
    "from abc import ABC, abstractmethod\n",
    "from collections import namedtuple\n",
    "from copy import deepcopy\n",
    "from functools import reduce\n",
    "from typing import Callable, Any\n",
    "from itertools import accumulate"
   ]
  },
  {
   "cell_type": "code",
   "execution_count": 2,
   "id": "11fb2c0b",
   "metadata": {},
   "outputs": [],
   "source": [
    "from systemflow.node import *"
   ]
  },
  {
   "cell_type": "code",
   "execution_count": 5,
   "id": "536a4c93",
   "metadata": {},
   "outputs": [],
   "source": [
    "class PositionSample(Mutate):\n",
    "    k_position = \"position (mm,mm)\"\n",
    "    k_last_position = \"last position (mm,mm)\"\n",
    "    k_move_rate = \"move rate (mm/s)\"\n",
    "    k_dwell_time = \"dwell time (s)\"\n",
    "\n",
    "    def __init__(self, name: str = \"PositionSample\", relevancy_f: Callable = lambda x: 1.0):    \n",
    "        #list the message fields and properties required for the transform\n",
    "        fields = []\n",
    "        properties = []\n",
    "        #list the host parameters required for the transform\n",
    "        parameters = [self.k_position,\n",
    "                    self.k_move_rate,\n",
    "                    self.k_dwell_time,]\n",
    "        super().__init__(name, fields, properties, parameters)\n",
    "        self.relevancy_f = relevancy_f\n",
    "\n",
    "    def transform(self, message: Message, component: Component) -> tuple[dict, dict, dict]:\n",
    "        #predict the relevancy of the collected data based on position\n",
    "        position = component.parameters[self.k_position]\n",
    "        relevancy = self.relevancy_f(self.k_position)\n",
    "        msg_fields = {\"relevancy (u)\": relevancy,\n",
    "                    self.k_position: position,}\n",
    "\n",
    "        #predict the latency\n",
    "        if self.k_last_position not in component.parameters.keys():\n",
    "            component.parameters[self.k_last_position] = position\n",
    "\n",
    "        x_vec = component.parameters[self.k_position][0] - component.parameters[self.k_last_position][0]\n",
    "        y_vec = component.parameters[self.k_position][1] - component.parameters[self.k_last_position][1]\n",
    "        distance = np.linalg.norm([x_vec, y_vec])\n",
    "        movement_time = distance / component.parameters[self.k_move_rate]\n",
    "        latency = movement_time + component.parameters[self.k_dwell_time]\n",
    "\n",
    "        component.parameters[self.k_last_position] = position\n",
    "\n",
    "        host_props = {\"latency\": latency}\n",
    "        return msg_fields, {}, host_props\n"
   ]
  },
  {
   "cell_type": "code",
   "execution_count": 6,
   "id": "53f1fb3e",
   "metadata": {},
   "outputs": [],
   "source": [
    "ps = PositionSample()"
   ]
  },
  {
   "cell_type": "code",
   "execution_count": 7,
   "id": "d4933dec",
   "metadata": {},
   "outputs": [],
   "source": [
    "msg0 = Message({}, {})"
   ]
  },
  {
   "cell_type": "code",
   "execution_count": 8,
   "id": "4158c8b3",
   "metadata": {},
   "outputs": [],
   "source": [
    "sample_stage = Component(\"Sample Stage\",\n",
    "                    [PositionSample(),],\n",
    "                    {\"position (mm,mm)\": [0.0, 0.0],\n",
    "                     \"move rate (mm/s)\": 100,\n",
    "                     \"dwell time (s)\": 1e-3,},\n",
    "                     {})"
   ]
  },
  {
   "cell_type": "code",
   "execution_count": 9,
   "id": "d80343ea",
   "metadata": {},
   "outputs": [],
   "source": [
    "msg1, _ = ps(msg0, sample_stage)"
   ]
  },
  {
   "cell_type": "code",
   "execution_count": 10,
   "id": "dadabc51",
   "metadata": {},
   "outputs": [],
   "source": [
    "class CollectImage(Mutate):\n",
    "    def __init__(self, name: str = \"CollectImage\"):\n",
    "        fields = []\n",
    "        properties = []\n",
    "        parameters = [\"resolution x\", \"resolution y\", \"bit depth\", \"sample rate\"]\n",
    "        super().__init__(name, fields, properties, parameters)\n",
    "\n",
    "    def transform(self, message: Message, component: Component) -> tuple[dict, dict, dict]:\n",
    "        #access the required fields/properties/parameters\n",
    "        n_px_x = component.parameters[\"resolution x\"]\n",
    "        n_px_y = component.parameters[\"resolution y\"]\n",
    "        resolution = (n_px_x,\n",
    "                      n_px_y,\n",
    "                      component.parameters[\"bit depth\"],)\n",
    "        n_bytes = np.prod(resolution) / 8.0\n",
    "        sample_rate = component.parameters[\"sample rate\"]\n",
    "        time = 0.0\n",
    "        sensor_power = component.parameters[\"pixel energy\"] * n_px_x * n_px_y\n",
    "\n",
    "        #create the new fields in the message\n",
    "\n",
    "        msg_fields = {\"image data\": n_bytes,\n",
    "                  \"time\": time}\n",
    "        msg_props = {\"resolution\": resolution,\n",
    "                     \"sample rate\": sample_rate,}\n",
    "\n",
    "        #create the new properties in the host\n",
    "        host_props = {\"sensor power\": sensor_power,}\n",
    "\n",
    "        return msg_fields, msg_props, host_props\n",
    "       "
   ]
  },
  {
   "cell_type": "code",
   "execution_count": 11,
   "id": "cfde3b0d",
   "metadata": {},
   "outputs": [],
   "source": [
    "ci = CollectImage()"
   ]
  },
  {
   "cell_type": "code",
   "execution_count": 12,
   "id": "1fecd431",
   "metadata": {},
   "outputs": [],
   "source": [
    "ci_host = Component(\"Image sensor\",\n",
    "                    [CollectImage(),],\n",
    "                    {\"resolution x\": 6000,\n",
    "                     \"resolution y\": 4000,\n",
    "                     \"bit depth\": 8,\n",
    "                     \"sample rate\": 1000,\n",
    "                     \"pixel energy\": 1e-6,},\n",
    "                     {})"
   ]
  },
  {
   "cell_type": "code",
   "execution_count": 13,
   "id": "ec1450b8",
   "metadata": {},
   "outputs": [],
   "source": [
    "msg2, _ = ci(msg1, ci_host)"
   ]
  },
  {
   "cell_type": "code",
   "execution_count": 14,
   "id": "292019c7",
   "metadata": {},
   "outputs": [
    {
     "data": {
      "text/plain": [
       "Message(fields={'relevancy (u)': 1.0, 'position (mm,mm)': [0.0, 0.0], 'image data': np.float64(24000000.0), 'time': 0.0}, properties={'resolution': (6000, 4000, 8), 'sample rate': 1000})"
      ]
     },
     "execution_count": 14,
     "metadata": {},
     "output_type": "execute_result"
    }
   ],
   "source": [
    "msg2"
   ]
  },
  {
   "cell_type": "code",
   "execution_count": null,
   "id": "b7d2b8eb",
   "metadata": {},
   "outputs": [],
   "source": []
  }
 ],
 "metadata": {
  "kernelspec": {
   "display_name": "systemflow",
   "language": "python",
   "name": "python3"
  },
  "language_info": {
   "codemirror_mode": {
    "name": "ipython",
    "version": 3
   },
   "file_extension": ".py",
   "mimetype": "text/x-python",
   "name": "python",
   "nbconvert_exporter": "python",
   "pygments_lexer": "ipython3",
   "version": "3.10.15"
  }
 },
 "nbformat": 4,
 "nbformat_minor": 5
}
