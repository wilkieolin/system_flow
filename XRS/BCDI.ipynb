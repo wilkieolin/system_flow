{
 "cells": [
  {
   "cell_type": "code",
   "execution_count": 1,
   "id": "a3b63a09",
   "metadata": {},
   "outputs": [],
   "source": [
    "import networkx as nx\n",
    "import sys\n",
    "import numpy as np\n",
    "from abc import ABC, abstractmethod\n",
    "from collections import namedtuple\n",
    "from copy import deepcopy\n",
    "from functools import reduce\n",
    "from typing import Callable, Any\n",
    "from itertools import accumulate"
   ]
  },
  {
   "cell_type": "code",
   "execution_count": 2,
   "id": "11fb2c0b",
   "metadata": {},
   "outputs": [],
   "source": [
    "from systemflow.node import *\n",
    "from systemflow.auxtypes import is_proportion\n",
    "from systemflow.xrs import *"
   ]
  },
  {
   "cell_type": "code",
   "execution_count": 3,
   "id": "53f1fb3e",
   "metadata": {},
   "outputs": [],
   "source": [
    "ps = PositionSample()"
   ]
  },
  {
   "cell_type": "code",
   "execution_count": 4,
   "id": "d4933dec",
   "metadata": {},
   "outputs": [],
   "source": [
    "msg0 = Message({}, {})"
   ]
  },
  {
   "cell_type": "code",
   "execution_count": 5,
   "id": "4158c8b3",
   "metadata": {},
   "outputs": [],
   "source": [
    "sample_stage = Component(\"Sample Stage\",\n",
    "                    [PositionSample(),],\n",
    "                    {\"position (mm,mm)\": [0.0, 0.0],\n",
    "                     \"last position (mm,mm)\": [0.0, 0.0],\n",
    "                     \"move rate (mm/s)\": 100,\n",
    "                     \"settle time (s)\": 1e-3,},\n",
    "                     {})"
   ]
  },
  {
   "cell_type": "code",
   "execution_count": 6,
   "id": "d80343ea",
   "metadata": {},
   "outputs": [],
   "source": [
    "msg1, _ = ps(msg0, sample_stage)"
   ]
  },
  {
   "cell_type": "code",
   "execution_count": 7,
   "id": "1104ec54",
   "metadata": {},
   "outputs": [
    {
     "data": {
      "text/plain": [
       "Message(fields={'relevancy (%)': 1.0, 'position (mm,mm)': [0.0, 0.0], 'movement latency (s)': np.float64(0.001)}, properties={})"
      ]
     },
     "execution_count": 7,
     "metadata": {},
     "output_type": "execute_result"
    }
   ],
   "source": [
    "msg1"
   ]
  },
  {
   "cell_type": "code",
   "execution_count": 8,
   "id": "cfde3b0d",
   "metadata": {},
   "outputs": [],
   "source": [
    "ci = CollectImage()"
   ]
  },
  {
   "cell_type": "code",
   "execution_count": 9,
   "id": "a8fe66b5",
   "metadata": {},
   "outputs": [],
   "source": [
    "vc_img = collect_parameters([CollectImage()])"
   ]
  },
  {
   "cell_type": "code",
   "execution_count": 10,
   "id": "bbdab327",
   "metadata": {},
   "outputs": [
    {
     "data": {
      "text/plain": [
       "VarCollection(\n",
       "    resolution='resolution (n,n)',\n",
       "    bitdepth='bit depth (n)',\n",
       "    readout='readout latency (s)',\n",
       "    pixelenergy='pixel energy (J)',\n",
       "    sample_rate='sample rate (Hz)'\n",
       ")"
      ]
     },
     "execution_count": 10,
     "metadata": {},
     "output_type": "execute_result"
    }
   ],
   "source": [
    "vc_img"
   ]
  },
  {
   "cell_type": "code",
   "execution_count": 11,
   "id": "1fecd431",
   "metadata": {},
   "outputs": [],
   "source": [
    "ci_host = Component(\"Image sensor\",\n",
    "                    [CollectImage(),],\n",
    "                    parameters = {vc_img.resolution: (2000, 2000),\n",
    "                     vc_img.bitdepth: 16,\n",
    "                     vc_img.readout: 1e-3,\n",
    "                     vc_img.pixelenergy: 1e-3,\n",
    "                     vc_img.sample_rate: 10e3,})"
   ]
  },
  {
   "cell_type": "code",
   "execution_count": 12,
   "id": "ec1450b8",
   "metadata": {},
   "outputs": [],
   "source": [
    "msg2, _ = ci(msg1, ci_host)"
   ]
  },
  {
   "cell_type": "code",
   "execution_count": 13,
   "id": "292019c7",
   "metadata": {},
   "outputs": [
    {
     "data": {
      "text/plain": [
       "Message(fields={'relevancy (%)': 1.0, 'position (mm,mm)': [0.0, 0.0], 'movement latency (s)': np.float64(0.001), 'image data (B)': np.float64(8000000.0), 'readout latency (s)': 0.001}, properties={'resolution (n,n)': (2000, 2000), 'bitdepth (n)': 16, 'sample rate (Hz)': 10000.0})"
      ]
     },
     "execution_count": 13,
     "metadata": {},
     "output_type": "execute_result"
    }
   ],
   "source": [
    "msg2"
   ]
  },
  {
   "cell_type": "code",
   "execution_count": 14,
   "id": "42f58da4",
   "metadata": {},
   "outputs": [],
   "source": [
    "from systemflow.metrics import serial_parallel_ops"
   ]
  },
  {
   "cell_type": "code",
   "execution_count": 15,
   "id": "bbfc6cef",
   "metadata": {},
   "outputs": [],
   "source": [
    "ffc = FlatFieldCorrection()"
   ]
  },
  {
   "cell_type": "code",
   "execution_count": 16,
   "id": "f845b1a4",
   "metadata": {},
   "outputs": [],
   "source": [
    "vc = collect_parameters([ffc])"
   ]
  },
  {
   "cell_type": "code",
   "execution_count": 17,
   "id": "1c3698d5",
   "metadata": {},
   "outputs": [
    {
     "data": {
      "text/plain": [
       "VarCollection(\n",
       "    op_latency='op latency (s)',\n",
       "    parallelism='parallelism (%)'\n",
       ")"
      ]
     },
     "execution_count": 17,
     "metadata": {},
     "output_type": "execute_result"
    }
   ],
   "source": [
    "vc"
   ]
  },
  {
   "cell_type": "code",
   "execution_count": 18,
   "id": "f9349329",
   "metadata": {},
   "outputs": [],
   "source": [
    "ffc_host = Component(\"Preprocessor 1\",\n",
    "                    [FlatFieldCorrection(),],\n",
    "                    parameters = {vc.op_latency: 1e-6,\n",
    "                                  vc.parallelism: 0.75,})"
   ]
  },
  {
   "cell_type": "code",
   "execution_count": 19,
   "id": "35b8e1e1",
   "metadata": {},
   "outputs": [],
   "source": [
    "msg3, _ = ffc(msg2, ffc_host)"
   ]
  },
  {
   "cell_type": "code",
   "execution_count": 20,
   "id": "7f1bb412",
   "metadata": {},
   "outputs": [],
   "source": [
    "mc = MaskCorrection()"
   ]
  },
  {
   "cell_type": "code",
   "execution_count": 21,
   "id": "1284a24f",
   "metadata": {},
   "outputs": [],
   "source": [
    "vc = collect_parameters([mc])"
   ]
  },
  {
   "cell_type": "code",
   "execution_count": 22,
   "id": "5db3d2af",
   "metadata": {},
   "outputs": [
    {
     "data": {
      "text/plain": [
       "VarCollection(\n",
       "    mask_proportion='masking proportion (%)',\n",
       "    op_latency='op latency (s)',\n",
       "    parallelism='parallelism (%)',\n",
       "    kernel_size='kernel size (%,%)'\n",
       ")"
      ]
     },
     "execution_count": 22,
     "metadata": {},
     "output_type": "execute_result"
    }
   ],
   "source": [
    "vc"
   ]
  },
  {
   "cell_type": "code",
   "execution_count": 23,
   "id": "26179a52",
   "metadata": {},
   "outputs": [],
   "source": [
    "mc_host = Component(\"Preprocessor 2\",\n",
    "                    [MaskCorrection(),],\n",
    "                    parameters = {vc.op_latency: 1e-6,\n",
    "                                  vc.parallelism: 0.75,\n",
    "                                  vc.kernel_size: (0.02, 0.02),\n",
    "                                  vc.mask_proportion: 0.05,})"
   ]
  },
  {
   "cell_type": "code",
   "execution_count": 24,
   "id": "6a6d0d03",
   "metadata": {},
   "outputs": [
    {
     "data": {
      "text/plain": [
       "{'resolution (n,n)': (2000, 2000),\n",
       " 'bitdepth (n)': 16,\n",
       " 'sample rate (Hz)': 10000.0}"
      ]
     },
     "execution_count": 24,
     "metadata": {},
     "output_type": "execute_result"
    }
   ],
   "source": [
    "msg3.properties"
   ]
  },
  {
   "cell_type": "code",
   "execution_count": 25,
   "id": "315709cd",
   "metadata": {},
   "outputs": [],
   "source": [
    "msg4, h2 = mc(msg3, mc_host)"
   ]
  },
  {
   "cell_type": "code",
   "execution_count": 26,
   "id": "cb202a18",
   "metadata": {},
   "outputs": [
    {
     "data": {
      "text/plain": [
       "{'masking operations (n,n)': (np.float64(133.7480609952844),\n",
       "  np.float64(2392558.049953953))}"
      ]
     },
     "execution_count": 26,
     "metadata": {},
     "output_type": "execute_result"
    }
   ],
   "source": [
    "h2"
   ]
  },
  {
   "cell_type": "code",
   "execution_count": 27,
   "id": "43e1ed1e",
   "metadata": {},
   "outputs": [
    {
     "data": {
      "text/plain": [
       "{'relevancy (%)': 1.0,\n",
       " 'position (mm,mm)': [0.0, 0.0],\n",
       " 'movement latency (s)': np.float64(0.001),\n",
       " 'image data (B)': np.float64(8000000.0),\n",
       " 'readout latency (s)': 0.001,\n",
       " 'flatfield latency (s)': np.float64(4.4721359549995795e-05),\n",
       " 'masking corrections (B)': np.float64(400000.0),\n",
       " 'masking latency (s)': np.float64(0.0001337480609952844)}"
      ]
     },
     "execution_count": 27,
     "metadata": {},
     "output_type": "execute_result"
    }
   ],
   "source": [
    "msg4.fields"
   ]
  },
  {
   "cell_type": "code",
   "execution_count": 28,
   "id": "52e7eae3",
   "metadata": {},
   "outputs": [],
   "source": [
    "pr = PhaseReconstruction2D()"
   ]
  },
  {
   "cell_type": "code",
   "execution_count": 29,
   "id": "ffa8845c",
   "metadata": {},
   "outputs": [],
   "source": [
    "vc = collect_parameters([pr])"
   ]
  },
  {
   "cell_type": "code",
   "execution_count": 30,
   "id": "d41c3e88",
   "metadata": {},
   "outputs": [
    {
     "data": {
      "text/plain": [
       "VarCollection(\n",
       "    op_latency='op latency (s)',\n",
       "    parallelism='parallelism (%)',\n",
       "    iterations='iterations (n)'\n",
       ")"
      ]
     },
     "execution_count": 30,
     "metadata": {},
     "output_type": "execute_result"
    }
   ],
   "source": [
    "vc"
   ]
  },
  {
   "cell_type": "code",
   "execution_count": 31,
   "id": "5dabad54",
   "metadata": {},
   "outputs": [],
   "source": [
    "phase_host = Component(\"Processor\",\n",
    "                    [PhaseReconstruction2D(),],\n",
    "                    parameters = {vc.parallelism: 0.75,\n",
    "                                  vc.op_latency: 1e-7,\n",
    "                                  vc.iterations: 20,})"
   ]
  },
  {
   "cell_type": "code",
   "execution_count": 32,
   "id": "9d86f44e",
   "metadata": {},
   "outputs": [
    {
     "data": {
      "text/plain": [
       "{'resolution (n,n)': (2000, 2000),\n",
       " 'bitdepth (n)': 16,\n",
       " 'sample rate (Hz)': 10000.0}"
      ]
     },
     "execution_count": 32,
     "metadata": {},
     "output_type": "execute_result"
    }
   ],
   "source": [
    "msg4.properties"
   ]
  },
  {
   "cell_type": "code",
   "execution_count": 33,
   "id": "fb32aa0e",
   "metadata": {},
   "outputs": [],
   "source": [
    "msg5, f2 = pr(msg4, phase_host)"
   ]
  },
  {
   "cell_type": "code",
   "execution_count": 34,
   "id": "cef531a4",
   "metadata": {},
   "outputs": [
    {
     "data": {
      "text/plain": [
       "{'phase reconstruction ops (n,n)': (np.float64(157.03820405451532),\n",
       "  np.float64(3872718.762722952))}"
      ]
     },
     "execution_count": 34,
     "metadata": {},
     "output_type": "execute_result"
    }
   ],
   "source": [
    "f2"
   ]
  },
  {
   "cell_type": "code",
   "execution_count": 35,
   "id": "608a380a",
   "metadata": {},
   "outputs": [
    {
     "data": {
      "text/plain": [
       "{'relevancy (%)': 1.0,\n",
       " 'position (mm,mm)': [0.0, 0.0],\n",
       " 'movement latency (s)': np.float64(0.001),\n",
       " 'image data (B)': np.float64(8000000.0),\n",
       " 'readout latency (s)': 0.001,\n",
       " 'flatfield latency (s)': np.float64(4.4721359549995795e-05),\n",
       " 'masking corrections (B)': np.float64(400000.0),\n",
       " 'masking latency (s)': np.float64(0.0001337480609952844),\n",
       " 'phase data (B)': 64000000}"
      ]
     },
     "execution_count": 35,
     "metadata": {},
     "output_type": "execute_result"
    }
   ],
   "source": [
    "msg5.fields"
   ]
  },
  {
   "cell_type": "code",
   "execution_count": 36,
   "id": "1a8b8d3c",
   "metadata": {},
   "outputs": [
    {
     "data": {
      "text/plain": [
       "{'resolution (n,n)': (2000, 2000),\n",
       " 'bitdepth (n)': 16,\n",
       " 'sample rate (Hz)': 10000.0,\n",
       " 'phase reconstruction (n,n)': (2000, 2000),\n",
       " 'phase reconstruction latency (s)': np.float64(1.5703820405451533e-05)}"
      ]
     },
     "execution_count": 36,
     "metadata": {},
     "output_type": "execute_result"
    }
   ],
   "source": [
    "msg5.properties"
   ]
  },
  {
   "cell_type": "code",
   "execution_count": 37,
   "id": "52b88d6a",
   "metadata": {},
   "outputs": [],
   "source": [
    "nodes = [sample_stage, ci_host, ffc_host, mc_host, phase_host]"
   ]
  },
  {
   "cell_type": "code",
   "execution_count": 38,
   "id": "78ae5c11",
   "metadata": {},
   "outputs": [],
   "source": [
    "ci_host2 = Component(\"Image sensor\",\n",
    "                    [CollectImage(),],\n",
    "                    parameters = {vc_img.resolution: (1000, 1000),\n",
    "                     vc_img.bitdepth: 16,\n",
    "                     vc_img.readout: 1e-3,\n",
    "                     vc_img.pixelenergy: 1e-3,\n",
    "                     vc_img.sample_rate: 10e3,})"
   ]
  },
  {
   "cell_type": "code",
   "execution_count": 39,
   "id": "301ffa67",
   "metadata": {},
   "outputs": [],
   "source": [
    "nodes2 = [sample_stage, ci_host2, ffc_host, mc_host, phase_host]"
   ]
  },
  {
   "cell_type": "code",
   "execution_count": 40,
   "id": "d0dbb8f5",
   "metadata": {},
   "outputs": [],
   "source": [
    "links = [DefaultLink(\"Sample Stage -> Image sensor\",\n",
    "                     \"Sample Stage\",\n",
    "                     \"Image sensor\"),\n",
    "        DefaultLink(\"Image sensor -> Preprocessor 1\",\n",
    "                     \"Image sensor\",\n",
    "                     \"Preprocessor 1\"),\n",
    "        DefaultLink(\"Preprocessor 1 -> Preprocessor 2\", \n",
    "                    \"Preprocessor 1\", \n",
    "                    \"Preprocessor 2\"),\n",
    "        DefaultLink(\"Preprocessor 2 -> Processor\",\n",
    "                    \"Preprocessor 2\",\n",
    "                    \"Processor\"),]"
   ]
  },
  {
   "cell_type": "code",
   "execution_count": 41,
   "id": "38c00d49",
   "metadata": {},
   "outputs": [],
   "source": [
    "class ReconstructionPower(Metric):\n",
    "    def __init__(self):\n",
    "        super().__init__(\"Phase reconstruction power\", \n",
    "                         [],\n",
    "                         [PhaseReconstruction2D().outputs.host_properties.ops],)\n",
    "        \n",
    "    def metric(self, message: Message, properties: dict):\n",
    "        matches = self.graph_matches(properties)\n",
    "        power = np.prod(matches[0]) * 1e-8\n",
    "        metrics = {\"reconstruction power (W)\": power,}\n",
    "        \n",
    "        return metrics\n",
    "    "
   ]
  },
  {
   "cell_type": "code",
   "execution_count": 42,
   "id": "cdd8aca3",
   "metadata": {},
   "outputs": [],
   "source": [
    "class TotalOps(Metric):\n",
    "    def __init__(self):\n",
    "        super().__init__(\"Total operations\", \n",
    "                         [],\n",
    "                         [Regex(r\"ops \\(n,n\\)\"),],)\n",
    "        \n",
    "    def metric(self, message: Message, properties: dict):\n",
    "        matches = self.graph_matches(properties)\n",
    "        ops = np.sum([np.prod(op) for op in matches])\n",
    "        metrics = {\"total ops (n)\": ops,}\n",
    "        \n",
    "        return metrics\n",
    "    "
   ]
  },
  {
   "cell_type": "code",
   "execution_count": 43,
   "id": "11efe648",
   "metadata": {},
   "outputs": [],
   "source": [
    "class TotalLatency(Metric):\n",
    "    def __init__(self):\n",
    "        super().__init__(\"Total latency\", \n",
    "                         [Regex(r\"latency \\(s\\)\"),],\n",
    "                         [],)\n",
    "        \n",
    "    def metric(self, message: Message, properties: dict):\n",
    "        matches = self.message_matches(message)\n",
    "        ops = np.sum(matches)\n",
    "        metrics = {\"total latency (s)\": ops,}\n",
    "        \n",
    "        return metrics\n",
    "    "
   ]
  },
  {
   "cell_type": "code",
   "execution_count": 44,
   "id": "b7d2b8eb",
   "metadata": {},
   "outputs": [],
   "source": [
    "bcdi_graph = ExecutionGraph(\"BCDI Experiment\", nodes, links, [ReconstructionPower(), TotalOps(), TotalLatency()])"
   ]
  },
  {
   "cell_type": "code",
   "execution_count": 45,
   "id": "08015f08",
   "metadata": {},
   "outputs": [],
   "source": [
    "bcdi_graph2 = ExecutionGraph(\"BCDI Experiment\", nodes2, links, [ReconstructionPower(), TotalOps(), TotalLatency()])"
   ]
  },
  {
   "cell_type": "code",
   "execution_count": 46,
   "id": "b2592dd3",
   "metadata": {},
   "outputs": [],
   "source": [
    "g2 = bcdi_graph()"
   ]
  },
  {
   "cell_type": "code",
   "execution_count": 47,
   "id": "d3daccb3",
   "metadata": {},
   "outputs": [],
   "source": [
    "g22 = bcdi_graph2()"
   ]
  },
  {
   "cell_type": "code",
   "execution_count": 48,
   "id": "fa09b470",
   "metadata": {},
   "outputs": [
    {
     "data": {
      "text/plain": [
       "<systemflow.node.ExecutionGraph at 0x1380bb160>"
      ]
     },
     "execution_count": 48,
     "metadata": {},
     "output_type": "execute_result"
    }
   ],
   "source": [
    "g2"
   ]
  },
  {
   "cell_type": "code",
   "execution_count": 49,
   "id": "b21079b4",
   "metadata": {},
   "outputs": [
    {
     "data": {
      "text/plain": [
       "{'reconstruction power (W)': np.float64(6.08164799306237),\n",
       " 'total ops (n)': np.float64(612164799.306237),\n",
       " 'total latency (s)': np.float64(0.002194173240950732)}"
      ]
     },
     "execution_count": 49,
     "metadata": {},
     "output_type": "execute_result"
    }
   ],
   "source": [
    "g2.metric_values"
   ]
  },
  {
   "cell_type": "code",
   "execution_count": 50,
   "id": "3b84a455",
   "metadata": {},
   "outputs": [
    {
     "data": {
      "text/plain": [
       "{'reconstruction power (W)': np.float64(1.4000000000000001),\n",
       " 'total ops (n)': np.float64(141000000.0),\n",
       " 'total latency (s)': np.float64(0.002109374380158699)}"
      ]
     },
     "execution_count": 50,
     "metadata": {},
     "output_type": "execute_result"
    }
   ],
   "source": [
    "g22.metric_values"
   ]
  },
  {
   "cell_type": "code",
   "execution_count": 51,
   "id": "deae4f18",
   "metadata": {},
   "outputs": [
    {
     "data": {
      "text/plain": [
       "'resolution (n,n)'"
      ]
     },
     "execution_count": 51,
     "metadata": {},
     "output_type": "execute_result"
    }
   ],
   "source": [
    "vc_img.resolution"
   ]
  },
  {
   "cell_type": "code",
   "execution_count": 52,
   "id": "64970d5c",
   "metadata": {},
   "outputs": [
    {
     "data": {
      "text/plain": [
       "['Processor',\n",
       " 'Preprocessor 2',\n",
       " 'Preprocessor 1',\n",
       " 'Image sensor',\n",
       " 'Sample Stage']"
      ]
     },
     "execution_count": 52,
     "metadata": {},
     "output_type": "execute_result"
    }
   ],
   "source": [
    "[n.name for n in g22.nodes]"
   ]
  },
  {
   "cell_type": "code",
   "execution_count": 53,
   "id": "0c88a313",
   "metadata": {},
   "outputs": [],
   "source": [
    "npm = {\"Image sensor\": {vc_img.resolution: (500, 500)}}"
   ]
  },
  {
   "cell_type": "code",
   "execution_count": 54,
   "id": "395898d2",
   "metadata": {},
   "outputs": [],
   "source": [
    "exg2 = g22.with_updated_parameters(npm)"
   ]
  },
  {
   "cell_type": "code",
   "execution_count": 55,
   "id": "7db4abab",
   "metadata": {},
   "outputs": [
    {
     "data": {
      "text/plain": [
       "[False, False, False, True, False]"
      ]
     },
     "execution_count": 55,
     "metadata": {},
     "output_type": "execute_result"
    }
   ],
   "source": [
    "[n.name in npm.keys() for n in exg2.nodes]"
   ]
  },
  {
   "cell_type": "code",
   "execution_count": 56,
   "id": "0564a4cc",
   "metadata": {},
   "outputs": [
    {
     "data": {
      "text/plain": [
       "{'resolution (n,n)': (500, 500),\n",
       " 'bit depth (n)': 16,\n",
       " 'readout latency (s)': 0.001,\n",
       " 'pixel energy (J)': 0.001,\n",
       " 'sample rate (Hz)': 10000.0}"
      ]
     },
     "execution_count": 56,
     "metadata": {},
     "output_type": "execute_result"
    }
   ],
   "source": [
    "exg2.nodes[3].parameters"
   ]
  },
  {
   "cell_type": "code",
   "execution_count": 57,
   "id": "a20d5543",
   "metadata": {},
   "outputs": [
    {
     "data": {
      "text/plain": [
       "{'reconstruction power (W)': np.float64(0.3198970004336019),\n",
       " 'total ops (n)': np.float64(32239700.04336019),\n",
       " 'total latency (s)': np.float64(0.002063318295917414)}"
      ]
     },
     "execution_count": 57,
     "metadata": {},
     "output_type": "execute_result"
    }
   ],
   "source": [
    "exg2().metric_values"
   ]
  },
  {
   "cell_type": "code",
   "execution_count": 58,
   "id": "ca0ada4b",
   "metadata": {},
   "outputs": [
    {
     "data": {
      "text/plain": [
       "{'reconstruction power (W)': np.float64(0.3198970004336019),\n",
       " 'total ops (n)': np.float64(32239700.04336019),\n",
       " 'total latency (s)': np.float64(0.002063318295917414)}"
      ]
     },
     "execution_count": 58,
     "metadata": {},
     "output_type": "execute_result"
    }
   ],
   "source": [
    "exg2().metric_values"
   ]
  },
  {
   "cell_type": "code",
   "execution_count": 59,
   "id": "58c7b535",
   "metadata": {},
   "outputs": [
    {
     "data": {
      "text/plain": [
       "{'Processor': {'parallelism (%)': 0.75,\n",
       "  'op latency (s)': 1e-07,\n",
       "  'iterations (n)': 20},\n",
       " 'Preprocessor 2': {'op latency (s)': 1e-06,\n",
       "  'parallelism (%)': 0.75,\n",
       "  'kernel size (%,%)': (0.02, 0.02),\n",
       "  'masking proportion (%)': 0.05},\n",
       " 'Preprocessor 1': {'op latency (s)': 1e-06, 'parallelism (%)': 0.75},\n",
       " 'Image sensor': {'resolution (n,n)': (2000, 2000),\n",
       "  'bit depth (n)': 16,\n",
       "  'readout latency (s)': 0.001,\n",
       "  'pixel energy (J)': 0.001,\n",
       "  'sample rate (Hz)': 10000.0},\n",
       " 'Sample Stage': {'position (mm,mm)': [0.0, 0.0],\n",
       "  'last position (mm,mm)': [0.0, 0.0],\n",
       "  'move rate (mm/s)': 100,\n",
       "  'settle time (s)': 0.001}}"
      ]
     },
     "execution_count": 59,
     "metadata": {},
     "output_type": "execute_result"
    }
   ],
   "source": [
    "g2.get_all_node_parameters()"
   ]
  },
  {
   "cell_type": "code",
   "execution_count": 60,
   "id": "d2f02b2d",
   "metadata": {},
   "outputs": [
    {
     "data": {
      "text/plain": [
       "'resolution (n,n)'"
      ]
     },
     "execution_count": 60,
     "metadata": {},
     "output_type": "execute_result"
    }
   ],
   "source": [
    "vc_img.resolution"
   ]
  },
  {
   "cell_type": "code",
   "execution_count": 61,
   "id": "c405441d",
   "metadata": {},
   "outputs": [],
   "source": [
    "a = ffc_host.parameters.copy()"
   ]
  },
  {
   "cell_type": "code",
   "execution_count": 62,
   "id": "80a99027",
   "metadata": {},
   "outputs": [],
   "source": [
    "a.update({'op latency (s)': 3e-6})"
   ]
  },
  {
   "cell_type": "code",
   "execution_count": 63,
   "id": "b5fb419f",
   "metadata": {},
   "outputs": [
    {
     "data": {
      "text/plain": [
       "{'op latency (s)': 3e-06, 'parallelism (%)': 0.75}"
      ]
     },
     "execution_count": 63,
     "metadata": {},
     "output_type": "execute_result"
    }
   ],
   "source": [
    "a"
   ]
  },
  {
   "cell_type": "code",
   "execution_count": 64,
   "id": "619bc9ef",
   "metadata": {},
   "outputs": [],
   "source": [
    "bcdi_graph = ExecutionGraph(\"BCDI Experiment\", nodes, links, [ReconstructionPower(), TotalOps(), TotalLatency()])"
   ]
  },
  {
   "cell_type": "code",
   "execution_count": null,
   "id": "b454f296",
   "metadata": {},
   "outputs": [],
   "source": []
  },
  {
   "cell_type": "code",
   "execution_count": 65,
   "id": "dc6ecc37",
   "metadata": {},
   "outputs": [],
   "source": [
    "def sweep_resolution(resolution: tuple, exg: ExecutionGraph):\n",
    "    # an empirical relationship we assume between the classifier skill and number of filters\n",
    "    new_params = {\"Image sensor\": {vc_img.resolution: resolution,}}\n",
    "    # we can simply call an existing graph with new parameters\n",
    "    new_exg = exg.with_updated_parameters(new_params)()\n",
    "\n",
    "    power = new_exg.metric_values[\"reconstruction power (W)\"]\n",
    "    ops = new_exg.metric_values[\"total ops (n)\"]\n",
    "    latency = new_exg.metric_values[\"total latency (s)\"]\n",
    "    return power, ops, latency"
   ]
  },
  {
   "cell_type": "code",
   "execution_count": 66,
   "id": "c93bd719",
   "metadata": {},
   "outputs": [],
   "source": [
    "exg2 = g2.with_updated_parameters({\"Image sensor\": {vc_img.resolution: (500, 2000)}})"
   ]
  },
  {
   "cell_type": "code",
   "execution_count": 67,
   "id": "61a7d2b7",
   "metadata": {},
   "outputs": [
    {
     "data": {
      "text/plain": [
       "[<systemflow.node.Component at 0x1380fb7f0>]"
      ]
     },
     "execution_count": 67,
     "metadata": {},
     "output_type": "execute_result"
    }
   ],
   "source": [
    "exg2.get_predecessors(exg2.nodes[0])"
   ]
  },
  {
   "cell_type": "code",
   "execution_count": 68,
   "id": "d75e0bc2",
   "metadata": {},
   "outputs": [
    {
     "data": {
      "text/plain": [
       "{}"
      ]
     },
     "execution_count": 68,
     "metadata": {},
     "output_type": "execute_result"
    }
   ],
   "source": [
    "exg2.nodes[1].properties"
   ]
  },
  {
   "cell_type": "code",
   "execution_count": 69,
   "id": "5a031325",
   "metadata": {},
   "outputs": [],
   "source": [
    "exg3 = exg2()"
   ]
  },
  {
   "cell_type": "code",
   "execution_count": 70,
   "id": "f48a168b",
   "metadata": {},
   "outputs": [
    {
     "data": {
      "text/plain": [
       "{'resolution (n,n)': (500, 2000),\n",
       " 'bit depth (n)': 16,\n",
       " 'readout latency (s)': 0.001,\n",
       " 'pixel energy (J)': 0.001,\n",
       " 'sample rate (Hz)': 10000.0}"
      ]
     },
     "execution_count": 70,
     "metadata": {},
     "output_type": "execute_result"
    }
   ],
   "source": [
    "exg3.nodes[-2].parameters"
   ]
  },
  {
   "cell_type": "code",
   "execution_count": 71,
   "id": "fd4cffac",
   "metadata": {},
   "outputs": [
    {
     "data": {
      "text/plain": [
       "{'resolution (n,n)': (500, 2000),\n",
       " 'bitdepth (n)': 16,\n",
       " 'sample rate (Hz)': 10000.0}"
      ]
     },
     "execution_count": 71,
     "metadata": {},
     "output_type": "execute_result"
    }
   ],
   "source": [
    "exg3.nodes[-2].output_msg.properties"
   ]
  },
  {
   "cell_type": "code",
   "execution_count": 72,
   "id": "841d60d4",
   "metadata": {},
   "outputs": [
    {
     "data": {
      "text/plain": [
       "{'sample rate (Hz)': 10000.0,\n",
       " 'resolution (n,n)': (500, 2000),\n",
       " 'bitdepth (n)': 16}"
      ]
     },
     "execution_count": 72,
     "metadata": {},
     "output_type": "execute_result"
    }
   ],
   "source": [
    "exg3.nodes[-3].output_msg.properties"
   ]
  },
  {
   "cell_type": "code",
   "execution_count": 73,
   "id": "e5dc043d",
   "metadata": {},
   "outputs": [
    {
     "data": {
      "text/plain": [
       "{'flatfield ops (n,n)': (np.float64(31.622776601683793),\n",
       "  np.float64(31622.776601683792))}"
      ]
     },
     "execution_count": 73,
     "metadata": {},
     "output_type": "execute_result"
    }
   ],
   "source": [
    "exg3.nodes[-3].properties"
   ]
  },
  {
   "cell_type": "code",
   "execution_count": 74,
   "id": "c67b2775",
   "metadata": {},
   "outputs": [
    {
     "data": {
      "text/plain": [
       "{'sample rate (Hz)': 10000.0,\n",
       " 'resolution (n,n)': (500, 2000),\n",
       " 'bitdepth (n)': 16}"
      ]
     },
     "execution_count": 74,
     "metadata": {},
     "output_type": "execute_result"
    }
   ],
   "source": [
    "exg3.nodes[-4].output_msg.properties"
   ]
  },
  {
   "cell_type": "code",
   "execution_count": 75,
   "id": "f556c2fc",
   "metadata": {},
   "outputs": [
    {
     "data": {
      "text/plain": [
       "{'masking operations (n,n)': (np.float64(66.8740304976422),\n",
       "  np.float64(299069.7562442441))}"
      ]
     },
     "execution_count": 75,
     "metadata": {},
     "output_type": "execute_result"
    }
   ],
   "source": [
    "exg3.nodes[-4].properties"
   ]
  },
  {
   "cell_type": "code",
   "execution_count": 76,
   "id": "983075b3",
   "metadata": {},
   "outputs": [
    {
     "data": {
      "text/plain": [
       "{'sample rate (Hz)': 10000.0,\n",
       " 'resolution (n,n)': (500, 2000),\n",
       " 'bitdepth (n)': 16,\n",
       " 'phase reconstruction (n,n)': (2000, 500),\n",
       " 'phase reconstruction latency (s)': np.float64(1.0877573059372771e-05)}"
      ]
     },
     "execution_count": 76,
     "metadata": {},
     "output_type": "execute_result"
    }
   ],
   "source": [
    "exg3.nodes[-5].output_msg.properties"
   ]
  },
  {
   "cell_type": "code",
   "execution_count": 77,
   "id": "8ebfeab0",
   "metadata": {},
   "outputs": [
    {
     "data": {
      "text/plain": [
       "{'phase reconstruction ops (n,n)': (np.float64(108.77573059372772),\n",
       "  np.float64(1287051.801314886))}"
      ]
     },
     "execution_count": 77,
     "metadata": {},
     "output_type": "execute_result"
    }
   ],
   "source": [
    "exg3.nodes[-5].properties"
   ]
  },
  {
   "cell_type": "code",
   "execution_count": 78,
   "id": "2ee3b151",
   "metadata": {},
   "outputs": [
    {
     "data": {
      "text/plain": [
       "{'reconstruction power (W)': np.float64(1.4000000000000001),\n",
       " 'total ops (n)': np.float64(141000000.0),\n",
       " 'total latency (s)': np.float64(0.002109374380158699)}"
      ]
     },
     "execution_count": 78,
     "metadata": {},
     "output_type": "execute_result"
    }
   ],
   "source": [
    "exg3.metric_values"
   ]
  },
  {
   "cell_type": "code",
   "execution_count": 79,
   "id": "5e6abcdc",
   "metadata": {},
   "outputs": [],
   "source": [
    "resolutions = [np.astype(s * np.array((2000, 1400)), 'int') for s in np.linspace(start=0.8, stop=6.0, num=101)];"
   ]
  },
  {
   "cell_type": "code",
   "execution_count": 80,
   "id": "e2c1715d",
   "metadata": {},
   "outputs": [],
   "source": [
    "megapixels = [np.prod(r)/1e6 for r in resolutions]"
   ]
  },
  {
   "cell_type": "code",
   "execution_count": 81,
   "id": "28e75d4d",
   "metadata": {},
   "outputs": [
    {
     "data": {
      "text/plain": [
       "(np.float64(2.9686519028385563),\n",
       " np.float64(298896358.2838556),\n",
       " np.float64(0.0021452797084210986))"
      ]
     },
     "execution_count": 81,
     "metadata": {},
     "output_type": "execute_result"
    }
   ],
   "source": [
    "sweep_resolution(resolutions[1], g2)"
   ]
  },
  {
   "cell_type": "code",
   "execution_count": 82,
   "id": "52be4eef",
   "metadata": {},
   "outputs": [
    {
     "data": {
      "text/plain": [
       "(np.float64(10.966446631385706),\n",
       " np.float64(1103634583.1385705),\n",
       " np.float64(0.0022460405243806903))"
      ]
     },
     "execution_count": 82,
     "metadata": {},
     "output_type": "execute_result"
    }
   ],
   "source": [
    "sweep_resolution(resolutions[15], g2)"
   ]
  },
  {
   "cell_type": "code",
   "execution_count": 83,
   "id": "e97487cb",
   "metadata": {},
   "outputs": [
    {
     "data": {
      "text/plain": [
       "(np.float64(181.50976432732764),\n",
       " np.float64(18251776432.732765),\n",
       " np.float64(0.0028083143208975773))"
      ]
     },
     "execution_count": 83,
     "metadata": {},
     "output_type": "execute_result"
    }
   ],
   "source": [
    "sweep_resolution(resolutions[-1], g2)"
   ]
  },
  {
   "cell_type": "code",
   "execution_count": null,
   "id": "0703f992",
   "metadata": {},
   "outputs": [],
   "source": []
  }
 ],
 "metadata": {
  "kernelspec": {
   "display_name": "systemflow",
   "language": "python",
   "name": "python3"
  },
  "language_info": {
   "codemirror_mode": {
    "name": "ipython",
    "version": 3
   },
   "file_extension": ".py",
   "mimetype": "text/x-python",
   "name": "python",
   "nbconvert_exporter": "python",
   "pygments_lexer": "ipython3",
   "version": "3.10.15"
  }
 },
 "nbformat": 4,
 "nbformat_minor": 5
}
