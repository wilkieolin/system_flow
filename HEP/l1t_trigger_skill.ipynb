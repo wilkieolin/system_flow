{
 "cells": [
  {
   "cell_type": "code",
   "execution_count": 1,
   "metadata": {},
   "outputs": [],
   "source": [
    "import pandas as pd\n",
    "import matplotlib.pyplot as plt\n",
    "from scipy.optimize import minimize_scalar\n",
    "from scipy.interpolate import PchipInterpolator\n",
    "from scipy.integrate import quad\n",
    "from scipy.stats import bootstrap\n",
    "import plotly.graph_objects as go\n",
    "import plotly.express as px\n",
    "import numpy as np"
   ]
  },
  {
   "cell_type": "markdown",
   "metadata": {},
   "source": [
    "# Level-1 Trigger (CMS)"
   ]
  },
  {
   "cell_type": "code",
   "execution_count": 2,
   "metadata": {},
   "outputs": [],
   "source": [
    "egamma = pd.read_csv(\"l1t_data/egamma.csv\")\n",
    "tau = pd.read_csv(\"l1t_data/isolated tau.csv\")\n",
    "jet_energy = pd.read_csv(\"l1t_data/jet energy.csv\")\n",
    "muon = pd.read_csv(\"l1t_data/single muon.csv\")"
   ]
  },
  {
   "cell_type": "code",
   "execution_count": 3,
   "metadata": {},
   "outputs": [],
   "source": [
    "rates = pd.read_excel(\"l1t_data/trigger_rates.xlsx\")"
   ]
  },
  {
   "cell_type": "code",
   "execution_count": 4,
   "metadata": {},
   "outputs": [],
   "source": [
    "triggers = [\"Jet\", \"Muon\", \"EGamma\", \"Tau\"]\n",
    "rejection_ratio = 400\n",
    "jet_rate = rates[\"Jet Rate\"][0] \n",
    "muon_rate = rates[\"Muon Rate\"][0] \n",
    "egamma_rate = rates[\"Egamma Rate\"][0] \n",
    "tau_rate = rates[\"Tau Rate\"][0] \n",
    "all_rates = [jet_rate, muon_rate, egamma_rate, tau_rate]"
   ]
  },
  {
   "cell_type": "code",
   "execution_count": 5,
   "metadata": {},
   "outputs": [
    {
     "data": {
      "application/vnd.plotly.v1+json": {
       "config": {
        "plotlyServerURL": "https://plot.ly"
       },
       "data": [
        {
         "type": "bar",
         "x": [
          "Jet",
          "Muon",
          "EGamma",
          "Tau"
         ],
         "y": [
          0.28200000000000003,
          0.364,
          0.444,
          0.18
         ]
        }
       ],
       "layout": {
        "height": 600,
        "template": {
         "data": {
          "bar": [
           {
            "error_x": {
             "color": "#2a3f5f"
            },
            "error_y": {
             "color": "#2a3f5f"
            },
            "marker": {
             "line": {
              "color": "#E5ECF6",
              "width": 0.5
             },
             "pattern": {
              "fillmode": "overlay",
              "size": 10,
              "solidity": 0.2
             }
            },
            "type": "bar"
           }
          ],
          "barpolar": [
           {
            "marker": {
             "line": {
              "color": "#E5ECF6",
              "width": 0.5
             },
             "pattern": {
              "fillmode": "overlay",
              "size": 10,
              "solidity": 0.2
             }
            },
            "type": "barpolar"
           }
          ],
          "carpet": [
           {
            "aaxis": {
             "endlinecolor": "#2a3f5f",
             "gridcolor": "white",
             "linecolor": "white",
             "minorgridcolor": "white",
             "startlinecolor": "#2a3f5f"
            },
            "baxis": {
             "endlinecolor": "#2a3f5f",
             "gridcolor": "white",
             "linecolor": "white",
             "minorgridcolor": "white",
             "startlinecolor": "#2a3f5f"
            },
            "type": "carpet"
           }
          ],
          "choropleth": [
           {
            "colorbar": {
             "outlinewidth": 0,
             "ticks": ""
            },
            "type": "choropleth"
           }
          ],
          "contour": [
           {
            "colorbar": {
             "outlinewidth": 0,
             "ticks": ""
            },
            "colorscale": [
             [
              0,
              "#0d0887"
             ],
             [
              0.1111111111111111,
              "#46039f"
             ],
             [
              0.2222222222222222,
              "#7201a8"
             ],
             [
              0.3333333333333333,
              "#9c179e"
             ],
             [
              0.4444444444444444,
              "#bd3786"
             ],
             [
              0.5555555555555556,
              "#d8576b"
             ],
             [
              0.6666666666666666,
              "#ed7953"
             ],
             [
              0.7777777777777778,
              "#fb9f3a"
             ],
             [
              0.8888888888888888,
              "#fdca26"
             ],
             [
              1,
              "#f0f921"
             ]
            ],
            "type": "contour"
           }
          ],
          "contourcarpet": [
           {
            "colorbar": {
             "outlinewidth": 0,
             "ticks": ""
            },
            "type": "contourcarpet"
           }
          ],
          "heatmap": [
           {
            "colorbar": {
             "outlinewidth": 0,
             "ticks": ""
            },
            "colorscale": [
             [
              0,
              "#0d0887"
             ],
             [
              0.1111111111111111,
              "#46039f"
             ],
             [
              0.2222222222222222,
              "#7201a8"
             ],
             [
              0.3333333333333333,
              "#9c179e"
             ],
             [
              0.4444444444444444,
              "#bd3786"
             ],
             [
              0.5555555555555556,
              "#d8576b"
             ],
             [
              0.6666666666666666,
              "#ed7953"
             ],
             [
              0.7777777777777778,
              "#fb9f3a"
             ],
             [
              0.8888888888888888,
              "#fdca26"
             ],
             [
              1,
              "#f0f921"
             ]
            ],
            "type": "heatmap"
           }
          ],
          "heatmapgl": [
           {
            "colorbar": {
             "outlinewidth": 0,
             "ticks": ""
            },
            "colorscale": [
             [
              0,
              "#0d0887"
             ],
             [
              0.1111111111111111,
              "#46039f"
             ],
             [
              0.2222222222222222,
              "#7201a8"
             ],
             [
              0.3333333333333333,
              "#9c179e"
             ],
             [
              0.4444444444444444,
              "#bd3786"
             ],
             [
              0.5555555555555556,
              "#d8576b"
             ],
             [
              0.6666666666666666,
              "#ed7953"
             ],
             [
              0.7777777777777778,
              "#fb9f3a"
             ],
             [
              0.8888888888888888,
              "#fdca26"
             ],
             [
              1,
              "#f0f921"
             ]
            ],
            "type": "heatmapgl"
           }
          ],
          "histogram": [
           {
            "marker": {
             "pattern": {
              "fillmode": "overlay",
              "size": 10,
              "solidity": 0.2
             }
            },
            "type": "histogram"
           }
          ],
          "histogram2d": [
           {
            "colorbar": {
             "outlinewidth": 0,
             "ticks": ""
            },
            "colorscale": [
             [
              0,
              "#0d0887"
             ],
             [
              0.1111111111111111,
              "#46039f"
             ],
             [
              0.2222222222222222,
              "#7201a8"
             ],
             [
              0.3333333333333333,
              "#9c179e"
             ],
             [
              0.4444444444444444,
              "#bd3786"
             ],
             [
              0.5555555555555556,
              "#d8576b"
             ],
             [
              0.6666666666666666,
              "#ed7953"
             ],
             [
              0.7777777777777778,
              "#fb9f3a"
             ],
             [
              0.8888888888888888,
              "#fdca26"
             ],
             [
              1,
              "#f0f921"
             ]
            ],
            "type": "histogram2d"
           }
          ],
          "histogram2dcontour": [
           {
            "colorbar": {
             "outlinewidth": 0,
             "ticks": ""
            },
            "colorscale": [
             [
              0,
              "#0d0887"
             ],
             [
              0.1111111111111111,
              "#46039f"
             ],
             [
              0.2222222222222222,
              "#7201a8"
             ],
             [
              0.3333333333333333,
              "#9c179e"
             ],
             [
              0.4444444444444444,
              "#bd3786"
             ],
             [
              0.5555555555555556,
              "#d8576b"
             ],
             [
              0.6666666666666666,
              "#ed7953"
             ],
             [
              0.7777777777777778,
              "#fb9f3a"
             ],
             [
              0.8888888888888888,
              "#fdca26"
             ],
             [
              1,
              "#f0f921"
             ]
            ],
            "type": "histogram2dcontour"
           }
          ],
          "mesh3d": [
           {
            "colorbar": {
             "outlinewidth": 0,
             "ticks": ""
            },
            "type": "mesh3d"
           }
          ],
          "parcoords": [
           {
            "line": {
             "colorbar": {
              "outlinewidth": 0,
              "ticks": ""
             }
            },
            "type": "parcoords"
           }
          ],
          "pie": [
           {
            "automargin": true,
            "type": "pie"
           }
          ],
          "scatter": [
           {
            "fillpattern": {
             "fillmode": "overlay",
             "size": 10,
             "solidity": 0.2
            },
            "type": "scatter"
           }
          ],
          "scatter3d": [
           {
            "line": {
             "colorbar": {
              "outlinewidth": 0,
              "ticks": ""
             }
            },
            "marker": {
             "colorbar": {
              "outlinewidth": 0,
              "ticks": ""
             }
            },
            "type": "scatter3d"
           }
          ],
          "scattercarpet": [
           {
            "marker": {
             "colorbar": {
              "outlinewidth": 0,
              "ticks": ""
             }
            },
            "type": "scattercarpet"
           }
          ],
          "scattergeo": [
           {
            "marker": {
             "colorbar": {
              "outlinewidth": 0,
              "ticks": ""
             }
            },
            "type": "scattergeo"
           }
          ],
          "scattergl": [
           {
            "marker": {
             "colorbar": {
              "outlinewidth": 0,
              "ticks": ""
             }
            },
            "type": "scattergl"
           }
          ],
          "scattermapbox": [
           {
            "marker": {
             "colorbar": {
              "outlinewidth": 0,
              "ticks": ""
             }
            },
            "type": "scattermapbox"
           }
          ],
          "scatterpolar": [
           {
            "marker": {
             "colorbar": {
              "outlinewidth": 0,
              "ticks": ""
             }
            },
            "type": "scatterpolar"
           }
          ],
          "scatterpolargl": [
           {
            "marker": {
             "colorbar": {
              "outlinewidth": 0,
              "ticks": ""
             }
            },
            "type": "scatterpolargl"
           }
          ],
          "scatterternary": [
           {
            "marker": {
             "colorbar": {
              "outlinewidth": 0,
              "ticks": ""
             }
            },
            "type": "scatterternary"
           }
          ],
          "surface": [
           {
            "colorbar": {
             "outlinewidth": 0,
             "ticks": ""
            },
            "colorscale": [
             [
              0,
              "#0d0887"
             ],
             [
              0.1111111111111111,
              "#46039f"
             ],
             [
              0.2222222222222222,
              "#7201a8"
             ],
             [
              0.3333333333333333,
              "#9c179e"
             ],
             [
              0.4444444444444444,
              "#bd3786"
             ],
             [
              0.5555555555555556,
              "#d8576b"
             ],
             [
              0.6666666666666666,
              "#ed7953"
             ],
             [
              0.7777777777777778,
              "#fb9f3a"
             ],
             [
              0.8888888888888888,
              "#fdca26"
             ],
             [
              1,
              "#f0f921"
             ]
            ],
            "type": "surface"
           }
          ],
          "table": [
           {
            "cells": {
             "fill": {
              "color": "#EBF0F8"
             },
             "line": {
              "color": "white"
             }
            },
            "header": {
             "fill": {
              "color": "#C8D4E3"
             },
             "line": {
              "color": "white"
             }
            },
            "type": "table"
           }
          ]
         },
         "layout": {
          "annotationdefaults": {
           "arrowcolor": "#2a3f5f",
           "arrowhead": 0,
           "arrowwidth": 1
          },
          "autotypenumbers": "strict",
          "coloraxis": {
           "colorbar": {
            "outlinewidth": 0,
            "ticks": ""
           }
          },
          "colorscale": {
           "diverging": [
            [
             0,
             "#8e0152"
            ],
            [
             0.1,
             "#c51b7d"
            ],
            [
             0.2,
             "#de77ae"
            ],
            [
             0.3,
             "#f1b6da"
            ],
            [
             0.4,
             "#fde0ef"
            ],
            [
             0.5,
             "#f7f7f7"
            ],
            [
             0.6,
             "#e6f5d0"
            ],
            [
             0.7,
             "#b8e186"
            ],
            [
             0.8,
             "#7fbc41"
            ],
            [
             0.9,
             "#4d9221"
            ],
            [
             1,
             "#276419"
            ]
           ],
           "sequential": [
            [
             0,
             "#0d0887"
            ],
            [
             0.1111111111111111,
             "#46039f"
            ],
            [
             0.2222222222222222,
             "#7201a8"
            ],
            [
             0.3333333333333333,
             "#9c179e"
            ],
            [
             0.4444444444444444,
             "#bd3786"
            ],
            [
             0.5555555555555556,
             "#d8576b"
            ],
            [
             0.6666666666666666,
             "#ed7953"
            ],
            [
             0.7777777777777778,
             "#fb9f3a"
            ],
            [
             0.8888888888888888,
             "#fdca26"
            ],
            [
             1,
             "#f0f921"
            ]
           ],
           "sequentialminus": [
            [
             0,
             "#0d0887"
            ],
            [
             0.1111111111111111,
             "#46039f"
            ],
            [
             0.2222222222222222,
             "#7201a8"
            ],
            [
             0.3333333333333333,
             "#9c179e"
            ],
            [
             0.4444444444444444,
             "#bd3786"
            ],
            [
             0.5555555555555556,
             "#d8576b"
            ],
            [
             0.6666666666666666,
             "#ed7953"
            ],
            [
             0.7777777777777778,
             "#fb9f3a"
            ],
            [
             0.8888888888888888,
             "#fdca26"
            ],
            [
             1,
             "#f0f921"
            ]
           ]
          },
          "colorway": [
           "#636efa",
           "#EF553B",
           "#00cc96",
           "#ab63fa",
           "#FFA15A",
           "#19d3f3",
           "#FF6692",
           "#B6E880",
           "#FF97FF",
           "#FECB52"
          ],
          "font": {
           "color": "#2a3f5f"
          },
          "geo": {
           "bgcolor": "white",
           "lakecolor": "white",
           "landcolor": "#E5ECF6",
           "showlakes": true,
           "showland": true,
           "subunitcolor": "white"
          },
          "hoverlabel": {
           "align": "left"
          },
          "hovermode": "closest",
          "mapbox": {
           "style": "light"
          },
          "paper_bgcolor": "white",
          "plot_bgcolor": "#E5ECF6",
          "polar": {
           "angularaxis": {
            "gridcolor": "white",
            "linecolor": "white",
            "ticks": ""
           },
           "bgcolor": "#E5ECF6",
           "radialaxis": {
            "gridcolor": "white",
            "linecolor": "white",
            "ticks": ""
           }
          },
          "scene": {
           "xaxis": {
            "backgroundcolor": "#E5ECF6",
            "gridcolor": "white",
            "gridwidth": 2,
            "linecolor": "white",
            "showbackground": true,
            "ticks": "",
            "zerolinecolor": "white"
           },
           "yaxis": {
            "backgroundcolor": "#E5ECF6",
            "gridcolor": "white",
            "gridwidth": 2,
            "linecolor": "white",
            "showbackground": true,
            "ticks": "",
            "zerolinecolor": "white"
           },
           "zaxis": {
            "backgroundcolor": "#E5ECF6",
            "gridcolor": "white",
            "gridwidth": 2,
            "linecolor": "white",
            "showbackground": true,
            "ticks": "",
            "zerolinecolor": "white"
           }
          },
          "shapedefaults": {
           "line": {
            "color": "#2a3f5f"
           }
          },
          "ternary": {
           "aaxis": {
            "gridcolor": "white",
            "linecolor": "white",
            "ticks": ""
           },
           "baxis": {
            "gridcolor": "white",
            "linecolor": "white",
            "ticks": ""
           },
           "bgcolor": "#E5ECF6",
           "caxis": {
            "gridcolor": "white",
            "linecolor": "white",
            "ticks": ""
           }
          },
          "title": {
           "x": 0.05
          },
          "xaxis": {
           "automargin": true,
           "gridcolor": "white",
           "linecolor": "white",
           "ticks": "",
           "title": {
            "standoff": 15
           },
           "zerolinecolor": "white",
           "zerolinewidth": 2
          },
          "yaxis": {
           "automargin": true,
           "gridcolor": "white",
           "linecolor": "white",
           "ticks": "",
           "title": {
            "standoff": 15
           },
           "zerolinecolor": "white",
           "zerolinewidth": 2
          }
         }
        },
        "width": 800
       }
      }
     },
     "metadata": {},
     "output_type": "display_data"
    }
   ],
   "source": [
    "fig = go.Figure()\n",
    "fig.add_bar(x = triggers, y = all_rates)\n",
    "fig.update_layout(width = 800, height = 600)"
   ]
  },
  {
   "cell_type": "code",
   "execution_count": 6,
   "metadata": {},
   "outputs": [],
   "source": [
    "exp_dist = lambda x, l: l * np.exp(-1 * l * x) * (x > 0)"
   ]
  },
  {
   "cell_type": "code",
   "execution_count": 7,
   "metadata": {},
   "outputs": [],
   "source": [
    "exp_cdf = lambda x, l: 1 - np.exp(-l * x)"
   ]
  },
  {
   "cell_type": "code",
   "execution_count": 8,
   "metadata": {},
   "outputs": [],
   "source": [
    "exp_generator = lambda p, l: (-1 / l) * np.log(1 - p)"
   ]
  },
  {
   "cell_type": "code",
   "execution_count": 9,
   "metadata": {},
   "outputs": [
    {
     "data": {
      "application/vnd.plotly.v1+json": {
       "config": {
        "plotlyServerURL": "https://plot.ly"
       },
       "data": [
        {
         "name": "PDF",
         "type": "scatter",
         "x": [
          0.01,
          0.0599,
          0.1098,
          0.1597,
          0.2096,
          0.2595,
          0.3094,
          0.3593,
          0.4092,
          0.4591,
          0.509,
          0.5589,
          0.6088,
          0.6587000000000001,
          0.7086,
          0.7585,
          0.8084,
          0.8583000000000001,
          0.9082,
          0.9581,
          1.008,
          1.0579,
          1.1078,
          1.1577,
          1.2076,
          1.2575,
          1.3074000000000001,
          1.3573,
          1.4072,
          1.4571,
          1.507,
          1.5569,
          1.6068,
          1.6567,
          1.7066000000000001,
          1.7565,
          1.8064,
          1.8563,
          1.9062,
          1.9561,
          2.006,
          2.0559,
          2.1058,
          2.1557,
          2.2055999999999996,
          2.2554999999999996,
          2.3053999999999997,
          2.3552999999999997,
          2.4052,
          2.4551,
          2.505,
          2.5549,
          2.6048,
          2.6546999999999996,
          2.7045999999999997,
          2.7544999999999997,
          2.8044,
          2.8543,
          2.9042,
          2.9541,
          3.0039999999999996,
          3.0538999999999996,
          3.1037999999999997,
          3.1536999999999997,
          3.2036,
          3.2535,
          3.3034,
          3.3533,
          3.4032,
          3.4530999999999996,
          3.5029999999999997,
          3.5528999999999997,
          3.6028,
          3.6527,
          3.7026,
          3.7525,
          3.8023999999999996,
          3.8522999999999996,
          3.9021999999999997,
          3.9520999999999997,
          4.002,
          4.0519,
          4.1018,
          4.1517,
          4.2016,
          4.2515,
          4.3014,
          4.3513,
          4.401199999999999,
          4.451099999999999,
          4.5009999999999994,
          4.5508999999999995,
          4.6008,
          4.6507,
          4.7006,
          4.7505,
          4.8004,
          4.8503,
          4.9002,
          4.9501,
          5
         ],
         "y": [
          1.477667909404594,
          1.3711024278468882,
          1.272222165537262,
          1.1804728848930788,
          1.095340318472838,
          1.016347286435848,
          0.943051021883047,
          0.8750406890871301,
          0.8119350807013255,
          0.7533804810393521,
          0.6990486834499435,
          0.648635150673056,
          0.601857307866291,
          0.5584529587337184,
          0.518178815879277,
          0.48080913714718143,
          0.44613446030583354,
          0.4139604289829668,
          0.3841067032712273,
          0.3564059488979837,
          0.3307028992935239,
          0.30685348530040013,
          0.2847240276458224,
          0.2641904876507957,
          0.2451377719761241,
          0.22745908750828264,
          0.211055342769207,
          0.1958345924948171,
          0.18171152226906093,
          0.16860697032478225,
          0.1564474838310368,
          0.1451649071797894,
          0.13469599996427897,
          0.12498208250776885,
          0.11596870695582095,
          0.10760535208852129,
          0.0998451401420358,
          0.09264457405224372,
          0.08596329364766084,
          0.07976384942508133,
          0.07401149263991905,
          0.06867398053467505,
          0.06372139561381084,
          0.059125977952036606,
          0.05486196959608075,
          0.05090547018778928,
          0.04723430299930439,
          0.04382789062942917,
          0.040667139664440355,
          0.037734333656856564,
          0.035013033822293364,
          0.03248798689779707,
          0.03014503964519064,
          0.027971059520210978,
          0.025953861062777056,
          0.02408213759579654,
          0.02234539784967248,
          0.020733907157282502,
          0.01923863288981947,
          0.017851193827654543,
          0.016563813182438762,
          0.015369275007125939,
          0.014260883749588837,
          0.013232426723120867,
          0.012278139283465614,
          0.011392672517186364,
          0.010571063260264496,
          0.009808706278876868,
          0.009101328456421627,
          0.008444964842107081,
          0.007835936426852635,
          0.00727082952193271,
          0.006746476624778069,
          0.006259938664684605,
          0.005808488528914512,
          0.00538959577685116,
          0.005000912456528571,
          0.004640259944034997,
          0.004305616732023802,
          0.003995107098884435,
          0.0037069905950626947,
          0.0034396522875996096,
          0.0031915937082082424,
          0.0029614244541511505,
          0.0027478543948402283,
          0.002549686440475843,
          0.002365809832192497,
          0.0021951939161013534,
          0.0020368823663322695,
          0.0018899878246946573,
          0.0017536869269117838,
          0.0016272156875498148,
          0.0015098652177735106,
          0.001400977751925994,
          0.0012999429606610315,
          0.0012061945299624102,
          0.001119206986875339,
          0.0010384927541576667,
          0.0009635994173418237,
          0.0008941071888889958,
          0.0008296265552217505
         ]
        },
        {
         "name": "CDF",
         "type": "scatter",
         "x": [
          0.01,
          0.0599,
          0.1098,
          0.1597,
          0.2096,
          0.2595,
          0.3094,
          0.3593,
          0.4092,
          0.4591,
          0.509,
          0.5589,
          0.6088,
          0.6587000000000001,
          0.7086,
          0.7585,
          0.8084,
          0.8583000000000001,
          0.9082,
          0.9581,
          1.008,
          1.0579,
          1.1078,
          1.1577,
          1.2076,
          1.2575,
          1.3074000000000001,
          1.3573,
          1.4072,
          1.4571,
          1.507,
          1.5569,
          1.6068,
          1.6567,
          1.7066000000000001,
          1.7565,
          1.8064,
          1.8563,
          1.9062,
          1.9561,
          2.006,
          2.0559,
          2.1058,
          2.1557,
          2.2055999999999996,
          2.2554999999999996,
          2.3053999999999997,
          2.3552999999999997,
          2.4052,
          2.4551,
          2.505,
          2.5549,
          2.6048,
          2.6546999999999996,
          2.7045999999999997,
          2.7544999999999997,
          2.8044,
          2.8543,
          2.9042,
          2.9541,
          3.0039999999999996,
          3.0538999999999996,
          3.1037999999999997,
          3.1536999999999997,
          3.2036,
          3.2535,
          3.3034,
          3.3533,
          3.4032,
          3.4530999999999996,
          3.5029999999999997,
          3.5528999999999997,
          3.6028,
          3.6527,
          3.7026,
          3.7525,
          3.8023999999999996,
          3.8522999999999996,
          3.9021999999999997,
          3.9520999999999997,
          4.002,
          4.0519,
          4.1018,
          4.1517,
          4.2016,
          4.2515,
          4.3014,
          4.3513,
          4.401199999999999,
          4.451099999999999,
          4.5009999999999994,
          4.5508999999999995,
          4.6008,
          4.6507,
          4.7006,
          4.7505,
          4.8004,
          4.8503,
          4.9002,
          4.9501,
          5
         ],
         "y": [
          0.014888060396937353,
          0.08593171476874117,
          0.15185188964182528,
          0.21301807673794748,
          0.269773121018108,
          0.32243514237610127,
          0.3712993187446353,
          0.41663954060858,
          0.4587099461991163,
          0.4977463459737653,
          0.5339675443667042,
          0.5675765662179626,
          0.598761794755806,
          0.6276980275108545,
          0.654547456080482,
          0.6794605752352123,
          0.7025770264627776,
          0.724026380678022,
          0.7439288644858484,
          0.7623960340680108,
          0.7795314004709841,
          0.7954310097997332,
          0.8101839815694518,
          0.8238730082328029,
          0.8365748186825839,
          0.8483606083278116,
          0.859296438153862,
          0.8694436050034553,
          0.8788589851539594,
          0.8875953531168118,
          0.8957016774459755,
          0.9032233952134737,
          0.9102026666904807,
          0.9166786116614875,
          0.9226875286961194,
          0.9282630986076524,
          0.9334365732386428,
          0.9382369506318375,
          0.9426911375682261,
          0.9468241003832791,
          0.9506590049067206,
          0.9542173463102166,
          0.9575190695907928,
          0.9605826813653089,
          0.9634253536026128,
          0.9660630198748071,
          0.9685104646671304,
          0.9707814062470472,
          0.9728885735570397,
          0.9748437775620956,
          0.9766579774518044,
          0.9783413420681353,
          0.9799033069032063,
          0.981352626986526,
          0.9826974259581487,
          0.9839452416028023,
          0.9851030681002183,
          0.9861773952284784,
          0.9871742447401204,
          0.9880992041148969,
          0.9889574578783742,
          0.9897538166619161,
          0.9904927441669408,
          0.9911783821845861,
          0.9918145738110229,
          0.9924048849885424,
          0.992952624493157,
          0.9934608624807487,
          0.9939324476957189,
          0.9943700234385953,
          0.9947760423820983,
          0.9951527803187116,
          0.9955023489168147,
          0.995826707556877,
          0.996127674314057,
          0.9964069361487659,
          0.9966660583623143,
          0.9969064933706433,
          0.9971295888453174,
          0.9973365952674104,
          0.9975286729366248,
          0.9977068984749335,
          0.9978722708611945,
          0.9980257170305659,
          0.9981680970701066,
          0.9983002090396828,
          0.998422793445205,
          0.9985365373892657,
          0.9986420784224451,
          0.9987400081168702,
          0.9988308753820588,
          0.9989151895416335,
          0.998993423188151,
          0.9990660148320494,
          0.9991333713595593,
          0.9991958703133584,
          0.9992538620087498,
          0.9993076714972282,
          0.9993576003884388,
          0.9994039285407407,
          0.9994469156298522
         ]
        }
       ],
       "layout": {
        "height": 600,
        "template": {
         "data": {
          "bar": [
           {
            "error_x": {
             "color": "#2a3f5f"
            },
            "error_y": {
             "color": "#2a3f5f"
            },
            "marker": {
             "line": {
              "color": "#E5ECF6",
              "width": 0.5
             },
             "pattern": {
              "fillmode": "overlay",
              "size": 10,
              "solidity": 0.2
             }
            },
            "type": "bar"
           }
          ],
          "barpolar": [
           {
            "marker": {
             "line": {
              "color": "#E5ECF6",
              "width": 0.5
             },
             "pattern": {
              "fillmode": "overlay",
              "size": 10,
              "solidity": 0.2
             }
            },
            "type": "barpolar"
           }
          ],
          "carpet": [
           {
            "aaxis": {
             "endlinecolor": "#2a3f5f",
             "gridcolor": "white",
             "linecolor": "white",
             "minorgridcolor": "white",
             "startlinecolor": "#2a3f5f"
            },
            "baxis": {
             "endlinecolor": "#2a3f5f",
             "gridcolor": "white",
             "linecolor": "white",
             "minorgridcolor": "white",
             "startlinecolor": "#2a3f5f"
            },
            "type": "carpet"
           }
          ],
          "choropleth": [
           {
            "colorbar": {
             "outlinewidth": 0,
             "ticks": ""
            },
            "type": "choropleth"
           }
          ],
          "contour": [
           {
            "colorbar": {
             "outlinewidth": 0,
             "ticks": ""
            },
            "colorscale": [
             [
              0,
              "#0d0887"
             ],
             [
              0.1111111111111111,
              "#46039f"
             ],
             [
              0.2222222222222222,
              "#7201a8"
             ],
             [
              0.3333333333333333,
              "#9c179e"
             ],
             [
              0.4444444444444444,
              "#bd3786"
             ],
             [
              0.5555555555555556,
              "#d8576b"
             ],
             [
              0.6666666666666666,
              "#ed7953"
             ],
             [
              0.7777777777777778,
              "#fb9f3a"
             ],
             [
              0.8888888888888888,
              "#fdca26"
             ],
             [
              1,
              "#f0f921"
             ]
            ],
            "type": "contour"
           }
          ],
          "contourcarpet": [
           {
            "colorbar": {
             "outlinewidth": 0,
             "ticks": ""
            },
            "type": "contourcarpet"
           }
          ],
          "heatmap": [
           {
            "colorbar": {
             "outlinewidth": 0,
             "ticks": ""
            },
            "colorscale": [
             [
              0,
              "#0d0887"
             ],
             [
              0.1111111111111111,
              "#46039f"
             ],
             [
              0.2222222222222222,
              "#7201a8"
             ],
             [
              0.3333333333333333,
              "#9c179e"
             ],
             [
              0.4444444444444444,
              "#bd3786"
             ],
             [
              0.5555555555555556,
              "#d8576b"
             ],
             [
              0.6666666666666666,
              "#ed7953"
             ],
             [
              0.7777777777777778,
              "#fb9f3a"
             ],
             [
              0.8888888888888888,
              "#fdca26"
             ],
             [
              1,
              "#f0f921"
             ]
            ],
            "type": "heatmap"
           }
          ],
          "heatmapgl": [
           {
            "colorbar": {
             "outlinewidth": 0,
             "ticks": ""
            },
            "colorscale": [
             [
              0,
              "#0d0887"
             ],
             [
              0.1111111111111111,
              "#46039f"
             ],
             [
              0.2222222222222222,
              "#7201a8"
             ],
             [
              0.3333333333333333,
              "#9c179e"
             ],
             [
              0.4444444444444444,
              "#bd3786"
             ],
             [
              0.5555555555555556,
              "#d8576b"
             ],
             [
              0.6666666666666666,
              "#ed7953"
             ],
             [
              0.7777777777777778,
              "#fb9f3a"
             ],
             [
              0.8888888888888888,
              "#fdca26"
             ],
             [
              1,
              "#f0f921"
             ]
            ],
            "type": "heatmapgl"
           }
          ],
          "histogram": [
           {
            "marker": {
             "pattern": {
              "fillmode": "overlay",
              "size": 10,
              "solidity": 0.2
             }
            },
            "type": "histogram"
           }
          ],
          "histogram2d": [
           {
            "colorbar": {
             "outlinewidth": 0,
             "ticks": ""
            },
            "colorscale": [
             [
              0,
              "#0d0887"
             ],
             [
              0.1111111111111111,
              "#46039f"
             ],
             [
              0.2222222222222222,
              "#7201a8"
             ],
             [
              0.3333333333333333,
              "#9c179e"
             ],
             [
              0.4444444444444444,
              "#bd3786"
             ],
             [
              0.5555555555555556,
              "#d8576b"
             ],
             [
              0.6666666666666666,
              "#ed7953"
             ],
             [
              0.7777777777777778,
              "#fb9f3a"
             ],
             [
              0.8888888888888888,
              "#fdca26"
             ],
             [
              1,
              "#f0f921"
             ]
            ],
            "type": "histogram2d"
           }
          ],
          "histogram2dcontour": [
           {
            "colorbar": {
             "outlinewidth": 0,
             "ticks": ""
            },
            "colorscale": [
             [
              0,
              "#0d0887"
             ],
             [
              0.1111111111111111,
              "#46039f"
             ],
             [
              0.2222222222222222,
              "#7201a8"
             ],
             [
              0.3333333333333333,
              "#9c179e"
             ],
             [
              0.4444444444444444,
              "#bd3786"
             ],
             [
              0.5555555555555556,
              "#d8576b"
             ],
             [
              0.6666666666666666,
              "#ed7953"
             ],
             [
              0.7777777777777778,
              "#fb9f3a"
             ],
             [
              0.8888888888888888,
              "#fdca26"
             ],
             [
              1,
              "#f0f921"
             ]
            ],
            "type": "histogram2dcontour"
           }
          ],
          "mesh3d": [
           {
            "colorbar": {
             "outlinewidth": 0,
             "ticks": ""
            },
            "type": "mesh3d"
           }
          ],
          "parcoords": [
           {
            "line": {
             "colorbar": {
              "outlinewidth": 0,
              "ticks": ""
             }
            },
            "type": "parcoords"
           }
          ],
          "pie": [
           {
            "automargin": true,
            "type": "pie"
           }
          ],
          "scatter": [
           {
            "fillpattern": {
             "fillmode": "overlay",
             "size": 10,
             "solidity": 0.2
            },
            "type": "scatter"
           }
          ],
          "scatter3d": [
           {
            "line": {
             "colorbar": {
              "outlinewidth": 0,
              "ticks": ""
             }
            },
            "marker": {
             "colorbar": {
              "outlinewidth": 0,
              "ticks": ""
             }
            },
            "type": "scatter3d"
           }
          ],
          "scattercarpet": [
           {
            "marker": {
             "colorbar": {
              "outlinewidth": 0,
              "ticks": ""
             }
            },
            "type": "scattercarpet"
           }
          ],
          "scattergeo": [
           {
            "marker": {
             "colorbar": {
              "outlinewidth": 0,
              "ticks": ""
             }
            },
            "type": "scattergeo"
           }
          ],
          "scattergl": [
           {
            "marker": {
             "colorbar": {
              "outlinewidth": 0,
              "ticks": ""
             }
            },
            "type": "scattergl"
           }
          ],
          "scattermapbox": [
           {
            "marker": {
             "colorbar": {
              "outlinewidth": 0,
              "ticks": ""
             }
            },
            "type": "scattermapbox"
           }
          ],
          "scatterpolar": [
           {
            "marker": {
             "colorbar": {
              "outlinewidth": 0,
              "ticks": ""
             }
            },
            "type": "scatterpolar"
           }
          ],
          "scatterpolargl": [
           {
            "marker": {
             "colorbar": {
              "outlinewidth": 0,
              "ticks": ""
             }
            },
            "type": "scatterpolargl"
           }
          ],
          "scatterternary": [
           {
            "marker": {
             "colorbar": {
              "outlinewidth": 0,
              "ticks": ""
             }
            },
            "type": "scatterternary"
           }
          ],
          "surface": [
           {
            "colorbar": {
             "outlinewidth": 0,
             "ticks": ""
            },
            "colorscale": [
             [
              0,
              "#0d0887"
             ],
             [
              0.1111111111111111,
              "#46039f"
             ],
             [
              0.2222222222222222,
              "#7201a8"
             ],
             [
              0.3333333333333333,
              "#9c179e"
             ],
             [
              0.4444444444444444,
              "#bd3786"
             ],
             [
              0.5555555555555556,
              "#d8576b"
             ],
             [
              0.6666666666666666,
              "#ed7953"
             ],
             [
              0.7777777777777778,
              "#fb9f3a"
             ],
             [
              0.8888888888888888,
              "#fdca26"
             ],
             [
              1,
              "#f0f921"
             ]
            ],
            "type": "surface"
           }
          ],
          "table": [
           {
            "cells": {
             "fill": {
              "color": "#EBF0F8"
             },
             "line": {
              "color": "white"
             }
            },
            "header": {
             "fill": {
              "color": "#C8D4E3"
             },
             "line": {
              "color": "white"
             }
            },
            "type": "table"
           }
          ]
         },
         "layout": {
          "annotationdefaults": {
           "arrowcolor": "#2a3f5f",
           "arrowhead": 0,
           "arrowwidth": 1
          },
          "autotypenumbers": "strict",
          "coloraxis": {
           "colorbar": {
            "outlinewidth": 0,
            "ticks": ""
           }
          },
          "colorscale": {
           "diverging": [
            [
             0,
             "#8e0152"
            ],
            [
             0.1,
             "#c51b7d"
            ],
            [
             0.2,
             "#de77ae"
            ],
            [
             0.3,
             "#f1b6da"
            ],
            [
             0.4,
             "#fde0ef"
            ],
            [
             0.5,
             "#f7f7f7"
            ],
            [
             0.6,
             "#e6f5d0"
            ],
            [
             0.7,
             "#b8e186"
            ],
            [
             0.8,
             "#7fbc41"
            ],
            [
             0.9,
             "#4d9221"
            ],
            [
             1,
             "#276419"
            ]
           ],
           "sequential": [
            [
             0,
             "#0d0887"
            ],
            [
             0.1111111111111111,
             "#46039f"
            ],
            [
             0.2222222222222222,
             "#7201a8"
            ],
            [
             0.3333333333333333,
             "#9c179e"
            ],
            [
             0.4444444444444444,
             "#bd3786"
            ],
            [
             0.5555555555555556,
             "#d8576b"
            ],
            [
             0.6666666666666666,
             "#ed7953"
            ],
            [
             0.7777777777777778,
             "#fb9f3a"
            ],
            [
             0.8888888888888888,
             "#fdca26"
            ],
            [
             1,
             "#f0f921"
            ]
           ],
           "sequentialminus": [
            [
             0,
             "#0d0887"
            ],
            [
             0.1111111111111111,
             "#46039f"
            ],
            [
             0.2222222222222222,
             "#7201a8"
            ],
            [
             0.3333333333333333,
             "#9c179e"
            ],
            [
             0.4444444444444444,
             "#bd3786"
            ],
            [
             0.5555555555555556,
             "#d8576b"
            ],
            [
             0.6666666666666666,
             "#ed7953"
            ],
            [
             0.7777777777777778,
             "#fb9f3a"
            ],
            [
             0.8888888888888888,
             "#fdca26"
            ],
            [
             1,
             "#f0f921"
            ]
           ]
          },
          "colorway": [
           "#636efa",
           "#EF553B",
           "#00cc96",
           "#ab63fa",
           "#FFA15A",
           "#19d3f3",
           "#FF6692",
           "#B6E880",
           "#FF97FF",
           "#FECB52"
          ],
          "font": {
           "color": "#2a3f5f"
          },
          "geo": {
           "bgcolor": "white",
           "lakecolor": "white",
           "landcolor": "#E5ECF6",
           "showlakes": true,
           "showland": true,
           "subunitcolor": "white"
          },
          "hoverlabel": {
           "align": "left"
          },
          "hovermode": "closest",
          "mapbox": {
           "style": "light"
          },
          "paper_bgcolor": "white",
          "plot_bgcolor": "#E5ECF6",
          "polar": {
           "angularaxis": {
            "gridcolor": "white",
            "linecolor": "white",
            "ticks": ""
           },
           "bgcolor": "#E5ECF6",
           "radialaxis": {
            "gridcolor": "white",
            "linecolor": "white",
            "ticks": ""
           }
          },
          "scene": {
           "xaxis": {
            "backgroundcolor": "#E5ECF6",
            "gridcolor": "white",
            "gridwidth": 2,
            "linecolor": "white",
            "showbackground": true,
            "ticks": "",
            "zerolinecolor": "white"
           },
           "yaxis": {
            "backgroundcolor": "#E5ECF6",
            "gridcolor": "white",
            "gridwidth": 2,
            "linecolor": "white",
            "showbackground": true,
            "ticks": "",
            "zerolinecolor": "white"
           },
           "zaxis": {
            "backgroundcolor": "#E5ECF6",
            "gridcolor": "white",
            "gridwidth": 2,
            "linecolor": "white",
            "showbackground": true,
            "ticks": "",
            "zerolinecolor": "white"
           }
          },
          "shapedefaults": {
           "line": {
            "color": "#2a3f5f"
           }
          },
          "ternary": {
           "aaxis": {
            "gridcolor": "white",
            "linecolor": "white",
            "ticks": ""
           },
           "baxis": {
            "gridcolor": "white",
            "linecolor": "white",
            "ticks": ""
           },
           "bgcolor": "#E5ECF6",
           "caxis": {
            "gridcolor": "white",
            "linecolor": "white",
            "ticks": ""
           }
          },
          "title": {
           "x": 0.05
          },
          "xaxis": {
           "automargin": true,
           "gridcolor": "white",
           "linecolor": "white",
           "ticks": "",
           "title": {
            "standoff": 15
           },
           "zerolinecolor": "white",
           "zerolinewidth": 2
          },
          "yaxis": {
           "automargin": true,
           "gridcolor": "white",
           "linecolor": "white",
           "ticks": "",
           "title": {
            "standoff": 15
           },
           "zerolinecolor": "white",
           "zerolinewidth": 2
          }
         }
        },
        "width": 800
       }
      }
     },
     "metadata": {},
     "output_type": "display_data"
    }
   ],
   "source": [
    "xs = np.linspace(0.01, 5.0, 101)\n",
    "fig = go.Figure()\n",
    "fig.add_scatter(x = xs, y = exp_dist(xs, 1.5), name = \"PDF\")\n",
    "fig.add_scatter(x = xs, y = exp_cdf(xs, 1.5), name = \"CDF\")\n",
    "fig.update_layout(width = 800, height = 600)"
   ]
  },
  {
   "cell_type": "code",
   "execution_count": 10,
   "metadata": {},
   "outputs": [],
   "source": [
    "data_range = lambda x: np.linspace(np.min(x), np.max(x), 101)"
   ]
  },
  {
   "cell_type": "code",
   "execution_count": 11,
   "metadata": {},
   "outputs": [],
   "source": [
    "egamma_spl = PchipInterpolator(egamma[\"x\"], egamma[\" y\"])"
   ]
  },
  {
   "cell_type": "code",
   "execution_count": 12,
   "metadata": {},
   "outputs": [],
   "source": [
    "egamma_xs = data_range(egamma[\"x\"])"
   ]
  },
  {
   "cell_type": "code",
   "execution_count": 13,
   "metadata": {},
   "outputs": [
    {
     "data": {
      "text/plain": [
       "np.float64(0.444)"
      ]
     },
     "execution_count": 13,
     "metadata": {},
     "output_type": "execute_result"
    }
   ],
   "source": [
    "egamma_rate"
   ]
  },
  {
   "cell_type": "markdown",
   "metadata": {},
   "source": [
    "# Fit to EGamma L1T"
   ]
  },
  {
   "cell_type": "code",
   "execution_count": 14,
   "metadata": {},
   "outputs": [],
   "source": [
    "#fit to muon - minimize the difference between the trigger efficiency multiplied by the underlying distribution and the trigger rate\n",
    "egamma_fit = lambda l: np.abs(egamma_rate - quad(lambda x: exp_dist(x, l) * egamma_spl(x), np.min(egamma_xs), np.max(egamma_xs))[0])"
   ]
  },
  {
   "cell_type": "code",
   "execution_count": 15,
   "metadata": {},
   "outputs": [
    {
     "name": "stderr",
     "output_type": "stream",
     "text": [
      "/var/folders/qc/b4ggx3516_qc8fy84rgtp36c0000gq/T/ipykernel_89811/3527769200.py:2: IntegrationWarning:\n",
      "\n",
      "The maximum number of subdivisions (50) has been achieved.\n",
      "  If increasing the limit yields no improvement it is advised to analyze \n",
      "  the integrand in order to determine the difficulties.  If the position of a \n",
      "  local difficulty can be determined (singularity, discontinuity) one will \n",
      "  probably gain from splitting up the interval and calling the integrator \n",
      "  on the subranges.  Perhaps a special-purpose integrator should be used.\n",
      "\n"
     ]
    }
   ],
   "source": [
    "egamma_soln = minimize_scalar(egamma_fit, bounds = [0.00, 0.40], method=\"bounded\")\n",
    "egamma_l = egamma_soln.x"
   ]
  },
  {
   "cell_type": "code",
   "execution_count": 16,
   "metadata": {},
   "outputs": [
    {
     "data": {
      "text/plain": [
       " message: Solution found.\n",
       " success: True\n",
       "  status: 0\n",
       "     fun: 1.6358825408624433e-05\n",
       "       x: 0.02585292794736181\n",
       "     nit: 18\n",
       "    nfev: 18"
      ]
     },
     "execution_count": 16,
     "metadata": {},
     "output_type": "execute_result"
    }
   ],
   "source": [
    "egamma_soln"
   ]
  },
  {
   "cell_type": "code",
   "execution_count": 17,
   "metadata": {},
   "outputs": [],
   "source": [
    "egamma_threshold = 30\n",
    "egamma_ideal = lambda x: 1.0 * (x > egamma_threshold)"
   ]
  },
  {
   "cell_type": "code",
   "execution_count": 18,
   "metadata": {},
   "outputs": [
    {
     "data": {
      "application/vnd.plotly.v1+json": {
       "config": {
        "plotlyServerURL": "https://plot.ly"
       },
       "data": [
        {
         "name": "Data",
         "type": "scatter",
         "x": [
          1,
          5,
          9.579221636,
          11.07492321,
          13.58382789,
          16.57180808,
          18.95452704,
          20.99199313,
          22.87669237,
          25.06493087,
          26.8784921,
          28.51516218,
          29.60819293,
          30.74312126,
          31.58032313,
          32.61511417,
          33.50329448,
          34.60109543,
          35.54335832,
          36.51128106,
          37.70764458,
          39.15303755,
          40.43596339,
          41.98593708,
          44.06637757,
          47.50939098,
          54.92751672,
          64.8836624,
          84.88314657,
          150.0361919,
          251.323658,
          350.6906234,
          502.6706719,
          797.9646711
         ],
         "y": [
          0,
          0,
          0.007425743,
          0.011138614,
          0.016089109,
          0.018564356,
          0.01980198,
          0.021039604,
          0.022277228,
          0.030940594,
          0.064356436,
          0.14480198,
          0.306930693,
          0.543316832,
          0.719059406,
          0.813118812,
          0.86509901,
          0.892326733,
          0.909653465,
          0.920792079,
          0.928217822,
          0.933168317,
          0.938118812,
          0.941831683,
          0.946782178,
          0.952970297,
          0.964108911,
          0.972772277,
          0.978960396,
          0.986386139,
          0.992574257,
          0.995049505,
          0.995049505,
          0.997524752
         ]
        },
        {
         "name": "Interpolation",
         "type": "scatter",
         "x": [
          1,
          8.969646711,
          16.939293422,
          24.908940133,
          32.878586844,
          40.848233555,
          48.817880266,
          56.787526977,
          64.757173688,
          72.726820399,
          80.69646711,
          88.666113821,
          96.635760532,
          104.605407243,
          112.575053954,
          120.54470066500001,
          128.514347376,
          136.483994087,
          144.453640798,
          152.423287509,
          160.39293422,
          168.362580931,
          176.332227642,
          184.30187435300002,
          192.271521064,
          200.241167775,
          208.210814486,
          216.180461197,
          224.150107908,
          232.11975461900002,
          240.08940133000002,
          248.059048041,
          256.028694752,
          263.99834146300003,
          271.967988174,
          279.937634885,
          287.907281596,
          295.876928307,
          303.846575018,
          311.816221729,
          319.78586844,
          327.755515151,
          335.725161862,
          343.694808573,
          351.664455284,
          359.63410199500004,
          367.60374870600003,
          375.57339541700003,
          383.543042128,
          391.512688839,
          399.48233555,
          407.451982261,
          415.421628972,
          423.391275683,
          431.360922394,
          439.330569105,
          447.300215816,
          455.269862527,
          463.23950923800004,
          471.20915594900003,
          479.17880266000003,
          487.148449371,
          495.118096082,
          503.087742793,
          511.057389504,
          519.0270362150001,
          526.9966829260001,
          534.9663296370001,
          542.935976348,
          550.905623059,
          558.87526977,
          566.844916481,
          574.814563192,
          582.784209903,
          590.753856614,
          598.723503325,
          606.693150036,
          614.662796747,
          622.632443458,
          630.602090169,
          638.57173688,
          646.541383591,
          654.511030302,
          662.480677013,
          670.450323724,
          678.419970435,
          686.389617146,
          694.359263857,
          702.328910568,
          710.298557279,
          718.2682039900001,
          726.2378507010001,
          734.2074974120001,
          742.1771441230001,
          750.1467908340001,
          758.116437545,
          766.086084256,
          774.055730967,
          782.025377678,
          789.995024389,
          797.9646711
         ],
         "y": [
          0,
          0.006134315005656706,
          0.018783103060460746,
          0.029931265139215645,
          0.8314145995501592,
          0.9392363470080936,
          0.9551438307750767,
          0.9661397680421329,
          0.9727104460899111,
          0.9759388642117814,
          0.9781197426902725,
          0.9796245700381107,
          0.9808888284555517,
          0.9819905539727436,
          0.9829546189415632,
          0.9838058957138867,
          0.9845692566415909,
          0.9852695740765522,
          0.9859317203706474,
          0.986579436580726,
          0.9872122331459701,
          0.9878244561561446,
          0.9884144713527173,
          0.9889806444771557,
          0.9895213412709278,
          0.990034927475501,
          0.990519768832343,
          0.9909742310829218,
          0.9913966799687046,
          0.9917854812311594,
          0.9921390006117536,
          0.9924556038519552,
          0.9927412958027534,
          0.9930257724497409,
          0.9933083371685119,
          0.9935845367746653,
          0.9938499180838009,
          0.9941000279115177,
          0.9943304130734154,
          0.9945366203850935,
          0.994714196662151,
          0.9948586887201878,
          0.9949656433748029,
          0.9950306074415957,
          0.995049505,
          0.995049505,
          0.995049505,
          0.995049505,
          0.995049505,
          0.995049505,
          0.995049505,
          0.995049505,
          0.995049505,
          0.995049505,
          0.995049505,
          0.995049505,
          0.995049505,
          0.995049505,
          0.995049505,
          0.995049505,
          0.995049505,
          0.995049505,
          0.995049505,
          0.9950495116131867,
          0.9950521607739721,
          0.9950595367345266,
          0.9950715402892893,
          0.9950880722326993,
          0.9951090333591958,
          0.9951343244632175,
          0.9951638463392037,
          0.9951974997815934,
          0.9952351855848257,
          0.9952768045433396,
          0.9953222574515742,
          0.9953714451039686,
          0.9954242682949617,
          0.9954806278189928,
          0.9955404244705008,
          0.9956035590439247,
          0.9956699323337038,
          0.995739445134277,
          0.9958119982400834,
          0.995887492445562,
          0.9959658285451518,
          0.996046907333292,
          0.9961306296044217,
          0.9962168961529798,
          0.9963056077734055,
          0.9963966652601378,
          0.9964899694076157,
          0.9965854210102785,
          0.9966829208625648,
          0.9967823697589141,
          0.9968836684937653,
          0.9969867178615576,
          0.9970914186567297,
          0.9971976716737211,
          0.9973053777069705,
          0.9974144375509171,
          0.997524752
         ]
        },
        {
         "line": {
          "dash": "dash"
         },
         "name": "Ideal",
         "type": "scatter",
         "x": [
          1,
          8.969646711,
          16.939293422,
          24.908940133,
          32.878586844,
          40.848233555,
          48.817880266,
          56.787526977,
          64.757173688,
          72.726820399,
          80.69646711,
          88.666113821,
          96.635760532,
          104.605407243,
          112.575053954,
          120.54470066500001,
          128.514347376,
          136.483994087,
          144.453640798,
          152.423287509,
          160.39293422,
          168.362580931,
          176.332227642,
          184.30187435300002,
          192.271521064,
          200.241167775,
          208.210814486,
          216.180461197,
          224.150107908,
          232.11975461900002,
          240.08940133000002,
          248.059048041,
          256.028694752,
          263.99834146300003,
          271.967988174,
          279.937634885,
          287.907281596,
          295.876928307,
          303.846575018,
          311.816221729,
          319.78586844,
          327.755515151,
          335.725161862,
          343.694808573,
          351.664455284,
          359.63410199500004,
          367.60374870600003,
          375.57339541700003,
          383.543042128,
          391.512688839,
          399.48233555,
          407.451982261,
          415.421628972,
          423.391275683,
          431.360922394,
          439.330569105,
          447.300215816,
          455.269862527,
          463.23950923800004,
          471.20915594900003,
          479.17880266000003,
          487.148449371,
          495.118096082,
          503.087742793,
          511.057389504,
          519.0270362150001,
          526.9966829260001,
          534.9663296370001,
          542.935976348,
          550.905623059,
          558.87526977,
          566.844916481,
          574.814563192,
          582.784209903,
          590.753856614,
          598.723503325,
          606.693150036,
          614.662796747,
          622.632443458,
          630.602090169,
          638.57173688,
          646.541383591,
          654.511030302,
          662.480677013,
          670.450323724,
          678.419970435,
          686.389617146,
          694.359263857,
          702.328910568,
          710.298557279,
          718.2682039900001,
          726.2378507010001,
          734.2074974120001,
          742.1771441230001,
          750.1467908340001,
          758.116437545,
          766.086084256,
          774.055730967,
          782.025377678,
          789.995024389,
          797.9646711
         ],
         "y": [
          0,
          0,
          0,
          0,
          1,
          1,
          1,
          1,
          1,
          1,
          1,
          1,
          1,
          1,
          1,
          1,
          1,
          1,
          1,
          1,
          1,
          1,
          1,
          1,
          1,
          1,
          1,
          1,
          1,
          1,
          1,
          1,
          1,
          1,
          1,
          1,
          1,
          1,
          1,
          1,
          1,
          1,
          1,
          1,
          1,
          1,
          1,
          1,
          1,
          1,
          1,
          1,
          1,
          1,
          1,
          1,
          1,
          1,
          1,
          1,
          1,
          1,
          1,
          1,
          1,
          1,
          1,
          1,
          1,
          1,
          1,
          1,
          1,
          1,
          1,
          1,
          1,
          1,
          1,
          1,
          1,
          1,
          1,
          1,
          1,
          1,
          1,
          1,
          1,
          1,
          1,
          1,
          1,
          1,
          1,
          1,
          1,
          1,
          1,
          1,
          1
         ]
        },
        {
         "name": "Data Fit",
         "type": "scatter",
         "x": [
          1,
          8.969646711,
          16.939293422,
          24.908940133,
          32.878586844,
          40.848233555,
          48.817880266,
          56.787526977,
          64.757173688,
          72.726820399,
          80.69646711,
          88.666113821,
          96.635760532,
          104.605407243,
          112.575053954,
          120.54470066500001,
          128.514347376,
          136.483994087,
          144.453640798,
          152.423287509,
          160.39293422,
          168.362580931,
          176.332227642,
          184.30187435300002,
          192.271521064,
          200.241167775,
          208.210814486,
          216.180461197,
          224.150107908,
          232.11975461900002,
          240.08940133000002,
          248.059048041,
          256.028694752,
          263.99834146300003,
          271.967988174,
          279.937634885,
          287.907281596,
          295.876928307,
          303.846575018,
          311.816221729,
          319.78586844,
          327.755515151,
          335.725161862,
          343.694808573,
          351.664455284,
          359.63410199500004,
          367.60374870600003,
          375.57339541700003,
          383.543042128,
          391.512688839,
          399.48233555,
          407.451982261,
          415.421628972,
          423.391275683,
          431.360922394,
          439.330569105,
          447.300215816,
          455.269862527,
          463.23950923800004,
          471.20915594900003,
          479.17880266000003,
          487.148449371,
          495.118096082,
          503.087742793,
          511.057389504,
          519.0270362150001,
          526.9966829260001,
          534.9663296370001,
          542.935976348,
          550.905623059,
          558.87526977,
          566.844916481,
          574.814563192,
          582.784209903,
          590.753856614,
          598.723503325,
          606.693150036,
          614.662796747,
          622.632443458,
          630.602090169,
          638.57173688,
          646.541383591,
          654.511030302,
          662.480677013,
          670.450323724,
          678.419970435,
          686.389617146,
          694.359263857,
          702.328910568,
          710.298557279,
          718.2682039900001,
          726.2378507010001,
          734.2074974120001,
          742.1771441230001,
          750.1467908340001,
          758.116437545,
          766.086084256,
          774.055730967,
          782.025377678,
          789.995024389,
          797.9646711
         ],
         "y": [
          0.9744783976083781,
          0.7930320594291429,
          0.6453707427747096,
          0.5252037300098518,
          0.4274116251851118,
          0.34782825578933285,
          0.2830631840513258,
          0.2303572663567719,
          0.18746510727351584,
          0.15255940045165284,
          0.12415308109689938,
          0.10103597353044191,
          0.08222323487305783,
          0.06691339843380695,
          0.05445422935346611,
          0.04431493787321572,
          0.03606356644880093,
          0.029348587348311694,
          0.023883926748185624,
          0.019436777318875276,
          0.015817680087812258,
          0.012872453043818344,
          0.01047562262262347,
          0.008525078239405182,
          0.006937722138923186,
          0.005645929236687386,
          0.00459466613210735,
          0.0037391465568421545,
          0.003042923374963924,
          0.0024763358496762145,
          0.002015246026517037,
          0.0016400104000124927,
          0.0013346430543755838,
          0.001086134626084978,
          0.0008838980745550229,
          0.0007193176494318942,
          0.0005853818394668808,
          0.0004763846657289683,
          0.0003876825935502648,
          0.00031549670708197475,
          0.00025675171863681623,
          0.00020894495423628978,
          0.00017003973384321913,
          0.00013837860402599045,
          0.00011261272656315491,
          0.00009164441477982344,
          0.0000745803695252345,
          0.00006069362253968702,
          0.00004939256590508201,
          0.00004019574816260807,
          0.00003271136335492031,
          0.000026620559174794778,
          0.000021663853110864828,
          0.0000176300778856886,
          0.00001434738523486967,
          0.000011675924769805057,
          0.000009501886023000061,
          0.000007732649856317941,
          0.000006292842668953469,
          0.000005121125305262986,
          0.0000041675798636564565,
          0.0000033915830768282973,
          0.0000027600756659085235,
          0.0000022461539371798622,
          0.0000018279236224660877,
          0.0000014875671316971761,
          0.0000012105844817700273,
          9.851755636836046e-7,
          8.017374301116931e-7,
          6.524551872111317e-7,
          5.309690620514118e-7,
          4.321034615673014e-7,
          3.5164647960161943e-7,
          2.8617046066159446e-7,
          2.3288597295056945e-7,
          1.895229726489589e-7,
          1.5423409460701976e-7,
          1.255159498558811e-7,
          1.0214507828454344e-7,
          8.312582600034091e-8,
          6.764792859215163e-8,
          5.5051991076915385e-8,
          4.480139736973143e-8,
          3.6459447905201614e-8,
          2.9670756296340528e-8,
          2.4146108335010297e-8,
          1.9650141180882486e-8,
          1.599131593810199e-8,
          1.301375818218986e-8,
          1.0590616938976893e-8,
          8.618660785053578e-9,
          7.0138798102803435e-9,
          5.707906480800773e-9,
          4.645103302003406e-9,
          3.7801923813418625e-9,
          3.076326526851858e-9,
          2.5035193917943843e-9,
          2.0373680520435755e-9,
          1.6580132822241467e-9,
          1.3492938988335368e-9,
          1.0980575337882215e-9
         ]
        }
       ],
       "layout": {
        "height": 600,
        "template": {
         "data": {
          "bar": [
           {
            "error_x": {
             "color": "#2a3f5f"
            },
            "error_y": {
             "color": "#2a3f5f"
            },
            "marker": {
             "line": {
              "color": "#E5ECF6",
              "width": 0.5
             },
             "pattern": {
              "fillmode": "overlay",
              "size": 10,
              "solidity": 0.2
             }
            },
            "type": "bar"
           }
          ],
          "barpolar": [
           {
            "marker": {
             "line": {
              "color": "#E5ECF6",
              "width": 0.5
             },
             "pattern": {
              "fillmode": "overlay",
              "size": 10,
              "solidity": 0.2
             }
            },
            "type": "barpolar"
           }
          ],
          "carpet": [
           {
            "aaxis": {
             "endlinecolor": "#2a3f5f",
             "gridcolor": "white",
             "linecolor": "white",
             "minorgridcolor": "white",
             "startlinecolor": "#2a3f5f"
            },
            "baxis": {
             "endlinecolor": "#2a3f5f",
             "gridcolor": "white",
             "linecolor": "white",
             "minorgridcolor": "white",
             "startlinecolor": "#2a3f5f"
            },
            "type": "carpet"
           }
          ],
          "choropleth": [
           {
            "colorbar": {
             "outlinewidth": 0,
             "ticks": ""
            },
            "type": "choropleth"
           }
          ],
          "contour": [
           {
            "colorbar": {
             "outlinewidth": 0,
             "ticks": ""
            },
            "colorscale": [
             [
              0,
              "#0d0887"
             ],
             [
              0.1111111111111111,
              "#46039f"
             ],
             [
              0.2222222222222222,
              "#7201a8"
             ],
             [
              0.3333333333333333,
              "#9c179e"
             ],
             [
              0.4444444444444444,
              "#bd3786"
             ],
             [
              0.5555555555555556,
              "#d8576b"
             ],
             [
              0.6666666666666666,
              "#ed7953"
             ],
             [
              0.7777777777777778,
              "#fb9f3a"
             ],
             [
              0.8888888888888888,
              "#fdca26"
             ],
             [
              1,
              "#f0f921"
             ]
            ],
            "type": "contour"
           }
          ],
          "contourcarpet": [
           {
            "colorbar": {
             "outlinewidth": 0,
             "ticks": ""
            },
            "type": "contourcarpet"
           }
          ],
          "heatmap": [
           {
            "colorbar": {
             "outlinewidth": 0,
             "ticks": ""
            },
            "colorscale": [
             [
              0,
              "#0d0887"
             ],
             [
              0.1111111111111111,
              "#46039f"
             ],
             [
              0.2222222222222222,
              "#7201a8"
             ],
             [
              0.3333333333333333,
              "#9c179e"
             ],
             [
              0.4444444444444444,
              "#bd3786"
             ],
             [
              0.5555555555555556,
              "#d8576b"
             ],
             [
              0.6666666666666666,
              "#ed7953"
             ],
             [
              0.7777777777777778,
              "#fb9f3a"
             ],
             [
              0.8888888888888888,
              "#fdca26"
             ],
             [
              1,
              "#f0f921"
             ]
            ],
            "type": "heatmap"
           }
          ],
          "heatmapgl": [
           {
            "colorbar": {
             "outlinewidth": 0,
             "ticks": ""
            },
            "colorscale": [
             [
              0,
              "#0d0887"
             ],
             [
              0.1111111111111111,
              "#46039f"
             ],
             [
              0.2222222222222222,
              "#7201a8"
             ],
             [
              0.3333333333333333,
              "#9c179e"
             ],
             [
              0.4444444444444444,
              "#bd3786"
             ],
             [
              0.5555555555555556,
              "#d8576b"
             ],
             [
              0.6666666666666666,
              "#ed7953"
             ],
             [
              0.7777777777777778,
              "#fb9f3a"
             ],
             [
              0.8888888888888888,
              "#fdca26"
             ],
             [
              1,
              "#f0f921"
             ]
            ],
            "type": "heatmapgl"
           }
          ],
          "histogram": [
           {
            "marker": {
             "pattern": {
              "fillmode": "overlay",
              "size": 10,
              "solidity": 0.2
             }
            },
            "type": "histogram"
           }
          ],
          "histogram2d": [
           {
            "colorbar": {
             "outlinewidth": 0,
             "ticks": ""
            },
            "colorscale": [
             [
              0,
              "#0d0887"
             ],
             [
              0.1111111111111111,
              "#46039f"
             ],
             [
              0.2222222222222222,
              "#7201a8"
             ],
             [
              0.3333333333333333,
              "#9c179e"
             ],
             [
              0.4444444444444444,
              "#bd3786"
             ],
             [
              0.5555555555555556,
              "#d8576b"
             ],
             [
              0.6666666666666666,
              "#ed7953"
             ],
             [
              0.7777777777777778,
              "#fb9f3a"
             ],
             [
              0.8888888888888888,
              "#fdca26"
             ],
             [
              1,
              "#f0f921"
             ]
            ],
            "type": "histogram2d"
           }
          ],
          "histogram2dcontour": [
           {
            "colorbar": {
             "outlinewidth": 0,
             "ticks": ""
            },
            "colorscale": [
             [
              0,
              "#0d0887"
             ],
             [
              0.1111111111111111,
              "#46039f"
             ],
             [
              0.2222222222222222,
              "#7201a8"
             ],
             [
              0.3333333333333333,
              "#9c179e"
             ],
             [
              0.4444444444444444,
              "#bd3786"
             ],
             [
              0.5555555555555556,
              "#d8576b"
             ],
             [
              0.6666666666666666,
              "#ed7953"
             ],
             [
              0.7777777777777778,
              "#fb9f3a"
             ],
             [
              0.8888888888888888,
              "#fdca26"
             ],
             [
              1,
              "#f0f921"
             ]
            ],
            "type": "histogram2dcontour"
           }
          ],
          "mesh3d": [
           {
            "colorbar": {
             "outlinewidth": 0,
             "ticks": ""
            },
            "type": "mesh3d"
           }
          ],
          "parcoords": [
           {
            "line": {
             "colorbar": {
              "outlinewidth": 0,
              "ticks": ""
             }
            },
            "type": "parcoords"
           }
          ],
          "pie": [
           {
            "automargin": true,
            "type": "pie"
           }
          ],
          "scatter": [
           {
            "fillpattern": {
             "fillmode": "overlay",
             "size": 10,
             "solidity": 0.2
            },
            "type": "scatter"
           }
          ],
          "scatter3d": [
           {
            "line": {
             "colorbar": {
              "outlinewidth": 0,
              "ticks": ""
             }
            },
            "marker": {
             "colorbar": {
              "outlinewidth": 0,
              "ticks": ""
             }
            },
            "type": "scatter3d"
           }
          ],
          "scattercarpet": [
           {
            "marker": {
             "colorbar": {
              "outlinewidth": 0,
              "ticks": ""
             }
            },
            "type": "scattercarpet"
           }
          ],
          "scattergeo": [
           {
            "marker": {
             "colorbar": {
              "outlinewidth": 0,
              "ticks": ""
             }
            },
            "type": "scattergeo"
           }
          ],
          "scattergl": [
           {
            "marker": {
             "colorbar": {
              "outlinewidth": 0,
              "ticks": ""
             }
            },
            "type": "scattergl"
           }
          ],
          "scattermapbox": [
           {
            "marker": {
             "colorbar": {
              "outlinewidth": 0,
              "ticks": ""
             }
            },
            "type": "scattermapbox"
           }
          ],
          "scatterpolar": [
           {
            "marker": {
             "colorbar": {
              "outlinewidth": 0,
              "ticks": ""
             }
            },
            "type": "scatterpolar"
           }
          ],
          "scatterpolargl": [
           {
            "marker": {
             "colorbar": {
              "outlinewidth": 0,
              "ticks": ""
             }
            },
            "type": "scatterpolargl"
           }
          ],
          "scatterternary": [
           {
            "marker": {
             "colorbar": {
              "outlinewidth": 0,
              "ticks": ""
             }
            },
            "type": "scatterternary"
           }
          ],
          "surface": [
           {
            "colorbar": {
             "outlinewidth": 0,
             "ticks": ""
            },
            "colorscale": [
             [
              0,
              "#0d0887"
             ],
             [
              0.1111111111111111,
              "#46039f"
             ],
             [
              0.2222222222222222,
              "#7201a8"
             ],
             [
              0.3333333333333333,
              "#9c179e"
             ],
             [
              0.4444444444444444,
              "#bd3786"
             ],
             [
              0.5555555555555556,
              "#d8576b"
             ],
             [
              0.6666666666666666,
              "#ed7953"
             ],
             [
              0.7777777777777778,
              "#fb9f3a"
             ],
             [
              0.8888888888888888,
              "#fdca26"
             ],
             [
              1,
              "#f0f921"
             ]
            ],
            "type": "surface"
           }
          ],
          "table": [
           {
            "cells": {
             "fill": {
              "color": "#EBF0F8"
             },
             "line": {
              "color": "white"
             }
            },
            "header": {
             "fill": {
              "color": "#C8D4E3"
             },
             "line": {
              "color": "white"
             }
            },
            "type": "table"
           }
          ]
         },
         "layout": {
          "annotationdefaults": {
           "arrowcolor": "#2a3f5f",
           "arrowhead": 0,
           "arrowwidth": 1
          },
          "autotypenumbers": "strict",
          "coloraxis": {
           "colorbar": {
            "outlinewidth": 0,
            "ticks": ""
           }
          },
          "colorscale": {
           "diverging": [
            [
             0,
             "#8e0152"
            ],
            [
             0.1,
             "#c51b7d"
            ],
            [
             0.2,
             "#de77ae"
            ],
            [
             0.3,
             "#f1b6da"
            ],
            [
             0.4,
             "#fde0ef"
            ],
            [
             0.5,
             "#f7f7f7"
            ],
            [
             0.6,
             "#e6f5d0"
            ],
            [
             0.7,
             "#b8e186"
            ],
            [
             0.8,
             "#7fbc41"
            ],
            [
             0.9,
             "#4d9221"
            ],
            [
             1,
             "#276419"
            ]
           ],
           "sequential": [
            [
             0,
             "#0d0887"
            ],
            [
             0.1111111111111111,
             "#46039f"
            ],
            [
             0.2222222222222222,
             "#7201a8"
            ],
            [
             0.3333333333333333,
             "#9c179e"
            ],
            [
             0.4444444444444444,
             "#bd3786"
            ],
            [
             0.5555555555555556,
             "#d8576b"
            ],
            [
             0.6666666666666666,
             "#ed7953"
            ],
            [
             0.7777777777777778,
             "#fb9f3a"
            ],
            [
             0.8888888888888888,
             "#fdca26"
            ],
            [
             1,
             "#f0f921"
            ]
           ],
           "sequentialminus": [
            [
             0,
             "#0d0887"
            ],
            [
             0.1111111111111111,
             "#46039f"
            ],
            [
             0.2222222222222222,
             "#7201a8"
            ],
            [
             0.3333333333333333,
             "#9c179e"
            ],
            [
             0.4444444444444444,
             "#bd3786"
            ],
            [
             0.5555555555555556,
             "#d8576b"
            ],
            [
             0.6666666666666666,
             "#ed7953"
            ],
            [
             0.7777777777777778,
             "#fb9f3a"
            ],
            [
             0.8888888888888888,
             "#fdca26"
            ],
            [
             1,
             "#f0f921"
            ]
           ]
          },
          "colorway": [
           "#636efa",
           "#EF553B",
           "#00cc96",
           "#ab63fa",
           "#FFA15A",
           "#19d3f3",
           "#FF6692",
           "#B6E880",
           "#FF97FF",
           "#FECB52"
          ],
          "font": {
           "color": "#2a3f5f"
          },
          "geo": {
           "bgcolor": "white",
           "lakecolor": "white",
           "landcolor": "#E5ECF6",
           "showlakes": true,
           "showland": true,
           "subunitcolor": "white"
          },
          "hoverlabel": {
           "align": "left"
          },
          "hovermode": "closest",
          "mapbox": {
           "style": "light"
          },
          "paper_bgcolor": "white",
          "plot_bgcolor": "#E5ECF6",
          "polar": {
           "angularaxis": {
            "gridcolor": "white",
            "linecolor": "white",
            "ticks": ""
           },
           "bgcolor": "#E5ECF6",
           "radialaxis": {
            "gridcolor": "white",
            "linecolor": "white",
            "ticks": ""
           }
          },
          "scene": {
           "xaxis": {
            "backgroundcolor": "#E5ECF6",
            "gridcolor": "white",
            "gridwidth": 2,
            "linecolor": "white",
            "showbackground": true,
            "ticks": "",
            "zerolinecolor": "white"
           },
           "yaxis": {
            "backgroundcolor": "#E5ECF6",
            "gridcolor": "white",
            "gridwidth": 2,
            "linecolor": "white",
            "showbackground": true,
            "ticks": "",
            "zerolinecolor": "white"
           },
           "zaxis": {
            "backgroundcolor": "#E5ECF6",
            "gridcolor": "white",
            "gridwidth": 2,
            "linecolor": "white",
            "showbackground": true,
            "ticks": "",
            "zerolinecolor": "white"
           }
          },
          "shapedefaults": {
           "line": {
            "color": "#2a3f5f"
           }
          },
          "ternary": {
           "aaxis": {
            "gridcolor": "white",
            "linecolor": "white",
            "ticks": ""
           },
           "baxis": {
            "gridcolor": "white",
            "linecolor": "white",
            "ticks": ""
           },
           "bgcolor": "#E5ECF6",
           "caxis": {
            "gridcolor": "white",
            "linecolor": "white",
            "ticks": ""
           }
          },
          "title": {
           "x": 0.05
          },
          "xaxis": {
           "automargin": true,
           "gridcolor": "white",
           "linecolor": "white",
           "ticks": "",
           "title": {
            "standoff": 15
           },
           "zerolinecolor": "white",
           "zerolinewidth": 2
          },
          "yaxis": {
           "automargin": true,
           "gridcolor": "white",
           "linecolor": "white",
           "ticks": "",
           "title": {
            "standoff": 15
           },
           "zerolinecolor": "white",
           "zerolinewidth": 2
          }
         }
        },
        "title": {
         "text": "e-gamma L1T efficiency"
        },
        "width": 800,
        "xaxis": {
         "title": {
          "text": "Momentum (GeV)"
         },
         "type": "log"
        },
        "yaxis": {
         "title": {
          "text": "Efficiency"
         }
        }
       }
      }
     },
     "metadata": {},
     "output_type": "display_data"
    }
   ],
   "source": [
    "fig = go.Figure()\n",
    "fig.add_scatter(x = egamma[\"x\"], y = egamma[\" y\"], name=\"Data\")\n",
    "fig.add_scatter(x = egamma_xs, y = egamma_spl(egamma_xs), name=\"Interpolation\")\n",
    "fig.add_scatter(x = egamma_xs, y = egamma_ideal(egamma_xs), name = \"Ideal\", line_dash=\"dash\")\n",
    "fig.add_scatter(x = egamma_xs, y = 1.0 - exp_cdf(egamma_xs, egamma_l), name = \"Data Fit\")\n",
    "fig.update_layout(width = 800,\n",
    "                  height = 600,\n",
    "                  title = \"e-gamma L1T efficiency\",\n",
    "                  xaxis_title = \"Momentum (GeV)\",\n",
    "                  yaxis_title = \"Efficiency\",\n",
    "                  )\n",
    "fig.update_xaxes(type = \"log\")"
   ]
  },
  {
   "cell_type": "code",
   "execution_count": 19,
   "metadata": {},
   "outputs": [
    {
     "data": {
      "application/vnd.plotly.v1+json": {
       "config": {
        "plotlyServerURL": "https://plot.ly"
       },
       "data": [
        {
         "name": "Data",
         "type": "scatter",
         "x": [
          1,
          5,
          9.579221636,
          11.07492321,
          13.58382789,
          16.57180808,
          18.95452704,
          20.99199313,
          22.87669237,
          25.06493087,
          26.8784921,
          28.51516218,
          29.60819293,
          30.74312126,
          31.58032313,
          32.61511417,
          33.50329448,
          34.60109543,
          35.54335832,
          36.51128106,
          37.70764458,
          39.15303755,
          40.43596339,
          41.98593708,
          44.06637757,
          47.50939098,
          54.92751672,
          64.8836624,
          84.88314657,
          150.0361919,
          251.323658,
          350.6906234,
          502.6706719,
          797.9646711
         ],
         "y": [
          0,
          0,
          0.007425743,
          0.011138614,
          0.016089109,
          0.018564356,
          0.01980198,
          0.021039604,
          0.022277228,
          0.030940594,
          0.064356436,
          0.14480198,
          0.306930693,
          0.543316832,
          0.719059406,
          0.813118812,
          0.86509901,
          0.892326733,
          0.909653465,
          0.920792079,
          0.928217822,
          0.933168317,
          0.938118812,
          0.941831683,
          0.946782178,
          0.952970297,
          0.964108911,
          0.972772277,
          0.978960396,
          0.986386139,
          0.992574257,
          0.995049505,
          0.995049505,
          0.997524752
         ]
        },
        {
         "name": "Interpolation",
         "type": "scatter",
         "x": [
          1,
          8.969646711,
          16.939293422,
          24.908940133,
          32.878586844,
          40.848233555,
          48.817880266,
          56.787526977,
          64.757173688,
          72.726820399,
          80.69646711,
          88.666113821,
          96.635760532,
          104.605407243,
          112.575053954,
          120.54470066500001,
          128.514347376,
          136.483994087,
          144.453640798,
          152.423287509,
          160.39293422,
          168.362580931,
          176.332227642,
          184.30187435300002,
          192.271521064,
          200.241167775,
          208.210814486,
          216.180461197,
          224.150107908,
          232.11975461900002,
          240.08940133000002,
          248.059048041,
          256.028694752,
          263.99834146300003,
          271.967988174,
          279.937634885,
          287.907281596,
          295.876928307,
          303.846575018,
          311.816221729,
          319.78586844,
          327.755515151,
          335.725161862,
          343.694808573,
          351.664455284,
          359.63410199500004,
          367.60374870600003,
          375.57339541700003,
          383.543042128,
          391.512688839,
          399.48233555,
          407.451982261,
          415.421628972,
          423.391275683,
          431.360922394,
          439.330569105,
          447.300215816,
          455.269862527,
          463.23950923800004,
          471.20915594900003,
          479.17880266000003,
          487.148449371,
          495.118096082,
          503.087742793,
          511.057389504,
          519.0270362150001,
          526.9966829260001,
          534.9663296370001,
          542.935976348,
          550.905623059,
          558.87526977,
          566.844916481,
          574.814563192,
          582.784209903,
          590.753856614,
          598.723503325,
          606.693150036,
          614.662796747,
          622.632443458,
          630.602090169,
          638.57173688,
          646.541383591,
          654.511030302,
          662.480677013,
          670.450323724,
          678.419970435,
          686.389617146,
          694.359263857,
          702.328910568,
          710.298557279,
          718.2682039900001,
          726.2378507010001,
          734.2074974120001,
          742.1771441230001,
          750.1467908340001,
          758.116437545,
          766.086084256,
          774.055730967,
          782.025377678,
          789.995024389,
          797.9646711
         ],
         "y": [
          0,
          0.006134315005656706,
          0.018783103060460746,
          0.029931265139215645,
          0.8314145995501592,
          0.9392363470080936,
          0.9551438307750767,
          0.9661397680421329,
          0.9727104460899111,
          0.9759388642117814,
          0.9781197426902725,
          0.9796245700381107,
          0.9808888284555517,
          0.9819905539727436,
          0.9829546189415632,
          0.9838058957138867,
          0.9845692566415909,
          0.9852695740765522,
          0.9859317203706474,
          0.986579436580726,
          0.9872122331459701,
          0.9878244561561446,
          0.9884144713527173,
          0.9889806444771557,
          0.9895213412709278,
          0.990034927475501,
          0.990519768832343,
          0.9909742310829218,
          0.9913966799687046,
          0.9917854812311594,
          0.9921390006117536,
          0.9924556038519552,
          0.9927412958027534,
          0.9930257724497409,
          0.9933083371685119,
          0.9935845367746653,
          0.9938499180838009,
          0.9941000279115177,
          0.9943304130734154,
          0.9945366203850935,
          0.994714196662151,
          0.9948586887201878,
          0.9949656433748029,
          0.9950306074415957,
          0.995049505,
          0.995049505,
          0.995049505,
          0.995049505,
          0.995049505,
          0.995049505,
          0.995049505,
          0.995049505,
          0.995049505,
          0.995049505,
          0.995049505,
          0.995049505,
          0.995049505,
          0.995049505,
          0.995049505,
          0.995049505,
          0.995049505,
          0.995049505,
          0.995049505,
          0.9950495116131867,
          0.9950521607739721,
          0.9950595367345266,
          0.9950715402892893,
          0.9950880722326993,
          0.9951090333591958,
          0.9951343244632175,
          0.9951638463392037,
          0.9951974997815934,
          0.9952351855848257,
          0.9952768045433396,
          0.9953222574515742,
          0.9953714451039686,
          0.9954242682949617,
          0.9954806278189928,
          0.9955404244705008,
          0.9956035590439247,
          0.9956699323337038,
          0.995739445134277,
          0.9958119982400834,
          0.995887492445562,
          0.9959658285451518,
          0.996046907333292,
          0.9961306296044217,
          0.9962168961529798,
          0.9963056077734055,
          0.9963966652601378,
          0.9964899694076157,
          0.9965854210102785,
          0.9966829208625648,
          0.9967823697589141,
          0.9968836684937653,
          0.9969867178615576,
          0.9970914186567297,
          0.9971976716737211,
          0.9973053777069705,
          0.9974144375509171,
          0.997524752
         ]
        },
        {
         "line": {
          "dash": "dash"
         },
         "name": "Ideal",
         "type": "scatter",
         "x": [
          1,
          8.969646711,
          16.939293422,
          24.908940133,
          32.878586844,
          40.848233555,
          48.817880266,
          56.787526977,
          64.757173688,
          72.726820399,
          80.69646711,
          88.666113821,
          96.635760532,
          104.605407243,
          112.575053954,
          120.54470066500001,
          128.514347376,
          136.483994087,
          144.453640798,
          152.423287509,
          160.39293422,
          168.362580931,
          176.332227642,
          184.30187435300002,
          192.271521064,
          200.241167775,
          208.210814486,
          216.180461197,
          224.150107908,
          232.11975461900002,
          240.08940133000002,
          248.059048041,
          256.028694752,
          263.99834146300003,
          271.967988174,
          279.937634885,
          287.907281596,
          295.876928307,
          303.846575018,
          311.816221729,
          319.78586844,
          327.755515151,
          335.725161862,
          343.694808573,
          351.664455284,
          359.63410199500004,
          367.60374870600003,
          375.57339541700003,
          383.543042128,
          391.512688839,
          399.48233555,
          407.451982261,
          415.421628972,
          423.391275683,
          431.360922394,
          439.330569105,
          447.300215816,
          455.269862527,
          463.23950923800004,
          471.20915594900003,
          479.17880266000003,
          487.148449371,
          495.118096082,
          503.087742793,
          511.057389504,
          519.0270362150001,
          526.9966829260001,
          534.9663296370001,
          542.935976348,
          550.905623059,
          558.87526977,
          566.844916481,
          574.814563192,
          582.784209903,
          590.753856614,
          598.723503325,
          606.693150036,
          614.662796747,
          622.632443458,
          630.602090169,
          638.57173688,
          646.541383591,
          654.511030302,
          662.480677013,
          670.450323724,
          678.419970435,
          686.389617146,
          694.359263857,
          702.328910568,
          710.298557279,
          718.2682039900001,
          726.2378507010001,
          734.2074974120001,
          742.1771441230001,
          750.1467908340001,
          758.116437545,
          766.086084256,
          774.055730967,
          782.025377678,
          789.995024389,
          797.9646711
         ],
         "y": [
          0,
          0,
          0,
          0,
          1,
          1,
          1,
          1,
          1,
          1,
          1,
          1,
          1,
          1,
          1,
          1,
          1,
          1,
          1,
          1,
          1,
          1,
          1,
          1,
          1,
          1,
          1,
          1,
          1,
          1,
          1,
          1,
          1,
          1,
          1,
          1,
          1,
          1,
          1,
          1,
          1,
          1,
          1,
          1,
          1,
          1,
          1,
          1,
          1,
          1,
          1,
          1,
          1,
          1,
          1,
          1,
          1,
          1,
          1,
          1,
          1,
          1,
          1,
          1,
          1,
          1,
          1,
          1,
          1,
          1,
          1,
          1,
          1,
          1,
          1,
          1,
          1,
          1,
          1,
          1,
          1,
          1,
          1,
          1,
          1,
          1,
          1,
          1,
          1,
          1,
          1,
          1,
          1,
          1,
          1,
          1,
          1,
          1,
          1,
          1,
          1
         ]
        },
        {
         "name": "Data Fit",
         "type": "scatter",
         "x": [
          1,
          8.969646711,
          16.939293422,
          24.908940133,
          32.878586844,
          40.848233555,
          48.817880266,
          56.787526977,
          64.757173688,
          72.726820399,
          80.69646711,
          88.666113821,
          96.635760532,
          104.605407243,
          112.575053954,
          120.54470066500001,
          128.514347376,
          136.483994087,
          144.453640798,
          152.423287509,
          160.39293422,
          168.362580931,
          176.332227642,
          184.30187435300002,
          192.271521064,
          200.241167775,
          208.210814486,
          216.180461197,
          224.150107908,
          232.11975461900002,
          240.08940133000002,
          248.059048041,
          256.028694752,
          263.99834146300003,
          271.967988174,
          279.937634885,
          287.907281596,
          295.876928307,
          303.846575018,
          311.816221729,
          319.78586844,
          327.755515151,
          335.725161862,
          343.694808573,
          351.664455284,
          359.63410199500004,
          367.60374870600003,
          375.57339541700003,
          383.543042128,
          391.512688839,
          399.48233555,
          407.451982261,
          415.421628972,
          423.391275683,
          431.360922394,
          439.330569105,
          447.300215816,
          455.269862527,
          463.23950923800004,
          471.20915594900003,
          479.17880266000003,
          487.148449371,
          495.118096082,
          503.087742793,
          511.057389504,
          519.0270362150001,
          526.9966829260001,
          534.9663296370001,
          542.935976348,
          550.905623059,
          558.87526977,
          566.844916481,
          574.814563192,
          582.784209903,
          590.753856614,
          598.723503325,
          606.693150036,
          614.662796747,
          622.632443458,
          630.602090169,
          638.57173688,
          646.541383591,
          654.511030302,
          662.480677013,
          670.450323724,
          678.419970435,
          686.389617146,
          694.359263857,
          702.328910568,
          710.298557279,
          718.2682039900001,
          726.2378507010001,
          734.2074974120001,
          742.1771441230001,
          750.1467908340001,
          758.116437545,
          766.086084256,
          774.055730967,
          782.025377678,
          789.995024389,
          797.9646711
         ],
         "y": [
          0.9744783976083781,
          0.7930320594291429,
          0.6453707427747096,
          0.5252037300098518,
          0.4274116251851118,
          0.34782825578933285,
          0.2830631840513258,
          0.2303572663567719,
          0.18746510727351584,
          0.15255940045165284,
          0.12415308109689938,
          0.10103597353044191,
          0.08222323487305783,
          0.06691339843380695,
          0.05445422935346611,
          0.04431493787321572,
          0.03606356644880093,
          0.029348587348311694,
          0.023883926748185624,
          0.019436777318875276,
          0.015817680087812258,
          0.012872453043818344,
          0.01047562262262347,
          0.008525078239405182,
          0.006937722138923186,
          0.005645929236687386,
          0.00459466613210735,
          0.0037391465568421545,
          0.003042923374963924,
          0.0024763358496762145,
          0.002015246026517037,
          0.0016400104000124927,
          0.0013346430543755838,
          0.001086134626084978,
          0.0008838980745550229,
          0.0007193176494318942,
          0.0005853818394668808,
          0.0004763846657289683,
          0.0003876825935502648,
          0.00031549670708197475,
          0.00025675171863681623,
          0.00020894495423628978,
          0.00017003973384321913,
          0.00013837860402599045,
          0.00011261272656315491,
          0.00009164441477982344,
          0.0000745803695252345,
          0.00006069362253968702,
          0.00004939256590508201,
          0.00004019574816260807,
          0.00003271136335492031,
          0.000026620559174794778,
          0.000021663853110864828,
          0.0000176300778856886,
          0.00001434738523486967,
          0.000011675924769805057,
          0.000009501886023000061,
          0.000007732649856317941,
          0.000006292842668953469,
          0.000005121125305262986,
          0.0000041675798636564565,
          0.0000033915830768282973,
          0.0000027600756659085235,
          0.0000022461539371798622,
          0.0000018279236224660877,
          0.0000014875671316971761,
          0.0000012105844817700273,
          9.851755636836046e-7,
          8.017374301116931e-7,
          6.524551872111317e-7,
          5.309690620514118e-7,
          4.321034615673014e-7,
          3.5164647960161943e-7,
          2.8617046066159446e-7,
          2.3288597295056945e-7,
          1.895229726489589e-7,
          1.5423409460701976e-7,
          1.255159498558811e-7,
          1.0214507828454344e-7,
          8.312582600034091e-8,
          6.764792859215163e-8,
          5.5051991076915385e-8,
          4.480139736973143e-8,
          3.6459447905201614e-8,
          2.9670756296340528e-8,
          2.4146108335010297e-8,
          1.9650141180882486e-8,
          1.599131593810199e-8,
          1.301375818218986e-8,
          1.0590616938976893e-8,
          8.618660785053578e-9,
          7.0138798102803435e-9,
          5.707906480800773e-9,
          4.645103302003406e-9,
          3.7801923813418625e-9,
          3.076326526851858e-9,
          2.5035193917943843e-9,
          2.0373680520435755e-9,
          1.6580132822241467e-9,
          1.3492938988335368e-9,
          1.0980575337882215e-9
         ]
        }
       ],
       "layout": {
        "height": 600,
        "template": {
         "data": {
          "bar": [
           {
            "error_x": {
             "color": "#2a3f5f"
            },
            "error_y": {
             "color": "#2a3f5f"
            },
            "marker": {
             "line": {
              "color": "#E5ECF6",
              "width": 0.5
             },
             "pattern": {
              "fillmode": "overlay",
              "size": 10,
              "solidity": 0.2
             }
            },
            "type": "bar"
           }
          ],
          "barpolar": [
           {
            "marker": {
             "line": {
              "color": "#E5ECF6",
              "width": 0.5
             },
             "pattern": {
              "fillmode": "overlay",
              "size": 10,
              "solidity": 0.2
             }
            },
            "type": "barpolar"
           }
          ],
          "carpet": [
           {
            "aaxis": {
             "endlinecolor": "#2a3f5f",
             "gridcolor": "white",
             "linecolor": "white",
             "minorgridcolor": "white",
             "startlinecolor": "#2a3f5f"
            },
            "baxis": {
             "endlinecolor": "#2a3f5f",
             "gridcolor": "white",
             "linecolor": "white",
             "minorgridcolor": "white",
             "startlinecolor": "#2a3f5f"
            },
            "type": "carpet"
           }
          ],
          "choropleth": [
           {
            "colorbar": {
             "outlinewidth": 0,
             "ticks": ""
            },
            "type": "choropleth"
           }
          ],
          "contour": [
           {
            "colorbar": {
             "outlinewidth": 0,
             "ticks": ""
            },
            "colorscale": [
             [
              0,
              "#0d0887"
             ],
             [
              0.1111111111111111,
              "#46039f"
             ],
             [
              0.2222222222222222,
              "#7201a8"
             ],
             [
              0.3333333333333333,
              "#9c179e"
             ],
             [
              0.4444444444444444,
              "#bd3786"
             ],
             [
              0.5555555555555556,
              "#d8576b"
             ],
             [
              0.6666666666666666,
              "#ed7953"
             ],
             [
              0.7777777777777778,
              "#fb9f3a"
             ],
             [
              0.8888888888888888,
              "#fdca26"
             ],
             [
              1,
              "#f0f921"
             ]
            ],
            "type": "contour"
           }
          ],
          "contourcarpet": [
           {
            "colorbar": {
             "outlinewidth": 0,
             "ticks": ""
            },
            "type": "contourcarpet"
           }
          ],
          "heatmap": [
           {
            "colorbar": {
             "outlinewidth": 0,
             "ticks": ""
            },
            "colorscale": [
             [
              0,
              "#0d0887"
             ],
             [
              0.1111111111111111,
              "#46039f"
             ],
             [
              0.2222222222222222,
              "#7201a8"
             ],
             [
              0.3333333333333333,
              "#9c179e"
             ],
             [
              0.4444444444444444,
              "#bd3786"
             ],
             [
              0.5555555555555556,
              "#d8576b"
             ],
             [
              0.6666666666666666,
              "#ed7953"
             ],
             [
              0.7777777777777778,
              "#fb9f3a"
             ],
             [
              0.8888888888888888,
              "#fdca26"
             ],
             [
              1,
              "#f0f921"
             ]
            ],
            "type": "heatmap"
           }
          ],
          "heatmapgl": [
           {
            "colorbar": {
             "outlinewidth": 0,
             "ticks": ""
            },
            "colorscale": [
             [
              0,
              "#0d0887"
             ],
             [
              0.1111111111111111,
              "#46039f"
             ],
             [
              0.2222222222222222,
              "#7201a8"
             ],
             [
              0.3333333333333333,
              "#9c179e"
             ],
             [
              0.4444444444444444,
              "#bd3786"
             ],
             [
              0.5555555555555556,
              "#d8576b"
             ],
             [
              0.6666666666666666,
              "#ed7953"
             ],
             [
              0.7777777777777778,
              "#fb9f3a"
             ],
             [
              0.8888888888888888,
              "#fdca26"
             ],
             [
              1,
              "#f0f921"
             ]
            ],
            "type": "heatmapgl"
           }
          ],
          "histogram": [
           {
            "marker": {
             "pattern": {
              "fillmode": "overlay",
              "size": 10,
              "solidity": 0.2
             }
            },
            "type": "histogram"
           }
          ],
          "histogram2d": [
           {
            "colorbar": {
             "outlinewidth": 0,
             "ticks": ""
            },
            "colorscale": [
             [
              0,
              "#0d0887"
             ],
             [
              0.1111111111111111,
              "#46039f"
             ],
             [
              0.2222222222222222,
              "#7201a8"
             ],
             [
              0.3333333333333333,
              "#9c179e"
             ],
             [
              0.4444444444444444,
              "#bd3786"
             ],
             [
              0.5555555555555556,
              "#d8576b"
             ],
             [
              0.6666666666666666,
              "#ed7953"
             ],
             [
              0.7777777777777778,
              "#fb9f3a"
             ],
             [
              0.8888888888888888,
              "#fdca26"
             ],
             [
              1,
              "#f0f921"
             ]
            ],
            "type": "histogram2d"
           }
          ],
          "histogram2dcontour": [
           {
            "colorbar": {
             "outlinewidth": 0,
             "ticks": ""
            },
            "colorscale": [
             [
              0,
              "#0d0887"
             ],
             [
              0.1111111111111111,
              "#46039f"
             ],
             [
              0.2222222222222222,
              "#7201a8"
             ],
             [
              0.3333333333333333,
              "#9c179e"
             ],
             [
              0.4444444444444444,
              "#bd3786"
             ],
             [
              0.5555555555555556,
              "#d8576b"
             ],
             [
              0.6666666666666666,
              "#ed7953"
             ],
             [
              0.7777777777777778,
              "#fb9f3a"
             ],
             [
              0.8888888888888888,
              "#fdca26"
             ],
             [
              1,
              "#f0f921"
             ]
            ],
            "type": "histogram2dcontour"
           }
          ],
          "mesh3d": [
           {
            "colorbar": {
             "outlinewidth": 0,
             "ticks": ""
            },
            "type": "mesh3d"
           }
          ],
          "parcoords": [
           {
            "line": {
             "colorbar": {
              "outlinewidth": 0,
              "ticks": ""
             }
            },
            "type": "parcoords"
           }
          ],
          "pie": [
           {
            "automargin": true,
            "type": "pie"
           }
          ],
          "scatter": [
           {
            "fillpattern": {
             "fillmode": "overlay",
             "size": 10,
             "solidity": 0.2
            },
            "type": "scatter"
           }
          ],
          "scatter3d": [
           {
            "line": {
             "colorbar": {
              "outlinewidth": 0,
              "ticks": ""
             }
            },
            "marker": {
             "colorbar": {
              "outlinewidth": 0,
              "ticks": ""
             }
            },
            "type": "scatter3d"
           }
          ],
          "scattercarpet": [
           {
            "marker": {
             "colorbar": {
              "outlinewidth": 0,
              "ticks": ""
             }
            },
            "type": "scattercarpet"
           }
          ],
          "scattergeo": [
           {
            "marker": {
             "colorbar": {
              "outlinewidth": 0,
              "ticks": ""
             }
            },
            "type": "scattergeo"
           }
          ],
          "scattergl": [
           {
            "marker": {
             "colorbar": {
              "outlinewidth": 0,
              "ticks": ""
             }
            },
            "type": "scattergl"
           }
          ],
          "scattermapbox": [
           {
            "marker": {
             "colorbar": {
              "outlinewidth": 0,
              "ticks": ""
             }
            },
            "type": "scattermapbox"
           }
          ],
          "scatterpolar": [
           {
            "marker": {
             "colorbar": {
              "outlinewidth": 0,
              "ticks": ""
             }
            },
            "type": "scatterpolar"
           }
          ],
          "scatterpolargl": [
           {
            "marker": {
             "colorbar": {
              "outlinewidth": 0,
              "ticks": ""
             }
            },
            "type": "scatterpolargl"
           }
          ],
          "scatterternary": [
           {
            "marker": {
             "colorbar": {
              "outlinewidth": 0,
              "ticks": ""
             }
            },
            "type": "scatterternary"
           }
          ],
          "surface": [
           {
            "colorbar": {
             "outlinewidth": 0,
             "ticks": ""
            },
            "colorscale": [
             [
              0,
              "#0d0887"
             ],
             [
              0.1111111111111111,
              "#46039f"
             ],
             [
              0.2222222222222222,
              "#7201a8"
             ],
             [
              0.3333333333333333,
              "#9c179e"
             ],
             [
              0.4444444444444444,
              "#bd3786"
             ],
             [
              0.5555555555555556,
              "#d8576b"
             ],
             [
              0.6666666666666666,
              "#ed7953"
             ],
             [
              0.7777777777777778,
              "#fb9f3a"
             ],
             [
              0.8888888888888888,
              "#fdca26"
             ],
             [
              1,
              "#f0f921"
             ]
            ],
            "type": "surface"
           }
          ],
          "table": [
           {
            "cells": {
             "fill": {
              "color": "#EBF0F8"
             },
             "line": {
              "color": "white"
             }
            },
            "header": {
             "fill": {
              "color": "#C8D4E3"
             },
             "line": {
              "color": "white"
             }
            },
            "type": "table"
           }
          ]
         },
         "layout": {
          "annotationdefaults": {
           "arrowcolor": "#2a3f5f",
           "arrowhead": 0,
           "arrowwidth": 1
          },
          "autotypenumbers": "strict",
          "coloraxis": {
           "colorbar": {
            "outlinewidth": 0,
            "ticks": ""
           }
          },
          "colorscale": {
           "diverging": [
            [
             0,
             "#8e0152"
            ],
            [
             0.1,
             "#c51b7d"
            ],
            [
             0.2,
             "#de77ae"
            ],
            [
             0.3,
             "#f1b6da"
            ],
            [
             0.4,
             "#fde0ef"
            ],
            [
             0.5,
             "#f7f7f7"
            ],
            [
             0.6,
             "#e6f5d0"
            ],
            [
             0.7,
             "#b8e186"
            ],
            [
             0.8,
             "#7fbc41"
            ],
            [
             0.9,
             "#4d9221"
            ],
            [
             1,
             "#276419"
            ]
           ],
           "sequential": [
            [
             0,
             "#0d0887"
            ],
            [
             0.1111111111111111,
             "#46039f"
            ],
            [
             0.2222222222222222,
             "#7201a8"
            ],
            [
             0.3333333333333333,
             "#9c179e"
            ],
            [
             0.4444444444444444,
             "#bd3786"
            ],
            [
             0.5555555555555556,
             "#d8576b"
            ],
            [
             0.6666666666666666,
             "#ed7953"
            ],
            [
             0.7777777777777778,
             "#fb9f3a"
            ],
            [
             0.8888888888888888,
             "#fdca26"
            ],
            [
             1,
             "#f0f921"
            ]
           ],
           "sequentialminus": [
            [
             0,
             "#0d0887"
            ],
            [
             0.1111111111111111,
             "#46039f"
            ],
            [
             0.2222222222222222,
             "#7201a8"
            ],
            [
             0.3333333333333333,
             "#9c179e"
            ],
            [
             0.4444444444444444,
             "#bd3786"
            ],
            [
             0.5555555555555556,
             "#d8576b"
            ],
            [
             0.6666666666666666,
             "#ed7953"
            ],
            [
             0.7777777777777778,
             "#fb9f3a"
            ],
            [
             0.8888888888888888,
             "#fdca26"
            ],
            [
             1,
             "#f0f921"
            ]
           ]
          },
          "colorway": [
           "#636efa",
           "#EF553B",
           "#00cc96",
           "#ab63fa",
           "#FFA15A",
           "#19d3f3",
           "#FF6692",
           "#B6E880",
           "#FF97FF",
           "#FECB52"
          ],
          "font": {
           "color": "#2a3f5f"
          },
          "geo": {
           "bgcolor": "white",
           "lakecolor": "white",
           "landcolor": "#E5ECF6",
           "showlakes": true,
           "showland": true,
           "subunitcolor": "white"
          },
          "hoverlabel": {
           "align": "left"
          },
          "hovermode": "closest",
          "mapbox": {
           "style": "light"
          },
          "paper_bgcolor": "white",
          "plot_bgcolor": "#E5ECF6",
          "polar": {
           "angularaxis": {
            "gridcolor": "white",
            "linecolor": "white",
            "ticks": ""
           },
           "bgcolor": "#E5ECF6",
           "radialaxis": {
            "gridcolor": "white",
            "linecolor": "white",
            "ticks": ""
           }
          },
          "scene": {
           "xaxis": {
            "backgroundcolor": "#E5ECF6",
            "gridcolor": "white",
            "gridwidth": 2,
            "linecolor": "white",
            "showbackground": true,
            "ticks": "",
            "zerolinecolor": "white"
           },
           "yaxis": {
            "backgroundcolor": "#E5ECF6",
            "gridcolor": "white",
            "gridwidth": 2,
            "linecolor": "white",
            "showbackground": true,
            "ticks": "",
            "zerolinecolor": "white"
           },
           "zaxis": {
            "backgroundcolor": "#E5ECF6",
            "gridcolor": "white",
            "gridwidth": 2,
            "linecolor": "white",
            "showbackground": true,
            "ticks": "",
            "zerolinecolor": "white"
           }
          },
          "shapedefaults": {
           "line": {
            "color": "#2a3f5f"
           }
          },
          "ternary": {
           "aaxis": {
            "gridcolor": "white",
            "linecolor": "white",
            "ticks": ""
           },
           "baxis": {
            "gridcolor": "white",
            "linecolor": "white",
            "ticks": ""
           },
           "bgcolor": "#E5ECF6",
           "caxis": {
            "gridcolor": "white",
            "linecolor": "white",
            "ticks": ""
           }
          },
          "title": {
           "x": 0.05
          },
          "xaxis": {
           "automargin": true,
           "gridcolor": "white",
           "linecolor": "white",
           "ticks": "",
           "title": {
            "standoff": 15
           },
           "zerolinecolor": "white",
           "zerolinewidth": 2
          },
          "yaxis": {
           "automargin": true,
           "gridcolor": "white",
           "linecolor": "white",
           "ticks": "",
           "title": {
            "standoff": 15
           },
           "zerolinecolor": "white",
           "zerolinewidth": 2
          }
         }
        },
        "title": {
         "text": "e-gamma L1T efficiency"
        },
        "width": 800,
        "xaxis": {
         "title": {
          "text": "Momentum (GeV)"
         }
        },
        "yaxis": {
         "title": {
          "text": "Efficiency"
         }
        }
       }
      }
     },
     "metadata": {},
     "output_type": "display_data"
    }
   ],
   "source": [
    "fig = go.Figure()\n",
    "fig.add_scatter(x = egamma[\"x\"], y = egamma[\" y\"], name=\"Data\")\n",
    "fig.add_scatter(x = egamma_xs, y = egamma_spl(egamma_xs), name=\"Interpolation\")\n",
    "fig.add_scatter(x = egamma_xs, y = egamma_ideal(egamma_xs), name = \"Ideal\", line_dash=\"dash\")\n",
    "fig.add_scatter(x = egamma_xs, y = 1.0 - exp_cdf(egamma_xs, egamma_l), name = \"Data Fit\")\n",
    "fig.update_layout(width = 800,\n",
    "                  height = 600,\n",
    "                  title = \"e-gamma L1T efficiency\",\n",
    "                  xaxis_title = \"Momentum (GeV)\",\n",
    "                  yaxis_title = \"Efficiency\",\n",
    "                  )\n"
   ]
  },
  {
   "cell_type": "markdown",
   "metadata": {},
   "source": [
    "## Fit to Tau "
   ]
  },
  {
   "cell_type": "code",
   "execution_count": 20,
   "metadata": {},
   "outputs": [],
   "source": [
    "tau_xs = data_range(tau[\"x\"])\n",
    "tau_spl = PchipInterpolator(tau[\"x\"], tau[\" y\"])"
   ]
  },
  {
   "cell_type": "code",
   "execution_count": 21,
   "metadata": {},
   "outputs": [],
   "source": [
    "#fit to tau - minimize the difference between the trigger efficiency multiplied by the underlying distribution and the trigger rate\n",
    "tau_fit = lambda l: np.abs(tau_rate - quad(lambda x: exp_dist(x, l) * tau_spl(x), 0, 100)[0])"
   ]
  },
  {
   "cell_type": "code",
   "execution_count": 22,
   "metadata": {},
   "outputs": [],
   "source": [
    "tau_threshold = 38\n",
    "tau_ideal = lambda x: 1.0 * (x > tau_threshold)"
   ]
  },
  {
   "cell_type": "code",
   "execution_count": 23,
   "metadata": {},
   "outputs": [],
   "source": [
    "tau_soln = minimize_scalar(tau_fit)\n",
    "tau_l = tau_soln.x"
   ]
  },
  {
   "cell_type": "code",
   "execution_count": 24,
   "metadata": {},
   "outputs": [
    {
     "data": {
      "text/plain": [
       " message: \n",
       "          Optimization terminated successfully;\n",
       "          The returned value satisfies the termination criteria\n",
       "          (using xtol = 1.48e-08 )\n",
       " success: True\n",
       "     fun: 1.378231251347728e-09\n",
       "       x: 0.04457408261926413\n",
       "     nit: 31\n",
       "    nfev: 34"
      ]
     },
     "execution_count": 24,
     "metadata": {},
     "output_type": "execute_result"
    }
   ],
   "source": [
    "tau_soln"
   ]
  },
  {
   "cell_type": "code",
   "execution_count": 25,
   "metadata": {},
   "outputs": [
    {
     "data": {
      "text/plain": [
       "np.float64(0.04457408261926413)"
      ]
     },
     "execution_count": 25,
     "metadata": {},
     "output_type": "execute_result"
    }
   ],
   "source": [
    "tau_l"
   ]
  },
  {
   "cell_type": "code",
   "execution_count": 26,
   "metadata": {},
   "outputs": [
    {
     "data": {
      "application/vnd.plotly.v1+json": {
       "config": {
        "plotlyServerURL": "https://plot.ly"
       },
       "data": [
        {
         "name": "Data",
         "type": "scatter",
         "x": [
          0.2515723270440251,
          20.37735849056604,
          21.257861635220127,
          22.38993710691824,
          23.144654088050313,
          24.654088050314467,
          26.79245283018868,
          28.80503144654088,
          31.069182389937108,
          33.459119496855344,
          37.35849056603774,
          42.515723270440255,
          47.54716981132076,
          55.094339622641506,
          65.15723270440252,
          80,
          100
         ],
         "y": [
          0,
          0.0222496909765142,
          0.025957973,
          0.0309023485784919,
          0.0370828182941903,
          0.04697157,
          0.070457355,
          0.09394314,
          0.1347342398022249,
          0.2336217552533992,
          0.4697156983930778,
          0.7082818294190358,
          0.8529048207663782,
          0.9443757725587144,
          0.9826946847960444,
          0.991347342398022,
          0.9938195302843016
         ]
        },
        {
         "name": "Interpolation",
         "type": "scatter",
         "x": [
          0.2515723270440251,
          1.2490566037735849,
          2.2465408805031446,
          3.2440251572327043,
          4.241509433962264,
          5.238993710691824,
          6.236477987421384,
          7.233962264150943,
          8.231446540880503,
          9.228930817610063,
          10.226415094339623,
          11.223899371069182,
          12.221383647798742,
          13.218867924528302,
          14.21635220125786,
          15.213836477987421,
          16.21132075471698,
          17.208805031446538,
          18.206289308176103,
          19.20377358490566,
          20.20125786163522,
          21.19874213836478,
          22.196226415094337,
          23.193710691823902,
          24.19119496855346,
          25.18867924528302,
          26.186163522012578,
          27.183647798742136,
          28.181132075471695,
          29.17861635220126,
          30.17610062893082,
          31.173584905660377,
          32.171069182389935,
          33.168553459119494,
          34.16603773584905,
          35.16352201257862,
          36.161006289308176,
          37.158490566037734,
          38.15597484276729,
          39.15345911949685,
          40.15094339622642,
          41.148427672955975,
          42.145911949685534,
          43.14339622641509,
          44.14088050314465,
          45.13836477987421,
          46.135849056603774,
          47.13333333333333,
          48.13081761006289,
          49.12830188679245,
          50.12578616352201,
          51.123270440251574,
          52.12075471698113,
          53.11823899371069,
          54.11572327044025,
          55.11320754716981,
          56.110691823899366,
          57.10817610062893,
          58.10566037735849,
          59.10314465408805,
          60.10062893081761,
          61.098113207547165,
          62.09559748427673,
          63.09308176100629,
          64.09056603773585,
          65.08805031446542,
          66.08553459119497,
          67.08301886792454,
          68.08050314465409,
          69.07798742138365,
          70.07547169811322,
          71.07295597484277,
          72.07044025157234,
          73.06792452830189,
          74.06540880503145,
          75.06289308176102,
          76.06037735849057,
          77.05786163522014,
          78.05534591194969,
          79.05283018867925,
          80.05031446540882,
          81.04779874213837,
          82.04528301886793,
          83.04276729559749,
          84.04025157232705,
          85.0377358490566,
          86.03522012578617,
          87.03270440251573,
          88.03018867924528,
          89.02767295597485,
          90.0251572327044,
          91.02264150943397,
          92.02012578616353,
          93.01761006289308,
          94.01509433962265,
          95.0125786163522,
          96.01006289308177,
          97.00754716981133,
          98.00503144654088,
          99.00251572327045,
          100
         ],
         "y": [
          0,
          0.00005838853107480989,
          0.00023277536693095392,
          0.0005219923715160037,
          0.0009248714087775306,
          0.0014402443426631065,
          0.0020669430371203024,
          0.00280379935609669,
          0.003649645163539842,
          0.004603312323397328,
          0.005663632699616721,
          0.006829438156145591,
          0.008099560556931512,
          0.009472831765922054,
          0.010948083647064786,
          0.012524148064307286,
          0.014199856881597117,
          0.01597404196288186,
          0.01784553517210909,
          0.019813168373226362,
          0.02187577343018125,
          0.025697513986937138,
          0.029861427931121173,
          0.03743943407248606,
          0.04367731533585525,
          0.05193922769878938,
          0.0633374212633072,
          0.07478429128022673,
          0.08589231227650711,
          0.09929483755646824,
          0.11551853632791173,
          0.13746095163506591,
          0.17315819671764268,
          0.21950988613497222,
          0.2714976097226452,
          0.33353367052761096,
          0.3985934778855808,
          0.45888765083240746,
          0.5114489777375912,
          0.5621326757578095,
          0.610228837315372,
          0.6547699737386425,
          0.694788596355986,
          0.7303035314274139,
          0.7639560376382246,
          0.7950229254546751,
          0.8224363251386397,
          0.8451283669519927,
          0.8629218129071042,
          0.8790266339429509,
          0.8937816478540095,
          0.9071062249960986,
          0.9189197357250365,
          0.9291415503966418,
          0.9376910393667327,
          0.944487846923281,
          0.9502530910074499,
          0.9556805340888419,
          0.9607341798850682,
          0.9653780321137405,
          0.9695760944924707,
          0.9732923707388702,
          0.976490864570551,
          0.9791355797051247,
          0.9811905198602026,
          0.9826196887533964,
          0.9836460738149475,
          0.9845954430551042,
          0.9854720631577918,
          0.9862787935406928,
          0.9870184936214902,
          0.9876940228178668,
          0.988308240547505,
          0.9888640062280878,
          0.9893641792772976,
          0.9898116191128176,
          0.9902091851523299,
          0.9905597368135178,
          0.9908661335140639,
          0.9911312346716507,
          0.9913579386656898,
          0.9915652592123464,
          0.9917669716986266,
          0.9919625328895803,
          0.9921513995502576,
          0.9923330284457084,
          0.9925068763409828,
          0.9926724000011308,
          0.9928290561912023,
          0.9929763016762475,
          0.9931135932213162,
          0.9932403875914585,
          0.9933561415517244,
          0.9934603118671639,
          0.9935523553028269,
          0.9936317286237637,
          0.993697888595024,
          0.9937502919816579,
          0.9937883955487156,
          0.9938116560612467,
          0.9938195302843016
         ]
        },
        {
         "line": {
          "dash": "dash"
         },
         "name": "Ideal",
         "type": "scatter",
         "x": [
          0.2515723270440251,
          1.2490566037735849,
          2.2465408805031446,
          3.2440251572327043,
          4.241509433962264,
          5.238993710691824,
          6.236477987421384,
          7.233962264150943,
          8.231446540880503,
          9.228930817610063,
          10.226415094339623,
          11.223899371069182,
          12.221383647798742,
          13.218867924528302,
          14.21635220125786,
          15.213836477987421,
          16.21132075471698,
          17.208805031446538,
          18.206289308176103,
          19.20377358490566,
          20.20125786163522,
          21.19874213836478,
          22.196226415094337,
          23.193710691823902,
          24.19119496855346,
          25.18867924528302,
          26.186163522012578,
          27.183647798742136,
          28.181132075471695,
          29.17861635220126,
          30.17610062893082,
          31.173584905660377,
          32.171069182389935,
          33.168553459119494,
          34.16603773584905,
          35.16352201257862,
          36.161006289308176,
          37.158490566037734,
          38.15597484276729,
          39.15345911949685,
          40.15094339622642,
          41.148427672955975,
          42.145911949685534,
          43.14339622641509,
          44.14088050314465,
          45.13836477987421,
          46.135849056603774,
          47.13333333333333,
          48.13081761006289,
          49.12830188679245,
          50.12578616352201,
          51.123270440251574,
          52.12075471698113,
          53.11823899371069,
          54.11572327044025,
          55.11320754716981,
          56.110691823899366,
          57.10817610062893,
          58.10566037735849,
          59.10314465408805,
          60.10062893081761,
          61.098113207547165,
          62.09559748427673,
          63.09308176100629,
          64.09056603773585,
          65.08805031446542,
          66.08553459119497,
          67.08301886792454,
          68.08050314465409,
          69.07798742138365,
          70.07547169811322,
          71.07295597484277,
          72.07044025157234,
          73.06792452830189,
          74.06540880503145,
          75.06289308176102,
          76.06037735849057,
          77.05786163522014,
          78.05534591194969,
          79.05283018867925,
          80.05031446540882,
          81.04779874213837,
          82.04528301886793,
          83.04276729559749,
          84.04025157232705,
          85.0377358490566,
          86.03522012578617,
          87.03270440251573,
          88.03018867924528,
          89.02767295597485,
          90.0251572327044,
          91.02264150943397,
          92.02012578616353,
          93.01761006289308,
          94.01509433962265,
          95.0125786163522,
          96.01006289308177,
          97.00754716981133,
          98.00503144654088,
          99.00251572327045,
          100
         ],
         "y": [
          0,
          0,
          0,
          0,
          0,
          0,
          0,
          0,
          0,
          0,
          0,
          0,
          0,
          0,
          0,
          0,
          0,
          0,
          0,
          0,
          0,
          0,
          0,
          0,
          0,
          0,
          0,
          0,
          0,
          0,
          0,
          0,
          0,
          0,
          0,
          0,
          0,
          0,
          1,
          1,
          1,
          1,
          1,
          1,
          1,
          1,
          1,
          1,
          1,
          1,
          1,
          1,
          1,
          1,
          1,
          1,
          1,
          1,
          1,
          1,
          1,
          1,
          1,
          1,
          1,
          1,
          1,
          1,
          1,
          1,
          1,
          1,
          1,
          1,
          1,
          1,
          1,
          1,
          1,
          1,
          1,
          1,
          1,
          1,
          1,
          1,
          1,
          1,
          1,
          1,
          1,
          1,
          1,
          1,
          1,
          1,
          1,
          1,
          1,
          1,
          1
         ]
        },
        {
         "name": "Data Fit",
         "type": "scatter",
         "x": [
          0.2515723270440251,
          1.2490566037735849,
          2.2465408805031446,
          3.2440251572327043,
          4.241509433962264,
          5.238993710691824,
          6.236477987421384,
          7.233962264150943,
          8.231446540880503,
          9.228930817610063,
          10.226415094339623,
          11.223899371069182,
          12.221383647798742,
          13.218867924528302,
          14.21635220125786,
          15.213836477987421,
          16.21132075471698,
          17.208805031446538,
          18.206289308176103,
          19.20377358490566,
          20.20125786163522,
          21.19874213836478,
          22.196226415094337,
          23.193710691823902,
          24.19119496855346,
          25.18867924528302,
          26.186163522012578,
          27.183647798742136,
          28.181132075471695,
          29.17861635220126,
          30.17610062893082,
          31.173584905660377,
          32.171069182389935,
          33.168553459119494,
          34.16603773584905,
          35.16352201257862,
          36.161006289308176,
          37.158490566037734,
          38.15597484276729,
          39.15345911949685,
          40.15094339622642,
          41.148427672955975,
          42.145911949685534,
          43.14339622641509,
          44.14088050314465,
          45.13836477987421,
          46.135849056603774,
          47.13333333333333,
          48.13081761006289,
          49.12830188679245,
          50.12578616352201,
          51.123270440251574,
          52.12075471698113,
          53.11823899371069,
          54.11572327044025,
          55.11320754716981,
          56.110691823899366,
          57.10817610062893,
          58.10566037735849,
          59.10314465408805,
          60.10062893081761,
          61.098113207547165,
          62.09559748427673,
          63.09308176100629,
          64.09056603773585,
          65.08805031446542,
          66.08553459119497,
          67.08301886792454,
          68.08050314465409,
          69.07798742138365,
          70.07547169811322,
          71.07295597484277,
          72.07044025157234,
          73.06792452830189,
          74.06540880503145,
          75.06289308176102,
          76.06037735849057,
          77.05786163522014,
          78.05534591194969,
          79.05283018867925,
          80.05031446540882,
          81.04779874213837,
          82.04528301886793,
          83.04276729559749,
          84.04025157232705,
          85.0377358490566,
          86.03522012578617,
          87.03270440251573,
          88.03018867924528,
          89.02767295597485,
          90.0251572327044,
          91.02264150943397,
          92.02012578616353,
          93.01761006289308,
          94.01509433962265,
          95.0125786163522,
          96.01006289308177,
          97.00754716981133,
          98.00503144654088,
          99.00251572327045,
          100
         ],
         "y": [
          0.9888490324342061,
          0.945845963705086,
          0.9047130125161219,
          0.8653688511919324,
          0.8277356888352485,
          0.791739117519499,
          0.757307965170175,
          0.7243741548440876,
          0.6928725701282922,
          0.6627409263925418,
          0.6339196476407163,
          0.6063517487177358,
          0.5799827226390599,
          0.5547604328200029,
          0.5306350099917794,
          0.5075587536004661,
          0.4854860374939258,
          0.4643732197102177,
          0.4441785561891306,
          0.42486211823622866,
          0.40638571357622033,
          0.38871281083955966,
          0.3718084673329738,
          0.3556392599511051,
          0.34017321909267073,
          0.3253797654504724,
          0.31122964955028554,
          0.2976948939190802,
          0.28474873776823006,
          0.27236558408233913,
          0.26052094900906864,
          0.24919141344990026,
          0.23835457675611949,
          0.22798901243846847,
          0.21807422580289781,
          0.20859061342865437,
          0.19951942440858672,
          0.19084272327503138,
          0.18254335453797943,
          0.1746049087654058,
          0.16701169013869888,
          0.15974868541903875,
          0.15280153426336573,
          0.14615650083124798,
          0.1398004466265107,
          0.13372080451992707,
          0.12790555390161162,
          0.1223431969139861,
          0.11702273571832578,
          0.11193365074993888,
          0.10706587991898431,
          0.10240979871580413,
          0.09795620118143622,
          0.09369628170568034,
          0.0896216176167306,
          0.08572415252794963,
          0.08199618040885848,
          0.07843033034884728,
          0.07501955198348198,
          0.07175710155459092,
          0.06863652857657176,
          0.06565166308255321,
          0.06279660342519555,
          0.06006570460801064,
          0.05745356712412919,
          0.05495502628044746,
          0.052565141986045893,
          0.05027918898468897,
          0.048092647512093745,
          0.0460011943594959,
          0.04400069432584219,
          0.04208719204171163,
          0.040256904148796235,
          0.038506211819482106,
          0.03683165360173779,
          0.035229918575164776,
          0.033697839804677665,
          0.03223238807887052,
          0.03083066592068906,
          0.029489901858567036,
          0.028207444946699356,
          0.026980759523617337,
          0.025807420198703523,
          0.024685107056732658,
          0.023611601070957278,
          0.022584779715669634,
          0.021602612769564433,
          0.02066315830160448,
          0.01976455883145367,
          0.018905037656884116,
          0.018082895340898575,
          0.017296506351618834,
          0.01654431584830074,
          0.01582483660711731,
          0.015136646080634364,
          0.014478383585163734,
          0.013848747610431866,
          0.013246493246246827,
          0.012670429721073684,
          0.012119418047652153,
          0.01159236877100256
         ]
        }
       ],
       "layout": {
        "height": 600,
        "template": {
         "data": {
          "bar": [
           {
            "error_x": {
             "color": "#2a3f5f"
            },
            "error_y": {
             "color": "#2a3f5f"
            },
            "marker": {
             "line": {
              "color": "#E5ECF6",
              "width": 0.5
             },
             "pattern": {
              "fillmode": "overlay",
              "size": 10,
              "solidity": 0.2
             }
            },
            "type": "bar"
           }
          ],
          "barpolar": [
           {
            "marker": {
             "line": {
              "color": "#E5ECF6",
              "width": 0.5
             },
             "pattern": {
              "fillmode": "overlay",
              "size": 10,
              "solidity": 0.2
             }
            },
            "type": "barpolar"
           }
          ],
          "carpet": [
           {
            "aaxis": {
             "endlinecolor": "#2a3f5f",
             "gridcolor": "white",
             "linecolor": "white",
             "minorgridcolor": "white",
             "startlinecolor": "#2a3f5f"
            },
            "baxis": {
             "endlinecolor": "#2a3f5f",
             "gridcolor": "white",
             "linecolor": "white",
             "minorgridcolor": "white",
             "startlinecolor": "#2a3f5f"
            },
            "type": "carpet"
           }
          ],
          "choropleth": [
           {
            "colorbar": {
             "outlinewidth": 0,
             "ticks": ""
            },
            "type": "choropleth"
           }
          ],
          "contour": [
           {
            "colorbar": {
             "outlinewidth": 0,
             "ticks": ""
            },
            "colorscale": [
             [
              0,
              "#0d0887"
             ],
             [
              0.1111111111111111,
              "#46039f"
             ],
             [
              0.2222222222222222,
              "#7201a8"
             ],
             [
              0.3333333333333333,
              "#9c179e"
             ],
             [
              0.4444444444444444,
              "#bd3786"
             ],
             [
              0.5555555555555556,
              "#d8576b"
             ],
             [
              0.6666666666666666,
              "#ed7953"
             ],
             [
              0.7777777777777778,
              "#fb9f3a"
             ],
             [
              0.8888888888888888,
              "#fdca26"
             ],
             [
              1,
              "#f0f921"
             ]
            ],
            "type": "contour"
           }
          ],
          "contourcarpet": [
           {
            "colorbar": {
             "outlinewidth": 0,
             "ticks": ""
            },
            "type": "contourcarpet"
           }
          ],
          "heatmap": [
           {
            "colorbar": {
             "outlinewidth": 0,
             "ticks": ""
            },
            "colorscale": [
             [
              0,
              "#0d0887"
             ],
             [
              0.1111111111111111,
              "#46039f"
             ],
             [
              0.2222222222222222,
              "#7201a8"
             ],
             [
              0.3333333333333333,
              "#9c179e"
             ],
             [
              0.4444444444444444,
              "#bd3786"
             ],
             [
              0.5555555555555556,
              "#d8576b"
             ],
             [
              0.6666666666666666,
              "#ed7953"
             ],
             [
              0.7777777777777778,
              "#fb9f3a"
             ],
             [
              0.8888888888888888,
              "#fdca26"
             ],
             [
              1,
              "#f0f921"
             ]
            ],
            "type": "heatmap"
           }
          ],
          "heatmapgl": [
           {
            "colorbar": {
             "outlinewidth": 0,
             "ticks": ""
            },
            "colorscale": [
             [
              0,
              "#0d0887"
             ],
             [
              0.1111111111111111,
              "#46039f"
             ],
             [
              0.2222222222222222,
              "#7201a8"
             ],
             [
              0.3333333333333333,
              "#9c179e"
             ],
             [
              0.4444444444444444,
              "#bd3786"
             ],
             [
              0.5555555555555556,
              "#d8576b"
             ],
             [
              0.6666666666666666,
              "#ed7953"
             ],
             [
              0.7777777777777778,
              "#fb9f3a"
             ],
             [
              0.8888888888888888,
              "#fdca26"
             ],
             [
              1,
              "#f0f921"
             ]
            ],
            "type": "heatmapgl"
           }
          ],
          "histogram": [
           {
            "marker": {
             "pattern": {
              "fillmode": "overlay",
              "size": 10,
              "solidity": 0.2
             }
            },
            "type": "histogram"
           }
          ],
          "histogram2d": [
           {
            "colorbar": {
             "outlinewidth": 0,
             "ticks": ""
            },
            "colorscale": [
             [
              0,
              "#0d0887"
             ],
             [
              0.1111111111111111,
              "#46039f"
             ],
             [
              0.2222222222222222,
              "#7201a8"
             ],
             [
              0.3333333333333333,
              "#9c179e"
             ],
             [
              0.4444444444444444,
              "#bd3786"
             ],
             [
              0.5555555555555556,
              "#d8576b"
             ],
             [
              0.6666666666666666,
              "#ed7953"
             ],
             [
              0.7777777777777778,
              "#fb9f3a"
             ],
             [
              0.8888888888888888,
              "#fdca26"
             ],
             [
              1,
              "#f0f921"
             ]
            ],
            "type": "histogram2d"
           }
          ],
          "histogram2dcontour": [
           {
            "colorbar": {
             "outlinewidth": 0,
             "ticks": ""
            },
            "colorscale": [
             [
              0,
              "#0d0887"
             ],
             [
              0.1111111111111111,
              "#46039f"
             ],
             [
              0.2222222222222222,
              "#7201a8"
             ],
             [
              0.3333333333333333,
              "#9c179e"
             ],
             [
              0.4444444444444444,
              "#bd3786"
             ],
             [
              0.5555555555555556,
              "#d8576b"
             ],
             [
              0.6666666666666666,
              "#ed7953"
             ],
             [
              0.7777777777777778,
              "#fb9f3a"
             ],
             [
              0.8888888888888888,
              "#fdca26"
             ],
             [
              1,
              "#f0f921"
             ]
            ],
            "type": "histogram2dcontour"
           }
          ],
          "mesh3d": [
           {
            "colorbar": {
             "outlinewidth": 0,
             "ticks": ""
            },
            "type": "mesh3d"
           }
          ],
          "parcoords": [
           {
            "line": {
             "colorbar": {
              "outlinewidth": 0,
              "ticks": ""
             }
            },
            "type": "parcoords"
           }
          ],
          "pie": [
           {
            "automargin": true,
            "type": "pie"
           }
          ],
          "scatter": [
           {
            "fillpattern": {
             "fillmode": "overlay",
             "size": 10,
             "solidity": 0.2
            },
            "type": "scatter"
           }
          ],
          "scatter3d": [
           {
            "line": {
             "colorbar": {
              "outlinewidth": 0,
              "ticks": ""
             }
            },
            "marker": {
             "colorbar": {
              "outlinewidth": 0,
              "ticks": ""
             }
            },
            "type": "scatter3d"
           }
          ],
          "scattercarpet": [
           {
            "marker": {
             "colorbar": {
              "outlinewidth": 0,
              "ticks": ""
             }
            },
            "type": "scattercarpet"
           }
          ],
          "scattergeo": [
           {
            "marker": {
             "colorbar": {
              "outlinewidth": 0,
              "ticks": ""
             }
            },
            "type": "scattergeo"
           }
          ],
          "scattergl": [
           {
            "marker": {
             "colorbar": {
              "outlinewidth": 0,
              "ticks": ""
             }
            },
            "type": "scattergl"
           }
          ],
          "scattermapbox": [
           {
            "marker": {
             "colorbar": {
              "outlinewidth": 0,
              "ticks": ""
             }
            },
            "type": "scattermapbox"
           }
          ],
          "scatterpolar": [
           {
            "marker": {
             "colorbar": {
              "outlinewidth": 0,
              "ticks": ""
             }
            },
            "type": "scatterpolar"
           }
          ],
          "scatterpolargl": [
           {
            "marker": {
             "colorbar": {
              "outlinewidth": 0,
              "ticks": ""
             }
            },
            "type": "scatterpolargl"
           }
          ],
          "scatterternary": [
           {
            "marker": {
             "colorbar": {
              "outlinewidth": 0,
              "ticks": ""
             }
            },
            "type": "scatterternary"
           }
          ],
          "surface": [
           {
            "colorbar": {
             "outlinewidth": 0,
             "ticks": ""
            },
            "colorscale": [
             [
              0,
              "#0d0887"
             ],
             [
              0.1111111111111111,
              "#46039f"
             ],
             [
              0.2222222222222222,
              "#7201a8"
             ],
             [
              0.3333333333333333,
              "#9c179e"
             ],
             [
              0.4444444444444444,
              "#bd3786"
             ],
             [
              0.5555555555555556,
              "#d8576b"
             ],
             [
              0.6666666666666666,
              "#ed7953"
             ],
             [
              0.7777777777777778,
              "#fb9f3a"
             ],
             [
              0.8888888888888888,
              "#fdca26"
             ],
             [
              1,
              "#f0f921"
             ]
            ],
            "type": "surface"
           }
          ],
          "table": [
           {
            "cells": {
             "fill": {
              "color": "#EBF0F8"
             },
             "line": {
              "color": "white"
             }
            },
            "header": {
             "fill": {
              "color": "#C8D4E3"
             },
             "line": {
              "color": "white"
             }
            },
            "type": "table"
           }
          ]
         },
         "layout": {
          "annotationdefaults": {
           "arrowcolor": "#2a3f5f",
           "arrowhead": 0,
           "arrowwidth": 1
          },
          "autotypenumbers": "strict",
          "coloraxis": {
           "colorbar": {
            "outlinewidth": 0,
            "ticks": ""
           }
          },
          "colorscale": {
           "diverging": [
            [
             0,
             "#8e0152"
            ],
            [
             0.1,
             "#c51b7d"
            ],
            [
             0.2,
             "#de77ae"
            ],
            [
             0.3,
             "#f1b6da"
            ],
            [
             0.4,
             "#fde0ef"
            ],
            [
             0.5,
             "#f7f7f7"
            ],
            [
             0.6,
             "#e6f5d0"
            ],
            [
             0.7,
             "#b8e186"
            ],
            [
             0.8,
             "#7fbc41"
            ],
            [
             0.9,
             "#4d9221"
            ],
            [
             1,
             "#276419"
            ]
           ],
           "sequential": [
            [
             0,
             "#0d0887"
            ],
            [
             0.1111111111111111,
             "#46039f"
            ],
            [
             0.2222222222222222,
             "#7201a8"
            ],
            [
             0.3333333333333333,
             "#9c179e"
            ],
            [
             0.4444444444444444,
             "#bd3786"
            ],
            [
             0.5555555555555556,
             "#d8576b"
            ],
            [
             0.6666666666666666,
             "#ed7953"
            ],
            [
             0.7777777777777778,
             "#fb9f3a"
            ],
            [
             0.8888888888888888,
             "#fdca26"
            ],
            [
             1,
             "#f0f921"
            ]
           ],
           "sequentialminus": [
            [
             0,
             "#0d0887"
            ],
            [
             0.1111111111111111,
             "#46039f"
            ],
            [
             0.2222222222222222,
             "#7201a8"
            ],
            [
             0.3333333333333333,
             "#9c179e"
            ],
            [
             0.4444444444444444,
             "#bd3786"
            ],
            [
             0.5555555555555556,
             "#d8576b"
            ],
            [
             0.6666666666666666,
             "#ed7953"
            ],
            [
             0.7777777777777778,
             "#fb9f3a"
            ],
            [
             0.8888888888888888,
             "#fdca26"
            ],
            [
             1,
             "#f0f921"
            ]
           ]
          },
          "colorway": [
           "#636efa",
           "#EF553B",
           "#00cc96",
           "#ab63fa",
           "#FFA15A",
           "#19d3f3",
           "#FF6692",
           "#B6E880",
           "#FF97FF",
           "#FECB52"
          ],
          "font": {
           "color": "#2a3f5f"
          },
          "geo": {
           "bgcolor": "white",
           "lakecolor": "white",
           "landcolor": "#E5ECF6",
           "showlakes": true,
           "showland": true,
           "subunitcolor": "white"
          },
          "hoverlabel": {
           "align": "left"
          },
          "hovermode": "closest",
          "mapbox": {
           "style": "light"
          },
          "paper_bgcolor": "white",
          "plot_bgcolor": "#E5ECF6",
          "polar": {
           "angularaxis": {
            "gridcolor": "white",
            "linecolor": "white",
            "ticks": ""
           },
           "bgcolor": "#E5ECF6",
           "radialaxis": {
            "gridcolor": "white",
            "linecolor": "white",
            "ticks": ""
           }
          },
          "scene": {
           "xaxis": {
            "backgroundcolor": "#E5ECF6",
            "gridcolor": "white",
            "gridwidth": 2,
            "linecolor": "white",
            "showbackground": true,
            "ticks": "",
            "zerolinecolor": "white"
           },
           "yaxis": {
            "backgroundcolor": "#E5ECF6",
            "gridcolor": "white",
            "gridwidth": 2,
            "linecolor": "white",
            "showbackground": true,
            "ticks": "",
            "zerolinecolor": "white"
           },
           "zaxis": {
            "backgroundcolor": "#E5ECF6",
            "gridcolor": "white",
            "gridwidth": 2,
            "linecolor": "white",
            "showbackground": true,
            "ticks": "",
            "zerolinecolor": "white"
           }
          },
          "shapedefaults": {
           "line": {
            "color": "#2a3f5f"
           }
          },
          "ternary": {
           "aaxis": {
            "gridcolor": "white",
            "linecolor": "white",
            "ticks": ""
           },
           "baxis": {
            "gridcolor": "white",
            "linecolor": "white",
            "ticks": ""
           },
           "bgcolor": "#E5ECF6",
           "caxis": {
            "gridcolor": "white",
            "linecolor": "white",
            "ticks": ""
           }
          },
          "title": {
           "x": 0.05
          },
          "xaxis": {
           "automargin": true,
           "gridcolor": "white",
           "linecolor": "white",
           "ticks": "",
           "title": {
            "standoff": 15
           },
           "zerolinecolor": "white",
           "zerolinewidth": 2
          },
          "yaxis": {
           "automargin": true,
           "gridcolor": "white",
           "linecolor": "white",
           "ticks": "",
           "title": {
            "standoff": 15
           },
           "zerolinecolor": "white",
           "zerolinewidth": 2
          }
         }
        },
        "title": {
         "text": "Tau L1T Efficiency"
        },
        "width": 800,
        "xaxis": {
         "title": {
          "text": "Momentum (GeV)"
         },
         "type": "linear"
        },
        "yaxis": {
         "title": {
          "text": "Efficiency"
         }
        }
       }
      }
     },
     "metadata": {},
     "output_type": "display_data"
    }
   ],
   "source": [
    "fig = go.Figure()\n",
    "fig.add_scatter(x = tau[\"x\"], y = tau[\" y\"], name = \"Data\")\n",
    "fig.add_scatter(x = tau_xs, y = tau_spl(tau_xs), name = \"Interpolation\")\n",
    "fig.add_scatter(x = tau_xs, y = tau_ideal(tau_xs), name = \"Ideal\", line_dash=\"dash\")\n",
    "fig.add_scatter(x = tau_xs, y = 1.0 - exp_cdf(tau_xs, tau_l), name = \"Data Fit\")\n",
    "fig.update_layout(width = 800,\n",
    "                  height = 600,\n",
    "                  title = \"Tau L1T Efficiency\",\n",
    "                  xaxis_title = \"Momentum (GeV)\",\n",
    "                  yaxis_title = \"Efficiency\",\n",
    "                  )\n",
    "fig.update_xaxes(type = \"linear\")"
   ]
  },
  {
   "cell_type": "markdown",
   "metadata": {},
   "source": [
    "## Fit to Jets"
   ]
  },
  {
   "cell_type": "code",
   "execution_count": 27,
   "metadata": {},
   "outputs": [],
   "source": [
    "jet_xs = data_range(jet_energy[\"x\"])\n",
    "jet_spl = PchipInterpolator(jet_energy[\"x\"], jet_energy[\" y\"])"
   ]
  },
  {
   "cell_type": "code",
   "execution_count": 28,
   "metadata": {},
   "outputs": [
    {
     "name": "stderr",
     "output_type": "stream",
     "text": [
      "/var/folders/qc/b4ggx3516_qc8fy84rgtp36c0000gq/T/ipykernel_89811/2457454635.py:1: IntegrationWarning:\n",
      "\n",
      "The maximum number of subdivisions (50) has been achieved.\n",
      "  If increasing the limit yields no improvement it is advised to analyze \n",
      "  the integrand in order to determine the difficulties.  If the position of a \n",
      "  local difficulty can be determined (singularity, discontinuity) one will \n",
      "  probably gain from splitting up the interval and calling the integrator \n",
      "  on the subranges.  Perhaps a special-purpose integrator should be used.\n",
      "\n"
     ]
    }
   ],
   "source": [
    "jet_fit = lambda l: np.abs(jet_rate - quad(lambda x: exp_dist(x, l) * jet_spl(x), 0, np.max(jet_xs))[0])\n",
    "jet_soln = minimize_scalar(jet_fit, bounds = [0.000, 0.40], method=\"bounded\")\n",
    "jet_l = jet_soln.x"
   ]
  },
  {
   "cell_type": "code",
   "execution_count": 29,
   "metadata": {},
   "outputs": [
    {
     "data": {
      "text/plain": [
       " message: Solution found.\n",
       " success: True\n",
       "  status: 0\n",
       "     fun: 0.00010411688622924409\n",
       "       x: 0.0034652456666858103\n",
       "     nit: 19\n",
       "    nfev: 19"
      ]
     },
     "execution_count": 29,
     "metadata": {},
     "output_type": "execute_result"
    }
   ],
   "source": [
    "jet_soln"
   ]
  },
  {
   "cell_type": "code",
   "execution_count": 30,
   "metadata": {},
   "outputs": [
    {
     "data": {
      "text/plain": [
       "np.float64(0.0034652456666858103)"
      ]
     },
     "execution_count": 30,
     "metadata": {},
     "output_type": "execute_result"
    }
   ],
   "source": [
    "jet_l"
   ]
  },
  {
   "cell_type": "code",
   "execution_count": 31,
   "metadata": {},
   "outputs": [],
   "source": [
    "jet_threshold = 320\n",
    "jet_ideal = lambda x: 1.0 * (x > jet_threshold)"
   ]
  },
  {
   "cell_type": "code",
   "execution_count": 32,
   "metadata": {},
   "outputs": [
    {
     "data": {
      "application/vnd.plotly.v1+json": {
       "config": {
        "plotlyServerURL": "https://plot.ly"
       },
       "data": [
        {
         "name": "Data",
         "type": "scatter",
         "x": [
          53.96039604,
          101.4851485,
          131.1881188,
          165.3465347,
          186.8811881,
          203.960396,
          215.0990099,
          224.7524752,
          235.1485149,
          245.5445545,
          255.1980198,
          264.8514851,
          275.2475248,
          285.6435644,
          295.2970297,
          305.6930693,
          316.0891089,
          325,
          335.3960396,
          345.7920792,
          355.4455446,
          365.8415842,
          375.4950495,
          385.1485149,
          396.2871287,
          407.4257426,
          436.3861386,
          476.4851485,
          526.2376238,
          581.1881188,
          642.0792079,
          691.8316832
         ],
         "y": [
          0,
          0,
          0,
          0.001236094,
          0.012360939,
          0.028430161,
          0.043263288,
          0.065512979,
          0.09394314,
          0.131025958,
          0.182941904,
          0.25710754,
          0.337453646,
          0.453646477,
          0.592088999,
          0.718170581,
          0.81829419,
          0.882571075,
          0.923362176,
          0.948084054,
          0.966625464,
          0.976514215,
          0.981458591,
          0.986402967,
          0.988875155,
          0.990111248,
          0.992583436,
          0.99381953,
          0.99381953,
          0.992583436,
          0.99381953,
          0.99381953
         ]
        },
        {
         "name": "Interpolation",
         "type": "scatter",
         "x": [
          53.96039604,
          60.3391089116,
          66.7178217832,
          73.0965346548,
          79.4752475264,
          85.853960398,
          92.2326732696,
          98.6113861412,
          104.9900990128,
          111.3688118844,
          117.747524756,
          124.1262376276,
          130.5049504992,
          136.8836633708,
          143.2623762424,
          149.641089114,
          156.0198019856,
          162.3985148572,
          168.7772277288,
          175.15594060040002,
          181.534653472,
          187.91336634360002,
          194.2920792152,
          200.67079208680002,
          207.0495049584,
          213.42821783000002,
          219.8069307016,
          226.18564357320003,
          232.5643564448,
          238.94306931640003,
          245.32178218800001,
          251.70049505960003,
          258.0792079312,
          264.4579208028,
          270.8366336744,
          277.215346546,
          283.5940594176,
          289.9727722892,
          296.3514851608,
          302.7301980324,
          309.108910904,
          315.4876237756,
          321.8663366472,
          328.2450495188,
          334.6237623904,
          341.002475262,
          347.3811881336,
          353.7599010052,
          360.1386138768,
          366.51732674839997,
          372.89603962,
          379.2747524916,
          385.6534653632,
          392.03217823479997,
          398.4108911064,
          404.789603978,
          411.1683168496,
          417.5470297212,
          423.9257425928,
          430.3044554644,
          436.683168336,
          443.0618812076,
          449.4405940792,
          455.8193069508,
          462.1980198224,
          468.576732694,
          474.9554455656,
          481.3341584372,
          487.7128713088,
          494.0915841804,
          500.470297052,
          506.8490099236,
          513.2277227952001,
          519.6064356668,
          525.9851485384,
          532.36386141,
          538.7425742816,
          545.1212871532,
          551.5000000248,
          557.8787128964001,
          564.2574257680001,
          570.6361386396,
          577.0148515112,
          583.3935643828,
          589.7722772544,
          596.150990126,
          602.5297029976,
          608.9084158692,
          615.2871287408,
          621.6658416124,
          628.0445544840001,
          634.4232673556,
          640.8019802272,
          647.1806930988,
          653.5594059704,
          659.938118842,
          666.3168317136,
          672.6955445852,
          679.0742574568,
          685.4529703284,
          691.8316832
         ],
         "y": [
          0,
          0,
          0,
          0,
          0,
          0,
          0,
          0,
          0,
          0,
          0,
          0,
          0,
          0.00003435350945496698,
          0.0001544032033773867,
          0.00036066404554518184,
          0.0006531567787671581,
          0.0010319021458521252,
          0.0018587610532848139,
          0.004627592844691159,
          0.008678493659728698,
          0.013079129383356373,
          0.018382027698458196,
          0.024822979079840123,
          0.03196881165244067,
          0.040549148516522034,
          0.053137379459618446,
          0.06911946093884211,
          0.0862353287562446,
          0.10611295841402141,
          0.13007277701228573,
          0.1619114117370334,
          0.20314141105353517,
          0.2540548439453304,
          0.3012781168338996,
          0.3563863783656646,
          0.42822208239610365,
          0.5146854205529199,
          0.6058860305651381,
          0.6849658602777797,
          0.7538347171550939,
          0.8132917275189498,
          0.8634404692839497,
          0.8978132969086394,
          0.9210325201789864,
          0.9377447184896974,
          0.9515002920861528,
          0.9641752821352105,
          0.9718850452543202,
          0.976948689515072,
          0.9802047274964579,
          0.9835741910683685,
          0.986558392173726,
          0.9881421028392485,
          0.9891664161574268,
          0.9898556353399973,
          0.9904841049140257,
          0.9911205805362213,
          0.9917169050198028,
          0.9922250633007131,
          0.9925972371466918,
          0.9928903264844452,
          0.9931670964138951,
          0.9934128417760762,
          0.9936128574120232,
          0.9937524381627709,
          0.9938168788693538,
          0.99381953,
          0.99381953,
          0.99381953,
          0.99381953,
          0.99381953,
          0.99381953,
          0.99381953,
          0.99381953,
          0.9937768645764474,
          0.9936566240454877,
          0.9934819314385852,
          0.9932759883099425,
          0.9930619962137623,
          0.992863156704247,
          0.9927026713355995,
          0.9926037416620221,
          0.9925881832560497,
          0.9926502083578611,
          0.9927706741476582,
          0.992932528807818,
          0.9931187205207183,
          0.9933121974687366,
          0.9934959078342499,
          0.9936527997996363,
          0.9937658215472727,
          0.9938179212595368,
          0.99381953,
          0.99381953,
          0.99381953,
          0.99381953,
          0.99381953,
          0.99381953,
          0.99381953,
          0.99381953
         ]
        },
        {
         "line": {
          "dash": "dash"
         },
         "name": "Ideal",
         "type": "scatter",
         "x": [
          53.96039604,
          60.3391089116,
          66.7178217832,
          73.0965346548,
          79.4752475264,
          85.853960398,
          92.2326732696,
          98.6113861412,
          104.9900990128,
          111.3688118844,
          117.747524756,
          124.1262376276,
          130.5049504992,
          136.8836633708,
          143.2623762424,
          149.641089114,
          156.0198019856,
          162.3985148572,
          168.7772277288,
          175.15594060040002,
          181.534653472,
          187.91336634360002,
          194.2920792152,
          200.67079208680002,
          207.0495049584,
          213.42821783000002,
          219.8069307016,
          226.18564357320003,
          232.5643564448,
          238.94306931640003,
          245.32178218800001,
          251.70049505960003,
          258.0792079312,
          264.4579208028,
          270.8366336744,
          277.215346546,
          283.5940594176,
          289.9727722892,
          296.3514851608,
          302.7301980324,
          309.108910904,
          315.4876237756,
          321.8663366472,
          328.2450495188,
          334.6237623904,
          341.002475262,
          347.3811881336,
          353.7599010052,
          360.1386138768,
          366.51732674839997,
          372.89603962,
          379.2747524916,
          385.6534653632,
          392.03217823479997,
          398.4108911064,
          404.789603978,
          411.1683168496,
          417.5470297212,
          423.9257425928,
          430.3044554644,
          436.683168336,
          443.0618812076,
          449.4405940792,
          455.8193069508,
          462.1980198224,
          468.576732694,
          474.9554455656,
          481.3341584372,
          487.7128713088,
          494.0915841804,
          500.470297052,
          506.8490099236,
          513.2277227952001,
          519.6064356668,
          525.9851485384,
          532.36386141,
          538.7425742816,
          545.1212871532,
          551.5000000248,
          557.8787128964001,
          564.2574257680001,
          570.6361386396,
          577.0148515112,
          583.3935643828,
          589.7722772544,
          596.150990126,
          602.5297029976,
          608.9084158692,
          615.2871287408,
          621.6658416124,
          628.0445544840001,
          634.4232673556,
          640.8019802272,
          647.1806930988,
          653.5594059704,
          659.938118842,
          666.3168317136,
          672.6955445852,
          679.0742574568,
          685.4529703284,
          691.8316832
         ],
         "y": [
          0,
          0,
          0,
          0,
          0,
          0,
          0,
          0,
          0,
          0,
          0,
          0,
          0,
          0,
          0,
          0,
          0,
          0,
          0,
          0,
          0,
          0,
          0,
          0,
          0,
          0,
          0,
          0,
          0,
          0,
          0,
          0,
          0,
          0,
          0,
          0,
          0,
          0,
          0,
          0,
          0,
          0,
          1,
          1,
          1,
          1,
          1,
          1,
          1,
          1,
          1,
          1,
          1,
          1,
          1,
          1,
          1,
          1,
          1,
          1,
          1,
          1,
          1,
          1,
          1,
          1,
          1,
          1,
          1,
          1,
          1,
          1,
          1,
          1,
          1,
          1,
          1,
          1,
          1,
          1,
          1,
          1,
          1,
          1,
          1,
          1,
          1,
          1,
          1,
          1,
          1,
          1,
          1,
          1,
          1,
          1,
          1,
          1,
          1,
          1,
          1
         ]
        },
        {
         "name": "Data Fit",
         "type": "scatter",
         "x": [
          53.96039604,
          60.3391089116,
          66.7178217832,
          73.0965346548,
          79.4752475264,
          85.853960398,
          92.2326732696,
          98.6113861412,
          104.9900990128,
          111.3688118844,
          117.747524756,
          124.1262376276,
          130.5049504992,
          136.8836633708,
          143.2623762424,
          149.641089114,
          156.0198019856,
          162.3985148572,
          168.7772277288,
          175.15594060040002,
          181.534653472,
          187.91336634360002,
          194.2920792152,
          200.67079208680002,
          207.0495049584,
          213.42821783000002,
          219.8069307016,
          226.18564357320003,
          232.5643564448,
          238.94306931640003,
          245.32178218800001,
          251.70049505960003,
          258.0792079312,
          264.4579208028,
          270.8366336744,
          277.215346546,
          283.5940594176,
          289.9727722892,
          296.3514851608,
          302.7301980324,
          309.108910904,
          315.4876237756,
          321.8663366472,
          328.2450495188,
          334.6237623904,
          341.002475262,
          347.3811881336,
          353.7599010052,
          360.1386138768,
          366.51732674839997,
          372.89603962,
          379.2747524916,
          385.6534653632,
          392.03217823479997,
          398.4108911064,
          404.789603978,
          411.1683168496,
          417.5470297212,
          423.9257425928,
          430.3044554644,
          436.683168336,
          443.0618812076,
          449.4405940792,
          455.8193069508,
          462.1980198224,
          468.576732694,
          474.9554455656,
          481.3341584372,
          487.7128713088,
          494.0915841804,
          500.470297052,
          506.8490099236,
          513.2277227952001,
          519.6064356668,
          525.9851485384,
          532.36386141,
          538.7425742816,
          545.1212871532,
          551.5000000248,
          557.8787128964001,
          564.2574257680001,
          570.6361386396,
          577.0148515112,
          583.3935643828,
          589.7722772544,
          596.150990126,
          602.5297029976,
          608.9084158692,
          615.2871287408,
          621.6658416124,
          628.0445544840001,
          634.4232673556,
          640.8019802272,
          647.1806930988,
          653.5594059704,
          659.938118842,
          666.3168317136,
          672.6955445852,
          679.0742574568,
          685.4529703284,
          691.8316832
         ],
         "y": [
          0.8294553249978335,
          0.8113223466685625,
          0.7935857789634451,
          0.7762369558277332,
          0.7592674006579713,
          0.7426688221603424,
          0.7264331102995571,
          0.7105523323363062,
          0.6950187289513369,
          0.6798247104542647,
          0.6649628530752645,
          0.6504258953378294,
          0.6362067345108272,
          0.6222984231381187,
          0.6086941656440427,
          0.5953873150131109,
          0.582371369542288,
          0.5696399696642707,
          0.5571868948402158,
          0.5450060605203954,
          0.5330915151712972,
          0.5214374373677161,
          0.5100381329484165,
          0.49888803223397515,
          0.48798168730544644,
          0.47731376934251823,
          0.4668790660198612,
          0.45667247896039465,
          0.44668902124423027,
          0.4369238149720709,
          0.4273720888818784,
          0.41802917601764344,
          0.4088905114491199,
          0.3999516300414072,
          0.3912081642732943,
          0.38265584210329684,
          0.3742904848823444,
          0.3661080053121015,
          0.35810440544792055,
          0.3502757747454526,
          0.34261828814996353,
          0.33512820422741896,
          0.32780186333642614,
          0.32063568584014024,
          0.3136261703572595,
          0.3067698920512576,
          0.30006350095701406,
          0.2935037203440283,
          0.28708734511541345,
          0.28081124024189386,
          0.27467233923003365,
          0.26866764262395504,
          0.2627942165398085,
          0.2570491912322834,
          0.2514297596924546,
          0.24593317627628464,
          0.24055675536310483,
          0.23529787004342806,
          0.23015395083544377,
          0.2251224844295755,
          0.22020101246048085,
          0.21538713030589962,
          0.21067848591175942,
          0.20607277864296647,
          0.20156775815931915,
          0.19716122331599628,
          0.1928510210880814,
          0.188635045518599,
          0.1845112366895476,
          0.18047757971542744,
          0.1765321037587716,
          0.1726728810671978,
          0.16889802603151216,
          0.16520569426440457,
          0.1615940816992837,
          0.1580614237088136,
          0.15460599424272015,
          0.15122610498444577,
          0.14792010452624127,
          0.14468637756229075,
          0.1415233440994763,
          0.13842945868539647,
          0.13540320965326003,
          0.13244311838328993,
          0.12954773858027102,
          0.12671565556689324,
          0.12394548559254304,
          0.12123587515720535,
          0.11858550035014559,
          0.11599306620304972,
          0.11345730605730453,
          0.11097698094511121,
          0.10855087898412752,
          0.10617781478534427,
          0.10385662887390656,
          0.10158618712259626,
          0.09936538019770003,
          0.09719312301699001,
          0.09506835421955562,
          0.09299003564722352,
          0.09095715183731656
         ]
        }
       ],
       "layout": {
        "height": 600,
        "template": {
         "data": {
          "bar": [
           {
            "error_x": {
             "color": "#2a3f5f"
            },
            "error_y": {
             "color": "#2a3f5f"
            },
            "marker": {
             "line": {
              "color": "#E5ECF6",
              "width": 0.5
             },
             "pattern": {
              "fillmode": "overlay",
              "size": 10,
              "solidity": 0.2
             }
            },
            "type": "bar"
           }
          ],
          "barpolar": [
           {
            "marker": {
             "line": {
              "color": "#E5ECF6",
              "width": 0.5
             },
             "pattern": {
              "fillmode": "overlay",
              "size": 10,
              "solidity": 0.2
             }
            },
            "type": "barpolar"
           }
          ],
          "carpet": [
           {
            "aaxis": {
             "endlinecolor": "#2a3f5f",
             "gridcolor": "white",
             "linecolor": "white",
             "minorgridcolor": "white",
             "startlinecolor": "#2a3f5f"
            },
            "baxis": {
             "endlinecolor": "#2a3f5f",
             "gridcolor": "white",
             "linecolor": "white",
             "minorgridcolor": "white",
             "startlinecolor": "#2a3f5f"
            },
            "type": "carpet"
           }
          ],
          "choropleth": [
           {
            "colorbar": {
             "outlinewidth": 0,
             "ticks": ""
            },
            "type": "choropleth"
           }
          ],
          "contour": [
           {
            "colorbar": {
             "outlinewidth": 0,
             "ticks": ""
            },
            "colorscale": [
             [
              0,
              "#0d0887"
             ],
             [
              0.1111111111111111,
              "#46039f"
             ],
             [
              0.2222222222222222,
              "#7201a8"
             ],
             [
              0.3333333333333333,
              "#9c179e"
             ],
             [
              0.4444444444444444,
              "#bd3786"
             ],
             [
              0.5555555555555556,
              "#d8576b"
             ],
             [
              0.6666666666666666,
              "#ed7953"
             ],
             [
              0.7777777777777778,
              "#fb9f3a"
             ],
             [
              0.8888888888888888,
              "#fdca26"
             ],
             [
              1,
              "#f0f921"
             ]
            ],
            "type": "contour"
           }
          ],
          "contourcarpet": [
           {
            "colorbar": {
             "outlinewidth": 0,
             "ticks": ""
            },
            "type": "contourcarpet"
           }
          ],
          "heatmap": [
           {
            "colorbar": {
             "outlinewidth": 0,
             "ticks": ""
            },
            "colorscale": [
             [
              0,
              "#0d0887"
             ],
             [
              0.1111111111111111,
              "#46039f"
             ],
             [
              0.2222222222222222,
              "#7201a8"
             ],
             [
              0.3333333333333333,
              "#9c179e"
             ],
             [
              0.4444444444444444,
              "#bd3786"
             ],
             [
              0.5555555555555556,
              "#d8576b"
             ],
             [
              0.6666666666666666,
              "#ed7953"
             ],
             [
              0.7777777777777778,
              "#fb9f3a"
             ],
             [
              0.8888888888888888,
              "#fdca26"
             ],
             [
              1,
              "#f0f921"
             ]
            ],
            "type": "heatmap"
           }
          ],
          "heatmapgl": [
           {
            "colorbar": {
             "outlinewidth": 0,
             "ticks": ""
            },
            "colorscale": [
             [
              0,
              "#0d0887"
             ],
             [
              0.1111111111111111,
              "#46039f"
             ],
             [
              0.2222222222222222,
              "#7201a8"
             ],
             [
              0.3333333333333333,
              "#9c179e"
             ],
             [
              0.4444444444444444,
              "#bd3786"
             ],
             [
              0.5555555555555556,
              "#d8576b"
             ],
             [
              0.6666666666666666,
              "#ed7953"
             ],
             [
              0.7777777777777778,
              "#fb9f3a"
             ],
             [
              0.8888888888888888,
              "#fdca26"
             ],
             [
              1,
              "#f0f921"
             ]
            ],
            "type": "heatmapgl"
           }
          ],
          "histogram": [
           {
            "marker": {
             "pattern": {
              "fillmode": "overlay",
              "size": 10,
              "solidity": 0.2
             }
            },
            "type": "histogram"
           }
          ],
          "histogram2d": [
           {
            "colorbar": {
             "outlinewidth": 0,
             "ticks": ""
            },
            "colorscale": [
             [
              0,
              "#0d0887"
             ],
             [
              0.1111111111111111,
              "#46039f"
             ],
             [
              0.2222222222222222,
              "#7201a8"
             ],
             [
              0.3333333333333333,
              "#9c179e"
             ],
             [
              0.4444444444444444,
              "#bd3786"
             ],
             [
              0.5555555555555556,
              "#d8576b"
             ],
             [
              0.6666666666666666,
              "#ed7953"
             ],
             [
              0.7777777777777778,
              "#fb9f3a"
             ],
             [
              0.8888888888888888,
              "#fdca26"
             ],
             [
              1,
              "#f0f921"
             ]
            ],
            "type": "histogram2d"
           }
          ],
          "histogram2dcontour": [
           {
            "colorbar": {
             "outlinewidth": 0,
             "ticks": ""
            },
            "colorscale": [
             [
              0,
              "#0d0887"
             ],
             [
              0.1111111111111111,
              "#46039f"
             ],
             [
              0.2222222222222222,
              "#7201a8"
             ],
             [
              0.3333333333333333,
              "#9c179e"
             ],
             [
              0.4444444444444444,
              "#bd3786"
             ],
             [
              0.5555555555555556,
              "#d8576b"
             ],
             [
              0.6666666666666666,
              "#ed7953"
             ],
             [
              0.7777777777777778,
              "#fb9f3a"
             ],
             [
              0.8888888888888888,
              "#fdca26"
             ],
             [
              1,
              "#f0f921"
             ]
            ],
            "type": "histogram2dcontour"
           }
          ],
          "mesh3d": [
           {
            "colorbar": {
             "outlinewidth": 0,
             "ticks": ""
            },
            "type": "mesh3d"
           }
          ],
          "parcoords": [
           {
            "line": {
             "colorbar": {
              "outlinewidth": 0,
              "ticks": ""
             }
            },
            "type": "parcoords"
           }
          ],
          "pie": [
           {
            "automargin": true,
            "type": "pie"
           }
          ],
          "scatter": [
           {
            "fillpattern": {
             "fillmode": "overlay",
             "size": 10,
             "solidity": 0.2
            },
            "type": "scatter"
           }
          ],
          "scatter3d": [
           {
            "line": {
             "colorbar": {
              "outlinewidth": 0,
              "ticks": ""
             }
            },
            "marker": {
             "colorbar": {
              "outlinewidth": 0,
              "ticks": ""
             }
            },
            "type": "scatter3d"
           }
          ],
          "scattercarpet": [
           {
            "marker": {
             "colorbar": {
              "outlinewidth": 0,
              "ticks": ""
             }
            },
            "type": "scattercarpet"
           }
          ],
          "scattergeo": [
           {
            "marker": {
             "colorbar": {
              "outlinewidth": 0,
              "ticks": ""
             }
            },
            "type": "scattergeo"
           }
          ],
          "scattergl": [
           {
            "marker": {
             "colorbar": {
              "outlinewidth": 0,
              "ticks": ""
             }
            },
            "type": "scattergl"
           }
          ],
          "scattermapbox": [
           {
            "marker": {
             "colorbar": {
              "outlinewidth": 0,
              "ticks": ""
             }
            },
            "type": "scattermapbox"
           }
          ],
          "scatterpolar": [
           {
            "marker": {
             "colorbar": {
              "outlinewidth": 0,
              "ticks": ""
             }
            },
            "type": "scatterpolar"
           }
          ],
          "scatterpolargl": [
           {
            "marker": {
             "colorbar": {
              "outlinewidth": 0,
              "ticks": ""
             }
            },
            "type": "scatterpolargl"
           }
          ],
          "scatterternary": [
           {
            "marker": {
             "colorbar": {
              "outlinewidth": 0,
              "ticks": ""
             }
            },
            "type": "scatterternary"
           }
          ],
          "surface": [
           {
            "colorbar": {
             "outlinewidth": 0,
             "ticks": ""
            },
            "colorscale": [
             [
              0,
              "#0d0887"
             ],
             [
              0.1111111111111111,
              "#46039f"
             ],
             [
              0.2222222222222222,
              "#7201a8"
             ],
             [
              0.3333333333333333,
              "#9c179e"
             ],
             [
              0.4444444444444444,
              "#bd3786"
             ],
             [
              0.5555555555555556,
              "#d8576b"
             ],
             [
              0.6666666666666666,
              "#ed7953"
             ],
             [
              0.7777777777777778,
              "#fb9f3a"
             ],
             [
              0.8888888888888888,
              "#fdca26"
             ],
             [
              1,
              "#f0f921"
             ]
            ],
            "type": "surface"
           }
          ],
          "table": [
           {
            "cells": {
             "fill": {
              "color": "#EBF0F8"
             },
             "line": {
              "color": "white"
             }
            },
            "header": {
             "fill": {
              "color": "#C8D4E3"
             },
             "line": {
              "color": "white"
             }
            },
            "type": "table"
           }
          ]
         },
         "layout": {
          "annotationdefaults": {
           "arrowcolor": "#2a3f5f",
           "arrowhead": 0,
           "arrowwidth": 1
          },
          "autotypenumbers": "strict",
          "coloraxis": {
           "colorbar": {
            "outlinewidth": 0,
            "ticks": ""
           }
          },
          "colorscale": {
           "diverging": [
            [
             0,
             "#8e0152"
            ],
            [
             0.1,
             "#c51b7d"
            ],
            [
             0.2,
             "#de77ae"
            ],
            [
             0.3,
             "#f1b6da"
            ],
            [
             0.4,
             "#fde0ef"
            ],
            [
             0.5,
             "#f7f7f7"
            ],
            [
             0.6,
             "#e6f5d0"
            ],
            [
             0.7,
             "#b8e186"
            ],
            [
             0.8,
             "#7fbc41"
            ],
            [
             0.9,
             "#4d9221"
            ],
            [
             1,
             "#276419"
            ]
           ],
           "sequential": [
            [
             0,
             "#0d0887"
            ],
            [
             0.1111111111111111,
             "#46039f"
            ],
            [
             0.2222222222222222,
             "#7201a8"
            ],
            [
             0.3333333333333333,
             "#9c179e"
            ],
            [
             0.4444444444444444,
             "#bd3786"
            ],
            [
             0.5555555555555556,
             "#d8576b"
            ],
            [
             0.6666666666666666,
             "#ed7953"
            ],
            [
             0.7777777777777778,
             "#fb9f3a"
            ],
            [
             0.8888888888888888,
             "#fdca26"
            ],
            [
             1,
             "#f0f921"
            ]
           ],
           "sequentialminus": [
            [
             0,
             "#0d0887"
            ],
            [
             0.1111111111111111,
             "#46039f"
            ],
            [
             0.2222222222222222,
             "#7201a8"
            ],
            [
             0.3333333333333333,
             "#9c179e"
            ],
            [
             0.4444444444444444,
             "#bd3786"
            ],
            [
             0.5555555555555556,
             "#d8576b"
            ],
            [
             0.6666666666666666,
             "#ed7953"
            ],
            [
             0.7777777777777778,
             "#fb9f3a"
            ],
            [
             0.8888888888888888,
             "#fdca26"
            ],
            [
             1,
             "#f0f921"
            ]
           ]
          },
          "colorway": [
           "#636efa",
           "#EF553B",
           "#00cc96",
           "#ab63fa",
           "#FFA15A",
           "#19d3f3",
           "#FF6692",
           "#B6E880",
           "#FF97FF",
           "#FECB52"
          ],
          "font": {
           "color": "#2a3f5f"
          },
          "geo": {
           "bgcolor": "white",
           "lakecolor": "white",
           "landcolor": "#E5ECF6",
           "showlakes": true,
           "showland": true,
           "subunitcolor": "white"
          },
          "hoverlabel": {
           "align": "left"
          },
          "hovermode": "closest",
          "mapbox": {
           "style": "light"
          },
          "paper_bgcolor": "white",
          "plot_bgcolor": "#E5ECF6",
          "polar": {
           "angularaxis": {
            "gridcolor": "white",
            "linecolor": "white",
            "ticks": ""
           },
           "bgcolor": "#E5ECF6",
           "radialaxis": {
            "gridcolor": "white",
            "linecolor": "white",
            "ticks": ""
           }
          },
          "scene": {
           "xaxis": {
            "backgroundcolor": "#E5ECF6",
            "gridcolor": "white",
            "gridwidth": 2,
            "linecolor": "white",
            "showbackground": true,
            "ticks": "",
            "zerolinecolor": "white"
           },
           "yaxis": {
            "backgroundcolor": "#E5ECF6",
            "gridcolor": "white",
            "gridwidth": 2,
            "linecolor": "white",
            "showbackground": true,
            "ticks": "",
            "zerolinecolor": "white"
           },
           "zaxis": {
            "backgroundcolor": "#E5ECF6",
            "gridcolor": "white",
            "gridwidth": 2,
            "linecolor": "white",
            "showbackground": true,
            "ticks": "",
            "zerolinecolor": "white"
           }
          },
          "shapedefaults": {
           "line": {
            "color": "#2a3f5f"
           }
          },
          "ternary": {
           "aaxis": {
            "gridcolor": "white",
            "linecolor": "white",
            "ticks": ""
           },
           "baxis": {
            "gridcolor": "white",
            "linecolor": "white",
            "ticks": ""
           },
           "bgcolor": "#E5ECF6",
           "caxis": {
            "gridcolor": "white",
            "linecolor": "white",
            "ticks": ""
           }
          },
          "title": {
           "x": 0.05
          },
          "xaxis": {
           "automargin": true,
           "gridcolor": "white",
           "linecolor": "white",
           "ticks": "",
           "title": {
            "standoff": 15
           },
           "zerolinecolor": "white",
           "zerolinewidth": 2
          },
          "yaxis": {
           "automargin": true,
           "gridcolor": "white",
           "linecolor": "white",
           "ticks": "",
           "title": {
            "standoff": 15
           },
           "zerolinecolor": "white",
           "zerolinewidth": 2
          }
         }
        },
        "title": {
         "text": "Jet Energy L1T Efficiency"
        },
        "width": 800,
        "xaxis": {
         "title": {
          "text": "Momentum (GeV)"
         },
         "type": "linear"
        }
       }
      }
     },
     "metadata": {},
     "output_type": "display_data"
    }
   ],
   "source": [
    "fig = go.Figure()\n",
    "fig.add_scatter(x = jet_energy[\"x\"], y = jet_energy[\" y\"], name = \"Data\")\n",
    "fig.add_scatter(x = jet_xs, y = jet_spl(jet_xs), name = \"Interpolation\")\n",
    "fig.add_scatter(x = jet_xs, y = jet_ideal(jet_xs), name = \"Ideal\", line_dash=\"dash\")\n",
    "fig.add_scatter(x = jet_xs, y = 1.0 - exp_cdf(jet_xs, jet_l), name = \"Data Fit\")\n",
    "fig.update_layout(width = 800,\n",
    "                  height = 600,\n",
    "                  title = \"Jet Energy L1T Efficiency\",\n",
    "                  xaxis_title = \"Momentum (GeV)\"\n",
    "                  )\n",
    "fig.update_xaxes(type = \"linear\")"
   ]
  },
  {
   "cell_type": "markdown",
   "metadata": {},
   "source": [
    "## Fit to Muon"
   ]
  },
  {
   "cell_type": "code",
   "execution_count": 33,
   "metadata": {},
   "outputs": [],
   "source": [
    "muon_xs = data_range(muon[\"x\"])\n",
    "muon_spl = PchipInterpolator(muon[\"x\"], muon[\" y\"])"
   ]
  },
  {
   "cell_type": "code",
   "execution_count": 34,
   "metadata": {},
   "outputs": [
    {
     "name": "stderr",
     "output_type": "stream",
     "text": [
      "/var/folders/qc/b4ggx3516_qc8fy84rgtp36c0000gq/T/ipykernel_89811/304049715.py:2: IntegrationWarning:\n",
      "\n",
      "The maximum number of subdivisions (50) has been achieved.\n",
      "  If increasing the limit yields no improvement it is advised to analyze \n",
      "  the integrand in order to determine the difficulties.  If the position of a \n",
      "  local difficulty can be determined (singularity, discontinuity) one will \n",
      "  probably gain from splitting up the interval and calling the integrator \n",
      "  on the subranges.  Perhaps a special-purpose integrator should be used.\n",
      "\n"
     ]
    }
   ],
   "source": [
    "#fit to muon - minimize the difference between the trigger efficiency multiplied by the underlying distribution and the trigger rate\n",
    "muon_fit = lambda l: np.abs(muon_rate - quad(lambda x: exp_dist(x, l) * muon_spl(x), 0, np.max(muon_xs))[0])\n",
    "muon_soln = minimize_scalar(muon_fit, bounds = [0.00, 0.60], method=\"bounded\")\n",
    "muon_l = muon_soln.x"
   ]
  },
  {
   "cell_type": "code",
   "execution_count": 35,
   "metadata": {},
   "outputs": [
    {
     "data": {
      "text/plain": [
       " message: Solution found.\n",
       " success: True\n",
       "  status: 0\n",
       "     fun: 1.1561599530418576e-05\n",
       "       x: 0.05513915504855077\n",
       "     nit: 18\n",
       "    nfev: 18"
      ]
     },
     "execution_count": 35,
     "metadata": {},
     "output_type": "execute_result"
    }
   ],
   "source": [
    "muon_soln"
   ]
  },
  {
   "cell_type": "code",
   "execution_count": 36,
   "metadata": {},
   "outputs": [
    {
     "data": {
      "text/plain": [
       "np.float64(0.05513915504855077)"
      ]
     },
     "execution_count": 36,
     "metadata": {},
     "output_type": "execute_result"
    }
   ],
   "source": [
    "muon_l"
   ]
  },
  {
   "cell_type": "code",
   "execution_count": 37,
   "metadata": {},
   "outputs": [],
   "source": [
    "muon_threshold = 22\n",
    "muon_ideal = lambda x: 1.0 * (x > muon_threshold)"
   ]
  },
  {
   "cell_type": "code",
   "execution_count": 38,
   "metadata": {},
   "outputs": [
    {
     "data": {
      "application/vnd.plotly.v1+json": {
       "config": {
        "plotlyServerURL": "https://plot.ly"
       },
       "data": [
        {
         "name": "data",
         "type": "scatter",
         "x": [
          3.56347438752784,
          8.017817371937639,
          10.69042316258352,
          11.469933184855234,
          12.47216035634744,
          13.474387527839644,
          14.476614699331847,
          15.5902004454343,
          16.592427616926503,
          17.59465478841871,
          18.48552338530067,
          19.487750556792875,
          20.601336302895323,
          21.603563474387528,
          22.605790645879733,
          23.608017817371937,
          24.4988864142539,
          25.389755011135858,
          26.28062360801782,
          27.060133630289535,
          28.28507795100223,
          29.28730512249443,
          30.957683741648108,
          33.073496659242764,
          34.85523385300668,
          37.08240534521158,
          38.97550111358575,
          40.86859688195992,
          42.98440979955457,
          44.98886414253898,
          46.99331848552339,
          49.10913140311804,
          52.67260579064588,
          57.57238307349666,
          62.472160356347445,
          67.59465478841871,
          72.49443207126949,
          77.61692650334076,
          82.62806236080179,
          87.52783964365257,
          92.65033407572383,
          97.66146993318486
         ],
         "y": [
          0,
          0.0123304562268803,
          0.0382244143033292,
          0.0752157829839704,
          0.1233045622688039,
          0.1738594327990135,
          0.2441430332922318,
          0.311960542540074,
          0.37731196054254,
          0.4512946979038224,
          0.5388409371146733,
          0.6300863131935882,
          0.7139334155363749,
          0.7891491985203453,
          0.8372379778051788,
          0.87422934648582,
          0.8939580764488286,
          0.9075215782983972,
          0.9149198520345252,
          0.9235511713933416,
          0.9272503082614056,
          0.9309494451294698,
          0.934648581997534,
          0.93711467324291,
          0.939580764488286,
          0.940813810110974,
          0.9420468557336622,
          0.9420468557336622,
          0.9432799013563502,
          0.9432799013563502,
          0.9445129469790382,
          0.9420468557336622,
          0.940813810110974,
          0.9432799013563502,
          0.9420468557336622,
          0.9420468557336622,
          0.9432799013563502,
          0.940813810110974,
          0.9420468557336622,
          0.940813810110974,
          0.940813810110974,
          0.938347718865598
         ]
        },
        {
         "name": "Interpolation",
         "type": "scatter",
         "x": [
          3.56347438752784,
          4.50445434298441,
          5.445434298440981,
          6.38641425389755,
          7.327394209354122,
          8.268374164810691,
          9.209354120267262,
          10.150334075723832,
          11.091314031180403,
          12.032293986636972,
          12.973273942093543,
          13.914253897550115,
          14.855233853006684,
          15.796213808463254,
          16.737193763919823,
          17.678173719376396,
          18.619153674832965,
          19.560133630289535,
          20.501113585746104,
          21.442093541202677,
          22.383073496659247,
          23.324053452115816,
          24.26503340757239,
          25.20601336302896,
          26.146993318485528,
          27.087973273942097,
          28.028953229398667,
          28.96993318485524,
          29.91091314031181,
          30.85189309576838,
          31.79287305122495,
          32.73385300668152,
          33.67483296213809,
          34.61581291759466,
          35.55679287305123,
          36.4977728285078,
          37.43875278396437,
          38.379732739420945,
          39.320712694877514,
          40.26169265033408,
          41.20267260579065,
          42.14365256124722,
          43.08463251670379,
          44.02561247216036,
          44.96659242761694,
          45.90757238307351,
          46.84855233853008,
          47.789532293986646,
          48.730512249443215,
          49.671492204899785,
          50.612472160356354,
          51.553452115812924,
          52.49443207126949,
          53.43541202672607,
          54.37639198218264,
          55.31737193763921,
          56.25835189309578,
          57.19933184855235,
          58.14031180400892,
          59.081291759465486,
          60.02227171492206,
          60.96325167037863,
          61.9042316258352,
          62.84521158129177,
          63.78619153674834,
          64.7271714922049,
          65.66815144766147,
          66.60913140311804,
          67.55011135857461,
          68.49109131403118,
          69.43207126948775,
          70.37305122494432,
          71.31403118040089,
          72.25501113585747,
          73.19599109131404,
          74.13697104677061,
          75.07795100222718,
          76.01893095768375,
          76.95991091314032,
          77.90089086859689,
          78.84187082405346,
          79.78285077951003,
          80.7238307349666,
          81.66481069042317,
          82.60579064587974,
          83.5467706013363,
          84.48775055679288,
          85.42873051224944,
          86.36971046770603,
          87.3106904231626,
          88.25167037861917,
          89.19265033407574,
          90.1336302895323,
          91.07461024498888,
          92.01559020044544,
          92.95657015590201,
          93.89755011135858,
          94.83853006681515,
          95.77951002227172,
          96.72048997772829,
          97.66146993318486
         ],
         "y": [
          0,
          0.0007103905740283708,
          0.0026700182450348745,
          0.005621566936401584,
          0.009307720571510593,
          0.013510023394299304,
          0.01944574736642372,
          0.029578982333633107,
          0.054466308458690084,
          0.10200290037742131,
          0.14739228151186493,
          0.20364672782102125,
          0.2677417254999149,
          0.3249734006638897,
          0.38732193284747496,
          0.45858664237037317,
          0.5514939700663049,
          0.6359966883671179,
          0.7064572209870718,
          0.7789098770319549,
          0.8278011392379652,
          0.8653915196985832,
          0.8895454423467632,
          0.9053273038549866,
          0.91373426688762,
          0.9236865077740973,
          0.9265086639736737,
          0.9298814826793294,
          0.932577990382638,
          0.934480190218044,
          0.9357179161811917,
          0.9367115618713623,
          0.9379945284505781,
          0.9393502943980131,
          0.9400444866259057,
          0.9405037421177127,
          0.9410692863221211,
          0.9418344299727214,
          0.9420468557336622,
          0.9420468557336622,
          0.9421293703773149,
          0.9428505367227017,
          0.9432799013563502,
          0.9432799013563502,
          0.9432799013563502,
          0.9438195372082934,
          0.9444945811112295,
          0.9438326301098487,
          0.9423982805105098,
          0.9417412950554737,
          0.9412925807956591,
          0.9409674135021313,
          0.9408180153828395,
          0.9409745105264552,
          0.9415009923539127,
          0.94219367018583,
          0.9428429386135972,
          0.9432391922286049,
          0.9432340440271862,
          0.9430011126382486,
          0.9426633785450061,
          0.9423256444517637,
          0.942092713062826,
          0.9420468557336622,
          0.9420468557336622,
          0.9420468557336622,
          0.9420468557336622,
          0.9420468557336622,
          0.9420468557336622,
          0.9421555724466125,
          0.9424369990752158,
          0.9427866404817691,
          0.9430996939619674,
          0.943271356811506,
          0.9431538015900178,
          0.942681834927094,
          0.9420307729352616,
          0.9413840526483725,
          0.9409251111002784,
          0.9408252397132026,
          0.9409988244626778,
          0.9413057411246932,
          0.94164801972873,
          0.9419276903042697,
          0.9420467828807938,
          0.941933063925709,
          0.9416488118329303,
          0.9412988254995814,
          0.9409879076299675,
          0.9408208609283936,
          0.940813810110974,
          0.940813810110974,
          0.940813810110974,
          0.940813810110974,
          0.940813810110974,
          0.940800229332471,
          0.940603044705938,
          0.9402096780641834,
          0.9396696526890083,
          0.9390324918622129,
          0.938347718865598
         ]
        },
        {
         "line": {
          "dash": "dash"
         },
         "name": "Ideal",
         "type": "scatter",
         "x": [
          3.56347438752784,
          4.50445434298441,
          5.445434298440981,
          6.38641425389755,
          7.327394209354122,
          8.268374164810691,
          9.209354120267262,
          10.150334075723832,
          11.091314031180403,
          12.032293986636972,
          12.973273942093543,
          13.914253897550115,
          14.855233853006684,
          15.796213808463254,
          16.737193763919823,
          17.678173719376396,
          18.619153674832965,
          19.560133630289535,
          20.501113585746104,
          21.442093541202677,
          22.383073496659247,
          23.324053452115816,
          24.26503340757239,
          25.20601336302896,
          26.146993318485528,
          27.087973273942097,
          28.028953229398667,
          28.96993318485524,
          29.91091314031181,
          30.85189309576838,
          31.79287305122495,
          32.73385300668152,
          33.67483296213809,
          34.61581291759466,
          35.55679287305123,
          36.4977728285078,
          37.43875278396437,
          38.379732739420945,
          39.320712694877514,
          40.26169265033408,
          41.20267260579065,
          42.14365256124722,
          43.08463251670379,
          44.02561247216036,
          44.96659242761694,
          45.90757238307351,
          46.84855233853008,
          47.789532293986646,
          48.730512249443215,
          49.671492204899785,
          50.612472160356354,
          51.553452115812924,
          52.49443207126949,
          53.43541202672607,
          54.37639198218264,
          55.31737193763921,
          56.25835189309578,
          57.19933184855235,
          58.14031180400892,
          59.081291759465486,
          60.02227171492206,
          60.96325167037863,
          61.9042316258352,
          62.84521158129177,
          63.78619153674834,
          64.7271714922049,
          65.66815144766147,
          66.60913140311804,
          67.55011135857461,
          68.49109131403118,
          69.43207126948775,
          70.37305122494432,
          71.31403118040089,
          72.25501113585747,
          73.19599109131404,
          74.13697104677061,
          75.07795100222718,
          76.01893095768375,
          76.95991091314032,
          77.90089086859689,
          78.84187082405346,
          79.78285077951003,
          80.7238307349666,
          81.66481069042317,
          82.60579064587974,
          83.5467706013363,
          84.48775055679288,
          85.42873051224944,
          86.36971046770603,
          87.3106904231626,
          88.25167037861917,
          89.19265033407574,
          90.1336302895323,
          91.07461024498888,
          92.01559020044544,
          92.95657015590201,
          93.89755011135858,
          94.83853006681515,
          95.77951002227172,
          96.72048997772829,
          97.66146993318486
         ],
         "y": [
          0,
          0,
          0,
          0,
          0,
          0,
          0,
          0,
          0,
          0,
          0,
          0,
          0,
          0,
          0,
          0,
          0,
          0,
          0,
          0,
          1,
          1,
          1,
          1,
          1,
          1,
          1,
          1,
          1,
          1,
          1,
          1,
          1,
          1,
          1,
          1,
          1,
          1,
          1,
          1,
          1,
          1,
          1,
          1,
          1,
          1,
          1,
          1,
          1,
          1,
          1,
          1,
          1,
          1,
          1,
          1,
          1,
          1,
          1,
          1,
          1,
          1,
          1,
          1,
          1,
          1,
          1,
          1,
          1,
          1,
          1,
          1,
          1,
          1,
          1,
          1,
          1,
          1,
          1,
          1,
          1,
          1,
          1,
          1,
          1,
          1,
          1,
          1,
          1,
          1,
          1,
          1,
          1,
          1,
          1,
          1,
          1,
          1,
          1,
          1,
          1
         ]
        },
        {
         "name": "Data Fit",
         "type": "scatter",
         "x": [
          3.56347438752784,
          4.50445434298441,
          5.445434298440981,
          6.38641425389755,
          7.327394209354122,
          8.268374164810691,
          9.209354120267262,
          10.150334075723832,
          11.091314031180403,
          12.032293986636972,
          12.973273942093543,
          13.914253897550115,
          14.855233853006684,
          15.796213808463254,
          16.737193763919823,
          17.678173719376396,
          18.619153674832965,
          19.560133630289535,
          20.501113585746104,
          21.442093541202677,
          22.383073496659247,
          23.324053452115816,
          24.26503340757239,
          25.20601336302896,
          26.146993318485528,
          27.087973273942097,
          28.028953229398667,
          28.96993318485524,
          29.91091314031181,
          30.85189309576838,
          31.79287305122495,
          32.73385300668152,
          33.67483296213809,
          34.61581291759466,
          35.55679287305123,
          36.4977728285078,
          37.43875278396437,
          38.379732739420945,
          39.320712694877514,
          40.26169265033408,
          41.20267260579065,
          42.14365256124722,
          43.08463251670379,
          44.02561247216036,
          44.96659242761694,
          45.90757238307351,
          46.84855233853008,
          47.789532293986646,
          48.730512249443215,
          49.671492204899785,
          50.612472160356354,
          51.553452115812924,
          52.49443207126949,
          53.43541202672607,
          54.37639198218264,
          55.31737193763921,
          56.25835189309578,
          57.19933184855235,
          58.14031180400892,
          59.081291759465486,
          60.02227171492206,
          60.96325167037863,
          61.9042316258352,
          62.84521158129177,
          63.78619153674834,
          64.7271714922049,
          65.66815144766147,
          66.60913140311804,
          67.55011135857461,
          68.49109131403118,
          69.43207126948775,
          70.37305122494432,
          71.31403118040089,
          72.25501113585747,
          73.19599109131404,
          74.13697104677061,
          75.07795100222718,
          76.01893095768375,
          76.95991091314032,
          77.90089086859689,
          78.84187082405346,
          79.78285077951003,
          80.7238307349666,
          81.66481069042317,
          82.60579064587974,
          83.5467706013363,
          84.48775055679288,
          85.42873051224944,
          86.36971046770603,
          87.3106904231626,
          88.25167037861917,
          89.19265033407574,
          90.1336302895323,
          91.07461024498888,
          92.01559020044544,
          92.95657015590201,
          93.89755011135858,
          94.83853006681515,
          95.77951002227172,
          96.72048997772829,
          97.66146993318486
         ],
         "y": [
          0.8216120394879027,
          0.7800698543676031,
          0.7406281169788689,
          0.7031806248997463,
          0.6676265454940935,
          0.6338701444055356,
          0.6018205277792524,
          0.5713913975174992,
          0.542500818909847,
          0.5150710000124588,
          0.4890280821823453,
          0.4643019412025877,
          0.44082599846302617,
          0.4185370416879939,
          0.39737505472837953,
          0.37728305595970935,
          0.35820694485111426,
          0.3400953562920459,
          0.32289952228449614,
          0.30657314062830765,
          0.29107225024599204,
          0.2763551128113485,
          0.2623821003631548,
          0.24911558860131033,
          0.23651985557812072,
          0.22456098551193115,
          0.2132067774641182,
          0.2024266586335356,
          0.19219160203495,
          0.18247404833980307,
          0.17324783166884572,
          0.16448810913682976,
          0.1561712939595482,
          0.14827499194310267,
          0.1407779411843888,
          0.13365995482043325,
          0.12690186667242842,
          0.12048547963810075,
          0.11439351669345632,
          0.10860957437196406,
          0.10311807859591715,
          0.0979042427410396,
          0.09295402782142126,
          0.088254104687576,
          0.08379181813583225,
          0.07955515283241876,
          0.07553270096048914,
          0.07171363150297161,
          0.06808766107853359,
          0.06464502625213098,
          0.061376457245588156,
          0.05827315297741609,
          0.05532675736466408,
          0.05252933682299177,
          0.04987335890437772,
          0.047351672014944945,
          0.04495748615828854,
          0.04268435465245646,
          0.04052615677135174,
          0.03847708126381766,
          0.03653161070602662,
          0.03468450664504141,
          0.03293079549354383,
          0.03126575513775243,
          0.029684902222466447,
          0.0281839800790028,
          0.026758947263516686,
          0.025405966674845848,
          0.024121395222576947,
          0.022901774017511922,
          0.02174381905812295,
          0.02064441238791659,
          0.01960059369989786,
          0.018609552365527304,
          0.01766861986670898,
          0.016775262610429498,
          0.015927075106703992,
          0.015121773491455048,
          0.014357189376888235,
          0.013631264012803235,
          0.012942042743119164,
          0.01228766974268869,
          0.011666383020227822,
          0.011076509673906498,
          0.010516461386825604,
          0.009984730150250365,
          0.009479884203084765,
          0.009000564176653514,
          0.008545479434411085,
          0.008113404596720941,
          0.007703176241348975,
          0.007313689770785725,
          0.006943896437961894,
          0.006592800522349784,
          0.006259456648845418,
          0.005942967242213881,
          0.005642480110241266,
          0.005357186149087312,
          0.005086317164660126,
          0.0048291438041448975,
          0.004584973592119512
         ]
        }
       ],
       "layout": {
        "height": 600,
        "template": {
         "data": {
          "bar": [
           {
            "error_x": {
             "color": "#2a3f5f"
            },
            "error_y": {
             "color": "#2a3f5f"
            },
            "marker": {
             "line": {
              "color": "#E5ECF6",
              "width": 0.5
             },
             "pattern": {
              "fillmode": "overlay",
              "size": 10,
              "solidity": 0.2
             }
            },
            "type": "bar"
           }
          ],
          "barpolar": [
           {
            "marker": {
             "line": {
              "color": "#E5ECF6",
              "width": 0.5
             },
             "pattern": {
              "fillmode": "overlay",
              "size": 10,
              "solidity": 0.2
             }
            },
            "type": "barpolar"
           }
          ],
          "carpet": [
           {
            "aaxis": {
             "endlinecolor": "#2a3f5f",
             "gridcolor": "white",
             "linecolor": "white",
             "minorgridcolor": "white",
             "startlinecolor": "#2a3f5f"
            },
            "baxis": {
             "endlinecolor": "#2a3f5f",
             "gridcolor": "white",
             "linecolor": "white",
             "minorgridcolor": "white",
             "startlinecolor": "#2a3f5f"
            },
            "type": "carpet"
           }
          ],
          "choropleth": [
           {
            "colorbar": {
             "outlinewidth": 0,
             "ticks": ""
            },
            "type": "choropleth"
           }
          ],
          "contour": [
           {
            "colorbar": {
             "outlinewidth": 0,
             "ticks": ""
            },
            "colorscale": [
             [
              0,
              "#0d0887"
             ],
             [
              0.1111111111111111,
              "#46039f"
             ],
             [
              0.2222222222222222,
              "#7201a8"
             ],
             [
              0.3333333333333333,
              "#9c179e"
             ],
             [
              0.4444444444444444,
              "#bd3786"
             ],
             [
              0.5555555555555556,
              "#d8576b"
             ],
             [
              0.6666666666666666,
              "#ed7953"
             ],
             [
              0.7777777777777778,
              "#fb9f3a"
             ],
             [
              0.8888888888888888,
              "#fdca26"
             ],
             [
              1,
              "#f0f921"
             ]
            ],
            "type": "contour"
           }
          ],
          "contourcarpet": [
           {
            "colorbar": {
             "outlinewidth": 0,
             "ticks": ""
            },
            "type": "contourcarpet"
           }
          ],
          "heatmap": [
           {
            "colorbar": {
             "outlinewidth": 0,
             "ticks": ""
            },
            "colorscale": [
             [
              0,
              "#0d0887"
             ],
             [
              0.1111111111111111,
              "#46039f"
             ],
             [
              0.2222222222222222,
              "#7201a8"
             ],
             [
              0.3333333333333333,
              "#9c179e"
             ],
             [
              0.4444444444444444,
              "#bd3786"
             ],
             [
              0.5555555555555556,
              "#d8576b"
             ],
             [
              0.6666666666666666,
              "#ed7953"
             ],
             [
              0.7777777777777778,
              "#fb9f3a"
             ],
             [
              0.8888888888888888,
              "#fdca26"
             ],
             [
              1,
              "#f0f921"
             ]
            ],
            "type": "heatmap"
           }
          ],
          "heatmapgl": [
           {
            "colorbar": {
             "outlinewidth": 0,
             "ticks": ""
            },
            "colorscale": [
             [
              0,
              "#0d0887"
             ],
             [
              0.1111111111111111,
              "#46039f"
             ],
             [
              0.2222222222222222,
              "#7201a8"
             ],
             [
              0.3333333333333333,
              "#9c179e"
             ],
             [
              0.4444444444444444,
              "#bd3786"
             ],
             [
              0.5555555555555556,
              "#d8576b"
             ],
             [
              0.6666666666666666,
              "#ed7953"
             ],
             [
              0.7777777777777778,
              "#fb9f3a"
             ],
             [
              0.8888888888888888,
              "#fdca26"
             ],
             [
              1,
              "#f0f921"
             ]
            ],
            "type": "heatmapgl"
           }
          ],
          "histogram": [
           {
            "marker": {
             "pattern": {
              "fillmode": "overlay",
              "size": 10,
              "solidity": 0.2
             }
            },
            "type": "histogram"
           }
          ],
          "histogram2d": [
           {
            "colorbar": {
             "outlinewidth": 0,
             "ticks": ""
            },
            "colorscale": [
             [
              0,
              "#0d0887"
             ],
             [
              0.1111111111111111,
              "#46039f"
             ],
             [
              0.2222222222222222,
              "#7201a8"
             ],
             [
              0.3333333333333333,
              "#9c179e"
             ],
             [
              0.4444444444444444,
              "#bd3786"
             ],
             [
              0.5555555555555556,
              "#d8576b"
             ],
             [
              0.6666666666666666,
              "#ed7953"
             ],
             [
              0.7777777777777778,
              "#fb9f3a"
             ],
             [
              0.8888888888888888,
              "#fdca26"
             ],
             [
              1,
              "#f0f921"
             ]
            ],
            "type": "histogram2d"
           }
          ],
          "histogram2dcontour": [
           {
            "colorbar": {
             "outlinewidth": 0,
             "ticks": ""
            },
            "colorscale": [
             [
              0,
              "#0d0887"
             ],
             [
              0.1111111111111111,
              "#46039f"
             ],
             [
              0.2222222222222222,
              "#7201a8"
             ],
             [
              0.3333333333333333,
              "#9c179e"
             ],
             [
              0.4444444444444444,
              "#bd3786"
             ],
             [
              0.5555555555555556,
              "#d8576b"
             ],
             [
              0.6666666666666666,
              "#ed7953"
             ],
             [
              0.7777777777777778,
              "#fb9f3a"
             ],
             [
              0.8888888888888888,
              "#fdca26"
             ],
             [
              1,
              "#f0f921"
             ]
            ],
            "type": "histogram2dcontour"
           }
          ],
          "mesh3d": [
           {
            "colorbar": {
             "outlinewidth": 0,
             "ticks": ""
            },
            "type": "mesh3d"
           }
          ],
          "parcoords": [
           {
            "line": {
             "colorbar": {
              "outlinewidth": 0,
              "ticks": ""
             }
            },
            "type": "parcoords"
           }
          ],
          "pie": [
           {
            "automargin": true,
            "type": "pie"
           }
          ],
          "scatter": [
           {
            "fillpattern": {
             "fillmode": "overlay",
             "size": 10,
             "solidity": 0.2
            },
            "type": "scatter"
           }
          ],
          "scatter3d": [
           {
            "line": {
             "colorbar": {
              "outlinewidth": 0,
              "ticks": ""
             }
            },
            "marker": {
             "colorbar": {
              "outlinewidth": 0,
              "ticks": ""
             }
            },
            "type": "scatter3d"
           }
          ],
          "scattercarpet": [
           {
            "marker": {
             "colorbar": {
              "outlinewidth": 0,
              "ticks": ""
             }
            },
            "type": "scattercarpet"
           }
          ],
          "scattergeo": [
           {
            "marker": {
             "colorbar": {
              "outlinewidth": 0,
              "ticks": ""
             }
            },
            "type": "scattergeo"
           }
          ],
          "scattergl": [
           {
            "marker": {
             "colorbar": {
              "outlinewidth": 0,
              "ticks": ""
             }
            },
            "type": "scattergl"
           }
          ],
          "scattermapbox": [
           {
            "marker": {
             "colorbar": {
              "outlinewidth": 0,
              "ticks": ""
             }
            },
            "type": "scattermapbox"
           }
          ],
          "scatterpolar": [
           {
            "marker": {
             "colorbar": {
              "outlinewidth": 0,
              "ticks": ""
             }
            },
            "type": "scatterpolar"
           }
          ],
          "scatterpolargl": [
           {
            "marker": {
             "colorbar": {
              "outlinewidth": 0,
              "ticks": ""
             }
            },
            "type": "scatterpolargl"
           }
          ],
          "scatterternary": [
           {
            "marker": {
             "colorbar": {
              "outlinewidth": 0,
              "ticks": ""
             }
            },
            "type": "scatterternary"
           }
          ],
          "surface": [
           {
            "colorbar": {
             "outlinewidth": 0,
             "ticks": ""
            },
            "colorscale": [
             [
              0,
              "#0d0887"
             ],
             [
              0.1111111111111111,
              "#46039f"
             ],
             [
              0.2222222222222222,
              "#7201a8"
             ],
             [
              0.3333333333333333,
              "#9c179e"
             ],
             [
              0.4444444444444444,
              "#bd3786"
             ],
             [
              0.5555555555555556,
              "#d8576b"
             ],
             [
              0.6666666666666666,
              "#ed7953"
             ],
             [
              0.7777777777777778,
              "#fb9f3a"
             ],
             [
              0.8888888888888888,
              "#fdca26"
             ],
             [
              1,
              "#f0f921"
             ]
            ],
            "type": "surface"
           }
          ],
          "table": [
           {
            "cells": {
             "fill": {
              "color": "#EBF0F8"
             },
             "line": {
              "color": "white"
             }
            },
            "header": {
             "fill": {
              "color": "#C8D4E3"
             },
             "line": {
              "color": "white"
             }
            },
            "type": "table"
           }
          ]
         },
         "layout": {
          "annotationdefaults": {
           "arrowcolor": "#2a3f5f",
           "arrowhead": 0,
           "arrowwidth": 1
          },
          "autotypenumbers": "strict",
          "coloraxis": {
           "colorbar": {
            "outlinewidth": 0,
            "ticks": ""
           }
          },
          "colorscale": {
           "diverging": [
            [
             0,
             "#8e0152"
            ],
            [
             0.1,
             "#c51b7d"
            ],
            [
             0.2,
             "#de77ae"
            ],
            [
             0.3,
             "#f1b6da"
            ],
            [
             0.4,
             "#fde0ef"
            ],
            [
             0.5,
             "#f7f7f7"
            ],
            [
             0.6,
             "#e6f5d0"
            ],
            [
             0.7,
             "#b8e186"
            ],
            [
             0.8,
             "#7fbc41"
            ],
            [
             0.9,
             "#4d9221"
            ],
            [
             1,
             "#276419"
            ]
           ],
           "sequential": [
            [
             0,
             "#0d0887"
            ],
            [
             0.1111111111111111,
             "#46039f"
            ],
            [
             0.2222222222222222,
             "#7201a8"
            ],
            [
             0.3333333333333333,
             "#9c179e"
            ],
            [
             0.4444444444444444,
             "#bd3786"
            ],
            [
             0.5555555555555556,
             "#d8576b"
            ],
            [
             0.6666666666666666,
             "#ed7953"
            ],
            [
             0.7777777777777778,
             "#fb9f3a"
            ],
            [
             0.8888888888888888,
             "#fdca26"
            ],
            [
             1,
             "#f0f921"
            ]
           ],
           "sequentialminus": [
            [
             0,
             "#0d0887"
            ],
            [
             0.1111111111111111,
             "#46039f"
            ],
            [
             0.2222222222222222,
             "#7201a8"
            ],
            [
             0.3333333333333333,
             "#9c179e"
            ],
            [
             0.4444444444444444,
             "#bd3786"
            ],
            [
             0.5555555555555556,
             "#d8576b"
            ],
            [
             0.6666666666666666,
             "#ed7953"
            ],
            [
             0.7777777777777778,
             "#fb9f3a"
            ],
            [
             0.8888888888888888,
             "#fdca26"
            ],
            [
             1,
             "#f0f921"
            ]
           ]
          },
          "colorway": [
           "#636efa",
           "#EF553B",
           "#00cc96",
           "#ab63fa",
           "#FFA15A",
           "#19d3f3",
           "#FF6692",
           "#B6E880",
           "#FF97FF",
           "#FECB52"
          ],
          "font": {
           "color": "#2a3f5f"
          },
          "geo": {
           "bgcolor": "white",
           "lakecolor": "white",
           "landcolor": "#E5ECF6",
           "showlakes": true,
           "showland": true,
           "subunitcolor": "white"
          },
          "hoverlabel": {
           "align": "left"
          },
          "hovermode": "closest",
          "mapbox": {
           "style": "light"
          },
          "paper_bgcolor": "white",
          "plot_bgcolor": "#E5ECF6",
          "polar": {
           "angularaxis": {
            "gridcolor": "white",
            "linecolor": "white",
            "ticks": ""
           },
           "bgcolor": "#E5ECF6",
           "radialaxis": {
            "gridcolor": "white",
            "linecolor": "white",
            "ticks": ""
           }
          },
          "scene": {
           "xaxis": {
            "backgroundcolor": "#E5ECF6",
            "gridcolor": "white",
            "gridwidth": 2,
            "linecolor": "white",
            "showbackground": true,
            "ticks": "",
            "zerolinecolor": "white"
           },
           "yaxis": {
            "backgroundcolor": "#E5ECF6",
            "gridcolor": "white",
            "gridwidth": 2,
            "linecolor": "white",
            "showbackground": true,
            "ticks": "",
            "zerolinecolor": "white"
           },
           "zaxis": {
            "backgroundcolor": "#E5ECF6",
            "gridcolor": "white",
            "gridwidth": 2,
            "linecolor": "white",
            "showbackground": true,
            "ticks": "",
            "zerolinecolor": "white"
           }
          },
          "shapedefaults": {
           "line": {
            "color": "#2a3f5f"
           }
          },
          "ternary": {
           "aaxis": {
            "gridcolor": "white",
            "linecolor": "white",
            "ticks": ""
           },
           "baxis": {
            "gridcolor": "white",
            "linecolor": "white",
            "ticks": ""
           },
           "bgcolor": "#E5ECF6",
           "caxis": {
            "gridcolor": "white",
            "linecolor": "white",
            "ticks": ""
           }
          },
          "title": {
           "x": 0.05
          },
          "xaxis": {
           "automargin": true,
           "gridcolor": "white",
           "linecolor": "white",
           "ticks": "",
           "title": {
            "standoff": 15
           },
           "zerolinecolor": "white",
           "zerolinewidth": 2
          },
          "yaxis": {
           "automargin": true,
           "gridcolor": "white",
           "linecolor": "white",
           "ticks": "",
           "title": {
            "standoff": 15
           },
           "zerolinecolor": "white",
           "zerolinewidth": 2
          }
         }
        },
        "title": {
         "text": "Single Muon L1T Efficiency"
        },
        "width": 800,
        "xaxis": {
         "title": {
          "text": "Momentum (GeV)"
         },
         "type": "linear"
        }
       }
      }
     },
     "metadata": {},
     "output_type": "display_data"
    }
   ],
   "source": [
    "fig = go.Figure()\n",
    "fig.add_scatter(x = muon[\"x\"], y = muon[\" y\"], name = \"data\")\n",
    "fig.add_scatter(x = muon_xs, y = muon_spl(muon_xs), name = \"Interpolation\")\n",
    "fig.add_scatter(x = muon_xs, y = muon_ideal(muon_xs), name = \"Ideal\", line_dash=\"dash\")\n",
    "fig.add_scatter(x = muon_xs, y = 1.0 - exp_cdf(muon_xs, muon_l), name = \"Data Fit\")\n",
    "fig.update_layout(width = 800,\n",
    "                  height = 600,\n",
    "                  title = \"Single Muon L1T Efficiency\",\n",
    "                  xaxis_title = \"Momentum (GeV)\"\n",
    "                  )\n",
    "fig.update_xaxes(type = \"linear\")"
   ]
  },
  {
   "cell_type": "markdown",
   "metadata": {},
   "source": [
    "# Modeling Skill"
   ]
  },
  {
   "cell_type": "code",
   "execution_count": 39,
   "metadata": {},
   "outputs": [],
   "source": [
    "#find the percentile of measurements above threshold\n",
    "egamma_prctile = exp_cdf(egamma_threshold, egamma_l)\n",
    "jet_prctile = exp_cdf(jet_threshold, jet_l)\n",
    "muon_prctile = exp_cdf(muon_threshold, muon_l)\n",
    "tau_prctile = exp_cdf(tau_threshold, tau_l) "
   ]
  },
  {
   "cell_type": "code",
   "execution_count": 40,
   "metadata": {},
   "outputs": [],
   "source": [
    "thresholds = np.array([jet_threshold, muon_threshold, egamma_threshold, tau_threshold])"
   ]
  },
  {
   "cell_type": "code",
   "execution_count": 41,
   "metadata": {},
   "outputs": [],
   "source": [
    "prctiles = np.array([jet_prctile, muon_prctile, egamma_prctile, tau_prctile])"
   ]
  },
  {
   "cell_type": "code",
   "execution_count": 42,
   "metadata": {},
   "outputs": [
    {
     "data": {
      "text/plain": [
       "array([0.67007127, 0.70271423, 0.53956696, 0.8161831 ])"
      ]
     },
     "execution_count": 42,
     "metadata": {},
     "output_type": "execute_result"
    }
   ],
   "source": [
    "prctiles"
   ]
  },
  {
   "cell_type": "code",
   "execution_count": 43,
   "metadata": {},
   "outputs": [],
   "source": [
    "def generate_null():\n",
    "    p = np.random.uniform(size=(4)) * prctiles\n",
    "    jet = exp_generator(p[0], jet_l)\n",
    "    muon = exp_generator(p[1], muon_l)\n",
    "    egamma = exp_generator(p[2], egamma_l)\n",
    "    tau = exp_generator(p[3], tau_l)\n",
    "    \n",
    "\n",
    "    e = np.array([jet, muon, egamma, tau])\n",
    "    z = np.array([jet_spl(e[0]),\n",
    "                muon_spl(e[1]),\n",
    "                egamma_spl(e[2]),\n",
    "                tau_spl(e[3])])\n",
    "    \n",
    "    res = np.stack((e, z))\n",
    "    \n",
    "    return res\n"
   ]
  },
  {
   "cell_type": "code",
   "execution_count": 44,
   "metadata": {},
   "outputs": [
    {
     "data": {
      "text/plain": [
       "array(0.94208706)"
      ]
     },
     "execution_count": 44,
     "metadata": {},
     "output_type": "execute_result"
    }
   ],
   "source": [
    "muon_spl(75)"
   ]
  },
  {
   "cell_type": "code",
   "execution_count": 45,
   "metadata": {},
   "outputs": [],
   "source": [
    "null_evt = generate_null()"
   ]
  },
  {
   "cell_type": "code",
   "execution_count": 46,
   "metadata": {},
   "outputs": [],
   "source": [
    "n_samples = int(1e4)"
   ]
  },
  {
   "cell_type": "code",
   "execution_count": 47,
   "metadata": {},
   "outputs": [],
   "source": [
    "null_evts = np.stack([generate_null() for i in range(n_samples)])"
   ]
  },
  {
   "cell_type": "code",
   "execution_count": 48,
   "metadata": {},
   "outputs": [
    {
     "data": {
      "text/plain": [
       "(10000, 2, 4)"
      ]
     },
     "execution_count": 48,
     "metadata": {},
     "output_type": "execute_result"
    }
   ],
   "source": [
    "null_evts.shape"
   ]
  },
  {
   "cell_type": "code",
   "execution_count": 49,
   "metadata": {},
   "outputs": [],
   "source": [
    "null_z = np.sum(null_evts, axis=2)[:,1]"
   ]
  },
  {
   "cell_type": "code",
   "execution_count": 50,
   "metadata": {},
   "outputs": [
    {
     "data": {
      "text/plain": [
       "np.float64(0.29124276474648925)"
      ]
     },
     "execution_count": 50,
     "metadata": {},
     "output_type": "execute_result"
    }
   ],
   "source": [
    "np.std(null_z)"
   ]
  },
  {
   "cell_type": "code",
   "execution_count": 51,
   "metadata": {},
   "outputs": [
    {
     "data": {
      "text/plain": [
       "['Jet', 'Muon', 'EGamma', 'Tau']"
      ]
     },
     "execution_count": 51,
     "metadata": {},
     "output_type": "execute_result"
    }
   ],
   "source": [
    "triggers"
   ]
  },
  {
   "cell_type": "code",
   "execution_count": 52,
   "metadata": {},
   "outputs": [
    {
     "data": {
      "text/plain": [
       "array([0.67007127, 0.70271423, 0.53956696, 0.8161831 ])"
      ]
     },
     "execution_count": 52,
     "metadata": {},
     "output_type": "execute_result"
    }
   ],
   "source": [
    "prctiles"
   ]
  },
  {
   "cell_type": "code",
   "execution_count": 53,
   "metadata": {},
   "outputs": [],
   "source": [
    "evt_rng = np.random.default_rng()"
   ]
  },
  {
   "cell_type": "code",
   "execution_count": 54,
   "metadata": {},
   "outputs": [],
   "source": [
    "trigger_rates = rates[\"Proportion\"]"
   ]
  },
  {
   "cell_type": "code",
   "execution_count": 55,
   "metadata": {},
   "outputs": [],
   "source": [
    "trigger_choice = lambda: evt_rng.choice(np.arange(len(trigger_rates)), 1, p = trigger_rates)[0]"
   ]
  },
  {
   "cell_type": "code",
   "execution_count": 56,
   "metadata": {},
   "outputs": [
    {
     "data": {
      "text/plain": [
       "Percentage            12.700\n",
       "Proportion             0.127\n",
       "Jet / Jet energy       0.000\n",
       "Muon                   0.000\n",
       "Egamma                 0.000\n",
       "Tau                    1.000\n",
       "Jet proportions        0.000\n",
       "Muon proportions       0.000\n",
       "Egamma proportions     0.000\n",
       "Tau proportions        0.127\n",
       "Jet Rate                 NaN\n",
       "Muon Rate                NaN\n",
       "Egamma Rate              NaN\n",
       "Tau Rate                 NaN\n",
       "Jet Threshold            NaN\n",
       "Muon Threshold           NaN\n",
       "Egamma Threshold         NaN\n",
       "Tau Threshold            NaN\n",
       "Name: 9, dtype: float64"
      ]
     },
     "execution_count": 56,
     "metadata": {},
     "output_type": "execute_result"
    }
   ],
   "source": [
    "rates.iloc[trigger_choice()]"
   ]
  },
  {
   "cell_type": "code",
   "execution_count": 57,
   "metadata": {},
   "outputs": [],
   "source": [
    "def generate_positive():\n",
    "    #select a trigger outcome with rates proportional to those recorded\n",
    "    outcome_idx = trigger_choice()\n",
    "    outcome = rates.iloc[outcome_idx]\n",
    "\n",
    "    #determine the triggers for that outcome\n",
    "    trig_egamma = outcome[\"Egamma\"]\n",
    "    trig_jet = outcome[\"Jet / Jet energy\"]\n",
    "    trig_muon = outcome[\"Muon\"]\n",
    "    trig_tau = outcome[\"Tau\"]\n",
    "\n",
    "    triggers = np.array([trig_jet, trig_muon, trig_egamma, trig_tau])\n",
    "\n",
    "    #generate particle energies from the distributions based on whether or not they're above trigger levels\n",
    "    def transform_p(prctile, outcome):\n",
    "        p = np.random.uniform()\n",
    "        if outcome == 1.0:\n",
    "            #generate an event above the trigger threshold\n",
    "            return p * (1 - prctile) + prctile\n",
    "        else:\n",
    "            #generate an event below the trigger threshold\n",
    "            return p * prctile\n",
    "        \n",
    "    p_jet = transform_p(jet_prctile, trig_jet)\n",
    "    p_muon = transform_p(muon_prctile, trig_muon)\n",
    "    p_egamma = transform_p(egamma_prctile, trig_egamma)\n",
    "    p_tau = transform_p(tau_prctile, trig_tau)\n",
    "\n",
    "    jet = exp_generator(p_jet, jet_l)\n",
    "    muon = exp_generator(p_muon, muon_l)\n",
    "    egamma = exp_generator(p_egamma, egamma_l)\n",
    "    tau = exp_generator(p_tau, tau_l)\n",
    "\n",
    "    e = np.array([jet, muon, egamma,  tau,])\n",
    "    z = np.array([jet_spl(e[0]),\n",
    "                  muon_spl(e[1]),\n",
    "                  egamma_spl(e[2]),\n",
    "                  tau_spl(e[3]),\n",
    "                  ])\n",
    "    \n",
    "    res = np.stack((e, z))\n",
    "    \n",
    "    return res\n"
   ]
  },
  {
   "cell_type": "code",
   "execution_count": 58,
   "metadata": {},
   "outputs": [],
   "source": [
    "pos_evt = generate_positive()"
   ]
  },
  {
   "cell_type": "code",
   "execution_count": 59,
   "metadata": {},
   "outputs": [
    {
     "data": {
      "text/plain": [
       "array([[7.83177141e+00, 3.29739704e+01, 1.40277350e+01, 8.41984027e+00],\n",
       "       [0.00000000e+00, 9.36991057e-01, 1.65812546e-02, 3.82153969e-03]])"
      ]
     },
     "execution_count": 59,
     "metadata": {},
     "output_type": "execute_result"
    }
   ],
   "source": [
    "pos_evt"
   ]
  },
  {
   "cell_type": "code",
   "execution_count": 60,
   "metadata": {},
   "outputs": [
    {
     "data": {
      "text/plain": [
       "array([320,  22,  30,  38])"
      ]
     },
     "execution_count": 60,
     "metadata": {},
     "output_type": "execute_result"
    }
   ],
   "source": [
    "thresholds"
   ]
  },
  {
   "cell_type": "code",
   "execution_count": 61,
   "metadata": {},
   "outputs": [
    {
     "data": {
      "text/plain": [
       "array([0.        , 0.93699106, 0.01658125, 0.00382154])"
      ]
     },
     "execution_count": 61,
     "metadata": {},
     "output_type": "execute_result"
    }
   ],
   "source": [
    "pos_evt[1,:]"
   ]
  },
  {
   "cell_type": "code",
   "execution_count": 62,
   "metadata": {},
   "outputs": [],
   "source": [
    "pos_evts = np.stack([generate_positive() for i in range(n_samples)])"
   ]
  },
  {
   "cell_type": "code",
   "execution_count": 63,
   "metadata": {},
   "outputs": [
    {
     "data": {
      "text/plain": [
       "(10000, 2, 4)"
      ]
     },
     "execution_count": 63,
     "metadata": {},
     "output_type": "execute_result"
    }
   ],
   "source": [
    "pos_evts.shape"
   ]
  },
  {
   "cell_type": "code",
   "execution_count": 64,
   "metadata": {},
   "outputs": [],
   "source": [
    "pos_z = np.sum(pos_evts, axis=2)[:,1]"
   ]
  },
  {
   "cell_type": "markdown",
   "metadata": {},
   "source": [
    "## determine statistics"
   ]
  },
  {
   "cell_type": "code",
   "execution_count": 65,
   "metadata": {},
   "outputs": [],
   "source": [
    "def generate_exp():\n",
    "    p = np.random.uniform(size=(4))\n",
    "    jet = exp_generator(p[0], jet_l)\n",
    "    muon = exp_generator(p[1], muon_l)\n",
    "    egamma = exp_generator(p[2], egamma_l)\n",
    "    tau = exp_generator(p[3], tau_l)\n",
    "    \n",
    "    e = np.array([jet, muon, egamma, tau])\n",
    "    z = np.array([jet_spl(e[0]),\n",
    "                muon_spl(e[1]),\n",
    "                egamma_spl(e[2]),\n",
    "                tau_spl(e[3])])\n",
    "    \n",
    "    res = np.stack((e, z))\n",
    "    \n",
    "    return res\n"
   ]
  },
  {
   "cell_type": "code",
   "execution_count": 66,
   "metadata": {},
   "outputs": [],
   "source": [
    "exp_dist = np.stack([generate_exp() for i in range(n_samples)])"
   ]
  },
  {
   "cell_type": "code",
   "execution_count": 67,
   "metadata": {},
   "outputs": [
    {
     "data": {
      "text/plain": [
       "(10000, 2, 4)"
      ]
     },
     "execution_count": 67,
     "metadata": {},
     "output_type": "execute_result"
    }
   ],
   "source": [
    "exp_dist.shape"
   ]
  },
  {
   "cell_type": "code",
   "execution_count": 68,
   "metadata": {},
   "outputs": [
    {
     "data": {
      "text/plain": [
       "10000"
      ]
     },
     "execution_count": 68,
     "metadata": {},
     "output_type": "execute_result"
    }
   ],
   "source": [
    "n_samples"
   ]
  },
  {
   "cell_type": "code",
   "execution_count": 69,
   "metadata": {},
   "outputs": [],
   "source": [
    "def order_test(null_dist, pos_dist, selection: int = 401):\n",
    "    idx_null = np.random.choice(np.arange(n_samples), selection - 1)\n",
    "    idx_pos = np.random.choice(np.arange(n_samples), 1)\n",
    "\n",
    "    select = lambda x, idx: np.sum(x[idx,1,:], axis=1)\n",
    "    null_scores = select(null_dist, idx_null)\n",
    "    pos_score = select(pos_dist, idx_pos)\n",
    "\n",
    "    if np.all(pos_score > null_scores):\n",
    "        confusion = np.array([[selection - 1, 0], [0, 1]])\n",
    "    else:\n",
    "        confusion = np.array([[selection - 2, 1], [1, 0]])\n",
    "\n",
    "    return confusion\n"
   ]
  },
  {
   "cell_type": "code",
   "execution_count": 70,
   "metadata": {},
   "outputs": [],
   "source": [
    "z = order_test(null_evts, pos_evts, 400)"
   ]
  },
  {
   "cell_type": "code",
   "execution_count": 71,
   "metadata": {},
   "outputs": [],
   "source": [
    "run_test = lambda s: order_test(null_evts, pos_evts, s)"
   ]
  },
  {
   "cell_type": "code",
   "execution_count": 72,
   "metadata": {},
   "outputs": [],
   "source": [
    "perf = np.sum([run_test(400) for i in range(2000)], axis=0)"
   ]
  },
  {
   "cell_type": "code",
   "execution_count": 73,
   "metadata": {},
   "outputs": [
    {
     "data": {
      "text/plain": [
       "array([[796588,   1412],\n",
       "       [  1412,    588]])"
      ]
     },
     "execution_count": 73,
     "metadata": {},
     "output_type": "execute_result"
    }
   ],
   "source": [
    "perf"
   ]
  },
  {
   "cell_type": "code",
   "execution_count": 74,
   "metadata": {},
   "outputs": [
    {
     "data": {
      "text/plain": [
       "0.0017894736842105263"
      ]
     },
     "execution_count": 74,
     "metadata": {},
     "output_type": "execute_result"
    }
   ],
   "source": [
    "1428 / (796572 + 1428)"
   ]
  },
  {
   "cell_type": "code",
   "execution_count": 75,
   "metadata": {},
   "outputs": [],
   "source": [
    "stats = lambda c: c / np.sum(c, axis=0)"
   ]
  },
  {
   "cell_type": "code",
   "execution_count": 76,
   "metadata": {},
   "outputs": [
    {
     "data": {
      "text/plain": [
       "array([[0.99823058, 0.706     ],\n",
       "       [0.00176942, 0.294     ]])"
      ]
     },
     "execution_count": 76,
     "metadata": {},
     "output_type": "execute_result"
    }
   ],
   "source": [
    "stats(perf)"
   ]
  },
  {
   "cell_type": "code",
   "execution_count": 77,
   "metadata": {},
   "outputs": [
    {
     "data": {
      "text/plain": [
       "array([[0.99400505, 0.5935    ],\n",
       "       [0.00599495, 0.4065    ]])"
      ]
     },
     "execution_count": 77,
     "metadata": {},
     "output_type": "execute_result"
    }
   ],
   "source": [
    "stats(np.sum([run_test(100) for i in range(2000)], axis=0))"
   ]
  },
  {
   "cell_type": "code",
   "execution_count": 78,
   "metadata": {},
   "outputs": [],
   "source": [
    "exp_z = np.sum(exp_dist[:,1,:], axis=1)"
   ]
  },
  {
   "cell_type": "code",
   "execution_count": 79,
   "metadata": {},
   "outputs": [
    {
     "data": {
      "application/vnd.plotly.v1+json": {
       "config": {
        "plotlyServerURL": "https://plot.ly"
       },
       "data": [
        {
         "alignmentgroup": "True",
         "bingroup": "x",
         "hovertemplate": "variable=0<br>value=%{x}<br>count=%{y}<extra></extra>",
         "legendgroup": "0",
         "marker": {
          "color": "#636efa",
          "pattern": {
           "shape": ""
          }
         },
         "name": "0",
         "offsetgroup": "0",
         "orientation": "v",
         "showlegend": true,
         "type": "histogram",
         "x": [
          1.4976758105724373,
          1.9982257985578729,
          1.9693624008754822,
          1.765993834804139,
          0.009066386680800523,
          1.8779024996914568,
          1.4274782516374207,
          2.060805448452882,
          0.6186515956285962,
          1.0450452274990747,
          1.0647684750005528,
          0.10635498593374329,
          0.9583010191394279,
          2.93479094647649,
          0.13777416917038202,
          0.5047099484432943,
          0.10861972655987061,
          2.057968619039195,
          2.0116732948080993,
          2.963718978005476,
          0.9442889638749961,
          1.0483675842385585,
          0.966012386281121,
          1.3712917058595369,
          0.00989621907920272,
          1.7987219989622847,
          1.9399079365224057,
          0.02418417768674204,
          2.003874891158255,
          0.367417094664893,
          2.8185596169057625,
          0.9238840268386086,
          2.033958492717929,
          0.9361110257124472,
          1.112296662687956,
          2.1920304194922613,
          1.9658124869817009,
          0.8259727686982458,
          0.002477850714873475,
          1.9741657075084806,
          3.06785494729268,
          2.7662492191167565,
          2.911342509988766,
          1.0223704783253997,
          0.638042532595554,
          1.99015965330132,
          0.9631153730647063,
          0.013207649882111323,
          0.39095232323931406,
          0.9510025679324008,
          1.9618983167501578,
          0.9697358146205091,
          1.8356416513613374,
          0.8736330459178199,
          0.05559402166347935,
          1.9451867316266287,
          2.942954655033142,
          2.0128158199305584,
          1.0944856026280287,
          1.8619365659255274,
          0.9736817847052681,
          0.28130325095124564,
          2.890771724156054,
          1.2289492883189619,
          0.9958681290657899,
          1.9665356969643786,
          0.019819424734703512,
          1.1627241215999338,
          2.872309331406108,
          0.9405414163906111,
          2.9354560773498717,
          0.07294839764879243,
          0.9601091840265078,
          1.1741521226351137,
          1.140389875378597,
          1.9109539824485986,
          0.21565647504133947,
          1.7233002610033512,
          1.2854516704871795,
          1.877333626709894,
          0.13238617849930742,
          0.291701043407705,
          2.835574177951532,
          0.028019216218707642,
          0.976527097047644,
          1.9787492188954776,
          1.104037670174763,
          2.044630342417163,
          0.08192750095724712,
          2.5682411319986294,
          0.9445782129696216,
          0.9761333194907156,
          1.9234074788786208,
          1.4663695982000775,
          0.8888417813139594,
          0.9948248590189728,
          2.0215916732391146,
          2.0132558692146634,
          2.8669363088876283,
          1.0818008184388448,
          0.6932036092740337,
          0.06591623190628106,
          1.0270405630972461,
          0.9760154971927271,
          1.9733025837315954,
          1.0755812198929975,
          0.980642831202893,
          1.9232012761983979,
          2.7486363495299897,
          0.9844773830266851,
          0.9804858039750763,
          3.489760183826453,
          0.9617135684149626,
          2.8925602892061564,
          1.194374926544902,
          2.447736539541798,
          1.0387033298926063,
          0.7586415564732286,
          0.048728097040449656,
          0.6638019099985308,
          0.22818016924338616,
          0.9576588449484718,
          0.012087639727766034,
          1.0576962120364695,
          0.12850643408826268,
          1.9531740807204596,
          0.09063916879152606,
          1.147736281369405,
          0.7015212734164739,
          2.749397368601305,
          2.670979854589639,
          1.6582206675282531,
          1.9065172754693898,
          1.1867623135856138,
          1.0053771421050917,
          0.029083310093933275,
          1.9389812503810302,
          1.8799889541196235,
          1.0852812088408579,
          1.0350013300898668,
          0.9964351931596693,
          1.9488016199276634,
          2.2448055926089143,
          1.2853702448622255,
          1.962455407367468,
          0.03923328344841567,
          0.026033661403689432,
          1.6709924772187648,
          1.9637589997845462,
          1.9391114270477157,
          1.9546995801937666,
          1.215103253748187,
          1.897230558001197,
          0.01966465041751953,
          0.9257289482796054,
          0.9813638143749442,
          1.8995339852042321,
          2.0038569262197448,
          1.1045556865531665,
          1.8298410873982323,
          1.5090273986416647,
          2.9163651688029075,
          0.021346792770091497,
          0.9979000325928419,
          0.021339611930781818,
          1.9581836617176944,
          0.954571284372952,
          2.7706850351971237,
          0.47606035201492825,
          0.9259343835835312,
          0.9562166446217361,
          1.970499922905243,
          0.07360817557885024,
          1.777669045679756,
          2.0151546827803477,
          1.272183596228467,
          1.5231227755496362,
          1.8618353150639027,
          1.9120387339404958,
          2.7643767481376518,
          0.05008773849284558,
          2.8982465136158813,
          0.9178825157673685,
          1.9210604770610733,
          1.8665179384087343,
          0.9573260675590185,
          1.5924151055250455,
          1.9920659089985682,
          1.7261112460791534,
          0.49858733313367865,
          1.9331269946023015,
          1.970011823315916,
          1.7297473977399056,
          1.9612084796335636,
          1.4015596863228994,
          0.027798788920879797,
          2.6525473409432703,
          0.4085066975740682,
          1.9631923224318792,
          1.9903978299353315,
          0.030270565581124332,
          1.9600772571414786,
          0.9855306399969013,
          0.23545682970253864,
          1.363396228677019,
          1.6804630243954533,
          1.0459532036990462,
          0.9559482776816862,
          2.8699285877642433,
          1.963857382324812,
          1.9426318802460798,
          1.3268875464843473,
          0.09930904974925583,
          0.08295075435350237,
          1.0179238330379758,
          1.4084487875848355,
          0.9889251081455859,
          2.9614502188384746,
          2.2995127651422833,
          0.1354126992761804,
          1.4342421274645765,
          2.5631663137196403,
          2.042768923442876,
          1.5234819913476099,
          1.0139862445143304,
          1.0147871565895108,
          1.8777728413691097,
          2.1398922824048667,
          1.3587612597128793,
          0.9795493024069817,
          0.9951896006573254,
          0.9749386264641705,
          1.0288225520473662,
          2.4222890020547223,
          2.904515200509886,
          1.528403323617598,
          1.3841482574677573,
          1.387033888005326,
          0.9524342073427228,
          1.050133329043742,
          1.9038013830386638,
          0.2515755509225015,
          1.8925175236153522,
          0.9780739478508697,
          1.3753339376915001,
          1.0432511053761122,
          2.6833623461798424,
          0.9988955308801433,
          0.9897437509800291,
          1.903315529544598,
          1.6034516333391742,
          0.09012634435297417,
          0.9509195880312739,
          1.983389479695202,
          1.8672340333197879,
          1.0947994182574166,
          0.7031116468977109,
          0.9135461301597375,
          1.019214362758242,
          1.9380869639877925,
          1.4246686191114641,
          1.0489544728605862,
          1.004891595306782,
          2.039668902600164,
          0.19758387823910745,
          0.02048635902494247,
          0.003180740915948597,
          1.1852447433307363,
          1.3871739800075398,
          2.8974034231898136,
          1.593682395102551,
          0.6607159647316773,
          1.2969856065226009,
          0.02795305495787598,
          1.5799602015272123,
          2.973810261815993,
          1.9251364300665479,
          0.9632754733666257,
          0.9322037858955029,
          0.4114738783688821,
          1.5716967227784475,
          2.912722471682937,
          1.9220036654334849,
          1.9796452280193062,
          1.2164402167717865,
          0.0043949911535056,
          0.05506784911182069,
          1.0322747058756427,
          0.8189170607853385,
          2.0430283076611713,
          1.7221967728333847,
          0.38112447757371826,
          2.36532161057002,
          1.84141430322863,
          0.029080122718494014,
          0.9502154110818614,
          1.9404160043395813,
          0.01628959728975964,
          1.2909616208337367,
          2.66685338640634,
          0.9731199601784348,
          0.8781137894366374,
          1.1721227104955074,
          1.9287111998177924,
          1.97214590240936,
          0.1764556029691108,
          1.990932357083102,
          0.5578037900534859,
          0.07680299984270121,
          1.2543028551694941,
          0.07308537945125818,
          2.7162782163177472,
          1.3173404478964215,
          0.05197000781290723,
          0.307300089474046,
          1.9113139295354937,
          2.094167587829052,
          1.9382020892670067,
          1.0114948400381572,
          0.15014470376718092,
          1.9383177399148719,
          2.000678794013018,
          1.41056997918197,
          1.976914413772027,
          0.027102166800148472,
          0.506415917970177,
          0.43799113565603737,
          1.910965692801412,
          0.022214275802001925,
          1.9650263489352569,
          1.6552946675449391,
          0.053002016041495834,
          1.7238224733956957,
          2.780925957520835,
          0.2831614955548669,
          1.0575632823332912,
          1.4179901104194226,
          0.9811501627459174,
          1.9385367181198572,
          1.9500198362360845,
          0.9927392322621552,
          0.9689851815156952,
          1.9637107679147727,
          1.9719749769215436,
          1.9115830706648644,
          0.20121796748415385,
          1.9518114968316271,
          0.03188163164343896,
          1.0126509588164379,
          1.9600665104589186,
          1.6475725092846505,
          1.7312990644876838,
          1.909129407924917,
          2.028993699170409,
          0.2894636168428807,
          0.9957162903438755,
          2.8401756127598676,
          1.098790668677963,
          1.0822157002285593,
          2.599551739031489,
          1.6696322856434258,
          1.0047714463216106,
          2.0220693937994905,
          2.2619019132805946,
          1.2611954073966951,
          0.9944680317791312,
          0.5818526558323516,
          1.7781555439171468,
          1.6660371983194602,
          1.4704397891673666,
          0.9488833885696033,
          1.466200797451787,
          1.1872303864868405,
          2.0358982387962548,
          0.300956046363959,
          0.9630635967412969,
          0.9687045811027019,
          0.07456659859494813,
          2.912832230684412,
          1.0288604392893692,
          0.6282037637065876,
          2.5696703533516665,
          0.0541951994060903,
          2.90096294799135,
          1.4119926543092223,
          0.3918326155530733,
          1.917013872572129,
          0.24329071579342348,
          1.6062903529750021,
          0.9209669034704129,
          3.0699606160026636,
          0.5807379061836732,
          1.8918661468588405,
          1.977593648485303,
          0.1640856393826795,
          0.00928049012980068,
          1.034983797495668,
          0.98213390950049,
          1.9496486870411958,
          1.4681657868488978,
          0.6126760567349827,
          1.8748383340889863,
          3.0601752501276778,
          0.9944675959089241,
          0.9736365817493988,
          2.4549726923888966,
          1.2011386597466378,
          1.016398560330803,
          1.7335434853903666,
          2.641540482956768,
          1.9222900413005422,
          0.05999990851247751,
          1.9450996256860997,
          1.977366261650902,
          0.951352008353454,
          1.8909225355523174,
          1.2369736031247798,
          2.757174446598499,
          0.5609955439576192,
          1.219685202376624,
          3.2461883849030393,
          0.9923238403807064,
          0.949135110581506,
          0.945625109947503,
          1.98641662267893,
          1.049840734668656,
          0.045206274194149285,
          1.868436401962795,
          2.013525886952583,
          1.6734301797379105,
          0.10277646076903384,
          1.077992200530242,
          1.7968946290486558,
          0.19302759048923243,
          1.9752511964551016,
          0.8385482294708123,
          0.9485961743096616,
          1.0695183247786844,
          1.0580649557638964,
          1.571370908682916,
          2.063703939889272,
          1.4718797992110775,
          1.1201918036036735,
          2.025280195084255,
          1.9896667724963608,
          0.9599154018223055,
          1.3493897736347191,
          2.7629391597944086,
          0.7903495061646253,
          1.9839253775104806,
          2.8625601170313293,
          1.1716559146464876,
          1.190998477964873,
          0.9813908199981395,
          0.3457532036282833,
          1.345064714240522,
          0.9695236852535798,
          1.968202430321874,
          1.0957380006127488,
          1.0046492864559908,
          0.9759464195367091,
          0.00022919174812412142,
          1.8716952527221369,
          2.278361399986321,
          1.3471219447604206,
          0.9336539743549966,
          0.06553681232609632,
          0.9974062953423793,
          1.9089520011580916,
          0.9424444489618379,
          1.9935098843099706,
          1.9202013910387237,
          1.44904938214347,
          1.941682271097673,
          0.8065636179160539,
          0.023161479536105166,
          1.67843040582588,
          1.034595867790974,
          0.9914733632870666,
          2.214318188690436,
          1.7005985175356932,
          0.09511163134117315,
          2.0006383347781345,
          0.9617790144778415,
          1.123719265587256,
          1.3987449727793293,
          1.0109275745949833,
          2.1170719339419746,
          0.9893256366901296,
          0.8555228005920943,
          1.969920311920847,
          3.0874985952116107,
          2.2050598824056307,
          0.6662319923983617,
          0.03491196191980832,
          2.00647848263099,
          2.695804793147971,
          0.1152345438302616,
          0.010553408566362405,
          0.08998315108578721,
          2.034113596998526,
          0.11032773811418436,
          1.9338010352801347,
          2.426353435112329,
          0.13631631678231035,
          1.9799424324495274,
          0.9481352077707134,
          2.7025780973882174,
          1.708177252527111,
          1.4770069005600834,
          2.8787485263890327,
          1.9087480222914415,
          1.897786509270875,
          1.44096898368487,
          1.9745319957122167,
          0.2932372230007899,
          2.4710382428548088,
          0.03135643669014969,
          0.06781449750743312,
          1.1765154867038854,
          2.6308834278360007,
          1.5657892702248961,
          0.5998967984703826,
          2.056480838624237,
          0.986789062102561,
          0.011456793752045788,
          1.122354253854213,
          0.22951696714422942,
          1.1718393586898093,
          2.8360936582561824,
          0.5323325653732263,
          1.0679690758153635,
          1.0258569389899854,
          0.9691743112929564,
          1.9208779844663475,
          2.162197834301555,
          0.06006602111127379,
          1.8844497872266857,
          1.0204751682826267,
          0.017611143124169025,
          0.6349042996807144,
          0.3688389303052452,
          0.005167435005293465,
          0.9789600254296251,
          0.07609473161912313,
          0.9875867970781645,
          1.246171041506505,
          1.0423765675110794,
          1.2406606073487119,
          1.9870558973588,
          0.42702345032196093,
          1.1384892182488506,
          0.1304574399326578,
          0.917684652115634,
          0.7965644884706314,
          1.3406570838871927,
          1.0169561845802801,
          0.38365264486411893,
          1.9025947367377087,
          2.3395185950793285,
          0.6349911204550426,
          2.922605750806316,
          0.728492213980635,
          1.932820092812316,
          1.99210815447219,
          0.9490617127009812,
          0.4093594416541539,
          1.2029716390248706,
          0.011425029928465204,
          1.0213267620100548,
          0.7466966658954816,
          2.15984020769223,
          2.0034247428525442,
          3.0094848481861134,
          2.8252652179939317,
          1.070789904497587,
          0.525472665182669,
          0.9961355594940807,
          1.8400636205483982,
          2.595955559213666,
          1.9415838783463697,
          1.9282252973938836,
          1.9103906348506594,
          1.0198165063615392,
          1.1584036985663615,
          1.9996929668917243,
          1.9845229235122175,
          0.057540142126731204,
          0.016686342293601348,
          2.7527728315095823,
          1.9327431463645715,
          1.2284998712978963,
          0.0025179578079328408,
          1.0699551567384602,
          0.23320498647958768,
          0.9001906785049122,
          1.0071665613536132,
          1.459419612769354,
          2.760798037080639,
          0.9386454549252689,
          1.3343600693353264,
          0.8295233551554788,
          0.04187359342610007,
          1.0063245070772429,
          0.9486537753539481,
          1.6356382476777185,
          1.9272371114128688,
          0.744120042778075,
          1.9308750503728933,
          1.981071424701743,
          1.4961423179686137,
          0.3485060830283116,
          2.882849120612194,
          2.016242103747069,
          0.98246325573934,
          1.2657362681202762,
          1.096892482344651,
          1.901166562726768,
          1.1936881606751033,
          1.9415292836888332,
          2.3233269737787383,
          3.636854437929565,
          0.619702457266836,
          0.9641388067415572,
          0.906963990076712,
          1.4864590487554865,
          1.0501478034372433,
          0.4303642066882393,
          1.696176854044873,
          2.271873217471493,
          1.0203332943030736,
          1.9338138891306351,
          2.42935817326514,
          1.0150238717022704,
          1.8941910479923174,
          1.1821867596604543,
          1.7968557912957561,
          2.6619936847901253,
          0.02171217646716371,
          0.10013880845554825,
          1.8682100214249873,
          1.0046862095540556,
          1.0079798825462525,
          1.8574094309246245,
          2.274360501248685,
          2.734474057152143,
          1.2094043333567106,
          1.1186046160989427,
          2.904084341216519,
          0.9373294890729648,
          0.9782803320964156,
          0.6968377018880602,
          1.262911471981469,
          0.18459585567153414,
          1.9510583058353577,
          0.0004056879284448119,
          1.0264829444028585,
          0.8642619656697536,
          0.4431524917395869,
          1.3019027806289276,
          0.7885363192481448,
          0.9419532874583005,
          1.9894571543603397,
          1.2930493873062552,
          1.1454595353560122,
          0.8830628243615074,
          0.06720243043771869,
          1.4385071288920395,
          1.3033763190289913,
          1.9458775011347007,
          0.7054215263875975,
          1.3239699464488506,
          0.3184608417674085,
          0.033986851520592054,
          0.9436871585522255,
          0.9709370157643877,
          1.0284323944564684,
          2.434944812198099,
          1.9684659021402757,
          1.5658003289390827,
          0.08412472815083447,
          1.673922291469544,
          0.13797145503846323,
          1.8911203266006635,
          0.41280721711876983,
          0.632433739570885,
          1.53082363526188,
          1.5276734791257234,
          1.1896260697435266,
          0.9274285003867089,
          1.0138287866074378,
          1.5989375546934514,
          2.473192542387611,
          1.1611815462871677,
          1.934941058586611,
          1.9737425014992462,
          0.7948992222721367,
          0.6287354536464363,
          1.2355969446659323,
          1.1095585155641314,
          2.873493667422634,
          0.025987607099555304,
          0.3671630056249669,
          2.137567677292216,
          1.1131138996154981,
          0.03730577256650998,
          1.6502904796536715,
          0.15684056450317013,
          1.458803153025841,
          3.342756530288137,
          1.898545466496818,
          0.9946309074245571,
          0.8473742034490672,
          1.939712499239727,
          1.2706272463807555,
          0.7818811859844377,
          2.2110716262270933,
          0.9698347676871075,
          1.1877594603371644,
          0.9382710944887505,
          1.1534122789377268,
          1.0736865124955655,
          1.2801962027651677,
          1.8685516329698426,
          0.017382100885661982,
          2.117008127289218,
          0.9549821358980835,
          1.1431711291213895,
          1.4060615368184375,
          1.0556516882753366,
          0.993456423578563,
          2.857978685437141,
          1.8072071480033938,
          0.9966170575156164,
          2.6565976444206982,
          1.2262233860864455,
          1.668007910445752,
          2.9152376364813937,
          0.6078963765347629,
          1.8537495338263796,
          1.474778974420344,
          2.5613425005820156,
          1.1668117662268989,
          2.5860885800993367,
          1.3942178518844566,
          1.7899215927937273,
          2.115875874492045,
          0.44617302502067546,
          0.014268965328666443,
          1.461411120291453,
          0.13572711997815234,
          0.07757388568912607,
          1.352204593803429,
          0.8175514507668321,
          1.9667250624373747,
          0.9433010474707275,
          0.3590981856300971,
          1.998963759456315,
          1.6246059446995194,
          0.9988568441987022,
          1.2035395236759452,
          1.0100279336267197,
          1.968839648908817,
          1.1783686186733733,
          1.978127556686109,
          1.6246672064066487,
          1.0170464887944624,
          2.9021497513248473,
          0.9616956514065041,
          1.939756278977118,
          0.027348326338985384,
          1.018824737917732,
          0.9915302103748372,
          1.825178113365507,
          1.6110543305163962,
          2.0794583813256327,
          2.1166760752617004,
          2.4265629461124227,
          1.0039247795653736,
          1.0295092320729913,
          1.353715086344411,
          1.916168103522664,
          2.8708285895817798,
          0.07466246648992658,
          1.9317064390993002,
          0.9992272724057814,
          1.9055637025951229,
          1.8267923269280404,
          1.9613019652058479,
          0.3629452683577051,
          3.4823524333655493,
          0.006696254155970973,
          0.8848395233766408,
          1.9030610725290227,
          1.939080279694508,
          1.3799448796568525,
          1.026906447089126,
          1.0026742115851137,
          0.014352802104539172,
          2.0631764019555794,
          0.9926897379235918,
          1.9508042632817486,
          1.831444210060686,
          1.8639305496083116,
          1.9141361523198799,
          1.076215735003933,
          2.842098108405883,
          1.1680402688561287,
          0.5494591135176978,
          0.04733567075989958,
          0.9873893467709863,
          0.9977092715938981,
          0.9975928969258214,
          0.14047386922508157,
          2.148828509146175,
          0.4432555039825012,
          1.875864591281116,
          1.4863604795130327,
          3.7711368704967634,
          1.7339511587801313,
          0.9896002279232033,
          0.5883621512902308,
          0.0008694724762966398,
          1.049177779487921,
          1.138488286173823,
          2.8864173533827,
          2.8259441608518348,
          0.9396291271183154,
          1.043499877586968,
          1.1615679794469878,
          1.6745739226231777,
          2.112746824816801,
          0.1339430916093769,
          1.0990612830180226,
          2.5478986532878496,
          0.9776698774617055,
          1.8103094779562299,
          0.172778975681685,
          0.04246828020097159,
          0.2701523047541725,
          0.9269182581003397,
          1.0069998723415887,
          0.9518086135684986,
          0.9614144336084346,
          0.846663389730115,
          2.580014663487277,
          1.9274668685205452,
          0.8848646767571238,
          1.0856602081212274,
          0.3576348309994151,
          0.07197966664177849,
          0.02826770015547785,
          2.8361272823558004,
          1.8649470581307468,
          1.1696560771940583,
          0.9933872229933153,
          1.9370229984310299,
          2.8999960294204072,
          2.0337873422330275,
          1.1406135867313627,
          0.5528567266673524,
          1.1649478037583008,
          0.9891244751326372,
          1.0095911811897516,
          1.4406026109523897,
          2.013180231096932,
          2.3702648068405865,
          2.000707723896879,
          1.0830030888997357,
          1.4255197486909146,
          2.912977158382183,
          0.09199558679047505,
          1.8971787338584873,
          2.8624759377271274,
          0.030766310670914534,
          1.5172074728743317,
          1.429896372867002,
          0.02326996580754546,
          2.1605614328106553,
          0.6219925272636159,
          0.345688839157583,
          0.07826402234858565,
          0.09260085085440133,
          1.2395072677166292,
          1.8455885865416208,
          0.6514837851984557,
          1.178972625681872,
          1.9020148369319905,
          0.9629534211787903,
          1.9527831890093146,
          2.905715085231318,
          1.0964563620293164,
          0.280951724881969,
          0.2782202594215037,
          0.3550765931982179,
          1.0214616871167803,
          1.9891170614582439,
          0.053017889254385636,
          1.7127172087969385,
          1.9366841346955264,
          1.9632009031031763,
          2.000702069900135,
          1.9481852262548032,
          1.9365899761055143,
          2.0607545461703882,
          1.974382838407118,
          1.9783646273749147,
          2.630595937403746,
          2.234759764650139,
          2.7078100656139656,
          1.9195477480726555,
          3.8240933736403697,
          1.9761550724213393,
          0.8040551810569994,
          0.9405120360169631,
          0.24635116061691678,
          0.7399420658066357,
          2.9908334819900975,
          1.9679842536604544,
          1.7158268318749896,
          1.9605302023389533,
          2.0885021406448327,
          1.8686352877470611,
          1.9322645945639263,
          1.3848489709997684,
          2.057994819400643,
          1.8390093097591294,
          0.04154283820686046,
          1.955536583047082,
          0.17041420791627546,
          2.0221786931619943,
          1.8307394062757572,
          2.025271426392909,
          1.6612740641384378,
          1.651236854694459,
          1.007534428000562,
          1.9484890203602359,
          2.177125060289243,
          1.2132372268918996,
          1.043043415934165,
          1.0811755902959705,
          0.046037446802990864,
          0.009106768384677133,
          1.2359769745407927,
          1.201226983895018,
          0.9811367784799139,
          2.0083026232021606,
          0.05072133012640003,
          0.9949624561572683,
          2.0158740545784277,
          0.09200006600118049,
          1.9152991372733703,
          0.4551798448627055,
          1.0463770471117195,
          1.9761328618101217,
          0.05224806716641548,
          0.021302409083262,
          1.9976294668120458,
          0.5952012033871014,
          0.998392422151208,
          0.06613615233495064,
          0.943951677273486,
          0.8268779762926808,
          1.1796733352938777,
          1.023934409815592,
          0.20495165773501894,
          1.367796423871653,
          2.0616597049246503,
          2.628402880013283,
          1.9420978186303322,
          1.2684192956409606,
          0.988844014191681,
          1.00551441947588,
          0.905066713678757,
          0.4868722004145729,
          1.0895600957197364,
          1.5034800877130567,
          0.9583552764170679,
          1.6906971809454157,
          2.0151262632999893,
          0.9710595208436823,
          0.2086701872750434,
          1.050268888308299,
          0.02702225985776701,
          0.9505182875034723,
          0.03603258534519661,
          1.7386938754534254,
          2.8831408692018377,
          1.9657722004371494,
          0.27368176008545236,
          2.5252299961511095,
          1.94102705793768,
          2.923157568917553,
          2.035012858302444,
          2.7802476202187667,
          1.5562826477675986,
          1.725823744218614,
          1.0500800204475869,
          1.0415246670057274,
          2.5106523415906397,
          1.923456891237373,
          1.834662924407244,
          1.8624355045114513,
          0.6029944406622029,
          1.9140244805621793,
          2.073170997551199,
          0.4718247472764807,
          2.4343848679807745,
          1.9107362101791834,
          2.0164598568646603,
          0.037678171468100194,
          1.6655156089022318,
          0.4730041677943351,
          2.957689042406194,
          1.5156062918756255,
          1.4309834004916664,
          1.0222409961175252,
          1.434903587530531,
          1.1163103781628878,
          0.7698185709053543,
          0.9823353946655689,
          0.6891688016022088,
          1.811210855935588,
          1.1304424159552724,
          0.9631845121546565,
          0.9422319311300068,
          1.9930393439861294,
          1.6529913423909826,
          1.0078808372699057,
          0.46592005546570076,
          1.849474524212118,
          1.0775123301440803,
          1.0854475459871409,
          1.6884971797252986,
          1.9333822748696583,
          1.2402442020937527,
          1.973358229992507,
          3.4906312397583266,
          1.8964000388457753,
          1.0059854089800688,
          1.897823172416307,
          0.45604522825129484,
          0.20976541859492515,
          2.1019722321109784,
          1.2734045382929513,
          1.9514429117807521,
          1.824991622622811,
          0.0017847498503711715,
          0.032192118723267785,
          1.0677062830203057,
          0.21260270087373428,
          0.9913558381361603,
          2.0776887980290653,
          1.0180963845060211,
          1.0103917988859814,
          0.9988468505290804,
          1.0986770930381717,
          1.0476565383024017,
          0.5609015535894197,
          0.5729260580457859,
          2.0311304934989716,
          1.880305188680828,
          0.8800196750041417,
          0.011839617223504672,
          0.022990058618534263,
          0.8100556555089228,
          0.19734121143693364,
          2.0921518927118488,
          0.4435864551403821,
          1.564344910016859,
          0.9392448894399903,
          0.9800156990336037,
          2.037681648144102,
          1.0064565268447316,
          2.1911130429903203,
          1.5715355580044439,
          1.9860864589199934,
          0.00893453271699622,
          0.7492143586045392,
          2.874270801437373,
          0.8997277063793079,
          2.0680925853214553,
          1.9830176218858748,
          1.1193765723641653,
          1.9195690182231477,
          0.35233512784638793,
          0.023647911975860417,
          2.1864702467740846,
          0.9784776353197097,
          2.9149834802769665,
          1.6910951246918713,
          1.960644959513945,
          0.9926556889292282,
          0.9326574795102416,
          1.2961035451222476,
          1.8652375736493434,
          1.2693898755166964,
          0.9523075349996185,
          0.09096326729547376,
          1.0059938962099184,
          1.0804019746096671,
          0.9833713633043315,
          2.9492441680355963,
          2.1681797752511285,
          1.620017536748978,
          1.7100335043106138,
          1.3178161687317396,
          0.378549843759865,
          3.0596540296504084,
          0.9779804309168458,
          3.175402147105725,
          1.4122122934418386,
          1.9478949593550092,
          1.4884897830618486,
          2.4347256053484903,
          1.0148042542544282,
          2.153049480902268,
          2.2815811036045077,
          2.9086726258494724,
          2.5238094377065314,
          1.8572790419632441,
          0.038984721316266485,
          0.001343827211380255,
          0.9869029693893823,
          1.8967439464139906,
          0.9607820880124974,
          0.803293092790657,
          1.9404176545208947,
          0.7176023165817218,
          0.9559559897560832,
          1.168188472479357,
          0.01744214347832185,
          2.769317826899606,
          1.2090562163967506,
          1.0427937416925703,
          1.8070576111818886,
          0.013426159374120717,
          0.0018550123635722845,
          2.9201132323874748,
          1.995869152550081,
          2.065727900592598,
          1.977405773865904,
          0.9807221164324403,
          0.2554818767586405,
          0.9079008340792062,
          0.95087092756987,
          1.9726194466461968,
          1.4154029953182836,
          0.16576543864012644,
          2.9142726723244827,
          1.0002548166680918,
          2.019969884425478,
          0.022549061572771745,
          2.90420323139611,
          1.0188826538619753,
          0.8020228825607401,
          1.4109269076333866,
          0.1292642384924202,
          1.0162687361599723,
          0.03045010458091532,
          1.962595760086565,
          2.8591182298882387,
          0.9859149610934765,
          1.031097449563631,
          1.282327963753381,
          1.7472377023410015,
          0.030706805470317452,
          1.9317370844748243,
          0.6775391917507936,
          0.989040334423172,
          1.9517477283316487,
          1.0126499170825176,
          2.70153589758259,
          0.9703779985428735,
          1.1386254314855841,
          1.809720489128479,
          1.0121216225637242,
          2.2606821265726094,
          0.05424521190055906,
          0.05646169611699008,
          1.0467336594822048,
          2.0942332269951653,
          1.8767621454809866,
          1.7813090914516283,
          2.9828400817075487,
          1.3701240565676363,
          1.7307619210131708,
          1.9372553958179448,
          2.212793477153572,
          2.0992024537934646,
          1.1072193563004757,
          2.4218091783636684,
          0.4128447674190312,
          1.3246544947823735,
          0.3140158817932661,
          1.83868455595737,
          0.9391376391989149,
          1.7085584058308125,
          1.1101568064890561,
          0.9832425653909659,
          0.978951494243561,
          2.8169382059382984,
          2.582634394802089,
          0.03722156980565032,
          2.614584318285372,
          0.5151023308747209,
          3.899967516900608,
          2.332397265516997,
          0.9327706288965575,
          0.9044902030166337,
          0.9890573736817909,
          2.6393314566533457,
          0.2590121142950027,
          0.9964010685097291,
          2.4181987079396112,
          1.7218892549378724,
          0.8529322845349906,
          1.5564004502799098,
          0.9732749988075096,
          0.9512002693063851,
          0.967923235502213,
          1.1695747467587747,
          1.0345399073949177,
          1.9549141652460913,
          2.8764734452429406,
          0.3304361236622476,
          1.4333629057417547,
          0.8973536464372103,
          1.4172759805303248,
          1.02577845833909,
          3.06746249597604,
          0.9775644337941585,
          2.2842955480248457,
          1.8298642833127325,
          0.059178114592616536,
          0.9617742097658871,
          1.8426080382558119,
          1.091398974066904,
          1.875360694109596,
          2.104409512160249,
          1.9457016282198047,
          1.1741980907608796,
          1.005576825997263,
          1.9047087090933699,
          1.9666467815570372,
          2.1857189222003197,
          0.9596947250692099,
          2.9212727704514503,
          2.6598835058946846,
          1.0260192803841044,
          1.742578286744878,
          1.525846531912165,
          0.043223018062591226,
          2.9277396082181295,
          1.0187202088937037,
          1.8744425938271188,
          2.1950921947025144,
          1.0638643566646144,
          0.9672164765882308,
          2.042731905213915,
          1.9607735405869606,
          1.0004491993176947,
          1.97475193018494,
          0.13950625211383658,
          0.9949823404730044,
          1.0296792028459512,
          1.8689638302942426,
          1.4761145218731355,
          0.985396959937815,
          1.9412789046877612,
          1.6912849581603175,
          0.9464511399547592,
          1.580124731559442,
          0.3294332739916472,
          1.0663622500746213,
          0.05271423470881244,
          0.9701241198032097,
          0.9888178589539927,
          0.9438043539219524,
          0.9827785811435447,
          0.9321141217268696,
          2.026248962188614,
          1.1001136971759438,
          0.9701905114614996,
          1.9533194083088996,
          1.1774037032242028,
          1.0114113417585084,
          0.03767932038862574,
          0.02203639783334344,
          1.8649431361940276,
          1.3756045718373877,
          2.9637260736095388,
          1.0374081960535868,
          0.26216708964175184,
          0.44130559133310693,
          0.9977438168607912,
          1.9257324202026922,
          0.9536825190386248,
          1.9979743967031276,
          0.9633054255135068,
          0.6929156784051079,
          3.819252665869299,
          0.2903762702067755,
          1.023897896049923,
          2.0068080102140797,
          2.546188442296666,
          0.031446851205803816,
          0.03847033756780502,
          0.7378168525244955,
          1.4536903049474927,
          1.158568788558373,
          2.731430302467455,
          1.8468771422532009,
          0.03299686283686752,
          1.0444441688212378,
          0.9346959662562555,
          1.2850677036692915,
          0.9113628865374858,
          1.8798554066088065,
          1.036183054636576,
          0.9987569583360276,
          1.6636384665911763,
          2.0473707579097895,
          2.848889478114827,
          2.642449018448986,
          0.01084746973801208,
          1.5019022840636433,
          1.9082493280294777,
          0.9756827833661721,
          1.628394371949085,
          0.9989665171883192,
          2.6407818237597396,
          1.0124896008962916,
          1.1365401112197642,
          0.9980261108868336,
          1.8867316884765903,
          0.5364845438543732,
          1.0311609054758188,
          0.646606093072864,
          1.8044734456518943,
          0.2742344910649608,
          0.9570940799382758,
          0.001632500706918292,
          0.025118758608182568,
          0.9950865009891942,
          1.014163779026829,
          0.9423039380659936,
          1.029598920569557,
          1.9522451853733191,
          2.0980943514723904,
          2.5597418313697,
          3.2085202186761865,
          0.9345469866135693,
          0.24188576745908338,
          1.9698883357446384,
          0.9618640614864358,
          1.6461610806706024,
          0.9321551265780157,
          0.9460803250134854,
          1.0003277335665035,
          2.2865086043981955,
          0.09255802408998264,
          0.9738990067657212,
          2.108301680726128,
          1.6875023646212561,
          0.6288436523992629,
          2.4154482511465813,
          0.026278613870197233,
          0.10438461889136684,
          1.011889449767576,
          1.2649404609223986,
          0.9272306743932773,
          1.077707026421229,
          1.0796182854615906,
          2.2685585068070386,
          1.0279222101100451,
          1.8911046796293651,
          1.0016516117952088,
          2.180226883326238,
          2.728626998403721,
          0.7648953215391877,
          2.912488326197208,
          2.0451175981402754,
          1.8884584337666028,
          0.9654043891536466,
          1.9956291510297963,
          0.3962903748282492,
          0.1797233676240086,
          1.0335712135747919,
          1.681599659464027,
          0.007284514041608656,
          1.900513443789335,
          0.8107207781312232,
          0.13701127235412744,
          1.0067868179303971,
          2.048794492290522,
          0.9075144338439838,
          2.0168950699285455,
          0.9741092557499279,
          1.0179090842527139,
          1.3203233344026086,
          2.679499203806703,
          1.2285476800514155,
          1.876326976767565,
          1.96081395801952,
          0.9704161685128204,
          0.7517893223892007,
          0.04011028299273106,
          2.250037157400241,
          1.087235895886892,
          0.7140598928912344,
          2.2515812178006795,
          2.230359337648971,
          1.904350028598996,
          0.9872333735193143,
          0.2802148401255052,
          0.4324653542276689,
          0.9443062535319646,
          2.030028114385596,
          0.9632770092172104,
          1.4129235747544773,
          0.903256005687519,
          2.9037211115368,
          2.207293472158033,
          2.9413216149377095,
          1.0921025488569451,
          1.1121112221372633,
          1.9343237277188938,
          1.6351320206418252,
          0.23373516203551342,
          1.9564816354297694,
          0.08936863616735752,
          1.8712499836751049,
          1.7864150896336353,
          1.1609609548092268,
          1.9349782653211973,
          1.868386522253373,
          0.7197234961185933,
          0.06310982368867112,
          1.8888574558703501,
          0.9659687405386969,
          2.8938786922611643,
          0.998535708404559,
          1.2028949835725702,
          0.6154125019197906,
          2.4724454563978946,
          2.863680287394871,
          1.4039331106527455,
          0.015982060291039484,
          0.003948370917192434,
          1.04435807169066,
          0.9609404020342496,
          1.003854253559893,
          1.9370347524114562,
          1.7700778614054358,
          1.9763229226866703,
          1.0174867811079977,
          0.7193070830270997,
          1.012321247491269,
          1.7377511401514731,
          0.21792069651037335,
          1.029789370918127,
          0.9550782208305182,
          1.9742799502422492,
          1.8834740673282737,
          0.9507681481994745,
          2.9146409095360326,
          1.1172796279974697,
          1.0884545488238746,
          2.128399682285421,
          0.2608128682959717,
          0.948886542833913,
          1.1410726296335465,
          2.9139458190614893,
          0.9945615835846301,
          0.9329323469407451,
          2.413994833809103,
          1.98703922426957,
          0.9628568022704613,
          1.921814820400269,
          1.1356288119786784,
          0.6625145203364791,
          1.2984827619924175,
          1.587156283012297,
          1.853038335136763,
          0.9856032651134177,
          1.2661139497901681,
          0.019773537992336113,
          1.0946474279420575,
          0.07109985345306687,
          0.3141803644500269,
          0.9354618139345036,
          1.8845050689146416,
          2.5745083769456647,
          0.6423416425267772,
          0.9388214634025505,
          1.9781594206116175,
          0.19910714792469308,
          0.12709274706325893,
          2.8967747402091337,
          0.9376937573340046,
          0.604371353096443,
          1.7604288188201513,
          1.9568322553519202,
          1.854395415002311,
          0.005239259355767656,
          0.9061545958802948,
          0.9257337837874682,
          2.6990304240684804,
          0.023617785307012133,
          2.1758312084201785,
          0.22489174382047764,
          0.155519421454653,
          1.93566769743757,
          1.5523815038213673,
          1.9999394056387567,
          1.047968071250699,
          1.5993361346369799,
          1.7961948006955315,
          1.0000052413553708,
          1.586001821320692,
          1.1388263680658783,
          0.9594539822506526,
          1.9136972155752932,
          0.036466378957681664,
          2.3587230457784827,
          0.9620187225343182,
          0.1705848630251262,
          0.00815017524643527,
          2.0011460173002833,
          0.11401297447791342,
          3.02610790615161,
          1.5910823314941682,
          1.9217995272773223,
          0.7318333457736984,
          1.8517776978992362,
          1.1129459944506392,
          0.8585873017046182,
          0.9957099517773991,
          1.014441820878381,
          0.9740513400315934,
          0.9854802630716148,
          0.5344138331879985,
          1.2274755574392704,
          2.0186228386965976,
          0.6791930016234365,
          1.0652518741420214,
          0.9679141828011159,
          1.927193885364898,
          0.962205510996656,
          1.2749979008204675,
          0.017313006604306045,
          0.9771721321405633,
          1.334490503067284,
          0.1227352851587561,
          2.299839689354397,
          0.3333085300844064,
          0.9703425037936825,
          1.3655613823811015,
          0.12740711344434674,
          0.9973058003697828,
          0.5572952873540177,
          1.99350265364372,
          1.9129616018318594,
          0.3125122513717265,
          0.46346857142080655,
          1.0128505923779259,
          0.5684722875401509,
          2.3962219457741676,
          1.648407002210329,
          1.3164899436996027,
          1.9317210068733068,
          1.9384259643920578,
          2.8724828722987326,
          0.993046566173916,
          0.03548029834920863,
          1.742285017591443,
          1.8027334360443115,
          2.638076322571476,
          0.4385448568078259,
          0.013429173753837764,
          0.3877257555006246,
          1.935351139325848,
          0.9302882286909658,
          2.1836945363732148,
          1.0368530499924693,
          0.95380331850155,
          2.3479576828301982,
          0.07678328873118351,
          1.3826295909103932,
          0.31995830639929757,
          2.5735116384807415,
          0.9884492458760398,
          1.928074865463255,
          1.9379948267927707,
          0.8614322304863562,
          2.8380207742926893,
          0.7625200773342276,
          1.2887961470387543,
          0.14373170874668567,
          0.12960899103876947,
          1.0728985097175392,
          0.09197686775893152,
          1.23354544077078,
          1.6273446623701928,
          2.9412030372474014,
          1.2475653295678195,
          1.9145299312154134,
          1.5004286888710259,
          1.0163967139270595,
          0.025815032358592227,
          1.997625978347834,
          1.393571010549505,
          0.20504958078955965,
          0.9685608484519841,
          0.49536809876467414,
          2.372449594697382,
          1.6292187141673196,
          1.1049238621623347,
          0.02009251700024031,
          1.9398599273584196,
          1.9795176060548318,
          2.1578953869573403,
          2.2276528488108904,
          0.969365170044268,
          1.9985293983214532,
          1.941152750248165,
          1.796937886750247,
          1.1683151566460968,
          1.1882203240942557,
          0.9728809265597669,
          1.2001945770736289,
          1.9357946970856004,
          1.9640175060690637,
          1.2763403396364459,
          2.0148328368060104,
          2.25659860420491,
          0.861471091322982,
          1.4345629848626136,
          1.9812943069659958,
          1.825596543059453,
          1.974104335507845,
          1.9611929412880515,
          1.9323259563124995,
          2.910102194108143,
          1.9013254945216904,
          1.9916278372437004,
          2.2319109708751235,
          1.9998507211517296,
          0.9644844541875808,
          0.11491580101784216,
          1.7409008541521216,
          1.2587380924510607,
          0.7081342317558842,
          0.9916286908631735,
          1.923912942726814,
          1.56809169816432,
          1.9555078387590894,
          0.02345932192137587,
          0.8496153518470795,
          1.5526401160219132,
          2.133220009255743,
          0.9248934504365252,
          1.8493442784591358,
          2.4944508841228137,
          1.377302580927932,
          2.08720004996828,
          0.5881047777221415,
          1.3613236202907528,
          0.10465957656471506,
          3.635579870286203,
          0.02780051954271318,
          2.629529972593569,
          1.8811278686502586,
          1.9369720671834239,
          2.445834144911024,
          0.7050241307339385,
          3.3544660173517906,
          2.4410036051349455,
          0.9416845843831891,
          0.9837623274415758,
          0.8766489853514049,
          1.8767655640112118,
          3.614474793450488,
          1.0036596862761074,
          2.882849679187005,
          1.0070896413774968,
          2.672553982707585,
          0.5283491928417604,
          1.8715541525671906,
          2.801534542591667,
          1.935578281159049,
          1.535519458689363,
          3.8128296257963736,
          1.6556511733990802,
          0.830582127000342,
          1.845817127498401,
          2.3324381612849923,
          1.9292299881202746,
          1.0052793904271786,
          0.09715812637571404,
          0.0289170174060628,
          2.28229134341388,
          0.9997472194242033,
          1.8608138402674754,
          0.3711834839181459,
          1.0778433283729418,
          1.6050097100504828,
          1.9706823809706346,
          0.9897561118663875,
          2.7202464811473392,
          1.903329044130777,
          0.01422533066608275,
          1.975002121097575,
          1.5447929247157246,
          2.6971626993487168,
          2.0441881969710027,
          1.0832382176770738,
          0.5270885503726296,
          0.5450814049758752,
          1.0129221104941577,
          1.450506355092207,
          0.9977447447256829,
          1.9917800415572426,
          1.2674405075207376,
          1.0155202036532418,
          0.34514751395171717,
          0.9043041337046992,
          1.9152916717878685,
          2.0020378357604267,
          0.1661906547474301,
          0.9391766709156568,
          1.993754542215151,
          0.06825708362456935,
          0.06266761841127434,
          1.742865762204093,
          0.5277667575675742,
          0.04695074506097462,
          1.9568950868197472,
          1.9205322561534965,
          0.9659404129834781,
          0.9910572834757448,
          1.5480133758226096,
          1.5110160909642054,
          0.1289462255664791,
          1.718333687760989,
          1.4776609223290194,
          1.0616526388673693,
          1.8308635757396283,
          0.5880938079883755,
          0.23790792636460295,
          0.8900258221628958,
          1.1928295052631381,
          0.1476279306054505,
          3.9003237480169415,
          1.9664293179966976,
          2.0553786542333734,
          1.2503397429934568,
          0.946966162999953,
          0.11877888086498335,
          0.3498931250223962,
          1.315984559853693,
          2.8230590204100956,
          1.0104204074709873,
          1.100562700481316,
          2.5453543373201346,
          0.6558761965515385,
          1.9771167784581705,
          0.9419864748783275,
          0.0026622830508460094,
          1.8593605900107497,
          2.705168197501364,
          1.2789015804998312,
          0.9346911254906988,
          1.793725156483501,
          0.2553965052113632,
          0.5240719752833332,
          0.3055887272220756,
          0.04629131839635256,
          1.6996251796402226,
          0.4813918289223639,
          1.9637145186265155,
          0.6509138282636165,
          1.0697029544015784,
          2.778847722576625,
          0.389213602038822,
          1.0156204190547808,
          1.0026243337575171,
          0.9808474328840446,
          0.014660884580866538,
          0.9840235847450216,
          0.8960724427836263,
          1.9183547136246324,
          0.19824292496511137,
          0.8341295226363766,
          0.9748588304426618,
          0.02082958250963183,
          2.824367589348403,
          2.8830554074077783,
          0.01015832592478679,
          0.024298446423053312,
          1.3721374302191072,
          1.8245521755322687,
          1.1230653078799406,
          1.0778042621446273,
          2.8927470557311317,
          2.866061591720531,
          2.019631047587024,
          1.7720748263015784,
          0.9893709082963729,
          2.7934020647579807,
          1.9506172443877277,
          0.03234477961215383,
          1.007373680830586,
          0.9951682338196535,
          3.1979329905719958,
          0.016945858317210977,
          1.9116476227318913,
          2.0301438471636106,
          2.006222861778907,
          2.2299569844643576,
          0.9424998339215952,
          1.8931688442506789,
          1.9361884349164937,
          3.1034315338901073,
          0.1583149557468808,
          2.6639942447124763,
          1.9301696666588712,
          0.9977400628538782,
          1.9141745561454022,
          1.0018900557210255,
          1.9091866735289165,
          1.9467541393377867,
          0.9919696652613504,
          0.959201876157518,
          1.9558032543350232,
          1.0115970279030482,
          1.0462975931004281,
          0.4479978608839696,
          0.9534955299483523,
          0.0368977776253792,
          1.3490986692543658,
          2.856897105824617,
          1.1675899613585494,
          0.9520612512098872,
          1.969713208341704,
          1.4671741396756464,
          3.1858090313055003,
          1.878357577396142,
          3.728030581349534,
          1.0320005182830008,
          1.7146703588907335,
          1.8803561952628474,
          1.1914096228312245,
          2.5238601405864896,
          1.7614125015953928,
          1.638342131420349,
          0.10792482023798053,
          1.976467416067951,
          0.9437211203736462,
          1.9197374427690965,
          0.9853494978506775,
          0.9541107463818895,
          1.3240529708632829,
          1.0088702617947467,
          2.9113707888041134,
          1.069011784491039,
          0.02352842719935278,
          0.2944456189287546,
          1.9762936737099497,
          0.6767591028520169,
          1.800420069516034,
          1.152150910035852,
          1.467635786935852,
          1.9587622642534115,
          0.9664306171492567,
          1.944844571814038,
          0.2182902403342618,
          1.2085403047060823,
          2.093510023221466,
          0.9728409889655095,
          3.0754993486514692,
          0.13355610517208824,
          1.2792963210455535,
          1.978127189850562,
          0.9661388822093662,
          1.4217234525804128,
          1.9463254773082581,
          1.1416470290727505,
          2.8778909224609666,
          0.005521823293668792,
          1.8786942290480577,
          1.4040220272670523,
          0.9995251298247413,
          1.4071447144754516,
          2.3081990458677293,
          1.9791859724161518,
          1.0161244384887467,
          0.06506346405489617,
          1.9497675245649002,
          0.056038892429261265,
          2.8458421932479507,
          1.706993118223646,
          1.3788874913228268,
          0.014810296715554772,
          1.9640746967698877,
          2.2044989831023356,
          1.9464758903555626,
          2.0610885224103574,
          0.5062012798207118,
          1.0237696796341051,
          1.3934822532819766,
          0.9432146720608169,
          2.8094486797882405,
          1.9856749975149661,
          1.1699878566629076,
          1.704339512560871,
          0.1675003744635522,
          1.7824264000752457,
          0.9541486252751712,
          1.7180235323375255,
          2.005286809333742,
          0.9575981631452168,
          1.0914118127344863,
          0.9578145704902535,
          1.5002223795697185,
          0.123074429002858,
          1.5886814656481496,
          0.9786264781397009,
          0.9974402052529564,
          1.7246096777212094,
          0.971733166346313,
          1.9074130401139284,
          1.820541399880831,
          0.9882367326846303,
          0.15852625377910307,
          0.00019018336047050893,
          2.355557061528425,
          1.1710193465450067,
          1.1686353065756998,
          1.4572991230356422,
          2.9258170572936786,
          0.9516121029801513,
          0.01268299189964943,
          2.240234376022978,
          1.507356615265759,
          1.3905331419374989,
          0.04895087665202481,
          0.056738822024000976,
          0.7653184575577695,
          0.9983149633069881,
          1.875020884661634,
          1.9295004612536442,
          1.1445893150077682,
          1.369641315666082,
          3.0814146424321294,
          1.8046886957242418,
          2.0872563027677233,
          0.9499862210392391,
          2.918298812737488,
          1.975101447450164,
          1.9753335724036365,
          1.9607892052470597,
          2.749272949175235,
          1.8062390657232472,
          1.9305655795584604,
          0.9675130794303305,
          1.881957067329951,
          2.238023697937887,
          1.849708275505082,
          0.7077616309501946,
          1.3780558490473789,
          0.05192381814680832,
          0.5226317529868674,
          1.9429387848258894,
          0.9429268382821119,
          1.8587142226842306,
          0.7325510079949185,
          0.9320747480121605,
          0.32403524952929175,
          2.1768053810352477,
          1.8702271309606897,
          1.8846024079304264,
          1.6194476644584195,
          0.35502546410088853,
          0.17460435735306967,
          0.050307778622102395,
          1.080752342573753,
          0.4770639382397547,
          0.9812004748577839,
          0.994367612460858,
          0.2605387667398751,
          1.9631157023854369,
          1.7697911770891426,
          0.9048099767656804,
          0.03731938136626343,
          2.90985230074075,
          2.4382174363904032,
          2.9633124229926446,
          0.5202854872792189,
          2.0116230415445213,
          3.03262044083735,
          1.010440866271491,
          0.5750056483868838,
          1.547811676607606,
          2.843869110114555,
          1.0547219151802938,
          3.78578721610502,
          2.9159243770363714,
          1.9255704890200493,
          0.030788727425489174,
          1.1624953184405489,
          1.0100636221718138,
          1.950048624327739,
          2.3983689431480637,
          2.2298542229155243,
          0.9823842214043854,
          1.874496734842101,
          0.8976550650774209,
          0.9928645725653521,
          0.013345211764129507,
          1.0015052423413353,
          0.005152647871992991,
          0.22850707228350187,
          1.3108053585905266,
          1.7972269070737459,
          0.9910007524766148,
          0.9967560999399458,
          1.9863110602981209,
          1.5025645730945862,
          0.024914627321688743,
          0.9650989586868508,
          1.0844271744361242,
          0.9628165973912609,
          1.6339542639370461,
          1.0203698760269808,
          2.253710979904994,
          0.1357112530387613,
          1.880858513381757,
          0.024252457324766597,
          2.8363069046803835,
          1.920337076376598,
          1.035027174781458,
          0.9770072290366993,
          0.9499830133572956,
          1.994032160220532,
          0.27537009936776735,
          0.30474124711214456,
          1.0103831127474294,
          2.0196854665469837,
          0.2825689884965103,
          1.7031842100176169,
          2.7939720518731774,
          1.3501836916886982,
          0.9743172026521829,
          0.027586781811365604,
          1.5969770761586373,
          1.9958177819560123,
          1.8253545236906081,
          1.962654139912586,
          2.3090076372051715,
          0.012096895961803786,
          0.9452255538383841,
          0.9109328277962863,
          0.1123735195210349,
          0.07779748601754888,
          1.3637770193977865,
          0.0219516184579034,
          0.03288695658162755,
          0.3453743986754283,
          1.2206517464563476,
          0.9891462579677668,
          1.9817585470986696,
          0.9562337381296901,
          1.0287396718815647,
          0.03543127878477131,
          0.9657296280135873,
          0.5148662149722046,
          2.777528302821485,
          1.5434464766997005,
          1.7531395035762136,
          1.0013310441362995,
          1.2920005375282924,
          0.08141641306541055,
          0.042584378179617396,
          1.2949742101912198,
          1.8727222285196805,
          0.9850391772790467,
          2.0981236891015294,
          0.03242741610444894,
          2.2337160202360926,
          1.9729839085732228,
          2.725768608807727,
          0.9720897988939946,
          0.011068527364735006,
          3.0245406000866066,
          1.0040884032464752,
          0.96168903988475,
          3.006023654805209,
          0.8429403422155707,
          2.10696402845032,
          2.920043878951607,
          1.0053805903851152,
          1.8780904913918233,
          1.0363388915870402,
          0.827945269957461,
          2.704319296379314,
          0.9873013574001808,
          2.0166558680426174,
          0.9261564551530073,
          2.497696641859674,
          1.8143881071390182,
          1.4146266919412844,
          0.2631227589184288,
          0.5188100952331949,
          0.7674428817926776,
          1.0308030738421943,
          1.9193816055066424,
          3.3445177154838692,
          1.9412385919030704,
          2.288853341855419,
          1.1494032846238444,
          0.11747478124880048,
          1.4018704853520902,
          1.7872877281876791,
          1.071877662186915,
          0.9527937732974828,
          1.8919165441993555,
          1.8871038717530904,
          2.5118165040343645,
          0.14552979176954361,
          2.0562676787682483,
          0.20683239539123535,
          0.03616088796474948,
          2.2197987531379444,
          1.9060462260562203,
          2.88697995953872,
          0.926990195358619,
          1.8177182386786233,
          1.7222160044156192,
          0.21621904065103675,
          1.9240180979135424,
          1.912265269376728,
          1.7717982917895656,
          1.9919034464559233,
          0.9481849672011364,
          1.2894281014795879,
          1.1638952544299013,
          1.335602938749203,
          2.119614173608098,
          2.0041903113142814,
          0.9540858270777424,
          0.1182746635019722,
          1.6090288950834946,
          0.25095224919292963,
          1.1593706709129985,
          0.13323989304834213,
          3.002897321521315,
          0.623672856446831,
          1.983555975889759,
          2.905126717097448,
          0.9996867006514882,
          0.008891230147923226,
          1.1297588718310394,
          1.0105207816186839,
          1.9465342148974352,
          1.028887565578764,
          2.677936877005678,
          1.0219298563336165,
          0.02121374977475713,
          2.311053663933692,
          2.1593936854421245,
          0.4993343537850741,
          1.0112376789715065,
          1.011185098413493,
          0.008220064751109082,
          1.1639878275129345,
          2.081192496963245,
          1.9264196997758734,
          1.8631282822715995,
          2.959785651397744,
          2.019927694151939,
          2.1271106175911316,
          1.1192990319289375,
          1.8983447354901848,
          0.982804026494822,
          1.6922639076294606,
          1.4726385057694578,
          0.9590037562366913,
          1.6412653436141371,
          1.0044597790416314,
          1.4944204285173253,
          2.8799715260208036,
          2.9322559592806945,
          1.2587948335043275,
          2.79491237534663,
          0.3700696895961594,
          0.042050838234311314,
          2.0988499669546585,
          2.3150094108314145,
          2.1055666991975754,
          0.0661553145137254,
          2.456195794366588,
          0.6698329491652277,
          2.90229614849347,
          2.8772115423429976,
          1.8995688285558703,
          0.9307422548472954,
          0.021831444440232002,
          0.9659433147044519,
          0.6114170182842822,
          2.028048996019453,
          2.036104191847547,
          1.9224369500415122,
          1.355169020607799,
          2.1405847522052865,
          1.1838358748382323,
          1.7952385195684173,
          1.967246411101974,
          2.9148715715976623,
          0.9769785650336928,
          1.3718097067739796,
          1.7784814393887312,
          1.188158941014378,
          0.9867577457701399,
          1.2340731585684352,
          1.9048553328275908,
          0.2568826322699635,
          1.6024069237223881,
          1.9631041896308443,
          2.890838310712277,
          0.039227072885650666,
          1.0019008909736449,
          3.2535039169783073,
          1.9783822766088315,
          0.08989381574598759,
          1.5178912615362703,
          0.06447738759328091,
          1.042817586788954,
          1.7339978788545092,
          1.9012184623124966,
          1.163355434509137,
          0.6692408164805961,
          3.129011030227203,
          1.2109847741332267,
          1.995382289085648,
          0.029475884928070347,
          1.0316176677988156,
          2.0680125470281965,
          1.7579236944737577,
          2.0628614330529866,
          1.9274506068402448,
          1.4342451955765751,
          1.1775067562390893,
          2.2752154862125757,
          1.6523004321491708,
          1.0298215253419116,
          1.9230836626911387,
          1.0468584199380657,
          1.1881218445529511,
          0.6480068627979907,
          0.19917302306527834,
          2.859597057935732,
          1.7088238812441332,
          0.945347901002075,
          0.5754946160681949,
          1.0467133502479655,
          1.9289941641465342,
          0.013346898161795908,
          2.718666426851169,
          1.9736210384749904,
          0.9613650554631596,
          1.8841775144491824,
          3.857808789673281,
          1.301987964559674,
          1.9535012355944632,
          1.927584348659532,
          0.9524183940827542,
          0.3055319778991176,
          1.9579986779853662,
          1.155879627692687,
          0.986878955472867,
          2.9081963299881535,
          0.9692975474907537,
          1.7575042280754658,
          0.9335395141937897,
          2.922529909159437,
          3.8520351158813595,
          1.0208865669443674,
          2.9029047827739847,
          3.0742215508656905,
          1.1891563234046505,
          3.5789021121548243,
          2.031104260049769,
          1.255807549027793,
          0.9924976180821995,
          1.929663727131409,
          1.1219445179308971,
          0.054971391832580846,
          2.90517771816486,
          0.8591807108506088,
          1.0459178437435073,
          1.2512738233614926,
          1.9599523678337825,
          2.7553225086922746,
          0.949549501389718,
          1.1755253516266564,
          0.9516414364133894,
          2.0064913128049735,
          2.2454153033336635,
          2.096640620700992,
          0.05293518231351666,
          0.09835286011919006,
          0.11430232484726119,
          1.979240702577218,
          2.145160357131946,
          0.23761993031509523,
          0.44144085419964524,
          0.6224089346607998,
          0.023757668199427637,
          0.1970814273313431,
          1.740436379609509,
          0.5318485165370109,
          1.8787714110633071,
          0.978139372604143,
          1.026914184015192,
          0.11620394415107577,
          0.5934275962117692,
          0.9670388773021242,
          0.23495480687780204,
          1.3092935041290201,
          1.9382470654186257,
          1.2108410118738044,
          1.1166114793507866,
          0.20435783211243874,
          1.9500909368589,
          1.1347045775963243,
          2.0683578056243683,
          1.1485041882144003,
          1.963966989990684,
          0.35132453191837243,
          2.94554101978678,
          0.7300222261528144,
          0.9914906988120628,
          2.0405979654362008,
          1.006705106507287,
          1.1228470660194212,
          0.08476183504860808,
          0.005232092011976039,
          0.6578354001141327,
          2.2401368302530766,
          0.09931844190695253,
          1.6435484257508024,
          1.947948456881521,
          1.90676544399883,
          2.020955525383118,
          1.9526136578337234,
          0.9825535238057905,
          2.844703471899922,
          1.2971692908696277,
          2.9148655621443393,
          1.7049970656104039,
          0.9497920029854432,
          2.8660816293401723,
          2.916718714998349,
          0.8719173927556956,
          2.01820909357572,
          2.469132869022562,
          1.3145311712586643,
          1.6809973606396416,
          1.1968612909828282,
          2.8009582051115096,
          0.895769222539173,
          2.0524839869978493,
          0.9852937482091618,
          1.2621298791499307,
          2.8710471308875656,
          1.8531269036417508,
          0.9945703577993281,
          2.0683765908245424,
          1.767435161489276,
          0.03102792752664098,
          1.0242939034030538,
          0.0006001807344517716,
          1.7094033291378528,
          1.0417365464915955,
          2.3542110901999256,
          2.814204833445127,
          0.9888328265451566,
          1.2706923278478484,
          1.2739839378717375,
          0.9826312997418349,
          0.058401542591944154,
          1.0186457919333731,
          0.0530628160643994,
          1.048155363335228,
          2.815261333367138,
          1.890794225542017,
          1.0220814401225127,
          1.966675655412027,
          1.0167915733039214,
          0.9651380827902806,
          0.5122445136224684,
          2.9286141766491975,
          1.6349368590245845,
          2.2101888886304,
          3.0021743579664864,
          0.40691779275734896,
          1.319646566709379,
          0.08492202260398254,
          1.3148954107824076,
          0.6677720401388144,
          2.482035914811379,
          1.9492624272555648,
          2.900340776448676,
          0.07768173862493655,
          0.991156559750727,
          1.9290900046194759,
          0.012723744380514362,
          0.07260481379141663,
          0.9412995195455728,
          2.911081905459476,
          0.7593762265682031,
          0.030369881055560995,
          0.9120588520647092,
          0.5617340129958257,
          0.9439589338947363,
          1.144302484988594,
          2.9049207909124846,
          0.04358679316008633,
          1.1978743416136568,
          1.0520845711208093,
          0.1441907897299629,
          2.4743411153803225,
          1.0484479247430902,
          1.0212289128540317,
          1.3258896324632707,
          1.660245930164554,
          2.019814979049158,
          1.9216877092761833,
          1.0219501589773279,
          0.9860171842411433,
          1.2476316495381818,
          0.5510551020421389,
          2.7514432963515194,
          0.04655911181245056,
          1.6267782388110315,
          0.940407920133886,
          0.04733023662615597,
          0.0025365981303886336,
          1.5491913363415013,
          2.5937486272125625,
          2.188665232804071,
          0.64168573577048,
          1.0566140698647102,
          1.0019371104741703,
          1.4942710191032438,
          1.0391385113192906,
          0.4334842416588877,
          0.3200173765194742,
          2.2466922312961413,
          2.958399937294025,
          0.9615556376886841,
          2.3284884609576793,
          0.8499636902034583,
          1.8612633384716109,
          0.16167599900056975,
          1.3945801309148804,
          1.0056386344041846,
          1.0193978019426102,
          0.9624253995314802,
          1.0236159280599935,
          0.9701764579291702,
          1.3058086915131448,
          0.9442939025172044,
          0.9182107058289695,
          1.8945977467652768,
          1.6738355297758527,
          1.6906307969372238,
          3.0415992433149297,
          1.0239507853212506,
          0.9443127437725217,
          1.6710768165751775,
          0.9275766400681227,
          1.1502246364949462,
          0.5566080109526953,
          2.8301553642432404,
          0.02640229559507848,
          1.281782801128537,
          0.9837503866368654,
          0.31734940700388,
          1.9742479646441011,
          0.12055998628923716,
          0.9801699329199157,
          0.056638033368277885,
          0.4824249081774805,
          2.825441776823537,
          0.9680355515189033,
          1.2891020473904198,
          1.1121181506067657,
          1.0166069038868515,
          0.8357976478721556,
          2.4929367759533565,
          1.0594979778753835,
          0.9869497788274181,
          1.9684930893395896,
          0.05239298414590277,
          1.9390361543905015,
          1.6338469740660235,
          0.017754959109747292,
          1.2177252982113187,
          3.031798991863892,
          1.8112075265056273,
          0.07387701174818663,
          1.778667616810519,
          3.3641456624969863,
          2.9012579679687063,
          0.9438346760254182,
          1.0054035457469814,
          0.9420669204286038,
          1.3079382988843187,
          0.869820532866168,
          1.672411752376981,
          0.46893489812037537,
          0.9947551683311914,
          1.9745467766599445,
          0.9966433881158422,
          0.8204756194376648,
          1.9215235670330657,
          1.037228694429709,
          0.05661894618084841,
          2.8887781267952897,
          2.860173280329048,
          1.0075894939243577,
          0.47490576572977067,
          0.584702265186873,
          0.019842075676355264,
          1.9236807216764753,
          0.6554564303119009,
          1.0211335315733112,
          2.8893336386781048,
          0.9742563204309049,
          1.835428591634798,
          1.1126422251486565,
          2.8954127508894576,
          1.4563524438511466,
          0.01467028745220259,
          0.9762923274610794,
          1.5611606712937787,
          2.8989896320420017,
          2.8284337282226777,
          1.7339015615773945,
          1.1839925218307,
          1.0439780753093784,
          0.9034745482083233,
          1.9052155535002655,
          1.3033006596166483,
          0.041150531790112826,
          1.8070899499336417,
          1.380295538760881,
          0.168704225337014,
          0.9403011122690793,
          1.2977274950352764,
          2.1025785408043927,
          2.5336762674052045,
          1.023801113818746,
          0.0038999482435585577,
          1.0881173345997255,
          2.940040624266323,
          0.03812145584241965,
          0.03990572671587717,
          0.03262877843017806,
          2.136335461874813,
          0.9812603282942278,
          2.5309733461702093,
          3.7269831972748433,
          0.00700192997693128,
          1.1473726169494758,
          2.182573709701675,
          0.9374831475248727,
          0.02798161879397818,
          1.0866207948096096,
          0.4294618697831637,
          1.0915663991727045,
          1.076202295269436,
          2.4666597159180212,
          2.777837282090288,
          0.026855461359524636,
          1.0640369661630398,
          2.0348128557366914,
          1.1752911771242593,
          0.11588741083796021,
          1.9145187072093586,
          1.2430622723161924,
          0.6517026239780042,
          1.8627414177305497,
          2.0514893328872055,
          1.0276707877089086,
          3.222332963389499,
          1.005013291081924,
          2.362377769515576,
          2.6892773134929584,
          1.0629741617758213,
          1.0101192874432987,
          0.03719127588154308,
          2.1945109164944303,
          1.0035910107556583,
          0.9724002321566249,
          0.5510964887498424,
          1.6274869715357778,
          0.5067773864706848,
          0.9316577132559819,
          2.430934455210117,
          0.2597472514743845,
          1.0577000288363174,
          1.0327082842660213,
          0.9675483170174,
          0.03429703136500486,
          1.8172435746297937,
          1.9483309322063684,
          0.9788849151596325,
          0.8658674814770064,
          1.0136479245314232,
          1.4612892623971958,
          0.9737487321121282,
          1.4741858674822834,
          1.6032458170943316,
          1.2151086968437266,
          1.4445899618803297,
          0.9538255724751175,
          2.0022428107890895,
          0.7237569714426503,
          0.9750548707851,
          1.9008990013222768,
          0.4017038343855104,
          1.4631459067381962,
          0.07745680079048672,
          1.9562435628646597,
          2.6114417298642962,
          0.03202473417275575,
          1.0422956564406707,
          1.0240377154970874,
          1.797008362615665,
          0.44893833613194334,
          0.3226300869647927,
          1.0000170963812471,
          1.8302726772713371,
          0.02679289413745456,
          1.2277143901662164,
          0.9944958159264425,
          0.029241638462422108,
          0.0812330279866528,
          1.3219900528386785,
          1.1355074403695467,
          1.5830772627211678,
          1.1573524288133172,
          2.041840937826936,
          2.0191973096364326,
          0.9882592589281783,
          2.205186829353739,
          1.0170890749948829,
          0.08025931402122383,
          2.4458501928379732,
          1.2691677877682779,
          0.7531988693933562,
          2.9185287988488797,
          0.9976507199485186,
          1.0707119585914957,
          2.2640763631197185,
          1.9299199462629035,
          2.413618125912238,
          2.0279520932000703,
          1.0374954556967266,
          1.990928246154636,
          0.29236043746528534,
          1.74447058114323,
          0.14729123150012657,
          0.7065570253487429,
          0.917765174323112,
          1.90209330279825,
          2.5224164721085036,
          1.7174705232062852,
          1.0796145063127551,
          1.903191699073017,
          2.1427727312926255,
          1.979187367838989,
          0.6302473086923216,
          0.15971887401899942,
          0.4161949152968337,
          1.9399378130304112,
          2.4621156573339653,
          1.9460940974170047,
          1.9718465187615137,
          1.9967613509077613,
          0.8005344627097233,
          0.8921287684458479,
          0.8307366519911686,
          0.7284859738296526,
          1.0813589941685209,
          1.949848707389818,
          2.902623023166166,
          0.2870747779450564,
          2.3081182871665646,
          0.878626029709735,
          0.30157349290109314,
          1.0745377104355611,
          0.8434136996414948,
          1.0018477213719157,
          1.0002128741753409,
          0.9928491111854493,
          0.07003524756983466,
          1.928593992140458,
          0.9898370062948573,
          0.9642506548272567,
          1.8976385631008583,
          0.055749859273653266,
          0.9789144570482174,
          2.068038213855485,
          0.9974121252544755,
          1.977701082650631,
          0.9518080447572252,
          0.943132633604413,
          1.95524752439551,
          0.16212151358486332,
          1.4434197044250487,
          1.4224411142252837,
          2.9114826232549866,
          0.8831475297149416,
          0.044747572299800455,
          2.352755952243599,
          0.29133652138185717,
          0.9478447028864294,
          2.7769227501693288,
          0.021561965739459836,
          0.4692873729818313,
          2.170549591066345,
          1.8884625070675072,
          0.6764021215707998,
          0.5462939502147696,
          1.4116782203898226,
          1.2611118247226882,
          1.8751164528338304,
          0.9877371461849246,
          1.0303931108635327,
          0.43519016267825905,
          1.1305476884947057,
          1.0579594404886803,
          1.0721411430085463,
          0.11902625194034701,
          0.3163463283395585,
          1.2039258272176478,
          0.9035095460646244,
          2.051731675341021,
          0.9605234448879104,
          0.9372663459150192,
          0.08546510333006871,
          0.9444030933229356,
          0.7002009481543249,
          1.693485161197171,
          2.34746543207524,
          1.9637631190919225,
          0.01822160583554539,
          1.5260360077398445,
          2.3275699168302046,
          0.2320897152351231,
          0.970145806171449,
          0.8547696542883112,
          1.0113220783849628,
          1.12102753041474,
          0.7710652488839763,
          1.0788380308448744,
          0.9923444075901059,
          0.3500931976806334,
          0.9836415180899146,
          1.0823646962436053,
          1.9176937058027175,
          2.7661219510085,
          0.015957051770414593,
          0.213488916532787,
          1.9032190580810366,
          0.15027963263340033,
          0.8209270056410215,
          1.9285070144778504,
          1.0319692322326133,
          1.8175313919294747,
          0.7453206190231495,
          2.8983827174422183,
          0.20633344242835358,
          1.0483105810676352,
          1.5502282603296145,
          0.9214982713899895,
          1.455762426553265,
          0.9983422968542536,
          1.0015932235279252,
          1.9560391247521502,
          0.9080396860332324,
          1.0611615303395936,
          1.798694146632558,
          1.8087330673943804,
          1.0596473884582784,
          0.8245544842367052,
          1.970249730616306,
          1.0549999071090077,
          1.9972802951913031,
          1.0253324236275856,
          1.008650662309068,
          1.2559940035033672,
          1.3910445213461826,
          0.0047462906705354815,
          1.9930602418049548,
          0.9387536543148854,
          1.8997822770990886,
          0.9827558766006839,
          2.735130432276343,
          0.00881116275642138,
          2.843248272856746,
          2.0005315055299753,
          1.9743687507262797,
          0.16265974919519402,
          2.8476870895646096,
          1.0416452407456172,
          1.9702100279431154,
          0.1353861239927476,
          1.4810625385942475,
          1.0081883056104166,
          0.07255368420679695,
          1.5080378044936316,
          1.8309981961961574,
          2.3169218555853384,
          0.7546933809354882,
          1.9507947798130403,
          0.9970395943774111,
          2.1269073660427007,
          1.9680161570242551,
          1.3252379563819987,
          0.844765531878234,
          1.153322396089056,
          1.0858057646703168,
          2.9167058318194803,
          3.0174966789104976,
          0.9849970792484684,
          1.9814760582637625,
          1.0982521664187843,
          2.0753763913769823,
          0.024480437658951557,
          1.8291550983459155,
          2.956744374852401,
          2.902148726454975,
          2.5330407931542713,
          2.137538715745116,
          0.96620510621597,
          1.0310824194636397,
          0.0442689039868693,
          0.7938060617209783,
          0.3274166169433047,
          1.0073562613596172,
          0.04883128219176343,
          0.39309139271604676,
          1.0485402867021518,
          2.0852804243955747,
          0.17646278065675422,
          0.5201545024169939,
          1.9631994032476092,
          1.028441777355993,
          0.9927845946478299,
          2.702622833988974,
          2.904359061399915,
          1.1014201329413422,
          2.8889970370826688,
          0.866664142706473,
          1.9773418907281888,
          1.6071383639968173,
          0.13805319689220596,
          0.6341775410467361,
          0.37216119495954103,
          0.01484862304069617,
          1.935938597799727,
          1.0855670376778739,
          1.9292593246471914,
          1.2076549379996009,
          1.7381380298440348,
          0.03182170454123088,
          1.9395303743967858,
          0.943816456495394,
          0.9577483758007372,
          1.982108678687528,
          1.215797348825531,
          1.908859614013632,
          1.1555461072518458,
          2.1956508875307774,
          0.9872472074709766,
          2.915354928985468,
          0.9045787913835471,
          1.7374827165557858,
          0.11527197576366989,
          1.063933752209034,
          1.138046023170483,
          2.406131345757428,
          1.3262690926662017,
          0.9580458321464363,
          2.9348637466431957,
          2.8999492705957866,
          0.01596650793987934,
          2.9310230874361323,
          1.5451756237684087,
          0.11255132660097131,
          2.577010529200327,
          2.34193913428189,
          1.7260444426893011,
          0.9601283811876364,
          1.831227056693974,
          0.9871835096655079,
          1.9330028517529951,
          1.951176991722665,
          1.7619791809476268,
          0.8865857866005046,
          0.9655365951299971,
          1.2600279940047656,
          2.835025641935917,
          1.0264497241469446,
          2.476824844758675,
          2.4943147517610424,
          0.05239262318487361,
          0.42621015333780693,
          2.1767331661585736,
          1.8806631442337391,
          2.0219166812088902,
          1.262777255837294,
          2.9101635333184,
          1.564648641260139,
          1.0040019271263554,
          1.999280194583032,
          0.9694800146506815,
          1.779827752405022,
          1.1118784550406131,
          0.9564587446054291,
          1.7051585722717806,
          1.0074836165147816,
          1.05886483561302,
          1.793221327585461,
          2.087015279338047,
          1.0131251215474548,
          1.185118280391079,
          1.1353551551213152,
          2.034360681908691,
          1.6608998940626964,
          2.8112536940931485,
          0.3856073526206046,
          1.5110092370277017,
          1.8532416115819614,
          1.3347597514350154,
          1.8199017252645535,
          1.8391202924120305,
          2.762920074913764,
          3.226805228775633,
          2.863896960597192,
          0.13092494461058862,
          2.881894802814884,
          1.134664700877602,
          1.0546882999667027,
          0.9457801176194502,
          1.0766217603644859,
          1.1500290105718505,
          0.9956858322306366,
          1.908211180429315,
          0.9959933998122475,
          2.9656311538966587,
          0.08335267824484235,
          0.29836199960550935,
          2.054715951074116,
          1.3788096137871226,
          1.124777366300146,
          2.4451303155784005,
          1.9200174117737627,
          3.051989888178686,
          0.10858772109333938,
          0.9834077897792326,
          1.5550261531360094,
          0.07396047174496004,
          0.0006091743959139216,
          1.275870712585048,
          1.03248489674866,
          0.9672622145005875,
          0.6127474732254069,
          0.9953034291499306,
          0.9760880951215541,
          2.1520738820325427,
          1.3968307553889423,
          2.8761040052457765,
          1.9180695286546494,
          0.03338852333463834,
          1.1778395036213305,
          2.5973085993078606,
          0.5583673359335471,
          1.6590596026023097,
          0.975890710636459,
          1.9879102865666174,
          0.016504499474488128,
          0.33622176017917776,
          1.5922752386538508,
          2.9143756174744024,
          2.4037833255657817,
          1.309275095048113,
          0.01167672557631831,
          0.09972691496372277,
          0.9667905227943414,
          0.015843562613988376,
          1.0189377541157674,
          0.19412854539549734,
          1.389993319163225,
          1.836602145137226,
          1.179116726275153,
          1.0424006816171907,
          1.0136221388650233,
          2.2857066355148214,
          0.9891257319629928,
          1.0164880574210926,
          2.8356577735904156,
          0.9828523740097785,
          1.0139336951537103,
          2.108322453069588,
          1.2855848326025443,
          0.1542659603809486,
          0.9449775502868591,
          2.2804902973273378,
          0.007818926689082493,
          1.6571883025571934,
          0.056406120977395224,
          1.0095013985059618,
          0.02787033506193805,
          1.0071392207175458,
          0.7128268691355886,
          0.3795163930951779,
          1.8166150349144212,
          1.716876139470828,
          1.9306855430578371,
          1.8264603568902138,
          1.3637413760713837,
          2.1067754406185997,
          1.9622793614269711,
          0.6128100786730851,
          2.7410915612457796,
          3.038741906129046,
          0.10720595044160597,
          2.1664265140138776,
          2.8712935842319602,
          0.0140104331491788,
          1.5610497969841814,
          2.8997514756859766,
          1.0337488742930878,
          2.875909507455702,
          1.7735995039146488,
          0.25207434331756867,
          1.16178081060779,
          0.11416629619563758,
          1.971173957989956,
          2.0214061100432414,
          0.9960541408842902,
          0.007142720545328566,
          1.9972661930949043,
          0.09087019490919297,
          1.7447601585479013,
          1.011112111847718,
          1.0145186551899592,
          1.882659925169389,
          0.41582702813356687,
          1.8193453108379622,
          1.9345998883807223,
          0.8942205167160827,
          1.877847532701076,
          1.0648453157837374,
          0.03007415243399982,
          0.0977461659609743,
          0.49330929390143174,
          0.9503187713390626,
          0.8139230255388957,
          2.4207465414617104,
          1.9430014714744728,
          1.8620060882481773,
          2.7517753911554306,
          0.9503180581039573,
          1.8778893812640978,
          1.46976508531855,
          0.5026250760507857,
          0.5302214507760296,
          1.1530403413427641,
          0.2425439019849408,
          2.780837307337286,
          0.0771385630103987,
          0.005869650360680278,
          1.025846176393815,
          0.98832150627396,
          2.884725258860175,
          1.2089003799724747,
          1.9212509606885941,
          0.9594162853251235,
          1.9413766869007993,
          1.7150731368832761,
          0.6611268804620749,
          1.9643562004916864,
          3.5034864720437096,
          0.9448725801972033,
          1.5505461419933688,
          0.5712832243970661,
          1.4948387368504,
          0.4388025198989825,
          0.6687034537755786,
          2.950292385529673,
          1.7810815283142327,
          0.004671360155996563,
          1.0108898293112245,
          1.073658958132314,
          0.7490602722121258,
          1.9557700111187342,
          3.0037222617230936,
          1.6016741074867589,
          0.5682357555760054,
          0.33888830054645547,
          2.9574870589987112,
          1.023463431617136,
          2.860347599848863,
          1.001314936701026,
          1.9267911599879635,
          1.1702677364013496,
          0.03435445505957249,
          0.3596731132816198,
          2.1534559007315583,
          0.9633031493552902,
          1.1331013975541724,
          1.874007588304433,
          1.0189216682885869,
          1.103876227607379,
          1.894569379848947,
          2.063868721958474,
          1.3953801275074038,
          1.0691635325964317,
          1.9532240763194189,
          2.7933000403860992,
          1.9253715469122055,
          0.1324504326851081,
          3.4217291867862976,
          0.8798153028275009,
          2.068612673668635,
          1.2195757390093984,
          1.9365131666634217,
          2.500354340864878,
          0.06169937958966673,
          1.0063991327890178,
          2.330653092484711,
          1.130549243356662,
          0.9542541914329848,
          0.02421004259542064,
          0.0015487330780216617,
          1.8833817724317772,
          1.347289165013459,
          0.40990590306165026,
          2.920057255335355,
          2.13315460867947,
          2.7476899744341305,
          1.3585433106345988,
          1.4951752085354173,
          0.014685278582674622,
          1.9316391823236572,
          2.4731562461440584,
          0.4697300777426691,
          1.5918788692240575,
          2.9564935844873985,
          0.07247123622148698,
          1.0078628573665274,
          2.9851939493861472,
          1.950349025272246,
          2.4586006600245285,
          2.0826193082901363,
          0.9577120751429603,
          1.6037013709491081,
          2.2471329338739756,
          2.4483329834698284,
          2.477094777536686,
          1.8723201624970194,
          1.0190413894409351,
          2.9225175717246237,
          1.4488138732871543,
          1.0518890453026064,
          0.007719586035816383,
          0.13941038754568702,
          0.03656646115458941,
          0.027993640416815724,
          0.9555556927228641,
          1.0401362993900738,
          0.04603619918431903,
          0.7140121784358896,
          0.011393336126431779,
          1.081370508425452,
          0.9996956839225621,
          0.6993086175286795,
          1.98058766838865,
          1.0270969398798349,
          1.0418224984584217,
          1.5387623341024295,
          2.908626600954147,
          0.0067365484481445425,
          1.0061672448043923,
          1.1070728375517787,
          1.9591628954666183,
          1.0239670298778076,
          1.9773167368084423,
          1.94856175881567,
          0.05612291274191482,
          0.166809439053533,
          1.9273675991861665,
          0.16697300007920357,
          1.530294728973018,
          1.9707343886139734,
          1.0236025606790249,
          1.9841153317499678,
          1.9266166119754684,
          1.918748940491585,
          1.0650204768155145,
          1.1596663827579274,
          2.5229407881321815,
          1.015695482854348,
          1.9281240925983802,
          1.9468455606292432,
          1.9141246322013477,
          1.068083264527837,
          1.039172700183943,
          1.5351575875778933,
          1.9664796414144223,
          0.04710571588539458,
          1.9981569803604065,
          2.9221908177637097,
          2.672069763915674,
          0.40599748973491623,
          0.9092385256280815,
          0.5974688655642695,
          1.3108369751537532,
          1.2383748710851366,
          1.4376315327449734,
          1.7247596518571968,
          2.8805602525645027,
          0.36414550098743803,
          0.9902980865989097,
          2.90984056794429,
          1.8917266326906657,
          2.9252747763351774,
          2.2608054688675576,
          1.0292494558684389,
          1.943135953411646,
          1.089689046412229,
          1.9499535342650143,
          1.0412612626677322,
          1.9540621369585807,
          1.341699465762741,
          0.8499354874954085,
          0.9613689224911219,
          0.02489277984043687,
          0.17267481912551777,
          0.8097975903282683,
          1.2952649040922308,
          2.02207241111492,
          0.9834327369666878,
          0.9540656570145668,
          0.9088253139209169,
          0.9483035840720886,
          2.8324427444782745,
          2.3079353616919853,
          1.2345453632144092,
          0.005488052602172087,
          1.0130898835908484,
          2.9141966726659976,
          0.033724663475492724,
          0.01344912744346244,
          0.9720648311409531,
          2.005163494875824,
          2.180379890900606,
          1.0957940923960041,
          1.6949192239762436,
          0.2400530881258189,
          0.0741596614025777,
          1.9376299945588906,
          0.06929189873039894,
          1.051292383370204,
          2.730728990639184,
          1.2979240411204587,
          0.02384316107160114,
          0.0264334218111452,
          0.6594038197567852,
          2.2164894059527622,
          0.9048568123828793,
          1.9386236829730092,
          2.865229126806045,
          2.8298142028665088,
          1.2337688270585208,
          0.9313748253010932,
          1.2856950634798616,
          1.6107889414236665,
          0.09451104907033409,
          0.9645940779718796,
          1.960182405386622,
          0.055612614626780715,
          2.0922499903360836,
          1.371836483361649,
          1.9716414317368796,
          1.0330832912228238,
          1.133857013147443,
          0.16151765156062764,
          1.4896019255768453,
          0.9992451393899477,
          2.9201367024063822,
          1.2005650503553205,
          1.8297271762392455,
          0.02948519754978395,
          1.0049629198707581,
          1.9669384184400525,
          0.8262737575676097,
          2.0747586119409105,
          2.178087785138965,
          0.09605651860469709,
          2.2379517853586166,
          2.148720256257082,
          2.686521210820904,
          1.9693448454148348,
          0.9469890875021315,
          1.9051414091403085,
          1.565430719411978,
          1.8429131700913648,
          0.01379562122796147,
          1.5444500493628648,
          0.03181281643893201,
          0.38130836317977185,
          2.830340127452311,
          2.434907134401507,
          0.33571076777045816,
          1.018118611664357,
          1.1502017961969915,
          2.93180950044653,
          0.9086619617280609,
          1.9531618952119776,
          1.09400969145481,
          1.2399230577530458,
          0.6232930199492597,
          0.6294383588011246,
          0.9296987679855182,
          1.0187732600636712,
          0.22521880441775247,
          0.2633080544328405,
          0.991637771515998,
          2.0010768304369164,
          0.027978117169027844,
          1.0070027400560548,
          2.3723960918451685,
          0.03911099811706579,
          1.8703609154873007,
          1.7513974924866407,
          1.791747075502825,
          1.690676397337173,
          0.9586225383172019,
          0.3187868230093092,
          1.8745608493614072,
          1.1214301252179908,
          1.216465462990987,
          1.0069534058151948,
          2.7230363103868105,
          2.866033769271318,
          0.060437667692391346,
          2.872515296530228,
          1.049862495682976,
          0.9720099442470199,
          1.9220743351705458,
          1.8831895621237424,
          0.01789081050116832,
          1.0145665990126582,
          1.6199877508553735,
          1.1904308338800242,
          1.1723043679385965,
          0.9934382113917775,
          0.1357701485586722,
          2.9359103062353147,
          0.4591393868335137,
          1.9271797414012264,
          0.1680457662551107,
          1.9129305270757677,
          2.5694529540232787,
          0.9856227254069981,
          1.7480594799870137,
          0.08335736167026497,
          0.13573099653483867,
          0.01110524832906897,
          0.0780628478716677,
          0.8677996940445101,
          0.3200053549811475,
          0.44582546651328775,
          2.0043382614598286,
          0.06861144663003443,
          1.8846863307695405,
          2.2317054354078016,
          0.959496105481063,
          0.018982300491030626,
          1.8496401444128945,
          0.9773821226078765,
          1.262423734415198,
          0.8559864383645243,
          2.804383782593365,
          1.9333235890733318,
          1.4352199221822777,
          2.089347016558529,
          1.9625503490340885,
          2.166122343835735,
          0.9563035006694489,
          1.3681790589891656,
          1.9911301048722947,
          1.090317851505745,
          1.8532512112511086,
          0.7887651163814269,
          1.2080116985002731,
          1.9568476696578052,
          0.4561060343733238,
          2.7855381119291396,
          1.983268367095828,
          1.37464835175331,
          0.010353286608909938,
          1.4716021862062223,
          0.5341213599639053,
          1.0791551169108182,
          1.0972349100740788,
          2.581024226693807,
          1.3398690398497837,
          1.8965519849338544,
          1.9047345915230607,
          0.9032831471271262,
          1.9731138214130608,
          1.0218702098721233,
          2.216572156928597,
          0.0071573973681027395,
          2.8920253859572047,
          1.8693731959763757,
          1.0548321928873199,
          2.8916301828486137,
          0.9549737989210735,
          0.953209749145641,
          0.07471119353587913,
          1.0116661669312004,
          1.941499453249448,
          0.8656019585194301,
          0.36219684091520316,
          0.41229460752378577,
          2.9332945602265927,
          2.4531516893437795,
          1.9738479410122527,
          1.0373355377910207,
          0.9278406049827878,
          1.8611667189050596,
          0.9626766612467839,
          0.07344237573776537,
          3.062532957815402,
          0.055450906667776426,
          0.03595839058872295,
          1.1459870415391173,
          0.9045388294978445,
          0.3606236727670839,
          0.5164012817048381,
          1.1144161453518238,
          2.9042165318775304,
          1.1958478313038492,
          0.22714224132496239,
          1.8970187400224527,
          0.9876327404992722,
          2.930832408179817,
          0.27336811540357564,
          1.9135977775619901,
          1.9029125779738674,
          0.8314735627923003,
          2.053299475971157,
          0.023873181646558113,
          0.8938462034389887,
          1.9466797160228375,
          2.899377508097142,
          0.5958308220402017,
          1.9624156542269335,
          0.07889083092635772,
          2.6123063061187857,
          1.8791005263584308,
          1.2462003498400356,
          0.9865102202247005,
          2.016045977428133,
          2.0010146321228555,
          2.0483231982272025,
          0.8857539193927807,
          1.040132863298493,
          2.7544339859438502,
          0.9727692592505908,
          0.059256248813011586,
          1.1297881379641617,
          3.198244731609348,
          1.7672471121966755,
          1.9135782286361065,
          0.8394692104750532,
          1.560955655060009,
          1.7976074650011842,
          1.0148150869311972,
          0.681826574750856,
          0.7169741108991974,
          2.3903264433811997,
          3.4428738950354543,
          1.4038079801013794,
          0.10398242029393448,
          0.07330794621097614,
          1.589818576287199,
          1.011785417158096,
          1.5681005307466558,
          0.9500009083785023,
          1.0034008059258213,
          1.94402093562691,
          0.04361007494907035,
          3.244323809097488,
          0.1778245854175083,
          1.1287190688443984,
          1.433329477439726,
          1.9365809983216453,
          1.9307659610870498,
          2.6819337116256943,
          1.9133423239619043,
          1.0362112226491837,
          3.5603500149525784,
          2.019389481416086,
          0.9902356211825251,
          2.2619745741429385,
          1.475952614750087,
          1.2066120617283713,
          1.0295549261033023,
          1.0314599767975097,
          1.4390367048492574,
          0.953138513185219,
          1.115313443679904,
          1.8474367722798593,
          1.9483738181228454,
          1.923837908549602,
          0.294186172848737,
          1.803322998459844,
          1.9040259264726573,
          2.0434801952539647,
          0.9703015551434117,
          0.9962376698930206,
          1.8796816898417694,
          0.05624079004595972,
          0.41574075461473814,
          0.2362980396564726,
          1.2381394868247197,
          0.005679915164563916,
          2.2186107553990233,
          1.9645045736578741,
          1.4999260766218687,
          2.848467097721806,
          0.8926970471165232,
          0.8992315397463013,
          1.9384766692191309,
          1.3655623924637348,
          1.0052508154503506,
          2.8169422240515782,
          1.972041695109525,
          2.225189667304295,
          0.35561294808652155,
          1.0640931626237442,
          1.179478235185853,
          1.825484671644807,
          2.258322549344278,
          2.738914026950943,
          1.8367566221454454,
          2.6435606507745586,
          2.696076705567055,
          1.9229277102361657,
          0.04314466143618336,
          1.9338339802680549,
          1.8536780445312542,
          0.9957598441305857,
          0.9431482614663104,
          2.050376020215013,
          2.0839704597241466,
          1.863503564664369,
          1.9535719858163245,
          2.113063384197864,
          2.6731542620898723,
          1.879974773886439,
          0.020145090060473186,
          1.9400883340658952,
          1.1327356712188748,
          2.668211585966846,
          0.5804226144135446,
          2.489996638626685,
          0.04400624609754369,
          1.9139144122751999,
          1.9277847100668883,
          1.9105384302323805,
          0.9689997466439854,
          0.3581941411731396,
          1.0537600598629946,
          2.4003131367897472,
          1.1478788288452957,
          0.5449201422048052,
          2.037343947666541,
          0.1745909703842477,
          1.9203147516527475,
          1.0674634303523567,
          2.0511786602182975,
          0.04220249014612522,
          0.045421149347137806,
          0.9766488340159396,
          2.2963081734210418,
          1.3371016579416635,
          0.32639130904520003,
          1.1263938491709236,
          1.9450192823800236,
          2.7185857683617862,
          1.9023590825136212,
          0.008641976519753425,
          2.9404145539775,
          1.170354013576517,
          0.8913759380528368,
          0.9772198461664593,
          1.9398032804993868,
          1.9222822274486409,
          1.9067775387772823,
          2.0123865770854894,
          0.05048472077725782,
          1.5473885495861517,
          0.93997438786186,
          0.9322545832354946,
          0.031039432653621288,
          2.581577283240958,
          1.4120889846154265,
          0.49337379246045243,
          2.865165459558559,
          0.04702822766865855,
          1.004243763642527,
          1.94757192384271,
          0.055309715497680344,
          2.610730185894165,
          0.9447388919737814,
          1.918130840474006,
          0.9966054576470954,
          2.620264192837256,
          1.9234951418754764,
          1.2905854029321733,
          0.22533231548085095,
          1.5594372170135742,
          0.995666652154685,
          2.7670640436834866,
          0.02961051821541481,
          1.1089897234952644,
          1.0114485116340113,
          0.9881759862675619,
          1.003666658150258,
          0.14825780698304175,
          2.00013501253892,
          1.8829357735711605,
          0.9547488179226217,
          0.9485660945156946,
          0.9900567739103482,
          1.4152763328410294,
          0.2056096498444593,
          0.966408937996645,
          2.013246735246055,
          1.8717653963323388,
          0.04885021060881872,
          2.76250162991546,
          1.8401269084379472,
          0.6008130623547018,
          2.0519456915588767,
          0.047815757234603816,
          3.5206151015184117,
          1.150272017605026,
          1.1390122528309703,
          0.43622808069765423,
          0.012127017322828202,
          1.0133936280113331,
          0.023252889455640066,
          2.1192111645266696,
          0.8686189560127855,
          1.0727641680259197,
          0.09830907288766971,
          1.9524713322343004,
          1.0017771039911803,
          1.1280147245925776,
          1.598078626473639,
          0.9360336343754017,
          1.9595140995081877,
          1.8842985301312158,
          1.9553538640397616,
          0.9521439106029976,
          0.03190063273373652,
          0.012245493498168438,
          2.72913453613491,
          0.07532661764124392,
          1.2801648940157035,
          1.653566379749259,
          2.931170865141501,
          0.0637798278476619,
          0.9873936428876285,
          1.946155120307845,
          0.986610027084675,
          0.9417221076927296,
          1.2997528088632488,
          0.05582766900621037,
          1.3500231284162905,
          0.2680754300845064,
          2.922810689586771,
          2.8715756766827956,
          1.968413520746151,
          1.7724248166723398,
          2.1157522400197935,
          0.9969789581380061,
          0.990285303862927,
          1.9941735859327487,
          2.613306247632735,
          1.91910945322347,
          2.8736067464862862,
          0.07932468196107315,
          1.9608011523177011,
          1.5195619914368457,
          0.9432499229720729,
          1.2479664329184845,
          0.056317569065377986,
          2.0407244002613325,
          3.049407318494016,
          1.3921009008253198,
          0.02255613922618752,
          1.5613004470012046,
          0.952749930527029,
          0.9532384471126655,
          1.1900427244737746,
          1.2683337695656791,
          0.02318460194374121,
          1.0269727634726737,
          1.0039110016864614,
          0.8696220799621884,
          1.5703902490521395,
          1.8727829408708474,
          0.9532698160462069,
          0.9653108136362119,
          0.47455195606506634,
          1.7440273817927925,
          0.005951219993459987,
          1.9151378108469397,
          0.03762438970452351,
          0.8072873420890212,
          1.1775429785670297,
          1.5816347475537307,
          1.329530278020475,
          1.1716117683540936,
          2.3943964145200898,
          0.15326206244694746,
          0.02665647919772832,
          0.08485116351913985,
          1.2047268287257948,
          1.3821913326435382,
          1.0013834301392894,
          1.2629595980243113,
          1.6501677291323393,
          0.46397939426984003,
          2.4052260092938162,
          1.8916395156532142,
          3.17417917295298,
          1.0057917018612625,
          1.6780514364504624,
          1.4269947025364005,
          0.9781057124206529,
          0.9581794772243718,
          1.0009750973846712,
          0.0041762608887025866,
          1.0506216303636646,
          0.9991187241307716,
          3.12545060267197,
          1.8059322881231823,
          0.7784205610193624,
          2.8725985424025247,
          2.01468084710631,
          1.2190415179286545,
          1.641028399634012,
          1.6605667396325057,
          0.6659670797472261,
          1.022140191693449,
          1.0330689153673016,
          1.030326644487125,
          1.0871197100198244,
          2.7681494863152483,
          3.8006940345892026,
          1.9611971206629748,
          0.9562775455883858,
          1.9394535689225527,
          1.957811162772246,
          0.9925752316768774,
          1.9044745462362251,
          0.34443195376366625,
          0.8229020092390186,
          1.1142281135681105,
          1.1419440067752655,
          0.08815686908880159,
          1.893356570297714,
          0.8015809016846326,
          1.994335783615958,
          1.9371370118037912,
          1.214706330242368,
          1.4553798192199632,
          1.852182593399874,
          2.6622921689451227,
          0.08680498568571242,
          1.0077932799263951,
          1.9860407843770274,
          1.008025220773389,
          0.9861264073211299,
          1.2085229071763253,
          3.2828278475452652,
          2.2848215894702735,
          1.9471929395443557,
          0.4397497953408881,
          1.9789121401822813,
          1.9390260490395905,
          0.9598620107164143,
          2.931741757063555,
          1.9351959359300046,
          0.686140215973607,
          0.080481678868162,
          2.1922840159516697,
          2.9256650306954843,
          1.4018189398834955,
          0.7782225747551336,
          1.0148172240309397,
          0.9793387277140255,
          1.863012204654034,
          1.9877024577369669,
          2.2177185401701194,
          0.986159563105892,
          2.988070188378164,
          1.045081095932703,
          1.945474086441832,
          2.000592616194206,
          1.2746357800379176,
          0.9505626183080886,
          1.850779327249099,
          1.2222169483983423,
          2.7819336855461057,
          1.8136708692562615,
          1.8948804874028689,
          0.0491261072830972,
          1.937409972944968,
          1.4387904561898543,
          0.0015138970737575141,
          1.8163085478521412,
          3.4521037630113023,
          1.2269251494840296,
          0.10570365334238917,
          1.5690055301862127,
          3.163153026141617,
          0.055071811914815694,
          1.5970593371836286,
          1.9179679874843005,
          0.41844752721034906,
          1.468953791078722,
          0.4989158945704196,
          0.025152532550079428,
          1.0656325929598418,
          0.06176291274493163,
          0.9927446139749262,
          1.9380772442812366,
          1.0551782603547437,
          1.9114908817478093,
          1.4645792910677466,
          1.4090780477718163,
          0.030380287181644462,
          1.3213030257108795,
          0.9816145601212746,
          2.116504003522757,
          0.03759596211082234,
          1.9802141048465842,
          1.2675806716916045,
          1.5724740014241152,
          1.5432073442455947,
          1.9242224384924742,
          0.036767409218720584,
          1.0588874707535978,
          1.0624157998069865,
          1.3270782971101518,
          2.8444494902060136,
          2.2519715532542817,
          0.6520387700420665,
          1.9258677179239714,
          0.19120187309625924,
          1.3302740259847203,
          2.308481764098829,
          1.5982304359596922,
          1.3531479157317832,
          0.9869813059901354,
          1.0384443647390278,
          1.403316704184117,
          0.998743485475812,
          2.5381999837348803,
          0.9612808368462296,
          0.7436966187900814,
          0.8379659297240499,
          1.9672688006564996,
          0.15321326712768277,
          2.0165358578140076,
          0.00545099519427259,
          0.9331272669086225,
          2.0058015163540506,
          1.9178857363645236,
          1.0298269187316957,
          1.4554892542342446,
          0.4718293855755809,
          0.013039145280127284,
          0.0033731033607492206,
          1.4789309147544074,
          0.2318212809780362,
          2.3863317040672025,
          0.9683250004909087,
          0.9735494301801751,
          0.9797509722570813,
          0.4414943381207276,
          2.010970883916086,
          0.9344761744246742,
          0.3027676238633113,
          1.9757987340612702,
          1.215890677022277,
          1.1093331284139547,
          2.2469307874972086,
          1.2235298960869778,
          2.324894276744922,
          1.9438319472497352,
          1.951386248788533,
          1.1192861716620701,
          1.2662472031267211,
          1.071197265954646,
          1.1503969474885336,
          0.9869352302660858,
          0.9768381990922878,
          2.3984863496498923,
          1.8928901665235032,
          1.8420793659369363,
          1.9942951842107701,
          1.917091312837833,
          0.04212117482317756,
          1.7771551367470355,
          2.7311090586611737,
          1.9038861332009578,
          0.01321985330744211,
          0.26806974011797774,
          0.7911318498001989,
          1.0395972856334221,
          3.0500927692197553,
          2.3258229837206215,
          2.615953965506825,
          2.8235821687670857,
          2.0421644701029713,
          2.0384756361203715,
          3.8501425468601402,
          1.045870521465783,
          0.9415692985797633,
          0.014477950998619071,
          3.7495379888391356,
          1.2310474436133134,
          0.9924464313861967,
          1.2373833242838952,
          1.09359034600732,
          2.8095429367387013,
          1.943396653674008,
          0.39589704484904253,
          1.0785370033839972,
          1.037965883425201,
          1.0273714019129956,
          0.7292467508723034,
          2.9226097591801627,
          1.9299684406875084,
          2.323190897031075,
          1.2131509849599347,
          0.7561115079729168,
          0.7232631360016194,
          0.9590996505978714,
          1.0323671430063563,
          0.5009716515215314,
          3.8276685838606532,
          1.8900828388976183,
          1.898596390383251,
          0.9722328140236874,
          1.9025966525216034,
          0.893865837867799,
          1.9883401280325346,
          2.9413797336215297,
          0.9674735115412819,
          1.9671561840689045,
          2.30333266374483,
          1.2738951822085989,
          2.1415876516186527,
          2.7928820343490863,
          0.011104791702041492,
          1.4844621458442253,
          0.997665183880362,
          0.9700514796498669,
          1.5042981978660626,
          1.8681277229228486,
          1.5569288685192049,
          0.8357405048347842,
          2.9905246203219784,
          1.410157933903037,
          1.9902753410651677,
          0.9909652682124322,
          1.038523406415758,
          1.0101182877566877,
          2.0791137833350306,
          1.9636721544607052,
          1.6228699443000538,
          0.8486082839230271,
          2.0613678816576253,
          2.291799404957925,
          1.8189895553007478,
          0.8624758726877224,
          1.9413937066568956,
          1.1789045468452624,
          2.1846769160637223,
          1.8504490260836388,
          1.068185151736411,
          2.8991095709847894,
          1.6354490242454147,
          2.8762437962202454,
          1.1080144898708262,
          1.9797327833838765,
          1.6178799533203354,
          2.5634237429743827,
          0.026539678924927233,
          3.9059586380895186,
          1.4605478945463235,
          0.6485200466099462,
          0.9778760301380998,
          1.0237836480176268,
          2.077724597491424,
          0.6585582946536125,
          0.02748703797103531,
          0.6091426758891191,
          0.9719777225784109,
          1.7963270478092483,
          1.4991027769439242,
          1.1153845156187179,
          0.20599853041118882,
          2.6920466351980887,
          1.1459762593397578,
          2.9696504351157653,
          0.33445881491217183,
          1.9778835357079911,
          0.9704133079501374,
          2.8983063477499273,
          1.9414217740436397,
          1.762596806974343,
          0.38055052520363836,
          3.3890968344409655,
          0.9917657773172824,
          1.9768588850724857,
          1.8838549477434154,
          1.0004203954626154,
          1.372731494300057,
          0.9511457716822114,
          1.0184566517904865,
          0.973769431051587,
          1.9393170516807634,
          2.9395970156564877,
          1.4489827409329998,
          0.00658539253714239,
          0.19229983246248514,
          1.9881325909477712,
          3.293578879796451,
          0.1791939869609888,
          1.0161801045390173,
          1.0866681542833305,
          0.020429246622028257,
          0.07605117986765267,
          1.0231234889580259,
          1.155721576013882,
          2.338245287793628,
          2.1340792324957207,
          1.9178255344712305,
          1.9843860864893301,
          1.2809066150586614,
          1.1531079057047426,
          1.9386563202070146,
          1.8796536387310598,
          0.13858477166053335,
          1.282866275141446,
          0.9404965725152347,
          2.8938955020676063,
          1.9725870866230877,
          1.802090989648544,
          0.34337476149714286,
          0.9370724387648659,
          1.0127621951132342,
          0.07221256570315682,
          2.172793357802686,
          1.0294884830942392,
          2.2206183203167513,
          0.9869269995906854,
          0.9647612160577353,
          0.007171077202415564,
          1.2095608872935892,
          2.8575182086826625,
          1.1109138323642425,
          1.0866642482832332,
          1.0117725248243172,
          2.2221348216181647,
          2.0218912303031007,
          0.22871452477536833,
          0.9980553804985413,
          0.9541368599945336,
          0.917659529822836,
          1.9316742820875992,
          0.14014246619044374,
          1.018097598279808,
          1.8934085819945898,
          1.9963003657203435,
          2.1803210246110667,
          0.08426390918858427,
          1.9289265403790923,
          1.9839681871836312,
          2.2084744141819797,
          1.912822945508225,
          1.0128710300261996,
          2.4455371737847567,
          3.7983791207734305,
          0.9393462896158908,
          0.9908963861843462,
          0.8026761793088877,
          1.0505055892957667,
          2.8370034051921973,
          0.9800283702550033,
          0.9919609158513041,
          0.967704065060971,
          0.04354821901288959,
          0.030713530735611377,
          0.04120013382186328,
          0.0027827184956591092,
          2.819154647943532,
          1.9381237545610026,
          1.3664413384832697,
          1.0833331461785662,
          0.9861971090195935,
          2.0449859946422584,
          1.9272842804247765,
          2.8957600161379293,
          1.0345600489696762,
          1.026176692186677,
          0.1224857475776932,
          0.2079515096346247,
          0.01602002851404454,
          0.45177708699168617,
          1.0127909643027688,
          2.1725713629043835,
          0.8015369345326157,
          1.41530578527289,
          0.017621747577891853,
          1.9748454296121851,
          1.9149327042579898,
          2.405211131211426,
          0.731808409170576,
          0.506273433953477,
          0.9854830207497438,
          2.856188153206847,
          0.9633156726418051,
          1.0397345110277965,
          2.0427403817114844,
          0.051423910759100994,
          1.0381015993691114,
          0.07989793104513009,
          0.993231325250204,
          1.145248029238591,
          1.9431804257189125,
          1.8998572561002045,
          0.011786668986956203,
          1.9023216613531493,
          0.04375492777161462,
          1.5825404258878262,
          1.9337075118408356,
          1.8727334373941964,
          0.9692507339476176,
          1.4960532780700815,
          1.9481886797720207,
          1.3340976950708436,
          1.525034564258589,
          1.8761561094591253,
          1.9461935846442364,
          2.88643384083517,
          2.689769785513298,
          0.40714768119761025,
          0.016651809637777997,
          1.9148497020042965,
          1.401358597353442,
          0.943445624211812,
          0.01875088543873721,
          1.5106965856812444,
          1.9187722437605337,
          1.3286604542704188,
          1.728312861142826,
          3.623403762522112,
          2.565498944225274,
          2.403686161300053,
          2.811748521513942,
          0.45843347978219273,
          1.8788300105321127,
          2.8424417661224903,
          0.017589213822639917,
          3.407468056965318,
          1.936555149215239,
          2.070674705946055,
          0.9738642224011453,
          1.688295336519965,
          1.133850091218227,
          1.5989716096588342,
          0.21540224109376507,
          1.9650416843963,
          1.9981138119066415,
          3.570130673716351,
          2.8369036177868985,
          1.1581171973008049,
          0.9938884530359223,
          0.5658380307106438,
          0.9652065984046144,
          0.7918778673463633,
          0.9619817980973168,
          1.545272155505011,
          0.9841385369416709,
          1.0256783873439035,
          0.43979441260996577,
          2.007062569897593,
          1.8278642877420477,
          1.447860653071749,
          0.05316660612881713,
          1.8510213439493854,
          0.11430241899038472,
          1.9012738388758121,
          1.0035841907073768,
          2.551265819843417,
          1.0294928573448205,
          1.889304461464383,
          1.9709891597168978,
          2.8315347406707048,
          1.3895074293293683,
          0.8984328108854748,
          1.9205717268312816,
          1.8953453329004895,
          0.021302254865590318,
          1.443605202460128,
          0.9909405791063969,
          0.08403880978250344,
          3.509376749782546,
          1.0399963688238774,
          1.9586862794403685,
          1.0174961022706481,
          3.2205925246797222,
          0.9459546330857889,
          2.0097947864990644,
          3.2422203183491822,
          1.8600524059461736,
          1.3545571387826234,
          1.5890203732239416,
          0.7000801487696527,
          1.475598387900177,
          0.8094096172387074,
          0.2808583153073022,
          2.660274581444979,
          1.0999031479372912,
          1.6388017304949873,
          2.7429827686401866,
          3.6863095070083167,
          1.496844682931928,
          2.9058780810397447,
          1.9776216159856959,
          0.06303037408032153,
          1.733486286051019,
          0.989089124612311,
          2.045145562761395,
          1.0062569864851691,
          0.3608494064152334,
          2.9533281896010775,
          0.9610059809339723,
          0.03215165391066055,
          0.715229794029626,
          1.96969634672864,
          2.918585162628145,
          0.013868167999808246,
          0.9989544882643981,
          0.17914377912760895,
          1.7120217769392365,
          1.5044168877810264,
          1.9398119194609422,
          0.9361886966405659,
          0.13502642195864967,
          1.0387979299142225,
          0.00010881638577105962,
          2.2817547275410712,
          0.9665323410700417,
          1.9586897364587696,
          1.384582425706387,
          0.9899912111863449,
          1.9872407209969685,
          1.119530721522715,
          1.1017029876602016,
          2.682231756828529,
          0.29065210564486066,
          0.9950182512635066,
          2.062309744709657,
          0.14643948089509415,
          1.9301726003520494,
          1.5234977638207987,
          1.4401618963362848,
          1.215607779323794,
          0.06365758638454296,
          0.967337582380305,
          1.5679293021364002,
          2.7753730010666486,
          2.908477332074563,
          2.707037953729052,
          0.9764515129793814,
          2.160337992339767,
          2.393337160982678,
          2.000815608331251,
          2.228767655163972,
          1.2554714995570404,
          1.0514032784334737,
          1.0938440508358929,
          1.8669121566072753,
          1.4243809147908835,
          1.4183315927588673,
          2.2011025037894814,
          1.3039245167699722,
          0.021150085646640025,
          1.4316778423433871,
          1.9659047021849911,
          0.9966716540381813,
          0.3560961241683574,
          0.07176223058517109,
          1.9896449565032588,
          2.0683853175871194,
          0.08537530150101096,
          1.0209909535463324,
          2.032822514666998,
          1.8824243660896707,
          1.0352610617028075,
          1.8831534936881493,
          1.5556020533551616,
          1.8747399431724936,
          0.591130608985666,
          1.9165919229092023,
          0.669036920972237,
          1.0842043857202115,
          1.011194690392453,
          0.042356435942040846,
          0.3191831031331539,
          1.129203083638892,
          2.061171737597987,
          1.826270504896824,
          2.015973628497353,
          2.0470742982959376,
          0.38919840755491186,
          1.1550705480669579,
          2.9284638387685376,
          1.8079310551050816,
          0.09841719223853722,
          1.904807367512484,
          1.4985037583239873,
          0.9905536236552017,
          1.0066312001137265,
          1.1642532000531345,
          1.9079366928656145,
          1.9772322547057963,
          0.03720307370312971,
          1.8786344108101622,
          1.6474502450265385,
          1.9499166134687669,
          0.34315442926009,
          2.0186674654826255,
          1.96233849647365,
          1.1611572426880303,
          0.15862919587783944,
          2.803330801549748,
          1.9619272507405103,
          0.007105840521226164,
          1.0118945622924822,
          0.25064186258217575,
          2.9072892771168366,
          1.785628404879235,
          0.5867182205502954,
          2.829814458484209,
          0.9262418632498413,
          1.090053857427118,
          1.915514482264126,
          0.9995615641771951,
          2.016890579958598,
          1.8934544648008662,
          0.9461086636945041,
          1.432947472106496,
          0.2063751373494025,
          0.46856745704040503,
          1.0180080577620796,
          0.09800286144896966,
          1.6273706255895406,
          1.8380058587852308,
          1.482431729781913,
          0.8448476460994037,
          1.9203765108942383,
          1.0976160824969616,
          0.12722084861304792,
          1.39479908836701,
          2.302964910233235,
          2.921866592877278,
          0.6441858014065334,
          1.0017530931104899,
          0.7757023599055498,
          0.43063398682646364,
          3.6472140906674415,
          0.9295127719587035,
          1.0294315627746993,
          1.9517759240465158,
          0.06008867458586421,
          0.07449090485711894,
          2.2965682696826395,
          2.6427329800601433,
          0.020615784792576086,
          1.6670163784849166,
          1.836389930951313,
          0.2535506186587561,
          2.418121951443837,
          1.3735833863708835,
          0.9780433330754218,
          1.9129333656655787,
          1.1501343742731946,
          0.13710994169866414,
          1.0335631472390647,
          1.5918184160419697,
          0.014959053050889338,
          1.5681889114783405,
          1.9297967912546796,
          1.9752472955999605,
          1.0124170821975096,
          0.9585449227469569,
          1.811442787699671,
          0.3469156089483743,
          0.06928633659704436,
          1.8730819557483056,
          1.0488099961989832,
          1.005208395914165,
          0.9599303221949507,
          0.9989233497740181,
          0.08650860886143688,
          0.014984251759772131,
          1.0044582752750457,
          2.1953920218834644,
          2.7862572452158085,
          0.2526939857028605,
          3.2849656203290456,
          1.6315504952923918,
          2.055940575303992,
          1.0671337274728743,
          0.7412189515759233,
          3.389580835007611,
          0.880930082718212,
          0.4150495624062467,
          0.9004389649212008,
          1.0248024467078274,
          0.5826167754402528,
          1.1125449246035168,
          1.9150095476014952,
          2.4059029001538894,
          1.0107217008576195,
          1.0585910228320503,
          0.06382149905227913,
          2.1823275833121856,
          1.8736061065124836,
          2.0814453161513278,
          1.449130508357552,
          1.1341612584003664,
          1.7738918682776943,
          1.3796878618670965,
          1.9728635606847804,
          0.9310266259869188,
          1.0377738969293533,
          1.0092939937926106,
          2.0134789974599445,
          1.5609548667260802,
          2.3196385649591558,
          2.210811593186277,
          2.6616332321911287,
          1.6325087615865934,
          1.059977570088499,
          1.0497497355700092,
          0.8823732725506449,
          1.06430055074154,
          2.791992757203203,
          0.015234205793652861,
          0.9751888322112964,
          2.0479223743623307,
          2.7029276912973637,
          1.897297176859117,
          2.582644092872619,
          0.2162994859219934,
          1.9156892727115695,
          0.4713741732765332,
          2.5137559176414523,
          1.967900809145464,
          1.1201876315572474,
          2.1159235936146605,
          0.05316819920157425,
          1.0215969047483717,
          0.01721651620308861,
          0.3140839281302058,
          0.7618839902726486,
          2.087698026331668,
          1.8571690015609041,
          1.8357351274926805,
          2.920593184206844,
          0.021576967320873768,
          1.9087926099858759,
          1.588614407803402,
          0.06918914001746604,
          2.0126696510408966,
          0.020053333545935442,
          1.0444125992647226,
          2.9118178582407577,
          0.11086309543971425,
          1.4515355858920664,
          0.6569116946427153,
          0.9792504698982475,
          2.7969178392323175,
          0.473911395459595,
          2.0796867649796567,
          0.9676603279685424,
          1.0667591967323524,
          1.8793199508885812,
          2.022239497669453,
          0.6754706745974153,
          1.052466410191348,
          1.3770831536278174,
          0.11905019899125044,
          1.1202420939627475,
          2.9117433410504656,
          1.9374842327233757,
          0.3585130343698215,
          2.892742682633182,
          2.1027137779971565,
          1.0590256423469224,
          0.9096737630628273,
          1.7403592175558873,
          1.2450981439533617,
          1.9512539037188734,
          1.3265004543508296,
          0.050110122300330684,
          2.7715689896149938,
          1.0023784383148848,
          0.2645439402261497,
          1.7916859063647794,
          1.9836287302130722,
          1.8993735433819061,
          2.0321572348101093,
          1.444305268505337,
          0.9528717781352399,
          0.9565851852707783,
          1.2852506376058903,
          1.61983686284614,
          0.9924931421001609,
          0.04753732970968029,
          0.9995283258503802,
          1.1123955143512139,
          0.028019651614148836,
          1.2445722753644854,
          1.8462927277528183,
          0.019104305300190184,
          0.9161127389805611,
          0.6519716994512006,
          0.14319053345691693,
          1.043611273024801,
          2.5483906007621844,
          1.0464917345515174,
          1.9345173503205857,
          1.9148331706116253,
          0.34886193481527217,
          0.6778133743625029,
          0.8855482088759412,
          0.17404512142330203,
          1.351341632802102,
          0.05827575094972379,
          1.0352334213136294,
          2.060807966482824,
          2.8657238602931736,
          1.0312105329217418,
          1.092108499926339,
          3.197167295027284,
          0.9641488435411568,
          2.0141162995639332,
          0.9236546671489582,
          1.9538285884397455,
          1.1523171807658357,
          1.889695354191336,
          0.41224509709031365,
          1.1055659116093484,
          0.7610541624392679,
          1.6074831032565888,
          1.943434794988959,
          1.2932780937425832,
          0.9689191582135178,
          1.8525353647694527,
          2.1067681665265017,
          1.960421274031576,
          1.7938365133220882,
          1.0095093590096305,
          1.0785342180326387,
          2.874609392363712,
          0.01701140226633913,
          1.9847991310414748,
          0.9870938335785948,
          2.8123247551344,
          0.23671869888876682,
          0.06695288226029457,
          1.9230556894486222,
          1.4133438563636704,
          0.9559110837299456,
          0.9986352045003435,
          0.02223072599801316,
          1.7856122965506351,
          0.5119144582398204,
          1.8287479773302184,
          1.0257956725540547,
          3.2975117822201683,
          1.0575261159856801,
          1.3243507638269691,
          2.744485321649433,
          1.140745811973607,
          1.127036563194697,
          2.9232245062589004,
          0.9851253610000986,
          1.9540093256723639,
          1.403019456986089,
          0.9612750359629729,
          0.2304127994520622,
          2.4848717903613915,
          0.8395824526858505,
          0.1303255597435865,
          1.5941847661658604,
          0.7098333106426604,
          0.5763211002216807,
          1.949637567566326,
          0.944319276802821,
          2.0477939449641016,
          2.0033611918178655,
          0.9814071170662239,
          0.9609908714639034,
          0.6760995678530305,
          0.6543543703038078,
          2.902311676891088,
          0.2380117181484732,
          0.029564108912392993,
          0.008579623238177665,
          0.04161136540343506,
          1.2870964915036258,
          1.9429793687175672,
          1.0279846800127739,
          1.556604614639623,
          1.1167139781273332,
          0.9712954379385083,
          1.962969549940908,
          1.9175396032511478,
          1.0225663327765602,
          2.726215836038387,
          1.1413372565016568,
          0.41134857665013336,
          0.09412467024952856,
          1.9842375053282035,
          3.1255581479340506,
          1.908460402089357,
          1.0060228146723142,
          0.008323486453319338,
          1.4918319001833382,
          2.898934310103178,
          1.306559438878683,
          1.3759632635972763,
          2.3962091159653824,
          2.75060852381469,
          1.6920633885797418,
          1.925941950567293,
          2.4693882396476114,
          0.06234708681794941,
          0.034373168184179646,
          1.5865110050090623,
          2.6489176207639034,
          2.866627041449144,
          1.0144681138023508,
          0.7823547986697472,
          0.9734974409027838,
          1.0028217777839201,
          2.010669710453621,
          0.9681132838969215,
          0.4782042294416841,
          1.9399695531971217,
          1.0994839101547598,
          2.185291985437588,
          0.9885370880298769,
          1.0223633423714586,
          1.9370036837633897,
          1.0006415906120851,
          0.588145169652089,
          2.1955931494639125,
          1.9029117013956205,
          1.1450508956048688,
          1.1518128826201153,
          0.9835201412364115,
          1.0628555553855166,
          0.9707624994050581,
          2.7954094030318486,
          1.036509488043768,
          2.372032099302233,
          1.764064882562045,
          0.02462084986480003,
          2.9989416421394552,
          0.7531908916418997,
          1.0833550955878106,
          1.9058067691985021,
          0.013926547803109722,
          1.9528598822587313,
          0.9491580848515266,
          1.9697319375341364,
          0.96532033712167,
          0.9881822734327006,
          1.309010628271941,
          2.101595509452185,
          1.9579723318940552,
          0.17068313574856303,
          1.9616228671044316,
          2.49825898501664,
          0.025389412885408285,
          1.0019526554300433,
          1.2548928936786559,
          1.2255435996120876,
          1.3335092263133403,
          1.90585233793061,
          1.6486779445965047,
          2.288611407397907,
          1.0375754955237513,
          0.8383309001098916,
          1.1944894564793227,
          0.7866892004668495,
          2.512720363717342,
          3.8672626387248896,
          1.1675512985104213,
          2.4160111408344283,
          3.0988281230470713,
          1.2731754372304889,
          2.0864916551855135,
          0.017900014327941863,
          1.9919207371675274,
          0.9666857285908433,
          0.952557223656349,
          0.023697101930969897,
          1.14889736578728,
          1.250566452126857,
          1.349507657131841,
          2.144514133982911,
          0.9909342538167838,
          0.9536118817681628,
          0.6012005828354474,
          1.995592988931173,
          0.9538210466846597,
          1.9190337879409978,
          2.000947131170368,
          1.9240022758008903,
          2.940962686376796,
          1.1327915234266903,
          2.392343211497517,
          1.00785608434406,
          2.9118505286939342,
          0.9769926250931922,
          1.1171113501235246,
          1.3740805750316547,
          1.039139375628838,
          0.005952999242009724,
          1.4142961791407622,
          0.02001947569736196,
          0.8157431205322432,
          0.03421829274663213,
          3.565411665737839,
          0.9547039555584954,
          1.3493923991673902,
          1.0064642581194259,
          2.8423942841367342,
          1.1539853315974717,
          2.251447082108515,
          1.2684278717418667,
          3.2824639874688213,
          0.018284516353932394,
          1.1398576720435103,
          1.9417148232533643,
          0.0052558944890916635,
          1.0636732979038361,
          0.038294607913661655,
          0.9773439130521985,
          3.7670724781981964,
          0.4259632349251752,
          1.2457886429716598,
          1.973893826030129,
          0.943094721426632,
          1.0018401989695556,
          1.8486379527677768,
          1.9840619685757905,
          0.48252128952984574,
          1.0127414107715822,
          0.9600534394344667,
          2.3060645211911632,
          3.3842810829742813,
          1.0275775361919484,
          1.4065044618206684,
          0.07177606669698483,
          0.9298750494726623,
          1.9442806990304873,
          1.4049034259130655,
          0.47211034494621507,
          2.013257604397661,
          0.936669480148888,
          1.9572530513388613,
          0.9191681465871782,
          1.9065659819495246,
          0.9306020264628383,
          0.00976582347376159,
          0.6754534952772084,
          2.051178009828716,
          1.8031132820280593,
          1.0478890665786071,
          0.936023298497196,
          1.1272607677008954,
          1.4933644096566765,
          1.1846373038711975,
          1.08247999106021,
          1.553116411570045,
          2.5912138663777506,
          1.6881687069799982,
          1.9750766948683058,
          1.0208004907950625,
          0.96996536927557,
          1.189159083672283,
          1.4305871302914972,
          1.9837227599716336,
          1.9187084275156971,
          0.03940866367611021,
          0.9915447259849317,
          0.013159942734628246,
          1.9054726846515626,
          2.8694670922285903,
          0.6378294750390906,
          2.9021452760626683,
          2.9516531299105355,
          0.8096313691399755,
          0.35258457494671125,
          0.9519991015389596,
          1.5099301142661326,
          0.11335221934105112,
          2.124057144265528,
          1.9453356727193303,
          1.3033429462322215,
          2.2471239645696905,
          1.8944172381071327,
          0.42456708721709063,
          1.376983821919753,
          1.7807342729155646,
          1.6384167412217203,
          1.8953330737910044,
          1.4156641208073846,
          2.1476844628004272,
          1.1362626527901425,
          0.3444123973572234,
          2.0938754449632317,
          1.882238424659134,
          0.085267405025012,
          1.595092250931622,
          1.5969749290763897,
          1.9730781798102655,
          2.165345362925388,
          2.0452964751971665,
          1.0005954730440303,
          1.9896926260568613,
          1.231249495322065,
          0.899232447506991,
          0.04385831416044864,
          2.410009553346108,
          0.22306756876790343,
          2.052788199892542,
          2.21446577723947,
          1.9662179436453844,
          1.669032037813645,
          1.8500650391715832,
          1.520596236662621,
          1.8913516704700937,
          1.2010541060150897,
          1.5189460307453913,
          1.4988060041905988,
          2.9339544303762723,
          1.4658043134146077,
          2.0191518979143632,
          0.3706307576098918,
          0.934810415669245,
          0.12062446362813614,
          1.7642051676978272,
          0.9997007796504307,
          0.6472107461345427,
          1.937489641853736,
          1.060654059966391,
          0.9570566114226763,
          1.0585264582729614,
          2.964760031889393,
          1.4242083722023415,
          1.8588820540355853,
          0.08138764990321228,
          2.272862247740569,
          1.923302098055047,
          3.8316895149303565,
          2.8717499147815633,
          1.967642262771264,
          1.3093583308577925,
          0.19753896290866868,
          1.9049654099168547,
          1.754951985641098,
          1.9967295934217888,
          1.9413022645579923,
          0.05299355520188736,
          0.09360212093729123,
          1.4656485168930775,
          1.9713917140153194,
          0.42370017171084046,
          1.8402156645822716,
          0.9435020200766131,
          0.1065487651595944,
          0.6844422786974381,
          0.9626796909817192,
          1.6888082237907003,
          2.8805203262764887,
          1.4847908530568577,
          0.41928075720012337,
          1.3063989949149557,
          1.0046290821533124,
          0.7207396355940696,
          1.9607677737488252,
          0.13268322231817212,
          1.931108126053283,
          1.943935500239566,
          0.033691112082077715,
          0.09132393527029492,
          0.9536529056289158,
          0.9748677767561281,
          2.0290427580372348,
          2.7153278976728723,
          0.1800552138026529,
          0.9232760023725444,
          0.020914273401227795,
          1.4130654052949956,
          3.2315782672943087,
          1.0032239753964611,
          1.9628073048123387,
          1.933803861953544,
          0.181041338671997,
          1.9794060987697932,
          1.4853235464817274,
          0.9765606523790673,
          0.13842303883341378,
          1.0100058312785303,
          0.9776309859328822,
          0.845124108744431,
          0.08389222230442198,
          2.618865213012506,
          0.9681651084647824,
          1.9434499616593413,
          1.2409137375657155,
          0.025982438150969688,
          2.090086150942415,
          1.564942879160838,
          0.9627854140655728,
          1.9402866230355,
          1.8022316729966907,
          1.971955061908023,
          1.9363705415696462,
          2.4069777671678043,
          0.9844475567447799,
          2.887755466331092,
          1.9823193827630812,
          0.28438479749731305,
          2.8352772197472174,
          2.0503863595462937,
          1.789277091781687,
          1.0285583169479167,
          1.0855383286683167,
          1.0569985462317226,
          1.2761681955856197,
          0.7670887491402241,
          1.9804120676298038,
          1.903757620020685,
          1.961359724292691,
          1.9626973058487518,
          0.9520424663058371,
          2.1813441679511825,
          2.004053131916433,
          1.7375336603094493,
          0.15304078406769867,
          0.9642482437998967,
          1.9440252483225204,
          1.2119554387155829,
          0.9791054419847592,
          0.8888611969208324,
          1.2884369445425958,
          1.9140181385382082,
          1.5069451318276266,
          0.963686404342373,
          1.0802583017802516,
          1.1522390073639732,
          1.2741602723580197,
          0.6959178610282872,
          1.0520203297977542,
          1.9385660296168425,
          1.8866363196440843,
          2.0787311278099434,
          0.9361855503784295,
          1.6797670745932975,
          1.8516594862724138,
          1.006467780121656,
          1.4216554020154628,
          2.5463885602785505,
          0.12424222818374903,
          1.292439189720218,
          1.0238514076079184,
          1.908188598936646,
          2.391841789117808,
          0.3571841260698225,
          1.152178403794618,
          2.7544834386445047,
          1.9186920279814756,
          1.0524856995403045,
          1.2246688240237673,
          0.9765328482826051,
          0.015989480832886913,
          0.8685549958486631,
          0.057916085420741586,
          0.9692924620376936,
          1.958793146436729,
          1.964650818786256,
          0.0948546711407869,
          1.9569371082201918,
          0.007215499315976296,
          2.841509655273733,
          0.8443961824768141,
          2.0562457527690996,
          0.9874549610999892,
          1.6197030526285614,
          1.9322724622844374,
          2.001883361669804,
          0.2938634221471472,
          1.076711154358996,
          0.46727881485364436,
          1.9370258551791542,
          1.2710242000005199,
          0.9293578736031005,
          1.9446921425875423,
          0.2654598335991494,
          2.6704494728492643,
          0.9348379714054356,
          1.9968375751390595,
          0.9628050362732334,
          0.13850152977900593,
          2.9432154436957862,
          1.9729895808486644,
          2.917839080894154,
          0.32504543725768326,
          0.9429835284679428,
          0.9344524273256068,
          0.40848140045769454,
          1.662752154532529,
          1.6945877529729731,
          1.9727494191032653,
          0.04195178819331672,
          0.05740496357700658,
          0.2148963518301994,
          3.4056442671257954,
          1.9609126055733601,
          1.247005147574944,
          0.9423674805028629,
          1.9362116376094207,
          0.2875922088021599,
          1.0002700074602842,
          2.058244221442604,
          1.3933674767172155,
          0.23273596957906256,
          2.0605435988080916,
          1.1062166373801572,
          1.9200204571201673,
          0.1544796297767425,
          2.454420178557595,
          2.8863407154997507,
          1.9504221686248735,
          0.31363780079004283,
          2.2380356058309827,
          1.3787613842992394,
          0.7384191441261748,
          0.9979613145440988,
          1.6341901763878277,
          0.7709168705194662,
          2.2665418649506415,
          1.4314056189017736,
          1.8785209840128019,
          1.5917415045742933,
          0.9984307051175754,
          1.0123299783105286,
          1.268950257095173,
          2.411690875679149,
          2.8682658753839068,
          1.5758176108237618,
          1.09470440689969,
          1.0001549660867182,
          0.23338743111378316,
          1.4024654972020114,
          0.6582945435690427,
          1.7850322109665995,
          1.1885399134010273,
          1.4785586348402808,
          0.980538204001433,
          0.7197329415692775,
          0.9399425481045037,
          0.09549384998431838,
          1.9424617011672396,
          2.766599604689178,
          2.068574131935507,
          2.2933160047248147,
          2.446498417205555,
          1.424387302429707,
          0.9901350011507336,
          1.9047797178172,
          2.5900961095427184,
          0.7175225802133968,
          0.048795867510713395,
          1.0076513827586409,
          0.9908547297718552,
          1.6145152457657244,
          2.890787567607826,
          1.012820068591693,
          3.0718399034321826,
          1.022588423439177,
          2.151308463527353,
          1.6470153482149337,
          2.7494551832343954,
          1.6040320142407132,
          2.046226577253187,
          0.9905954169926926,
          3.0086559428295137,
          0.8401606272011477,
          0.9693425770421148,
          1.8556538135522078,
          1.0018062360725895,
          2.162443162170987,
          1.6104041355444214,
          1.9494936480494627,
          0.7281069260737234,
          1.618171655831,
          1.053391760003418,
          1.9515020084968049,
          0.007900529752568447,
          0.4816562253469403,
          2.0902524364444717,
          1.8578991132306004,
          0.06973810093598484,
          3.053375242644163,
          1.8641756493311419,
          1.1280642742478932,
          2.9116157965689573,
          0.799139241374581,
          1.7605071009747773,
          2.8436446299482463,
          1.0685658074279585,
          0.9319539500524706,
          1.3982036626665322,
          1.0486380061718246,
          0.18147912278443457,
          1.7462321478044713,
          0.1862952773775723,
          0.5212971301370521,
          0.9564587568386352,
          0.27771871882913657,
          0.8742264941871981,
          1.3668996082243163,
          2.9399363707350883,
          0.9139175769671073,
          1.95795035105529,
          1.0024317474429385,
          1.077213760461926,
          0.9937021926701338,
          2.2565406956674297,
          0.0172122166049602,
          2.5373465606814856,
          0.1065068176079732,
          1.2044721564640815,
          2.3224292602381933,
          1.0264077913725762,
          0.011330442080701622,
          0.9112227039911117,
          1.9070119023291376,
          2.8880750115265483,
          2.908376785678678,
          3.043609694160412,
          2.098530610086296,
          0.07862086795718809,
          1.4361872402460738,
          2.826842596425739,
          1.7585350756700833,
          0.9710562571193844,
          0.10150993586227665,
          1.0307925303724357,
          0.8564730452970639,
          0.9397303852737928,
          2.0166547395763463,
          2.907161193846497,
          0.10636070167871177,
          0.40803331889658057,
          0.023870603219659753,
          0.01569569811796754,
          2.7097970696593165,
          0.5722822790206814,
          1.8976084832244688,
          0.5937897575846666,
          0.025749717743957717,
          0.007905038814740785,
          1.9722903916983587,
          0.9722048831139506,
          1.4124335241255168,
          1.8140723236643077,
          1.3155809206503994,
          1.9299438266794475,
          1.8836789661558424,
          1.954388568227845,
          1.3320861235094537,
          1.965730636624308,
          0.4190971680580517,
          1.1216373498724426,
          1.9199524149841942,
          1.9547044581858528,
          1.9852540230753914,
          0.027230873164727273,
          1.9978591799306338,
          0.9904897038071979,
          1.6665621762555234,
          0.9952143112269948,
          1.0053965381399355,
          0.3948692562434013,
          0.9666554442792525,
          1.3333970625233467,
          2.870004454431969,
          0.022584052986844565,
          0.23043685271880826,
          0.03292806546253186,
          0.59210112433673,
          0.958758193457407,
          1.3393743994830583,
          1.2146583735827134,
          1.9632767689530353,
          0.913197493467938,
          0.9936042003306672,
          0.06228727180298663,
          0.33953385948367526,
          1.1219008900970684,
          1.651400174638784,
          2.202672931838749,
          1.9053299933981103,
          1.9196185598233377,
          0.25060127449871394,
          0.7636706256015311,
          1.0223458680100859,
          0.1085944213867075,
          0.9660603643922129,
          1.251532340198182,
          1.7811436575061377,
          2.9219373562492725,
          2.521691180698213,
          1.0821619175964587,
          0.7673690632574109,
          1.6813989245806236,
          1.082497923886446,
          0.8880994953447467,
          0.28649651674921833,
          0.5547909462009221,
          0.6495101978251013,
          1.7208444037862731,
          0.9934100399949448,
          1.740742820681533,
          0.57685501323403,
          1.0136137354067138,
          3.303302990787107,
          1.8127912755222564,
          1.966756202371533,
          1.4322266025367947,
          0.9874974055586458,
          0.013914551368124969,
          1.7715581875328288,
          2.761085497029649,
          0.9691893507309061,
          1.0071465522174565,
          0.9697310777142953,
          0.5677753466508143,
          1.0118008483018452,
          1.7292453952223534,
          0.9377590673192704,
          2.877546645625153,
          0.846373075050088,
          1.6904742357091722,
          2.6433586373499,
          0.3447929239126877,
          1.8886165270170032,
          0.9021197931341001,
          1.2680031188364485,
          0.0009915554344941623,
          1.1904919971845183,
          0.9982384312704544,
          1.231079585384954,
          0.953381881479526,
          1.852637801698489,
          0.06799673744572451,
          1.9059268432782943,
          1.0637361647230643,
          2.2007943741509797,
          1.7628131766690907,
          1.0838104664746235,
          1.2388658592808826,
          1.9228604516021572,
          1.7353281762123882,
          2.0505681634497037,
          0.26383125350240505,
          0.04547840045935125,
          1.922256214411466,
          1.9598312402512421,
          1.0109452876862253,
          1.9783381373511564,
          1.0287225794900579,
          2.8467592083686006,
          0.06102044297605459,
          1.666302042005164,
          1.9479068736566885,
          0.9448271610842138,
          1.5824718230025614,
          0.027563244400134128,
          1.0182092125506623,
          0.9805407995907311,
          0.9164967623397802,
          0.91408209937235,
          1.8933407575701569,
          1.1410896208087455,
          1.0511153604821826,
          1.9675444845188554,
          1.043414960370058,
          0.5601187905497567,
          1.2288558007770343,
          0.9740610825645811,
          1.6219527643671823,
          2.1826380403978494,
          1.2559904387176808,
          1.0036377079948677,
          0.9817935685661758,
          1.0079467023559898,
          1.9106811925731044,
          2.106525744084928,
          0.04206802565211923,
          1.9536171773758282,
          0.6585539792731644,
          0.9906793523987417,
          0.9647051353202668,
          0.012850821874258442,
          0.09940677336425924,
          1.2760338380218779,
          1.9867978619216342,
          0.17588274414817098,
          0.9561948977034821,
          0.9944897785902496,
          1.934786442869648,
          2.870834298825994,
          0.9635666456600145,
          1.8687132607367762,
          0.9618135569041447,
          2.6153112791868205,
          1.5004758999070626,
          1.0092292369918425,
          1.9553226496551017,
          0.12321305880214885,
          2.0885634102093618,
          1.9390533252476132,
          2.4530289672335615,
          0.049502353914268236,
          2.8597979633304687,
          3.308871910324496,
          0.7942099930963068,
          0.6970664547247111,
          1.0217163977464712,
          2.0610103292142883,
          1.9857931013408805,
          0.10010098518287648,
          3.0431710441212427,
          1.905215774665201,
          1.3086619376417272,
          0.9195625312729545,
          1.9359860037164807,
          0.9903386174208016,
          2.136953978395497,
          2.8761556004837323,
          1.081365186729882,
          1.9079802809676223,
          0.9579671394512075,
          1.0214983140547746,
          1.078252889467254,
          1.9495702322970774,
          1.930752288501783,
          1.0370106941231723,
          1.9861069523521298,
          1.0061487157546378,
          1.8744711181290663,
          1.0779042283130642,
          1.7161387767382,
          2.8994108212424923,
          2.02162821987822,
          0.859074949104299,
          0.030423798287699845,
          1.6572533709271375,
          1.9284012435713989,
          0.31618947443368567,
          3.134813029695761,
          1.4900156550571029,
          0.04019380612193209,
          0.6451531715998323,
          0.6439515439217374,
          0.8056457065169951,
          1.8703022645487672,
          1.0276048564270126,
          0.9192153336402235,
          1.9802694356523098,
          2.516954509223349,
          1.1446731262799206,
          2.7946535483505106,
          1.506679518986469,
          1.9508680474997506,
          0.10149568819745133,
          0.04175427023695316,
          0.8863709622806156,
          1.461391005494149,
          1.5869001322159788,
          1.5743022302496383,
          0.5204957865812644,
          1.1220998613137583,
          1.9447424529454134,
          1.122601096167166,
          1.7466401183723745,
          1.0458360462710756,
          0.7990513004156875,
          1.9996371768349885,
          2.1098119093393093,
          2.107217061072772,
          2.760184089900939,
          2.090960490529601,
          2.017545583749002,
          1.6860318440454,
          1.0515892221574448,
          1.6446884039806418,
          0.8037546317190966,
          1.950556401187864,
          1.8427134361544966,
          0.6575177915130693,
          0.017364384854176663,
          0.9527394700627803,
          1.0770448833589152,
          1.6892463664255661,
          1.9738251279420658,
          0.9206338252568222,
          1.9091792521206785,
          0.45352591724052754,
          1.9477502658991406,
          0.3183851396263856,
          1.8350444075550316,
          1.9886704426260158,
          1.8729607615644714,
          2.898450925927413,
          1.3351076537363782,
          0.9915875672427624,
          1.3226389394986162,
          1.0864900310165104,
          1.0075872989724095,
          0.030985248632190467,
          1.559084318375644,
          2.7327227862699988,
          0.029321516885288813,
          2.437775909032616,
          2.805084809865749,
          1.1567432449707495,
          2.895392950440474,
          0.07757215627301244,
          2.860654042173072,
          1.0761962911092244,
          1.9900470424237182,
          1.749859782577934,
          1.8475065740052605,
          1.9494802602172168,
          1.0020951688562714,
          0.18461233185501577,
          0.08050829825911221,
          1.00371870767436,
          1.839508394831848,
          1.2710150485888252,
          0.012888856832616993,
          1.3947256382019388,
          1.0396369362451923,
          2.123841663303097,
          0.9662268249391069,
          2.0763330061778005,
          0.945797928988951,
          1.7508243374062387,
          2.1476652888580507,
          0.07028147446893016,
          1.986448222453165,
          1.9232974194058214,
          0.010719535838533042,
          1.1650811277548285,
          1.0276564364378828,
          1.9181029446125932,
          1.0677439950416658,
          1.1035548711288703,
          0.9580571144260128,
          0.019838256423543685,
          0.03860159536649016,
          1.966810517301398,
          0.5214594146234236,
          2.685824269074455,
          1.2079238171444977,
          2.0689669460056717,
          3.3919860358704854,
          1.8265116854587828,
          2.7344650604718024,
          1.9692206635957175,
          1.9749671020655537,
          2.8514277494392677,
          0.920594115086906,
          1.42446592236254,
          1.0174554898478494,
          1.1496003678660567,
          0.02396929261890212,
          1.8098549971636175,
          1.992150558778489,
          1.069605475493405,
          1.969275382624342,
          1.9934937220832063,
          0.4357032115164444,
          0.03274677431692032,
          0.8336712430163009,
          0.989450657426852,
          1.4018481558897073,
          0.9565887617849361,
          0.9822541183339448,
          1.891154960757902,
          0.3376126070732236,
          1.0480847903235555,
          0.24532585993482242,
          1.899614347799907,
          0.01944830257977147,
          1.106272827153557,
          1.0332504495314003,
          1.2764419888197414,
          0.013999371871972012,
          2.5070142988265136,
          0.02665430107075967,
          0.054135313753999936,
          1.0258294726401342,
          1.944980924213252,
          1.9183839428502005,
          1.2993197986429013,
          2.3124171636120603,
          3.0001284997312245,
          0.9431379705058884,
          1.9900589399190947,
          1.585191745400892,
          0.9330998813561877,
          2.1186964959175114,
          1.5008976802804228,
          1.0856155871912248,
          0.9654642072860414,
          2.481787648111648,
          1.9092272404249255,
          1.9076140093966878,
          1.9029676666199555,
          1.060967907297833,
          0.9457921081879428,
          0.011667631577704323,
          1.001776928761897,
          1.8204200164585351,
          1.4674475016789688,
          0.02383785607328869,
          2.0884101952480516,
          0.051254408019867734,
          1.928715361533934,
          2.699504693389184,
          1.8645891054145685,
          1.924705286015098,
          2.9057702010435733,
          2.002463033251134,
          0.4565191352298872,
          3.2655204734202097,
          0.9693192895717191,
          1.9755928752046479,
          1.4609412743763524,
          0.021325629692962526,
          2.4200635179870837,
          1.11166311916553,
          0.9969407919599981,
          2.5512808741143562,
          0.060332318170064,
          1.9287573097079256,
          1.0188322463269817,
          1.7740185032217421,
          1.9773098676065946,
          2.9670837636797422,
          0.5249900804792814,
          2.1430790141018194,
          0.1278406372124619,
          2.818656164354084,
          2.104731669018192,
          0.2583694746295703,
          0.2699951517662944,
          1.0621215721879174,
          0.9664912661282894,
          1.75255370904574,
          1.5787918713143239,
          2.838823301985268,
          1.8797704182997952,
          0.037576424527582315,
          1.8284143011827436,
          0.9886812408098211,
          0.9792730908848905,
          1.1189924585778148,
          1.0593818400112733,
          1.0147620407672415,
          2.260072329066462,
          1.5362934044096932,
          1.8808496823931664,
          1.0013955850182572,
          1.9274173905109733,
          1.432198122445085,
          1.9669964279815586,
          0.3512623553497419,
          1.9275465744832152,
          2.1387133363997237,
          0.6690472165396417,
          0.06918870427500758,
          0.0621987973822109,
          2.926398951455149,
          0.9538315399286027,
          2.12998437058551,
          1.9557006721612165,
          0.48578602646988966,
          0.5500559720470719,
          1.9122374239812054,
          1.7457970888709353,
          1.1353399612726534,
          0.6385779242295385,
          1.3862548186097756,
          1.9092852057934642,
          1.6155978984428603,
          1.8858591029927299,
          1.5105270166161557,
          0.7215783804057947,
          3.594277553693344,
          1.9372912100705246,
          0.05617690570273526,
          0.10661668610694583,
          0.7193432841053149,
          1.0010563950782385,
          1.9237355465019002,
          0.17090043153202858,
          0.9976062505196988,
          1.9925052688961091,
          0.8701040592687206,
          2.9141352581872613,
          1.5565902608905564,
          2.8815011752188355,
          0.15350838932024644,
          1.065616846033246,
          2.8480509521441935,
          2.2352004012395157,
          2.890389375429119,
          1.5413256264075639,
          1.151062693961523,
          1.9590364757293417,
          1.0226958972766362,
          2.0424901368805566,
          2.2920752077055737,
          1.8864793838088811,
          1.070838069606357,
          1.1569929957908827,
          3.161232143182688,
          1.9744698960623654,
          1.0092976620421672,
          1.0036482667934117,
          0.21479821802930552,
          2.6778213959468196,
          0.9683711138176094,
          2.3482304371542426,
          2.04717425778292,
          1.536575413905305,
          0.0023291410293383497,
          1.0295420590818702,
          1.1909783414608803,
          1.979161376158432,
          3.6736542659228366,
          0.8996144533377545,
          2.123034669476633,
          0.1180997604333984,
          1.0236707110047827,
          0.28404793484771285,
          0.9589241247221956,
          1.9197374149761466,
          1.0010390339357969,
          1.0182248588999792,
          0.8225441172432744,
          0.9924222497455669,
          0.35631546711364975,
          1.0310872247540663,
          0.43483234394716125,
          1.0670537616418208,
          1.382028058646392,
          1.5095446881751016,
          0.9124575182000891,
          0.9902903933967635,
          0.014819851406228043,
          1.0747706593511535,
          0.9432040772805418,
          0.09285491609058774,
          1.1211808593442274,
          1.3829690437352058,
          0.7177436279237053,
          3.869409017007654,
          2.120305842924107,
          1.6736665530442354,
          0.9061281728179857,
          0.9684827010866067,
          0.0032705612664369254,
          1.7931486814885105,
          1.9826856749623822,
          0.05589999307993644,
          1.9220554460272985,
          0.9968287945262186,
          0.7895114157889442,
          1.8767437018778412,
          0.08524238121392957,
          0.5297332052474686,
          1.9716297135396457,
          2.789947742098045,
          0.0033005198426896256,
          1.0092203756783957,
          1.8578835589099463,
          0.9957553579773935,
          1.0216235575588157,
          1.9644705735453782,
          1.0696951597188855,
          2.9446195448721264,
          0.2185693511735044,
          3.0755460123002547,
          1.8556027152537555,
          1.4223532500482943,
          0.9541367870670654,
          1.800695198862038,
          0.0467205149278256,
          1.2029766582231889,
          0.9978546771690272,
          1.6580288039563398,
          2.131043051811139,
          0.985108165650085,
          1.8591657643584232,
          0.9820179466296569,
          1.4199275929889255,
          0.19511431081916403,
          1.1784409081279492,
          1.9779456927598784,
          1.2833542152537851,
          0.9969036579873295,
          1.1631154819854137,
          0.04405328131049902,
          1.3468579456221468,
          1.0400905412034813,
          1.925689562949435,
          0.024191426652999008,
          0.9447737011123911,
          1.0002443583279907,
          3.06864647011226,
          0.019961431762498226,
          0.2617803911110436,
          2.02458574679159,
          2.061622298456748,
          0.9532367195069341,
          1.4667218039870253,
          2.2414126408031727,
          1.0208318560302614,
          1.8318655603097649,
          2.023130676381665,
          0.6466997384055067,
          0.9165425215788888,
          2.0538962336722086,
          1.9246542806733975,
          1.9849581701596914,
          2.478614265991952,
          2.622487352073641,
          1.8871096101811737,
          0.11794464079661647,
          2.8087666476479,
          2.188976138941263,
          1.8902149046175858,
          1.0101272213207793,
          0.9494768375093889,
          2.513524323552592,
          2.596683565820015,
          1.0214271949144478,
          1.491685158934061,
          1.9423223259062474,
          0.04661651247432478,
          0.8957985994683936,
          1.0090860466878884,
          1.9118470779731804,
          1.3876532872927134,
          0.03605457467106174,
          0.17747072838146455,
          1.9946739991796765,
          2.5927816438604623,
          0.9558630678761126,
          1.877943826520529,
          2.916784966400667,
          0.4364787836611393,
          1.98269835079088,
          0.6158731201154211,
          0.028463633391071337,
          0.27531404099173756,
          0.05024691826705554,
          0.9681168677006134,
          2.7896074296718107,
          1.9810062777602555,
          1.3756349518532005,
          2.253303548333264,
          0.9431423434691528,
          2.039863992922657,
          1.974070651430491,
          3.0915703331653144,
          1.5148702285078506,
          1.3323440716405315,
          2.412595780044005,
          3.142093757489058,
          1.9848573612212816,
          0.9977561901462041,
          1.032133344213234,
          0.8541672716158928,
          2.004576278506925,
          0.31109622308866997,
          1.1588452799604498,
          1.9438376161876247,
          1.9814849765149847,
          2.219202470765259,
          1.9245495734914564,
          0.9682216746177796,
          1.1640846741019317,
          2.328698208557852,
          0.5109725432256381,
          0.012265197856384722,
          0.9447562586052282,
          0.9598740567559058,
          1.8973435741299924,
          0.99066677120422,
          2.0380983465264326,
          2.2477447486452364,
          0.4310867509203834,
          1.9403957270144283,
          1.9755402119524725,
          1.3304394022687784,
          2.636525206672524,
          0.9414574663001198,
          1.8891382782404094,
          0.15857964593309612,
          0.3938781282908307,
          0.9869706251035761,
          1.0330942476959784,
          0.9826691152614838,
          2.2698573220348353,
          0.9956654462945548,
          2.88126840326751,
          1.9489759815493053,
          3.201946768467268,
          1.9307428195228054,
          0.14747738317511344,
          1.0013383117241175,
          1.5500550804510018,
          0.07168011743605,
          0.9346754492874915,
          0.01607000711652078,
          1.922190753598345,
          1.9603839835807357,
          0.979606950886953,
          0.8789726301385691,
          0.9766812069403729,
          1.0330327493596512,
          1.0713647886208406,
          1.9694494798782842,
          1.9792194906796297,
          1.9820065428904,
          2.770237850491046,
          1.6995702353389541,
          1.9025112758131575,
          1.8798796287854362,
          0.9002925215140956,
          2.9939680621232165,
          2.9200484991287974,
          1.7782974995227654,
          1.6469705302821713,
          1.600629393989323,
          0.44552458652328986,
          2.043703144863635,
          0.9419796557044192,
          1.2473914753302464,
          0.03297277092553914,
          0.9798353014193757,
          1.652100390356369,
          0.7517906441288207,
          1.9458773965538176,
          1.983474466736146,
          1.9441753100747996,
          1.8230962023321522,
          1.5379281569877015,
          2.899571194079498,
          3.6441991907105433,
          1.8012013812223266,
          2.7755873929302313,
          0.02928955364832283,
          0.4181417921890982,
          1.986666907964862,
          2.8070933982626185,
          1.9837811945480037,
          0.02389464119022175,
          1.9468375389317696,
          0.9692716931428871,
          2.0946768294317257,
          1.039605156777391,
          1.9311215097674739,
          1.361693299352577,
          1.9754074695885362,
          1.6685612502579634,
          2.027080541161107,
          2.7992179974872973,
          0.33118938842716567,
          0.9138551784353245,
          1.6738692238085744,
          0.5621808335072979,
          1.8789039973661494,
          0.6993939403643287,
          1.9755106705747671,
          0.9624201067008541,
          0.9646618375493451,
          0.18591137912777725,
          0.9903453108859528,
          1.8631175366818034,
          2.0022127562234013,
          0.20864592706049842,
          0.29842568885345017,
          3.1465439652674423,
          2.7376634886104054,
          2.335557832503985,
          1.970507249103435,
          1.9432902003186883,
          0.9923496675514444,
          0.389396627570709,
          0.047144088904410214,
          2.0166490979953813,
          0.056325316686939395,
          0.34206119458559936,
          1.936339840139771,
          2.7033579564640235,
          1.884292117512506,
          1.9367011604960989,
          1.8859538778727774,
          3.832159044203854,
          2.776407319382846,
          0.17623106147051518,
          1.9485691161238319,
          1.051290662358411,
          1.9796681332383523,
          0.9644757294499511,
          0.034045874939186885,
          2.631123291167871,
          1.725321032176842,
          1.026075589025353,
          1.0329576509491327,
          2.2228534167598575,
          1.9188228001441894,
          2.9233835470631973,
          1.270975295096319,
          1.0348606503819804,
          1.9686353934371479,
          1.1300640430199074,
          0.006974614888257475,
          1.020848505032337,
          1.0001249465014763,
          0.3385434499406387,
          1.8912436034943565,
          2.977069247380046,
          1.005663599486852,
          1.0120260661144738,
          2.9253762172607196,
          1.8483262050877265,
          1.8655291083608196,
          1.9837950466871408,
          1.464622196896677,
          1.5806335676558816,
          2.119520149469255,
          0.10305029182338901,
          0.12684991559186487,
          2.4518497236206427,
          2.594961985681403,
          2.0018873747829193,
          1.9088182433047383,
          0.0280138358350851,
          0.47439221204394827,
          1.749365535702897,
          1.986176471626441,
          1.3857120851355236,
          2.103584358013125,
          0.8742356666625798,
          1.977953587858031,
          0.48656690649781675,
          1.81720643110951,
          1.0166892976498394,
          2.7592838257654573,
          1.0271362286448027,
          1.6536471786234772,
          2.8529177723334516,
          2.9013324689640902,
          0.8443740805438318,
          1.0118336399660883,
          0.1432511486684682,
          1.3075965878784022,
          1.8379032768625025,
          0.9917996452192437,
          2.9474123580277674,
          1.9325703932114537,
          1.3710273542593348,
          0.9067056159525221,
          1.0252649938530471,
          0.03816796496382449,
          1.3758487789057467,
          2.577942509651485,
          1.1552017293185042,
          1.884533286107609,
          1.159543733831598,
          0.9581231886676845,
          1.5111825335790237,
          0.04400902749485587,
          2.6647234472798673,
          2.1626421143366192,
          2.086396934816795,
          1.1038849102596857,
          0.014794068351363963,
          1.9803105904659417,
          1.8611710992880401,
          2.437338131320656,
          1.0305049875479728,
          2.423472726901426,
          2.907049331105928,
          0.9197604340353046,
          1.5342870792110124,
          1.9420531887617742,
          1.5891156751592563,
          1.954582800307922,
          1.9826355161839209,
          0.10210221849183596,
          1.1358021852358515,
          0.9103403011037305,
          0.9664810830130728,
          1.0805825233994764,
          2.2661020596757875,
          1.0659369976270852,
          0.9388842427536365,
          0.14300421854765327,
          0.9439730321440577,
          1.9299552068195678,
          1.9149988428589997,
          0.9544683044873937,
          2.904812570094972,
          3.48799470963091,
          0.985797897182822,
          1.015014559359849,
          0.33642690299516725,
          2.0795915133980554,
          3.0514728093253893,
          0.14690948292472528,
          1.141265712427291,
          0.8971146862921782,
          2.4567440664080813,
          0.41280775261997643,
          1.051422402304445,
          0.5775481717500768,
          0.9926916359204896,
          0.016543597103077016,
          1.1546405295972855,
          0.9804800230859408,
          0.0021715143334015644,
          0.9614061231270311,
          1.423710793175237,
          1.3583920555263462,
          2.6620773630238466,
          1.9833420270459674,
          1.5998913917803639,
          1.8538730725447143,
          1.9067051200701959,
          2.4594040080460835,
          1.063012105019214,
          1.2167569183166014,
          1.5862745659595183,
          0.48057718432679397,
          0.7708682647007988,
          1.9591756722737037,
          1.9086188690262973,
          1.2906958533117903,
          2.0203882413304157,
          0.9592943910966842,
          0.9736003111252903,
          0.009898863837340996,
          0.01576644935837066,
          1.971163892068889,
          2.8066948785929595,
          2.9008887587366408,
          0.9528303443384846,
          2.4649133064529316,
          1.9758995016290202,
          2.7376107322476106,
          1.9622127393308975,
          0.029637478139318593,
          2.9093052447634324,
          0.37140025903391727,
          1.2256737620341633,
          1.9754263782827257,
          1.992068204532413,
          0.00574699727043612,
          3.8856644787217443,
          1.1552531561624155,
          0.949339330681882,
          1.0689575230745452,
          1.3998221555411352,
          2.022520611705139,
          0.9776815581449108,
          2.256266865449731,
          0.9617391438211327,
          0.1345777780938922,
          2.927754862710526,
          0.9650265113569931,
          1.003406631857911,
          1.026509530774182,
          1.430951922383568,
          1.8220337902499244,
          0.09425455949287406,
          2.008692951136619,
          1.918154797700887,
          2.8769207355582385,
          1.990239184025751,
          0.13884604379093485,
          1.8056940473076475,
          0.44716757278670866,
          0.17699134017578783,
          0.9829645018529863,
          1.1702119907200628,
          1.974488396761663,
          0.8634953637996502,
          1.0176732003750124,
          1.169575151261406,
          1.0219064444401893,
          1.2418609420502045,
          0.9969698139719458,
          1.1142046160737469,
          0.9702243468413712,
          0.9470100556745341,
          1.944653446415177,
          0.729401885824065,
          1.6263810076789553,
          2.0135445154930176,
          1.3469884185759748,
          0.028695085660604094,
          0.018147057058419434,
          1.745983927075652,
          1.5796664773345663,
          0.9708006311783899,
          1.0056158505246453,
          1.9794975540604598,
          1.1124303527826924,
          3.3135547760861144,
          1.0015476711713036,
          0.35263804269830695,
          0.03481777702216669,
          2.298404964831518,
          0.9275269153963835,
          1.5383060696282407,
          0.9896017284183445,
          3.360659315678851,
          1.7134528808106453,
          1.9526150541478322,
          0.6181071419518253,
          2.5782210052324928,
          1.1690825358185888,
          0.6409905276796186,
          0.9808051537669861,
          0.9974568171832552,
          1.7871216004308736,
          1.117740318286577,
          0.35392455566388326,
          1.9259776892068476,
          0.9929873512836049,
          1.9546875268871298,
          0.567599052274684,
          0.0576139076829011,
          2.849476566031151,
          1.9348928722106955,
          1.3370176508271685,
          1.892541668162843,
          0.9681382089751803,
          1.753132168995077,
          0.18755224398891795,
          1.8883432442331949,
          0.8717053866519726,
          0.5386971574264958,
          2.9143873531548965,
          1.0787002556406189,
          1.8810963810350285,
          0.5396948405808558,
          1.0130874512606223,
          1.0091327814116522,
          0.7016903678899384,
          1.9317524371119053,
          0.39596318567787353,
          1.3080712166091883,
          0.965172604074567,
          0.07681168704162833,
          2.532915802671831,
          1.9173387612722776,
          0.013600825917880956,
          1.2984555968333649,
          2.5412257021010918,
          3.727933409619739,
          2.0542989429044627,
          0.9638552878576926,
          0.948488716432903,
          1.013240205808258,
          0.020504959373087637,
          1.0040045033644747,
          2.6474936828103917,
          0.029828116813584177,
          0.054315899711155885,
          1.985685547220205,
          1.574299430676877,
          0.2757865309561027,
          1.0394025276481018,
          0.9691401040040065,
          2.438230540271215,
          0.925078783790851,
          1.9589131112714053,
          1.0232078060627934,
          1.0869100546910002,
          1.8631975882704452,
          1.392076561667881,
          0.9861917319579417,
          3.5286988447337264,
          0.06938111712037504,
          0.7696408561501294,
          1.8345902739005457,
          1.6980304942647906,
          1.342761664100211,
          1.9805035421289572,
          0.9419082216774525,
          1.4582717662797102,
          0.1525603284052036,
          2.618959661120037,
          2.9325656849193087,
          2.0539035583591216,
          1.961695773416081,
          1.8974727423904905,
          0.9533017805929291,
          1.0393881101955245,
          0.099006377872534,
          1.674507477248448,
          1.1231404943815109,
          0.27872653034836675,
          2.0168088399218624,
          0.15581134634976038,
          1.971408259866243,
          0.2523177956734444,
          0.01559979803480888,
          1.8223985637410651,
          0.9737913163530194,
          2.011111331421632,
          0.9609658038931443,
          1.1133109856916046,
          1.024321451513273,
          1.2678557330345057,
          0.6591544006255713,
          0.9942639155843168,
          1.7257800946235367,
          1.7327290583856463,
          0.375230693077498,
          1.9146532703872543,
          2.8968417949837506,
          0.06528480186506702,
          0.026619084442491392,
          1.98405859553355,
          1.0626914643502048,
          0.9483504690027166,
          1.873324640135027,
          2.936725419350049,
          1.3836273010524265,
          1.96943141777595,
          0.028599987448431622,
          1.2122723530202903,
          0.9359263863462851,
          0.024344515355589274,
          2.3507163726783213,
          0.837414862373829,
          1.7617100234019232,
          1.882337377976925,
          1.8743981929183007,
          2.0743510364960374,
          1.2244435818229424,
          0.9524129237624186,
          1.0704084660770805,
          1.0153303952743113,
          0.13090380791943146,
          0.09135314512802056,
          2.7798803246331723,
          1.1097785451087645,
          0.04430933135324788,
          1.830171603951483,
          1.039680591050276,
          1.338703176153559,
          1.9571260441018663,
          2.0552216858285903,
          1.0688318089382056,
          2.8097885672012732,
          1.0208998511007168,
          0.9491330600918907,
          1.103091612449231,
          0.031212408064688352,
          2.284941416070107,
          1.01960074198167,
          0.9596018172067311,
          2.7293934731429386,
          1.0583608576827257,
          2.865407553737392,
          1.8215116414566859,
          2.0312727399182,
          2.8123743745127014,
          1.3599498960482552,
          1.0784382815576774,
          0.9653874220209876,
          0.020495502667893788,
          2.907784366459962,
          1.1878011386494882,
          0.5868904872884947,
          0.953844043482761,
          0.004757479756414453,
          0.7322588064752595,
          1.4753025761495633,
          1.2166448699510428,
          0.9184758138422806,
          0.08641365659210451,
          1.9671020754276232,
          0.959160080879364,
          1.859840965262228,
          0.039593502413166025,
          1.877796780420368,
          0.5531283155197834,
          0.9957455159391516,
          1.0411589274198556,
          1.0368190680658405,
          1.9907225587062303,
          1.7339969931640704,
          1.9804782604376552,
          0.030428977454049308,
          2.922973217294828,
          1.338868344070497,
          2.809904032440739,
          1.2668090614036542,
          1.9587324936394663,
          0.9948412546442493,
          1.3319718160801213,
          0.9705262385642843,
          2.8362257326328417,
          1.0002591953988127,
          0.9346354040676363,
          0.029138123478042805,
          0.9668800088697843,
          1.276165764784319,
          0.24095782012181688,
          1.5345767975483386,
          0.9429225102245666,
          1.1398243162271429,
          0.9351668202661454,
          2.646824540006286,
          1.890230520983927,
          1.7987473743193487,
          2.4524023815760545,
          1.9900836178814094,
          1.7965751164842079,
          0.09948389788999079,
          2.137432535076166,
          0.9771587511992453,
          1.0838571783631543,
          1.9349036444477103,
          1.2399293930852249,
          1.7757155981428283,
          1.9046585346047604,
          1.163522968571759,
          0.08424322970111073,
          3.8367612142668897,
          1.1975730142311138,
          1.4837492674856796,
          0.19198340318918405,
          1.6961621228613901,
          1.2153603450347505,
          1.8939974515953955,
          0.9660954243249575,
          1.923609435836365,
          0.9442715960418365,
          1.0001690645513284,
          1.2278416403594057,
          2.868805275820766,
          1.3817883558066244,
          0.10051873259139765,
          1.950417230801983,
          1.5838215895711347,
          1.6361143351812644,
          0.01707147219031167,
          2.0288677740679475,
          1.5522452486416252,
          1.2655026883996188,
          1.5010070563121989,
          0.13032973726724498,
          1.009333287028489,
          1.9729100573813496,
          1.5918772335058253,
          1.9873124001524014,
          0.43360132184891226,
          1.015700890301059,
          2.1642779266367165,
          0.9420914748030722,
          2.3164064695322146,
          1.7389908913661811,
          2.309230303387747,
          2.0868261825932723,
          1.009928163183659,
          0.020869971022150643,
          2.960497660695233,
          0.9467602910572868,
          0.9555536158966521,
          1.0953170398704064,
          0.9089250715426234,
          0.15074097250560234,
          1.8520089807414646,
          2.075282012246785,
          1.0749823657651265,
          1.0766573185397783,
          1.9257464465059626,
          0.9852305686792866,
          0.4617884673426197,
          0.20158458211017033,
          2.611399964649625,
          1.9472081909316725,
          2.0054182986369877,
          0.01675516515460503,
          1.8729854490515978,
          2.919121859826259,
          0.9863268821878861,
          2.4668833305162323,
          0.25396705427327626,
          1.9533532825021747,
          2.0713799525734133,
          1.9805350024010129,
          2.017039096098948,
          1.9520080081016682,
          1.0190466814331705,
          0.035091845251923715,
          1.44799497454707,
          2.5078290607537843,
          2.088822808369587,
          1.0051542022646005,
          3.6168832853758532,
          1.9426200692873417,
          1.5922150370013362,
          0.12157945896453315,
          1.6908049550005289,
          0.1423008107274243,
          1.2059166046086944,
          0.031591033607522676,
          0.9982738607600327,
          1.8560006693463362,
          0.025081120639238577,
          0.4856592353136882,
          2.0123385366394695,
          1.9021639453764332,
          1.9235944387872452,
          1.0001850384648368,
          2.158948787948826,
          1.814190415677512,
          1.6149478101744381,
          0.016106866958831983,
          2.811383627943455,
          0.9735144982456969,
          1.9273482184308812,
          0.025322455109959598,
          0.4439849158967764,
          0.15601110464489823,
          1.0452363642719555,
          1.2799673734233161,
          2.1301613014494807,
          2.3037473968528825,
          1.390922159445029,
          1.4113164843683,
          0.007475469269532842,
          0.037534218926028894,
          2.8541480256327203,
          1.1885759065322528,
          2.0012631298470787,
          1.0519262449349427,
          2.943677189141409,
          2.4626190690775385,
          1.90107533991557,
          1.9633776852060756,
          2.7749722365828764,
          1.9846708839615532,
          1.078694610079911,
          0.028654189057630192,
          1.9171009047772576,
          0.10047683396844849,
          2.7489797048139897,
          0.9360986514647883,
          0.9708463106830691,
          1.4082663403934323,
          1.9674732263238366,
          1.4729152917478072,
          1.988168962829375,
          0.03387396704296892,
          3.8814021020786185,
          3.718972839335521,
          2.070311375326821,
          0.1073556627657776,
          1.904732094820952,
          0.02043666286677713,
          0.043279251673899594,
          1.3793017366410096,
          1.9687116642239835,
          1.280641267929528,
          0.18266721342363013,
          2.8754101909178726,
          0.11019237747108836,
          1.010960809975985,
          1.0124947397053905,
          1.2557331970403791,
          1.9852839185923765,
          1.843496655047943,
          2.2351971730603375,
          2.179348262753634,
          0.9940445870120673,
          0.7763942050687429,
          1.6957377715301398,
          0.9195988663472229,
          1.007969781828353,
          0.9947348091836011,
          1.9929113993755716,
          1.4173195653877027,
          0.015953221111217372,
          0.025882586565247678,
          2.0298202395145477,
          0.9874237554607947,
          2.0919523276446172,
          1.2870435164120022,
          2.8479923224113963,
          0.6970354785378009,
          1.9308387801537108,
          1.1239744595462722,
          1.5582063168266012,
          1.0254193674323209,
          0.35467908681020405,
          1.2888582107473014,
          2.893127073449465,
          1.8104494637720476,
          2.8140842102475165,
          0.016552915759726915,
          1.914280639639861,
          2.929941671624408,
          2.177855724002769,
          1.6114189847563811,
          0.014060592493351403,
          2.649664367977402,
          1.1159101450086315,
          1.5955561748426923,
          1.9504298341440647,
          0.03212807398239435,
          0.8797355846386538,
          1.8988359846428133,
          2.846651850597699,
          1.9547788082534092,
          0.8387199929351875,
          1.0658757389061604,
          1.51860610028662,
          0.031406511862244565,
          1.972206014995282,
          1.921402443134636,
          0.06472040550968519,
          2.8029167364795553,
          1.9036804917245345,
          1.9255142897571849,
          0.012086810015446115,
          0.6091597989039086,
          1.977311531602331,
          0.9724388300391639,
          2.6655175108373608,
          2.7185419079490973,
          1.7031227468741303,
          1.4470483556718814,
          1.7309640382451257,
          0.9159283409165226,
          1.8939424444081854,
          1.0895117414533235,
          1.976779506557333,
          0.0682235375657878,
          1.0539818985148879,
          1.3035577756698844,
          1.6929848023210006,
          0.4033279145652949,
          1.9195100669161698,
          1.0018444205368242,
          1.9302504591354093,
          1.7652413874513597,
          1.0757465461286844,
          1.078708859743499,
          0.19744052729385952,
          1.1309416486438666,
          1.6761696649599709,
          0.9605009216328044,
          0.48671568821771977,
          0.5617720376136984,
          2.106357228189614,
          2.7509287797464346,
          0.5149686218160845,
          0.5113084637917708,
          1.286023046227081,
          1.528673728910029,
          0.9468936519638671,
          2.2338376874690136,
          0.4412604945782112,
          1.4853678194647577,
          1.4363959166200646,
          0.006355859446841233,
          1.9263940471195582,
          2.905668659990739,
          1.0549406461653972,
          0.9030022782686443,
          1.9325471064294217,
          0.021120775122859606,
          1.194712544666575,
          1.9160273076903647,
          1.9972981727699706,
          1.9506459627933017,
          1.492495995363224,
          1.977024949596478,
          2.22481871188053,
          1.0167728667221685,
          1.7161310669366303,
          1.818302943160278,
          1.0198497875581665,
          0.794707092998033,
          1.1783375145386465,
          1.0833077105766298,
          0.8788198529909885,
          0.0755278325479047,
          1.0064709107237326,
          0.006770282059123942,
          1.3879112637659978,
          0.00015522202494088716,
          0.9455072139974373,
          1.83254868026678,
          1.5430476936752096,
          1.5038718898175882,
          1.9818702715730865,
          2.97286981004501,
          1.9050386084888733,
          0.9620106778819223,
          2.3778720434088045,
          0.9131597348173776,
          1.0910216571068614,
          1.5258267518686535,
          0.9682353054768151,
          0.27182832883881636,
          1.1529970668397793,
          1.9400013103326872,
          2.652062898946955,
          1.1734286772827773,
          0.9693594013087032,
          2.8275468258316003,
          1.4060880401975298,
          0.9925532806805293,
          1.9454537379095893,
          0.47031319734732047,
          1.6200854591999496,
          1.0083460151924224,
          0.3302909222990415,
          1.263071234202361,
          1.1495028062394574,
          2.1819326709578286,
          1.7092910728937456,
          0.004608040524876479,
          0.9855992437043855,
          0.060680676625292085,
          0.9983609184411156,
          0.16421463126094954,
          0.07114782043607945,
          1.3533434866541647,
          0.01961076629283546,
          0.9651980075664854,
          2.5265000251440926,
          1.8992124045471999,
          0.9498172860274124,
          2.3782574669593313,
          1.9993756426280318,
          1.3793451150250082,
          1.5761575540616883,
          2.638007787968954,
          1.6672798691105992,
          1.975932403592082,
          3.829175425384877,
          0.7488211435388341,
          0.946672442372559,
          0.035057767253116066,
          0.9728032565245938,
          2.1262221131464094,
          0.900477956594039,
          0.9696321547911737,
          0.8795098768491789,
          2.00263399156514,
          0.24528490462593858,
          2.956828086025529,
          0.9555139796140188,
          1.9615763424135957,
          2.138201254396432,
          1.9752106582437725,
          1.0034338823020017,
          1.926760986666163,
          1.4210418294271365,
          2.326806450984814,
          1.0169061140912992,
          1.6095047149361248,
          1.0070365525524538,
          0.02249198966868514,
          0.2825738243833054,
          2.09570357005612,
          1.0085223331924977,
          2.85411281925928,
          1.2527487739890593,
          2.7216176716040237,
          2.8047725782448376,
          1.4576183278892052,
          2.972452319464619,
          1.7614453497579354,
          0.99702199459204,
          1.8589467121620538,
          1.0090557736706234,
          0.03588425707589699,
          1.0371645026802845,
          1.5539753154648879,
          0.5411656558142863,
          0.027466219616301805,
          1.9745742674722393,
          1.899418758004561,
          1.843557105211267,
          1.9620755599701973,
          2.955405858156986,
          0.7227947743652412,
          0.9605794505724792,
          1.931753247905254,
          1.2835358593058843,
          0.1688251022951523,
          2.7331139334630676,
          2.4243209448766727,
          0.048831282193995976,
          1.934751804913952,
          1.3612208421434455,
          0.237001945032246,
          0.9630109093405457,
          1.0352907784317322,
          0.13465221424590287,
          1.410523084867841,
          0.03448114642386696,
          1.9086646019919917,
          2.8130004658513554,
          0.0341209675799842,
          0.8772965628319611,
          2.9042022070287183,
          1.9751058108045552,
          2.6959557850686773,
          0.9400055754133372,
          0.0396573884232442,
          0.018817478245629526,
          1.0775328591560096,
          1.008017695022828,
          0.9726301020536458,
          1.1946396126271555,
          1.9015618042379216,
          0.8377146049336797,
          0.9393389826010908,
          3.8050487000358792,
          1.87533292618377,
          1.0162272073560215,
          1.534848759654951,
          1.4960158363567528,
          0.9640138865957376,
          2.367083604491465,
          0.01401955520634315,
          0.0497075699122163,
          2.6642268501574797,
          1.9300573291367877,
          1.7481565161996389,
          2.150907050556887,
          2.406398361199444,
          1.258237407580972,
          0.9520644995179851,
          2.7861761828490015,
          1.0473338528464637,
          1.8085305879692464,
          1.976691649883809,
          0.2545503419768725,
          1.0609813021153707,
          1.6416857192318375,
          0.2849016583823361,
          1.9821617248212011,
          1.888411415435829,
          2.261953300298122,
          2.4272256239460392,
          1.9349065094019873,
          1.9743388947658618,
          1.4005338500051516,
          1.1114120451986387,
          1.0563756897591743,
          1.9384252546663536,
          1.615891729990278,
          1.0973548917530636,
          1.8578603143720855,
          1.9847557896029928,
          0.1692324806604047,
          1.675949009495193,
          2.2402748684862055,
          1.054897734935866,
          1.9814898535918908,
          0.3183285093487854,
          2.4620942109544246,
          1.3252656610403517,
          1.3342181500833978,
          1.0150740326669758,
          0.02452149651618546,
          0.3255797228077955,
          1.9317450564149437,
          2.9637924417198214,
          0.9921924280324986,
          1.0032773623797895,
          0.5969733548488387,
          1.4151059046113406,
          1.5866189079353863,
          1.0155492799218315,
          1.003266029334594,
          0.7416505738753956,
          1.0116696923347057,
          1.0539388669534817,
          1.937939974517449,
          2.869992892475804,
          0.9791349018270726,
          0.99794132571325,
          0.02808829222558856,
          1.817147399005223,
          0.5109230527267896,
          1.4712807763957032,
          1.0255872805573394,
          2.5240314431032544,
          1.500750331712198,
          1.2287893361815159,
          1.4877601608387325,
          1.9800086481412333,
          1.3957478381204527,
          1.9009410243992086,
          2.402865881720197,
          0.9746992277540997,
          0.1339644203552742,
          0.9920461096474794,
          0.23050828490820538,
          1.0448295274257153,
          2.8235703875755385,
          2.116192751462,
          1.9246329540125275,
          0.5649909240213865,
          0.9228986110589631,
          0.423334989682011,
          1.2843276637372574,
          1.96211652230494,
          0.9322435695458827,
          1.9535361681144605,
          1.1784263899517609,
          0.9483430186202584,
          1.1998351495044437,
          1.9872395408812404,
          0.9504119555894112,
          1.0030960325589067,
          1.0088682349464222,
          2.759291345019736,
          1.918721050933932,
          2.3087934333786806,
          2.08190211846693,
          1.0345223229796783,
          2.444084838817476,
          1.58403680769057,
          1.827710698889586,
          2.8526164303641,
          1.9397305123216664,
          0.9499366559969672,
          2.208575605335093,
          1.942075116604148,
          1.91568470553853,
          0.1432534342077002,
          1.6109153533660165,
          0.6860071013708344,
          0.9579990669097449,
          1.0068518470981824,
          1.9775663520451772,
          1.9587311434814474,
          2.2510155835195786,
          0.028711032874301153,
          0.9922925327021298,
          1.0711372984467187,
          1.0542289817179267,
          1.1366955689548521,
          1.8845967458541317,
          2.3211202939627285,
          0.9790237688001631,
          0.8482602052757756,
          2.4549241439371725,
          1.0750597010004812,
          2.937061681907213,
          1.5663775723110522,
          0.931050252029409,
          2.9207185461871576,
          1.329328766739902,
          2.746197809013016,
          0.9831047960250971,
          1.1000177765583572,
          1.9161279731776824,
          3.0802127449407233,
          1.1028331871959351,
          1.0708289688590675,
          2.8778085186541653,
          0.7794880514845657,
          0.7105339778266735,
          1.9293572144431006,
          1.6502912683029127,
          0.42322389412084366,
          0.9863289952817511,
          0.19937738566639654,
          0.17360789818115546,
          2.0565029343554566,
          2.8332002106213254,
          1.5533946278408945,
          0.8576232303837501,
          1.0147763681375954,
          1.0810678605634472,
          1.7659180888305817,
          1.2429164957031589,
          1.2325906657413241,
          1.1157308079568495,
          2.2194800097058858,
          1.9907192840329175,
          2.8553027758979033,
          1.9790811282288436,
          0.9978786629975804,
          2.000427736715948,
          0.05979612536529275,
          0.025439001025841332,
          0.6162306081749261,
          1.9573786521409489,
          2.341634614260858,
          0.0459834194924726,
          0.4276913336760152,
          1.5431063987169247,
          1.0790629822488524,
          1.9812119973063056,
          0.982176585811032,
          0.034406704316280075,
          1.0225801489415125,
          1.411065141034862,
          0.8851101830618037,
          1.318791805631067,
          1.9172566751700075,
          1.9067451929967771,
          2.035965933046083,
          1.1062077431740283,
          1.981066990307124,
          1.8965198425873142,
          1.9514255074096685,
          0.38742018711545545,
          1.2943215720716015,
          1.0301980832356878,
          0.015213377512411254,
          0.9741571893397254,
          0.8663845881888963,
          1.546569558083733,
          1.028554222208764,
          3.692391346587555,
          0.998001631540473,
          1.9432471793398718,
          1.1589794575101966,
          1.3462667038373053,
          1.8188212492147198,
          1.8957575761083474,
          0.6618699999196529,
          1.110546402808309,
          0.8986019056512525,
          2.8440603445581543,
          1.3758125886661918,
          2.825912382493678,
          0.02599347059244353,
          0.9475642954804533,
          3.0711230290879947,
          0.02223750207139059,
          1.3332391249442945,
          1.002626505947056,
          1.9421684289204566,
          0.9522691102738656,
          0.9821777044728798,
          2.8596681998549056,
          1.6998799431312976,
          0.9350672507450546,
          2.9134603189868544,
          2.696999135846707,
          0.977277290893291,
          0.9373787357326404,
          0.47997345003605785,
          2.1211307327253754,
          1.9536828818625227,
          1.010569631062017,
          1.6974016863497592,
          1.0234000836808599,
          0.8142319016819258,
          1.9326701399457824,
          2.485757356941305,
          1.500750371787528,
          0.17407848088397854,
          1.7935749427904975,
          1.0273095229078548,
          0.9433052454732115,
          1.2224248869312935,
          2.0767817988242574,
          1.9130565011750758,
          1.0689365300664908,
          0.7997220906873517,
          0.4560837343090582,
          0.649489525199691,
          1.934008280614077,
          0.9110839394769541,
          0.7317149849126093,
          1.5878160400184274,
          0.9529888793634177,
          0.9290601913072146,
          1.0899050991388755,
          0.1385732524604948,
          1.7639518700935757,
          0.020809840374929327,
          1.0773665927308298,
          1.224157539482432,
          1.9403719835851936,
          1.1434612118377516,
          2.415377357862059,
          1.7861803872713453,
          2.8962340900861943,
          1.9372510068441429,
          1.1504257429310454,
          1.261213030847482,
          1.233460113140657,
          1.0686731766879078,
          3.443005699716257,
          1.5958237002473543,
          0.08836976395250475,
          2.199511184161623,
          1.9192932211774218,
          1.0398157852125849,
          1.2232892847019483,
          0.99697435756774,
          0.9679249187623743,
          0.1034436123267792,
          1.1406317749498702,
          3.3380090209515645,
          1.9836199231891125,
          0.026597364697718524,
          1.1912802142985792,
          1.0630832690749061,
          0.9669085284662537,
          0.9898350243121022,
          0.9700028346294869,
          2.8492469026094667,
          0.08716229603919216,
          2.066381306073086,
          1.2891623655594617,
          1.0477838990603794,
          3.0164800508732452,
          2.918056088323304,
          0.00419019718567184,
          1.0204029996706783,
          0.9433666187863916,
          1.466944036802366,
          2.461079982556558,
          0.9965494336092361,
          1.9833351684807428,
          0.8974425862446432,
          1.2520460305924839,
          0.17192441551493767,
          1.9293738782786714,
          0.9020383423087376,
          0.9907710844174303,
          1.0015434720665501,
          1.7486278455766882,
          2.7429424900333177,
          1.9264413775442988,
          2.8044165452221144,
          2.939248436502352,
          2.6977397194224726,
          0.9604798271849433,
          1.996267140926548,
          1.5639520538934109,
          0.020254329571551998,
          1.9596170963586812,
          1.9229299478455963,
          1.9755571877488722,
          1.033568133506649,
          0.13234857291953994,
          1.9914737684827242,
          0.9446485125930382,
          0.9640180497551744,
          1.1058014089401222,
          3.5511971898840784,
          0.9917749871001509,
          0.8023585018651834,
          0.7900726387058218,
          1.5508532262996158,
          3.716536462847954,
          0.4920639994327339,
          0.16296624160528883,
          0.9741828893667943,
          3.815271453759084,
          0.027907270177131963,
          0.9390094900545747,
          1.1610902800464762,
          1.9992412508755992,
          1.9017126454811728,
          0.9817152410707823,
          0.49028083081641605,
          2.2773162611587447,
          1.4074051952014939,
          2.12507226259127,
          1.9284981032717137,
          1.4679321348180547,
          0.31560449596337203,
          1.6420382660991524,
          2.1921979398498177,
          0.6461605840614468,
          0.951722536495474,
          1.1350436523493064,
          2.367733884861278,
          2.8827934371896746,
          1.0497941636933406,
          0.8055997434144984,
          1.5921407067210538,
          0.10011905165459026,
          0.7750493790041502,
          1.816071341832017,
          0.4605316226602615,
          1.8897447103500746,
          0.02415574217577188,
          2.8492310452249288,
          0.0022783770836546885,
          0.006753678135637745,
          0.9791431529700407,
          0.2633109466543742,
          0.7407008752091828,
          0.6353034457569392,
          2.8657169076836855,
          1.0298181441447811,
          2.264887053400283,
          1.8224813304163814,
          0.2438092883692214,
          0.8206298087371799,
          1.5250740502657125,
          1.1248741512970517,
          0.9750624546114933,
          1.9604769915991247,
          1.9372262921307606,
          0.14933495978452338,
          1.1663447653537231,
          1.9829442834258566,
          0.16183815645152833,
          1.2472238364246857,
          1.9624308218760265,
          2.2497786638630286,
          1.017332522356881,
          0.6637054265161065,
          1.4112243661648902,
          1.8900627262710024,
          2.0509215200722424,
          1.3780896390172925,
          0.0746091421152692,
          0.7920605010937807,
          1.9637283960239236,
          0.19153484402076515,
          1.487503107749875,
          0.03460896005409242,
          0.9500640458779743,
          1.0137018815296501,
          0.9910517958322344,
          0.46833577073095056,
          0.3688536148648673,
          1.888859788887877,
          1.9568216624773036,
          0.29988688499222166,
          1.081553577465245,
          1.1398589730219764,
          0.516263701593559,
          0.36339223784757396,
          0.8505588492208963,
          2.6336870480810926,
          1.4312242910676387,
          1.8351253950430624,
          1.0055534928068233,
          0.026676526815464837,
          0.9669028802840434,
          1.9893082123252155,
          0.2046174364948042,
          0.9970630585068974,
          2.3427447369944447,
          0.031174868277011825,
          1.8922053927876206,
          1.5938796689589267,
          0.9838600625017512,
          1.9519314214532275,
          2.8365270067750656,
          1.1520430981850205,
          1.811204200225136,
          0.1903683835938645,
          1.944298308416969,
          0.10970235586838967,
          1.8493146671743106,
          1.0039112533448344,
          0.6543134525026277,
          2.904833521194665,
          2.9597504404465007,
          1.0582899929481855,
          0.048427192426816236,
          0.29337266499493675,
          1.983451162556711,
          0.4833680265811435,
          1.0873947139651416,
          2.7986855356561273,
          1.9648453767385894,
          0.07474402310443026,
          0.6792579819512453,
          1.1724112028777407,
          2.0003436691566807,
          0.3558276008969147,
          1.0175257483754012,
          1.0211185383738683,
          1.0794938108957526,
          0.9052240430974867,
          1.834038602086844,
          1.281681009373643,
          1.256575212031302,
          1.0550028233793705,
          1.0005573170759465,
          0.021610785717336448,
          0.564872747612283,
          1.0389501376010462,
          2.294388883373145,
          0.023959342279895362,
          0.18267536335933426,
          1.9681755742901998,
          0.8286364211779298,
          1.342028649646701,
          1.7352716074636299,
          2.7238504685923774,
          1.116462846292201,
          1.1751764826621875,
          0.9992166229726106,
          1.856760789133045,
          0.9722862050867392,
          1.9649119432054047,
          1.2001714790343405,
          1.0935864889322695,
          1.8429107686359392,
          1.0078141598249404,
          0.9781123154793026,
          1.9525087294637797,
          1.983538474015296,
          1.5422598770287812,
          1.9355075620811364,
          0.19452705410913582,
          0.0019377453230955037,
          1.9027029312089234,
          2.9000936367758814,
          2.9212407740346986,
          2.0082083579594334,
          0.9527124755685774,
          2.0425882104564232,
          1.0178093458187019,
          1.8856945956403512,
          2.6747424990288526,
          0.9721976652057339,
          1.9673303917096023,
          2.717244914477077,
          0.6291503569619927,
          1.235437604524373,
          0.9886491018288517,
          1.9413305650850519,
          2.8086335147207877,
          0.9991985704470449,
          0.02312429507404156,
          1.8702272171729364,
          1.2918997496095237,
          1.1215957715023057,
          0.6579346731587851,
          0.9837040295603714,
          1.4946606982485475,
          2.345147495314527,
          1.958237934766005,
          2.0823182122461183,
          0.9962821827769158,
          2.2614506736239006,
          1.9580181355525923,
          0.6495874094321742,
          0.6505109756403831,
          1.0903246603018535,
          0.728499964803132,
          3.089320050105928,
          1.7647475756633542,
          0.4015881147097875,
          0.7113252217099182,
          0.9425014862315814,
          0.24589350435819396,
          1.7025704231713004,
          1.906590419153758,
          0.023938907325246124,
          2.442368294238551,
          1.9280091835041182,
          1.3565344493528397,
          0.2290896185820918,
          1.0797095122936475,
          1.9638521848503905,
          0.9950616276989503,
          0.9881560725192047,
          0.022889939171951673,
          1.9929897778118835,
          0.0019043481938919643,
          0.6012710803939344,
          0.24170218512332944,
          0.8767649576947748,
          1.0144382142784072,
          0.46282327694840014,
          2.1033444758460127,
          1.0950949760870292,
          0.8414860292196854,
          1.1089956863595125,
          0.81926515072884,
          1.984769801540529,
          1.0323100687532036,
          0.8779092924647184,
          2.829050084475579,
          0.9960072197407956,
          2.0145001335393897,
          1.0116690493377207,
          1.0276164365785994,
          2.77238888520665,
          0.9888898209683707,
          2.1791222477258927,
          1.0182854969194701,
          2.0292510062373283,
          2.7599715797079094,
          0.8330708805659368,
          2.7756915631726073,
          2.163325450648463,
          1.8968016340123164,
          1.5388781124879902,
          2.121799106995471,
          1.977753383464651,
          2.587667513840588,
          0.4146046960575052,
          2.917922184429174,
          2.8582633648691638,
          0.9583698156439775,
          1.07278674624566,
          1.4607365261945693,
          1.0417806317348504,
          1.9389648555521295,
          1.4553145394714095,
          1.1017375641802523,
          1.2633412311623293,
          1.263204713935011,
          1.9038859378388377,
          0.9767274040217383,
          2.7008850687374486,
          0.9992422428782314,
          0.08312520037497607,
          1.296302270061072,
          1.022988621853243,
          0.36367550975126717,
          0.8665202131995055,
          1.1925079587231924,
          0.9001987423788034,
          1.917301938044435,
          0.09266026380597601,
          0.011496080982945906,
          2.9351373536256844,
          0.9822791410989741,
          1.8682249170164464,
          1.0757997819987888,
          0.8496507501158838,
          1.0533240944181745,
          1.164930402300493,
          0.34283529530863993,
          0.9448618787047861,
          2.9159581056860384,
          2.915484715820019,
          0.9831082970385979,
          1.8746787602716575,
          0.9559198748489276,
          1.0212110706766284,
          1.214570579711984,
          1.9813331635361922,
          1.9621421749567425,
          0.9606915466672322,
          1.875031856840815,
          2.418405030518105,
          2.9302081528452293,
          1.3130906045839807,
          2.0022157446767657,
          1.8853608896085123,
          0.48058462533692997,
          0.4030569004138514,
          3.3161741372428364,
          1.9200216589200476,
          1.9326248948517577,
          1.0479438281072102,
          1.9529604954573878,
          1.9535684866823875,
          1.2052532597742047,
          3.6825572290622146,
          1.9099540416632221,
          1.2819905080626663,
          1.974055736542065,
          2.9221219901114766,
          1.9466836021910445,
          0.9634953219025353,
          2.9004962640463514,
          0.9486758236631468,
          0.04007152797640746,
          0.5838080601508308,
          0.9703228532034561,
          1.4812455631806478,
          1.0526816712918954,
          1.1482127004224216,
          2.0529514349002014,
          1.9801796745837863,
          0.010700833263770556,
          1.0503564084278716,
          0.9893715546514681,
          0.9661845835879029,
          1.9659201451956463,
          2.7414216784212146,
          1.023715915476756,
          2.850424907480551,
          0.9711768191624199,
          1.2337685421813274,
          0.008863315256063663,
          0.017829206771986666,
          2.882756157668907,
          1.9547789596586531,
          0.023510507769414858,
          2.527524587963769,
          1.8476175715187464,
          2.680105546939999,
          1.1213689578908257,
          0.010952672795819634,
          0.9438968576871941,
          2.8846775935034277,
          0.8551460445970291,
          2.372994986650439,
          0.2228521971805442,
          1.9256217517896526,
          0.3822163216620191,
          1.2124186498956746,
          2.1985977761220683,
          2.353773071489238,
          0.16408028841002545,
          0.09265947320547414,
          2.0344561493336895,
          0.44129680662813925,
          2.8962145511726214,
          0.8511684793177132,
          1.9599105666190004,
          1.2856801948531715,
          1.120090559012816,
          0.06284073994036798,
          2.0662987414932457,
          1.0639581865993897,
          1.089692132194169,
          1.6120133140314288,
          0.9216697353843941,
          0.4624797712436777,
          1.9656416232021805,
          0.03487355756654192,
          0.9677036687030589,
          1.3148585704220053,
          1.9822389705157066,
          1.4580081617875615,
          2.0322372499299353,
          0.013034801473864158,
          1.0304553625199155,
          1.5091169770465591,
          0.018737865375389254,
          0.3996664984387447,
          0.03168044689609478,
          1.9653562551769315,
          2.066611616522807,
          0.6414857371279132,
          1.3519558040267408,
          0.041639230842389345,
          0.5142122674770947,
          1.0377875929610227,
          1.8839537402361246,
          1.7652140595283654,
          0.22832187024672349,
          1.834103090327037,
          1.0606915157821584,
          1.0003488313588764,
          1.0247758520354662,
          1.9793443450406738,
          1.4056232566118183,
          1.9604893902239322,
          1.117784869617216,
          0.3610925837794775,
          0.9888970230473065,
          0.9982955444120948,
          0.025477261358878282,
          1.130355819458358,
          1.1955820569467948,
          1.1460667893007135,
          0.9681504181630646,
          1.4344101271702927,
          2.331518492403924,
          0.49028332810506947,
          1.9699872412975363,
          0.1331765368668272,
          2.953547333864454,
          2.7922834822658333,
          2.696563547730282,
          0.9210319949329996,
          0.02314275650698063,
          0.9389587539019251,
          3.0924318353041516,
          1.0527898826388644,
          2.0313759753273564,
          2.0152602360800036,
          1.592800183703623,
          2.727187819132887,
          0.4017467586630198,
          1.0002057990123372,
          1.04932136929712,
          1.9619422819706152,
          1.5527376656482277,
          1.0690931330377775,
          0.9337471744535928,
          2.131891900143082,
          2.7950494678576354,
          0.12621721469139421,
          1.91921436365407,
          1.6575257052140735,
          1.206168883550749,
          1.5689862987737753,
          2.4628176764315857,
          1.3709693438908133,
          1.7174904650018759,
          1.9782721498558424,
          2.3728471124595445,
          0.8205215351961144,
          1.0568816252210746,
          1.2883140715747947,
          1.5588650990598758,
          1.2633689947028475,
          1.0836178688493134,
          2.492250825175071,
          2.1040780273934776,
          2.4512702386135743,
          0.7880348108989917,
          0.9820564373760413,
          1.929440836172671,
          2.0465031722684164,
          1.9135189840301736,
          1.6665968003569498,
          0.12023472687669096,
          1.9425030003064223,
          0.06837354644710837,
          2.905733127718493,
          1.7913563216242805,
          0.7754227309837306,
          2.736675267963242,
          0.4924865720199311,
          1.7696882347535448,
          0.052640726443775814,
          0.9262397683908716,
          1.0369690568008882,
          1.9521781675306868,
          0.17109621897370988,
          0.011392707964740446,
          1.640937734439674,
          0.04479630607782663,
          1.0899537593000996,
          1.8612091701519384,
          0.203584064808969,
          0.014420409537595796,
          1.2620187399398275,
          3.031298219678382,
          0.21147051445402368,
          2.0066873804102006,
          0.4024481038250674,
          1.294153545576444,
          0.9858834511077103,
          1.836744515161927,
          1.9104947665446266,
          1.5676774656546308,
          2.0863302744530956,
          1.0170130965467328,
          1.1773794532400015,
          0.021956747477929577,
          2.8554278018694164,
          0.6308980104607328,
          1.9905761055834859,
          1.019342596691108,
          1.044658729327014,
          0.9718134287703939,
          2.24457770653393,
          1.030364670190119,
          0.049050051928824154,
          0.9944753617355649,
          2.9366645252566164,
          2.0008103711355134,
          1.3002235656570236,
          0.01583430611259965,
          0.9768735808482238,
          2.0507713775016283,
          2.2699691189212565,
          1.969154333815459,
          1.1000140721710432,
          1.252045761838172,
          1.945221359345199,
          1.6428682572866165,
          0.018155966780213972,
          1.8784239308923352,
          0.9605479565262574,
          1.4676406789880185,
          0.7928550933880918,
          1.8346640708882327,
          2.0430204254662123,
          1.9553259558106824,
          2.8912866308509946,
          1.4169773117875624,
          0.5825038260837785,
          2.509008601707345,
          0.9351672018347572,
          1.6921161540844025,
          0.9547829986986388,
          0.7219067386727006,
          0.1176693661499791,
          1.9627627683208362,
          1.9964662387336696,
          0.35639403892446414,
          1.9585881235742608,
          0.11092341529964005,
          1.3647112575342177,
          2.843685795923127,
          2.559104535483498,
          0.5508733893649235,
          1.9084109074108364,
          1.841263954336126,
          0.09704775542611957,
          1.1006650659232073,
          1.005236953699119,
          0.03993573234568007,
          2.83172379911277,
          1.9758911553945206,
          2.8625036933960204,
          2.605129426398438,
          0.9944146456129658,
          1.118084723074721,
          0.5765844313916965,
          1.105553767985814,
          1.2045908400636303,
          0.9604719825139837,
          0.997196709268482,
          0.9300099494516195,
          0.6773994105261814,
          0.2725864763617751,
          2.6972042798260745,
          1.2437927360605996,
          1.1737706207642793,
          1.1170421894137266,
          2.1906819373413526,
          2.8408406772627655,
          1.2668475742833754,
          0.992590019806217,
          2.9704233611126787,
          1.033065066238951,
          1.291443554314963,
          0.05648373224109148,
          1.1274950716893812,
          3.5331202066422955,
          0.9129120914271553,
          1.9568885399661309,
          0.7556825959881565,
          1.5888606423770792,
          1.8518325212084945,
          1.0354197080185752,
          2.8126582877689015,
          1.720938614746717,
          2.8742869107062283,
          1.9085644229382834,
          2.5005062054641285,
          2.9253955172607395,
          2.6058694844069086,
          0.9781399001755509,
          0.9843621988469721,
          1.5112036259626764,
          1.08908174603822,
          1.0136812703188651,
          1.365837114887261,
          0.971408350325808,
          2.68458329729731,
          1.6233618575409239,
          1.6348411606055124,
          1.0549901049784218,
          0.4578406714881197,
          0.16809393471289746,
          1.928654719947593,
          0.9971679582461521,
          1.0559374605744765,
          0.22359947717686812,
          0.9797030356491399,
          0.6710991029411899,
          1.7631941415029018,
          2.6787184480945756,
          2.130653030945491,
          1.2819959360943805,
          0.2811228248559035,
          0.9483119235944129,
          1.088497770622552,
          1.0214431264366857,
          1.7537994733398148,
          2.5000718730146856,
          1.1843806846950233,
          2.172292654649103,
          3.8503085676063344,
          1.930392340612315,
          0.19853215467740484,
          0.9867874680474975,
          1.4195246131429278,
          2.5696136678761268,
          0.6781036969238876,
          0.4770554553078928,
          1.9388903516662845,
          2.99116661864937,
          1.9857186271973466,
          0.9863055518872794,
          1.200635624988437,
          0.9883835086303862,
          1.41848754883118,
          2.8720859961127356,
          2.2502917170249184,
          0.03075288188566267,
          2.8927340601621765,
          1.0275222365966594,
          1.9622390473063371,
          0.07090502308721075,
          0.8414788992074375,
          0.9977134898433971,
          1.6406082522526588,
          0.03927798901037852,
          2.900978642700494,
          1.1190620462456864,
          1.0889445423070463,
          0.140657606340835,
          1.0976660179627529,
          1.5783503425801828,
          1.9870947611615521,
          0.7885153126179286,
          0.478245472721728,
          0.12556600013787977,
          2.456095889786503,
          0.1394203005351253,
          0.25634425277787154,
          1.825644778318546,
          0.4078999974553695,
          1.0940159558407974,
          1.775975295404213,
          1.467840933573075,
          1.9628766159453555,
          0.9946657868483308,
          1.026043224986887,
          1.3838971109228408,
          3.5654832445576545,
          0.9893536447263418,
          0.9489716228809777,
          1.030178426358953,
          0.44374353446152565,
          2.856326505832849,
          0.9347947382854034,
          2.6749435994691844,
          0.9426083771175471,
          0.03408599144264807,
          0.3839502687139046,
          2.890791750134209,
          1.9848929835967435,
          2.1023867194002848,
          2.9481771019208454,
          0.9395718112733148,
          0.547091611289762,
          0.13994865146082874,
          1.9281737495976499,
          0.7602297791579197,
          0.9955576175768887,
          2.0733399869277185,
          0.005565195021013965,
          2.4378244028140883,
          0.975877012893236,
          2.685601267084619,
          2.5089424814057275,
          1.6228831105111534,
          2.854004737988199,
          3.532041385240417,
          2.029812151407417,
          1.3887632180454021,
          2.86164980185609,
          1.0470768150810097,
          1.0273429192217902,
          1.9816983236044998,
          1.5259369176776476,
          1.979161918589592,
          0.2026414529540537,
          1.627743969644095,
          1.142016250625844,
          1.2871344578447212,
          0.15316222517640643,
          2.8801751487399407,
          1.0215426135664143,
          1.9754672800544826,
          0.04150375471253827,
          0.4665364862219892,
          0.035707167985560895,
          0.049338611852714105,
          1.3555954019346528,
          1.9927823784976577,
          1.829011759460801,
          0.44654747603813766,
          3.6824390899403197,
          1.0744741222704115,
          0.9566338677541919,
          1.002963341686892,
          1.0543798951051726,
          0.05022629203602952,
          1.0001555889311058,
          0.3468925070043398,
          1.0058741094551242,
          1.6499319630741742,
          0.9973021035993759,
          1.9476801238328874,
          1.9218032553902147,
          1.658521446055262,
          1.862592492156315,
          0.9981488054319706,
          1.9627829178154972,
          2.776247309576327,
          1.0611938931176614,
          1.1346738917389099,
          0.9740718516191538,
          1.000728874177416,
          1.59638238603071,
          2.3668978409031682,
          1.0908549079957988,
          0.8903383455395529,
          1.1231772173164947,
          1.864921671931668,
          2.4372563012348114,
          1.9409749294752514,
          1.507596054513594,
          1.8487051300675499,
          0.9681358079211535,
          1.4162584058282448,
          0.8009919084841898,
          1.929616500346797,
          0.9385292005879626,
          1.265653364434645,
          1.018377578945146,
          1.0056937836972848,
          1.9142959723552033,
          2.90629921584283,
          0.042414356356913104,
          1.3871260555933578,
          1.0725614880793999,
          0.09407441582635251,
          2.112090168627528,
          2.905368553443286,
          0.9648052182356933,
          0.9746219423857309,
          1.011958461360352,
          0.9988863819537841,
          1.085644384908147,
          1.8862119560255568,
          1.983253548273939,
          1.1476150107584688,
          0.0034945012170423412,
          2.848175331952866,
          1.0070059305096757,
          0.00343249643898588,
          1.986558408067432,
          1.0404642265350297,
          1.8121072464513095,
          3.7389442009213756,
          1.949200294154087,
          1.689368853738654,
          1.9919892650246371,
          1.098234579062363,
          1.0047067637469067,
          1.5886047360888818,
          1.3172254126354308,
          0.9676947879794291,
          0.9155154970226091,
          1.1428343153236544,
          1.4011403471664508,
          0.17219155675399483,
          1.9168361129165774,
          2.8908993862334897,
          1.908716732770122,
          1.9938362919142356,
          1.853811698898132,
          1.0075396038697921,
          1.9464447864752206,
          3.76086528409148,
          1.8253410655139923,
          1.010588709851166,
          1.755931934247969,
          1.9052307484766975,
          1.9564834435364682,
          0.9447462697062029,
          0.9518254771584739,
          2.6760546506971705,
          0.9348815134799526,
          1.9851321411783651,
          1.0517548032928268,
          0.0520788925346389,
          1.692330464837495,
          1.9115523295602121,
          0.01390227557513471,
          1.8982059344276048,
          1.6217352449020503,
          1.9521694647638923,
          0.12473409420458924,
          0.9667101619504456,
          1.6136068395457737,
          0.10397731386467007,
          1.057314246233989,
          0.07316002847139527,
          0.5204664720507816,
          2.861582340530147,
          1.9771562713757371,
          2.6833983288141248,
          1.8948667642453696,
          1.9260488701935552,
          1.0038677411326968,
          2.0576803769075482,
          0.045359431937151126,
          0.9944627231873236,
          1.8820516515583945,
          1.22356097318192,
          0.37550772860262954,
          1.9169493567109988,
          1.6529725300429354,
          0.9524156910802843,
          1.192907154697528,
          1.6566333887727334,
          1.9438756984223737,
          1.7474322435886176,
          1.9818053237938855,
          1.0463753492073005,
          0.964742366306425,
          2.9583500897477806,
          0.043862197208966086,
          2.15529996159505,
          0.9579520023938306,
          1.5372589685238756,
          1.5970368436403923,
          1.3467327383344903,
          1.9488076270848151,
          1.3033289471441107,
          1.0760644542517892,
          1.8758841614806996,
          2.0651725324363825,
          1.7398766222984077,
          1.1271944873158668,
          1.0701339763181463,
          2.0258003387896513,
          1.1688125812386263,
          2.891407975994296,
          1.4882820022607213,
          2.7574379727453295,
          0.027082473692897478,
          2.560285597368224,
          0.8750255977513839,
          1.5735388030800257,
          1.4028910603958513,
          0.08491077716781106,
          1.641992648211481,
          0.025163775952064604,
          1.9421329925181405,
          0.09367483395980354,
          0.029406821762837983,
          0.00753404003272758,
          0.008854464446811018,
          0.6002479621143826,
          0.16978516696587337,
          1.0314821777383296,
          0.04846751366416508,
          1.8210688671202984,
          0.7486062236894147,
          1.9603054891734226,
          2.1666192988711814,
          0.08750002636366619,
          0.2628574004364435,
          2.9289781658544825,
          2.8638677486431465,
          2.0045557625941086,
          0.3514343496526312,
          1.8986737303714385,
          0.2783556094238764,
          1.0342722703359961,
          1.084851641836432,
          1.1875872547818327,
          0.34264213402183014,
          0.9208649148839193,
          1.625742374769886,
          2.171395101034771,
          0.9889287141660362,
          0.8060687460073642,
          0.15777372906687584,
          2.0708490439716667,
          3.224259938148255,
          1.444480980940471,
          1.9391068949548695,
          0.8561556093724608,
          1.6364982305443079,
          0.16755266715426181,
          0.10088387473906112,
          1.0488640444801507,
          1.0006262943268447,
          0.9750405797075498,
          2.9163192101847386,
          1.9477606577112938,
          2.1789415544661743,
          0.025729937960507546,
          1.07196002313129,
          1.9297984189803947,
          0.942404558346803,
          1.3862019677144877,
          2.2598642010808034,
          0.008285997689647176,
          0.9432830205052309,
          0.9267918378469825,
          1.3852812911981756,
          1.8650155576077707,
          1.5662684217421154,
          1.2292520852952733,
          0.927987575756777,
          1.9669437701469725,
          0.28087668845245106,
          0.2770526762184004,
          2.0837740919602488,
          1.033788940751085,
          0.030648075573725442,
          0.995913573893312,
          1.5902809985571802,
          1.3903016445238594,
          2.28686251437732,
          1.0260950041759225,
          2.3717034367818073,
          2.840535720571762,
          0.8463733847906403,
          1.144369526596906,
          1.005065526045999,
          0.03270704541290091,
          0.9935021916373113,
          0.7527775906270161,
          1.0870259042714214,
          1.2542633338886604,
          1.0786779374800595,
          0.7582894350610141,
          1.296905224506737,
          0.9463976749689353,
          2.8747142938546255,
          1.002086536341236,
          2.67495066661339,
          1.9775548188345058,
          1.8488133917723963,
          0.23580448978988441,
          0.2502005848191361,
          0.3012376656251472,
          0.9147237913740417,
          1.9757376782037348,
          1.9799732815627573,
          1.0063642102167314,
          0.011082062416591522,
          0.017906025227372932,
          0.0057852093460558475,
          2.152230141494291,
          1.637711937585382,
          1.0009532727376573,
          1.7932969187385406,
          1.834527463134584,
          3.4347430349992254,
          1.072763865448649,
          0.9881513448113466,
          2.875666508896675,
          0.09561895303304391,
          0.0013243137783357072,
          1.0828747245133152,
          0.9549538659247455,
          1.3906213951391313,
          1.0214145009290547,
          0.2200956591722941,
          1.9106606477432975,
          2.672302900978893,
          1.0117180933300502,
          2.01533048035812,
          1.965330635977735,
          1.6236335989136255,
          1.9797219323397508,
          1.0187851614958678,
          1.6223909572866844,
          0.938536509246778,
          0.013476304868488598,
          1.9607239236963572,
          1.8574777392908115,
          0.9085264726332658,
          1.9259158250341673,
          1.0593855651974449,
          0.9771563493499978,
          1.1346583292039354,
          0.9891393863685204,
          2.2904477245648933,
          2.268037762085872,
          1.9337152643192415,
          1.9694824865401315,
          1.338777982441289,
          1.7045207862472929,
          1.189600881780146,
          1.8291507895157002,
          2.3937603039570146,
          2.4637298289308722,
          0.010899064104988258,
          0.984414376456011,
          2.00179695330304,
          0.9290479193167431,
          1.0854708206978363,
          1.0568463004822477,
          1.95255598994081,
          2.931069789561853,
          1.503714965106294,
          1.9571977670291751,
          2.963676632474448,
          0.24141715099493166,
          2.026649608328239,
          0.9549823222107373,
          1.9999306023229022,
          1.0180007169223422,
          1.6257326464098294,
          1.9759553185086904,
          2.918475767182371,
          0.05593037728840768,
          1.7099013875784812,
          1.063655870584053,
          1.6667549136319668,
          1.9942162050562786,
          0.985656450790914,
          1.301429954104522,
          3.2457524298220717,
          1.9236493064952846,
          1.636100501038967,
          0.9834867159333576,
          1.0384064624498865,
          1.9194303361453582,
          2.7911228694815806,
          0.023432969540289714,
          0.03138430572787202,
          0.9577614031609577,
          1.8000748686269863,
          1.9448179876366727,
          2.841902385056518,
          0.037294297637681856,
          0.121668137462417,
          0.96597473109143,
          1.923865061468236,
          0.025701264159914423,
          0.9441182976812245,
          2.2118214017546194,
          1.0892615492385767,
          1.7237304949403691,
          3.0788352216833834,
          1.8867673406804186,
          2.721612880084369,
          0.22006603659869794,
          2.0253549392014842,
          1.9442047563612446,
          2.0791124526876525,
          1.0039577794084678,
          1.6781077372765463,
          1.6960371162031644,
          2.0365989664012067,
          1.928340699716928,
          1.7074940010443536,
          1.0467398028410064,
          1.9758088716801998,
          0.9905170629602377,
          1.4624504911312153,
          0.9077459042620848,
          2.8351689749608884,
          1.1148931601283092,
          1.814753988314643,
          1.919005846837567,
          1.194150740482008,
          0.9676672655950747,
          1.9246501248403929,
          0.4373807680848734,
          1.0113938343183257,
          3.8444355662042957,
          0.04683465303756565,
          1.6289842461671982,
          0.9768249032973888,
          2.2728693374380335,
          0.49839400620688823,
          0.4101036247362981,
          1.1229454790376026,
          1.1088662523832373,
          2.413502710057453,
          1.7747437432904263,
          0.9698392642238074,
          2.8577714297947967,
          1.8085543868491214,
          1.493545478218862,
          0.9992758772604114,
          0.020377303941345747,
          0.9472288746563042,
          1.569751075304958,
          1.0156352787805956,
          2.229376865479943,
          2.254454050025055,
          2.3381221360016533,
          0.04702066670107746,
          1.0145588669917298,
          0.9397717008548568,
          0.8004969030929218,
          1.0313543413829531,
          1.1165198868402875,
          1.932419781836135,
          1.9381151664712122,
          1.9929688119716105,
          2.723894107545721,
          0.06111193570372796,
          0.023516405904528068,
          1.0746822426402787,
          0.09416053687638282,
          1.9039252126776147,
          1.8257813973301398,
          0.00876083262705874,
          0.9943326178202792,
          1.8922712637491004,
          1.8792618720664418,
          2.6487907573404867,
          0.006653388621848482,
          1.9836360461838933,
          0.7643588823554474,
          1.3424582008281347,
          2.19123748157281,
          2.9933183762904627,
          0.019963776053820912,
          3.355834157554019,
          3.2436190481873175,
          1.0155116288400903,
          0.06587703382560958,
          2.9243922512224825,
          0.9667837767888939,
          1.125350227446832,
          2.6573032808006287,
          1.8134713379683152,
          0.9807518949938635,
          1.0712796693077578,
          1.2061977004797353,
          2.706305402993718,
          2.866004431238558,
          0.34454892521236735,
          1.8881808491707475,
          0.9523952758712371,
          1.0372932681193625,
          1.1468929135120804,
          0.23248030684261745,
          2.2546506974233003,
          1.0445786088610731,
          1.8859767890403474,
          0.04527745382350662,
          0.5344026696947216,
          1.3148936780710123,
          1.3771579710787478,
          0.17597258647599243,
          0.9957182327588947,
          1.9946925565001192,
          2.9598612118439633,
          0.019065975098085226,
          0.03168270184899313,
          2.0039641568854334,
          0.912222247971831,
          2.5785405831406525,
          0.906026408638836,
          1.9456449011583985,
          1.9324309099954289,
          0.778557041882489,
          1.007963980814035,
          1.9249703512014795,
          1.4812334896185777,
          2.0820668413913013,
          1.9009950012701329,
          1.8779077230264656,
          2.591305797891182,
          1.393666229441178,
          0.03359584660855511,
          0.093064878896354,
          2.0228223225535635,
          1.0053074575284133,
          1.5166774729890073,
          1.3687955144478416,
          0.9477490680223561,
          0.261423258331622,
          1.0162955025535816,
          1.9436556970426624,
          3.5817538079881377,
          0.9115911610402079,
          0.009207021292700523,
          2.915688369642967,
          0.9467182671044173,
          1.8838243305382631,
          1.6853173454238792,
          2.175199795879138,
          0.9503083580895749,
          0.9419812539954701,
          1.2407496710384538,
          0.9673799255589771,
          0.14279487719116843,
          1.0254661964138236,
          1.2826713302253552,
          0.9732890256443555,
          2.178886611235011,
          1.066404610043565,
          1.0670518938790752,
          1.0349321316283648,
          1.3009668944178638,
          1.9001095906282723,
          1.0457921821306035,
          0.3281256173849448,
          1.8881829106522587,
          1.9773667581156522,
          1.0497797160462614,
          1.060288777881479,
          1.8849453423918454,
          1.5525290774242217,
          0.9904953420930515,
          1.8960094758793953,
          0.9052880013852873,
          0.9621475660831136,
          0.02147835566437354,
          1.4330541689069447,
          2.8765825076838096,
          0.13432158525755256,
          2.415168848245389,
          0.11778462958430787,
          1.1088835985725298,
          1.834701205750934,
          1.8591150566986077,
          2.9803017923398905,
          1.6888035689375496,
          2.862902996466948,
          2.4678255373583076,
          0.9152707975540862,
          1.6700116285962032,
          0.0853117230770322,
          1.2001376666642256,
          1.3066721794556688,
          2.0514364288622744,
          1.1689927433728655,
          0.9446212400019671,
          0.9851517985026446,
          2.9316298320498384,
          1.8228411616075832,
          1.083352725331097,
          1.096378019135671,
          2.9203139723905767,
          1.634585938174803,
          1.4169471769005786,
          1.9094320882118725,
          0.9980941539608255,
          2.260758126310243,
          1.287088846563179,
          0.11868375891460768,
          1.9403677500128853,
          1.1860856173437584,
          2.0051376382905755,
          2.8251810549026066,
          1.561018025132005,
          0.9425929042486456,
          0.9992328827066344,
          0.03782741266960953,
          1.954653297109699,
          2.424976581858991,
          1.5392060572780355,
          1.0212693549759666,
          1.9349714604229042,
          0.13903962598957678,
          1.942655308414533,
          0.9862471337072359,
          0.9936777864247779,
          0.9326336726184594,
          2.9068645197496656,
          1.8995480655547563,
          1.927652693603881,
          1.8739349648165524,
          1.003403088210846,
          2.068323546259659,
          0.13509707911194155,
          0.9317385410455108,
          2.888958006773083,
          0.9488514186446287,
          1.692333989912646,
          0.9520657538087753,
          1.8251441431636715,
          0.8831579325327154,
          0.9754301318589541,
          2.888234886894447,
          0.031838834098789244,
          0.5563385644936157,
          0.1941332845064051,
          1.3377783198509299,
          0.9372104534357155,
          0.9640873191524975,
          2.169962980373644,
          1.9636626253080998,
          1.2337073252620447,
          0.9350612016152301,
          0.46710796033587354,
          0.596347443678935,
          1.4511959542887591,
          3.9081941307149264,
          2.1166521785538657,
          3.8935118699538105,
          1.1597305716366468,
          2.86494495883897,
          1.8202615003869416,
          1.9168009590894164,
          1.4340630737156288,
          1.8588181826906403,
          1.0367842339509181,
          1.1625892502787327,
          0.013780845166744379,
          1.7499013513963133,
          1.3241050699112744,
          2.002898398608339,
          1.5587558927318481,
          1.019523685723747,
          3.015490101930478,
          1.0599677356398651,
          2.1648818656849547,
          1.879900152081229,
          0.8704455607723312,
          1.9084997489143174,
          2.1125950082463083,
          0.0005985703268775707,
          2.372074632204869,
          2.2831590691255537,
          2.722250345137722,
          0.009375163862166868,
          0.015626589806161273,
          1.1461580377883769,
          1.8530232017022679,
          0.9703036358025524,
          0.9958794214091131,
          1.0235422860086885,
          1.080718452548795,
          0.8794874291270844,
          0.2632120964234809,
          0.02836987229955181,
          0.014016563457243694,
          1.117558953661479,
          3.02840837966692,
          1.2827561851745264,
          0.9430889474723649,
          1.6447291140042022,
          2.949331983543886,
          1.0901300141725847,
          1.386561730819458,
          0.9785334026962588,
          1.30020005053941,
          0.03117033978233109,
          1.0231239230222011,
          0.04673542957517228,
          1.935471749078216,
          1.6250215841562703,
          1.93734614120973,
          1.746274555523099,
          2.2608984494842437,
          1.5582795680113457,
          2.1156597466382916,
          2.6323609567586246,
          2.041769479918428,
          1.811070832409854,
          2.9997324830575804,
          1.1001388575136979,
          0.1309699249392261,
          0.9428569433309802,
          1.8169411178091177,
          0.9694082171760561,
          0.08641601729479396,
          1.0382507819825373,
          1.8822613027301731,
          1.9520846369370075,
          1.0042104099216405,
          0.047380106849026424,
          1.8480300500380908,
          0.9389202437841742,
          0.9694549601531658,
          0.3675153669542597,
          0.7871264110260583,
          3.0849521942679257,
          1.7414065718023917,
          0.39400137727867857,
          1.8795308475159582,
          1.945842562772673,
          0.8421165558990199,
          1.0461513316661266,
          2.088134540987352,
          1.4688078916016027,
          1.1470169275318185,
          0.0042709202841601825,
          2.3478545667590494,
          1.0015675199654719,
          1.0341025638063288,
          1.0797007172980717,
          1.0103292414086118,
          1.8676520255691103,
          1.9225935563391963,
          0.9982870657510412,
          0.13682873332837814,
          0.9841267721256156,
          1.0182775145736673,
          1.018059285467153,
          0.09002181669659796,
          1.0198899406581776,
          0.29669511063174736,
          2.0666444963604738,
          2.8426931013901395,
          0.9729080739863137,
          0.0674379930908681,
          0.7910869528511887,
          0.5989094400280065,
          0.08662275128936889,
          1.094085207709672,
          2.161485679601411,
          0.9950046926626717,
          0.5626900499227118,
          0.040829342710008036,
          2.7985123919713573,
          2.7882654225588746,
          0.1664288824666891,
          1.4578553693715037,
          0.981164178816814,
          2.6739640936769082,
          1.0821756294824108,
          0.8808124436528997,
          0.9287532348973271,
          1.0278080730404595,
          1.4235659626271386,
          2.6584914323924878,
          0.9568043489862146,
          1.5850375447502696,
          0.7158235815295145,
          0.9901313598140657,
          1.2244792387590666,
          1.9902033430019108,
          1.1296544432552205,
          1.1915831916943556,
          2.3265878792062615,
          0.8751081493354734,
          0.9795491639249546,
          0.9766826436587188,
          0.9586932102815902,
          0.91294374501957,
          0.8973008588304322,
          1.6972432249755913,
          1.9743491168646998,
          1.555380635760124,
          0.10154611605818761,
          2.844532215024673,
          1.3691578677535279,
          1.554132568252584,
          2.0490602233124156,
          0.6404827766901079,
          1.0088793926006918,
          2.645167327812458,
          0.9004926828572156,
          0.08177743360988618,
          2.6104250487186516,
          0.9796293682914399,
          0.941113543227796,
          0.9737622744572104,
          2.534447290563554,
          1.666595583515997,
          0.971240656593021,
          0.7584821828825025,
          0.9419235888555623,
          0.10807322920335531,
          2.569300171324573,
          1.00986373184499,
          1.0899340944679723,
          0.8490248415788662,
          1.9022278191843132,
          2.040476979728972,
          1.0960696777980916,
          0.9662000368282809,
          1.9630349071235678,
          0.9553644905283297,
          0.009941499980479737,
          1.2885788157183236,
          2.8211038429088204,
          1.023738437630867,
          0.011779923786559652,
          0.22526397627552125,
          1.6810036241169655,
          1.8505936282500104,
          1.9244832709993955,
          1.3780994745961284,
          1.5830505942543154,
          2.2101532552734526,
          0.97634438544931,
          0.4462389421170151,
          1.5687987275241053,
          0.004880279657341826,
          1.2728308326533786,
          0.10712316675125123,
          1.0532906918797114,
          1.9534625604356461,
          0.013591362001549765,
          0.0033645307386330117,
          1.8352386001238727,
          1.8854055453984266,
          0.32845240824826505,
          0.028004811005511488,
          1.0088466577743167,
          2.0105592256207223,
          1.2028761406386794,
          2.6793530423175347,
          1.3473600649834916,
          1.9091372547681702,
          2.1947555107740744,
          2.252861753289101,
          1.9882043862208667,
          0.8925932133541135,
          0.16057245057806516,
          1.9463337950449382,
          1.9729634800144198,
          1.0439349436855139,
          1.456753785764131,
          3.555427350238032,
          1.635417886687397,
          0.06305877585333902,
          1.8654179281523726,
          0.9396506038101227,
          3.7066020199660117,
          2.7927899231417275,
          0.9548187031525869,
          1.0085168422546256,
          0.35081977585905444,
          1.0003577125802807,
          1.9089511991237502,
          0.3054445056978846,
          1.9207527061295206,
          0.020305965732363124,
          0.019039903050161847,
          1.0680518172438511,
          0.9411256030262827,
          1.1318923424733602,
          1.3272728865083527,
          2.255001314167593,
          1.2953084964943573,
          1.352814653005832,
          1.7356306797007885,
          1.9888392890735507,
          2.937645896942632,
          0.19075727316319924,
          0.7977503697685766,
          2.8983799630318687,
          0.9692594258004549,
          2.0548563026966984,
          0.9435046878120013,
          0.26755591980654514,
          1.3924431971058098,
          0.9927303486383229,
          1.3740273728865624,
          2.306629439911236,
          0.8349327308818689,
          1.7828355588337703,
          1.9267908342266138,
          0.18133783417383478,
          0.02087580258126026,
          0.03405798076436899,
          1.9911023402181154,
          0.02048824681645988,
          1.5438925904848555,
          0.04652227946562037,
          0.9603024994114098,
          2.8631870885328996,
          1.5528850363347142,
          1.9150374485069754,
          3.4254275578588764,
          0.12634404604383764,
          0.5187250932393688,
          0.19068869433698776,
          1.9995369838043293,
          0.8757631426013984,
          0.8987738697011518,
          1.151035382980387,
          1.1081006500334345,
          0.5374328079556867,
          0.7807039095349884,
          1.0185234256869373,
          0.03588644265258222,
          1.2307495832400508,
          0.9509283785913791,
          1.9934217287103209,
          0.046820012901737304,
          2.912506733365176,
          0.9788698091607709,
          2.6019544359074485,
          1.1313827471222495,
          1.0237847168440377,
          0.9746172352481073,
          1.0085028809003114,
          0.9564377291286736,
          0.9594065027711123,
          3.7128410739698428,
          1.1159727532068526,
          2.931521016012735,
          2.4485244601870315,
          1.2215533834627827,
          1.3575570328062059,
          1.022217656934449,
          1.0277800910930233,
          0.06062332438631772,
          1.2231951977623894,
          0.3502663944987038,
          1.9192934335168534,
          1.566635937973976,
          0.9933785778436837,
          1.9737938509912427,
          1.0233407622212363,
          1.009645193915203,
          1.1587730455437908,
          1.9361385954571704,
          1.8542473572045322,
          2.8522832966324456,
          0.21811693087617165,
          0.5691046653885126,
          0.9524961991642351,
          2.589909902082658,
          0.00816353633682914,
          2.2465374558117883,
          1.063332189249775,
          2.9737667155352066,
          1.9541957921879838,
          2.4130363217478465,
          1.981973480645368,
          0.724378620366245,
          1.8127634241047739,
          0.04394977718168282,
          0.9903804099893599,
          0.39588565025494704,
          0.07711327021602069,
          2.9316818292394284,
          1.972489683707986,
          0.9873030589015618,
          0.015259350007854782,
          0.1103696692540433,
          0.5534759036539885,
          1.9739109595155293,
          3.822613655097364,
          1.973339410541169,
          0.15003253733771005,
          2.893167469002483,
          1.7319536699404308,
          2.890273184774905,
          0.9940569742512964,
          2.049245381825813,
          1.1714364341971275,
          0.9866594298290682,
          0.020295268593570618,
          0.7496297856291153,
          2.137246536237846,
          3.7729012523948384,
          2.238694184649331,
          1.1623737701592611,
          0.4627274380686439,
          0.12671454711904445,
          1.0050006051175018,
          1.0165644174680133,
          1.9675821018474202,
          2.627237484936709,
          2.3223673735928667,
          1.3572976974764133,
          1.0244194868700376,
          1.2569720509605162,
          1.0042153883353522,
          1.8218617165220539,
          2.702206350455828,
          1.806428834272159,
          1.9822943336604044,
          1.5083774465999178,
          0.45539290563657286,
          1.226315592679301,
          0.07727152339717547,
          1.9152409004429403,
          1.434029170120223,
          0.42090324039844784,
          1.1573936701050742,
          1.025988788500238,
          1.9600371743630287,
          0.14066445662130786,
          0.9403414498407131,
          1.2917839942572302,
          0.9762212012551306,
          0.7085155648819585,
          0.03323236431273134,
          0.01889293994716039,
          1.4526517662261982,
          1.028618775351012,
          1.9367138667910238,
          0.6622727492410769,
          0.0037011708661485758,
          0.07236852533119595,
          1.9777128212568276,
          1.0614126765839187,
          0.8899954837574718,
          0.007805391513766519,
          0.17273770508536576,
          0.118128369436889,
          2.088294921676249,
          1.0180398559982107,
          1.546901582732257,
          0.06987028266430036,
          2.416287670418645,
          1.0070046563168211,
          1.0461476482259293,
          0.05550476362372173,
          0.0038546391964885303,
          0.9729853164210227,
          1.9167700177477975,
          0.4612668176740054,
          1.112003838232313,
          1.9824850809869812,
          1.9314105710514307,
          1.8738734513672202,
          2.9221834288619086,
          2.8639834287016153,
          1.9901606158388514,
          2.878410341633584,
          0.9516041026299573,
          1.4065291029573206,
          2.8968100182396994,
          3.0363763672286206,
          2.9899493254994827,
          0.16641128911886366,
          0.022445129924073326,
          0.9902198646418106,
          1.353537382318645,
          2.0019048779869393,
          0.99884770185571,
          0.10856750346687044,
          0.9887830032053547,
          2.780430565099578,
          0.32508909388283286,
          0.9820056182571437,
          2.3544675776065587,
          0.9921626422276899,
          0.5826335596633918,
          0.2335834712047551,
          2.176301722322707,
          2.809025233788829,
          1.9717874007422385,
          0.809006487475136,
          2.1029257181916083,
          0.1506093499881573,
          1.6781438047129638,
          1.9405710856884106,
          1.4214742291635956,
          1.9324352527110122,
          0.4940447943680154,
          2.0560719847158007,
          1.5751876925951573,
          0.9258832620817379,
          2.150726929987917,
          2.9842306290065235,
          0.951716557633068,
          2.8108991447843943,
          1.1400308498686635,
          1.9474975509975967,
          1.5288938199188657,
          2.092009986227255,
          2.671662497190153,
          1.1759973291612709,
          1.1064160633138753,
          1.0040644370275402,
          2.1305350187865413,
          0.7113881303881918,
          0.9920995128996762,
          3.1233023895329786,
          1.0158420263794763,
          1.3448117070426269,
          2.8281733228893042,
          1.271941054591999,
          2.890454428504966,
          1.6547610481973027,
          1.6945659731725613,
          1.0310493264256326,
          0.26004407603780205,
          1.5486459908326877,
          3.8161011227935795,
          1.5390113667388852,
          1.8811475512529798,
          2.3302085834058373,
          1.231971294030361,
          1.8006287845738915,
          1.8998597590586446,
          2.677771952980753,
          1.5885047041762463,
          1.3213747995971319,
          0.9843145988959197,
          1.6644940215078645,
          0.042991079603410975,
          0.7015514561985486,
          1.1408417127079522,
          0.0013681762531723512,
          1.8433552170595149,
          0.05468956604658295,
          1.8783792898973186,
          0.020907634270802063,
          1.452809325097681,
          1.3643184171709661,
          2.513157038895039,
          0.0546026644924956,
          1.753296711999916,
          1.8266699943474112,
          1.75201935239549,
          1.890393370233883,
          1.3848448395323816,
          2.4982709046541545,
          0.4879674313861475,
          1.9278950362530864,
          1.2129747419613344,
          1.0149347895215153,
          1.0782038238343363,
          0.7893768963773612,
          1.6914268147478222,
          1.947691141859171,
          2.8532570126059067,
          2.0450270667790793,
          1.0423892027040396,
          1.1291683643349515,
          1.7594651976490223,
          0.03223321162355454,
          1.8063400388685726,
          1.1773346831837206,
          0.7491367431192028,
          0.9542501608529096,
          1.8538190862247035,
          1.045317118316137,
          0.492138690478123,
          0.06137338866916277,
          2.3053005680322665,
          1.8126812884623071,
          1.3844356118751173,
          1.988436972640881,
          1.2113392663332154,
          0.3217748374699609,
          1.5317462676247917,
          0.5779345552141323,
          0.9826824265177688,
          2.790293502085977,
          2.188215907156847,
          0.015166416606516709,
          1.2439886763573889,
          1.3604893997783318,
          0.3257897337052967,
          0.0013275840850502346,
          2.008725465008842,
          2.919654045940473,
          1.9218480349030809,
          0.9938753305781709,
          0.02438446703791575,
          0.024487664935640228,
          1.0580644089702775,
          1.7235834444936189,
          0.9573832265822398,
          1.0209127919453893,
          1.8676146866095964,
          1.887559539915153,
          0.01679907812595716,
          0.04140056967379376,
          1.2180822395513342,
          0.03564544055248678,
          2.558971688123596,
          1.0420943667834428,
          1.8927817546772385,
          1.7877733808065097,
          1.007082741171291,
          1.0174677865810833,
          0.1873538321912934,
          0.98725436531691,
          1.7968727868334249,
          1.9854264992732584,
          1.0163589952870857,
          0.08056716683692867,
          2.0111038110262753,
          1.9658846496758589,
          2.0019498280638257,
          0.40967571832374494,
          1.0497148966403158,
          0.9696615342653908,
          1.0021645488137583,
          1.8898720249447205,
          1.2502978156426636,
          1.9652304663771267,
          1.9260133664001182,
          2.9822061877408252,
          1.0034425789997476,
          2.8290116460242714,
          3.0729110019780754,
          1.1716395607086423,
          1.7970748824873088,
          1.9627008149974894,
          2.1074347782890883,
          3.630428458324421,
          2.1692523797515815,
          1.9327748947688208,
          2.8528563621734992,
          1.3880323883595431,
          1.9268357981938748,
          2.0945525406990897,
          1.1590592279763727,
          1.0644920854194666,
          1.8635689236676303,
          2.9213084802102682,
          0.6923804566804672,
          0.007202955091063855,
          2.470054669812794,
          0.9076978503907454,
          1.0102870628143006,
          2.1912096939540024,
          0.10618797582071927,
          0.9019544085195846,
          1.9592223751413251,
          2.8949517280806343,
          2.756590484481656,
          1.4234107870597228,
          1.2366724960399942,
          1.9059580920990506,
          2.844725032385827,
          0.027615733202789677,
          0.9271041533239034,
          1.246289159626051,
          0.9738738083989458,
          2.787141169421921,
          1.121249346584679,
          1.4934571470118378,
          1.9998028776947,
          0.9974129423010786,
          1.8942291803095512,
          1.8046481853509795,
          1.9865716567888425,
          1.2166804366104929,
          2.0544036412592015,
          0.16187985453718273,
          0.40073368972595247,
          0.9516660334237991,
          1.1102004789829782,
          2.854684195392687,
          1.907626388598384,
          1.7423434034993717,
          0.9994194358036019,
          0.6534608146638415,
          0.7428756029475361,
          0.3100791759627143,
          2.897890424792509,
          0.9943225563208626,
          0.9568569692208916,
          1.0123855499038699,
          0.24347128455787131,
          0.88134976318988,
          0.0487708008821579,
          0.013173743847873592,
          1.0285736781660757,
          0.9974683014363044,
          1.0464429969436264,
          1.019411304979987,
          0.7312870165015856,
          0.3174786916064683,
          1.952822359090218,
          0.04843937202516628,
          0.38938442729680683,
          0.04894534533029336,
          1.0949937508097523,
          0.9935033774635634,
          1.0104037754895476,
          0.02432918728954575,
          2.414009267360549,
          1.0290118295911859,
          0.9577026582363314,
          1.3270097186558067,
          0.32865499365654555,
          2.0038061078653135,
          1.8099980875064436,
          2.1873445830022042,
          0.08878121813373333,
          0.9222609495789073,
          2.867756053375847,
          0.9809988963163071,
          1.009473454285217,
          0.016397185060574797,
          1.0085062276186125,
          0.08998146550748408,
          2.909805740104234,
          0.14622586513039165,
          2.8991805658864624,
          2.332558646100544,
          2.0029055661296242,
          0.8618294202697485,
          0.8968487441830574,
          0.7189301131979724,
          1.477525347774344,
          2.1280671665734294,
          0.9641235904639976,
          0.9947135747132055,
          0.01821385482272371,
          1.8851416884984065,
          1.0716429962951006,
          3.5832338635517917,
          0.039543264437149506,
          0.36359649557279256,
          1.5441475646715837,
          0.021129788258208958,
          0.03673931490190704,
          1.9979451944582638,
          1.1536308937220432,
          0.3931579149900017,
          0.9576771037498176,
          0.31339054674668154,
          1.8764084369243461,
          2.5461360977089535,
          2.8519994222075487,
          1.599273966454168,
          1.7648333336352573,
          1.9330563771638931,
          1.0596078024844213,
          1.9520211319539014,
          1.992506578468239,
          0.15410070614377172,
          0.024438464107585746,
          1.9435231169900589,
          2.9138547441626854,
          0.7855897945214732,
          2.003377035679441,
          2.295974991497269,
          0.07429321539644758,
          0.05134250621803524,
          0.1248835236007892,
          1.0567771331698386,
          1.0156323742853195,
          2.779815974677227,
          1.0822835993268272,
          1.0804897189435452,
          1.0364130714903408,
          1.120102282148829,
          1.7868129276600397,
          0.44262374142870026,
          1.9356077633914024,
          0.03977291870729093,
          0.9663514511533884,
          2.267028651386673,
          0.4336890231733303,
          0.9623724559751251,
          2.0663554401180146,
          1.9285872943597215,
          0.0067978505138126,
          2.9012873539569712,
          0.9680535779508367,
          1.9669576075658894,
          0.15348243013435758,
          1.0588343895586028,
          0.02409096155696051,
          0.9905236591523866,
          0.04991552913962537,
          1.9565278898995293,
          2.141941158616376,
          0.9606955804880681,
          0.9846392147141494,
          0.024265539602874343,
          1.1407178050156737,
          0.9015282916833357,
          0.2012168812837664,
          1.3637163434011539,
          0.08283515083918147,
          2.281453500861374,
          1.0437889501565052,
          2.9331668413501597,
          1.9564276981057962,
          0.09501528938590256,
          1.0751527422893905,
          0.5178943101102935,
          0.023131805024323923,
          1.3388525000501883,
          0.014569880040902433,
          0.8005440085570982,
          0.9492451933842447,
          0.9833417516964411,
          0.9922797480239686,
          0.9421876751632446,
          2.8622382199166623,
          0.2963368560139973,
          1.5905506124649464,
          2.8607038157023044,
          0.9733682904193481,
          2.3697998755289005,
          0.40344816479433687,
          0.9947763647274847,
          2.857288148026303,
          0.050235599100874315,
          0.660819477145568,
          0.15941615737608406,
          0.24420525806413024,
          1.88803620974859,
          0.010008426607292214,
          0.9738652389317126,
          2.217495288821684,
          1.9005763555220527,
          1.7340633953642461,
          0.0001623473930457231,
          2.5441983129290087,
          1.9591152264688572,
          0.8976587734308829,
          1.0089213517269218,
          0.99010252227328,
          2.594860195193624,
          2.0251598401754505,
          1.9918446886936438,
          2.11334782392629,
          2.3660066435076454,
          0.030688376474961403,
          1.8225400597372703,
          1.7053338464034549,
          1.0225094188485568,
          1.0216513707020574,
          1.2736175556137226,
          0.008748487155296466,
          0.929012278969682,
          0.03181526367203673,
          1.9924915800753624,
          0.041984435752820425,
          1.0198103743950304,
          1.0066505565747632,
          1.0581582704385513,
          2.9365716051352586,
          2.734298973901342,
          1.9317599790334403,
          0.9991793000150131,
          1.9011406533674202,
          0.16390929525378992,
          1.8483166016932984,
          1.9095367882351604,
          1.4395169040789462,
          0.524908970407444,
          0.16684254943779953,
          0.4496590501699472,
          3.3470591357809463,
          1.3309004096974755,
          2.815659000221504,
          1.2499903436051987,
          1.7090000593984733,
          0.011488364557869432,
          2.2269257592413596,
          1.8116781992299766,
          0.060523421829898706,
          0.1636520141169218,
          1.041949944758173,
          0.28951129616128557,
          1.5948820095533771,
          0.04728984518520235,
          2.8501878505328393,
          1.0183531230952954,
          2.072030586827672,
          1.6845781469413126,
          0.02566165968631791,
          2.9165896819588513,
          0.13985890915603708,
          2.0997115098300068,
          0.20814245247308039,
          0.012334595028156668,
          2.3197207931787602,
          1.0312286176820433,
          0.5707038581856863,
          0.010201978589929593,
          0.042146733383788,
          1.2838333780459712,
          1.9332702379959978,
          1.8935026708402882,
          0.9640959377155591,
          1.9013993045566375,
          0.9314144335707056,
          1.178280932526396,
          1.0955070212351867,
          0.12858600263250497,
          1.0176049295471614,
          0.9003921633011076,
          2.4796843427290574,
          2.727336271814002,
          2.8417195847570986,
          1.3621166968185436,
          0.011522642650605515,
          0.9543473429093822,
          1.5361199619311199,
          0.9236986756331405,
          0.9804574630514282,
          0.5557958462161233,
          0.1522599571569177,
          1.999646037301647,
          1.8664926567443845,
          2.1931785565611572,
          0.09081839679894774,
          1.9552671927753238,
          0.2685606811436649,
          1.8116941164200222,
          3.5710400556454656,
          0.28131594431675755,
          0.9734328791768082,
          1.5174193425443812,
          1.7271423688729979,
          0.7893158888921769,
          3.0180376561965545,
          3.8510077156103435,
          1.9676221234058895,
          0.9461291276061514,
          0.23017562220694926,
          0.972750958026639,
          0.037706952485759435,
          1.6542005323863767,
          1.0401577936716173,
          1.0725195727782755,
          2.75699647578363,
          2.028684150176125,
          1.9011174186312667,
          0.924471235790415,
          1.0041545037106148,
          1.0669973341368628,
          1.9450281472717998,
          1.295971744158916,
          0.5498455702606974,
          0.6844368414680925,
          2.013003983619961,
          1.425324265050544,
          0.9599700826480533,
          1.9073214294142116,
          1.918230721662462,
          1.1612544288394493,
          2.211371201634017,
          1.986966215667453,
          0.9521551722302148,
          0.20852521895424372,
          2.1324961759331393,
          2.909747108624966,
          0.4205612901810548,
          0.9447818152849445,
          3.01659884853771,
          2.5077706713646184,
          1.9589393579269594,
          2.9475174279410346,
          1.7626004701493763,
          0.949547658375075,
          1.0038821605835466,
          1.937614514718308,
          3.8329739400426837,
          1.5473473570379632,
          2.753353528569697,
          1.5422039866337787,
          1.9702756216463213,
          1.9576101982705534,
          1.8580773175758938,
          0.9929321109720934,
          1.0095065880807361,
          1.0025316513911502,
          1.016162088790569,
          0.9891557548187779,
          1.0389744076143803,
          1.4786079620348496,
          1.9947709603002208,
          2.3314627595880686,
          1.046079921146657,
          1.059737911158451,
          1.2404260528335342,
          1.069752697434597,
          2.9151084587951877,
          1.0165470620239818,
          0.9887158954544728,
          2.5983578501924027,
          0.06348110465082452,
          1.9210519945692035,
          0.41372965778551113,
          0.9465002816149973,
          1.8590638282656178,
          1.9068095815877661,
          1.269332077316828,
          1.0498598729131203,
          0.9800553543575431,
          1.1795666849630413,
          2.1101336925738585,
          0.0263631994575299,
          0.9419230306676749,
          0.8741923261697495,
          0.99772451396122,
          1.9482327532784383,
          1.1225214016234115,
          0.3557220854283964,
          1.8475670200708765,
          0.04283855295108095,
          1.9662515046294107,
          0.571488713539154,
          1.161966359417758,
          1.9982056439065934,
          2.085095146048389,
          1.3040818868182125,
          0.9462280249518186,
          0.06055789601320783,
          1.662770662289765,
          1.1701703604956817,
          2.0122310392287552,
          1.8755026278296765,
          1.9237862809347586,
          0.030041904123610314,
          1.5237233449458412,
          0.9210599889884431,
          2.1082904238090747,
          0.44656774654053527,
          1.604436427352538,
          2.0309523735003907,
          0.028808790424869342,
          1.1145378893987048,
          0.003871464756110985,
          0.03788631667353842,
          1.1406629390031862,
          1.0705481954269396,
          2.290821321270677,
          0.4360552963563677,
          0.033112888401529025,
          1.3891642464608962,
          0.4632039557697537,
          1.6536282713408854,
          0.9755582971383256,
          2.021297366480829,
          3.4324182953330795,
          1.915209787422051,
          0.08793946071609952,
          1.0650727628322132,
          0.06526203232664403,
          1.8886927121366606,
          1.988016033700021,
          0.9737975762686181,
          0.18101665965258087,
          0.3471992357626569,
          1.521338075465221,
          0.9756882932878972,
          2.3071806006060562,
          2.419615486014013,
          0.12359667179903028,
          1.0421587534976864,
          1.6587578461114414,
          1.797990486460156,
          1.1100626499199766,
          0.6888867013124601,
          0.9466322565174626,
          1.9217299860285515,
          1.6858063934852527,
          2.2226535106033047,
          0.7996554844265139,
          1.8747350489696664,
          0.7991149835007181,
          1.0032207742674637,
          0.24100716654505114,
          0.4249135069335665,
          0.9779842138545607,
          1.1866840251277555,
          1.547727001233123,
          2.692989050152442,
          1.9847860169318683,
          1.2651954730794035,
          2.1843565484332603,
          1.9859291974240687,
          1.9112650596398564,
          1.955145869687785,
          2.931702734938146,
          0.6024266354258758,
          0.9885780849773933,
          2.0201541690814984,
          0.6285053236517779,
          1.1049433804892241,
          1.5978600131540428,
          0.03197432200296051,
          1.916606114723467,
          0.9897167455326056,
          1.6654285375831013,
          2.7583983992044083,
          2.889942627995967,
          1.0652561624541281,
          0.03290793115967432,
          2.1855568781669703,
          1.9545414452509289,
          1.3065687050799637,
          1.1495397356388233,
          0.8334074995473401,
          0.8066036181386886,
          1.009439847132534,
          1.1467441094364788,
          1.0102933596440216,
          3.198087052774733,
          1.8506902943873431,
          1.5581823947109454,
          1.9736542380084683,
          1.0516354785158661,
          1.97237619981605,
          0.9355589806499874,
          0.9985373210366094,
          0.9483284875581487,
          0.000636272982771787,
          1.0199402238610376,
          1.02192537438349,
          2.206832236776075,
          1.8635666910127993,
          1.9667121596652475,
          0.49959636198727797,
          1.7957762672009203,
          0.960494769940231,
          0.7805840420485151,
          2.0179298584547025,
          0.9674025352897555,
          1.123529298700268,
          1.933433099203227,
          1.2977223244167408,
          0.9524070545225541,
          1.1866466153662116,
          2.436292864280003,
          0.007964999955300756,
          0.9867669256965097,
          2.3543413397989954,
          1.1461015543431075,
          2.8713376595735554,
          0.5469839603966032,
          0.6320730266425478,
          0.9486217718904134,
          0.3387142517868878,
          1.939877014960508,
          2.058090099754455,
          1.7729028916820941,
          0.967508930126305,
          1.591455939184435,
          1.8551180738493402,
          2.5849494544329232,
          1.925678680102532,
          1.7741132703185905,
          0.880950552476738,
          2.835621992136393,
          1.0103213091783738,
          2.105313371954015,
          0.043964885974039386,
          1.902806480971924,
          1.9582318217133106,
          1.9149259371586844,
          1.731764772512607,
          3.2843578492326224,
          0.06709268217166828,
          2.248861907520673,
          0.71238939857887,
          0.67746275409997,
          0.020496980405088558,
          0.9832969934011194,
          1.0176016929387437,
          1.9531392502607008,
          2.4696296861368143,
          1.2032733502380835,
          0.07408351335056673,
          0.9746756903939895,
          1.3400435177956753,
          0.9807390028237482,
          1.0444991759207118,
          1.3401558550768358,
          0.5086780484909017,
          2.7271735077038506,
          2.037506981245465,
          1.9601426844027934,
          1.2876266772175307,
          2.4565683150157858,
          0.661371544601676,
          0.9993518256908285,
          0.5530892048581234,
          0.9262823316731,
          0.9714928659366197,
          1.0827807363994764,
          0.5095300864628748,
          0.46099346599290214,
          0.8655857934755387,
          1.8558568348505062,
          0.31826277298596595,
          1.310565452012464,
          1.5440205383367858,
          1.245677435039007,
          0.8008338858457951,
          1.1515607771508525,
          2.7876865272650306,
          1.5745065558879061,
          1.103156344144402,
          1.5747187091361905,
          1.1590591858878785,
          1.0208468139258233,
          1.9740749943196674,
          0.025921349989570262,
          1.249738706405318,
          0.5151071668810665,
          1.0089816012665505,
          2.5725643583027336,
          2.974090109654412,
          2.0124288542769513,
          1.001618876260881,
          1.6523242518410333,
          0.0843560138063906,
          1.149216222613868,
          1.2748616437733744,
          0.9197831790978278,
          0.9765821369103628,
          1.1810815542347555,
          0.9849861881793313,
          1.686863969820831,
          2.885062180949327,
          1.9831686088470875,
          0.9780727196885244,
          2.9134936867558516,
          1.985744413118667,
          2.344432401787484,
          1.1015891426578128,
          0.049846462992501686,
          0.7085639071552771,
          1.4982803782333551,
          1.0680036651385538,
          2.4052374625913875,
          3.6671285707474977,
          2.385233894061093,
          1.264723063688893,
          2.4725036085309204,
          1.0358478646027338,
          0.027346751497331553,
          1.278228866560247,
          2.37938665233525,
          1.9048492954387364,
          1.3992024469461999,
          2.1501870905844602,
          1.8944666158845114,
          1.0027661680972018,
          1.6500206672097004,
          1.4348085939703827,
          0.03323204236069844,
          0.20661741391813054,
          0.9421094366074637,
          0.9736116899578671,
          0.9974303183294908,
          0.2397220732414733,
          1.3396136796919629,
          1.8791449691432236,
          1.9467748761311803,
          0.15844790257150762,
          2.8491110550805403,
          1.9139080631126382,
          1.886970265975007,
          2.014047064753913,
          0.004076873503122288,
          1.2751326656912128,
          2.7424656655980755,
          1.795164909154309,
          1.9153747751909882,
          2.9060503951559973,
          0.12023188901808443,
          1.0327203995395073,
          1.0147723628777678,
          1.5024319046447792,
          0.15677804294054667,
          3.8910885688603534,
          1.5240968251450173,
          2.3045980320165933,
          0.9443178891827454,
          0.3927402545720026,
          1.914385084835099,
          1.9332615053728384,
          2.457317644702572,
          0.048634404564198166,
          2.3150907971845816,
          1.0096342078776999,
          0.11999290163020197,
          2.685922544228864,
          1.9502936319664852,
          2.9527041358299537,
          0.25866586590840424,
          3.246141642716712,
          0.9862319366315994,
          2.947046261633693,
          1.0144377855440752,
          0.9849106819368808,
          2.1508918114263404,
          1.928567505618055,
          2.4546726153325418,
          0.9079079589678164,
          2.9412908885649633,
          2.6257241599230845,
          1.9861891990510885,
          0.16362378945310316,
          0.9061228158324182,
          0.9557933925307871,
          0.9028904994244091,
          2.9521320712979047,
          2.2886853004822916,
          1.2661494061087244,
          1.248599176047059,
          1.9911626806960623,
          1.1836042592994762,
          1.220035723072523,
          0.3225155874792324,
          1.0797183374198038,
          1.886563169359782,
          2.002833719818423,
          1.9426184988321884,
          3.398975380547538,
          1.316479385763192,
          1.7454329774050037,
          0.9598374390669476,
          0.9777814306497719,
          1.9202217679502083,
          0.9554171251728464,
          0.9944797021506985,
          0.13756236003005423,
          0.9669192462796153,
          1.9773035968341404,
          0.927359128724797,
          1.8887024162784585,
          0.9800810892553868,
          1.847720624610578,
          1.023593702122143,
          1.0052856783567357,
          1.9711513703633516,
          1.955600711461913,
          1.88613911989696,
          1.8324229456610106,
          2.2106762680613734,
          0.9943582327965496,
          0.06048201324551517,
          2.4129722414077652,
          0.1584748181747253,
          1.1029361850546053,
          1.870268445456429,
          1.8001396415582176,
          0.059379918008949824,
          1.5510078644016863,
          0.025776536832011025,
          1.4357281918578988,
          1.9737429514273188,
          1.5604879923972974,
          2.8131292939447827,
          1.7299977922261982,
          2.8320563918654464,
          1.921579240933056,
          1.0442550546985694,
          1.975091902311479,
          2.4927986763429204,
          1.181362378083116,
          1.080936677903649,
          1.9876479973975842,
          0.05730082801664096,
          0.9512523851743147,
          1.9678173651882636,
          1.6153168978611623,
          0.9217481414958126,
          0.3022880028369652,
          0.09179507858265379,
          1.9638285837208747,
          1.7217766434347321,
          2.677882996579004,
          2.694972129972422,
          2.1614743099134577,
          1.0635910823853632,
          0.9425851814695759,
          1.0014464843700592,
          2.2802641922375795,
          1.8792156634923904,
          0.9669344623263734,
          1.2379767742296452,
          0.0534681931937713,
          0.03897325652019934,
          2.94809926937163,
          0.2994822311321829,
          3.014985533819282,
          2.5681288463006884,
          0.7828548310781699,
          0.08542302338329906,
          1.9414368321517808,
          2.9239111241157154,
          0.9397514186927038,
          1.0203469074060256,
          0.4487129543646695,
          1.5946814402258676,
          0.9976926550860084,
          0.8719339048043732,
          0.043761815326442605,
          1.9435130389995667,
          0.8715052693414648,
          1.8731476529779258,
          2.4757902969962537,
          1.8775749226468363,
          2.931734627550986,
          1.9841326583051246,
          0.9440224068785626,
          0.9418668844585486,
          2.021163082167768,
          1.3728759081036803,
          0.8805367006068007,
          1.9071937102535468,
          1.7884047423943121,
          1.2702066914976768,
          0.060128557781076064,
          1.0382958672661018,
          2.718896002582827,
          1.1404392271929984,
          1.3288129696479227,
          2.0601091112198637,
          2.898271887426597,
          0.315592150812389,
          0.1256185418267002,
          0.01534291656086585,
          0.990961244525853,
          1.8491005316142506,
          0.08296762285681561,
          0.4500521149837712,
          1.231644112024513,
          1.62601522507118,
          1.1121950646327157,
          2.545841650272299,
          0.8939096513778154,
          0.9429221716424784,
          0.6742286070183015,
          0.03417336978002528,
          1.8733602073267392,
          0.9782944394642162,
          1.9404676259226974,
          2.9145670945441235,
          3.0133416932461685,
          1.4779605805629124,
          1.93340767866934,
          0.5063394229234376,
          1.1216822605211232,
          0.6523385210220964,
          1.1410375241771393,
          1.8829731437683543,
          0.5814388587059317,
          0.8666941579343925,
          1.0270405067418087,
          3.3438265657154655,
          0.9744293636143878,
          0.9999795421698426,
          0.03543938314536395,
          1.7800865978304965,
          0.020657670811843547,
          0.8427874351779839,
          0.9441346277585254,
          2.388813309604526,
          0.10986598707035927,
          0.9072396488059274,
          2.048670437618431,
          0.9423116971429711,
          2.6398043527654647,
          1.004505191185805,
          3.003955322463922,
          2.185374494127246,
          1.9614017933949222,
          0.4119621575867745,
          0.562690547579396,
          0.9964856201178933,
          1.9618856559231252,
          0.9815864462105387,
          1.8218790032166432,
          0.02052304963770116,
          2.8236755688331208,
          2.3597495194626377,
          1.0071177120156676,
          1.118197168209515,
          1.0903152079130725,
          1.8805411673461174,
          1.9158126426891964,
          0.04814599512941371,
          2.0310789785358603,
          0.9532340971174232,
          0.0012637593327789996,
          1.0139154903332437,
          1.228489196597008,
          1.9797289781428455,
          1.101261888913715,
          1.855438745693816,
          1.0440674961786471,
          0.9281843690611623,
          1.6347911577066518,
          0.0269374198543137,
          1.4908020774700546,
          1.5837793715444124,
          0.9915605023358357,
          1.1339447182325086,
          0.9633384610239677,
          1.9083467512424028,
          1.0013187471625518,
          0.02892857890451029,
          1.6952885397546713,
          2.017712197175977,
          1.8440258799287428,
          1.0188172940805695,
          0.9644840206396165,
          2.360105197264537,
          1.1173224774078068,
          0.97863746669788,
          0.8600917749322192,
          0.3180276016753706,
          2.218972807921414,
          1.9717915444977683,
          1.2606020896928296,
          0.3489383843882609,
          1.0112928261143628,
          2.7363472478577204,
          0.038009207080803936,
          0.9831350652409858,
          2.8245686140452246,
          2.754887474104209,
          1.9898197157693274,
          3.456162313230847,
          2.0397173126083694,
          1.9128276320903383,
          1.0397678219609412,
          0.9695336254358462,
          1.2954824501981617,
          1.897335127617949,
          0.9968069930371732,
          0.0030273083657418524,
          1.9015050620297667,
          2.415405276124517,
          1.9621012210709592,
          0.9756974710817626,
          0.794782162072979,
          0.9388175212463016,
          0.02304603712518182,
          1.9933153411721627,
          0.9588943264145289,
          0.9651505593519714,
          0.33474718961917815,
          0.9906104523627949
         ],
         "xaxis": "x",
         "yaxis": "y"
        }
       ],
       "layout": {
        "barmode": "relative",
        "legend": {
         "title": {
          "text": "variable"
         },
         "tracegroupgap": 0
        },
        "margin": {
         "t": 60
        },
        "template": {
         "data": {
          "bar": [
           {
            "error_x": {
             "color": "#2a3f5f"
            },
            "error_y": {
             "color": "#2a3f5f"
            },
            "marker": {
             "line": {
              "color": "#E5ECF6",
              "width": 0.5
             },
             "pattern": {
              "fillmode": "overlay",
              "size": 10,
              "solidity": 0.2
             }
            },
            "type": "bar"
           }
          ],
          "barpolar": [
           {
            "marker": {
             "line": {
              "color": "#E5ECF6",
              "width": 0.5
             },
             "pattern": {
              "fillmode": "overlay",
              "size": 10,
              "solidity": 0.2
             }
            },
            "type": "barpolar"
           }
          ],
          "carpet": [
           {
            "aaxis": {
             "endlinecolor": "#2a3f5f",
             "gridcolor": "white",
             "linecolor": "white",
             "minorgridcolor": "white",
             "startlinecolor": "#2a3f5f"
            },
            "baxis": {
             "endlinecolor": "#2a3f5f",
             "gridcolor": "white",
             "linecolor": "white",
             "minorgridcolor": "white",
             "startlinecolor": "#2a3f5f"
            },
            "type": "carpet"
           }
          ],
          "choropleth": [
           {
            "colorbar": {
             "outlinewidth": 0,
             "ticks": ""
            },
            "type": "choropleth"
           }
          ],
          "contour": [
           {
            "colorbar": {
             "outlinewidth": 0,
             "ticks": ""
            },
            "colorscale": [
             [
              0,
              "#0d0887"
             ],
             [
              0.1111111111111111,
              "#46039f"
             ],
             [
              0.2222222222222222,
              "#7201a8"
             ],
             [
              0.3333333333333333,
              "#9c179e"
             ],
             [
              0.4444444444444444,
              "#bd3786"
             ],
             [
              0.5555555555555556,
              "#d8576b"
             ],
             [
              0.6666666666666666,
              "#ed7953"
             ],
             [
              0.7777777777777778,
              "#fb9f3a"
             ],
             [
              0.8888888888888888,
              "#fdca26"
             ],
             [
              1,
              "#f0f921"
             ]
            ],
            "type": "contour"
           }
          ],
          "contourcarpet": [
           {
            "colorbar": {
             "outlinewidth": 0,
             "ticks": ""
            },
            "type": "contourcarpet"
           }
          ],
          "heatmap": [
           {
            "colorbar": {
             "outlinewidth": 0,
             "ticks": ""
            },
            "colorscale": [
             [
              0,
              "#0d0887"
             ],
             [
              0.1111111111111111,
              "#46039f"
             ],
             [
              0.2222222222222222,
              "#7201a8"
             ],
             [
              0.3333333333333333,
              "#9c179e"
             ],
             [
              0.4444444444444444,
              "#bd3786"
             ],
             [
              0.5555555555555556,
              "#d8576b"
             ],
             [
              0.6666666666666666,
              "#ed7953"
             ],
             [
              0.7777777777777778,
              "#fb9f3a"
             ],
             [
              0.8888888888888888,
              "#fdca26"
             ],
             [
              1,
              "#f0f921"
             ]
            ],
            "type": "heatmap"
           }
          ],
          "heatmapgl": [
           {
            "colorbar": {
             "outlinewidth": 0,
             "ticks": ""
            },
            "colorscale": [
             [
              0,
              "#0d0887"
             ],
             [
              0.1111111111111111,
              "#46039f"
             ],
             [
              0.2222222222222222,
              "#7201a8"
             ],
             [
              0.3333333333333333,
              "#9c179e"
             ],
             [
              0.4444444444444444,
              "#bd3786"
             ],
             [
              0.5555555555555556,
              "#d8576b"
             ],
             [
              0.6666666666666666,
              "#ed7953"
             ],
             [
              0.7777777777777778,
              "#fb9f3a"
             ],
             [
              0.8888888888888888,
              "#fdca26"
             ],
             [
              1,
              "#f0f921"
             ]
            ],
            "type": "heatmapgl"
           }
          ],
          "histogram": [
           {
            "marker": {
             "pattern": {
              "fillmode": "overlay",
              "size": 10,
              "solidity": 0.2
             }
            },
            "type": "histogram"
           }
          ],
          "histogram2d": [
           {
            "colorbar": {
             "outlinewidth": 0,
             "ticks": ""
            },
            "colorscale": [
             [
              0,
              "#0d0887"
             ],
             [
              0.1111111111111111,
              "#46039f"
             ],
             [
              0.2222222222222222,
              "#7201a8"
             ],
             [
              0.3333333333333333,
              "#9c179e"
             ],
             [
              0.4444444444444444,
              "#bd3786"
             ],
             [
              0.5555555555555556,
              "#d8576b"
             ],
             [
              0.6666666666666666,
              "#ed7953"
             ],
             [
              0.7777777777777778,
              "#fb9f3a"
             ],
             [
              0.8888888888888888,
              "#fdca26"
             ],
             [
              1,
              "#f0f921"
             ]
            ],
            "type": "histogram2d"
           }
          ],
          "histogram2dcontour": [
           {
            "colorbar": {
             "outlinewidth": 0,
             "ticks": ""
            },
            "colorscale": [
             [
              0,
              "#0d0887"
             ],
             [
              0.1111111111111111,
              "#46039f"
             ],
             [
              0.2222222222222222,
              "#7201a8"
             ],
             [
              0.3333333333333333,
              "#9c179e"
             ],
             [
              0.4444444444444444,
              "#bd3786"
             ],
             [
              0.5555555555555556,
              "#d8576b"
             ],
             [
              0.6666666666666666,
              "#ed7953"
             ],
             [
              0.7777777777777778,
              "#fb9f3a"
             ],
             [
              0.8888888888888888,
              "#fdca26"
             ],
             [
              1,
              "#f0f921"
             ]
            ],
            "type": "histogram2dcontour"
           }
          ],
          "mesh3d": [
           {
            "colorbar": {
             "outlinewidth": 0,
             "ticks": ""
            },
            "type": "mesh3d"
           }
          ],
          "parcoords": [
           {
            "line": {
             "colorbar": {
              "outlinewidth": 0,
              "ticks": ""
             }
            },
            "type": "parcoords"
           }
          ],
          "pie": [
           {
            "automargin": true,
            "type": "pie"
           }
          ],
          "scatter": [
           {
            "fillpattern": {
             "fillmode": "overlay",
             "size": 10,
             "solidity": 0.2
            },
            "type": "scatter"
           }
          ],
          "scatter3d": [
           {
            "line": {
             "colorbar": {
              "outlinewidth": 0,
              "ticks": ""
             }
            },
            "marker": {
             "colorbar": {
              "outlinewidth": 0,
              "ticks": ""
             }
            },
            "type": "scatter3d"
           }
          ],
          "scattercarpet": [
           {
            "marker": {
             "colorbar": {
              "outlinewidth": 0,
              "ticks": ""
             }
            },
            "type": "scattercarpet"
           }
          ],
          "scattergeo": [
           {
            "marker": {
             "colorbar": {
              "outlinewidth": 0,
              "ticks": ""
             }
            },
            "type": "scattergeo"
           }
          ],
          "scattergl": [
           {
            "marker": {
             "colorbar": {
              "outlinewidth": 0,
              "ticks": ""
             }
            },
            "type": "scattergl"
           }
          ],
          "scattermapbox": [
           {
            "marker": {
             "colorbar": {
              "outlinewidth": 0,
              "ticks": ""
             }
            },
            "type": "scattermapbox"
           }
          ],
          "scatterpolar": [
           {
            "marker": {
             "colorbar": {
              "outlinewidth": 0,
              "ticks": ""
             }
            },
            "type": "scatterpolar"
           }
          ],
          "scatterpolargl": [
           {
            "marker": {
             "colorbar": {
              "outlinewidth": 0,
              "ticks": ""
             }
            },
            "type": "scatterpolargl"
           }
          ],
          "scatterternary": [
           {
            "marker": {
             "colorbar": {
              "outlinewidth": 0,
              "ticks": ""
             }
            },
            "type": "scatterternary"
           }
          ],
          "surface": [
           {
            "colorbar": {
             "outlinewidth": 0,
             "ticks": ""
            },
            "colorscale": [
             [
              0,
              "#0d0887"
             ],
             [
              0.1111111111111111,
              "#46039f"
             ],
             [
              0.2222222222222222,
              "#7201a8"
             ],
             [
              0.3333333333333333,
              "#9c179e"
             ],
             [
              0.4444444444444444,
              "#bd3786"
             ],
             [
              0.5555555555555556,
              "#d8576b"
             ],
             [
              0.6666666666666666,
              "#ed7953"
             ],
             [
              0.7777777777777778,
              "#fb9f3a"
             ],
             [
              0.8888888888888888,
              "#fdca26"
             ],
             [
              1,
              "#f0f921"
             ]
            ],
            "type": "surface"
           }
          ],
          "table": [
           {
            "cells": {
             "fill": {
              "color": "#EBF0F8"
             },
             "line": {
              "color": "white"
             }
            },
            "header": {
             "fill": {
              "color": "#C8D4E3"
             },
             "line": {
              "color": "white"
             }
            },
            "type": "table"
           }
          ]
         },
         "layout": {
          "annotationdefaults": {
           "arrowcolor": "#2a3f5f",
           "arrowhead": 0,
           "arrowwidth": 1
          },
          "autotypenumbers": "strict",
          "coloraxis": {
           "colorbar": {
            "outlinewidth": 0,
            "ticks": ""
           }
          },
          "colorscale": {
           "diverging": [
            [
             0,
             "#8e0152"
            ],
            [
             0.1,
             "#c51b7d"
            ],
            [
             0.2,
             "#de77ae"
            ],
            [
             0.3,
             "#f1b6da"
            ],
            [
             0.4,
             "#fde0ef"
            ],
            [
             0.5,
             "#f7f7f7"
            ],
            [
             0.6,
             "#e6f5d0"
            ],
            [
             0.7,
             "#b8e186"
            ],
            [
             0.8,
             "#7fbc41"
            ],
            [
             0.9,
             "#4d9221"
            ],
            [
             1,
             "#276419"
            ]
           ],
           "sequential": [
            [
             0,
             "#0d0887"
            ],
            [
             0.1111111111111111,
             "#46039f"
            ],
            [
             0.2222222222222222,
             "#7201a8"
            ],
            [
             0.3333333333333333,
             "#9c179e"
            ],
            [
             0.4444444444444444,
             "#bd3786"
            ],
            [
             0.5555555555555556,
             "#d8576b"
            ],
            [
             0.6666666666666666,
             "#ed7953"
            ],
            [
             0.7777777777777778,
             "#fb9f3a"
            ],
            [
             0.8888888888888888,
             "#fdca26"
            ],
            [
             1,
             "#f0f921"
            ]
           ],
           "sequentialminus": [
            [
             0,
             "#0d0887"
            ],
            [
             0.1111111111111111,
             "#46039f"
            ],
            [
             0.2222222222222222,
             "#7201a8"
            ],
            [
             0.3333333333333333,
             "#9c179e"
            ],
            [
             0.4444444444444444,
             "#bd3786"
            ],
            [
             0.5555555555555556,
             "#d8576b"
            ],
            [
             0.6666666666666666,
             "#ed7953"
            ],
            [
             0.7777777777777778,
             "#fb9f3a"
            ],
            [
             0.8888888888888888,
             "#fdca26"
            ],
            [
             1,
             "#f0f921"
            ]
           ]
          },
          "colorway": [
           "#636efa",
           "#EF553B",
           "#00cc96",
           "#ab63fa",
           "#FFA15A",
           "#19d3f3",
           "#FF6692",
           "#B6E880",
           "#FF97FF",
           "#FECB52"
          ],
          "font": {
           "color": "#2a3f5f"
          },
          "geo": {
           "bgcolor": "white",
           "lakecolor": "white",
           "landcolor": "#E5ECF6",
           "showlakes": true,
           "showland": true,
           "subunitcolor": "white"
          },
          "hoverlabel": {
           "align": "left"
          },
          "hovermode": "closest",
          "mapbox": {
           "style": "light"
          },
          "paper_bgcolor": "white",
          "plot_bgcolor": "#E5ECF6",
          "polar": {
           "angularaxis": {
            "gridcolor": "white",
            "linecolor": "white",
            "ticks": ""
           },
           "bgcolor": "#E5ECF6",
           "radialaxis": {
            "gridcolor": "white",
            "linecolor": "white",
            "ticks": ""
           }
          },
          "scene": {
           "xaxis": {
            "backgroundcolor": "#E5ECF6",
            "gridcolor": "white",
            "gridwidth": 2,
            "linecolor": "white",
            "showbackground": true,
            "ticks": "",
            "zerolinecolor": "white"
           },
           "yaxis": {
            "backgroundcolor": "#E5ECF6",
            "gridcolor": "white",
            "gridwidth": 2,
            "linecolor": "white",
            "showbackground": true,
            "ticks": "",
            "zerolinecolor": "white"
           },
           "zaxis": {
            "backgroundcolor": "#E5ECF6",
            "gridcolor": "white",
            "gridwidth": 2,
            "linecolor": "white",
            "showbackground": true,
            "ticks": "",
            "zerolinecolor": "white"
           }
          },
          "shapedefaults": {
           "line": {
            "color": "#2a3f5f"
           }
          },
          "ternary": {
           "aaxis": {
            "gridcolor": "white",
            "linecolor": "white",
            "ticks": ""
           },
           "baxis": {
            "gridcolor": "white",
            "linecolor": "white",
            "ticks": ""
           },
           "bgcolor": "#E5ECF6",
           "caxis": {
            "gridcolor": "white",
            "linecolor": "white",
            "ticks": ""
           }
          },
          "title": {
           "x": 0.05
          },
          "xaxis": {
           "automargin": true,
           "gridcolor": "white",
           "linecolor": "white",
           "ticks": "",
           "title": {
            "standoff": 15
           },
           "zerolinecolor": "white",
           "zerolinewidth": 2
          },
          "yaxis": {
           "automargin": true,
           "gridcolor": "white",
           "linecolor": "white",
           "ticks": "",
           "title": {
            "standoff": 15
           },
           "zerolinecolor": "white",
           "zerolinewidth": 2
          }
         }
        },
        "xaxis": {
         "anchor": "y",
         "domain": [
          0,
          1
         ],
         "title": {
          "text": "value"
         }
        },
        "yaxis": {
         "anchor": "x",
         "domain": [
          0,
          1
         ],
         "title": {
          "text": "count"
         },
         "type": "log"
        }
       }
      }
     },
     "metadata": {},
     "output_type": "display_data"
    }
   ],
   "source": [
    "px.histogram(exp_z, log_y = True)"
   ]
  },
  {
   "cell_type": "code",
   "execution_count": null,
   "metadata": {},
   "outputs": [],
   "source": []
  }
 ],
 "metadata": {
  "kernelspec": {
   "display_name": "systemflow",
   "language": "python",
   "name": "python3"
  },
  "language_info": {
   "codemirror_mode": {
    "name": "ipython",
    "version": 3
   },
   "file_extension": ".py",
   "mimetype": "text/x-python",
   "name": "python",
   "nbconvert_exporter": "python",
   "pygments_lexer": "ipython3",
   "version": "undefined.undefined.undefined"
  }
 },
 "nbformat": 4,
 "nbformat_minor": 2
}
