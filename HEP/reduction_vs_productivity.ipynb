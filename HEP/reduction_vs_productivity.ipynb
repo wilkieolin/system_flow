{
 "cells": [
  {
   "cell_type": "code",
   "execution_count": 1,
   "metadata": {},
   "outputs": [],
   "source": [
    "from systemflow.graph import *\n",
    "from systemflow.models import *\n",
    "from systemflow.metrics import *\n",
    "\n",
    "import pandas as pd\n",
    "import matplotlib.pyplot as plt\n",
    "from scipy.optimize import curve_fit\n",
    "import plotly.graph_objects as go"
   ]
  },
  {
   "cell_type": "code",
   "execution_count": 2,
   "metadata": {},
   "outputs": [],
   "source": [
    "# load data from the spreadsheet which defines the structure of the workflow,\n",
    "# as well as the parameters for data rates, efficiency, data reduction, and classifier performance\n",
    "# load data from the spreadsheet which defines the structure of the workflow,\n",
    "# as well as the parameters for data rates, efficiency, data reduction, and classifier performance\n",
    "run3_system = dataframes_from_spreadsheet(\"cms_system_60.xlsx\")\n",
    "run5_system = dataframes_from_spreadsheet(\"cms_system_200.xlsx\")\n",
    "run5_smartpx_system = dataframes_from_spreadsheet(\"cms_system_200_smartpx.xlsx\")"
   ]
  },
  {
   "cell_type": "code",
   "execution_count": 3,
   "metadata": {},
   "outputs": [
    {
     "data": {
      "text/html": [
       "<div>\n",
       "<style scoped>\n",
       "    .dataframe tbody tr th:only-of-type {\n",
       "        vertical-align: middle;\n",
       "    }\n",
       "\n",
       "    .dataframe tbody tr th {\n",
       "        vertical-align: top;\n",
       "    }\n",
       "\n",
       "    .dataframe thead th {\n",
       "        text-align: right;\n",
       "    }\n",
       "</style>\n",
       "<table border=\"1\" class=\"dataframe\">\n",
       "  <thead>\n",
       "    <tr style=\"text-align: right;\">\n",
       "      <th></th>\n",
       "      <th>Category</th>\n",
       "      <th>Detector</th>\n",
       "      <th>Data (bytes)</th>\n",
       "      <th>Sample Rate</th>\n",
       "      <th>Compression</th>\n",
       "      <th>Link Efficiency (J/bit)</th>\n",
       "      <th>Op Efficiency (J/op)</th>\n",
       "      <th>PU 200</th>\n",
       "    </tr>\n",
       "  </thead>\n",
       "  <tbody>\n",
       "    <tr>\n",
       "      <th>0</th>\n",
       "      <td>Tracking</td>\n",
       "      <td>Inner Tracker</td>\n",
       "      <td>1440000</td>\n",
       "      <td>40000000</td>\n",
       "      <td>0</td>\n",
       "      <td>2.220000e-11</td>\n",
       "      <td>0</td>\n",
       "      <td>1.440</td>\n",
       "    </tr>\n",
       "    <tr>\n",
       "      <th>1</th>\n",
       "      <td>Tracking</td>\n",
       "      <td>Outer Tracker PS</td>\n",
       "      <td>720000</td>\n",
       "      <td>40000000</td>\n",
       "      <td>0</td>\n",
       "      <td>2.220000e-11</td>\n",
       "      <td>0</td>\n",
       "      <td>0.720</td>\n",
       "    </tr>\n",
       "    <tr>\n",
       "      <th>2</th>\n",
       "      <td>Tracking</td>\n",
       "      <td>Outer Tracker 2S</td>\n",
       "      <td>430000</td>\n",
       "      <td>40000000</td>\n",
       "      <td>0</td>\n",
       "      <td>2.220000e-11</td>\n",
       "      <td>0</td>\n",
       "      <td>0.430</td>\n",
       "    </tr>\n",
       "    <tr>\n",
       "      <th>3</th>\n",
       "      <td>Tracking</td>\n",
       "      <td>Track Finder TPG</td>\n",
       "      <td>10000</td>\n",
       "      <td>40000000</td>\n",
       "      <td>0</td>\n",
       "      <td>2.220000e-11</td>\n",
       "      <td>0</td>\n",
       "      <td>0.010</td>\n",
       "    </tr>\n",
       "    <tr>\n",
       "      <th>4</th>\n",
       "      <td>Timing</td>\n",
       "      <td>MIP Timing BTL</td>\n",
       "      <td>240000</td>\n",
       "      <td>40000000</td>\n",
       "      <td>0</td>\n",
       "      <td>2.220000e-11</td>\n",
       "      <td>0</td>\n",
       "      <td>0.240</td>\n",
       "    </tr>\n",
       "    <tr>\n",
       "      <th>5</th>\n",
       "      <td>Timing</td>\n",
       "      <td>MIP Timing ETL</td>\n",
       "      <td>440000</td>\n",
       "      <td>40000000</td>\n",
       "      <td>0</td>\n",
       "      <td>2.220000e-11</td>\n",
       "      <td>0</td>\n",
       "      <td>0.440</td>\n",
       "    </tr>\n",
       "    <tr>\n",
       "      <th>6</th>\n",
       "      <td>Calorimetry</td>\n",
       "      <td>ECAL Barrel</td>\n",
       "      <td>600000</td>\n",
       "      <td>40000000</td>\n",
       "      <td>0</td>\n",
       "      <td>2.220000e-11</td>\n",
       "      <td>0</td>\n",
       "      <td>0.600</td>\n",
       "    </tr>\n",
       "    <tr>\n",
       "      <th>7</th>\n",
       "      <td>Calorimetry</td>\n",
       "      <td>HCAL Barrel</td>\n",
       "      <td>240000</td>\n",
       "      <td>40000000</td>\n",
       "      <td>0</td>\n",
       "      <td>2.220000e-11</td>\n",
       "      <td>0</td>\n",
       "      <td>0.240</td>\n",
       "    </tr>\n",
       "    <tr>\n",
       "      <th>8</th>\n",
       "      <td>Calorimetry</td>\n",
       "      <td>HCAL HO</td>\n",
       "      <td>30000</td>\n",
       "      <td>40000000</td>\n",
       "      <td>0</td>\n",
       "      <td>2.220000e-11</td>\n",
       "      <td>0</td>\n",
       "      <td>0.030</td>\n",
       "    </tr>\n",
       "    <tr>\n",
       "      <th>9</th>\n",
       "      <td>Calorimetry</td>\n",
       "      <td>HCAL HF</td>\n",
       "      <td>60000</td>\n",
       "      <td>40000000</td>\n",
       "      <td>0</td>\n",
       "      <td>2.220000e-11</td>\n",
       "      <td>0</td>\n",
       "      <td>0.060</td>\n",
       "    </tr>\n",
       "    <tr>\n",
       "      <th>10</th>\n",
       "      <td>Calorimetry</td>\n",
       "      <td>HGCAL</td>\n",
       "      <td>3000000</td>\n",
       "      <td>40000000</td>\n",
       "      <td>0</td>\n",
       "      <td>2.220000e-11</td>\n",
       "      <td>0</td>\n",
       "      <td>3.000</td>\n",
       "    </tr>\n",
       "    <tr>\n",
       "      <th>11</th>\n",
       "      <td>Calorimetry</td>\n",
       "      <td>HGCAL TPG Stage1</td>\n",
       "      <td>150000</td>\n",
       "      <td>40000000</td>\n",
       "      <td>0</td>\n",
       "      <td>2.220000e-11</td>\n",
       "      <td>0</td>\n",
       "      <td>0.150</td>\n",
       "    </tr>\n",
       "    <tr>\n",
       "      <th>12</th>\n",
       "      <td>Calorimetry</td>\n",
       "      <td>HGCAL TPG Stage2</td>\n",
       "      <td>50000</td>\n",
       "      <td>40000000</td>\n",
       "      <td>0</td>\n",
       "      <td>2.220000e-11</td>\n",
       "      <td>0</td>\n",
       "      <td>0.050</td>\n",
       "    </tr>\n",
       "    <tr>\n",
       "      <th>13</th>\n",
       "      <td>Muon</td>\n",
       "      <td>Muon DT</td>\n",
       "      <td>150000</td>\n",
       "      <td>40000000</td>\n",
       "      <td>0</td>\n",
       "      <td>2.220000e-11</td>\n",
       "      <td>0</td>\n",
       "      <td>0.150</td>\n",
       "    </tr>\n",
       "    <tr>\n",
       "      <th>14</th>\n",
       "      <td>Muon</td>\n",
       "      <td>Muon CSC</td>\n",
       "      <td>470000</td>\n",
       "      <td>40000000</td>\n",
       "      <td>0</td>\n",
       "      <td>2.220000e-11</td>\n",
       "      <td>0</td>\n",
       "      <td>0.470</td>\n",
       "    </tr>\n",
       "    <tr>\n",
       "      <th>15</th>\n",
       "      <td>Muon</td>\n",
       "      <td>Muon GEM GE1</td>\n",
       "      <td>3000</td>\n",
       "      <td>40000000</td>\n",
       "      <td>0</td>\n",
       "      <td>2.220000e-11</td>\n",
       "      <td>0</td>\n",
       "      <td>0.003</td>\n",
       "    </tr>\n",
       "    <tr>\n",
       "      <th>16</th>\n",
       "      <td>Muon</td>\n",
       "      <td>Muon GEM GE2</td>\n",
       "      <td>2000</td>\n",
       "      <td>40000000</td>\n",
       "      <td>0</td>\n",
       "      <td>2.220000e-11</td>\n",
       "      <td>0</td>\n",
       "      <td>0.002</td>\n",
       "    </tr>\n",
       "    <tr>\n",
       "      <th>17</th>\n",
       "      <td>Muon</td>\n",
       "      <td>Muon GEM ME0</td>\n",
       "      <td>120000</td>\n",
       "      <td>40000000</td>\n",
       "      <td>0</td>\n",
       "      <td>2.220000e-11</td>\n",
       "      <td>0</td>\n",
       "      <td>0.120</td>\n",
       "    </tr>\n",
       "    <tr>\n",
       "      <th>18</th>\n",
       "      <td>Muon</td>\n",
       "      <td>Muon RPC</td>\n",
       "      <td>10000</td>\n",
       "      <td>40000000</td>\n",
       "      <td>0</td>\n",
       "      <td>2.220000e-11</td>\n",
       "      <td>0</td>\n",
       "      <td>0.010</td>\n",
       "    </tr>\n",
       "  </tbody>\n",
       "</table>\n",
       "</div>"
      ],
      "text/plain": [
       "       Category          Detector  Data (bytes)  Sample Rate  Compression  \\\n",
       "0      Tracking     Inner Tracker       1440000     40000000            0   \n",
       "1      Tracking  Outer Tracker PS        720000     40000000            0   \n",
       "2      Tracking  Outer Tracker 2S        430000     40000000            0   \n",
       "3      Tracking  Track Finder TPG         10000     40000000            0   \n",
       "4        Timing    MIP Timing BTL        240000     40000000            0   \n",
       "5        Timing    MIP Timing ETL        440000     40000000            0   \n",
       "6   Calorimetry       ECAL Barrel        600000     40000000            0   \n",
       "7   Calorimetry       HCAL Barrel        240000     40000000            0   \n",
       "8   Calorimetry           HCAL HO         30000     40000000            0   \n",
       "9   Calorimetry           HCAL HF         60000     40000000            0   \n",
       "10  Calorimetry             HGCAL       3000000     40000000            0   \n",
       "11  Calorimetry  HGCAL TPG Stage1        150000     40000000            0   \n",
       "12  Calorimetry  HGCAL TPG Stage2         50000     40000000            0   \n",
       "13         Muon           Muon DT        150000     40000000            0   \n",
       "14         Muon          Muon CSC        470000     40000000            0   \n",
       "15         Muon      Muon GEM GE1          3000     40000000            0   \n",
       "16         Muon      Muon GEM GE2          2000     40000000            0   \n",
       "17         Muon      Muon GEM ME0        120000     40000000            0   \n",
       "18         Muon          Muon RPC         10000     40000000            0   \n",
       "\n",
       "    Link Efficiency (J/bit)  Op Efficiency (J/op)  PU 200  \n",
       "0              2.220000e-11                     0   1.440  \n",
       "1              2.220000e-11                     0   0.720  \n",
       "2              2.220000e-11                     0   0.430  \n",
       "3              2.220000e-11                     0   0.010  \n",
       "4              2.220000e-11                     0   0.240  \n",
       "5              2.220000e-11                     0   0.440  \n",
       "6              2.220000e-11                     0   0.600  \n",
       "7              2.220000e-11                     0   0.240  \n",
       "8              2.220000e-11                     0   0.030  \n",
       "9              2.220000e-11                     0   0.060  \n",
       "10             2.220000e-11                     0   3.000  \n",
       "11             2.220000e-11                     0   0.150  \n",
       "12             2.220000e-11                     0   0.050  \n",
       "13             2.220000e-11                     0   0.150  \n",
       "14             2.220000e-11                     0   0.470  \n",
       "15             2.220000e-11                     0   0.003  \n",
       "16             2.220000e-11                     0   0.002  \n",
       "17             2.220000e-11                     0   0.120  \n",
       "18             2.220000e-11                     0   0.010  "
      ]
     },
     "execution_count": 3,
     "metadata": {},
     "output_type": "execute_result"
    }
   ],
   "source": [
    "run5_system.detectors"
   ]
  },
  {
   "cell_type": "code",
   "execution_count": 4,
   "metadata": {},
   "outputs": [],
   "source": [
    "#import the data predicting wall time scaling by pileup\n",
    "scaling = pd.read_excel(\"wall time scaling.xlsx\", sheet_name=\"Data\")\n",
    "#fit a polynomial to this data for CPU and GPU runtimes\n",
    "fit_poly = lambda x, k3, k2, k1: k3 * x ** 3 + k2 * x ** 2 + k1 * x\n",
    "k, cv = curve_fit(fit_poly, scaling[\"Size\"], scaling[\"Wall Time\"])\n",
    "k_gpu, cv_gpu = curve_fit(fit_poly, scaling[\"Size\"], scaling[\"Wall Time GPU\"])"
   ]
  },
  {
   "cell_type": "code",
   "execution_count": 5,
   "metadata": {},
   "outputs": [],
   "source": [
    "#define a dictionary with functions defining the scaling of trigger runtimes with incoming data\n",
    "funcs = {\"Global\": lambda x: fit_poly(x, *k), \"Intermediate\": lambda x: x / 2.0e6}\n",
    "funcs_gpu = {\"Global\": lambda x: fit_poly(x, *k_gpu), \"Intermediate\": lambda x: x / 2.0e6}"
   ]
  },
  {
   "cell_type": "code",
   "execution_count": 8,
   "metadata": {},
   "outputs": [
    {
     "name": "stderr",
     "output_type": "stream",
     "text": [
      "/Users/wilkie/code/system_flow/systemflow/classifier.py:202: IntegrationWarning: The maximum number of subdivisions (50) has been achieved.\n",
      "  If increasing the limit yields no improvement it is advised to analyze \n",
      "  the integrand in order to determine the difficulties.  If the position of a \n",
      "  local difficulty can be determined (singularity, discontinuity) one will \n",
      "  probably gain from splitting up the interval and calling the integrator \n",
      "  on the subranges.  Perhaps a special-purpose integrator should be used.\n",
      "  fit = lambda l: np.abs(self.egamma_rate - quad(lambda x: self.exp_dist(x, l) * interpolator(x), np.min(xs), np.max(xs))[0])\n",
      "/Users/wilkie/code/system_flow/systemflow/classifier.py:427: IntegrationWarning: The maximum number of subdivisions (50) has been achieved.\n",
      "  If increasing the limit yields no improvement it is advised to analyze \n",
      "  the integrand in order to determine the difficulties.  If the position of a \n",
      "  local difficulty can be determined (singularity, discontinuity) one will \n",
      "  probably gain from splitting up the interval and calling the integrator \n",
      "  on the subranges.  Perhaps a special-purpose integrator should be used.\n",
      "  trigger_rate = lambda l: quad(lambda x: exp_dist(x, l) * efficiency_fit(x), np.min(xs2), np.max(xs2))[0]\n"
     ]
    }
   ],
   "source": [
    "ex_run3 = construct_graph(run3_system.detectors, run3_system.processors, run3_system.globals, funcs)"
   ]
  },
  {
   "cell_type": "code",
   "execution_count": 13,
   "metadata": {},
   "outputs": [
    {
     "name": "stderr",
     "output_type": "stream",
     "text": [
      "/Users/wilkie/code/system_flow/systemflow/classifier.py:202: IntegrationWarning: The maximum number of subdivisions (50) has been achieved.\n",
      "  If increasing the limit yields no improvement it is advised to analyze \n",
      "  the integrand in order to determine the difficulties.  If the position of a \n",
      "  local difficulty can be determined (singularity, discontinuity) one will \n",
      "  probably gain from splitting up the interval and calling the integrator \n",
      "  on the subranges.  Perhaps a special-purpose integrator should be used.\n",
      "  fit = lambda l: np.abs(self.egamma_rate - quad(lambda x: self.exp_dist(x, l) * interpolator(x), np.min(xs), np.max(xs))[0])\n",
      "/Users/wilkie/code/system_flow/systemflow/classifier.py:427: IntegrationWarning: The maximum number of subdivisions (50) has been achieved.\n",
      "  If increasing the limit yields no improvement it is advised to analyze \n",
      "  the integrand in order to determine the difficulties.  If the position of a \n",
      "  local difficulty can be determined (singularity, discontinuity) one will \n",
      "  probably gain from splitting up the interval and calling the integrator \n",
      "  on the subranges.  Perhaps a special-purpose integrator should be used.\n",
      "  trigger_rate = lambda l: quad(lambda x: exp_dist(x, l) * efficiency_fit(x), np.min(xs2), np.max(xs2))[0]\n"
     ]
    }
   ],
   "source": [
    "ex_run5 = construct_graph(run5_system.detectors, run5_system.processors, run5_system.globals, funcs)"
   ]
  },
  {
   "cell_type": "code",
   "execution_count": 14,
   "metadata": {},
   "outputs": [
    {
     "name": "stderr",
     "output_type": "stream",
     "text": [
      "/Users/wilkie/code/system_flow/systemflow/classifier.py:202: IntegrationWarning: The maximum number of subdivisions (50) has been achieved.\n",
      "  If increasing the limit yields no improvement it is advised to analyze \n",
      "  the integrand in order to determine the difficulties.  If the position of a \n",
      "  local difficulty can be determined (singularity, discontinuity) one will \n",
      "  probably gain from splitting up the interval and calling the integrator \n",
      "  on the subranges.  Perhaps a special-purpose integrator should be used.\n",
      "  fit = lambda l: np.abs(self.egamma_rate - quad(lambda x: self.exp_dist(x, l) * interpolator(x), np.min(xs), np.max(xs))[0])\n",
      "/Users/wilkie/code/system_flow/systemflow/classifier.py:427: IntegrationWarning: The maximum number of subdivisions (50) has been achieved.\n",
      "  If increasing the limit yields no improvement it is advised to analyze \n",
      "  the integrand in order to determine the difficulties.  If the position of a \n",
      "  local difficulty can be determined (singularity, discontinuity) one will \n",
      "  probably gain from splitting up the interval and calling the integrator \n",
      "  on the subranges.  Perhaps a special-purpose integrator should be used.\n",
      "  trigger_rate = lambda l: quad(lambda x: exp_dist(x, l) * efficiency_fit(x), np.min(xs2), np.max(xs2))[0]\n"
     ]
    }
   ],
   "source": [
    "ex_run5_gpu = construct_graph(run5_system.detectors, run5_system.processors, run5_system.globals, funcs_gpu)"
   ]
  },
  {
   "cell_type": "code",
   "execution_count": 15,
   "metadata": {},
   "outputs": [],
   "source": [
    "from copy import deepcopy"
   ]
  },
  {
   "cell_type": "code",
   "execution_count": 16,
   "metadata": {},
   "outputs": [],
   "source": [
    "ex_run5_l1t_gpu = deepcopy(ex_run5_gpu)\n",
    "ex_run5_l1t_gpu.nodes[\"Intermediate\"][\"classifier\"].skill_boost = 0.40"
   ]
  },
  {
   "cell_type": "code",
   "execution_count": 17,
   "metadata": {},
   "outputs": [],
   "source": [
    "def extract_results(graph):\n",
    "\n",
    "    power = graph.graph[\"op power\"] + graph.graph[\"link power\"]\n",
    "    confusion = graph.graph[\"performance\"]\n",
    "\n",
    "    return power, confusion"
   ]
  },
  {
   "cell_type": "code",
   "execution_count": 18,
   "metadata": {},
   "outputs": [],
   "source": [
    "def vary_system(graph, it_reduction: float):\n",
    "    graph = deepcopy(graph)\n",
    "    graph.nodes[\"Inner Tracker\"][\"sample data\"] = it_reduction * graph.nodes[\"Inner Tracker\"][\"sample data\"]\n",
    "    \n",
    "    graph = update_throughput(graph)\n",
    "\n",
    "    power = graph.graph[\"op power\"] + graph.graph[\"link power\"]\n",
    "    confusion = graph.graph[\"performance\"]\n",
    "\n",
    "    return power, confusion, graph"
   ]
  },
  {
   "cell_type": "code",
   "execution_count": 19,
   "metadata": {},
   "outputs": [],
   "source": [
    "baseline = vary_system(ex_run5, 0.0)"
   ]
  },
  {
   "cell_type": "code",
   "execution_count": 20,
   "metadata": {},
   "outputs": [
    {
     "data": {
      "text/plain": [
       "np.float64(32.91216194527279)"
      ]
     },
     "execution_count": 20,
     "metadata": {},
     "output_type": "execute_result"
    }
   ],
   "source": [
    "baseline[0] / 1e6 / density_scale_model(ex_run5.graph[\"globals\"][\"Year\"][0])"
   ]
  },
  {
   "cell_type": "code",
   "execution_count": 21,
   "metadata": {},
   "outputs": [],
   "source": [
    "#vary this accept rate from today's rate to the planned Run-5 \n",
    "it_reductions = np.linspace(1.0, 0.40, 101)"
   ]
  },
  {
   "cell_type": "code",
   "execution_count": 22,
   "metadata": {},
   "outputs": [],
   "source": [
    "res_r5 = [vary_system(ex_run5, r) for r in it_reductions]"
   ]
  },
  {
   "cell_type": "code",
   "execution_count": 23,
   "metadata": {},
   "outputs": [],
   "source": [
    "res_r5_gpu = [vary_system(ex_run5_gpu, r) for r in it_reductions]"
   ]
  },
  {
   "cell_type": "code",
   "execution_count": 24,
   "metadata": {},
   "outputs": [],
   "source": [
    "res_r5_l1t_gpu = [vary_system(ex_run5_l1t_gpu, r) for r in it_reductions]"
   ]
  },
  {
   "cell_type": "code",
   "execution_count": 25,
   "metadata": {},
   "outputs": [],
   "source": [
    "def extract_metrics(results):\n",
    "    all_confusion = np.array([r[1] for r in results])\n",
    "\n",
    "    all_power = [r[0] / density_scale_model(r[2].graph[\"globals\"][\"Year\"][0]) for r in results]\n",
    "    all_power = np.array(all_power)\n",
    "\n",
    "    all_recall = np.array([recall(all_confusion[i,:,:]) for i in range(all_confusion.shape[0])])\n",
    "    all_precision = np.array([precision(all_confusion[i,:,:]) for i in range(all_confusion.shape[0])])\n",
    "    all_f1 = np.array([f1_score(all_confusion[i,:,:]) for i in range(all_confusion.shape[0])])\n",
    "    productivity = np.array([np.sum(get_passed(all_confusion[i,:,:])) for i in range(all_confusion.shape[0])])\n",
    "\n",
    "    metrics = {\"confusion\": all_confusion,\n",
    "               \"power\": all_power,\n",
    "               \"recall\": all_recall,\n",
    "               \"precision\": all_precision,\n",
    "               \"f1 score\": all_f1,\n",
    "               \"productivity\": all_recall * productivity}\n",
    "\n",
    "    return metrics"
   ]
  },
  {
   "cell_type": "code",
   "execution_count": 26,
   "metadata": {},
   "outputs": [],
   "source": [
    "run5_metrics = extract_metrics(res_r5)"
   ]
  },
  {
   "cell_type": "code",
   "execution_count": 27,
   "metadata": {},
   "outputs": [],
   "source": [
    "run5_metrics_gpu = extract_metrics(res_r5_gpu)"
   ]
  },
  {
   "cell_type": "code",
   "execution_count": 28,
   "metadata": {},
   "outputs": [],
   "source": [
    "run5_metrics_l1t_gpu = extract_metrics(res_r5_l1t_gpu)"
   ]
  },
  {
   "cell_type": "code",
   "execution_count": 29,
   "metadata": {},
   "outputs": [
    {
     "data": {
      "text/plain": [
       "array([0.79427239, 0.79427239, 0.79427239, 0.79427239, 0.79427239,\n",
       "       0.79427239, 0.79427239, 0.79427239, 0.79427239, 0.79427239,\n",
       "       0.79427239, 0.79427239, 0.79427239, 0.79427239, 0.79427239,\n",
       "       0.79427239, 0.79427239, 0.79427239, 0.79427239, 0.79427239,\n",
       "       0.79427239, 0.79427239, 0.79427239, 0.79427239, 0.79427239,\n",
       "       0.79427239, 0.79427239, 0.79427239, 0.79427239, 0.79427239,\n",
       "       0.79427239, 0.79427239, 0.79427239, 0.79427239, 0.79427239,\n",
       "       0.79427239, 0.79427239, 0.79427239, 0.79427239, 0.79427239,\n",
       "       0.79427239, 0.79427239, 0.79427239, 0.79427239, 0.79427239,\n",
       "       0.79427239, 0.79427239, 0.79427239, 0.79427239, 0.79427239,\n",
       "       0.79427239, 0.79427239, 0.79427239, 0.79427239, 0.79427239,\n",
       "       0.79427239, 0.79427239, 0.79427239, 0.79427239, 0.79427239,\n",
       "       0.79427239, 0.79427239, 0.79427239, 0.79427239, 0.79427239,\n",
       "       0.79427239, 0.79427239, 0.79427239, 0.79427239, 0.79427239,\n",
       "       0.79427239, 0.79427239, 0.79427239, 0.79427239, 0.79427239,\n",
       "       0.79427239, 0.79427239, 0.79427239, 0.79427239, 0.79427239,\n",
       "       0.79427239, 0.79427239, 0.79427239, 0.79427239, 0.79427239,\n",
       "       0.79427239, 0.79427239, 0.79427239, 0.79427239, 0.79427239,\n",
       "       0.79427239, 0.79427239, 0.79427239, 0.79427239, 0.79427239,\n",
       "       0.79427239, 0.79427239, 0.79427239, 0.79427239, 0.79427239,\n",
       "       0.79427239])"
      ]
     },
     "execution_count": 29,
     "metadata": {},
     "output_type": "execute_result"
    }
   ],
   "source": [
    "run5_metrics_l1t_gpu[\"f1 score\"]"
   ]
  },
  {
   "cell_type": "code",
   "execution_count": 30,
   "metadata": {},
   "outputs": [],
   "source": [
    "output_rate = 7.5e3"
   ]
  },
  {
   "cell_type": "code",
   "execution_count": 31,
   "metadata": {},
   "outputs": [
    {
     "data": {
      "application/vnd.plotly.v1+json": {
       "config": {
        "plotlyServerURL": "https://plot.ly"
       },
       "data": [
        {
         "name": "Baseline",
         "type": "scatter",
         "x": [
          0,
          0.6000000000000005,
          1.200000000000001,
          1.8000000000000016,
          2.400000000000002,
          3.0000000000000027,
          3.600000000000003,
          4.200000000000004,
          4.800000000000004,
          5.400000000000005,
          6.000000000000005,
          6.600000000000006,
          7.200000000000006,
          7.799999999999995,
          8.399999999999997,
          8.999999999999996,
          9.599999999999998,
          10.199999999999998,
          10.799999999999999,
          11.399999999999999,
          12,
          12.6,
          13.200000000000001,
          13.8,
          14.400000000000002,
          15.000000000000002,
          15.600000000000003,
          16.200000000000003,
          16.800000000000004,
          17.400000000000006,
          17.999999999999993,
          18.599999999999994,
          19.199999999999996,
          19.799999999999997,
          20.399999999999995,
          20.999999999999996,
          21.599999999999998,
          22.199999999999996,
          22.799999999999997,
          23.4,
          24,
          24.6,
          25.2,
          25.8,
          26.400000000000002,
          27,
          27.6,
          28.200000000000003,
          28.800000000000004,
          29.400000000000006,
          30.000000000000004,
          30.600000000000005,
          31.200000000000006,
          31.800000000000004,
          32.400000000000006,
          33.00000000000001,
          33.60000000000001,
          34.20000000000001,
          34.80000000000001,
          35.4,
          36,
          36.6,
          37.2,
          37.8,
          38.4,
          39,
          39.6,
          40.2,
          40.800000000000004,
          41.400000000000006,
          41.99999999999999,
          42.599999999999994,
          43.199999999999996,
          43.8,
          44.39999999999999,
          44.99999999999999,
          45.599999999999994,
          46.199999999999996,
          46.8,
          47.4,
          48,
          48.6,
          49.2,
          49.8,
          50.4,
          51,
          51.6,
          52.2,
          52.800000000000004,
          53.400000000000006,
          54,
          54.6,
          55.2,
          55.800000000000004,
          56.400000000000006,
          57.00000000000001,
          57.60000000000001,
          58.199999999999996,
          58.8,
          59.4,
          60
         ],
         "y": [
          0.057134681077423886,
          0.057277447106180136,
          0.05742069681242075,
          0.05756443227564687,
          0.05770865558623489,
          0.05785336884550359,
          0.05799857416578175,
          0.05814427367047633,
          0.05829046949414105,
          0.05843716378254552,
          0.058584358692744816,
          0.05873205639314958,
          0.05888025906359669,
          0.05902896889542027,
          0.059178188091523344,
          0.059327918866450016,
          0.05947816344645812,
          0.05962892406959232,
          0.0597802029857579,
          0.05993200245679502,
          0.060084324756553405,
          0.06023717217096771,
          0.06039054699813347,
          0.06054445154838336,
          0.06069888814436425,
          0.0608538591211148,
          0.061009366826143434,
          0.06116541361950704,
          0.06132200187389028,
          0.061479133974685296,
          0.061636812320072176,
          0.06179503932109993,
          0.06195381740176805,
          0.062113148999108726,
          0.06227303656326959,
          0.06243348255759708,
          0.06259448945872051,
          0.06275605975663663,
          0.06291819595479489,
          0.06308090057018333,
          0.06324417613341496,
          0.06340802518881515,
          0.06357245029450909,
          0.06373745402251055,
          0.0639030389588107,
          0.06406920770346808,
          0.0642359628706988,
          0.0644033070889678,
          0.0645712430010806,
          0.0647397732642756,
          0.06490890055031742,
          0.06507862754559057,
          0.06524895695119409,
          0.0654198914830367,
          0.06559143387193282,
          0.06576358686369928,
          0.0659363532192525,
          0.06610973571470694,
          0.0662837371414737,
          0.06645836030636022,
          0.0666336080316707,
          0.06680948315530703,
          0.06698598853087098,
          0.06716312702776642,
          0.06734090153130318,
          0.06751931494280088,
          0.06769837017969418,
          0.06787807017563846,
          0.06805841788061642,
          0.06823941626104549,
          0.06842106829988602,
          0.06860337699675044,
          0.06878634536801291,
          0.06896997644692023,
          0.06915427328370334,
          0.06933923894568972,
          0.06952487651741661,
          0.06971118910074524,
          0.06989817981497577,
          0.07008585179696325,
          0.07027420820123434,
          0.07046325220010502,
          0.0706529869837992,
          0.07084341576056821,
          0.07103454175681122,
          0.07122636821719655,
          0.07141889840478413,
          0.07161213560114854,
          0.07180608310650335,
          0.0720007442398262,
          0.072196122338985,
          0.07239222076086493,
          0.0725890428814967,
          0.07278659209618554,
          0.0729848718196413,
          0.0731838854861097,
          0.07338363654950426,
          0.07358412848353968,
          0.07378536478186602,
          0.07398734895820391,
          0.07419008454648089
         ]
        },
        {
         "name": "+GPU",
         "type": "scatter",
         "x": [
          0,
          0.6000000000000005,
          1.200000000000001,
          1.8000000000000016,
          2.400000000000002,
          3.0000000000000027,
          3.600000000000003,
          4.200000000000004,
          4.800000000000004,
          5.400000000000005,
          6.000000000000005,
          6.600000000000006,
          7.200000000000006,
          7.799999999999995,
          8.399999999999997,
          8.999999999999996,
          9.599999999999998,
          10.199999999999998,
          10.799999999999999,
          11.399999999999999,
          12,
          12.6,
          13.200000000000001,
          13.8,
          14.400000000000002,
          15.000000000000002,
          15.600000000000003,
          16.200000000000003,
          16.800000000000004,
          17.400000000000006,
          17.999999999999993,
          18.599999999999994,
          19.199999999999996,
          19.799999999999997,
          20.399999999999995,
          20.999999999999996,
          21.599999999999998,
          22.199999999999996,
          22.799999999999997,
          23.4,
          24,
          24.6,
          25.2,
          25.8,
          26.400000000000002,
          27,
          27.6,
          28.200000000000003,
          28.800000000000004,
          29.400000000000006,
          30.000000000000004,
          30.600000000000005,
          31.200000000000006,
          31.800000000000004,
          32.400000000000006,
          33.00000000000001,
          33.60000000000001,
          34.20000000000001,
          34.80000000000001,
          35.4,
          36,
          36.6,
          37.2,
          37.8,
          38.4,
          39,
          39.6,
          40.2,
          40.800000000000004,
          41.400000000000006,
          41.99999999999999,
          42.599999999999994,
          43.199999999999996,
          43.8,
          44.39999999999999,
          44.99999999999999,
          45.599999999999994,
          46.199999999999996,
          46.8,
          47.4,
          48,
          48.6,
          49.2,
          49.8,
          50.4,
          51,
          51.6,
          52.2,
          52.800000000000004,
          53.400000000000006,
          54,
          54.6,
          55.2,
          55.800000000000004,
          56.400000000000006,
          57.00000000000001,
          57.60000000000001,
          58.199999999999996,
          58.8,
          59.4,
          60
         ],
         "y": [
          0.11091371870653044,
          0.11119056179184308,
          0.11146834162070066,
          0.1117470622150142,
          0.1120267276176982,
          0.1123073418928,
          0.11258890912563033,
          0.1128714334228947,
          0.11315491891282557,
          0.11343936974531586,
          0.11372479009205289,
          0.11401118414665389,
          0.11429855612480176,
          0.11458691026438247,
          0.1148762508256231,
          0.11516658209123078,
          0.11545790836653318,
          0.1157502339796191,
          0.11604356328148109,
          0.11633790064615823,
          0.11663325047088055,
          0.11692961717621407,
          0.11722700520620725,
          0.11752541902853834,
          0.1178248631346635,
          0.11812534203996664,
          0.11842686028390983,
          0.11872942243018489,
          0.11903303306686634,
          0.11933769680656511,
          0.11964341828658365,
          0.119950202169072,
          0.12025805314118518,
          0.12056697591524144,
          0.12087697522888198,
          0.12118805584523167,
          0.121500222553061,
          0.12181348016694929,
          0.12212783352744867,
          0.1224432875012501,
          0.1227598469813497,
          0.12307751688721709,
          0.12339630216496439,
          0.12371620778751663,
          0.12403723875478381,
          0.12435940009383352,
          0.12468269685906541,
          0.12500713413238693,
          0.1253327170233898,
          0.12565945066952866,
          0.12598734023630032,
          0.1263163909174246,
          0.12664660793502688,
          0.12697799653982111,
          0.1273105620112953,
          0.12764430965789744,
          0.12797924481722348,
          0.1283153728562064,
          0.12865269917130664,
          0.12899122918870412,
          0.1293309683644918,
          0.12967192218487034,
          0.13001409616634454,
          0.13035749585592124,
          0.13070212683130855,
          0.13104799470111653,
          0.1313951051050598,
          0.13174346371416132,
          0.13209307623095765,
          0.1324439483897061,
          0.13279608595659323,
          0.1331494947299449,
          0.13350418054043803,
          0.13386014925131415,
          0.134217406758594,
          0.13457595899129443,
          0.1349358119116465,
          0.13529697151531556,
          0.13565944383162265,
          0.136023234923768,
          0.13638835088905613,
          0.13675479785912228,
          0.1371225820001612,
          0.1374917095131573,
          0.1378621866341168,
          0.13823401963430135,
          0.1386072148204637,
          0.13898177853508542,
          0.13935771715661577,
          0.13973503709971316,
          0.14011374481548797,
          0.14049384679174767,
          0.1408753495532432,
          0.1412582596619183,
          0.14164258371715943,
          0.14202832835604906,
          0.14241550025361988,
          0.14280410612311134,
          0.14319415271622837,
          0.14358564682340197,
          0.1439785952740518
         ]
        },
        {
         "name": "+L1 Tracks, GPU",
         "type": "scatter",
         "x": [
          0,
          0.6000000000000005,
          1.200000000000001,
          1.8000000000000016,
          2.400000000000002,
          3.0000000000000027,
          3.600000000000003,
          4.200000000000004,
          4.800000000000004,
          5.400000000000005,
          6.000000000000005,
          6.600000000000006,
          7.200000000000006,
          7.799999999999995,
          8.399999999999997,
          8.999999999999996,
          9.599999999999998,
          10.199999999999998,
          10.799999999999999,
          11.399999999999999,
          12,
          12.6,
          13.200000000000001,
          13.8,
          14.400000000000002,
          15.000000000000002,
          15.600000000000003,
          16.200000000000003,
          16.800000000000004,
          17.400000000000006,
          17.999999999999993,
          18.599999999999994,
          19.199999999999996,
          19.799999999999997,
          20.399999999999995,
          20.999999999999996,
          21.599999999999998,
          22.199999999999996,
          22.799999999999997,
          23.4,
          24,
          24.6,
          25.2,
          25.8,
          26.400000000000002,
          27,
          27.6,
          28.200000000000003,
          28.800000000000004,
          29.400000000000006,
          30.000000000000004,
          30.600000000000005,
          31.200000000000006,
          31.800000000000004,
          32.400000000000006,
          33.00000000000001,
          33.60000000000001,
          34.20000000000001,
          34.80000000000001,
          35.4,
          36,
          36.6,
          37.2,
          37.8,
          38.4,
          39,
          39.6,
          40.2,
          40.800000000000004,
          41.400000000000006,
          41.99999999999999,
          42.599999999999994,
          43.199999999999996,
          43.8,
          44.39999999999999,
          44.99999999999999,
          45.599999999999994,
          46.199999999999996,
          46.8,
          47.4,
          48,
          48.6,
          49.2,
          49.8,
          50.4,
          51,
          51.6,
          52.2,
          52.800000000000004,
          53.400000000000006,
          54,
          54.6,
          55.2,
          55.800000000000004,
          56.400000000000006,
          57.00000000000001,
          57.60000000000001,
          58.199999999999996,
          58.8,
          59.4,
          60
         ],
         "y": [
          0.2297487508548773,
          0.23032220980702722,
          0.2308976091545788,
          0.23147495722864336,
          0.23205426240383933,
          0.2326355330985608,
          0.23321877777524738,
          0.2338040049406566,
          0.23439122314613792,
          0.23498044098790863,
          0.23557166710733213,
          0.23616491019119798,
          0.23676017897200352,
          0.23735748222823821,
          0.23795682878466975,
          0.23855822751263184,
          0.23916168733031504,
          0.23976721720305844,
          0.24037482614364436,
          0.240984523212595,
          0.24159631751847083,
          0.2422102182181714,
          0.2428262345172387,
          0.24344437567016222,
          0.244064650980686,
          0.24468706980211882,
          0.2453116415376458,
          0.24593837564064258,
          0.24656728161499192,
          0.24719836901540213,
          0.24783164744772856,
          0.24846712656929693,
          0.24910481608922863,
          0.2497447257687696,
          0.25038686542162053,
          0.25103124491427004,
          0.25167787416632964,
          0.2523267631508725,
          0.2529779218947729,
          0.2536313604790498,
          0.25428708903921193,
          0.25494511776560586,
          0.2556054569037668,
          0.2562681167547709,
          0.2569331076755921,
          0.25760044007945937,
          0.258270124436219,
          0.25894217127269703,
          0.25961659117306646,
          0.2602933947792162,
          0.2609725927911227,
          0.261654195967225,
          0.262338215124802,
          0.26302466114035244,
          0.2637135449499784,
          0.2644048775497711,
          0.2650986699961995,
          0.26579493340650273,
          0.26649367895908393,
          0.26719491789390853,
          0.26789866151290487,
          0.26860492118036755,
          0.2693137083233641,
          0.2700250344321454,
          0.27073891106055786,
          0.27145534982645964,
          0.27217436241213977,
          0.27289596056474064,
          0.2736201560966833,
          0.274346960886096,
          0.2750763868772467,
          0.275808446080978,
          0.27654315057514556,
          0.2772805125050605,
          0.27802054408393423,
          0.2787632575933275,
          0.27950866538360225,
          0.28025677987437747,
          0.281007613554988,
          0.2817611789849469,
          0.2825174887944126,
          0.2832765556846571,
          0.2840383924285408,
          0.28480301187098833,
          0.2855704269294698,
          0.28634065059448516,
          0.2871136959300517,
          0.2878895760741965,
          0.2886683042394525,
          0.2894498937133563,
          0.2902343578589536,
          0.2910217101153053,
          0.29181196399799864,
          0.2926051330996633,
          0.2934012310904896,
          0.29420027171875257,
          0.29500226881133873,
          0.2958072362742778,
          0.29661518809327814,
          0.29742613833426695,
          0.2982401011439343
         ]
        }
       ],
       "layout": {
        "annotations": [
         {
          "font": {
           "size": 14
          },
          "showarrow": false,
          "text": "Pileup = 200<br>L1T Rejection = 53:1",
          "x": -0.1,
          "xref": "paper",
          "y": -0.15,
          "yref": "paper"
         }
        ],
        "height": 600,
        "template": {
         "data": {
          "bar": [
           {
            "error_x": {
             "color": "#2a3f5f"
            },
            "error_y": {
             "color": "#2a3f5f"
            },
            "marker": {
             "line": {
              "color": "#E5ECF6",
              "width": 0.5
             },
             "pattern": {
              "fillmode": "overlay",
              "size": 10,
              "solidity": 0.2
             }
            },
            "type": "bar"
           }
          ],
          "barpolar": [
           {
            "marker": {
             "line": {
              "color": "#E5ECF6",
              "width": 0.5
             },
             "pattern": {
              "fillmode": "overlay",
              "size": 10,
              "solidity": 0.2
             }
            },
            "type": "barpolar"
           }
          ],
          "carpet": [
           {
            "aaxis": {
             "endlinecolor": "#2a3f5f",
             "gridcolor": "white",
             "linecolor": "white",
             "minorgridcolor": "white",
             "startlinecolor": "#2a3f5f"
            },
            "baxis": {
             "endlinecolor": "#2a3f5f",
             "gridcolor": "white",
             "linecolor": "white",
             "minorgridcolor": "white",
             "startlinecolor": "#2a3f5f"
            },
            "type": "carpet"
           }
          ],
          "choropleth": [
           {
            "colorbar": {
             "outlinewidth": 0,
             "ticks": ""
            },
            "type": "choropleth"
           }
          ],
          "contour": [
           {
            "colorbar": {
             "outlinewidth": 0,
             "ticks": ""
            },
            "colorscale": [
             [
              0,
              "#0d0887"
             ],
             [
              0.1111111111111111,
              "#46039f"
             ],
             [
              0.2222222222222222,
              "#7201a8"
             ],
             [
              0.3333333333333333,
              "#9c179e"
             ],
             [
              0.4444444444444444,
              "#bd3786"
             ],
             [
              0.5555555555555556,
              "#d8576b"
             ],
             [
              0.6666666666666666,
              "#ed7953"
             ],
             [
              0.7777777777777778,
              "#fb9f3a"
             ],
             [
              0.8888888888888888,
              "#fdca26"
             ],
             [
              1,
              "#f0f921"
             ]
            ],
            "type": "contour"
           }
          ],
          "contourcarpet": [
           {
            "colorbar": {
             "outlinewidth": 0,
             "ticks": ""
            },
            "type": "contourcarpet"
           }
          ],
          "heatmap": [
           {
            "colorbar": {
             "outlinewidth": 0,
             "ticks": ""
            },
            "colorscale": [
             [
              0,
              "#0d0887"
             ],
             [
              0.1111111111111111,
              "#46039f"
             ],
             [
              0.2222222222222222,
              "#7201a8"
             ],
             [
              0.3333333333333333,
              "#9c179e"
             ],
             [
              0.4444444444444444,
              "#bd3786"
             ],
             [
              0.5555555555555556,
              "#d8576b"
             ],
             [
              0.6666666666666666,
              "#ed7953"
             ],
             [
              0.7777777777777778,
              "#fb9f3a"
             ],
             [
              0.8888888888888888,
              "#fdca26"
             ],
             [
              1,
              "#f0f921"
             ]
            ],
            "type": "heatmap"
           }
          ],
          "heatmapgl": [
           {
            "colorbar": {
             "outlinewidth": 0,
             "ticks": ""
            },
            "colorscale": [
             [
              0,
              "#0d0887"
             ],
             [
              0.1111111111111111,
              "#46039f"
             ],
             [
              0.2222222222222222,
              "#7201a8"
             ],
             [
              0.3333333333333333,
              "#9c179e"
             ],
             [
              0.4444444444444444,
              "#bd3786"
             ],
             [
              0.5555555555555556,
              "#d8576b"
             ],
             [
              0.6666666666666666,
              "#ed7953"
             ],
             [
              0.7777777777777778,
              "#fb9f3a"
             ],
             [
              0.8888888888888888,
              "#fdca26"
             ],
             [
              1,
              "#f0f921"
             ]
            ],
            "type": "heatmapgl"
           }
          ],
          "histogram": [
           {
            "marker": {
             "pattern": {
              "fillmode": "overlay",
              "size": 10,
              "solidity": 0.2
             }
            },
            "type": "histogram"
           }
          ],
          "histogram2d": [
           {
            "colorbar": {
             "outlinewidth": 0,
             "ticks": ""
            },
            "colorscale": [
             [
              0,
              "#0d0887"
             ],
             [
              0.1111111111111111,
              "#46039f"
             ],
             [
              0.2222222222222222,
              "#7201a8"
             ],
             [
              0.3333333333333333,
              "#9c179e"
             ],
             [
              0.4444444444444444,
              "#bd3786"
             ],
             [
              0.5555555555555556,
              "#d8576b"
             ],
             [
              0.6666666666666666,
              "#ed7953"
             ],
             [
              0.7777777777777778,
              "#fb9f3a"
             ],
             [
              0.8888888888888888,
              "#fdca26"
             ],
             [
              1,
              "#f0f921"
             ]
            ],
            "type": "histogram2d"
           }
          ],
          "histogram2dcontour": [
           {
            "colorbar": {
             "outlinewidth": 0,
             "ticks": ""
            },
            "colorscale": [
             [
              0,
              "#0d0887"
             ],
             [
              0.1111111111111111,
              "#46039f"
             ],
             [
              0.2222222222222222,
              "#7201a8"
             ],
             [
              0.3333333333333333,
              "#9c179e"
             ],
             [
              0.4444444444444444,
              "#bd3786"
             ],
             [
              0.5555555555555556,
              "#d8576b"
             ],
             [
              0.6666666666666666,
              "#ed7953"
             ],
             [
              0.7777777777777778,
              "#fb9f3a"
             ],
             [
              0.8888888888888888,
              "#fdca26"
             ],
             [
              1,
              "#f0f921"
             ]
            ],
            "type": "histogram2dcontour"
           }
          ],
          "mesh3d": [
           {
            "colorbar": {
             "outlinewidth": 0,
             "ticks": ""
            },
            "type": "mesh3d"
           }
          ],
          "parcoords": [
           {
            "line": {
             "colorbar": {
              "outlinewidth": 0,
              "ticks": ""
             }
            },
            "type": "parcoords"
           }
          ],
          "pie": [
           {
            "automargin": true,
            "type": "pie"
           }
          ],
          "scatter": [
           {
            "fillpattern": {
             "fillmode": "overlay",
             "size": 10,
             "solidity": 0.2
            },
            "type": "scatter"
           }
          ],
          "scatter3d": [
           {
            "line": {
             "colorbar": {
              "outlinewidth": 0,
              "ticks": ""
             }
            },
            "marker": {
             "colorbar": {
              "outlinewidth": 0,
              "ticks": ""
             }
            },
            "type": "scatter3d"
           }
          ],
          "scattercarpet": [
           {
            "marker": {
             "colorbar": {
              "outlinewidth": 0,
              "ticks": ""
             }
            },
            "type": "scattercarpet"
           }
          ],
          "scattergeo": [
           {
            "marker": {
             "colorbar": {
              "outlinewidth": 0,
              "ticks": ""
             }
            },
            "type": "scattergeo"
           }
          ],
          "scattergl": [
           {
            "marker": {
             "colorbar": {
              "outlinewidth": 0,
              "ticks": ""
             }
            },
            "type": "scattergl"
           }
          ],
          "scattermapbox": [
           {
            "marker": {
             "colorbar": {
              "outlinewidth": 0,
              "ticks": ""
             }
            },
            "type": "scattermapbox"
           }
          ],
          "scatterpolar": [
           {
            "marker": {
             "colorbar": {
              "outlinewidth": 0,
              "ticks": ""
             }
            },
            "type": "scatterpolar"
           }
          ],
          "scatterpolargl": [
           {
            "marker": {
             "colorbar": {
              "outlinewidth": 0,
              "ticks": ""
             }
            },
            "type": "scatterpolargl"
           }
          ],
          "scatterternary": [
           {
            "marker": {
             "colorbar": {
              "outlinewidth": 0,
              "ticks": ""
             }
            },
            "type": "scatterternary"
           }
          ],
          "surface": [
           {
            "colorbar": {
             "outlinewidth": 0,
             "ticks": ""
            },
            "colorscale": [
             [
              0,
              "#0d0887"
             ],
             [
              0.1111111111111111,
              "#46039f"
             ],
             [
              0.2222222222222222,
              "#7201a8"
             ],
             [
              0.3333333333333333,
              "#9c179e"
             ],
             [
              0.4444444444444444,
              "#bd3786"
             ],
             [
              0.5555555555555556,
              "#d8576b"
             ],
             [
              0.6666666666666666,
              "#ed7953"
             ],
             [
              0.7777777777777778,
              "#fb9f3a"
             ],
             [
              0.8888888888888888,
              "#fdca26"
             ],
             [
              1,
              "#f0f921"
             ]
            ],
            "type": "surface"
           }
          ],
          "table": [
           {
            "cells": {
             "fill": {
              "color": "#EBF0F8"
             },
             "line": {
              "color": "white"
             }
            },
            "header": {
             "fill": {
              "color": "#C8D4E3"
             },
             "line": {
              "color": "white"
             }
            },
            "type": "table"
           }
          ]
         },
         "layout": {
          "annotationdefaults": {
           "arrowcolor": "#2a3f5f",
           "arrowhead": 0,
           "arrowwidth": 1
          },
          "autotypenumbers": "strict",
          "coloraxis": {
           "colorbar": {
            "outlinewidth": 0,
            "ticks": ""
           }
          },
          "colorscale": {
           "diverging": [
            [
             0,
             "#8e0152"
            ],
            [
             0.1,
             "#c51b7d"
            ],
            [
             0.2,
             "#de77ae"
            ],
            [
             0.3,
             "#f1b6da"
            ],
            [
             0.4,
             "#fde0ef"
            ],
            [
             0.5,
             "#f7f7f7"
            ],
            [
             0.6,
             "#e6f5d0"
            ],
            [
             0.7,
             "#b8e186"
            ],
            [
             0.8,
             "#7fbc41"
            ],
            [
             0.9,
             "#4d9221"
            ],
            [
             1,
             "#276419"
            ]
           ],
           "sequential": [
            [
             0,
             "#0d0887"
            ],
            [
             0.1111111111111111,
             "#46039f"
            ],
            [
             0.2222222222222222,
             "#7201a8"
            ],
            [
             0.3333333333333333,
             "#9c179e"
            ],
            [
             0.4444444444444444,
             "#bd3786"
            ],
            [
             0.5555555555555556,
             "#d8576b"
            ],
            [
             0.6666666666666666,
             "#ed7953"
            ],
            [
             0.7777777777777778,
             "#fb9f3a"
            ],
            [
             0.8888888888888888,
             "#fdca26"
            ],
            [
             1,
             "#f0f921"
            ]
           ],
           "sequentialminus": [
            [
             0,
             "#0d0887"
            ],
            [
             0.1111111111111111,
             "#46039f"
            ],
            [
             0.2222222222222222,
             "#7201a8"
            ],
            [
             0.3333333333333333,
             "#9c179e"
            ],
            [
             0.4444444444444444,
             "#bd3786"
            ],
            [
             0.5555555555555556,
             "#d8576b"
            ],
            [
             0.6666666666666666,
             "#ed7953"
            ],
            [
             0.7777777777777778,
             "#fb9f3a"
            ],
            [
             0.8888888888888888,
             "#fdca26"
            ],
            [
             1,
             "#f0f921"
            ]
           ]
          },
          "colorway": [
           "#636efa",
           "#EF553B",
           "#00cc96",
           "#ab63fa",
           "#FFA15A",
           "#19d3f3",
           "#FF6692",
           "#B6E880",
           "#FF97FF",
           "#FECB52"
          ],
          "font": {
           "color": "#2a3f5f"
          },
          "geo": {
           "bgcolor": "white",
           "lakecolor": "white",
           "landcolor": "#E5ECF6",
           "showlakes": true,
           "showland": true,
           "subunitcolor": "white"
          },
          "hoverlabel": {
           "align": "left"
          },
          "hovermode": "closest",
          "mapbox": {
           "style": "light"
          },
          "paper_bgcolor": "white",
          "plot_bgcolor": "#E5ECF6",
          "polar": {
           "angularaxis": {
            "gridcolor": "white",
            "linecolor": "white",
            "ticks": ""
           },
           "bgcolor": "#E5ECF6",
           "radialaxis": {
            "gridcolor": "white",
            "linecolor": "white",
            "ticks": ""
           }
          },
          "scene": {
           "xaxis": {
            "backgroundcolor": "#E5ECF6",
            "gridcolor": "white",
            "gridwidth": 2,
            "linecolor": "white",
            "showbackground": true,
            "ticks": "",
            "zerolinecolor": "white"
           },
           "yaxis": {
            "backgroundcolor": "#E5ECF6",
            "gridcolor": "white",
            "gridwidth": 2,
            "linecolor": "white",
            "showbackground": true,
            "ticks": "",
            "zerolinecolor": "white"
           },
           "zaxis": {
            "backgroundcolor": "#E5ECF6",
            "gridcolor": "white",
            "gridwidth": 2,
            "linecolor": "white",
            "showbackground": true,
            "ticks": "",
            "zerolinecolor": "white"
           }
          },
          "shapedefaults": {
           "line": {
            "color": "#2a3f5f"
           }
          },
          "ternary": {
           "aaxis": {
            "gridcolor": "white",
            "linecolor": "white",
            "ticks": ""
           },
           "baxis": {
            "gridcolor": "white",
            "linecolor": "white",
            "ticks": ""
           },
           "bgcolor": "#E5ECF6",
           "caxis": {
            "gridcolor": "white",
            "linecolor": "white",
            "ticks": ""
           }
          },
          "title": {
           "x": 0.05
          },
          "xaxis": {
           "automargin": true,
           "gridcolor": "white",
           "linecolor": "white",
           "ticks": "",
           "title": {
            "standoff": 15
           },
           "zerolinecolor": "white",
           "zerolinewidth": 2
          },
          "yaxis": {
           "automargin": true,
           "gridcolor": "white",
           "linecolor": "white",
           "ticks": "",
           "title": {
            "standoff": 15
           },
           "zerolinecolor": "white",
           "zerolinewidth": 2
          }
         }
        },
        "title": {
         "text": "Productivity of DAQ Systems by Inner Tracker Data Reduction"
        },
        "width": 800,
        "xaxis": {
         "title": {
          "text": "Inner Tracker Data Reduction (%)"
         }
        },
        "yaxis": {
         "title": {
          "text": "Productivity (Relevant Samples/kJ)"
         }
        }
       }
      }
     },
     "metadata": {},
     "output_type": "display_data"
    }
   ],
   "source": [
    "fig = go.Figure(data = \n",
    "                go.Scatter(x = (1 - it_reductions)* 100,\n",
    "                           y = run5_metrics[\"f1 score\"] * output_rate / run5_metrics[\"power\"] * 1000,\n",
    "                           name = \"Baseline\"))\n",
    "\n",
    "fig.add_trace(go.Scatter(x = (1 - it_reductions)* 100,\n",
    "                           y = run5_metrics_gpu[\"f1 score\"] * output_rate / run5_metrics_gpu[\"power\"] * 1000,\n",
    "                           name = \"+GPU\"))\n",
    "\n",
    "\n",
    "fig.add_trace(go.Scatter(x = (1 - it_reductions)* 100,\n",
    "                           y = run5_metrics_l1t_gpu[\"f1 score\"] * output_rate / run5_metrics_l1t_gpu[\"power\"] * 1000,\n",
    "                           name = \"+L1 Tracks, GPU\"))\n",
    "\n",
    "fig.update_layout(width =800, height = 600,\n",
    "                  title = \"Productivity of DAQ Systems by Inner Tracker Data Reduction\",\n",
    "                  xaxis_title = \"Inner Tracker Data Reduction (%)\",\n",
    "                  yaxis_title = \"Productivity (Relevant Samples/kJ)\")\n",
    "fig.add_annotation(x = -0.1, \n",
    "                   y = -0.15, \n",
    "                   showarrow=False,\n",
    "                   text = \"Pileup = 200<br>L1T Rejection = 53:1\", \n",
    "                   xref=\"paper\", \n",
    "                   yref=\"paper\",\n",
    "                   font = dict(size = 14))\n",
    "fig.show()"
   ]
  },
  {
   "cell_type": "code",
   "execution_count": 32,
   "metadata": {},
   "outputs": [
    {
     "data": {
      "application/vnd.plotly.v1+json": {
       "config": {
        "plotlyServerURL": "https://plot.ly"
       },
       "data": [
        {
         "name": "Baseline",
         "type": "scatter",
         "x": [
          0,
          0.6000000000000005,
          1.200000000000001,
          1.8000000000000016,
          2.400000000000002,
          3.0000000000000027,
          3.600000000000003,
          4.200000000000004,
          4.800000000000004,
          5.400000000000005,
          6.000000000000005,
          6.600000000000006,
          7.200000000000006,
          7.799999999999995,
          8.399999999999997,
          8.999999999999996,
          9.599999999999998,
          10.199999999999998,
          10.799999999999999,
          11.399999999999999,
          12,
          12.6,
          13.200000000000001,
          13.8,
          14.400000000000002,
          15.000000000000002,
          15.600000000000003,
          16.200000000000003,
          16.800000000000004,
          17.400000000000006,
          17.999999999999993,
          18.599999999999994,
          19.199999999999996,
          19.799999999999997,
          20.399999999999995,
          20.999999999999996,
          21.599999999999998,
          22.199999999999996,
          22.799999999999997,
          23.4,
          24,
          24.6,
          25.2,
          25.8,
          26.400000000000002,
          27,
          27.6,
          28.200000000000003,
          28.800000000000004,
          29.400000000000006,
          30.000000000000004,
          30.600000000000005,
          31.200000000000006,
          31.800000000000004,
          32.400000000000006,
          33.00000000000001,
          33.60000000000001,
          34.20000000000001,
          34.80000000000001,
          35.4,
          36,
          36.6,
          37.2,
          37.8,
          38.4,
          39,
          39.6,
          40.2,
          40.800000000000004,
          41.400000000000006,
          41.99999999999999,
          42.599999999999994,
          43.199999999999996,
          43.8,
          44.39999999999999,
          44.99999999999999,
          45.599999999999994,
          46.199999999999996,
          46.8,
          47.4,
          48,
          48.6,
          49.2,
          49.8,
          50.4,
          51,
          51.6,
          52.2,
          52.800000000000004,
          53.400000000000006,
          54,
          54.6,
          55.2,
          55.800000000000004,
          56.400000000000006,
          57.00000000000001,
          57.60000000000001,
          58.199999999999996,
          58.8,
          59.4,
          60
         ],
         "y": [
          51615479.80555213,
          51486826.42718968,
          51358380.184451625,
          51230140.918041304,
          51102108.46866202,
          50974282.67701709,
          50846663.38380984,
          50719250.429743566,
          50592043.6555216,
          50465042.90184726,
          50338248.009423845,
          50211658.818954706,
          50085275.17114312,
          49959096.90669243,
          49833123.86630595,
          49707355.89068699,
          49581792.82053886,
          49456434.496564895,
          49331280.7594684,
          49206331.449952684,
          49081586.40872107,
          48957045.47647689,
          48832708.493923426,
          48708575.30176403,
          48584645.74070201,
          48460919.65144067,
          48337396.87468333,
          48214077.251133315,
          48090960.62149393,
          47968046.8264685,
          47845335.70676033,
          47722827.10307276,
          47600520.85610909,
          47478416.80657264,
          47356514.79516672,
          47234814.66259466,
          47113316.24955977,
          46992019.39676536,
          46870923.94491475,
          46750029.73471125,
          46629336.6068582,
          46508844.40205889,
          46388552.96101666,
          46268462.12443481,
          46148571.73301666,
          46028881.627465524,
          45909391.64848473,
          45790101.636777595,
          45671011.433047414,
          45552120.877997525,
          45433429.81233123,
          45314938.07675186,
          45196645.51196271,
          45078551.958667114,
          44960657.2575684,
          44842961.249369845,
          44725463.77477481,
          44608164.67448659,
          44491063.78920849,
          44374160.95964385,
          44257456.02649596,
          44140948.830468185,
          44024639.21226378,
          43908527.01258611,
          43792612.07213846,
          43676894.231624156,
          43561373.331746526,
          43446049.213208884,
          43330921.716714524,
          43215990.68296679,
          43101255.952668995,
          42986717.36652443,
          42872374.76523643,
          42758227.98950832,
          42644276.88004341,
          42530521.27754501,
          42416961.02271645,
          42303595.95626103,
          42190425.91888208,
          42077450.751282915,
          41964670.29416684,
          41852084.38823718,
          41739692.874197245,
          41627495.592750356,
          41515492.38459983,
          41403683.09044899,
          41292067.55100115,
          41180645.60695962,
          41069417.09902772,
          40958381.86790877,
          40847539.75430607,
          40736890.59892296,
          40626434.24246275,
          40516170.52562873,
          40406099.289124265,
          40296220.37365263,
          40186533.619917154,
          40077038.86862118,
          39967735.96046798,
          39858624.7361609,
          39749705.036403246
         ]
        },
        {
         "name": "+GPU",
         "type": "scatter",
         "x": [
          0,
          0.6000000000000005,
          1.200000000000001,
          1.8000000000000016,
          2.400000000000002,
          3.0000000000000027,
          3.600000000000003,
          4.200000000000004,
          4.800000000000004,
          5.400000000000005,
          6.000000000000005,
          6.600000000000006,
          7.200000000000006,
          7.799999999999995,
          8.399999999999997,
          8.999999999999996,
          9.599999999999998,
          10.199999999999998,
          10.799999999999999,
          11.399999999999999,
          12,
          12.6,
          13.200000000000001,
          13.8,
          14.400000000000002,
          15.000000000000002,
          15.600000000000003,
          16.200000000000003,
          16.800000000000004,
          17.400000000000006,
          17.999999999999993,
          18.599999999999994,
          19.199999999999996,
          19.799999999999997,
          20.399999999999995,
          20.999999999999996,
          21.599999999999998,
          22.199999999999996,
          22.799999999999997,
          23.4,
          24,
          24.6,
          25.2,
          25.8,
          26.400000000000002,
          27,
          27.6,
          28.200000000000003,
          28.800000000000004,
          29.400000000000006,
          30.000000000000004,
          30.600000000000005,
          31.200000000000006,
          31.800000000000004,
          32.400000000000006,
          33.00000000000001,
          33.60000000000001,
          34.20000000000001,
          34.80000000000001,
          35.4,
          36,
          36.6,
          37.2,
          37.8,
          38.4,
          39,
          39.6,
          40.2,
          40.800000000000004,
          41.400000000000006,
          41.99999999999999,
          42.599999999999994,
          43.199999999999996,
          43.8,
          44.39999999999999,
          44.99999999999999,
          45.599999999999994,
          46.199999999999996,
          46.8,
          47.4,
          48,
          48.6,
          49.2,
          49.8,
          50.4,
          51,
          51.6,
          52.2,
          52.800000000000004,
          53.400000000000006,
          54,
          54.6,
          55.2,
          55.800000000000004,
          56.400000000000006,
          57.00000000000001,
          57.60000000000001,
          58.199999999999996,
          58.8,
          59.4,
          60
         ],
         "y": [
          25907785.426057197,
          25843280.0297773,
          25778878.408658564,
          25714580.482893206,
          25650386.172673415,
          25586295.3981914,
          25522308.079639364,
          25458424.137209494,
          25394643.491094016,
          25330966.06148511,
          25267391.768575,
          25203920.53255586,
          25140552.2736199,
          25077286.91195933,
          25014124.367766343,
          24951064.56123315,
          24888107.41255194,
          24825252.841914926,
          24762500.7695143,
          24699851.115542267,
          24637303.800191026,
          24574858.743652783,
          24512515.866119742,
          24450275.087784085,
          24388136.32883804,
          24326099.509473797,
          24264164.54988355,
          24202331.370259512,
          24140599.89079387,
          24078970.03167884,
          24017441.713106614,
          23956014.855269402,
          23894689.378359392,
          23833465.202568796,
          23772342.248089813,
          23711320.43511465,
          23650399.6838355,
          23589579.914444555,
          23528861.047134034,
          23468243.00209613,
          23407725.699523054,
          23347309.059607,
          23286993.00254016,
          23226777.448514756,
          23166662.31772297,
          23106647.530357003,
          23046733.00660908,
          22986918.666671373,
          22927204.430736102,
          22867590.218995467,
          22808075.95164166,
          22748661.548866898,
          22689346.930863358,
          22630132.01782326,
          22571016.7299388,
          22512000.987402182,
          22453084.71040561,
          22394267.819141272,
          22335550.233801384,
          22276931.874578137,
          22218412.661663737,
          22159992.515250385,
          22101671.355530284,
          22043449.102695636,
          21985325.676938627,
          21927300.998451483,
          21869374.987426393,
          21811547.56405556,
          21753818.648531176,
          21696188.161045454,
          21638656.02179059,
          21581222.150958788,
          21523886.468742255,
          21466648.895333175,
          21409509.35092376,
          21352467.75570622,
          21295524.029872745,
          21238678.093615532,
          21181929.86712679,
          21125279.27059873,
          21068726.224223524,
          21012270.648193404,
          20955912.462700557,
          20899651.587937187,
          20843487.944095496,
          20787421.45136768,
          20731452.029945955,
          20675579.6000225,
          20619804.08178953,
          20564125.39543925,
          20508543.461163856,
          20453058.19915554,
          20397669.52960652,
          20342377.372708984,
          20287181.648655143,
          20232082.277637195,
          20177079.179847337,
          20122172.275477774,
          20067361.484720714,
          20012646.727768347,
          19958027.924812876
         ]
        },
        {
         "name": "+L1 Tracks, GPU",
         "type": "scatter",
         "x": [
          0,
          0.6000000000000005,
          1.200000000000001,
          1.8000000000000016,
          2.400000000000002,
          3.0000000000000027,
          3.600000000000003,
          4.200000000000004,
          4.800000000000004,
          5.400000000000005,
          6.000000000000005,
          6.600000000000006,
          7.200000000000006,
          7.799999999999995,
          8.399999999999997,
          8.999999999999996,
          9.599999999999998,
          10.199999999999998,
          10.799999999999999,
          11.399999999999999,
          12,
          12.6,
          13.200000000000001,
          13.8,
          14.400000000000002,
          15.000000000000002,
          15.600000000000003,
          16.200000000000003,
          16.800000000000004,
          17.400000000000006,
          17.999999999999993,
          18.599999999999994,
          19.199999999999996,
          19.799999999999997,
          20.399999999999995,
          20.999999999999996,
          21.599999999999998,
          22.199999999999996,
          22.799999999999997,
          23.4,
          24,
          24.6,
          25.2,
          25.8,
          26.400000000000002,
          27,
          27.6,
          28.200000000000003,
          28.800000000000004,
          29.400000000000006,
          30.000000000000004,
          30.600000000000005,
          31.200000000000006,
          31.800000000000004,
          32.400000000000006,
          33.00000000000001,
          33.60000000000001,
          34.20000000000001,
          34.80000000000001,
          35.4,
          36,
          36.6,
          37.2,
          37.8,
          38.4,
          39,
          39.6,
          40.2,
          40.800000000000004,
          41.400000000000006,
          41.99999999999999,
          42.599999999999994,
          43.199999999999996,
          43.8,
          44.39999999999999,
          44.99999999999999,
          45.599999999999994,
          46.199999999999996,
          46.8,
          47.4,
          48,
          48.6,
          49.2,
          49.8,
          50.4,
          51,
          51.6,
          52.2,
          52.800000000000004,
          53.400000000000006,
          54,
          54.6,
          55.2,
          55.800000000000004,
          56.400000000000006,
          57.00000000000001,
          57.60000000000001,
          58.199999999999996,
          58.8,
          59.4,
          60
         ],
         "y": [
          25928510.753060732,
          25863953.64143995,
          25799500.38830806,
          25735150.913793176,
          25670905.138023436,
          25606762.981126938,
          25542724.363231815,
          25478789.20446618,
          25414957.42495814,
          25351228.944835834,
          25287603.68422738,
          25224081.563260876,
          25160662.50206445,
          25097346.420766227,
          25034133.239494313,
          24971022.87837684,
          24908015.257541925,
          24845110.297117677,
          24782307.917232227,
          24719608.038013678,
          24657010.579590157,
          24594515.46208979,
          24532122.605640687,
          24469831.930370957,
          24407643.356408738,
          24345556.80388214,
          24283572.19291928,
          24221689.44364828,
          24159908.47619725,
          24098229.21069432,
          24036651.567267604,
          23975175.466045212,
          23913800.827155273,
          23852527.570725907,
          23791355.616885226,
          23730284.88576135,
          23669315.2974824,
          23608446.77217649,
          23547679.22997174,
          23487012.590996273,
          23426446.77537821,
          23365981.703245662,
          23305617.29472674,
          23245353.469949577,
          23185190.149042286,
          23125127.25213299,
          23065164.6993498,
          23005302.41082083,
          22945540.306674216,
          22885878.30703806,
          22826316.332040496,
          22766854.301809635,
          22707492.13647359,
          22648229.756160483,
          22589067.080998436,
          22530004.031115554,
          22471040.52663998,
          22412176.487699814,
          22353411.83442318,
          22294746.4869382,
          22236180.365372982,
          22177713.38985565,
          22119345.48051433,
          22061076.55747713,
          22002906.54087217,
          21944835.35082758,
          21886862.907471467,
          21828989.13093195,
          21771213.941337146,
          21713537.258815184,
          21655959.003494173,
          21598479.095502235,
          21541097.454967484,
          21483814.002018046,
          21426628.65678203,
          21369541.33938757,
          21312551.969962772,
          21255660.468635753,
          21198866.75553463,
          21142170.75078754,
          21085572.374522578,
          21029071.54686788,
          20972668.187951557,
          20916362.21790173,
          20860153.556846514,
          20804042.124914028,
          20748027.842232395,
          20692110.628929734,
          20636290.405134145,
          20580567.090973776,
          20524940.60657673,
          20469410.872071113,
          20413977.80758507,
          20358641.333246704,
          20303401.369184136,
          20248257.835525483,
          20193210.652398862,
          20138259.739932396,
          20083405.01825421,
          20028646.407492414,
          19973983.827775113
         ]
        }
       ],
       "layout": {
        "annotations": [
         {
          "font": {
           "size": 14
          },
          "showarrow": false,
          "text": "Pileup = 200<br>L1T Rejection = 53:1",
          "x": -0.1,
          "xref": "paper",
          "y": -0.15,
          "yref": "paper"
         }
        ],
        "height": 600,
        "template": {
         "data": {
          "bar": [
           {
            "error_x": {
             "color": "#2a3f5f"
            },
            "error_y": {
             "color": "#2a3f5f"
            },
            "marker": {
             "line": {
              "color": "#E5ECF6",
              "width": 0.5
             },
             "pattern": {
              "fillmode": "overlay",
              "size": 10,
              "solidity": 0.2
             }
            },
            "type": "bar"
           }
          ],
          "barpolar": [
           {
            "marker": {
             "line": {
              "color": "#E5ECF6",
              "width": 0.5
             },
             "pattern": {
              "fillmode": "overlay",
              "size": 10,
              "solidity": 0.2
             }
            },
            "type": "barpolar"
           }
          ],
          "carpet": [
           {
            "aaxis": {
             "endlinecolor": "#2a3f5f",
             "gridcolor": "white",
             "linecolor": "white",
             "minorgridcolor": "white",
             "startlinecolor": "#2a3f5f"
            },
            "baxis": {
             "endlinecolor": "#2a3f5f",
             "gridcolor": "white",
             "linecolor": "white",
             "minorgridcolor": "white",
             "startlinecolor": "#2a3f5f"
            },
            "type": "carpet"
           }
          ],
          "choropleth": [
           {
            "colorbar": {
             "outlinewidth": 0,
             "ticks": ""
            },
            "type": "choropleth"
           }
          ],
          "contour": [
           {
            "colorbar": {
             "outlinewidth": 0,
             "ticks": ""
            },
            "colorscale": [
             [
              0,
              "#0d0887"
             ],
             [
              0.1111111111111111,
              "#46039f"
             ],
             [
              0.2222222222222222,
              "#7201a8"
             ],
             [
              0.3333333333333333,
              "#9c179e"
             ],
             [
              0.4444444444444444,
              "#bd3786"
             ],
             [
              0.5555555555555556,
              "#d8576b"
             ],
             [
              0.6666666666666666,
              "#ed7953"
             ],
             [
              0.7777777777777778,
              "#fb9f3a"
             ],
             [
              0.8888888888888888,
              "#fdca26"
             ],
             [
              1,
              "#f0f921"
             ]
            ],
            "type": "contour"
           }
          ],
          "contourcarpet": [
           {
            "colorbar": {
             "outlinewidth": 0,
             "ticks": ""
            },
            "type": "contourcarpet"
           }
          ],
          "heatmap": [
           {
            "colorbar": {
             "outlinewidth": 0,
             "ticks": ""
            },
            "colorscale": [
             [
              0,
              "#0d0887"
             ],
             [
              0.1111111111111111,
              "#46039f"
             ],
             [
              0.2222222222222222,
              "#7201a8"
             ],
             [
              0.3333333333333333,
              "#9c179e"
             ],
             [
              0.4444444444444444,
              "#bd3786"
             ],
             [
              0.5555555555555556,
              "#d8576b"
             ],
             [
              0.6666666666666666,
              "#ed7953"
             ],
             [
              0.7777777777777778,
              "#fb9f3a"
             ],
             [
              0.8888888888888888,
              "#fdca26"
             ],
             [
              1,
              "#f0f921"
             ]
            ],
            "type": "heatmap"
           }
          ],
          "heatmapgl": [
           {
            "colorbar": {
             "outlinewidth": 0,
             "ticks": ""
            },
            "colorscale": [
             [
              0,
              "#0d0887"
             ],
             [
              0.1111111111111111,
              "#46039f"
             ],
             [
              0.2222222222222222,
              "#7201a8"
             ],
             [
              0.3333333333333333,
              "#9c179e"
             ],
             [
              0.4444444444444444,
              "#bd3786"
             ],
             [
              0.5555555555555556,
              "#d8576b"
             ],
             [
              0.6666666666666666,
              "#ed7953"
             ],
             [
              0.7777777777777778,
              "#fb9f3a"
             ],
             [
              0.8888888888888888,
              "#fdca26"
             ],
             [
              1,
              "#f0f921"
             ]
            ],
            "type": "heatmapgl"
           }
          ],
          "histogram": [
           {
            "marker": {
             "pattern": {
              "fillmode": "overlay",
              "size": 10,
              "solidity": 0.2
             }
            },
            "type": "histogram"
           }
          ],
          "histogram2d": [
           {
            "colorbar": {
             "outlinewidth": 0,
             "ticks": ""
            },
            "colorscale": [
             [
              0,
              "#0d0887"
             ],
             [
              0.1111111111111111,
              "#46039f"
             ],
             [
              0.2222222222222222,
              "#7201a8"
             ],
             [
              0.3333333333333333,
              "#9c179e"
             ],
             [
              0.4444444444444444,
              "#bd3786"
             ],
             [
              0.5555555555555556,
              "#d8576b"
             ],
             [
              0.6666666666666666,
              "#ed7953"
             ],
             [
              0.7777777777777778,
              "#fb9f3a"
             ],
             [
              0.8888888888888888,
              "#fdca26"
             ],
             [
              1,
              "#f0f921"
             ]
            ],
            "type": "histogram2d"
           }
          ],
          "histogram2dcontour": [
           {
            "colorbar": {
             "outlinewidth": 0,
             "ticks": ""
            },
            "colorscale": [
             [
              0,
              "#0d0887"
             ],
             [
              0.1111111111111111,
              "#46039f"
             ],
             [
              0.2222222222222222,
              "#7201a8"
             ],
             [
              0.3333333333333333,
              "#9c179e"
             ],
             [
              0.4444444444444444,
              "#bd3786"
             ],
             [
              0.5555555555555556,
              "#d8576b"
             ],
             [
              0.6666666666666666,
              "#ed7953"
             ],
             [
              0.7777777777777778,
              "#fb9f3a"
             ],
             [
              0.8888888888888888,
              "#fdca26"
             ],
             [
              1,
              "#f0f921"
             ]
            ],
            "type": "histogram2dcontour"
           }
          ],
          "mesh3d": [
           {
            "colorbar": {
             "outlinewidth": 0,
             "ticks": ""
            },
            "type": "mesh3d"
           }
          ],
          "parcoords": [
           {
            "line": {
             "colorbar": {
              "outlinewidth": 0,
              "ticks": ""
             }
            },
            "type": "parcoords"
           }
          ],
          "pie": [
           {
            "automargin": true,
            "type": "pie"
           }
          ],
          "scatter": [
           {
            "fillpattern": {
             "fillmode": "overlay",
             "size": 10,
             "solidity": 0.2
            },
            "type": "scatter"
           }
          ],
          "scatter3d": [
           {
            "line": {
             "colorbar": {
              "outlinewidth": 0,
              "ticks": ""
             }
            },
            "marker": {
             "colorbar": {
              "outlinewidth": 0,
              "ticks": ""
             }
            },
            "type": "scatter3d"
           }
          ],
          "scattercarpet": [
           {
            "marker": {
             "colorbar": {
              "outlinewidth": 0,
              "ticks": ""
             }
            },
            "type": "scattercarpet"
           }
          ],
          "scattergeo": [
           {
            "marker": {
             "colorbar": {
              "outlinewidth": 0,
              "ticks": ""
             }
            },
            "type": "scattergeo"
           }
          ],
          "scattergl": [
           {
            "marker": {
             "colorbar": {
              "outlinewidth": 0,
              "ticks": ""
             }
            },
            "type": "scattergl"
           }
          ],
          "scattermapbox": [
           {
            "marker": {
             "colorbar": {
              "outlinewidth": 0,
              "ticks": ""
             }
            },
            "type": "scattermapbox"
           }
          ],
          "scatterpolar": [
           {
            "marker": {
             "colorbar": {
              "outlinewidth": 0,
              "ticks": ""
             }
            },
            "type": "scatterpolar"
           }
          ],
          "scatterpolargl": [
           {
            "marker": {
             "colorbar": {
              "outlinewidth": 0,
              "ticks": ""
             }
            },
            "type": "scatterpolargl"
           }
          ],
          "scatterternary": [
           {
            "marker": {
             "colorbar": {
              "outlinewidth": 0,
              "ticks": ""
             }
            },
            "type": "scatterternary"
           }
          ],
          "surface": [
           {
            "colorbar": {
             "outlinewidth": 0,
             "ticks": ""
            },
            "colorscale": [
             [
              0,
              "#0d0887"
             ],
             [
              0.1111111111111111,
              "#46039f"
             ],
             [
              0.2222222222222222,
              "#7201a8"
             ],
             [
              0.3333333333333333,
              "#9c179e"
             ],
             [
              0.4444444444444444,
              "#bd3786"
             ],
             [
              0.5555555555555556,
              "#d8576b"
             ],
             [
              0.6666666666666666,
              "#ed7953"
             ],
             [
              0.7777777777777778,
              "#fb9f3a"
             ],
             [
              0.8888888888888888,
              "#fdca26"
             ],
             [
              1,
              "#f0f921"
             ]
            ],
            "type": "surface"
           }
          ],
          "table": [
           {
            "cells": {
             "fill": {
              "color": "#EBF0F8"
             },
             "line": {
              "color": "white"
             }
            },
            "header": {
             "fill": {
              "color": "#C8D4E3"
             },
             "line": {
              "color": "white"
             }
            },
            "type": "table"
           }
          ]
         },
         "layout": {
          "annotationdefaults": {
           "arrowcolor": "#2a3f5f",
           "arrowhead": 0,
           "arrowwidth": 1
          },
          "autotypenumbers": "strict",
          "coloraxis": {
           "colorbar": {
            "outlinewidth": 0,
            "ticks": ""
           }
          },
          "colorscale": {
           "diverging": [
            [
             0,
             "#8e0152"
            ],
            [
             0.1,
             "#c51b7d"
            ],
            [
             0.2,
             "#de77ae"
            ],
            [
             0.3,
             "#f1b6da"
            ],
            [
             0.4,
             "#fde0ef"
            ],
            [
             0.5,
             "#f7f7f7"
            ],
            [
             0.6,
             "#e6f5d0"
            ],
            [
             0.7,
             "#b8e186"
            ],
            [
             0.8,
             "#7fbc41"
            ],
            [
             0.9,
             "#4d9221"
            ],
            [
             1,
             "#276419"
            ]
           ],
           "sequential": [
            [
             0,
             "#0d0887"
            ],
            [
             0.1111111111111111,
             "#46039f"
            ],
            [
             0.2222222222222222,
             "#7201a8"
            ],
            [
             0.3333333333333333,
             "#9c179e"
            ],
            [
             0.4444444444444444,
             "#bd3786"
            ],
            [
             0.5555555555555556,
             "#d8576b"
            ],
            [
             0.6666666666666666,
             "#ed7953"
            ],
            [
             0.7777777777777778,
             "#fb9f3a"
            ],
            [
             0.8888888888888888,
             "#fdca26"
            ],
            [
             1,
             "#f0f921"
            ]
           ],
           "sequentialminus": [
            [
             0,
             "#0d0887"
            ],
            [
             0.1111111111111111,
             "#46039f"
            ],
            [
             0.2222222222222222,
             "#7201a8"
            ],
            [
             0.3333333333333333,
             "#9c179e"
            ],
            [
             0.4444444444444444,
             "#bd3786"
            ],
            [
             0.5555555555555556,
             "#d8576b"
            ],
            [
             0.6666666666666666,
             "#ed7953"
            ],
            [
             0.7777777777777778,
             "#fb9f3a"
            ],
            [
             0.8888888888888888,
             "#fdca26"
            ],
            [
             1,
             "#f0f921"
            ]
           ]
          },
          "colorway": [
           "#636efa",
           "#EF553B",
           "#00cc96",
           "#ab63fa",
           "#FFA15A",
           "#19d3f3",
           "#FF6692",
           "#B6E880",
           "#FF97FF",
           "#FECB52"
          ],
          "font": {
           "color": "#2a3f5f"
          },
          "geo": {
           "bgcolor": "white",
           "lakecolor": "white",
           "landcolor": "#E5ECF6",
           "showlakes": true,
           "showland": true,
           "subunitcolor": "white"
          },
          "hoverlabel": {
           "align": "left"
          },
          "hovermode": "closest",
          "mapbox": {
           "style": "light"
          },
          "paper_bgcolor": "white",
          "plot_bgcolor": "#E5ECF6",
          "polar": {
           "angularaxis": {
            "gridcolor": "white",
            "linecolor": "white",
            "ticks": ""
           },
           "bgcolor": "#E5ECF6",
           "radialaxis": {
            "gridcolor": "white",
            "linecolor": "white",
            "ticks": ""
           }
          },
          "scene": {
           "xaxis": {
            "backgroundcolor": "#E5ECF6",
            "gridcolor": "white",
            "gridwidth": 2,
            "linecolor": "white",
            "showbackground": true,
            "ticks": "",
            "zerolinecolor": "white"
           },
           "yaxis": {
            "backgroundcolor": "#E5ECF6",
            "gridcolor": "white",
            "gridwidth": 2,
            "linecolor": "white",
            "showbackground": true,
            "ticks": "",
            "zerolinecolor": "white"
           },
           "zaxis": {
            "backgroundcolor": "#E5ECF6",
            "gridcolor": "white",
            "gridwidth": 2,
            "linecolor": "white",
            "showbackground": true,
            "ticks": "",
            "zerolinecolor": "white"
           }
          },
          "shapedefaults": {
           "line": {
            "color": "#2a3f5f"
           }
          },
          "ternary": {
           "aaxis": {
            "gridcolor": "white",
            "linecolor": "white",
            "ticks": ""
           },
           "baxis": {
            "gridcolor": "white",
            "linecolor": "white",
            "ticks": ""
           },
           "bgcolor": "#E5ECF6",
           "caxis": {
            "gridcolor": "white",
            "linecolor": "white",
            "ticks": ""
           }
          },
          "title": {
           "x": 0.05
          },
          "xaxis": {
           "automargin": true,
           "gridcolor": "white",
           "linecolor": "white",
           "ticks": "",
           "title": {
            "standoff": 15
           },
           "zerolinecolor": "white",
           "zerolinewidth": 2
          },
          "yaxis": {
           "automargin": true,
           "gridcolor": "white",
           "linecolor": "white",
           "ticks": "",
           "title": {
            "standoff": 15
           },
           "zerolinecolor": "white",
           "zerolinewidth": 2
          }
         }
        },
        "title": {
         "text": "Total DAQ Power by Inner Tracker Data Reduction"
        },
        "width": 800,
        "xaxis": {
         "title": {
          "text": "Inner Tracker Data Reduction (%)"
         }
        },
        "yaxis": {
         "title": {
          "text": "DAQ Power (W)"
         }
        }
       }
      }
     },
     "metadata": {},
     "output_type": "display_data"
    }
   ],
   "source": [
    "fig = go.Figure(data = \n",
    "                go.Scatter(x = (1 - it_reductions)* 100,\n",
    "                           y = run5_metrics[\"power\"] ,\n",
    "                           name = \"Baseline\"))\n",
    "\n",
    "fig.add_trace(go.Scatter(x = (1 - it_reductions)* 100,\n",
    "                           y = run5_metrics_gpu[\"power\"],\n",
    "                           name = \"+GPU\"))\n",
    "\n",
    "\n",
    "fig.add_trace(go.Scatter(x = (1 - it_reductions)* 100,\n",
    "                           y = run5_metrics_l1t_gpu[\"power\"],\n",
    "                           name = \"+L1 Tracks, GPU\"))\n",
    "\n",
    "fig.update_layout(width =800, height = 600,\n",
    "                  title = \"Total DAQ Power by Inner Tracker Data Reduction\",\n",
    "                  xaxis_title = \"Inner Tracker Data Reduction (%)\",\n",
    "                  yaxis_title = \"DAQ Power (W)\")\n",
    "fig.add_annotation(x = -0.1, \n",
    "                   y = -0.15, \n",
    "                   showarrow=False,\n",
    "                   text = \"Pileup = 200<br>L1T Rejection = 53:1\", \n",
    "                   xref=\"paper\", \n",
    "                   yref=\"paper\",\n",
    "                   font = dict(size = 14))\n",
    "fig.show()"
   ]
  },
  {
   "cell_type": "code",
   "execution_count": null,
   "metadata": {},
   "outputs": [],
   "source": []
  }
 ],
 "metadata": {
  "kernelspec": {
   "display_name": "systemflow",
   "language": "python",
   "name": "python3"
  },
  "language_info": {
   "codemirror_mode": {
    "name": "ipython",
    "version": 3
   },
   "file_extension": ".py",
   "mimetype": "text/x-python",
   "name": "python",
   "nbconvert_exporter": "python",
   "pygments_lexer": "ipython3",
   "version": "3.10.15"
  }
 },
 "nbformat": 4,
 "nbformat_minor": 2
}
