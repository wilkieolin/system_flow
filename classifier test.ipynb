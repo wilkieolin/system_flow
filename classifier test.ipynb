{
 "cells": [
  {
   "cell_type": "code",
   "execution_count": 1,
   "metadata": {},
   "outputs": [],
   "source": [
    "from classifier import *"
   ]
  },
  {
   "cell_type": "code",
   "execution_count": 2,
   "metadata": {},
   "outputs": [],
   "source": [
    "import plotly.express as px"
   ]
  },
  {
   "cell_type": "code",
   "execution_count": 3,
   "metadata": {},
   "outputs": [],
   "source": [
    "# dummy classifier test"
   ]
  },
  {
   "cell_type": "code",
   "execution_count": 4,
   "metadata": {},
   "outputs": [
    {
     "data": {
      "text/plain": [
       "array([[  0,   0],\n",
       "       [600, 400]])"
      ]
     },
     "execution_count": 4,
     "metadata": {},
     "output_type": "execute_result"
    }
   ],
   "source": [
    "dc = DummyClassifier()\n",
    "dc([600, 400])"
   ]
  },
  {
   "cell_type": "code",
   "execution_count": 5,
   "metadata": {},
   "outputs": [],
   "source": [
    "# gaussian classifier test"
   ]
  },
  {
   "cell_type": "code",
   "execution_count": 6,
   "metadata": {},
   "outputs": [],
   "source": [
    "gc = GaussianClassifier(99 / 100, 3.0)"
   ]
  },
  {
   "cell_type": "code",
   "execution_count": 7,
   "metadata": {},
   "outputs": [
    {
     "data": {
      "text/plain": [
       "array([[996,   3],\n",
       "       [  3,   6]])"
      ]
     },
     "execution_count": 7,
     "metadata": {},
     "output_type": "execute_result"
    }
   ],
   "source": [
    "gc([1000, 10])"
   ]
  },
  {
   "cell_type": "code",
   "execution_count": 8,
   "metadata": {},
   "outputs": [
    {
     "data": {
      "text/plain": [
       "2.669041266209834"
      ]
     },
     "execution_count": 8,
     "metadata": {},
     "output_type": "execute_result"
    }
   ],
   "source": [
    "gc.threshold"
   ]
  },
  {
   "cell_type": "code",
   "execution_count": 9,
   "metadata": {},
   "outputs": [
    {
     "data": {
      "text/plain": [
       "0.9961965948124544"
      ]
     },
     "execution_count": 9,
     "metadata": {},
     "output_type": "execute_result"
    }
   ],
   "source": [
    "gc.tn"
   ]
  },
  {
   "cell_type": "code",
   "execution_count": 10,
   "metadata": {},
   "outputs": [
    {
     "data": {
      "text/plain": [
       "0.0038034051875456276"
      ]
     },
     "execution_count": 10,
     "metadata": {},
     "output_type": "execute_result"
    }
   ],
   "source": [
    "gc.fp"
   ]
  },
  {
   "cell_type": "code",
   "execution_count": 11,
   "metadata": {},
   "outputs": [
    {
     "data": {
      "text/plain": [
       "0.3703378281326751"
      ]
     },
     "execution_count": 11,
     "metadata": {},
     "output_type": "execute_result"
    }
   ],
   "source": [
    "gc.fn"
   ]
  },
  {
   "cell_type": "code",
   "execution_count": 12,
   "metadata": {},
   "outputs": [
    {
     "data": {
      "text/plain": [
       "array([[0.99619659, 0.37033783],\n",
       "       [0.00380341, 0.62966217]])"
      ]
     },
     "execution_count": 12,
     "metadata": {},
     "output_type": "execute_result"
    }
   ],
   "source": [
    "gc.error_matrix"
   ]
  },
  {
   "cell_type": "code",
   "execution_count": 13,
   "metadata": {},
   "outputs": [],
   "source": [
    "o = gc([1000, 100])"
   ]
  },
  {
   "cell_type": "code",
   "execution_count": 14,
   "metadata": {},
   "outputs": [
    {
     "data": {
      "text/plain": [
       "array([[999,  89],\n",
       "       [  0,  10]])"
      ]
     },
     "execution_count": 14,
     "metadata": {},
     "output_type": "execute_result"
    }
   ],
   "source": [
    "o"
   ]
  },
  {
   "cell_type": "code",
   "execution_count": 15,
   "metadata": {},
   "outputs": [
    {
     "data": {
      "text/plain": [
       "array([999,  89])"
      ]
     },
     "execution_count": 15,
     "metadata": {},
     "output_type": "execute_result"
    }
   ],
   "source": [
    "get_rejected(o)"
   ]
  },
  {
   "cell_type": "code",
   "execution_count": 16,
   "metadata": {},
   "outputs": [
    {
     "data": {
      "text/plain": [
       "array([ 0, 10])"
      ]
     },
     "execution_count": 16,
     "metadata": {},
     "output_type": "execute_result"
    }
   ],
   "source": [
    "get_passed(o)"
   ]
  },
  {
   "cell_type": "code",
   "execution_count": 17,
   "metadata": {},
   "outputs": [],
   "source": [
    "# L1T test"
   ]
  },
  {
   "cell_type": "code",
   "execution_count": 18,
   "metadata": {},
   "outputs": [
    {
     "name": "stderr",
     "output_type": "stream",
     "text": [
      "/Users/wilkie/code/system_flow/classifier.py:210: IntegrationWarning: The maximum number of subdivisions (50) has been achieved.\n",
      "  If increasing the limit yields no improvement it is advised to analyze \n",
      "  the integrand in order to determine the difficulties.  If the position of a \n",
      "  local difficulty can be determined (singularity, discontinuity) one will \n",
      "  probably gain from splitting up the interval and calling the integrator \n",
      "  on the subranges.  Perhaps a special-purpose integrator should be used.\n",
      "  fit = lambda l: np.abs(self.egamma_rate - quad(lambda x: self.exp_dist(x, l) * interpolator(x), np.min(xs), np.max(xs))[0])\n"
     ]
    }
   ],
   "source": [
    "l1 = L1TClassifier(99/100)"
   ]
  },
  {
   "cell_type": "code",
   "execution_count": 19,
   "metadata": {},
   "outputs": [
    {
     "data": {
      "text/plain": [
       "0.02585292794736181"
      ]
     },
     "execution_count": 19,
     "metadata": {},
     "output_type": "execute_result"
    }
   ],
   "source": [
    "l1.egamma_l"
   ]
  },
  {
   "cell_type": "code",
   "execution_count": 20,
   "metadata": {},
   "outputs": [
    {
     "data": {
      "text/plain": [
       "0.0021968083767679625"
      ]
     },
     "execution_count": 20,
     "metadata": {},
     "output_type": "execute_result"
    }
   ],
   "source": [
    "l1.jet_l"
   ]
  },
  {
   "cell_type": "code",
   "execution_count": 21,
   "metadata": {},
   "outputs": [
    {
     "data": {
      "text/plain": [
       "0.04166357056582804"
      ]
     },
     "execution_count": 21,
     "metadata": {},
     "output_type": "execute_result"
    }
   ],
   "source": [
    "l1.muon_l"
   ]
  },
  {
   "cell_type": "code",
   "execution_count": 22,
   "metadata": {},
   "outputs": [
    {
     "data": {
      "text/plain": [
       "0.01586962977254491"
      ]
     },
     "execution_count": 22,
     "metadata": {},
     "output_type": "execute_result"
    }
   ],
   "source": [
    "l1.tau_l"
   ]
  },
  {
   "cell_type": "code",
   "execution_count": 23,
   "metadata": {},
   "outputs": [
    {
     "data": {
      "text/plain": [
       "array([[[2.12132548e+02, 2.16936962e+01, 2.56929552e+01, 1.13814671e+01],\n",
       "        [3.86016284e-02, 7.94308113e-01, 3.81316123e-02, 7.02316545e-03]],\n",
       "\n",
       "       [[2.23396392e+02, 5.85508583e+00, 2.79406494e+01, 2.50344828e+01],\n",
       "        [6.20938782e-02, 3.84817697e-03, 1.07077027e-01, 5.03868688e-02]],\n",
       "\n",
       "       [[2.58745157e+02, 1.22224135e+01, 1.76849578e+01, 2.19815846e+01],\n",
       "        [2.08251023e-01, 1.11139452e-01, 1.91668945e-02, 2.88695453e-02]],\n",
       "\n",
       "       ...,\n",
       "\n",
       "       [[1.19187144e+00, 1.23800703e+00, 2.00479770e+01, 2.41570004e+01],\n",
       "        [0.00000000e+00, 5.24789681e-03, 2.04487887e-02, 4.34609494e-02]],\n",
       "\n",
       "       [[2.47938443e+02, 1.15700880e+01, 1.32872999e+01, 2.79150326e+01],\n",
       "        [1.42017037e-01, 7.99881954e-02, 1.56943139e-02, 8.28059839e-02]],\n",
       "\n",
       "       [[2.27642600e+02, 1.19500562e+00, 2.33719201e+00, 7.65064568e+00],\n",
       "        [7.28517102e-02, 5.45619071e-03, 0.00000000e+00, 3.14395043e-03]]])"
      ]
     },
     "execution_count": 23,
     "metadata": {},
     "output_type": "execute_result"
    }
   ],
   "source": [
    "l1.null_samples"
   ]
  },
  {
   "cell_type": "code",
   "execution_count": 24,
   "metadata": {},
   "outputs": [
    {
     "data": {
      "text/plain": [
       "array([[[2.13671077e+02, 1.96946414e+01, 3.90575483e+00, 4.60031562e+01],\n",
       "        [4.09288248e-02, 6.46664550e-01, 0.00000000e+00, 8.19038592e-01]],\n",
       "\n",
       "       [[1.29898618e+03, 3.95078351e+01, 1.68617657e+02, 1.26253547e+02],\n",
       "        [9.93819530e-01, 9.42046856e-01, 9.87843693e-01, 9.86651349e-01]],\n",
       "\n",
       "       [[1.99877641e+02, 9.73753451e+00, 1.65205127e+01, 8.40229926e+01],\n",
       "        [2.39766774e-02, 2.44625139e-02, 1.85318479e-02, 9.92148192e-01]],\n",
       "\n",
       "       ...,\n",
       "\n",
       "       [[1.32071779e+02, 3.35250617e+01, 1.02493708e+00, 7.85061039e+00],\n",
       "        [8.26885049e-07, 9.37760197e-01, 0.00000000e+00, 3.31391615e-03]],\n",
       "\n",
       "       [[5.76423563e+02, 5.48966714e+01, 4.20444032e+01, 2.13754639e+02],\n",
       "        [9.92609703e-01, 9.41876851e-01, 9.41971756e-01, 7.55949620e-01]],\n",
       "\n",
       "       [[2.15176334e+01, 9.87486643e+00, 4.11457023e+01, 3.12469107e+01],\n",
       "        [0.00000000e+00, 2.60361114e-02, 9.39941750e-01, 1.39510021e-01]]])"
      ]
     },
     "execution_count": 24,
     "metadata": {},
     "output_type": "execute_result"
    }
   ],
   "source": [
    "l1.pos_samples"
   ]
  },
  {
   "cell_type": "code",
   "execution_count": 25,
   "metadata": {},
   "outputs": [],
   "source": [
    "n_ecdf = ecdf(l1.null_scores)"
   ]
  },
  {
   "cell_type": "code",
   "execution_count": 26,
   "metadata": {},
   "outputs": [
    {
     "data": {
      "text/plain": [
       "array(0.5488)"
      ]
     },
     "execution_count": 26,
     "metadata": {},
     "output_type": "execute_result"
    }
   ],
   "source": [
    "n_ecdf.cdf.evaluate(0.26)"
   ]
  },
  {
   "cell_type": "code",
   "execution_count": 27,
   "metadata": {},
   "outputs": [],
   "source": [
    "l1.solve_reduction([4000, 10])"
   ]
  },
  {
   "cell_type": "code",
   "execution_count": 28,
   "metadata": {},
   "outputs": [
    {
     "data": {
      "text/plain": [
       "0.99"
      ]
     },
     "execution_count": 28,
     "metadata": {},
     "output_type": "execute_result"
    }
   ],
   "source": [
    "l1.reduction"
   ]
  },
  {
   "cell_type": "code",
   "execution_count": 30,
   "metadata": {},
   "outputs": [
    {
     "data": {
      "text/plain": [
       "1.3250539830050259"
      ]
     },
     "execution_count": 30,
     "metadata": {},
     "output_type": "execute_result"
    }
   ],
   "source": [
    "l1.threshold"
   ]
  },
  {
   "cell_type": "code",
   "execution_count": 31,
   "metadata": {},
   "outputs": [
    {
     "data": {
      "text/plain": [
       "array([[0.9909, 0.6205],\n",
       "       [0.0091, 0.3795]])"
      ]
     },
     "execution_count": 31,
     "metadata": {},
     "output_type": "execute_result"
    }
   ],
   "source": [
    "l1.error_matrix"
   ]
  },
  {
   "cell_type": "code",
   "execution_count": 33,
   "metadata": {},
   "outputs": [],
   "source": [
    "cont = [4000, 10] * l1.error_matrix"
   ]
  },
  {
   "cell_type": "code",
   "execution_count": 36,
   "metadata": {},
   "outputs": [
    {
     "data": {
      "text/plain": [
       "3969.805"
      ]
     },
     "execution_count": 36,
     "metadata": {},
     "output_type": "execute_result"
    }
   ],
   "source": [
    "np.sum(get_rejected(cont))"
   ]
  },
  {
   "cell_type": "code",
   "execution_count": 35,
   "metadata": {},
   "outputs": [
    {
     "data": {
      "text/plain": [
       "40.19499999999999"
      ]
     },
     "execution_count": 35,
     "metadata": {},
     "output_type": "execute_result"
    }
   ],
   "source": [
    "np.sum(get_passed(cont))"
   ]
  },
  {
   "cell_type": "code",
   "execution_count": 36,
   "metadata": {},
   "outputs": [],
   "source": [
    "ps = np.linspace(0, 1.0, 201)"
   ]
  },
  {
   "cell_type": "code",
   "execution_count": 45,
   "metadata": {},
   "outputs": [
    {
     "data": {
      "text/plain": [
       "0.9903473815461346"
      ]
     },
     "execution_count": 45,
     "metadata": {},
     "output_type": "execute_result"
    }
   ],
   "source": [
    "l1.scores(1.3)"
   ]
  },
  {
   "cell_type": "code",
   "execution_count": 48,
   "metadata": {},
   "outputs": [],
   "source": [
    "sol = minimize_scalar(lambda x: np.abs(0.99 - l1.scores(x)), bounds = (0.0, 6.0), method=\"bounded\")"
   ]
  },
  {
   "cell_type": "code",
   "execution_count": 49,
   "metadata": {},
   "outputs": [
    {
     "data": {
      "text/plain": [
       " message: Solution found.\n",
       " success: True\n",
       "  status: 0\n",
       "     fun: 0.00034738154613456196\n",
       "       x: 1.3000274979692779\n",
       "     nit: 15\n",
       "    nfev: 15"
      ]
     },
     "execution_count": 49,
     "metadata": {},
     "output_type": "execute_result"
    }
   ],
   "source": [
    "sol"
   ]
  },
  {
   "cell_type": "code",
   "execution_count": 50,
   "metadata": {},
   "outputs": [
    {
     "data": {
      "text/plain": [
       "1.3000274979692779"
      ]
     },
     "execution_count": 50,
     "metadata": {},
     "output_type": "execute_result"
    }
   ],
   "source": [
    "sol.x"
   ]
  },
  {
   "cell_type": "code",
   "execution_count": 56,
   "metadata": {},
   "outputs": [],
   "source": [
    "xs = np.linspace(0.0, 3.0, 201)"
   ]
  },
  {
   "cell_type": "code",
   "execution_count": 58,
   "metadata": {},
   "outputs": [
    {
     "data": {
      "application/vnd.plotly.v1+json": {
       "config": {
        "plotlyServerURL": "https://plot.ly"
       },
       "data": [
        {
         "hovertemplate": "x=%{x}<br>y=%{y}<extra></extra>",
         "legendgroup": "",
         "marker": {
          "color": "#636efa",
          "symbol": "circle"
         },
         "mode": "markers",
         "name": "",
         "orientation": "v",
         "showlegend": false,
         "type": "scatter",
         "x": [
          0,
          0.015,
          0.03,
          0.045,
          0.06,
          0.075,
          0.09,
          0.105,
          0.12,
          0.135,
          0.15,
          0.16499999999999998,
          0.18,
          0.195,
          0.21,
          0.22499999999999998,
          0.24,
          0.255,
          0.27,
          0.285,
          0.3,
          0.315,
          0.32999999999999996,
          0.345,
          0.36,
          0.375,
          0.39,
          0.40499999999999997,
          0.42,
          0.435,
          0.44999999999999996,
          0.46499999999999997,
          0.48,
          0.495,
          0.51,
          0.525,
          0.54,
          0.5549999999999999,
          0.57,
          0.585,
          0.6,
          0.615,
          0.63,
          0.645,
          0.6599999999999999,
          0.6749999999999999,
          0.69,
          0.705,
          0.72,
          0.735,
          0.75,
          0.765,
          0.78,
          0.7949999999999999,
          0.8099999999999999,
          0.825,
          0.84,
          0.855,
          0.87,
          0.885,
          0.8999999999999999,
          0.9149999999999999,
          0.9299999999999999,
          0.945,
          0.96,
          0.975,
          0.99,
          1.005,
          1.02,
          1.035,
          1.05,
          1.065,
          1.08,
          1.095,
          1.1099999999999999,
          1.125,
          1.14,
          1.155,
          1.17,
          1.185,
          1.2,
          1.2149999999999999,
          1.23,
          1.2449999999999999,
          1.26,
          1.275,
          1.29,
          1.305,
          1.3199999999999998,
          1.335,
          1.3499999999999999,
          1.365,
          1.38,
          1.395,
          1.41,
          1.425,
          1.44,
          1.4549999999999998,
          1.47,
          1.4849999999999999,
          1.5,
          1.515,
          1.53,
          1.545,
          1.56,
          1.575,
          1.5899999999999999,
          1.605,
          1.6199999999999999,
          1.635,
          1.65,
          1.665,
          1.68,
          1.6949999999999998,
          1.71,
          1.7249999999999999,
          1.74,
          1.755,
          1.77,
          1.785,
          1.7999999999999998,
          1.815,
          1.8299999999999998,
          1.845,
          1.8599999999999999,
          1.875,
          1.89,
          1.905,
          1.92,
          1.9349999999999998,
          1.95,
          1.9649999999999999,
          1.98,
          1.9949999999999999,
          2.01,
          2.025,
          2.04,
          2.0549999999999997,
          2.07,
          2.085,
          2.1,
          2.1149999999999998,
          2.13,
          2.145,
          2.16,
          2.175,
          2.19,
          2.205,
          2.2199999999999998,
          2.235,
          2.25,
          2.265,
          2.28,
          2.295,
          2.31,
          2.3249999999999997,
          2.34,
          2.355,
          2.37,
          2.385,
          2.4,
          2.415,
          2.4299999999999997,
          2.445,
          2.46,
          2.475,
          2.4899999999999998,
          2.505,
          2.52,
          2.5349999999999997,
          2.55,
          2.565,
          2.58,
          2.5949999999999998,
          2.61,
          2.625,
          2.6399999999999997,
          2.655,
          2.67,
          2.685,
          2.6999999999999997,
          2.715,
          2.73,
          2.745,
          2.76,
          2.775,
          2.79,
          2.8049999999999997,
          2.82,
          2.835,
          2.85,
          2.8649999999999998,
          2.88,
          2.895,
          2.9099999999999997,
          2.925,
          2.94,
          2.955,
          2.9699999999999998,
          2.985,
          3
         ],
         "xaxis": "x",
         "y": [
          0,
          0.05276882793017457,
          0.14444064837905238,
          0.2216481296758105,
          0.2748154613466334,
          0.31082543640897753,
          0.33955361596009975,
          0.3641920199501247,
          0.39052693266832916,
          0.4146665835411471,
          0.43850698254364084,
          0.45825760598503734,
          0.47740972568578555,
          0.4922728179551122,
          0.5078341645885287,
          0.5227967581047381,
          0.537559850374065,
          0.5535199501246882,
          0.5664875311720697,
          0.5803528678304238,
          0.5949167082294265,
          0.6086825436408977,
          0.6207526184538653,
          0.6319249376558603,
          0.6427980049875311,
          0.6565635910224439,
          0.6677356608478803,
          0.6811022443890273,
          0.693372319201995,
          0.7066394014962593,
          0.7164154613466333,
          0.7245955112219452,
          0.733872319201995,
          0.74544463840399,
          0.7553211970074812,
          0.765097506234414,
          0.7741768079800498,
          0.7823576059850373,
          0.7896416458852868,
          0.7978231920199501,
          0.8066027431421448,
          0.8141870324189527,
          0.8227668329177057,
          0.8290526184538652,
          0.836835162094763,
          0.8428221945137158,
          0.8496074812967582,
          0.8564937655860348,
          0.8649743142144638,
          0.8716596009975064,
          0.8805394014962594,
          0.8894211970074812,
          0.8982017456359102,
          0.9049877805486285,
          0.9128725685785537,
          0.9215538653366584,
          0.9281416458852868,
          0.933335910224439,
          0.937934663341646,
          0.9421334164588528,
          0.9469361596009976,
          0.9506411471321695,
          0.953561596009975,
          0.9563199501246883,
          0.9592291770573568,
          0.9618451371571072,
          0.964549127182045,
          0.9667693266832917,
          0.9686945137157108,
          0.9697885286783043,
          0.9716543640897756,
          0.9738039900249376,
          0.9754456359102244,
          0.9767912718204489,
          0.9780269326683292,
          0.9798618453865336,
          0.9812952618453866,
          0.9822236907730675,
          0.9834526184538653,
          0.9841773067331671,
          0.9850997506234412,
          0.9856239401496261,
          0.9863436408977557,
          0.9872628428927681,
          0.9879865336658354,
          0.9888109725685785,
          0.9895351620947631,
          0.9904536159600997,
          0.990967331670823,
          0.9917805486284289,
          0.9922007481296757,
          0.9929209476309228,
          0.9937381546134663,
          0.994057855361596,
          0.9943802992518702,
          0.9949995012468829,
          0.9954154613466333,
          0.9957334164588529,
          0.9961483790523691,
          0.9964620947630922,
          0.996674812967581,
          0.9967875311720699,
          0.9972022443890274,
          0.9974114713216957,
          0.9978239401496259,
          0.9979349127182044,
          0.9981443890274315,
          0.9983556109725685,
          0.998467331670823,
          0.9984793017456359,
          0.9984882793017457,
          0.9985044887780549,
          0.9985152119700749,
          0.9986274314214463,
          0.9987394014962593,
          0.9987513715710723,
          0.998764837905237,
          0.9989740648379052,
          0.9989872817955112,
          0.9989980049875312,
          0.9991092269326683,
          0.9992197007481297,
          0.9992299251870325,
          0.9992379052369077,
          0.9992451371571072,
          0.9993531172069826,
          0.999364837905237,
          0.9993788029925188,
          0.9994910224438902,
          0.9995147132169576,
          0.9995401496259352,
          0.9995628428927681,
          0.9996860349127182,
          0.9997084788029925,
          0.9997246882793018,
          0.9997359102244389,
          0.9997456359102245,
          0.9997523690773068,
          0.9997593516209476,
          0.9997660847880299,
          0.9997728179551122,
          0.999776059850374,
          0.9997805486284289,
          0.9997852867830425,
          0.9997897755610973,
          0.9997925187032419,
          0.9997940149625935,
          0.999797506234414,
          0.9997995012468828,
          0.9998032418952618,
          0.9998064837905237,
          0.9998099750623441,
          0.9998124688279302,
          0.9998159600997507,
          0.9998182044887781,
          0.999819451371571,
          0.9998209476309228,
          0.9998231920199502,
          0.9998269326683292,
          0.9998309226932669,
          0.9998354114713217,
          0.9998364089775561,
          0.9998384039900249,
          0.9998394014962594,
          0.9998403990024938,
          0.999840897755611,
          0.9998418952618454,
          0.9998423940149626,
          0.9998438902743142,
          0.9998448877805487,
          0.9998463840399002,
          0.9998481296758105,
          0.9998491271820449,
          0.9998503740648379,
          0.999851620947631,
          0.9998531172069826,
          0.9998543640897756,
          0.99985536159601,
          0.9998566084788031,
          0.9998576059850375,
          0.9998588528678305,
          0.9998600997506234,
          0.9998610972568579,
          0.9998623441396508,
          0.9998640897755611,
          0.999864837905237,
          0.9998653366583541,
          0.9998655860349127,
          0.99986608478803,
          0.99986608478803,
          0.9998665835411472,
          0.9998670822942644,
          0.9998673316708229,
          0.9998673316708229,
          0.9998680798004987,
          0.999868578553616,
          0.9998688279301746,
          0.9998688279301746,
          0.9998688279301746,
          0.9998688279301746,
          0.9998693266832918
         ],
         "yaxis": "y"
        }
       ],
       "layout": {
        "legend": {
         "tracegroupgap": 0
        },
        "margin": {
         "t": 60
        },
        "template": {
         "data": {
          "bar": [
           {
            "error_x": {
             "color": "#2a3f5f"
            },
            "error_y": {
             "color": "#2a3f5f"
            },
            "marker": {
             "line": {
              "color": "#E5ECF6",
              "width": 0.5
             },
             "pattern": {
              "fillmode": "overlay",
              "size": 10,
              "solidity": 0.2
             }
            },
            "type": "bar"
           }
          ],
          "barpolar": [
           {
            "marker": {
             "line": {
              "color": "#E5ECF6",
              "width": 0.5
             },
             "pattern": {
              "fillmode": "overlay",
              "size": 10,
              "solidity": 0.2
             }
            },
            "type": "barpolar"
           }
          ],
          "carpet": [
           {
            "aaxis": {
             "endlinecolor": "#2a3f5f",
             "gridcolor": "white",
             "linecolor": "white",
             "minorgridcolor": "white",
             "startlinecolor": "#2a3f5f"
            },
            "baxis": {
             "endlinecolor": "#2a3f5f",
             "gridcolor": "white",
             "linecolor": "white",
             "minorgridcolor": "white",
             "startlinecolor": "#2a3f5f"
            },
            "type": "carpet"
           }
          ],
          "choropleth": [
           {
            "colorbar": {
             "outlinewidth": 0,
             "ticks": ""
            },
            "type": "choropleth"
           }
          ],
          "contour": [
           {
            "colorbar": {
             "outlinewidth": 0,
             "ticks": ""
            },
            "colorscale": [
             [
              0,
              "#0d0887"
             ],
             [
              0.1111111111111111,
              "#46039f"
             ],
             [
              0.2222222222222222,
              "#7201a8"
             ],
             [
              0.3333333333333333,
              "#9c179e"
             ],
             [
              0.4444444444444444,
              "#bd3786"
             ],
             [
              0.5555555555555556,
              "#d8576b"
             ],
             [
              0.6666666666666666,
              "#ed7953"
             ],
             [
              0.7777777777777778,
              "#fb9f3a"
             ],
             [
              0.8888888888888888,
              "#fdca26"
             ],
             [
              1,
              "#f0f921"
             ]
            ],
            "type": "contour"
           }
          ],
          "contourcarpet": [
           {
            "colorbar": {
             "outlinewidth": 0,
             "ticks": ""
            },
            "type": "contourcarpet"
           }
          ],
          "heatmap": [
           {
            "colorbar": {
             "outlinewidth": 0,
             "ticks": ""
            },
            "colorscale": [
             [
              0,
              "#0d0887"
             ],
             [
              0.1111111111111111,
              "#46039f"
             ],
             [
              0.2222222222222222,
              "#7201a8"
             ],
             [
              0.3333333333333333,
              "#9c179e"
             ],
             [
              0.4444444444444444,
              "#bd3786"
             ],
             [
              0.5555555555555556,
              "#d8576b"
             ],
             [
              0.6666666666666666,
              "#ed7953"
             ],
             [
              0.7777777777777778,
              "#fb9f3a"
             ],
             [
              0.8888888888888888,
              "#fdca26"
             ],
             [
              1,
              "#f0f921"
             ]
            ],
            "type": "heatmap"
           }
          ],
          "heatmapgl": [
           {
            "colorbar": {
             "outlinewidth": 0,
             "ticks": ""
            },
            "colorscale": [
             [
              0,
              "#0d0887"
             ],
             [
              0.1111111111111111,
              "#46039f"
             ],
             [
              0.2222222222222222,
              "#7201a8"
             ],
             [
              0.3333333333333333,
              "#9c179e"
             ],
             [
              0.4444444444444444,
              "#bd3786"
             ],
             [
              0.5555555555555556,
              "#d8576b"
             ],
             [
              0.6666666666666666,
              "#ed7953"
             ],
             [
              0.7777777777777778,
              "#fb9f3a"
             ],
             [
              0.8888888888888888,
              "#fdca26"
             ],
             [
              1,
              "#f0f921"
             ]
            ],
            "type": "heatmapgl"
           }
          ],
          "histogram": [
           {
            "marker": {
             "pattern": {
              "fillmode": "overlay",
              "size": 10,
              "solidity": 0.2
             }
            },
            "type": "histogram"
           }
          ],
          "histogram2d": [
           {
            "colorbar": {
             "outlinewidth": 0,
             "ticks": ""
            },
            "colorscale": [
             [
              0,
              "#0d0887"
             ],
             [
              0.1111111111111111,
              "#46039f"
             ],
             [
              0.2222222222222222,
              "#7201a8"
             ],
             [
              0.3333333333333333,
              "#9c179e"
             ],
             [
              0.4444444444444444,
              "#bd3786"
             ],
             [
              0.5555555555555556,
              "#d8576b"
             ],
             [
              0.6666666666666666,
              "#ed7953"
             ],
             [
              0.7777777777777778,
              "#fb9f3a"
             ],
             [
              0.8888888888888888,
              "#fdca26"
             ],
             [
              1,
              "#f0f921"
             ]
            ],
            "type": "histogram2d"
           }
          ],
          "histogram2dcontour": [
           {
            "colorbar": {
             "outlinewidth": 0,
             "ticks": ""
            },
            "colorscale": [
             [
              0,
              "#0d0887"
             ],
             [
              0.1111111111111111,
              "#46039f"
             ],
             [
              0.2222222222222222,
              "#7201a8"
             ],
             [
              0.3333333333333333,
              "#9c179e"
             ],
             [
              0.4444444444444444,
              "#bd3786"
             ],
             [
              0.5555555555555556,
              "#d8576b"
             ],
             [
              0.6666666666666666,
              "#ed7953"
             ],
             [
              0.7777777777777778,
              "#fb9f3a"
             ],
             [
              0.8888888888888888,
              "#fdca26"
             ],
             [
              1,
              "#f0f921"
             ]
            ],
            "type": "histogram2dcontour"
           }
          ],
          "mesh3d": [
           {
            "colorbar": {
             "outlinewidth": 0,
             "ticks": ""
            },
            "type": "mesh3d"
           }
          ],
          "parcoords": [
           {
            "line": {
             "colorbar": {
              "outlinewidth": 0,
              "ticks": ""
             }
            },
            "type": "parcoords"
           }
          ],
          "pie": [
           {
            "automargin": true,
            "type": "pie"
           }
          ],
          "scatter": [
           {
            "fillpattern": {
             "fillmode": "overlay",
             "size": 10,
             "solidity": 0.2
            },
            "type": "scatter"
           }
          ],
          "scatter3d": [
           {
            "line": {
             "colorbar": {
              "outlinewidth": 0,
              "ticks": ""
             }
            },
            "marker": {
             "colorbar": {
              "outlinewidth": 0,
              "ticks": ""
             }
            },
            "type": "scatter3d"
           }
          ],
          "scattercarpet": [
           {
            "marker": {
             "colorbar": {
              "outlinewidth": 0,
              "ticks": ""
             }
            },
            "type": "scattercarpet"
           }
          ],
          "scattergeo": [
           {
            "marker": {
             "colorbar": {
              "outlinewidth": 0,
              "ticks": ""
             }
            },
            "type": "scattergeo"
           }
          ],
          "scattergl": [
           {
            "marker": {
             "colorbar": {
              "outlinewidth": 0,
              "ticks": ""
             }
            },
            "type": "scattergl"
           }
          ],
          "scattermapbox": [
           {
            "marker": {
             "colorbar": {
              "outlinewidth": 0,
              "ticks": ""
             }
            },
            "type": "scattermapbox"
           }
          ],
          "scatterpolar": [
           {
            "marker": {
             "colorbar": {
              "outlinewidth": 0,
              "ticks": ""
             }
            },
            "type": "scatterpolar"
           }
          ],
          "scatterpolargl": [
           {
            "marker": {
             "colorbar": {
              "outlinewidth": 0,
              "ticks": ""
             }
            },
            "type": "scatterpolargl"
           }
          ],
          "scatterternary": [
           {
            "marker": {
             "colorbar": {
              "outlinewidth": 0,
              "ticks": ""
             }
            },
            "type": "scatterternary"
           }
          ],
          "surface": [
           {
            "colorbar": {
             "outlinewidth": 0,
             "ticks": ""
            },
            "colorscale": [
             [
              0,
              "#0d0887"
             ],
             [
              0.1111111111111111,
              "#46039f"
             ],
             [
              0.2222222222222222,
              "#7201a8"
             ],
             [
              0.3333333333333333,
              "#9c179e"
             ],
             [
              0.4444444444444444,
              "#bd3786"
             ],
             [
              0.5555555555555556,
              "#d8576b"
             ],
             [
              0.6666666666666666,
              "#ed7953"
             ],
             [
              0.7777777777777778,
              "#fb9f3a"
             ],
             [
              0.8888888888888888,
              "#fdca26"
             ],
             [
              1,
              "#f0f921"
             ]
            ],
            "type": "surface"
           }
          ],
          "table": [
           {
            "cells": {
             "fill": {
              "color": "#EBF0F8"
             },
             "line": {
              "color": "white"
             }
            },
            "header": {
             "fill": {
              "color": "#C8D4E3"
             },
             "line": {
              "color": "white"
             }
            },
            "type": "table"
           }
          ]
         },
         "layout": {
          "annotationdefaults": {
           "arrowcolor": "#2a3f5f",
           "arrowhead": 0,
           "arrowwidth": 1
          },
          "autotypenumbers": "strict",
          "coloraxis": {
           "colorbar": {
            "outlinewidth": 0,
            "ticks": ""
           }
          },
          "colorscale": {
           "diverging": [
            [
             0,
             "#8e0152"
            ],
            [
             0.1,
             "#c51b7d"
            ],
            [
             0.2,
             "#de77ae"
            ],
            [
             0.3,
             "#f1b6da"
            ],
            [
             0.4,
             "#fde0ef"
            ],
            [
             0.5,
             "#f7f7f7"
            ],
            [
             0.6,
             "#e6f5d0"
            ],
            [
             0.7,
             "#b8e186"
            ],
            [
             0.8,
             "#7fbc41"
            ],
            [
             0.9,
             "#4d9221"
            ],
            [
             1,
             "#276419"
            ]
           ],
           "sequential": [
            [
             0,
             "#0d0887"
            ],
            [
             0.1111111111111111,
             "#46039f"
            ],
            [
             0.2222222222222222,
             "#7201a8"
            ],
            [
             0.3333333333333333,
             "#9c179e"
            ],
            [
             0.4444444444444444,
             "#bd3786"
            ],
            [
             0.5555555555555556,
             "#d8576b"
            ],
            [
             0.6666666666666666,
             "#ed7953"
            ],
            [
             0.7777777777777778,
             "#fb9f3a"
            ],
            [
             0.8888888888888888,
             "#fdca26"
            ],
            [
             1,
             "#f0f921"
            ]
           ],
           "sequentialminus": [
            [
             0,
             "#0d0887"
            ],
            [
             0.1111111111111111,
             "#46039f"
            ],
            [
             0.2222222222222222,
             "#7201a8"
            ],
            [
             0.3333333333333333,
             "#9c179e"
            ],
            [
             0.4444444444444444,
             "#bd3786"
            ],
            [
             0.5555555555555556,
             "#d8576b"
            ],
            [
             0.6666666666666666,
             "#ed7953"
            ],
            [
             0.7777777777777778,
             "#fb9f3a"
            ],
            [
             0.8888888888888888,
             "#fdca26"
            ],
            [
             1,
             "#f0f921"
            ]
           ]
          },
          "colorway": [
           "#636efa",
           "#EF553B",
           "#00cc96",
           "#ab63fa",
           "#FFA15A",
           "#19d3f3",
           "#FF6692",
           "#B6E880",
           "#FF97FF",
           "#FECB52"
          ],
          "font": {
           "color": "#2a3f5f"
          },
          "geo": {
           "bgcolor": "white",
           "lakecolor": "white",
           "landcolor": "#E5ECF6",
           "showlakes": true,
           "showland": true,
           "subunitcolor": "white"
          },
          "hoverlabel": {
           "align": "left"
          },
          "hovermode": "closest",
          "mapbox": {
           "style": "light"
          },
          "paper_bgcolor": "white",
          "plot_bgcolor": "#E5ECF6",
          "polar": {
           "angularaxis": {
            "gridcolor": "white",
            "linecolor": "white",
            "ticks": ""
           },
           "bgcolor": "#E5ECF6",
           "radialaxis": {
            "gridcolor": "white",
            "linecolor": "white",
            "ticks": ""
           }
          },
          "scene": {
           "xaxis": {
            "backgroundcolor": "#E5ECF6",
            "gridcolor": "white",
            "gridwidth": 2,
            "linecolor": "white",
            "showbackground": true,
            "ticks": "",
            "zerolinecolor": "white"
           },
           "yaxis": {
            "backgroundcolor": "#E5ECF6",
            "gridcolor": "white",
            "gridwidth": 2,
            "linecolor": "white",
            "showbackground": true,
            "ticks": "",
            "zerolinecolor": "white"
           },
           "zaxis": {
            "backgroundcolor": "#E5ECF6",
            "gridcolor": "white",
            "gridwidth": 2,
            "linecolor": "white",
            "showbackground": true,
            "ticks": "",
            "zerolinecolor": "white"
           }
          },
          "shapedefaults": {
           "line": {
            "color": "#2a3f5f"
           }
          },
          "ternary": {
           "aaxis": {
            "gridcolor": "white",
            "linecolor": "white",
            "ticks": ""
           },
           "baxis": {
            "gridcolor": "white",
            "linecolor": "white",
            "ticks": ""
           },
           "bgcolor": "#E5ECF6",
           "caxis": {
            "gridcolor": "white",
            "linecolor": "white",
            "ticks": ""
           }
          },
          "title": {
           "x": 0.05
          },
          "xaxis": {
           "automargin": true,
           "gridcolor": "white",
           "linecolor": "white",
           "ticks": "",
           "title": {
            "standoff": 15
           },
           "zerolinecolor": "white",
           "zerolinewidth": 2
          },
          "yaxis": {
           "automargin": true,
           "gridcolor": "white",
           "linecolor": "white",
           "ticks": "",
           "title": {
            "standoff": 15
           },
           "zerolinecolor": "white",
           "zerolinewidth": 2
          }
         }
        },
        "xaxis": {
         "anchor": "y",
         "domain": [
          0,
          1
         ],
         "title": {
          "text": "x"
         }
        },
        "yaxis": {
         "anchor": "x",
         "domain": [
          0,
          1
         ],
         "title": {
          "text": "y"
         },
         "type": "log"
        }
       }
      }
     },
     "metadata": {},
     "output_type": "display_data"
    }
   ],
   "source": [
    "px.scatter(x = xs, y = l1.scores(xs), log_y=True)"
   ]
  },
  {
   "cell_type": "code",
   "execution_count": 32,
   "metadata": {},
   "outputs": [
    {
     "data": {
      "text/plain": [
       "-0.010000000000000009"
      ]
     },
     "execution_count": 32,
     "metadata": {},
     "output_type": "execute_result"
    }
   ],
   "source": [
    "0.99 - l1.scores(l1.threshold)"
   ]
  },
  {
   "cell_type": "code",
   "execution_count": 29,
   "metadata": {},
   "outputs": [
    {
     "data": {
      "text/plain": [
       "19.99999335625205"
      ]
     },
     "execution_count": 29,
     "metadata": {},
     "output_type": "execute_result"
    }
   ],
   "source": [
    "l1.threshold"
   ]
  },
  {
   "cell_type": "code",
   "execution_count": 28,
   "metadata": {},
   "outputs": [
    {
     "data": {
      "text/plain": [
       "array([[1., 1.],\n",
       "       [0., 0.]])"
      ]
     },
     "execution_count": 28,
     "metadata": {},
     "output_type": "execute_result"
    }
   ],
   "source": [
    "l1.error_matrix"
   ]
  },
  {
   "cell_type": "code",
   "execution_count": 104,
   "metadata": {},
   "outputs": [
    {
     "data": {
      "text/plain": [
       "array([[3936,    3],\n",
       "       [  63,    6]])"
      ]
     },
     "execution_count": 104,
     "metadata": {},
     "output_type": "execute_result"
    }
   ],
   "source": [
    "l1([400*10,     10])"
   ]
  },
  {
   "cell_type": "code",
   "execution_count": 67,
   "metadata": {},
   "outputs": [
    {
     "data": {
      "text/plain": [
       "58.11594202898551"
      ]
     },
     "execution_count": 67,
     "metadata": {},
     "output_type": "execute_result"
    }
   ],
   "source": [
    "4010 / 69"
   ]
  },
  {
   "cell_type": "code",
   "execution_count": 65,
   "metadata": {},
   "outputs": [
    {
     "data": {
      "text/plain": [
       "array([[0.98409371, 0.38072391],\n",
       "       [0.01590629, 0.61927609]])"
      ]
     },
     "execution_count": 65,
     "metadata": {},
     "output_type": "execute_result"
    }
   ],
   "source": [
    "l1.error_matrix"
   ]
  },
  {
   "cell_type": "code",
   "execution_count": null,
   "metadata": {},
   "outputs": [],
   "source": []
  }
 ],
 "metadata": {
  "kernelspec": {
   "display_name": "jax",
   "language": "python",
   "name": "python3"
  },
  "language_info": {
   "codemirror_mode": {
    "name": "ipython",
    "version": 3
   },
   "file_extension": ".py",
   "mimetype": "text/x-python",
   "name": "python",
   "nbconvert_exporter": "python",
   "pygments_lexer": "ipython3",
   "version": "3.10.4"
  }
 },
 "nbformat": 4,
 "nbformat_minor": 2
}
