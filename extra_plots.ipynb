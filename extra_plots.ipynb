{
 "cells": [
  {
   "cell_type": "code",
   "execution_count": 1,
   "metadata": {},
   "outputs": [],
   "source": [
    "import pandas as pd\n",
    "import plotly.express as px\n",
    "import plotly.graph_objects as go\n",
    "import numpy as np"
   ]
  },
  {
   "cell_type": "code",
   "execution_count": 12,
   "metadata": {},
   "outputs": [],
   "source": [
    "from scipy.optimize import curve_fit"
   ]
  },
  {
   "cell_type": "code",
   "execution_count": 6,
   "metadata": {},
   "outputs": [],
   "source": [
    "detectors = pd.read_excel(\"detectors.xlsx\", sheet_name=\"summary\")"
   ]
  },
  {
   "cell_type": "code",
   "execution_count": 7,
   "metadata": {},
   "outputs": [
    {
     "data": {
      "text/html": [
       "<div>\n",
       "<style scoped>\n",
       "    .dataframe tbody tr th:only-of-type {\n",
       "        vertical-align: middle;\n",
       "    }\n",
       "\n",
       "    .dataframe tbody tr th {\n",
       "        vertical-align: top;\n",
       "    }\n",
       "\n",
       "    .dataframe thead th {\n",
       "        text-align: right;\n",
       "    }\n",
       "</style>\n",
       "<table border=\"1\" class=\"dataframe\">\n",
       "  <thead>\n",
       "    <tr style=\"text-align: right;\">\n",
       "      <th></th>\n",
       "      <th>Year</th>\n",
       "      <th>Channels</th>\n",
       "      <th>Event Size (bytes)</th>\n",
       "      <th>Data Rate (byte/ch)</th>\n",
       "      <th>Collision Freq.</th>\n",
       "      <th>Det. Data Rate</th>\n",
       "      <th>Instantaneous Luminosity</th>\n",
       "      <th>Detector</th>\n",
       "      <th>Accelerator</th>\n",
       "      <th>Unnamed: 9</th>\n",
       "      <th>Unnamed: 10</th>\n",
       "    </tr>\n",
       "  </thead>\n",
       "  <tbody>\n",
       "    <tr>\n",
       "      <th>0</th>\n",
       "      <td>1982</td>\n",
       "      <td>10262.0</td>\n",
       "      <td>8000</td>\n",
       "      <td>0.779575</td>\n",
       "      <td>1.000000e+06</td>\n",
       "      <td>8.000000e+09</td>\n",
       "      <td>3.000000e+31</td>\n",
       "      <td>ARGUS</td>\n",
       "      <td>DORIS II</td>\n",
       "      <td>NaN</td>\n",
       "      <td>*fixed event size</td>\n",
       "    </tr>\n",
       "    <tr>\n",
       "      <th>1</th>\n",
       "      <td>1989</td>\n",
       "      <td>165586.0</td>\n",
       "      <td>13000</td>\n",
       "      <td>0.078509</td>\n",
       "      <td>4.500000e+04</td>\n",
       "      <td>5.850000e+08</td>\n",
       "      <td>1.000000e+31</td>\n",
       "      <td>OPAL</td>\n",
       "      <td>LEP</td>\n",
       "      <td>NaN</td>\n",
       "      <td>NaN</td>\n",
       "    </tr>\n",
       "    <tr>\n",
       "      <th>2</th>\n",
       "      <td>1989</td>\n",
       "      <td>232064.0</td>\n",
       "      <td>30000</td>\n",
       "      <td>0.129275</td>\n",
       "      <td>4.500000e+04</td>\n",
       "      <td>1.350000e+09</td>\n",
       "      <td>1.000000e+31</td>\n",
       "      <td>ALEPH</td>\n",
       "      <td>LEP</td>\n",
       "      <td>NaN</td>\n",
       "      <td>NaN</td>\n",
       "    </tr>\n",
       "    <tr>\n",
       "      <th>3</th>\n",
       "      <td>1992</td>\n",
       "      <td>270000.0</td>\n",
       "      <td>100000</td>\n",
       "      <td>NaN</td>\n",
       "      <td>1.041667e+07</td>\n",
       "      <td>1.041667e+12</td>\n",
       "      <td>1.600000e+31</td>\n",
       "      <td>H1</td>\n",
       "      <td>HERA</td>\n",
       "      <td>NaN</td>\n",
       "      <td>NaN</td>\n",
       "    </tr>\n",
       "    <tr>\n",
       "      <th>4</th>\n",
       "      <td>1992</td>\n",
       "      <td>250000.0</td>\n",
       "      <td>100000</td>\n",
       "      <td>0.400000</td>\n",
       "      <td>1.041667e+07</td>\n",
       "      <td>1.041667e+12</td>\n",
       "      <td>1.600000e+31</td>\n",
       "      <td>ZEUS</td>\n",
       "      <td>HERA</td>\n",
       "      <td>NaN</td>\n",
       "      <td>NaN</td>\n",
       "    </tr>\n",
       "    <tr>\n",
       "      <th>5</th>\n",
       "      <td>1996</td>\n",
       "      <td>704544.0</td>\n",
       "      <td>270000</td>\n",
       "      <td>0.383227</td>\n",
       "      <td>2.857143e+05</td>\n",
       "      <td>7.714286e+10</td>\n",
       "      <td>4.000000e+32</td>\n",
       "      <td>CDF II</td>\n",
       "      <td>Tevatron</td>\n",
       "      <td>https://sites.ualberta.ca/~gingrich/research/z...</td>\n",
       "      <td>NaN</td>\n",
       "    </tr>\n",
       "    <tr>\n",
       "      <th>6</th>\n",
       "      <td>2001</td>\n",
       "      <td>920000.0</td>\n",
       "      <td>300000</td>\n",
       "      <td>0.326087</td>\n",
       "      <td>2.857143e+05</td>\n",
       "      <td>8.571429e+10</td>\n",
       "      <td>4.000000e+32</td>\n",
       "      <td>D0 Run-2</td>\n",
       "      <td>Tevatron</td>\n",
       "      <td>NaN</td>\n",
       "      <td>NaN</td>\n",
       "    </tr>\n",
       "    <tr>\n",
       "      <th>7</th>\n",
       "      <td>2008</td>\n",
       "      <td>78200000.0</td>\n",
       "      <td>2000000</td>\n",
       "      <td>0.025575</td>\n",
       "      <td>4.000000e+07</td>\n",
       "      <td>8.000000e+13</td>\n",
       "      <td>1.000000e+34</td>\n",
       "      <td>CMS Run-1</td>\n",
       "      <td>LHC</td>\n",
       "      <td>NaN</td>\n",
       "      <td>NaN</td>\n",
       "    </tr>\n",
       "    <tr>\n",
       "      <th>8</th>\n",
       "      <td>2008</td>\n",
       "      <td>88607060.0</td>\n",
       "      <td>1600000</td>\n",
       "      <td>0.018057</td>\n",
       "      <td>4.000000e+07</td>\n",
       "      <td>6.400000e+13</td>\n",
       "      <td>1.000000e+34</td>\n",
       "      <td>ATLAS Run-1</td>\n",
       "      <td>LHC</td>\n",
       "      <td>https://twiki.cern.ch/twiki/bin/view/AtlasPubl...</td>\n",
       "      <td>NaN</td>\n",
       "    </tr>\n",
       "    <tr>\n",
       "      <th>9</th>\n",
       "      <td>2025</td>\n",
       "      <td>78200000.0</td>\n",
       "      <td>8000000</td>\n",
       "      <td>NaN</td>\n",
       "      <td>4.000000e+07</td>\n",
       "      <td>3.200000e+14</td>\n",
       "      <td>7.000000e+34</td>\n",
       "      <td>HL-CMS</td>\n",
       "      <td>HL-LHC</td>\n",
       "      <td>NaN</td>\n",
       "      <td>NaN</td>\n",
       "    </tr>\n",
       "    <tr>\n",
       "      <th>10</th>\n",
       "      <td>2025</td>\n",
       "      <td>NaN</td>\n",
       "      <td>4400000</td>\n",
       "      <td>NaN</td>\n",
       "      <td>4.000000e+07</td>\n",
       "      <td>1.760000e+14</td>\n",
       "      <td>7.000000e+34</td>\n",
       "      <td>HL-ATLAS</td>\n",
       "      <td>HL-LHC</td>\n",
       "      <td>NaN</td>\n",
       "      <td>NaN</td>\n",
       "    </tr>\n",
       "  </tbody>\n",
       "</table>\n",
       "</div>"
      ],
      "text/plain": [
       "    Year    Channels  Event Size (bytes)  Data Rate (byte/ch)  \\\n",
       "0   1982     10262.0                8000             0.779575   \n",
       "1   1989    165586.0               13000             0.078509   \n",
       "2   1989    232064.0               30000             0.129275   \n",
       "3   1992    270000.0              100000                  NaN   \n",
       "4   1992    250000.0              100000             0.400000   \n",
       "5   1996    704544.0              270000             0.383227   \n",
       "6   2001    920000.0              300000             0.326087   \n",
       "7   2008  78200000.0             2000000             0.025575   \n",
       "8   2008  88607060.0             1600000             0.018057   \n",
       "9   2025  78200000.0             8000000                  NaN   \n",
       "10  2025         NaN             4400000                  NaN   \n",
       "\n",
       "    Collision Freq.  Det. Data Rate  Instantaneous Luminosity     Detector  \\\n",
       "0      1.000000e+06    8.000000e+09              3.000000e+31        ARGUS   \n",
       "1      4.500000e+04    5.850000e+08              1.000000e+31         OPAL   \n",
       "2      4.500000e+04    1.350000e+09              1.000000e+31        ALEPH   \n",
       "3      1.041667e+07    1.041667e+12              1.600000e+31           H1   \n",
       "4      1.041667e+07    1.041667e+12              1.600000e+31         ZEUS   \n",
       "5      2.857143e+05    7.714286e+10              4.000000e+32       CDF II   \n",
       "6      2.857143e+05    8.571429e+10              4.000000e+32     D0 Run-2   \n",
       "7      4.000000e+07    8.000000e+13              1.000000e+34    CMS Run-1   \n",
       "8      4.000000e+07    6.400000e+13              1.000000e+34  ATLAS Run-1   \n",
       "9      4.000000e+07    3.200000e+14              7.000000e+34       HL-CMS   \n",
       "10     4.000000e+07    1.760000e+14              7.000000e+34     HL-ATLAS   \n",
       "\n",
       "   Accelerator                                         Unnamed: 9  \\\n",
       "0     DORIS II                                                NaN   \n",
       "1          LEP                                                NaN   \n",
       "2          LEP                                                NaN   \n",
       "3         HERA                                                NaN   \n",
       "4         HERA                                                NaN   \n",
       "5     Tevatron  https://sites.ualberta.ca/~gingrich/research/z...   \n",
       "6     Tevatron                                                NaN   \n",
       "7          LHC                                                NaN   \n",
       "8          LHC  https://twiki.cern.ch/twiki/bin/view/AtlasPubl...   \n",
       "9       HL-LHC                                                NaN   \n",
       "10      HL-LHC                                                NaN   \n",
       "\n",
       "          Unnamed: 10  \n",
       "0   *fixed event size  \n",
       "1                 NaN  \n",
       "2                 NaN  \n",
       "3                 NaN  \n",
       "4                 NaN  \n",
       "5                 NaN  \n",
       "6                 NaN  \n",
       "7                 NaN  \n",
       "8                 NaN  \n",
       "9                 NaN  \n",
       "10                NaN  "
      ]
     },
     "execution_count": 7,
     "metadata": {},
     "output_type": "execute_result"
    }
   ],
   "source": [
    "detectors"
   ]
  },
  {
   "cell_type": "code",
   "execution_count": 9,
   "metadata": {},
   "outputs": [],
   "source": [
    "lumi = detectors[\"Instantaneous Luminosity\"].values"
   ]
  },
  {
   "cell_type": "code",
   "execution_count": 11,
   "metadata": {},
   "outputs": [],
   "source": [
    "data_rate = detectors[\"Det. Data Rate\"].values"
   ]
  },
  {
   "cell_type": "code",
   "execution_count": 38,
   "metadata": {},
   "outputs": [],
   "source": [
    "def linear_fit(x, k, a):\n",
    "    y = k * x + a\n",
    "    return y"
   ]
  },
  {
   "cell_type": "code",
   "execution_count": null,
   "metadata": {},
   "outputs": [],
   "source": [
    "np.log"
   ]
  },
  {
   "cell_type": "code",
   "execution_count": 43,
   "metadata": {},
   "outputs": [],
   "source": [
    "k, cv = curve_fit(linear_fit, np.log10(lumi,), np.log10(data_rate ))"
   ]
  },
  {
   "cell_type": "code",
   "execution_count": 44,
   "metadata": {},
   "outputs": [
    {
     "data": {
      "text/plain": [
       "array([  1.15151841, -25.72955307])"
      ]
     },
     "execution_count": 44,
     "metadata": {},
     "output_type": "execute_result"
    }
   ],
   "source": [
    "k"
   ]
  },
  {
   "cell_type": "code",
   "execution_count": 45,
   "metadata": {},
   "outputs": [],
   "source": [
    "def power_law(x, k, a):\n",
    "    y = np.power(10, a) * np.power(x, k)\n",
    "    return y"
   ]
  },
  {
   "cell_type": "code",
   "execution_count": 46,
   "metadata": {},
   "outputs": [],
   "source": [
    "lumi_x = np.logspace(31, 35, 101)"
   ]
  },
  {
   "cell_type": "code",
   "execution_count": 47,
   "metadata": {},
   "outputs": [],
   "source": [
    "data_y = power_law(lumi_x, *k)"
   ]
  },
  {
   "cell_type": "code",
   "execution_count": 58,
   "metadata": {},
   "outputs": [
    {
     "data": {
      "application/vnd.plotly.v1+json": {
       "config": {
        "plotlyServerURL": "https://plot.ly"
       },
       "data": [
        {
         "hovertemplate": "Accelerator=DORIS II<br>Instantaneous Luminosity=%{x}<br>Det. Data Rate=%{y}<extra></extra>",
         "legendgroup": "DORIS II",
         "marker": {
          "color": "#636efa",
          "symbol": "circle"
         },
         "mode": "markers",
         "name": "DORIS II",
         "orientation": "v",
         "showlegend": true,
         "type": "scatter",
         "x": [
          3e+31
         ],
         "xaxis": "x",
         "y": [
          8000000000
         ],
         "yaxis": "y"
        },
        {
         "hovertemplate": "Accelerator=LEP<br>Instantaneous Luminosity=%{x}<br>Det. Data Rate=%{y}<extra></extra>",
         "legendgroup": "LEP",
         "marker": {
          "color": "#EF553B",
          "symbol": "circle"
         },
         "mode": "markers",
         "name": "LEP",
         "orientation": "v",
         "showlegend": true,
         "type": "scatter",
         "x": [
          1e+31,
          1e+31
         ],
         "xaxis": "x",
         "y": [
          585000000,
          1350000000
         ],
         "yaxis": "y"
        },
        {
         "hovertemplate": "Accelerator=HERA<br>Instantaneous Luminosity=%{x}<br>Det. Data Rate=%{y}<extra></extra>",
         "legendgroup": "HERA",
         "marker": {
          "color": "#00cc96",
          "symbol": "circle"
         },
         "mode": "markers",
         "name": "HERA",
         "orientation": "v",
         "showlegend": true,
         "type": "scatter",
         "x": [
          1.6e+31,
          1.6e+31
         ],
         "xaxis": "x",
         "y": [
          1041666666666.6666,
          1041666666666.6666
         ],
         "yaxis": "y"
        },
        {
         "hovertemplate": "Accelerator=Tevatron<br>Instantaneous Luminosity=%{x}<br>Det. Data Rate=%{y}<extra></extra>",
         "legendgroup": "Tevatron",
         "marker": {
          "color": "#ab63fa",
          "symbol": "circle"
         },
         "mode": "markers",
         "name": "Tevatron",
         "orientation": "v",
         "showlegend": true,
         "type": "scatter",
         "x": [
          4e+32,
          4e+32
         ],
         "xaxis": "x",
         "y": [
          77142857142.85715,
          85714285714.28572
         ],
         "yaxis": "y"
        },
        {
         "hovertemplate": "Accelerator=LHC<br>Instantaneous Luminosity=%{x}<br>Det. Data Rate=%{y}<extra></extra>",
         "legendgroup": "LHC",
         "marker": {
          "color": "#FFA15A",
          "symbol": "circle"
         },
         "mode": "markers",
         "name": "LHC",
         "orientation": "v",
         "showlegend": true,
         "type": "scatter",
         "x": [
          1e+34,
          1e+34
         ],
         "xaxis": "x",
         "y": [
          80000000000000,
          64000000000000
         ],
         "yaxis": "y"
        },
        {
         "hovertemplate": "Accelerator=HL-LHC<br>Instantaneous Luminosity=%{x}<br>Det. Data Rate=%{y}<extra></extra>",
         "legendgroup": "HL-LHC",
         "marker": {
          "color": "#19d3f3",
          "symbol": "circle"
         },
         "mode": "markers",
         "name": "HL-LHC",
         "orientation": "v",
         "showlegend": true,
         "type": "scatter",
         "x": [
          7e+34,
          7e+34
         ],
         "xaxis": "x",
         "y": [
          320000000000000,
          176000000000000
         ],
         "yaxis": "y"
        },
        {
         "name": "Power Law Fit",
         "type": "scatter",
         "x": [
          1e+31,
          1.096478196143183e+31,
          1.2022644346174083e+31,
          1.31825673855641e+31,
          1.445439770745928e+31,
          1.584893192461111e+31,
          1.7378008287493693e+31,
          1.9054607179632522e+31,
          2.089296130854041e+31,
          2.29086765276777e+31,
          2.511886431509572e+31,
          2.7542287033381744e+31,
          3.0199517204020194e+31,
          3.3113112148259075e+31,
          3.6307805477010025e+31,
          3.9810717055349854e+31,
          4.365158322401665e+31,
          4.78630092322638e+31,
          5.248074602497712e+31,
          5.75439937337159e+31,
          6.309573444801943e+31,
          6.918309709189362e+31,
          7.58577575029182e+31,
          8.317637711026743e+31,
          9.120108393559115e+31,
          1e+32,
          1.096478196143183e+32,
          1.2022644346174081e+32,
          1.3182567385563993e+32,
          1.4454397707459162e+32,
          1.5848931924611238e+32,
          1.7378008287493833e+32,
          1.905460717963252e+32,
          2.0892961308540408e+32,
          2.29086765276777e+32,
          2.511886431509572e+32,
          2.754228703338152e+32,
          3.0199517204019943e+32,
          3.311311214825935e+32,
          3.630780547701032e+32,
          3.981071705534986e+32,
          4.3651583224016654e+32,
          4.7863009232263804e+32,
          5.248074602497712e+32,
          5.754399373371543e+32,
          6.309573444801891e+32,
          6.918309709189419e+32,
          7.585775750291882e+32,
          8.317637711026743e+32,
          9.120108393559115e+32,
          1e+33,
          1.0964781961431829e+33,
          1.2022644346174082e+33,
          1.3182567385563993e+33,
          1.4454397707459162e+33,
          1.584893192461124e+33,
          1.7378008287493834e+33,
          1.9054607179632523e+33,
          2.0892961308540407e+33,
          2.29086765276777e+33,
          2.511886431509572e+33,
          2.754228703338152e+33,
          3.019951720401994e+33,
          3.3113112148259346e+33,
          3.630780547701032e+33,
          3.9810717055349856e+33,
          4.3651583224016654e+33,
          4.78630092322638e+33,
          5.248074602497712e+33,
          5.754399373371543e+33,
          6.309573444801891e+33,
          6.918309709189419e+33,
          7.585775750291882e+33,
          8.317637711026742e+33,
          9.120108393559115e+33,
          1e+34,
          1.096478196143183e+34,
          1.2022644346174083e+34,
          1.3182567385563993e+34,
          1.4454397707459161e+34,
          1.584893192461124e+34,
          1.7378008287493834e+34,
          1.9054607179632521e+34,
          2.089296130854041e+34,
          2.29086765276777e+34,
          2.511886431509572e+34,
          2.754228703338152e+34,
          3.0199517204019944e+34,
          3.311311214825935e+34,
          3.6307805477010324e+34,
          3.9810717055349853e+34,
          4.365158322401666e+34,
          4.78630092322638e+34,
          5.2480746024977125e+34,
          5.754399373371543e+34,
          6.309573444801891e+34,
          6.9183097091894195e+34,
          7.585775750291882e+34,
          8.317637711026742e+34,
          9.120108393559115e+34,
          1e+35
         ],
         "y": [
          9279350076.972782,
          10317590708.239206,
          11471997191.58265,
          12755567000.59692,
          14182751859.989716,
          15769620457.689457,
          17534039362.35532,
          19495874183.244278,
          21677213237.294247,
          24102616241.695984,
          26799390831.982216,
          29797900018.95672,
          33131904046.121105,
          36838940496.57964,
          40960746929.04401,
          45543730801.40509,
          50639491972.741875,
          56305403666.6288,
          62605258436.804955,
          69609986408.14548,
          77398453879.61064,
          86058351280.6609,
          95687180478.63525,
          106393352553.206,
          118297408397.75366,
          131533375890.43976,
          146250278915.35992,
          162613815223.8758,
          180808222027.1761,
          201038350324.7924,
          223531971323.95886,
          248542340917.7879,
          276351051095.8074,
          307271200390.8378,
          341650919058.36017,
          379877288678.3783,
          422380700310.6167,
          469639700271.5614,
          522186378092.00665,
          580612357318.112,
          645575456606.6025,
          717807096111.2529,
          798120532549.3783,
          887420015666.96,
          986710969195.1514,
          1097111310925.6451,
          1219864039357.7627,
          1356351228630.3103,
          1508109589307.6057,
          1676847770218.276,
          1864465596148.7188,
          2073075457988.47,
          2305026096159.354,
          2562929045106.2695,
          2849688036588.3833,
          3168531692822.728,
          3523049877572.2734,
          3917234114456.568,
          4355522527553.9805,
          4842849810283.033,
          5384702785162.611,
          5987182179998.973,
          6657071316038.24,
          7401912481445.079,
          8230091849996.443,
          9150933901092.822,
          10174806404160.129,
          11313237149464.562,
          12579043739613.033,
          13986477903063.023,
          15551385954469.072,
          17291387208490.746,
          19226072355823,
          21377224034971.16,
          23769062083184.21,
          26428516227833.395,
          29385529288469.24,
          32673394303312.11,
          36329129375886.734,
          40393894462202.48,
          44913454791090.945,
          49938696135350.125,
          55526197735149.945,
          61738869324233.22,
          68646659431207.875,
          76327342930697.06,
          84867396711393.34,
          94362973320172.42,
          104920983544536.36,
          116660300122180.88,
          129713096130292.8,
          144226333123478.06,
          160363415775306.6,
          178306031653089.12,
          198256196839928.12,
          220438530435722.16,
          245102783545756.16,
          272526651230756.97,
          303018899078254.06,
          336922839597254.06,
          374620197577054.25
         ]
        }
       ],
       "layout": {
        "height": 600,
        "legend": {
         "title": {
          "text": "Accelerator"
         },
         "tracegroupgap": 0
        },
        "margin": {
         "t": 60
        },
        "template": {
         "data": {
          "bar": [
           {
            "error_x": {
             "color": "#2a3f5f"
            },
            "error_y": {
             "color": "#2a3f5f"
            },
            "marker": {
             "line": {
              "color": "#E5ECF6",
              "width": 0.5
             },
             "pattern": {
              "fillmode": "overlay",
              "size": 10,
              "solidity": 0.2
             }
            },
            "type": "bar"
           }
          ],
          "barpolar": [
           {
            "marker": {
             "line": {
              "color": "#E5ECF6",
              "width": 0.5
             },
             "pattern": {
              "fillmode": "overlay",
              "size": 10,
              "solidity": 0.2
             }
            },
            "type": "barpolar"
           }
          ],
          "carpet": [
           {
            "aaxis": {
             "endlinecolor": "#2a3f5f",
             "gridcolor": "white",
             "linecolor": "white",
             "minorgridcolor": "white",
             "startlinecolor": "#2a3f5f"
            },
            "baxis": {
             "endlinecolor": "#2a3f5f",
             "gridcolor": "white",
             "linecolor": "white",
             "minorgridcolor": "white",
             "startlinecolor": "#2a3f5f"
            },
            "type": "carpet"
           }
          ],
          "choropleth": [
           {
            "colorbar": {
             "outlinewidth": 0,
             "ticks": ""
            },
            "type": "choropleth"
           }
          ],
          "contour": [
           {
            "colorbar": {
             "outlinewidth": 0,
             "ticks": ""
            },
            "colorscale": [
             [
              0,
              "#0d0887"
             ],
             [
              0.1111111111111111,
              "#46039f"
             ],
             [
              0.2222222222222222,
              "#7201a8"
             ],
             [
              0.3333333333333333,
              "#9c179e"
             ],
             [
              0.4444444444444444,
              "#bd3786"
             ],
             [
              0.5555555555555556,
              "#d8576b"
             ],
             [
              0.6666666666666666,
              "#ed7953"
             ],
             [
              0.7777777777777778,
              "#fb9f3a"
             ],
             [
              0.8888888888888888,
              "#fdca26"
             ],
             [
              1,
              "#f0f921"
             ]
            ],
            "type": "contour"
           }
          ],
          "contourcarpet": [
           {
            "colorbar": {
             "outlinewidth": 0,
             "ticks": ""
            },
            "type": "contourcarpet"
           }
          ],
          "heatmap": [
           {
            "colorbar": {
             "outlinewidth": 0,
             "ticks": ""
            },
            "colorscale": [
             [
              0,
              "#0d0887"
             ],
             [
              0.1111111111111111,
              "#46039f"
             ],
             [
              0.2222222222222222,
              "#7201a8"
             ],
             [
              0.3333333333333333,
              "#9c179e"
             ],
             [
              0.4444444444444444,
              "#bd3786"
             ],
             [
              0.5555555555555556,
              "#d8576b"
             ],
             [
              0.6666666666666666,
              "#ed7953"
             ],
             [
              0.7777777777777778,
              "#fb9f3a"
             ],
             [
              0.8888888888888888,
              "#fdca26"
             ],
             [
              1,
              "#f0f921"
             ]
            ],
            "type": "heatmap"
           }
          ],
          "heatmapgl": [
           {
            "colorbar": {
             "outlinewidth": 0,
             "ticks": ""
            },
            "colorscale": [
             [
              0,
              "#0d0887"
             ],
             [
              0.1111111111111111,
              "#46039f"
             ],
             [
              0.2222222222222222,
              "#7201a8"
             ],
             [
              0.3333333333333333,
              "#9c179e"
             ],
             [
              0.4444444444444444,
              "#bd3786"
             ],
             [
              0.5555555555555556,
              "#d8576b"
             ],
             [
              0.6666666666666666,
              "#ed7953"
             ],
             [
              0.7777777777777778,
              "#fb9f3a"
             ],
             [
              0.8888888888888888,
              "#fdca26"
             ],
             [
              1,
              "#f0f921"
             ]
            ],
            "type": "heatmapgl"
           }
          ],
          "histogram": [
           {
            "marker": {
             "pattern": {
              "fillmode": "overlay",
              "size": 10,
              "solidity": 0.2
             }
            },
            "type": "histogram"
           }
          ],
          "histogram2d": [
           {
            "colorbar": {
             "outlinewidth": 0,
             "ticks": ""
            },
            "colorscale": [
             [
              0,
              "#0d0887"
             ],
             [
              0.1111111111111111,
              "#46039f"
             ],
             [
              0.2222222222222222,
              "#7201a8"
             ],
             [
              0.3333333333333333,
              "#9c179e"
             ],
             [
              0.4444444444444444,
              "#bd3786"
             ],
             [
              0.5555555555555556,
              "#d8576b"
             ],
             [
              0.6666666666666666,
              "#ed7953"
             ],
             [
              0.7777777777777778,
              "#fb9f3a"
             ],
             [
              0.8888888888888888,
              "#fdca26"
             ],
             [
              1,
              "#f0f921"
             ]
            ],
            "type": "histogram2d"
           }
          ],
          "histogram2dcontour": [
           {
            "colorbar": {
             "outlinewidth": 0,
             "ticks": ""
            },
            "colorscale": [
             [
              0,
              "#0d0887"
             ],
             [
              0.1111111111111111,
              "#46039f"
             ],
             [
              0.2222222222222222,
              "#7201a8"
             ],
             [
              0.3333333333333333,
              "#9c179e"
             ],
             [
              0.4444444444444444,
              "#bd3786"
             ],
             [
              0.5555555555555556,
              "#d8576b"
             ],
             [
              0.6666666666666666,
              "#ed7953"
             ],
             [
              0.7777777777777778,
              "#fb9f3a"
             ],
             [
              0.8888888888888888,
              "#fdca26"
             ],
             [
              1,
              "#f0f921"
             ]
            ],
            "type": "histogram2dcontour"
           }
          ],
          "mesh3d": [
           {
            "colorbar": {
             "outlinewidth": 0,
             "ticks": ""
            },
            "type": "mesh3d"
           }
          ],
          "parcoords": [
           {
            "line": {
             "colorbar": {
              "outlinewidth": 0,
              "ticks": ""
             }
            },
            "type": "parcoords"
           }
          ],
          "pie": [
           {
            "automargin": true,
            "type": "pie"
           }
          ],
          "scatter": [
           {
            "fillpattern": {
             "fillmode": "overlay",
             "size": 10,
             "solidity": 0.2
            },
            "type": "scatter"
           }
          ],
          "scatter3d": [
           {
            "line": {
             "colorbar": {
              "outlinewidth": 0,
              "ticks": ""
             }
            },
            "marker": {
             "colorbar": {
              "outlinewidth": 0,
              "ticks": ""
             }
            },
            "type": "scatter3d"
           }
          ],
          "scattercarpet": [
           {
            "marker": {
             "colorbar": {
              "outlinewidth": 0,
              "ticks": ""
             }
            },
            "type": "scattercarpet"
           }
          ],
          "scattergeo": [
           {
            "marker": {
             "colorbar": {
              "outlinewidth": 0,
              "ticks": ""
             }
            },
            "type": "scattergeo"
           }
          ],
          "scattergl": [
           {
            "marker": {
             "colorbar": {
              "outlinewidth": 0,
              "ticks": ""
             }
            },
            "type": "scattergl"
           }
          ],
          "scattermapbox": [
           {
            "marker": {
             "colorbar": {
              "outlinewidth": 0,
              "ticks": ""
             }
            },
            "type": "scattermapbox"
           }
          ],
          "scatterpolar": [
           {
            "marker": {
             "colorbar": {
              "outlinewidth": 0,
              "ticks": ""
             }
            },
            "type": "scatterpolar"
           }
          ],
          "scatterpolargl": [
           {
            "marker": {
             "colorbar": {
              "outlinewidth": 0,
              "ticks": ""
             }
            },
            "type": "scatterpolargl"
           }
          ],
          "scatterternary": [
           {
            "marker": {
             "colorbar": {
              "outlinewidth": 0,
              "ticks": ""
             }
            },
            "type": "scatterternary"
           }
          ],
          "surface": [
           {
            "colorbar": {
             "outlinewidth": 0,
             "ticks": ""
            },
            "colorscale": [
             [
              0,
              "#0d0887"
             ],
             [
              0.1111111111111111,
              "#46039f"
             ],
             [
              0.2222222222222222,
              "#7201a8"
             ],
             [
              0.3333333333333333,
              "#9c179e"
             ],
             [
              0.4444444444444444,
              "#bd3786"
             ],
             [
              0.5555555555555556,
              "#d8576b"
             ],
             [
              0.6666666666666666,
              "#ed7953"
             ],
             [
              0.7777777777777778,
              "#fb9f3a"
             ],
             [
              0.8888888888888888,
              "#fdca26"
             ],
             [
              1,
              "#f0f921"
             ]
            ],
            "type": "surface"
           }
          ],
          "table": [
           {
            "cells": {
             "fill": {
              "color": "#EBF0F8"
             },
             "line": {
              "color": "white"
             }
            },
            "header": {
             "fill": {
              "color": "#C8D4E3"
             },
             "line": {
              "color": "white"
             }
            },
            "type": "table"
           }
          ]
         },
         "layout": {
          "annotationdefaults": {
           "arrowcolor": "#2a3f5f",
           "arrowhead": 0,
           "arrowwidth": 1
          },
          "autotypenumbers": "strict",
          "coloraxis": {
           "colorbar": {
            "outlinewidth": 0,
            "ticks": ""
           }
          },
          "colorscale": {
           "diverging": [
            [
             0,
             "#8e0152"
            ],
            [
             0.1,
             "#c51b7d"
            ],
            [
             0.2,
             "#de77ae"
            ],
            [
             0.3,
             "#f1b6da"
            ],
            [
             0.4,
             "#fde0ef"
            ],
            [
             0.5,
             "#f7f7f7"
            ],
            [
             0.6,
             "#e6f5d0"
            ],
            [
             0.7,
             "#b8e186"
            ],
            [
             0.8,
             "#7fbc41"
            ],
            [
             0.9,
             "#4d9221"
            ],
            [
             1,
             "#276419"
            ]
           ],
           "sequential": [
            [
             0,
             "#0d0887"
            ],
            [
             0.1111111111111111,
             "#46039f"
            ],
            [
             0.2222222222222222,
             "#7201a8"
            ],
            [
             0.3333333333333333,
             "#9c179e"
            ],
            [
             0.4444444444444444,
             "#bd3786"
            ],
            [
             0.5555555555555556,
             "#d8576b"
            ],
            [
             0.6666666666666666,
             "#ed7953"
            ],
            [
             0.7777777777777778,
             "#fb9f3a"
            ],
            [
             0.8888888888888888,
             "#fdca26"
            ],
            [
             1,
             "#f0f921"
            ]
           ],
           "sequentialminus": [
            [
             0,
             "#0d0887"
            ],
            [
             0.1111111111111111,
             "#46039f"
            ],
            [
             0.2222222222222222,
             "#7201a8"
            ],
            [
             0.3333333333333333,
             "#9c179e"
            ],
            [
             0.4444444444444444,
             "#bd3786"
            ],
            [
             0.5555555555555556,
             "#d8576b"
            ],
            [
             0.6666666666666666,
             "#ed7953"
            ],
            [
             0.7777777777777778,
             "#fb9f3a"
            ],
            [
             0.8888888888888888,
             "#fdca26"
            ],
            [
             1,
             "#f0f921"
            ]
           ]
          },
          "colorway": [
           "#636efa",
           "#EF553B",
           "#00cc96",
           "#ab63fa",
           "#FFA15A",
           "#19d3f3",
           "#FF6692",
           "#B6E880",
           "#FF97FF",
           "#FECB52"
          ],
          "font": {
           "color": "#2a3f5f"
          },
          "geo": {
           "bgcolor": "white",
           "lakecolor": "white",
           "landcolor": "#E5ECF6",
           "showlakes": true,
           "showland": true,
           "subunitcolor": "white"
          },
          "hoverlabel": {
           "align": "left"
          },
          "hovermode": "closest",
          "mapbox": {
           "style": "light"
          },
          "paper_bgcolor": "white",
          "plot_bgcolor": "#E5ECF6",
          "polar": {
           "angularaxis": {
            "gridcolor": "white",
            "linecolor": "white",
            "ticks": ""
           },
           "bgcolor": "#E5ECF6",
           "radialaxis": {
            "gridcolor": "white",
            "linecolor": "white",
            "ticks": ""
           }
          },
          "scene": {
           "xaxis": {
            "backgroundcolor": "#E5ECF6",
            "gridcolor": "white",
            "gridwidth": 2,
            "linecolor": "white",
            "showbackground": true,
            "ticks": "",
            "zerolinecolor": "white"
           },
           "yaxis": {
            "backgroundcolor": "#E5ECF6",
            "gridcolor": "white",
            "gridwidth": 2,
            "linecolor": "white",
            "showbackground": true,
            "ticks": "",
            "zerolinecolor": "white"
           },
           "zaxis": {
            "backgroundcolor": "#E5ECF6",
            "gridcolor": "white",
            "gridwidth": 2,
            "linecolor": "white",
            "showbackground": true,
            "ticks": "",
            "zerolinecolor": "white"
           }
          },
          "shapedefaults": {
           "line": {
            "color": "#2a3f5f"
           }
          },
          "ternary": {
           "aaxis": {
            "gridcolor": "white",
            "linecolor": "white",
            "ticks": ""
           },
           "baxis": {
            "gridcolor": "white",
            "linecolor": "white",
            "ticks": ""
           },
           "bgcolor": "#E5ECF6",
           "caxis": {
            "gridcolor": "white",
            "linecolor": "white",
            "ticks": ""
           }
          },
          "title": {
           "x": 0.05
          },
          "xaxis": {
           "automargin": true,
           "gridcolor": "white",
           "linecolor": "white",
           "ticks": "",
           "title": {
            "standoff": 15
           },
           "zerolinecolor": "white",
           "zerolinewidth": 2
          },
          "yaxis": {
           "automargin": true,
           "gridcolor": "white",
           "linecolor": "white",
           "ticks": "",
           "title": {
            "standoff": 15
           },
           "zerolinecolor": "white",
           "zerolinewidth": 2
          }
         }
        },
        "title": {
         "text": "Detector Data Rate vs. Instantaneous Luminosity"
        },
        "width": 800,
        "xaxis": {
         "anchor": "y",
         "domain": [
          0,
          1
         ],
         "title": {
          "text": "Instantaneous Luminosity (1/cm<sup>2</sup>s)"
         },
         "type": "log"
        },
        "yaxis": {
         "anchor": "x",
         "domain": [
          0,
          1
         ],
         "title": {
          "text": "Detector Data Rates (B/s)"
         },
         "type": "log"
        }
       }
      }
     },
     "metadata": {},
     "output_type": "display_data"
    }
   ],
   "source": [
    "fig = px.scatter(detectors,\n",
    "                x = \"Instantaneous Luminosity\",\n",
    "                y = \"Det. Data Rate\",\n",
    "                color = \"Accelerator\",\n",
    "                width = 800,\n",
    "                height = 600)\n",
    "\n",
    "fig.add_trace(go.Scatter(x = lumi_x, y = data_y, name=\"Power Law Fit\"))\n",
    "\n",
    "fig.update_layout(xaxis_type = \"log\",\n",
    "                yaxis_type = \"log\",\n",
    "                yaxis_title = \"Detector Data Rates (B/s)\",\n",
    "                xaxis_title = \"Instantaneous Luminosity (1/cm<sup>2</sup>s)\",\n",
    "                title = \"Detector Data Rate vs. Instantaneous Luminosity\")"
   ]
  },
  {
   "cell_type": "code",
   "execution_count": null,
   "metadata": {},
   "outputs": [],
   "source": []
  }
 ],
 "metadata": {
  "kernelspec": {
   "display_name": "jax",
   "language": "python",
   "name": "python3"
  },
  "language_info": {
   "codemirror_mode": {
    "name": "ipython",
    "version": 3
   },
   "file_extension": ".py",
   "mimetype": "text/x-python",
   "name": "python",
   "nbconvert_exporter": "python",
   "pygments_lexer": "ipython3",
   "version": "3.10.4"
  }
 },
 "nbformat": 4,
 "nbformat_minor": 2
}
