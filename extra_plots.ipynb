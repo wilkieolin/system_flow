{
 "cells": [
  {
   "cell_type": "code",
   "execution_count": 1,
   "metadata": {},
   "outputs": [],
   "source": [
    "import pandas as pd\n",
    "import plotly.express as px\n",
    "import plotly.graph_objects as go\n",
    "import numpy as np"
   ]
  },
  {
   "cell_type": "code",
   "execution_count": 2,
   "metadata": {},
   "outputs": [],
   "source": [
    "from scipy.optimize import curve_fit"
   ]
  },
  {
   "cell_type": "code",
   "execution_count": 3,
   "metadata": {},
   "outputs": [],
   "source": [
    "detectors = pd.read_excel(\"detectors.xlsx\", sheet_name=\"summary\")"
   ]
  },
  {
   "cell_type": "code",
   "execution_count": 4,
   "metadata": {},
   "outputs": [
    {
     "data": {
      "text/html": [
       "<div>\n",
       "<style scoped>\n",
       "    .dataframe tbody tr th:only-of-type {\n",
       "        vertical-align: middle;\n",
       "    }\n",
       "\n",
       "    .dataframe tbody tr th {\n",
       "        vertical-align: top;\n",
       "    }\n",
       "\n",
       "    .dataframe thead th {\n",
       "        text-align: right;\n",
       "    }\n",
       "</style>\n",
       "<table border=\"1\" class=\"dataframe\">\n",
       "  <thead>\n",
       "    <tr style=\"text-align: right;\">\n",
       "      <th></th>\n",
       "      <th>Year</th>\n",
       "      <th>Channels</th>\n",
       "      <th>Event Size (bytes)</th>\n",
       "      <th>Data Rate (byte/ch)</th>\n",
       "      <th>Collision Freq.</th>\n",
       "      <th>Det. Data Rate</th>\n",
       "      <th>Instantaneous Luminosity</th>\n",
       "      <th>Detector</th>\n",
       "      <th>Accelerator</th>\n",
       "      <th>Unnamed: 9</th>\n",
       "      <th>Unnamed: 10</th>\n",
       "    </tr>\n",
       "  </thead>\n",
       "  <tbody>\n",
       "    <tr>\n",
       "      <th>0</th>\n",
       "      <td>1982</td>\n",
       "      <td>10262.0</td>\n",
       "      <td>8000</td>\n",
       "      <td>0.779575</td>\n",
       "      <td>1.000000e+06</td>\n",
       "      <td>8.000000e+09</td>\n",
       "      <td>3.000000e+31</td>\n",
       "      <td>ARGUS</td>\n",
       "      <td>DORIS II</td>\n",
       "      <td>NaN</td>\n",
       "      <td>*fixed event size</td>\n",
       "    </tr>\n",
       "    <tr>\n",
       "      <th>1</th>\n",
       "      <td>1989</td>\n",
       "      <td>165586.0</td>\n",
       "      <td>13000</td>\n",
       "      <td>0.078509</td>\n",
       "      <td>4.500000e+04</td>\n",
       "      <td>5.850000e+08</td>\n",
       "      <td>1.000000e+31</td>\n",
       "      <td>OPAL</td>\n",
       "      <td>LEP</td>\n",
       "      <td>NaN</td>\n",
       "      <td>NaN</td>\n",
       "    </tr>\n",
       "    <tr>\n",
       "      <th>2</th>\n",
       "      <td>1989</td>\n",
       "      <td>232064.0</td>\n",
       "      <td>30000</td>\n",
       "      <td>0.129275</td>\n",
       "      <td>4.500000e+04</td>\n",
       "      <td>1.350000e+09</td>\n",
       "      <td>1.000000e+31</td>\n",
       "      <td>ALEPH</td>\n",
       "      <td>LEP</td>\n",
       "      <td>NaN</td>\n",
       "      <td>NaN</td>\n",
       "    </tr>\n",
       "    <tr>\n",
       "      <th>3</th>\n",
       "      <td>1992</td>\n",
       "      <td>270000.0</td>\n",
       "      <td>100000</td>\n",
       "      <td>NaN</td>\n",
       "      <td>1.041667e+07</td>\n",
       "      <td>1.041667e+12</td>\n",
       "      <td>1.600000e+31</td>\n",
       "      <td>H1</td>\n",
       "      <td>HERA</td>\n",
       "      <td>NaN</td>\n",
       "      <td>NaN</td>\n",
       "    </tr>\n",
       "    <tr>\n",
       "      <th>4</th>\n",
       "      <td>1992</td>\n",
       "      <td>250000.0</td>\n",
       "      <td>100000</td>\n",
       "      <td>0.400000</td>\n",
       "      <td>1.041667e+07</td>\n",
       "      <td>1.041667e+12</td>\n",
       "      <td>1.600000e+31</td>\n",
       "      <td>ZEUS</td>\n",
       "      <td>HERA</td>\n",
       "      <td>NaN</td>\n",
       "      <td>NaN</td>\n",
       "    </tr>\n",
       "    <tr>\n",
       "      <th>5</th>\n",
       "      <td>1996</td>\n",
       "      <td>704544.0</td>\n",
       "      <td>270000</td>\n",
       "      <td>0.383227</td>\n",
       "      <td>2.857143e+05</td>\n",
       "      <td>7.714286e+10</td>\n",
       "      <td>4.000000e+32</td>\n",
       "      <td>CDF II</td>\n",
       "      <td>Tevatron</td>\n",
       "      <td>https://sites.ualberta.ca/~gingrich/research/z...</td>\n",
       "      <td>NaN</td>\n",
       "    </tr>\n",
       "    <tr>\n",
       "      <th>6</th>\n",
       "      <td>2001</td>\n",
       "      <td>920000.0</td>\n",
       "      <td>300000</td>\n",
       "      <td>0.326087</td>\n",
       "      <td>2.857143e+05</td>\n",
       "      <td>8.571429e+10</td>\n",
       "      <td>4.000000e+32</td>\n",
       "      <td>D0 Run-2</td>\n",
       "      <td>Tevatron</td>\n",
       "      <td>NaN</td>\n",
       "      <td>NaN</td>\n",
       "    </tr>\n",
       "    <tr>\n",
       "      <th>7</th>\n",
       "      <td>2008</td>\n",
       "      <td>78200000.0</td>\n",
       "      <td>2000000</td>\n",
       "      <td>0.025575</td>\n",
       "      <td>4.000000e+07</td>\n",
       "      <td>8.000000e+13</td>\n",
       "      <td>1.000000e+34</td>\n",
       "      <td>CMS Run-1</td>\n",
       "      <td>LHC</td>\n",
       "      <td>NaN</td>\n",
       "      <td>NaN</td>\n",
       "    </tr>\n",
       "    <tr>\n",
       "      <th>8</th>\n",
       "      <td>2008</td>\n",
       "      <td>88607060.0</td>\n",
       "      <td>1600000</td>\n",
       "      <td>0.018057</td>\n",
       "      <td>4.000000e+07</td>\n",
       "      <td>6.400000e+13</td>\n",
       "      <td>1.000000e+34</td>\n",
       "      <td>ATLAS Run-1</td>\n",
       "      <td>LHC</td>\n",
       "      <td>https://twiki.cern.ch/twiki/bin/view/AtlasPubl...</td>\n",
       "      <td>NaN</td>\n",
       "    </tr>\n",
       "    <tr>\n",
       "      <th>9</th>\n",
       "      <td>2025</td>\n",
       "      <td>78200000.0</td>\n",
       "      <td>8000000</td>\n",
       "      <td>NaN</td>\n",
       "      <td>4.000000e+07</td>\n",
       "      <td>3.200000e+14</td>\n",
       "      <td>7.000000e+34</td>\n",
       "      <td>HL-CMS</td>\n",
       "      <td>HL-LHC</td>\n",
       "      <td>NaN</td>\n",
       "      <td>NaN</td>\n",
       "    </tr>\n",
       "    <tr>\n",
       "      <th>10</th>\n",
       "      <td>2025</td>\n",
       "      <td>NaN</td>\n",
       "      <td>4400000</td>\n",
       "      <td>NaN</td>\n",
       "      <td>4.000000e+07</td>\n",
       "      <td>1.760000e+14</td>\n",
       "      <td>7.000000e+34</td>\n",
       "      <td>HL-ATLAS</td>\n",
       "      <td>HL-LHC</td>\n",
       "      <td>NaN</td>\n",
       "      <td>NaN</td>\n",
       "    </tr>\n",
       "  </tbody>\n",
       "</table>\n",
       "</div>"
      ],
      "text/plain": [
       "    Year    Channels  Event Size (bytes)  Data Rate (byte/ch)  \\\n",
       "0   1982     10262.0                8000             0.779575   \n",
       "1   1989    165586.0               13000             0.078509   \n",
       "2   1989    232064.0               30000             0.129275   \n",
       "3   1992    270000.0              100000                  NaN   \n",
       "4   1992    250000.0              100000             0.400000   \n",
       "5   1996    704544.0              270000             0.383227   \n",
       "6   2001    920000.0              300000             0.326087   \n",
       "7   2008  78200000.0             2000000             0.025575   \n",
       "8   2008  88607060.0             1600000             0.018057   \n",
       "9   2025  78200000.0             8000000                  NaN   \n",
       "10  2025         NaN             4400000                  NaN   \n",
       "\n",
       "    Collision Freq.  Det. Data Rate  Instantaneous Luminosity     Detector  \\\n",
       "0      1.000000e+06    8.000000e+09              3.000000e+31        ARGUS   \n",
       "1      4.500000e+04    5.850000e+08              1.000000e+31         OPAL   \n",
       "2      4.500000e+04    1.350000e+09              1.000000e+31        ALEPH   \n",
       "3      1.041667e+07    1.041667e+12              1.600000e+31           H1   \n",
       "4      1.041667e+07    1.041667e+12              1.600000e+31         ZEUS   \n",
       "5      2.857143e+05    7.714286e+10              4.000000e+32       CDF II   \n",
       "6      2.857143e+05    8.571429e+10              4.000000e+32     D0 Run-2   \n",
       "7      4.000000e+07    8.000000e+13              1.000000e+34    CMS Run-1   \n",
       "8      4.000000e+07    6.400000e+13              1.000000e+34  ATLAS Run-1   \n",
       "9      4.000000e+07    3.200000e+14              7.000000e+34       HL-CMS   \n",
       "10     4.000000e+07    1.760000e+14              7.000000e+34     HL-ATLAS   \n",
       "\n",
       "   Accelerator                                         Unnamed: 9  \\\n",
       "0     DORIS II                                                NaN   \n",
       "1          LEP                                                NaN   \n",
       "2          LEP                                                NaN   \n",
       "3         HERA                                                NaN   \n",
       "4         HERA                                                NaN   \n",
       "5     Tevatron  https://sites.ualberta.ca/~gingrich/research/z...   \n",
       "6     Tevatron                                                NaN   \n",
       "7          LHC                                                NaN   \n",
       "8          LHC  https://twiki.cern.ch/twiki/bin/view/AtlasPubl...   \n",
       "9       HL-LHC                                                NaN   \n",
       "10      HL-LHC                                                NaN   \n",
       "\n",
       "          Unnamed: 10  \n",
       "0   *fixed event size  \n",
       "1                 NaN  \n",
       "2                 NaN  \n",
       "3                 NaN  \n",
       "4                 NaN  \n",
       "5                 NaN  \n",
       "6                 NaN  \n",
       "7                 NaN  \n",
       "8                 NaN  \n",
       "9                 NaN  \n",
       "10                NaN  "
      ]
     },
     "execution_count": 4,
     "metadata": {},
     "output_type": "execute_result"
    }
   ],
   "source": [
    "detectors"
   ]
  },
  {
   "cell_type": "code",
   "execution_count": 5,
   "metadata": {},
   "outputs": [],
   "source": [
    "lumi = detectors[\"Year\"].values"
   ]
  },
  {
   "cell_type": "code",
   "execution_count": 6,
   "metadata": {},
   "outputs": [],
   "source": [
    "data_rate = detectors[\"Det. Data Rate\"].values"
   ]
  },
  {
   "cell_type": "code",
   "execution_count": 7,
   "metadata": {},
   "outputs": [],
   "source": [
    "def linear_fit(x, k, a):\n",
    "    y = k * x + a\n",
    "    return y"
   ]
  },
  {
   "cell_type": "code",
   "execution_count": 8,
   "metadata": {},
   "outputs": [
    {
     "data": {
      "text/plain": [
       "<ufunc 'log'>"
      ]
     },
     "execution_count": 8,
     "metadata": {},
     "output_type": "execute_result"
    }
   ],
   "source": [
    "np.log"
   ]
  },
  {
   "cell_type": "code",
   "execution_count": 9,
   "metadata": {},
   "outputs": [],
   "source": [
    "k, cv = curve_fit(linear_fit, np.log10(lumi,), np.log10(data_rate ))"
   ]
  },
  {
   "cell_type": "code",
   "execution_count": 10,
   "metadata": {},
   "outputs": [],
   "source": [
    "def power_law(x, k, a):\n",
    "    y = np.power(10, a) * np.power(x, k)\n",
    "    return y"
   ]
  },
  {
   "cell_type": "code",
   "execution_count": 11,
   "metadata": {},
   "outputs": [],
   "source": [
    "lumi_x = np.logspace(31, 35, 101)"
   ]
  },
  {
   "cell_type": "code",
   "execution_count": 12,
   "metadata": {},
   "outputs": [
    {
     "name": "stderr",
     "output_type": "stream",
     "text": [
      "/var/folders/qc/b4ggx3516_qc8fy84rgtp36c0000gq/T/ipykernel_63852/3386070394.py:2: RuntimeWarning: overflow encountered in power\n",
      "  y = np.power(10, a) * np.power(x, k)\n",
      "/var/folders/qc/b4ggx3516_qc8fy84rgtp36c0000gq/T/ipykernel_63852/3386070394.py:2: RuntimeWarning: invalid value encountered in multiply\n",
      "  y = np.power(10, a) * np.power(x, k)\n"
     ]
    }
   ],
   "source": [
    "data_y = power_law(lumi_x, *k)"
   ]
  },
  {
   "cell_type": "code",
   "execution_count": 13,
   "metadata": {},
   "outputs": [
    {
     "data": {
      "application/vnd.plotly.v1+json": {
       "config": {
        "plotlyServerURL": "https://plot.ly"
       },
       "data": [
        {
         "hovertemplate": "Accelerator=DORIS II<br>Instantaneous Luminosity=%{x}<br>Det. Data Rate=%{y}<extra></extra>",
         "legendgroup": "DORIS II",
         "marker": {
          "color": "#636efa",
          "symbol": "circle"
         },
         "mode": "markers",
         "name": "DORIS II",
         "orientation": "v",
         "showlegend": true,
         "type": "scatter",
         "x": [
          3e+31
         ],
         "xaxis": "x",
         "y": [
          8000000000
         ],
         "yaxis": "y"
        },
        {
         "hovertemplate": "Accelerator=LEP<br>Instantaneous Luminosity=%{x}<br>Det. Data Rate=%{y}<extra></extra>",
         "legendgroup": "LEP",
         "marker": {
          "color": "#EF553B",
          "symbol": "circle"
         },
         "mode": "markers",
         "name": "LEP",
         "orientation": "v",
         "showlegend": true,
         "type": "scatter",
         "x": [
          1e+31,
          1e+31
         ],
         "xaxis": "x",
         "y": [
          585000000,
          1350000000
         ],
         "yaxis": "y"
        },
        {
         "hovertemplate": "Accelerator=HERA<br>Instantaneous Luminosity=%{x}<br>Det. Data Rate=%{y}<extra></extra>",
         "legendgroup": "HERA",
         "marker": {
          "color": "#00cc96",
          "symbol": "circle"
         },
         "mode": "markers",
         "name": "HERA",
         "orientation": "v",
         "showlegend": true,
         "type": "scatter",
         "x": [
          1.6e+31,
          1.6e+31
         ],
         "xaxis": "x",
         "y": [
          1041666666666.6666,
          1041666666666.6666
         ],
         "yaxis": "y"
        },
        {
         "hovertemplate": "Accelerator=Tevatron<br>Instantaneous Luminosity=%{x}<br>Det. Data Rate=%{y}<extra></extra>",
         "legendgroup": "Tevatron",
         "marker": {
          "color": "#ab63fa",
          "symbol": "circle"
         },
         "mode": "markers",
         "name": "Tevatron",
         "orientation": "v",
         "showlegend": true,
         "type": "scatter",
         "x": [
          4e+32,
          4e+32
         ],
         "xaxis": "x",
         "y": [
          77142857142.85715,
          85714285714.28572
         ],
         "yaxis": "y"
        },
        {
         "hovertemplate": "Accelerator=LHC<br>Instantaneous Luminosity=%{x}<br>Det. Data Rate=%{y}<extra></extra>",
         "legendgroup": "LHC",
         "marker": {
          "color": "#FFA15A",
          "symbol": "circle"
         },
         "mode": "markers",
         "name": "LHC",
         "orientation": "v",
         "showlegend": true,
         "type": "scatter",
         "x": [
          1e+34,
          1e+34
         ],
         "xaxis": "x",
         "y": [
          80000000000000,
          64000000000000
         ],
         "yaxis": "y"
        },
        {
         "hovertemplate": "Accelerator=HL-LHC<br>Instantaneous Luminosity=%{x}<br>Det. Data Rate=%{y}<extra></extra>",
         "legendgroup": "HL-LHC",
         "marker": {
          "color": "#19d3f3",
          "symbol": "circle"
         },
         "mode": "markers",
         "name": "HL-LHC",
         "orientation": "v",
         "showlegend": true,
         "type": "scatter",
         "x": [
          7e+34,
          7e+34
         ],
         "xaxis": "x",
         "y": [
          320000000000000,
          176000000000000
         ],
         "yaxis": "y"
        },
        {
         "name": "Power Law Fit",
         "type": "scatter",
         "x": [
          1e+31,
          1.096478196143183e+31,
          1.2022644346174083e+31,
          1.31825673855641e+31,
          1.445439770745928e+31,
          1.584893192461111e+31,
          1.7378008287493693e+31,
          1.9054607179632522e+31,
          2.089296130854041e+31,
          2.29086765276777e+31,
          2.511886431509572e+31,
          2.7542287033381744e+31,
          3.0199517204020194e+31,
          3.3113112148259075e+31,
          3.6307805477010025e+31,
          3.9810717055349854e+31,
          4.365158322401665e+31,
          4.78630092322638e+31,
          5.248074602497712e+31,
          5.75439937337159e+31,
          6.309573444801943e+31,
          6.918309709189362e+31,
          7.58577575029182e+31,
          8.317637711026743e+31,
          9.120108393559115e+31,
          1e+32,
          1.096478196143183e+32,
          1.2022644346174081e+32,
          1.3182567385563993e+32,
          1.4454397707459162e+32,
          1.5848931924611238e+32,
          1.7378008287493833e+32,
          1.905460717963252e+32,
          2.0892961308540408e+32,
          2.29086765276777e+32,
          2.511886431509572e+32,
          2.754228703338152e+32,
          3.0199517204019943e+32,
          3.311311214825935e+32,
          3.630780547701032e+32,
          3.981071705534986e+32,
          4.3651583224016654e+32,
          4.7863009232263804e+32,
          5.248074602497712e+32,
          5.754399373371543e+32,
          6.309573444801891e+32,
          6.918309709189419e+32,
          7.585775750291882e+32,
          8.317637711026743e+32,
          9.120108393559115e+32,
          1e+33,
          1.0964781961431829e+33,
          1.2022644346174082e+33,
          1.3182567385563993e+33,
          1.4454397707459162e+33,
          1.584893192461124e+33,
          1.7378008287493834e+33,
          1.9054607179632523e+33,
          2.0892961308540407e+33,
          2.29086765276777e+33,
          2.511886431509572e+33,
          2.754228703338152e+33,
          3.019951720401994e+33,
          3.3113112148259346e+33,
          3.630780547701032e+33,
          3.9810717055349856e+33,
          4.3651583224016654e+33,
          4.78630092322638e+33,
          5.248074602497712e+33,
          5.754399373371543e+33,
          6.309573444801891e+33,
          6.918309709189419e+33,
          7.585775750291882e+33,
          8.317637711026742e+33,
          9.120108393559115e+33,
          1e+34,
          1.096478196143183e+34,
          1.2022644346174083e+34,
          1.3182567385563993e+34,
          1.4454397707459161e+34,
          1.584893192461124e+34,
          1.7378008287493834e+34,
          1.9054607179632521e+34,
          2.089296130854041e+34,
          2.29086765276777e+34,
          2.511886431509572e+34,
          2.754228703338152e+34,
          3.0199517204019944e+34,
          3.311311214825935e+34,
          3.6307805477010324e+34,
          3.9810717055349853e+34,
          4.365158322401666e+34,
          4.78630092322638e+34,
          5.2480746024977125e+34,
          5.754399373371543e+34,
          6.309573444801891e+34,
          6.9183097091894195e+34,
          7.585775750291882e+34,
          8.317637711026742e+34,
          9.120108393559115e+34,
          1e+35
         ],
         "y": [
          null,
          null,
          null,
          null,
          null,
          null,
          null,
          null,
          null,
          null,
          null,
          null,
          null,
          null,
          null,
          null,
          null,
          null,
          null,
          null,
          null,
          null,
          null,
          null,
          null,
          null,
          null,
          null,
          null,
          null,
          null,
          null,
          null,
          null,
          null,
          null,
          null,
          null,
          null,
          null,
          null,
          null,
          null,
          null,
          null,
          null,
          null,
          null,
          null,
          null,
          null,
          null,
          null,
          null,
          null,
          null,
          null,
          null,
          null,
          null,
          null,
          null,
          null,
          null,
          null,
          null,
          null,
          null,
          null,
          null,
          null,
          null,
          null,
          null,
          null,
          null,
          null,
          null,
          null,
          null,
          null,
          null,
          null,
          null,
          null,
          null,
          null,
          null,
          null,
          null,
          null,
          null,
          null,
          null,
          null,
          null,
          null,
          null,
          null,
          null,
          null
         ]
        }
       ],
       "layout": {
        "height": 600,
        "legend": {
         "title": {
          "text": "Accelerator"
         },
         "tracegroupgap": 0
        },
        "margin": {
         "t": 60
        },
        "template": {
         "data": {
          "bar": [
           {
            "error_x": {
             "color": "#2a3f5f"
            },
            "error_y": {
             "color": "#2a3f5f"
            },
            "marker": {
             "line": {
              "color": "#E5ECF6",
              "width": 0.5
             },
             "pattern": {
              "fillmode": "overlay",
              "size": 10,
              "solidity": 0.2
             }
            },
            "type": "bar"
           }
          ],
          "barpolar": [
           {
            "marker": {
             "line": {
              "color": "#E5ECF6",
              "width": 0.5
             },
             "pattern": {
              "fillmode": "overlay",
              "size": 10,
              "solidity": 0.2
             }
            },
            "type": "barpolar"
           }
          ],
          "carpet": [
           {
            "aaxis": {
             "endlinecolor": "#2a3f5f",
             "gridcolor": "white",
             "linecolor": "white",
             "minorgridcolor": "white",
             "startlinecolor": "#2a3f5f"
            },
            "baxis": {
             "endlinecolor": "#2a3f5f",
             "gridcolor": "white",
             "linecolor": "white",
             "minorgridcolor": "white",
             "startlinecolor": "#2a3f5f"
            },
            "type": "carpet"
           }
          ],
          "choropleth": [
           {
            "colorbar": {
             "outlinewidth": 0,
             "ticks": ""
            },
            "type": "choropleth"
           }
          ],
          "contour": [
           {
            "colorbar": {
             "outlinewidth": 0,
             "ticks": ""
            },
            "colorscale": [
             [
              0,
              "#0d0887"
             ],
             [
              0.1111111111111111,
              "#46039f"
             ],
             [
              0.2222222222222222,
              "#7201a8"
             ],
             [
              0.3333333333333333,
              "#9c179e"
             ],
             [
              0.4444444444444444,
              "#bd3786"
             ],
             [
              0.5555555555555556,
              "#d8576b"
             ],
             [
              0.6666666666666666,
              "#ed7953"
             ],
             [
              0.7777777777777778,
              "#fb9f3a"
             ],
             [
              0.8888888888888888,
              "#fdca26"
             ],
             [
              1,
              "#f0f921"
             ]
            ],
            "type": "contour"
           }
          ],
          "contourcarpet": [
           {
            "colorbar": {
             "outlinewidth": 0,
             "ticks": ""
            },
            "type": "contourcarpet"
           }
          ],
          "heatmap": [
           {
            "colorbar": {
             "outlinewidth": 0,
             "ticks": ""
            },
            "colorscale": [
             [
              0,
              "#0d0887"
             ],
             [
              0.1111111111111111,
              "#46039f"
             ],
             [
              0.2222222222222222,
              "#7201a8"
             ],
             [
              0.3333333333333333,
              "#9c179e"
             ],
             [
              0.4444444444444444,
              "#bd3786"
             ],
             [
              0.5555555555555556,
              "#d8576b"
             ],
             [
              0.6666666666666666,
              "#ed7953"
             ],
             [
              0.7777777777777778,
              "#fb9f3a"
             ],
             [
              0.8888888888888888,
              "#fdca26"
             ],
             [
              1,
              "#f0f921"
             ]
            ],
            "type": "heatmap"
           }
          ],
          "heatmapgl": [
           {
            "colorbar": {
             "outlinewidth": 0,
             "ticks": ""
            },
            "colorscale": [
             [
              0,
              "#0d0887"
             ],
             [
              0.1111111111111111,
              "#46039f"
             ],
             [
              0.2222222222222222,
              "#7201a8"
             ],
             [
              0.3333333333333333,
              "#9c179e"
             ],
             [
              0.4444444444444444,
              "#bd3786"
             ],
             [
              0.5555555555555556,
              "#d8576b"
             ],
             [
              0.6666666666666666,
              "#ed7953"
             ],
             [
              0.7777777777777778,
              "#fb9f3a"
             ],
             [
              0.8888888888888888,
              "#fdca26"
             ],
             [
              1,
              "#f0f921"
             ]
            ],
            "type": "heatmapgl"
           }
          ],
          "histogram": [
           {
            "marker": {
             "pattern": {
              "fillmode": "overlay",
              "size": 10,
              "solidity": 0.2
             }
            },
            "type": "histogram"
           }
          ],
          "histogram2d": [
           {
            "colorbar": {
             "outlinewidth": 0,
             "ticks": ""
            },
            "colorscale": [
             [
              0,
              "#0d0887"
             ],
             [
              0.1111111111111111,
              "#46039f"
             ],
             [
              0.2222222222222222,
              "#7201a8"
             ],
             [
              0.3333333333333333,
              "#9c179e"
             ],
             [
              0.4444444444444444,
              "#bd3786"
             ],
             [
              0.5555555555555556,
              "#d8576b"
             ],
             [
              0.6666666666666666,
              "#ed7953"
             ],
             [
              0.7777777777777778,
              "#fb9f3a"
             ],
             [
              0.8888888888888888,
              "#fdca26"
             ],
             [
              1,
              "#f0f921"
             ]
            ],
            "type": "histogram2d"
           }
          ],
          "histogram2dcontour": [
           {
            "colorbar": {
             "outlinewidth": 0,
             "ticks": ""
            },
            "colorscale": [
             [
              0,
              "#0d0887"
             ],
             [
              0.1111111111111111,
              "#46039f"
             ],
             [
              0.2222222222222222,
              "#7201a8"
             ],
             [
              0.3333333333333333,
              "#9c179e"
             ],
             [
              0.4444444444444444,
              "#bd3786"
             ],
             [
              0.5555555555555556,
              "#d8576b"
             ],
             [
              0.6666666666666666,
              "#ed7953"
             ],
             [
              0.7777777777777778,
              "#fb9f3a"
             ],
             [
              0.8888888888888888,
              "#fdca26"
             ],
             [
              1,
              "#f0f921"
             ]
            ],
            "type": "histogram2dcontour"
           }
          ],
          "mesh3d": [
           {
            "colorbar": {
             "outlinewidth": 0,
             "ticks": ""
            },
            "type": "mesh3d"
           }
          ],
          "parcoords": [
           {
            "line": {
             "colorbar": {
              "outlinewidth": 0,
              "ticks": ""
             }
            },
            "type": "parcoords"
           }
          ],
          "pie": [
           {
            "automargin": true,
            "type": "pie"
           }
          ],
          "scatter": [
           {
            "fillpattern": {
             "fillmode": "overlay",
             "size": 10,
             "solidity": 0.2
            },
            "type": "scatter"
           }
          ],
          "scatter3d": [
           {
            "line": {
             "colorbar": {
              "outlinewidth": 0,
              "ticks": ""
             }
            },
            "marker": {
             "colorbar": {
              "outlinewidth": 0,
              "ticks": ""
             }
            },
            "type": "scatter3d"
           }
          ],
          "scattercarpet": [
           {
            "marker": {
             "colorbar": {
              "outlinewidth": 0,
              "ticks": ""
             }
            },
            "type": "scattercarpet"
           }
          ],
          "scattergeo": [
           {
            "marker": {
             "colorbar": {
              "outlinewidth": 0,
              "ticks": ""
             }
            },
            "type": "scattergeo"
           }
          ],
          "scattergl": [
           {
            "marker": {
             "colorbar": {
              "outlinewidth": 0,
              "ticks": ""
             }
            },
            "type": "scattergl"
           }
          ],
          "scattermapbox": [
           {
            "marker": {
             "colorbar": {
              "outlinewidth": 0,
              "ticks": ""
             }
            },
            "type": "scattermapbox"
           }
          ],
          "scatterpolar": [
           {
            "marker": {
             "colorbar": {
              "outlinewidth": 0,
              "ticks": ""
             }
            },
            "type": "scatterpolar"
           }
          ],
          "scatterpolargl": [
           {
            "marker": {
             "colorbar": {
              "outlinewidth": 0,
              "ticks": ""
             }
            },
            "type": "scatterpolargl"
           }
          ],
          "scatterternary": [
           {
            "marker": {
             "colorbar": {
              "outlinewidth": 0,
              "ticks": ""
             }
            },
            "type": "scatterternary"
           }
          ],
          "surface": [
           {
            "colorbar": {
             "outlinewidth": 0,
             "ticks": ""
            },
            "colorscale": [
             [
              0,
              "#0d0887"
             ],
             [
              0.1111111111111111,
              "#46039f"
             ],
             [
              0.2222222222222222,
              "#7201a8"
             ],
             [
              0.3333333333333333,
              "#9c179e"
             ],
             [
              0.4444444444444444,
              "#bd3786"
             ],
             [
              0.5555555555555556,
              "#d8576b"
             ],
             [
              0.6666666666666666,
              "#ed7953"
             ],
             [
              0.7777777777777778,
              "#fb9f3a"
             ],
             [
              0.8888888888888888,
              "#fdca26"
             ],
             [
              1,
              "#f0f921"
             ]
            ],
            "type": "surface"
           }
          ],
          "table": [
           {
            "cells": {
             "fill": {
              "color": "#EBF0F8"
             },
             "line": {
              "color": "white"
             }
            },
            "header": {
             "fill": {
              "color": "#C8D4E3"
             },
             "line": {
              "color": "white"
             }
            },
            "type": "table"
           }
          ]
         },
         "layout": {
          "annotationdefaults": {
           "arrowcolor": "#2a3f5f",
           "arrowhead": 0,
           "arrowwidth": 1
          },
          "autotypenumbers": "strict",
          "coloraxis": {
           "colorbar": {
            "outlinewidth": 0,
            "ticks": ""
           }
          },
          "colorscale": {
           "diverging": [
            [
             0,
             "#8e0152"
            ],
            [
             0.1,
             "#c51b7d"
            ],
            [
             0.2,
             "#de77ae"
            ],
            [
             0.3,
             "#f1b6da"
            ],
            [
             0.4,
             "#fde0ef"
            ],
            [
             0.5,
             "#f7f7f7"
            ],
            [
             0.6,
             "#e6f5d0"
            ],
            [
             0.7,
             "#b8e186"
            ],
            [
             0.8,
             "#7fbc41"
            ],
            [
             0.9,
             "#4d9221"
            ],
            [
             1,
             "#276419"
            ]
           ],
           "sequential": [
            [
             0,
             "#0d0887"
            ],
            [
             0.1111111111111111,
             "#46039f"
            ],
            [
             0.2222222222222222,
             "#7201a8"
            ],
            [
             0.3333333333333333,
             "#9c179e"
            ],
            [
             0.4444444444444444,
             "#bd3786"
            ],
            [
             0.5555555555555556,
             "#d8576b"
            ],
            [
             0.6666666666666666,
             "#ed7953"
            ],
            [
             0.7777777777777778,
             "#fb9f3a"
            ],
            [
             0.8888888888888888,
             "#fdca26"
            ],
            [
             1,
             "#f0f921"
            ]
           ],
           "sequentialminus": [
            [
             0,
             "#0d0887"
            ],
            [
             0.1111111111111111,
             "#46039f"
            ],
            [
             0.2222222222222222,
             "#7201a8"
            ],
            [
             0.3333333333333333,
             "#9c179e"
            ],
            [
             0.4444444444444444,
             "#bd3786"
            ],
            [
             0.5555555555555556,
             "#d8576b"
            ],
            [
             0.6666666666666666,
             "#ed7953"
            ],
            [
             0.7777777777777778,
             "#fb9f3a"
            ],
            [
             0.8888888888888888,
             "#fdca26"
            ],
            [
             1,
             "#f0f921"
            ]
           ]
          },
          "colorway": [
           "#636efa",
           "#EF553B",
           "#00cc96",
           "#ab63fa",
           "#FFA15A",
           "#19d3f3",
           "#FF6692",
           "#B6E880",
           "#FF97FF",
           "#FECB52"
          ],
          "font": {
           "color": "#2a3f5f"
          },
          "geo": {
           "bgcolor": "white",
           "lakecolor": "white",
           "landcolor": "#E5ECF6",
           "showlakes": true,
           "showland": true,
           "subunitcolor": "white"
          },
          "hoverlabel": {
           "align": "left"
          },
          "hovermode": "closest",
          "mapbox": {
           "style": "light"
          },
          "paper_bgcolor": "white",
          "plot_bgcolor": "#E5ECF6",
          "polar": {
           "angularaxis": {
            "gridcolor": "white",
            "linecolor": "white",
            "ticks": ""
           },
           "bgcolor": "#E5ECF6",
           "radialaxis": {
            "gridcolor": "white",
            "linecolor": "white",
            "ticks": ""
           }
          },
          "scene": {
           "xaxis": {
            "backgroundcolor": "#E5ECF6",
            "gridcolor": "white",
            "gridwidth": 2,
            "linecolor": "white",
            "showbackground": true,
            "ticks": "",
            "zerolinecolor": "white"
           },
           "yaxis": {
            "backgroundcolor": "#E5ECF6",
            "gridcolor": "white",
            "gridwidth": 2,
            "linecolor": "white",
            "showbackground": true,
            "ticks": "",
            "zerolinecolor": "white"
           },
           "zaxis": {
            "backgroundcolor": "#E5ECF6",
            "gridcolor": "white",
            "gridwidth": 2,
            "linecolor": "white",
            "showbackground": true,
            "ticks": "",
            "zerolinecolor": "white"
           }
          },
          "shapedefaults": {
           "line": {
            "color": "#2a3f5f"
           }
          },
          "ternary": {
           "aaxis": {
            "gridcolor": "white",
            "linecolor": "white",
            "ticks": ""
           },
           "baxis": {
            "gridcolor": "white",
            "linecolor": "white",
            "ticks": ""
           },
           "bgcolor": "#E5ECF6",
           "caxis": {
            "gridcolor": "white",
            "linecolor": "white",
            "ticks": ""
           }
          },
          "title": {
           "x": 0.05
          },
          "xaxis": {
           "automargin": true,
           "gridcolor": "white",
           "linecolor": "white",
           "ticks": "",
           "title": {
            "standoff": 15
           },
           "zerolinecolor": "white",
           "zerolinewidth": 2
          },
          "yaxis": {
           "automargin": true,
           "gridcolor": "white",
           "linecolor": "white",
           "ticks": "",
           "title": {
            "standoff": 15
           },
           "zerolinecolor": "white",
           "zerolinewidth": 2
          }
         }
        },
        "title": {
         "text": "Detector Data Rate vs. Instantaneous Luminosity"
        },
        "width": 800,
        "xaxis": {
         "anchor": "y",
         "domain": [
          0,
          1
         ],
         "title": {
          "text": "Instantaneous Luminosity (1/cm<sup>2</sup>s)"
         },
         "type": "log"
        },
        "yaxis": {
         "anchor": "x",
         "domain": [
          0,
          1
         ],
         "title": {
          "text": "Detector Data Rates (B/s)"
         },
         "type": "log"
        }
       }
      }
     },
     "metadata": {},
     "output_type": "display_data"
    }
   ],
   "source": [
    "fig = px.scatter(detectors,\n",
    "                x = \"Instantaneous Luminosity\",\n",
    "                y = \"Det. Data Rate\",\n",
    "                color = \"Accelerator\",\n",
    "                width = 800,\n",
    "                height = 600)\n",
    "\n",
    "fig.add_trace(go.Scatter(x = lumi_x, y = data_y, name=\"Power Law Fit\"))\n",
    "\n",
    "fig.update_layout(xaxis_type = \"log\",\n",
    "                yaxis_type = \"log\",\n",
    "                yaxis_title = \"Detector Data Rates (B/s)\",\n",
    "                xaxis_title = \"Instantaneous Luminosity (1/cm<sup>2</sup>s)\",\n",
    "                title = \"Detector Data Rate vs. Instantaneous Luminosity\")"
   ]
  },
  {
   "cell_type": "code",
   "execution_count": 14,
   "metadata": {},
   "outputs": [],
   "source": [
    "year = detectors[\"Year\"]"
   ]
  },
  {
   "cell_type": "code",
   "execution_count": 15,
   "metadata": {},
   "outputs": [],
   "source": [
    "k2, cv2 = curve_fit(linear_fit, year, np.log10(data_rate ))"
   ]
  },
  {
   "cell_type": "code",
   "execution_count": 16,
   "metadata": {},
   "outputs": [],
   "source": [
    "year_x = np.linspace(1982, 2025, 101)"
   ]
  },
  {
   "cell_type": "code",
   "execution_count": 17,
   "metadata": {},
   "outputs": [],
   "source": [
    "def power_law2(x, k, a):\n",
    "    y = np.power(10, k * x + a)\n",
    "    return y"
   ]
  },
  {
   "cell_type": "code",
   "execution_count": 18,
   "metadata": {},
   "outputs": [],
   "source": [
    "fit_y = power_law2(year_x, *k2)"
   ]
  },
  {
   "cell_type": "code",
   "execution_count": 19,
   "metadata": {},
   "outputs": [
    {
     "data": {
      "application/vnd.plotly.v1+json": {
       "config": {
        "plotlyServerURL": "https://plot.ly"
       },
       "data": [
        {
         "hovertemplate": "Accelerator=DORIS II<br>Year=%{x}<br>Det. Data Rate=%{y}<extra></extra>",
         "legendgroup": "DORIS II",
         "marker": {
          "color": "#636efa",
          "symbol": "circle"
         },
         "mode": "markers",
         "name": "DORIS II",
         "orientation": "v",
         "showlegend": true,
         "type": "scatter",
         "x": [
          1982
         ],
         "xaxis": "x",
         "y": [
          8000000000
         ],
         "yaxis": "y"
        },
        {
         "hovertemplate": "Accelerator=LEP<br>Year=%{x}<br>Det. Data Rate=%{y}<extra></extra>",
         "legendgroup": "LEP",
         "marker": {
          "color": "#EF553B",
          "symbol": "circle"
         },
         "mode": "markers",
         "name": "LEP",
         "orientation": "v",
         "showlegend": true,
         "type": "scatter",
         "x": [
          1989,
          1989
         ],
         "xaxis": "x",
         "y": [
          585000000,
          1350000000
         ],
         "yaxis": "y"
        },
        {
         "hovertemplate": "Accelerator=HERA<br>Year=%{x}<br>Det. Data Rate=%{y}<extra></extra>",
         "legendgroup": "HERA",
         "marker": {
          "color": "#00cc96",
          "symbol": "circle"
         },
         "mode": "markers",
         "name": "HERA",
         "orientation": "v",
         "showlegend": true,
         "type": "scatter",
         "x": [
          1992,
          1992
         ],
         "xaxis": "x",
         "y": [
          1041666666666.6666,
          1041666666666.6666
         ],
         "yaxis": "y"
        },
        {
         "hovertemplate": "Accelerator=Tevatron<br>Year=%{x}<br>Det. Data Rate=%{y}<extra></extra>",
         "legendgroup": "Tevatron",
         "marker": {
          "color": "#ab63fa",
          "symbol": "circle"
         },
         "mode": "markers",
         "name": "Tevatron",
         "orientation": "v",
         "showlegend": true,
         "type": "scatter",
         "x": [
          1996,
          2001
         ],
         "xaxis": "x",
         "y": [
          77142857142.85715,
          85714285714.28572
         ],
         "yaxis": "y"
        },
        {
         "hovertemplate": "Accelerator=LHC<br>Year=%{x}<br>Det. Data Rate=%{y}<extra></extra>",
         "legendgroup": "LHC",
         "marker": {
          "color": "#FFA15A",
          "symbol": "circle"
         },
         "mode": "markers",
         "name": "LHC",
         "orientation": "v",
         "showlegend": true,
         "type": "scatter",
         "x": [
          2008,
          2008
         ],
         "xaxis": "x",
         "y": [
          80000000000000,
          64000000000000
         ],
         "yaxis": "y"
        },
        {
         "hovertemplate": "Accelerator=HL-LHC<br>Year=%{x}<br>Det. Data Rate=%{y}<extra></extra>",
         "legendgroup": "HL-LHC",
         "marker": {
          "color": "#19d3f3",
          "symbol": "circle"
         },
         "mode": "markers",
         "name": "HL-LHC",
         "orientation": "v",
         "showlegend": true,
         "type": "scatter",
         "x": [
          2025,
          2025
         ],
         "xaxis": "x",
         "y": [
          320000000000000,
          176000000000000
         ],
         "yaxis": "y"
        },
        {
         "name": "Power Law Fit",
         "type": "scatter",
         "x": [
          1982,
          1982.43,
          1982.86,
          1983.29,
          1983.72,
          1984.15,
          1984.58,
          1985.01,
          1985.44,
          1985.87,
          1986.3,
          1986.73,
          1987.16,
          1987.59,
          1988.02,
          1988.45,
          1988.88,
          1989.31,
          1989.74,
          1990.17,
          1990.6,
          1991.03,
          1991.46,
          1991.89,
          1992.32,
          1992.75,
          1993.18,
          1993.61,
          1994.04,
          1994.47,
          1994.9,
          1995.33,
          1995.76,
          1996.19,
          1996.62,
          1997.05,
          1997.48,
          1997.91,
          1998.34,
          1998.77,
          1999.2,
          1999.63,
          2000.06,
          2000.49,
          2000.92,
          2001.35,
          2001.78,
          2002.21,
          2002.64,
          2003.07,
          2003.5,
          2003.93,
          2004.36,
          2004.79,
          2005.22,
          2005.65,
          2006.08,
          2006.51,
          2006.94,
          2007.37,
          2007.8,
          2008.23,
          2008.66,
          2009.09,
          2009.52,
          2009.95,
          2010.38,
          2010.81,
          2011.24,
          2011.67,
          2012.1,
          2012.53,
          2012.96,
          2013.39,
          2013.82,
          2014.25,
          2014.68,
          2015.11,
          2015.54,
          2015.97,
          2016.4,
          2016.83,
          2017.26,
          2017.69,
          2018.12,
          2018.55,
          2018.98,
          2019.41,
          2019.84,
          2020.27,
          2020.7,
          2021.13,
          2021.56,
          2021.99,
          2022.42,
          2022.85,
          2023.28,
          2023.71,
          2024.14,
          2024.57,
          2025
         ],
         "y": [
          3354617818.4709845,
          3791256547.344633,
          4284728391.00788,
          4842430776.035827,
          5472723981.737527,
          6185056465.546778,
          6990106500.831876,
          7899942250.349778,
          8928202674.942701,
          10090301989.400572,
          11403660730.40054,
          12887966900.365616,
          14565471101.934017,
          16461320087.286724,
          18603933722.41349,
          21025431017.241356,
          23762111608.049545,
          26854999909.889423,
          30350460096.141182,
          34300891124.125553,
          38765512225.58073,
          43811250637.00969,
          49513744877.390236,
          55958478613.08123,
          63242062107.08469,
          71473680462.46198,
          80776730369.73137,
          91290669894.22984,
          103173109032.64973,
          116602172377.49222,
          131779169307.06201,
          148931611728.8003,
          168316624613.51904,
          190224800446.5234,
          214984555375.9312,
          242967052359.6419,
          274591765111.2262,
          310332766252.1711,
          350725833932.79156,
          396376483454.9038,
          447969044293.9331,
          506276918591.3727,
          572174174897.1407,
          646648650959.9403,
          730816761982.4061,
          825940236327.0929,
          933445029549.66,
          1054942700292.3715,
          1192254568474.1685,
          1347439017923.5073,
          1522822352734.8157,
          1721033669904.1602,
          1945044271003.8083,
          2198212203701.9229,
          2484332600825.5605,
          2807694571584.6855,
          3173145497782.9683,
          3586163698859.416,
          4052940555042.8447,
          4580473319702.448,
          5176670012196.657,
          5850467963629.293,
          6611967792578.346,
          7472584819176.27,
          8445220187318.689,
          9544454260227.076,
          10786765188474.668,
          12190775926931.361,
          13777533403569.336,
          15570824025000.16,
          17597530248390.52,
          19888033564942.695,
          22476669935912.68,
          25402244508399.363,
          28708613326812.367,
          32445340760180.01,
          36668442500533.44,
          41441225270314.93,
          46835235826562.03,
          52931333487883.3,
          59820902262153.97,
          67607220745286.64,
          76407010326793.69,
          86352184910446.64,
          97591828379563.28,
          110294429450087.08,
          124650407413296.08,
          140874966630396.88,
          159211322569640.88,
          179934347745959.25,
          203354692217974.06,
          229823440410881.3,
          259737374073856.6,
          293544920266489.75,
          331752873538189.1,
          374933993069664.56,
          423735588662503.5,
          478889224284833.06,
          541221684635992.6,
          611667369124097,
          691282299050665.8
         ]
        }
       ],
       "layout": {
        "font": {
         "color": "Black",
         "size": 16
        },
        "height": 600,
        "legend": {
         "title": {
          "text": "Accelerator"
         },
         "tracegroupgap": 0
        },
        "margin": {
         "t": 60
        },
        "template": {
         "data": {
          "bar": [
           {
            "error_x": {
             "color": "#2a3f5f"
            },
            "error_y": {
             "color": "#2a3f5f"
            },
            "marker": {
             "line": {
              "color": "#E5ECF6",
              "width": 0.5
             },
             "pattern": {
              "fillmode": "overlay",
              "size": 10,
              "solidity": 0.2
             }
            },
            "type": "bar"
           }
          ],
          "barpolar": [
           {
            "marker": {
             "line": {
              "color": "#E5ECF6",
              "width": 0.5
             },
             "pattern": {
              "fillmode": "overlay",
              "size": 10,
              "solidity": 0.2
             }
            },
            "type": "barpolar"
           }
          ],
          "carpet": [
           {
            "aaxis": {
             "endlinecolor": "#2a3f5f",
             "gridcolor": "white",
             "linecolor": "white",
             "minorgridcolor": "white",
             "startlinecolor": "#2a3f5f"
            },
            "baxis": {
             "endlinecolor": "#2a3f5f",
             "gridcolor": "white",
             "linecolor": "white",
             "minorgridcolor": "white",
             "startlinecolor": "#2a3f5f"
            },
            "type": "carpet"
           }
          ],
          "choropleth": [
           {
            "colorbar": {
             "outlinewidth": 0,
             "ticks": ""
            },
            "type": "choropleth"
           }
          ],
          "contour": [
           {
            "colorbar": {
             "outlinewidth": 0,
             "ticks": ""
            },
            "colorscale": [
             [
              0,
              "#0d0887"
             ],
             [
              0.1111111111111111,
              "#46039f"
             ],
             [
              0.2222222222222222,
              "#7201a8"
             ],
             [
              0.3333333333333333,
              "#9c179e"
             ],
             [
              0.4444444444444444,
              "#bd3786"
             ],
             [
              0.5555555555555556,
              "#d8576b"
             ],
             [
              0.6666666666666666,
              "#ed7953"
             ],
             [
              0.7777777777777778,
              "#fb9f3a"
             ],
             [
              0.8888888888888888,
              "#fdca26"
             ],
             [
              1,
              "#f0f921"
             ]
            ],
            "type": "contour"
           }
          ],
          "contourcarpet": [
           {
            "colorbar": {
             "outlinewidth": 0,
             "ticks": ""
            },
            "type": "contourcarpet"
           }
          ],
          "heatmap": [
           {
            "colorbar": {
             "outlinewidth": 0,
             "ticks": ""
            },
            "colorscale": [
             [
              0,
              "#0d0887"
             ],
             [
              0.1111111111111111,
              "#46039f"
             ],
             [
              0.2222222222222222,
              "#7201a8"
             ],
             [
              0.3333333333333333,
              "#9c179e"
             ],
             [
              0.4444444444444444,
              "#bd3786"
             ],
             [
              0.5555555555555556,
              "#d8576b"
             ],
             [
              0.6666666666666666,
              "#ed7953"
             ],
             [
              0.7777777777777778,
              "#fb9f3a"
             ],
             [
              0.8888888888888888,
              "#fdca26"
             ],
             [
              1,
              "#f0f921"
             ]
            ],
            "type": "heatmap"
           }
          ],
          "heatmapgl": [
           {
            "colorbar": {
             "outlinewidth": 0,
             "ticks": ""
            },
            "colorscale": [
             [
              0,
              "#0d0887"
             ],
             [
              0.1111111111111111,
              "#46039f"
             ],
             [
              0.2222222222222222,
              "#7201a8"
             ],
             [
              0.3333333333333333,
              "#9c179e"
             ],
             [
              0.4444444444444444,
              "#bd3786"
             ],
             [
              0.5555555555555556,
              "#d8576b"
             ],
             [
              0.6666666666666666,
              "#ed7953"
             ],
             [
              0.7777777777777778,
              "#fb9f3a"
             ],
             [
              0.8888888888888888,
              "#fdca26"
             ],
             [
              1,
              "#f0f921"
             ]
            ],
            "type": "heatmapgl"
           }
          ],
          "histogram": [
           {
            "marker": {
             "pattern": {
              "fillmode": "overlay",
              "size": 10,
              "solidity": 0.2
             }
            },
            "type": "histogram"
           }
          ],
          "histogram2d": [
           {
            "colorbar": {
             "outlinewidth": 0,
             "ticks": ""
            },
            "colorscale": [
             [
              0,
              "#0d0887"
             ],
             [
              0.1111111111111111,
              "#46039f"
             ],
             [
              0.2222222222222222,
              "#7201a8"
             ],
             [
              0.3333333333333333,
              "#9c179e"
             ],
             [
              0.4444444444444444,
              "#bd3786"
             ],
             [
              0.5555555555555556,
              "#d8576b"
             ],
             [
              0.6666666666666666,
              "#ed7953"
             ],
             [
              0.7777777777777778,
              "#fb9f3a"
             ],
             [
              0.8888888888888888,
              "#fdca26"
             ],
             [
              1,
              "#f0f921"
             ]
            ],
            "type": "histogram2d"
           }
          ],
          "histogram2dcontour": [
           {
            "colorbar": {
             "outlinewidth": 0,
             "ticks": ""
            },
            "colorscale": [
             [
              0,
              "#0d0887"
             ],
             [
              0.1111111111111111,
              "#46039f"
             ],
             [
              0.2222222222222222,
              "#7201a8"
             ],
             [
              0.3333333333333333,
              "#9c179e"
             ],
             [
              0.4444444444444444,
              "#bd3786"
             ],
             [
              0.5555555555555556,
              "#d8576b"
             ],
             [
              0.6666666666666666,
              "#ed7953"
             ],
             [
              0.7777777777777778,
              "#fb9f3a"
             ],
             [
              0.8888888888888888,
              "#fdca26"
             ],
             [
              1,
              "#f0f921"
             ]
            ],
            "type": "histogram2dcontour"
           }
          ],
          "mesh3d": [
           {
            "colorbar": {
             "outlinewidth": 0,
             "ticks": ""
            },
            "type": "mesh3d"
           }
          ],
          "parcoords": [
           {
            "line": {
             "colorbar": {
              "outlinewidth": 0,
              "ticks": ""
             }
            },
            "type": "parcoords"
           }
          ],
          "pie": [
           {
            "automargin": true,
            "type": "pie"
           }
          ],
          "scatter": [
           {
            "fillpattern": {
             "fillmode": "overlay",
             "size": 10,
             "solidity": 0.2
            },
            "type": "scatter"
           }
          ],
          "scatter3d": [
           {
            "line": {
             "colorbar": {
              "outlinewidth": 0,
              "ticks": ""
             }
            },
            "marker": {
             "colorbar": {
              "outlinewidth": 0,
              "ticks": ""
             }
            },
            "type": "scatter3d"
           }
          ],
          "scattercarpet": [
           {
            "marker": {
             "colorbar": {
              "outlinewidth": 0,
              "ticks": ""
             }
            },
            "type": "scattercarpet"
           }
          ],
          "scattergeo": [
           {
            "marker": {
             "colorbar": {
              "outlinewidth": 0,
              "ticks": ""
             }
            },
            "type": "scattergeo"
           }
          ],
          "scattergl": [
           {
            "marker": {
             "colorbar": {
              "outlinewidth": 0,
              "ticks": ""
             }
            },
            "type": "scattergl"
           }
          ],
          "scattermapbox": [
           {
            "marker": {
             "colorbar": {
              "outlinewidth": 0,
              "ticks": ""
             }
            },
            "type": "scattermapbox"
           }
          ],
          "scatterpolar": [
           {
            "marker": {
             "colorbar": {
              "outlinewidth": 0,
              "ticks": ""
             }
            },
            "type": "scatterpolar"
           }
          ],
          "scatterpolargl": [
           {
            "marker": {
             "colorbar": {
              "outlinewidth": 0,
              "ticks": ""
             }
            },
            "type": "scatterpolargl"
           }
          ],
          "scatterternary": [
           {
            "marker": {
             "colorbar": {
              "outlinewidth": 0,
              "ticks": ""
             }
            },
            "type": "scatterternary"
           }
          ],
          "surface": [
           {
            "colorbar": {
             "outlinewidth": 0,
             "ticks": ""
            },
            "colorscale": [
             [
              0,
              "#0d0887"
             ],
             [
              0.1111111111111111,
              "#46039f"
             ],
             [
              0.2222222222222222,
              "#7201a8"
             ],
             [
              0.3333333333333333,
              "#9c179e"
             ],
             [
              0.4444444444444444,
              "#bd3786"
             ],
             [
              0.5555555555555556,
              "#d8576b"
             ],
             [
              0.6666666666666666,
              "#ed7953"
             ],
             [
              0.7777777777777778,
              "#fb9f3a"
             ],
             [
              0.8888888888888888,
              "#fdca26"
             ],
             [
              1,
              "#f0f921"
             ]
            ],
            "type": "surface"
           }
          ],
          "table": [
           {
            "cells": {
             "fill": {
              "color": "#EBF0F8"
             },
             "line": {
              "color": "white"
             }
            },
            "header": {
             "fill": {
              "color": "#C8D4E3"
             },
             "line": {
              "color": "white"
             }
            },
            "type": "table"
           }
          ]
         },
         "layout": {
          "annotationdefaults": {
           "arrowcolor": "#2a3f5f",
           "arrowhead": 0,
           "arrowwidth": 1
          },
          "autotypenumbers": "strict",
          "coloraxis": {
           "colorbar": {
            "outlinewidth": 0,
            "ticks": ""
           }
          },
          "colorscale": {
           "diverging": [
            [
             0,
             "#8e0152"
            ],
            [
             0.1,
             "#c51b7d"
            ],
            [
             0.2,
             "#de77ae"
            ],
            [
             0.3,
             "#f1b6da"
            ],
            [
             0.4,
             "#fde0ef"
            ],
            [
             0.5,
             "#f7f7f7"
            ],
            [
             0.6,
             "#e6f5d0"
            ],
            [
             0.7,
             "#b8e186"
            ],
            [
             0.8,
             "#7fbc41"
            ],
            [
             0.9,
             "#4d9221"
            ],
            [
             1,
             "#276419"
            ]
           ],
           "sequential": [
            [
             0,
             "#0d0887"
            ],
            [
             0.1111111111111111,
             "#46039f"
            ],
            [
             0.2222222222222222,
             "#7201a8"
            ],
            [
             0.3333333333333333,
             "#9c179e"
            ],
            [
             0.4444444444444444,
             "#bd3786"
            ],
            [
             0.5555555555555556,
             "#d8576b"
            ],
            [
             0.6666666666666666,
             "#ed7953"
            ],
            [
             0.7777777777777778,
             "#fb9f3a"
            ],
            [
             0.8888888888888888,
             "#fdca26"
            ],
            [
             1,
             "#f0f921"
            ]
           ],
           "sequentialminus": [
            [
             0,
             "#0d0887"
            ],
            [
             0.1111111111111111,
             "#46039f"
            ],
            [
             0.2222222222222222,
             "#7201a8"
            ],
            [
             0.3333333333333333,
             "#9c179e"
            ],
            [
             0.4444444444444444,
             "#bd3786"
            ],
            [
             0.5555555555555556,
             "#d8576b"
            ],
            [
             0.6666666666666666,
             "#ed7953"
            ],
            [
             0.7777777777777778,
             "#fb9f3a"
            ],
            [
             0.8888888888888888,
             "#fdca26"
            ],
            [
             1,
             "#f0f921"
            ]
           ]
          },
          "colorway": [
           "#636efa",
           "#EF553B",
           "#00cc96",
           "#ab63fa",
           "#FFA15A",
           "#19d3f3",
           "#FF6692",
           "#B6E880",
           "#FF97FF",
           "#FECB52"
          ],
          "font": {
           "color": "#2a3f5f"
          },
          "geo": {
           "bgcolor": "white",
           "lakecolor": "white",
           "landcolor": "#E5ECF6",
           "showlakes": true,
           "showland": true,
           "subunitcolor": "white"
          },
          "hoverlabel": {
           "align": "left"
          },
          "hovermode": "closest",
          "mapbox": {
           "style": "light"
          },
          "paper_bgcolor": "white",
          "plot_bgcolor": "#E5ECF6",
          "polar": {
           "angularaxis": {
            "gridcolor": "white",
            "linecolor": "white",
            "ticks": ""
           },
           "bgcolor": "#E5ECF6",
           "radialaxis": {
            "gridcolor": "white",
            "linecolor": "white",
            "ticks": ""
           }
          },
          "scene": {
           "xaxis": {
            "backgroundcolor": "#E5ECF6",
            "gridcolor": "white",
            "gridwidth": 2,
            "linecolor": "white",
            "showbackground": true,
            "ticks": "",
            "zerolinecolor": "white"
           },
           "yaxis": {
            "backgroundcolor": "#E5ECF6",
            "gridcolor": "white",
            "gridwidth": 2,
            "linecolor": "white",
            "showbackground": true,
            "ticks": "",
            "zerolinecolor": "white"
           },
           "zaxis": {
            "backgroundcolor": "#E5ECF6",
            "gridcolor": "white",
            "gridwidth": 2,
            "linecolor": "white",
            "showbackground": true,
            "ticks": "",
            "zerolinecolor": "white"
           }
          },
          "shapedefaults": {
           "line": {
            "color": "#2a3f5f"
           }
          },
          "ternary": {
           "aaxis": {
            "gridcolor": "white",
            "linecolor": "white",
            "ticks": ""
           },
           "baxis": {
            "gridcolor": "white",
            "linecolor": "white",
            "ticks": ""
           },
           "bgcolor": "#E5ECF6",
           "caxis": {
            "gridcolor": "white",
            "linecolor": "white",
            "ticks": ""
           }
          },
          "title": {
           "x": 0.05
          },
          "xaxis": {
           "automargin": true,
           "gridcolor": "white",
           "linecolor": "white",
           "ticks": "",
           "title": {
            "standoff": 15
           },
           "zerolinecolor": "white",
           "zerolinewidth": 2
          },
          "yaxis": {
           "automargin": true,
           "gridcolor": "white",
           "linecolor": "white",
           "ticks": "",
           "title": {
            "standoff": 15
           },
           "zerolinecolor": "white",
           "zerolinewidth": 2
          }
         }
        },
        "title": {
         "text": "Detector Data Rate vs. Year"
        },
        "width": 800,
        "xaxis": {
         "anchor": "y",
         "domain": [
          0,
          1
         ],
         "title": {
          "text": "Year"
         },
         "type": "linear"
        },
        "yaxis": {
         "anchor": "x",
         "domain": [
          0,
          1
         ],
         "title": {
          "text": "Detector Data Rates (B/s)"
         },
         "type": "log"
        }
       }
      }
     },
     "metadata": {},
     "output_type": "display_data"
    }
   ],
   "source": [
    "fig = px.scatter(detectors,\n",
    "                x = \"Year\",\n",
    "                y = \"Det. Data Rate\",\n",
    "                color = \"Accelerator\",\n",
    "                width = 800,\n",
    "                height = 600)\n",
    "\n",
    "fig.add_trace(go.Scatter(x = year_x, y = fit_y, name=\"Power Law Fit\"))\n",
    "\n",
    "fig.update_layout(xaxis_type = \"linear\",\n",
    "                yaxis_type = \"log\",\n",
    "                yaxis_title = \"Detector Data Rates (B/s)\",\n",
    "                xaxis_title = \"Year\",\n",
    "                title = \"Detector Data Rate vs. Year\",\n",
    "                font=dict(\n",
    "                    size=16,  # Set the font size here\n",
    "                    color=\"Black\"\n",
    "                  ))"
   ]
  },
  {
   "cell_type": "code",
   "execution_count": null,
   "metadata": {},
   "outputs": [],
   "source": []
  }
 ],
 "metadata": {
  "kernelspec": {
   "display_name": "systemflow",
   "language": "python",
   "name": "python3"
  },
  "language_info": {
   "codemirror_mode": {
    "name": "ipython",
    "version": 3
   },
   "file_extension": ".py",
   "mimetype": "text/x-python",
   "name": "python",
   "nbconvert_exporter": "python",
   "pygments_lexer": "ipython3",
   "version": "3.10.15"
  }
 },
 "nbformat": 4,
 "nbformat_minor": 2
}
