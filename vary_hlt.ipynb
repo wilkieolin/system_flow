{
 "cells": [
  {
   "cell_type": "code",
   "execution_count": 1,
   "metadata": {},
   "outputs": [],
   "source": [
    "from graph import *\n",
    "from models import *"
   ]
  },
  {
   "cell_type": "code",
   "execution_count": 2,
   "metadata": {},
   "outputs": [],
   "source": [
    "import pandas as pd"
   ]
  },
  {
   "cell_type": "code",
   "execution_count": 3,
   "metadata": {},
   "outputs": [],
   "source": [
    "import matplotlib.pyplot as plt\n",
    "from scipy.optimize import curve_fit\n",
    "import plotly.graph_objects as go"
   ]
  },
  {
   "cell_type": "code",
   "execution_count": 4,
   "metadata": {},
   "outputs": [],
   "source": [
    "scaling = pd.read_excel(\"wall time scaling.xlsx\", sheet_name=\"Data\")"
   ]
  },
  {
   "cell_type": "code",
   "execution_count": 5,
   "metadata": {},
   "outputs": [],
   "source": [
    "fit_poly = lambda x, k3, k2, k1: k3 * x ** 3 + k2 * x ** 2 + k1 * x\n",
    "k, cv = curve_fit(fit_poly, scaling[\"Size\"], scaling[\"Wall Time\"])\n",
    "k_gpu, cv_gpu = curve_fit(fit_poly, scaling[\"Size\"], scaling[\"Wall Time GPU\"])"
   ]
  },
  {
   "cell_type": "code",
   "execution_count": 6,
   "metadata": {},
   "outputs": [],
   "source": [
    "funcs = {\"Global\": lambda x: fit_poly(x, *k), \"Intermediate\": lambda x: x / 2.0e6}\n",
    "funcs_gpu = {\"Global\": lambda x: fit_poly(x, *k_gpu), \"Intermediate\": lambda x: x / 2.0e6}"
   ]
  },
  {
   "cell_type": "code",
   "execution_count": 7,
   "metadata": {},
   "outputs": [],
   "source": [
    "detectors, triggers, globals = dataframes_from_spreadsheet(\"cms_system_200.xlsx\")"
   ]
  },
  {
   "cell_type": "code",
   "execution_count": 8,
   "metadata": {},
   "outputs": [
    {
     "data": {
      "text/plain": [
       "53.3"
      ]
     },
     "execution_count": 8,
     "metadata": {},
     "output_type": "execute_result"
    }
   ],
   "source": [
    "triggers.iloc[4][\"Reduction\"]"
   ]
  },
  {
   "cell_type": "code",
   "execution_count": 9,
   "metadata": {},
   "outputs": [],
   "source": [
    "cms_run5  = construct_graph(detectors, triggers, globals, funcs)"
   ]
  },
  {
   "cell_type": "code",
   "execution_count": 10,
   "metadata": {},
   "outputs": [
    {
     "data": {
      "text/plain": [
       "<networkx.classes.digraph.DiGraph at 0x177e5afb0>"
      ]
     },
     "execution_count": 10,
     "metadata": {},
     "output_type": "execute_result"
    }
   ],
   "source": [
    "cms_run5"
   ]
  },
  {
   "cell_type": "code",
   "execution_count": 11,
   "metadata": {},
   "outputs": [
    {
     "data": {
      "text/plain": [
       "52.3"
      ]
     },
     "execution_count": 11,
     "metadata": {},
     "output_type": "execute_result"
    }
   ],
   "source": [
    "cms_run5.nodes[\"Intermediate\"][\"classifier\"].ratio"
   ]
  },
  {
   "cell_type": "code",
   "execution_count": 12,
   "metadata": {},
   "outputs": [
    {
     "data": {
      "text/plain": [
       "array([[0.98138869, 0.17965359],\n",
       "       [0.01861131, 0.82034641]])"
      ]
     },
     "execution_count": 12,
     "metadata": {},
     "output_type": "execute_result"
    }
   ],
   "source": [
    "cms_run5.nodes[\"Intermediate\"][\"classifier\"].error_matrix"
   ]
  },
  {
   "cell_type": "code",
   "execution_count": 13,
   "metadata": {},
   "outputs": [
    {
     "data": {
      "text/plain": [
       "array([[3.92481827e+07, 1.34824461e+03],\n",
       "       [7.44312611e+05, 6.15644582e+03]])"
      ]
     },
     "execution_count": 13,
     "metadata": {},
     "output_type": "execute_result"
    }
   ],
   "source": [
    "cms_run5.nodes[\"Intermediate\"][\"contingency\"]"
   ]
  },
  {
   "cell_type": "code",
   "execution_count": 14,
   "metadata": {},
   "outputs": [
    {
     "data": {
      "text/plain": [
       "51.57977399881208"
      ]
     },
     "execution_count": 14,
     "metadata": {},
     "output_type": "execute_result"
    }
   ],
   "source": [
    "cms_run5.graph[\"op power\"] / 1e6 / density_scale_model(2032)"
   ]
  },
  {
   "cell_type": "code",
   "execution_count": 15,
   "metadata": {},
   "outputs": [],
   "source": [
    "total_reduction = 40e6 / 7.5e3"
   ]
  },
  {
   "cell_type": "code",
   "execution_count": 16,
   "metadata": {},
   "outputs": [
    {
     "data": {
      "text/html": [
       "<div>\n",
       "<style scoped>\n",
       "    .dataframe tbody tr th:only-of-type {\n",
       "        vertical-align: middle;\n",
       "    }\n",
       "\n",
       "    .dataframe tbody tr th {\n",
       "        vertical-align: top;\n",
       "    }\n",
       "\n",
       "    .dataframe thead th {\n",
       "        text-align: right;\n",
       "    }\n",
       "</style>\n",
       "<table border=\"1\" class=\"dataframe\">\n",
       "  <thead>\n",
       "    <tr style=\"text-align: right;\">\n",
       "      <th></th>\n",
       "      <th>Name</th>\n",
       "      <th>Output</th>\n",
       "      <th>Data (bytes)</th>\n",
       "      <th>Reduction</th>\n",
       "      <th>Skill mean</th>\n",
       "      <th>Skill variance</th>\n",
       "      <th>Link Efficiency (J/bit)</th>\n",
       "      <th>Op Efficiency (J/op)</th>\n",
       "      <th>Compression</th>\n",
       "    </tr>\n",
       "  </thead>\n",
       "  <tbody>\n",
       "    <tr>\n",
       "      <th>0</th>\n",
       "      <td>Tracking</td>\n",
       "      <td>Intermediate</td>\n",
       "      <td>0</td>\n",
       "      <td>1.0</td>\n",
       "      <td>0</td>\n",
       "      <td>0</td>\n",
       "      <td>2.500000e-11</td>\n",
       "      <td>0.000</td>\n",
       "      <td>0</td>\n",
       "    </tr>\n",
       "    <tr>\n",
       "      <th>1</th>\n",
       "      <td>Timing</td>\n",
       "      <td>Intermediate</td>\n",
       "      <td>0</td>\n",
       "      <td>1.0</td>\n",
       "      <td>0</td>\n",
       "      <td>0</td>\n",
       "      <td>2.500000e-11</td>\n",
       "      <td>0.000</td>\n",
       "      <td>0</td>\n",
       "    </tr>\n",
       "    <tr>\n",
       "      <th>2</th>\n",
       "      <td>Calorimetry</td>\n",
       "      <td>Intermediate</td>\n",
       "      <td>0</td>\n",
       "      <td>1.0</td>\n",
       "      <td>0</td>\n",
       "      <td>0</td>\n",
       "      <td>2.500000e-11</td>\n",
       "      <td>0.000</td>\n",
       "      <td>0</td>\n",
       "    </tr>\n",
       "    <tr>\n",
       "      <th>3</th>\n",
       "      <td>Muon</td>\n",
       "      <td>Intermediate</td>\n",
       "      <td>0</td>\n",
       "      <td>1.0</td>\n",
       "      <td>0</td>\n",
       "      <td>0</td>\n",
       "      <td>2.500000e-11</td>\n",
       "      <td>0.000</td>\n",
       "      <td>0</td>\n",
       "    </tr>\n",
       "    <tr>\n",
       "      <th>4</th>\n",
       "      <td>Intermediate</td>\n",
       "      <td>Global</td>\n",
       "      <td>260000</td>\n",
       "      <td>53.3</td>\n",
       "      <td>3</td>\n",
       "      <td>1</td>\n",
       "      <td>2.500000e-11</td>\n",
       "      <td>0.003</td>\n",
       "      <td>0</td>\n",
       "    </tr>\n",
       "    <tr>\n",
       "      <th>5</th>\n",
       "      <td>Global</td>\n",
       "      <td>Disk</td>\n",
       "      <td>0</td>\n",
       "      <td>100.0</td>\n",
       "      <td>4</td>\n",
       "      <td>1</td>\n",
       "      <td>2.500000e-11</td>\n",
       "      <td>16.000</td>\n",
       "      <td>0</td>\n",
       "    </tr>\n",
       "    <tr>\n",
       "      <th>6</th>\n",
       "      <td>Disk</td>\n",
       "      <td>NaN</td>\n",
       "      <td>0</td>\n",
       "      <td>1.0</td>\n",
       "      <td>0</td>\n",
       "      <td>0</td>\n",
       "      <td>2.500000e-11</td>\n",
       "      <td>0.000</td>\n",
       "      <td>0</td>\n",
       "    </tr>\n",
       "  </tbody>\n",
       "</table>\n",
       "</div>"
      ],
      "text/plain": [
       "           Name        Output  Data (bytes)  Reduction  Skill mean  \\\n",
       "0      Tracking  Intermediate             0        1.0           0   \n",
       "1        Timing  Intermediate             0        1.0           0   \n",
       "2   Calorimetry  Intermediate             0        1.0           0   \n",
       "3          Muon  Intermediate             0        1.0           0   \n",
       "4  Intermediate        Global        260000       53.3           3   \n",
       "5        Global          Disk             0      100.0           4   \n",
       "6          Disk           NaN             0        1.0           0   \n",
       "\n",
       "   Skill variance  Link Efficiency (J/bit)  Op Efficiency (J/op)  Compression  \n",
       "0               0             2.500000e-11                 0.000            0  \n",
       "1               0             2.500000e-11                 0.000            0  \n",
       "2               0             2.500000e-11                 0.000            0  \n",
       "3               0             2.500000e-11                 0.000            0  \n",
       "4               1             2.500000e-11                 0.003            0  \n",
       "5               1             2.500000e-11                16.000            0  \n",
       "6               0             2.500000e-11                 0.000            0  "
      ]
     },
     "execution_count": 16,
     "metadata": {},
     "output_type": "execute_result"
    }
   ],
   "source": [
    "triggers"
   ]
  },
  {
   "cell_type": "code",
   "execution_count": 17,
   "metadata": {},
   "outputs": [
    {
     "data": {
      "text/plain": [
       "5333.333333333333"
      ]
     },
     "execution_count": 17,
     "metadata": {},
     "output_type": "execute_result"
    }
   ],
   "source": [
    "total_reduction"
   ]
  },
  {
   "cell_type": "code",
   "execution_count": null,
   "metadata": {},
   "outputs": [],
   "source": []
  },
  {
   "cell_type": "code",
   "execution_count": 18,
   "metadata": {},
   "outputs": [
    {
     "data": {
      "text/plain": [
       "266.65"
      ]
     },
     "execution_count": 18,
     "metadata": {},
     "output_type": "execute_result"
    }
   ],
   "source": [
    "5333 / 20"
   ]
  },
  {
   "cell_type": "code",
   "execution_count": 19,
   "metadata": {},
   "outputs": [],
   "source": [
    "from metrics import *"
   ]
  },
  {
   "cell_type": "code",
   "execution_count": 20,
   "metadata": {},
   "outputs": [],
   "source": [
    "def vary_l1t_accept(reduction: float):\n",
    "    t = triggers.copy()\n",
    "    #intermediate reduction stage\n",
    "    t.at[4, \"Reduction\"] = reduction\n",
    "    #global reduction stage\n",
    "    t.at[5, \"Reduction\"] = total_reduction / reduction\n",
    "    g = construct_graph(detectors, t, globals, funcs)\n",
    "\n",
    "    power = g.graph[\"op power\"] + g.graph[\"link power\"]\n",
    "    p = g.graph[\"performance\"]\n",
    "    a = precision(p)\n",
    "    r = recall(p)\n",
    "    f1 = f1_score(p)\n",
    "    #return g\n",
    "\n",
    "    return (power, a, r, f1), p"
   ]
  },
  {
   "cell_type": "code",
   "execution_count": 21,
   "metadata": {},
   "outputs": [],
   "source": [
    "g3 = vary_l1t_accept(53.3)"
   ]
  },
  {
   "cell_type": "code",
   "execution_count": 22,
   "metadata": {},
   "outputs": [],
   "source": [
    "#vary_l1t_accept(53.3).graph[\"performance\"]"
   ]
  },
  {
   "cell_type": "code",
   "execution_count": 23,
   "metadata": {},
   "outputs": [],
   "source": [
    "#vary_l1t_accept(10).graph[\"performance\"]"
   ]
  },
  {
   "cell_type": "code",
   "execution_count": 24,
   "metadata": {},
   "outputs": [],
   "source": [
    "#vary_l1t_accept(1).graph[\"performance\"]"
   ]
  },
  {
   "cell_type": "code",
   "execution_count": 41,
   "metadata": {},
   "outputs": [],
   "source": [
    "l1t_reductions = np.linspace(100, 10, 91)"
   ]
  },
  {
   "cell_type": "code",
   "execution_count": 42,
   "metadata": {},
   "outputs": [
    {
     "data": {
      "text/plain": [
       "array([100.,  99.,  98.,  97.,  96.,  95.,  94.,  93.,  92.,  91.,  90.,\n",
       "        89.,  88.,  87.,  86.,  85.,  84.,  83.,  82.,  81.,  80.,  79.,\n",
       "        78.,  77.,  76.,  75.,  74.,  73.,  72.,  71.,  70.,  69.,  68.,\n",
       "        67.,  66.,  65.,  64.,  63.,  62.,  61.,  60.,  59.,  58.,  57.,\n",
       "        56.,  55.,  54.,  53.,  52.,  51.,  50.,  49.,  48.,  47.,  46.,\n",
       "        45.,  44.,  43.,  42.,  41.,  40.,  39.,  38.,  37.,  36.,  35.,\n",
       "        34.,  33.,  32.,  31.,  30.,  29.,  28.,  27.,  26.,  25.,  24.,\n",
       "        23.,  22.,  21.,  20.,  19.,  18.,  17.,  16.,  15.,  14.,  13.,\n",
       "        12.,  11.,  10.])"
      ]
     },
     "execution_count": 42,
     "metadata": {},
     "output_type": "execute_result"
    }
   ],
   "source": [
    "l1t_reductions"
   ]
  },
  {
   "cell_type": "code",
   "execution_count": 43,
   "metadata": {},
   "outputs": [],
   "source": [
    "res = [vary_l1t_accept(r) for r in l1t_reductions]"
   ]
  },
  {
   "cell_type": "code",
   "execution_count": 44,
   "metadata": {},
   "outputs": [],
   "source": [
    "c = np.stack([r[1] for r in res])"
   ]
  },
  {
   "cell_type": "code",
   "execution_count": 45,
   "metadata": {},
   "outputs": [
    {
     "data": {
      "text/plain": [
       "array([[3.99902173e+07, 2.28267595e+03],\n",
       "       [2.28267599e+03, 5.21732405e+03]])"
      ]
     },
     "execution_count": 45,
     "metadata": {},
     "output_type": "execute_result"
    }
   ],
   "source": [
    "c[0]"
   ]
  },
  {
   "cell_type": "code",
   "execution_count": 46,
   "metadata": {},
   "outputs": [
    {
     "data": {
      "text/plain": [
       "[<matplotlib.lines.Line2D at 0x297435270>]"
      ]
     },
     "execution_count": 46,
     "metadata": {},
     "output_type": "execute_result"
    },
    {
     "data": {
      "image/png": "[encoded data removed]",
      "text/plain": [
       "<Figure size 640x480 with 1 Axes>"
      ]
     },
     "metadata": {},
     "output_type": "display_data"
    }
   ],
   "source": [
    "plt.plot(l1t_reductions, [x[1,1] for x in c], label=\"TP\")"
   ]
  },
  {
   "cell_type": "code",
   "execution_count": 51,
   "metadata": {},
   "outputs": [
    {
     "data": {
      "text/plain": [
       "24.0"
      ]
     },
     "execution_count": 51,
     "metadata": {},
     "output_type": "execute_result"
    }
   ],
   "source": [
    "l1t_reductions[np.argmax([x[0,0] for x in c])]"
   ]
  },
  {
   "cell_type": "code",
   "execution_count": 52,
   "metadata": {},
   "outputs": [
    {
     "data": {
      "text/plain": [
       "222.22083333333333"
      ]
     },
     "execution_count": 52,
     "metadata": {},
     "output_type": "execute_result"
    }
   ],
   "source": [
    "5333.3 / 24.0"
   ]
  },
  {
   "cell_type": "code",
   "execution_count": 48,
   "metadata": {},
   "outputs": [
    {
     "data": {
      "text/plain": [
       "[<matplotlib.lines.Line2D at 0x29758e7d0>]"
      ]
     },
     "execution_count": 48,
     "metadata": {},
     "output_type": "execute_result"
    },
    {
     "data": {
      "image/png": "[encoded data removed]",
      "text/plain": [
       "<Figure size 640x480 with 1 Axes>"
      ]
     },
     "metadata": {},
     "output_type": "display_data"
    }
   ],
   "source": [
    "plt.plot(l1t_reductions, [x[0,0] for x in c], label=\"TN\")"
   ]
  },
  {
   "cell_type": "code",
   "execution_count": 49,
   "metadata": {},
   "outputs": [
    {
     "data": {
      "text/plain": [
       "[<matplotlib.lines.Line2D at 0x2975e5b10>]"
      ]
     },
     "execution_count": 49,
     "metadata": {},
     "output_type": "execute_result"
    },
    {
     "data": {
      "image/png": "[encoded data removed]",
      "text/plain": [
       "<Figure size 640x480 with 1 Axes>"
      ]
     },
     "metadata": {},
     "output_type": "display_data"
    }
   ],
   "source": [
    "plt.plot(l1t_reductions, [x[1,0] for x in c], label=\"FP\")\n",
    "plt.plot(l1t_reductions, [x[0,1] for x in c], label=\"FN\")"
   ]
  },
  {
   "cell_type": "code",
   "execution_count": 31,
   "metadata": {},
   "outputs": [
    {
     "data": {
      "text/plain": [
       "array([40000000.        , 40000000.        , 40000000.        ,\n",
       "       40000000.        , 40000000.        , 40000000.00000001,\n",
       "       40000000.        , 40000000.        , 40000000.        ,\n",
       "       40000000.        , 40000000.        , 39999999.99999999,\n",
       "       39999999.99999999, 39999999.99999999, 40000000.        ,\n",
       "       40000000.        , 40000000.        , 40000000.        ,\n",
       "       40000000.        , 40000000.        , 40000000.        ,\n",
       "       40000000.00000001, 39999999.99999999, 40000000.        ,\n",
       "       40000000.00000001, 39999999.99999999, 39999999.99999999,\n",
       "       40000000.        , 40000000.        , 40000000.00000001,\n",
       "       40000000.        , 39999999.99999999, 40000000.        ,\n",
       "       40000000.        , 40000000.        , 40000000.        ,\n",
       "       40000000.        , 40000000.        , 40000000.        ,\n",
       "       40000000.        , 40000000.00000001, 40000000.        ,\n",
       "       40000000.        , 40000000.        , 39999999.99999999,\n",
       "       40000000.00000001, 40000000.        , 40000000.        ,\n",
       "       39999999.99999999, 40000000.00000001, 40000000.        ,\n",
       "       39999999.99999999, 40000000.        , 40000000.        ,\n",
       "       40000000.        , 40000000.00000001, 40000000.        ,\n",
       "       40000000.        , 40000000.00000001, 40000000.        ,\n",
       "       40000000.        , 40000000.00000001, 40000000.        ,\n",
       "       40000000.        , 40000000.        , 40000000.        ,\n",
       "       40000000.        , 40000000.        , 40000000.        ,\n",
       "       40000000.        , 39999999.99999999, 39999999.99999999,\n",
       "       40000000.00000001, 40000000.        , 40000000.        ,\n",
       "       40000000.        , 39999999.99999999, 40000000.        ,\n",
       "       40000000.        , 40000000.        , 40000000.00000001,\n",
       "       40000000.        , 40000000.00000001, 40000000.        ,\n",
       "       40000000.        , 40000000.        , 39999999.99999999,\n",
       "       40000000.00000001, 40000000.        , 40000000.        ,\n",
       "       40000000.        ])"
      ]
     },
     "execution_count": 31,
     "metadata": {},
     "output_type": "execute_result"
    }
   ],
   "source": [
    "np.sum(c, axis=(1,2))"
   ]
  },
  {
   "cell_type": "code",
   "execution_count": 39,
   "metadata": {},
   "outputs": [
    {
     "data": {
      "text/plain": [
       "[7500.000034093784,\n",
       " 7500.000124350654,\n",
       " 7500.000356816555,\n",
       " 7500.000203139365,\n",
       " 7499.999376330074,\n",
       " 7500.0001753445795,\n",
       " 7500.00054418541,\n",
       " 7499.999618057664,\n",
       " 7500.000245498073,\n",
       " 7500.000013290955,\n",
       " 7499.999804991958,\n",
       " 7500.000228662006,\n",
       " 7500.000017370405,\n",
       " 7499.999927768153,\n",
       " 7499.999861564637,\n",
       " 7499.999846117815,\n",
       " 7500.0001175092075,\n",
       " 7499.999644261832,\n",
       " 7500.000019901974,\n",
       " 7499.999570969179,\n",
       " 7499.999694602608,\n",
       " 7499.999885761503,\n",
       " 7499.999933582583,\n",
       " 7500.000211221258,\n",
       " 7500.000345191171,\n",
       " 7499.999567261888,\n",
       " 7500.000077481936,\n",
       " 7500.000239137491,\n",
       " 7499.9998289037285,\n",
       " 7499.99997713093,\n",
       " 7500.000169985724,\n",
       " 7500.000305727848,\n",
       " 7499.999930299044,\n",
       " 7500.000119038641,\n",
       " 7499.999681840613,\n",
       " 7499.999749610011,\n",
       " 7499.99992733474,\n",
       " 7499.99982062863,\n",
       " 7499.999865411608,\n",
       " 7500.0001690668305,\n",
       " 7500.000296259275,\n",
       " 7499.999761273975,\n",
       " 7499.9997051455975,\n",
       " 7499.9997539225005,\n",
       " 7500.000207913674,\n",
       " 7500.000234975382,\n",
       " 7500.000072795983,\n",
       " 7500.000118664183,\n",
       " 7499.999921494375,\n",
       " 7499.999706371365,\n",
       " 7499.999899067515,\n",
       " 7499.999781138577,\n",
       " 7499.9998109670105,\n",
       " 7500.000011470753,\n",
       " 7499.999856485161,\n",
       " 7499.9999690492305,\n",
       " 7500.00018645526,\n",
       " 7499.99978763666,\n",
       " 7499.99972195314,\n",
       " 7499.999910639022,\n",
       " 7500.000210282532,\n",
       " 7500.000229551293,\n",
       " 7499.999854063925,\n",
       " 7500.000283240956,\n",
       " 7499.999992893781,\n",
       " 7500.000143225884,\n",
       " 7499.999997492109,\n",
       " 7500.000265308136,\n",
       " 7499.999774121247,\n",
       " 7500.000145727759,\n",
       " 7500.000054467896,\n",
       " 7499.999880792959,\n",
       " 7500.00030367586,\n",
       " 7500.000080528411,\n",
       " 7499.9999791402815,\n",
       " 7499.999893957515,\n",
       " 7500.000451250296,\n",
       " 7499.999568081741,\n",
       " 7500.000047820359,\n",
       " 7500.000020594222,\n",
       " 7499.999963759772,\n",
       " 7499.9997547218045,\n",
       " 7500.000325051967,\n",
       " 7499.9999743631515,\n",
       " 7500.000301561608,\n",
       " 7499.999933481404,\n",
       " 7500.000240640278,\n",
       " 7500.0001861101755,\n",
       " 7500.0001276824505,\n",
       " 7500.000309173303,\n",
       " 7500.000043489286]"
      ]
     },
     "execution_count": 39,
     "metadata": {},
     "output_type": "execute_result"
    }
   ],
   "source": [
    "[np.sum(x[1,:]) for x in c]"
   ]
  },
  {
   "cell_type": "code",
   "execution_count": 32,
   "metadata": {},
   "outputs": [
    {
     "data": {
      "text/plain": [
       "(91, 2, 2)"
      ]
     },
     "execution_count": 32,
     "metadata": {},
     "output_type": "execute_result"
    }
   ],
   "source": [
    "c.shape"
   ]
  },
  {
   "cell_type": "code",
   "execution_count": 33,
   "metadata": {},
   "outputs": [
    {
     "data": {
      "text/plain": [
       "array([[3.99902173e+07, 2.28267595e+03],\n",
       "       [2.28267599e+03, 5.21732405e+03]])"
      ]
     },
     "execution_count": 33,
     "metadata": {},
     "output_type": "execute_result"
    }
   ],
   "source": [
    "c[0]"
   ]
  },
  {
   "cell_type": "code",
   "execution_count": 34,
   "metadata": {},
   "outputs": [
    {
     "data": {
      "text/plain": [
       "array([[3.99904871e+07, 2.01292039e+03],\n",
       "       [2.01292029e+03, 5.48707961e+03]])"
      ]
     },
     "execution_count": 34,
     "metadata": {},
     "output_type": "execute_result"
    }
   ],
   "source": [
    "c[50]"
   ]
  },
  {
   "cell_type": "code",
   "execution_count": 35,
   "metadata": {},
   "outputs": [],
   "source": [
    "res2 = np.stack([r[0] for r in res])"
   ]
  },
  {
   "cell_type": "code",
   "execution_count": 36,
   "metadata": {},
   "outputs": [
    {
     "data": {
      "text/plain": [
       "(91, 4)"
      ]
     },
     "execution_count": 36,
     "metadata": {},
     "output_type": "execute_result"
    }
   ],
   "source": [
    "res2.shape"
   ]
  },
  {
   "cell_type": "code",
   "execution_count": 37,
   "metadata": {},
   "outputs": [
    {
     "data": {
      "text/plain": [
       "array([0.6956432 , 0.69633152, 0.69702196, 0.69771454, 0.69840928,\n",
       "       0.69910599, 0.69980478, 0.70050571, 0.70120854, 0.70191342,\n",
       "       0.70262025, 0.70332896, 0.7040396 , 0.70475208, 0.70546637,\n",
       "       0.70618243, 0.70690019, 0.70761967, 0.70834071, 0.70906336,\n",
       "       0.70978747, 0.71051301, 0.71123992, 0.71196809, 0.71269747,\n",
       "       0.71342804, 0.71415953, 0.71489197, 0.71562526, 0.71635921,\n",
       "       0.71709373, 0.7178287 , 0.71856401, 0.71929943, 0.72003488,\n",
       "       0.72077011, 0.72150497, 0.72223928, 0.72297279, 0.72370527,\n",
       "       0.72443652, 0.72516628, 0.72589421, 0.72662002, 0.72734337,\n",
       "       0.72806395, 0.72878138, 0.72949521, 0.73020503, 0.73091035,\n",
       "       0.73161062, 0.73230534, 0.73299387, 0.73367554, 0.73434968,\n",
       "       0.73501548, 0.73567211, 0.73631869, 0.73695416, 0.73757743,\n",
       "       0.73818731, 0.73878251, 0.73936161, 0.73992293, 0.74046482,\n",
       "       0.74098527, 0.74148219, 0.74195314, 0.74239557, 0.74280641,\n",
       "       0.74318243, 0.7435199 , 0.74381458, 0.74406183, 0.74425622,\n",
       "       0.74439165, 0.74446106, 0.74445654, 0.74436857, 0.74418646,\n",
       "       0.7438975 , 0.74348677, 0.74293648, 0.74222556, 0.74132832,\n",
       "       0.74021362, 0.73884289, 0.73716805, 0.73512808, 0.73264423,\n",
       "       0.729613  ])"
      ]
     },
     "execution_count": 37,
     "metadata": {},
     "output_type": "execute_result"
    }
   ],
   "source": [
    "res2[:,1]"
   ]
  },
  {
   "cell_type": "code",
   "execution_count": 38,
   "metadata": {},
   "outputs": [
    {
     "data": {
      "text/plain": [
       "Text(0.5, 0, 'DAQ Power')"
      ]
     },
     "execution_count": 38,
     "metadata": {},
     "output_type": "execute_result"
    },
    {
     "data": {
      "image/png": "[encoded data removed]",
      "text/plain": [
       "<Figure size 640x480 with 1 Axes>"
      ]
     },
     "metadata": {},
     "output_type": "display_data"
    }
   ],
   "source": [
    "plt.plot(res2[:,0], res2[:,1], label = \"Precision\")\n",
    "plt.plot(res2[:,0], res2[:,2], label = \"Recall\")\n",
    "plt.plot(res2[:,0], res2[:,3], label = \"F1\")\n",
    "plt.ylabel(\"Recall\")\n",
    "plt.xlabel(\"DAQ Power\")"
   ]
  },
  {
   "cell_type": "code",
   "execution_count": null,
   "metadata": {},
   "outputs": [],
   "source": []
  }
 ],
 "metadata": {
  "kernelspec": {
   "display_name": "jax",
   "language": "python",
   "name": "python3"
  },
  "language_info": {
   "codemirror_mode": {
    "name": "ipython",
    "version": 3
   },
   "file_extension": ".py",
   "mimetype": "text/x-python",
   "name": "python",
   "nbconvert_exporter": "python",
   "pygments_lexer": "ipython3",
   "version": "3.10.4"
  }
 },
 "nbformat": 4,
 "nbformat_minor": 2
}
