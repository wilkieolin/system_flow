{
 "cells": [
  {
   "cell_type": "code",
   "execution_count": 1,
   "metadata": {},
   "outputs": [],
   "source": [
    "from graph import *\n",
    "from models import *"
   ]
  },
  {
   "cell_type": "code",
   "execution_count": 2,
   "metadata": {},
   "outputs": [],
   "source": [
    "import pandas as pd"
   ]
  },
  {
   "cell_type": "code",
   "execution_count": 3,
   "metadata": {},
   "outputs": [],
   "source": [
    "import matplotlib.pyplot as plt\n",
    "from scipy.optimize import curve_fit\n",
    "import plotly.graph_objects as go"
   ]
  },
  {
   "cell_type": "code",
   "execution_count": 4,
   "metadata": {},
   "outputs": [],
   "source": [
    "scaling = pd.read_excel(\"wall time scaling.xlsx\", sheet_name=\"Data\")"
   ]
  },
  {
   "cell_type": "code",
   "execution_count": 5,
   "metadata": {},
   "outputs": [],
   "source": [
    "fit_poly = lambda x, k3, k2, k1: k3 * x ** 3 + k2 * x ** 2 + k1 * x\n",
    "k, cv = curve_fit(fit_poly, scaling[\"Size\"], scaling[\"Wall Time\"])\n",
    "k_gpu, cv_gpu = curve_fit(fit_poly, scaling[\"Size\"], scaling[\"Wall Time GPU\"])"
   ]
  },
  {
   "cell_type": "code",
   "execution_count": 6,
   "metadata": {},
   "outputs": [],
   "source": [
    "funcs = {\"Global\": lambda x: fit_poly(x, *k), \"Intermediate\": lambda x: x / 2.0e6}\n",
    "funcs_gpu = {\"Global\": lambda x: fit_poly(x, *k_gpu), \"Intermediate\": lambda x: x / 2.0e6}"
   ]
  },
  {
   "cell_type": "code",
   "execution_count": 7,
   "metadata": {},
   "outputs": [],
   "source": [
    "detectors, triggers, globals = dataframes_from_spreadsheet(\"cms_system_60.xlsx\")"
   ]
  },
  {
   "cell_type": "code",
   "execution_count": 8,
   "metadata": {},
   "outputs": [
    {
     "data": {
      "text/plain": [
       "400"
      ]
     },
     "execution_count": 8,
     "metadata": {},
     "output_type": "execute_result"
    }
   ],
   "source": [
    "triggers.iloc[4][\"Reduction Ratio\"]"
   ]
  },
  {
   "cell_type": "code",
   "execution_count": 9,
   "metadata": {},
   "outputs": [],
   "source": [
    "cms_run5  = construct_graph(detectors, triggers, globals, funcs)"
   ]
  },
  {
   "cell_type": "code",
   "execution_count": 10,
   "metadata": {},
   "outputs": [
    {
     "data": {
      "text/plain": [
       "<networkx.classes.digraph.DiGraph at 0x153418a00>"
      ]
     },
     "execution_count": 10,
     "metadata": {},
     "output_type": "execute_result"
    }
   ],
   "source": [
    "cms_run5"
   ]
  },
  {
   "cell_type": "code",
   "execution_count": 11,
   "metadata": {},
   "outputs": [
    {
     "data": {
      "text/plain": [
       "0.9975"
      ]
     },
     "execution_count": 11,
     "metadata": {},
     "output_type": "execute_result"
    }
   ],
   "source": [
    "cms_run5.nodes[\"Intermediate\"][\"classifier\"].reduction"
   ]
  },
  {
   "cell_type": "code",
   "execution_count": 12,
   "metadata": {},
   "outputs": [
    {
     "data": {
      "text/plain": [
       "array([[0.99751433, 0.42421788],\n",
       "       [0.00248567, 0.57578212]])"
      ]
     },
     "execution_count": 12,
     "metadata": {},
     "output_type": "execute_result"
    }
   ],
   "source": [
    "cms_run5.nodes[\"Intermediate\"][\"classifier\"].error_matrix"
   ]
  },
  {
   "cell_type": "code",
   "execution_count": 13,
   "metadata": {},
   "outputs": [
    {
     "data": {
      "text/plain": [
       "array([[3.98995758e+07, 4.24217879e+02],\n",
       "       [9.94242136e+04, 5.75782121e+02]])"
      ]
     },
     "execution_count": 13,
     "metadata": {},
     "output_type": "execute_result"
    }
   ],
   "source": [
    "cms_run5.nodes[\"Intermediate\"][\"contingency\"]"
   ]
  },
  {
   "cell_type": "code",
   "execution_count": 14,
   "metadata": {},
   "outputs": [
    {
     "data": {
      "text/plain": [
       "0.3174774810934562"
      ]
     },
     "execution_count": 14,
     "metadata": {},
     "output_type": "execute_result"
    }
   ],
   "source": [
    "cms_run5.graph[\"op power\"] / 1e6 / density_scale_model(2032)"
   ]
  },
  {
   "cell_type": "code",
   "execution_count": 15,
   "metadata": {},
   "outputs": [],
   "source": [
    "total_reduction = 40e6 / 7.5e3"
   ]
  },
  {
   "cell_type": "code",
   "execution_count": 16,
   "metadata": {},
   "outputs": [
    {
     "data": {
      "text/html": [
       "<div>\n",
       "<style scoped>\n",
       "    .dataframe tbody tr th:only-of-type {\n",
       "        vertical-align: middle;\n",
       "    }\n",
       "\n",
       "    .dataframe tbody tr th {\n",
       "        vertical-align: top;\n",
       "    }\n",
       "\n",
       "    .dataframe thead th {\n",
       "        text-align: right;\n",
       "    }\n",
       "</style>\n",
       "<table border=\"1\" class=\"dataframe\">\n",
       "  <thead>\n",
       "    <tr style=\"text-align: right;\">\n",
       "      <th></th>\n",
       "      <th>Name</th>\n",
       "      <th>Output</th>\n",
       "      <th>Data (bytes)</th>\n",
       "      <th>Reduction Ratio</th>\n",
       "      <th>Skill mean</th>\n",
       "      <th>Skill variance</th>\n",
       "      <th>Link Efficiency (J/bit)</th>\n",
       "      <th>Op Efficiency (J/op)</th>\n",
       "      <th>Compression</th>\n",
       "    </tr>\n",
       "  </thead>\n",
       "  <tbody>\n",
       "    <tr>\n",
       "      <th>0</th>\n",
       "      <td>Tracking</td>\n",
       "      <td>Intermediate</td>\n",
       "      <td>0</td>\n",
       "      <td>1</td>\n",
       "      <td>0</td>\n",
       "      <td>1</td>\n",
       "      <td>2.500000e-11</td>\n",
       "      <td>0.000</td>\n",
       "      <td>0</td>\n",
       "    </tr>\n",
       "    <tr>\n",
       "      <th>1</th>\n",
       "      <td>Timing</td>\n",
       "      <td>Intermediate</td>\n",
       "      <td>0</td>\n",
       "      <td>1</td>\n",
       "      <td>0</td>\n",
       "      <td>1</td>\n",
       "      <td>2.500000e-11</td>\n",
       "      <td>0.000</td>\n",
       "      <td>0</td>\n",
       "    </tr>\n",
       "    <tr>\n",
       "      <th>2</th>\n",
       "      <td>Calorimetry</td>\n",
       "      <td>Intermediate</td>\n",
       "      <td>0</td>\n",
       "      <td>1</td>\n",
       "      <td>0</td>\n",
       "      <td>1</td>\n",
       "      <td>2.500000e-11</td>\n",
       "      <td>0.000</td>\n",
       "      <td>0</td>\n",
       "    </tr>\n",
       "    <tr>\n",
       "      <th>3</th>\n",
       "      <td>Muon</td>\n",
       "      <td>Intermediate</td>\n",
       "      <td>0</td>\n",
       "      <td>1</td>\n",
       "      <td>0</td>\n",
       "      <td>1</td>\n",
       "      <td>2.500000e-11</td>\n",
       "      <td>0.000</td>\n",
       "      <td>0</td>\n",
       "    </tr>\n",
       "    <tr>\n",
       "      <th>4</th>\n",
       "      <td>Intermediate</td>\n",
       "      <td>Global</td>\n",
       "      <td>260000</td>\n",
       "      <td>400</td>\n",
       "      <td>3</td>\n",
       "      <td>1</td>\n",
       "      <td>2.500000e-11</td>\n",
       "      <td>0.003</td>\n",
       "      <td>0</td>\n",
       "    </tr>\n",
       "    <tr>\n",
       "      <th>5</th>\n",
       "      <td>Global</td>\n",
       "      <td>Disk</td>\n",
       "      <td>0</td>\n",
       "      <td>100</td>\n",
       "      <td>4</td>\n",
       "      <td>1</td>\n",
       "      <td>2.500000e-11</td>\n",
       "      <td>16.000</td>\n",
       "      <td>0</td>\n",
       "    </tr>\n",
       "    <tr>\n",
       "      <th>6</th>\n",
       "      <td>Disk</td>\n",
       "      <td>NaN</td>\n",
       "      <td>0</td>\n",
       "      <td>1</td>\n",
       "      <td>0</td>\n",
       "      <td>1</td>\n",
       "      <td>2.500000e-11</td>\n",
       "      <td>0.000</td>\n",
       "      <td>0</td>\n",
       "    </tr>\n",
       "  </tbody>\n",
       "</table>\n",
       "</div>"
      ],
      "text/plain": [
       "           Name        Output  Data (bytes)  Reduction Ratio  Skill mean  \\\n",
       "0      Tracking  Intermediate             0                1           0   \n",
       "1        Timing  Intermediate             0                1           0   \n",
       "2   Calorimetry  Intermediate             0                1           0   \n",
       "3          Muon  Intermediate             0                1           0   \n",
       "4  Intermediate        Global        260000              400           3   \n",
       "5        Global          Disk             0              100           4   \n",
       "6          Disk           NaN             0                1           0   \n",
       "\n",
       "   Skill variance  Link Efficiency (J/bit)  Op Efficiency (J/op)  Compression  \n",
       "0               1             2.500000e-11                 0.000            0  \n",
       "1               1             2.500000e-11                 0.000            0  \n",
       "2               1             2.500000e-11                 0.000            0  \n",
       "3               1             2.500000e-11                 0.000            0  \n",
       "4               1             2.500000e-11                 0.003            0  \n",
       "5               1             2.500000e-11                16.000            0  \n",
       "6               1             2.500000e-11                 0.000            0  "
      ]
     },
     "execution_count": 16,
     "metadata": {},
     "output_type": "execute_result"
    }
   ],
   "source": [
    "triggers"
   ]
  },
  {
   "cell_type": "code",
   "execution_count": 17,
   "metadata": {},
   "outputs": [
    {
     "data": {
      "text/plain": [
       "5333.333333333333"
      ]
     },
     "execution_count": 17,
     "metadata": {},
     "output_type": "execute_result"
    }
   ],
   "source": [
    "total_reduction"
   ]
  },
  {
   "cell_type": "code",
   "execution_count": 18,
   "metadata": {},
   "outputs": [],
   "source": [
    "from metrics import *"
   ]
  },
  {
   "cell_type": "code",
   "execution_count": 51,
   "metadata": {},
   "outputs": [],
   "source": [
    "def vary_l1t_accept(reduction: float):\n",
    "    t = triggers.copy()\n",
    "    #intermediate reduction stage\n",
    "    t.at[4, \"Reduction Ratio\"] = reduction\n",
    "    #global reduction stage\n",
    "    t.at[5, \"Reduction Ratio\"] = total_reduction / reduction\n",
    "    g = construct_graph(detectors, t, globals, funcs)\n",
    "\n",
    "    power = g.graph[\"op power\"] + g.graph[\"link power\"]\n",
    "    p = g.graph[\"performance\"]\n",
    "    a = precision(p)\n",
    "    r = recall(p)\n",
    "    f1 = f1_score(p)\n",
    "    #return g\n",
    "\n",
    "    return (p, a, r, f1), power"
   ]
  },
  {
   "cell_type": "code",
   "execution_count": 52,
   "metadata": {},
   "outputs": [],
   "source": [
    "g3 = vary_l1t_accept(53.3)"
   ]
  },
  {
   "cell_type": "code",
   "execution_count": 53,
   "metadata": {},
   "outputs": [
    {
     "data": {
      "text/plain": [
       "(array([[3.99904696e+07, 2.03038895e+03],\n",
       "        [2.03038909e+03, 5.46961105e+03]]),\n",
       " 0.729281460149761,\n",
       " 0.7292814732276702,\n",
       " 0.7292814666887156)"
      ]
     },
     "execution_count": 53,
     "metadata": {},
     "output_type": "execute_result"
    }
   ],
   "source": [
    "g3[0]"
   ]
  },
  {
   "cell_type": "code",
   "execution_count": 54,
   "metadata": {},
   "outputs": [],
   "source": [
    "l1t_reductions = np.linspace(400, 50.0, 101)"
   ]
  },
  {
   "cell_type": "code",
   "execution_count": 55,
   "metadata": {},
   "outputs": [
    {
     "data": {
      "text/plain": [
       "array([400. , 396.5, 393. , 389.5, 386. , 382.5, 379. , 375.5, 372. ,\n",
       "       368.5, 365. , 361.5, 358. , 354.5, 351. , 347.5, 344. , 340.5,\n",
       "       337. , 333.5, 330. , 326.5, 323. , 319.5, 316. , 312.5, 309. ,\n",
       "       305.5, 302. , 298.5, 295. , 291.5, 288. , 284.5, 281. , 277.5,\n",
       "       274. , 270.5, 267. , 263.5, 260. , 256.5, 253. , 249.5, 246. ,\n",
       "       242.5, 239. , 235.5, 232. , 228.5, 225. , 221.5, 218. , 214.5,\n",
       "       211. , 207.5, 204. , 200.5, 197. , 193.5, 190. , 186.5, 183. ,\n",
       "       179.5, 176. , 172.5, 169. , 165.5, 162. , 158.5, 155. , 151.5,\n",
       "       148. , 144.5, 141. , 137.5, 134. , 130.5, 127. , 123.5, 120. ,\n",
       "       116.5, 113. , 109.5, 106. , 102.5,  99. ,  95.5,  92. ,  88.5,\n",
       "        85. ,  81.5,  78. ,  74.5,  71. ,  67.5,  64. ,  60.5,  57. ,\n",
       "        53.5,  50. ])"
      ]
     },
     "execution_count": 55,
     "metadata": {},
     "output_type": "execute_result"
    }
   ],
   "source": [
    "l1t_reductions"
   ]
  },
  {
   "cell_type": "code",
   "execution_count": 56,
   "metadata": {},
   "outputs": [],
   "source": [
    "res = [vary_l1t_accept(r) for r in l1t_reductions]"
   ]
  },
  {
   "cell_type": "code",
   "execution_count": 57,
   "metadata": {},
   "outputs": [],
   "source": [
    "all_power = [r[1] for r in res]"
   ]
  },
  {
   "cell_type": "code",
   "execution_count": 58,
   "metadata": {},
   "outputs": [
    {
     "data": {
      "text/plain": [
       "[<matplotlib.lines.Line2D at 0x157c01990>]"
      ]
     },
     "execution_count": 58,
     "metadata": {},
     "output_type": "execute_result"
    },
    {
     "data": {
      "image/png": "[encoded data removed]",
      "text/plain": [
       "<Figure size 640x480 with 1 Axes>"
      ]
     },
     "metadata": {},
     "output_type": "display_data"
    }
   ],
   "source": [
    "plt.plot(all_power)"
   ]
  },
  {
   "cell_type": "code",
   "execution_count": 59,
   "metadata": {},
   "outputs": [],
   "source": [
    "c = np.stack([r[0][0] for r in res])"
   ]
  },
  {
   "cell_type": "code",
   "execution_count": 60,
   "metadata": {},
   "outputs": [
    {
     "data": {
      "text/plain": [
       "array([[3.99892197e+07, 3.28027241e+03],\n",
       "       [3.28027256e+03, 4.21972759e+03]])"
      ]
     },
     "execution_count": 60,
     "metadata": {},
     "output_type": "execute_result"
    }
   ],
   "source": [
    "c[0]"
   ]
  },
  {
   "cell_type": "code",
   "execution_count": 61,
   "metadata": {},
   "outputs": [
    {
     "data": {
      "text/plain": [
       "[<matplotlib.lines.Line2D at 0x157ce2950>]"
      ]
     },
     "execution_count": 61,
     "metadata": {},
     "output_type": "execute_result"
    },
    {
     "data": {
      "image/png": "[encoded data removed]",
      "text/plain": [
       "<Figure size 640x480 with 1 Axes>"
      ]
     },
     "metadata": {},
     "output_type": "display_data"
    }
   ],
   "source": [
    "plt.plot(l1t_reductions, [x[1,1] for x in c], label=\"TP\")"
   ]
  },
  {
   "cell_type": "code",
   "execution_count": 62,
   "metadata": {},
   "outputs": [
    {
     "data": {
      "text/plain": [
       "50.0"
      ]
     },
     "execution_count": 62,
     "metadata": {},
     "output_type": "execute_result"
    }
   ],
   "source": [
    "l1t_reductions[np.argmax([x[0,0] for x in c])]"
   ]
  },
  {
   "cell_type": "code",
   "execution_count": 63,
   "metadata": {},
   "outputs": [
    {
     "data": {
      "text/plain": [
       "222.22083333333333"
      ]
     },
     "execution_count": 63,
     "metadata": {},
     "output_type": "execute_result"
    }
   ],
   "source": [
    "5333.3 / 24.0"
   ]
  },
  {
   "cell_type": "code",
   "execution_count": 64,
   "metadata": {},
   "outputs": [
    {
     "data": {
      "text/plain": [
       "[<matplotlib.lines.Line2D at 0x1683b5db0>]"
      ]
     },
     "execution_count": 64,
     "metadata": {},
     "output_type": "execute_result"
    },
    {
     "data": {
      "image/png": "[encoded data removed]",
      "text/plain": [
       "<Figure size 640x480 with 1 Axes>"
      ]
     },
     "metadata": {},
     "output_type": "display_data"
    }
   ],
   "source": [
    "plt.plot(l1t_reductions, [x[0,0] for x in c], label=\"TN\")"
   ]
  },
  {
   "cell_type": "code",
   "execution_count": 65,
   "metadata": {},
   "outputs": [
    {
     "data": {
      "text/plain": [
       "[<matplotlib.lines.Line2D at 0x16827cee0>]"
      ]
     },
     "execution_count": 65,
     "metadata": {},
     "output_type": "execute_result"
    },
    {
     "data": {
      "image/png": "[encoded data removed]",
      "text/plain": [
       "<Figure size 640x480 with 1 Axes>"
      ]
     },
     "metadata": {},
     "output_type": "display_data"
    }
   ],
   "source": [
    "plt.plot(l1t_reductions, [x[1,0] for x in c], label=\"FP\")\n",
    "plt.plot(l1t_reductions, [x[0,1] for x in c], label=\"FN\")"
   ]
  },
  {
   "cell_type": "code",
   "execution_count": 66,
   "metadata": {},
   "outputs": [
    {
     "data": {
      "text/plain": [
       "array([40000000.        , 40000000.        , 40000000.        ,\n",
       "       40000000.00000001, 39999999.99999999, 40000000.        ,\n",
       "       40000000.        , 39999999.99999999, 40000000.00000001,\n",
       "       40000000.        , 40000000.00000001, 40000000.00000001,\n",
       "       40000000.        , 40000000.00000001, 40000000.        ,\n",
       "       40000000.        , 40000000.        , 40000000.        ,\n",
       "       40000000.        , 40000000.        , 40000000.        ,\n",
       "       40000000.        , 40000000.        , 40000000.        ,\n",
       "       40000000.        , 40000000.        , 40000000.        ,\n",
       "       39999999.99999999, 40000000.        , 40000000.        ,\n",
       "       40000000.00000001, 39999999.99999999, 40000000.        ,\n",
       "       40000000.        , 40000000.        , 40000000.        ,\n",
       "       40000000.        , 40000000.00000001, 40000000.        ,\n",
       "       40000000.        , 39999999.99999999, 39999999.99999999,\n",
       "       39999999.99999999, 40000000.        , 40000000.        ,\n",
       "       40000000.        , 40000000.        , 39999999.99999999,\n",
       "       40000000.        , 40000000.        , 39999999.99999999,\n",
       "       40000000.        , 40000000.        , 40000000.        ,\n",
       "       40000000.00000001, 39999999.99999999, 40000000.        ,\n",
       "       40000000.        , 40000000.        , 40000000.        ,\n",
       "       40000000.        , 40000000.        , 40000000.        ,\n",
       "       40000000.        , 40000000.        , 40000000.        ,\n",
       "       39999999.99999999, 40000000.        , 40000000.        ,\n",
       "       40000000.        , 40000000.00000001, 40000000.        ,\n",
       "       40000000.        , 40000000.        , 40000000.00000001,\n",
       "       40000000.        , 40000000.00000001, 40000000.        ,\n",
       "       40000000.        , 40000000.        , 40000000.        ,\n",
       "       40000000.        , 40000000.        , 40000000.00000001,\n",
       "       40000000.        , 40000000.        , 40000000.        ,\n",
       "       40000000.        , 40000000.        , 40000000.        ,\n",
       "       40000000.        , 40000000.        , 40000000.        ,\n",
       "       40000000.        , 40000000.00000001, 40000000.        ,\n",
       "       40000000.        , 40000000.        , 40000000.        ,\n",
       "       40000000.        , 40000000.        ])"
      ]
     },
     "execution_count": 66,
     "metadata": {},
     "output_type": "execute_result"
    }
   ],
   "source": [
    "np.sum(c, axis=(1,2))"
   ]
  },
  {
   "cell_type": "code",
   "execution_count": 67,
   "metadata": {},
   "outputs": [
    {
     "data": {
      "text/plain": [
       "[7500.00015358387,\n",
       " 7500.000105470921,\n",
       " 7499.999823418791,\n",
       " 7499.999882482499,\n",
       " 7500.000551678427,\n",
       " 7499.999570847531,\n",
       " 7499.999858592933,\n",
       " 7500.00010486807,\n",
       " 7500.000196002849,\n",
       " 7499.999598109889,\n",
       " 7500.00029755819,\n",
       " 7500.000455732616,\n",
       " 7500.000137714719,\n",
       " 7500.00049431075,\n",
       " 7499.999731191883,\n",
       " 7499.999572613335,\n",
       " 7500.00024070216,\n",
       " 7499.999481932976,\n",
       " 7499.999959933945,\n",
       " 7500.0004217324695,\n",
       " 7499.999868267961,\n",
       " 7499.999762279354,\n",
       " 7499.999566142396,\n",
       " 7499.999805194289,\n",
       " 7500.000006522161,\n",
       " 7500.000240625993,\n",
       " 7499.999732122549,\n",
       " 7499.999693404339,\n",
       " 7500.000460315805,\n",
       " 7500.000391443754,\n",
       " 7500.000423179279,\n",
       " 7499.999614579954,\n",
       " 7499.999469383858,\n",
       " 7500.000387229145,\n",
       " 7499.999537068218,\n",
       " 7499.9993849708535,\n",
       " 7500.000082714843,\n",
       " 7500.000514471611,\n",
       " 7499.999805922474,\n",
       " 7500.000179541436,\n",
       " 7500.00060999109,\n",
       " 7500.000090724106,\n",
       " 7499.999641313929,\n",
       " 7500.0001202892945,\n",
       " 7499.999672393752,\n",
       " 7499.999560886092,\n",
       " 7500.000141665922,\n",
       " 7499.99966858916,\n",
       " 7499.999732193626,\n",
       " 7499.999990795462,\n",
       " 7499.999968473748,\n",
       " 7499.999877193919,\n",
       " 7500.000281968932,\n",
       " 7500.000264457286,\n",
       " 7499.999659582723,\n",
       " 7499.9997700650865,\n",
       " 7499.999707232606,\n",
       " 7499.9997246907715,\n",
       " 7500.0001521046315,\n",
       " 7499.999779654636,\n",
       " 7499.999767027457,\n",
       " 7499.999984017433,\n",
       " 7500.0003782060885,\n",
       " 7500.000114047488,\n",
       " 7499.999967046138,\n",
       " 7500.0002844504925,\n",
       " 7500.000049869406,\n",
       " 7499.999560671395,\n",
       " 7499.999812219121,\n",
       " 7500.000089874327,\n",
       " 7500.000309925769,\n",
       " 7499.99984378425,\n",
       " 7500.000098412576,\n",
       " 7499.9996754678905,\n",
       " 7500.000115711675,\n",
       " 7499.999839295375,\n",
       " 7500.000051395284,\n",
       " 7500.000522504901,\n",
       " 7500.000007488912,\n",
       " 7500.000446743781,\n",
       " 7500.000149300733,\n",
       " 7499.999550848701,\n",
       " 7500.000274129936,\n",
       " 7499.99985859393,\n",
       " 7500.000019882435,\n",
       " 7499.999772606448,\n",
       " 7500.000004914749,\n",
       " 7500.000076158971,\n",
       " 7499.9998190517545,\n",
       " 7499.99987308079,\n",
       " 7499.999891044932,\n",
       " 7499.999840934161,\n",
       " 7499.9998830052755,\n",
       " 7500.000104401128,\n",
       " 7500.00021216427,\n",
       " 7500.000064971983,\n",
       " 7499.999707424387,\n",
       " 7500.000194701572,\n",
       " 7499.999989834416,\n",
       " 7499.999830078602,\n",
       " 7500.000403477085]"
      ]
     },
     "execution_count": 67,
     "metadata": {},
     "output_type": "execute_result"
    }
   ],
   "source": [
    "[np.sum(x[1,:]) for x in c]"
   ]
  },
  {
   "cell_type": "code",
   "execution_count": 68,
   "metadata": {},
   "outputs": [
    {
     "data": {
      "text/plain": [
       "(101, 2, 2)"
      ]
     },
     "execution_count": 68,
     "metadata": {},
     "output_type": "execute_result"
    }
   ],
   "source": [
    "c.shape"
   ]
  },
  {
   "cell_type": "code",
   "execution_count": 69,
   "metadata": {},
   "outputs": [
    {
     "data": {
      "text/plain": [
       "array([[3.99892197e+07, 3.28027241e+03],\n",
       "       [3.28027256e+03, 4.21972759e+03]])"
      ]
     },
     "execution_count": 69,
     "metadata": {},
     "output_type": "execute_result"
    }
   ],
   "source": [
    "c[0]"
   ]
  },
  {
   "cell_type": "code",
   "execution_count": 70,
   "metadata": {},
   "outputs": [
    {
     "data": {
      "text/plain": [
       "array([[3.99896926e+07, 2.80739315e+03],\n",
       "       [2.80739312e+03, 4.69260685e+03]])"
      ]
     },
     "execution_count": 70,
     "metadata": {},
     "output_type": "execute_result"
    }
   ],
   "source": [
    "c[50]"
   ]
  },
  {
   "cell_type": "code",
   "execution_count": 74,
   "metadata": {},
   "outputs": [],
   "source": [
    "res2 = np.stack([r[0][2] for r in res])"
   ]
  },
  {
   "cell_type": "code",
   "execution_count": 75,
   "metadata": {},
   "outputs": [
    {
     "data": {
      "text/plain": [
       "(101,)"
      ]
     },
     "execution_count": 75,
     "metadata": {},
     "output_type": "execute_result"
    }
   ],
   "source": [
    "res2.shape"
   ]
  },
  {
   "cell_type": "code",
   "execution_count": 78,
   "metadata": {},
   "outputs": [
    {
     "data": {
      "text/plain": [
       "Text(0.5, 0, 'DAQ Power')"
      ]
     },
     "execution_count": 78,
     "metadata": {},
     "output_type": "execute_result"
    },
    {
     "data": {
      "image/png": "[encoded data removed]",
      "text/plain": [
       "<Figure size 640x480 with 1 Axes>"
      ]
     },
     "metadata": {},
     "output_type": "display_data"
    }
   ],
   "source": [
    "#plt.plot(res2[:,0], res2[:,1], label = \"Precision\")\n",
    "plt.plot(all_power, res2, label = \"Recall\")\n",
    "#plt.plot(res2[:,0], res2[:,3], label = \"F1\")\n",
    "plt.ylabel(\"Recall\")\n",
    "plt.xlabel(\"DAQ Power\")"
   ]
  },
  {
   "cell_type": "code",
   "execution_count": null,
   "metadata": {},
   "outputs": [],
   "source": []
  }
 ],
 "metadata": {
  "kernelspec": {
   "display_name": "jax",
   "language": "python",
   "name": "python3"
  },
  "language_info": {
   "codemirror_mode": {
    "name": "ipython",
    "version": 3
   },
   "file_extension": ".py",
   "mimetype": "text/x-python",
   "name": "python",
   "nbconvert_exporter": "python",
   "pygments_lexer": "ipython3",
   "version": "3.10.4"
  }
 },
 "nbformat": 4,
 "nbformat_minor": 2
}
