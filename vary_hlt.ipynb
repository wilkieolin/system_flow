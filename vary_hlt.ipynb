{
 "cells": [
  {
   "cell_type": "code",
   "execution_count": 1,
   "metadata": {},
   "outputs": [],
   "source": [
    "from graph import *\n",
    "from models import *\n",
    "from metrics import *\n",
    "\n",
    "import pandas as pd\n",
    "import matplotlib.pyplot as plt\n",
    "from scipy.optimize import curve_fit\n",
    "import plotly.graph_objects as go"
   ]
  },
  {
   "cell_type": "code",
   "execution_count": 2,
   "metadata": {},
   "outputs": [],
   "source": [
    "# load data from the spreadsheet which defines the structure of the workflow,\n",
    "# as well as the parameters for data rates, efficiency, data reduction, and classifier performance\n",
    "# ...these are taken from predictions for the Run-5 CMS\n",
    "run5_system = dataframes_from_spreadsheet(\"cms_system_200.xlsx\")"
   ]
  },
  {
   "cell_type": "code",
   "execution_count": 3,
   "metadata": {},
   "outputs": [
    {
     "data": {
      "text/html": [
       "<div>\n",
       "<style scoped>\n",
       "    .dataframe tbody tr th:only-of-type {\n",
       "        vertical-align: middle;\n",
       "    }\n",
       "\n",
       "    .dataframe tbody tr th {\n",
       "        vertical-align: top;\n",
       "    }\n",
       "\n",
       "    .dataframe thead th {\n",
       "        text-align: right;\n",
       "    }\n",
       "</style>\n",
       "<table border=\"1\" class=\"dataframe\">\n",
       "  <thead>\n",
       "    <tr style=\"text-align: right;\">\n",
       "      <th></th>\n",
       "      <th>Category</th>\n",
       "      <th>Detector</th>\n",
       "      <th>Data (bytes)</th>\n",
       "      <th>Sample Rate</th>\n",
       "      <th>Compression</th>\n",
       "      <th>Link Efficiency (J/bit)</th>\n",
       "      <th>Op Efficiency (J/op)</th>\n",
       "      <th>PU 200</th>\n",
       "    </tr>\n",
       "  </thead>\n",
       "  <tbody>\n",
       "    <tr>\n",
       "      <th>0</th>\n",
       "      <td>Tracking</td>\n",
       "      <td>Inner Tracker</td>\n",
       "      <td>1440000</td>\n",
       "      <td>40000000</td>\n",
       "      <td>0</td>\n",
       "      <td>2.220000e-11</td>\n",
       "      <td>0</td>\n",
       "      <td>1.440</td>\n",
       "    </tr>\n",
       "    <tr>\n",
       "      <th>1</th>\n",
       "      <td>Tracking</td>\n",
       "      <td>Outer Tracker PS</td>\n",
       "      <td>720000</td>\n",
       "      <td>40000000</td>\n",
       "      <td>0</td>\n",
       "      <td>2.220000e-11</td>\n",
       "      <td>0</td>\n",
       "      <td>0.720</td>\n",
       "    </tr>\n",
       "    <tr>\n",
       "      <th>2</th>\n",
       "      <td>Tracking</td>\n",
       "      <td>Outer Tracker 2S</td>\n",
       "      <td>430000</td>\n",
       "      <td>40000000</td>\n",
       "      <td>0</td>\n",
       "      <td>2.220000e-11</td>\n",
       "      <td>0</td>\n",
       "      <td>0.430</td>\n",
       "    </tr>\n",
       "    <tr>\n",
       "      <th>3</th>\n",
       "      <td>Tracking</td>\n",
       "      <td>Track Finder TPG</td>\n",
       "      <td>10000</td>\n",
       "      <td>40000000</td>\n",
       "      <td>0</td>\n",
       "      <td>2.220000e-11</td>\n",
       "      <td>0</td>\n",
       "      <td>0.010</td>\n",
       "    </tr>\n",
       "    <tr>\n",
       "      <th>4</th>\n",
       "      <td>Timing</td>\n",
       "      <td>MIP Timing BTL</td>\n",
       "      <td>240000</td>\n",
       "      <td>40000000</td>\n",
       "      <td>0</td>\n",
       "      <td>2.220000e-11</td>\n",
       "      <td>0</td>\n",
       "      <td>0.240</td>\n",
       "    </tr>\n",
       "    <tr>\n",
       "      <th>5</th>\n",
       "      <td>Timing</td>\n",
       "      <td>MIP Timing ETL</td>\n",
       "      <td>440000</td>\n",
       "      <td>40000000</td>\n",
       "      <td>0</td>\n",
       "      <td>2.220000e-11</td>\n",
       "      <td>0</td>\n",
       "      <td>0.440</td>\n",
       "    </tr>\n",
       "    <tr>\n",
       "      <th>6</th>\n",
       "      <td>Calorimetry</td>\n",
       "      <td>ECAL Barrel</td>\n",
       "      <td>600000</td>\n",
       "      <td>40000000</td>\n",
       "      <td>0</td>\n",
       "      <td>2.220000e-11</td>\n",
       "      <td>0</td>\n",
       "      <td>0.600</td>\n",
       "    </tr>\n",
       "    <tr>\n",
       "      <th>7</th>\n",
       "      <td>Calorimetry</td>\n",
       "      <td>HCAL Barrel</td>\n",
       "      <td>240000</td>\n",
       "      <td>40000000</td>\n",
       "      <td>0</td>\n",
       "      <td>2.220000e-11</td>\n",
       "      <td>0</td>\n",
       "      <td>0.240</td>\n",
       "    </tr>\n",
       "    <tr>\n",
       "      <th>8</th>\n",
       "      <td>Calorimetry</td>\n",
       "      <td>HCAL HO</td>\n",
       "      <td>30000</td>\n",
       "      <td>40000000</td>\n",
       "      <td>0</td>\n",
       "      <td>2.220000e-11</td>\n",
       "      <td>0</td>\n",
       "      <td>0.030</td>\n",
       "    </tr>\n",
       "    <tr>\n",
       "      <th>9</th>\n",
       "      <td>Calorimetry</td>\n",
       "      <td>HCAL HF</td>\n",
       "      <td>60000</td>\n",
       "      <td>40000000</td>\n",
       "      <td>0</td>\n",
       "      <td>2.220000e-11</td>\n",
       "      <td>0</td>\n",
       "      <td>0.060</td>\n",
       "    </tr>\n",
       "    <tr>\n",
       "      <th>10</th>\n",
       "      <td>Calorimetry</td>\n",
       "      <td>HGCAL</td>\n",
       "      <td>3000000</td>\n",
       "      <td>40000000</td>\n",
       "      <td>0</td>\n",
       "      <td>2.220000e-11</td>\n",
       "      <td>0</td>\n",
       "      <td>3.000</td>\n",
       "    </tr>\n",
       "    <tr>\n",
       "      <th>11</th>\n",
       "      <td>Calorimetry</td>\n",
       "      <td>HGCAL TPG Stage1</td>\n",
       "      <td>150000</td>\n",
       "      <td>40000000</td>\n",
       "      <td>0</td>\n",
       "      <td>2.220000e-11</td>\n",
       "      <td>0</td>\n",
       "      <td>0.150</td>\n",
       "    </tr>\n",
       "    <tr>\n",
       "      <th>12</th>\n",
       "      <td>Calorimetry</td>\n",
       "      <td>HGCAL TPG Stage2</td>\n",
       "      <td>50000</td>\n",
       "      <td>40000000</td>\n",
       "      <td>0</td>\n",
       "      <td>2.220000e-11</td>\n",
       "      <td>0</td>\n",
       "      <td>0.050</td>\n",
       "    </tr>\n",
       "    <tr>\n",
       "      <th>13</th>\n",
       "      <td>Muon</td>\n",
       "      <td>Muon DT</td>\n",
       "      <td>150000</td>\n",
       "      <td>40000000</td>\n",
       "      <td>0</td>\n",
       "      <td>2.220000e-11</td>\n",
       "      <td>0</td>\n",
       "      <td>0.150</td>\n",
       "    </tr>\n",
       "    <tr>\n",
       "      <th>14</th>\n",
       "      <td>Muon</td>\n",
       "      <td>Muon CSC</td>\n",
       "      <td>470000</td>\n",
       "      <td>40000000</td>\n",
       "      <td>0</td>\n",
       "      <td>2.220000e-11</td>\n",
       "      <td>0</td>\n",
       "      <td>0.470</td>\n",
       "    </tr>\n",
       "    <tr>\n",
       "      <th>15</th>\n",
       "      <td>Muon</td>\n",
       "      <td>Muon GEM GE1</td>\n",
       "      <td>3000</td>\n",
       "      <td>40000000</td>\n",
       "      <td>0</td>\n",
       "      <td>2.220000e-11</td>\n",
       "      <td>0</td>\n",
       "      <td>0.003</td>\n",
       "    </tr>\n",
       "    <tr>\n",
       "      <th>16</th>\n",
       "      <td>Muon</td>\n",
       "      <td>Muon GEM GE2</td>\n",
       "      <td>2000</td>\n",
       "      <td>40000000</td>\n",
       "      <td>0</td>\n",
       "      <td>2.220000e-11</td>\n",
       "      <td>0</td>\n",
       "      <td>0.002</td>\n",
       "    </tr>\n",
       "    <tr>\n",
       "      <th>17</th>\n",
       "      <td>Muon</td>\n",
       "      <td>Muon GEM ME0</td>\n",
       "      <td>120000</td>\n",
       "      <td>40000000</td>\n",
       "      <td>0</td>\n",
       "      <td>2.220000e-11</td>\n",
       "      <td>0</td>\n",
       "      <td>0.120</td>\n",
       "    </tr>\n",
       "    <tr>\n",
       "      <th>18</th>\n",
       "      <td>Muon</td>\n",
       "      <td>Muon RPC</td>\n",
       "      <td>10000</td>\n",
       "      <td>40000000</td>\n",
       "      <td>0</td>\n",
       "      <td>2.220000e-11</td>\n",
       "      <td>0</td>\n",
       "      <td>0.010</td>\n",
       "    </tr>\n",
       "  </tbody>\n",
       "</table>\n",
       "</div>"
      ],
      "text/plain": [
       "       Category          Detector  Data (bytes)  Sample Rate  Compression  \\\n",
       "0      Tracking     Inner Tracker       1440000     40000000            0   \n",
       "1      Tracking  Outer Tracker PS        720000     40000000            0   \n",
       "2      Tracking  Outer Tracker 2S        430000     40000000            0   \n",
       "3      Tracking  Track Finder TPG         10000     40000000            0   \n",
       "4        Timing    MIP Timing BTL        240000     40000000            0   \n",
       "5        Timing    MIP Timing ETL        440000     40000000            0   \n",
       "6   Calorimetry       ECAL Barrel        600000     40000000            0   \n",
       "7   Calorimetry       HCAL Barrel        240000     40000000            0   \n",
       "8   Calorimetry           HCAL HO         30000     40000000            0   \n",
       "9   Calorimetry           HCAL HF         60000     40000000            0   \n",
       "10  Calorimetry             HGCAL       3000000     40000000            0   \n",
       "11  Calorimetry  HGCAL TPG Stage1        150000     40000000            0   \n",
       "12  Calorimetry  HGCAL TPG Stage2         50000     40000000            0   \n",
       "13         Muon           Muon DT        150000     40000000            0   \n",
       "14         Muon          Muon CSC        470000     40000000            0   \n",
       "15         Muon      Muon GEM GE1          3000     40000000            0   \n",
       "16         Muon      Muon GEM GE2          2000     40000000            0   \n",
       "17         Muon      Muon GEM ME0        120000     40000000            0   \n",
       "18         Muon          Muon RPC         10000     40000000            0   \n",
       "\n",
       "    Link Efficiency (J/bit)  Op Efficiency (J/op)  PU 200  \n",
       "0              2.220000e-11                     0   1.440  \n",
       "1              2.220000e-11                     0   0.720  \n",
       "2              2.220000e-11                     0   0.430  \n",
       "3              2.220000e-11                     0   0.010  \n",
       "4              2.220000e-11                     0   0.240  \n",
       "5              2.220000e-11                     0   0.440  \n",
       "6              2.220000e-11                     0   0.600  \n",
       "7              2.220000e-11                     0   0.240  \n",
       "8              2.220000e-11                     0   0.030  \n",
       "9              2.220000e-11                     0   0.060  \n",
       "10             2.220000e-11                     0   3.000  \n",
       "11             2.220000e-11                     0   0.150  \n",
       "12             2.220000e-11                     0   0.050  \n",
       "13             2.220000e-11                     0   0.150  \n",
       "14             2.220000e-11                     0   0.470  \n",
       "15             2.220000e-11                     0   0.003  \n",
       "16             2.220000e-11                     0   0.002  \n",
       "17             2.220000e-11                     0   0.120  \n",
       "18             2.220000e-11                     0   0.010  "
      ]
     },
     "execution_count": 3,
     "metadata": {},
     "output_type": "execute_result"
    }
   ],
   "source": [
    "run5_system.detectors"
   ]
  },
  {
   "cell_type": "code",
   "execution_count": 4,
   "metadata": {},
   "outputs": [
    {
     "data": {
      "text/html": [
       "<div>\n",
       "<style scoped>\n",
       "    .dataframe tbody tr th:only-of-type {\n",
       "        vertical-align: middle;\n",
       "    }\n",
       "\n",
       "    .dataframe tbody tr th {\n",
       "        vertical-align: top;\n",
       "    }\n",
       "\n",
       "    .dataframe thead th {\n",
       "        text-align: right;\n",
       "    }\n",
       "</style>\n",
       "<table border=\"1\" class=\"dataframe\">\n",
       "  <thead>\n",
       "    <tr style=\"text-align: right;\">\n",
       "      <th></th>\n",
       "      <th>Name</th>\n",
       "      <th>Output</th>\n",
       "      <th>Data (bytes)</th>\n",
       "      <th>Reduction Ratio</th>\n",
       "      <th>Skill mean</th>\n",
       "      <th>Skill variance</th>\n",
       "      <th>Link Efficiency (J/bit)</th>\n",
       "      <th>Op Efficiency (J/op)</th>\n",
       "      <th>Compression</th>\n",
       "    </tr>\n",
       "  </thead>\n",
       "  <tbody>\n",
       "    <tr>\n",
       "      <th>0</th>\n",
       "      <td>Tracking</td>\n",
       "      <td>Intermediate</td>\n",
       "      <td>0</td>\n",
       "      <td>1.0</td>\n",
       "      <td>0</td>\n",
       "      <td>0</td>\n",
       "      <td>2.500000e-11</td>\n",
       "      <td>0.000</td>\n",
       "      <td>0</td>\n",
       "    </tr>\n",
       "    <tr>\n",
       "      <th>1</th>\n",
       "      <td>Timing</td>\n",
       "      <td>Intermediate</td>\n",
       "      <td>0</td>\n",
       "      <td>1.0</td>\n",
       "      <td>0</td>\n",
       "      <td>0</td>\n",
       "      <td>2.500000e-11</td>\n",
       "      <td>0.000</td>\n",
       "      <td>0</td>\n",
       "    </tr>\n",
       "    <tr>\n",
       "      <th>2</th>\n",
       "      <td>Calorimetry</td>\n",
       "      <td>Intermediate</td>\n",
       "      <td>0</td>\n",
       "      <td>1.0</td>\n",
       "      <td>0</td>\n",
       "      <td>0</td>\n",
       "      <td>2.500000e-11</td>\n",
       "      <td>0.000</td>\n",
       "      <td>0</td>\n",
       "    </tr>\n",
       "    <tr>\n",
       "      <th>3</th>\n",
       "      <td>Muon</td>\n",
       "      <td>Intermediate</td>\n",
       "      <td>0</td>\n",
       "      <td>1.0</td>\n",
       "      <td>0</td>\n",
       "      <td>0</td>\n",
       "      <td>2.500000e-11</td>\n",
       "      <td>0.000</td>\n",
       "      <td>0</td>\n",
       "    </tr>\n",
       "    <tr>\n",
       "      <th>4</th>\n",
       "      <td>Intermediate</td>\n",
       "      <td>Global</td>\n",
       "      <td>260000</td>\n",
       "      <td>53.3</td>\n",
       "      <td>3</td>\n",
       "      <td>1</td>\n",
       "      <td>2.500000e-11</td>\n",
       "      <td>0.003</td>\n",
       "      <td>0</td>\n",
       "    </tr>\n",
       "    <tr>\n",
       "      <th>5</th>\n",
       "      <td>Global</td>\n",
       "      <td>Disk</td>\n",
       "      <td>0</td>\n",
       "      <td>100.0</td>\n",
       "      <td>4</td>\n",
       "      <td>1</td>\n",
       "      <td>2.500000e-11</td>\n",
       "      <td>16.000</td>\n",
       "      <td>0</td>\n",
       "    </tr>\n",
       "    <tr>\n",
       "      <th>6</th>\n",
       "      <td>Disk</td>\n",
       "      <td>NaN</td>\n",
       "      <td>0</td>\n",
       "      <td>1.0</td>\n",
       "      <td>0</td>\n",
       "      <td>0</td>\n",
       "      <td>2.500000e-11</td>\n",
       "      <td>0.000</td>\n",
       "      <td>0</td>\n",
       "    </tr>\n",
       "  </tbody>\n",
       "</table>\n",
       "</div>"
      ],
      "text/plain": [
       "           Name        Output  Data (bytes)  Reduction Ratio  Skill mean  \\\n",
       "0      Tracking  Intermediate             0              1.0           0   \n",
       "1        Timing  Intermediate             0              1.0           0   \n",
       "2   Calorimetry  Intermediate             0              1.0           0   \n",
       "3          Muon  Intermediate             0              1.0           0   \n",
       "4  Intermediate        Global        260000             53.3           3   \n",
       "5        Global          Disk             0            100.0           4   \n",
       "6          Disk           NaN             0              1.0           0   \n",
       "\n",
       "   Skill variance  Link Efficiency (J/bit)  Op Efficiency (J/op)  Compression  \n",
       "0               0             2.500000e-11                 0.000            0  \n",
       "1               0             2.500000e-11                 0.000            0  \n",
       "2               0             2.500000e-11                 0.000            0  \n",
       "3               0             2.500000e-11                 0.000            0  \n",
       "4               1             2.500000e-11                 0.003            0  \n",
       "5               1             2.500000e-11                16.000            0  \n",
       "6               0             2.500000e-11                 0.000            0  "
      ]
     },
     "execution_count": 4,
     "metadata": {},
     "output_type": "execute_result"
    }
   ],
   "source": [
    "run5_system.triggers"
   ]
  },
  {
   "cell_type": "code",
   "execution_count": 5,
   "metadata": {},
   "outputs": [],
   "source": [
    "#calculate the total reduction to keep this constant across experiments\n",
    "overall_reduction = run5_system.triggers.iloc[4][\"Reduction Ratio\"] * run5_system.triggers.iloc[5][\"Reduction Ratio\"]"
   ]
  },
  {
   "cell_type": "code",
   "execution_count": 6,
   "metadata": {},
   "outputs": [],
   "source": [
    "#import the data predicting wall time scaling by pileup\n",
    "scaling = pd.read_excel(\"wall time scaling.xlsx\", sheet_name=\"Data\")\n",
    "#fit a polynomial to this data for CPU and GPU runtimes\n",
    "fit_poly = lambda x, k3, k2, k1: k3 * x ** 3 + k2 * x ** 2 + k1 * x\n",
    "k, cv = curve_fit(fit_poly, scaling[\"Size\"], scaling[\"Wall Time\"])\n",
    "k_gpu, cv_gpu = curve_fit(fit_poly, scaling[\"Size\"], scaling[\"Wall Time GPU\"])"
   ]
  },
  {
   "cell_type": "code",
   "execution_count": 7,
   "metadata": {},
   "outputs": [],
   "source": [
    "#define a dictionary with functions defining the scaling of trigger runtimes with incoming data\n",
    "funcs = {\"Global\": lambda x: fit_poly(x, *k), \"Intermediate\": lambda x: x / 2.0e6}\n",
    "funcs_gpu = {\"Global\": lambda x: fit_poly(x, *k_gpu), \"Intermediate\": lambda x: x / 2.0e6}"
   ]
  },
  {
   "cell_type": "code",
   "execution_count": 8,
   "metadata": {},
   "outputs": [],
   "source": [
    "\"\"\"\n",
    "Vary the accept rate of the level 1 trigger and inspect its impact on performance and resources required\n",
    "\"\"\"\n",
    "def vary_l1t_accept(system: System, functions, reduction: float):\n",
    "    t = system.triggers.copy()\n",
    "    #intermediate reduction stage\n",
    "    t.at[4, \"Reduction Ratio\"] = reduction\n",
    "    #global reduction stage\n",
    "    t.at[5, \"Reduction Ratio\"] = overall_reduction / reduction\n",
    "    g = construct_graph(system.detectors, t, system.globals, functions)\n",
    "\n",
    "    power = g.graph[\"op power\"] + g.graph[\"link power\"]\n",
    "    confusion = g.graph[\"performance\"]\n",
    "\n",
    "    return confusion, power, g"
   ]
  },
  {
   "cell_type": "code",
   "execution_count": 9,
   "metadata": {},
   "outputs": [],
   "source": [
    "#the planned Run-5 L1 accept\n",
    "ex = vary_l1t_accept(run5_system, funcs, 53.3)"
   ]
  },
  {
   "cell_type": "code",
   "execution_count": 10,
   "metadata": {},
   "outputs": [
    {
     "data": {
      "text/plain": [
       "['Inner Tracker',\n",
       " 'Outer Tracker PS',\n",
       " 'Outer Tracker 2S',\n",
       " 'Track Finder TPG',\n",
       " 'MIP Timing BTL',\n",
       " 'MIP Timing ETL',\n",
       " 'ECAL Barrel',\n",
       " 'HCAL Barrel',\n",
       " 'HCAL HO',\n",
       " 'HCAL HF',\n",
       " 'HGCAL',\n",
       " 'HGCAL TPG Stage1',\n",
       " 'HGCAL TPG Stage2',\n",
       " 'Muon DT',\n",
       " 'Muon CSC',\n",
       " 'Muon GEM GE1',\n",
       " 'Muon GEM GE2',\n",
       " 'Muon GEM ME0',\n",
       " 'Muon RPC',\n",
       " 'Tracking',\n",
       " 'Timing',\n",
       " 'Calorimetry',\n",
       " 'Muon',\n",
       " 'Intermediate',\n",
       " 'Global',\n",
       " 'Disk']"
      ]
     },
     "execution_count": 10,
     "metadata": {},
     "output_type": "execute_result"
    }
   ],
   "source": [
    "list(ex[2].nodes)"
   ]
  },
  {
   "cell_type": "code",
   "execution_count": 11,
   "metadata": {},
   "outputs": [],
   "source": [
    "run5_graph = ex[2]"
   ]
  },
  {
   "cell_type": "code",
   "execution_count": 12,
   "metadata": {},
   "outputs": [
    {
     "data": {
      "text/plain": [
       "49.22659677724248"
      ]
     },
     "execution_count": 12,
     "metadata": {},
     "output_type": "execute_result"
    }
   ],
   "source": [
    "run5_graph.nodes[\"Global\"][\"power\"] / 1e6 / 6.8"
   ]
  },
  {
   "cell_type": "code",
   "execution_count": 13,
   "metadata": {},
   "outputs": [
    {
     "data": {
      "text/plain": [
       "51.57977090119172"
      ]
     },
     "execution_count": 13,
     "metadata": {},
     "output_type": "execute_result"
    }
   ],
   "source": [
    "ex[2].graph['op power'] / density_scale_model(ex[2].graph[\"globals\"][\"Year\"][0]) / 1e6"
   ]
  },
  {
   "cell_type": "code",
   "execution_count": 14,
   "metadata": {},
   "outputs": [
    {
     "data": {
      "text/plain": [
       "array([[3.99904638e+07, 2.03146077e+03],\n",
       "       [2.03146035e+03, 5.47322966e+03]])"
      ]
     },
     "execution_count": 14,
     "metadata": {},
     "output_type": "execute_result"
    }
   ],
   "source": [
    "#its predicted confusion matrix for the workflow\n",
    "ex[0]"
   ]
  },
  {
   "cell_type": "code",
   "execution_count": 15,
   "metadata": {},
   "outputs": [
    {
     "data": {
      "text/plain": [
       "335.3709594309368"
      ]
     },
     "execution_count": 15,
     "metadata": {},
     "output_type": "execute_result"
    }
   ],
   "source": [
    "#and total required power (MW) using 2024's technology\n",
    "ex[1] / 1e6"
   ]
  },
  {
   "cell_type": "code",
   "execution_count": 16,
   "metadata": {},
   "outputs": [],
   "source": [
    "#vary this accept rate from today's rate to beyond the planned Run-5 level\n",
    "l1t_reductions = np.linspace(400, 20.0, 101)"
   ]
  },
  {
   "cell_type": "code",
   "execution_count": 17,
   "metadata": {},
   "outputs": [],
   "source": [
    "run5_res = [vary_l1t_accept(run5_system, funcs, r) for r in l1t_reductions]"
   ]
  },
  {
   "cell_type": "code",
   "execution_count": 18,
   "metadata": {},
   "outputs": [],
   "source": [
    "def extract_metrics(results):\n",
    "    all_confusion = np.stack([r[0] for r in results])\n",
    "\n",
    "    all_power = [r[1] / density_scale_model(r[2].graph[\"globals\"][\"Year\"][0]) for r in results]\n",
    "    all_power = np.array(all_power)\n",
    "\n",
    "    all_recall = np.array([recall(all_confusion[i,:,:]) for i in range(all_confusion.shape[0])])\n",
    "    productivity = np.array([np.sum(get_passed(all_confusion[i,:,:])) for i in range(all_confusion.shape[0])])\n",
    "\n",
    "    metrics = {\"confusion\": all_confusion,\n",
    "               \"power\": all_power,\n",
    "               \"recall\": all_recall,\n",
    "               \"productivity\": all_recall * productivity}\n",
    "\n",
    "    return metrics"
   ]
  },
  {
   "cell_type": "code",
   "execution_count": 19,
   "metadata": {},
   "outputs": [],
   "source": [
    "run5_metrics = extract_metrics(run5_res)"
   ]
  },
  {
   "cell_type": "code",
   "execution_count": 20,
   "metadata": {},
   "outputs": [
    {
     "data": {
      "text/plain": [
       "Text(0.5, 0, 'DAQ Power (MW)')"
      ]
     },
     "execution_count": 20,
     "metadata": {},
     "output_type": "execute_result"
    },
    {
     "data": {
      "image/png": "[encoded data removed]",
      "text/plain": [
       "<Figure size 640x480 with 1 Axes>"
      ]
     },
     "metadata": {},
     "output_type": "display_data"
    }
   ],
   "source": [
    "plt.plot(run5_metrics[\"power\"] / 1e6, run5_metrics[\"recall\"])\n",
    "plt.ylabel(\"Recall\")\n",
    "plt.xlabel(\"DAQ Power (MW)\")"
   ]
  },
  {
   "cell_type": "code",
   "execution_count": 21,
   "metadata": {},
   "outputs": [
    {
     "data": {
      "text/plain": [
       "Text(0.5, 0, 'DAQ Power (MW)')"
      ]
     },
     "execution_count": 21,
     "metadata": {},
     "output_type": "execute_result"
    },
    {
     "data": {
      "image/png": "[encoded data removed]",
      "text/plain": [
       "<Figure size 640x480 with 1 Axes>"
      ]
     },
     "metadata": {},
     "output_type": "display_data"
    }
   ],
   "source": [
    "plt.plot(run5_metrics[\"power\"] / 1e6, run5_metrics[\"productivity\"])\n",
    "plt.ylabel(\"Retrieved Sample Rate (1/s)\")\n",
    "plt.xlabel(\"DAQ Power (MW)\")"
   ]
  },
  {
   "cell_type": "code",
   "execution_count": 22,
   "metadata": {},
   "outputs": [],
   "source": [
    "#repeat this process for alternative configurations \n",
    "# GPU\n",
    "run5_gpu_res = [vary_l1t_accept(run5_system, funcs_gpu, r) for r in l1t_reductions]\n",
    "run5_gpu_metrics = extract_metrics(run5_gpu_res)"
   ]
  },
  {
   "cell_type": "code",
   "execution_count": 23,
   "metadata": {},
   "outputs": [],
   "source": [
    "# Smart pixels & GPU\n",
    "smartpx_system = dataframes_from_spreadsheet(\"cms_system_200_smartpx.xlsx\")\n",
    "run5_smartpx_res = [vary_l1t_accept(smartpx_system, funcs_gpu, r) for r in l1t_reductions]\n",
    "run5_smartpx_metrics = extract_metrics(run5_smartpx_res)"
   ]
  },
  {
   "cell_type": "code",
   "execution_count": 24,
   "metadata": {},
   "outputs": [],
   "source": [
    "# Smart pixels, GPU, & uLED\n",
    "smartpx_uled_system = dataframes_from_spreadsheet(\"cms_system_200_smartpx_uled.xlsx\")\n",
    "run5_smartpx_uled_res = [vary_l1t_accept(smartpx_uled_system, funcs_gpu, r) for r in l1t_reductions]\n",
    "run5_smartpx_uled_metrics = extract_metrics(run5_smartpx_uled_res)"
   ]
  },
  {
   "cell_type": "code",
   "execution_count": 25,
   "metadata": {},
   "outputs": [
    {
     "data": {
      "text/plain": [
       "<matplotlib.legend.Legend at 0x16a5887f0>"
      ]
     },
     "execution_count": 25,
     "metadata": {},
     "output_type": "execute_result"
    },
    {
     "data": {
      "image/png": "[encoded data removed]",
      "text/plain": [
       "<Figure size 640x480 with 1 Axes>"
      ]
     },
     "metadata": {},
     "output_type": "display_data"
    }
   ],
   "source": [
    "plt.plot(run5_metrics[\"power\"] / 1e6, run5_metrics[\"recall\"], label = \"CPU System\")\n",
    "plt.plot(run5_gpu_metrics[\"power\"] / 1e6, run5_gpu_metrics[\"recall\"], label = \"Het. System 1\")\n",
    "plt.plot(run5_smartpx_metrics[\"power\"] / 1e6, run5_smartpx_metrics[\"recall\"], label = \"Het. System 2\")\n",
    "#plt.plot(run5_smartpx_uled_metrics[\"power\"] / 1e6, run5_smartpx_uled_metrics[\"recall\"], label = \"Het. System 3\")\n",
    "plt.ylabel(\"Recall\")\n",
    "plt.xlabel(\"DAQ Power (MW)\")\n",
    "plt.legend()"
   ]
  },
  {
   "cell_type": "code",
   "execution_count": 26,
   "metadata": {},
   "outputs": [],
   "source": [
    "import plotly.graph_objects as go"
   ]
  },
  {
   "cell_type": "code",
   "execution_count": 27,
   "metadata": {},
   "outputs": [
    {
     "data": {
      "application/vnd.plotly.v1+json": {
       "config": {
        "plotlyServerURL": "https://plot.ly"
       },
       "data": [
        {
         "name": "CPU",
         "type": "scatter",
         "x": [
          6.95941746192529,
          7.025238173176736,
          7.092334208699054,
          7.160741527195511,
          7.2305003387137186,
          7.3016506854258,
          7.374233939390776,
          7.448294745025746,
          7.523879539255748,
          7.601033574101274,
          7.679807706765521,
          7.760254202228076,
          7.842424424956986,
          7.9263760687417175,
          8.012167936922676,
          8.09986080816207,
          8.189518275484586,
          8.281207452300318,
          8.374997684085704,
          8.470963661183145,
          8.569179247870917,
          8.669726689240148,
          8.772689351378515,
          8.878154424994554,
          8.986216097511825,
          9.096969693844597,
          9.210518637323041,
          9.326969070460889,
          9.44643371444992,
          9.569030914792574,
          9.694886905243727,
          9.824131746234436,
          9.956904927079362,
          10.09335230678445,
          10.233629358667669,
          10.377899599456338,
          10.526335680470156,
          10.6791204970234,
          10.836448828150601,
          10.998525510548928,
          11.165569097514215,
          11.337810597915611,
          11.51549813740557,
          11.69889280344618,
          11.888274752050862,
          12.083942073291192,
          12.286212834423395,
          12.495426760288863,
          12.711948247028966,
          12.936165489855975,
          13.168497711908884,
          13.409393610262418,
          13.65933431622376,
          13.918840381100345,
          14.188470238842214,
          14.468828653016134,
          14.760569796713684,
          15.06439989791135,
          15.381087214579853,
          15.711466129449995,
          16.056442616651314,
          16.417004676452873,
          16.794238067930028,
          17.1893212701629,
          17.60355433909043,
          18.038364690520886,
          18.49532205084351,
          18.976164281710673,
          19.48281528568557,
          20.017409585932743,
          20.582323946633316,
          21.180214031563576,
          21.814051162851598,
          22.487182043007316,
          23.20337399829914,
          23.96689657929178,
          24.78260339535195,
          25.656032189917504,
          26.593534996844827,
          27.602430383630047,
          28.691196620933486,
          29.869710037297885,
          31.14954418174691,
          32.544348527081766,
          34.07034996889681,
          35.74697136109393,
          37.597665221245975,
          39.65102757440498,
          41.942283771094,
          44.515306700213856,
          47.42549103508292,
          50.743743125732415,
          54.56236304884722,
          59.00376555249454,
          64.23383155859752,
          70.48308197370044,
          78.08160091633572,
          87.51926527666254,
          99.55570009860358,
          115.4356964763812,
          137.35009115642046
         ],
         "y": [
          0.5626331079828706,
          0.5637390329086588,
          0.5648540372353802,
          0.5659782285295011,
          0.5671117736035606,
          0.5682548073296808,
          0.5694074639116795,
          0.5705699082115859,
          0.5717423103657587,
          0.5729247847324673,
          0.5741175168822602,
          0.5753206837796389,
          0.5765344077414702,
          0.5777588896256839,
          0.578994308706943,
          0.5802408365514715,
          0.5814986503814575,
          0.582767944996467,
          0.5840489027584779,
          0.5853417461996838,
          0.5866466322364791,
          0.5879638022255991,
          0.5892934557000153,
          0.5906357945402404,
          0.5919910678800924,
          0.5933594746093606,
          0.5947412706012353,
          0.5961366788753939,
          0.5975459423322644,
          0.5989693080406111,
          0.6004070511185561,
          0.6018594100249782,
          0.6033266645561981,
          0.604809082321508,
          0.6063069525911218,
          0.607820569500324,
          0.6093502210074357,
          0.6108962124313726,
          0.6124588647967876,
          0.614038485989048,
          0.61563540868795,
          0.6172499556917234,
          0.618882493690938,
          0.6205333586636291,
          0.6222029210617503,
          0.6238915525224206,
          0.6255996298457798,
          0.627327541725861,
          0.6290756913670645,
          0.6308444698505892,
          0.6326343142695775,
          0.6344456496001766,
          0.6362789004907545,
          0.6381345259633902,
          0.6400129691825598,
          0.6419147004149007,
          0.6438401988258355,
          0.6457899364058679,
          0.6477644129416626,
          0.6497641266794235,
          0.6517895741711984,
          0.6538412449938685,
          0.6559197054795078,
          0.6580254188595175,
          0.6601589296718617,
          0.6623207549317999,
          0.664511378532149,
          0.6667313213321189,
          0.6689810759408579,
          0.6712611094514083,
          0.6735718653334382,
          0.6759137689001454,
          0.6782871697518223,
          0.6806924241925516,
          0.6831297665428233,
          0.6855993796601546,
          0.6881013411319926,
          0.6906355909928756,
          0.6932019220052041,
          0.6957999161635422,
          0.6984289286614584,
          0.7010880080360878,
          0.7037758165790583,
          0.7064905351296759,
          0.7092297909976149,
          0.7119904343360289,
          0.7147683369638876,
          0.7175581986250763,
          0.7203531382629595,
          0.7231441699317979,
          0.7259196887291168,
          0.7286643963128655,
          0.731358116213993,
          0.7339739100432561,
          0.7364753079674806,
          0.7388120310008701,
          0.7409134379721833,
          0.7426775321304153,
          0.7439520494615361,
          0.7445001584859509,
          0.7439326217563317
         ]
        },
        {
         "name": "GPU",
         "type": "scatter",
         "x": [
          3.5280969262895976,
          3.5610074059956327,
          3.5945555502413575,
          3.6287593384459433,
          3.6636388757092053,
          3.699214183192612,
          3.7355059470036127,
          3.77253648943498,
          3.810329029036936,
          3.8489061919047245,
          3.8882934067359836,
          3.9285168061191573,
          3.969602072384752,
          4.0115780525364935,
          4.054474148355475,
          4.098320749287306,
          4.143149651964152,
          4.188994413217683,
          4.235889705916754,
          4.283872875373524,
          4.33298085386609,
          4.383254764095318,
          4.434736289262108,
          4.487469024885011,
          4.541500064853549,
          4.59687707180436,
          4.653651757597664,
          4.711877193690344,
          4.771609740890747,
          4.832908572173198,
          4.895836804653221,
          4.960459468791351,
          5.0268463095079765,
          5.095070256580999,
          5.1652090469624605,
          5.237344439324395,
          5.311562759651978,
          5.387955455947211,
          5.466619918094569,
          5.547658564828698,
          5.631180673209574,
          5.717301748107129,
          5.8061458528155105,
          5.897843531557826,
          5.992534862868977,
          6.090368892346701,
          6.191504654218659,
          6.296112011546015,
          6.404373163086368,
          6.5164822071775514,
          6.632648756179509,
          6.753097159475408,
          6.878067983625773,
          7.007821505265689,
          7.142636942422837,
          7.282816678020694,
          7.4286877998382534,
          7.580603423195058,
          7.738947678524795,
          7.904137758765738,
          8.076626652690551,
          8.256908362296091,
          8.445525769167217,
          8.643068115065164,
          8.850185430410423,
          9.067591425797975,
          9.296070967381377,
          9.536492989263083,
          9.789819446351476,
          10.057117604252648,
          10.339575849537633,
          10.638522019100918,
          10.955441779607668,
          11.292008488622022,
          11.650105816379932,
          12.031868546212445,
          12.439723491952593,
          12.876439535758616,
          13.34519270653314,
          13.849642301820563,
          14.394027472933722,
          14.983286402762134,
          15.623205887635175,
          16.32061068968437,
          17.083614287296765,
          17.92192814403782,
          18.84727856290476,
          19.873963610330836,
          21.019596027981823,
          22.306112343013872,
          23.761209996512346,
          25.420342297160115,
          27.329659457296884,
          29.550369081723474,
          32.16541194410797,
          35.290048932283284,
          39.089322727765826,
          43.808172699114955,
          49.82641280028065,
          57.76644092496215,
          68.723679576375
         ],
         "y": [
          0.5626331079828706,
          0.5637390329086588,
          0.5648540372353802,
          0.5659782285295011,
          0.5671117736035606,
          0.5682548073296808,
          0.5694074639116795,
          0.5705699082115859,
          0.5717423103657587,
          0.5729247847324673,
          0.5741175168822602,
          0.5753206837796389,
          0.5765344077414702,
          0.5777588896256839,
          0.578994308706943,
          0.5802408365514715,
          0.5814986503814575,
          0.582767944996467,
          0.5840489027584779,
          0.5853417461996838,
          0.5866466322364791,
          0.5879638022255991,
          0.5892934557000153,
          0.5906357945402404,
          0.5919910678800924,
          0.5933594746093606,
          0.5947412706012353,
          0.5961366788753939,
          0.5975459423322644,
          0.5989693080406111,
          0.6004070511185561,
          0.6018594100249782,
          0.6033266645561981,
          0.604809082321508,
          0.6063069525911218,
          0.607820569500324,
          0.6093502210074357,
          0.6108962124313726,
          0.6124588647967876,
          0.614038485989048,
          0.61563540868795,
          0.6172499556917234,
          0.618882493690938,
          0.6205333586636291,
          0.6222029210617503,
          0.6238915525224206,
          0.6255996298457798,
          0.627327541725861,
          0.6290756913670645,
          0.6308444698505892,
          0.6326343142695775,
          0.6344456496001766,
          0.6362789004907545,
          0.6381345259633902,
          0.6400129691825598,
          0.6419147004149007,
          0.6438401988258355,
          0.6457899364058679,
          0.6477644129416626,
          0.6497641266794235,
          0.6517895741711984,
          0.6538412449938685,
          0.6559197054795078,
          0.6580254188595175,
          0.6601589296718617,
          0.6623207549317999,
          0.664511378532149,
          0.6667313213321189,
          0.6689810759408579,
          0.6712611094514083,
          0.6735718653334382,
          0.6759137689001454,
          0.6782871697518223,
          0.6806924241925516,
          0.6831297665428233,
          0.6855993796601546,
          0.6881013411319926,
          0.6906355909928756,
          0.6932019220052041,
          0.6957999161635422,
          0.6984289286614584,
          0.7010880080360878,
          0.7037758165790583,
          0.7064905351296759,
          0.7092297909976149,
          0.7119904343360289,
          0.7147683369638876,
          0.7175581986250763,
          0.7203531382629595,
          0.7231441699317979,
          0.7259196887291168,
          0.7286643963128655,
          0.731358116213993,
          0.7339739100432561,
          0.7364753079674806,
          0.7388120310008701,
          0.7409134379721833,
          0.7426775321304153,
          0.7439520494615361,
          0.7445001584859509,
          0.7439326217563317
         ]
        },
        {
         "name": "GPU & Smart Pixels",
         "type": "scatter",
         "x": [
          2.8025249840886977,
          2.828562592330952,
          2.855104698217227,
          2.882165526428384,
          2.9097609834087845,
          2.937906909193664,
          2.966619669900026,
          2.9959169261368896,
          3.0258170476005133,
          3.056337935257606,
          3.0874997073949415,
          3.119323039192803,
          3.151828249603202,
          3.1850381613558754,
          3.2189760361007527,
          3.2536659168929956,
          3.2891329601040313,
          3.325403714712954,
          3.362505612667981,
          3.4004682002600717,
          3.4393206970021266,
          3.479095637721549,
          3.519826000693475,
          3.5615462771511766,
          3.604293726115433,
          3.6481060565795578,
          3.6930241811395144,
          3.7390900880560296,
          3.7863483680084498,
          3.8348458365624523,
          3.884632429748833,
          3.935759597369273,
          3.9882825191394993,
          4.042258894521903,
          4.097750226245126,
          4.154821198880552,
          4.213540110496219,
          4.2739793115188744,
          4.336215853382639,
          4.400330766170108,
          4.4664105060284784,
          4.534546456328015,
          4.604836771561768,
          4.677384733704626,
          4.752301167942001,
          4.829703993882445,
          4.909719033785419,
          4.992480677300703,
          5.078133073645048,
          5.166829786562442,
          5.258736653942853,
          5.354031173088051,
          5.452903671757304,
          5.555560071624188,
          5.66222128012255,
          5.773126531932994,
          5.888534607344543,
          6.008724878716293,
          6.134001256469366,
          6.264693808909807,
          6.401160924742569,
          6.543793440885806,
          6.69302086606008,
          6.849309387518609,
          7.01317328635322,
          7.18517722515882,
          7.365942162293058,
          7.556155567703235,
          7.756578506110221,
          7.968055360336443,
          8.191526339830483,
          8.428041982207633,
          8.67877769441883,
          8.94505737781996,
          9.228371325718763,
          9.530408503227644,
          9.853088919669652,
          10.198603216735496,
          10.569464156228447,
          10.968566845018826,
          11.399265149782224,
          11.86546598626871,
          12.371747663185653,
          12.92350969109364,
          13.52717116730186,
          14.190415458507939,
          14.922520001148467,
          15.734796919985442,
          16.641180793659537,
          17.659027027056602,
          18.81024885652984,
          20.122895686725464,
          21.633479934354856,
          23.39042689280439,
          25.459356370456373,
          27.93145870758701,
          30.937309839976113,
          34.67069713804859,
          39.43211597671928,
          45.713985569311774,
          54.38296547999071
         ],
         "y": [
          0.5626331079828706,
          0.5637390329086588,
          0.5648540372353802,
          0.5659782285295011,
          0.5671117736035606,
          0.5682548073296808,
          0.5694074639116795,
          0.5705699082115859,
          0.5717423103657587,
          0.5729247847324673,
          0.5741175168822602,
          0.5753206837796389,
          0.5765344077414702,
          0.5777588896256839,
          0.578994308706943,
          0.5802408365514715,
          0.5814986503814575,
          0.582767944996467,
          0.5840489027584779,
          0.5853417461996838,
          0.5866466322364791,
          0.5879638022255991,
          0.5892934557000153,
          0.5906357945402404,
          0.5919910678800924,
          0.5933594746093606,
          0.5947412706012353,
          0.5961366788753939,
          0.5975459423322644,
          0.5989693080406111,
          0.6004070511185561,
          0.6018594100249782,
          0.6033266645561981,
          0.604809082321508,
          0.6063069525911218,
          0.607820569500324,
          0.6093502210074357,
          0.6108962124313726,
          0.6124588647967876,
          0.614038485989048,
          0.61563540868795,
          0.6172499556917234,
          0.618882493690938,
          0.6205333586636291,
          0.6222029210617503,
          0.6238915525224206,
          0.6255996298457798,
          0.627327541725861,
          0.6290756913670645,
          0.6308444698505892,
          0.6326343142695775,
          0.6344456496001766,
          0.6362789004907545,
          0.6381345259633902,
          0.6400129691825598,
          0.6419147004149007,
          0.6438401988258355,
          0.6457899364058679,
          0.6477644129416626,
          0.6497641266794235,
          0.6517895741711984,
          0.6538412449938685,
          0.6559197054795078,
          0.6580254188595175,
          0.6601589296718617,
          0.6623207549317999,
          0.664511378532149,
          0.6667313213321189,
          0.6689810759408579,
          0.6712611094514083,
          0.6735718653334382,
          0.6759137689001454,
          0.6782871697518223,
          0.6806924241925516,
          0.6831297665428233,
          0.6855993796601546,
          0.6881013411319926,
          0.6906355909928756,
          0.6932019220052041,
          0.6957999161635422,
          0.6984289286614584,
          0.7010880080360878,
          0.7037758165790583,
          0.7064905351296759,
          0.7092297909976149,
          0.7119904343360289,
          0.7147683369638876,
          0.7175581986250763,
          0.7203531382629595,
          0.7231441699317979,
          0.7259196887291168,
          0.7286643963128655,
          0.731358116213993,
          0.7339739100432561,
          0.7364753079674806,
          0.7388120310008701,
          0.7409134379721833,
          0.7426775321304153,
          0.7439520494615361,
          0.7445001584859509,
          0.7439326217563317
         ]
        }
       ],
       "layout": {
        "height": 600,
        "legend": {
         "title": {
          "text": "System"
         }
        },
        "template": {
         "data": {
          "bar": [
           {
            "error_x": {
             "color": "#2a3f5f"
            },
            "error_y": {
             "color": "#2a3f5f"
            },
            "marker": {
             "line": {
              "color": "#E5ECF6",
              "width": 0.5
             },
             "pattern": {
              "fillmode": "overlay",
              "size": 10,
              "solidity": 0.2
             }
            },
            "type": "bar"
           }
          ],
          "barpolar": [
           {
            "marker": {
             "line": {
              "color": "#E5ECF6",
              "width": 0.5
             },
             "pattern": {
              "fillmode": "overlay",
              "size": 10,
              "solidity": 0.2
             }
            },
            "type": "barpolar"
           }
          ],
          "carpet": [
           {
            "aaxis": {
             "endlinecolor": "#2a3f5f",
             "gridcolor": "white",
             "linecolor": "white",
             "minorgridcolor": "white",
             "startlinecolor": "#2a3f5f"
            },
            "baxis": {
             "endlinecolor": "#2a3f5f",
             "gridcolor": "white",
             "linecolor": "white",
             "minorgridcolor": "white",
             "startlinecolor": "#2a3f5f"
            },
            "type": "carpet"
           }
          ],
          "choropleth": [
           {
            "colorbar": {
             "outlinewidth": 0,
             "ticks": ""
            },
            "type": "choropleth"
           }
          ],
          "contour": [
           {
            "colorbar": {
             "outlinewidth": 0,
             "ticks": ""
            },
            "colorscale": [
             [
              0,
              "#0d0887"
             ],
             [
              0.1111111111111111,
              "#46039f"
             ],
             [
              0.2222222222222222,
              "#7201a8"
             ],
             [
              0.3333333333333333,
              "#9c179e"
             ],
             [
              0.4444444444444444,
              "#bd3786"
             ],
             [
              0.5555555555555556,
              "#d8576b"
             ],
             [
              0.6666666666666666,
              "#ed7953"
             ],
             [
              0.7777777777777778,
              "#fb9f3a"
             ],
             [
              0.8888888888888888,
              "#fdca26"
             ],
             [
              1,
              "#f0f921"
             ]
            ],
            "type": "contour"
           }
          ],
          "contourcarpet": [
           {
            "colorbar": {
             "outlinewidth": 0,
             "ticks": ""
            },
            "type": "contourcarpet"
           }
          ],
          "heatmap": [
           {
            "colorbar": {
             "outlinewidth": 0,
             "ticks": ""
            },
            "colorscale": [
             [
              0,
              "#0d0887"
             ],
             [
              0.1111111111111111,
              "#46039f"
             ],
             [
              0.2222222222222222,
              "#7201a8"
             ],
             [
              0.3333333333333333,
              "#9c179e"
             ],
             [
              0.4444444444444444,
              "#bd3786"
             ],
             [
              0.5555555555555556,
              "#d8576b"
             ],
             [
              0.6666666666666666,
              "#ed7953"
             ],
             [
              0.7777777777777778,
              "#fb9f3a"
             ],
             [
              0.8888888888888888,
              "#fdca26"
             ],
             [
              1,
              "#f0f921"
             ]
            ],
            "type": "heatmap"
           }
          ],
          "heatmapgl": [
           {
            "colorbar": {
             "outlinewidth": 0,
             "ticks": ""
            },
            "colorscale": [
             [
              0,
              "#0d0887"
             ],
             [
              0.1111111111111111,
              "#46039f"
             ],
             [
              0.2222222222222222,
              "#7201a8"
             ],
             [
              0.3333333333333333,
              "#9c179e"
             ],
             [
              0.4444444444444444,
              "#bd3786"
             ],
             [
              0.5555555555555556,
              "#d8576b"
             ],
             [
              0.6666666666666666,
              "#ed7953"
             ],
             [
              0.7777777777777778,
              "#fb9f3a"
             ],
             [
              0.8888888888888888,
              "#fdca26"
             ],
             [
              1,
              "#f0f921"
             ]
            ],
            "type": "heatmapgl"
           }
          ],
          "histogram": [
           {
            "marker": {
             "pattern": {
              "fillmode": "overlay",
              "size": 10,
              "solidity": 0.2
             }
            },
            "type": "histogram"
           }
          ],
          "histogram2d": [
           {
            "colorbar": {
             "outlinewidth": 0,
             "ticks": ""
            },
            "colorscale": [
             [
              0,
              "#0d0887"
             ],
             [
              0.1111111111111111,
              "#46039f"
             ],
             [
              0.2222222222222222,
              "#7201a8"
             ],
             [
              0.3333333333333333,
              "#9c179e"
             ],
             [
              0.4444444444444444,
              "#bd3786"
             ],
             [
              0.5555555555555556,
              "#d8576b"
             ],
             [
              0.6666666666666666,
              "#ed7953"
             ],
             [
              0.7777777777777778,
              "#fb9f3a"
             ],
             [
              0.8888888888888888,
              "#fdca26"
             ],
             [
              1,
              "#f0f921"
             ]
            ],
            "type": "histogram2d"
           }
          ],
          "histogram2dcontour": [
           {
            "colorbar": {
             "outlinewidth": 0,
             "ticks": ""
            },
            "colorscale": [
             [
              0,
              "#0d0887"
             ],
             [
              0.1111111111111111,
              "#46039f"
             ],
             [
              0.2222222222222222,
              "#7201a8"
             ],
             [
              0.3333333333333333,
              "#9c179e"
             ],
             [
              0.4444444444444444,
              "#bd3786"
             ],
             [
              0.5555555555555556,
              "#d8576b"
             ],
             [
              0.6666666666666666,
              "#ed7953"
             ],
             [
              0.7777777777777778,
              "#fb9f3a"
             ],
             [
              0.8888888888888888,
              "#fdca26"
             ],
             [
              1,
              "#f0f921"
             ]
            ],
            "type": "histogram2dcontour"
           }
          ],
          "mesh3d": [
           {
            "colorbar": {
             "outlinewidth": 0,
             "ticks": ""
            },
            "type": "mesh3d"
           }
          ],
          "parcoords": [
           {
            "line": {
             "colorbar": {
              "outlinewidth": 0,
              "ticks": ""
             }
            },
            "type": "parcoords"
           }
          ],
          "pie": [
           {
            "automargin": true,
            "type": "pie"
           }
          ],
          "scatter": [
           {
            "fillpattern": {
             "fillmode": "overlay",
             "size": 10,
             "solidity": 0.2
            },
            "type": "scatter"
           }
          ],
          "scatter3d": [
           {
            "line": {
             "colorbar": {
              "outlinewidth": 0,
              "ticks": ""
             }
            },
            "marker": {
             "colorbar": {
              "outlinewidth": 0,
              "ticks": ""
             }
            },
            "type": "scatter3d"
           }
          ],
          "scattercarpet": [
           {
            "marker": {
             "colorbar": {
              "outlinewidth": 0,
              "ticks": ""
             }
            },
            "type": "scattercarpet"
           }
          ],
          "scattergeo": [
           {
            "marker": {
             "colorbar": {
              "outlinewidth": 0,
              "ticks": ""
             }
            },
            "type": "scattergeo"
           }
          ],
          "scattergl": [
           {
            "marker": {
             "colorbar": {
              "outlinewidth": 0,
              "ticks": ""
             }
            },
            "type": "scattergl"
           }
          ],
          "scattermapbox": [
           {
            "marker": {
             "colorbar": {
              "outlinewidth": 0,
              "ticks": ""
             }
            },
            "type": "scattermapbox"
           }
          ],
          "scatterpolar": [
           {
            "marker": {
             "colorbar": {
              "outlinewidth": 0,
              "ticks": ""
             }
            },
            "type": "scatterpolar"
           }
          ],
          "scatterpolargl": [
           {
            "marker": {
             "colorbar": {
              "outlinewidth": 0,
              "ticks": ""
             }
            },
            "type": "scatterpolargl"
           }
          ],
          "scatterternary": [
           {
            "marker": {
             "colorbar": {
              "outlinewidth": 0,
              "ticks": ""
             }
            },
            "type": "scatterternary"
           }
          ],
          "surface": [
           {
            "colorbar": {
             "outlinewidth": 0,
             "ticks": ""
            },
            "colorscale": [
             [
              0,
              "#0d0887"
             ],
             [
              0.1111111111111111,
              "#46039f"
             ],
             [
              0.2222222222222222,
              "#7201a8"
             ],
             [
              0.3333333333333333,
              "#9c179e"
             ],
             [
              0.4444444444444444,
              "#bd3786"
             ],
             [
              0.5555555555555556,
              "#d8576b"
             ],
             [
              0.6666666666666666,
              "#ed7953"
             ],
             [
              0.7777777777777778,
              "#fb9f3a"
             ],
             [
              0.8888888888888888,
              "#fdca26"
             ],
             [
              1,
              "#f0f921"
             ]
            ],
            "type": "surface"
           }
          ],
          "table": [
           {
            "cells": {
             "fill": {
              "color": "#EBF0F8"
             },
             "line": {
              "color": "white"
             }
            },
            "header": {
             "fill": {
              "color": "#C8D4E3"
             },
             "line": {
              "color": "white"
             }
            },
            "type": "table"
           }
          ]
         },
         "layout": {
          "annotationdefaults": {
           "arrowcolor": "#2a3f5f",
           "arrowhead": 0,
           "arrowwidth": 1
          },
          "autotypenumbers": "strict",
          "coloraxis": {
           "colorbar": {
            "outlinewidth": 0,
            "ticks": ""
           }
          },
          "colorscale": {
           "diverging": [
            [
             0,
             "#8e0152"
            ],
            [
             0.1,
             "#c51b7d"
            ],
            [
             0.2,
             "#de77ae"
            ],
            [
             0.3,
             "#f1b6da"
            ],
            [
             0.4,
             "#fde0ef"
            ],
            [
             0.5,
             "#f7f7f7"
            ],
            [
             0.6,
             "#e6f5d0"
            ],
            [
             0.7,
             "#b8e186"
            ],
            [
             0.8,
             "#7fbc41"
            ],
            [
             0.9,
             "#4d9221"
            ],
            [
             1,
             "#276419"
            ]
           ],
           "sequential": [
            [
             0,
             "#0d0887"
            ],
            [
             0.1111111111111111,
             "#46039f"
            ],
            [
             0.2222222222222222,
             "#7201a8"
            ],
            [
             0.3333333333333333,
             "#9c179e"
            ],
            [
             0.4444444444444444,
             "#bd3786"
            ],
            [
             0.5555555555555556,
             "#d8576b"
            ],
            [
             0.6666666666666666,
             "#ed7953"
            ],
            [
             0.7777777777777778,
             "#fb9f3a"
            ],
            [
             0.8888888888888888,
             "#fdca26"
            ],
            [
             1,
             "#f0f921"
            ]
           ],
           "sequentialminus": [
            [
             0,
             "#0d0887"
            ],
            [
             0.1111111111111111,
             "#46039f"
            ],
            [
             0.2222222222222222,
             "#7201a8"
            ],
            [
             0.3333333333333333,
             "#9c179e"
            ],
            [
             0.4444444444444444,
             "#bd3786"
            ],
            [
             0.5555555555555556,
             "#d8576b"
            ],
            [
             0.6666666666666666,
             "#ed7953"
            ],
            [
             0.7777777777777778,
             "#fb9f3a"
            ],
            [
             0.8888888888888888,
             "#fdca26"
            ],
            [
             1,
             "#f0f921"
            ]
           ]
          },
          "colorway": [
           "#636efa",
           "#EF553B",
           "#00cc96",
           "#ab63fa",
           "#FFA15A",
           "#19d3f3",
           "#FF6692",
           "#B6E880",
           "#FF97FF",
           "#FECB52"
          ],
          "font": {
           "color": "#2a3f5f"
          },
          "geo": {
           "bgcolor": "white",
           "lakecolor": "white",
           "landcolor": "#E5ECF6",
           "showlakes": true,
           "showland": true,
           "subunitcolor": "white"
          },
          "hoverlabel": {
           "align": "left"
          },
          "hovermode": "closest",
          "mapbox": {
           "style": "light"
          },
          "paper_bgcolor": "white",
          "plot_bgcolor": "#E5ECF6",
          "polar": {
           "angularaxis": {
            "gridcolor": "white",
            "linecolor": "white",
            "ticks": ""
           },
           "bgcolor": "#E5ECF6",
           "radialaxis": {
            "gridcolor": "white",
            "linecolor": "white",
            "ticks": ""
           }
          },
          "scene": {
           "xaxis": {
            "backgroundcolor": "#E5ECF6",
            "gridcolor": "white",
            "gridwidth": 2,
            "linecolor": "white",
            "showbackground": true,
            "ticks": "",
            "zerolinecolor": "white"
           },
           "yaxis": {
            "backgroundcolor": "#E5ECF6",
            "gridcolor": "white",
            "gridwidth": 2,
            "linecolor": "white",
            "showbackground": true,
            "ticks": "",
            "zerolinecolor": "white"
           },
           "zaxis": {
            "backgroundcolor": "#E5ECF6",
            "gridcolor": "white",
            "gridwidth": 2,
            "linecolor": "white",
            "showbackground": true,
            "ticks": "",
            "zerolinecolor": "white"
           }
          },
          "shapedefaults": {
           "line": {
            "color": "#2a3f5f"
           }
          },
          "ternary": {
           "aaxis": {
            "gridcolor": "white",
            "linecolor": "white",
            "ticks": ""
           },
           "baxis": {
            "gridcolor": "white",
            "linecolor": "white",
            "ticks": ""
           },
           "bgcolor": "#E5ECF6",
           "caxis": {
            "gridcolor": "white",
            "linecolor": "white",
            "ticks": ""
           }
          },
          "title": {
           "x": 0.05
          },
          "xaxis": {
           "automargin": true,
           "gridcolor": "white",
           "linecolor": "white",
           "ticks": "",
           "title": {
            "standoff": 15
           },
           "zerolinecolor": "white",
           "zerolinewidth": 2
          },
          "yaxis": {
           "automargin": true,
           "gridcolor": "white",
           "linecolor": "white",
           "ticks": "",
           "title": {
            "standoff": 15
           },
           "zerolinecolor": "white",
           "zerolinewidth": 2
          }
         }
        },
        "title": {
         "text": "Recall vs. Power"
        },
        "width": 800,
        "xaxis": {
         "range": [
          0,
          60
         ],
         "title": {
          "text": "Total Power (MW)"
         }
        },
        "yaxis": {
         "title": {
          "text": "Recall"
         }
        }
       }
      }
     },
     "metadata": {},
     "output_type": "display_data"
    }
   ],
   "source": [
    "fig = go.Figure()\n",
    "fig.add_scatter(x = run5_metrics[\"power\"] / 1e6, y = run5_metrics[\"recall\"], name=\"CPU\")\n",
    "fig.add_scatter(x = run5_gpu_metrics[\"power\"] / 1e6, y = run5_gpu_metrics[\"recall\"], name = \"GPU\")\n",
    "fig.add_scatter(x = run5_smartpx_metrics[\"power\"] / 1e6, y = run5_smartpx_metrics[\"recall\"], name = \"GPU & Smart Pixels\")\n",
    "\n",
    "fig.update_xaxes(range=(0, 60))\n",
    "fig.update_layout(\n",
    "    title=\"Recall vs. Power\",\n",
    "    xaxis_title=\"Total Power (MW)\",\n",
    "    yaxis_title=\"Recall\",\n",
    "    legend_title=\"System\",\n",
    "    width = 800,\n",
    "    height = 600,\n",
    ")\n"
   ]
  },
  {
   "cell_type": "code",
   "execution_count": 29,
   "metadata": {},
   "outputs": [
    {
     "data": {
      "text/plain": [
       "<matplotlib.legend.Legend at 0x16b4272b0>"
      ]
     },
     "execution_count": 29,
     "metadata": {},
     "output_type": "execute_result"
    },
    {
     "data": {
      "image/png": "[encoded data removed]",
      "text/plain": [
       "<Figure size 640x480 with 1 Axes>"
      ]
     },
     "metadata": {},
     "output_type": "display_data"
    }
   ],
   "source": [
    "plt.plot(run5_metrics[\"power\"] / 1e6, run5_metrics[\"recall\"], label = \"CPU\")\n",
    "plt.plot(run5_gpu_metrics[\"power\"] / 1e6, run5_gpu_metrics[\"recall\"], label = \"GPU\")\n",
    "plt.plot(run5_smartpx_metrics[\"power\"] / 1e6, run5_smartpx_metrics[\"recall\"], label = \"GPU & Smart Pixels\")\n",
    "#plt.plot(run5_smartpx_uled_metrics[\"power\"] / 1e6, run5_smartpx_uled_metrics[\"recall\"], label = \"Het. System 3\")\n",
    "plt.ylabel(\"Recall\")\n",
    "plt.xlabel(\"DAQ Power (MW)\")\n",
    "plt.xlim(0, 60)\n",
    "plt.legend()"
   ]
  },
  {
   "cell_type": "code",
   "execution_count": 30,
   "metadata": {},
   "outputs": [
    {
     "data": {
      "text/plain": [
       "<matplotlib.legend.Legend at 0x16b63dcc0>"
      ]
     },
     "execution_count": 30,
     "metadata": {},
     "output_type": "execute_result"
    },
    {
     "data": {
      "image/png": "[encoded data removed]",
      "text/plain": [
       "<Figure size 640x480 with 1 Axes>"
      ]
     },
     "metadata": {},
     "output_type": "display_data"
    }
   ],
   "source": [
    "plt.plot(run5_metrics[\"power\"] / 1e6, run5_metrics[\"productivity\"], label = \"CPU System\")\n",
    "plt.plot(run5_gpu_metrics[\"power\"] / 1e6, run5_gpu_metrics[\"productivity\"], label = \"Het. System 1\")\n",
    "plt.plot(run5_smartpx_metrics[\"power\"] / 1e6, run5_smartpx_metrics[\"productivity\"], label = \"Het. System 2\")\n",
    "#plt.plot(run5_smartpx_uled_metrics[\"power\"] / 1e6, run5_smartpx_uled_metrics[\"recall\"], label = \"Het. System 3\")\n",
    "plt.ylabel(\"Retrieved Sample Rate (1/s)\")\n",
    "plt.xlabel(\"DAQ Power (MW)\")\n",
    "plt.legend()"
   ]
  },
  {
   "cell_type": "code",
   "execution_count": 31,
   "metadata": {},
   "outputs": [
    {
     "data": {
      "text/plain": [
       "<matplotlib.legend.Legend at 0x16b6bf310>"
      ]
     },
     "execution_count": 31,
     "metadata": {},
     "output_type": "execute_result"
    },
    {
     "data": {
      "image/png": "[encoded data removed]",
      "text/plain": [
       "<Figure size 640x480 with 1 Axes>"
      ]
     },
     "metadata": {},
     "output_type": "display_data"
    }
   ],
   "source": [
    "plt.plot(run5_metrics[\"power\"] / 1e6, run5_metrics[\"productivity\"], label = \"CPU\")\n",
    "plt.plot(run5_gpu_metrics[\"power\"] / 1e6, run5_gpu_metrics[\"productivity\"], label = \"GPU\")\n",
    "plt.plot(run5_smartpx_metrics[\"power\"] / 1e6, run5_smartpx_metrics[\"productivity\"], label = \"GPU & Smart Px.\")\n",
    "#plt.plot(run5_smartpx_uled_metrics[\"power\"] / 1e6, run5_smartpx_uled_metrics[\"recall\"], label = \"Het. System 3\")\n",
    "plt.ylabel(\"Retrieved Sample Rate (1/s)\")\n",
    "plt.xlabel(\"DAQ Power (MW)\")\n",
    "plt.xlim(0, 60)\n",
    "plt.legend()"
   ]
  },
  {
   "cell_type": "code",
   "execution_count": null,
   "metadata": {},
   "outputs": [],
   "source": []
  }
 ],
 "metadata": {
  "kernelspec": {
   "display_name": "jax",
   "language": "python",
   "name": "python3"
  },
  "language_info": {
   "codemirror_mode": {
    "name": "ipython",
    "version": 3
   },
   "file_extension": ".py",
   "mimetype": "text/x-python",
   "name": "python",
   "nbconvert_exporter": "python",
   "pygments_lexer": "ipython3",
   "version": "3.10.4"
  }
 },
 "nbformat": 4,
 "nbformat_minor": 2
}
