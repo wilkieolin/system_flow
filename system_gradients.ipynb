{
 "cells": [
  {
   "cell_type": "code",
   "execution_count": 17,
   "metadata": {},
   "outputs": [],
   "source": [
    "from graph import *\n",
    "from models import *\n",
    "from metrics import *\n",
    "\n",
    "import pandas as pd\n",
    "import matplotlib.pyplot as plt\n",
    "import plotly.graph_objects as go\n",
    "import pickle as pkl\n",
    "\n",
    "from scipy.optimize import curve_fit, approx_fprime\n",
    "from multiprocess import Pool\n",
    "from copy import deepcopy"
   ]
  },
  {
   "cell_type": "code",
   "execution_count": 2,
   "metadata": {},
   "outputs": [],
   "source": [
    "# load data from the spreadsheet which defines the structure of the workflow,\n",
    "# as well as the parameters for data rates, efficiency, data reduction, and classifier performance\n",
    "# ...these are taken from predictions for the Run-5 CMS\n",
    "run5_system = dataframes_from_spreadsheet(\"cms_system_200.xlsx\")\n",
    "run5_smartpx_system = dataframes_from_spreadsheet(\"cms_system_200_smartpx.xlsx\")"
   ]
  },
  {
   "cell_type": "code",
   "execution_count": 3,
   "metadata": {},
   "outputs": [
    {
     "data": {
      "text/html": [
       "<div>\n",
       "<style scoped>\n",
       "    .dataframe tbody tr th:only-of-type {\n",
       "        vertical-align: middle;\n",
       "    }\n",
       "\n",
       "    .dataframe tbody tr th {\n",
       "        vertical-align: top;\n",
       "    }\n",
       "\n",
       "    .dataframe thead th {\n",
       "        text-align: right;\n",
       "    }\n",
       "</style>\n",
       "<table border=\"1\" class=\"dataframe\">\n",
       "  <thead>\n",
       "    <tr style=\"text-align: right;\">\n",
       "      <th></th>\n",
       "      <th>Category</th>\n",
       "      <th>Detector</th>\n",
       "      <th>Data (bytes)</th>\n",
       "      <th>Sample Rate</th>\n",
       "      <th>Compression</th>\n",
       "      <th>Link Efficiency (J/bit)</th>\n",
       "      <th>Op Efficiency (J/op)</th>\n",
       "      <th>PU 200</th>\n",
       "    </tr>\n",
       "  </thead>\n",
       "  <tbody>\n",
       "    <tr>\n",
       "      <th>0</th>\n",
       "      <td>Tracking</td>\n",
       "      <td>Inner Tracker</td>\n",
       "      <td>1440000</td>\n",
       "      <td>40000000</td>\n",
       "      <td>0</td>\n",
       "      <td>2.220000e-11</td>\n",
       "      <td>0</td>\n",
       "      <td>1.440</td>\n",
       "    </tr>\n",
       "    <tr>\n",
       "      <th>1</th>\n",
       "      <td>Tracking</td>\n",
       "      <td>Outer Tracker PS</td>\n",
       "      <td>720000</td>\n",
       "      <td>40000000</td>\n",
       "      <td>0</td>\n",
       "      <td>2.220000e-11</td>\n",
       "      <td>0</td>\n",
       "      <td>0.720</td>\n",
       "    </tr>\n",
       "    <tr>\n",
       "      <th>2</th>\n",
       "      <td>Tracking</td>\n",
       "      <td>Outer Tracker 2S</td>\n",
       "      <td>430000</td>\n",
       "      <td>40000000</td>\n",
       "      <td>0</td>\n",
       "      <td>2.220000e-11</td>\n",
       "      <td>0</td>\n",
       "      <td>0.430</td>\n",
       "    </tr>\n",
       "    <tr>\n",
       "      <th>3</th>\n",
       "      <td>Tracking</td>\n",
       "      <td>Track Finder TPG</td>\n",
       "      <td>10000</td>\n",
       "      <td>40000000</td>\n",
       "      <td>0</td>\n",
       "      <td>2.220000e-11</td>\n",
       "      <td>0</td>\n",
       "      <td>0.010</td>\n",
       "    </tr>\n",
       "    <tr>\n",
       "      <th>4</th>\n",
       "      <td>Timing</td>\n",
       "      <td>MIP Timing BTL</td>\n",
       "      <td>240000</td>\n",
       "      <td>40000000</td>\n",
       "      <td>0</td>\n",
       "      <td>2.220000e-11</td>\n",
       "      <td>0</td>\n",
       "      <td>0.240</td>\n",
       "    </tr>\n",
       "    <tr>\n",
       "      <th>5</th>\n",
       "      <td>Timing</td>\n",
       "      <td>MIP Timing ETL</td>\n",
       "      <td>440000</td>\n",
       "      <td>40000000</td>\n",
       "      <td>0</td>\n",
       "      <td>2.220000e-11</td>\n",
       "      <td>0</td>\n",
       "      <td>0.440</td>\n",
       "    </tr>\n",
       "    <tr>\n",
       "      <th>6</th>\n",
       "      <td>Calorimetry</td>\n",
       "      <td>ECAL Barrel</td>\n",
       "      <td>600000</td>\n",
       "      <td>40000000</td>\n",
       "      <td>0</td>\n",
       "      <td>2.220000e-11</td>\n",
       "      <td>0</td>\n",
       "      <td>0.600</td>\n",
       "    </tr>\n",
       "    <tr>\n",
       "      <th>7</th>\n",
       "      <td>Calorimetry</td>\n",
       "      <td>HCAL Barrel</td>\n",
       "      <td>240000</td>\n",
       "      <td>40000000</td>\n",
       "      <td>0</td>\n",
       "      <td>2.220000e-11</td>\n",
       "      <td>0</td>\n",
       "      <td>0.240</td>\n",
       "    </tr>\n",
       "    <tr>\n",
       "      <th>8</th>\n",
       "      <td>Calorimetry</td>\n",
       "      <td>HCAL HO</td>\n",
       "      <td>30000</td>\n",
       "      <td>40000000</td>\n",
       "      <td>0</td>\n",
       "      <td>2.220000e-11</td>\n",
       "      <td>0</td>\n",
       "      <td>0.030</td>\n",
       "    </tr>\n",
       "    <tr>\n",
       "      <th>9</th>\n",
       "      <td>Calorimetry</td>\n",
       "      <td>HCAL HF</td>\n",
       "      <td>60000</td>\n",
       "      <td>40000000</td>\n",
       "      <td>0</td>\n",
       "      <td>2.220000e-11</td>\n",
       "      <td>0</td>\n",
       "      <td>0.060</td>\n",
       "    </tr>\n",
       "    <tr>\n",
       "      <th>10</th>\n",
       "      <td>Calorimetry</td>\n",
       "      <td>HGCAL</td>\n",
       "      <td>3000000</td>\n",
       "      <td>40000000</td>\n",
       "      <td>0</td>\n",
       "      <td>2.220000e-11</td>\n",
       "      <td>0</td>\n",
       "      <td>3.000</td>\n",
       "    </tr>\n",
       "    <tr>\n",
       "      <th>11</th>\n",
       "      <td>Calorimetry</td>\n",
       "      <td>HGCAL TPG Stage1</td>\n",
       "      <td>150000</td>\n",
       "      <td>40000000</td>\n",
       "      <td>0</td>\n",
       "      <td>2.220000e-11</td>\n",
       "      <td>0</td>\n",
       "      <td>0.150</td>\n",
       "    </tr>\n",
       "    <tr>\n",
       "      <th>12</th>\n",
       "      <td>Calorimetry</td>\n",
       "      <td>HGCAL TPG Stage2</td>\n",
       "      <td>50000</td>\n",
       "      <td>40000000</td>\n",
       "      <td>0</td>\n",
       "      <td>2.220000e-11</td>\n",
       "      <td>0</td>\n",
       "      <td>0.050</td>\n",
       "    </tr>\n",
       "    <tr>\n",
       "      <th>13</th>\n",
       "      <td>Muon</td>\n",
       "      <td>Muon DT</td>\n",
       "      <td>150000</td>\n",
       "      <td>40000000</td>\n",
       "      <td>0</td>\n",
       "      <td>2.220000e-11</td>\n",
       "      <td>0</td>\n",
       "      <td>0.150</td>\n",
       "    </tr>\n",
       "    <tr>\n",
       "      <th>14</th>\n",
       "      <td>Muon</td>\n",
       "      <td>Muon CSC</td>\n",
       "      <td>470000</td>\n",
       "      <td>40000000</td>\n",
       "      <td>0</td>\n",
       "      <td>2.220000e-11</td>\n",
       "      <td>0</td>\n",
       "      <td>0.470</td>\n",
       "    </tr>\n",
       "    <tr>\n",
       "      <th>15</th>\n",
       "      <td>Muon</td>\n",
       "      <td>Muon GEM GE1</td>\n",
       "      <td>3000</td>\n",
       "      <td>40000000</td>\n",
       "      <td>0</td>\n",
       "      <td>2.220000e-11</td>\n",
       "      <td>0</td>\n",
       "      <td>0.003</td>\n",
       "    </tr>\n",
       "    <tr>\n",
       "      <th>16</th>\n",
       "      <td>Muon</td>\n",
       "      <td>Muon GEM GE2</td>\n",
       "      <td>2000</td>\n",
       "      <td>40000000</td>\n",
       "      <td>0</td>\n",
       "      <td>2.220000e-11</td>\n",
       "      <td>0</td>\n",
       "      <td>0.002</td>\n",
       "    </tr>\n",
       "    <tr>\n",
       "      <th>17</th>\n",
       "      <td>Muon</td>\n",
       "      <td>Muon GEM ME0</td>\n",
       "      <td>120000</td>\n",
       "      <td>40000000</td>\n",
       "      <td>0</td>\n",
       "      <td>2.220000e-11</td>\n",
       "      <td>0</td>\n",
       "      <td>0.120</td>\n",
       "    </tr>\n",
       "    <tr>\n",
       "      <th>18</th>\n",
       "      <td>Muon</td>\n",
       "      <td>Muon RPC</td>\n",
       "      <td>10000</td>\n",
       "      <td>40000000</td>\n",
       "      <td>0</td>\n",
       "      <td>2.220000e-11</td>\n",
       "      <td>0</td>\n",
       "      <td>0.010</td>\n",
       "    </tr>\n",
       "  </tbody>\n",
       "</table>\n",
       "</div>"
      ],
      "text/plain": [
       "       Category          Detector  Data (bytes)  Sample Rate  Compression  \\\n",
       "0      Tracking     Inner Tracker       1440000     40000000            0   \n",
       "1      Tracking  Outer Tracker PS        720000     40000000            0   \n",
       "2      Tracking  Outer Tracker 2S        430000     40000000            0   \n",
       "3      Tracking  Track Finder TPG         10000     40000000            0   \n",
       "4        Timing    MIP Timing BTL        240000     40000000            0   \n",
       "5        Timing    MIP Timing ETL        440000     40000000            0   \n",
       "6   Calorimetry       ECAL Barrel        600000     40000000            0   \n",
       "7   Calorimetry       HCAL Barrel        240000     40000000            0   \n",
       "8   Calorimetry           HCAL HO         30000     40000000            0   \n",
       "9   Calorimetry           HCAL HF         60000     40000000            0   \n",
       "10  Calorimetry             HGCAL       3000000     40000000            0   \n",
       "11  Calorimetry  HGCAL TPG Stage1        150000     40000000            0   \n",
       "12  Calorimetry  HGCAL TPG Stage2         50000     40000000            0   \n",
       "13         Muon           Muon DT        150000     40000000            0   \n",
       "14         Muon          Muon CSC        470000     40000000            0   \n",
       "15         Muon      Muon GEM GE1          3000     40000000            0   \n",
       "16         Muon      Muon GEM GE2          2000     40000000            0   \n",
       "17         Muon      Muon GEM ME0        120000     40000000            0   \n",
       "18         Muon          Muon RPC         10000     40000000            0   \n",
       "\n",
       "    Link Efficiency (J/bit)  Op Efficiency (J/op)  PU 200  \n",
       "0              2.220000e-11                     0   1.440  \n",
       "1              2.220000e-11                     0   0.720  \n",
       "2              2.220000e-11                     0   0.430  \n",
       "3              2.220000e-11                     0   0.010  \n",
       "4              2.220000e-11                     0   0.240  \n",
       "5              2.220000e-11                     0   0.440  \n",
       "6              2.220000e-11                     0   0.600  \n",
       "7              2.220000e-11                     0   0.240  \n",
       "8              2.220000e-11                     0   0.030  \n",
       "9              2.220000e-11                     0   0.060  \n",
       "10             2.220000e-11                     0   3.000  \n",
       "11             2.220000e-11                     0   0.150  \n",
       "12             2.220000e-11                     0   0.050  \n",
       "13             2.220000e-11                     0   0.150  \n",
       "14             2.220000e-11                     0   0.470  \n",
       "15             2.220000e-11                     0   0.003  \n",
       "16             2.220000e-11                     0   0.002  \n",
       "17             2.220000e-11                     0   0.120  \n",
       "18             2.220000e-11                     0   0.010  "
      ]
     },
     "execution_count": 3,
     "metadata": {},
     "output_type": "execute_result"
    }
   ],
   "source": [
    "run5_system.detectors"
   ]
  },
  {
   "cell_type": "code",
   "execution_count": 9,
   "metadata": {},
   "outputs": [],
   "source": [
    "#import the data predicting wall time scaling by pileup\n",
    "scaling = pd.read_excel(\"wall time scaling.xlsx\", sheet_name=\"Data\")\n",
    "#fit a polynomial to this data for CPU and GPU runtimes\n",
    "fit_poly = lambda x, k3, k2, k1: k3 * x ** 3 + k2 * x ** 2 + k1 * x\n",
    "k, cv = curve_fit(fit_poly, scaling[\"Size\"], scaling[\"Wall Time\"])\n",
    "k_gpu, cv_gpu = curve_fit(fit_poly, scaling[\"Size\"], scaling[\"Wall Time GPU\"])"
   ]
  },
  {
   "cell_type": "code",
   "execution_count": 10,
   "metadata": {},
   "outputs": [],
   "source": [
    "#define a dictionary with functions defining the scaling of trigger runtimes with incoming data\n",
    "funcs = {\"Global\": lambda x: fit_poly(x, *k), \"Intermediate\": lambda x: x / 2.0e6}\n",
    "funcs_gpu = {\"Global\": lambda x: fit_poly(x, *k_gpu), \"Intermediate\": lambda x: x / 2.0e6}"
   ]
  },
  {
   "cell_type": "code",
   "execution_count": 11,
   "metadata": {},
   "outputs": [],
   "source": [
    "\"\"\"\n",
    "Vary the accept rate of the level 1 trigger and inspect its impact on performance and resources required\n",
    "\"\"\"\n",
    "def init_system(system: System, functions, reduction: float):\n",
    "    t = system.triggers.copy()\n",
    "    #intermediate reduction stage\n",
    "    t.at[4, \"Reduction Ratio\"] = reduction\n",
    "    g = construct_graph(system.detectors, t, system.globals, functions)\n",
    "\n",
    "    return g"
   ]
  },
  {
   "cell_type": "code",
   "execution_count": 12,
   "metadata": {},
   "outputs": [
    {
     "data": {
      "text/plain": [
       "1.0"
      ]
     },
     "execution_count": 12,
     "metadata": {},
     "output_type": "execute_result"
    }
   ],
   "source": [
    "reduction_to_ratio(0.0)"
   ]
  },
  {
   "cell_type": "code",
   "execution_count": 13,
   "metadata": {},
   "outputs": [
    {
     "name": "stderr",
     "output_type": "stream",
     "text": [
      "/Users/wilkie/code/system_flow/classifier.py:200: IntegrationWarning: The maximum number of subdivisions (50) has been achieved.\n",
      "  If increasing the limit yields no improvement it is advised to analyze \n",
      "  the integrand in order to determine the difficulties.  If the position of a \n",
      "  local difficulty can be determined (singularity, discontinuity) one will \n",
      "  probably gain from splitting up the interval and calling the integrator \n",
      "  on the subranges.  Perhaps a special-purpose integrator should be used.\n",
      "  fit = lambda l: np.abs(self.egamma_rate - quad(lambda x: self.exp_dist(x, l) * interpolator(x), np.min(xs), np.max(xs))[0])\n",
      "/Users/wilkie/code/system_flow/classifier.py:424: IntegrationWarning: The maximum number of subdivisions (50) has been achieved.\n",
      "  If increasing the limit yields no improvement it is advised to analyze \n",
      "  the integrand in order to determine the difficulties.  If the position of a \n",
      "  local difficulty can be determined (singularity, discontinuity) one will \n",
      "  probably gain from splitting up the interval and calling the integrator \n",
      "  on the subranges.  Perhaps a special-purpose integrator should be used.\n",
      "  trigger_rate = lambda l: quad(lambda x: exp_dist(x, l) * efficiency_fit(x), np.min(xs2), np.max(xs2))[0]\n"
     ]
    }
   ],
   "source": [
    "ex_gpu = init_system(run5_system, funcs_gpu, 53.3)"
   ]
  },
  {
   "cell_type": "code",
   "execution_count": 14,
   "metadata": {},
   "outputs": [
    {
     "name": "stderr",
     "output_type": "stream",
     "text": [
      "/Users/wilkie/code/system_flow/classifier.py:200: IntegrationWarning: The maximum number of subdivisions (50) has been achieved.\n",
      "  If increasing the limit yields no improvement it is advised to analyze \n",
      "  the integrand in order to determine the difficulties.  If the position of a \n",
      "  local difficulty can be determined (singularity, discontinuity) one will \n",
      "  probably gain from splitting up the interval and calling the integrator \n",
      "  on the subranges.  Perhaps a special-purpose integrator should be used.\n",
      "  fit = lambda l: np.abs(self.egamma_rate - quad(lambda x: self.exp_dist(x, l) * interpolator(x), np.min(xs), np.max(xs))[0])\n",
      "/Users/wilkie/code/system_flow/classifier.py:424: IntegrationWarning: The maximum number of subdivisions (50) has been achieved.\n",
      "  If increasing the limit yields no improvement it is advised to analyze \n",
      "  the integrand in order to determine the difficulties.  If the position of a \n",
      "  local difficulty can be determined (singularity, discontinuity) one will \n",
      "  probably gain from splitting up the interval and calling the integrator \n",
      "  on the subranges.  Perhaps a special-purpose integrator should be used.\n",
      "  trigger_rate = lambda l: quad(lambda x: exp_dist(x, l) * efficiency_fit(x), np.min(xs2), np.max(xs2))[0]\n"
     ]
    }
   ],
   "source": [
    "ex_reduction = init_system(run5_smartpx_system, funcs_gpu, 53.3)"
   ]
  },
  {
   "cell_type": "code",
   "execution_count": 15,
   "metadata": {},
   "outputs": [
    {
     "name": "stderr",
     "output_type": "stream",
     "text": [
      "/Users/wilkie/code/system_flow/classifier.py:200: IntegrationWarning: The maximum number of subdivisions (50) has been achieved.\n",
      "  If increasing the limit yields no improvement it is advised to analyze \n",
      "  the integrand in order to determine the difficulties.  If the position of a \n",
      "  local difficulty can be determined (singularity, discontinuity) one will \n",
      "  probably gain from splitting up the interval and calling the integrator \n",
      "  on the subranges.  Perhaps a special-purpose integrator should be used.\n",
      "  fit = lambda l: np.abs(self.egamma_rate - quad(lambda x: self.exp_dist(x, l) * interpolator(x), np.min(xs), np.max(xs))[0])\n",
      "/Users/wilkie/code/system_flow/classifier.py:424: IntegrationWarning: The maximum number of subdivisions (50) has been achieved.\n",
      "  If increasing the limit yields no improvement it is advised to analyze \n",
      "  the integrand in order to determine the difficulties.  If the position of a \n",
      "  local difficulty can be determined (singularity, discontinuity) one will \n",
      "  probably gain from splitting up the interval and calling the integrator \n",
      "  on the subranges.  Perhaps a special-purpose integrator should be used.\n",
      "  trigger_rate = lambda l: quad(lambda x: exp_dist(x, l) * efficiency_fit(x), np.min(xs2), np.max(xs2))[0]\n"
     ]
    }
   ],
   "source": [
    "#current l1t accept / skill\n",
    "ex = init_system(run5_system, funcs, 400)"
   ]
  },
  {
   "cell_type": "code",
   "execution_count": null,
   "metadata": {},
   "outputs": [],
   "source": []
  },
  {
   "cell_type": "code",
   "execution_count": 18,
   "metadata": {},
   "outputs": [],
   "source": [
    "def vary_parameters(graph, tracker_data, hgcal_data, reduction_ratio, l1t_skill, hlt_skill, l1t_eff, hlt_eff):\n",
    "    graph = deepcopy(graph)\n",
    "    #system parameters\n",
    "    graph.nodes[\"Inner Tracker\"][\"sample data\"] = tracker_data\n",
    "    graph.nodes[\"HGCAL\"][\"sample data\"] = hgcal_data\n",
    "    graph.nodes[\"Intermediate\"][\"reduction ratio\"] = reduction_ratio\n",
    "\n",
    "    #algorithm parameters\n",
    "    graph.nodes[\"Intermediate\"][\"classifier\"].skill_boost = l1t_skill\n",
    "    graph.nodes[\"Global\"][\"classifier\"].skill_boost = hlt_skill\n",
    "\n",
    "    #tech parameters\n",
    "    graph.nodes[\"Intermediate\"][\"op efficiency\"] = l1t_eff\n",
    "    graph.nodes[\"Global\"][\"op efficiency\"] = hlt_eff\n",
    "\n",
    "    #update the graph\n",
    "    graph = update_throughput(graph)\n",
    "\n",
    "    #calc productivity\n",
    "    power = (graph.graph[\"op power\"] + graph.graph[\"link power\"]) / density_scale_model(2032)\n",
    "    confusion = graph.graph[\"performance\"]\n",
    "    prod = (f1_score(confusion) * 7500) / power\n",
    "    return prod\n",
    "    "
   ]
  },
  {
   "cell_type": "code",
   "execution_count": 20,
   "metadata": {},
   "outputs": [],
   "source": [
    "vp = lambda x: vary_parameters(ex_reduction, *x)"
   ]
  },
  {
   "cell_type": "code",
   "execution_count": 23,
   "metadata": {},
   "outputs": [],
   "source": [
    "#run5 system model - tracker l1t upgrade w/ smart pixels\n",
    "\n",
    "c_phase1 = [ex.nodes[\"Inner Tracker\"][\"message size\"],\n",
    "      ex.nodes[\"HGCAL\"][\"message size\"],\n",
    "      400, #reduction ratio\n",
    "      0.0, #l1t skill boost\n",
    "      0.0, #hlt skill boost\n",
    "      ex.nodes[\"Intermediate\"][\"op efficiency\"],\n",
    "      ex.nodes[\"Global\"][\"op efficiency\"],]\n"
   ]
  },
  {
   "cell_type": "code",
   "execution_count": 26,
   "metadata": {},
   "outputs": [],
   "source": [
    "grad_phase1 = approx_fprime(c_phase1,\n",
    "                vp,\n",
    "                [1e2,\n",
    "                 1e2,\n",
    "                 10, \n",
    "                 0.05,\n",
    "                 0.05,\n",
    "                 1e-4,\n",
    "                 1e-1],\n",
    "              )"
   ]
  },
  {
   "cell_type": "code",
   "execution_count": 27,
   "metadata": {},
   "outputs": [
    {
     "data": {
      "text/plain": [
       "array([-1.37673639e-10, -1.37673639e-10,  7.18830570e-07,  5.82528935e-04,\n",
       "        0.00000000e+00, -3.54495550e-03, -2.92504738e-05])"
      ]
     },
     "execution_count": 27,
     "metadata": {},
     "output_type": "execute_result"
    }
   ],
   "source": [
    "grad_phase1"
   ]
  },
  {
   "cell_type": "code",
   "execution_count": null,
   "metadata": {},
   "outputs": [],
   "source": [
    "#run5 system model - tracker l1t upgrade w/ smart pixels\n",
    "\n",
    "c_l1tracks = [ex.nodes[\"Inner Tracker\"][\"message size\"],\n",
    "      ex.nodes[\"HGCAL\"][\"message size\"],\n",
    "      400, #reduction ratio\n",
    "      0.0, #l1t skill boost\n",
    "      0.0, #hlt skill boost\n",
    "      ex.nodes[\"Intermediate\"][\"op efficiency\"],\n",
    "      ex.nodes[\"Global\"][\"op efficiency\"],]\n"
   ]
  },
  {
   "cell_type": "code",
   "execution_count": 28,
   "metadata": {},
   "outputs": [],
   "source": [
    "#final system model - tracker l1t upgrade w/ smart pixels\n",
    "\n",
    "c0a = [ex_reduction.nodes[\"Inner Tracker\"][\"message size\"],\n",
    "      ex_reduction.nodes[\"HGCAL\"][\"message size\"],\n",
    "      53.3, #reduction ratio\n",
    "      0.4, #l1t skill boost\n",
    "      0.0, #hlt skill boost\n",
    "      ex_reduction.nodes[\"Intermediate\"][\"op efficiency\"],\n",
    "      ex_reduction.nodes[\"Global\"][\"op efficiency\"],]\n"
   ]
  },
  {
   "cell_type": "code",
   "execution_count": 32,
   "metadata": {},
   "outputs": [],
   "source": [
    "c_sphase2 = approx_fprime(c0a,\n",
    "                vp,\n",
    "                [1e2,\n",
    "                 1e2,\n",
    "                 15, \n",
    "                 0.05,\n",
    "                 0.05,\n",
    "                 1e-4,\n",
    "                 1],\n",
    "              )"
   ]
  },
  {
   "cell_type": "code",
   "execution_count": 42,
   "metadata": {},
   "outputs": [
    {
     "data": {
      "text/plain": [
       "array([-9.15331776e-08, -9.15331776e-08,  5.21990212e-03,  1.32984327e-02,\n",
       "        7.64453837e-03, -3.35877488e-01, -1.71109209e-02])"
      ]
     },
     "execution_count": 42,
     "metadata": {},
     "output_type": "execute_result"
    }
   ],
   "source": [
    "c_sphase2 * 1e3"
   ]
  },
  {
   "cell_type": "code",
   "execution_count": 43,
   "metadata": {},
   "outputs": [
    {
     "data": {
      "text/plain": [
       "np.float64(7.64453836586904e-06)"
      ]
     },
     "execution_count": 43,
     "metadata": {},
     "output_type": "execute_result"
    }
   ],
   "source": [
    "c_sphase2[4]"
   ]
  },
  {
   "cell_type": "code",
   "execution_count": null,
   "metadata": {},
   "outputs": [
    {
     "data": {
      "text/plain": [
       "np.float64(-0.4467637015111934)"
      ]
     },
     "execution_count": 46,
     "metadata": {},
     "output_type": "execute_result"
    }
   ],
   "source": [
    "#HLT Skill / HLT energy\n",
    "c_sphase2[4] / c_sphase2[6]"
   ]
  },
  {
   "cell_type": "code",
   "execution_count": 48,
   "metadata": {},
   "outputs": [
    {
     "data": {
      "text/plain": [
       "np.float64(1.73959918130118)"
      ]
     },
     "execution_count": 48,
     "metadata": {},
     "output_type": "execute_result"
    }
   ],
   "source": [
    "#L1T Skill / HLT Skill\n",
    "c_sphase2[3] / c_sphase2[4]"
   ]
  },
  {
   "cell_type": "code",
   "execution_count": null,
   "metadata": {},
   "outputs": [],
   "source": [
    "p_phase2 = np.float64(0.0002920143304319754)"
   ]
  },
  {
   "cell_type": "code",
   "execution_count": 50,
   "metadata": {},
   "outputs": [
    {
     "data": {
      "text/plain": [
       "np.float64(-0.8694072706745436)"
      ]
     },
     "execution_count": 50,
     "metadata": {},
     "output_type": "execute_result"
    }
   ],
   "source": [
    "#L1T Skill / HLT Skill\n",
    "p_phase2 / c_sphase2[5]"
   ]
  },
  {
   "cell_type": "code",
   "execution_count": 54,
   "metadata": {},
   "outputs": [
    {
     "data": {
      "text/plain": [
       "np.float64(-335.8774883552692)"
      ]
     },
     "execution_count": 54,
     "metadata": {},
     "output_type": "execute_result"
    }
   ],
   "source": [
    "#L1T Power gradient\n",
    "c_sphase2[-2] * 1e6"
   ]
  },
  {
   "cell_type": "code",
   "execution_count": 53,
   "metadata": {},
   "outputs": [
    {
     "data": {
      "text/plain": [
       "np.float64(-1.711092091862237e-05)"
      ]
     },
     "execution_count": 53,
     "metadata": {},
     "output_type": "execute_result"
    }
   ],
   "source": [
    "#HLT Power gradient\n",
    "c_sphase2[-1]"
   ]
  },
  {
   "cell_type": "code",
   "execution_count": 35,
   "metadata": {},
   "outputs": [],
   "source": [
    "relative_change = p_phase2 / c_sphase2"
   ]
  },
  {
   "cell_type": "code",
   "execution_count": 38,
   "metadata": {},
   "outputs": [
    {
     "data": {
      "text/plain": [
       "array([-3.19025667e+06, -3.19025667e+06,  5.59424916e+01,  2.19585524e+01,\n",
       "        3.81990797e+01, -8.69407271e-01, -1.70659622e+01])"
      ]
     },
     "execution_count": 38,
     "metadata": {},
     "output_type": "execute_result"
    }
   ],
   "source": [
    "relative_change"
   ]
  },
  {
   "cell_type": "code",
   "execution_count": null,
   "metadata": {},
   "outputs": [
    {
     "data": {
      "text/plain": [
       "np.float64(38.199079716277794)"
      ]
     },
     "execution_count": 40,
     "metadata": {},
     "output_type": "execute_result"
    }
   ],
   "source": [
    "#HLT skill\n",
    "relative_change[4]"
   ]
  },
  {
   "cell_type": "code",
   "execution_count": null,
   "metadata": {},
   "outputs": [
    {
     "data": {
      "text/plain": [
       "np.float64(-17.065962248365413)"
      ]
     },
     "execution_count": 36,
     "metadata": {},
     "output_type": "execute_result"
    }
   ],
   "source": [
    "#HLT power\n",
    "relative_change[-1]"
   ]
  },
  {
   "cell_type": "code",
   "execution_count": null,
   "metadata": {},
   "outputs": [],
   "source": []
  }
 ],
 "metadata": {
  "kernelspec": {
   "display_name": "systemflow",
   "language": "python",
   "name": "python3"
  },
  "language_info": {
   "codemirror_mode": {
    "name": "ipython",
    "version": 3
   },
   "file_extension": ".py",
   "mimetype": "text/x-python",
   "name": "python",
   "nbconvert_exporter": "python",
   "pygments_lexer": "ipython3",
   "version": "undefined.undefined.undefined"
  }
 },
 "nbformat": 4,
 "nbformat_minor": 2
}
