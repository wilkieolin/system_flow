{
 "cells": [
  {
   "cell_type": "code",
   "execution_count": 3,
   "metadata": {},
   "outputs": [
    {
     "data": {
      "image/png": "[encoded data removed]",
      "text/plain": [
       "<Figure size 640x480 with 1 Axes>"
      ]
     },
     "metadata": {},
     "output_type": "display_data"
    }
   ],
   "source": [
    "import numpy as np\n",
    "\n",
    "from scipy import special\n",
    "\n",
    "import matplotlib.pyplot as plt\n",
    "\n",
    "x = np.linspace(-3, 3)\n",
    "\n",
    "plt.plot(x, 0.5 * (1 + special.erf(x)))\n",
    "\n",
    "plt.xlabel('$x$')\n",
    "\n",
    "plt.ylabel('$erf(x)$')\n",
    "\n",
    "plt.show()"
   ]
  },
  {
   "cell_type": "code",
   "execution_count": 4,
   "metadata": {},
   "outputs": [],
   "source": [
    "from scipy.stats import norm"
   ]
  },
  {
   "cell_type": "code",
   "execution_count": 19,
   "metadata": {},
   "outputs": [],
   "source": [
    "from scipy.optimize import minimize_scalar"
   ]
  },
  {
   "cell_type": "code",
   "execution_count": 8,
   "metadata": {},
   "outputs": [
    {
     "data": {
      "text/plain": [
       "0.5"
      ]
     },
     "execution_count": 8,
     "metadata": {},
     "output_type": "execute_result"
    }
   ],
   "source": [
    "norm.cdf(0, loc=0.0, scale = 1)"
   ]
  },
  {
   "cell_type": "code",
   "execution_count": 58,
   "metadata": {},
   "outputs": [],
   "source": [
    "class Classifier:\n",
    "    def __init__(self, skill, selectivity):\n",
    "        self.skill = skill\n",
    "        self.selectivity = selectivity\n",
    "\n",
    "        #distribution of Y = 0 (reject) given X (data)\n",
    "        self.false = lambda x: norm.cdf(x, loc=0.0, scale=1.0)\n",
    "        #distribution of Y = 1 (accept) given X (data)\n",
    "        self.true = lambda x: norm.cdf(x, loc=skill, scale=1.0)\n",
    "        #data rejected given a threshold\n",
    "        self.reject = lambda x: (self.false(x) + self.true(x)) / 2.0\n",
    "        #data accepted given a threshold\n",
    "        self.accept = lambda x: 1.0 - self.reject(x)\n",
    "        self.ratio_fn = lambda x: self.accept(x) / self.reject(x)\n",
    "        self.threshold = self.solve_ratio()\n",
    "\n",
    "        self.tn = self.false(self.threshold) / 2.0\n",
    "        self.fn = self.true(self.threshold) / 2.0\n",
    "        self.tp = (1.0 - self.true(self.threshold)) / 2.0\n",
    "        self.fp = (1.0 - self.false(self.threshold)) / 2.0\n",
    "\n",
    "        self.confusion = np.array([[self.tn, self.fn], [self.fp, self.tp]])\n",
    "\n",
    "    def solve_ratio(self):\n",
    "        opt_fn = lambda x: np.abs(self.selectivity - self.ratio_fn(x))\n",
    "        soln = minimize_scalar(opt_fn, bounds=(0.0, 20.0))\n",
    "        if soln.success:\n",
    "            return soln.x\n",
    "        else:\n",
    "            print(\"Solving for classification threshold failed\")\n",
    "            \n"
   ]
  },
  {
   "cell_type": "code",
   "execution_count": 64,
   "metadata": {},
   "outputs": [],
   "source": [
    "c1 = Classifier(3.0, 0.05)"
   ]
  },
  {
   "cell_type": "code",
   "execution_count": 65,
   "metadata": {},
   "outputs": [
    {
     "data": {
      "text/plain": [
       "4.309220099971419"
      ]
     },
     "execution_count": 65,
     "metadata": {},
     "output_type": "execute_result"
    }
   ],
   "source": [
    "c1.threshold"
   ]
  },
  {
   "cell_type": "code",
   "execution_count": 66,
   "metadata": {},
   "outputs": [
    {
     "data": {
      "text/plain": [
       "array([[4.99995904e-01, 4.52385049e-01],\n",
       "       [4.09578149e-06, 4.76149514e-02]])"
      ]
     },
     "execution_count": 66,
     "metadata": {},
     "output_type": "execute_result"
    }
   ],
   "source": [
    "c1.confusion"
   ]
  },
  {
   "cell_type": "code",
   "execution_count": null,
   "metadata": {},
   "outputs": [],
   "source": [
    "#beta is high since the threshold is far to the right to get high rejection"
   ]
  },
  {
   "cell_type": "code",
   "execution_count": 67,
   "metadata": {},
   "outputs": [
    {
     "data": {
      "text/plain": [
       "1.0"
      ]
     },
     "execution_count": 67,
     "metadata": {},
     "output_type": "execute_result"
    }
   ],
   "source": [
    "np.sum(c1.confusion)"
   ]
  },
  {
   "cell_type": "code",
   "execution_count": null,
   "metadata": {},
   "outputs": [],
   "source": []
  }
 ],
 "metadata": {
  "kernelspec": {
   "display_name": "jax",
   "language": "python",
   "name": "python3"
  },
  "language_info": {
   "codemirror_mode": {
    "name": "ipython",
    "version": 3
   },
   "file_extension": ".py",
   "mimetype": "text/x-python",
   "name": "python",
   "nbconvert_exporter": "python",
   "pygments_lexer": "ipython3",
   "version": "3.10.4"
  }
 },
 "nbformat": 4,
 "nbformat_minor": 2
}
