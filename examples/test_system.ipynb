{
 "cells": [
  {
   "cell_type": "code",
   "execution_count": 1,
   "metadata": {},
   "outputs": [],
   "source": [
    "import networkx as nx\n",
    "import sys\n",
    "from ruamel.yaml import YAML\n",
    "import numpy as np\n",
    "from abc import ABC, abstractmethod\n",
    "from collections import namedtuple\n",
    "from copy import deepcopy\n",
    "from functools import reduce\n",
    "from typing import Callable, Any\n",
    "from itertools import accumulate"
   ]
  },
  {
   "cell_type": "code",
   "execution_count": 2,
   "metadata": {},
   "outputs": [],
   "source": [
    "from systemflow.node import *"
   ]
  },
  {
   "cell_type": "code",
   "execution_count": 3,
   "metadata": {},
   "outputs": [],
   "source": [
    "ci = CollectImage()"
   ]
  },
  {
   "cell_type": "code",
   "execution_count": 4,
   "metadata": {},
   "outputs": [
    {
     "data": {
      "text/plain": [
       "'bit depth (n)'"
      ]
     },
     "execution_count": 4,
     "metadata": {},
     "output_type": "execute_result"
    }
   ],
   "source": [
    "ci.inputs.host_parameters.bitdepth"
   ]
  },
  {
   "cell_type": "code",
   "execution_count": 5,
   "metadata": {},
   "outputs": [
    {
     "data": {
      "text/plain": [
       "'acquisition time (s)'"
      ]
     },
     "execution_count": 5,
     "metadata": {},
     "output_type": "execute_result"
    }
   ],
   "source": [
    "ci.outputs.msg_fields.time"
   ]
  },
  {
   "cell_type": "code",
   "execution_count": 6,
   "metadata": {},
   "outputs": [
    {
     "data": {
      "text/plain": [
       "<systemflow.auxtypes.VarCollection at 0x1331444f0>"
      ]
     },
     "execution_count": 6,
     "metadata": {},
     "output_type": "execute_result"
    }
   ],
   "source": [
    "ci.outputs.msg_fields"
   ]
  },
  {
   "cell_type": "code",
   "execution_count": 7,
   "metadata": {},
   "outputs": [
    {
     "data": {
      "text/plain": [
       "dict_items([('image_data', 'image data (B)'), ('time', 'acquisition time (s)')])"
      ]
     },
     "execution_count": 7,
     "metadata": {},
     "output_type": "execute_result"
    }
   ],
   "source": [
    "ci.outputs.msg_fields.__dict__.items()"
   ]
  },
  {
   "cell_type": "code",
   "execution_count": 8,
   "metadata": {},
   "outputs": [
    {
     "data": {
      "text/plain": [
       "['image_data', 'time']"
      ]
     },
     "execution_count": 8,
     "metadata": {},
     "output_type": "execute_result"
    }
   ],
   "source": [
    "list(ci.outputs.msg_fields.__dict__.keys())"
   ]
  },
  {
   "cell_type": "code",
   "execution_count": 9,
   "metadata": {},
   "outputs": [
    {
     "data": {
      "text/plain": [
       "<systemflow.auxtypes.VarCollection at 0x1331444f0>"
      ]
     },
     "execution_count": 9,
     "metadata": {},
     "output_type": "execute_result"
    }
   ],
   "source": [
    "ci.outputs.msg_fields"
   ]
  },
  {
   "cell_type": "code",
   "execution_count": 10,
   "metadata": {},
   "outputs": [],
   "source": [
    "vc = collect_parameters([CollectImage()])\n",
    "\n",
    "ci_host = Component(\"Image sensor\",\n",
    "                    [CollectImage(),],\n",
    "                    parameters = {vc.resolution: (4000, 6000),\n",
    "                     vc.bitdepth: 16,\n",
    "                     vc.sample_rate: 1000.0,\n",
    "                     vc.pixelenergy: 1e-3,})"
   ]
  },
  {
   "cell_type": "code",
   "execution_count": 11,
   "metadata": {},
   "outputs": [],
   "source": [
    "msg0 = Message({}, {})"
   ]
  },
  {
   "cell_type": "code",
   "execution_count": 12,
   "metadata": {},
   "outputs": [],
   "source": [
    "image_data, sensor_props = ci(msg0, ci_host)"
   ]
  },
  {
   "cell_type": "code",
   "execution_count": 13,
   "metadata": {},
   "outputs": [
    {
     "data": {
      "text/plain": [
       "Message(fields={'image data (B)': np.float64(48000000.0), 'acquisition time (s)': 0.0}, properties={'resolution (n,n)': (4000, 6000, 16), 'sample rate (Hz)': 1000.0})"
      ]
     },
     "execution_count": 13,
     "metadata": {},
     "output_type": "execute_result"
    }
   ],
   "source": [
    "image_data"
   ]
  },
  {
   "cell_type": "code",
   "execution_count": 14,
   "metadata": {},
   "outputs": [],
   "source": [
    "ct = CollectTemperature()"
   ]
  },
  {
   "cell_type": "code",
   "execution_count": 15,
   "metadata": {},
   "outputs": [],
   "source": [
    "vc = collect_parameters([CollectTemperature()])"
   ]
  },
  {
   "cell_type": "code",
   "execution_count": 16,
   "metadata": {},
   "outputs": [
    {
     "data": {
      "text/plain": [
       "['t_bitdepth', 't_samplerate', 't_sensor_power']"
      ]
     },
     "execution_count": 16,
     "metadata": {},
     "output_type": "execute_result"
    }
   ],
   "source": [
    "list(vc.__dict__.keys())"
   ]
  },
  {
   "cell_type": "code",
   "execution_count": 17,
   "metadata": {},
   "outputs": [],
   "source": [
    "ct_host = Component(\"Thermocouple\",\n",
    "                    [CollectTemperature(),],\n",
    "                    {vc.t_bitdepth: 16,\n",
    "                     vc.t_samplerate: 1200,\n",
    "                     vc.t_sensor_power: 1e-3,},)"
   ]
  },
  {
   "cell_type": "code",
   "execution_count": 18,
   "metadata": {},
   "outputs": [],
   "source": [
    "temp_data, thermo_props = ct(msg0, ct_host)"
   ]
  },
  {
   "cell_type": "code",
   "execution_count": 19,
   "metadata": {},
   "outputs": [],
   "source": [
    "dm = OverwriteMerge()"
   ]
  },
  {
   "cell_type": "code",
   "execution_count": 20,
   "metadata": {},
   "outputs": [
    {
     "data": {
      "text/plain": [
       "Message(fields={}, properties={})"
      ]
     },
     "execution_count": 20,
     "metadata": {},
     "output_type": "execute_result"
    }
   ],
   "source": [
    "dm([msg0, msg0])"
   ]
  },
  {
   "cell_type": "code",
   "execution_count": 21,
   "metadata": {},
   "outputs": [],
   "source": [
    "msg1 = Message({\"spiciness\": 1000}, {\"seasoning\": \"hot sauce\"})\n",
    "msg2 = Message({\"spiciness\": 2}, {\"seasoning\": \"black pepper\", \"dish\": \"pasta\"}) "
   ]
  },
  {
   "cell_type": "code",
   "execution_count": 22,
   "metadata": {},
   "outputs": [
    {
     "data": {
      "text/plain": [
       "{'dish', 'seasoning', 'spiciness'}"
      ]
     },
     "execution_count": 22,
     "metadata": {},
     "output_type": "execute_result"
    }
   ],
   "source": [
    "set(msg2.fields.keys()).union(set(msg2.properties.keys()))"
   ]
  },
  {
   "cell_type": "code",
   "execution_count": 23,
   "metadata": {},
   "outputs": [
    {
     "name": "stdout",
     "output_type": "stream",
     "text": [
      "No merge provided for spiciness, taking first value\n",
      "No merge provided for seasoning, taking first value\n"
     ]
    },
    {
     "data": {
      "text/plain": [
       "Message(fields={'spiciness': 1000}, properties={'dish': 'pasta', 'seasoning': 'hot sauce'})"
      ]
     },
     "execution_count": 23,
     "metadata": {},
     "output_type": "execute_result"
    }
   ],
   "source": [
    "dm([msg1, msg2])"
   ]
  },
  {
   "cell_type": "code",
   "execution_count": 24,
   "metadata": {},
   "outputs": [],
   "source": [
    "class MaxSpicyMerge(Merge):\n",
    "    def __init__(self):\n",
    "        super().__init__({\"spiciness\": np.max,}, {\"seasoning\": lambda x: x[1]})\n",
    "    \n"
   ]
  },
  {
   "cell_type": "code",
   "execution_count": 25,
   "metadata": {},
   "outputs": [],
   "source": [
    "msm = MaxSpicyMerge()"
   ]
  },
  {
   "cell_type": "code",
   "execution_count": 26,
   "metadata": {},
   "outputs": [
    {
     "data": {
      "text/plain": [
       "Message(fields={'spiciness': np.int64(1000)}, properties={'dish': 'pasta', 'seasoning': 'black pepper'})"
      ]
     },
     "execution_count": 26,
     "metadata": {},
     "output_type": "execute_result"
    }
   ],
   "source": [
    "msm([msg1, msg2])"
   ]
  },
  {
   "cell_type": "code",
   "execution_count": 27,
   "metadata": {},
   "outputs": [
    {
     "data": {
      "text/plain": [
       "{'image data (B)': np.float64(48000000.0), 'acquisition time (s)': 0.0}"
      ]
     },
     "execution_count": 27,
     "metadata": {},
     "output_type": "execute_result"
    }
   ],
   "source": [
    "image_data.fields"
   ]
  },
  {
   "cell_type": "code",
   "execution_count": 28,
   "metadata": {},
   "outputs": [
    {
     "data": {
      "text/plain": [
       "{'temperature data (B)': 2.0, 'time (s)': 0.0}"
      ]
     },
     "execution_count": 28,
     "metadata": {},
     "output_type": "execute_result"
    }
   ],
   "source": [
    "temp_data.fields"
   ]
  },
  {
   "cell_type": "code",
   "execution_count": 29,
   "metadata": {},
   "outputs": [
    {
     "name": "stdout",
     "output_type": "stream",
     "text": [
      "No merge provided for sample rate (Hz), taking first value\n"
     ]
    },
    {
     "data": {
      "text/plain": [
       "Message(fields={'temperature data (B)': 2.0, 'image data (B)': np.float64(48000000.0), 'acquisition time (s)': 0.0, 'time (s)': 0.0}, properties={'resolution (n,n)': (4000, 6000, 16), 'sample rate (Hz)': 1000.0})"
      ]
     },
     "execution_count": 29,
     "metadata": {},
     "output_type": "execute_result"
    }
   ],
   "source": [
    "dm([image_data, temp_data])"
   ]
  },
  {
   "cell_type": "code",
   "execution_count": 30,
   "metadata": {},
   "outputs": [],
   "source": [
    "class RateMerge(Merge):\n",
    "    def __init__(self):\n",
    "        super().__init__({\"time\": np.min,}, {\"sample rate (Hz)\": np.min})"
   ]
  },
  {
   "cell_type": "code",
   "execution_count": 31,
   "metadata": {},
   "outputs": [],
   "source": [
    "rm = RateMerge()"
   ]
  },
  {
   "cell_type": "code",
   "execution_count": 32,
   "metadata": {},
   "outputs": [
    {
     "data": {
      "text/plain": [
       "Message(fields={'temperature data (B)': 2.0, 'image data (B)': np.float64(48000000.0), 'acquisition time (s)': 0.0, 'time (s)': 0.0}, properties={'resolution (n,n)': (4000, 6000, 16), 'sample rate (Hz)': np.float64(1000.0)})"
      ]
     },
     "execution_count": 32,
     "metadata": {},
     "output_type": "execute_result"
    }
   ],
   "source": [
    "rm([image_data, temp_data])"
   ]
  },
  {
   "cell_type": "code",
   "execution_count": 33,
   "metadata": {},
   "outputs": [],
   "source": [
    "class DataRate(Mutate):\n",
    "    def __init__(self, name: str = \"DataRate\"):\n",
    "        #Input message fields\n",
    "        #transform on any field with data (bytes - B)\n",
    "        msg_fields = VarCollection(bytes = Regex(r\"\\(B\\)\"),)\n",
    "    \n",
    "        #Input message properties\n",
    "        msg_properties = VarCollection()\n",
    "\n",
    "        #Input host parameters\n",
    "        host_parameters = VarCollection()\n",
    "        \n",
    "        inputs = MutationInputs(msg_fields, msg_properties, host_parameters)\n",
    "\n",
    "        #Output message fields\n",
    "        msg_fields = VarCollection()\n",
    "\n",
    "        #Output message properties\n",
    "        msg_properties = VarCollection()\n",
    "\n",
    "        #Output host properties\n",
    "        host_properties = VarCollection(total_data = \"total data (B)\",)\n",
    "\n",
    "        outputs = MutationOutputs(msg_fields, msg_properties, host_properties)\n",
    "\n",
    "        super().__init__(name, inputs, outputs)\n",
    "\n",
    "    def transform(self, message: Message, component: Component):\n",
    "        total_data = 0.0\n",
    "        data_unit = self.inputs.msg_fields.bytes.str\n",
    "        for (key, value) in message.fields.items():\n",
    "            if bool(re.search(data_unit, key)) and key != \"total data\":\n",
    "                total_data += value\n",
    "\n",
    "        new_msg_fields = {self.outputs.host_properties.total_data: total_data}\n",
    "        return new_msg_fields, {}, {}"
   ]
  },
  {
   "cell_type": "code",
   "execution_count": 34,
   "metadata": {},
   "outputs": [],
   "source": [
    "class StorageRate(Mutate):\n",
    "    def __init__(self, name: str = \"StorageRate\"):\n",
    "        #Input message fields\n",
    "        #transform on any field with data (bytes - B)\n",
    "        msg_fields = VarCollection(total_data = \"total data (B)\",)\n",
    "    \n",
    "        #Input message properties\n",
    "        msg_properties = VarCollection(sample_rate = \"sample rate (Hz)\",)\n",
    "\n",
    "        #Input host parameters\n",
    "        host_parameters = VarCollection()\n",
    "        \n",
    "        inputs = MutationInputs(msg_fields, msg_properties, host_parameters)\n",
    "\n",
    "        #Output message fields\n",
    "        msg_fields = VarCollection()\n",
    "\n",
    "        #Output message properties\n",
    "        msg_properties = VarCollection()\n",
    "\n",
    "        #Output host properties\n",
    "        host_properties = VarCollection(storage_rate = \"data rate (B/s)\",)\n",
    "\n",
    "        outputs = MutationOutputs(msg_fields, msg_fields, host_properties)\n",
    "\n",
    "        super().__init__(name, inputs, outputs)\n",
    "\n",
    "    def transform(self, message: Message, component: Component):\n",
    "        storage_rate = message.fields[self.inputs.msg_fields.total_data] * message.properties[self.inputs.msg_properties.sample_rate]\n",
    "        new_host_properties = {self.outputs.host_properties.storage_rate: storage_rate}\n",
    "        return {}, {}, new_host_properties"
   ]
  },
  {
   "cell_type": "code",
   "execution_count": 35,
   "metadata": {},
   "outputs": [],
   "source": [
    "ms_host = Component(\"Merge/Store\", [DataRate(), StorageRate()], {}, {}, RateMerge())"
   ]
  },
  {
   "cell_type": "code",
   "execution_count": 36,
   "metadata": {},
   "outputs": [],
   "source": [
    "nodes = [ci_host, ct_host, ms_host]"
   ]
  },
  {
   "cell_type": "code",
   "execution_count": 37,
   "metadata": {},
   "outputs": [
    {
     "data": {
      "text/plain": [
       "['Image sensor', 'Thermocouple', 'Merge/Store']"
      ]
     },
     "execution_count": 37,
     "metadata": {},
     "output_type": "execute_result"
    }
   ],
   "source": [
    "[c.name for c in nodes]"
   ]
  },
  {
   "cell_type": "code",
   "execution_count": 38,
   "metadata": {},
   "outputs": [],
   "source": [
    "links = [DefaultLink(\"Image -> Merge/Store\",\n",
    "                     \"Image sensor\",\n",
    "                     \"Merge/Store\"),\n",
    "         DefaultLink(\"Thermocouple -> Merge/Store\", \"Thermocouple\", \"Merge/Store\"),]"
   ]
  },
  {
   "cell_type": "code",
   "execution_count": 39,
   "metadata": {},
   "outputs": [
    {
     "data": {
      "text/plain": [
       "[<systemflow.node.DefaultLink at 0x133146110>,\n",
       " <systemflow.node.DefaultLink at 0x133146a40>]"
      ]
     },
     "execution_count": 39,
     "metadata": {},
     "output_type": "execute_result"
    }
   ],
   "source": [
    "links"
   ]
  },
  {
   "cell_type": "code",
   "execution_count": 40,
   "metadata": {},
   "outputs": [],
   "source": [
    "ms_graph = ExecutionGraph(\"Sense/Merge/Store\", nodes, links)"
   ]
  },
  {
   "cell_type": "code",
   "execution_count": 41,
   "metadata": {},
   "outputs": [
    {
     "data": {
      "text/plain": [
       "<systemflow.node.ExecutionGraph at 0x133144250>"
      ]
     },
     "execution_count": 41,
     "metadata": {},
     "output_type": "execute_result"
    }
   ],
   "source": [
    "ms_graph"
   ]
  },
  {
   "cell_type": "code",
   "execution_count": 42,
   "metadata": {},
   "outputs": [
    {
     "data": {
      "text/plain": [
       "OutEdgeView([('Image sensor', 'Merge/Store'), ('Thermocouple', 'Merge/Store')])"
      ]
     },
     "execution_count": 42,
     "metadata": {},
     "output_type": "execute_result"
    }
   ],
   "source": [
    "ms_graph.graph.edges"
   ]
  },
  {
   "cell_type": "code",
   "execution_count": 43,
   "metadata": {},
   "outputs": [
    {
     "data": {
      "text/plain": [
       "<systemflow.node.Component at 0x133145b70>"
      ]
     },
     "execution_count": 43,
     "metadata": {},
     "output_type": "execute_result"
    }
   ],
   "source": [
    "ms_graph.graph.nodes[\"Merge/Store\"]['ref']"
   ]
  },
  {
   "cell_type": "code",
   "execution_count": 44,
   "metadata": {},
   "outputs": [
    {
     "data": {
      "text/plain": [
       "'Merge/Store'"
      ]
     },
     "execution_count": 44,
     "metadata": {},
     "output_type": "execute_result"
    }
   ],
   "source": [
    "ms_graph.root"
   ]
  },
  {
   "cell_type": "code",
   "execution_count": 45,
   "metadata": {},
   "outputs": [],
   "source": [
    "rp = ms_graph.get_predecessors(ms_graph.get_node(ms_graph.root))"
   ]
  },
  {
   "cell_type": "code",
   "execution_count": 46,
   "metadata": {},
   "outputs": [
    {
     "data": {
      "text/plain": [
       "[<systemflow.node.Component at 0x133144cd0>,\n",
       " <systemflow.node.Component at 0x1331455d0>]"
      ]
     },
     "execution_count": 46,
     "metadata": {},
     "output_type": "execute_result"
    }
   ],
   "source": [
    "rp"
   ]
  },
  {
   "cell_type": "code",
   "execution_count": 47,
   "metadata": {},
   "outputs": [],
   "source": [
    "c1 = rp[0](ms_graph)"
   ]
  },
  {
   "cell_type": "code",
   "execution_count": 48,
   "metadata": {},
   "outputs": [
    {
     "data": {
      "text/plain": [
       "[]"
      ]
     },
     "execution_count": 48,
     "metadata": {},
     "output_type": "execute_result"
    }
   ],
   "source": [
    "c1[1]"
   ]
  },
  {
   "cell_type": "code",
   "execution_count": 49,
   "metadata": {},
   "outputs": [
    {
     "data": {
      "text/plain": [
       "Message(fields={'image data (B)': np.float64(48000000.0), 'acquisition time (s)': 0.0}, properties={'resolution (n,n)': (4000, 6000, 16), 'sample rate (Hz)': 1000.0})"
      ]
     },
     "execution_count": 49,
     "metadata": {},
     "output_type": "execute_result"
    }
   ],
   "source": [
    "c1[0].output_msg"
   ]
  },
  {
   "cell_type": "code",
   "execution_count": 50,
   "metadata": {},
   "outputs": [],
   "source": [
    "dr = DataRate()"
   ]
  },
  {
   "cell_type": "code",
   "execution_count": 51,
   "metadata": {},
   "outputs": [
    {
     "data": {
      "text/plain": [
       "{'sensor power (W)': 24000.0}"
      ]
     },
     "execution_count": 51,
     "metadata": {},
     "output_type": "execute_result"
    }
   ],
   "source": [
    "c1[0].properties"
   ]
  },
  {
   "cell_type": "code",
   "execution_count": 52,
   "metadata": {},
   "outputs": [],
   "source": [
    "c2 = rp[1](ms_graph)"
   ]
  },
  {
   "cell_type": "code",
   "execution_count": 53,
   "metadata": {},
   "outputs": [
    {
     "data": {
      "text/plain": [
       "Message(fields={'temperature data (B)': 2.0, 'time (s)': 0.0}, properties={'sample rate (Hz)': 1200})"
      ]
     },
     "execution_count": 53,
     "metadata": {},
     "output_type": "execute_result"
    }
   ],
   "source": [
    "c2[0].output_msg"
   ]
  },
  {
   "cell_type": "code",
   "execution_count": 54,
   "metadata": {},
   "outputs": [
    {
     "data": {
      "text/plain": [
       "{'thermocouple power (W)': 0.001}"
      ]
     },
     "execution_count": 54,
     "metadata": {},
     "output_type": "execute_result"
    }
   ],
   "source": [
    "c2[0].properties"
   ]
  },
  {
   "cell_type": "code",
   "execution_count": 55,
   "metadata": {},
   "outputs": [
    {
     "data": {
      "text/plain": [
       "<systemflow.auxtypes.Regex at 0x133147250>"
      ]
     },
     "execution_count": 55,
     "metadata": {},
     "output_type": "execute_result"
    }
   ],
   "source": [
    "dr.inputs.msg_fields.bytes"
   ]
  },
  {
   "cell_type": "code",
   "execution_count": 56,
   "metadata": {},
   "outputs": [],
   "source": [
    "msg3 = c2[0].output_msg"
   ]
  },
  {
   "cell_type": "code",
   "execution_count": 57,
   "metadata": {},
   "outputs": [
    {
     "data": {
      "text/plain": [
       "['temperature data (B)', 'time (s)']"
      ]
     },
     "execution_count": 57,
     "metadata": {},
     "output_type": "execute_result"
    }
   ],
   "source": [
    "list(msg3.fields.keys())"
   ]
  },
  {
   "cell_type": "code",
   "execution_count": 58,
   "metadata": {},
   "outputs": [
    {
     "data": {
      "text/plain": [
       "True"
      ]
     },
     "execution_count": 58,
     "metadata": {},
     "output_type": "execute_result"
    }
   ],
   "source": [
    "bool(re.search(dr.inputs.msg_fields.bytes.str, list(msg3.fields.keys())[0]))"
   ]
  },
  {
   "cell_type": "code",
   "execution_count": 59,
   "metadata": {},
   "outputs": [],
   "source": [
    "rn = ms_graph.get_node(ms_graph.root)"
   ]
  },
  {
   "cell_type": "code",
   "execution_count": 60,
   "metadata": {},
   "outputs": [],
   "source": [
    "im = rn.merge([c1[0].output_msg, c2[0].output_msg])"
   ]
  },
  {
   "cell_type": "code",
   "execution_count": 61,
   "metadata": {},
   "outputs": [
    {
     "data": {
      "text/plain": [
       "Message(fields={'temperature data (B)': 2.0, 'image data (B)': np.float64(48000000.0), 'acquisition time (s)': 0.0, 'time (s)': 0.0}, properties={'resolution (n,n)': (4000, 6000, 16), 'sample rate (Hz)': np.float64(1000.0)})"
      ]
     },
     "execution_count": 61,
     "metadata": {},
     "output_type": "execute_result"
    }
   ],
   "source": [
    "im"
   ]
  },
  {
   "cell_type": "code",
   "execution_count": null,
   "metadata": {},
   "outputs": [],
   "source": []
  },
  {
   "cell_type": "code",
   "execution_count": 62,
   "metadata": {},
   "outputs": [
    {
     "data": {
      "text/plain": [
       "(<systemflow.node.Component at 0x133147a60>,\n",
       " [(<systemflow.node.Component at 0x133146800>, []),\n",
       "  (<systemflow.node.Component at 0x133145a80>, [])])"
      ]
     },
     "execution_count": 62,
     "metadata": {},
     "output_type": "execute_result"
    }
   ],
   "source": [
    "rn(ms_graph)"
   ]
  },
  {
   "cell_type": "code",
   "execution_count": 63,
   "metadata": {},
   "outputs": [
    {
     "data": {
      "text/plain": [
       "[<systemflow.node.Component at 0x133147910>,\n",
       " <systemflow.node.Component at 0x133147ca0>,\n",
       " <systemflow.node.Component at 0x133146260>]"
      ]
     },
     "execution_count": 63,
     "metadata": {},
     "output_type": "execute_result"
    }
   ],
   "source": [
    "list(flatten(rn(ms_graph)))"
   ]
  },
  {
   "cell_type": "code",
   "execution_count": 64,
   "metadata": {},
   "outputs": [],
   "source": [
    "g2 = ms_graph()"
   ]
  },
  {
   "cell_type": "code",
   "execution_count": 65,
   "metadata": {},
   "outputs": [
    {
     "data": {
      "text/plain": [
       "1"
      ]
     },
     "execution_count": 65,
     "metadata": {},
     "output_type": "execute_result"
    }
   ],
   "source": [
    "g2.iteration"
   ]
  },
  {
   "cell_type": "code",
   "execution_count": 66,
   "metadata": {},
   "outputs": [],
   "source": [
    "vc = collect_parameters([Convolve(),])"
   ]
  },
  {
   "cell_type": "code",
   "execution_count": 67,
   "metadata": {},
   "outputs": [
    {
     "data": {
      "text/plain": [
       "['kernel', 'filters']"
      ]
     },
     "execution_count": 67,
     "metadata": {},
     "output_type": "execute_result"
    }
   ],
   "source": [
    "list(vc.__dict__.keys())"
   ]
  },
  {
   "cell_type": "code",
   "execution_count": 68,
   "metadata": {},
   "outputs": [],
   "source": [
    "\n",
    "convolve_host = Component(\"Convolution\", [Convolve(),], {vc.kernel: (3,3), vc.filters: 8}, {})"
   ]
  },
  {
   "cell_type": "code",
   "execution_count": 69,
   "metadata": {},
   "outputs": [],
   "source": [
    "cnv = Convolve()"
   ]
  },
  {
   "cell_type": "code",
   "execution_count": 70,
   "metadata": {},
   "outputs": [
    {
     "data": {
      "text/plain": [
       "'Merge/Store'"
      ]
     },
     "execution_count": 70,
     "metadata": {},
     "output_type": "execute_result"
    }
   ],
   "source": [
    "g2.nodes[0].name"
   ]
  },
  {
   "cell_type": "code",
   "execution_count": 71,
   "metadata": {},
   "outputs": [],
   "source": [
    "exp_msg = g2.nodes[0].output_msg"
   ]
  },
  {
   "cell_type": "code",
   "execution_count": 72,
   "metadata": {},
   "outputs": [
    {
     "data": {
      "text/plain": [
       "{'temperature data (B)': 2.0,\n",
       " 'image data (B)': np.float64(48000000.0),\n",
       " 'acquisition time (s)': 0.0,\n",
       " 'time (s)': 0.0,\n",
       " 'total data (B)': np.float64(48000002.0)}"
      ]
     },
     "execution_count": 72,
     "metadata": {},
     "output_type": "execute_result"
    }
   ],
   "source": [
    "exp_msg.fields"
   ]
  },
  {
   "cell_type": "code",
   "execution_count": 73,
   "metadata": {},
   "outputs": [
    {
     "data": {
      "text/plain": [
       "{'resolution (n,n)': (4000, 6000, 16), 'sample rate (Hz)': np.float64(1000.0)}"
      ]
     },
     "execution_count": 73,
     "metadata": {},
     "output_type": "execute_result"
    }
   ],
   "source": [
    "exp_msg.properties"
   ]
  },
  {
   "cell_type": "code",
   "execution_count": 74,
   "metadata": {},
   "outputs": [],
   "source": [
    "message, props = cnv(exp_msg, convolve_host)"
   ]
  },
  {
   "cell_type": "code",
   "execution_count": 75,
   "metadata": {},
   "outputs": [
    {
     "data": {
      "text/plain": [
       "Message(fields={'temperature data (B)': 2.0, 'image data (B)': np.float64(48000000.0), 'acquisition time (s)': 0.0, 'time (s)': 0.0, 'total data (B)': np.float64(48000002.0), 'features (B)': np.int64(21301344)}, properties={'resolution (n,n)': (4000, 6000, 16), 'sample rate (Hz)': np.float64(1000.0)})"
      ]
     },
     "execution_count": 75,
     "metadata": {},
     "output_type": "execute_result"
    }
   ],
   "source": [
    "message"
   ]
  },
  {
   "cell_type": "code",
   "execution_count": 76,
   "metadata": {},
   "outputs": [
    {
     "data": {
      "text/plain": [
       "{'conv ops (n)': np.float64(191712096000.0)}"
      ]
     },
     "execution_count": 76,
     "metadata": {},
     "output_type": "execute_result"
    }
   ],
   "source": [
    "props"
   ]
  },
  {
   "cell_type": "code",
   "execution_count": 77,
   "metadata": {},
   "outputs": [],
   "source": [
    "from systemflow.classifier import *"
   ]
  },
  {
   "cell_type": "code",
   "execution_count": 78,
   "metadata": {},
   "outputs": [],
   "source": [
    "gc = GaussianClassifier(3.0)"
   ]
  },
  {
   "cell_type": "code",
   "execution_count": 79,
   "metadata": {},
   "outputs": [],
   "source": [
    "gc.solve_reduction([900, 100], 0.9)"
   ]
  },
  {
   "cell_type": "code",
   "execution_count": 80,
   "metadata": {},
   "outputs": [
    {
     "data": {
      "text/plain": [
       "array([[0.98055646, 0.17499203],\n",
       "       [0.01944354, 0.82500797]])"
      ]
     },
     "execution_count": 80,
     "metadata": {},
     "output_type": "execute_result"
    }
   ],
   "source": [
    "gc.error_matrix"
   ]
  },
  {
   "cell_type": "code",
   "execution_count": 81,
   "metadata": {},
   "outputs": [
    {
     "data": {
      "text/plain": [
       "100.0"
      ]
     },
     "execution_count": 81,
     "metadata": {},
     "output_type": "execute_result"
    }
   ],
   "source": [
    "1000 * 0.1"
   ]
  },
  {
   "cell_type": "code",
   "execution_count": 82,
   "metadata": {},
   "outputs": [],
   "source": [
    "gcf = GaussianClassify()"
   ]
  },
  {
   "cell_type": "code",
   "execution_count": 83,
   "metadata": {},
   "outputs": [],
   "source": [
    "classify_host = Component([\"Classify\"], [GaussianClassify(), DataRate(), ClassifiedStorageRate()], {\"skill (1)\": 3, \"variance (1)\": 1, \"reduction (%)\": 0.9}, {})"
   ]
  },
  {
   "cell_type": "code",
   "execution_count": 84,
   "metadata": {},
   "outputs": [],
   "source": [
    "msg2, props2 = gcf(message, classify_host)"
   ]
  },
  {
   "cell_type": "code",
   "execution_count": 85,
   "metadata": {},
   "outputs": [
    {
     "data": {
      "text/plain": [
       "{'temperature data (B)': 2.0,\n",
       " 'image data (B)': np.float64(48000000.0),\n",
       " 'acquisition time (s)': 0.0,\n",
       " 'time (s)': 0.0,\n",
       " 'total data (B)': np.float64(48000002.0),\n",
       " 'features (B)': np.int64(21301344),\n",
       " 'contingency (2x2)': array([[882,  17],\n",
       "        [ 17,  82]])}"
      ]
     },
     "execution_count": 85,
     "metadata": {},
     "output_type": "execute_result"
    }
   ],
   "source": [
    "msg2.fields"
   ]
  },
  {
   "cell_type": "code",
   "execution_count": 86,
   "metadata": {},
   "outputs": [
    {
     "data": {
      "text/plain": [
       "{'resolution (n,n)': (4000, 6000, 16),\n",
       " 'sample rate (Hz)': np.float64(1000.0),\n",
       " 'error matrix (2p, 2p)': array([[0.98055646, 0.17499203],\n",
       "        [0.01944354, 0.82500797]])}"
      ]
     },
     "execution_count": 86,
     "metadata": {},
     "output_type": "execute_result"
    }
   ],
   "source": [
    "msg2.properties"
   ]
  },
  {
   "cell_type": "code",
   "execution_count": 87,
   "metadata": {},
   "outputs": [
    {
     "data": {
      "text/plain": [
       "{}"
      ]
     },
     "execution_count": 87,
     "metadata": {},
     "output_type": "execute_result"
    }
   ],
   "source": [
    "props2"
   ]
  },
  {
   "cell_type": "code",
   "execution_count": 88,
   "metadata": {},
   "outputs": [
    {
     "data": {
      "text/plain": [
       "(Message(fields={'temperature data (B)': 2.0, 'image data (B)': np.float64(48000000.0), 'acquisition time (s)': 0.0, 'time (s)': 0.0, 'total data (B)': np.float64(48000002.0), 'features (B)': np.int64(21301344), 'contingency (2x2)': array([[882,  17],\n",
       "        [ 17,  82]])}, properties={'resolution (n,n)': (4000, 6000, 16), 'sample rate (Hz)': np.float64(1000.0), 'error matrix (2p, 2p)': array([[0.98055646, 0.17499203],\n",
       "        [0.01944354, 0.82500797]])}),\n",
       " {'storage rate (B/s)': array([  933289.89794967, 39600383.97291303])})"
      ]
     },
     "execution_count": 88,
     "metadata": {},
     "output_type": "execute_result"
    }
   ],
   "source": [
    "ClassifiedStorageRate()(msg2, classify_host)"
   ]
  },
  {
   "cell_type": "code",
   "execution_count": 89,
   "metadata": {},
   "outputs": [
    {
     "data": {
      "text/plain": [
       "array([882,  17])"
      ]
     },
     "execution_count": 89,
     "metadata": {},
     "output_type": "execute_result"
    }
   ],
   "source": [
    "get_rejected(msg2.fields[\"contingency (2x2)\"])"
   ]
  },
  {
   "cell_type": "code",
   "execution_count": 90,
   "metadata": {},
   "outputs": [
    {
     "data": {
      "text/plain": [
       "array([17, 82])"
      ]
     },
     "execution_count": 90,
     "metadata": {},
     "output_type": "execute_result"
    }
   ],
   "source": [
    "get_passed(msg2.fields[\"contingency (2x2)\"])"
   ]
  },
  {
   "cell_type": "code",
   "execution_count": 91,
   "metadata": {},
   "outputs": [
    {
     "data": {
      "text/plain": [
       "['resolution (n,n)',\n",
       " 'bit depth (n)',\n",
       " 'sample rate (Hz)',\n",
       " 'pixel energy (J)',\n",
       " 'temperature bitdepth (n)',\n",
       " 'sample rate (Hz)',\n",
       " 'thermocouple power (W)',\n",
       " 'kernel (n,n)',\n",
       " 'filters (n)',\n",
       " 'skill (1)',\n",
       " 'variance (1)',\n",
       " 'reduction (%)']"
      ]
     },
     "execution_count": 91,
     "metadata": {},
     "output_type": "execute_result"
    }
   ],
   "source": [
    "list(collect_parameters([CollectImage(), CollectTemperature(), Convolve(), GaussianClassify(), DataRate(), ClassifiedStorageRate()]).__dict__.values())"
   ]
  },
  {
   "cell_type": "code",
   "execution_count": 92,
   "metadata": {},
   "outputs": [],
   "source": [
    "nodes = [Component(\"Image sensor\",\n",
    "                    [CollectImage(),],\n",
    "                    {\"resolution (n,n)\": (6000, 4000),\n",
    "                     \"bit depth (n)\": 8,\n",
    "                     \"sample rate (Hz)\": 1000,\n",
    "                     \"pixel energy (J)\": 1e-6,},\n",
    "                     {}),\n",
    "        Component(\"Thermocouple\",\n",
    "                    [CollectTemperature(),],\n",
    "                    {\"temperature bitdepth (n)\": 8,\n",
    "                     \"sample rate (Hz)\": 1200,\n",
    "                     \"thermocouple power (W)\": 1e-3,},\n",
    "                     {}),\n",
    "        Component(\"Merge/Convolve\",\n",
    "                    [Convolve(),],\n",
    "                    {\"kernel (n,n)\": (3,3), \"filters (n)\": 8},\n",
    "                    {},\n",
    "                    RateMerge()),\n",
    "        Component(\"Classify\",\n",
    "                    [GaussianClassify(), DataRate(), ClassifiedStorageRate(),],\n",
    "                    {\"skill (1)\": 3, \"variance (1)\": 1, \"reduction (%)\": 0.9},\n",
    "                    {}),]"
   ]
  },
  {
   "cell_type": "code",
   "execution_count": 93,
   "metadata": {},
   "outputs": [],
   "source": [
    "links = [DefaultLink(\"Image -> Merge/Convolve\",\n",
    "                     \"Image sensor\",\n",
    "                     \"Merge/Convolve\"),\n",
    "         DefaultLink(\"Thermocouple -> Merge/Convolve\", \n",
    "                     \"Thermocouple\",\n",
    "                     \"Merge/Convolve\"),\n",
    "        DefaultLink(\"Merge/Convolve -> Classify\",\n",
    "                    \"Merge/Convolve\",\n",
    "                    \"Classify\"),]"
   ]
  },
  {
   "cell_type": "code",
   "execution_count": 94,
   "metadata": {},
   "outputs": [],
   "source": [
    "class ConvPower(Metric):\n",
    "    def __init__(self):\n",
    "        super().__init__(\"Convolution Power\", \n",
    "                         {},\n",
    "                         {},\n",
    "                         {\"Merge/Convolve\": Convolve().outputs.host_properties.ops},)\n",
    "        \n",
    "    def metric(self, graph: ExecutionGraph):\n",
    "        host_props = graph.get_all_node_properties()\n",
    "        ops = host_props[\"Merge/Convolve\"][Convolve().outputs.host_properties.ops]\n",
    "        power = ops * 1e-12\n",
    "\n",
    "        metrics = {\"power\": power,}\n",
    "        return metrics\n",
    "    "
   ]
  },
  {
   "cell_type": "code",
   "execution_count": 95,
   "metadata": {},
   "outputs": [],
   "source": [
    "scc_graph = ExecutionGraph(\"Sense/Convolve/Classify\", nodes, links, [ConvPower(),])"
   ]
  },
  {
   "cell_type": "code",
   "execution_count": 96,
   "metadata": {},
   "outputs": [
    {
     "name": "stdout",
     "output_type": "stream",
     "text": [
      "Executing on node  Classify\n",
      "Executing on node  Merge/Convolve\n",
      "Executing on node  Image sensor\n",
      "Executing on node  Thermocouple\n"
     ]
    }
   ],
   "source": [
    "scc2 = scc_graph(True)"
   ]
  },
  {
   "cell_type": "code",
   "execution_count": 97,
   "metadata": {},
   "outputs": [
    {
     "data": {
      "text/plain": [
       "1"
      ]
     },
     "execution_count": 97,
     "metadata": {},
     "output_type": "execute_result"
    }
   ],
   "source": [
    "scc2.iteration"
   ]
  },
  {
   "cell_type": "code",
   "execution_count": 98,
   "metadata": {},
   "outputs": [
    {
     "data": {
      "text/plain": [
       "[{'power': np.float64(0.191712096)}]"
      ]
     },
     "execution_count": 98,
     "metadata": {},
     "output_type": "execute_result"
    }
   ],
   "source": [
    "scc2.metric_values"
   ]
  },
  {
   "cell_type": "code",
   "execution_count": 99,
   "metadata": {},
   "outputs": [
    {
     "data": {
      "text/plain": [
       "'Classify'"
      ]
     },
     "execution_count": 99,
     "metadata": {},
     "output_type": "execute_result"
    }
   ],
   "source": [
    "scc2.nodes[0].name"
   ]
  },
  {
   "cell_type": "code",
   "execution_count": 100,
   "metadata": {},
   "outputs": [
    {
     "data": {
      "text/plain": [
       "Message(fields={'image data (B)': np.float64(24000000.0), 'acquisition time (s)': 0.0, 'time (s)': 0.0, 'temperature data (B)': 1.0, 'features (B)': np.int64(21301344), 'contingency (2x2)': array([[882,  17],\n",
       "       [ 17,  82]]), 'total data (B)': np.float64(45301345.0)}, properties={'resolution (n,n)': (6000, 4000, 8), 'sample rate (Hz)': np.int64(1000), 'error matrix (2p, 2p)': array([[0.98055646, 0.17499203],\n",
       "       [0.01944354, 0.82500797]])})"
      ]
     },
     "execution_count": 100,
     "metadata": {},
     "output_type": "execute_result"
    }
   ],
   "source": [
    "scc2.nodes[0].output_msg"
   ]
  },
  {
   "cell_type": "code",
   "execution_count": 101,
   "metadata": {},
   "outputs": [
    {
     "data": {
      "text/plain": [
       "Message(fields={'image data (B)': np.float64(24000000.0), 'acquisition time (s)': 0.0, 'time (s)': 0.0, 'temperature data (B)': 1.0, 'features (B)': np.int64(21301344), 'contingency (2x2)': array([[882,  17],\n",
       "       [ 17,  82]]), 'total data (B)': np.float64(45301345.0)}, properties={'resolution (n,n)': (6000, 4000, 8), 'sample rate (Hz)': np.int64(1000), 'error matrix (2p, 2p)': array([[0.98055646, 0.17499203],\n",
       "       [0.01944354, 0.82500797]])})"
      ]
     },
     "execution_count": 101,
     "metadata": {},
     "output_type": "execute_result"
    }
   ],
   "source": [
    "scc2.get_node(\"Classify\").output_msg"
   ]
  },
  {
   "cell_type": "code",
   "execution_count": 102,
   "metadata": {},
   "outputs": [
    {
     "data": {
      "text/plain": [
       "{'storage rate (B/s)': array([  880818.45604992, 37373970.45294715])}"
      ]
     },
     "execution_count": 102,
     "metadata": {},
     "output_type": "execute_result"
    }
   ],
   "source": [
    "scc2.root_node.properties"
   ]
  },
  {
   "cell_type": "code",
   "execution_count": 103,
   "metadata": {},
   "outputs": [],
   "source": [
    "ap = scc2.get_all_node_properties()"
   ]
  },
  {
   "cell_type": "code",
   "execution_count": 104,
   "metadata": {},
   "outputs": [
    {
     "data": {
      "text/plain": [
       "{'resolution (n,n)': (6000, 4000, 8),\n",
       " 'sample rate (Hz)': np.int64(1000),\n",
       " 'error matrix (2p, 2p)': array([[0.98055646, 0.17499203],\n",
       "        [0.01944354, 0.82500797]])}"
      ]
     },
     "execution_count": 104,
     "metadata": {},
     "output_type": "execute_result"
    }
   ],
   "source": [
    "scc2.get_node(\"Classify\").output_msg.properties"
   ]
  },
  {
   "cell_type": "code",
   "execution_count": 105,
   "metadata": {},
   "outputs": [
    {
     "data": {
      "text/plain": [
       "{'Classify': {'storage rate (B/s)': array([  880818.45604992, 37373970.45294715])},\n",
       " 'Merge/Convolve': {'conv ops (n)': np.int64(191712096000)},\n",
       " 'Image sensor': {'sensor power (W)': 24.0},\n",
       " 'Thermocouple': {'thermocouple power (W)': 0.001}}"
      ]
     },
     "execution_count": 105,
     "metadata": {},
     "output_type": "execute_result"
    }
   ],
   "source": [
    "ap"
   ]
  },
  {
   "cell_type": "code",
   "execution_count": 106,
   "metadata": {},
   "outputs": [],
   "source": [
    "#setup experiment\n",
    "#assume skill ~ 4 * log10(filters)"
   ]
  },
  {
   "cell_type": "code",
   "execution_count": 107,
   "metadata": {},
   "outputs": [
    {
     "data": {
      "text/plain": [
       "{'Classify': {'skill (1)': 3, 'variance (1)': 1, 'reduction (%)': 0.9},\n",
       " 'Merge/Convolve': {'kernel (n,n)': (3, 3), 'filters (n)': 8},\n",
       " 'Image sensor': {'resolution (n,n)': (6000, 4000),\n",
       "  'bit depth (n)': 8,\n",
       "  'sample rate (Hz)': 1000,\n",
       "  'pixel energy (J)': 1e-06},\n",
       " 'Thermocouple': {'temperature bitdepth (n)': 8,\n",
       "  'sample rate (Hz)': 1200,\n",
       "  'thermocouple power (W)': 0.001}}"
      ]
     },
     "execution_count": 107,
     "metadata": {},
     "output_type": "execute_result"
    }
   ],
   "source": [
    "scc2.get_all_node_parameters()"
   ]
  },
  {
   "cell_type": "code",
   "execution_count": 108,
   "metadata": {},
   "outputs": [],
   "source": [
    "n_filters = np.arange(1,10)\n",
    "skills = 4 * np.log10(n_filters)"
   ]
  },
  {
   "cell_type": "code",
   "execution_count": 109,
   "metadata": {},
   "outputs": [
    {
     "data": {
      "text/plain": [
       "array([0.        , 1.20411998, 1.90848502, 2.40823997, 2.79588002,\n",
       "       3.112605  , 3.38039216, 3.61235995, 3.81697004])"
      ]
     },
     "execution_count": 109,
     "metadata": {},
     "output_type": "execute_result"
    }
   ],
   "source": [
    "skills"
   ]
  },
  {
   "cell_type": "code",
   "execution_count": null,
   "metadata": {},
   "outputs": [],
   "source": []
  },
  {
   "cell_type": "code",
   "execution_count": 110,
   "metadata": {},
   "outputs": [
    {
     "data": {
      "text/plain": [
       "{'image data (B)': np.float64(24000000.0),\n",
       " 'acquisition time (s)': 0.0,\n",
       " 'time (s)': 0.0,\n",
       " 'temperature data (B)': 1.0,\n",
       " 'features (B)': np.int64(21301344),\n",
       " 'contingency (2x2)': array([[882,  17],\n",
       "        [ 17,  82]]),\n",
       " 'total data (B)': np.float64(45301345.0)}"
      ]
     },
     "execution_count": 110,
     "metadata": {},
     "output_type": "execute_result"
    }
   ],
   "source": [
    "scc2.root_node.output_msg.fields"
   ]
  },
  {
   "cell_type": "code",
   "execution_count": 111,
   "metadata": {},
   "outputs": [
    {
     "data": {
      "text/plain": [
       "{'storage rate (B/s)': array([  880818.45604992, 37373970.45294715])}"
      ]
     },
     "execution_count": 111,
     "metadata": {},
     "output_type": "execute_result"
    }
   ],
   "source": [
    "scc2.root_node.properties"
   ]
  },
  {
   "cell_type": "code",
   "execution_count": 112,
   "metadata": {},
   "outputs": [],
   "source": [
    "def sweep_filters(filters: int, exg: ExecutionGraph):\n",
    "    new_skill = 4 * np.log10(filters)\n",
    "    new_params = {\"Classify\": {\"skill (1)\": new_skill},\n",
    "                  \"Merge/Convolve\": {\"filters (n)\": filters}}\n",
    "    new_exg = exg.with_updated_parameters(new_params)()\n",
    "    cont = new_exg.root_node.output_msg.fields[\"contingency (2x2)\"]\n",
    "    tn, fn = get_rejected(cont)\n",
    "    fp, tp = get_passed(cont)\n",
    "    f1 = (2 * tp) / (2 * tp + fp * fn)\n",
    "    power = new_exg.metric_values[0][\"power\"]\n",
    "    return power, f1"
   ]
  },
  {
   "cell_type": "code",
   "execution_count": 113,
   "metadata": {},
   "outputs": [
    {
     "data": {
      "text/plain": [
       "(np.float64(0.191712096), np.float64(0.6896551724137931))"
      ]
     },
     "execution_count": 113,
     "metadata": {},
     "output_type": "execute_result"
    }
   ],
   "source": [
    "sweep_filters(8, scc_graph)"
   ]
  },
  {
   "cell_type": "code",
   "execution_count": 114,
   "metadata": {},
   "outputs": [
    {
     "data": {
      "text/plain": [
       "(np.float64(0.215676108), np.float64(0.7896995708154506))"
      ]
     },
     "execution_count": 114,
     "metadata": {},
     "output_type": "execute_result"
    }
   ],
   "source": [
    "sweep_filters(9, scc_graph)"
   ]
  },
  {
   "cell_type": "code",
   "execution_count": 115,
   "metadata": {},
   "outputs": [],
   "source": [
    "filters = np.arange(1, 20)"
   ]
  },
  {
   "cell_type": "code",
   "execution_count": 116,
   "metadata": {},
   "outputs": [],
   "source": [
    "data = list(map(lambda x: sweep_filters(x, scc_graph), filters))"
   ]
  },
  {
   "cell_type": "code",
   "execution_count": 117,
   "metadata": {},
   "outputs": [],
   "source": [
    "stacked = np.array(data)"
   ]
  },
  {
   "cell_type": "code",
   "execution_count": 118,
   "metadata": {},
   "outputs": [],
   "source": [
    "import plotly.graph_objects as go"
   ]
  },
  {
   "cell_type": "code",
   "execution_count": 119,
   "metadata": {},
   "outputs": [
    {
     "data": {
      "application/vnd.plotly.v1+json": {
       "config": {
        "plotlyServerURL": "https://plot.ly"
       },
       "data": [
        {
         "line": {
          "color": "blue"
         },
         "mode": "lines",
         "name": "Power",
         "type": "scatter",
         "x": [
          1,
          2,
          3,
          4,
          5,
          6,
          7,
          8,
          9,
          10,
          11,
          12,
          13,
          14,
          15,
          16,
          17,
          18,
          19
         ],
         "y": [
          0.023964012,
          0.047928024,
          0.07189203599999999,
          0.095856048,
          0.11982005999999999,
          0.14378407199999999,
          0.167748084,
          0.191712096,
          0.215676108,
          0.23964011999999998,
          0.263604132,
          0.28756814399999997,
          0.311532156,
          0.335496168,
          0.35946018,
          0.383424192,
          0.407388204,
          0.431352216,
          0.455316228
         ]
        },
        {
         "line": {
          "color": "red"
         },
         "mode": "lines",
         "name": "F1 Score",
         "type": "scatter",
         "x": [
          1,
          2,
          3,
          4,
          5,
          6,
          7,
          8,
          9,
          10,
          11,
          12,
          13,
          14,
          15,
          16,
          17,
          18,
          19
         ],
         "y": [
          0.0024906600249066002,
          0.020015801948907033,
          0.06455203116304953,
          0.15334773218142547,
          0.2831541218637993,
          0.42748091603053434,
          0.5471698113207547,
          0.6896551724137931,
          0.7896995708154506,
          0.8378378378378378,
          0.8826291079812206,
          0.9223300970873787,
          0.9552238805970149,
          0.9552238805970149,
          0.9797979797979798,
          0.9797979797979798,
          0.9949238578680203,
          0.9949238578680203,
          0.9949238578680203
         ]
        }
       ],
       "layout": {
        "height": 600,
        "legend": {
         "title": {
          "text": "Metrics"
         }
        },
        "template": {
         "data": {
          "bar": [
           {
            "error_x": {
             "color": "#2a3f5f"
            },
            "error_y": {
             "color": "#2a3f5f"
            },
            "marker": {
             "line": {
              "color": "#E5ECF6",
              "width": 0.5
             },
             "pattern": {
              "fillmode": "overlay",
              "size": 10,
              "solidity": 0.2
             }
            },
            "type": "bar"
           }
          ],
          "barpolar": [
           {
            "marker": {
             "line": {
              "color": "#E5ECF6",
              "width": 0.5
             },
             "pattern": {
              "fillmode": "overlay",
              "size": 10,
              "solidity": 0.2
             }
            },
            "type": "barpolar"
           }
          ],
          "carpet": [
           {
            "aaxis": {
             "endlinecolor": "#2a3f5f",
             "gridcolor": "white",
             "linecolor": "white",
             "minorgridcolor": "white",
             "startlinecolor": "#2a3f5f"
            },
            "baxis": {
             "endlinecolor": "#2a3f5f",
             "gridcolor": "white",
             "linecolor": "white",
             "minorgridcolor": "white",
             "startlinecolor": "#2a3f5f"
            },
            "type": "carpet"
           }
          ],
          "choropleth": [
           {
            "colorbar": {
             "outlinewidth": 0,
             "ticks": ""
            },
            "type": "choropleth"
           }
          ],
          "contour": [
           {
            "colorbar": {
             "outlinewidth": 0,
             "ticks": ""
            },
            "colorscale": [
             [
              0,
              "#0d0887"
             ],
             [
              0.1111111111111111,
              "#46039f"
             ],
             [
              0.2222222222222222,
              "#7201a8"
             ],
             [
              0.3333333333333333,
              "#9c179e"
             ],
             [
              0.4444444444444444,
              "#bd3786"
             ],
             [
              0.5555555555555556,
              "#d8576b"
             ],
             [
              0.6666666666666666,
              "#ed7953"
             ],
             [
              0.7777777777777778,
              "#fb9f3a"
             ],
             [
              0.8888888888888888,
              "#fdca26"
             ],
             [
              1,
              "#f0f921"
             ]
            ],
            "type": "contour"
           }
          ],
          "contourcarpet": [
           {
            "colorbar": {
             "outlinewidth": 0,
             "ticks": ""
            },
            "type": "contourcarpet"
           }
          ],
          "heatmap": [
           {
            "colorbar": {
             "outlinewidth": 0,
             "ticks": ""
            },
            "colorscale": [
             [
              0,
              "#0d0887"
             ],
             [
              0.1111111111111111,
              "#46039f"
             ],
             [
              0.2222222222222222,
              "#7201a8"
             ],
             [
              0.3333333333333333,
              "#9c179e"
             ],
             [
              0.4444444444444444,
              "#bd3786"
             ],
             [
              0.5555555555555556,
              "#d8576b"
             ],
             [
              0.6666666666666666,
              "#ed7953"
             ],
             [
              0.7777777777777778,
              "#fb9f3a"
             ],
             [
              0.8888888888888888,
              "#fdca26"
             ],
             [
              1,
              "#f0f921"
             ]
            ],
            "type": "heatmap"
           }
          ],
          "heatmapgl": [
           {
            "colorbar": {
             "outlinewidth": 0,
             "ticks": ""
            },
            "colorscale": [
             [
              0,
              "#0d0887"
             ],
             [
              0.1111111111111111,
              "#46039f"
             ],
             [
              0.2222222222222222,
              "#7201a8"
             ],
             [
              0.3333333333333333,
              "#9c179e"
             ],
             [
              0.4444444444444444,
              "#bd3786"
             ],
             [
              0.5555555555555556,
              "#d8576b"
             ],
             [
              0.6666666666666666,
              "#ed7953"
             ],
             [
              0.7777777777777778,
              "#fb9f3a"
             ],
             [
              0.8888888888888888,
              "#fdca26"
             ],
             [
              1,
              "#f0f921"
             ]
            ],
            "type": "heatmapgl"
           }
          ],
          "histogram": [
           {
            "marker": {
             "pattern": {
              "fillmode": "overlay",
              "size": 10,
              "solidity": 0.2
             }
            },
            "type": "histogram"
           }
          ],
          "histogram2d": [
           {
            "colorbar": {
             "outlinewidth": 0,
             "ticks": ""
            },
            "colorscale": [
             [
              0,
              "#0d0887"
             ],
             [
              0.1111111111111111,
              "#46039f"
             ],
             [
              0.2222222222222222,
              "#7201a8"
             ],
             [
              0.3333333333333333,
              "#9c179e"
             ],
             [
              0.4444444444444444,
              "#bd3786"
             ],
             [
              0.5555555555555556,
              "#d8576b"
             ],
             [
              0.6666666666666666,
              "#ed7953"
             ],
             [
              0.7777777777777778,
              "#fb9f3a"
             ],
             [
              0.8888888888888888,
              "#fdca26"
             ],
             [
              1,
              "#f0f921"
             ]
            ],
            "type": "histogram2d"
           }
          ],
          "histogram2dcontour": [
           {
            "colorbar": {
             "outlinewidth": 0,
             "ticks": ""
            },
            "colorscale": [
             [
              0,
              "#0d0887"
             ],
             [
              0.1111111111111111,
              "#46039f"
             ],
             [
              0.2222222222222222,
              "#7201a8"
             ],
             [
              0.3333333333333333,
              "#9c179e"
             ],
             [
              0.4444444444444444,
              "#bd3786"
             ],
             [
              0.5555555555555556,
              "#d8576b"
             ],
             [
              0.6666666666666666,
              "#ed7953"
             ],
             [
              0.7777777777777778,
              "#fb9f3a"
             ],
             [
              0.8888888888888888,
              "#fdca26"
             ],
             [
              1,
              "#f0f921"
             ]
            ],
            "type": "histogram2dcontour"
           }
          ],
          "mesh3d": [
           {
            "colorbar": {
             "outlinewidth": 0,
             "ticks": ""
            },
            "type": "mesh3d"
           }
          ],
          "parcoords": [
           {
            "line": {
             "colorbar": {
              "outlinewidth": 0,
              "ticks": ""
             }
            },
            "type": "parcoords"
           }
          ],
          "pie": [
           {
            "automargin": true,
            "type": "pie"
           }
          ],
          "scatter": [
           {
            "fillpattern": {
             "fillmode": "overlay",
             "size": 10,
             "solidity": 0.2
            },
            "type": "scatter"
           }
          ],
          "scatter3d": [
           {
            "line": {
             "colorbar": {
              "outlinewidth": 0,
              "ticks": ""
             }
            },
            "marker": {
             "colorbar": {
              "outlinewidth": 0,
              "ticks": ""
             }
            },
            "type": "scatter3d"
           }
          ],
          "scattercarpet": [
           {
            "marker": {
             "colorbar": {
              "outlinewidth": 0,
              "ticks": ""
             }
            },
            "type": "scattercarpet"
           }
          ],
          "scattergeo": [
           {
            "marker": {
             "colorbar": {
              "outlinewidth": 0,
              "ticks": ""
             }
            },
            "type": "scattergeo"
           }
          ],
          "scattergl": [
           {
            "marker": {
             "colorbar": {
              "outlinewidth": 0,
              "ticks": ""
             }
            },
            "type": "scattergl"
           }
          ],
          "scattermapbox": [
           {
            "marker": {
             "colorbar": {
              "outlinewidth": 0,
              "ticks": ""
             }
            },
            "type": "scattermapbox"
           }
          ],
          "scatterpolar": [
           {
            "marker": {
             "colorbar": {
              "outlinewidth": 0,
              "ticks": ""
             }
            },
            "type": "scatterpolar"
           }
          ],
          "scatterpolargl": [
           {
            "marker": {
             "colorbar": {
              "outlinewidth": 0,
              "ticks": ""
             }
            },
            "type": "scatterpolargl"
           }
          ],
          "scatterternary": [
           {
            "marker": {
             "colorbar": {
              "outlinewidth": 0,
              "ticks": ""
             }
            },
            "type": "scatterternary"
           }
          ],
          "surface": [
           {
            "colorbar": {
             "outlinewidth": 0,
             "ticks": ""
            },
            "colorscale": [
             [
              0,
              "#0d0887"
             ],
             [
              0.1111111111111111,
              "#46039f"
             ],
             [
              0.2222222222222222,
              "#7201a8"
             ],
             [
              0.3333333333333333,
              "#9c179e"
             ],
             [
              0.4444444444444444,
              "#bd3786"
             ],
             [
              0.5555555555555556,
              "#d8576b"
             ],
             [
              0.6666666666666666,
              "#ed7953"
             ],
             [
              0.7777777777777778,
              "#fb9f3a"
             ],
             [
              0.8888888888888888,
              "#fdca26"
             ],
             [
              1,
              "#f0f921"
             ]
            ],
            "type": "surface"
           }
          ],
          "table": [
           {
            "cells": {
             "fill": {
              "color": "#EBF0F8"
             },
             "line": {
              "color": "white"
             }
            },
            "header": {
             "fill": {
              "color": "#C8D4E3"
             },
             "line": {
              "color": "white"
             }
            },
            "type": "table"
           }
          ]
         },
         "layout": {
          "annotationdefaults": {
           "arrowcolor": "#2a3f5f",
           "arrowhead": 0,
           "arrowwidth": 1
          },
          "autotypenumbers": "strict",
          "coloraxis": {
           "colorbar": {
            "outlinewidth": 0,
            "ticks": ""
           }
          },
          "colorscale": {
           "diverging": [
            [
             0,
             "#8e0152"
            ],
            [
             0.1,
             "#c51b7d"
            ],
            [
             0.2,
             "#de77ae"
            ],
            [
             0.3,
             "#f1b6da"
            ],
            [
             0.4,
             "#fde0ef"
            ],
            [
             0.5,
             "#f7f7f7"
            ],
            [
             0.6,
             "#e6f5d0"
            ],
            [
             0.7,
             "#b8e186"
            ],
            [
             0.8,
             "#7fbc41"
            ],
            [
             0.9,
             "#4d9221"
            ],
            [
             1,
             "#276419"
            ]
           ],
           "sequential": [
            [
             0,
             "#0d0887"
            ],
            [
             0.1111111111111111,
             "#46039f"
            ],
            [
             0.2222222222222222,
             "#7201a8"
            ],
            [
             0.3333333333333333,
             "#9c179e"
            ],
            [
             0.4444444444444444,
             "#bd3786"
            ],
            [
             0.5555555555555556,
             "#d8576b"
            ],
            [
             0.6666666666666666,
             "#ed7953"
            ],
            [
             0.7777777777777778,
             "#fb9f3a"
            ],
            [
             0.8888888888888888,
             "#fdca26"
            ],
            [
             1,
             "#f0f921"
            ]
           ],
           "sequentialminus": [
            [
             0,
             "#0d0887"
            ],
            [
             0.1111111111111111,
             "#46039f"
            ],
            [
             0.2222222222222222,
             "#7201a8"
            ],
            [
             0.3333333333333333,
             "#9c179e"
            ],
            [
             0.4444444444444444,
             "#bd3786"
            ],
            [
             0.5555555555555556,
             "#d8576b"
            ],
            [
             0.6666666666666666,
             "#ed7953"
            ],
            [
             0.7777777777777778,
             "#fb9f3a"
            ],
            [
             0.8888888888888888,
             "#fdca26"
            ],
            [
             1,
             "#f0f921"
            ]
           ]
          },
          "colorway": [
           "#636efa",
           "#EF553B",
           "#00cc96",
           "#ab63fa",
           "#FFA15A",
           "#19d3f3",
           "#FF6692",
           "#B6E880",
           "#FF97FF",
           "#FECB52"
          ],
          "font": {
           "color": "#2a3f5f"
          },
          "geo": {
           "bgcolor": "white",
           "lakecolor": "white",
           "landcolor": "#E5ECF6",
           "showlakes": true,
           "showland": true,
           "subunitcolor": "white"
          },
          "hoverlabel": {
           "align": "left"
          },
          "hovermode": "closest",
          "mapbox": {
           "style": "light"
          },
          "paper_bgcolor": "white",
          "plot_bgcolor": "#E5ECF6",
          "polar": {
           "angularaxis": {
            "gridcolor": "white",
            "linecolor": "white",
            "ticks": ""
           },
           "bgcolor": "#E5ECF6",
           "radialaxis": {
            "gridcolor": "white",
            "linecolor": "white",
            "ticks": ""
           }
          },
          "scene": {
           "xaxis": {
            "backgroundcolor": "#E5ECF6",
            "gridcolor": "white",
            "gridwidth": 2,
            "linecolor": "white",
            "showbackground": true,
            "ticks": "",
            "zerolinecolor": "white"
           },
           "yaxis": {
            "backgroundcolor": "#E5ECF6",
            "gridcolor": "white",
            "gridwidth": 2,
            "linecolor": "white",
            "showbackground": true,
            "ticks": "",
            "zerolinecolor": "white"
           },
           "zaxis": {
            "backgroundcolor": "#E5ECF6",
            "gridcolor": "white",
            "gridwidth": 2,
            "linecolor": "white",
            "showbackground": true,
            "ticks": "",
            "zerolinecolor": "white"
           }
          },
          "shapedefaults": {
           "line": {
            "color": "#2a3f5f"
           }
          },
          "ternary": {
           "aaxis": {
            "gridcolor": "white",
            "linecolor": "white",
            "ticks": ""
           },
           "baxis": {
            "gridcolor": "white",
            "linecolor": "white",
            "ticks": ""
           },
           "bgcolor": "#E5ECF6",
           "caxis": {
            "gridcolor": "white",
            "linecolor": "white",
            "ticks": ""
           }
          },
          "title": {
           "x": 0.05
          },
          "xaxis": {
           "automargin": true,
           "gridcolor": "white",
           "linecolor": "white",
           "ticks": "",
           "title": {
            "standoff": 15
           },
           "zerolinecolor": "white",
           "zerolinewidth": 2
          },
          "yaxis": {
           "automargin": true,
           "gridcolor": "white",
           "linecolor": "white",
           "ticks": "",
           "title": {
            "standoff": 15
           },
           "zerolinecolor": "white",
           "zerolinewidth": 2
          }
         }
        },
        "title": {
         "text": "Power and F1 Score By Convolution Filters"
        },
        "width": 800,
        "xaxis": {
         "title": {
          "text": "Filters"
         }
        },
        "yaxis": {
         "title": {
          "text": "Power (W) / Score"
         }
        }
       }
      }
     },
     "metadata": {},
     "output_type": "display_data"
    }
   ],
   "source": [
    "fig = go.Figure()\n",
    "\n",
    "# Add Power trace\n",
    "fig.add_trace(go.Scatter(\n",
    "    x=filters,\n",
    "    y=stacked[:,0],\n",
    "    mode='lines',\n",
    "    name='Power',\n",
    "    line=dict(color='blue')\n",
    "))\n",
    "\n",
    "# Add F1 Score trace\n",
    "fig.add_trace(go.Scatter(\n",
    "    x=filters,\n",
    "    y=stacked[:,1],\n",
    "    mode='lines',\n",
    "    name='F1 Score',\n",
    "    line=dict(color='red')\n",
    "))\n",
    "\n",
    "# Update layout\n",
    "fig.update_layout(\n",
    "    title_text='Power and F1 Score By Convolution Filters',\n",
    "    xaxis_title='Filters',\n",
    "    yaxis_title='Power (W) / Score',\n",
    "    legend_title_text='Metrics',\n",
    "    width = 800,\n",
    "    height = 600\n",
    ")\n",
    "\n",
    "fig"
   ]
  },
  {
   "cell_type": "code",
   "execution_count": null,
   "metadata": {},
   "outputs": [],
   "source": []
  }
 ],
 "metadata": {
  "kernelspec": {
   "display_name": "systemflow",
   "language": "python",
   "name": "python3"
  },
  "language_info": {
   "codemirror_mode": {
    "name": "ipython",
    "version": 3
   },
   "file_extension": ".py",
   "mimetype": "text/x-python",
   "name": "python",
   "nbconvert_exporter": "python",
   "pygments_lexer": "ipython3",
   "version": "3.10.15"
  }
 },
 "nbformat": 4,
 "nbformat_minor": 2
}
