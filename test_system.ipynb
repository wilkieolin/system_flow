{
 "cells": [
  {
   "cell_type": "code",
   "execution_count": 1,
   "metadata": {},
   "outputs": [],
   "source": [
    "from graph import *"
   ]
  },
  {
   "cell_type": "code",
   "execution_count": 2,
   "metadata": {},
   "outputs": [],
   "source": [
    "import matplotlib.pyplot as plt\n",
    "from scipy.optimize import curve_fit\n",
    "import plotly.graph_objects as go"
   ]
  },
  {
   "cell_type": "code",
   "execution_count": 3,
   "metadata": {},
   "outputs": [],
   "source": [
    "g = graph_from_spreadsheet(\"test_system.xlsx\", functions={})"
   ]
  },
  {
   "cell_type": "code",
   "execution_count": 4,
   "metadata": {},
   "outputs": [
    {
     "data": {
      "text/plain": [
       "NodeView(('Detector', 'Sensors', 'Level1', 'Level2', 'Level3', 'Disk'))"
      ]
     },
     "execution_count": 4,
     "metadata": {},
     "output_type": "execute_result"
    }
   ],
   "source": [
    "g.nodes"
   ]
  },
  {
   "cell_type": "code",
   "execution_count": 5,
   "metadata": {},
   "outputs": [
    {
     "data": {
      "text/plain": [
       "{'globals':    Year\n",
       " 0  1992,\n",
       " 'Root Node': 'Disk',\n",
       " 'link power': 0.5057249999293008,\n",
       " 'op power': 179999999.98252213,\n",
       " 'performance': array([[9.84114051e+02, 2.60949433e-01],\n",
       "        [2.60949379e-01, 1.53640506e+01]])}"
      ]
     },
     "execution_count": 5,
     "metadata": {},
     "output_type": "execute_result"
    }
   ],
   "source": [
    "g.graph"
   ]
  },
  {
   "cell_type": "code",
   "execution_count": 6,
   "metadata": {},
   "outputs": [
    {
     "data": {
      "text/plain": [
       "{'sample data': 1000000,\n",
       " 'sample rate': 1000,\n",
       " 'type': 'detector',\n",
       " 'op efficiency': 0,\n",
       " 'classifier': <statistics.DummyClassifier at 0x12fa5b550>,\n",
       " 'error matrix': array([[0., 0.],\n",
       "        [1., 1.]]),\n",
       " 'rejection ratio': 1.0,\n",
       " 'data reduction': 1.0,\n",
       " 'complexity': <function graph.detectors.<locals>.<lambda>(x)>,\n",
       " 'global ratio': 64.0,\n",
       " 'message size': 1000000,\n",
       " 'ops': 1000000,\n",
       " 'input rate': 1000,\n",
       " 'output rate': 1000,\n",
       " 'contingency': array([[  0.   ,   0.   ],\n",
       "        [984.375,  15.625]]),\n",
       " 'discards': array([0., 0.]),\n",
       " 'energy': 0,\n",
       " 'power': 0}"
      ]
     },
     "execution_count": 6,
     "metadata": {},
     "output_type": "execute_result"
    }
   ],
   "source": [
    "g.nodes[\"Detector\"]"
   ]
  },
  {
   "cell_type": "code",
   "execution_count": 7,
   "metadata": {},
   "outputs": [
    {
     "data": {
      "text/plain": [
       "{'classifier properties': [1, 0, 1],\n",
       " 'type': 'processor',\n",
       " 'rejection ratio': 1,\n",
       " 'data reduction': 1.0,\n",
       " 'op efficiency': 0.0,\n",
       " 'sample data': 0,\n",
       " 'complexity': <function graph.triggers.<locals>.<lambda>(x)>,\n",
       " 'global ratio': 64,\n",
       " 'message size': 1000000.0,\n",
       " 'ops': 1000000.0,\n",
       " 'input rate': 1000.0,\n",
       " 'classifier': <statistics.Classifier at 0x12fa6e650>,\n",
       " 'error matrix': array([[0., 0.],\n",
       "        [1., 1.]]),\n",
       " 'contingency': array([[  0.   ,   0.   ],\n",
       "        [984.375,  15.625]]),\n",
       " 'discards': array([0., 0.]),\n",
       " 'output rate': 1000.0,\n",
       " 'energy': 0.0,\n",
       " 'power': 0.0}"
      ]
     },
     "execution_count": 7,
     "metadata": {},
     "output_type": "execute_result"
    }
   ],
   "source": [
    "g.nodes[\"Sensors\"]"
   ]
  },
  {
   "cell_type": "code",
   "execution_count": 8,
   "metadata": {},
   "outputs": [
    {
     "data": {
      "text/plain": [
       "{'classifier properties': [2, 3, 1],\n",
       " 'type': 'processor',\n",
       " 'rejection ratio': 2,\n",
       " 'data reduction': 1.0,\n",
       " 'op efficiency': 0.03,\n",
       " 'sample data': 0,\n",
       " 'complexity': <function graph.triggers.<locals>.<lambda>(x)>,\n",
       " 'global ratio': 64,\n",
       " 'message size': 1000000.0,\n",
       " 'ops': 1000000.0,\n",
       " 'input rate': 1000.0,\n",
       " 'classifier': <statistics.Classifier at 0x12fa6e800>,\n",
       " 'error matrix': array([[0.50791364, 0.00144048],\n",
       "        [0.49208636, 0.99855952]]),\n",
       " 'contingency': array([[4.99977493e+02, 2.25074883e-02],\n",
       "        [4.84397507e+02, 1.56024925e+01]]),\n",
       " 'discards': array([4.99977493e+02, 2.25074883e-02]),\n",
       " 'output rate': 499.9999999417404,\n",
       " 'energy': 30000.0,\n",
       " 'power': 30000000.0}"
      ]
     },
     "execution_count": 8,
     "metadata": {},
     "output_type": "execute_result"
    }
   ],
   "source": [
    "g.nodes[\"Level1\"]"
   ]
  },
  {
   "cell_type": "code",
   "execution_count": null,
   "metadata": {},
   "outputs": [],
   "source": []
  },
  {
   "cell_type": "code",
   "execution_count": 9,
   "metadata": {},
   "outputs": [
    {
     "data": {
      "text/plain": [
       "array([[0.50791364, 0.00144048],\n",
       "       [0.49208636, 0.99855952]])"
      ]
     },
     "execution_count": 9,
     "metadata": {},
     "output_type": "execute_result"
    }
   ],
   "source": [
    "g.nodes[\"Level1\"][\"classifier\"].error_matrix"
   ]
  },
  {
   "cell_type": "code",
   "execution_count": 10,
   "metadata": {},
   "outputs": [
    {
     "data": {
      "text/plain": [
       "{'classifier properties': [4, 4, 1],\n",
       " 'type': 'processor',\n",
       " 'rejection ratio': 4,\n",
       " 'data reduction': 1.0,\n",
       " 'op efficiency': 0.3,\n",
       " 'sample data': 0,\n",
       " 'complexity': <function graph.triggers.<locals>.<lambda>(x)>,\n",
       " 'global ratio': 32,\n",
       " 'message size': 1000000.0,\n",
       " 'ops': 1000000.0,\n",
       " 'input rate': 499.9999999417404,\n",
       " 'classifier': <statistics.Classifier at 0x12fa5b5e0>,\n",
       " 'error matrix': array([[7.74138823e-01, 5.82213866e-04],\n",
       "        [2.25861177e-01, 9.99417786e-01]]),\n",
       " 'contingency': array([[3.74990916e+02, 9.08398748e-03],\n",
       "        [1.09406591e+02, 1.55934085e+01]]),\n",
       " 'discards': array([3.74990916e+02, 9.08398748e-03]),\n",
       " 'output rate': 124.9999997587255,\n",
       " 'energy': 300000.0,\n",
       " 'power': 149999999.98252213}"
      ]
     },
     "execution_count": 10,
     "metadata": {},
     "output_type": "execute_result"
    }
   ],
   "source": [
    "g.nodes[\"Level2\"]"
   ]
  },
  {
   "cell_type": "code",
   "execution_count": 11,
   "metadata": {},
   "outputs": [
    {
     "data": {
      "text/plain": [
       "{'classifier properties': [8, 5, 1],\n",
       " 'type': 'processor',\n",
       " 'rejection ratio': 8,\n",
       " 'data reduction': 1.0,\n",
       " 'op efficiency': 0.0,\n",
       " 'sample data': 0,\n",
       " 'complexity': <function graph.triggers.<locals>.<lambda>(x)>,\n",
       " 'global ratio': 8,\n",
       " 'message size': 1000000.0,\n",
       " 'ops': 1000000.0,\n",
       " 'input rate': 124.9999997587255,\n",
       " 'classifier': <statistics.Classifier at 0x12fa5b4c0>,\n",
       " 'error matrix': array([[0.99761487, 0.01470865],\n",
       "        [0.00238513, 0.98529135]]),\n",
       " 'contingency': array([[109.14564186,   0.22935796],\n",
       "        [  0.26094938,  15.36405057]]),\n",
       " 'discards': array([109.14564186,   0.22935796]),\n",
       " 'output rate': 15.624999946037715,\n",
       " 'energy': 0.0,\n",
       " 'power': 0.0}"
      ]
     },
     "execution_count": 11,
     "metadata": {},
     "output_type": "execute_result"
    }
   ],
   "source": [
    "g.nodes[\"Level3\"]"
   ]
  },
  {
   "cell_type": "code",
   "execution_count": 12,
   "metadata": {},
   "outputs": [
    {
     "data": {
      "text/plain": [
       "{'link efficiency': 2.5e-11,\n",
       " 'statistics': array([484.39750743,  15.60249251]),\n",
       " 'message size': 1000000.0,\n",
       " 'throughput': 499999999.9417404,\n",
       " 'energy': 0.0002,\n",
       " 'power': 0.09999999998834808}"
      ]
     },
     "execution_count": 12,
     "metadata": {},
     "output_type": "execute_result"
    }
   ],
   "source": [
    "g.edges[(\"Level1\", \"Level2\")]"
   ]
  },
  {
   "cell_type": "code",
   "execution_count": 13,
   "metadata": {},
   "outputs": [
    {
     "data": {
      "text/plain": [
       "{'globals':    Year\n",
       " 0  1992,\n",
       " 'Root Node': 'Disk',\n",
       " 'link power': 0.5057249999293008,\n",
       " 'op power': 179999999.98252213,\n",
       " 'performance': array([[9.84114051e+02, 2.60949433e-01],\n",
       "        [2.60949379e-01, 1.53640506e+01]])}"
      ]
     },
     "execution_count": 13,
     "metadata": {},
     "output_type": "execute_result"
    }
   ],
   "source": [
    "g.graph"
   ]
  },
  {
   "cell_type": "code",
   "execution_count": 14,
   "metadata": {},
   "outputs": [],
   "source": [
    "from metrics import *"
   ]
  },
  {
   "cell_type": "code",
   "execution_count": 15,
   "metadata": {},
   "outputs": [
    {
     "data": {
      "text/plain": [
       "0.9832992362597975"
      ]
     },
     "execution_count": 15,
     "metadata": {},
     "output_type": "execute_result"
    }
   ],
   "source": [
    "recall(g.graph[\"performance\"])"
   ]
  },
  {
   "cell_type": "code",
   "execution_count": 16,
   "metadata": {},
   "outputs": [],
   "source": [
    "detectors, triggers, globals = dataframes_from_spreadsheet(\"test_system.xlsx\")"
   ]
  },
  {
   "cell_type": "code",
   "execution_count": 17,
   "metadata": {},
   "outputs": [
    {
     "data": {
      "text/html": [
       "<div>\n",
       "<style scoped>\n",
       "    .dataframe tbody tr th:only-of-type {\n",
       "        vertical-align: middle;\n",
       "    }\n",
       "\n",
       "    .dataframe tbody tr th {\n",
       "        vertical-align: top;\n",
       "    }\n",
       "\n",
       "    .dataframe thead th {\n",
       "        text-align: right;\n",
       "    }\n",
       "</style>\n",
       "<table border=\"1\" class=\"dataframe\">\n",
       "  <thead>\n",
       "    <tr style=\"text-align: right;\">\n",
       "      <th></th>\n",
       "      <th>Name</th>\n",
       "      <th>Output</th>\n",
       "      <th>Data (bytes)</th>\n",
       "      <th>Reduction</th>\n",
       "      <th>Skill mean</th>\n",
       "      <th>Skill variance</th>\n",
       "      <th>Link Efficiency (J/bit)</th>\n",
       "      <th>Op Efficiency (J/op)</th>\n",
       "      <th>Compression</th>\n",
       "    </tr>\n",
       "  </thead>\n",
       "  <tbody>\n",
       "    <tr>\n",
       "      <th>0</th>\n",
       "      <td>Sensors</td>\n",
       "      <td>Level1</td>\n",
       "      <td>0</td>\n",
       "      <td>1</td>\n",
       "      <td>0</td>\n",
       "      <td>1</td>\n",
       "      <td>2.500000e-11</td>\n",
       "      <td>0.00</td>\n",
       "      <td>0</td>\n",
       "    </tr>\n",
       "    <tr>\n",
       "      <th>1</th>\n",
       "      <td>Level1</td>\n",
       "      <td>Level2</td>\n",
       "      <td>0</td>\n",
       "      <td>2</td>\n",
       "      <td>3</td>\n",
       "      <td>1</td>\n",
       "      <td>2.500000e-11</td>\n",
       "      <td>0.03</td>\n",
       "      <td>0</td>\n",
       "    </tr>\n",
       "    <tr>\n",
       "      <th>2</th>\n",
       "      <td>Level2</td>\n",
       "      <td>Level3</td>\n",
       "      <td>0</td>\n",
       "      <td>4</td>\n",
       "      <td>4</td>\n",
       "      <td>1</td>\n",
       "      <td>2.500000e-11</td>\n",
       "      <td>0.30</td>\n",
       "      <td>0</td>\n",
       "    </tr>\n",
       "    <tr>\n",
       "      <th>3</th>\n",
       "      <td>Level3</td>\n",
       "      <td>Disk</td>\n",
       "      <td>0</td>\n",
       "      <td>8</td>\n",
       "      <td>5</td>\n",
       "      <td>1</td>\n",
       "      <td>2.500000e-11</td>\n",
       "      <td>0.00</td>\n",
       "      <td>0</td>\n",
       "    </tr>\n",
       "    <tr>\n",
       "      <th>4</th>\n",
       "      <td>Disk</td>\n",
       "      <td>NaN</td>\n",
       "      <td>0</td>\n",
       "      <td>1</td>\n",
       "      <td>0</td>\n",
       "      <td>1</td>\n",
       "      <td>2.500000e-11</td>\n",
       "      <td>0.00</td>\n",
       "      <td>0</td>\n",
       "    </tr>\n",
       "  </tbody>\n",
       "</table>\n",
       "</div>"
      ],
      "text/plain": [
       "      Name  Output  Data (bytes)  Reduction  Skill mean  Skill variance  \\\n",
       "0  Sensors  Level1             0          1           0               1   \n",
       "1   Level1  Level2             0          2           3               1   \n",
       "2   Level2  Level3             0          4           4               1   \n",
       "3   Level3    Disk             0          8           5               1   \n",
       "4     Disk     NaN             0          1           0               1   \n",
       "\n",
       "   Link Efficiency (J/bit)  Op Efficiency (J/op)  Compression  \n",
       "0             2.500000e-11                  0.00            0  \n",
       "1             2.500000e-11                  0.03            0  \n",
       "2             2.500000e-11                  0.30            0  \n",
       "3             2.500000e-11                  0.00            0  \n",
       "4             2.500000e-11                  0.00            0  "
      ]
     },
     "execution_count": 17,
     "metadata": {},
     "output_type": "execute_result"
    }
   ],
   "source": [
    "triggers"
   ]
  },
  {
   "cell_type": "code",
   "execution_count": 32,
   "metadata": {},
   "outputs": [],
   "source": [
    "def vary_lv1(reduction):\n",
    "    total_reduction = 2 * 4\n",
    "    t = triggers.copy()\n",
    "\n",
    "    t.at[1, \"Reduction\"] = total_reduction / reduction\n",
    "    t.at[2, \"Reduction\"] = reduction\n",
    "    g = construct_graph(detectors, t, globals, {})\n",
    "\n",
    "    power = g.graph[\"op power\"] + g.graph[\"link power\"]\n",
    "    r = recall(g.graph[\"performance\"])\n",
    "    \n",
    "    return (power, r)"
   ]
  },
  {
   "cell_type": "code",
   "execution_count": 33,
   "metadata": {},
   "outputs": [
    {
     "data": {
      "text/plain": [
       "(104999999.89612499, 0.9775326629621337)"
      ]
     },
     "execution_count": 33,
     "metadata": {},
     "output_type": "execute_result"
    }
   ],
   "source": [
    "vary_lv1(2)"
   ]
  },
  {
   "cell_type": "code",
   "execution_count": 39,
   "metadata": {},
   "outputs": [],
   "source": [
    "xs = np.linspace(2.0, 8.0, 51)"
   ]
  },
  {
   "cell_type": "code",
   "execution_count": 40,
   "metadata": {},
   "outputs": [],
   "source": [
    "res = [vary_lv1(x) for x in xs]"
   ]
  },
  {
   "cell_type": "code",
   "execution_count": 41,
   "metadata": {},
   "outputs": [],
   "source": [
    "res_p = np.array([r[0] for r in res])\n",
    "res_r = np.array([r[1] for r in res])"
   ]
  },
  {
   "cell_type": "code",
   "execution_count": 42,
   "metadata": {},
   "outputs": [
    {
     "data": {
      "text/plain": [
       "Text(0, 0.5, 'Power')"
      ]
     },
     "execution_count": 42,
     "metadata": {},
     "output_type": "execute_result"
    },
    {
     "data": {
      "image/png": "[encoded data removed]",
      "text/plain": [
       "<Figure size 640x480 with 1 Axes>"
      ]
     },
     "metadata": {},
     "output_type": "display_data"
    }
   ],
   "source": [
    "plt.plot(xs, res_p)\n",
    "plt.ylabel(\"Power\")"
   ]
  },
  {
   "cell_type": "code",
   "execution_count": 43,
   "metadata": {},
   "outputs": [
    {
     "data": {
      "text/plain": [
       "Text(0, 0.5, 'Recall')"
      ]
     },
     "execution_count": 43,
     "metadata": {},
     "output_type": "execute_result"
    },
    {
     "data": {
      "image/png": "[encoded data removed]",
      "text/plain": [
       "<Figure size 640x480 with 1 Axes>"
      ]
     },
     "metadata": {},
     "output_type": "display_data"
    }
   ],
   "source": [
    "plt.plot(xs, res_r)\n",
    "plt.ylabel(\"Recall\")"
   ]
  },
  {
   "cell_type": "code",
   "execution_count": null,
   "metadata": {},
   "outputs": [],
   "source": []
  }
 ],
 "metadata": {
  "kernelspec": {
   "display_name": "jax",
   "language": "python",
   "name": "python3"
  },
  "language_info": {
   "codemirror_mode": {
    "name": "ipython",
    "version": 3
   },
   "file_extension": ".py",
   "mimetype": "text/x-python",
   "name": "python",
   "nbconvert_exporter": "python",
   "pygments_lexer": "ipython3",
   "version": "3.10.4"
  }
 },
 "nbformat": 4,
 "nbformat_minor": 2
}
