{
 "cells": [
  {
   "cell_type": "code",
   "execution_count": 5,
   "metadata": {},
   "outputs": [],
   "source": [
    "import networkx as ntx"
   ]
  },
  {
   "cell_type": "code",
   "execution_count": null,
   "metadata": {},
   "outputs": [],
   "source": [
    "import sys\n",
    "from ruamel.yaml import YAML"
   ]
  },
  {
   "cell_type": "code",
   "execution_count": 57,
   "metadata": {},
   "outputs": [],
   "source": [
    "import numpy as np"
   ]
  },
  {
   "cell_type": "code",
   "execution_count": 39,
   "metadata": {},
   "outputs": [],
   "source": [
    "from abc import ABC, abstractmethod"
   ]
  },
  {
   "cell_type": "code",
   "execution_count": 29,
   "metadata": {},
   "outputs": [],
   "source": [
    "y = YAML()"
   ]
  },
  {
   "cell_type": "code",
   "execution_count": 7,
   "metadata": {},
   "outputs": [],
   "source": [
    "from collections import namedtuple"
   ]
  },
  {
   "cell_type": "code",
   "execution_count": 12,
   "metadata": {},
   "outputs": [],
   "source": [
    "System = namedtuple(\"System\", [\"producers\", \"components\", \"links\"])"
   ]
  },
  {
   "cell_type": "code",
   "execution_count": null,
   "metadata": {},
   "outputs": [],
   "source": [
    "Producer = namedtuple(\"Producer\", [\"messages\", \"state\"])"
   ]
  },
  {
   "cell_type": "code",
   "execution_count": null,
   "metadata": {},
   "outputs": [],
   "source": [
    "Component = namedtuple(\"Component\", [\"transforms\", \"decisions\", \"state\"])"
   ]
  },
  {
   "cell_type": "code",
   "execution_count": null,
   "metadata": {},
   "outputs": [],
   "source": [
    "Link = namedtuple(\"Link\", [\"transport\", \"state\"])"
   ]
  },
  {
   "cell_type": "code",
   "execution_count": null,
   "metadata": {},
   "outputs": [],
   "source": [
    "Message = namedtuple(\"Message\", [\"fields\", \"properties\"])"
   ]
  },
  {
   "cell_type": "code",
   "execution_count": 13,
   "metadata": {},
   "outputs": [],
   "source": [
    "blank_system = System([Producer([], []),],\n",
    "                       [Component([],[],[],[]),],\n",
    "                       [Link([], []),])"
   ]
  },
  {
   "cell_type": "code",
   "execution_count": 15,
   "metadata": {},
   "outputs": [
    {
     "data": {
      "text/plain": [
       "[Producer(fields=[], properties=[])]"
      ]
     },
     "execution_count": 15,
     "metadata": {},
     "output_type": "execute_result"
    }
   ],
   "source": [
    "blank_system.producers"
   ]
  },
  {
   "cell_type": "code",
   "execution_count": 16,
   "metadata": {},
   "outputs": [],
   "source": [
    "import pint"
   ]
  },
  {
   "cell_type": "code",
   "execution_count": 17,
   "metadata": {},
   "outputs": [],
   "source": [
    "ureg = pint.UnitRegistry()"
   ]
  },
  {
   "cell_type": "code",
   "execution_count": 19,
   "metadata": {},
   "outputs": [],
   "source": [
    "bps = 1e6 * ureg(\"byte/second\")"
   ]
  },
  {
   "cell_type": "code",
   "execution_count": 20,
   "metadata": {},
   "outputs": [],
   "source": [
    "time = 1e-3 * ureg.second"
   ]
  },
  {
   "cell_type": "code",
   "execution_count": 21,
   "metadata": {},
   "outputs": [],
   "source": [
    "data = bps * time"
   ]
  },
  {
   "cell_type": "code",
   "execution_count": 22,
   "metadata": {},
   "outputs": [
    {
     "data": {
      "text/html": [
       "1000.0 byte"
      ],
      "text/latex": [
       "$1000.0\\ \\mathrm{byte}$"
      ],
      "text/plain": [
       "<Quantity(1000.0, 'byte')>"
      ]
     },
     "execution_count": 22,
     "metadata": {},
     "output_type": "execute_result"
    }
   ],
   "source": [
    "data"
   ]
  },
  {
   "cell_type": "code",
   "execution_count": 25,
   "metadata": {},
   "outputs": [],
   "source": [
    "image_sensor = Producer({\"image data\": 1e6 * ureg.byte,\n",
    "                         \"sample rate\": 1e3 * ureg.Hz,},\n",
    "                        {\"x\": 0.0,\n",
    "                         \"y\": 0.0,})"
   ]
  },
  {
   "cell_type": "code",
   "execution_count": 27,
   "metadata": {},
   "outputs": [],
   "source": [
    "thermocouple = Producer({\"image data\": 1e6 * ureg.byte,\n",
    "                         \"sample rate\": 1e3 * ureg.Hz,},\n",
    "                         {})"
   ]
  },
  {
   "cell_type": "code",
   "execution_count": null,
   "metadata": {},
   "outputs": [],
   "source": [
    "merge = Component({\"merge\"})"
   ]
  },
  {
   "cell_type": "code",
   "execution_count": null,
   "metadata": {},
   "outputs": [],
   "source": [
    "blank_system = System([Producer([], []),],\n",
    "                       [Component([],[],[],[]),],\n",
    "                       [Link([], []),])"
   ]
  },
  {
   "cell_type": "code",
   "execution_count": 41,
   "metadata": {},
   "outputs": [],
   "source": [
    "from functools import reduce"
   ]
  },
  {
   "cell_type": "code",
   "execution_count": 47,
   "metadata": {},
   "outputs": [
    {
     "data": {
      "text/plain": [
       "True"
      ]
     },
     "execution_count": 47,
     "metadata": {},
     "output_type": "execute_result"
    }
   ],
   "source": [
    "\"image data\" in thermocouple.fields.keys()"
   ]
  },
  {
   "cell_type": "code",
   "execution_count": 63,
   "metadata": {},
   "outputs": [],
   "source": [
    "from typing import Callable"
   ]
  },
  {
   "cell_type": "code",
   "execution_count": 66,
   "metadata": {},
   "outputs": [],
   "source": [
    "\"\"\"\n",
    "Abstract class which defines the template for component transforms.\n",
    "These transforms take set input fields of incoming messages and create a new message field.\n",
    "These transforms can impart a set of properties (power consumption, etc) on the host component.\n",
    "\"\"\"\n",
    "class Transform(ABC):\n",
    "    def __init__(self, fields: list[str], properties: list[str], transform: Callable[..., list[dict, dict]]):\n",
    "        self.fields = fields\n",
    "        self.properties = properties\n",
    "        self.transform = transform\n",
    "\n",
    "    def __call__(self, messages: Message):\n",
    "        field_chk = np.all([f in messages.fields.keys() for f in self.fields])\n",
    "        assert field_chk, \"Transform's input field(s) not found in incoming messages\"\n",
    "\n",
    "        fields = [messages.fields[f] for f in self.fields]\n",
    "        new_fields, new_properties = self.transform(*fields)\n",
    "        return new_fields, new_properties\n",
    "\n"
   ]
  },
  {
   "cell_type": "code",
   "execution_count": 67,
   "metadata": {},
   "outputs": [],
   "source": [
    "class Convolve(Transform):\n",
    "    def __init__(self, fields, properties, kernel_x, kernel_y, filters):\n",
    "        def cross_corr(size: int):\n",
    "            x, y = np.sqrt(size)\n",
    "            ops = (x - kernel_x) * (y - kernel_y) * filters\n",
    "\n",
    "            properties = {\"operations\": ops,}\n",
    "            state = {}\n",
    "            return properties, state\n",
    "\n",
    "        super().__init__(fields, properties, cross_corr)"
   ]
  },
  {
   "cell_type": "code",
   "execution_count": null,
   "metadata": {},
   "outputs": [
    {
     "data": {
      "text/plain": [
       "<networkx.classes.digraph.DiGraph at 0x11d6dbe80>"
      ]
     },
     "execution_count": 6,
     "metadata": {},
     "output_type": "execute_result"
    }
   ],
   "source": [
    "ntx.DiGraph()"
   ]
  }
 ],
 "metadata": {
  "kernelspec": {
   "display_name": "systemflow",
   "language": "python",
   "name": "python3"
  },
  "language_info": {
   "codemirror_mode": {
    "name": "ipython",
    "version": 3
   },
   "file_extension": ".py",
   "mimetype": "text/x-python",
   "name": "python",
   "nbconvert_exporter": "python",
   "pygments_lexer": "ipython3",
   "version": "3.10.15"
  }
 },
 "nbformat": 4,
 "nbformat_minor": 2
}
