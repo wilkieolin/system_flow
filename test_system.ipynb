{
 "cells": [
  {
   "cell_type": "code",
   "execution_count": 1,
   "metadata": {},
   "outputs": [],
   "source": [
    "from graph import *"
   ]
  },
  {
   "cell_type": "code",
   "execution_count": 2,
   "metadata": {},
   "outputs": [],
   "source": [
    "import matplotlib.pyplot as plt\n",
    "from scipy.optimize import curve_fit\n",
    "import plotly.graph_objects as go"
   ]
  },
  {
   "cell_type": "code",
   "execution_count": 3,
   "metadata": {},
   "outputs": [],
   "source": [
    "g = graph_from_spreadsheet(\"test_system.xlsx\", functions={})"
   ]
  },
  {
   "cell_type": "code",
   "execution_count": 4,
   "metadata": {},
   "outputs": [
    {
     "data": {
      "text/plain": [
       "NodeView(('Detector', 'Sensors', 'Level1', 'Level2', 'Level3', 'Disk'))"
      ]
     },
     "execution_count": 4,
     "metadata": {},
     "output_type": "execute_result"
    }
   ],
   "source": [
    "g.nodes"
   ]
  },
  {
   "cell_type": "code",
   "execution_count": 5,
   "metadata": {},
   "outputs": [
    {
     "data": {
      "text/plain": [
       "{'globals':    Year\n",
       " 0  1992,\n",
       " 'Root Node': 'Disk'}"
      ]
     },
     "execution_count": 5,
     "metadata": {},
     "output_type": "execute_result"
    }
   ],
   "source": [
    "g.graph"
   ]
  },
  {
   "cell_type": "code",
   "execution_count": 6,
   "metadata": {},
   "outputs": [
    {
     "data": {
      "text/plain": [
       "{'sample data': 1000000,\n",
       " 'sample rate': 1000,\n",
       " 'type': 'detector',\n",
       " 'op efficiency': 0,\n",
       " 'classifier': <statistics.DummyClassifier at 0x16deeb430>,\n",
       " 'error matrix': array([[0., 0.],\n",
       "        [1., 1.]]),\n",
       " 'rejection ratio': 1.0,\n",
       " 'data reduction': 1.0,\n",
       " 'complexity': <function graph.detectors.<locals>.<lambda>(x)>,\n",
       " 'global ratio': 64.0,\n",
       " 'message size': 1000000,\n",
       " 'ops': 1000000,\n",
       " 'contingency': array([[  0.   ,   0.   ],\n",
       "        [984.375,  15.625]]),\n",
       " 'discards': array([0., 0.])}"
      ]
     },
     "execution_count": 6,
     "metadata": {},
     "output_type": "execute_result"
    }
   ],
   "source": [
    "g.nodes[\"Detector\"]"
   ]
  },
  {
   "cell_type": "code",
   "execution_count": 7,
   "metadata": {},
   "outputs": [
    {
     "data": {
      "text/plain": [
       "{'classifier properties': [1, 0, 1],\n",
       " 'type': 'processor',\n",
       " 'rejection ratio': 1,\n",
       " 'data reduction': 1.0,\n",
       " 'op efficiency': 0.0,\n",
       " 'sample data': 0,\n",
       " 'complexity': <function graph.triggers.<locals>.<lambda>(x)>,\n",
       " 'global ratio': 64,\n",
       " 'message size': 1000000.0,\n",
       " 'ops': 1000000.0,\n",
       " 'classifier': <statistics.Classifier at 0x28786aa10>,\n",
       " 'error matrix': array([[0., 0.],\n",
       "        [1., 1.]]),\n",
       " 'contingency': array([[  0.   ,   0.   ],\n",
       "        [984.375,  15.625]]),\n",
       " 'discards': array([0., 0.]),\n",
       " 'output rate': 1000.0}"
      ]
     },
     "execution_count": 7,
     "metadata": {},
     "output_type": "execute_result"
    }
   ],
   "source": [
    "g.nodes[\"Sensors\"]"
   ]
  },
  {
   "cell_type": "code",
   "execution_count": 8,
   "metadata": {},
   "outputs": [
    {
     "data": {
      "text/plain": [
       "{'classifier properties': [2, 3, 1],\n",
       " 'type': 'processor',\n",
       " 'rejection ratio': 2,\n",
       " 'data reduction': 1.0,\n",
       " 'op efficiency': 0.0,\n",
       " 'sample data': 0,\n",
       " 'complexity': <function graph.triggers.<locals>.<lambda>(x)>,\n",
       " 'global ratio': 64,\n",
       " 'message size': 1000000.0,\n",
       " 'ops': 1000000.0,\n",
       " 'classifier': <statistics.Classifier at 0x2878576d0>,\n",
       " 'error matrix': array([[0.50791364, 0.00144048],\n",
       "        [0.49208636, 0.99855952]]),\n",
       " 'contingency': array([[4.99977493e+02, 2.25074883e-02],\n",
       "        [4.84397507e+02, 1.56024925e+01]]),\n",
       " 'discards': array([4.99977493e+02, 2.25074883e-02]),\n",
       " 'output rate': 499.9999999417404}"
      ]
     },
     "execution_count": 8,
     "metadata": {},
     "output_type": "execute_result"
    }
   ],
   "source": [
    "g.nodes[\"Level1\"]"
   ]
  },
  {
   "cell_type": "code",
   "execution_count": null,
   "metadata": {},
   "outputs": [],
   "source": []
  },
  {
   "cell_type": "code",
   "execution_count": 9,
   "metadata": {},
   "outputs": [
    {
     "data": {
      "text/plain": [
       "array([[0.50791364, 0.00144048],\n",
       "       [0.49208636, 0.99855952]])"
      ]
     },
     "execution_count": 9,
     "metadata": {},
     "output_type": "execute_result"
    }
   ],
   "source": [
    "g.nodes[\"Level1\"][\"classifier\"].error_matrix"
   ]
  },
  {
   "cell_type": "code",
   "execution_count": 10,
   "metadata": {},
   "outputs": [
    {
     "data": {
      "text/plain": [
       "{'classifier properties': [4, 4, 1],\n",
       " 'type': 'processor',\n",
       " 'rejection ratio': 4,\n",
       " 'data reduction': 1.0,\n",
       " 'op efficiency': 0.0,\n",
       " 'sample data': 0,\n",
       " 'complexity': <function graph.triggers.<locals>.<lambda>(x)>,\n",
       " 'global ratio': 32,\n",
       " 'message size': 1000000.0,\n",
       " 'ops': 1000000.0,\n",
       " 'classifier': <statistics.Classifier at 0x2878577c0>,\n",
       " 'error matrix': array([[7.74138823e-01, 5.82213866e-04],\n",
       "        [2.25861177e-01, 9.99417786e-01]]),\n",
       " 'contingency': array([[3.74990916e+02, 9.08398748e-03],\n",
       "        [1.09406591e+02, 1.55934085e+01]]),\n",
       " 'discards': array([3.74990916e+02, 9.08398748e-03]),\n",
       " 'output rate': 124.9999997587255}"
      ]
     },
     "execution_count": 10,
     "metadata": {},
     "output_type": "execute_result"
    }
   ],
   "source": [
    "g.nodes[\"Level2\"]"
   ]
  },
  {
   "cell_type": "code",
   "execution_count": 11,
   "metadata": {},
   "outputs": [
    {
     "data": {
      "text/plain": [
       "{'classifier properties': [8, 4, 1],\n",
       " 'type': 'processor',\n",
       " 'rejection ratio': 8,\n",
       " 'data reduction': 1.0,\n",
       " 'op efficiency': 0.0,\n",
       " 'sample data': 0,\n",
       " 'complexity': <function graph.triggers.<locals>.<lambda>(x)>,\n",
       " 'global ratio': 8,\n",
       " 'message size': 1000000.0,\n",
       " 'ops': 1000000.0,\n",
       " 'classifier': <statistics.Classifier at 0x28786abc0>,\n",
       " 'error matrix': array([[0.99186002, 0.05508584],\n",
       "        [0.00813998, 0.94491416]]),\n",
       " 'contingency': array([[108.51602375,   0.85897602],\n",
       "        [  0.89056748,  14.73443251]]),\n",
       " 'discards': array([108.51602375,   0.85897602]),\n",
       " 'output rate': 15.624999986084179}"
      ]
     },
     "execution_count": 11,
     "metadata": {},
     "output_type": "execute_result"
    }
   ],
   "source": [
    "g.nodes[\"Level3\"]"
   ]
  },
  {
   "cell_type": "code",
   "execution_count": null,
   "metadata": {},
   "outputs": [],
   "source": []
  }
 ],
 "metadata": {
  "kernelspec": {
   "display_name": "jax",
   "language": "python",
   "name": "python3"
  },
  "language_info": {
   "codemirror_mode": {
    "name": "ipython",
    "version": 3
   },
   "file_extension": ".py",
   "mimetype": "text/x-python",
   "name": "python",
   "nbconvert_exporter": "python",
   "pygments_lexer": "ipython3",
   "version": "3.10.4"
  }
 },
 "nbformat": 4,
 "nbformat_minor": 2
}
