{
 "cells": [
  {
   "cell_type": "code",
   "execution_count": 1,
   "metadata": {},
   "outputs": [],
   "source": [
    "import networkx as nx\n",
    "import sys\n",
    "from ruamel.yaml import YAML\n",
    "import numpy as np\n",
    "from abc import ABC, abstractmethod\n",
    "from collections import namedtuple\n",
    "from copy import deepcopy\n",
    "from functools import reduce\n",
    "from typing import Callable, Any\n",
    "from itertools import accumulate"
   ]
  },
  {
   "cell_type": "code",
   "execution_count": 2,
   "metadata": {},
   "outputs": [],
   "source": [
    "from systemflow.node import *"
   ]
  },
  {
   "cell_type": "code",
   "execution_count": 3,
   "metadata": {},
   "outputs": [],
   "source": [
    "class CollectImage(Mutate):\n",
    "    def __init__(self, name: str = \"CollectImage\"):\n",
    "        fields = []\n",
    "        properties = []\n",
    "        parameters = [\"resolution x\", \"resolution y\", \"bit depth\"]\n",
    "        super().__init__(name, fields, properties, parameters)\n",
    "\n",
    "    def transform(self, message: Message, component: Component) -> tuple[dict, dict, dict]:\n",
    "        #access the required fields/properties/parameters\n",
    "        n_px_x = component.parameters[\"resolution x\"]\n",
    "        n_px_y = component.parameters[\"resolution y\"]\n",
    "        resolution = (n_px_x,\n",
    "                      n_px_y,\n",
    "                      component.parameters[\"bit depth\"],)\n",
    "        n_bytes = np.prod(resolution) / 8.0\n",
    "        sample_rate = component.parameters[\"sample rate\"]\n",
    "        time = 0.0\n",
    "        sensor_power = component.parameters[\"pixel energy\"] * n_px_x * n_px_y\n",
    "\n",
    "        #create the new fields in the message\n",
    "\n",
    "        msg_fields = {\"image data\": n_bytes,\n",
    "                  \"time\": time}\n",
    "        msg_props = {\"resolution\": resolution,\n",
    "                     \"sample rate\": sample_rate,}\n",
    "\n",
    "        #create the new properties in the host\n",
    "        host_props = {\"sensor power\": sensor_power,}\n",
    "\n",
    "        return msg_fields, msg_props, host_props\n",
    "       "
   ]
  },
  {
   "cell_type": "code",
   "execution_count": 4,
   "metadata": {},
   "outputs": [],
   "source": [
    "ci = CollectImage()"
   ]
  },
  {
   "cell_type": "code",
   "execution_count": 5,
   "metadata": {},
   "outputs": [],
   "source": [
    "ci_host = Component(\"Image sensor\",\n",
    "                    [CollectImage(),],\n",
    "                    {\"resolution x\": 6000,\n",
    "                     \"resolution y\": 4000,\n",
    "                     \"bit depth\": 8,\n",
    "                     \"sample rate\": 1000,\n",
    "                     \"pixel energy\": 1e-6,},\n",
    "                     {})"
   ]
  },
  {
   "cell_type": "code",
   "execution_count": 6,
   "metadata": {},
   "outputs": [],
   "source": [
    "msg0 = Message({}, {})"
   ]
  },
  {
   "cell_type": "code",
   "execution_count": 7,
   "metadata": {},
   "outputs": [
    {
     "data": {
      "text/plain": [
       "{'resolution x': 6000,\n",
       " 'resolution y': 4000,\n",
       " 'bit depth': 8,\n",
       " 'sample rate': 1000,\n",
       " 'pixel energy': 1e-06}"
      ]
     },
     "execution_count": 7,
     "metadata": {},
     "output_type": "execute_result"
    }
   ],
   "source": [
    "ci_host.parameters"
   ]
  },
  {
   "cell_type": "code",
   "execution_count": 8,
   "metadata": {},
   "outputs": [],
   "source": [
    "image_data, sensor_props = ci(msg0, ci_host)"
   ]
  },
  {
   "cell_type": "code",
   "execution_count": 9,
   "metadata": {},
   "outputs": [
    {
     "data": {
      "text/plain": [
       "Message(fields={'image data': np.float64(24000000.0), 'time': 0.0}, properties={'resolution': (6000, 4000, 8), 'sample rate': 1000})"
      ]
     },
     "execution_count": 9,
     "metadata": {},
     "output_type": "execute_result"
    }
   ],
   "source": [
    "image_data"
   ]
  },
  {
   "cell_type": "code",
   "execution_count": 10,
   "metadata": {},
   "outputs": [],
   "source": [
    "class CollectTemperature(Mutate):\n",
    "    def __init__(self, name: str = \"CollectTemperature\"):\n",
    "        fields = []\n",
    "        properties = []\n",
    "        parameters = [\"bit depth\", \"sample rate\", \"sensor power\"]\n",
    "        super().__init__(name, fields, properties, parameters)\n",
    "\n",
    "    def transform(self, message: Message, component: Component) -> tuple[dict, dict, dict]:\n",
    "        #access the required fields/properties/parameters\n",
    "        n_bytes = component.parameters[\"bit depth\"] / 8.0\n",
    "        sample_rate = component.parameters[\"sample rate\"]\n",
    "        time = 0.0\n",
    "        sensor_power = component.parameters[\"sensor power\"]\n",
    "\n",
    "        #create the new fields in the message\n",
    "        msg_fields = {\"temperature data\": n_bytes,\n",
    "                  \"time\": time}\n",
    "        msg_props = {\"sample rate\": sample_rate,}\n",
    "\n",
    "        #create the new properties in the host\n",
    "        host_props = {\"sensor power\": sensor_power,}\n",
    "\n",
    "        return msg_fields, msg_props, host_props\n",
    "       "
   ]
  },
  {
   "cell_type": "code",
   "execution_count": 11,
   "metadata": {},
   "outputs": [],
   "source": [
    "ct = CollectTemperature()"
   ]
  },
  {
   "cell_type": "code",
   "execution_count": 12,
   "metadata": {},
   "outputs": [],
   "source": [
    "ct_host = Component(\"Thermocouple\",\n",
    "                    [CollectTemperature(),],\n",
    "                    {\"bit depth\": 8,\n",
    "                     \"sample rate\": 1200,\n",
    "                     \"sensor power\": 1e-3,},\n",
    "                     {})"
   ]
  },
  {
   "cell_type": "code",
   "execution_count": 13,
   "metadata": {},
   "outputs": [
    {
     "data": {
      "text/plain": [
       "['bit depth', 'sample rate', 'sensor power']"
      ]
     },
     "execution_count": 13,
     "metadata": {},
     "output_type": "execute_result"
    }
   ],
   "source": [
    "ct.host_parameters"
   ]
  },
  {
   "cell_type": "code",
   "execution_count": 14,
   "metadata": {},
   "outputs": [],
   "source": [
    "temp_data, thermo_props = ct(msg0, ct_host)"
   ]
  },
  {
   "cell_type": "code",
   "execution_count": 15,
   "metadata": {},
   "outputs": [],
   "source": [
    "dm = OverwriteMerge()"
   ]
  },
  {
   "cell_type": "code",
   "execution_count": 16,
   "metadata": {},
   "outputs": [
    {
     "data": {
      "text/plain": [
       "Message(fields={}, properties={})"
      ]
     },
     "execution_count": 16,
     "metadata": {},
     "output_type": "execute_result"
    }
   ],
   "source": [
    "dm([msg0, msg0])"
   ]
  },
  {
   "cell_type": "code",
   "execution_count": 17,
   "metadata": {},
   "outputs": [],
   "source": [
    "msg1 = Message({\"spiciness\": 1000}, {\"seasoning\": \"hot sauce\"})\n",
    "msg2 = Message({\"spiciness\": 2}, {\"seasoning\": \"black pepper\", \"dish\": \"pasta\"}) "
   ]
  },
  {
   "cell_type": "code",
   "execution_count": 18,
   "metadata": {},
   "outputs": [
    {
     "data": {
      "text/plain": [
       "{'dish', 'seasoning', 'spiciness'}"
      ]
     },
     "execution_count": 18,
     "metadata": {},
     "output_type": "execute_result"
    }
   ],
   "source": [
    "set(msg2.fields.keys()).union(set(msg2.properties.keys()))"
   ]
  },
  {
   "cell_type": "code",
   "execution_count": 19,
   "metadata": {},
   "outputs": [
    {
     "name": "stdout",
     "output_type": "stream",
     "text": [
      "No merge provided for spiciness, taking first value\n",
      "No merge provided for seasoning, taking first value\n"
     ]
    },
    {
     "data": {
      "text/plain": [
       "Message(fields={'spiciness': 1000}, properties={'seasoning': 'hot sauce', 'dish': 'pasta'})"
      ]
     },
     "execution_count": 19,
     "metadata": {},
     "output_type": "execute_result"
    }
   ],
   "source": [
    "dm([msg1, msg2])"
   ]
  },
  {
   "cell_type": "code",
   "execution_count": 20,
   "metadata": {},
   "outputs": [],
   "source": [
    "class MaxSpicyMerge(Merge):\n",
    "    def __init__(self):\n",
    "        super().__init__({\"spiciness\": np.max,}, {\"seasoning\": lambda x: x[1]})\n",
    "    \n"
   ]
  },
  {
   "cell_type": "code",
   "execution_count": 21,
   "metadata": {},
   "outputs": [],
   "source": [
    "msm = MaxSpicyMerge()"
   ]
  },
  {
   "cell_type": "code",
   "execution_count": 22,
   "metadata": {},
   "outputs": [
    {
     "data": {
      "text/plain": [
       "Message(fields={'spiciness': np.int64(1000)}, properties={'seasoning': 'black pepper', 'dish': 'pasta'})"
      ]
     },
     "execution_count": 22,
     "metadata": {},
     "output_type": "execute_result"
    }
   ],
   "source": [
    "msm([msg1, msg2])"
   ]
  },
  {
   "cell_type": "code",
   "execution_count": 23,
   "metadata": {},
   "outputs": [
    {
     "data": {
      "text/plain": [
       "{'image data': np.float64(24000000.0), 'time': 0.0}"
      ]
     },
     "execution_count": 23,
     "metadata": {},
     "output_type": "execute_result"
    }
   ],
   "source": [
    "image_data.fields"
   ]
  },
  {
   "cell_type": "code",
   "execution_count": 24,
   "metadata": {},
   "outputs": [
    {
     "data": {
      "text/plain": [
       "{'temperature data': 1.0, 'time': 0.0}"
      ]
     },
     "execution_count": 24,
     "metadata": {},
     "output_type": "execute_result"
    }
   ],
   "source": [
    "temp_data.fields"
   ]
  },
  {
   "cell_type": "code",
   "execution_count": 25,
   "metadata": {},
   "outputs": [
    {
     "name": "stdout",
     "output_type": "stream",
     "text": [
      "No merge provided for time, taking first value\n",
      "No merge provided for sample rate, taking first value\n"
     ]
    },
    {
     "data": {
      "text/plain": [
       "Message(fields={'temperature data': 1.0, 'image data': np.float64(24000000.0), 'time': 0.0}, properties={'sample rate': 1000, 'resolution': (6000, 4000, 8)})"
      ]
     },
     "execution_count": 25,
     "metadata": {},
     "output_type": "execute_result"
    }
   ],
   "source": [
    "dm([image_data, temp_data])"
   ]
  },
  {
   "cell_type": "code",
   "execution_count": 26,
   "metadata": {},
   "outputs": [],
   "source": [
    "class RateMerge(Merge):\n",
    "    def __init__(self):\n",
    "        super().__init__({\"time\": np.min,}, {\"sample rate\": np.min})"
   ]
  },
  {
   "cell_type": "code",
   "execution_count": 27,
   "metadata": {},
   "outputs": [],
   "source": [
    "rm = RateMerge()"
   ]
  },
  {
   "cell_type": "code",
   "execution_count": 28,
   "metadata": {},
   "outputs": [
    {
     "data": {
      "text/plain": [
       "Message(fields={'temperature data': 1.0, 'image data': np.float64(24000000.0), 'time': np.float64(0.0)}, properties={'sample rate': np.int64(1000), 'resolution': (6000, 4000, 8)})"
      ]
     },
     "execution_count": 28,
     "metadata": {},
     "output_type": "execute_result"
    }
   ],
   "source": [
    "rm([image_data, temp_data])"
   ]
  },
  {
   "cell_type": "code",
   "execution_count": 29,
   "metadata": {},
   "outputs": [
    {
     "data": {
      "text/plain": [
       "True"
      ]
     },
     "execution_count": 29,
     "metadata": {},
     "output_type": "execute_result"
    }
   ],
   "source": [
    "\"data\" in \"image data\""
   ]
  },
  {
   "cell_type": "code",
   "execution_count": 30,
   "metadata": {},
   "outputs": [
    {
     "name": "stdout",
     "output_type": "stream",
     "text": [
      "spiciness 1000\n"
     ]
    }
   ],
   "source": [
    "for (key, value) in msg1.fields.items():\n",
    "    print(key, value)"
   ]
  },
  {
   "cell_type": "code",
   "execution_count": 31,
   "metadata": {},
   "outputs": [],
   "source": [
    "class DataRate(Mutate):\n",
    "    def __init__(self, name: str = \"DataRate\"):\n",
    "        msg_fields = []\n",
    "        msg_properties = []\n",
    "        host_parameters = []\n",
    "        super().__init__(name, msg_fields, msg_properties, host_parameters)\n",
    "\n",
    "    def transform(self, message: Message, component: Component):\n",
    "        total_data = 0.0\n",
    "        for (key, value) in message.fields.items():\n",
    "            if \"data\" in key and key != \"total data\":\n",
    "                total_data += value\n",
    "\n",
    "        new_msg_fields = {\"total data\": total_data}\n",
    "        return new_msg_fields, {}, {}"
   ]
  },
  {
   "cell_type": "code",
   "execution_count": 32,
   "metadata": {},
   "outputs": [],
   "source": [
    "class StorageRate(Mutate):\n",
    "    def __init__(self, name: str = \"StorageRate\"):\n",
    "        msg_fields = [\"total data\"]\n",
    "        msg_properties = [\"sample rate\"]\n",
    "        host_parameters = []\n",
    "        super().__init__(name, msg_fields, msg_properties, host_parameters)\n",
    "\n",
    "    def transform(self, message: Message, component: Component):\n",
    "        storage_rate = message.fields[\"total data\"] * message.properties[\"sample rate\"]\n",
    "        new_host_properties = {\"storage rate\": storage_rate}\n",
    "        return {}, {}, new_host_properties"
   ]
  },
  {
   "cell_type": "code",
   "execution_count": 33,
   "metadata": {},
   "outputs": [],
   "source": [
    "ms_host = Component(\"Merge/Store\", [DataRate(), StorageRate()], {}, {}, RateMerge())"
   ]
  },
  {
   "cell_type": "code",
   "execution_count": 34,
   "metadata": {},
   "outputs": [],
   "source": [
    "nodes = [ci_host, ct_host, ms_host]"
   ]
  },
  {
   "cell_type": "code",
   "execution_count": 35,
   "metadata": {},
   "outputs": [
    {
     "data": {
      "text/plain": [
       "['Image sensor', 'Thermocouple', 'Merge/Store']"
      ]
     },
     "execution_count": 35,
     "metadata": {},
     "output_type": "execute_result"
    }
   ],
   "source": [
    "[c.name for c in nodes]"
   ]
  },
  {
   "cell_type": "code",
   "execution_count": 36,
   "metadata": {},
   "outputs": [],
   "source": [
    "links = [DefaultLink(\"Image -> Merge/Store\",\n",
    "                     \"Image sensor\",\n",
    "                     \"Merge/Store\"),\n",
    "         DefaultLink(\"Thermocouple -> Merge/Store\", \"Thermocouple\", \"Merge/Store\"),]"
   ]
  },
  {
   "cell_type": "code",
   "execution_count": 37,
   "metadata": {},
   "outputs": [
    {
     "data": {
      "text/plain": [
       "[<systemflow.node.DefaultLink at 0x1079f6650>,\n",
       " <systemflow.node.DefaultLink at 0x1079f5960>]"
      ]
     },
     "execution_count": 37,
     "metadata": {},
     "output_type": "execute_result"
    }
   ],
   "source": [
    "links"
   ]
  },
  {
   "cell_type": "code",
   "execution_count": 38,
   "metadata": {},
   "outputs": [],
   "source": [
    "ms_graph = ExecutionGraph(\"Sense/Merge/Store\", nodes, links)"
   ]
  },
  {
   "cell_type": "code",
   "execution_count": 39,
   "metadata": {},
   "outputs": [
    {
     "data": {
      "text/plain": [
       "<systemflow.node.ExecutionGraph at 0x1079f56f0>"
      ]
     },
     "execution_count": 39,
     "metadata": {},
     "output_type": "execute_result"
    }
   ],
   "source": [
    "ms_graph"
   ]
  },
  {
   "cell_type": "code",
   "execution_count": 40,
   "metadata": {},
   "outputs": [
    {
     "data": {
      "text/plain": [
       "OutEdgeView([('Image sensor', 'Merge/Store'), ('Thermocouple', 'Merge/Store')])"
      ]
     },
     "execution_count": 40,
     "metadata": {},
     "output_type": "execute_result"
    }
   ],
   "source": [
    "ms_graph.graph.edges"
   ]
  },
  {
   "cell_type": "code",
   "execution_count": 41,
   "metadata": {},
   "outputs": [
    {
     "data": {
      "text/plain": [
       "<systemflow.node.Component at 0x1079f7be0>"
      ]
     },
     "execution_count": 41,
     "metadata": {},
     "output_type": "execute_result"
    }
   ],
   "source": [
    "ms_graph.graph.nodes[\"Merge/Store\"]['ref']"
   ]
  },
  {
   "cell_type": "code",
   "execution_count": 42,
   "metadata": {},
   "outputs": [
    {
     "data": {
      "text/plain": [
       "'Merge/Store'"
      ]
     },
     "execution_count": 42,
     "metadata": {},
     "output_type": "execute_result"
    }
   ],
   "source": [
    "ms_graph.root"
   ]
  },
  {
   "cell_type": "code",
   "execution_count": 43,
   "metadata": {},
   "outputs": [],
   "source": [
    "rp = ms_graph.get_predecessors(ms_graph.get_node(ms_graph.root))"
   ]
  },
  {
   "cell_type": "code",
   "execution_count": 44,
   "metadata": {},
   "outputs": [
    {
     "data": {
      "text/plain": [
       "[<systemflow.node.Component at 0x1079f7190>,\n",
       " <systemflow.node.Component at 0x1079f7b50>]"
      ]
     },
     "execution_count": 44,
     "metadata": {},
     "output_type": "execute_result"
    }
   ],
   "source": [
    "rp"
   ]
  },
  {
   "cell_type": "code",
   "execution_count": 45,
   "metadata": {},
   "outputs": [],
   "source": [
    "c1 = rp[0](ms_graph)"
   ]
  },
  {
   "cell_type": "code",
   "execution_count": 46,
   "metadata": {},
   "outputs": [
    {
     "data": {
      "text/plain": [
       "[]"
      ]
     },
     "execution_count": 46,
     "metadata": {},
     "output_type": "execute_result"
    }
   ],
   "source": [
    "c1[1]"
   ]
  },
  {
   "cell_type": "code",
   "execution_count": 47,
   "metadata": {},
   "outputs": [
    {
     "data": {
      "text/plain": [
       "Message(fields={'image data': np.float64(24000000.0), 'time': 0.0}, properties={'resolution': (6000, 4000, 8), 'sample rate': 1000})"
      ]
     },
     "execution_count": 47,
     "metadata": {},
     "output_type": "execute_result"
    }
   ],
   "source": [
    "c1[0].output_msg"
   ]
  },
  {
   "cell_type": "code",
   "execution_count": 48,
   "metadata": {},
   "outputs": [
    {
     "data": {
      "text/plain": [
       "{'sensor power': 24.0}"
      ]
     },
     "execution_count": 48,
     "metadata": {},
     "output_type": "execute_result"
    }
   ],
   "source": [
    "c1[0].properties"
   ]
  },
  {
   "cell_type": "code",
   "execution_count": 49,
   "metadata": {},
   "outputs": [],
   "source": [
    "c2 = rp[1](ms_graph)"
   ]
  },
  {
   "cell_type": "code",
   "execution_count": 50,
   "metadata": {},
   "outputs": [
    {
     "data": {
      "text/plain": [
       "Message(fields={'temperature data': 1.0, 'time': 0.0}, properties={'sample rate': 1200})"
      ]
     },
     "execution_count": 50,
     "metadata": {},
     "output_type": "execute_result"
    }
   ],
   "source": [
    "c2[0].output_msg"
   ]
  },
  {
   "cell_type": "code",
   "execution_count": 51,
   "metadata": {},
   "outputs": [
    {
     "data": {
      "text/plain": [
       "{'sensor power': 0.001}"
      ]
     },
     "execution_count": 51,
     "metadata": {},
     "output_type": "execute_result"
    }
   ],
   "source": [
    "c2[0].properties"
   ]
  },
  {
   "cell_type": "code",
   "execution_count": 52,
   "metadata": {},
   "outputs": [],
   "source": [
    "rn = ms_graph.get_node(ms_graph.root)"
   ]
  },
  {
   "cell_type": "code",
   "execution_count": 53,
   "metadata": {},
   "outputs": [],
   "source": [
    "im = rn.merge([c1[0].output_msg, c2[0].output_msg])"
   ]
  },
  {
   "cell_type": "code",
   "execution_count": 54,
   "metadata": {},
   "outputs": [
    {
     "data": {
      "text/plain": [
       "Message(fields={'temperature data': 1.0, 'image data': np.float64(24000000.0), 'time': np.float64(0.0)}, properties={'sample rate': np.int64(1000), 'resolution': (6000, 4000, 8)})"
      ]
     },
     "execution_count": 54,
     "metadata": {},
     "output_type": "execute_result"
    }
   ],
   "source": [
    "im"
   ]
  },
  {
   "cell_type": "code",
   "execution_count": 55,
   "metadata": {},
   "outputs": [
    {
     "data": {
      "text/plain": [
       "(<systemflow.node.Component at 0x1079f6fb0>,\n",
       " [(<systemflow.node.Component at 0x1079f6500>, []),\n",
       "  (<systemflow.node.Component at 0x1079f5f00>, [])])"
      ]
     },
     "execution_count": 55,
     "metadata": {},
     "output_type": "execute_result"
    }
   ],
   "source": [
    "rn(ms_graph)"
   ]
  },
  {
   "cell_type": "code",
   "execution_count": 56,
   "metadata": {},
   "outputs": [
    {
     "data": {
      "text/plain": [
       "[<systemflow.node.Component at 0x1079f5ab0>,\n",
       " <systemflow.node.Component at 0x1079f7dc0>,\n",
       " <systemflow.node.Component at 0x1079f5690>]"
      ]
     },
     "execution_count": 56,
     "metadata": {},
     "output_type": "execute_result"
    }
   ],
   "source": [
    "list(flatten(rn(ms_graph)))"
   ]
  },
  {
   "cell_type": "code",
   "execution_count": 57,
   "metadata": {},
   "outputs": [],
   "source": [
    "g2 = ms_graph()"
   ]
  },
  {
   "cell_type": "code",
   "execution_count": 58,
   "metadata": {},
   "outputs": [
    {
     "data": {
      "text/plain": [
       "1"
      ]
     },
     "execution_count": 58,
     "metadata": {},
     "output_type": "execute_result"
    }
   ],
   "source": [
    "g2.iteration"
   ]
  },
  {
   "cell_type": "code",
   "execution_count": 59,
   "metadata": {},
   "outputs": [],
   "source": [
    "class Convolve(Mutate):\n",
    "    def __init__(self, name: str = \"Convolve\"):\n",
    "        fields = []\n",
    "        properties = [\"resolution\"]\n",
    "        parameters = [\"kernel x\", \"kernel y\", \"filters\"]\n",
    "        super().__init__(name, fields, properties, parameters)\n",
    "\n",
    "    def transform(self, message: Message, component: Component):\n",
    "        #access the required fields/properties/parameters\n",
    "        res = message.properties[\"resolution\"]\n",
    "        kernel_x = component.parameters[\"kernel x\"]\n",
    "        kernel_y = component.parameters[\"kernel y\"]\n",
    "        filters = component.parameters[\"filters\"]\n",
    "\n",
    "        #calculate the number of ops required for the kernel\n",
    "        kernel_ops = kernel_x * kernel_y * filters\n",
    "        steps_x = (res[0] - kernel_x) // kernel_x\n",
    "        steps_y = (res[1] - kernel_y) // kernel_y\n",
    "        kernel_repeats = steps_x * steps_y\n",
    "\n",
    "        #calculate the number of ops required for the kernel\n",
    "        transform_operations = kernel_ops * kernel_repeats\n",
    "\n",
    "        msg_fields = {\"features\": np.prod((steps_x, steps_y, filters)),}\n",
    "        msg_properties = {}\n",
    "        component_properties = {\"transform operations\": transform_operations,}\n",
    "        \n",
    "\n",
    "        return msg_fields, msg_properties, component_properties\n",
    "       "
   ]
  },
  {
   "cell_type": "code",
   "execution_count": 60,
   "metadata": {},
   "outputs": [],
   "source": [
    "convolve_host = Component(\"Convolution\", [Convolve,], {\"kernel x\": 3, \"kernel y\": 3, \"filters\": 8}, {})"
   ]
  },
  {
   "cell_type": "code",
   "execution_count": 61,
   "metadata": {},
   "outputs": [],
   "source": [
    "cnv = Convolve()"
   ]
  },
  {
   "cell_type": "code",
   "execution_count": 62,
   "metadata": {},
   "outputs": [
    {
     "data": {
      "text/plain": [
       "'Merge/Store'"
      ]
     },
     "execution_count": 62,
     "metadata": {},
     "output_type": "execute_result"
    }
   ],
   "source": [
    "g2.nodes[0].name"
   ]
  },
  {
   "cell_type": "code",
   "execution_count": 63,
   "metadata": {},
   "outputs": [],
   "source": [
    "exp_msg = g2.nodes[0].output_msg"
   ]
  },
  {
   "cell_type": "code",
   "execution_count": 64,
   "metadata": {},
   "outputs": [
    {
     "data": {
      "text/plain": [
       "{'temperature data': 1.0,\n",
       " 'image data': np.float64(24000000.0),\n",
       " 'time': np.float64(0.0),\n",
       " 'total data': np.float64(24000001.0)}"
      ]
     },
     "execution_count": 64,
     "metadata": {},
     "output_type": "execute_result"
    }
   ],
   "source": [
    "exp_msg.fields"
   ]
  },
  {
   "cell_type": "code",
   "execution_count": 65,
   "metadata": {},
   "outputs": [
    {
     "data": {
      "text/plain": [
       "{'sample rate': np.int64(1000), 'resolution': (6000, 4000, 8)}"
      ]
     },
     "execution_count": 65,
     "metadata": {},
     "output_type": "execute_result"
    }
   ],
   "source": [
    "exp_msg.properties"
   ]
  },
  {
   "cell_type": "code",
   "execution_count": 66,
   "metadata": {},
   "outputs": [],
   "source": [
    "message, props = cnv(exp_msg, convolve_host)"
   ]
  },
  {
   "cell_type": "code",
   "execution_count": 67,
   "metadata": {},
   "outputs": [
    {
     "data": {
      "text/plain": [
       "Message(fields={'temperature data': 1.0, 'image data': np.float64(24000000.0), 'time': np.float64(0.0), 'total data': np.float64(24000001.0), 'features': np.int64(21301344)}, properties={'sample rate': np.int64(1000), 'resolution': (6000, 4000, 8)})"
      ]
     },
     "execution_count": 67,
     "metadata": {},
     "output_type": "execute_result"
    }
   ],
   "source": [
    "message"
   ]
  },
  {
   "cell_type": "code",
   "execution_count": 68,
   "metadata": {},
   "outputs": [
    {
     "data": {
      "text/plain": [
       "{'transform operations': 191712096}"
      ]
     },
     "execution_count": 68,
     "metadata": {},
     "output_type": "execute_result"
    }
   ],
   "source": [
    "props"
   ]
  },
  {
   "cell_type": "code",
   "execution_count": 69,
   "metadata": {},
   "outputs": [],
   "source": [
    "from systemflow.classifier import *"
   ]
  },
  {
   "cell_type": "code",
   "execution_count": 70,
   "metadata": {},
   "outputs": [],
   "source": [
    "gc = GaussianClassifier(3.0)"
   ]
  },
  {
   "cell_type": "code",
   "execution_count": 71,
   "metadata": {},
   "outputs": [],
   "source": [
    "gc.solve_reduction([900, 100], 0.9)"
   ]
  },
  {
   "cell_type": "code",
   "execution_count": 72,
   "metadata": {},
   "outputs": [
    {
     "data": {
      "text/plain": [
       "array([[0.98055646, 0.17499203],\n",
       "       [0.01944354, 0.82500797]])"
      ]
     },
     "execution_count": 72,
     "metadata": {},
     "output_type": "execute_result"
    }
   ],
   "source": [
    "gc.error_matrix"
   ]
  },
  {
   "cell_type": "code",
   "execution_count": 73,
   "metadata": {},
   "outputs": [],
   "source": [
    "\n",
    "class GaussianClassify(Mutate):\n",
    "    def __init__(self, name: str = \"GaussianClassify\"):\n",
    "        fields = []\n",
    "        properties = [\"sample rate\"]\n",
    "        parameters = [\"skill\", \"variance\", \"reduction\"]\n",
    "        super().__init__(name, fields, properties, parameters)\n",
    "\n",
    "    def transform(self, message: Message, component: Component):\n",
    "        #access the required fields/properties/parameters\n",
    "        sample_rate = message.properties[\"sample rate\"]\n",
    "        skill = component.parameters[\"skill\"]\n",
    "        variance = component.parameters[\"variance\"]\n",
    "        reduction = component.parameters[\"reduction\"]\n",
    "\n",
    "        #calculate the error statistics\n",
    "        falses = sample_rate * reduction\n",
    "        trues = sample_rate - falses\n",
    "        inputs = np.array([falses, trues])\n",
    "        \n",
    "        gc = GaussianClassifier(skill, varscale=variance)\n",
    "        output = gc(inputs, reduction)\n",
    "\n",
    "        msg_fields = {\"contingency\": output}\n",
    "        msg_properties = {\"error matrix\": gc.error_matrix}\n",
    "        component_properties = {}\n",
    "\n",
    "        return msg_fields, msg_properties, component_properties"
   ]
  },
  {
   "cell_type": "code",
   "execution_count": 74,
   "metadata": {},
   "outputs": [],
   "source": [
    "class ClassifiedStorageRate(Mutate):\n",
    "    def __init__(self, name: str = \"ClassifiedStorageRate\"):\n",
    "        msg_fields = [\"total data\",]\n",
    "        msg_properties = [\"error matrix\",]\n",
    "        host_parameters = []\n",
    "        super().__init__(name, msg_fields, msg_properties, host_parameters)\n",
    "\n",
    "    def transform(self, message: Message, component: Component):\n",
    "        storage_rate = message.fields[\"total data\"] * get_passed(message.fields[\"contingency\"])\n",
    "        new_host_properties = {\"storage rate\": storage_rate,}\n",
    "        return {}, {}, new_host_properties"
   ]
  },
  {
   "cell_type": "code",
   "execution_count": 75,
   "metadata": {},
   "outputs": [
    {
     "data": {
      "text/plain": [
       "100.0"
      ]
     },
     "execution_count": 75,
     "metadata": {},
     "output_type": "execute_result"
    }
   ],
   "source": [
    "1000 * 0.1"
   ]
  },
  {
   "cell_type": "code",
   "execution_count": 76,
   "metadata": {},
   "outputs": [],
   "source": [
    "gcf = GaussianClassify()"
   ]
  },
  {
   "cell_type": "code",
   "execution_count": 77,
   "metadata": {},
   "outputs": [],
   "source": [
    "classify_host = Component([\"Classify\"], [GaussianClassify(), DataRate(), ClassifiedStorageRate()], {\"skill\": 3, \"variance\": 1, \"reduction\": 0.9}, {})"
   ]
  },
  {
   "cell_type": "code",
   "execution_count": 78,
   "metadata": {},
   "outputs": [],
   "source": [
    "msg2, props2 = gcf(message, classify_host)"
   ]
  },
  {
   "cell_type": "code",
   "execution_count": 79,
   "metadata": {},
   "outputs": [
    {
     "data": {
      "text/plain": [
       "{'temperature data': 1.0,\n",
       " 'image data': np.float64(24000000.0),\n",
       " 'time': np.float64(0.0),\n",
       " 'total data': np.float64(24000001.0),\n",
       " 'features': np.int64(21301344),\n",
       " 'contingency': array([[882,  17],\n",
       "        [ 17,  82]])}"
      ]
     },
     "execution_count": 79,
     "metadata": {},
     "output_type": "execute_result"
    }
   ],
   "source": [
    "msg2.fields"
   ]
  },
  {
   "cell_type": "code",
   "execution_count": 80,
   "metadata": {},
   "outputs": [
    {
     "data": {
      "text/plain": [
       "{'sample rate': np.int64(1000),\n",
       " 'resolution': (6000, 4000, 8),\n",
       " 'error matrix': array([[0.98055646, 0.17499203],\n",
       "        [0.01944354, 0.82500797]])}"
      ]
     },
     "execution_count": 80,
     "metadata": {},
     "output_type": "execute_result"
    }
   ],
   "source": [
    "msg2.properties"
   ]
  },
  {
   "cell_type": "code",
   "execution_count": 81,
   "metadata": {},
   "outputs": [
    {
     "data": {
      "text/plain": [
       "{}"
      ]
     },
     "execution_count": 81,
     "metadata": {},
     "output_type": "execute_result"
    }
   ],
   "source": [
    "props2"
   ]
  },
  {
   "cell_type": "code",
   "execution_count": 82,
   "metadata": {},
   "outputs": [
    {
     "data": {
      "text/plain": [
       "(Message(fields={'temperature data': 1.0, 'image data': np.float64(24000000.0), 'time': np.float64(0.0), 'total data': np.float64(24000001.0), 'features': np.int64(21301344), 'contingency': array([[882,  17],\n",
       "        [ 17,  82]])}, properties={'sample rate': np.int64(1000), 'resolution': (6000, 4000, 8), 'error matrix': array([[0.98055646, 0.17499203],\n",
       "        [0.01944354, 0.82500797]])}),\n",
       " {'storage rate': array([4.08000017e+08, 1.96800008e+09])})"
      ]
     },
     "execution_count": 82,
     "metadata": {},
     "output_type": "execute_result"
    }
   ],
   "source": [
    "ClassifiedStorageRate()(msg2, classify_host)"
   ]
  },
  {
   "cell_type": "code",
   "execution_count": 83,
   "metadata": {},
   "outputs": [
    {
     "data": {
      "text/plain": [
       "array([882,  17])"
      ]
     },
     "execution_count": 83,
     "metadata": {},
     "output_type": "execute_result"
    }
   ],
   "source": [
    "get_rejected(msg2.fields[\"contingency\"])"
   ]
  },
  {
   "cell_type": "code",
   "execution_count": 84,
   "metadata": {},
   "outputs": [
    {
     "data": {
      "text/plain": [
       "array([17, 82])"
      ]
     },
     "execution_count": 84,
     "metadata": {},
     "output_type": "execute_result"
    }
   ],
   "source": [
    "get_passed(msg2.fields[\"contingency\"])"
   ]
  },
  {
   "cell_type": "code",
   "execution_count": 85,
   "metadata": {},
   "outputs": [],
   "source": [
    "nodes = [Component(\"Image sensor\",\n",
    "                    [CollectImage(),],\n",
    "                    {\"resolution x\": 6000,\n",
    "                     \"resolution y\": 4000,\n",
    "                     \"bit depth\": 8,\n",
    "                     \"sample rate\": 1000,\n",
    "                     \"pixel energy\": 1e-6,},\n",
    "                     {}),\n",
    "        Component(\"Thermocouple\",\n",
    "                    [CollectTemperature(),],\n",
    "                    {\"bit depth\": 8,\n",
    "                     \"sample rate\": 1200,\n",
    "                     \"sensor power\": 1e-3,},\n",
    "                     {}),\n",
    "        Component(\"Merge/Convolve\",\n",
    "                    [Convolve(),],\n",
    "                    {\"kernel x\": 3, \"kernel y\": 3, \"filters\": 8},\n",
    "                    {},\n",
    "                    RateMerge()),\n",
    "        Component(\"Classify\",\n",
    "                    [GaussianClassify(), DataRate(), ClassifiedStorageRate(),],\n",
    "                    {\"skill\": 3, \"variance\": 1, \"reduction\": 0.9},\n",
    "                    {}),]"
   ]
  },
  {
   "cell_type": "code",
   "execution_count": 86,
   "metadata": {},
   "outputs": [],
   "source": [
    "links = [DefaultLink(\"Image -> Merge/Convolve\",\n",
    "                     \"Image sensor\",\n",
    "                     \"Merge/Convolve\"),\n",
    "         DefaultLink(\"Thermocouple -> Merge/Convolve\", \n",
    "                     \"Thermocouple\",\n",
    "                     \"Merge/Convolve\"),\n",
    "        DefaultLink(\"Merge/Convolve -> Classify\",\n",
    "                    \"Merge/Convolve\",\n",
    "                    \"Classify\"),]"
   ]
  },
  {
   "cell_type": "code",
   "execution_count": 87,
   "metadata": {},
   "outputs": [],
   "source": [
    "scc_graph = ExecutionGraph(\"Sense/Convolve/Classify\", nodes, links)"
   ]
  },
  {
   "cell_type": "code",
   "execution_count": 88,
   "metadata": {},
   "outputs": [
    {
     "name": "stdout",
     "output_type": "stream",
     "text": [
      "Executing on node  Classify\n",
      "Executing on node  Merge/Convolve\n",
      "Executing on node  Image sensor\n",
      "Executing on node  Thermocouple\n"
     ]
    }
   ],
   "source": [
    "scc2 = scc_graph(True)"
   ]
  },
  {
   "cell_type": "code",
   "execution_count": 89,
   "metadata": {},
   "outputs": [
    {
     "data": {
      "text/plain": [
       "1"
      ]
     },
     "execution_count": 89,
     "metadata": {},
     "output_type": "execute_result"
    }
   ],
   "source": [
    "scc2.iteration"
   ]
  },
  {
   "cell_type": "code",
   "execution_count": 90,
   "metadata": {},
   "outputs": [
    {
     "data": {
      "text/plain": [
       "'Classify'"
      ]
     },
     "execution_count": 90,
     "metadata": {},
     "output_type": "execute_result"
    }
   ],
   "source": [
    "scc2.nodes[0].name"
   ]
  },
  {
   "cell_type": "code",
   "execution_count": 91,
   "metadata": {},
   "outputs": [
    {
     "data": {
      "text/plain": [
       "Message(fields={'time': np.float64(0.0), 'image data': np.float64(24000000.0), 'temperature data': 1.0, 'features': np.int64(21301344), 'contingency': array([[882,  17],\n",
       "       [ 17,  82]]), 'total data': np.float64(24000001.0)}, properties={'sample rate': np.int64(1000), 'resolution': (6000, 4000, 8), 'error matrix': array([[0.98055646, 0.17499203],\n",
       "       [0.01944354, 0.82500797]])})"
      ]
     },
     "execution_count": 91,
     "metadata": {},
     "output_type": "execute_result"
    }
   ],
   "source": [
    "scc2.nodes[0].output_msg"
   ]
  },
  {
   "cell_type": "code",
   "execution_count": 92,
   "metadata": {},
   "outputs": [
    {
     "data": {
      "text/plain": [
       "Message(fields={'time': np.float64(0.0), 'image data': np.float64(24000000.0), 'temperature data': 1.0, 'features': np.int64(21301344), 'contingency': array([[882,  17],\n",
       "       [ 17,  82]]), 'total data': np.float64(24000001.0)}, properties={'sample rate': np.int64(1000), 'resolution': (6000, 4000, 8), 'error matrix': array([[0.98055646, 0.17499203],\n",
       "       [0.01944354, 0.82500797]])})"
      ]
     },
     "execution_count": 92,
     "metadata": {},
     "output_type": "execute_result"
    }
   ],
   "source": [
    "scc2.get_node(\"Classify\").output_msg"
   ]
  },
  {
   "cell_type": "code",
   "execution_count": 93,
   "metadata": {},
   "outputs": [
    {
     "data": {
      "text/plain": [
       "{'storage rate': array([4.08000017e+08, 1.96800008e+09])}"
      ]
     },
     "execution_count": 93,
     "metadata": {},
     "output_type": "execute_result"
    }
   ],
   "source": [
    "scc2.root_node.properties"
   ]
  },
  {
   "cell_type": "code",
   "execution_count": 94,
   "metadata": {},
   "outputs": [
    {
     "data": {
      "text/plain": [
       "{'Classify': {'skill': 3, 'variance': 1, 'reduction': 0.9},\n",
       " 'Merge/Convolve': {'kernel x': 3, 'kernel y': 3, 'filters': 8},\n",
       " 'Image sensor': {'resolution x': 6000,\n",
       "  'resolution y': 4000,\n",
       "  'bit depth': 8,\n",
       "  'sample rate': 1000,\n",
       "  'pixel energy': 1e-06},\n",
       " 'Thermocouple': {'bit depth': 8, 'sample rate': 1200, 'sensor power': 0.001}}"
      ]
     },
     "execution_count": 94,
     "metadata": {},
     "output_type": "execute_result"
    }
   ],
   "source": [
    "scc2.get_all_node_parameters()"
   ]
  },
  {
   "cell_type": "code",
   "execution_count": 95,
   "metadata": {},
   "outputs": [],
   "source": [
    "ap = scc2.get_all_node_properties()"
   ]
  },
  {
   "cell_type": "code",
   "execution_count": 96,
   "metadata": {},
   "outputs": [
    {
     "data": {
      "text/plain": [
       "{'sample rate': np.int64(1000),\n",
       " 'resolution': (6000, 4000, 8),\n",
       " 'error matrix': array([[0.98055646, 0.17499203],\n",
       "        [0.01944354, 0.82500797]])}"
      ]
     },
     "execution_count": 96,
     "metadata": {},
     "output_type": "execute_result"
    }
   ],
   "source": [
    "scc2.get_node(\"Classify\").output_msg.properties"
   ]
  },
  {
   "cell_type": "code",
   "execution_count": 97,
   "metadata": {},
   "outputs": [
    {
     "data": {
      "text/plain": [
       "{'Classify': {'storage rate': array([4.08000017e+08, 1.96800008e+09])},\n",
       " 'Merge/Convolve': {'transform operations': 191712096},\n",
       " 'Image sensor': {'sensor power': 24.0},\n",
       " 'Thermocouple': {'sensor power': 0.001}}"
      ]
     },
     "execution_count": 97,
     "metadata": {},
     "output_type": "execute_result"
    }
   ],
   "source": [
    "ap"
   ]
  },
  {
   "cell_type": "code",
   "execution_count": 98,
   "metadata": {},
   "outputs": [],
   "source": [
    "class ConvPower(Metric):\n",
    "    def __init__(self):\n",
    "        super().__init__(\"Convolution Power\", \n",
    "                         {},\n",
    "                         {},\n",
    "                         {\"Merge/Convolve\": \"transform operations\"},)\n",
    "        \n",
    "    def metric(self, graph: ExecutionGraph):\n",
    "        host_props = graph.get_all_node_properties()\n",
    "        ops = host_props[\"Merge/Convolve\"][\"transform operations\"]\n",
    "        power = ops * 1e-12\n",
    "\n",
    "        metrics = {\"power\": power,}\n",
    "        return metrics\n",
    "    "
   ]
  },
  {
   "cell_type": "code",
   "execution_count": 99,
   "metadata": {},
   "outputs": [],
   "source": [
    "cp = ConvPower()"
   ]
  },
  {
   "cell_type": "code",
   "execution_count": 100,
   "metadata": {},
   "outputs": [
    {
     "data": {
      "text/plain": [
       "{'power': 0.000191712096}"
      ]
     },
     "execution_count": 100,
     "metadata": {},
     "output_type": "execute_result"
    }
   ],
   "source": [
    "cp(scc2)"
   ]
  },
  {
   "cell_type": "code",
   "execution_count": null,
   "metadata": {},
   "outputs": [],
   "source": []
  }
 ],
 "metadata": {
  "kernelspec": {
   "display_name": "systemflow",
   "language": "python",
   "name": "python3"
  },
  "language_info": {
   "codemirror_mode": {
    "name": "ipython",
    "version": 3
   },
   "file_extension": ".py",
   "mimetype": "text/x-python",
   "name": "python",
   "nbconvert_exporter": "python",
   "pygments_lexer": "ipython3",
   "version": "3.10.15"
  }
 },
 "nbformat": 4,
 "nbformat_minor": 2
}
