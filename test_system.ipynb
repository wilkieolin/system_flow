{
 "cells": [
  {
   "cell_type": "code",
   "execution_count": 1,
   "metadata": {},
   "outputs": [],
   "source": [
    "from graph import *"
   ]
  },
  {
   "cell_type": "code",
   "execution_count": 2,
   "metadata": {},
   "outputs": [],
   "source": [
    "import matplotlib.pyplot as plt\n",
    "from scipy.optimize import curve_fit\n",
    "import plotly.graph_objects as go"
   ]
  },
  {
   "cell_type": "code",
   "execution_count": 3,
   "metadata": {},
   "outputs": [],
   "source": [
    "g = graph_from_spreadsheet(\"test_system.xlsx\", functions={})"
   ]
  },
  {
   "cell_type": "code",
   "execution_count": 4,
   "metadata": {},
   "outputs": [
    {
     "data": {
      "text/plain": [
       "NodeView(('Detector', 'Sensors', 'Level1', 'Level2', 'Level3', 'Disk'))"
      ]
     },
     "execution_count": 4,
     "metadata": {},
     "output_type": "execute_result"
    }
   ],
   "source": [
    "g.nodes"
   ]
  },
  {
   "cell_type": "code",
   "execution_count": 5,
   "metadata": {},
   "outputs": [
    {
     "data": {
      "text/plain": [
       "{'globals':    Year\n",
       " 0  1992,\n",
       " 'Root Node': 'Disk',\n",
       " 'link power': 0.5057250000323933,\n",
       " 'op power': 179999999.98767683,\n",
       " 'performance': array([[9.83995629e+02, 3.79371046e-01],\n",
       "        [3.79371061e-01, 1.52456290e+01]])}"
      ]
     },
     "execution_count": 5,
     "metadata": {},
     "output_type": "execute_result"
    }
   ],
   "source": [
    "g.graph"
   ]
  },
  {
   "cell_type": "code",
   "execution_count": 6,
   "metadata": {},
   "outputs": [
    {
     "data": {
      "text/plain": [
       "{'sample data': 1000000,\n",
       " 'sample rate': 1000,\n",
       " 'type': 'detector',\n",
       " 'op efficiency': 0,\n",
       " 'classifier': <classifier.DummyClassifier at 0x120c3f280>,\n",
       " 'error matrix': array([[0., 0.],\n",
       "        [1., 1.]]),\n",
       " 'reduction ratio': 1.0,\n",
       " 'reduction': 0.0,\n",
       " 'data reduction': 1.0,\n",
       " 'complexity': <function graph.detectors.<locals>.<lambda>(x)>,\n",
       " 'global ratio': 64.0,\n",
       " 'message size': 1000000,\n",
       " 'ops': 1000000,\n",
       " 'contingency': array([[  0.   ,   0.   ],\n",
       "        [984.375,  15.625]]),\n",
       " 'input rate': 1000,\n",
       " 'output rate': 1000,\n",
       " 'discards': array([0., 0.]),\n",
       " 'energy': 0,\n",
       " 'power': 0}"
      ]
     },
     "execution_count": 6,
     "metadata": {},
     "output_type": "execute_result"
    }
   ],
   "source": [
    "g.nodes[\"Detector\"]"
   ]
  },
  {
   "cell_type": "code",
   "execution_count": 7,
   "metadata": {},
   "outputs": [
    {
     "data": {
      "text/plain": [
       "{'link efficiency': 2.22e-11,\n",
       " 'statistics': array([984.375,  15.625]),\n",
       " 'message size': 1000000,\n",
       " 'throughput': 1000000000,\n",
       " 'energy': 0.0001776,\n",
       " 'power': 0.1776}"
      ]
     },
     "execution_count": 7,
     "metadata": {},
     "output_type": "execute_result"
    }
   ],
   "source": [
    "g.edges[(\"Detector\", \"Sensors\")]"
   ]
  },
  {
   "cell_type": "code",
   "execution_count": 8,
   "metadata": {},
   "outputs": [
    {
     "data": {
      "text/plain": [
       "15.625"
      ]
     },
     "execution_count": 8,
     "metadata": {},
     "output_type": "execute_result"
    }
   ],
   "source": [
    "1000 / 64 "
   ]
  },
  {
   "cell_type": "code",
   "execution_count": 9,
   "metadata": {},
   "outputs": [],
   "source": [
    "ss = [g.edges[e][\"statistics\"] for e in g.edges]"
   ]
  },
  {
   "cell_type": "code",
   "execution_count": 10,
   "metadata": {},
   "outputs": [],
   "source": [
    "actual_ratios = [np.sum(ss[i]) / np.sum(ss[i+1]) for i in range(len(ss)-1)]"
   ]
  },
  {
   "cell_type": "code",
   "execution_count": 11,
   "metadata": {},
   "outputs": [
    {
     "data": {
      "text/plain": [
       "[1.0, 2.000000000164309, 3.9999999936665493, 8.000000004128783]"
      ]
     },
     "execution_count": 11,
     "metadata": {},
     "output_type": "execute_result"
    }
   ],
   "source": [
    "actual_ratios"
   ]
  },
  {
   "cell_type": "code",
   "execution_count": 12,
   "metadata": {},
   "outputs": [
    {
     "data": {
      "text/plain": [
       "[1.0, 2.000000000164309, 3.9999999936665493, 8.000000004128783]"
      ]
     },
     "execution_count": 12,
     "metadata": {},
     "output_type": "execute_result"
    }
   ],
   "source": [
    "actual_ratios"
   ]
  },
  {
   "cell_type": "code",
   "execution_count": 13,
   "metadata": {},
   "outputs": [
    {
     "data": {
      "text/plain": [
       "63.99999993695294"
      ]
     },
     "execution_count": 13,
     "metadata": {},
     "output_type": "execute_result"
    }
   ],
   "source": [
    "np.prod(actual_ratios)"
   ]
  },
  {
   "cell_type": "code",
   "execution_count": 14,
   "metadata": {},
   "outputs": [],
   "source": [
    "cont = pipeline_contingency(g)"
   ]
  },
  {
   "cell_type": "code",
   "execution_count": 15,
   "metadata": {},
   "outputs": [
    {
     "data": {
      "text/plain": [
       "1000.0"
      ]
     },
     "execution_count": 15,
     "metadata": {},
     "output_type": "execute_result"
    }
   ],
   "source": [
    "np.sum(cont)"
   ]
  },
  {
   "cell_type": "code",
   "execution_count": 16,
   "metadata": {},
   "outputs": [
    {
     "data": {
      "text/plain": [
       "array([984.375,  15.625])"
      ]
     },
     "execution_count": 16,
     "metadata": {},
     "output_type": "execute_result"
    }
   ],
   "source": [
    "np.sum(cont, axis=0)"
   ]
  },
  {
   "cell_type": "code",
   "execution_count": 17,
   "metadata": {},
   "outputs": [],
   "source": [
    "(aa, ab) = np.sum(cont, axis=1)"
   ]
  },
  {
   "cell_type": "code",
   "execution_count": 18,
   "metadata": {},
   "outputs": [
    {
     "data": {
      "text/plain": [
       "62.999999936952946"
      ]
     },
     "execution_count": 18,
     "metadata": {},
     "output_type": "execute_result"
    }
   ],
   "source": [
    "aa / ab"
   ]
  },
  {
   "cell_type": "code",
   "execution_count": 19,
   "metadata": {},
   "outputs": [
    {
     "data": {
      "text/plain": [
       "{'globals':    Year\n",
       " 0  1992,\n",
       " 'Root Node': 'Disk',\n",
       " 'link power': 0.5057250000323933,\n",
       " 'op power': 179999999.98767683,\n",
       " 'performance': array([[9.83995629e+02, 3.79371046e-01],\n",
       "        [3.79371061e-01, 1.52456290e+01]])}"
      ]
     },
     "execution_count": 19,
     "metadata": {},
     "output_type": "execute_result"
    }
   ],
   "source": [
    "g.graph"
   ]
  },
  {
   "cell_type": "code",
   "execution_count": 20,
   "metadata": {},
   "outputs": [
    {
     "data": {
      "text/plain": [
       "{'classifier properties': [0.0, 0, 1],\n",
       " 'type': 'processor',\n",
       " 'reduction ratio': 1,\n",
       " 'reduction': 0.0,\n",
       " 'data reduction': 1.0,\n",
       " 'op efficiency': 0.0,\n",
       " 'sample data': 0,\n",
       " 'complexity': <function graph.triggers.<locals>.<lambda>(x)>,\n",
       " 'global ratio': 64,\n",
       " 'message size': 1000000.0,\n",
       " 'ops': 1000000.0,\n",
       " 'input rate': 1000.0,\n",
       " 'classifier': <classifier.Classifier at 0x28b56ee60>,\n",
       " 'error matrix': array([[0., 0.],\n",
       "        [1., 1.]]),\n",
       " 'contingency': array([[  0.   ,   0.   ],\n",
       "        [984.375,  15.625]]),\n",
       " 'discards': array([0., 0.]),\n",
       " 'output rate': 1000.0,\n",
       " 'energy': 0.0,\n",
       " 'power': 0.0}"
      ]
     },
     "execution_count": 20,
     "metadata": {},
     "output_type": "execute_result"
    }
   ],
   "source": [
    "g.nodes[\"Sensors\"]"
   ]
  },
  {
   "cell_type": "code",
   "execution_count": 21,
   "metadata": {},
   "outputs": [
    {
     "data": {
      "text/plain": [
       "{'classifier properties': [0.5, 3, 1],\n",
       " 'type': 'processor',\n",
       " 'reduction ratio': 2,\n",
       " 'reduction': 0.5,\n",
       " 'data reduction': 1.0,\n",
       " 'op efficiency': 0.03,\n",
       " 'sample data': 0,\n",
       " 'complexity': <function graph.triggers.<locals>.<lambda>(x)>,\n",
       " 'global ratio': 64,\n",
       " 'message size': 1000000.0,\n",
       " 'ops': 1000000.0,\n",
       " 'input rate': 1000.0,\n",
       " 'classifier': <classifier.Classifier at 0x28b56eb90>,\n",
       " 'error matrix': array([[0.50791364, 0.00144048],\n",
       "        [0.49208636, 0.99855952]]),\n",
       " 'contingency': array([[4.99977493e+02, 2.25074883e-02],\n",
       "        [4.84397507e+02, 1.56024925e+01]]),\n",
       " 'discards': array([4.99977493e+02, 2.25074883e-02]),\n",
       " 'output rate': 499.99999995892273,\n",
       " 'energy': 30000.0,\n",
       " 'power': 30000000.0}"
      ]
     },
     "execution_count": 21,
     "metadata": {},
     "output_type": "execute_result"
    }
   ],
   "source": [
    "g.nodes[\"Level1\"]"
   ]
  },
  {
   "cell_type": "code",
   "execution_count": 22,
   "metadata": {},
   "outputs": [
    {
     "data": {
      "text/plain": [
       "array([[0.50791364, 0.00144048],\n",
       "       [0.49208636, 0.99855952]])"
      ]
     },
     "execution_count": 22,
     "metadata": {},
     "output_type": "execute_result"
    }
   ],
   "source": [
    "g.nodes[\"Level1\"][\"classifier\"].error_matrix"
   ]
  },
  {
   "cell_type": "code",
   "execution_count": 23,
   "metadata": {},
   "outputs": [
    {
     "data": {
      "text/plain": [
       "{'classifier properties': [0.75, 3, 1],\n",
       " 'type': 'processor',\n",
       " 'reduction ratio': 4,\n",
       " 'reduction': 0.75,\n",
       " 'data reduction': 1.0,\n",
       " 'op efficiency': 0.3,\n",
       " 'sample data': 0,\n",
       " 'complexity': <function graph.triggers.<locals>.<lambda>(x)>,\n",
       " 'global ratio': 32,\n",
       " 'message size': 1000000.0,\n",
       " 'ops': 1000000.0,\n",
       " 'input rate': 499.99999995892273,\n",
       " 'classifier': <classifier.Classifier at 0x28b55b670>,\n",
       " 'error matrix': array([[0.7737625 , 0.01226564],\n",
       "        [0.2262375 , 0.98773436]]),\n",
       " 'contingency': array([[3.74808625e+02, 1.91374595e-01],\n",
       "        [1.09588882e+02, 1.54111179e+01]]),\n",
       " 'discards': array([3.74808625e+02, 1.91374595e-01]),\n",
       " 'output rate': 125.00000018765101,\n",
       " 'energy': 300000.0,\n",
       " 'power': 149999999.98767683}"
      ]
     },
     "execution_count": 23,
     "metadata": {},
     "output_type": "execute_result"
    }
   ],
   "source": [
    "g.nodes[\"Level2\"]"
   ]
  },
  {
   "cell_type": "code",
   "execution_count": 24,
   "metadata": {},
   "outputs": [
    {
     "data": {
      "text/plain": [
       "{'classifier properties': [0.875, 5, 1],\n",
       " 'type': 'processor',\n",
       " 'reduction ratio': 8,\n",
       " 'reduction': 0.875,\n",
       " 'data reduction': 1.0,\n",
       " 'op efficiency': 0.0,\n",
       " 'sample data': 0,\n",
       " 'complexity': <function graph.triggers.<locals>.<lambda>(x)>,\n",
       " 'global ratio': 8,\n",
       " 'message size': 1000000.0,\n",
       " 'ops': 1000000.0,\n",
       " 'input rate': 125.00000018765101,\n",
       " 'classifier': <classifier.Classifier at 0x28b55b370>,\n",
       " 'error matrix': array([[0.99653823, 0.01073828],\n",
       "        [0.00346177, 0.98926172]]),\n",
       " 'contingency': array([[109.20951121,   0.16548896],\n",
       "        [  0.37937106,  15.24562895]]),\n",
       " 'discards': array([109.20951121,   0.16548896]),\n",
       " 'output rate': 15.625000015392347,\n",
       " 'energy': 0.0,\n",
       " 'power': 0.0}"
      ]
     },
     "execution_count": 24,
     "metadata": {},
     "output_type": "execute_result"
    }
   ],
   "source": [
    "g.nodes[\"Level3\"]"
   ]
  },
  {
   "cell_type": "code",
   "execution_count": 25,
   "metadata": {},
   "outputs": [
    {
     "data": {
      "text/plain": [
       "{'link efficiency': 2.5e-11,\n",
       " 'statistics': array([484.39750745,  15.60249251]),\n",
       " 'message size': 1000000.0,\n",
       " 'throughput': 499999999.95892274,\n",
       " 'energy': 0.0002,\n",
       " 'power': 0.09999999999178455}"
      ]
     },
     "execution_count": 25,
     "metadata": {},
     "output_type": "execute_result"
    }
   ],
   "source": [
    "g.edges[(\"Level1\", \"Level2\")]"
   ]
  },
  {
   "cell_type": "code",
   "execution_count": 26,
   "metadata": {},
   "outputs": [
    {
     "data": {
      "text/plain": [
       "array([[9.83995629e+02, 3.79371046e-01],\n",
       "       [3.79371061e-01, 1.52456290e+01]])"
      ]
     },
     "execution_count": 26,
     "metadata": {},
     "output_type": "execute_result"
    }
   ],
   "source": [
    "g.graph[\"performance\"]"
   ]
  },
  {
   "cell_type": "code",
   "execution_count": 27,
   "metadata": {},
   "outputs": [],
   "source": [
    "from metrics import *"
   ]
  },
  {
   "cell_type": "code",
   "execution_count": 28,
   "metadata": {},
   "outputs": [
    {
     "data": {
      "text/plain": [
       "0.9757202530558698"
      ]
     },
     "execution_count": 28,
     "metadata": {},
     "output_type": "execute_result"
    }
   ],
   "source": [
    "recall(g.graph[\"performance\"])"
   ]
  },
  {
   "cell_type": "code",
   "execution_count": 29,
   "metadata": {},
   "outputs": [],
   "source": [
    "detectors, triggers, globals = dataframes_from_spreadsheet(\"test_system.xlsx\")"
   ]
  },
  {
   "cell_type": "code",
   "execution_count": 30,
   "metadata": {},
   "outputs": [
    {
     "data": {
      "text/html": [
       "<div>\n",
       "<style scoped>\n",
       "    .dataframe tbody tr th:only-of-type {\n",
       "        vertical-align: middle;\n",
       "    }\n",
       "\n",
       "    .dataframe tbody tr th {\n",
       "        vertical-align: top;\n",
       "    }\n",
       "\n",
       "    .dataframe thead th {\n",
       "        text-align: right;\n",
       "    }\n",
       "</style>\n",
       "<table border=\"1\" class=\"dataframe\">\n",
       "  <thead>\n",
       "    <tr style=\"text-align: right;\">\n",
       "      <th></th>\n",
       "      <th>Name</th>\n",
       "      <th>Output</th>\n",
       "      <th>Data (bytes)</th>\n",
       "      <th>Reduction Ratio</th>\n",
       "      <th>Skill mean</th>\n",
       "      <th>Skill variance</th>\n",
       "      <th>Link Efficiency (J/bit)</th>\n",
       "      <th>Op Efficiency (J/op)</th>\n",
       "      <th>Compression</th>\n",
       "    </tr>\n",
       "  </thead>\n",
       "  <tbody>\n",
       "    <tr>\n",
       "      <th>0</th>\n",
       "      <td>Sensors</td>\n",
       "      <td>Level1</td>\n",
       "      <td>0</td>\n",
       "      <td>1</td>\n",
       "      <td>0</td>\n",
       "      <td>1</td>\n",
       "      <td>2.500000e-11</td>\n",
       "      <td>0.00</td>\n",
       "      <td>0</td>\n",
       "    </tr>\n",
       "    <tr>\n",
       "      <th>1</th>\n",
       "      <td>Level1</td>\n",
       "      <td>Level2</td>\n",
       "      <td>0</td>\n",
       "      <td>2</td>\n",
       "      <td>3</td>\n",
       "      <td>1</td>\n",
       "      <td>2.500000e-11</td>\n",
       "      <td>0.03</td>\n",
       "      <td>0</td>\n",
       "    </tr>\n",
       "    <tr>\n",
       "      <th>2</th>\n",
       "      <td>Level2</td>\n",
       "      <td>Level3</td>\n",
       "      <td>0</td>\n",
       "      <td>4</td>\n",
       "      <td>3</td>\n",
       "      <td>1</td>\n",
       "      <td>2.500000e-11</td>\n",
       "      <td>0.30</td>\n",
       "      <td>0</td>\n",
       "    </tr>\n",
       "    <tr>\n",
       "      <th>3</th>\n",
       "      <td>Level3</td>\n",
       "      <td>Disk</td>\n",
       "      <td>0</td>\n",
       "      <td>8</td>\n",
       "      <td>5</td>\n",
       "      <td>1</td>\n",
       "      <td>2.500000e-11</td>\n",
       "      <td>0.00</td>\n",
       "      <td>0</td>\n",
       "    </tr>\n",
       "    <tr>\n",
       "      <th>4</th>\n",
       "      <td>Disk</td>\n",
       "      <td>NaN</td>\n",
       "      <td>0</td>\n",
       "      <td>1</td>\n",
       "      <td>0</td>\n",
       "      <td>1</td>\n",
       "      <td>2.500000e-11</td>\n",
       "      <td>0.00</td>\n",
       "      <td>0</td>\n",
       "    </tr>\n",
       "  </tbody>\n",
       "</table>\n",
       "</div>"
      ],
      "text/plain": [
       "      Name  Output  Data (bytes)  Reduction Ratio  Skill mean  Skill variance  \\\n",
       "0  Sensors  Level1             0                1           0               1   \n",
       "1   Level1  Level2             0                2           3               1   \n",
       "2   Level2  Level3             0                4           3               1   \n",
       "3   Level3    Disk             0                8           5               1   \n",
       "4     Disk     NaN             0                1           0               1   \n",
       "\n",
       "   Link Efficiency (J/bit)  Op Efficiency (J/op)  Compression  \n",
       "0             2.500000e-11                  0.00            0  \n",
       "1             2.500000e-11                  0.03            0  \n",
       "2             2.500000e-11                  0.30            0  \n",
       "3             2.500000e-11                  0.00            0  \n",
       "4             2.500000e-11                  0.00            0  "
      ]
     },
     "execution_count": 30,
     "metadata": {},
     "output_type": "execute_result"
    }
   ],
   "source": [
    "triggers"
   ]
  },
  {
   "cell_type": "code",
   "execution_count": 31,
   "metadata": {},
   "outputs": [],
   "source": [
    "def vary_lv1(reduction):\n",
    "    total_reduction = 2 * 4\n",
    "    t = triggers.copy()\n",
    "\n",
    "    t.at[1, \"Reduction Ratio\"] = total_reduction / reduction\n",
    "    t.at[2, \"Reduction Ratio\"] = reduction\n",
    "    g = construct_graph(detectors, t, globals, {})\n",
    "    \n",
    "\n",
    "    power = g.graph[\"op power\"] + g.graph[\"link power\"]\n",
    "    cont = g.graph[\"performance\"]\n",
    "    \n",
    "    return (power, cont, g)"
   ]
  },
  {
   "cell_type": "code",
   "execution_count": 32,
   "metadata": {},
   "outputs": [
    {
     "data": {
      "text/plain": [
       "(105000000.87821716,\n",
       " array([[9.84005407e+02, 3.69593343e-01],\n",
       "        [3.69593421e-01, 1.52554067e+01]]),\n",
       " <networkx.classes.digraph.DiGraph at 0x28b56c730>)"
      ]
     },
     "execution_count": 32,
     "metadata": {},
     "output_type": "execute_result"
    }
   ],
   "source": [
    "vary_lv1(2)"
   ]
  },
  {
   "cell_type": "code",
   "execution_count": 33,
   "metadata": {},
   "outputs": [],
   "source": [
    "xs = np.linspace(2.0, 8.0, 51)"
   ]
  },
  {
   "cell_type": "code",
   "execution_count": 34,
   "metadata": {},
   "outputs": [],
   "source": [
    "res = [vary_lv1(x) for x in xs]"
   ]
  },
  {
   "cell_type": "code",
   "execution_count": 35,
   "metadata": {},
   "outputs": [],
   "source": [
    "res_p = np.array([r[0] for r in res])\n",
    "res_c = np.stack([r[1] for r in res])"
   ]
  },
  {
   "cell_type": "code",
   "execution_count": 36,
   "metadata": {},
   "outputs": [],
   "source": [
    "res_g = [r[2] for r in res]"
   ]
  },
  {
   "cell_type": "code",
   "execution_count": 37,
   "metadata": {},
   "outputs": [
    {
     "data": {
      "text/plain": [
       "[4,\n",
       " 3.773584905660377,\n",
       " 3.571428571428571,\n",
       " 3.3898305084745766,\n",
       " 3.2258064516129035,\n",
       " 3.0769230769230766,\n",
       " 2.9411764705882355,\n",
       " 2.8169014084507045,\n",
       " 2.7027027027027026,\n",
       " 2.5974025974025974,\n",
       " 2.5,\n",
       " 2.4096385542168677,\n",
       " 2.3255813953488373,\n",
       " 2.247191011235955,\n",
       " 2.173913043478261,\n",
       " 2.1052631578947367,\n",
       " 2.0408163265306123,\n",
       " 1.9801980198019802,\n",
       " 1.923076923076923,\n",
       " 1.869158878504673,\n",
       " 1.8181818181818181,\n",
       " 1.7699115044247788,\n",
       " 1.7241379310344829,\n",
       " 1.680672268907563,\n",
       " 1.639344262295082,\n",
       " 1.6,\n",
       " 1.5625,\n",
       " 1.5267175572519083,\n",
       " 1.492537313432836,\n",
       " 1.4598540145985401,\n",
       " 1.4285714285714286,\n",
       " 1.3986013986013988,\n",
       " 1.36986301369863,\n",
       " 1.342281879194631,\n",
       " 1.3157894736842106,\n",
       " 1.2903225806451613,\n",
       " 1.2658227848101264,\n",
       " 1.2422360248447206,\n",
       " 1.2195121951219512,\n",
       " 1.1976047904191618,\n",
       " 1.1764705882352942,\n",
       " 1.1560693641618498,\n",
       " 1.1363636363636365,\n",
       " 1.1173184357541899,\n",
       " 1.098901098901099,\n",
       " 1.0810810810810811,\n",
       " 1.0638297872340425,\n",
       " 1.0471204188481675,\n",
       " 1.0309278350515465,\n",
       " 1.015228426395939,\n",
       " 1]"
      ]
     },
     "execution_count": 37,
     "metadata": {},
     "output_type": "execute_result"
    }
   ],
   "source": [
    "list(g.nodes[\"Level1\"][\"reduction ratio\"] for g in res_g)"
   ]
  },
  {
   "cell_type": "code",
   "execution_count": 38,
   "metadata": {},
   "outputs": [
    {
     "data": {
      "text/plain": [
       "array([[1.67618462e-01, 3.69110028e-05],\n",
       "       [8.32381538e-01, 9.99963089e-01]])"
      ]
     },
     "execution_count": 38,
     "metadata": {},
     "output_type": "execute_result"
    }
   ],
   "source": [
    "res_g[-12].nodes[\"Level1\"][\"classifier\"].error_matrix"
   ]
  },
  {
   "cell_type": "code",
   "execution_count": 39,
   "metadata": {},
   "outputs": [
    {
     "data": {
      "text/plain": [
       "array([[0.86595649, 0.02921078],\n",
       "       [0.13404351, 0.97078922]])"
      ]
     },
     "execution_count": 39,
     "metadata": {},
     "output_type": "execute_result"
    }
   ],
   "source": [
    "res_g[-12].nodes[\"Level2\"][\"classifier\"].error_matrix"
   ]
  },
  {
   "cell_type": "code",
   "execution_count": 40,
   "metadata": {},
   "outputs": [
    {
     "data": {
      "text/plain": [
       "array([[0.88829627, 0.03733527],\n",
       "       [0.11170373, 0.96266473]])"
      ]
     },
     "execution_count": 40,
     "metadata": {},
     "output_type": "execute_result"
    }
   ],
   "source": [
    "res_g[-1].nodes[\"Level2\"][\"classifier\"].error_matrix"
   ]
  },
  {
   "cell_type": "code",
   "execution_count": 41,
   "metadata": {},
   "outputs": [
    {
     "data": {
      "text/plain": [
       "(51, 2, 2)"
      ]
     },
     "execution_count": 41,
     "metadata": {},
     "output_type": "execute_result"
    }
   ],
   "source": [
    "res_c.shape"
   ]
  },
  {
   "cell_type": "code",
   "execution_count": 42,
   "metadata": {},
   "outputs": [],
   "source": [
    "all_recall = np.array([recall(res_c[i,:,:]) for i in range(res_c.shape[0])])\n",
    "all_precision = np.array([precision(res_c[i,:,:]) for i in range(res_c.shape[0])])"
   ]
  },
  {
   "cell_type": "code",
   "execution_count": 43,
   "metadata": {},
   "outputs": [
    {
     "data": {
      "text/plain": [
       "array([ 4.85023210e-09,  3.61390040e-09,  3.71533093e-09, -1.83559146e-09,\n",
       "        3.18453741e-09,  5.03647912e-09,  8.52080739e-10, -2.98409364e-09,\n",
       "       -8.16021362e-10, -1.20839316e-09,  4.43396508e-09,  5.59300228e-09,\n",
       "       -1.15892718e-09, -4.96153918e-09,  4.99265140e-09, -1.93752470e-09,\n",
       "       -3.32587069e-10, -6.52772836e-10, -1.08154508e-09, -3.97961808e-09,\n",
       "        2.41670961e-09, -1.76326542e-09,  1.16956578e-09, -4.22533064e-09,\n",
       "       -8.82480822e-09, -6.86980473e-10, -1.48437609e-08, -6.78770662e-09,\n",
       "       -5.04421349e-09,  7.83566967e-09,  9.71626002e-10, -6.28305030e-09,\n",
       "       -3.24940941e-09, -3.70501851e-10,  3.95181787e-09, -2.36368702e-10,\n",
       "        5.76004466e-10,  5.72329872e-09,  1.51376922e-09,  1.47157564e-09,\n",
       "       -2.28020192e-09, -2.80092172e-09, -1.87165949e-09, -9.23368992e-09,\n",
       "        1.18677632e-08, -1.68431058e-08,  8.90687835e-09,  1.53026147e-09,\n",
       "        1.13587723e-08,  1.06625819e-11, -5.11719234e-09])"
      ]
     },
     "execution_count": 43,
     "metadata": {},
     "output_type": "execute_result"
    }
   ],
   "source": [
    "all_recall - all_precision"
   ]
  },
  {
   "cell_type": "code",
   "execution_count": 44,
   "metadata": {},
   "outputs": [
    {
     "data": {
      "text/plain": [
       "Text(0, 0.5, 'Performance')"
      ]
     },
     "execution_count": 44,
     "metadata": {},
     "output_type": "execute_result"
    },
    {
     "data": {
      "image/png": "[encoded data removed]",
      "text/plain": [
       "<Figure size 640x480 with 1 Axes>"
      ]
     },
     "metadata": {},
     "output_type": "display_data"
    }
   ],
   "source": [
    "plt.plot(xs, all_recall)\n",
    "plt.plot(xs, all_precision)\n",
    "plt.ylabel(\"Performance\")"
   ]
  },
  {
   "cell_type": "code",
   "execution_count": 45,
   "metadata": {},
   "outputs": [
    {
     "data": {
      "text/plain": [
       "Text(0, 0.5, 'Power')"
      ]
     },
     "execution_count": 45,
     "metadata": {},
     "output_type": "execute_result"
    },
    {
     "data": {
      "image/png": "[encoded data removed]",
      "text/plain": [
       "<Figure size 640x480 with 1 Axes>"
      ]
     },
     "metadata": {},
     "output_type": "display_data"
    }
   ],
   "source": [
    "plt.plot(xs, res_p)\n",
    "plt.ylabel(\"Power\")"
   ]
  },
  {
   "cell_type": "code",
   "execution_count": null,
   "metadata": {},
   "outputs": [],
   "source": []
  }
 ],
 "metadata": {
  "kernelspec": {
   "display_name": "jax",
   "language": "python",
   "name": "python3"
  },
  "language_info": {
   "codemirror_mode": {
    "name": "ipython",
    "version": 3
   },
   "file_extension": ".py",
   "mimetype": "text/x-python",
   "name": "python",
   "nbconvert_exporter": "python",
   "pygments_lexer": "ipython3",
   "version": "3.10.4"
  }
 },
 "nbformat": 4,
 "nbformat_minor": 2
}
