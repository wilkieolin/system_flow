{
 "cells": [
  {
   "cell_type": "code",
   "execution_count": 1,
   "metadata": {},
   "outputs": [],
   "source": [
    "import networkx as nx\n",
    "import sys\n",
    "from ruamel.yaml import YAML\n",
    "import numpy as np\n",
    "from abc import ABC, abstractmethod\n",
    "from collections import namedtuple\n",
    "from copy import deepcopy\n",
    "from functools import reduce\n",
    "from typing import Callable, Any\n",
    "from itertools import accumulate"
   ]
  },
  {
   "cell_type": "code",
   "execution_count": 2,
   "metadata": {},
   "outputs": [],
   "source": [
    "from systemflow.node import *"
   ]
  },
  {
   "cell_type": "code",
   "execution_count": 3,
   "metadata": {},
   "outputs": [],
   "source": [
    "class CollectImage(Mutate):\n",
    "    def __init__(self):\n",
    "        fields = []\n",
    "        properties = []\n",
    "        parameters = [\"resolution x\", \"resolution y\", \"bit depth\"]\n",
    "        super().__init__(fields, properties, parameters)\n",
    "\n",
    "    def transform(self, message: Message, component: Component) -> tuple[dict, dict, dict]:\n",
    "        #access the required fields/properties/parameters\n",
    "        n_px_x = component.parameters[\"resolution x\"]\n",
    "        n_px_y = component.parameters[\"resolution y\"]\n",
    "        resolution = (n_px_x,\n",
    "                      n_px_y,\n",
    "                      component.parameters[\"bit depth\"],)\n",
    "        n_bytes = np.prod(resolution) / 8.0\n",
    "        sample_rate = component.parameters[\"sample rate\"]\n",
    "        time = 0.0\n",
    "        sensor_power = component.parameters[\"pixel energy\"] * n_px_x * n_px_y\n",
    "\n",
    "        #create the new fields in the message\n",
    "\n",
    "        msg_fields = {\"image data\": n_bytes,\n",
    "                  \"time\": time}\n",
    "        msg_props = {\"resolution\": resolution,\n",
    "                     \"sample rate\": sample_rate,}\n",
    "\n",
    "        #create the new properties in the host\n",
    "        host_props = {\"sensor power\": sensor_power,}\n",
    "\n",
    "        return msg_fields, msg_props, host_props\n",
    "       "
   ]
  },
  {
   "cell_type": "code",
   "execution_count": 4,
   "metadata": {},
   "outputs": [],
   "source": [
    "ci = CollectImage()"
   ]
  },
  {
   "cell_type": "code",
   "execution_count": 5,
   "metadata": {},
   "outputs": [],
   "source": [
    "ci_host = Component(\"Image sensor\",\n",
    "                    [CollectImage(),],\n",
    "                    {\"resolution x\": 6000,\n",
    "                     \"resolution y\": 4000,\n",
    "                     \"bit depth\": 8,\n",
    "                     \"sample rate\": 1000,\n",
    "                     \"pixel energy\": 1e-6,},\n",
    "                     {})"
   ]
  },
  {
   "cell_type": "code",
   "execution_count": 6,
   "metadata": {},
   "outputs": [],
   "source": [
    "msg0 = Message({}, {})"
   ]
  },
  {
   "cell_type": "code",
   "execution_count": 7,
   "metadata": {},
   "outputs": [
    {
     "data": {
      "text/plain": [
       "{'resolution x': 6000,\n",
       " 'resolution y': 4000,\n",
       " 'bit depth': 8,\n",
       " 'sample rate': 1000,\n",
       " 'pixel energy': 1e-06}"
      ]
     },
     "execution_count": 7,
     "metadata": {},
     "output_type": "execute_result"
    }
   ],
   "source": [
    "ci_host.parameters"
   ]
  },
  {
   "cell_type": "code",
   "execution_count": 8,
   "metadata": {},
   "outputs": [],
   "source": [
    "image_data, sensor_props = ci(msg0, ci_host)"
   ]
  },
  {
   "cell_type": "code",
   "execution_count": 9,
   "metadata": {},
   "outputs": [
    {
     "data": {
      "text/plain": [
       "Message(fields={'image data': np.float64(24000000.0), 'time': 0.0}, properties={'resolution': (6000, 4000, 8), 'sample rate': 1000})"
      ]
     },
     "execution_count": 9,
     "metadata": {},
     "output_type": "execute_result"
    }
   ],
   "source": [
    "image_data"
   ]
  },
  {
   "cell_type": "code",
   "execution_count": 10,
   "metadata": {},
   "outputs": [],
   "source": [
    "class CollectTemperature(Mutate):\n",
    "    def __init__(self):\n",
    "        fields = []\n",
    "        properties = []\n",
    "        parameters = [\"bit depth\", \"sample rate\", \"sensor power\"]\n",
    "        super().__init__(fields, properties, parameters)\n",
    "\n",
    "    def transform(self, message: Message, component: Component) -> tuple[dict, dict, dict]:\n",
    "        #access the required fields/properties/parameters\n",
    "        n_bytes = component.parameters[\"bit depth\"] / 8.0\n",
    "        sample_rate = component.parameters[\"sample rate\"]\n",
    "        time = 0.0\n",
    "        sensor_power = component.parameters[\"sensor power\"]\n",
    "\n",
    "        #create the new fields in the message\n",
    "        msg_fields = {\"temperature data\": n_bytes,\n",
    "                  \"time\": time}\n",
    "        msg_props = {\"sample rate\": sample_rate,}\n",
    "\n",
    "        #create the new properties in the host\n",
    "        host_props = {\"sensor power\": sensor_power,}\n",
    "\n",
    "        return msg_fields, msg_props, host_props\n",
    "       "
   ]
  },
  {
   "cell_type": "code",
   "execution_count": 11,
   "metadata": {},
   "outputs": [],
   "source": [
    "ct = CollectTemperature()"
   ]
  },
  {
   "cell_type": "code",
   "execution_count": 12,
   "metadata": {},
   "outputs": [],
   "source": [
    "ct_host = Component(\"Thermocouple\",\n",
    "                    [CollectTemperature(),],\n",
    "                    {\"bit depth\": 8,\n",
    "                     \"sample rate\": 1200,\n",
    "                     \"sensor power\": 1e-3,},\n",
    "                     {})"
   ]
  },
  {
   "cell_type": "code",
   "execution_count": 13,
   "metadata": {},
   "outputs": [
    {
     "data": {
      "text/plain": [
       "['bit depth', 'sample rate', 'sensor power']"
      ]
     },
     "execution_count": 13,
     "metadata": {},
     "output_type": "execute_result"
    }
   ],
   "source": [
    "ct.host_parameters"
   ]
  },
  {
   "cell_type": "code",
   "execution_count": 14,
   "metadata": {},
   "outputs": [],
   "source": [
    "temp_data, thermo_props = ct(msg0, ct_host)"
   ]
  },
  {
   "cell_type": "code",
   "execution_count": 15,
   "metadata": {},
   "outputs": [],
   "source": [
    "dm = OverwriteMerge()"
   ]
  },
  {
   "cell_type": "code",
   "execution_count": 16,
   "metadata": {},
   "outputs": [
    {
     "data": {
      "text/plain": [
       "Message(fields={}, properties={})"
      ]
     },
     "execution_count": 16,
     "metadata": {},
     "output_type": "execute_result"
    }
   ],
   "source": [
    "dm([msg0, msg0])"
   ]
  },
  {
   "cell_type": "code",
   "execution_count": 17,
   "metadata": {},
   "outputs": [],
   "source": [
    "msg1 = Message({\"spiciness\": 1000}, {\"seasoning\": \"hot sauce\"})\n",
    "msg2 = Message({\"spiciness\": 2}, {\"seasoning\": \"black pepper\", \"dish\": \"pasta\"}) "
   ]
  },
  {
   "cell_type": "code",
   "execution_count": 18,
   "metadata": {},
   "outputs": [
    {
     "data": {
      "text/plain": [
       "{'dish', 'seasoning', 'spiciness'}"
      ]
     },
     "execution_count": 18,
     "metadata": {},
     "output_type": "execute_result"
    }
   ],
   "source": [
    "set(msg2.fields.keys()).union(set(msg2.properties.keys()))"
   ]
  },
  {
   "cell_type": "code",
   "execution_count": 19,
   "metadata": {},
   "outputs": [
    {
     "name": "stdout",
     "output_type": "stream",
     "text": [
      "No merge provided for spiciness, taking first value\n",
      "No merge provided for seasoning, taking first value\n"
     ]
    },
    {
     "data": {
      "text/plain": [
       "Message(fields={'spiciness': 1000}, properties={'dish': 'pasta', 'seasoning': 'hot sauce'})"
      ]
     },
     "execution_count": 19,
     "metadata": {},
     "output_type": "execute_result"
    }
   ],
   "source": [
    "dm([msg1, msg2])"
   ]
  },
  {
   "cell_type": "code",
   "execution_count": 20,
   "metadata": {},
   "outputs": [],
   "source": [
    "class MaxSpicyMerge(Merge):\n",
    "    def __init__(self):\n",
    "        super().__init__({\"spiciness\": np.max,}, {\"seasoning\": lambda x: x[1]})\n",
    "    \n"
   ]
  },
  {
   "cell_type": "code",
   "execution_count": 21,
   "metadata": {},
   "outputs": [],
   "source": [
    "msm = MaxSpicyMerge()"
   ]
  },
  {
   "cell_type": "code",
   "execution_count": 22,
   "metadata": {},
   "outputs": [
    {
     "data": {
      "text/plain": [
       "Message(fields={'spiciness': np.int64(1000)}, properties={'dish': 'pasta', 'seasoning': 'black pepper'})"
      ]
     },
     "execution_count": 22,
     "metadata": {},
     "output_type": "execute_result"
    }
   ],
   "source": [
    "msm([msg1, msg2])"
   ]
  },
  {
   "cell_type": "code",
   "execution_count": 23,
   "metadata": {},
   "outputs": [
    {
     "data": {
      "text/plain": [
       "{'image data': np.float64(24000000.0), 'time': 0.0}"
      ]
     },
     "execution_count": 23,
     "metadata": {},
     "output_type": "execute_result"
    }
   ],
   "source": [
    "image_data.fields"
   ]
  },
  {
   "cell_type": "code",
   "execution_count": 24,
   "metadata": {},
   "outputs": [
    {
     "data": {
      "text/plain": [
       "{'temperature data': 1.0, 'time': 0.0}"
      ]
     },
     "execution_count": 24,
     "metadata": {},
     "output_type": "execute_result"
    }
   ],
   "source": [
    "temp_data.fields"
   ]
  },
  {
   "cell_type": "code",
   "execution_count": 25,
   "metadata": {},
   "outputs": [
    {
     "name": "stdout",
     "output_type": "stream",
     "text": [
      "No merge provided for time, taking first value\n",
      "No merge provided for sample rate, taking first value\n"
     ]
    },
    {
     "data": {
      "text/plain": [
       "Message(fields={'temperature data': 1.0, 'image data': np.float64(24000000.0), 'time': 0.0}, properties={'sample rate': 1000, 'resolution': (6000, 4000, 8)})"
      ]
     },
     "execution_count": 25,
     "metadata": {},
     "output_type": "execute_result"
    }
   ],
   "source": [
    "dm([image_data, temp_data])"
   ]
  },
  {
   "cell_type": "code",
   "execution_count": 26,
   "metadata": {},
   "outputs": [],
   "source": [
    "class RateMerge(Merge):\n",
    "    def __init__(self):\n",
    "        super().__init__({\"time\": np.min,}, {\"sample rate\": np.min})"
   ]
  },
  {
   "cell_type": "code",
   "execution_count": 27,
   "metadata": {},
   "outputs": [],
   "source": [
    "rm = RateMerge()"
   ]
  },
  {
   "cell_type": "code",
   "execution_count": 28,
   "metadata": {},
   "outputs": [
    {
     "data": {
      "text/plain": [
       "Message(fields={'temperature data': 1.0, 'image data': np.float64(24000000.0), 'time': np.float64(0.0)}, properties={'sample rate': np.int64(1000), 'resolution': (6000, 4000, 8)})"
      ]
     },
     "execution_count": 28,
     "metadata": {},
     "output_type": "execute_result"
    }
   ],
   "source": [
    "rm([image_data, temp_data])"
   ]
  },
  {
   "cell_type": "code",
   "execution_count": 29,
   "metadata": {},
   "outputs": [
    {
     "data": {
      "text/plain": [
       "True"
      ]
     },
     "execution_count": 29,
     "metadata": {},
     "output_type": "execute_result"
    }
   ],
   "source": [
    "\"data\" in \"image data\""
   ]
  },
  {
   "cell_type": "code",
   "execution_count": 30,
   "metadata": {},
   "outputs": [
    {
     "name": "stdout",
     "output_type": "stream",
     "text": [
      "spiciness 1000\n"
     ]
    }
   ],
   "source": [
    "for (key, value) in msg1.fields.items():\n",
    "    print(key, value)"
   ]
  },
  {
   "cell_type": "code",
   "execution_count": 31,
   "metadata": {},
   "outputs": [],
   "source": [
    "class DataRate(Mutate):\n",
    "    def __init__(self):\n",
    "        msg_fields = []\n",
    "        msg_properties = []\n",
    "        host_parameters = []\n",
    "        \n",
    "        super().__init__(msg_fields, msg_properties, host_parameters)\n",
    "\n",
    "    def transform(self, message: Message, component: Component):\n",
    "        total_data = 0.0\n",
    "        for (key, value) in message.fields.items():\n",
    "            if \"data\" in key and key != \"total data\":\n",
    "                total_data += value\n",
    "\n",
    "        new_msg_fields = {\"total data\": total_data}\n",
    "        return new_msg_fields, {}, {}"
   ]
  },
  {
   "cell_type": "code",
   "execution_count": 32,
   "metadata": {},
   "outputs": [],
   "source": [
    "class StorageRate(Mutate):\n",
    "    def __init__(self):\n",
    "        msg_fields = [\"total data\"]\n",
    "        msg_properties = [\"sample rate\"]\n",
    "        host_parameters = []\n",
    "        \n",
    "        super().__init__(msg_fields, msg_properties, host_parameters)\n",
    "\n",
    "    def transform(self, message: Message, component: Component):\n",
    "        storage_rate = message.fields[\"total data\"] * message.properties[\"sample rate\"]\n",
    "        new_host_properties = {\"storage rate\": storage_rate}\n",
    "        return {}, {}, new_host_properties"
   ]
  },
  {
   "cell_type": "code",
   "execution_count": 33,
   "metadata": {},
   "outputs": [],
   "source": [
    "ms_host = Component(\"Merge/Store\", [DataRate(), StorageRate()], {}, {}, RateMerge())"
   ]
  },
  {
   "cell_type": "code",
   "execution_count": 34,
   "metadata": {},
   "outputs": [],
   "source": [
    "nodes = [ci_host, ct_host, ms_host]"
   ]
  },
  {
   "cell_type": "code",
   "execution_count": 35,
   "metadata": {},
   "outputs": [
    {
     "data": {
      "text/plain": [
       "['Image sensor', 'Thermocouple', 'Merge/Store']"
      ]
     },
     "execution_count": 35,
     "metadata": {},
     "output_type": "execute_result"
    }
   ],
   "source": [
    "[c.name for c in nodes]"
   ]
  },
  {
   "cell_type": "code",
   "execution_count": 36,
   "metadata": {},
   "outputs": [],
   "source": [
    "links = [DefaultLink(\"Image -> Merge/Store\",\n",
    "                     \"Image sensor\",\n",
    "                     \"Merge/Store\"),\n",
    "         DefaultLink(\"Thermocouple -> Merge/Store\", \"Thermocouple\", \"Merge/Store\"),]"
   ]
  },
  {
   "cell_type": "code",
   "execution_count": 37,
   "metadata": {},
   "outputs": [
    {
     "data": {
      "text/plain": [
       "[<systemflow.node.DefaultLink at 0x10a893610>,\n",
       " <systemflow.node.DefaultLink at 0x10a893220>]"
      ]
     },
     "execution_count": 37,
     "metadata": {},
     "output_type": "execute_result"
    }
   ],
   "source": [
    "links"
   ]
  },
  {
   "cell_type": "code",
   "execution_count": 38,
   "metadata": {},
   "outputs": [],
   "source": [
    "ms_graph = ExecutionGraph(\"Sense/Merge/Store\", nodes, links)"
   ]
  },
  {
   "cell_type": "code",
   "execution_count": 39,
   "metadata": {},
   "outputs": [
    {
     "data": {
      "text/plain": [
       "<systemflow.node.ExecutionGraph at 0x10a8916c0>"
      ]
     },
     "execution_count": 39,
     "metadata": {},
     "output_type": "execute_result"
    }
   ],
   "source": [
    "ms_graph"
   ]
  },
  {
   "cell_type": "code",
   "execution_count": 40,
   "metadata": {},
   "outputs": [
    {
     "data": {
      "text/plain": [
       "OutEdgeView([('Image sensor', 'Merge/Store'), ('Thermocouple', 'Merge/Store')])"
      ]
     },
     "execution_count": 40,
     "metadata": {},
     "output_type": "execute_result"
    }
   ],
   "source": [
    "ms_graph.graph.edges"
   ]
  },
  {
   "cell_type": "code",
   "execution_count": 41,
   "metadata": {},
   "outputs": [
    {
     "data": {
      "text/plain": [
       "<systemflow.node.Component at 0x10a8924d0>"
      ]
     },
     "execution_count": 41,
     "metadata": {},
     "output_type": "execute_result"
    }
   ],
   "source": [
    "ms_graph.graph.nodes[\"Merge/Store\"]['ref']"
   ]
  },
  {
   "cell_type": "code",
   "execution_count": 42,
   "metadata": {},
   "outputs": [
    {
     "data": {
      "text/plain": [
       "'Merge/Store'"
      ]
     },
     "execution_count": 42,
     "metadata": {},
     "output_type": "execute_result"
    }
   ],
   "source": [
    "ms_graph.root"
   ]
  },
  {
   "cell_type": "code",
   "execution_count": 43,
   "metadata": {},
   "outputs": [],
   "source": [
    "rp = ms_graph.get_predecessors(ms_graph.get_node(ms_graph.root))"
   ]
  },
  {
   "cell_type": "code",
   "execution_count": 44,
   "metadata": {},
   "outputs": [
    {
     "data": {
      "text/plain": [
       "[<systemflow.node.Component at 0x10a893640>,\n",
       " <systemflow.node.Component at 0x10a893ca0>]"
      ]
     },
     "execution_count": 44,
     "metadata": {},
     "output_type": "execute_result"
    }
   ],
   "source": [
    "rp"
   ]
  },
  {
   "cell_type": "code",
   "execution_count": 45,
   "metadata": {},
   "outputs": [],
   "source": [
    "c1 = rp[0](ms_graph)"
   ]
  },
  {
   "cell_type": "code",
   "execution_count": 46,
   "metadata": {},
   "outputs": [
    {
     "data": {
      "text/plain": [
       "[]"
      ]
     },
     "execution_count": 46,
     "metadata": {},
     "output_type": "execute_result"
    }
   ],
   "source": [
    "c1[1]"
   ]
  },
  {
   "cell_type": "code",
   "execution_count": 47,
   "metadata": {},
   "outputs": [
    {
     "data": {
      "text/plain": [
       "Message(fields={'image data': np.float64(24000000.0), 'time': 0.0}, properties={'resolution': (6000, 4000, 8), 'sample rate': 1000})"
      ]
     },
     "execution_count": 47,
     "metadata": {},
     "output_type": "execute_result"
    }
   ],
   "source": [
    "c1[0].output_msg"
   ]
  },
  {
   "cell_type": "code",
   "execution_count": 48,
   "metadata": {},
   "outputs": [
    {
     "data": {
      "text/plain": [
       "{'sensor power': 24.0}"
      ]
     },
     "execution_count": 48,
     "metadata": {},
     "output_type": "execute_result"
    }
   ],
   "source": [
    "c1[0].properties"
   ]
  },
  {
   "cell_type": "code",
   "execution_count": 49,
   "metadata": {},
   "outputs": [],
   "source": [
    "c2 = rp[1](ms_graph)"
   ]
  },
  {
   "cell_type": "code",
   "execution_count": 50,
   "metadata": {},
   "outputs": [
    {
     "data": {
      "text/plain": [
       "Message(fields={'temperature data': 1.0, 'time': 0.0}, properties={'sample rate': 1200})"
      ]
     },
     "execution_count": 50,
     "metadata": {},
     "output_type": "execute_result"
    }
   ],
   "source": [
    "c2[0].output_msg"
   ]
  },
  {
   "cell_type": "code",
   "execution_count": 51,
   "metadata": {},
   "outputs": [
    {
     "data": {
      "text/plain": [
       "{'sensor power': 0.001}"
      ]
     },
     "execution_count": 51,
     "metadata": {},
     "output_type": "execute_result"
    }
   ],
   "source": [
    "c2[0].properties"
   ]
  },
  {
   "cell_type": "code",
   "execution_count": 52,
   "metadata": {},
   "outputs": [],
   "source": [
    "rn = ms_graph.get_node(ms_graph.root)"
   ]
  },
  {
   "cell_type": "code",
   "execution_count": 53,
   "metadata": {},
   "outputs": [],
   "source": [
    "im = rn.merge([c1[0].output_msg, c2[0].output_msg])"
   ]
  },
  {
   "cell_type": "code",
   "execution_count": 54,
   "metadata": {},
   "outputs": [
    {
     "data": {
      "text/plain": [
       "Message(fields={'temperature data': 1.0, 'image data': np.float64(24000000.0), 'time': np.float64(0.0)}, properties={'sample rate': np.int64(1000), 'resolution': (6000, 4000, 8)})"
      ]
     },
     "execution_count": 54,
     "metadata": {},
     "output_type": "execute_result"
    }
   ],
   "source": [
    "im"
   ]
  },
  {
   "cell_type": "code",
   "execution_count": 55,
   "metadata": {},
   "outputs": [
    {
     "data": {
      "text/plain": [
       "(<systemflow.node.Component at 0x10a893550>,\n",
       " [(<systemflow.node.Component at 0x10a8927d0>, []),\n",
       "  (<systemflow.node.Component at 0x10a893370>, [])])"
      ]
     },
     "execution_count": 55,
     "metadata": {},
     "output_type": "execute_result"
    }
   ],
   "source": [
    "rn(ms_graph)"
   ]
  },
  {
   "cell_type": "code",
   "execution_count": 56,
   "metadata": {},
   "outputs": [
    {
     "data": {
      "text/plain": [
       "[<systemflow.node.Component at 0x10a892200>,\n",
       " <systemflow.node.Component at 0x10a8928c0>,\n",
       " <systemflow.node.Component at 0x10a892320>]"
      ]
     },
     "execution_count": 56,
     "metadata": {},
     "output_type": "execute_result"
    }
   ],
   "source": [
    "list(flatten(rn(ms_graph)))"
   ]
  },
  {
   "cell_type": "code",
   "execution_count": 58,
   "metadata": {},
   "outputs": [],
   "source": [
    "g2 = ms_graph()"
   ]
  },
  {
   "cell_type": "code",
   "execution_count": 59,
   "metadata": {},
   "outputs": [
    {
     "data": {
      "text/plain": [
       "1"
      ]
     },
     "execution_count": 59,
     "metadata": {},
     "output_type": "execute_result"
    }
   ],
   "source": [
    "g2.iteration"
   ]
  },
  {
   "cell_type": "code",
   "execution_count": null,
   "metadata": {},
   "outputs": [],
   "source": [
    "class MergeStore(Component):\n",
    "    def __init__(self, name: str, merge: Merge):\n",
    "        mutations = [DataRate(), StorageRate(),]\n",
    "        parameters = {}\n",
    "        properties = {}\n",
    "\n",
    "        super().__init__(name, mutations, parameters, properties, merge)"
   ]
  },
  {
   "cell_type": "code",
   "execution_count": null,
   "metadata": {},
   "outputs": [],
   "source": [
    "class Convolve(Mutate):\n",
    "    def __init__(self):\n",
    "        fields = [\"image data\"]\n",
    "        properties = [\"sensor\"]\n",
    "        parameters = [\"kernel x\", \"kernel y\", \"filters\"]\n",
    "        super().__init__(fields, properties, parameters)\n",
    "\n",
    "    def transform(self, component: Component, message: Message):\n",
    "        #access the required fields/properties/parameters\n",
    "        res = message.properties[\"sensor\"]\n",
    "        kernel_x = component.parameters[\"kernel x\"]\n",
    "        kernel_y = component.parameters[\"kernel y\"]\n",
    "        filters = component.parameters[\"filters\"]\n",
    "\n",
    "        #calculate the number of ops required for the kernel\n",
    "        kernel_ops = kernel_x * kernel_y * filters\n",
    "        steps_x = (res[0] - kernel_x) // kernel_x\n",
    "        steps_y = (res[1] - kernel_y) // kernel_y\n",
    "        kernel_repeats = steps_x * steps_y\n",
    "\n",
    "        #calculate the number of ops required for the kernel\n",
    "        transform_operations = kernel_ops * kernel_repeats\n",
    "\n",
    "        properties = {}\n",
    "        properties[\"transform operations\"] = transform_operations\n",
    "        fields = {}\n",
    "        fields[\"features\"] = np.prod((steps_x, steps_y, filters))\n",
    "\n",
    "        return fields, properties\n",
    "       "
   ]
  },
  {
   "cell_type": "code",
   "execution_count": null,
   "metadata": {},
   "outputs": [],
   "source": [
    "convolve_host = Component(\"Convolution\", [Convolve,], {\"kernel x\": 3, \"kernel y\": 3, \"filters\": 8}, {})"
   ]
  },
  {
   "cell_type": "code",
   "execution_count": null,
   "metadata": {},
   "outputs": [],
   "source": [
    "cnv = Convolve()"
   ]
  },
  {
   "cell_type": "code",
   "execution_count": null,
   "metadata": {},
   "outputs": [],
   "source": [
    "message, props = cnv(convolve_host, exp_msg)"
   ]
  },
  {
   "cell_type": "code",
   "execution_count": null,
   "metadata": {},
   "outputs": [
    {
     "data": {
      "text/plain": [
       "Message(fields={'image data': 24000000, 'temperature': 1, 'features': np.int64(21301344)}, properties={'sensor': (4000, 6000, 8), 'sample rate': 1000.0, 'time': 0.0})"
      ]
     },
     "execution_count": 35,
     "metadata": {},
     "output_type": "execute_result"
    }
   ],
   "source": [
    "message"
   ]
  },
  {
   "cell_type": "code",
   "execution_count": 36,
   "metadata": {},
   "outputs": [
    {
     "data": {
      "text/plain": [
       "{'transform operations': 191712096}"
      ]
     },
     "execution_count": 36,
     "metadata": {},
     "output_type": "execute_result"
    }
   ],
   "source": [
    "props"
   ]
  },
  {
   "cell_type": "code",
   "execution_count": null,
   "metadata": {},
   "outputs": [],
   "source": [
    "convolve_host = Component(\"Convolution\", [Convolve,], {\"kernel x\": 3, \"kernel y\": 3, \"filters\": 8}, {})"
   ]
  },
  {
   "cell_type": "code",
   "execution_count": 152,
   "metadata": {},
   "outputs": [],
   "source": [
    "from systemflow.classifier import *"
   ]
  },
  {
   "cell_type": "code",
   "execution_count": 153,
   "metadata": {},
   "outputs": [],
   "source": [
    "gc = GaussianClassifier(3.0)"
   ]
  },
  {
   "cell_type": "code",
   "execution_count": 171,
   "metadata": {},
   "outputs": [],
   "source": [
    "gc.solve_reduction([900, 100], 0.9)"
   ]
  },
  {
   "cell_type": "code",
   "execution_count": 172,
   "metadata": {},
   "outputs": [
    {
     "data": {
      "text/plain": [
       "array([[0.98055646, 0.17499203],\n",
       "       [0.01944354, 0.82500797]])"
      ]
     },
     "execution_count": 172,
     "metadata": {},
     "output_type": "execute_result"
    }
   ],
   "source": [
    "gc.error_matrix"
   ]
  },
  {
   "cell_type": "code",
   "execution_count": 180,
   "metadata": {},
   "outputs": [],
   "source": [
    "\n",
    "class GaussianClassify(Mutate):\n",
    "    def __init__(self):\n",
    "        fields = []\n",
    "        properties = [\"sample rate\"]\n",
    "        parameters = [\"skill\", \"variance\", \"reduction\"]\n",
    "        super().__init__(fields, properties, parameters)\n",
    "\n",
    "    def transform(self, component: Component, message: Message):\n",
    "        #access the required fields/properties/parameters\n",
    "        sample_rate = message.properties[\"sample rate\"]\n",
    "        skill = component.parameters[\"skill\"]\n",
    "        variance = component.parameters[\"variance\"]\n",
    "        reduction = component.parameters[\"reduction\"]\n",
    "\n",
    "        #calculate the error statistics\n",
    "        falses = sample_rate * reduction\n",
    "        trues = sample_rate - falses\n",
    "        inputs = np.array([falses, trues])\n",
    "        \n",
    "        gc = GaussianClassifier(skill, varscale=variance)\n",
    "        output = gc(inputs, reduction)\n",
    "\n",
    "        fields = {\"contingency\": output}\n",
    "        properties = {\"error matrix\": gc.error_matrix}\n",
    "\n",
    "        return fields, properties"
   ]
  },
  {
   "cell_type": "code",
   "execution_count": 181,
   "metadata": {},
   "outputs": [
    {
     "data": {
      "text/plain": [
       "100.0"
      ]
     },
     "execution_count": 181,
     "metadata": {},
     "output_type": "execute_result"
    }
   ],
   "source": [
    "1000 * 0.1"
   ]
  },
  {
   "cell_type": "code",
   "execution_count": 182,
   "metadata": {},
   "outputs": [],
   "source": [
    "gcf = GaussianClassify()"
   ]
  },
  {
   "cell_type": "code",
   "execution_count": 183,
   "metadata": {},
   "outputs": [],
   "source": [
    "classify_host = Component([\"Classify\"], [], {\"skill\": 3, \"variance\": 1, \"reduction\": 0.9}, {})"
   ]
  },
  {
   "cell_type": "code",
   "execution_count": 184,
   "metadata": {},
   "outputs": [],
   "source": [
    "msg2, props2 = gcf(classify_host, message)"
   ]
  },
  {
   "cell_type": "code",
   "execution_count": 185,
   "metadata": {},
   "outputs": [
    {
     "data": {
      "text/plain": [
       "1000.0"
      ]
     },
     "execution_count": 185,
     "metadata": {},
     "output_type": "execute_result"
    }
   ],
   "source": [
    "msg2.properties[\"sample rate\"]"
   ]
  },
  {
   "cell_type": "code",
   "execution_count": 186,
   "metadata": {},
   "outputs": [
    {
     "data": {
      "text/plain": [
       "{'error matrix': array([[0.98055646, 0.17499203],\n",
       "        [0.01944354, 0.82500797]])}"
      ]
     },
     "execution_count": 186,
     "metadata": {},
     "output_type": "execute_result"
    }
   ],
   "source": [
    "props2"
   ]
  },
  {
   "cell_type": "code",
   "execution_count": 187,
   "metadata": {},
   "outputs": [
    {
     "data": {
      "text/plain": [
       "array([882,  17])"
      ]
     },
     "execution_count": 187,
     "metadata": {},
     "output_type": "execute_result"
    }
   ],
   "source": [
    "get_rejected(msg2.fields[\"contingency\"])"
   ]
  },
  {
   "cell_type": "code",
   "execution_count": 188,
   "metadata": {},
   "outputs": [
    {
     "data": {
      "text/plain": [
       "array([17, 82])"
      ]
     },
     "execution_count": 188,
     "metadata": {},
     "output_type": "execute_result"
    }
   ],
   "source": [
    "get_passed(msg2.fields[\"contingency\"])"
   ]
  },
  {
   "cell_type": "code",
   "execution_count": 39,
   "metadata": {},
   "outputs": [
    {
     "data": {
      "text/plain": [
       "<networkx.classes.digraph.DiGraph at 0x128d81c60>"
      ]
     },
     "execution_count": 39,
     "metadata": {},
     "output_type": "execute_result"
    }
   ],
   "source": [
    "ntx.DiGraph()"
   ]
  },
  {
   "cell_type": "code",
   "execution_count": null,
   "metadata": {},
   "outputs": [],
   "source": []
  },
  {
   "cell_type": "code",
   "execution_count": null,
   "metadata": {},
   "outputs": [],
   "source": []
  },
  {
   "cell_type": "code",
   "execution_count": null,
   "metadata": {},
   "outputs": [],
   "source": [
    "stop"
   ]
  },
  {
   "cell_type": "code",
   "execution_count": null,
   "metadata": {},
   "outputs": [],
   "source": [
    "def flatten_tuple(t):\n",
    "    for item in t:\n",
    "        if isinstance(item, tuple):\n",
    "            yield from flatten_tuple(item)\n",
    "        else:\n",
    "            yield item"
   ]
  },
  {
   "cell_type": "code",
   "execution_count": null,
   "metadata": {},
   "outputs": [],
   "source": [
    "Message = namedtuple(\"Message\", [\"fields\", \"properties\"])"
   ]
  },
  {
   "cell_type": "code",
   "execution_count": null,
   "metadata": {},
   "outputs": [],
   "source": [
    "def merge_messages(x: Message, y: Message):\n",
    "        fields = x.fields | y.fields\n",
    "        properties = x.properties | y.properties\n",
    "        new_message = Message(fields, properties)\n",
    "        return new_message"
   ]
  },
  {
   "cell_type": "code",
   "execution_count": null,
   "metadata": {},
   "outputs": [],
   "source": [
    "class Merge(ABC):\n",
    "    def __init__(self, props_update):\n",
    "        self.props_update = props_update\n",
    "\n",
    "    def __call__(self, messages: list[Message]):\n",
    "        message = reduce(merge_messages, messages)\n",
    "        new_comp_properties = self.props_update(message)\n",
    "        return message, new_comp_properties"
   ]
  },
  {
   "cell_type": "code",
   "execution_count": null,
   "metadata": {},
   "outputs": [],
   "source": [
    "class DefaultMerge(Merge):\n",
    "    def __init__(self):\n",
    "        def dummy_props(message):\n",
    "            return {}\n",
    "        self.props_update = dummy_props\n",
    "        super().__init__(dummy_props)        "
   ]
  },
  {
   "cell_type": "code",
   "execution_count": null,
   "metadata": {},
   "outputs": [],
   "source": [
    "class Mutate(ABC):\n",
    "    def __init__(self, msg_fields: list[str], msg_properties: list[str], parameters: list[str]):\n",
    "        #fields contain the data necessary for the transform\n",
    "        self.msg_fields = msg_fields \n",
    "        #parameters control the behavior of the transform\n",
    "        self.msg_properties = msg_properties \n",
    "        self.parameters = parameters\n",
    "\n",
    "    def _field_check(self, message: Message) -> None:\n",
    "        field_present = [f in message.fields.keys() for f in self.msg_fields]\n",
    "        assert np.all(field_present), \"Input field for transform not found in incoming message\"\n",
    "\n",
    "    def _property_check(self, message: Message) -> None:\n",
    "        matches = [f in message.properties.keys() for f in self.msg_properties]\n",
    "        props_chk = np.all(matches)\n",
    "        if not props_chk:\n",
    "            missing = str(self.properties.keys()[~matches]) \n",
    "            assert props_chk, str(\"Transform's properties not found in incoming message:\", missing)\n",
    "    \n",
    "    def _param_check(self, component: 'Component') -> None:\n",
    "        matches = [f in component.parameters.keys() for f in self.parameters]\n",
    "        params_chk = np.all(matches)\n",
    "        if not params_chk:\n",
    "            missing = str(self.parameters.keys()[~matches]) \n",
    "            assert params_chk, str(\"Transform's control parameters not found in host component:\", missing)\n",
    "\n",
    "    def transform(self, component: 'Component', message: Message) -> tuple[dict, dict, dict]:\n",
    "        new_msg_fields = {}\n",
    "        new_msg_properties = {}\n",
    "        new_host_properties = {}\n",
    "        \n",
    "        # USER - calculate new fields/properties for message/component here\n",
    "        return new_msg_fields, new_msg_properties, new_host_properties\n",
    "    \n",
    "    def __call__(self, component: 'Component', message: Message) -> tuple[Message, dict]:\n",
    "        #check that all incoming messages have the field(s)/parameters necessary for the transform\n",
    "        self._field_check(message)\n",
    "        #check that the incoming message has the parameters necessary for the transform\n",
    "        self._property_check(message)\n",
    "        #check that the host component has the parameters necessary for the transform\n",
    "        self._param_check(component)\n",
    "\n",
    "        #create independent copies of the message and component\n",
    "        component = deepcopy(component)\n",
    "        message = deepcopy(message)\n",
    "        #determine the new fields for the message and properties for message and host\n",
    "        new_msg_fields, new_msg_props, new_host_props = self.transform(component, message)\n",
    "        #merge information into a new outgoing message\n",
    "        new_message = Message(message.fields | new_msg_fields, message.properties | new_msg_props)\n",
    "\n",
    "        return new_message, new_host_props"
   ]
  },
  {
   "cell_type": "code",
   "execution_count": null,
   "metadata": {},
   "outputs": [],
   "source": [
    "class Component(ABC):\n",
    "    def __init__(self, name: str, mutations: list[Mutate], parameters: dict, properties: dict) -> None:\n",
    "        super().__init__()\n",
    "        self.name = name\n",
    "        self.merge = DefaultMerge()\n",
    "        assert len(mutations) > 0, \"Should have at least one mutation in a component\"\n",
    "        self.mutations = mutations\n",
    "        self.parameters = parameters\n",
    "        self.properties = properties\n",
    "\n",
    "    def blank_message(self) -> Message:\n",
    "        message = Message({}, {})\n",
    "        return message\n",
    "\n",
    "    def __call__(self, exg: 'ExecutionGraph') -> 'Component':\n",
    "        #find which components send messages here\n",
    "        predecessors = exg.get_predecessors(self)\n",
    "        if len(predecessors) > 0:\n",
    "            #gather their input messages\n",
    "            input_components = [node(exg) for node in predecessors]\n",
    "            input_messages = [component.output_msg for component in input_components]\n",
    "            #merge them\n",
    "            input_msg = self.merge(input_messages)\n",
    "        else:\n",
    "            #otherwise, create a blank message\n",
    "            input_msg = self.blank_message()\n",
    "        \n",
    "        #go through the mutations on this component\n",
    "        mutations = list(accumulate(self.mutations, lambda x, f: f(x[0]), initial=input_msg))\n",
    "        #separate the message and property outputs\n",
    "        properties = [output[1] for output in mutations]\n",
    "        merged_properties = reduce(lambda x, y: x | y, properties) | self.properties\n",
    "\n",
    "        #store the new output message in the new component\n",
    "        new_component = Component(self.name, self.mutations, self.parameters, merged_properties)\n",
    "        new_component.output_msg = mutations[-1][0]\n",
    "        \n",
    "        return new_component\n"
   ]
  },
  {
   "cell_type": "code",
   "execution_count": null,
   "metadata": {},
   "outputs": [],
   "source": [
    "class Transport(ABC):\n",
    "    def __init__(self, msg_fields: dict, msg_properties: dict, parameters: dict) -> None:\n",
    "        self.msg_fields = msg_fields\n",
    "        self.msg_properties = msg_properties\n",
    "        self.parameters = parameters\n",
    "        self.properties = {}\n",
    "\n",
    "    def _field_check(self, message: Message) -> None:\n",
    "        field_present = [f in message.fields.keys() for f in self.msg_fields]\n",
    "        assert np.all(field_present), \"Input field for transform not found in incoming message\"\n",
    "\n",
    "    def _property_check(self, message: Message) -> None:\n",
    "        matches = [f in message.properties.keys() for f in self.msg_properties]\n",
    "        props_chk = np.all(matches)\n",
    "        if not props_chk:\n",
    "            missing = str(self.properties.keys()[~matches]) \n",
    "            assert props_chk, str(\"Transform's properties not found in incoming message:\", missing)\n",
    "    \n",
    "    def _param_check(self, link: 'Link') -> None:\n",
    "        matches = [f in link.parameters.keys() for f in self.parameters]\n",
    "        params_chk = np.all(matches)\n",
    "        if not params_chk:\n",
    "            missing = str(self.parameters.keys()[~matches]) \n",
    "            assert params_chk, str(\"Transform's control parameters not found in host component:\", missing)\n",
    "\n",
    "    def transport(self, link: 'Link', message: Message) -> dict:\n",
    "        parameters = link.parameters\n",
    "        new_properties = {}\n",
    "        # USER - calculate new properties for the link here\n",
    "        return new_properties\n",
    "\n",
    "    def __call__(self, link: 'Link') -> dict:\n",
    "        tx_message = link.tx.output_msg\n",
    "        #check that all incoming messages have the field(s)/parameters necessary for the transform\n",
    "        self._field_check(tx_message)\n",
    "        #check that the incoming message has the parameters necessary for the transform\n",
    "        self._property_check(tx_message)\n",
    "        #check that the host component has the parameters necessary for the transform\n",
    "        self._param_check(link)\n",
    "        \n",
    "        new_properties = self.transport(link, tx_message)\n",
    "        return new_properties\n"
   ]
  },
  {
   "cell_type": "code",
   "execution_count": null,
   "metadata": {},
   "outputs": [],
   "source": [
    "class Link(ABC):\n",
    "    def __init__(self, name: str, tx: Component, rx: Component, transport: Transport, parameters: dict):\n",
    "        self.name = name\n",
    "        self.tx = tx\n",
    "        self.rx = rx\n",
    "        self.transport = transport\n",
    "        self.parameters = parameters\n",
    "        self.properties = {}\n",
    "\n",
    "    def __call__(self) -> 'Link':\n",
    "        new_properties = self.transport(self)\n",
    "        new_link = Link(self.name, self.tx, self.rx, self.transport, self.properties | new_properties)\n",
    "        return new_link"
   ]
  },
  {
   "cell_type": "code",
   "execution_count": null,
   "metadata": {},
   "outputs": [],
   "source": [
    "class ExecutionGraph(ABC):\n",
    "    \"\"\"\n",
    "    Construct a new execution graph given a name, list of nodes (producers and components), and list of edges\n",
    "    (links between nodes).\n",
    "    \"\"\"\n",
    "    def __init__(self, name: str, nodes: list[Component], links: list[Link], iteration: int = 0):\n",
    "        self.name = name\n",
    "        self.nodes = nodes\n",
    "        self.links = links\n",
    "        self.iteration = iteration\n",
    "\n",
    "        nodes = [(n.name, {\"ref\": n,}) for n in nodes]\n",
    "        edges = [(l.tx, l.rx, {\"ref\": l}) for l in links]\n",
    "        self.graph = self.construct_graph(nodes, edges, 0)\n",
    "        self.root = self.identify_root()\n",
    "\n",
    "    def construct_graph(self, nodes: list[Component], edges: list[Link]) -> nx.classes.digraph:\n",
    "        g = nx.DiGraph()\n",
    "        g.add_nodes_from(nodes)\n",
    "        g.add_edges_from(edges)\n",
    "        g.graph[\"name\"] = self.name\n",
    "        #check that it's acyclic\n",
    "        assert nx.is_directed_acyclic_graph(g), \"Graph must be a tree (acyclic), check definition\"\n",
    "\n",
    "        return g\n",
    "\n",
    "    \"\"\"\n",
    "    Identify and return the root node of the execution graph\n",
    "    \"\"\"\n",
    "    def identify_root(self,):\n",
    "        od = list(self.graph.out_degree)\n",
    "        roots = list(filter(lambda x: x[1] == 0, od))\n",
    "        assert len(roots) == 1, \"More than 1 root identified\"\n",
    "        node = roots[0][0]\n",
    "        return node\n",
    "    \n",
    "    \"\"\"\n",
    "    Retrieve the nodes which are the parents of a given component\n",
    "    \"\"\"\n",
    "    def get_predecessors(self, node: Component) -> list[Component]:\n",
    "        up = list(self.graph.predecessors(node.name))\n",
    "        components = [u[\"ref\"] for u in up]\n",
    "        return components\n",
    "    \n",
    "    \"\"\"\n",
    "    Make a copy of a graph without attributes (names only) - for plotting\n",
    "    \"\"\"\n",
    "    def lean_copy(self):\n",
    "        graph = self.graph\n",
    "        lean_copy = nx.DiGraph()\n",
    "        for n in list(graph.nodes):\n",
    "            lean_copy.add_node(n)\n",
    "\n",
    "        for e in list(graph.edges):\n",
    "            lean_copy.add_edge(*e)\n",
    "\n",
    "        return lean_copy\n",
    "    \n",
    "    def __call__(self) -> 'ExecutionGraph':\n",
    "        #Get the root processing node and propagate calls recursively up from it\n",
    "        new_nodes = flatten_tuple(self.root(self))\n",
    "        #update the link information given the new nodes\n",
    "        new_links = [link(new_nodes) for link in self.links]\n",
    "        #create the new execution graph\n",
    "        exg = ExecutionGraph(self.name, new_nodes, new_links, self.iteration + 1)\n",
    "        return exg\n"
   ]
  },
  {
   "cell_type": "code",
   "execution_count": null,
   "metadata": {},
   "outputs": [],
   "source": [
    "class System(ABC):\n",
    "    def __init__(self, name: str, exec_graphs: list[ExecutionGraph], iter: int = 0):\n",
    "        self.name = name\n",
    "        self.exec_graphs = exec_graphs\n",
    "\n",
    "    def __call__(self) -> 'System':\n",
    "        new_graphs = [graph() for graph in self.exec_graphs]\n",
    "        new_system = System(self.name, new_graphs, self.iter + 1)\n",
    "        return new_system"
   ]
  }
 ],
 "metadata": {
  "kernelspec": {
   "display_name": "systemflow",
   "language": "python",
   "name": "python3"
  },
  "language_info": {
   "codemirror_mode": {
    "name": "ipython",
    "version": 3
   },
   "file_extension": ".py",
   "mimetype": "text/x-python",
   "name": "python",
   "nbconvert_exporter": "python",
   "pygments_lexer": "ipython3",
   "version": "3.10.15"
  }
 },
 "nbformat": 4,
 "nbformat_minor": 2
}
