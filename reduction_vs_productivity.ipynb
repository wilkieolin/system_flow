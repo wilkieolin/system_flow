{
 "cells": [
  {
   "cell_type": "code",
   "execution_count": 2,
   "metadata": {},
   "outputs": [],
   "source": [
    "from graph import *\n",
    "from models import *\n",
    "from metrics import *\n",
    "\n",
    "import pandas as pd\n",
    "import matplotlib.pyplot as plt\n",
    "from scipy.optimize import curve_fit\n",
    "import plotly.graph_objects as go"
   ]
  },
  {
   "cell_type": "code",
   "execution_count": 104,
   "metadata": {},
   "outputs": [],
   "source": [
    "# load data from the spreadsheet which defines the structure of the workflow,\n",
    "# as well as the parameters for data rates, efficiency, data reduction, and classifier performance\n",
    "# load data from the spreadsheet which defines the structure of the workflow,\n",
    "# as well as the parameters for data rates, efficiency, data reduction, and classifier performance\n",
    "run3_system = dataframes_from_spreadsheet(\"cms_system_60.xlsx\")\n",
    "run5_system = dataframes_from_spreadsheet(\"cms_system_200.xlsx\")\n",
    "run5_smartpx_system = dataframes_from_spreadsheet(\"cms_system_200_smartpx.xlsx\")"
   ]
  },
  {
   "cell_type": "code",
   "execution_count": 6,
   "metadata": {},
   "outputs": [
    {
     "data": {
      "text/html": [
       "<div>\n",
       "<style scoped>\n",
       "    .dataframe tbody tr th:only-of-type {\n",
       "        vertical-align: middle;\n",
       "    }\n",
       "\n",
       "    .dataframe tbody tr th {\n",
       "        vertical-align: top;\n",
       "    }\n",
       "\n",
       "    .dataframe thead th {\n",
       "        text-align: right;\n",
       "    }\n",
       "</style>\n",
       "<table border=\"1\" class=\"dataframe\">\n",
       "  <thead>\n",
       "    <tr style=\"text-align: right;\">\n",
       "      <th></th>\n",
       "      <th>Category</th>\n",
       "      <th>Detector</th>\n",
       "      <th>Data (bytes)</th>\n",
       "      <th>Sample Rate</th>\n",
       "      <th>Compression</th>\n",
       "      <th>Link Efficiency (J/bit)</th>\n",
       "      <th>Op Efficiency (J/op)</th>\n",
       "      <th>PU 200</th>\n",
       "    </tr>\n",
       "  </thead>\n",
       "  <tbody>\n",
       "    <tr>\n",
       "      <th>0</th>\n",
       "      <td>Tracking</td>\n",
       "      <td>Inner Tracker</td>\n",
       "      <td>1440000</td>\n",
       "      <td>40000000</td>\n",
       "      <td>0</td>\n",
       "      <td>2.220000e-11</td>\n",
       "      <td>0</td>\n",
       "      <td>1.440</td>\n",
       "    </tr>\n",
       "    <tr>\n",
       "      <th>1</th>\n",
       "      <td>Tracking</td>\n",
       "      <td>Outer Tracker PS</td>\n",
       "      <td>720000</td>\n",
       "      <td>40000000</td>\n",
       "      <td>0</td>\n",
       "      <td>2.220000e-11</td>\n",
       "      <td>0</td>\n",
       "      <td>0.720</td>\n",
       "    </tr>\n",
       "    <tr>\n",
       "      <th>2</th>\n",
       "      <td>Tracking</td>\n",
       "      <td>Outer Tracker 2S</td>\n",
       "      <td>430000</td>\n",
       "      <td>40000000</td>\n",
       "      <td>0</td>\n",
       "      <td>2.220000e-11</td>\n",
       "      <td>0</td>\n",
       "      <td>0.430</td>\n",
       "    </tr>\n",
       "    <tr>\n",
       "      <th>3</th>\n",
       "      <td>Tracking</td>\n",
       "      <td>Track Finder TPG</td>\n",
       "      <td>10000</td>\n",
       "      <td>40000000</td>\n",
       "      <td>0</td>\n",
       "      <td>2.220000e-11</td>\n",
       "      <td>0</td>\n",
       "      <td>0.010</td>\n",
       "    </tr>\n",
       "    <tr>\n",
       "      <th>4</th>\n",
       "      <td>Timing</td>\n",
       "      <td>MIP Timing BTL</td>\n",
       "      <td>240000</td>\n",
       "      <td>40000000</td>\n",
       "      <td>0</td>\n",
       "      <td>2.220000e-11</td>\n",
       "      <td>0</td>\n",
       "      <td>0.240</td>\n",
       "    </tr>\n",
       "    <tr>\n",
       "      <th>5</th>\n",
       "      <td>Timing</td>\n",
       "      <td>MIP Timing ETL</td>\n",
       "      <td>440000</td>\n",
       "      <td>40000000</td>\n",
       "      <td>0</td>\n",
       "      <td>2.220000e-11</td>\n",
       "      <td>0</td>\n",
       "      <td>0.440</td>\n",
       "    </tr>\n",
       "    <tr>\n",
       "      <th>6</th>\n",
       "      <td>Calorimetry</td>\n",
       "      <td>ECAL Barrel</td>\n",
       "      <td>600000</td>\n",
       "      <td>40000000</td>\n",
       "      <td>0</td>\n",
       "      <td>2.220000e-11</td>\n",
       "      <td>0</td>\n",
       "      <td>0.600</td>\n",
       "    </tr>\n",
       "    <tr>\n",
       "      <th>7</th>\n",
       "      <td>Calorimetry</td>\n",
       "      <td>HCAL Barrel</td>\n",
       "      <td>240000</td>\n",
       "      <td>40000000</td>\n",
       "      <td>0</td>\n",
       "      <td>2.220000e-11</td>\n",
       "      <td>0</td>\n",
       "      <td>0.240</td>\n",
       "    </tr>\n",
       "    <tr>\n",
       "      <th>8</th>\n",
       "      <td>Calorimetry</td>\n",
       "      <td>HCAL HO</td>\n",
       "      <td>30000</td>\n",
       "      <td>40000000</td>\n",
       "      <td>0</td>\n",
       "      <td>2.220000e-11</td>\n",
       "      <td>0</td>\n",
       "      <td>0.030</td>\n",
       "    </tr>\n",
       "    <tr>\n",
       "      <th>9</th>\n",
       "      <td>Calorimetry</td>\n",
       "      <td>HCAL HF</td>\n",
       "      <td>60000</td>\n",
       "      <td>40000000</td>\n",
       "      <td>0</td>\n",
       "      <td>2.220000e-11</td>\n",
       "      <td>0</td>\n",
       "      <td>0.060</td>\n",
       "    </tr>\n",
       "    <tr>\n",
       "      <th>10</th>\n",
       "      <td>Calorimetry</td>\n",
       "      <td>HGCAL</td>\n",
       "      <td>3000000</td>\n",
       "      <td>40000000</td>\n",
       "      <td>0</td>\n",
       "      <td>2.220000e-11</td>\n",
       "      <td>0</td>\n",
       "      <td>3.000</td>\n",
       "    </tr>\n",
       "    <tr>\n",
       "      <th>11</th>\n",
       "      <td>Calorimetry</td>\n",
       "      <td>HGCAL TPG Stage1</td>\n",
       "      <td>150000</td>\n",
       "      <td>40000000</td>\n",
       "      <td>0</td>\n",
       "      <td>2.220000e-11</td>\n",
       "      <td>0</td>\n",
       "      <td>0.150</td>\n",
       "    </tr>\n",
       "    <tr>\n",
       "      <th>12</th>\n",
       "      <td>Calorimetry</td>\n",
       "      <td>HGCAL TPG Stage2</td>\n",
       "      <td>50000</td>\n",
       "      <td>40000000</td>\n",
       "      <td>0</td>\n",
       "      <td>2.220000e-11</td>\n",
       "      <td>0</td>\n",
       "      <td>0.050</td>\n",
       "    </tr>\n",
       "    <tr>\n",
       "      <th>13</th>\n",
       "      <td>Muon</td>\n",
       "      <td>Muon DT</td>\n",
       "      <td>150000</td>\n",
       "      <td>40000000</td>\n",
       "      <td>0</td>\n",
       "      <td>2.220000e-11</td>\n",
       "      <td>0</td>\n",
       "      <td>0.150</td>\n",
       "    </tr>\n",
       "    <tr>\n",
       "      <th>14</th>\n",
       "      <td>Muon</td>\n",
       "      <td>Muon CSC</td>\n",
       "      <td>470000</td>\n",
       "      <td>40000000</td>\n",
       "      <td>0</td>\n",
       "      <td>2.220000e-11</td>\n",
       "      <td>0</td>\n",
       "      <td>0.470</td>\n",
       "    </tr>\n",
       "    <tr>\n",
       "      <th>15</th>\n",
       "      <td>Muon</td>\n",
       "      <td>Muon GEM GE1</td>\n",
       "      <td>3000</td>\n",
       "      <td>40000000</td>\n",
       "      <td>0</td>\n",
       "      <td>2.220000e-11</td>\n",
       "      <td>0</td>\n",
       "      <td>0.003</td>\n",
       "    </tr>\n",
       "    <tr>\n",
       "      <th>16</th>\n",
       "      <td>Muon</td>\n",
       "      <td>Muon GEM GE2</td>\n",
       "      <td>2000</td>\n",
       "      <td>40000000</td>\n",
       "      <td>0</td>\n",
       "      <td>2.220000e-11</td>\n",
       "      <td>0</td>\n",
       "      <td>0.002</td>\n",
       "    </tr>\n",
       "    <tr>\n",
       "      <th>17</th>\n",
       "      <td>Muon</td>\n",
       "      <td>Muon GEM ME0</td>\n",
       "      <td>120000</td>\n",
       "      <td>40000000</td>\n",
       "      <td>0</td>\n",
       "      <td>2.220000e-11</td>\n",
       "      <td>0</td>\n",
       "      <td>0.120</td>\n",
       "    </tr>\n",
       "    <tr>\n",
       "      <th>18</th>\n",
       "      <td>Muon</td>\n",
       "      <td>Muon RPC</td>\n",
       "      <td>10000</td>\n",
       "      <td>40000000</td>\n",
       "      <td>0</td>\n",
       "      <td>2.220000e-11</td>\n",
       "      <td>0</td>\n",
       "      <td>0.010</td>\n",
       "    </tr>\n",
       "  </tbody>\n",
       "</table>\n",
       "</div>"
      ],
      "text/plain": [
       "       Category          Detector  Data (bytes)  Sample Rate  Compression  \\\n",
       "0      Tracking     Inner Tracker       1440000     40000000            0   \n",
       "1      Tracking  Outer Tracker PS        720000     40000000            0   \n",
       "2      Tracking  Outer Tracker 2S        430000     40000000            0   \n",
       "3      Tracking  Track Finder TPG         10000     40000000            0   \n",
       "4        Timing    MIP Timing BTL        240000     40000000            0   \n",
       "5        Timing    MIP Timing ETL        440000     40000000            0   \n",
       "6   Calorimetry       ECAL Barrel        600000     40000000            0   \n",
       "7   Calorimetry       HCAL Barrel        240000     40000000            0   \n",
       "8   Calorimetry           HCAL HO         30000     40000000            0   \n",
       "9   Calorimetry           HCAL HF         60000     40000000            0   \n",
       "10  Calorimetry             HGCAL       3000000     40000000            0   \n",
       "11  Calorimetry  HGCAL TPG Stage1        150000     40000000            0   \n",
       "12  Calorimetry  HGCAL TPG Stage2         50000     40000000            0   \n",
       "13         Muon           Muon DT        150000     40000000            0   \n",
       "14         Muon          Muon CSC        470000     40000000            0   \n",
       "15         Muon      Muon GEM GE1          3000     40000000            0   \n",
       "16         Muon      Muon GEM GE2          2000     40000000            0   \n",
       "17         Muon      Muon GEM ME0        120000     40000000            0   \n",
       "18         Muon          Muon RPC         10000     40000000            0   \n",
       "\n",
       "    Link Efficiency (J/bit)  Op Efficiency (J/op)  PU 200  \n",
       "0              2.220000e-11                     0   1.440  \n",
       "1              2.220000e-11                     0   0.720  \n",
       "2              2.220000e-11                     0   0.430  \n",
       "3              2.220000e-11                     0   0.010  \n",
       "4              2.220000e-11                     0   0.240  \n",
       "5              2.220000e-11                     0   0.440  \n",
       "6              2.220000e-11                     0   0.600  \n",
       "7              2.220000e-11                     0   0.240  \n",
       "8              2.220000e-11                     0   0.030  \n",
       "9              2.220000e-11                     0   0.060  \n",
       "10             2.220000e-11                     0   3.000  \n",
       "11             2.220000e-11                     0   0.150  \n",
       "12             2.220000e-11                     0   0.050  \n",
       "13             2.220000e-11                     0   0.150  \n",
       "14             2.220000e-11                     0   0.470  \n",
       "15             2.220000e-11                     0   0.003  \n",
       "16             2.220000e-11                     0   0.002  \n",
       "17             2.220000e-11                     0   0.120  \n",
       "18             2.220000e-11                     0   0.010  "
      ]
     },
     "execution_count": 6,
     "metadata": {},
     "output_type": "execute_result"
    }
   ],
   "source": [
    "run5_system.detectors"
   ]
  },
  {
   "cell_type": "code",
   "execution_count": 7,
   "metadata": {},
   "outputs": [],
   "source": [
    "#import the data predicting wall time scaling by pileup\n",
    "scaling = pd.read_excel(\"wall time scaling.xlsx\", sheet_name=\"Data\")\n",
    "#fit a polynomial to this data for CPU and GPU runtimes\n",
    "fit_poly = lambda x, k3, k2, k1: k3 * x ** 3 + k2 * x ** 2 + k1 * x\n",
    "k, cv = curve_fit(fit_poly, scaling[\"Size\"], scaling[\"Wall Time\"])\n",
    "k_gpu, cv_gpu = curve_fit(fit_poly, scaling[\"Size\"], scaling[\"Wall Time GPU\"])"
   ]
  },
  {
   "cell_type": "code",
   "execution_count": 8,
   "metadata": {},
   "outputs": [],
   "source": [
    "#define a dictionary with functions defining the scaling of trigger runtimes with incoming data\n",
    "funcs = {\"Global\": lambda x: fit_poly(x, *k), \"Intermediate\": lambda x: x / 2.0e6}\n",
    "funcs_gpu = {\"Global\": lambda x: fit_poly(x, *k_gpu), \"Intermediate\": lambda x: x / 2.0e6}"
   ]
  },
  {
   "cell_type": "code",
   "execution_count": 105,
   "metadata": {},
   "outputs": [
    {
     "name": "stderr",
     "output_type": "stream",
     "text": [
      "/Users/wilkie/code/system_flow/classifier.py:197: IntegrationWarning:\n",
      "\n",
      "The maximum number of subdivisions (50) has been achieved.\n",
      "  If increasing the limit yields no improvement it is advised to analyze \n",
      "  the integrand in order to determine the difficulties.  If the position of a \n",
      "  local difficulty can be determined (singularity, discontinuity) one will \n",
      "  probably gain from splitting up the interval and calling the integrator \n",
      "  on the subranges.  Perhaps a special-purpose integrator should be used.\n",
      "\n"
     ]
    }
   ],
   "source": [
    "ex_run3 = construct_graph(run3_system.detectors, run3_system.triggers, run3_system.globals, funcs)"
   ]
  },
  {
   "cell_type": "code",
   "execution_count": 10,
   "metadata": {},
   "outputs": [
    {
     "name": "stderr",
     "output_type": "stream",
     "text": [
      "/Users/wilkie/code/system_flow/classifier.py:197: IntegrationWarning: The maximum number of subdivisions (50) has been achieved.\n",
      "  If increasing the limit yields no improvement it is advised to analyze \n",
      "  the integrand in order to determine the difficulties.  If the position of a \n",
      "  local difficulty can be determined (singularity, discontinuity) one will \n",
      "  probably gain from splitting up the interval and calling the integrator \n",
      "  on the subranges.  Perhaps a special-purpose integrator should be used.\n",
      "  fit = lambda l: np.abs(self.egamma_rate - quad(lambda x: self.exp_dist(x, l) * interpolator(x), np.min(xs), np.max(xs))[0])\n"
     ]
    }
   ],
   "source": [
    "ex_run5 = construct_graph(run5_system.detectors, run5_system.triggers, run5_system.globals, funcs)"
   ]
  },
  {
   "cell_type": "code",
   "execution_count": 11,
   "metadata": {},
   "outputs": [
    {
     "name": "stderr",
     "output_type": "stream",
     "text": [
      "/Users/wilkie/code/system_flow/classifier.py:197: IntegrationWarning: The maximum number of subdivisions (50) has been achieved.\n",
      "  If increasing the limit yields no improvement it is advised to analyze \n",
      "  the integrand in order to determine the difficulties.  If the position of a \n",
      "  local difficulty can be determined (singularity, discontinuity) one will \n",
      "  probably gain from splitting up the interval and calling the integrator \n",
      "  on the subranges.  Perhaps a special-purpose integrator should be used.\n",
      "  fit = lambda l: np.abs(self.egamma_rate - quad(lambda x: self.exp_dist(x, l) * interpolator(x), np.min(xs), np.max(xs))[0])\n"
     ]
    }
   ],
   "source": [
    "ex_run5_gpu = construct_graph(run5_system.detectors, run5_system.triggers, run5_system.globals, funcs_gpu)"
   ]
  },
  {
   "cell_type": "code",
   "execution_count": 12,
   "metadata": {},
   "outputs": [],
   "source": [
    "from copy import deepcopy"
   ]
  },
  {
   "cell_type": "code",
   "execution_count": 13,
   "metadata": {},
   "outputs": [],
   "source": [
    "ex_run5_l1t_gpu = deepcopy(ex_run5_gpu)\n",
    "ex_run5_l1t_gpu.nodes[\"Intermediate\"][\"classifier\"].skill_boost = 0.40"
   ]
  },
  {
   "cell_type": "code",
   "execution_count": 14,
   "metadata": {},
   "outputs": [],
   "source": [
    "def extract_results(graph):\n",
    "\n",
    "    power = graph.graph[\"op power\"] + graph.graph[\"link power\"]\n",
    "    confusion = graph.graph[\"performance\"]\n",
    "\n",
    "    return power, confusion"
   ]
  },
  {
   "cell_type": "code",
   "execution_count": 15,
   "metadata": {},
   "outputs": [],
   "source": [
    "def vary_system(graph, it_reduction: float):\n",
    "    graph = deepcopy(graph)\n",
    "    graph.nodes[\"Inner Tracker\"][\"sample data\"] = it_reduction * graph.nodes[\"Inner Tracker\"][\"sample data\"]\n",
    "    \n",
    "    graph = update_throughput(graph)\n",
    "\n",
    "    power = graph.graph[\"op power\"] + graph.graph[\"link power\"]\n",
    "    confusion = graph.graph[\"performance\"]\n",
    "\n",
    "    return power, confusion, graph"
   ]
  },
  {
   "cell_type": "code",
   "execution_count": 16,
   "metadata": {},
   "outputs": [],
   "source": [
    "baseline = vary_system(ex_run5, 0.0)"
   ]
  },
  {
   "cell_type": "code",
   "execution_count": 20,
   "metadata": {},
   "outputs": [
    {
     "data": {
      "text/plain": [
       "32.91019388486252"
      ]
     },
     "execution_count": 20,
     "metadata": {},
     "output_type": "execute_result"
    }
   ],
   "source": [
    "baseline[0] / 1e6 / density_scale_model(ex_run5.graph[\"globals\"][\"Year\"][0])"
   ]
  },
  {
   "cell_type": "code",
   "execution_count": 76,
   "metadata": {},
   "outputs": [],
   "source": [
    "#vary this accept rate from today's rate to the planned Run-5 \n",
    "it_reductions = np.linspace(1.0, 0.40, 101)"
   ]
  },
  {
   "cell_type": "code",
   "execution_count": 77,
   "metadata": {},
   "outputs": [],
   "source": [
    "res_r5 = [vary_system(ex_run5, r) for r in it_reductions]"
   ]
  },
  {
   "cell_type": "code",
   "execution_count": 78,
   "metadata": {},
   "outputs": [],
   "source": [
    "res_r5_gpu = [vary_system(ex_run5_gpu, r) for r in it_reductions]"
   ]
  },
  {
   "cell_type": "code",
   "execution_count": 79,
   "metadata": {},
   "outputs": [],
   "source": [
    "res_r5_l1t_gpu = [vary_system(ex_run5_l1t_gpu, r) for r in it_reductions]"
   ]
  },
  {
   "cell_type": "code",
   "execution_count": 80,
   "metadata": {},
   "outputs": [],
   "source": [
    "def extract_metrics(results):\n",
    "    all_confusion = np.array([r[1] for r in results])\n",
    "\n",
    "    all_power = [r[0] / density_scale_model(r[2].graph[\"globals\"][\"Year\"][0]) for r in results]\n",
    "    all_power = np.array(all_power)\n",
    "\n",
    "    all_recall = np.array([recall(all_confusion[i,:,:]) for i in range(all_confusion.shape[0])])\n",
    "    all_precision = np.array([precision(all_confusion[i,:,:]) for i in range(all_confusion.shape[0])])\n",
    "    all_f1 = np.array([f1_score(all_confusion[i,:,:]) for i in range(all_confusion.shape[0])])\n",
    "    productivity = np.array([np.sum(get_passed(all_confusion[i,:,:])) for i in range(all_confusion.shape[0])])\n",
    "\n",
    "    metrics = {\"confusion\": all_confusion,\n",
    "               \"power\": all_power,\n",
    "               \"recall\": all_recall,\n",
    "               \"precision\": all_precision,\n",
    "               \"f1 score\": all_f1,\n",
    "               \"productivity\": all_recall * productivity}\n",
    "\n",
    "    return metrics"
   ]
  },
  {
   "cell_type": "code",
   "execution_count": 81,
   "metadata": {},
   "outputs": [],
   "source": [
    "run5_metrics = extract_metrics(res_r5)"
   ]
  },
  {
   "cell_type": "code",
   "execution_count": 82,
   "metadata": {},
   "outputs": [],
   "source": [
    "run5_metrics_gpu = extract_metrics(res_r5_gpu)"
   ]
  },
  {
   "cell_type": "code",
   "execution_count": 83,
   "metadata": {},
   "outputs": [],
   "source": [
    "run5_metrics_l1t_gpu = extract_metrics(res_r5_l1t_gpu)"
   ]
  },
  {
   "cell_type": "code",
   "execution_count": 93,
   "metadata": {},
   "outputs": [
    {
     "data": {
      "text/plain": [
       "array([0.83940585, 0.83940585, 0.83940585, 0.83940585, 0.83940585,\n",
       "       0.83940585, 0.83940585, 0.83940585, 0.83940585, 0.83940585,\n",
       "       0.83940585, 0.83940585, 0.83940585, 0.83940585, 0.83940585,\n",
       "       0.83940585, 0.83940585, 0.83940585, 0.83940585, 0.83940585,\n",
       "       0.83940585, 0.83940585, 0.83940585, 0.83940585, 0.83940585,\n",
       "       0.83940585, 0.83940585, 0.83940585, 0.83940585, 0.83940585,\n",
       "       0.83940585, 0.83940585, 0.83940585, 0.83940585, 0.83940585,\n",
       "       0.83940585, 0.83940585, 0.83940585, 0.83940585, 0.83940585,\n",
       "       0.83940585, 0.83940585, 0.83940585, 0.83940585, 0.83940585,\n",
       "       0.83940585, 0.83940585, 0.83940585, 0.83940585, 0.83940585,\n",
       "       0.83940585, 0.83940585, 0.83940585, 0.83940585, 0.83940585,\n",
       "       0.83940585, 0.83940585, 0.83940585, 0.83940585, 0.83940585,\n",
       "       0.83940585, 0.83940585, 0.83940585, 0.83940585, 0.83940585,\n",
       "       0.83940585, 0.83940585, 0.83940585, 0.83940585, 0.83940585,\n",
       "       0.83940585, 0.83940585, 0.83940585, 0.83940585, 0.83940585,\n",
       "       0.83940585, 0.83940585, 0.83940585, 0.83940585, 0.83940585,\n",
       "       0.83940585, 0.83940585, 0.83940585, 0.83940585, 0.83940585,\n",
       "       0.83940585, 0.83940585, 0.83940585, 0.83940585, 0.83940585,\n",
       "       0.83940585, 0.83940585, 0.83940585, 0.83940585, 0.83940585,\n",
       "       0.83940585, 0.83940585, 0.83940585, 0.83940585, 0.83940585,\n",
       "       0.83940585])"
      ]
     },
     "execution_count": 93,
     "metadata": {},
     "output_type": "execute_result"
    }
   ],
   "source": [
    "run5_metrics_l1t_gpu[\"f1 score\"]"
   ]
  },
  {
   "cell_type": "code",
   "execution_count": 84,
   "metadata": {},
   "outputs": [],
   "source": [
    "output_rate = 7.5e3"
   ]
  },
  {
   "cell_type": "code",
   "execution_count": 101,
   "metadata": {},
   "outputs": [
    {
     "data": {
      "application/vnd.plotly.v1+json": {
       "config": {
        "plotlyServerURL": "https://plot.ly"
       },
       "data": [
        {
         "name": "Baseline",
         "type": "scatter",
         "x": [
          0,
          0.6000000000000005,
          1.200000000000001,
          1.8000000000000016,
          2.400000000000002,
          3.0000000000000027,
          3.600000000000003,
          4.200000000000004,
          4.800000000000004,
          5.400000000000005,
          6.000000000000005,
          6.600000000000006,
          7.200000000000006,
          7.799999999999995,
          8.399999999999997,
          8.999999999999996,
          9.599999999999998,
          10.199999999999998,
          10.799999999999999,
          11.399999999999999,
          12,
          12.6,
          13.200000000000001,
          13.8,
          14.400000000000002,
          15.000000000000002,
          15.600000000000003,
          16.200000000000003,
          16.800000000000004,
          17.400000000000006,
          17.999999999999993,
          18.599999999999994,
          19.199999999999996,
          19.799999999999997,
          20.399999999999995,
          20.999999999999996,
          21.599999999999998,
          22.199999999999996,
          22.799999999999997,
          23.4,
          24,
          24.6,
          25.2,
          25.8,
          26.400000000000002,
          27,
          27.6,
          28.200000000000003,
          28.800000000000004,
          29.400000000000006,
          30.000000000000004,
          30.600000000000005,
          31.200000000000006,
          31.800000000000004,
          32.400000000000006,
          33.00000000000001,
          33.60000000000001,
          34.20000000000001,
          34.80000000000001,
          35.4,
          36,
          36.6,
          37.2,
          37.8,
          38.4,
          39,
          39.6,
          40.2,
          40.800000000000004,
          41.400000000000006,
          41.99999999999999,
          42.599999999999994,
          43.199999999999996,
          43.8,
          44.39999999999999,
          44.99999999999999,
          45.599999999999994,
          46.199999999999996,
          46.8,
          47.4,
          48,
          48.6,
          49.2,
          49.8,
          50.4,
          51,
          51.6,
          52.2,
          52.800000000000004,
          53.400000000000006,
          54,
          54.6,
          55.2,
          55.800000000000004,
          56.400000000000006,
          57.00000000000001,
          57.60000000000001,
          58.199999999999996,
          58.8,
          59.4,
          60
         ],
         "y": [
          0.06479483538602805,
          0.06495674231448122,
          0.06511919776789259,
          0.0652822041045654,
          0.06544576369513623,
          0.06560987892265106,
          0.06577455218264207,
          0.06593978588320482,
          0.06610558244507612,
          0.06627194430171245,
          0.0664388738993687,
          0.06660637369717791,
          0.06677444616723119,
          0.06694309379465843,
          0.0671123190777094,
          0.06728212452783577,
          0.06745251266977335,
          0.06762348604162509,
          0.06779504719494474,
          0.067967198694821,
          0.06813994311996235,
          0.06831328306278242,
          0.06848722112948612,
          0.06866175994015614,
          0.06883690212884044,
          0.06901265034364001,
          0.06918900724679761,
          0.06936597551478675,
          0.06954355783840173,
          0.06972175692284809,
          0.0699005754878338,
          0.07008001626766112,
          0.07026008201131904,
          0.07044077548257664,
          0.07062209946007673,
          0.07080405673743065,
          0.07098665012331336,
          0.0711698824415595,
          0.07135375653126,
          0.07153827524685956,
          0.07172344145825459,
          0.07190925805089217,
          0.07209572792586956,
          0.07228285400003447,
          0.07247063920608611,
          0.07265908649267702,
          0.0728481988245155,
          0.07303797918246899,
          0.07322843056366818,
          0.0734195559816117,
          0.073611358466272,
          0.07380384106420135,
          0.07399700683863954,
          0.07419085886962154,
          0.07438540025408642,
          0.07458063410598705,
          0.0747765635564004,
          0.07497319175363897,
          0.07517052186336286,
          0.07536855706869267,
          0.07556730057032338,
          0.07576675558663903,
          0.07596692535382822,
          0.07616781312600052,
          0.07636942217530372,
          0.07657175579204206,
          0.07677481728479535,
          0.07697860998053875,
          0.07718313722476397,
          0.07738840238160061,
          0.07759440883393938,
          0.07780115998355541,
          0.07800865925123306,
          0.07821691007689131,
          0.07842591591971045,
          0.07863568025825937,
          0.07884620659062419,
          0.07905749843453756,
          0.07926955932750922,
          0.07948239282695727,
          0.07969600251034085,
          0.07991039197529337,
          0.0801255648397571,
          0.08034152474211867,
          0.08055827534134578,
          0.08077582031712456,
          0.08099416336999854,
          0.08121330822150821,
          0.08143325861433195,
          0.08165401831242805,
          0.08187559110117762,
          0.08209798078752875,
          0.0823211912001419,
          0.08254522618953627,
          0.08277008962823726,
          0.08299578541092527,
          0.08322231745458553,
          0.08344968969865912,
          0.0836779061051953,
          0.0839069706590047,
          0.08413688736781415
         ]
        },
        {
         "name": "+GPU",
         "type": "scatter",
         "x": [
          0,
          0.6000000000000005,
          1.200000000000001,
          1.8000000000000016,
          2.400000000000002,
          3.0000000000000027,
          3.600000000000003,
          4.200000000000004,
          4.800000000000004,
          5.400000000000005,
          6.000000000000005,
          6.600000000000006,
          7.200000000000006,
          7.799999999999995,
          8.399999999999997,
          8.999999999999996,
          9.599999999999998,
          10.199999999999998,
          10.799999999999999,
          11.399999999999999,
          12,
          12.6,
          13.200000000000001,
          13.8,
          14.400000000000002,
          15.000000000000002,
          15.600000000000003,
          16.200000000000003,
          16.800000000000004,
          17.400000000000006,
          17.999999999999993,
          18.599999999999994,
          19.199999999999996,
          19.799999999999997,
          20.399999999999995,
          20.999999999999996,
          21.599999999999998,
          22.199999999999996,
          22.799999999999997,
          23.4,
          24,
          24.6,
          25.2,
          25.8,
          26.400000000000002,
          27,
          27.6,
          28.200000000000003,
          28.800000000000004,
          29.400000000000006,
          30.000000000000004,
          30.600000000000005,
          31.200000000000006,
          31.800000000000004,
          32.400000000000006,
          33.00000000000001,
          33.60000000000001,
          34.20000000000001,
          34.80000000000001,
          35.4,
          36,
          36.6,
          37.2,
          37.8,
          38.4,
          39,
          39.6,
          40.2,
          40.800000000000004,
          41.400000000000006,
          41.99999999999999,
          42.599999999999994,
          43.199999999999996,
          43.8,
          44.39999999999999,
          44.99999999999999,
          45.599999999999994,
          46.199999999999996,
          46.8,
          47.4,
          48,
          48.6,
          49.2,
          49.8,
          50.4,
          51,
          51.6,
          52.2,
          52.800000000000004,
          53.400000000000006,
          54,
          54.6,
          55.2,
          55.800000000000004,
          56.400000000000006,
          57.00000000000001,
          57.60000000000001,
          58.199999999999996,
          58.8,
          59.4,
          60
         ],
         "y": [
          0.12904759881569827,
          0.12936970300075812,
          0.1296928970719917,
          0.13001718570880202,
          0.13034257361502888,
          0.13066906551909963,
          0.13099666617418085,
          0.1313253803583314,
          0.13165521287465617,
          0.13198616855146106,
          0.13231825224240945,
          0.13265146882667933,
          0.1329858232091215,
          0.1333213203204193,
          0.1336579651172494,
          0.13399576258244328,
          0.13433471772515068,
          0.1346748355810034,
          0.13501612121228082,
          0.13535857970807644,
          0.1357022161844658,
          0.13604703578467486,
          0.1363930436792511,
          0.13674024506623414,
          0.13708864517132877,
          0.1374382492480789,
          0.13778906257804252,
          0.1381410904709684,
          0.13849433826497382,
          0.13884881132672322,
          0.13920451505160902,
          0.1395614548639332,
          0.13991963621708992,
          0.14027906459375014,
          0.14063974550604752,
          0.1410016844957648,
          0.14136488713452294,
          0.14172935902397035,
          0.14209510579597434,
          0.1424621331128137,
          0.14283044666737268,
          0.1432000521833363,
          0.14357095541538759,
          0.14394316214940547,
          0.14431667820266492,
          0.14469150942403808,
          0.14506766169419708,
          0.14544514092581837,
          0.14582395306378843,
          0.14620410408541104,
          0.14658560000061638,
          0.14696844685217125,
          0.14735265071589132,
          0.1477382177008541,
          0.148125153949615,
          0.14851346563842327,
          0.1489031589774409,
          0.14929424021096274,
          0.1496867156176377,
          0.15008059151069247,
          0.15047587423815656,
          0.15087257018308886,
          0.15127068576380623,
          0.15167022743411346,
          0.1520712016835354,
          0.15247361503755044,
          0.15287747405782595,
          0.15328278534245554,
          0.15368955552619804,
          0.15409779128071815,
          0.1545074993148293,
          0.15491868637473807,
          0.15533135924429026,
          0.15574552474521958,
          0.15616118973739734,
          0.15657836111908469,
          0.15699704582718646,
          0.15741725083750713,
          0.15783898316500858,
          0.15826224986406984,
          0.15868705802874933,
          0.15911341479304794,
          0.15954132733117565,
          0.1599708028578189,
          0.1604018486284108,
          0.1608344719394031,
          0.16126868012854026,
          0.16170448057513592,
          0.16214188070035107,
          0.16258088796747464,
          0.16302150988220648,
          0.16346375399294202,
          0.16390762789105937,
          0.16435313921120895,
          0.16480029563160492,
          0.16524910487431912,
          0.16569957470557736,
          0.1661517129360577,
          0.16660552742119142,
          0.1670610260614664,
          0.1675182168027323
         ]
        },
        {
         "name": "+L1 Tracks, GPU",
         "type": "scatter",
         "x": [
          0,
          0.6000000000000005,
          1.200000000000001,
          1.8000000000000016,
          2.400000000000002,
          3.0000000000000027,
          3.600000000000003,
          4.200000000000004,
          4.800000000000004,
          5.400000000000005,
          6.000000000000005,
          6.600000000000006,
          7.200000000000006,
          7.799999999999995,
          8.399999999999997,
          8.999999999999996,
          9.599999999999998,
          10.199999999999998,
          10.799999999999999,
          11.399999999999999,
          12,
          12.6,
          13.200000000000001,
          13.8,
          14.400000000000002,
          15.000000000000002,
          15.600000000000003,
          16.200000000000003,
          16.800000000000004,
          17.400000000000006,
          17.999999999999993,
          18.599999999999994,
          19.199999999999996,
          19.799999999999997,
          20.399999999999995,
          20.999999999999996,
          21.599999999999998,
          22.199999999999996,
          22.799999999999997,
          23.4,
          24,
          24.6,
          25.2,
          25.8,
          26.400000000000002,
          27,
          27.6,
          28.200000000000003,
          28.800000000000004,
          29.400000000000006,
          30.000000000000004,
          30.600000000000005,
          31.200000000000006,
          31.800000000000004,
          32.400000000000006,
          33.00000000000001,
          33.60000000000001,
          34.20000000000001,
          34.80000000000001,
          35.4,
          36,
          36.6,
          37.2,
          37.8,
          38.4,
          39,
          39.6,
          40.2,
          40.800000000000004,
          41.400000000000006,
          41.99999999999999,
          42.599999999999994,
          43.199999999999996,
          43.8,
          44.39999999999999,
          44.99999999999999,
          45.599999999999994,
          46.199999999999996,
          46.8,
          47.4,
          48,
          48.6,
          49.2,
          49.8,
          50.4,
          51,
          51.6,
          52.2,
          52.800000000000004,
          53.400000000000006,
          54,
          54.6,
          55.2,
          55.800000000000004,
          56.400000000000006,
          57.00000000000001,
          57.60000000000001,
          58.199999999999996,
          58.8,
          59.4,
          60
         ],
         "y": [
          0.24331428124840362,
          0.24392159731620092,
          0.24453096832984483,
          0.24514240311221994,
          0.2457559105322857,
          0.2463714995053609,
          0.24698917899340958,
          0.24760895800532948,
          0.24823084559724207,
          0.24885485087278506,
          0.24948098298340649,
          0.2501092511286621,
          0.2507396645565128,
          0.25137223256362656,
          0.2520069644956805,
          0.2526438697476669,
          0.2532829577641995,
          0.2539242380398242,
          0.2545677201193298,
          0.25521341359806293,
          0.2558613281222436,
          0.256511473389284,
          0.25716385914810985,
          0.257818495199483,
          0.2584753913963273,
          0.25913455764405624,
          0.2597960039009041,
          0.26045974017825735,
          0.2611257765409908,
          0.2617941231078046,
          0.2624647900515647,
          0.2631377875996451,
          0.2638131260342729,
          0.2644908156928758,
          0.2651708669684324,
          0.2658532903098245,
          0.2665380962221925,
          0.2672252952672937,
          0.2679148980638618,
          0.2686069152879711,
          0.26930135767340113,
          0.2699982360120067,
          0.27069756115408744,
          0.27139934400876303,
          0.27210359554434915,
          0.2728103267887376,
          0.27351954882977825,
          0.2742312728156641,
          0.27494550995531986,
          0.27566227151879213,
          0.2763815688376438,
          0.2771034133053507,
          0.2778278163777011,
          0.2785547895731984,
          0.27928434447346717,
          0.2800164927236615,
          0.2807512460328771,
          0.28148861617456605,
          0.2822286149869544,
          0.28297125437346443,
          0.2837165463031375,
          0.28446450281106256,
          0.28521513599880655,
          0.2859684580348482,
          0.2867244811550158,
          0.2874832176629269,
          0.28824467993043273,
          0.2890088803980655,
          0.28977583157548875,
          0.2905455460419513,
          0.29131803644674503,
          0.29209331550966583,
          0.29287139602147755,
          0.293652290844381,
          0.2944360129124843,
          0.2952225752322788,
          0.2960119908831182,
          0.29680427301769996,
          0.29759943486255236,
          0.2983974897185238,
          0.2991984509612774,
          0.30000233204178683,
          0.3008091464868391,
          0.3016189078995387,
          0.3024316299598174,
          0.3032473264249464,
          0.3040660111300535,
          0.3048876979886445,
          0.30571240099312724,
          0.3065401342153411,
          0.3073709118070902,
          0.3082047480006802,
          0.30904165710946,
          0.30988165352836733,
          0.31072475173447844,
          0.31157096628756237,
          0.3124203118306394,
          0.31327280309054367,
          0.3141284548784908,
          0.3149872820906493,
          0.31584929970871684
         ]
        }
       ],
       "layout": {
        "annotations": [
         {
          "font": {
           "size": 14
          },
          "showarrow": false,
          "text": "Pileup = 200<br>L1T Rejection = 53:1",
          "x": -0.1,
          "xref": "paper",
          "y": -0.15,
          "yref": "paper"
         }
        ],
        "height": 600,
        "template": {
         "data": {
          "bar": [
           {
            "error_x": {
             "color": "#2a3f5f"
            },
            "error_y": {
             "color": "#2a3f5f"
            },
            "marker": {
             "line": {
              "color": "#E5ECF6",
              "width": 0.5
             },
             "pattern": {
              "fillmode": "overlay",
              "size": 10,
              "solidity": 0.2
             }
            },
            "type": "bar"
           }
          ],
          "barpolar": [
           {
            "marker": {
             "line": {
              "color": "#E5ECF6",
              "width": 0.5
             },
             "pattern": {
              "fillmode": "overlay",
              "size": 10,
              "solidity": 0.2
             }
            },
            "type": "barpolar"
           }
          ],
          "carpet": [
           {
            "aaxis": {
             "endlinecolor": "#2a3f5f",
             "gridcolor": "white",
             "linecolor": "white",
             "minorgridcolor": "white",
             "startlinecolor": "#2a3f5f"
            },
            "baxis": {
             "endlinecolor": "#2a3f5f",
             "gridcolor": "white",
             "linecolor": "white",
             "minorgridcolor": "white",
             "startlinecolor": "#2a3f5f"
            },
            "type": "carpet"
           }
          ],
          "choropleth": [
           {
            "colorbar": {
             "outlinewidth": 0,
             "ticks": ""
            },
            "type": "choropleth"
           }
          ],
          "contour": [
           {
            "colorbar": {
             "outlinewidth": 0,
             "ticks": ""
            },
            "colorscale": [
             [
              0,
              "#0d0887"
             ],
             [
              0.1111111111111111,
              "#46039f"
             ],
             [
              0.2222222222222222,
              "#7201a8"
             ],
             [
              0.3333333333333333,
              "#9c179e"
             ],
             [
              0.4444444444444444,
              "#bd3786"
             ],
             [
              0.5555555555555556,
              "#d8576b"
             ],
             [
              0.6666666666666666,
              "#ed7953"
             ],
             [
              0.7777777777777778,
              "#fb9f3a"
             ],
             [
              0.8888888888888888,
              "#fdca26"
             ],
             [
              1,
              "#f0f921"
             ]
            ],
            "type": "contour"
           }
          ],
          "contourcarpet": [
           {
            "colorbar": {
             "outlinewidth": 0,
             "ticks": ""
            },
            "type": "contourcarpet"
           }
          ],
          "heatmap": [
           {
            "colorbar": {
             "outlinewidth": 0,
             "ticks": ""
            },
            "colorscale": [
             [
              0,
              "#0d0887"
             ],
             [
              0.1111111111111111,
              "#46039f"
             ],
             [
              0.2222222222222222,
              "#7201a8"
             ],
             [
              0.3333333333333333,
              "#9c179e"
             ],
             [
              0.4444444444444444,
              "#bd3786"
             ],
             [
              0.5555555555555556,
              "#d8576b"
             ],
             [
              0.6666666666666666,
              "#ed7953"
             ],
             [
              0.7777777777777778,
              "#fb9f3a"
             ],
             [
              0.8888888888888888,
              "#fdca26"
             ],
             [
              1,
              "#f0f921"
             ]
            ],
            "type": "heatmap"
           }
          ],
          "heatmapgl": [
           {
            "colorbar": {
             "outlinewidth": 0,
             "ticks": ""
            },
            "colorscale": [
             [
              0,
              "#0d0887"
             ],
             [
              0.1111111111111111,
              "#46039f"
             ],
             [
              0.2222222222222222,
              "#7201a8"
             ],
             [
              0.3333333333333333,
              "#9c179e"
             ],
             [
              0.4444444444444444,
              "#bd3786"
             ],
             [
              0.5555555555555556,
              "#d8576b"
             ],
             [
              0.6666666666666666,
              "#ed7953"
             ],
             [
              0.7777777777777778,
              "#fb9f3a"
             ],
             [
              0.8888888888888888,
              "#fdca26"
             ],
             [
              1,
              "#f0f921"
             ]
            ],
            "type": "heatmapgl"
           }
          ],
          "histogram": [
           {
            "marker": {
             "pattern": {
              "fillmode": "overlay",
              "size": 10,
              "solidity": 0.2
             }
            },
            "type": "histogram"
           }
          ],
          "histogram2d": [
           {
            "colorbar": {
             "outlinewidth": 0,
             "ticks": ""
            },
            "colorscale": [
             [
              0,
              "#0d0887"
             ],
             [
              0.1111111111111111,
              "#46039f"
             ],
             [
              0.2222222222222222,
              "#7201a8"
             ],
             [
              0.3333333333333333,
              "#9c179e"
             ],
             [
              0.4444444444444444,
              "#bd3786"
             ],
             [
              0.5555555555555556,
              "#d8576b"
             ],
             [
              0.6666666666666666,
              "#ed7953"
             ],
             [
              0.7777777777777778,
              "#fb9f3a"
             ],
             [
              0.8888888888888888,
              "#fdca26"
             ],
             [
              1,
              "#f0f921"
             ]
            ],
            "type": "histogram2d"
           }
          ],
          "histogram2dcontour": [
           {
            "colorbar": {
             "outlinewidth": 0,
             "ticks": ""
            },
            "colorscale": [
             [
              0,
              "#0d0887"
             ],
             [
              0.1111111111111111,
              "#46039f"
             ],
             [
              0.2222222222222222,
              "#7201a8"
             ],
             [
              0.3333333333333333,
              "#9c179e"
             ],
             [
              0.4444444444444444,
              "#bd3786"
             ],
             [
              0.5555555555555556,
              "#d8576b"
             ],
             [
              0.6666666666666666,
              "#ed7953"
             ],
             [
              0.7777777777777778,
              "#fb9f3a"
             ],
             [
              0.8888888888888888,
              "#fdca26"
             ],
             [
              1,
              "#f0f921"
             ]
            ],
            "type": "histogram2dcontour"
           }
          ],
          "mesh3d": [
           {
            "colorbar": {
             "outlinewidth": 0,
             "ticks": ""
            },
            "type": "mesh3d"
           }
          ],
          "parcoords": [
           {
            "line": {
             "colorbar": {
              "outlinewidth": 0,
              "ticks": ""
             }
            },
            "type": "parcoords"
           }
          ],
          "pie": [
           {
            "automargin": true,
            "type": "pie"
           }
          ],
          "scatter": [
           {
            "fillpattern": {
             "fillmode": "overlay",
             "size": 10,
             "solidity": 0.2
            },
            "type": "scatter"
           }
          ],
          "scatter3d": [
           {
            "line": {
             "colorbar": {
              "outlinewidth": 0,
              "ticks": ""
             }
            },
            "marker": {
             "colorbar": {
              "outlinewidth": 0,
              "ticks": ""
             }
            },
            "type": "scatter3d"
           }
          ],
          "scattercarpet": [
           {
            "marker": {
             "colorbar": {
              "outlinewidth": 0,
              "ticks": ""
             }
            },
            "type": "scattercarpet"
           }
          ],
          "scattergeo": [
           {
            "marker": {
             "colorbar": {
              "outlinewidth": 0,
              "ticks": ""
             }
            },
            "type": "scattergeo"
           }
          ],
          "scattergl": [
           {
            "marker": {
             "colorbar": {
              "outlinewidth": 0,
              "ticks": ""
             }
            },
            "type": "scattergl"
           }
          ],
          "scattermapbox": [
           {
            "marker": {
             "colorbar": {
              "outlinewidth": 0,
              "ticks": ""
             }
            },
            "type": "scattermapbox"
           }
          ],
          "scatterpolar": [
           {
            "marker": {
             "colorbar": {
              "outlinewidth": 0,
              "ticks": ""
             }
            },
            "type": "scatterpolar"
           }
          ],
          "scatterpolargl": [
           {
            "marker": {
             "colorbar": {
              "outlinewidth": 0,
              "ticks": ""
             }
            },
            "type": "scatterpolargl"
           }
          ],
          "scatterternary": [
           {
            "marker": {
             "colorbar": {
              "outlinewidth": 0,
              "ticks": ""
             }
            },
            "type": "scatterternary"
           }
          ],
          "surface": [
           {
            "colorbar": {
             "outlinewidth": 0,
             "ticks": ""
            },
            "colorscale": [
             [
              0,
              "#0d0887"
             ],
             [
              0.1111111111111111,
              "#46039f"
             ],
             [
              0.2222222222222222,
              "#7201a8"
             ],
             [
              0.3333333333333333,
              "#9c179e"
             ],
             [
              0.4444444444444444,
              "#bd3786"
             ],
             [
              0.5555555555555556,
              "#d8576b"
             ],
             [
              0.6666666666666666,
              "#ed7953"
             ],
             [
              0.7777777777777778,
              "#fb9f3a"
             ],
             [
              0.8888888888888888,
              "#fdca26"
             ],
             [
              1,
              "#f0f921"
             ]
            ],
            "type": "surface"
           }
          ],
          "table": [
           {
            "cells": {
             "fill": {
              "color": "#EBF0F8"
             },
             "line": {
              "color": "white"
             }
            },
            "header": {
             "fill": {
              "color": "#C8D4E3"
             },
             "line": {
              "color": "white"
             }
            },
            "type": "table"
           }
          ]
         },
         "layout": {
          "annotationdefaults": {
           "arrowcolor": "#2a3f5f",
           "arrowhead": 0,
           "arrowwidth": 1
          },
          "autotypenumbers": "strict",
          "coloraxis": {
           "colorbar": {
            "outlinewidth": 0,
            "ticks": ""
           }
          },
          "colorscale": {
           "diverging": [
            [
             0,
             "#8e0152"
            ],
            [
             0.1,
             "#c51b7d"
            ],
            [
             0.2,
             "#de77ae"
            ],
            [
             0.3,
             "#f1b6da"
            ],
            [
             0.4,
             "#fde0ef"
            ],
            [
             0.5,
             "#f7f7f7"
            ],
            [
             0.6,
             "#e6f5d0"
            ],
            [
             0.7,
             "#b8e186"
            ],
            [
             0.8,
             "#7fbc41"
            ],
            [
             0.9,
             "#4d9221"
            ],
            [
             1,
             "#276419"
            ]
           ],
           "sequential": [
            [
             0,
             "#0d0887"
            ],
            [
             0.1111111111111111,
             "#46039f"
            ],
            [
             0.2222222222222222,
             "#7201a8"
            ],
            [
             0.3333333333333333,
             "#9c179e"
            ],
            [
             0.4444444444444444,
             "#bd3786"
            ],
            [
             0.5555555555555556,
             "#d8576b"
            ],
            [
             0.6666666666666666,
             "#ed7953"
            ],
            [
             0.7777777777777778,
             "#fb9f3a"
            ],
            [
             0.8888888888888888,
             "#fdca26"
            ],
            [
             1,
             "#f0f921"
            ]
           ],
           "sequentialminus": [
            [
             0,
             "#0d0887"
            ],
            [
             0.1111111111111111,
             "#46039f"
            ],
            [
             0.2222222222222222,
             "#7201a8"
            ],
            [
             0.3333333333333333,
             "#9c179e"
            ],
            [
             0.4444444444444444,
             "#bd3786"
            ],
            [
             0.5555555555555556,
             "#d8576b"
            ],
            [
             0.6666666666666666,
             "#ed7953"
            ],
            [
             0.7777777777777778,
             "#fb9f3a"
            ],
            [
             0.8888888888888888,
             "#fdca26"
            ],
            [
             1,
             "#f0f921"
            ]
           ]
          },
          "colorway": [
           "#636efa",
           "#EF553B",
           "#00cc96",
           "#ab63fa",
           "#FFA15A",
           "#19d3f3",
           "#FF6692",
           "#B6E880",
           "#FF97FF",
           "#FECB52"
          ],
          "font": {
           "color": "#2a3f5f"
          },
          "geo": {
           "bgcolor": "white",
           "lakecolor": "white",
           "landcolor": "#E5ECF6",
           "showlakes": true,
           "showland": true,
           "subunitcolor": "white"
          },
          "hoverlabel": {
           "align": "left"
          },
          "hovermode": "closest",
          "mapbox": {
           "style": "light"
          },
          "paper_bgcolor": "white",
          "plot_bgcolor": "#E5ECF6",
          "polar": {
           "angularaxis": {
            "gridcolor": "white",
            "linecolor": "white",
            "ticks": ""
           },
           "bgcolor": "#E5ECF6",
           "radialaxis": {
            "gridcolor": "white",
            "linecolor": "white",
            "ticks": ""
           }
          },
          "scene": {
           "xaxis": {
            "backgroundcolor": "#E5ECF6",
            "gridcolor": "white",
            "gridwidth": 2,
            "linecolor": "white",
            "showbackground": true,
            "ticks": "",
            "zerolinecolor": "white"
           },
           "yaxis": {
            "backgroundcolor": "#E5ECF6",
            "gridcolor": "white",
            "gridwidth": 2,
            "linecolor": "white",
            "showbackground": true,
            "ticks": "",
            "zerolinecolor": "white"
           },
           "zaxis": {
            "backgroundcolor": "#E5ECF6",
            "gridcolor": "white",
            "gridwidth": 2,
            "linecolor": "white",
            "showbackground": true,
            "ticks": "",
            "zerolinecolor": "white"
           }
          },
          "shapedefaults": {
           "line": {
            "color": "#2a3f5f"
           }
          },
          "ternary": {
           "aaxis": {
            "gridcolor": "white",
            "linecolor": "white",
            "ticks": ""
           },
           "baxis": {
            "gridcolor": "white",
            "linecolor": "white",
            "ticks": ""
           },
           "bgcolor": "#E5ECF6",
           "caxis": {
            "gridcolor": "white",
            "linecolor": "white",
            "ticks": ""
           }
          },
          "title": {
           "x": 0.05
          },
          "xaxis": {
           "automargin": true,
           "gridcolor": "white",
           "linecolor": "white",
           "ticks": "",
           "title": {
            "standoff": 15
           },
           "zerolinecolor": "white",
           "zerolinewidth": 2
          },
          "yaxis": {
           "automargin": true,
           "gridcolor": "white",
           "linecolor": "white",
           "ticks": "",
           "title": {
            "standoff": 15
           },
           "zerolinecolor": "white",
           "zerolinewidth": 2
          }
         }
        },
        "title": {
         "text": "Productivity of DAQ Systems by Inner Tracker Data Reduction"
        },
        "width": 800,
        "xaxis": {
         "title": {
          "text": "Inner Tracker Data Reduction (%)"
         }
        },
        "yaxis": {
         "title": {
          "text": "Productivity (Relevant Samples/kJ)"
         }
        }
       }
      }
     },
     "metadata": {},
     "output_type": "display_data"
    }
   ],
   "source": [
    "fig = go.Figure(data = \n",
    "                go.Scatter(x = (1 - it_reductions)* 100,\n",
    "                           y = run5_metrics[\"f1 score\"] * output_rate / run5_metrics[\"power\"] * 1000,\n",
    "                           name = \"Baseline\"))\n",
    "\n",
    "fig.add_trace(go.Scatter(x = (1 - it_reductions)* 100,\n",
    "                           y = run5_metrics_gpu[\"f1 score\"] * output_rate / run5_metrics_gpu[\"power\"] * 1000,\n",
    "                           name = \"+GPU\"))\n",
    "\n",
    "\n",
    "fig.add_trace(go.Scatter(x = (1 - it_reductions)* 100,\n",
    "                           y = run5_metrics_l1t_gpu[\"f1 score\"] * output_rate / run5_metrics_l1t_gpu[\"power\"] * 1000,\n",
    "                           name = \"+L1 Tracks, GPU\"))\n",
    "\n",
    "fig.update_layout(width =800, height = 600,\n",
    "                  title = \"Productivity of DAQ Systems by Inner Tracker Data Reduction\",\n",
    "                  xaxis_title = \"Inner Tracker Data Reduction (%)\",\n",
    "                  yaxis_title = \"Productivity (Relevant Samples/kJ)\")\n",
    "fig.add_annotation(x = -0.1, \n",
    "                   y = -0.15, \n",
    "                   showarrow=False,\n",
    "                   text = \"Pileup = 200<br>L1T Rejection = 53:1\", \n",
    "                   xref=\"paper\", \n",
    "                   yref=\"paper\",\n",
    "                   font = dict(size = 14))\n",
    "fig.show()"
   ]
  },
  {
   "cell_type": "code",
   "execution_count": 103,
   "metadata": {},
   "outputs": [
    {
     "data": {
      "application/vnd.plotly.v1+json": {
       "config": {
        "plotlyServerURL": "https://plot.ly"
       },
       "data": [
        {
         "name": "Baseline",
         "type": "scatter",
         "x": [
          0,
          0.6000000000000005,
          1.200000000000001,
          1.8000000000000016,
          2.400000000000002,
          3.0000000000000027,
          3.600000000000003,
          4.200000000000004,
          4.800000000000004,
          5.400000000000005,
          6.000000000000005,
          6.600000000000006,
          7.200000000000006,
          7.799999999999995,
          8.399999999999997,
          8.999999999999996,
          9.599999999999998,
          10.199999999999998,
          10.799999999999999,
          11.399999999999999,
          12,
          12.6,
          13.200000000000001,
          13.8,
          14.400000000000002,
          15.000000000000002,
          15.600000000000003,
          16.200000000000003,
          16.800000000000004,
          17.400000000000006,
          17.999999999999993,
          18.599999999999994,
          19.199999999999996,
          19.799999999999997,
          20.399999999999995,
          20.999999999999996,
          21.599999999999998,
          22.199999999999996,
          22.799999999999997,
          23.4,
          24,
          24.6,
          25.2,
          25.8,
          26.400000000000002,
          27,
          27.6,
          28.200000000000003,
          28.800000000000004,
          29.400000000000006,
          30.000000000000004,
          30.600000000000005,
          31.200000000000006,
          31.800000000000004,
          32.400000000000006,
          33.00000000000001,
          33.60000000000001,
          34.20000000000001,
          34.80000000000001,
          35.4,
          36,
          36.6,
          37.2,
          37.8,
          38.4,
          39,
          39.6,
          40.2,
          40.800000000000004,
          41.400000000000006,
          41.99999999999999,
          42.599999999999994,
          43.199999999999996,
          43.8,
          44.39999999999999,
          44.99999999999999,
          45.599999999999994,
          46.199999999999996,
          46.8,
          47.4,
          48,
          48.6,
          49.2,
          49.8,
          50.4,
          51,
          51.6,
          52.2,
          52.800000000000004,
          53.400000000000006,
          54,
          54.6,
          55.2,
          55.800000000000004,
          56.400000000000006,
          57.00000000000001,
          57.60000000000001,
          58.199999999999996,
          58.8,
          59.4,
          60
         ],
         "y": [
          51612391.60477246,
          51483745.93232797,
          51355307.38309147,
          51227075.797775894,
          51099051.01709405,
          50971232.88175883,
          50843621.232483104,
          50716215.90997971,
          50589016.75496154,
          50462023.60814144,
          50335236.3102323,
          50208654.70194697,
          50082278.6239983,
          49956107.91709916,
          49830142.42196247,
          49704381.97930102,
          49578826.42982771,
          49453475.61425541,
          49328329.37329698,
          49203387.54766529,
          49078649.97807317,
          48954116.50523354,
          48829786.96985922,
          48705661.21266311,
          48581739.074358046,
          48458020.39565692,
          48334505.01727258,
          48211192.779917896,
          48088083.524305716,
          47965177.09114894,
          47842473.32116041,
          47719972.055052996,
          47597673.13353957,
          47475576.39733299,
          47353681.68714613,
          47231988.84369183,
          47110497.70768299,
          46989208.11983244,
          46868119.92085309,
          46747232.951457754,
          46626547.052359335,
          46506062.06427069,
          46385777.82790467,
          46265694.18397416,
          46145810.973192014,
          46026128.036271095,
          45906645.21392427,
          45787362.34686442,
          45668279.275804386,
          45549395.841457054,
          45430711.88453526,
          45312227.24575191,
          45193941.76581985,
          45075855.28545193,
          44957967.645361036,
          44840278.686260015,
          44722788.24886175,
          44605496.17387911,
          44488402.30202494,
          44371506.474012114,
          44254808.530553505,
          44138308.31236198,
          44022005.66015039,
          43905900.4146316,
          43789992.41651848,
          43674281.506523915,
          43558767.52536074,
          43443450.31374185,
          43328329.71238006,
          43213405.561988294,
          43098677.70327938,
          42984145.97696621,
          42869810.223761626,
          42755670.284378506,
          42641725.99952971,
          42527977.2099281,
          42414423.756286554,
          42301065.479317926,
          42187902.219735086,
          42074933.81825091,
          41962160.115578234,
          41849580.95242994,
          41737196.1695189,
          41625005.607557975,
          41513009.10726002,
          41401206.509337924,
          41289597.65450452,
          41178182.3834727,
          41066960.53695533,
          40955931.95566526,
          40845096.48031534,
          40734453.95161848,
          40624004.21028751,
          40513747.0970353,
          40403682.45257474,
          40293810.117618665,
          40184129.932879955,
          40074641.73907147,
          39965345.37690608,
          39856240.687096655,
          39747327.51035605
         ]
        },
        {
         "name": "+GPU",
         "type": "scatter",
         "x": [
          0,
          0.6000000000000005,
          1.200000000000001,
          1.8000000000000016,
          2.400000000000002,
          3.0000000000000027,
          3.600000000000003,
          4.200000000000004,
          4.800000000000004,
          5.400000000000005,
          6.000000000000005,
          6.600000000000006,
          7.200000000000006,
          7.799999999999995,
          8.399999999999997,
          8.999999999999996,
          9.599999999999998,
          10.199999999999998,
          10.799999999999999,
          11.399999999999999,
          12,
          12.6,
          13.200000000000001,
          13.8,
          14.400000000000002,
          15.000000000000002,
          15.600000000000003,
          16.200000000000003,
          16.800000000000004,
          17.400000000000006,
          17.999999999999993,
          18.599999999999994,
          19.199999999999996,
          19.799999999999997,
          20.399999999999995,
          20.999999999999996,
          21.599999999999998,
          22.199999999999996,
          22.799999999999997,
          23.4,
          24,
          24.6,
          25.2,
          25.8,
          26.400000000000002,
          27,
          27.6,
          28.200000000000003,
          28.800000000000004,
          29.400000000000006,
          30.000000000000004,
          30.600000000000005,
          31.200000000000006,
          31.800000000000004,
          32.400000000000006,
          33.00000000000001,
          33.60000000000001,
          34.20000000000001,
          34.80000000000001,
          35.4,
          36,
          36.6,
          37.2,
          37.8,
          38.4,
          39,
          39.6,
          40.2,
          40.800000000000004,
          41.400000000000006,
          41.99999999999999,
          42.599999999999994,
          43.199999999999996,
          43.8,
          44.39999999999999,
          44.99999999999999,
          45.599999999999994,
          46.199999999999996,
          46.8,
          47.4,
          48,
          48.6,
          49.2,
          49.8,
          50.4,
          51,
          51.6,
          52.2,
          52.800000000000004,
          53.400000000000006,
          54,
          54.6,
          55.2,
          55.800000000000004,
          56.400000000000006,
          57.00000000000001,
          57.60000000000001,
          58.199999999999996,
          58.8,
          59.4,
          60
         ],
         "y": [
          25854359.351814136,
          25789987.268118378,
          25725718.74478037,
          25661553.702157497,
          25597492.060607173,
          25533533.74048678,
          25469678.662153717,
          25405926.745965373,
          25342277.912279144,
          25278732.081452437,
          25215289.173842646,
          25151949.109807145,
          25088711.809703346,
          25025577.193888642,
          24962545.182720423,
          24899615.696556088,
          24836788.655753028,
          24774063.980668638,
          24711441.591660324,
          24648921.40908547,
          24586503.35330146,
          24524187.344665717,
          24461973.303535618,
          24399861.15026855,
          24337850.80522193,
          24275942.18875314,
          24214135.221219573,
          24152429.822978638,
          24090825.914387703,
          24029323.415804185,
          23967922.247585475,
          23906622.330088954,
          23845423.58367204,
          23784325.928692114,
          23723329.28550657,
          23662433.57447281,
          23601638.715948224,
          23540944.630290207,
          23480351.237856157,
          23419858.459003463,
          23359466.214089524,
          23299174.42347174,
          23238983.00750749,
          23178891.88655418,
          23118900.98096921,
          23059010.211109966,
          22999219.497333847,
          22939528.75999824,
          22879937.919460546,
          22820446.89607817,
          22761055.610208493,
          22701763.98220892,
          22642571.932436828,
          22583479.38124963,
          22524486.249004703,
          22465592.45605946,
          22406797.922771297,
          22348102.569497596,
          22289506.316595756,
          22231009.084423173,
          22172610.79333724,
          22114311.363695357,
          22056110.71585491,
          21998008.770173304,
          21940005.447007924,
          21882100.666716173,
          21824294.349655446,
          21766586.416183133,
          21708976.786656626,
          21651465.381433327,
          21594052.120870635,
          21536736.925325926,
          21479519.71515662,
          21422400.410720088,
          21365378.93237374,
          21308455.20047497,
          21251629.135381166,
          21194900.657449722,
          21138269.687038038,
          21081736.144503515,
          21025299.950203527,
          20968961.024495497,
          20912719.287736803,
          20856574.660284843,
          20800527.06249701,
          20744576.414730698,
          20688722.637343306,
          20632965.650692225,
          20577305.37513485,
          20521741.731028587,
          20466274.638730817,
          20410904.018598933,
          20355629.79099034,
          20300451.876262434,
          20245370.1947726,
          20190384.666878242,
          20135495.212936744,
          20080701.75330551,
          20026004.208341938,
          19971402.498403415,
          19916896.543847334
         ]
        },
        {
         "name": "+L1 Tracks, GPU",
         "type": "scatter",
         "x": [
          0,
          0.6000000000000005,
          1.200000000000001,
          1.8000000000000016,
          2.400000000000002,
          3.0000000000000027,
          3.600000000000003,
          4.200000000000004,
          4.800000000000004,
          5.400000000000005,
          6.000000000000005,
          6.600000000000006,
          7.200000000000006,
          7.799999999999995,
          8.399999999999997,
          8.999999999999996,
          9.599999999999998,
          10.199999999999998,
          10.799999999999999,
          11.399999999999999,
          12,
          12.6,
          13.200000000000001,
          13.8,
          14.400000000000002,
          15.000000000000002,
          15.600000000000003,
          16.200000000000003,
          16.800000000000004,
          17.400000000000006,
          17.999999999999993,
          18.599999999999994,
          19.199999999999996,
          19.799999999999997,
          20.399999999999995,
          20.999999999999996,
          21.599999999999998,
          22.199999999999996,
          22.799999999999997,
          23.4,
          24,
          24.6,
          25.2,
          25.8,
          26.400000000000002,
          27,
          27.6,
          28.200000000000003,
          28.800000000000004,
          29.400000000000006,
          30.000000000000004,
          30.600000000000005,
          31.200000000000006,
          31.800000000000004,
          32.400000000000006,
          33.00000000000001,
          33.60000000000001,
          34.20000000000001,
          34.80000000000001,
          35.4,
          36,
          36.6,
          37.2,
          37.8,
          38.4,
          39,
          39.6,
          40.2,
          40.800000000000004,
          41.400000000000006,
          41.99999999999999,
          42.599999999999994,
          43.199999999999996,
          43.8,
          44.39999999999999,
          44.99999999999999,
          45.599999999999994,
          46.199999999999996,
          46.8,
          47.4,
          48,
          48.6,
          49.2,
          49.8,
          50.4,
          51,
          51.6,
          52.2,
          52.800000000000004,
          53.400000000000006,
          54,
          54.6,
          55.2,
          55.800000000000004,
          56.400000000000006,
          57.00000000000001,
          57.60000000000001,
          58.199999999999996,
          58.8,
          59.4,
          60
         ],
         "y": [
          25874123.90955816,
          25809702.507913746,
          25745384.74609194,
          25681170.544389002,
          25617059.823101237,
          25553052.502524916,
          25489148.502956327,
          25425347.74469175,
          25361650.14802747,
          25298055.633259762,
          25234564.120684933,
          25171175.530599233,
          25107889.78329896,
          25044706.7990804,
          24981626.498239838,
          24918648.801073536,
          24855773.627877805,
          24793000.898948908,
          24730330.534583144,
          24667762.455076776,
          24605296.5807261,
          24542932.8318274,
          24480671.12867695,
          24418511.391571034,
          24356453.540805947,
          24294497.49667797,
          24232643.179483365,
          24170890.509518437,
          24109239.407079455,
          24047689.79246271,
          23986241.585964482,
          23924894.707881052,
          23863649.078508705,
          23802504.618143726,
          23741461.247082394,
          23680518.88562099,
          23619677.45405581,
          23558936.872683115,
          23498297.061799202,
          23437757.941700354,
          23377319.432682857,
          23316981.455042984,
          23256743.929077018,
          23196606.775081247,
          23136569.913351957,
          23076633.26418542,
          23016796.74787793,
          22957060.284725763,
          22897423.795025196,
          22837887.199072525,
          22778450.417164035,
          22719113.369595993,
          22659875.976664692,
          22600738.158666413,
          22541699.835897435,
          22482760.92865405,
          22423921.35723253,
          22365181.04192916,
          22306539.903040234,
          22247997.860862017,
          22189554.835690804,
          22131210.747822877,
          22072965.517554518,
          22014819.065182008,
          21956771.31100163,
          21898822.17530966,
          21840971.578402396,
          21783219.440576117,
          21725565.682127092,
          21668010.223351613,
          21610552.984545972,
          21553193.886006437,
          21495932.848029304,
          21438769.790910836,
          21381704.634947333,
          21324737.30043508,
          21267867.707670346,
          21211095.776949417,
          21154421.428568587,
          21097844.582824133,
          21041365.160012323,
          20984983.080429465,
          20928698.264371824,
          20872510.632135693,
          20816420.104017347,
          20760426.60031307,
          20704530.041319158,
          20648730.34733187,
          20593027.438647505,
          20537421.235562347,
          20481911.65837267,
          20426498.62737476,
          20371182.062864903,
          20315961.88513938,
          20260838.01449447,
          20205810.37122646,
          20150878.87563163,
          20096043.44800627,
          20041304.00864666,
          19986660.477849074,
          19932112.7759098
         ]
        }
       ],
       "layout": {
        "annotations": [
         {
          "font": {
           "size": 14
          },
          "showarrow": false,
          "text": "Pileup = 200<br>L1T Rejection = 53:1",
          "x": -0.1,
          "xref": "paper",
          "y": -0.15,
          "yref": "paper"
         }
        ],
        "height": 600,
        "template": {
         "data": {
          "bar": [
           {
            "error_x": {
             "color": "#2a3f5f"
            },
            "error_y": {
             "color": "#2a3f5f"
            },
            "marker": {
             "line": {
              "color": "#E5ECF6",
              "width": 0.5
             },
             "pattern": {
              "fillmode": "overlay",
              "size": 10,
              "solidity": 0.2
             }
            },
            "type": "bar"
           }
          ],
          "barpolar": [
           {
            "marker": {
             "line": {
              "color": "#E5ECF6",
              "width": 0.5
             },
             "pattern": {
              "fillmode": "overlay",
              "size": 10,
              "solidity": 0.2
             }
            },
            "type": "barpolar"
           }
          ],
          "carpet": [
           {
            "aaxis": {
             "endlinecolor": "#2a3f5f",
             "gridcolor": "white",
             "linecolor": "white",
             "minorgridcolor": "white",
             "startlinecolor": "#2a3f5f"
            },
            "baxis": {
             "endlinecolor": "#2a3f5f",
             "gridcolor": "white",
             "linecolor": "white",
             "minorgridcolor": "white",
             "startlinecolor": "#2a3f5f"
            },
            "type": "carpet"
           }
          ],
          "choropleth": [
           {
            "colorbar": {
             "outlinewidth": 0,
             "ticks": ""
            },
            "type": "choropleth"
           }
          ],
          "contour": [
           {
            "colorbar": {
             "outlinewidth": 0,
             "ticks": ""
            },
            "colorscale": [
             [
              0,
              "#0d0887"
             ],
             [
              0.1111111111111111,
              "#46039f"
             ],
             [
              0.2222222222222222,
              "#7201a8"
             ],
             [
              0.3333333333333333,
              "#9c179e"
             ],
             [
              0.4444444444444444,
              "#bd3786"
             ],
             [
              0.5555555555555556,
              "#d8576b"
             ],
             [
              0.6666666666666666,
              "#ed7953"
             ],
             [
              0.7777777777777778,
              "#fb9f3a"
             ],
             [
              0.8888888888888888,
              "#fdca26"
             ],
             [
              1,
              "#f0f921"
             ]
            ],
            "type": "contour"
           }
          ],
          "contourcarpet": [
           {
            "colorbar": {
             "outlinewidth": 0,
             "ticks": ""
            },
            "type": "contourcarpet"
           }
          ],
          "heatmap": [
           {
            "colorbar": {
             "outlinewidth": 0,
             "ticks": ""
            },
            "colorscale": [
             [
              0,
              "#0d0887"
             ],
             [
              0.1111111111111111,
              "#46039f"
             ],
             [
              0.2222222222222222,
              "#7201a8"
             ],
             [
              0.3333333333333333,
              "#9c179e"
             ],
             [
              0.4444444444444444,
              "#bd3786"
             ],
             [
              0.5555555555555556,
              "#d8576b"
             ],
             [
              0.6666666666666666,
              "#ed7953"
             ],
             [
              0.7777777777777778,
              "#fb9f3a"
             ],
             [
              0.8888888888888888,
              "#fdca26"
             ],
             [
              1,
              "#f0f921"
             ]
            ],
            "type": "heatmap"
           }
          ],
          "heatmapgl": [
           {
            "colorbar": {
             "outlinewidth": 0,
             "ticks": ""
            },
            "colorscale": [
             [
              0,
              "#0d0887"
             ],
             [
              0.1111111111111111,
              "#46039f"
             ],
             [
              0.2222222222222222,
              "#7201a8"
             ],
             [
              0.3333333333333333,
              "#9c179e"
             ],
             [
              0.4444444444444444,
              "#bd3786"
             ],
             [
              0.5555555555555556,
              "#d8576b"
             ],
             [
              0.6666666666666666,
              "#ed7953"
             ],
             [
              0.7777777777777778,
              "#fb9f3a"
             ],
             [
              0.8888888888888888,
              "#fdca26"
             ],
             [
              1,
              "#f0f921"
             ]
            ],
            "type": "heatmapgl"
           }
          ],
          "histogram": [
           {
            "marker": {
             "pattern": {
              "fillmode": "overlay",
              "size": 10,
              "solidity": 0.2
             }
            },
            "type": "histogram"
           }
          ],
          "histogram2d": [
           {
            "colorbar": {
             "outlinewidth": 0,
             "ticks": ""
            },
            "colorscale": [
             [
              0,
              "#0d0887"
             ],
             [
              0.1111111111111111,
              "#46039f"
             ],
             [
              0.2222222222222222,
              "#7201a8"
             ],
             [
              0.3333333333333333,
              "#9c179e"
             ],
             [
              0.4444444444444444,
              "#bd3786"
             ],
             [
              0.5555555555555556,
              "#d8576b"
             ],
             [
              0.6666666666666666,
              "#ed7953"
             ],
             [
              0.7777777777777778,
              "#fb9f3a"
             ],
             [
              0.8888888888888888,
              "#fdca26"
             ],
             [
              1,
              "#f0f921"
             ]
            ],
            "type": "histogram2d"
           }
          ],
          "histogram2dcontour": [
           {
            "colorbar": {
             "outlinewidth": 0,
             "ticks": ""
            },
            "colorscale": [
             [
              0,
              "#0d0887"
             ],
             [
              0.1111111111111111,
              "#46039f"
             ],
             [
              0.2222222222222222,
              "#7201a8"
             ],
             [
              0.3333333333333333,
              "#9c179e"
             ],
             [
              0.4444444444444444,
              "#bd3786"
             ],
             [
              0.5555555555555556,
              "#d8576b"
             ],
             [
              0.6666666666666666,
              "#ed7953"
             ],
             [
              0.7777777777777778,
              "#fb9f3a"
             ],
             [
              0.8888888888888888,
              "#fdca26"
             ],
             [
              1,
              "#f0f921"
             ]
            ],
            "type": "histogram2dcontour"
           }
          ],
          "mesh3d": [
           {
            "colorbar": {
             "outlinewidth": 0,
             "ticks": ""
            },
            "type": "mesh3d"
           }
          ],
          "parcoords": [
           {
            "line": {
             "colorbar": {
              "outlinewidth": 0,
              "ticks": ""
             }
            },
            "type": "parcoords"
           }
          ],
          "pie": [
           {
            "automargin": true,
            "type": "pie"
           }
          ],
          "scatter": [
           {
            "fillpattern": {
             "fillmode": "overlay",
             "size": 10,
             "solidity": 0.2
            },
            "type": "scatter"
           }
          ],
          "scatter3d": [
           {
            "line": {
             "colorbar": {
              "outlinewidth": 0,
              "ticks": ""
             }
            },
            "marker": {
             "colorbar": {
              "outlinewidth": 0,
              "ticks": ""
             }
            },
            "type": "scatter3d"
           }
          ],
          "scattercarpet": [
           {
            "marker": {
             "colorbar": {
              "outlinewidth": 0,
              "ticks": ""
             }
            },
            "type": "scattercarpet"
           }
          ],
          "scattergeo": [
           {
            "marker": {
             "colorbar": {
              "outlinewidth": 0,
              "ticks": ""
             }
            },
            "type": "scattergeo"
           }
          ],
          "scattergl": [
           {
            "marker": {
             "colorbar": {
              "outlinewidth": 0,
              "ticks": ""
             }
            },
            "type": "scattergl"
           }
          ],
          "scattermapbox": [
           {
            "marker": {
             "colorbar": {
              "outlinewidth": 0,
              "ticks": ""
             }
            },
            "type": "scattermapbox"
           }
          ],
          "scatterpolar": [
           {
            "marker": {
             "colorbar": {
              "outlinewidth": 0,
              "ticks": ""
             }
            },
            "type": "scatterpolar"
           }
          ],
          "scatterpolargl": [
           {
            "marker": {
             "colorbar": {
              "outlinewidth": 0,
              "ticks": ""
             }
            },
            "type": "scatterpolargl"
           }
          ],
          "scatterternary": [
           {
            "marker": {
             "colorbar": {
              "outlinewidth": 0,
              "ticks": ""
             }
            },
            "type": "scatterternary"
           }
          ],
          "surface": [
           {
            "colorbar": {
             "outlinewidth": 0,
             "ticks": ""
            },
            "colorscale": [
             [
              0,
              "#0d0887"
             ],
             [
              0.1111111111111111,
              "#46039f"
             ],
             [
              0.2222222222222222,
              "#7201a8"
             ],
             [
              0.3333333333333333,
              "#9c179e"
             ],
             [
              0.4444444444444444,
              "#bd3786"
             ],
             [
              0.5555555555555556,
              "#d8576b"
             ],
             [
              0.6666666666666666,
              "#ed7953"
             ],
             [
              0.7777777777777778,
              "#fb9f3a"
             ],
             [
              0.8888888888888888,
              "#fdca26"
             ],
             [
              1,
              "#f0f921"
             ]
            ],
            "type": "surface"
           }
          ],
          "table": [
           {
            "cells": {
             "fill": {
              "color": "#EBF0F8"
             },
             "line": {
              "color": "white"
             }
            },
            "header": {
             "fill": {
              "color": "#C8D4E3"
             },
             "line": {
              "color": "white"
             }
            },
            "type": "table"
           }
          ]
         },
         "layout": {
          "annotationdefaults": {
           "arrowcolor": "#2a3f5f",
           "arrowhead": 0,
           "arrowwidth": 1
          },
          "autotypenumbers": "strict",
          "coloraxis": {
           "colorbar": {
            "outlinewidth": 0,
            "ticks": ""
           }
          },
          "colorscale": {
           "diverging": [
            [
             0,
             "#8e0152"
            ],
            [
             0.1,
             "#c51b7d"
            ],
            [
             0.2,
             "#de77ae"
            ],
            [
             0.3,
             "#f1b6da"
            ],
            [
             0.4,
             "#fde0ef"
            ],
            [
             0.5,
             "#f7f7f7"
            ],
            [
             0.6,
             "#e6f5d0"
            ],
            [
             0.7,
             "#b8e186"
            ],
            [
             0.8,
             "#7fbc41"
            ],
            [
             0.9,
             "#4d9221"
            ],
            [
             1,
             "#276419"
            ]
           ],
           "sequential": [
            [
             0,
             "#0d0887"
            ],
            [
             0.1111111111111111,
             "#46039f"
            ],
            [
             0.2222222222222222,
             "#7201a8"
            ],
            [
             0.3333333333333333,
             "#9c179e"
            ],
            [
             0.4444444444444444,
             "#bd3786"
            ],
            [
             0.5555555555555556,
             "#d8576b"
            ],
            [
             0.6666666666666666,
             "#ed7953"
            ],
            [
             0.7777777777777778,
             "#fb9f3a"
            ],
            [
             0.8888888888888888,
             "#fdca26"
            ],
            [
             1,
             "#f0f921"
            ]
           ],
           "sequentialminus": [
            [
             0,
             "#0d0887"
            ],
            [
             0.1111111111111111,
             "#46039f"
            ],
            [
             0.2222222222222222,
             "#7201a8"
            ],
            [
             0.3333333333333333,
             "#9c179e"
            ],
            [
             0.4444444444444444,
             "#bd3786"
            ],
            [
             0.5555555555555556,
             "#d8576b"
            ],
            [
             0.6666666666666666,
             "#ed7953"
            ],
            [
             0.7777777777777778,
             "#fb9f3a"
            ],
            [
             0.8888888888888888,
             "#fdca26"
            ],
            [
             1,
             "#f0f921"
            ]
           ]
          },
          "colorway": [
           "#636efa",
           "#EF553B",
           "#00cc96",
           "#ab63fa",
           "#FFA15A",
           "#19d3f3",
           "#FF6692",
           "#B6E880",
           "#FF97FF",
           "#FECB52"
          ],
          "font": {
           "color": "#2a3f5f"
          },
          "geo": {
           "bgcolor": "white",
           "lakecolor": "white",
           "landcolor": "#E5ECF6",
           "showlakes": true,
           "showland": true,
           "subunitcolor": "white"
          },
          "hoverlabel": {
           "align": "left"
          },
          "hovermode": "closest",
          "mapbox": {
           "style": "light"
          },
          "paper_bgcolor": "white",
          "plot_bgcolor": "#E5ECF6",
          "polar": {
           "angularaxis": {
            "gridcolor": "white",
            "linecolor": "white",
            "ticks": ""
           },
           "bgcolor": "#E5ECF6",
           "radialaxis": {
            "gridcolor": "white",
            "linecolor": "white",
            "ticks": ""
           }
          },
          "scene": {
           "xaxis": {
            "backgroundcolor": "#E5ECF6",
            "gridcolor": "white",
            "gridwidth": 2,
            "linecolor": "white",
            "showbackground": true,
            "ticks": "",
            "zerolinecolor": "white"
           },
           "yaxis": {
            "backgroundcolor": "#E5ECF6",
            "gridcolor": "white",
            "gridwidth": 2,
            "linecolor": "white",
            "showbackground": true,
            "ticks": "",
            "zerolinecolor": "white"
           },
           "zaxis": {
            "backgroundcolor": "#E5ECF6",
            "gridcolor": "white",
            "gridwidth": 2,
            "linecolor": "white",
            "showbackground": true,
            "ticks": "",
            "zerolinecolor": "white"
           }
          },
          "shapedefaults": {
           "line": {
            "color": "#2a3f5f"
           }
          },
          "ternary": {
           "aaxis": {
            "gridcolor": "white",
            "linecolor": "white",
            "ticks": ""
           },
           "baxis": {
            "gridcolor": "white",
            "linecolor": "white",
            "ticks": ""
           },
           "bgcolor": "#E5ECF6",
           "caxis": {
            "gridcolor": "white",
            "linecolor": "white",
            "ticks": ""
           }
          },
          "title": {
           "x": 0.05
          },
          "xaxis": {
           "automargin": true,
           "gridcolor": "white",
           "linecolor": "white",
           "ticks": "",
           "title": {
            "standoff": 15
           },
           "zerolinecolor": "white",
           "zerolinewidth": 2
          },
          "yaxis": {
           "automargin": true,
           "gridcolor": "white",
           "linecolor": "white",
           "ticks": "",
           "title": {
            "standoff": 15
           },
           "zerolinecolor": "white",
           "zerolinewidth": 2
          }
         }
        },
        "title": {
         "text": "Total DAQ Power by Inner Tracker Data Reduction"
        },
        "width": 800,
        "xaxis": {
         "title": {
          "text": "Inner Tracker Data Reduction (%)"
         }
        },
        "yaxis": {
         "title": {
          "text": "DAQ Power (W)"
         }
        }
       }
      }
     },
     "metadata": {},
     "output_type": "display_data"
    }
   ],
   "source": [
    "fig = go.Figure(data = \n",
    "                go.Scatter(x = (1 - it_reductions)* 100,\n",
    "                           y = run5_metrics[\"power\"] ,\n",
    "                           name = \"Baseline\"))\n",
    "\n",
    "fig.add_trace(go.Scatter(x = (1 - it_reductions)* 100,\n",
    "                           y = run5_metrics_gpu[\"power\"],\n",
    "                           name = \"+GPU\"))\n",
    "\n",
    "\n",
    "fig.add_trace(go.Scatter(x = (1 - it_reductions)* 100,\n",
    "                           y = run5_metrics_l1t_gpu[\"power\"],\n",
    "                           name = \"+L1 Tracks, GPU\"))\n",
    "\n",
    "fig.update_layout(width =800, height = 600,\n",
    "                  title = \"Total DAQ Power by Inner Tracker Data Reduction\",\n",
    "                  xaxis_title = \"Inner Tracker Data Reduction (%)\",\n",
    "                  yaxis_title = \"DAQ Power (W)\")\n",
    "fig.add_annotation(x = -0.1, \n",
    "                   y = -0.15, \n",
    "                   showarrow=False,\n",
    "                   text = \"Pileup = 200<br>L1T Rejection = 53:1\", \n",
    "                   xref=\"paper\", \n",
    "                   yref=\"paper\",\n",
    "                   font = dict(size = 14))\n",
    "fig.show()"
   ]
  },
  {
   "cell_type": "code",
   "execution_count": null,
   "metadata": {},
   "outputs": [],
   "source": []
  }
 ],
 "metadata": {
  "kernelspec": {
   "display_name": "jax",
   "language": "python",
   "name": "python3"
  },
  "language_info": {
   "codemirror_mode": {
    "name": "ipython",
    "version": 3
   },
   "file_extension": ".py",
   "mimetype": "text/x-python",
   "name": "python",
   "nbconvert_exporter": "python",
   "pygments_lexer": "ipython3",
   "version": "3.10.4"
  }
 },
 "nbformat": 4,
 "nbformat_minor": 2
}
