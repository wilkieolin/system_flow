{
 "cells": [
  {
   "cell_type": "code",
   "execution_count": 2,
   "metadata": {},
   "outputs": [],
   "source": [
    "from graph import *\n",
    "from models import *\n",
    "from metrics import *\n",
    "\n",
    "import pandas as pd\n",
    "import matplotlib.pyplot as plt\n",
    "from scipy.optimize import curve_fit\n",
    "import plotly.graph_objects as go"
   ]
  },
  {
   "cell_type": "code",
   "execution_count": 3,
   "metadata": {},
   "outputs": [],
   "source": [
    "# load data from the spreadsheet which defines the structure of the workflow,\n",
    "# as well as the parameters for data rates, efficiency, data reduction, and classifier performance\n",
    "run5_system = dataframes_from_spreadsheet(\"cms_system_200.xlsx\")\n",
    "run5_smartpx_system = dataframes_from_spreadsheet(\"cms_system_200_smartpx.xlsx\")"
   ]
  },
  {
   "cell_type": "code",
   "execution_count": 6,
   "metadata": {},
   "outputs": [
    {
     "data": {
      "text/html": [
       "<div>\n",
       "<style scoped>\n",
       "    .dataframe tbody tr th:only-of-type {\n",
       "        vertical-align: middle;\n",
       "    }\n",
       "\n",
       "    .dataframe tbody tr th {\n",
       "        vertical-align: top;\n",
       "    }\n",
       "\n",
       "    .dataframe thead th {\n",
       "        text-align: right;\n",
       "    }\n",
       "</style>\n",
       "<table border=\"1\" class=\"dataframe\">\n",
       "  <thead>\n",
       "    <tr style=\"text-align: right;\">\n",
       "      <th></th>\n",
       "      <th>Category</th>\n",
       "      <th>Detector</th>\n",
       "      <th>Data (bytes)</th>\n",
       "      <th>Sample Rate</th>\n",
       "      <th>Compression</th>\n",
       "      <th>Link Efficiency (J/bit)</th>\n",
       "      <th>Op Efficiency (J/op)</th>\n",
       "      <th>PU 200</th>\n",
       "    </tr>\n",
       "  </thead>\n",
       "  <tbody>\n",
       "    <tr>\n",
       "      <th>0</th>\n",
       "      <td>Tracking</td>\n",
       "      <td>Inner Tracker</td>\n",
       "      <td>1440000</td>\n",
       "      <td>40000000</td>\n",
       "      <td>0</td>\n",
       "      <td>2.220000e-11</td>\n",
       "      <td>0</td>\n",
       "      <td>1.440</td>\n",
       "    </tr>\n",
       "    <tr>\n",
       "      <th>1</th>\n",
       "      <td>Tracking</td>\n",
       "      <td>Outer Tracker PS</td>\n",
       "      <td>720000</td>\n",
       "      <td>40000000</td>\n",
       "      <td>0</td>\n",
       "      <td>2.220000e-11</td>\n",
       "      <td>0</td>\n",
       "      <td>0.720</td>\n",
       "    </tr>\n",
       "    <tr>\n",
       "      <th>2</th>\n",
       "      <td>Tracking</td>\n",
       "      <td>Outer Tracker 2S</td>\n",
       "      <td>430000</td>\n",
       "      <td>40000000</td>\n",
       "      <td>0</td>\n",
       "      <td>2.220000e-11</td>\n",
       "      <td>0</td>\n",
       "      <td>0.430</td>\n",
       "    </tr>\n",
       "    <tr>\n",
       "      <th>3</th>\n",
       "      <td>Tracking</td>\n",
       "      <td>Track Finder TPG</td>\n",
       "      <td>10000</td>\n",
       "      <td>40000000</td>\n",
       "      <td>0</td>\n",
       "      <td>2.220000e-11</td>\n",
       "      <td>0</td>\n",
       "      <td>0.010</td>\n",
       "    </tr>\n",
       "    <tr>\n",
       "      <th>4</th>\n",
       "      <td>Timing</td>\n",
       "      <td>MIP Timing BTL</td>\n",
       "      <td>240000</td>\n",
       "      <td>40000000</td>\n",
       "      <td>0</td>\n",
       "      <td>2.220000e-11</td>\n",
       "      <td>0</td>\n",
       "      <td>0.240</td>\n",
       "    </tr>\n",
       "    <tr>\n",
       "      <th>5</th>\n",
       "      <td>Timing</td>\n",
       "      <td>MIP Timing ETL</td>\n",
       "      <td>440000</td>\n",
       "      <td>40000000</td>\n",
       "      <td>0</td>\n",
       "      <td>2.220000e-11</td>\n",
       "      <td>0</td>\n",
       "      <td>0.440</td>\n",
       "    </tr>\n",
       "    <tr>\n",
       "      <th>6</th>\n",
       "      <td>Calorimetry</td>\n",
       "      <td>ECAL Barrel</td>\n",
       "      <td>600000</td>\n",
       "      <td>40000000</td>\n",
       "      <td>0</td>\n",
       "      <td>2.220000e-11</td>\n",
       "      <td>0</td>\n",
       "      <td>0.600</td>\n",
       "    </tr>\n",
       "    <tr>\n",
       "      <th>7</th>\n",
       "      <td>Calorimetry</td>\n",
       "      <td>HCAL Barrel</td>\n",
       "      <td>240000</td>\n",
       "      <td>40000000</td>\n",
       "      <td>0</td>\n",
       "      <td>2.220000e-11</td>\n",
       "      <td>0</td>\n",
       "      <td>0.240</td>\n",
       "    </tr>\n",
       "    <tr>\n",
       "      <th>8</th>\n",
       "      <td>Calorimetry</td>\n",
       "      <td>HCAL HO</td>\n",
       "      <td>30000</td>\n",
       "      <td>40000000</td>\n",
       "      <td>0</td>\n",
       "      <td>2.220000e-11</td>\n",
       "      <td>0</td>\n",
       "      <td>0.030</td>\n",
       "    </tr>\n",
       "    <tr>\n",
       "      <th>9</th>\n",
       "      <td>Calorimetry</td>\n",
       "      <td>HCAL HF</td>\n",
       "      <td>60000</td>\n",
       "      <td>40000000</td>\n",
       "      <td>0</td>\n",
       "      <td>2.220000e-11</td>\n",
       "      <td>0</td>\n",
       "      <td>0.060</td>\n",
       "    </tr>\n",
       "    <tr>\n",
       "      <th>10</th>\n",
       "      <td>Calorimetry</td>\n",
       "      <td>HGCAL</td>\n",
       "      <td>3000000</td>\n",
       "      <td>40000000</td>\n",
       "      <td>0</td>\n",
       "      <td>2.220000e-11</td>\n",
       "      <td>0</td>\n",
       "      <td>3.000</td>\n",
       "    </tr>\n",
       "    <tr>\n",
       "      <th>11</th>\n",
       "      <td>Calorimetry</td>\n",
       "      <td>HGCAL TPG Stage1</td>\n",
       "      <td>150000</td>\n",
       "      <td>40000000</td>\n",
       "      <td>0</td>\n",
       "      <td>2.220000e-11</td>\n",
       "      <td>0</td>\n",
       "      <td>0.150</td>\n",
       "    </tr>\n",
       "    <tr>\n",
       "      <th>12</th>\n",
       "      <td>Calorimetry</td>\n",
       "      <td>HGCAL TPG Stage2</td>\n",
       "      <td>50000</td>\n",
       "      <td>40000000</td>\n",
       "      <td>0</td>\n",
       "      <td>2.220000e-11</td>\n",
       "      <td>0</td>\n",
       "      <td>0.050</td>\n",
       "    </tr>\n",
       "    <tr>\n",
       "      <th>13</th>\n",
       "      <td>Muon</td>\n",
       "      <td>Muon DT</td>\n",
       "      <td>150000</td>\n",
       "      <td>40000000</td>\n",
       "      <td>0</td>\n",
       "      <td>2.220000e-11</td>\n",
       "      <td>0</td>\n",
       "      <td>0.150</td>\n",
       "    </tr>\n",
       "    <tr>\n",
       "      <th>14</th>\n",
       "      <td>Muon</td>\n",
       "      <td>Muon CSC</td>\n",
       "      <td>470000</td>\n",
       "      <td>40000000</td>\n",
       "      <td>0</td>\n",
       "      <td>2.220000e-11</td>\n",
       "      <td>0</td>\n",
       "      <td>0.470</td>\n",
       "    </tr>\n",
       "    <tr>\n",
       "      <th>15</th>\n",
       "      <td>Muon</td>\n",
       "      <td>Muon GEM GE1</td>\n",
       "      <td>3000</td>\n",
       "      <td>40000000</td>\n",
       "      <td>0</td>\n",
       "      <td>2.220000e-11</td>\n",
       "      <td>0</td>\n",
       "      <td>0.003</td>\n",
       "    </tr>\n",
       "    <tr>\n",
       "      <th>16</th>\n",
       "      <td>Muon</td>\n",
       "      <td>Muon GEM GE2</td>\n",
       "      <td>2000</td>\n",
       "      <td>40000000</td>\n",
       "      <td>0</td>\n",
       "      <td>2.220000e-11</td>\n",
       "      <td>0</td>\n",
       "      <td>0.002</td>\n",
       "    </tr>\n",
       "    <tr>\n",
       "      <th>17</th>\n",
       "      <td>Muon</td>\n",
       "      <td>Muon GEM ME0</td>\n",
       "      <td>120000</td>\n",
       "      <td>40000000</td>\n",
       "      <td>0</td>\n",
       "      <td>2.220000e-11</td>\n",
       "      <td>0</td>\n",
       "      <td>0.120</td>\n",
       "    </tr>\n",
       "    <tr>\n",
       "      <th>18</th>\n",
       "      <td>Muon</td>\n",
       "      <td>Muon RPC</td>\n",
       "      <td>10000</td>\n",
       "      <td>40000000</td>\n",
       "      <td>0</td>\n",
       "      <td>2.220000e-11</td>\n",
       "      <td>0</td>\n",
       "      <td>0.010</td>\n",
       "    </tr>\n",
       "  </tbody>\n",
       "</table>\n",
       "</div>"
      ],
      "text/plain": [
       "       Category          Detector  Data (bytes)  Sample Rate  Compression  \\\n",
       "0      Tracking     Inner Tracker       1440000     40000000            0   \n",
       "1      Tracking  Outer Tracker PS        720000     40000000            0   \n",
       "2      Tracking  Outer Tracker 2S        430000     40000000            0   \n",
       "3      Tracking  Track Finder TPG         10000     40000000            0   \n",
       "4        Timing    MIP Timing BTL        240000     40000000            0   \n",
       "5        Timing    MIP Timing ETL        440000     40000000            0   \n",
       "6   Calorimetry       ECAL Barrel        600000     40000000            0   \n",
       "7   Calorimetry       HCAL Barrel        240000     40000000            0   \n",
       "8   Calorimetry           HCAL HO         30000     40000000            0   \n",
       "9   Calorimetry           HCAL HF         60000     40000000            0   \n",
       "10  Calorimetry             HGCAL       3000000     40000000            0   \n",
       "11  Calorimetry  HGCAL TPG Stage1        150000     40000000            0   \n",
       "12  Calorimetry  HGCAL TPG Stage2         50000     40000000            0   \n",
       "13         Muon           Muon DT        150000     40000000            0   \n",
       "14         Muon          Muon CSC        470000     40000000            0   \n",
       "15         Muon      Muon GEM GE1          3000     40000000            0   \n",
       "16         Muon      Muon GEM GE2          2000     40000000            0   \n",
       "17         Muon      Muon GEM ME0        120000     40000000            0   \n",
       "18         Muon          Muon RPC         10000     40000000            0   \n",
       "\n",
       "    Link Efficiency (J/bit)  Op Efficiency (J/op)  PU 200  \n",
       "0              2.220000e-11                     0   1.440  \n",
       "1              2.220000e-11                     0   0.720  \n",
       "2              2.220000e-11                     0   0.430  \n",
       "3              2.220000e-11                     0   0.010  \n",
       "4              2.220000e-11                     0   0.240  \n",
       "5              2.220000e-11                     0   0.440  \n",
       "6              2.220000e-11                     0   0.600  \n",
       "7              2.220000e-11                     0   0.240  \n",
       "8              2.220000e-11                     0   0.030  \n",
       "9              2.220000e-11                     0   0.060  \n",
       "10             2.220000e-11                     0   3.000  \n",
       "11             2.220000e-11                     0   0.150  \n",
       "12             2.220000e-11                     0   0.050  \n",
       "13             2.220000e-11                     0   0.150  \n",
       "14             2.220000e-11                     0   0.470  \n",
       "15             2.220000e-11                     0   0.003  \n",
       "16             2.220000e-11                     0   0.002  \n",
       "17             2.220000e-11                     0   0.120  \n",
       "18             2.220000e-11                     0   0.010  "
      ]
     },
     "execution_count": 6,
     "metadata": {},
     "output_type": "execute_result"
    }
   ],
   "source": [
    "run5_system.detectors"
   ]
  },
  {
   "cell_type": "code",
   "execution_count": 7,
   "metadata": {},
   "outputs": [],
   "source": [
    "#import the data predicting wall time scaling by pileup\n",
    "scaling = pd.read_excel(\"wall time scaling.xlsx\", sheet_name=\"Data\")\n",
    "#fit a polynomial to this data for CPU and GPU runtimes\n",
    "fit_poly = lambda x, k3, k2, k1: k3 * x ** 3 + k2 * x ** 2 + k1 * x\n",
    "k, cv = curve_fit(fit_poly, scaling[\"Size\"], scaling[\"Wall Time\"])\n",
    "k_gpu, cv_gpu = curve_fit(fit_poly, scaling[\"Size\"], scaling[\"Wall Time GPU\"])"
   ]
  },
  {
   "cell_type": "code",
   "execution_count": 8,
   "metadata": {},
   "outputs": [],
   "source": [
    "#define a dictionary with functions defining the scaling of trigger runtimes with incoming data\n",
    "funcs = {\"Global\": lambda x: fit_poly(x, *k), \"Intermediate\": lambda x: x / 2.0e6}\n",
    "funcs_gpu = {\"Global\": lambda x: fit_poly(x, *k_gpu), \"Intermediate\": lambda x: x / 2.0e6}"
   ]
  },
  {
   "cell_type": "code",
   "execution_count": 10,
   "metadata": {},
   "outputs": [
    {
     "name": "stderr",
     "output_type": "stream",
     "text": [
      "/Users/wilkie/code/system_flow/classifier.py:197: IntegrationWarning: The maximum number of subdivisions (50) has been achieved.\n",
      "  If increasing the limit yields no improvement it is advised to analyze \n",
      "  the integrand in order to determine the difficulties.  If the position of a \n",
      "  local difficulty can be determined (singularity, discontinuity) one will \n",
      "  probably gain from splitting up the interval and calling the integrator \n",
      "  on the subranges.  Perhaps a special-purpose integrator should be used.\n",
      "  fit = lambda l: np.abs(self.egamma_rate - quad(lambda x: self.exp_dist(x, l) * interpolator(x), np.min(xs), np.max(xs))[0])\n"
     ]
    }
   ],
   "source": [
    "ex_run5 = construct_graph(run5_system.detectors, run5_system.triggers, run5_system.globals, funcs)"
   ]
  },
  {
   "cell_type": "code",
   "execution_count": 11,
   "metadata": {},
   "outputs": [
    {
     "name": "stderr",
     "output_type": "stream",
     "text": [
      "/Users/wilkie/code/system_flow/classifier.py:197: IntegrationWarning: The maximum number of subdivisions (50) has been achieved.\n",
      "  If increasing the limit yields no improvement it is advised to analyze \n",
      "  the integrand in order to determine the difficulties.  If the position of a \n",
      "  local difficulty can be determined (singularity, discontinuity) one will \n",
      "  probably gain from splitting up the interval and calling the integrator \n",
      "  on the subranges.  Perhaps a special-purpose integrator should be used.\n",
      "  fit = lambda l: np.abs(self.egamma_rate - quad(lambda x: self.exp_dist(x, l) * interpolator(x), np.min(xs), np.max(xs))[0])\n"
     ]
    }
   ],
   "source": [
    "ex_run5_gpu = construct_graph(run5_system.detectors, run5_system.triggers, run5_system.globals, funcs_gpu)"
   ]
  },
  {
   "cell_type": "code",
   "execution_count": 12,
   "metadata": {},
   "outputs": [],
   "source": [
    "from copy import deepcopy"
   ]
  },
  {
   "cell_type": "code",
   "execution_count": 13,
   "metadata": {},
   "outputs": [],
   "source": [
    "ex_run5_l1t_gpu = deepcopy(ex_run5_gpu)\n",
    "ex_run5_l1t_gpu.nodes[\"Intermediate\"][\"classifier\"].skill_boost = 0.40"
   ]
  },
  {
   "cell_type": "code",
   "execution_count": 14,
   "metadata": {},
   "outputs": [],
   "source": [
    "def extract_results(graph):\n",
    "\n",
    "    power = graph.graph[\"op power\"] + graph.graph[\"link power\"]\n",
    "    confusion = graph.graph[\"performance\"]\n",
    "\n",
    "    return power, confusion"
   ]
  },
  {
   "cell_type": "code",
   "execution_count": 15,
   "metadata": {},
   "outputs": [],
   "source": [
    "def vary_system(graph, it_reduction: float):\n",
    "    graph = deepcopy(graph)\n",
    "    graph.nodes[\"Inner Tracker\"][\"sample data\"] = it_reduction * graph.nodes[\"Inner Tracker\"][\"sample data\"]\n",
    "    \n",
    "    graph = update_throughput(graph)\n",
    "\n",
    "    power = graph.graph[\"op power\"] + graph.graph[\"link power\"]\n",
    "    confusion = graph.graph[\"performance\"]\n",
    "\n",
    "    return power, confusion, graph"
   ]
  },
  {
   "cell_type": "code",
   "execution_count": 16,
   "metadata": {},
   "outputs": [],
   "source": [
    "baseline = vary_system(ex_run5, 0.0)"
   ]
  },
  {
   "cell_type": "code",
   "execution_count": 20,
   "metadata": {},
   "outputs": [
    {
     "data": {
      "text/plain": [
       "32.91019388486252"
      ]
     },
     "execution_count": 20,
     "metadata": {},
     "output_type": "execute_result"
    }
   ],
   "source": [
    "baseline[0] / 1e6 / density_scale_model(ex_run5.graph[\"globals\"][\"Year\"][0])"
   ]
  },
  {
   "cell_type": "code",
   "execution_count": 76,
   "metadata": {},
   "outputs": [],
   "source": [
    "#vary this accept rate from today's rate to the planned Run-5 \n",
    "it_reductions = np.linspace(1.0, 0.40, 101)"
   ]
  },
  {
   "cell_type": "code",
   "execution_count": 77,
   "metadata": {},
   "outputs": [],
   "source": [
    "res_r5 = [vary_system(ex_run5, r) for r in it_reductions]"
   ]
  },
  {
   "cell_type": "code",
   "execution_count": 78,
   "metadata": {},
   "outputs": [],
   "source": [
    "res_r5_gpu = [vary_system(ex_run5_gpu, r) for r in it_reductions]"
   ]
  },
  {
   "cell_type": "code",
   "execution_count": 79,
   "metadata": {},
   "outputs": [],
   "source": [
    "res_r5_l1t_gpu = [vary_system(ex_run5_l1t_gpu, r) for r in it_reductions]"
   ]
  },
  {
   "cell_type": "code",
   "execution_count": 80,
   "metadata": {},
   "outputs": [],
   "source": [
    "def extract_metrics(results):\n",
    "    all_confusion = np.array([r[1] for r in results])\n",
    "\n",
    "    all_power = [r[0] / density_scale_model(r[2].graph[\"globals\"][\"Year\"][0]) for r in results]\n",
    "    all_power = np.array(all_power)\n",
    "\n",
    "    all_recall = np.array([recall(all_confusion[i,:,:]) for i in range(all_confusion.shape[0])])\n",
    "    all_precision = np.array([precision(all_confusion[i,:,:]) for i in range(all_confusion.shape[0])])\n",
    "    all_f1 = np.array([f1_score(all_confusion[i,:,:]) for i in range(all_confusion.shape[0])])\n",
    "    productivity = np.array([np.sum(get_passed(all_confusion[i,:,:])) for i in range(all_confusion.shape[0])])\n",
    "\n",
    "    metrics = {\"confusion\": all_confusion,\n",
    "               \"power\": all_power,\n",
    "               \"recall\": all_recall,\n",
    "               \"precision\": all_precision,\n",
    "               \"f1 score\": all_f1,\n",
    "               \"productivity\": all_recall * productivity}\n",
    "\n",
    "    return metrics"
   ]
  },
  {
   "cell_type": "code",
   "execution_count": 81,
   "metadata": {},
   "outputs": [],
   "source": [
    "run5_metrics = extract_metrics(res_r5)"
   ]
  },
  {
   "cell_type": "code",
   "execution_count": 82,
   "metadata": {},
   "outputs": [],
   "source": [
    "run5_metrics_gpu = extract_metrics(res_r5_gpu)"
   ]
  },
  {
   "cell_type": "code",
   "execution_count": 83,
   "metadata": {},
   "outputs": [],
   "source": [
    "run5_metrics_l1t_gpu = extract_metrics(res_r5_l1t_gpu)"
   ]
  },
  {
   "cell_type": "code",
   "execution_count": 84,
   "metadata": {},
   "outputs": [],
   "source": [
    "output_rate = 7.5e3"
   ]
  },
  {
   "cell_type": "code",
   "execution_count": 85,
   "metadata": {},
   "outputs": [
    {
     "data": {
      "application/vnd.plotly.v1+json": {
       "config": {
        "plotlyServerURL": "https://plot.ly"
       },
       "data": [
        {
         "name": "Baseline",
         "type": "scatter",
         "x": [
          0,
          0.6000000000000005,
          1.200000000000001,
          1.8000000000000016,
          2.400000000000002,
          3.0000000000000027,
          3.600000000000003,
          4.200000000000004,
          4.800000000000004,
          5.400000000000005,
          6.000000000000005,
          6.600000000000006,
          7.200000000000006,
          7.799999999999995,
          8.399999999999997,
          8.999999999999996,
          9.599999999999998,
          10.199999999999998,
          10.799999999999999,
          11.399999999999999,
          12,
          12.6,
          13.200000000000001,
          13.8,
          14.400000000000002,
          15.000000000000002,
          15.600000000000003,
          16.200000000000003,
          16.800000000000004,
          17.400000000000006,
          17.999999999999993,
          18.599999999999994,
          19.199999999999996,
          19.799999999999997,
          20.399999999999995,
          20.999999999999996,
          21.599999999999998,
          22.199999999999996,
          22.799999999999997,
          23.4,
          24,
          24.6,
          25.2,
          25.8,
          26.400000000000002,
          27,
          27.6,
          28.200000000000003,
          28.800000000000004,
          29.400000000000006,
          30.000000000000004,
          30.600000000000005,
          31.200000000000006,
          31.800000000000004,
          32.400000000000006,
          33.00000000000001,
          33.60000000000001,
          34.20000000000001,
          34.80000000000001,
          35.4,
          36,
          36.6,
          37.2,
          37.8,
          38.4,
          39,
          39.6,
          40.2,
          40.800000000000004,
          41.400000000000006,
          41.99999999999999,
          42.599999999999994,
          43.199999999999996,
          43.8,
          44.39999999999999,
          44.99999999999999,
          45.599999999999994,
          46.199999999999996,
          46.8,
          47.4,
          48,
          48.6,
          49.2,
          49.8,
          50.4,
          51,
          51.6,
          52.2,
          52.800000000000004,
          53.400000000000006,
          54,
          54.6,
          55.2,
          55.800000000000004,
          56.400000000000006,
          57.00000000000001,
          57.60000000000001,
          58.199999999999996,
          58.8,
          59.4,
          60
         ],
         "y": [
          0.00006479483538602806,
          0.00006495674231448121,
          0.00006511919776789258,
          0.00006528220410456539,
          0.00006544576369513623,
          0.00006560987892265106,
          0.00006577455218264207,
          0.00006593978588320482,
          0.00006610558244507613,
          0.00006627194430171244,
          0.0000664388738993687,
          0.0000666063736971779,
          0.0000667744461672312,
          0.00006694309379465843,
          0.0000671123190777094,
          0.00006728212452783578,
          0.00006745251266977335,
          0.00006762348604162509,
          0.00006779504719494474,
          0.000067967198694821,
          0.00006813994311996235,
          0.00006831328306278242,
          0.00006848722112948611,
          0.00006866175994015613,
          0.00006883690212884044,
          0.00006901265034364002,
          0.00006918900724679761,
          0.00006936597551478674,
          0.00006954355783840173,
          0.00006972175692284808,
          0.0000699005754878338,
          0.00007008001626766112,
          0.00007026008201131905,
          0.00007044077548257664,
          0.00007062209946007673,
          0.00007080405673743065,
          0.00007098665012331335,
          0.0000711698824415595,
          0.00007135375653126,
          0.00007153827524685956,
          0.00007172344145825459,
          0.00007190925805089217,
          0.00007209572792586956,
          0.00007228285400003446,
          0.00007247063920608611,
          0.00007265908649267702,
          0.0000728481988245155,
          0.00007303797918246899,
          0.00007322843056366819,
          0.00007341955598161171,
          0.00007361135846627199,
          0.00007380384106420134,
          0.00007399700683863953,
          0.00007419085886962153,
          0.00007438540025408643,
          0.00007458063410598705,
          0.0000747765635564004,
          0.00007497319175363897,
          0.00007517052186336285,
          0.00007536855706869266,
          0.00007556730057032338,
          0.00007576675558663904,
          0.00007596692535382823,
          0.00007616781312600051,
          0.00007636942217530372,
          0.00007657175579204207,
          0.00007677481728479535,
          0.00007697860998053876,
          0.00007718313722476396,
          0.00007738840238160061,
          0.00007759440883393938,
          0.00007780115998355541,
          0.00007800865925123306,
          0.00007821691007689131,
          0.00007842591591971045,
          0.00007863568025825937,
          0.00007884620659062419,
          0.00007905749843453757,
          0.00007926955932750921,
          0.00007948239282695726,
          0.00007969600251034086,
          0.00007991039197529337,
          0.00008012556483975709,
          0.00008034152474211868,
          0.00008055827534134579,
          0.00008077582031712456,
          0.00008099416336999854,
          0.00008121330822150821,
          0.00008143325861433195,
          0.00008165401831242805,
          0.00008187559110117762,
          0.00008209798078752874,
          0.0000823211912001419,
          0.00008254522618953627,
          0.00008277008962823725,
          0.00008299578541092526,
          0.00008322231745458552,
          0.00008344968969865913,
          0.00008367790610519529,
          0.00008390697065900469,
          0.00008413688736781415
         ]
        },
        {
         "name": "GPU HLT",
         "type": "scatter",
         "x": [
          0,
          0.6000000000000005,
          1.200000000000001,
          1.8000000000000016,
          2.400000000000002,
          3.0000000000000027,
          3.600000000000003,
          4.200000000000004,
          4.800000000000004,
          5.400000000000005,
          6.000000000000005,
          6.600000000000006,
          7.200000000000006,
          7.799999999999995,
          8.399999999999997,
          8.999999999999996,
          9.599999999999998,
          10.199999999999998,
          10.799999999999999,
          11.399999999999999,
          12,
          12.6,
          13.200000000000001,
          13.8,
          14.400000000000002,
          15.000000000000002,
          15.600000000000003,
          16.200000000000003,
          16.800000000000004,
          17.400000000000006,
          17.999999999999993,
          18.599999999999994,
          19.199999999999996,
          19.799999999999997,
          20.399999999999995,
          20.999999999999996,
          21.599999999999998,
          22.199999999999996,
          22.799999999999997,
          23.4,
          24,
          24.6,
          25.2,
          25.8,
          26.400000000000002,
          27,
          27.6,
          28.200000000000003,
          28.800000000000004,
          29.400000000000006,
          30.000000000000004,
          30.600000000000005,
          31.200000000000006,
          31.800000000000004,
          32.400000000000006,
          33.00000000000001,
          33.60000000000001,
          34.20000000000001,
          34.80000000000001,
          35.4,
          36,
          36.6,
          37.2,
          37.8,
          38.4,
          39,
          39.6,
          40.2,
          40.800000000000004,
          41.400000000000006,
          41.99999999999999,
          42.599999999999994,
          43.199999999999996,
          43.8,
          44.39999999999999,
          44.99999999999999,
          45.599999999999994,
          46.199999999999996,
          46.8,
          47.4,
          48,
          48.6,
          49.2,
          49.8,
          50.4,
          51,
          51.6,
          52.2,
          52.800000000000004,
          53.400000000000006,
          54,
          54.6,
          55.2,
          55.800000000000004,
          56.400000000000006,
          57.00000000000001,
          57.60000000000001,
          58.199999999999996,
          58.8,
          59.4,
          60
         ],
         "y": [
          0.00012904759881569828,
          0.0001293697030007581,
          0.00012969289707199169,
          0.00013001718570880203,
          0.00013034257361502888,
          0.00013066906551909962,
          0.00013099666617418085,
          0.0001313253803583314,
          0.00013165521287465616,
          0.00013198616855146107,
          0.00013231825224240944,
          0.00013265146882667934,
          0.0001329858232091215,
          0.0001333213203204193,
          0.00013365796511724938,
          0.00013399576258244327,
          0.0001343347177251507,
          0.00013467483558100341,
          0.0001350161212122808,
          0.00013535857970807644,
          0.00013570221618446578,
          0.00013604703578467487,
          0.0001363930436792511,
          0.00013674024506623415,
          0.00013708864517132877,
          0.0001374382492480789,
          0.00013778906257804252,
          0.0001381410904709684,
          0.0001384943382649738,
          0.0001388488113267232,
          0.00013920451505160903,
          0.0001395614548639332,
          0.0001399196362170899,
          0.00014027906459375015,
          0.0001406397455060475,
          0.0001410016844957648,
          0.00014136488713452293,
          0.00014172935902397035,
          0.00014209510579597434,
          0.0001424621331128137,
          0.00014283044666737267,
          0.0001432000521833363,
          0.00014357095541538757,
          0.00014394316214940548,
          0.00014431667820266492,
          0.00014469150942403807,
          0.00014506766169419707,
          0.00014544514092581837,
          0.00014582395306378843,
          0.00014620410408541104,
          0.00014658560000061638,
          0.00014696844685217127,
          0.0001473526507158913,
          0.0001477382177008541,
          0.000148125153949615,
          0.00014851346563842327,
          0.00014890315897744092,
          0.00014929424021096273,
          0.0001496867156176377,
          0.00015008059151069248,
          0.00015047587423815657,
          0.00015087257018308887,
          0.00015127068576380623,
          0.00015167022743411347,
          0.00015207120168353542,
          0.00015247361503755043,
          0.00015287747405782595,
          0.00015328278534245554,
          0.00015368955552619803,
          0.00015409779128071815,
          0.0001545074993148293,
          0.00015491868637473806,
          0.00015533135924429025,
          0.00015574552474521957,
          0.00015616118973739735,
          0.00015657836111908469,
          0.00015699704582718645,
          0.00015741725083750712,
          0.00015783898316500857,
          0.00015826224986406983,
          0.00015868705802874933,
          0.00015911341479304795,
          0.00015954132733117564,
          0.00015997080285781888,
          0.0001604018486284108,
          0.00016083447193940308,
          0.00016126868012854027,
          0.00016170448057513593,
          0.00016214188070035106,
          0.00016258088796747465,
          0.00016302150988220648,
          0.00016346375399294203,
          0.00016390762789105938,
          0.00016435313921120894,
          0.0001648002956316049,
          0.00016524910487431913,
          0.00016569957470557737,
          0.0001661517129360577,
          0.00016660552742119142,
          0.00016706102606146639,
          0.0001675182168027323
         ]
        },
        {
         "name": "L1T Tracking, GPU HLT",
         "type": "scatter",
         "x": [
          0,
          0.6000000000000005,
          1.200000000000001,
          1.8000000000000016,
          2.400000000000002,
          3.0000000000000027,
          3.600000000000003,
          4.200000000000004,
          4.800000000000004,
          5.400000000000005,
          6.000000000000005,
          6.600000000000006,
          7.200000000000006,
          7.799999999999995,
          8.399999999999997,
          8.999999999999996,
          9.599999999999998,
          10.199999999999998,
          10.799999999999999,
          11.399999999999999,
          12,
          12.6,
          13.200000000000001,
          13.8,
          14.400000000000002,
          15.000000000000002,
          15.600000000000003,
          16.200000000000003,
          16.800000000000004,
          17.400000000000006,
          17.999999999999993,
          18.599999999999994,
          19.199999999999996,
          19.799999999999997,
          20.399999999999995,
          20.999999999999996,
          21.599999999999998,
          22.199999999999996,
          22.799999999999997,
          23.4,
          24,
          24.6,
          25.2,
          25.8,
          26.400000000000002,
          27,
          27.6,
          28.200000000000003,
          28.800000000000004,
          29.400000000000006,
          30.000000000000004,
          30.600000000000005,
          31.200000000000006,
          31.800000000000004,
          32.400000000000006,
          33.00000000000001,
          33.60000000000001,
          34.20000000000001,
          34.80000000000001,
          35.4,
          36,
          36.6,
          37.2,
          37.8,
          38.4,
          39,
          39.6,
          40.2,
          40.800000000000004,
          41.400000000000006,
          41.99999999999999,
          42.599999999999994,
          43.199999999999996,
          43.8,
          44.39999999999999,
          44.99999999999999,
          45.599999999999994,
          46.199999999999996,
          46.8,
          47.4,
          48,
          48.6,
          49.2,
          49.8,
          50.4,
          51,
          51.6,
          52.2,
          52.800000000000004,
          53.400000000000006,
          54,
          54.6,
          55.2,
          55.800000000000004,
          56.400000000000006,
          57.00000000000001,
          57.60000000000001,
          58.199999999999996,
          58.8,
          59.4,
          60
         ],
         "y": [
          0.00024331428124840362,
          0.00024392159731620092,
          0.0002445309683298448,
          0.00024514240311221993,
          0.0002457559105322857,
          0.0002463714995053609,
          0.0002469891789934096,
          0.0002476089580053295,
          0.0002482308455972421,
          0.00024885485087278506,
          0.0002494809829834065,
          0.0002501092511286621,
          0.00025073966455651283,
          0.00025137223256362654,
          0.0002520069644956805,
          0.0002526438697476669,
          0.0002532829577641995,
          0.0002539242380398242,
          0.0002545677201193298,
          0.00025521341359806293,
          0.0002558613281222436,
          0.000256511473389284,
          0.00025716385914810984,
          0.000257818495199483,
          0.0002584753913963273,
          0.00025913455764405626,
          0.00025979600390090414,
          0.00026045974017825733,
          0.00026112577654099076,
          0.0002617941231078046,
          0.0002624647900515647,
          0.0002631377875996451,
          0.0002638131260342729,
          0.0002644908156928758,
          0.0002651708669684324,
          0.0002658532903098245,
          0.0002665380962221925,
          0.0002672252952672937,
          0.00026791489806386184,
          0.0002686069152879711,
          0.00026930135767340115,
          0.0002699982360120067,
          0.0002706975611540874,
          0.000271399344008763,
          0.0002721035955443491,
          0.00027281032678873763,
          0.00027351954882977824,
          0.0002742312728156641,
          0.00027494550995531985,
          0.00027566227151879213,
          0.0002763815688376438,
          0.0002771034133053507,
          0.0002778278163777011,
          0.0002785547895731984,
          0.0002792843444734672,
          0.0002800164927236615,
          0.0002807512460328771,
          0.00028148861617456605,
          0.0002822286149869544,
          0.00028297125437346443,
          0.0002837165463031375,
          0.00028446450281106254,
          0.0002852151359988065,
          0.0002859684580348482,
          0.0002867244811550158,
          0.0002874832176629269,
          0.00028824467993043276,
          0.0002890088803980655,
          0.00028977583157548874,
          0.0002905455460419513,
          0.00029131803644674503,
          0.0002920933155096658,
          0.00029287139602147754,
          0.000293652290844381,
          0.00029443601291248426,
          0.0002952225752322788,
          0.0002960119908831182,
          0.0002968042730177,
          0.00029759943486255233,
          0.0002983974897185238,
          0.0002991984509612774,
          0.0003000023320417868,
          0.00030080914648683907,
          0.0003016189078995387,
          0.0003024316299598174,
          0.0003032473264249464,
          0.0003040660111300535,
          0.0003048876979886445,
          0.00030571240099312724,
          0.0003065401342153411,
          0.0003073709118070902,
          0.0003082047480006802,
          0.00030904165710946,
          0.00030988165352836735,
          0.00031072475173447845,
          0.0003115709662875624,
          0.0003124203118306394,
          0.0003132728030905437,
          0.0003141284548784908,
          0.0003149872820906493,
          0.0003158492997087168
         ]
        }
       ],
       "layout": {
        "height": 600,
        "template": {
         "data": {
          "bar": [
           {
            "error_x": {
             "color": "#2a3f5f"
            },
            "error_y": {
             "color": "#2a3f5f"
            },
            "marker": {
             "line": {
              "color": "#E5ECF6",
              "width": 0.5
             },
             "pattern": {
              "fillmode": "overlay",
              "size": 10,
              "solidity": 0.2
             }
            },
            "type": "bar"
           }
          ],
          "barpolar": [
           {
            "marker": {
             "line": {
              "color": "#E5ECF6",
              "width": 0.5
             },
             "pattern": {
              "fillmode": "overlay",
              "size": 10,
              "solidity": 0.2
             }
            },
            "type": "barpolar"
           }
          ],
          "carpet": [
           {
            "aaxis": {
             "endlinecolor": "#2a3f5f",
             "gridcolor": "white",
             "linecolor": "white",
             "minorgridcolor": "white",
             "startlinecolor": "#2a3f5f"
            },
            "baxis": {
             "endlinecolor": "#2a3f5f",
             "gridcolor": "white",
             "linecolor": "white",
             "minorgridcolor": "white",
             "startlinecolor": "#2a3f5f"
            },
            "type": "carpet"
           }
          ],
          "choropleth": [
           {
            "colorbar": {
             "outlinewidth": 0,
             "ticks": ""
            },
            "type": "choropleth"
           }
          ],
          "contour": [
           {
            "colorbar": {
             "outlinewidth": 0,
             "ticks": ""
            },
            "colorscale": [
             [
              0,
              "#0d0887"
             ],
             [
              0.1111111111111111,
              "#46039f"
             ],
             [
              0.2222222222222222,
              "#7201a8"
             ],
             [
              0.3333333333333333,
              "#9c179e"
             ],
             [
              0.4444444444444444,
              "#bd3786"
             ],
             [
              0.5555555555555556,
              "#d8576b"
             ],
             [
              0.6666666666666666,
              "#ed7953"
             ],
             [
              0.7777777777777778,
              "#fb9f3a"
             ],
             [
              0.8888888888888888,
              "#fdca26"
             ],
             [
              1,
              "#f0f921"
             ]
            ],
            "type": "contour"
           }
          ],
          "contourcarpet": [
           {
            "colorbar": {
             "outlinewidth": 0,
             "ticks": ""
            },
            "type": "contourcarpet"
           }
          ],
          "heatmap": [
           {
            "colorbar": {
             "outlinewidth": 0,
             "ticks": ""
            },
            "colorscale": [
             [
              0,
              "#0d0887"
             ],
             [
              0.1111111111111111,
              "#46039f"
             ],
             [
              0.2222222222222222,
              "#7201a8"
             ],
             [
              0.3333333333333333,
              "#9c179e"
             ],
             [
              0.4444444444444444,
              "#bd3786"
             ],
             [
              0.5555555555555556,
              "#d8576b"
             ],
             [
              0.6666666666666666,
              "#ed7953"
             ],
             [
              0.7777777777777778,
              "#fb9f3a"
             ],
             [
              0.8888888888888888,
              "#fdca26"
             ],
             [
              1,
              "#f0f921"
             ]
            ],
            "type": "heatmap"
           }
          ],
          "heatmapgl": [
           {
            "colorbar": {
             "outlinewidth": 0,
             "ticks": ""
            },
            "colorscale": [
             [
              0,
              "#0d0887"
             ],
             [
              0.1111111111111111,
              "#46039f"
             ],
             [
              0.2222222222222222,
              "#7201a8"
             ],
             [
              0.3333333333333333,
              "#9c179e"
             ],
             [
              0.4444444444444444,
              "#bd3786"
             ],
             [
              0.5555555555555556,
              "#d8576b"
             ],
             [
              0.6666666666666666,
              "#ed7953"
             ],
             [
              0.7777777777777778,
              "#fb9f3a"
             ],
             [
              0.8888888888888888,
              "#fdca26"
             ],
             [
              1,
              "#f0f921"
             ]
            ],
            "type": "heatmapgl"
           }
          ],
          "histogram": [
           {
            "marker": {
             "pattern": {
              "fillmode": "overlay",
              "size": 10,
              "solidity": 0.2
             }
            },
            "type": "histogram"
           }
          ],
          "histogram2d": [
           {
            "colorbar": {
             "outlinewidth": 0,
             "ticks": ""
            },
            "colorscale": [
             [
              0,
              "#0d0887"
             ],
             [
              0.1111111111111111,
              "#46039f"
             ],
             [
              0.2222222222222222,
              "#7201a8"
             ],
             [
              0.3333333333333333,
              "#9c179e"
             ],
             [
              0.4444444444444444,
              "#bd3786"
             ],
             [
              0.5555555555555556,
              "#d8576b"
             ],
             [
              0.6666666666666666,
              "#ed7953"
             ],
             [
              0.7777777777777778,
              "#fb9f3a"
             ],
             [
              0.8888888888888888,
              "#fdca26"
             ],
             [
              1,
              "#f0f921"
             ]
            ],
            "type": "histogram2d"
           }
          ],
          "histogram2dcontour": [
           {
            "colorbar": {
             "outlinewidth": 0,
             "ticks": ""
            },
            "colorscale": [
             [
              0,
              "#0d0887"
             ],
             [
              0.1111111111111111,
              "#46039f"
             ],
             [
              0.2222222222222222,
              "#7201a8"
             ],
             [
              0.3333333333333333,
              "#9c179e"
             ],
             [
              0.4444444444444444,
              "#bd3786"
             ],
             [
              0.5555555555555556,
              "#d8576b"
             ],
             [
              0.6666666666666666,
              "#ed7953"
             ],
             [
              0.7777777777777778,
              "#fb9f3a"
             ],
             [
              0.8888888888888888,
              "#fdca26"
             ],
             [
              1,
              "#f0f921"
             ]
            ],
            "type": "histogram2dcontour"
           }
          ],
          "mesh3d": [
           {
            "colorbar": {
             "outlinewidth": 0,
             "ticks": ""
            },
            "type": "mesh3d"
           }
          ],
          "parcoords": [
           {
            "line": {
             "colorbar": {
              "outlinewidth": 0,
              "ticks": ""
             }
            },
            "type": "parcoords"
           }
          ],
          "pie": [
           {
            "automargin": true,
            "type": "pie"
           }
          ],
          "scatter": [
           {
            "fillpattern": {
             "fillmode": "overlay",
             "size": 10,
             "solidity": 0.2
            },
            "type": "scatter"
           }
          ],
          "scatter3d": [
           {
            "line": {
             "colorbar": {
              "outlinewidth": 0,
              "ticks": ""
             }
            },
            "marker": {
             "colorbar": {
              "outlinewidth": 0,
              "ticks": ""
             }
            },
            "type": "scatter3d"
           }
          ],
          "scattercarpet": [
           {
            "marker": {
             "colorbar": {
              "outlinewidth": 0,
              "ticks": ""
             }
            },
            "type": "scattercarpet"
           }
          ],
          "scattergeo": [
           {
            "marker": {
             "colorbar": {
              "outlinewidth": 0,
              "ticks": ""
             }
            },
            "type": "scattergeo"
           }
          ],
          "scattergl": [
           {
            "marker": {
             "colorbar": {
              "outlinewidth": 0,
              "ticks": ""
             }
            },
            "type": "scattergl"
           }
          ],
          "scattermapbox": [
           {
            "marker": {
             "colorbar": {
              "outlinewidth": 0,
              "ticks": ""
             }
            },
            "type": "scattermapbox"
           }
          ],
          "scatterpolar": [
           {
            "marker": {
             "colorbar": {
              "outlinewidth": 0,
              "ticks": ""
             }
            },
            "type": "scatterpolar"
           }
          ],
          "scatterpolargl": [
           {
            "marker": {
             "colorbar": {
              "outlinewidth": 0,
              "ticks": ""
             }
            },
            "type": "scatterpolargl"
           }
          ],
          "scatterternary": [
           {
            "marker": {
             "colorbar": {
              "outlinewidth": 0,
              "ticks": ""
             }
            },
            "type": "scatterternary"
           }
          ],
          "surface": [
           {
            "colorbar": {
             "outlinewidth": 0,
             "ticks": ""
            },
            "colorscale": [
             [
              0,
              "#0d0887"
             ],
             [
              0.1111111111111111,
              "#46039f"
             ],
             [
              0.2222222222222222,
              "#7201a8"
             ],
             [
              0.3333333333333333,
              "#9c179e"
             ],
             [
              0.4444444444444444,
              "#bd3786"
             ],
             [
              0.5555555555555556,
              "#d8576b"
             ],
             [
              0.6666666666666666,
              "#ed7953"
             ],
             [
              0.7777777777777778,
              "#fb9f3a"
             ],
             [
              0.8888888888888888,
              "#fdca26"
             ],
             [
              1,
              "#f0f921"
             ]
            ],
            "type": "surface"
           }
          ],
          "table": [
           {
            "cells": {
             "fill": {
              "color": "#EBF0F8"
             },
             "line": {
              "color": "white"
             }
            },
            "header": {
             "fill": {
              "color": "#C8D4E3"
             },
             "line": {
              "color": "white"
             }
            },
            "type": "table"
           }
          ]
         },
         "layout": {
          "annotationdefaults": {
           "arrowcolor": "#2a3f5f",
           "arrowhead": 0,
           "arrowwidth": 1
          },
          "autotypenumbers": "strict",
          "coloraxis": {
           "colorbar": {
            "outlinewidth": 0,
            "ticks": ""
           }
          },
          "colorscale": {
           "diverging": [
            [
             0,
             "#8e0152"
            ],
            [
             0.1,
             "#c51b7d"
            ],
            [
             0.2,
             "#de77ae"
            ],
            [
             0.3,
             "#f1b6da"
            ],
            [
             0.4,
             "#fde0ef"
            ],
            [
             0.5,
             "#f7f7f7"
            ],
            [
             0.6,
             "#e6f5d0"
            ],
            [
             0.7,
             "#b8e186"
            ],
            [
             0.8,
             "#7fbc41"
            ],
            [
             0.9,
             "#4d9221"
            ],
            [
             1,
             "#276419"
            ]
           ],
           "sequential": [
            [
             0,
             "#0d0887"
            ],
            [
             0.1111111111111111,
             "#46039f"
            ],
            [
             0.2222222222222222,
             "#7201a8"
            ],
            [
             0.3333333333333333,
             "#9c179e"
            ],
            [
             0.4444444444444444,
             "#bd3786"
            ],
            [
             0.5555555555555556,
             "#d8576b"
            ],
            [
             0.6666666666666666,
             "#ed7953"
            ],
            [
             0.7777777777777778,
             "#fb9f3a"
            ],
            [
             0.8888888888888888,
             "#fdca26"
            ],
            [
             1,
             "#f0f921"
            ]
           ],
           "sequentialminus": [
            [
             0,
             "#0d0887"
            ],
            [
             0.1111111111111111,
             "#46039f"
            ],
            [
             0.2222222222222222,
             "#7201a8"
            ],
            [
             0.3333333333333333,
             "#9c179e"
            ],
            [
             0.4444444444444444,
             "#bd3786"
            ],
            [
             0.5555555555555556,
             "#d8576b"
            ],
            [
             0.6666666666666666,
             "#ed7953"
            ],
            [
             0.7777777777777778,
             "#fb9f3a"
            ],
            [
             0.8888888888888888,
             "#fdca26"
            ],
            [
             1,
             "#f0f921"
            ]
           ]
          },
          "colorway": [
           "#636efa",
           "#EF553B",
           "#00cc96",
           "#ab63fa",
           "#FFA15A",
           "#19d3f3",
           "#FF6692",
           "#B6E880",
           "#FF97FF",
           "#FECB52"
          ],
          "font": {
           "color": "#2a3f5f"
          },
          "geo": {
           "bgcolor": "white",
           "lakecolor": "white",
           "landcolor": "#E5ECF6",
           "showlakes": true,
           "showland": true,
           "subunitcolor": "white"
          },
          "hoverlabel": {
           "align": "left"
          },
          "hovermode": "closest",
          "mapbox": {
           "style": "light"
          },
          "paper_bgcolor": "white",
          "plot_bgcolor": "#E5ECF6",
          "polar": {
           "angularaxis": {
            "gridcolor": "white",
            "linecolor": "white",
            "ticks": ""
           },
           "bgcolor": "#E5ECF6",
           "radialaxis": {
            "gridcolor": "white",
            "linecolor": "white",
            "ticks": ""
           }
          },
          "scene": {
           "xaxis": {
            "backgroundcolor": "#E5ECF6",
            "gridcolor": "white",
            "gridwidth": 2,
            "linecolor": "white",
            "showbackground": true,
            "ticks": "",
            "zerolinecolor": "white"
           },
           "yaxis": {
            "backgroundcolor": "#E5ECF6",
            "gridcolor": "white",
            "gridwidth": 2,
            "linecolor": "white",
            "showbackground": true,
            "ticks": "",
            "zerolinecolor": "white"
           },
           "zaxis": {
            "backgroundcolor": "#E5ECF6",
            "gridcolor": "white",
            "gridwidth": 2,
            "linecolor": "white",
            "showbackground": true,
            "ticks": "",
            "zerolinecolor": "white"
           }
          },
          "shapedefaults": {
           "line": {
            "color": "#2a3f5f"
           }
          },
          "ternary": {
           "aaxis": {
            "gridcolor": "white",
            "linecolor": "white",
            "ticks": ""
           },
           "baxis": {
            "gridcolor": "white",
            "linecolor": "white",
            "ticks": ""
           },
           "bgcolor": "#E5ECF6",
           "caxis": {
            "gridcolor": "white",
            "linecolor": "white",
            "ticks": ""
           }
          },
          "title": {
           "x": 0.05
          },
          "xaxis": {
           "automargin": true,
           "gridcolor": "white",
           "linecolor": "white",
           "ticks": "",
           "title": {
            "standoff": 15
           },
           "zerolinecolor": "white",
           "zerolinewidth": 2
          },
          "yaxis": {
           "automargin": true,
           "gridcolor": "white",
           "linecolor": "white",
           "ticks": "",
           "title": {
            "standoff": 15
           },
           "zerolinecolor": "white",
           "zerolinewidth": 2
          }
         }
        },
        "title": {
         "text": "Productivity of DAQ Systems by Inner Tracker Data Reduction"
        },
        "width": 800,
        "xaxis": {
         "title": {
          "text": "Inner Tracker Data Reduction (%)"
         }
        },
        "yaxis": {
         "title": {
          "text": "Productivity (Relevant Samples/J)"
         }
        }
       }
      }
     },
     "metadata": {},
     "output_type": "display_data"
    }
   ],
   "source": [
    "fig = go.Figure(data = \n",
    "                go.Scatter(x = (1 - it_reductions)* 100,\n",
    "                           y = run5_metrics[\"f1 score\"] * output_rate / run5_metrics[\"power\"],\n",
    "                           name = \"Baseline\"))\n",
    "\n",
    "fig.add_trace(go.Scatter(x = (1 - it_reductions)* 100,\n",
    "                           y = run5_metrics_gpu[\"f1 score\"] * output_rate / run5_metrics_gpu[\"power\"],\n",
    "                           name = \"GPU HLT\"))\n",
    "\n",
    "\n",
    "fig.add_trace(go.Scatter(x = (1 - it_reductions)* 100,\n",
    "                           y = run5_metrics_l1t_gpu[\"f1 score\"] * output_rate / run5_metrics_l1t_gpu[\"power\"],\n",
    "                           name = \"L1T Tracking, GPU HLT\"))\n",
    "\n",
    "fig.update_layout(width =800, height = 600,\n",
    "                  title = \"Productivity of DAQ Systems by Inner Tracker Data Reduction\",\n",
    "                  xaxis_title = \"Inner Tracker Data Reduction (%)\",\n",
    "                  yaxis_title = \"Productivity (Relevant Samples/J)\")\n",
    "fig.show()"
   ]
  },
  {
   "cell_type": "code",
   "execution_count": null,
   "metadata": {},
   "outputs": [],
   "source": []
  }
 ],
 "metadata": {
  "kernelspec": {
   "display_name": "jax",
   "language": "python",
   "name": "python3"
  },
  "language_info": {
   "codemirror_mode": {
    "name": "ipython",
    "version": 3
   },
   "file_extension": ".py",
   "mimetype": "text/x-python",
   "name": "python",
   "nbconvert_exporter": "python",
   "pygments_lexer": "ipython3",
   "version": "3.10.4"
  }
 },
 "nbformat": 4,
 "nbformat_minor": 2
}
